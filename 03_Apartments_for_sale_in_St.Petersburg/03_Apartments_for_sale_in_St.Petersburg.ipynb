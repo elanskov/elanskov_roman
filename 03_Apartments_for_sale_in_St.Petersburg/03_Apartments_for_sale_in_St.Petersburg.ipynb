{
 "cells": [
  {
   "cell_type": "markdown",
   "metadata": {
    "toc": true
   },
   "source": [
    "<h1>Содержание<span class=\"tocSkip\"></span></h1>\n",
    "<div class=\"toc\"><ul class=\"toc-item\"><li><span><a href=\"#Изучение-данных-из-файла\" data-toc-modified-id=\"Изучение-данных-из-файла-1\"><span class=\"toc-item-num\">1&nbsp;&nbsp;</span>Изучение данных из файла</a></span><ul class=\"toc-item\"><li><span><a href=\"#Вывод\" data-toc-modified-id=\"Вывод-1.1\"><span class=\"toc-item-num\">1.1&nbsp;&nbsp;</span>Вывод</a></span></li></ul></li><li><span><a href=\"#Предобработка-данных\" data-toc-modified-id=\"Предобработка-данных-2\"><span class=\"toc-item-num\">2&nbsp;&nbsp;</span>Предобработка данных</a></span></li><li><span><a href=\"#Расчёты-и-добавление-результатов-в-таблицу\" data-toc-modified-id=\"Расчёты-и-добавление-результатов-в-таблицу-3\"><span class=\"toc-item-num\">3&nbsp;&nbsp;</span>Расчёты и добавление результатов в таблицу</a></span></li><li><span><a href=\"#Исследовательский-анализ-данных\" data-toc-modified-id=\"Исследовательский-анализ-данных-4\"><span class=\"toc-item-num\">4&nbsp;&nbsp;</span>Исследовательский анализ данных</a></span></li><li><span><a href=\"#Общий-вывод\" data-toc-modified-id=\"Общий-вывод-5\"><span class=\"toc-item-num\">5&nbsp;&nbsp;</span>Общий вывод</a></span></li><li><span><a href=\"#Чек-лист-готовности-проекта\" data-toc-modified-id=\"Чек-лист-готовности-проекта-6\"><span class=\"toc-item-num\">6&nbsp;&nbsp;</span>Чек-лист готовности проекта</a></span></li></ul></div>"
   ]
  },
  {
   "cell_type": "markdown",
   "metadata": {},
   "source": [
    "# Исследование объявлений о продаже квартир\n",
    "\n",
    "В вашем распоряжении данные сервиса Яндекс.Недвижимость — архив объявлений о продаже квартир в Санкт-Петербурге и соседних населённых пунктах за несколько лет. Нужно научиться определять рыночную стоимость объектов недвижимости. Ваша задача — установить параметры. Это позволит построить автоматизированную систему: она отследит аномалии и мошенническую деятельность. \n",
    "\n",
    "По каждой квартире на продажу доступны два вида данных. Первые вписаны пользователем, вторые получены автоматически на основе картографических данных. Например, расстояние до центра, аэропорта, ближайшего парка и водоёма. "
   ]
  },
  {
   "cell_type": "markdown",
   "metadata": {},
   "source": [
    "## Изучение данных из файла"
   ]
  },
  {
   "cell_type": "code",
   "execution_count": 1,
   "metadata": {},
   "outputs": [
    {
     "name": "stdout",
     "output_type": "stream",
     "text": [
      "<class 'pandas.core.frame.DataFrame'>\n",
      "RangeIndex: 23699 entries, 0 to 23698\n",
      "Data columns (total 22 columns):\n",
      "total_images            23699 non-null int64\n",
      "last_price              23699 non-null float64\n",
      "total_area              23699 non-null float64\n",
      "first_day_exposition    23699 non-null object\n",
      "rooms                   23699 non-null int64\n",
      "ceiling_height          14504 non-null float64\n",
      "floors_total            23613 non-null float64\n",
      "living_area             21796 non-null float64\n",
      "floor                   23699 non-null int64\n",
      "is_apartment            2775 non-null object\n",
      "studio                  23699 non-null bool\n",
      "open_plan               23699 non-null bool\n",
      "kitchen_area            21421 non-null float64\n",
      "balcony                 12180 non-null float64\n",
      "locality_name           23650 non-null object\n",
      "airports_nearest        18157 non-null float64\n",
      "cityCenters_nearest     18180 non-null float64\n",
      "parks_around3000        18181 non-null float64\n",
      "parks_nearest           8079 non-null float64\n",
      "ponds_around3000        18181 non-null float64\n",
      "ponds_nearest           9110 non-null float64\n",
      "days_exposition         20518 non-null float64\n",
      "dtypes: bool(2), float64(14), int64(3), object(3)\n",
      "memory usage: 3.7+ MB\n"
     ]
    },
    {
     "data": {
      "text/html": [
       "<div>\n",
       "<style scoped>\n",
       "    .dataframe tbody tr th:only-of-type {\n",
       "        vertical-align: middle;\n",
       "    }\n",
       "\n",
       "    .dataframe tbody tr th {\n",
       "        vertical-align: top;\n",
       "    }\n",
       "\n",
       "    .dataframe thead th {\n",
       "        text-align: right;\n",
       "    }\n",
       "</style>\n",
       "<table border=\"1\" class=\"dataframe\">\n",
       "  <thead>\n",
       "    <tr style=\"text-align: right;\">\n",
       "      <th></th>\n",
       "      <th>total_images</th>\n",
       "      <th>last_price</th>\n",
       "      <th>total_area</th>\n",
       "      <th>first_day_exposition</th>\n",
       "      <th>rooms</th>\n",
       "      <th>ceiling_height</th>\n",
       "      <th>floors_total</th>\n",
       "      <th>living_area</th>\n",
       "      <th>floor</th>\n",
       "      <th>is_apartment</th>\n",
       "      <th>...</th>\n",
       "      <th>kitchen_area</th>\n",
       "      <th>balcony</th>\n",
       "      <th>locality_name</th>\n",
       "      <th>airports_nearest</th>\n",
       "      <th>cityCenters_nearest</th>\n",
       "      <th>parks_around3000</th>\n",
       "      <th>parks_nearest</th>\n",
       "      <th>ponds_around3000</th>\n",
       "      <th>ponds_nearest</th>\n",
       "      <th>days_exposition</th>\n",
       "    </tr>\n",
       "  </thead>\n",
       "  <tbody>\n",
       "    <tr>\n",
       "      <td>0</td>\n",
       "      <td>20</td>\n",
       "      <td>13000000.0</td>\n",
       "      <td>108.00</td>\n",
       "      <td>2019-03-07T00:00:00</td>\n",
       "      <td>3</td>\n",
       "      <td>2.70</td>\n",
       "      <td>16.0</td>\n",
       "      <td>51.00</td>\n",
       "      <td>8</td>\n",
       "      <td>NaN</td>\n",
       "      <td>...</td>\n",
       "      <td>25.00</td>\n",
       "      <td>NaN</td>\n",
       "      <td>Санкт-Петербург</td>\n",
       "      <td>18863.0</td>\n",
       "      <td>16028.0</td>\n",
       "      <td>1.0</td>\n",
       "      <td>482.0</td>\n",
       "      <td>2.0</td>\n",
       "      <td>755.0</td>\n",
       "      <td>NaN</td>\n",
       "    </tr>\n",
       "    <tr>\n",
       "      <td>1</td>\n",
       "      <td>7</td>\n",
       "      <td>3350000.0</td>\n",
       "      <td>40.40</td>\n",
       "      <td>2018-12-04T00:00:00</td>\n",
       "      <td>1</td>\n",
       "      <td>NaN</td>\n",
       "      <td>11.0</td>\n",
       "      <td>18.60</td>\n",
       "      <td>1</td>\n",
       "      <td>NaN</td>\n",
       "      <td>...</td>\n",
       "      <td>11.00</td>\n",
       "      <td>2.0</td>\n",
       "      <td>посёлок Шушары</td>\n",
       "      <td>12817.0</td>\n",
       "      <td>18603.0</td>\n",
       "      <td>0.0</td>\n",
       "      <td>NaN</td>\n",
       "      <td>0.0</td>\n",
       "      <td>NaN</td>\n",
       "      <td>81.0</td>\n",
       "    </tr>\n",
       "    <tr>\n",
       "      <td>2</td>\n",
       "      <td>10</td>\n",
       "      <td>5196000.0</td>\n",
       "      <td>56.00</td>\n",
       "      <td>2015-08-20T00:00:00</td>\n",
       "      <td>2</td>\n",
       "      <td>NaN</td>\n",
       "      <td>5.0</td>\n",
       "      <td>34.30</td>\n",
       "      <td>4</td>\n",
       "      <td>NaN</td>\n",
       "      <td>...</td>\n",
       "      <td>8.30</td>\n",
       "      <td>0.0</td>\n",
       "      <td>Санкт-Петербург</td>\n",
       "      <td>21741.0</td>\n",
       "      <td>13933.0</td>\n",
       "      <td>1.0</td>\n",
       "      <td>90.0</td>\n",
       "      <td>2.0</td>\n",
       "      <td>574.0</td>\n",
       "      <td>558.0</td>\n",
       "    </tr>\n",
       "    <tr>\n",
       "      <td>3</td>\n",
       "      <td>0</td>\n",
       "      <td>64900000.0</td>\n",
       "      <td>159.00</td>\n",
       "      <td>2015-07-24T00:00:00</td>\n",
       "      <td>3</td>\n",
       "      <td>NaN</td>\n",
       "      <td>14.0</td>\n",
       "      <td>NaN</td>\n",
       "      <td>9</td>\n",
       "      <td>NaN</td>\n",
       "      <td>...</td>\n",
       "      <td>NaN</td>\n",
       "      <td>0.0</td>\n",
       "      <td>Санкт-Петербург</td>\n",
       "      <td>28098.0</td>\n",
       "      <td>6800.0</td>\n",
       "      <td>2.0</td>\n",
       "      <td>84.0</td>\n",
       "      <td>3.0</td>\n",
       "      <td>234.0</td>\n",
       "      <td>424.0</td>\n",
       "    </tr>\n",
       "    <tr>\n",
       "      <td>4</td>\n",
       "      <td>2</td>\n",
       "      <td>10000000.0</td>\n",
       "      <td>100.00</td>\n",
       "      <td>2018-06-19T00:00:00</td>\n",
       "      <td>2</td>\n",
       "      <td>3.03</td>\n",
       "      <td>14.0</td>\n",
       "      <td>32.00</td>\n",
       "      <td>13</td>\n",
       "      <td>NaN</td>\n",
       "      <td>...</td>\n",
       "      <td>41.00</td>\n",
       "      <td>NaN</td>\n",
       "      <td>Санкт-Петербург</td>\n",
       "      <td>31856.0</td>\n",
       "      <td>8098.0</td>\n",
       "      <td>2.0</td>\n",
       "      <td>112.0</td>\n",
       "      <td>1.0</td>\n",
       "      <td>48.0</td>\n",
       "      <td>121.0</td>\n",
       "    </tr>\n",
       "    <tr>\n",
       "      <td>5</td>\n",
       "      <td>10</td>\n",
       "      <td>2890000.0</td>\n",
       "      <td>30.40</td>\n",
       "      <td>2018-09-10T00:00:00</td>\n",
       "      <td>1</td>\n",
       "      <td>NaN</td>\n",
       "      <td>12.0</td>\n",
       "      <td>14.40</td>\n",
       "      <td>5</td>\n",
       "      <td>NaN</td>\n",
       "      <td>...</td>\n",
       "      <td>9.10</td>\n",
       "      <td>NaN</td>\n",
       "      <td>городской посёлок Янино-1</td>\n",
       "      <td>NaN</td>\n",
       "      <td>NaN</td>\n",
       "      <td>NaN</td>\n",
       "      <td>NaN</td>\n",
       "      <td>NaN</td>\n",
       "      <td>NaN</td>\n",
       "      <td>55.0</td>\n",
       "    </tr>\n",
       "    <tr>\n",
       "      <td>6</td>\n",
       "      <td>6</td>\n",
       "      <td>3700000.0</td>\n",
       "      <td>37.30</td>\n",
       "      <td>2017-11-02T00:00:00</td>\n",
       "      <td>1</td>\n",
       "      <td>NaN</td>\n",
       "      <td>26.0</td>\n",
       "      <td>10.60</td>\n",
       "      <td>6</td>\n",
       "      <td>NaN</td>\n",
       "      <td>...</td>\n",
       "      <td>14.40</td>\n",
       "      <td>1.0</td>\n",
       "      <td>посёлок Парголово</td>\n",
       "      <td>52996.0</td>\n",
       "      <td>19143.0</td>\n",
       "      <td>0.0</td>\n",
       "      <td>NaN</td>\n",
       "      <td>0.0</td>\n",
       "      <td>NaN</td>\n",
       "      <td>155.0</td>\n",
       "    </tr>\n",
       "    <tr>\n",
       "      <td>7</td>\n",
       "      <td>5</td>\n",
       "      <td>7915000.0</td>\n",
       "      <td>71.60</td>\n",
       "      <td>2019-04-18T00:00:00</td>\n",
       "      <td>2</td>\n",
       "      <td>NaN</td>\n",
       "      <td>24.0</td>\n",
       "      <td>NaN</td>\n",
       "      <td>22</td>\n",
       "      <td>NaN</td>\n",
       "      <td>...</td>\n",
       "      <td>18.90</td>\n",
       "      <td>2.0</td>\n",
       "      <td>Санкт-Петербург</td>\n",
       "      <td>23982.0</td>\n",
       "      <td>11634.0</td>\n",
       "      <td>0.0</td>\n",
       "      <td>NaN</td>\n",
       "      <td>0.0</td>\n",
       "      <td>NaN</td>\n",
       "      <td>NaN</td>\n",
       "    </tr>\n",
       "    <tr>\n",
       "      <td>8</td>\n",
       "      <td>20</td>\n",
       "      <td>2900000.0</td>\n",
       "      <td>33.16</td>\n",
       "      <td>2018-05-23T00:00:00</td>\n",
       "      <td>1</td>\n",
       "      <td>NaN</td>\n",
       "      <td>27.0</td>\n",
       "      <td>15.43</td>\n",
       "      <td>26</td>\n",
       "      <td>NaN</td>\n",
       "      <td>...</td>\n",
       "      <td>8.81</td>\n",
       "      <td>NaN</td>\n",
       "      <td>посёлок Мурино</td>\n",
       "      <td>NaN</td>\n",
       "      <td>NaN</td>\n",
       "      <td>NaN</td>\n",
       "      <td>NaN</td>\n",
       "      <td>NaN</td>\n",
       "      <td>NaN</td>\n",
       "      <td>189.0</td>\n",
       "    </tr>\n",
       "    <tr>\n",
       "      <td>9</td>\n",
       "      <td>18</td>\n",
       "      <td>5400000.0</td>\n",
       "      <td>61.00</td>\n",
       "      <td>2017-02-26T00:00:00</td>\n",
       "      <td>3</td>\n",
       "      <td>2.50</td>\n",
       "      <td>9.0</td>\n",
       "      <td>43.60</td>\n",
       "      <td>7</td>\n",
       "      <td>NaN</td>\n",
       "      <td>...</td>\n",
       "      <td>6.50</td>\n",
       "      <td>2.0</td>\n",
       "      <td>Санкт-Петербург</td>\n",
       "      <td>50898.0</td>\n",
       "      <td>15008.0</td>\n",
       "      <td>0.0</td>\n",
       "      <td>NaN</td>\n",
       "      <td>0.0</td>\n",
       "      <td>NaN</td>\n",
       "      <td>289.0</td>\n",
       "    </tr>\n",
       "  </tbody>\n",
       "</table>\n",
       "<p>10 rows × 22 columns</p>\n",
       "</div>"
      ],
      "text/plain": [
       "   total_images  last_price  total_area first_day_exposition  rooms  \\\n",
       "0            20  13000000.0      108.00  2019-03-07T00:00:00      3   \n",
       "1             7   3350000.0       40.40  2018-12-04T00:00:00      1   \n",
       "2            10   5196000.0       56.00  2015-08-20T00:00:00      2   \n",
       "3             0  64900000.0      159.00  2015-07-24T00:00:00      3   \n",
       "4             2  10000000.0      100.00  2018-06-19T00:00:00      2   \n",
       "5            10   2890000.0       30.40  2018-09-10T00:00:00      1   \n",
       "6             6   3700000.0       37.30  2017-11-02T00:00:00      1   \n",
       "7             5   7915000.0       71.60  2019-04-18T00:00:00      2   \n",
       "8            20   2900000.0       33.16  2018-05-23T00:00:00      1   \n",
       "9            18   5400000.0       61.00  2017-02-26T00:00:00      3   \n",
       "\n",
       "   ceiling_height  floors_total  living_area  floor is_apartment  ...  \\\n",
       "0            2.70          16.0        51.00      8          NaN  ...   \n",
       "1             NaN          11.0        18.60      1          NaN  ...   \n",
       "2             NaN           5.0        34.30      4          NaN  ...   \n",
       "3             NaN          14.0          NaN      9          NaN  ...   \n",
       "4            3.03          14.0        32.00     13          NaN  ...   \n",
       "5             NaN          12.0        14.40      5          NaN  ...   \n",
       "6             NaN          26.0        10.60      6          NaN  ...   \n",
       "7             NaN          24.0          NaN     22          NaN  ...   \n",
       "8             NaN          27.0        15.43     26          NaN  ...   \n",
       "9            2.50           9.0        43.60      7          NaN  ...   \n",
       "\n",
       "   kitchen_area  balcony              locality_name  airports_nearest  \\\n",
       "0         25.00      NaN            Санкт-Петербург           18863.0   \n",
       "1         11.00      2.0             посёлок Шушары           12817.0   \n",
       "2          8.30      0.0            Санкт-Петербург           21741.0   \n",
       "3           NaN      0.0            Санкт-Петербург           28098.0   \n",
       "4         41.00      NaN            Санкт-Петербург           31856.0   \n",
       "5          9.10      NaN  городской посёлок Янино-1               NaN   \n",
       "6         14.40      1.0          посёлок Парголово           52996.0   \n",
       "7         18.90      2.0            Санкт-Петербург           23982.0   \n",
       "8          8.81      NaN             посёлок Мурино               NaN   \n",
       "9          6.50      2.0            Санкт-Петербург           50898.0   \n",
       "\n",
       "  cityCenters_nearest  parks_around3000  parks_nearest  ponds_around3000  \\\n",
       "0             16028.0               1.0          482.0               2.0   \n",
       "1             18603.0               0.0            NaN               0.0   \n",
       "2             13933.0               1.0           90.0               2.0   \n",
       "3              6800.0               2.0           84.0               3.0   \n",
       "4              8098.0               2.0          112.0               1.0   \n",
       "5                 NaN               NaN            NaN               NaN   \n",
       "6             19143.0               0.0            NaN               0.0   \n",
       "7             11634.0               0.0            NaN               0.0   \n",
       "8                 NaN               NaN            NaN               NaN   \n",
       "9             15008.0               0.0            NaN               0.0   \n",
       "\n",
       "   ponds_nearest  days_exposition  \n",
       "0          755.0              NaN  \n",
       "1            NaN             81.0  \n",
       "2          574.0            558.0  \n",
       "3          234.0            424.0  \n",
       "4           48.0            121.0  \n",
       "5            NaN             55.0  \n",
       "6            NaN            155.0  \n",
       "7            NaN              NaN  \n",
       "8            NaN            189.0  \n",
       "9            NaN            289.0  \n",
       "\n",
       "[10 rows x 22 columns]"
      ]
     },
     "execution_count": 1,
     "metadata": {},
     "output_type": "execute_result"
    }
   ],
   "source": [
    "import pandas as pd\n",
    "import numpy as np\n",
    "df = pd.read_csv('/datasets/real_estate_data.csv', sep='\\t')\n",
    "df.info()\n",
    "df.head(10)"
   ]
  },
  {
   "cell_type": "markdown",
   "metadata": {},
   "source": [
    "### Вывод"
   ]
  },
  {
   "cell_type": "markdown",
   "metadata": {},
   "source": [
    "Имеем 23699 строк. Пропуски есть в 14 столбцах с данными из 22. В столбцах floors_total и locality_name немного пропусков, менее 1%, в остальных данных пропусков больше. Также необходимо проверить некоторые данные на корректность. Стоит вывести данные с пропусками по каждому столбцу, чтобы попыаться понять их причину и значимость. Начнем по порядку. Проверить пропуски необходимо в  стобцах:\n",
    "\n",
    "ceiling_height\n",
    "\n",
    "floors_total\n",
    "\n",
    "living_area\n",
    "\n",
    "is_apartment\n",
    "\n",
    "kitchen_area\n",
    "\n",
    "balcony\n",
    "\n",
    "locality_name\n",
    "\n",
    "airports_nearest\n",
    "\n",
    "cityCenters_nearest\n",
    "\n",
    "parks_around3000\n",
    "\n",
    "parks_nearest\n",
    "\n",
    "ponds_around3000\n",
    "\n",
    "ponds_nearest\n",
    "\n",
    "days_exposition"
   ]
  },
  {
   "cell_type": "markdown",
   "metadata": {},
   "source": [
    "## Предобработка данных"
   ]
  },
  {
   "cell_type": "markdown",
   "metadata": {},
   "source": [
    "Проверим дубликаты"
   ]
  },
  {
   "cell_type": "code",
   "execution_count": 2,
   "metadata": {},
   "outputs": [
    {
     "data": {
      "text/plain": [
       "0"
      ]
     },
     "execution_count": 2,
     "metadata": {},
     "output_type": "execute_result"
    }
   ],
   "source": [
    "df.duplicated().sum()"
   ]
  },
  {
   "cell_type": "markdown",
   "metadata": {},
   "source": [
    "Возможно здесь будут лишние строки кода, но чтобы быть уверенным в качестве данных, я решил пройтись по всем столбцам и проверить адекватность данных даже там, где нет пропусков. Первый столбец - количество фото. В нем возможно тоже есть перебор:"
   ]
  },
  {
   "cell_type": "code",
   "execution_count": 3,
   "metadata": {},
   "outputs": [
    {
     "name": "stdout",
     "output_type": "stream",
     "text": [
      "50\n",
      "0\n"
     ]
    }
   ],
   "source": [
    "print(df['total_images'].max())\n",
    "print(df['total_images'].min())"
   ]
  },
  {
   "cell_type": "markdown",
   "metadata": {},
   "source": [
    "Где то фото нет, а где то 50. Пожалуй, продавец очень хочет продать её, раз загрузил целый фотоальбом.\n",
    "\n",
    "Цена - ищем изъяны:"
   ]
  },
  {
   "cell_type": "code",
   "execution_count": 4,
   "metadata": {},
   "outputs": [
    {
     "name": "stdout",
     "output_type": "stream",
     "text": [
      "12190\n",
      "763000000\n"
     ]
    }
   ],
   "source": [
    "# приводим тип данных к целочисленным, находим минимальное и максимальное значения:\n",
    "df['last_price'] = df['last_price'].astype('int')\n",
    "print(df['last_price'].min())\n",
    "print(df['last_price'].max())"
   ]
  },
  {
   "cell_type": "markdown",
   "metadata": {},
   "source": [
    "763 миллиона - почему бы и нет? У богатых свои причуды. Поиск на популярном сайте объявлений дал результат в 500 миллионов, поэтому 763 тоже вполне себе. А вот 12190 - странная цифра. Примерно столько нужно человеку чтобы прожить месяц по мнению нашего государства. Но цена недвижимости, это врядли. Скорее всего цена указана не в рублях. Будем разбираться. Взглянем на данные, в которых цена меньше 500 000, так как дешевле - врядли объективная стоимость:"
   ]
  },
  {
   "cell_type": "code",
   "execution_count": 5,
   "metadata": {},
   "outputs": [
    {
     "data": {
      "text/html": [
       "<div>\n",
       "<style scoped>\n",
       "    .dataframe tbody tr th:only-of-type {\n",
       "        vertical-align: middle;\n",
       "    }\n",
       "\n",
       "    .dataframe tbody tr th {\n",
       "        vertical-align: top;\n",
       "    }\n",
       "\n",
       "    .dataframe thead th {\n",
       "        text-align: right;\n",
       "    }\n",
       "</style>\n",
       "<table border=\"1\" class=\"dataframe\">\n",
       "  <thead>\n",
       "    <tr style=\"text-align: right;\">\n",
       "      <th></th>\n",
       "      <th>total_images</th>\n",
       "      <th>last_price</th>\n",
       "      <th>total_area</th>\n",
       "      <th>first_day_exposition</th>\n",
       "      <th>rooms</th>\n",
       "      <th>ceiling_height</th>\n",
       "      <th>floors_total</th>\n",
       "      <th>living_area</th>\n",
       "      <th>floor</th>\n",
       "      <th>is_apartment</th>\n",
       "      <th>...</th>\n",
       "      <th>kitchen_area</th>\n",
       "      <th>balcony</th>\n",
       "      <th>locality_name</th>\n",
       "      <th>airports_nearest</th>\n",
       "      <th>cityCenters_nearest</th>\n",
       "      <th>parks_around3000</th>\n",
       "      <th>parks_nearest</th>\n",
       "      <th>ponds_around3000</th>\n",
       "      <th>ponds_nearest</th>\n",
       "      <th>days_exposition</th>\n",
       "    </tr>\n",
       "  </thead>\n",
       "  <tbody>\n",
       "    <tr>\n",
       "      <td>5698</td>\n",
       "      <td>7</td>\n",
       "      <td>450000</td>\n",
       "      <td>42.0</td>\n",
       "      <td>2017-07-31T00:00:00</td>\n",
       "      <td>2</td>\n",
       "      <td>NaN</td>\n",
       "      <td>1.0</td>\n",
       "      <td>23.0</td>\n",
       "      <td>1</td>\n",
       "      <td>NaN</td>\n",
       "      <td>...</td>\n",
       "      <td>5.8</td>\n",
       "      <td>NaN</td>\n",
       "      <td>городской посёлок Будогощь</td>\n",
       "      <td>NaN</td>\n",
       "      <td>NaN</td>\n",
       "      <td>NaN</td>\n",
       "      <td>NaN</td>\n",
       "      <td>NaN</td>\n",
       "      <td>NaN</td>\n",
       "      <td>233.0</td>\n",
       "    </tr>\n",
       "    <tr>\n",
       "      <td>6859</td>\n",
       "      <td>6</td>\n",
       "      <td>490000</td>\n",
       "      <td>40.0</td>\n",
       "      <td>2017-12-11T00:00:00</td>\n",
       "      <td>1</td>\n",
       "      <td>NaN</td>\n",
       "      <td>5.0</td>\n",
       "      <td>NaN</td>\n",
       "      <td>3</td>\n",
       "      <td>NaN</td>\n",
       "      <td>...</td>\n",
       "      <td>NaN</td>\n",
       "      <td>NaN</td>\n",
       "      <td>деревня Старополье</td>\n",
       "      <td>NaN</td>\n",
       "      <td>NaN</td>\n",
       "      <td>NaN</td>\n",
       "      <td>NaN</td>\n",
       "      <td>NaN</td>\n",
       "      <td>NaN</td>\n",
       "      <td>43.0</td>\n",
       "    </tr>\n",
       "    <tr>\n",
       "      <td>8793</td>\n",
       "      <td>7</td>\n",
       "      <td>12190</td>\n",
       "      <td>109.0</td>\n",
       "      <td>2019-03-20T00:00:00</td>\n",
       "      <td>2</td>\n",
       "      <td>2.75</td>\n",
       "      <td>25.0</td>\n",
       "      <td>32.0</td>\n",
       "      <td>25</td>\n",
       "      <td>NaN</td>\n",
       "      <td>...</td>\n",
       "      <td>40.5</td>\n",
       "      <td>NaN</td>\n",
       "      <td>Санкт-Петербург</td>\n",
       "      <td>36421.0</td>\n",
       "      <td>9176.0</td>\n",
       "      <td>1.0</td>\n",
       "      <td>805.0</td>\n",
       "      <td>0.0</td>\n",
       "      <td>NaN</td>\n",
       "      <td>8.0</td>\n",
       "    </tr>\n",
       "    <tr>\n",
       "      <td>9581</td>\n",
       "      <td>7</td>\n",
       "      <td>450000</td>\n",
       "      <td>43.4</td>\n",
       "      <td>2018-08-31T00:00:00</td>\n",
       "      <td>2</td>\n",
       "      <td>NaN</td>\n",
       "      <td>5.0</td>\n",
       "      <td>30.3</td>\n",
       "      <td>3</td>\n",
       "      <td>NaN</td>\n",
       "      <td>...</td>\n",
       "      <td>5.5</td>\n",
       "      <td>NaN</td>\n",
       "      <td>деревня Старополье</td>\n",
       "      <td>NaN</td>\n",
       "      <td>NaN</td>\n",
       "      <td>NaN</td>\n",
       "      <td>NaN</td>\n",
       "      <td>NaN</td>\n",
       "      <td>NaN</td>\n",
       "      <td>96.0</td>\n",
       "    </tr>\n",
       "    <tr>\n",
       "      <td>10782</td>\n",
       "      <td>3</td>\n",
       "      <td>490000</td>\n",
       "      <td>29.1</td>\n",
       "      <td>2016-05-05T00:00:00</td>\n",
       "      <td>1</td>\n",
       "      <td>2.50</td>\n",
       "      <td>5.0</td>\n",
       "      <td>17.0</td>\n",
       "      <td>5</td>\n",
       "      <td>NaN</td>\n",
       "      <td>...</td>\n",
       "      <td>5.5</td>\n",
       "      <td>NaN</td>\n",
       "      <td>Сланцы</td>\n",
       "      <td>NaN</td>\n",
       "      <td>NaN</td>\n",
       "      <td>NaN</td>\n",
       "      <td>NaN</td>\n",
       "      <td>NaN</td>\n",
       "      <td>NaN</td>\n",
       "      <td>719.0</td>\n",
       "    </tr>\n",
       "    <tr>\n",
       "      <td>14911</td>\n",
       "      <td>5</td>\n",
       "      <td>430000</td>\n",
       "      <td>54.0</td>\n",
       "      <td>2018-06-26T00:00:00</td>\n",
       "      <td>2</td>\n",
       "      <td>NaN</td>\n",
       "      <td>3.0</td>\n",
       "      <td>NaN</td>\n",
       "      <td>3</td>\n",
       "      <td>NaN</td>\n",
       "      <td>...</td>\n",
       "      <td>NaN</td>\n",
       "      <td>NaN</td>\n",
       "      <td>посёлок станции Свирь</td>\n",
       "      <td>NaN</td>\n",
       "      <td>NaN</td>\n",
       "      <td>NaN</td>\n",
       "      <td>NaN</td>\n",
       "      <td>NaN</td>\n",
       "      <td>NaN</td>\n",
       "      <td>44.0</td>\n",
       "    </tr>\n",
       "    <tr>\n",
       "      <td>16032</td>\n",
       "      <td>8</td>\n",
       "      <td>480000</td>\n",
       "      <td>32.0</td>\n",
       "      <td>2019-01-06T00:00:00</td>\n",
       "      <td>1</td>\n",
       "      <td>NaN</td>\n",
       "      <td>2.0</td>\n",
       "      <td>16.0</td>\n",
       "      <td>1</td>\n",
       "      <td>NaN</td>\n",
       "      <td>...</td>\n",
       "      <td>NaN</td>\n",
       "      <td>NaN</td>\n",
       "      <td>Сланцы</td>\n",
       "      <td>NaN</td>\n",
       "      <td>NaN</td>\n",
       "      <td>NaN</td>\n",
       "      <td>NaN</td>\n",
       "      <td>NaN</td>\n",
       "      <td>NaN</td>\n",
       "      <td>83.0</td>\n",
       "    </tr>\n",
       "    <tr>\n",
       "      <td>16219</td>\n",
       "      <td>14</td>\n",
       "      <td>450000</td>\n",
       "      <td>38.5</td>\n",
       "      <td>2018-07-11T00:00:00</td>\n",
       "      <td>2</td>\n",
       "      <td>2.65</td>\n",
       "      <td>2.0</td>\n",
       "      <td>NaN</td>\n",
       "      <td>1</td>\n",
       "      <td>NaN</td>\n",
       "      <td>...</td>\n",
       "      <td>NaN</td>\n",
       "      <td>NaN</td>\n",
       "      <td>деревня Вахнова Кара</td>\n",
       "      <td>NaN</td>\n",
       "      <td>NaN</td>\n",
       "      <td>NaN</td>\n",
       "      <td>NaN</td>\n",
       "      <td>NaN</td>\n",
       "      <td>NaN</td>\n",
       "      <td>45.0</td>\n",
       "    </tr>\n",
       "    <tr>\n",
       "      <td>16274</td>\n",
       "      <td>18</td>\n",
       "      <td>440000</td>\n",
       "      <td>40.0</td>\n",
       "      <td>2018-07-10T00:00:00</td>\n",
       "      <td>1</td>\n",
       "      <td>NaN</td>\n",
       "      <td>5.0</td>\n",
       "      <td>NaN</td>\n",
       "      <td>1</td>\n",
       "      <td>NaN</td>\n",
       "      <td>...</td>\n",
       "      <td>NaN</td>\n",
       "      <td>NaN</td>\n",
       "      <td>деревня Старополье</td>\n",
       "      <td>NaN</td>\n",
       "      <td>NaN</td>\n",
       "      <td>NaN</td>\n",
       "      <td>NaN</td>\n",
       "      <td>NaN</td>\n",
       "      <td>NaN</td>\n",
       "      <td>45.0</td>\n",
       "    </tr>\n",
       "    <tr>\n",
       "      <td>17456</td>\n",
       "      <td>7</td>\n",
       "      <td>430000</td>\n",
       "      <td>30.4</td>\n",
       "      <td>2019-04-22T00:00:00</td>\n",
       "      <td>1</td>\n",
       "      <td>NaN</td>\n",
       "      <td>2.0</td>\n",
       "      <td>16.0</td>\n",
       "      <td>1</td>\n",
       "      <td>NaN</td>\n",
       "      <td>...</td>\n",
       "      <td>6.0</td>\n",
       "      <td>NaN</td>\n",
       "      <td>Сланцы</td>\n",
       "      <td>NaN</td>\n",
       "      <td>NaN</td>\n",
       "      <td>NaN</td>\n",
       "      <td>NaN</td>\n",
       "      <td>NaN</td>\n",
       "      <td>NaN</td>\n",
       "      <td>NaN</td>\n",
       "    </tr>\n",
       "    <tr>\n",
       "      <td>17676</td>\n",
       "      <td>0</td>\n",
       "      <td>450000</td>\n",
       "      <td>36.5</td>\n",
       "      <td>2018-02-01T00:00:00</td>\n",
       "      <td>1</td>\n",
       "      <td>NaN</td>\n",
       "      <td>5.0</td>\n",
       "      <td>17.3</td>\n",
       "      <td>4</td>\n",
       "      <td>NaN</td>\n",
       "      <td>...</td>\n",
       "      <td>8.5</td>\n",
       "      <td>1.0</td>\n",
       "      <td>деревня Ям-Тесово</td>\n",
       "      <td>NaN</td>\n",
       "      <td>NaN</td>\n",
       "      <td>NaN</td>\n",
       "      <td>NaN</td>\n",
       "      <td>NaN</td>\n",
       "      <td>NaN</td>\n",
       "      <td>120.0</td>\n",
       "    </tr>\n",
       "    <tr>\n",
       "      <td>18867</td>\n",
       "      <td>1</td>\n",
       "      <td>470000</td>\n",
       "      <td>41.0</td>\n",
       "      <td>2018-02-11T00:00:00</td>\n",
       "      <td>1</td>\n",
       "      <td>NaN</td>\n",
       "      <td>5.0</td>\n",
       "      <td>32.0</td>\n",
       "      <td>3</td>\n",
       "      <td>NaN</td>\n",
       "      <td>...</td>\n",
       "      <td>9.0</td>\n",
       "      <td>NaN</td>\n",
       "      <td>деревня Выскатка</td>\n",
       "      <td>NaN</td>\n",
       "      <td>NaN</td>\n",
       "      <td>NaN</td>\n",
       "      <td>NaN</td>\n",
       "      <td>NaN</td>\n",
       "      <td>NaN</td>\n",
       "      <td>46.0</td>\n",
       "    </tr>\n",
       "    <tr>\n",
       "      <td>21912</td>\n",
       "      <td>0</td>\n",
       "      <td>470000</td>\n",
       "      <td>37.0</td>\n",
       "      <td>2018-02-18T00:00:00</td>\n",
       "      <td>1</td>\n",
       "      <td>NaN</td>\n",
       "      <td>3.0</td>\n",
       "      <td>NaN</td>\n",
       "      <td>3</td>\n",
       "      <td>NaN</td>\n",
       "      <td>...</td>\n",
       "      <td>NaN</td>\n",
       "      <td>NaN</td>\n",
       "      <td>поселок Совхозный</td>\n",
       "      <td>NaN</td>\n",
       "      <td>NaN</td>\n",
       "      <td>NaN</td>\n",
       "      <td>NaN</td>\n",
       "      <td>NaN</td>\n",
       "      <td>NaN</td>\n",
       "      <td>45.0</td>\n",
       "    </tr>\n",
       "    <tr>\n",
       "      <td>23484</td>\n",
       "      <td>11</td>\n",
       "      <td>470000</td>\n",
       "      <td>44.5</td>\n",
       "      <td>2018-07-02T00:00:00</td>\n",
       "      <td>2</td>\n",
       "      <td>NaN</td>\n",
       "      <td>2.0</td>\n",
       "      <td>28.0</td>\n",
       "      <td>2</td>\n",
       "      <td>NaN</td>\n",
       "      <td>...</td>\n",
       "      <td>7.5</td>\n",
       "      <td>NaN</td>\n",
       "      <td>Сланцы</td>\n",
       "      <td>NaN</td>\n",
       "      <td>NaN</td>\n",
       "      <td>NaN</td>\n",
       "      <td>NaN</td>\n",
       "      <td>NaN</td>\n",
       "      <td>NaN</td>\n",
       "      <td>298.0</td>\n",
       "    </tr>\n",
       "  </tbody>\n",
       "</table>\n",
       "<p>14 rows × 22 columns</p>\n",
       "</div>"
      ],
      "text/plain": [
       "       total_images  last_price  total_area first_day_exposition  rooms  \\\n",
       "5698              7      450000        42.0  2017-07-31T00:00:00      2   \n",
       "6859              6      490000        40.0  2017-12-11T00:00:00      1   \n",
       "8793              7       12190       109.0  2019-03-20T00:00:00      2   \n",
       "9581              7      450000        43.4  2018-08-31T00:00:00      2   \n",
       "10782             3      490000        29.1  2016-05-05T00:00:00      1   \n",
       "14911             5      430000        54.0  2018-06-26T00:00:00      2   \n",
       "16032             8      480000        32.0  2019-01-06T00:00:00      1   \n",
       "16219            14      450000        38.5  2018-07-11T00:00:00      2   \n",
       "16274            18      440000        40.0  2018-07-10T00:00:00      1   \n",
       "17456             7      430000        30.4  2019-04-22T00:00:00      1   \n",
       "17676             0      450000        36.5  2018-02-01T00:00:00      1   \n",
       "18867             1      470000        41.0  2018-02-11T00:00:00      1   \n",
       "21912             0      470000        37.0  2018-02-18T00:00:00      1   \n",
       "23484            11      470000        44.5  2018-07-02T00:00:00      2   \n",
       "\n",
       "       ceiling_height  floors_total  living_area  floor is_apartment  ...  \\\n",
       "5698              NaN           1.0         23.0      1          NaN  ...   \n",
       "6859              NaN           5.0          NaN      3          NaN  ...   \n",
       "8793             2.75          25.0         32.0     25          NaN  ...   \n",
       "9581              NaN           5.0         30.3      3          NaN  ...   \n",
       "10782            2.50           5.0         17.0      5          NaN  ...   \n",
       "14911             NaN           3.0          NaN      3          NaN  ...   \n",
       "16032             NaN           2.0         16.0      1          NaN  ...   \n",
       "16219            2.65           2.0          NaN      1          NaN  ...   \n",
       "16274             NaN           5.0          NaN      1          NaN  ...   \n",
       "17456             NaN           2.0         16.0      1          NaN  ...   \n",
       "17676             NaN           5.0         17.3      4          NaN  ...   \n",
       "18867             NaN           5.0         32.0      3          NaN  ...   \n",
       "21912             NaN           3.0          NaN      3          NaN  ...   \n",
       "23484             NaN           2.0         28.0      2          NaN  ...   \n",
       "\n",
       "       kitchen_area  balcony               locality_name  airports_nearest  \\\n",
       "5698            5.8      NaN  городской посёлок Будогощь               NaN   \n",
       "6859            NaN      NaN          деревня Старополье               NaN   \n",
       "8793           40.5      NaN             Санкт-Петербург           36421.0   \n",
       "9581            5.5      NaN          деревня Старополье               NaN   \n",
       "10782           5.5      NaN                      Сланцы               NaN   \n",
       "14911           NaN      NaN       посёлок станции Свирь               NaN   \n",
       "16032           NaN      NaN                      Сланцы               NaN   \n",
       "16219           NaN      NaN        деревня Вахнова Кара               NaN   \n",
       "16274           NaN      NaN          деревня Старополье               NaN   \n",
       "17456           6.0      NaN                      Сланцы               NaN   \n",
       "17676           8.5      1.0           деревня Ям-Тесово               NaN   \n",
       "18867           9.0      NaN            деревня Выскатка               NaN   \n",
       "21912           NaN      NaN           поселок Совхозный               NaN   \n",
       "23484           7.5      NaN                      Сланцы               NaN   \n",
       "\n",
       "      cityCenters_nearest  parks_around3000  parks_nearest  ponds_around3000  \\\n",
       "5698                  NaN               NaN            NaN               NaN   \n",
       "6859                  NaN               NaN            NaN               NaN   \n",
       "8793               9176.0               1.0          805.0               0.0   \n",
       "9581                  NaN               NaN            NaN               NaN   \n",
       "10782                 NaN               NaN            NaN               NaN   \n",
       "14911                 NaN               NaN            NaN               NaN   \n",
       "16032                 NaN               NaN            NaN               NaN   \n",
       "16219                 NaN               NaN            NaN               NaN   \n",
       "16274                 NaN               NaN            NaN               NaN   \n",
       "17456                 NaN               NaN            NaN               NaN   \n",
       "17676                 NaN               NaN            NaN               NaN   \n",
       "18867                 NaN               NaN            NaN               NaN   \n",
       "21912                 NaN               NaN            NaN               NaN   \n",
       "23484                 NaN               NaN            NaN               NaN   \n",
       "\n",
       "       ponds_nearest  days_exposition  \n",
       "5698             NaN            233.0  \n",
       "6859             NaN             43.0  \n",
       "8793             NaN              8.0  \n",
       "9581             NaN             96.0  \n",
       "10782            NaN            719.0  \n",
       "14911            NaN             44.0  \n",
       "16032            NaN             83.0  \n",
       "16219            NaN             45.0  \n",
       "16274            NaN             45.0  \n",
       "17456            NaN              NaN  \n",
       "17676            NaN            120.0  \n",
       "18867            NaN             46.0  \n",
       "21912            NaN             45.0  \n",
       "23484            NaN            298.0  \n",
       "\n",
       "[14 rows x 22 columns]"
      ]
     },
     "execution_count": 5,
     "metadata": {},
     "output_type": "execute_result"
    }
   ],
   "source": [
    "df[df['last_price'] < 500000]"
   ]
  },
  {
   "cell_type": "markdown",
   "metadata": {},
   "source": [
    "Мы видим что все что дешевле 500 000 отдаленные деревни, а единственное значение гораздо меньшее - это с ценой в 12190. Предположим что цена указана в евро или долларах. На 20 марта 2019 года курс доллара ~ 64 рубля, а евро ~ 74 рубля. Среднее значение 69, умножаем цену на 69, получаем ~ 840 000 рублей. За квартиру в Питере с площадью более 100 метров тоже маловероятно. Скорее всего цена была указана в тысячах, то есть 12 тысяч тысяч. Соответственно 12 млн рублей очень даже вероятно. В этом столбце мы имеем всего одно некорректное значение, и в массе 23699 значений это ничтожно малый объем данных. Но если мы можем сделать данные лучше, мы должны это сделать. Умножим данные на 1000 и проверим:"
   ]
  },
  {
   "cell_type": "code",
   "execution_count": 6,
   "metadata": {},
   "outputs": [
    {
     "data": {
      "text/plain": [
       "430000.0"
      ]
     },
     "execution_count": 6,
     "metadata": {},
     "output_type": "execute_result"
    }
   ],
   "source": [
    "# лучше сразу присвоить значение, так как повторное выполнение кода будет вновь и вновь умножать результат:\n",
    "df.loc[8793, 'last_price'] = 12190000.0\n",
    "df['last_price'].min()\n"
   ]
  },
  {
   "cell_type": "markdown",
   "metadata": {},
   "source": [
    "Отлично. Следующая цель total_area, площадь в квадратных метрах. Формат данных не меняем, так как дробные части метра могут повлиять на данные, сменить тип данных на целочисленный можно и позднее:"
   ]
  },
  {
   "cell_type": "code",
   "execution_count": 7,
   "metadata": {},
   "outputs": [
    {
     "name": "stdout",
     "output_type": "stream",
     "text": [
      "12.0\n",
      "900.0\n"
     ]
    }
   ],
   "source": [
    "# снова находим минимальное и максимальное значение:\n",
    "print(df['total_area'].min())\n",
    "print(df['total_area'].max())"
   ]
  },
  {
   "cell_type": "markdown",
   "metadata": {},
   "source": [
    "На 12м2 уместиться сложно, но можно. Но 900 м2? Квартира за 500 млн имеет площадь 465 м2. Слишком много. Нужно взглянуть на объявления с площадью более 500 м2:"
   ]
  },
  {
   "cell_type": "code",
   "execution_count": 8,
   "metadata": {},
   "outputs": [
    {
     "data": {
      "text/html": [
       "<div>\n",
       "<style scoped>\n",
       "    .dataframe tbody tr th:only-of-type {\n",
       "        vertical-align: middle;\n",
       "    }\n",
       "\n",
       "    .dataframe tbody tr th {\n",
       "        vertical-align: top;\n",
       "    }\n",
       "\n",
       "    .dataframe thead th {\n",
       "        text-align: right;\n",
       "    }\n",
       "</style>\n",
       "<table border=\"1\" class=\"dataframe\">\n",
       "  <thead>\n",
       "    <tr style=\"text-align: right;\">\n",
       "      <th></th>\n",
       "      <th>total_images</th>\n",
       "      <th>last_price</th>\n",
       "      <th>total_area</th>\n",
       "      <th>first_day_exposition</th>\n",
       "      <th>rooms</th>\n",
       "      <th>ceiling_height</th>\n",
       "      <th>floors_total</th>\n",
       "      <th>living_area</th>\n",
       "      <th>floor</th>\n",
       "      <th>is_apartment</th>\n",
       "      <th>...</th>\n",
       "      <th>kitchen_area</th>\n",
       "      <th>balcony</th>\n",
       "      <th>locality_name</th>\n",
       "      <th>airports_nearest</th>\n",
       "      <th>cityCenters_nearest</th>\n",
       "      <th>parks_around3000</th>\n",
       "      <th>parks_nearest</th>\n",
       "      <th>ponds_around3000</th>\n",
       "      <th>ponds_nearest</th>\n",
       "      <th>days_exposition</th>\n",
       "    </tr>\n",
       "  </thead>\n",
       "  <tbody>\n",
       "    <tr>\n",
       "      <td>3117</td>\n",
       "      <td>19</td>\n",
       "      <td>140000000.0</td>\n",
       "      <td>631.0</td>\n",
       "      <td>2019-03-30T00:00:00</td>\n",
       "      <td>7</td>\n",
       "      <td>NaN</td>\n",
       "      <td>5.0</td>\n",
       "      <td>NaN</td>\n",
       "      <td>5</td>\n",
       "      <td>NaN</td>\n",
       "      <td>...</td>\n",
       "      <td>60.0</td>\n",
       "      <td>NaN</td>\n",
       "      <td>Санкт-Петербург</td>\n",
       "      <td>25707.0</td>\n",
       "      <td>4972.0</td>\n",
       "      <td>0.0</td>\n",
       "      <td>NaN</td>\n",
       "      <td>2.0</td>\n",
       "      <td>210.0</td>\n",
       "      <td>NaN</td>\n",
       "    </tr>\n",
       "    <tr>\n",
       "      <td>4237</td>\n",
       "      <td>1</td>\n",
       "      <td>50000000.0</td>\n",
       "      <td>517.0</td>\n",
       "      <td>2017-10-14T00:00:00</td>\n",
       "      <td>7</td>\n",
       "      <td>NaN</td>\n",
       "      <td>4.0</td>\n",
       "      <td>332.0</td>\n",
       "      <td>3</td>\n",
       "      <td>NaN</td>\n",
       "      <td>...</td>\n",
       "      <td>22.0</td>\n",
       "      <td>NaN</td>\n",
       "      <td>Санкт-Петербург</td>\n",
       "      <td>22835.0</td>\n",
       "      <td>1847.0</td>\n",
       "      <td>2.0</td>\n",
       "      <td>477.0</td>\n",
       "      <td>2.0</td>\n",
       "      <td>540.0</td>\n",
       "      <td>NaN</td>\n",
       "    </tr>\n",
       "    <tr>\n",
       "      <td>5358</td>\n",
       "      <td>20</td>\n",
       "      <td>65000000.0</td>\n",
       "      <td>590.0</td>\n",
       "      <td>2019-02-14T00:00:00</td>\n",
       "      <td>15</td>\n",
       "      <td>3.50</td>\n",
       "      <td>6.0</td>\n",
       "      <td>409.0</td>\n",
       "      <td>3</td>\n",
       "      <td>NaN</td>\n",
       "      <td>...</td>\n",
       "      <td>100.0</td>\n",
       "      <td>NaN</td>\n",
       "      <td>Санкт-Петербург</td>\n",
       "      <td>24447.0</td>\n",
       "      <td>4666.0</td>\n",
       "      <td>1.0</td>\n",
       "      <td>767.0</td>\n",
       "      <td>0.0</td>\n",
       "      <td>NaN</td>\n",
       "      <td>14.0</td>\n",
       "    </tr>\n",
       "    <tr>\n",
       "      <td>8018</td>\n",
       "      <td>20</td>\n",
       "      <td>84000000.0</td>\n",
       "      <td>507.0</td>\n",
       "      <td>2015-12-17T00:00:00</td>\n",
       "      <td>5</td>\n",
       "      <td>4.45</td>\n",
       "      <td>7.0</td>\n",
       "      <td>301.5</td>\n",
       "      <td>7</td>\n",
       "      <td>True</td>\n",
       "      <td>...</td>\n",
       "      <td>45.5</td>\n",
       "      <td>1.0</td>\n",
       "      <td>Санкт-Петербург</td>\n",
       "      <td>NaN</td>\n",
       "      <td>5735.0</td>\n",
       "      <td>2.0</td>\n",
       "      <td>110.0</td>\n",
       "      <td>0.0</td>\n",
       "      <td>NaN</td>\n",
       "      <td>1078.0</td>\n",
       "    </tr>\n",
       "    <tr>\n",
       "      <td>12859</td>\n",
       "      <td>20</td>\n",
       "      <td>140000000.0</td>\n",
       "      <td>631.2</td>\n",
       "      <td>2019-04-09T00:00:00</td>\n",
       "      <td>7</td>\n",
       "      <td>3.90</td>\n",
       "      <td>4.0</td>\n",
       "      <td>322.3</td>\n",
       "      <td>4</td>\n",
       "      <td>NaN</td>\n",
       "      <td>...</td>\n",
       "      <td>19.5</td>\n",
       "      <td>1.0</td>\n",
       "      <td>Санкт-Петербург</td>\n",
       "      <td>25707.0</td>\n",
       "      <td>4972.0</td>\n",
       "      <td>0.0</td>\n",
       "      <td>NaN</td>\n",
       "      <td>2.0</td>\n",
       "      <td>210.0</td>\n",
       "      <td>NaN</td>\n",
       "    </tr>\n",
       "    <tr>\n",
       "      <td>15651</td>\n",
       "      <td>20</td>\n",
       "      <td>300000000.0</td>\n",
       "      <td>618.0</td>\n",
       "      <td>2017-12-18T00:00:00</td>\n",
       "      <td>7</td>\n",
       "      <td>3.40</td>\n",
       "      <td>7.0</td>\n",
       "      <td>258.0</td>\n",
       "      <td>5</td>\n",
       "      <td>NaN</td>\n",
       "      <td>...</td>\n",
       "      <td>70.0</td>\n",
       "      <td>NaN</td>\n",
       "      <td>Санкт-Петербург</td>\n",
       "      <td>32440.0</td>\n",
       "      <td>5297.0</td>\n",
       "      <td>0.0</td>\n",
       "      <td>NaN</td>\n",
       "      <td>2.0</td>\n",
       "      <td>198.0</td>\n",
       "      <td>111.0</td>\n",
       "    </tr>\n",
       "    <tr>\n",
       "      <td>19540</td>\n",
       "      <td>8</td>\n",
       "      <td>420000000.0</td>\n",
       "      <td>900.0</td>\n",
       "      <td>2017-12-06T00:00:00</td>\n",
       "      <td>12</td>\n",
       "      <td>2.80</td>\n",
       "      <td>25.0</td>\n",
       "      <td>409.7</td>\n",
       "      <td>25</td>\n",
       "      <td>NaN</td>\n",
       "      <td>...</td>\n",
       "      <td>112.0</td>\n",
       "      <td>NaN</td>\n",
       "      <td>Санкт-Петербург</td>\n",
       "      <td>30706.0</td>\n",
       "      <td>7877.0</td>\n",
       "      <td>0.0</td>\n",
       "      <td>NaN</td>\n",
       "      <td>2.0</td>\n",
       "      <td>318.0</td>\n",
       "      <td>106.0</td>\n",
       "    </tr>\n",
       "  </tbody>\n",
       "</table>\n",
       "<p>7 rows × 22 columns</p>\n",
       "</div>"
      ],
      "text/plain": [
       "       total_images   last_price  total_area first_day_exposition  rooms  \\\n",
       "3117             19  140000000.0       631.0  2019-03-30T00:00:00      7   \n",
       "4237              1   50000000.0       517.0  2017-10-14T00:00:00      7   \n",
       "5358             20   65000000.0       590.0  2019-02-14T00:00:00     15   \n",
       "8018             20   84000000.0       507.0  2015-12-17T00:00:00      5   \n",
       "12859            20  140000000.0       631.2  2019-04-09T00:00:00      7   \n",
       "15651            20  300000000.0       618.0  2017-12-18T00:00:00      7   \n",
       "19540             8  420000000.0       900.0  2017-12-06T00:00:00     12   \n",
       "\n",
       "       ceiling_height  floors_total  living_area  floor is_apartment  ...  \\\n",
       "3117              NaN           5.0          NaN      5          NaN  ...   \n",
       "4237              NaN           4.0        332.0      3          NaN  ...   \n",
       "5358             3.50           6.0        409.0      3          NaN  ...   \n",
       "8018             4.45           7.0        301.5      7         True  ...   \n",
       "12859            3.90           4.0        322.3      4          NaN  ...   \n",
       "15651            3.40           7.0        258.0      5          NaN  ...   \n",
       "19540            2.80          25.0        409.7     25          NaN  ...   \n",
       "\n",
       "       kitchen_area  balcony    locality_name  airports_nearest  \\\n",
       "3117           60.0      NaN  Санкт-Петербург           25707.0   \n",
       "4237           22.0      NaN  Санкт-Петербург           22835.0   \n",
       "5358          100.0      NaN  Санкт-Петербург           24447.0   \n",
       "8018           45.5      1.0  Санкт-Петербург               NaN   \n",
       "12859          19.5      1.0  Санкт-Петербург           25707.0   \n",
       "15651          70.0      NaN  Санкт-Петербург           32440.0   \n",
       "19540         112.0      NaN  Санкт-Петербург           30706.0   \n",
       "\n",
       "      cityCenters_nearest  parks_around3000  parks_nearest  ponds_around3000  \\\n",
       "3117               4972.0               0.0            NaN               2.0   \n",
       "4237               1847.0               2.0          477.0               2.0   \n",
       "5358               4666.0               1.0          767.0               0.0   \n",
       "8018               5735.0               2.0          110.0               0.0   \n",
       "12859              4972.0               0.0            NaN               2.0   \n",
       "15651              5297.0               0.0            NaN               2.0   \n",
       "19540              7877.0               0.0            NaN               2.0   \n",
       "\n",
       "       ponds_nearest  days_exposition  \n",
       "3117           210.0              NaN  \n",
       "4237           540.0              NaN  \n",
       "5358             NaN             14.0  \n",
       "8018             NaN           1078.0  \n",
       "12859          210.0              NaN  \n",
       "15651          198.0            111.0  \n",
       "19540          318.0            106.0  \n",
       "\n",
       "[7 rows x 22 columns]"
      ]
     },
     "execution_count": 8,
     "metadata": {},
     "output_type": "execute_result"
    }
   ],
   "source": [
    "df[df['total_area'] > 500]"
   ]
  },
  {
   "cell_type": "markdown",
   "metadata": {},
   "source": [
    "12-ти комнатный замок. 420 млн, на мой взгляд приемлемая цена для 2017 года. Хотя среднестатистический учитель зарабатывал бы на него примерно 1167 лет. \n",
    "\n",
    "Далее first_day_exposition - дата первого размещения. Будем иметь представление о временных рамках предоставленных данных, предварительно изменив тип данных на datetime:"
   ]
  },
  {
   "cell_type": "code",
   "execution_count": 9,
   "metadata": {},
   "outputs": [
    {
     "name": "stdout",
     "output_type": "stream",
     "text": [
      "2014-11-27 00:00:00\n",
      "2019-05-03 00:00:00\n"
     ]
    }
   ],
   "source": [
    "df['first_day_exposition'] = pd.to_datetime(df['first_day_exposition'], format='%Y-%m-%dT%H:%M:%S')\n",
    "print(df['first_day_exposition'].min())\n",
    "print(df['first_day_exposition'].max())"
   ]
  },
  {
   "cell_type": "markdown",
   "metadata": {},
   "source": [
    "Данные за 5 лет 2014 - 2019 года. \n",
    "\n",
    "rooms - количество комнат, узнаем диапазон значений:"
   ]
  },
  {
   "cell_type": "code",
   "execution_count": 10,
   "metadata": {},
   "outputs": [
    {
     "name": "stdout",
     "output_type": "stream",
     "text": [
      "0\n",
      "19\n"
     ]
    }
   ],
   "source": [
    "print(df['rooms'].min())\n",
    "print(df['rooms'].max())"
   ]
  },
  {
   "cell_type": "markdown",
   "metadata": {},
   "source": [
    "19 комнат может быть, а вот 0 нет. Посмотрим на строки с безкомнатными квартирами, отортируем по площади квартиры, так как скорее всего в однокомнатных квартирах просто не указали количество комнат, и площадь небольшая, и выведем последние значения:"
   ]
  },
  {
   "cell_type": "code",
   "execution_count": 11,
   "metadata": {},
   "outputs": [
    {
     "data": {
      "text/html": [
       "<div>\n",
       "<style scoped>\n",
       "    .dataframe tbody tr th:only-of-type {\n",
       "        vertical-align: middle;\n",
       "    }\n",
       "\n",
       "    .dataframe tbody tr th {\n",
       "        vertical-align: top;\n",
       "    }\n",
       "\n",
       "    .dataframe thead th {\n",
       "        text-align: right;\n",
       "    }\n",
       "</style>\n",
       "<table border=\"1\" class=\"dataframe\">\n",
       "  <thead>\n",
       "    <tr style=\"text-align: right;\">\n",
       "      <th></th>\n",
       "      <th>total_images</th>\n",
       "      <th>last_price</th>\n",
       "      <th>total_area</th>\n",
       "      <th>first_day_exposition</th>\n",
       "      <th>rooms</th>\n",
       "      <th>ceiling_height</th>\n",
       "      <th>floors_total</th>\n",
       "      <th>living_area</th>\n",
       "      <th>floor</th>\n",
       "      <th>is_apartment</th>\n",
       "      <th>...</th>\n",
       "      <th>kitchen_area</th>\n",
       "      <th>balcony</th>\n",
       "      <th>locality_name</th>\n",
       "      <th>airports_nearest</th>\n",
       "      <th>cityCenters_nearest</th>\n",
       "      <th>parks_around3000</th>\n",
       "      <th>parks_nearest</th>\n",
       "      <th>ponds_around3000</th>\n",
       "      <th>ponds_nearest</th>\n",
       "      <th>days_exposition</th>\n",
       "    </tr>\n",
       "  </thead>\n",
       "  <tbody>\n",
       "    <tr>\n",
       "      <td>15714</td>\n",
       "      <td>1</td>\n",
       "      <td>3000000.0</td>\n",
       "      <td>32.03</td>\n",
       "      <td>2017-08-08</td>\n",
       "      <td>0</td>\n",
       "      <td>NaN</td>\n",
       "      <td>9.0</td>\n",
       "      <td>15.78</td>\n",
       "      <td>5</td>\n",
       "      <td>NaN</td>\n",
       "      <td>...</td>\n",
       "      <td>NaN</td>\n",
       "      <td>1.0</td>\n",
       "      <td>Санкт-Петербург</td>\n",
       "      <td>27850.0</td>\n",
       "      <td>9766.0</td>\n",
       "      <td>0.0</td>\n",
       "      <td>NaN</td>\n",
       "      <td>2.0</td>\n",
       "      <td>784.0</td>\n",
       "      <td>14.0</td>\n",
       "    </tr>\n",
       "    <tr>\n",
       "      <td>15704</td>\n",
       "      <td>7</td>\n",
       "      <td>2750000.0</td>\n",
       "      <td>32.20</td>\n",
       "      <td>2018-07-05</td>\n",
       "      <td>0</td>\n",
       "      <td>NaN</td>\n",
       "      <td>17.0</td>\n",
       "      <td>19.20</td>\n",
       "      <td>7</td>\n",
       "      <td>NaN</td>\n",
       "      <td>...</td>\n",
       "      <td>NaN</td>\n",
       "      <td>2.0</td>\n",
       "      <td>Санкт-Петербург</td>\n",
       "      <td>15493.0</td>\n",
       "      <td>14289.0</td>\n",
       "      <td>0.0</td>\n",
       "      <td>NaN</td>\n",
       "      <td>0.0</td>\n",
       "      <td>NaN</td>\n",
       "      <td>4.0</td>\n",
       "    </tr>\n",
       "    <tr>\n",
       "      <td>7008</td>\n",
       "      <td>4</td>\n",
       "      <td>5200000.0</td>\n",
       "      <td>32.30</td>\n",
       "      <td>2017-09-14</td>\n",
       "      <td>0</td>\n",
       "      <td>NaN</td>\n",
       "      <td>11.0</td>\n",
       "      <td>25.50</td>\n",
       "      <td>4</td>\n",
       "      <td>NaN</td>\n",
       "      <td>...</td>\n",
       "      <td>NaN</td>\n",
       "      <td>NaN</td>\n",
       "      <td>Санкт-Петербург</td>\n",
       "      <td>30824.0</td>\n",
       "      <td>6469.0</td>\n",
       "      <td>1.0</td>\n",
       "      <td>756.0</td>\n",
       "      <td>1.0</td>\n",
       "      <td>936.0</td>\n",
       "      <td>86.0</td>\n",
       "    </tr>\n",
       "    <tr>\n",
       "      <td>12229</td>\n",
       "      <td>12</td>\n",
       "      <td>6200000.0</td>\n",
       "      <td>32.40</td>\n",
       "      <td>2018-02-22</td>\n",
       "      <td>0</td>\n",
       "      <td>3.00</td>\n",
       "      <td>9.0</td>\n",
       "      <td>18.30</td>\n",
       "      <td>3</td>\n",
       "      <td>NaN</td>\n",
       "      <td>...</td>\n",
       "      <td>NaN</td>\n",
       "      <td>2.0</td>\n",
       "      <td>Санкт-Петербург</td>\n",
       "      <td>25987.0</td>\n",
       "      <td>4823.0</td>\n",
       "      <td>0.0</td>\n",
       "      <td>NaN</td>\n",
       "      <td>2.0</td>\n",
       "      <td>849.0</td>\n",
       "      <td>32.0</td>\n",
       "    </tr>\n",
       "    <tr>\n",
       "      <td>18132</td>\n",
       "      <td>6</td>\n",
       "      <td>4800000.0</td>\n",
       "      <td>32.50</td>\n",
       "      <td>2019-04-09</td>\n",
       "      <td>0</td>\n",
       "      <td>2.80</td>\n",
       "      <td>17.0</td>\n",
       "      <td>22.90</td>\n",
       "      <td>5</td>\n",
       "      <td>NaN</td>\n",
       "      <td>...</td>\n",
       "      <td>NaN</td>\n",
       "      <td>2.0</td>\n",
       "      <td>Санкт-Петербург</td>\n",
       "      <td>43996.0</td>\n",
       "      <td>13576.0</td>\n",
       "      <td>1.0</td>\n",
       "      <td>396.0</td>\n",
       "      <td>0.0</td>\n",
       "      <td>NaN</td>\n",
       "      <td>NaN</td>\n",
       "    </tr>\n",
       "    <tr>\n",
       "      <td>16521</td>\n",
       "      <td>13</td>\n",
       "      <td>3600000.0</td>\n",
       "      <td>32.80</td>\n",
       "      <td>2017-07-17</td>\n",
       "      <td>0</td>\n",
       "      <td>2.80</td>\n",
       "      <td>16.0</td>\n",
       "      <td>23.20</td>\n",
       "      <td>4</td>\n",
       "      <td>NaN</td>\n",
       "      <td>...</td>\n",
       "      <td>NaN</td>\n",
       "      <td>1.0</td>\n",
       "      <td>Санкт-Петербург</td>\n",
       "      <td>49888.0</td>\n",
       "      <td>16139.0</td>\n",
       "      <td>1.0</td>\n",
       "      <td>472.0</td>\n",
       "      <td>0.0</td>\n",
       "      <td>NaN</td>\n",
       "      <td>169.0</td>\n",
       "    </tr>\n",
       "    <tr>\n",
       "      <td>21628</td>\n",
       "      <td>9</td>\n",
       "      <td>3900000.0</td>\n",
       "      <td>34.00</td>\n",
       "      <td>2017-03-18</td>\n",
       "      <td>0</td>\n",
       "      <td>NaN</td>\n",
       "      <td>20.0</td>\n",
       "      <td>24.00</td>\n",
       "      <td>10</td>\n",
       "      <td>NaN</td>\n",
       "      <td>...</td>\n",
       "      <td>NaN</td>\n",
       "      <td>2.0</td>\n",
       "      <td>Санкт-Петербург</td>\n",
       "      <td>15506.0</td>\n",
       "      <td>13615.0</td>\n",
       "      <td>0.0</td>\n",
       "      <td>NaN</td>\n",
       "      <td>1.0</td>\n",
       "      <td>767.0</td>\n",
       "      <td>320.0</td>\n",
       "    </tr>\n",
       "    <tr>\n",
       "      <td>508</td>\n",
       "      <td>0</td>\n",
       "      <td>3375000.0</td>\n",
       "      <td>34.40</td>\n",
       "      <td>2017-03-28</td>\n",
       "      <td>0</td>\n",
       "      <td>NaN</td>\n",
       "      <td>26.0</td>\n",
       "      <td>24.30</td>\n",
       "      <td>19</td>\n",
       "      <td>NaN</td>\n",
       "      <td>...</td>\n",
       "      <td>NaN</td>\n",
       "      <td>1.0</td>\n",
       "      <td>посёлок Парголово</td>\n",
       "      <td>53115.0</td>\n",
       "      <td>19292.0</td>\n",
       "      <td>0.0</td>\n",
       "      <td>NaN</td>\n",
       "      <td>1.0</td>\n",
       "      <td>593.0</td>\n",
       "      <td>430.0</td>\n",
       "    </tr>\n",
       "    <tr>\n",
       "      <td>839</td>\n",
       "      <td>14</td>\n",
       "      <td>1900000.0</td>\n",
       "      <td>35.00</td>\n",
       "      <td>2017-04-14</td>\n",
       "      <td>0</td>\n",
       "      <td>2.70</td>\n",
       "      <td>5.0</td>\n",
       "      <td>15.00</td>\n",
       "      <td>3</td>\n",
       "      <td>False</td>\n",
       "      <td>...</td>\n",
       "      <td>NaN</td>\n",
       "      <td>1.0</td>\n",
       "      <td>поселок Новый Свет</td>\n",
       "      <td>NaN</td>\n",
       "      <td>NaN</td>\n",
       "      <td>NaN</td>\n",
       "      <td>NaN</td>\n",
       "      <td>NaN</td>\n",
       "      <td>NaN</td>\n",
       "      <td>7.0</td>\n",
       "    </tr>\n",
       "    <tr>\n",
       "      <td>4683</td>\n",
       "      <td>2</td>\n",
       "      <td>3650000.0</td>\n",
       "      <td>35.00</td>\n",
       "      <td>2018-02-01</td>\n",
       "      <td>0</td>\n",
       "      <td>NaN</td>\n",
       "      <td>25.0</td>\n",
       "      <td>23.40</td>\n",
       "      <td>25</td>\n",
       "      <td>NaN</td>\n",
       "      <td>...</td>\n",
       "      <td>NaN</td>\n",
       "      <td>NaN</td>\n",
       "      <td>Санкт-Петербург</td>\n",
       "      <td>43431.0</td>\n",
       "      <td>12188.0</td>\n",
       "      <td>0.0</td>\n",
       "      <td>NaN</td>\n",
       "      <td>0.0</td>\n",
       "      <td>NaN</td>\n",
       "      <td>100.0</td>\n",
       "    </tr>\n",
       "    <tr>\n",
       "      <td>9052</td>\n",
       "      <td>12</td>\n",
       "      <td>3890000.0</td>\n",
       "      <td>38.30</td>\n",
       "      <td>2017-10-06</td>\n",
       "      <td>0</td>\n",
       "      <td>2.70</td>\n",
       "      <td>14.0</td>\n",
       "      <td>24.42</td>\n",
       "      <td>7</td>\n",
       "      <td>NaN</td>\n",
       "      <td>...</td>\n",
       "      <td>NaN</td>\n",
       "      <td>2.0</td>\n",
       "      <td>Санкт-Петербург</td>\n",
       "      <td>15493.0</td>\n",
       "      <td>14289.0</td>\n",
       "      <td>0.0</td>\n",
       "      <td>NaN</td>\n",
       "      <td>0.0</td>\n",
       "      <td>NaN</td>\n",
       "      <td>289.0</td>\n",
       "    </tr>\n",
       "    <tr>\n",
       "      <td>16130</td>\n",
       "      <td>14</td>\n",
       "      <td>5000000.0</td>\n",
       "      <td>42.10</td>\n",
       "      <td>2018-04-13</td>\n",
       "      <td>0</td>\n",
       "      <td>NaN</td>\n",
       "      <td>20.0</td>\n",
       "      <td>30.00</td>\n",
       "      <td>10</td>\n",
       "      <td>NaN</td>\n",
       "      <td>...</td>\n",
       "      <td>NaN</td>\n",
       "      <td>NaN</td>\n",
       "      <td>Санкт-Петербург</td>\n",
       "      <td>50605.0</td>\n",
       "      <td>15933.0</td>\n",
       "      <td>0.0</td>\n",
       "      <td>NaN</td>\n",
       "      <td>0.0</td>\n",
       "      <td>NaN</td>\n",
       "      <td>170.0</td>\n",
       "    </tr>\n",
       "    <tr>\n",
       "      <td>7237</td>\n",
       "      <td>8</td>\n",
       "      <td>2999000.0</td>\n",
       "      <td>42.63</td>\n",
       "      <td>2017-11-27</td>\n",
       "      <td>0</td>\n",
       "      <td>NaN</td>\n",
       "      <td>16.0</td>\n",
       "      <td>25.70</td>\n",
       "      <td>2</td>\n",
       "      <td>NaN</td>\n",
       "      <td>...</td>\n",
       "      <td>NaN</td>\n",
       "      <td>2.0</td>\n",
       "      <td>деревня Кудрово</td>\n",
       "      <td>NaN</td>\n",
       "      <td>NaN</td>\n",
       "      <td>NaN</td>\n",
       "      <td>NaN</td>\n",
       "      <td>NaN</td>\n",
       "      <td>NaN</td>\n",
       "      <td>45.0</td>\n",
       "    </tr>\n",
       "    <tr>\n",
       "      <td>15319</td>\n",
       "      <td>4</td>\n",
       "      <td>5970000.0</td>\n",
       "      <td>43.30</td>\n",
       "      <td>2017-07-20</td>\n",
       "      <td>0</td>\n",
       "      <td>2.80</td>\n",
       "      <td>9.0</td>\n",
       "      <td>28.20</td>\n",
       "      <td>2</td>\n",
       "      <td>NaN</td>\n",
       "      <td>...</td>\n",
       "      <td>NaN</td>\n",
       "      <td>2.0</td>\n",
       "      <td>Санкт-Петербург</td>\n",
       "      <td>23617.0</td>\n",
       "      <td>5223.0</td>\n",
       "      <td>0.0</td>\n",
       "      <td>NaN</td>\n",
       "      <td>1.0</td>\n",
       "      <td>874.0</td>\n",
       "      <td>30.0</td>\n",
       "    </tr>\n",
       "    <tr>\n",
       "      <td>10008</td>\n",
       "      <td>20</td>\n",
       "      <td>5050000.0</td>\n",
       "      <td>44.20</td>\n",
       "      <td>2017-09-14</td>\n",
       "      <td>0</td>\n",
       "      <td>2.70</td>\n",
       "      <td>9.0</td>\n",
       "      <td>32.20</td>\n",
       "      <td>1</td>\n",
       "      <td>NaN</td>\n",
       "      <td>...</td>\n",
       "      <td>NaN</td>\n",
       "      <td>NaN</td>\n",
       "      <td>Санкт-Петербург</td>\n",
       "      <td>24329.0</td>\n",
       "      <td>5955.0</td>\n",
       "      <td>0.0</td>\n",
       "      <td>NaN</td>\n",
       "      <td>2.0</td>\n",
       "      <td>520.0</td>\n",
       "      <td>69.0</td>\n",
       "    </tr>\n",
       "    <tr>\n",
       "      <td>13613</td>\n",
       "      <td>16</td>\n",
       "      <td>8100000.0</td>\n",
       "      <td>58.40</td>\n",
       "      <td>2019-04-26</td>\n",
       "      <td>0</td>\n",
       "      <td>3.30</td>\n",
       "      <td>7.0</td>\n",
       "      <td>33.00</td>\n",
       "      <td>6</td>\n",
       "      <td>NaN</td>\n",
       "      <td>...</td>\n",
       "      <td>NaN</td>\n",
       "      <td>NaN</td>\n",
       "      <td>Санкт-Петербург</td>\n",
       "      <td>14509.0</td>\n",
       "      <td>8288.0</td>\n",
       "      <td>0.0</td>\n",
       "      <td>NaN</td>\n",
       "      <td>0.0</td>\n",
       "      <td>NaN</td>\n",
       "      <td>NaN</td>\n",
       "    </tr>\n",
       "    <tr>\n",
       "      <td>21227</td>\n",
       "      <td>0</td>\n",
       "      <td>8200000.0</td>\n",
       "      <td>71.00</td>\n",
       "      <td>2017-07-21</td>\n",
       "      <td>0</td>\n",
       "      <td>5.80</td>\n",
       "      <td>5.0</td>\n",
       "      <td>68.00</td>\n",
       "      <td>5</td>\n",
       "      <td>NaN</td>\n",
       "      <td>...</td>\n",
       "      <td>NaN</td>\n",
       "      <td>0.0</td>\n",
       "      <td>Санкт-Петербург</td>\n",
       "      <td>20170.0</td>\n",
       "      <td>1261.0</td>\n",
       "      <td>2.0</td>\n",
       "      <td>295.0</td>\n",
       "      <td>3.0</td>\n",
       "      <td>366.0</td>\n",
       "      <td>30.0</td>\n",
       "    </tr>\n",
       "    <tr>\n",
       "      <td>3458</td>\n",
       "      <td>6</td>\n",
       "      <td>7400000.0</td>\n",
       "      <td>73.60</td>\n",
       "      <td>2017-05-18</td>\n",
       "      <td>0</td>\n",
       "      <td>NaN</td>\n",
       "      <td>3.0</td>\n",
       "      <td>50.00</td>\n",
       "      <td>1</td>\n",
       "      <td>NaN</td>\n",
       "      <td>...</td>\n",
       "      <td>NaN</td>\n",
       "      <td>0.0</td>\n",
       "      <td>Санкт-Петербург</td>\n",
       "      <td>26581.0</td>\n",
       "      <td>6085.0</td>\n",
       "      <td>0.0</td>\n",
       "      <td>NaN</td>\n",
       "      <td>1.0</td>\n",
       "      <td>348.0</td>\n",
       "      <td>60.0</td>\n",
       "    </tr>\n",
       "    <tr>\n",
       "      <td>20082</td>\n",
       "      <td>10</td>\n",
       "      <td>16300000.0</td>\n",
       "      <td>98.40</td>\n",
       "      <td>2017-11-08</td>\n",
       "      <td>0</td>\n",
       "      <td>3.10</td>\n",
       "      <td>5.0</td>\n",
       "      <td>60.50</td>\n",
       "      <td>2</td>\n",
       "      <td>NaN</td>\n",
       "      <td>...</td>\n",
       "      <td>NaN</td>\n",
       "      <td>NaN</td>\n",
       "      <td>Санкт-Петербург</td>\n",
       "      <td>26972.0</td>\n",
       "      <td>5819.0</td>\n",
       "      <td>0.0</td>\n",
       "      <td>NaN</td>\n",
       "      <td>1.0</td>\n",
       "      <td>674.0</td>\n",
       "      <td>537.0</td>\n",
       "    </tr>\n",
       "    <tr>\n",
       "      <td>19392</td>\n",
       "      <td>5</td>\n",
       "      <td>71000000.0</td>\n",
       "      <td>371.00</td>\n",
       "      <td>2018-07-26</td>\n",
       "      <td>0</td>\n",
       "      <td>3.57</td>\n",
       "      <td>7.0</td>\n",
       "      <td>NaN</td>\n",
       "      <td>6</td>\n",
       "      <td>NaN</td>\n",
       "      <td>...</td>\n",
       "      <td>NaN</td>\n",
       "      <td>NaN</td>\n",
       "      <td>Санкт-Петербург</td>\n",
       "      <td>25257.0</td>\n",
       "      <td>6060.0</td>\n",
       "      <td>1.0</td>\n",
       "      <td>761.0</td>\n",
       "      <td>1.0</td>\n",
       "      <td>584.0</td>\n",
       "      <td>90.0</td>\n",
       "    </tr>\n",
       "  </tbody>\n",
       "</table>\n",
       "<p>20 rows × 22 columns</p>\n",
       "</div>"
      ],
      "text/plain": [
       "       total_images  last_price  total_area first_day_exposition  rooms  \\\n",
       "15714             1   3000000.0       32.03           2017-08-08      0   \n",
       "15704             7   2750000.0       32.20           2018-07-05      0   \n",
       "7008              4   5200000.0       32.30           2017-09-14      0   \n",
       "12229            12   6200000.0       32.40           2018-02-22      0   \n",
       "18132             6   4800000.0       32.50           2019-04-09      0   \n",
       "16521            13   3600000.0       32.80           2017-07-17      0   \n",
       "21628             9   3900000.0       34.00           2017-03-18      0   \n",
       "508               0   3375000.0       34.40           2017-03-28      0   \n",
       "839              14   1900000.0       35.00           2017-04-14      0   \n",
       "4683              2   3650000.0       35.00           2018-02-01      0   \n",
       "9052             12   3890000.0       38.30           2017-10-06      0   \n",
       "16130            14   5000000.0       42.10           2018-04-13      0   \n",
       "7237              8   2999000.0       42.63           2017-11-27      0   \n",
       "15319             4   5970000.0       43.30           2017-07-20      0   \n",
       "10008            20   5050000.0       44.20           2017-09-14      0   \n",
       "13613            16   8100000.0       58.40           2019-04-26      0   \n",
       "21227             0   8200000.0       71.00           2017-07-21      0   \n",
       "3458              6   7400000.0       73.60           2017-05-18      0   \n",
       "20082            10  16300000.0       98.40           2017-11-08      0   \n",
       "19392             5  71000000.0      371.00           2018-07-26      0   \n",
       "\n",
       "       ceiling_height  floors_total  living_area  floor is_apartment  ...  \\\n",
       "15714             NaN           9.0        15.78      5          NaN  ...   \n",
       "15704             NaN          17.0        19.20      7          NaN  ...   \n",
       "7008              NaN          11.0        25.50      4          NaN  ...   \n",
       "12229            3.00           9.0        18.30      3          NaN  ...   \n",
       "18132            2.80          17.0        22.90      5          NaN  ...   \n",
       "16521            2.80          16.0        23.20      4          NaN  ...   \n",
       "21628             NaN          20.0        24.00     10          NaN  ...   \n",
       "508               NaN          26.0        24.30     19          NaN  ...   \n",
       "839              2.70           5.0        15.00      3        False  ...   \n",
       "4683              NaN          25.0        23.40     25          NaN  ...   \n",
       "9052             2.70          14.0        24.42      7          NaN  ...   \n",
       "16130             NaN          20.0        30.00     10          NaN  ...   \n",
       "7237              NaN          16.0        25.70      2          NaN  ...   \n",
       "15319            2.80           9.0        28.20      2          NaN  ...   \n",
       "10008            2.70           9.0        32.20      1          NaN  ...   \n",
       "13613            3.30           7.0        33.00      6          NaN  ...   \n",
       "21227            5.80           5.0        68.00      5          NaN  ...   \n",
       "3458              NaN           3.0        50.00      1          NaN  ...   \n",
       "20082            3.10           5.0        60.50      2          NaN  ...   \n",
       "19392            3.57           7.0          NaN      6          NaN  ...   \n",
       "\n",
       "       kitchen_area  balcony       locality_name  airports_nearest  \\\n",
       "15714           NaN      1.0     Санкт-Петербург           27850.0   \n",
       "15704           NaN      2.0     Санкт-Петербург           15493.0   \n",
       "7008            NaN      NaN     Санкт-Петербург           30824.0   \n",
       "12229           NaN      2.0     Санкт-Петербург           25987.0   \n",
       "18132           NaN      2.0     Санкт-Петербург           43996.0   \n",
       "16521           NaN      1.0     Санкт-Петербург           49888.0   \n",
       "21628           NaN      2.0     Санкт-Петербург           15506.0   \n",
       "508             NaN      1.0   посёлок Парголово           53115.0   \n",
       "839             NaN      1.0  поселок Новый Свет               NaN   \n",
       "4683            NaN      NaN     Санкт-Петербург           43431.0   \n",
       "9052            NaN      2.0     Санкт-Петербург           15493.0   \n",
       "16130           NaN      NaN     Санкт-Петербург           50605.0   \n",
       "7237            NaN      2.0     деревня Кудрово               NaN   \n",
       "15319           NaN      2.0     Санкт-Петербург           23617.0   \n",
       "10008           NaN      NaN     Санкт-Петербург           24329.0   \n",
       "13613           NaN      NaN     Санкт-Петербург           14509.0   \n",
       "21227           NaN      0.0     Санкт-Петербург           20170.0   \n",
       "3458            NaN      0.0     Санкт-Петербург           26581.0   \n",
       "20082           NaN      NaN     Санкт-Петербург           26972.0   \n",
       "19392           NaN      NaN     Санкт-Петербург           25257.0   \n",
       "\n",
       "      cityCenters_nearest  parks_around3000  parks_nearest  ponds_around3000  \\\n",
       "15714              9766.0               0.0            NaN               2.0   \n",
       "15704             14289.0               0.0            NaN               0.0   \n",
       "7008               6469.0               1.0          756.0               1.0   \n",
       "12229              4823.0               0.0            NaN               2.0   \n",
       "18132             13576.0               1.0          396.0               0.0   \n",
       "16521             16139.0               1.0          472.0               0.0   \n",
       "21628             13615.0               0.0            NaN               1.0   \n",
       "508               19292.0               0.0            NaN               1.0   \n",
       "839                   NaN               NaN            NaN               NaN   \n",
       "4683              12188.0               0.0            NaN               0.0   \n",
       "9052              14289.0               0.0            NaN               0.0   \n",
       "16130             15933.0               0.0            NaN               0.0   \n",
       "7237                  NaN               NaN            NaN               NaN   \n",
       "15319              5223.0               0.0            NaN               1.0   \n",
       "10008              5955.0               0.0            NaN               2.0   \n",
       "13613              8288.0               0.0            NaN               0.0   \n",
       "21227              1261.0               2.0          295.0               3.0   \n",
       "3458               6085.0               0.0            NaN               1.0   \n",
       "20082              5819.0               0.0            NaN               1.0   \n",
       "19392              6060.0               1.0          761.0               1.0   \n",
       "\n",
       "       ponds_nearest  days_exposition  \n",
       "15714          784.0             14.0  \n",
       "15704            NaN              4.0  \n",
       "7008           936.0             86.0  \n",
       "12229          849.0             32.0  \n",
       "18132            NaN              NaN  \n",
       "16521            NaN            169.0  \n",
       "21628          767.0            320.0  \n",
       "508            593.0            430.0  \n",
       "839              NaN              7.0  \n",
       "4683             NaN            100.0  \n",
       "9052             NaN            289.0  \n",
       "16130            NaN            170.0  \n",
       "7237             NaN             45.0  \n",
       "15319          874.0             30.0  \n",
       "10008          520.0             69.0  \n",
       "13613            NaN              NaN  \n",
       "21227          366.0             30.0  \n",
       "3458           348.0             60.0  \n",
       "20082          674.0            537.0  \n",
       "19392          584.0             90.0  \n",
       "\n",
       "[20 rows x 22 columns]"
      ]
     },
     "execution_count": 11,
     "metadata": {},
     "output_type": "execute_result"
    }
   ],
   "source": [
    "df[df['rooms'] == 0].sort_values(by='total_area').tail(20)"
   ]
  },
  {
   "cell_type": "markdown",
   "metadata": {},
   "source": [
    "Я встречал много однокомнатных квартир с площадью до 40 м2, поэтому неуказанное количество комнат заменим на 1, для остальных напишем функцию с шагом 20 м2 - средний размер большой комнаты. "
   ]
  },
  {
   "cell_type": "code",
   "execution_count": 12,
   "metadata": {},
   "outputs": [
    {
     "data": {
      "text/plain": [
       "0"
      ]
     },
     "execution_count": 12,
     "metadata": {},
     "output_type": "execute_result"
    }
   ],
   "source": [
    "# напишем функцию для замены значений в колчестве комнат, возможно она пригодиться:\n",
    "# def rooms_edit(row):\n",
    "#    if row <= 40:\n",
    "#        return 1\n",
    "#    elif 40 < row <= 60:\n",
    "#        return 2\n",
    "#    elif 60 < row <= 80:\n",
    "#        return 3\n",
    "#    elif 90 < row <= 120:\n",
    "#        return 4\n",
    "#    else:\n",
    "#        return 5\n",
    "\n",
    "# применим для объявелений с нулевым количеством комнат:\n",
    "\n",
    "# df.loc[df['rooms'] == 0, 'rooms'] = df.loc[df['rooms'] == 0, 'total_area'].apply(rooms_edit)\n",
    " \n",
    "# результат:\n",
    "    \n",
    "# df['rooms'].value_counts()\n",
    "\n",
    "# можно также форматом таблицы:\n",
    "# df[df['rooms'] == 0]\n",
    "df['rooms'].isna().sum()"
   ]
  },
  {
   "cell_type": "markdown",
   "metadata": {},
   "source": [
    "Справились. Следующий столбец - ceiling_height - отвечает за высоту потолков, нужно проверить не только корректность данных но и пропуски. Найдем максимальное, минимальное, среднее значения и медиану, так как скорее всего медианой будет целесообразно заменять пропуски:"
   ]
  },
  {
   "cell_type": "code",
   "execution_count": 13,
   "metadata": {},
   "outputs": [
    {
     "name": "stdout",
     "output_type": "stream",
     "text": [
      "100.0\n",
      "1.0\n",
      "2.77149889685604\n",
      "2.65\n"
     ]
    }
   ],
   "source": [
    "print(df['ceiling_height'].max())\n",
    "print(df['ceiling_height'].min())\n",
    "print(df['ceiling_height'].mean())\n",
    "print(df['ceiling_height'].median())"
   ]
  },
  {
   "cell_type": "markdown",
   "metadata": {},
   "source": [
    "Медиана 2.65 - запомним, это нам пригодится. 1 метр и 100 метров явно выброс. Взглянем на строки с высотой меньше 2.4 метра:"
   ]
  },
  {
   "cell_type": "code",
   "execution_count": 14,
   "metadata": {},
   "outputs": [
    {
     "data": {
      "text/html": [
       "<div>\n",
       "<style scoped>\n",
       "    .dataframe tbody tr th:only-of-type {\n",
       "        vertical-align: middle;\n",
       "    }\n",
       "\n",
       "    .dataframe tbody tr th {\n",
       "        vertical-align: top;\n",
       "    }\n",
       "\n",
       "    .dataframe thead th {\n",
       "        text-align: right;\n",
       "    }\n",
       "</style>\n",
       "<table border=\"1\" class=\"dataframe\">\n",
       "  <thead>\n",
       "    <tr style=\"text-align: right;\">\n",
       "      <th></th>\n",
       "      <th>total_images</th>\n",
       "      <th>last_price</th>\n",
       "      <th>total_area</th>\n",
       "      <th>first_day_exposition</th>\n",
       "      <th>rooms</th>\n",
       "      <th>ceiling_height</th>\n",
       "      <th>floors_total</th>\n",
       "      <th>living_area</th>\n",
       "      <th>floor</th>\n",
       "      <th>is_apartment</th>\n",
       "      <th>...</th>\n",
       "      <th>kitchen_area</th>\n",
       "      <th>balcony</th>\n",
       "      <th>locality_name</th>\n",
       "      <th>airports_nearest</th>\n",
       "      <th>cityCenters_nearest</th>\n",
       "      <th>parks_around3000</th>\n",
       "      <th>parks_nearest</th>\n",
       "      <th>ponds_around3000</th>\n",
       "      <th>ponds_nearest</th>\n",
       "      <th>days_exposition</th>\n",
       "    </tr>\n",
       "  </thead>\n",
       "  <tbody>\n",
       "    <tr>\n",
       "      <td>227</td>\n",
       "      <td>13</td>\n",
       "      <td>2200000.0</td>\n",
       "      <td>47.00</td>\n",
       "      <td>2018-01-12</td>\n",
       "      <td>3</td>\n",
       "      <td>2.34</td>\n",
       "      <td>5.0</td>\n",
       "      <td>NaN</td>\n",
       "      <td>1</td>\n",
       "      <td>NaN</td>\n",
       "      <td>...</td>\n",
       "      <td>NaN</td>\n",
       "      <td>NaN</td>\n",
       "      <td>посёлок Новый Свет</td>\n",
       "      <td>NaN</td>\n",
       "      <td>NaN</td>\n",
       "      <td>NaN</td>\n",
       "      <td>NaN</td>\n",
       "      <td>NaN</td>\n",
       "      <td>NaN</td>\n",
       "      <td>45.0</td>\n",
       "    </tr>\n",
       "    <tr>\n",
       "      <td>552</td>\n",
       "      <td>11</td>\n",
       "      <td>2999000.0</td>\n",
       "      <td>33.50</td>\n",
       "      <td>2017-03-30</td>\n",
       "      <td>1</td>\n",
       "      <td>2.00</td>\n",
       "      <td>15.0</td>\n",
       "      <td>17.500000</td>\n",
       "      <td>6</td>\n",
       "      <td>NaN</td>\n",
       "      <td>...</td>\n",
       "      <td>6.50</td>\n",
       "      <td>NaN</td>\n",
       "      <td>Санкт-Петербург</td>\n",
       "      <td>33972.0</td>\n",
       "      <td>11746.0</td>\n",
       "      <td>1.0</td>\n",
       "      <td>520.0</td>\n",
       "      <td>1.0</td>\n",
       "      <td>949.0</td>\n",
       "      <td>270.0</td>\n",
       "    </tr>\n",
       "    <tr>\n",
       "      <td>1582</td>\n",
       "      <td>4</td>\n",
       "      <td>4100000.0</td>\n",
       "      <td>45.60</td>\n",
       "      <td>2016-01-13</td>\n",
       "      <td>2</td>\n",
       "      <td>2.30</td>\n",
       "      <td>9.0</td>\n",
       "      <td>28.400000</td>\n",
       "      <td>8</td>\n",
       "      <td>False</td>\n",
       "      <td>...</td>\n",
       "      <td>7.00</td>\n",
       "      <td>2.0</td>\n",
       "      <td>Санкт-Петербург</td>\n",
       "      <td>49152.0</td>\n",
       "      <td>14977.0</td>\n",
       "      <td>1.0</td>\n",
       "      <td>489.0</td>\n",
       "      <td>1.0</td>\n",
       "      <td>525.0</td>\n",
       "      <td>329.0</td>\n",
       "    </tr>\n",
       "    <tr>\n",
       "      <td>2572</td>\n",
       "      <td>4</td>\n",
       "      <td>2400000.0</td>\n",
       "      <td>62.00</td>\n",
       "      <td>2018-12-27</td>\n",
       "      <td>3</td>\n",
       "      <td>2.00</td>\n",
       "      <td>5.0</td>\n",
       "      <td>40.000000</td>\n",
       "      <td>4</td>\n",
       "      <td>NaN</td>\n",
       "      <td>...</td>\n",
       "      <td>6.00</td>\n",
       "      <td>1.0</td>\n",
       "      <td>Луга</td>\n",
       "      <td>NaN</td>\n",
       "      <td>NaN</td>\n",
       "      <td>NaN</td>\n",
       "      <td>NaN</td>\n",
       "      <td>NaN</td>\n",
       "      <td>NaN</td>\n",
       "      <td>NaN</td>\n",
       "    </tr>\n",
       "    <tr>\n",
       "      <td>4212</td>\n",
       "      <td>1</td>\n",
       "      <td>2120000.0</td>\n",
       "      <td>35.43</td>\n",
       "      <td>2017-12-18</td>\n",
       "      <td>1</td>\n",
       "      <td>2.00</td>\n",
       "      <td>18.0</td>\n",
       "      <td>16.600000</td>\n",
       "      <td>9</td>\n",
       "      <td>NaN</td>\n",
       "      <td>...</td>\n",
       "      <td>8.80</td>\n",
       "      <td>2.0</td>\n",
       "      <td>Тосно</td>\n",
       "      <td>NaN</td>\n",
       "      <td>NaN</td>\n",
       "      <td>NaN</td>\n",
       "      <td>NaN</td>\n",
       "      <td>NaN</td>\n",
       "      <td>NaN</td>\n",
       "      <td>36.0</td>\n",
       "    </tr>\n",
       "    <tr>\n",
       "      <td>5498</td>\n",
       "      <td>17</td>\n",
       "      <td>2200000.0</td>\n",
       "      <td>56.00</td>\n",
       "      <td>2018-04-02</td>\n",
       "      <td>2</td>\n",
       "      <td>2.30</td>\n",
       "      <td>5.0</td>\n",
       "      <td>45.000000</td>\n",
       "      <td>1</td>\n",
       "      <td>NaN</td>\n",
       "      <td>...</td>\n",
       "      <td>9.00</td>\n",
       "      <td>2.0</td>\n",
       "      <td>Сясьстрой</td>\n",
       "      <td>NaN</td>\n",
       "      <td>NaN</td>\n",
       "      <td>NaN</td>\n",
       "      <td>NaN</td>\n",
       "      <td>NaN</td>\n",
       "      <td>NaN</td>\n",
       "      <td>55.0</td>\n",
       "    </tr>\n",
       "    <tr>\n",
       "      <td>5712</td>\n",
       "      <td>5</td>\n",
       "      <td>1500000.0</td>\n",
       "      <td>42.80</td>\n",
       "      <td>2017-08-14</td>\n",
       "      <td>2</td>\n",
       "      <td>1.20</td>\n",
       "      <td>2.0</td>\n",
       "      <td>27.500000</td>\n",
       "      <td>1</td>\n",
       "      <td>NaN</td>\n",
       "      <td>...</td>\n",
       "      <td>5.20</td>\n",
       "      <td>NaN</td>\n",
       "      <td>городской посёлок Мга</td>\n",
       "      <td>NaN</td>\n",
       "      <td>NaN</td>\n",
       "      <td>NaN</td>\n",
       "      <td>NaN</td>\n",
       "      <td>NaN</td>\n",
       "      <td>NaN</td>\n",
       "      <td>248.0</td>\n",
       "    </tr>\n",
       "    <tr>\n",
       "      <td>5850</td>\n",
       "      <td>9</td>\n",
       "      <td>1650000.0</td>\n",
       "      <td>35.50</td>\n",
       "      <td>2018-05-29</td>\n",
       "      <td>1</td>\n",
       "      <td>2.00</td>\n",
       "      <td>5.0</td>\n",
       "      <td>NaN</td>\n",
       "      <td>5</td>\n",
       "      <td>NaN</td>\n",
       "      <td>...</td>\n",
       "      <td>NaN</td>\n",
       "      <td>NaN</td>\n",
       "      <td>Луга</td>\n",
       "      <td>NaN</td>\n",
       "      <td>NaN</td>\n",
       "      <td>NaN</td>\n",
       "      <td>NaN</td>\n",
       "      <td>NaN</td>\n",
       "      <td>NaN</td>\n",
       "      <td>100.0</td>\n",
       "    </tr>\n",
       "    <tr>\n",
       "      <td>11352</td>\n",
       "      <td>4</td>\n",
       "      <td>3300000.0</td>\n",
       "      <td>36.00</td>\n",
       "      <td>2017-06-18</td>\n",
       "      <td>1</td>\n",
       "      <td>2.00</td>\n",
       "      <td>17.0</td>\n",
       "      <td>15.200000</td>\n",
       "      <td>12</td>\n",
       "      <td>NaN</td>\n",
       "      <td>...</td>\n",
       "      <td>10.10</td>\n",
       "      <td>0.0</td>\n",
       "      <td>посёлок Металлострой</td>\n",
       "      <td>25268.0</td>\n",
       "      <td>26980.0</td>\n",
       "      <td>0.0</td>\n",
       "      <td>NaN</td>\n",
       "      <td>0.0</td>\n",
       "      <td>NaN</td>\n",
       "      <td>53.0</td>\n",
       "    </tr>\n",
       "    <tr>\n",
       "      <td>12755</td>\n",
       "      <td>2</td>\n",
       "      <td>1400000.0</td>\n",
       "      <td>22.50</td>\n",
       "      <td>2017-09-21</td>\n",
       "      <td>1</td>\n",
       "      <td>2.20</td>\n",
       "      <td>2.0</td>\n",
       "      <td>18.000000</td>\n",
       "      <td>2</td>\n",
       "      <td>NaN</td>\n",
       "      <td>...</td>\n",
       "      <td>4.50</td>\n",
       "      <td>1.0</td>\n",
       "      <td>село Копорье</td>\n",
       "      <td>NaN</td>\n",
       "      <td>NaN</td>\n",
       "      <td>NaN</td>\n",
       "      <td>NaN</td>\n",
       "      <td>NaN</td>\n",
       "      <td>NaN</td>\n",
       "      <td>45.0</td>\n",
       "    </tr>\n",
       "    <tr>\n",
       "      <td>16446</td>\n",
       "      <td>6</td>\n",
       "      <td>12300000.0</td>\n",
       "      <td>88.30</td>\n",
       "      <td>2019-03-12</td>\n",
       "      <td>3</td>\n",
       "      <td>2.00</td>\n",
       "      <td>5.0</td>\n",
       "      <td>63.900000</td>\n",
       "      <td>2</td>\n",
       "      <td>NaN</td>\n",
       "      <td>...</td>\n",
       "      <td>12.00</td>\n",
       "      <td>NaN</td>\n",
       "      <td>Санкт-Петербург</td>\n",
       "      <td>38415.0</td>\n",
       "      <td>7675.0</td>\n",
       "      <td>1.0</td>\n",
       "      <td>568.0</td>\n",
       "      <td>1.0</td>\n",
       "      <td>154.0</td>\n",
       "      <td>NaN</td>\n",
       "    </tr>\n",
       "    <tr>\n",
       "      <td>16884</td>\n",
       "      <td>0</td>\n",
       "      <td>1500000.0</td>\n",
       "      <td>33.00</td>\n",
       "      <td>2018-10-03</td>\n",
       "      <td>1</td>\n",
       "      <td>2.00</td>\n",
       "      <td>5.0</td>\n",
       "      <td>20.000000</td>\n",
       "      <td>5</td>\n",
       "      <td>False</td>\n",
       "      <td>...</td>\n",
       "      <td>6.00</td>\n",
       "      <td>NaN</td>\n",
       "      <td>Выборг</td>\n",
       "      <td>NaN</td>\n",
       "      <td>NaN</td>\n",
       "      <td>NaN</td>\n",
       "      <td>NaN</td>\n",
       "      <td>NaN</td>\n",
       "      <td>NaN</td>\n",
       "      <td>6.0</td>\n",
       "    </tr>\n",
       "    <tr>\n",
       "      <td>16934</td>\n",
       "      <td>5</td>\n",
       "      <td>4100000.0</td>\n",
       "      <td>40.00</td>\n",
       "      <td>2017-10-17</td>\n",
       "      <td>1</td>\n",
       "      <td>1.75</td>\n",
       "      <td>37.0</td>\n",
       "      <td>17.400000</td>\n",
       "      <td>5</td>\n",
       "      <td>NaN</td>\n",
       "      <td>...</td>\n",
       "      <td>8.34</td>\n",
       "      <td>NaN</td>\n",
       "      <td>Санкт-Петербург</td>\n",
       "      <td>18732.0</td>\n",
       "      <td>20444.0</td>\n",
       "      <td>0.0</td>\n",
       "      <td>NaN</td>\n",
       "      <td>3.0</td>\n",
       "      <td>80.0</td>\n",
       "      <td>71.0</td>\n",
       "    </tr>\n",
       "    <tr>\n",
       "      <td>17762</td>\n",
       "      <td>20</td>\n",
       "      <td>2300000.0</td>\n",
       "      <td>54.30</td>\n",
       "      <td>2018-06-28</td>\n",
       "      <td>3</td>\n",
       "      <td>2.30</td>\n",
       "      <td>5.0</td>\n",
       "      <td>39.000000</td>\n",
       "      <td>2</td>\n",
       "      <td>NaN</td>\n",
       "      <td>...</td>\n",
       "      <td>5.30</td>\n",
       "      <td>1.0</td>\n",
       "      <td>деревня Бегуницы</td>\n",
       "      <td>NaN</td>\n",
       "      <td>NaN</td>\n",
       "      <td>NaN</td>\n",
       "      <td>NaN</td>\n",
       "      <td>NaN</td>\n",
       "      <td>NaN</td>\n",
       "      <td>189.0</td>\n",
       "    </tr>\n",
       "    <tr>\n",
       "      <td>17794</td>\n",
       "      <td>1</td>\n",
       "      <td>2300000.0</td>\n",
       "      <td>58.60</td>\n",
       "      <td>2016-05-12</td>\n",
       "      <td>3</td>\n",
       "      <td>2.25</td>\n",
       "      <td>5.0</td>\n",
       "      <td>44.100002</td>\n",
       "      <td>3</td>\n",
       "      <td>False</td>\n",
       "      <td>...</td>\n",
       "      <td>5.50</td>\n",
       "      <td>1.0</td>\n",
       "      <td>деревня Бегуницы</td>\n",
       "      <td>NaN</td>\n",
       "      <td>NaN</td>\n",
       "      <td>NaN</td>\n",
       "      <td>NaN</td>\n",
       "      <td>NaN</td>\n",
       "      <td>NaN</td>\n",
       "      <td>45.0</td>\n",
       "    </tr>\n",
       "    <tr>\n",
       "      <td>19098</td>\n",
       "      <td>7</td>\n",
       "      <td>2700000.0</td>\n",
       "      <td>56.00</td>\n",
       "      <td>2018-02-04</td>\n",
       "      <td>3</td>\n",
       "      <td>2.00</td>\n",
       "      <td>5.0</td>\n",
       "      <td>46.000000</td>\n",
       "      <td>1</td>\n",
       "      <td>NaN</td>\n",
       "      <td>...</td>\n",
       "      <td>6.00</td>\n",
       "      <td>NaN</td>\n",
       "      <td>Выборг</td>\n",
       "      <td>NaN</td>\n",
       "      <td>NaN</td>\n",
       "      <td>NaN</td>\n",
       "      <td>NaN</td>\n",
       "      <td>NaN</td>\n",
       "      <td>NaN</td>\n",
       "      <td>282.0</td>\n",
       "    </tr>\n",
       "    <tr>\n",
       "      <td>19329</td>\n",
       "      <td>5</td>\n",
       "      <td>1700000.0</td>\n",
       "      <td>40.00</td>\n",
       "      <td>2018-07-15</td>\n",
       "      <td>2</td>\n",
       "      <td>2.00</td>\n",
       "      <td>9.0</td>\n",
       "      <td>NaN</td>\n",
       "      <td>8</td>\n",
       "      <td>NaN</td>\n",
       "      <td>...</td>\n",
       "      <td>NaN</td>\n",
       "      <td>NaN</td>\n",
       "      <td>Сосновый Бор</td>\n",
       "      <td>NaN</td>\n",
       "      <td>NaN</td>\n",
       "      <td>NaN</td>\n",
       "      <td>NaN</td>\n",
       "      <td>NaN</td>\n",
       "      <td>NaN</td>\n",
       "      <td>45.0</td>\n",
       "    </tr>\n",
       "    <tr>\n",
       "      <td>20520</td>\n",
       "      <td>9</td>\n",
       "      <td>3600000.0</td>\n",
       "      <td>38.00</td>\n",
       "      <td>2018-07-05</td>\n",
       "      <td>1</td>\n",
       "      <td>2.00</td>\n",
       "      <td>12.0</td>\n",
       "      <td>15.000000</td>\n",
       "      <td>9</td>\n",
       "      <td>NaN</td>\n",
       "      <td>...</td>\n",
       "      <td>11.80</td>\n",
       "      <td>1.0</td>\n",
       "      <td>Кудрово</td>\n",
       "      <td>NaN</td>\n",
       "      <td>NaN</td>\n",
       "      <td>NaN</td>\n",
       "      <td>NaN</td>\n",
       "      <td>NaN</td>\n",
       "      <td>NaN</td>\n",
       "      <td>62.0</td>\n",
       "    </tr>\n",
       "    <tr>\n",
       "      <td>22590</td>\n",
       "      <td>16</td>\n",
       "      <td>6000000.0</td>\n",
       "      <td>55.00</td>\n",
       "      <td>2018-10-31</td>\n",
       "      <td>2</td>\n",
       "      <td>1.00</td>\n",
       "      <td>12.0</td>\n",
       "      <td>32.400000</td>\n",
       "      <td>7</td>\n",
       "      <td>NaN</td>\n",
       "      <td>...</td>\n",
       "      <td>10.00</td>\n",
       "      <td>NaN</td>\n",
       "      <td>Санкт-Петербург</td>\n",
       "      <td>33053.0</td>\n",
       "      <td>14217.0</td>\n",
       "      <td>2.0</td>\n",
       "      <td>293.0</td>\n",
       "      <td>2.0</td>\n",
       "      <td>289.0</td>\n",
       "      <td>13.0</td>\n",
       "    </tr>\n",
       "    <tr>\n",
       "      <td>22960</td>\n",
       "      <td>17</td>\n",
       "      <td>2300000.0</td>\n",
       "      <td>53.60</td>\n",
       "      <td>2018-10-18</td>\n",
       "      <td>2</td>\n",
       "      <td>2.00</td>\n",
       "      <td>2.0</td>\n",
       "      <td>19.000000</td>\n",
       "      <td>1</td>\n",
       "      <td>NaN</td>\n",
       "      <td>...</td>\n",
       "      <td>10.00</td>\n",
       "      <td>NaN</td>\n",
       "      <td>Всеволожск</td>\n",
       "      <td>NaN</td>\n",
       "      <td>NaN</td>\n",
       "      <td>NaN</td>\n",
       "      <td>NaN</td>\n",
       "      <td>NaN</td>\n",
       "      <td>NaN</td>\n",
       "      <td>NaN</td>\n",
       "    </tr>\n",
       "    <tr>\n",
       "      <td>23498</td>\n",
       "      <td>7</td>\n",
       "      <td>1600000.0</td>\n",
       "      <td>54.00</td>\n",
       "      <td>2016-12-26</td>\n",
       "      <td>2</td>\n",
       "      <td>2.30</td>\n",
       "      <td>1.0</td>\n",
       "      <td>33.000000</td>\n",
       "      <td>1</td>\n",
       "      <td>False</td>\n",
       "      <td>...</td>\n",
       "      <td>3.50</td>\n",
       "      <td>0.0</td>\n",
       "      <td>Высоцк</td>\n",
       "      <td>NaN</td>\n",
       "      <td>NaN</td>\n",
       "      <td>NaN</td>\n",
       "      <td>NaN</td>\n",
       "      <td>NaN</td>\n",
       "      <td>NaN</td>\n",
       "      <td>281.0</td>\n",
       "    </tr>\n",
       "  </tbody>\n",
       "</table>\n",
       "<p>21 rows × 22 columns</p>\n",
       "</div>"
      ],
      "text/plain": [
       "       total_images  last_price  total_area first_day_exposition  rooms  \\\n",
       "227              13   2200000.0       47.00           2018-01-12      3   \n",
       "552              11   2999000.0       33.50           2017-03-30      1   \n",
       "1582              4   4100000.0       45.60           2016-01-13      2   \n",
       "2572              4   2400000.0       62.00           2018-12-27      3   \n",
       "4212              1   2120000.0       35.43           2017-12-18      1   \n",
       "5498             17   2200000.0       56.00           2018-04-02      2   \n",
       "5712              5   1500000.0       42.80           2017-08-14      2   \n",
       "5850              9   1650000.0       35.50           2018-05-29      1   \n",
       "11352             4   3300000.0       36.00           2017-06-18      1   \n",
       "12755             2   1400000.0       22.50           2017-09-21      1   \n",
       "16446             6  12300000.0       88.30           2019-03-12      3   \n",
       "16884             0   1500000.0       33.00           2018-10-03      1   \n",
       "16934             5   4100000.0       40.00           2017-10-17      1   \n",
       "17762            20   2300000.0       54.30           2018-06-28      3   \n",
       "17794             1   2300000.0       58.60           2016-05-12      3   \n",
       "19098             7   2700000.0       56.00           2018-02-04      3   \n",
       "19329             5   1700000.0       40.00           2018-07-15      2   \n",
       "20520             9   3600000.0       38.00           2018-07-05      1   \n",
       "22590            16   6000000.0       55.00           2018-10-31      2   \n",
       "22960            17   2300000.0       53.60           2018-10-18      2   \n",
       "23498             7   1600000.0       54.00           2016-12-26      2   \n",
       "\n",
       "       ceiling_height  floors_total  living_area  floor is_apartment  ...  \\\n",
       "227              2.34           5.0          NaN      1          NaN  ...   \n",
       "552              2.00          15.0    17.500000      6          NaN  ...   \n",
       "1582             2.30           9.0    28.400000      8        False  ...   \n",
       "2572             2.00           5.0    40.000000      4          NaN  ...   \n",
       "4212             2.00          18.0    16.600000      9          NaN  ...   \n",
       "5498             2.30           5.0    45.000000      1          NaN  ...   \n",
       "5712             1.20           2.0    27.500000      1          NaN  ...   \n",
       "5850             2.00           5.0          NaN      5          NaN  ...   \n",
       "11352            2.00          17.0    15.200000     12          NaN  ...   \n",
       "12755            2.20           2.0    18.000000      2          NaN  ...   \n",
       "16446            2.00           5.0    63.900000      2          NaN  ...   \n",
       "16884            2.00           5.0    20.000000      5        False  ...   \n",
       "16934            1.75          37.0    17.400000      5          NaN  ...   \n",
       "17762            2.30           5.0    39.000000      2          NaN  ...   \n",
       "17794            2.25           5.0    44.100002      3        False  ...   \n",
       "19098            2.00           5.0    46.000000      1          NaN  ...   \n",
       "19329            2.00           9.0          NaN      8          NaN  ...   \n",
       "20520            2.00          12.0    15.000000      9          NaN  ...   \n",
       "22590            1.00          12.0    32.400000      7          NaN  ...   \n",
       "22960            2.00           2.0    19.000000      1          NaN  ...   \n",
       "23498            2.30           1.0    33.000000      1        False  ...   \n",
       "\n",
       "       kitchen_area  balcony          locality_name  airports_nearest  \\\n",
       "227             NaN      NaN     посёлок Новый Свет               NaN   \n",
       "552            6.50      NaN        Санкт-Петербург           33972.0   \n",
       "1582           7.00      2.0        Санкт-Петербург           49152.0   \n",
       "2572           6.00      1.0                   Луга               NaN   \n",
       "4212           8.80      2.0                  Тосно               NaN   \n",
       "5498           9.00      2.0              Сясьстрой               NaN   \n",
       "5712           5.20      NaN  городской посёлок Мга               NaN   \n",
       "5850            NaN      NaN                   Луга               NaN   \n",
       "11352         10.10      0.0   посёлок Металлострой           25268.0   \n",
       "12755          4.50      1.0           село Копорье               NaN   \n",
       "16446         12.00      NaN        Санкт-Петербург           38415.0   \n",
       "16884          6.00      NaN                 Выборг               NaN   \n",
       "16934          8.34      NaN        Санкт-Петербург           18732.0   \n",
       "17762          5.30      1.0       деревня Бегуницы               NaN   \n",
       "17794          5.50      1.0       деревня Бегуницы               NaN   \n",
       "19098          6.00      NaN                 Выборг               NaN   \n",
       "19329           NaN      NaN           Сосновый Бор               NaN   \n",
       "20520         11.80      1.0                Кудрово               NaN   \n",
       "22590         10.00      NaN        Санкт-Петербург           33053.0   \n",
       "22960         10.00      NaN             Всеволожск               NaN   \n",
       "23498          3.50      0.0                 Высоцк               NaN   \n",
       "\n",
       "      cityCenters_nearest  parks_around3000  parks_nearest  ponds_around3000  \\\n",
       "227                   NaN               NaN            NaN               NaN   \n",
       "552               11746.0               1.0          520.0               1.0   \n",
       "1582              14977.0               1.0          489.0               1.0   \n",
       "2572                  NaN               NaN            NaN               NaN   \n",
       "4212                  NaN               NaN            NaN               NaN   \n",
       "5498                  NaN               NaN            NaN               NaN   \n",
       "5712                  NaN               NaN            NaN               NaN   \n",
       "5850                  NaN               NaN            NaN               NaN   \n",
       "11352             26980.0               0.0            NaN               0.0   \n",
       "12755                 NaN               NaN            NaN               NaN   \n",
       "16446              7675.0               1.0          568.0               1.0   \n",
       "16884                 NaN               NaN            NaN               NaN   \n",
       "16934             20444.0               0.0            NaN               3.0   \n",
       "17762                 NaN               NaN            NaN               NaN   \n",
       "17794                 NaN               NaN            NaN               NaN   \n",
       "19098                 NaN               NaN            NaN               NaN   \n",
       "19329                 NaN               NaN            NaN               NaN   \n",
       "20520                 NaN               NaN            NaN               NaN   \n",
       "22590             14217.0               2.0          293.0               2.0   \n",
       "22960                 NaN               NaN            NaN               NaN   \n",
       "23498                 NaN               NaN            NaN               NaN   \n",
       "\n",
       "       ponds_nearest  days_exposition  \n",
       "227              NaN             45.0  \n",
       "552            949.0            270.0  \n",
       "1582           525.0            329.0  \n",
       "2572             NaN              NaN  \n",
       "4212             NaN             36.0  \n",
       "5498             NaN             55.0  \n",
       "5712             NaN            248.0  \n",
       "5850             NaN            100.0  \n",
       "11352            NaN             53.0  \n",
       "12755            NaN             45.0  \n",
       "16446          154.0              NaN  \n",
       "16884            NaN              6.0  \n",
       "16934           80.0             71.0  \n",
       "17762            NaN            189.0  \n",
       "17794            NaN             45.0  \n",
       "19098            NaN            282.0  \n",
       "19329            NaN             45.0  \n",
       "20520            NaN             62.0  \n",
       "22590          289.0             13.0  \n",
       "22960            NaN              NaN  \n",
       "23498            NaN            281.0  \n",
       "\n",
       "[21 rows x 22 columns]"
      ]
     },
     "execution_count": 14,
     "metadata": {},
     "output_type": "execute_result"
    }
   ],
   "source": [
    "df[df['ceiling_height'] < 2.4]"
   ]
  },
  {
   "cell_type": "markdown",
   "metadata": {},
   "source": [
    "21 строка. Стоит скорректировать данные, так как по СНиП 2.08.01-89 высота потолков не может быть ниже 2.4 метра. Теперь посмотрим на объявления с высотой более 6 метров:"
   ]
  },
  {
   "cell_type": "code",
   "execution_count": 15,
   "metadata": {},
   "outputs": [
    {
     "data": {
      "text/html": [
       "<div>\n",
       "<style scoped>\n",
       "    .dataframe tbody tr th:only-of-type {\n",
       "        vertical-align: middle;\n",
       "    }\n",
       "\n",
       "    .dataframe tbody tr th {\n",
       "        vertical-align: top;\n",
       "    }\n",
       "\n",
       "    .dataframe thead th {\n",
       "        text-align: right;\n",
       "    }\n",
       "</style>\n",
       "<table border=\"1\" class=\"dataframe\">\n",
       "  <thead>\n",
       "    <tr style=\"text-align: right;\">\n",
       "      <th></th>\n",
       "      <th>total_images</th>\n",
       "      <th>last_price</th>\n",
       "      <th>total_area</th>\n",
       "      <th>first_day_exposition</th>\n",
       "      <th>rooms</th>\n",
       "      <th>ceiling_height</th>\n",
       "      <th>floors_total</th>\n",
       "      <th>living_area</th>\n",
       "      <th>floor</th>\n",
       "      <th>is_apartment</th>\n",
       "      <th>...</th>\n",
       "      <th>kitchen_area</th>\n",
       "      <th>balcony</th>\n",
       "      <th>locality_name</th>\n",
       "      <th>airports_nearest</th>\n",
       "      <th>cityCenters_nearest</th>\n",
       "      <th>parks_around3000</th>\n",
       "      <th>parks_nearest</th>\n",
       "      <th>ponds_around3000</th>\n",
       "      <th>ponds_nearest</th>\n",
       "      <th>days_exposition</th>\n",
       "    </tr>\n",
       "  </thead>\n",
       "  <tbody>\n",
       "    <tr>\n",
       "      <td>355</td>\n",
       "      <td>17</td>\n",
       "      <td>3600000.0</td>\n",
       "      <td>55.2</td>\n",
       "      <td>2018-07-12</td>\n",
       "      <td>2</td>\n",
       "      <td>25.0</td>\n",
       "      <td>5.0</td>\n",
       "      <td>32.0</td>\n",
       "      <td>2</td>\n",
       "      <td>False</td>\n",
       "      <td>...</td>\n",
       "      <td>NaN</td>\n",
       "      <td>2.0</td>\n",
       "      <td>Гатчина</td>\n",
       "      <td>NaN</td>\n",
       "      <td>NaN</td>\n",
       "      <td>NaN</td>\n",
       "      <td>NaN</td>\n",
       "      <td>NaN</td>\n",
       "      <td>NaN</td>\n",
       "      <td>259.0</td>\n",
       "    </tr>\n",
       "    <tr>\n",
       "      <td>3148</td>\n",
       "      <td>14</td>\n",
       "      <td>2900000.0</td>\n",
       "      <td>75.0</td>\n",
       "      <td>2018-11-12</td>\n",
       "      <td>3</td>\n",
       "      <td>32.0</td>\n",
       "      <td>3.0</td>\n",
       "      <td>53.0</td>\n",
       "      <td>2</td>\n",
       "      <td>NaN</td>\n",
       "      <td>...</td>\n",
       "      <td>8.0</td>\n",
       "      <td>NaN</td>\n",
       "      <td>Волхов</td>\n",
       "      <td>NaN</td>\n",
       "      <td>NaN</td>\n",
       "      <td>NaN</td>\n",
       "      <td>NaN</td>\n",
       "      <td>NaN</td>\n",
       "      <td>NaN</td>\n",
       "      <td>NaN</td>\n",
       "    </tr>\n",
       "    <tr>\n",
       "      <td>3474</td>\n",
       "      <td>3</td>\n",
       "      <td>1400000.0</td>\n",
       "      <td>30.0</td>\n",
       "      <td>2018-03-16</td>\n",
       "      <td>1</td>\n",
       "      <td>8.0</td>\n",
       "      <td>5.0</td>\n",
       "      <td>15.3</td>\n",
       "      <td>2</td>\n",
       "      <td>False</td>\n",
       "      <td>...</td>\n",
       "      <td>7.3</td>\n",
       "      <td>NaN</td>\n",
       "      <td>деревня Нурма</td>\n",
       "      <td>NaN</td>\n",
       "      <td>NaN</td>\n",
       "      <td>NaN</td>\n",
       "      <td>NaN</td>\n",
       "      <td>NaN</td>\n",
       "      <td>NaN</td>\n",
       "      <td>125.0</td>\n",
       "    </tr>\n",
       "    <tr>\n",
       "      <td>4643</td>\n",
       "      <td>0</td>\n",
       "      <td>4300000.0</td>\n",
       "      <td>45.0</td>\n",
       "      <td>2018-02-01</td>\n",
       "      <td>2</td>\n",
       "      <td>25.0</td>\n",
       "      <td>9.0</td>\n",
       "      <td>30.0</td>\n",
       "      <td>2</td>\n",
       "      <td>NaN</td>\n",
       "      <td>...</td>\n",
       "      <td>7.0</td>\n",
       "      <td>1.0</td>\n",
       "      <td>Санкт-Петербург</td>\n",
       "      <td>12016.0</td>\n",
       "      <td>13256.0</td>\n",
       "      <td>1.0</td>\n",
       "      <td>658.0</td>\n",
       "      <td>1.0</td>\n",
       "      <td>331.0</td>\n",
       "      <td>181.0</td>\n",
       "    </tr>\n",
       "    <tr>\n",
       "      <td>4876</td>\n",
       "      <td>7</td>\n",
       "      <td>3000000.0</td>\n",
       "      <td>25.0</td>\n",
       "      <td>2017-09-27</td>\n",
       "      <td>0</td>\n",
       "      <td>27.0</td>\n",
       "      <td>25.0</td>\n",
       "      <td>17.0</td>\n",
       "      <td>17</td>\n",
       "      <td>NaN</td>\n",
       "      <td>...</td>\n",
       "      <td>NaN</td>\n",
       "      <td>2.0</td>\n",
       "      <td>посёлок Мурино</td>\n",
       "      <td>NaN</td>\n",
       "      <td>NaN</td>\n",
       "      <td>NaN</td>\n",
       "      <td>NaN</td>\n",
       "      <td>NaN</td>\n",
       "      <td>NaN</td>\n",
       "      <td>28.0</td>\n",
       "    </tr>\n",
       "    <tr>\n",
       "      <td>5076</td>\n",
       "      <td>0</td>\n",
       "      <td>3850000.0</td>\n",
       "      <td>30.5</td>\n",
       "      <td>2018-10-03</td>\n",
       "      <td>1</td>\n",
       "      <td>24.0</td>\n",
       "      <td>5.0</td>\n",
       "      <td>19.5</td>\n",
       "      <td>1</td>\n",
       "      <td>True</td>\n",
       "      <td>...</td>\n",
       "      <td>5.5</td>\n",
       "      <td>NaN</td>\n",
       "      <td>Санкт-Петербург</td>\n",
       "      <td>29686.0</td>\n",
       "      <td>8389.0</td>\n",
       "      <td>3.0</td>\n",
       "      <td>397.0</td>\n",
       "      <td>1.0</td>\n",
       "      <td>578.0</td>\n",
       "      <td>7.0</td>\n",
       "    </tr>\n",
       "    <tr>\n",
       "      <td>5246</td>\n",
       "      <td>0</td>\n",
       "      <td>2500000.0</td>\n",
       "      <td>54.0</td>\n",
       "      <td>2017-10-13</td>\n",
       "      <td>2</td>\n",
       "      <td>27.0</td>\n",
       "      <td>5.0</td>\n",
       "      <td>30.0</td>\n",
       "      <td>3</td>\n",
       "      <td>NaN</td>\n",
       "      <td>...</td>\n",
       "      <td>9.0</td>\n",
       "      <td>2.0</td>\n",
       "      <td>деревня Мины</td>\n",
       "      <td>NaN</td>\n",
       "      <td>NaN</td>\n",
       "      <td>NaN</td>\n",
       "      <td>NaN</td>\n",
       "      <td>NaN</td>\n",
       "      <td>NaN</td>\n",
       "      <td>540.0</td>\n",
       "    </tr>\n",
       "    <tr>\n",
       "      <td>5669</td>\n",
       "      <td>4</td>\n",
       "      <td>4400000.0</td>\n",
       "      <td>50.0</td>\n",
       "      <td>2017-08-08</td>\n",
       "      <td>2</td>\n",
       "      <td>26.0</td>\n",
       "      <td>9.0</td>\n",
       "      <td>21.3</td>\n",
       "      <td>3</td>\n",
       "      <td>NaN</td>\n",
       "      <td>...</td>\n",
       "      <td>7.0</td>\n",
       "      <td>2.0</td>\n",
       "      <td>Санкт-Петербург</td>\n",
       "      <td>28981.0</td>\n",
       "      <td>10912.0</td>\n",
       "      <td>1.0</td>\n",
       "      <td>305.0</td>\n",
       "      <td>0.0</td>\n",
       "      <td>NaN</td>\n",
       "      <td>267.0</td>\n",
       "    </tr>\n",
       "    <tr>\n",
       "      <td>5807</td>\n",
       "      <td>17</td>\n",
       "      <td>8150000.0</td>\n",
       "      <td>80.0</td>\n",
       "      <td>2019-01-09</td>\n",
       "      <td>2</td>\n",
       "      <td>27.0</td>\n",
       "      <td>36.0</td>\n",
       "      <td>41.0</td>\n",
       "      <td>13</td>\n",
       "      <td>NaN</td>\n",
       "      <td>...</td>\n",
       "      <td>12.0</td>\n",
       "      <td>5.0</td>\n",
       "      <td>Санкт-Петербург</td>\n",
       "      <td>18732.0</td>\n",
       "      <td>20444.0</td>\n",
       "      <td>0.0</td>\n",
       "      <td>NaN</td>\n",
       "      <td>3.0</td>\n",
       "      <td>80.0</td>\n",
       "      <td>38.0</td>\n",
       "    </tr>\n",
       "    <tr>\n",
       "      <td>5863</td>\n",
       "      <td>20</td>\n",
       "      <td>5650000.0</td>\n",
       "      <td>45.0</td>\n",
       "      <td>2018-08-15</td>\n",
       "      <td>1</td>\n",
       "      <td>8.3</td>\n",
       "      <td>16.0</td>\n",
       "      <td>19.3</td>\n",
       "      <td>14</td>\n",
       "      <td>NaN</td>\n",
       "      <td>...</td>\n",
       "      <td>8.3</td>\n",
       "      <td>1.0</td>\n",
       "      <td>Санкт-Петербург</td>\n",
       "      <td>13069.0</td>\n",
       "      <td>10763.0</td>\n",
       "      <td>0.0</td>\n",
       "      <td>NaN</td>\n",
       "      <td>1.0</td>\n",
       "      <td>613.0</td>\n",
       "      <td>14.0</td>\n",
       "    </tr>\n",
       "    <tr>\n",
       "      <td>6246</td>\n",
       "      <td>6</td>\n",
       "      <td>3300000.0</td>\n",
       "      <td>44.4</td>\n",
       "      <td>2019-03-25</td>\n",
       "      <td>2</td>\n",
       "      <td>25.0</td>\n",
       "      <td>5.0</td>\n",
       "      <td>31.3</td>\n",
       "      <td>5</td>\n",
       "      <td>NaN</td>\n",
       "      <td>...</td>\n",
       "      <td>5.7</td>\n",
       "      <td>NaN</td>\n",
       "      <td>Кронштадт</td>\n",
       "      <td>68923.0</td>\n",
       "      <td>50649.0</td>\n",
       "      <td>1.0</td>\n",
       "      <td>417.0</td>\n",
       "      <td>2.0</td>\n",
       "      <td>73.0</td>\n",
       "      <td>NaN</td>\n",
       "    </tr>\n",
       "    <tr>\n",
       "      <td>9379</td>\n",
       "      <td>5</td>\n",
       "      <td>3950000.0</td>\n",
       "      <td>42.0</td>\n",
       "      <td>2017-03-26</td>\n",
       "      <td>3</td>\n",
       "      <td>25.0</td>\n",
       "      <td>5.0</td>\n",
       "      <td>30.0</td>\n",
       "      <td>2</td>\n",
       "      <td>NaN</td>\n",
       "      <td>...</td>\n",
       "      <td>5.2</td>\n",
       "      <td>NaN</td>\n",
       "      <td>Санкт-Петербург</td>\n",
       "      <td>11647.0</td>\n",
       "      <td>13581.0</td>\n",
       "      <td>0.0</td>\n",
       "      <td>NaN</td>\n",
       "      <td>0.0</td>\n",
       "      <td>NaN</td>\n",
       "      <td>NaN</td>\n",
       "    </tr>\n",
       "    <tr>\n",
       "      <td>10773</td>\n",
       "      <td>8</td>\n",
       "      <td>3800000.0</td>\n",
       "      <td>58.0</td>\n",
       "      <td>2017-10-13</td>\n",
       "      <td>2</td>\n",
       "      <td>27.0</td>\n",
       "      <td>10.0</td>\n",
       "      <td>30.1</td>\n",
       "      <td>3</td>\n",
       "      <td>False</td>\n",
       "      <td>...</td>\n",
       "      <td>8.1</td>\n",
       "      <td>2.0</td>\n",
       "      <td>посёлок Мурино</td>\n",
       "      <td>NaN</td>\n",
       "      <td>NaN</td>\n",
       "      <td>NaN</td>\n",
       "      <td>NaN</td>\n",
       "      <td>NaN</td>\n",
       "      <td>NaN</td>\n",
       "      <td>71.0</td>\n",
       "    </tr>\n",
       "    <tr>\n",
       "      <td>11285</td>\n",
       "      <td>0</td>\n",
       "      <td>1950000.0</td>\n",
       "      <td>37.0</td>\n",
       "      <td>2019-03-20</td>\n",
       "      <td>1</td>\n",
       "      <td>25.0</td>\n",
       "      <td>5.0</td>\n",
       "      <td>17.0</td>\n",
       "      <td>4</td>\n",
       "      <td>False</td>\n",
       "      <td>...</td>\n",
       "      <td>9.0</td>\n",
       "      <td>2.0</td>\n",
       "      <td>Луга</td>\n",
       "      <td>NaN</td>\n",
       "      <td>NaN</td>\n",
       "      <td>NaN</td>\n",
       "      <td>NaN</td>\n",
       "      <td>NaN</td>\n",
       "      <td>NaN</td>\n",
       "      <td>18.0</td>\n",
       "    </tr>\n",
       "    <tr>\n",
       "      <td>14382</td>\n",
       "      <td>9</td>\n",
       "      <td>1700000.0</td>\n",
       "      <td>35.0</td>\n",
       "      <td>2015-12-04</td>\n",
       "      <td>1</td>\n",
       "      <td>25.0</td>\n",
       "      <td>5.0</td>\n",
       "      <td>20.0</td>\n",
       "      <td>2</td>\n",
       "      <td>False</td>\n",
       "      <td>...</td>\n",
       "      <td>8.0</td>\n",
       "      <td>1.0</td>\n",
       "      <td>поселок Новый Свет</td>\n",
       "      <td>NaN</td>\n",
       "      <td>NaN</td>\n",
       "      <td>NaN</td>\n",
       "      <td>NaN</td>\n",
       "      <td>NaN</td>\n",
       "      <td>NaN</td>\n",
       "      <td>206.0</td>\n",
       "    </tr>\n",
       "    <tr>\n",
       "      <td>15061</td>\n",
       "      <td>19</td>\n",
       "      <td>5600000.0</td>\n",
       "      <td>56.4</td>\n",
       "      <td>2018-05-11</td>\n",
       "      <td>2</td>\n",
       "      <td>14.0</td>\n",
       "      <td>14.0</td>\n",
       "      <td>32.4</td>\n",
       "      <td>5</td>\n",
       "      <td>NaN</td>\n",
       "      <td>...</td>\n",
       "      <td>9.1</td>\n",
       "      <td>2.0</td>\n",
       "      <td>Санкт-Петербург</td>\n",
       "      <td>14814.0</td>\n",
       "      <td>13610.0</td>\n",
       "      <td>0.0</td>\n",
       "      <td>NaN</td>\n",
       "      <td>0.0</td>\n",
       "      <td>NaN</td>\n",
       "      <td>315.0</td>\n",
       "    </tr>\n",
       "    <tr>\n",
       "      <td>15743</td>\n",
       "      <td>14</td>\n",
       "      <td>5600000.0</td>\n",
       "      <td>67.0</td>\n",
       "      <td>2016-11-11</td>\n",
       "      <td>3</td>\n",
       "      <td>8.0</td>\n",
       "      <td>16.0</td>\n",
       "      <td>41.0</td>\n",
       "      <td>1</td>\n",
       "      <td>NaN</td>\n",
       "      <td>...</td>\n",
       "      <td>8.0</td>\n",
       "      <td>NaN</td>\n",
       "      <td>Санкт-Петербург</td>\n",
       "      <td>32691.0</td>\n",
       "      <td>11035.0</td>\n",
       "      <td>1.0</td>\n",
       "      <td>723.0</td>\n",
       "      <td>0.0</td>\n",
       "      <td>NaN</td>\n",
       "      <td>474.0</td>\n",
       "    </tr>\n",
       "    <tr>\n",
       "      <td>17442</td>\n",
       "      <td>0</td>\n",
       "      <td>5350000.0</td>\n",
       "      <td>54.0</td>\n",
       "      <td>2015-06-16</td>\n",
       "      <td>2</td>\n",
       "      <td>8.0</td>\n",
       "      <td>5.0</td>\n",
       "      <td>29.0</td>\n",
       "      <td>2</td>\n",
       "      <td>NaN</td>\n",
       "      <td>...</td>\n",
       "      <td>NaN</td>\n",
       "      <td>1.0</td>\n",
       "      <td>Красное Село</td>\n",
       "      <td>24638.0</td>\n",
       "      <td>28062.0</td>\n",
       "      <td>0.0</td>\n",
       "      <td>NaN</td>\n",
       "      <td>0.0</td>\n",
       "      <td>NaN</td>\n",
       "      <td>469.0</td>\n",
       "    </tr>\n",
       "    <tr>\n",
       "      <td>17496</td>\n",
       "      <td>15</td>\n",
       "      <td>6700000.0</td>\n",
       "      <td>92.9</td>\n",
       "      <td>2019-02-19</td>\n",
       "      <td>3</td>\n",
       "      <td>20.0</td>\n",
       "      <td>17.0</td>\n",
       "      <td>53.2</td>\n",
       "      <td>14</td>\n",
       "      <td>NaN</td>\n",
       "      <td>...</td>\n",
       "      <td>12.0</td>\n",
       "      <td>5.0</td>\n",
       "      <td>Санкт-Петербург</td>\n",
       "      <td>16295.0</td>\n",
       "      <td>15092.0</td>\n",
       "      <td>1.0</td>\n",
       "      <td>967.0</td>\n",
       "      <td>0.0</td>\n",
       "      <td>NaN</td>\n",
       "      <td>NaN</td>\n",
       "    </tr>\n",
       "    <tr>\n",
       "      <td>17857</td>\n",
       "      <td>1</td>\n",
       "      <td>3900000.0</td>\n",
       "      <td>56.0</td>\n",
       "      <td>2017-12-22</td>\n",
       "      <td>3</td>\n",
       "      <td>27.0</td>\n",
       "      <td>5.0</td>\n",
       "      <td>33.0</td>\n",
       "      <td>4</td>\n",
       "      <td>False</td>\n",
       "      <td>...</td>\n",
       "      <td>NaN</td>\n",
       "      <td>NaN</td>\n",
       "      <td>Санкт-Петербург</td>\n",
       "      <td>41030.0</td>\n",
       "      <td>15543.0</td>\n",
       "      <td>0.0</td>\n",
       "      <td>NaN</td>\n",
       "      <td>0.0</td>\n",
       "      <td>NaN</td>\n",
       "      <td>73.0</td>\n",
       "    </tr>\n",
       "    <tr>\n",
       "      <td>18545</td>\n",
       "      <td>6</td>\n",
       "      <td>3750000.0</td>\n",
       "      <td>43.0</td>\n",
       "      <td>2019-03-18</td>\n",
       "      <td>2</td>\n",
       "      <td>25.0</td>\n",
       "      <td>5.0</td>\n",
       "      <td>29.0</td>\n",
       "      <td>3</td>\n",
       "      <td>False</td>\n",
       "      <td>...</td>\n",
       "      <td>NaN</td>\n",
       "      <td>NaN</td>\n",
       "      <td>Санкт-Петербург</td>\n",
       "      <td>27054.0</td>\n",
       "      <td>8033.0</td>\n",
       "      <td>1.0</td>\n",
       "      <td>540.0</td>\n",
       "      <td>0.0</td>\n",
       "      <td>NaN</td>\n",
       "      <td>12.0</td>\n",
       "    </tr>\n",
       "    <tr>\n",
       "      <td>20478</td>\n",
       "      <td>11</td>\n",
       "      <td>8000000.0</td>\n",
       "      <td>45.0</td>\n",
       "      <td>2017-07-18</td>\n",
       "      <td>1</td>\n",
       "      <td>27.0</td>\n",
       "      <td>4.0</td>\n",
       "      <td>22.0</td>\n",
       "      <td>2</td>\n",
       "      <td>NaN</td>\n",
       "      <td>...</td>\n",
       "      <td>10.0</td>\n",
       "      <td>1.0</td>\n",
       "      <td>Санкт-Петербург</td>\n",
       "      <td>18975.0</td>\n",
       "      <td>3246.0</td>\n",
       "      <td>0.0</td>\n",
       "      <td>NaN</td>\n",
       "      <td>3.0</td>\n",
       "      <td>449.0</td>\n",
       "      <td>429.0</td>\n",
       "    </tr>\n",
       "    <tr>\n",
       "      <td>20507</td>\n",
       "      <td>12</td>\n",
       "      <td>5950000.0</td>\n",
       "      <td>60.0</td>\n",
       "      <td>2018-02-19</td>\n",
       "      <td>2</td>\n",
       "      <td>22.6</td>\n",
       "      <td>14.0</td>\n",
       "      <td>35.0</td>\n",
       "      <td>11</td>\n",
       "      <td>NaN</td>\n",
       "      <td>...</td>\n",
       "      <td>13.0</td>\n",
       "      <td>1.0</td>\n",
       "      <td>Санкт-Петербург</td>\n",
       "      <td>27028.0</td>\n",
       "      <td>12570.0</td>\n",
       "      <td>0.0</td>\n",
       "      <td>NaN</td>\n",
       "      <td>0.0</td>\n",
       "      <td>NaN</td>\n",
       "      <td>40.0</td>\n",
       "    </tr>\n",
       "    <tr>\n",
       "      <td>21377</td>\n",
       "      <td>19</td>\n",
       "      <td>4900000.0</td>\n",
       "      <td>42.0</td>\n",
       "      <td>2017-04-18</td>\n",
       "      <td>1</td>\n",
       "      <td>27.5</td>\n",
       "      <td>24.0</td>\n",
       "      <td>37.7</td>\n",
       "      <td>19</td>\n",
       "      <td>False</td>\n",
       "      <td>...</td>\n",
       "      <td>11.0</td>\n",
       "      <td>2.0</td>\n",
       "      <td>Санкт-Петербург</td>\n",
       "      <td>42742.0</td>\n",
       "      <td>9760.0</td>\n",
       "      <td>0.0</td>\n",
       "      <td>NaN</td>\n",
       "      <td>0.0</td>\n",
       "      <td>NaN</td>\n",
       "      <td>61.0</td>\n",
       "    </tr>\n",
       "    <tr>\n",
       "      <td>21824</td>\n",
       "      <td>20</td>\n",
       "      <td>2450000.0</td>\n",
       "      <td>44.0</td>\n",
       "      <td>2019-02-12</td>\n",
       "      <td>2</td>\n",
       "      <td>27.0</td>\n",
       "      <td>2.0</td>\n",
       "      <td>38.0</td>\n",
       "      <td>2</td>\n",
       "      <td>False</td>\n",
       "      <td>...</td>\n",
       "      <td>8.6</td>\n",
       "      <td>2.0</td>\n",
       "      <td>городской поселок Большая Ижора</td>\n",
       "      <td>NaN</td>\n",
       "      <td>NaN</td>\n",
       "      <td>NaN</td>\n",
       "      <td>NaN</td>\n",
       "      <td>NaN</td>\n",
       "      <td>NaN</td>\n",
       "      <td>NaN</td>\n",
       "    </tr>\n",
       "    <tr>\n",
       "      <td>22309</td>\n",
       "      <td>20</td>\n",
       "      <td>5300000.0</td>\n",
       "      <td>45.0</td>\n",
       "      <td>2017-09-30</td>\n",
       "      <td>1</td>\n",
       "      <td>10.3</td>\n",
       "      <td>16.0</td>\n",
       "      <td>15.5</td>\n",
       "      <td>15</td>\n",
       "      <td>NaN</td>\n",
       "      <td>...</td>\n",
       "      <td>NaN</td>\n",
       "      <td>NaN</td>\n",
       "      <td>Санкт-Петербург</td>\n",
       "      <td>36353.0</td>\n",
       "      <td>11936.0</td>\n",
       "      <td>2.0</td>\n",
       "      <td>440.0</td>\n",
       "      <td>2.0</td>\n",
       "      <td>450.0</td>\n",
       "      <td>136.0</td>\n",
       "    </tr>\n",
       "    <tr>\n",
       "      <td>22336</td>\n",
       "      <td>19</td>\n",
       "      <td>9999000.0</td>\n",
       "      <td>92.4</td>\n",
       "      <td>2019-04-05</td>\n",
       "      <td>2</td>\n",
       "      <td>32.0</td>\n",
       "      <td>6.0</td>\n",
       "      <td>55.5</td>\n",
       "      <td>5</td>\n",
       "      <td>False</td>\n",
       "      <td>...</td>\n",
       "      <td>16.5</td>\n",
       "      <td>4.0</td>\n",
       "      <td>Санкт-Петербург</td>\n",
       "      <td>18838.0</td>\n",
       "      <td>3506.0</td>\n",
       "      <td>0.0</td>\n",
       "      <td>NaN</td>\n",
       "      <td>3.0</td>\n",
       "      <td>511.0</td>\n",
       "      <td>NaN</td>\n",
       "    </tr>\n",
       "    <tr>\n",
       "      <td>22869</td>\n",
       "      <td>0</td>\n",
       "      <td>15000000.0</td>\n",
       "      <td>25.0</td>\n",
       "      <td>2018-07-25</td>\n",
       "      <td>1</td>\n",
       "      <td>100.0</td>\n",
       "      <td>5.0</td>\n",
       "      <td>14.0</td>\n",
       "      <td>5</td>\n",
       "      <td>True</td>\n",
       "      <td>...</td>\n",
       "      <td>11.0</td>\n",
       "      <td>5.0</td>\n",
       "      <td>Санкт-Петербург</td>\n",
       "      <td>34963.0</td>\n",
       "      <td>8283.0</td>\n",
       "      <td>1.0</td>\n",
       "      <td>223.0</td>\n",
       "      <td>3.0</td>\n",
       "      <td>30.0</td>\n",
       "      <td>19.0</td>\n",
       "    </tr>\n",
       "    <tr>\n",
       "      <td>22938</td>\n",
       "      <td>14</td>\n",
       "      <td>4000000.0</td>\n",
       "      <td>98.0</td>\n",
       "      <td>2018-03-15</td>\n",
       "      <td>4</td>\n",
       "      <td>27.0</td>\n",
       "      <td>2.0</td>\n",
       "      <td>73.0</td>\n",
       "      <td>2</td>\n",
       "      <td>True</td>\n",
       "      <td>...</td>\n",
       "      <td>9.0</td>\n",
       "      <td>1.0</td>\n",
       "      <td>деревня Нижняя</td>\n",
       "      <td>NaN</td>\n",
       "      <td>NaN</td>\n",
       "      <td>NaN</td>\n",
       "      <td>NaN</td>\n",
       "      <td>NaN</td>\n",
       "      <td>NaN</td>\n",
       "      <td>27.0</td>\n",
       "    </tr>\n",
       "  </tbody>\n",
       "</table>\n",
       "<p>29 rows × 22 columns</p>\n",
       "</div>"
      ],
      "text/plain": [
       "       total_images  last_price  total_area first_day_exposition  rooms  \\\n",
       "355              17   3600000.0        55.2           2018-07-12      2   \n",
       "3148             14   2900000.0        75.0           2018-11-12      3   \n",
       "3474              3   1400000.0        30.0           2018-03-16      1   \n",
       "4643              0   4300000.0        45.0           2018-02-01      2   \n",
       "4876              7   3000000.0        25.0           2017-09-27      0   \n",
       "5076              0   3850000.0        30.5           2018-10-03      1   \n",
       "5246              0   2500000.0        54.0           2017-10-13      2   \n",
       "5669              4   4400000.0        50.0           2017-08-08      2   \n",
       "5807             17   8150000.0        80.0           2019-01-09      2   \n",
       "5863             20   5650000.0        45.0           2018-08-15      1   \n",
       "6246              6   3300000.0        44.4           2019-03-25      2   \n",
       "9379              5   3950000.0        42.0           2017-03-26      3   \n",
       "10773             8   3800000.0        58.0           2017-10-13      2   \n",
       "11285             0   1950000.0        37.0           2019-03-20      1   \n",
       "14382             9   1700000.0        35.0           2015-12-04      1   \n",
       "15061            19   5600000.0        56.4           2018-05-11      2   \n",
       "15743            14   5600000.0        67.0           2016-11-11      3   \n",
       "17442             0   5350000.0        54.0           2015-06-16      2   \n",
       "17496            15   6700000.0        92.9           2019-02-19      3   \n",
       "17857             1   3900000.0        56.0           2017-12-22      3   \n",
       "18545             6   3750000.0        43.0           2019-03-18      2   \n",
       "20478            11   8000000.0        45.0           2017-07-18      1   \n",
       "20507            12   5950000.0        60.0           2018-02-19      2   \n",
       "21377            19   4900000.0        42.0           2017-04-18      1   \n",
       "21824            20   2450000.0        44.0           2019-02-12      2   \n",
       "22309            20   5300000.0        45.0           2017-09-30      1   \n",
       "22336            19   9999000.0        92.4           2019-04-05      2   \n",
       "22869             0  15000000.0        25.0           2018-07-25      1   \n",
       "22938            14   4000000.0        98.0           2018-03-15      4   \n",
       "\n",
       "       ceiling_height  floors_total  living_area  floor is_apartment  ...  \\\n",
       "355              25.0           5.0         32.0      2        False  ...   \n",
       "3148             32.0           3.0         53.0      2          NaN  ...   \n",
       "3474              8.0           5.0         15.3      2        False  ...   \n",
       "4643             25.0           9.0         30.0      2          NaN  ...   \n",
       "4876             27.0          25.0         17.0     17          NaN  ...   \n",
       "5076             24.0           5.0         19.5      1         True  ...   \n",
       "5246             27.0           5.0         30.0      3          NaN  ...   \n",
       "5669             26.0           9.0         21.3      3          NaN  ...   \n",
       "5807             27.0          36.0         41.0     13          NaN  ...   \n",
       "5863              8.3          16.0         19.3     14          NaN  ...   \n",
       "6246             25.0           5.0         31.3      5          NaN  ...   \n",
       "9379             25.0           5.0         30.0      2          NaN  ...   \n",
       "10773            27.0          10.0         30.1      3        False  ...   \n",
       "11285            25.0           5.0         17.0      4        False  ...   \n",
       "14382            25.0           5.0         20.0      2        False  ...   \n",
       "15061            14.0          14.0         32.4      5          NaN  ...   \n",
       "15743             8.0          16.0         41.0      1          NaN  ...   \n",
       "17442             8.0           5.0         29.0      2          NaN  ...   \n",
       "17496            20.0          17.0         53.2     14          NaN  ...   \n",
       "17857            27.0           5.0         33.0      4        False  ...   \n",
       "18545            25.0           5.0         29.0      3        False  ...   \n",
       "20478            27.0           4.0         22.0      2          NaN  ...   \n",
       "20507            22.6          14.0         35.0     11          NaN  ...   \n",
       "21377            27.5          24.0         37.7     19        False  ...   \n",
       "21824            27.0           2.0         38.0      2        False  ...   \n",
       "22309            10.3          16.0         15.5     15          NaN  ...   \n",
       "22336            32.0           6.0         55.5      5        False  ...   \n",
       "22869           100.0           5.0         14.0      5         True  ...   \n",
       "22938            27.0           2.0         73.0      2         True  ...   \n",
       "\n",
       "       kitchen_area  balcony                    locality_name  \\\n",
       "355             NaN      2.0                          Гатчина   \n",
       "3148            8.0      NaN                           Волхов   \n",
       "3474            7.3      NaN                    деревня Нурма   \n",
       "4643            7.0      1.0                  Санкт-Петербург   \n",
       "4876            NaN      2.0                   посёлок Мурино   \n",
       "5076            5.5      NaN                  Санкт-Петербург   \n",
       "5246            9.0      2.0                     деревня Мины   \n",
       "5669            7.0      2.0                  Санкт-Петербург   \n",
       "5807           12.0      5.0                  Санкт-Петербург   \n",
       "5863            8.3      1.0                  Санкт-Петербург   \n",
       "6246            5.7      NaN                        Кронштадт   \n",
       "9379            5.2      NaN                  Санкт-Петербург   \n",
       "10773           8.1      2.0                   посёлок Мурино   \n",
       "11285           9.0      2.0                             Луга   \n",
       "14382           8.0      1.0               поселок Новый Свет   \n",
       "15061           9.1      2.0                  Санкт-Петербург   \n",
       "15743           8.0      NaN                  Санкт-Петербург   \n",
       "17442           NaN      1.0                     Красное Село   \n",
       "17496          12.0      5.0                  Санкт-Петербург   \n",
       "17857           NaN      NaN                  Санкт-Петербург   \n",
       "18545           NaN      NaN                  Санкт-Петербург   \n",
       "20478          10.0      1.0                  Санкт-Петербург   \n",
       "20507          13.0      1.0                  Санкт-Петербург   \n",
       "21377          11.0      2.0                  Санкт-Петербург   \n",
       "21824           8.6      2.0  городской поселок Большая Ижора   \n",
       "22309           NaN      NaN                  Санкт-Петербург   \n",
       "22336          16.5      4.0                  Санкт-Петербург   \n",
       "22869          11.0      5.0                  Санкт-Петербург   \n",
       "22938           9.0      1.0                   деревня Нижняя   \n",
       "\n",
       "       airports_nearest cityCenters_nearest  parks_around3000  parks_nearest  \\\n",
       "355                 NaN                 NaN               NaN            NaN   \n",
       "3148                NaN                 NaN               NaN            NaN   \n",
       "3474                NaN                 NaN               NaN            NaN   \n",
       "4643            12016.0             13256.0               1.0          658.0   \n",
       "4876                NaN                 NaN               NaN            NaN   \n",
       "5076            29686.0              8389.0               3.0          397.0   \n",
       "5246                NaN                 NaN               NaN            NaN   \n",
       "5669            28981.0             10912.0               1.0          305.0   \n",
       "5807            18732.0             20444.0               0.0            NaN   \n",
       "5863            13069.0             10763.0               0.0            NaN   \n",
       "6246            68923.0             50649.0               1.0          417.0   \n",
       "9379            11647.0             13581.0               0.0            NaN   \n",
       "10773               NaN                 NaN               NaN            NaN   \n",
       "11285               NaN                 NaN               NaN            NaN   \n",
       "14382               NaN                 NaN               NaN            NaN   \n",
       "15061           14814.0             13610.0               0.0            NaN   \n",
       "15743           32691.0             11035.0               1.0          723.0   \n",
       "17442           24638.0             28062.0               0.0            NaN   \n",
       "17496           16295.0             15092.0               1.0          967.0   \n",
       "17857           41030.0             15543.0               0.0            NaN   \n",
       "18545           27054.0              8033.0               1.0          540.0   \n",
       "20478           18975.0              3246.0               0.0            NaN   \n",
       "20507           27028.0             12570.0               0.0            NaN   \n",
       "21377           42742.0              9760.0               0.0            NaN   \n",
       "21824               NaN                 NaN               NaN            NaN   \n",
       "22309           36353.0             11936.0               2.0          440.0   \n",
       "22336           18838.0              3506.0               0.0            NaN   \n",
       "22869           34963.0              8283.0               1.0          223.0   \n",
       "22938               NaN                 NaN               NaN            NaN   \n",
       "\n",
       "       ponds_around3000  ponds_nearest  days_exposition  \n",
       "355                 NaN            NaN            259.0  \n",
       "3148                NaN            NaN              NaN  \n",
       "3474                NaN            NaN            125.0  \n",
       "4643                1.0          331.0            181.0  \n",
       "4876                NaN            NaN             28.0  \n",
       "5076                1.0          578.0              7.0  \n",
       "5246                NaN            NaN            540.0  \n",
       "5669                0.0            NaN            267.0  \n",
       "5807                3.0           80.0             38.0  \n",
       "5863                1.0          613.0             14.0  \n",
       "6246                2.0           73.0              NaN  \n",
       "9379                0.0            NaN              NaN  \n",
       "10773               NaN            NaN             71.0  \n",
       "11285               NaN            NaN             18.0  \n",
       "14382               NaN            NaN            206.0  \n",
       "15061               0.0            NaN            315.0  \n",
       "15743               0.0            NaN            474.0  \n",
       "17442               0.0            NaN            469.0  \n",
       "17496               0.0            NaN              NaN  \n",
       "17857               0.0            NaN             73.0  \n",
       "18545               0.0            NaN             12.0  \n",
       "20478               3.0          449.0            429.0  \n",
       "20507               0.0            NaN             40.0  \n",
       "21377               0.0            NaN             61.0  \n",
       "21824               NaN            NaN              NaN  \n",
       "22309               2.0          450.0            136.0  \n",
       "22336               3.0          511.0              NaN  \n",
       "22869               3.0           30.0             19.0  \n",
       "22938               NaN            NaN             27.0  \n",
       "\n",
       "[29 rows x 22 columns]"
      ]
     },
     "execution_count": 15,
     "metadata": {},
     "output_type": "execute_result"
    }
   ],
   "source": [
    "df[df['ceiling_height'] > 6]"
   ]
  },
  {
   "cell_type": "markdown",
   "metadata": {},
   "source": [
    "29 объявлений. Визуально среднее значение 25-30. Явно перепутали с каким то другим параметром, скорее всего с площадью либо общей, либо жилой, либо площадью какой то отдельной комнаты, так как сумма жилой площади и сумма так называемой высоты потолка в этих объявлениях примерно равна общей площади. Заменим пропуски и некорректные данные на медиану."
   ]
  },
  {
   "cell_type": "code",
   "execution_count": 16,
   "metadata": {},
   "outputs": [
    {
     "name": "stdout",
     "output_type": "stream",
     "text": [
      "6.0\n",
      "2.4\n"
     ]
    }
   ],
   "source": [
    "# заполним пропуски:\n",
    "\n",
    "df['ceiling_height'] = df['ceiling_height'].fillna(2.65)\n",
    "\n",
    "# напишем функцию для корректировки высоты потолка:\n",
    "\n",
    "def high_edit(high):\n",
    "    if 2.4 > high or high > 6.0:\n",
    "        return 2.65\n",
    "    return high\n",
    "\n",
    "# и применим её:\n",
    "\n",
    "df['ceiling_height'] = df['ceiling_height'].apply(high_edit)\n",
    "\n",
    "print(df['ceiling_height'].max())\n",
    "print(df['ceiling_height'].min())\n",
    "\n",
    "# проверка уникальных значений:\n",
    "# df['ceiling_height'].unique()\n",
    "\n",
    "\n"
   ]
  },
  {
   "cell_type": "markdown",
   "metadata": {},
   "source": [
    "Следующий столбец floors_total - количество этажей - имеет пропуски. Посмотрим на строки с пропусками и на экстремальные значения:"
   ]
  },
  {
   "cell_type": "code",
   "execution_count": 17,
   "metadata": {},
   "outputs": [
    {
     "data": {
      "text/html": [
       "<div>\n",
       "<style scoped>\n",
       "    .dataframe tbody tr th:only-of-type {\n",
       "        vertical-align: middle;\n",
       "    }\n",
       "\n",
       "    .dataframe tbody tr th {\n",
       "        vertical-align: top;\n",
       "    }\n",
       "\n",
       "    .dataframe thead th {\n",
       "        text-align: right;\n",
       "    }\n",
       "</style>\n",
       "<table border=\"1\" class=\"dataframe\">\n",
       "  <thead>\n",
       "    <tr style=\"text-align: right;\">\n",
       "      <th></th>\n",
       "      <th>total_images</th>\n",
       "      <th>last_price</th>\n",
       "      <th>total_area</th>\n",
       "      <th>first_day_exposition</th>\n",
       "      <th>rooms</th>\n",
       "      <th>ceiling_height</th>\n",
       "      <th>floors_total</th>\n",
       "      <th>living_area</th>\n",
       "      <th>floor</th>\n",
       "      <th>is_apartment</th>\n",
       "      <th>...</th>\n",
       "      <th>kitchen_area</th>\n",
       "      <th>balcony</th>\n",
       "      <th>locality_name</th>\n",
       "      <th>airports_nearest</th>\n",
       "      <th>cityCenters_nearest</th>\n",
       "      <th>parks_around3000</th>\n",
       "      <th>parks_nearest</th>\n",
       "      <th>ponds_around3000</th>\n",
       "      <th>ponds_nearest</th>\n",
       "      <th>days_exposition</th>\n",
       "    </tr>\n",
       "  </thead>\n",
       "  <tbody>\n",
       "    <tr>\n",
       "      <td>186</td>\n",
       "      <td>12</td>\n",
       "      <td>11640000.0</td>\n",
       "      <td>65.2</td>\n",
       "      <td>2018-10-02</td>\n",
       "      <td>2</td>\n",
       "      <td>2.65</td>\n",
       "      <td>NaN</td>\n",
       "      <td>30.80</td>\n",
       "      <td>4</td>\n",
       "      <td>NaN</td>\n",
       "      <td>...</td>\n",
       "      <td>12.00</td>\n",
       "      <td>NaN</td>\n",
       "      <td>Санкт-Петербург</td>\n",
       "      <td>39197.0</td>\n",
       "      <td>12373.0</td>\n",
       "      <td>1.0</td>\n",
       "      <td>123.0</td>\n",
       "      <td>0.0</td>\n",
       "      <td>NaN</td>\n",
       "      <td>49.0</td>\n",
       "    </tr>\n",
       "    <tr>\n",
       "      <td>237</td>\n",
       "      <td>4</td>\n",
       "      <td>2438033.0</td>\n",
       "      <td>28.1</td>\n",
       "      <td>2016-11-23</td>\n",
       "      <td>1</td>\n",
       "      <td>2.65</td>\n",
       "      <td>NaN</td>\n",
       "      <td>20.75</td>\n",
       "      <td>1</td>\n",
       "      <td>NaN</td>\n",
       "      <td>...</td>\n",
       "      <td>NaN</td>\n",
       "      <td>0.0</td>\n",
       "      <td>Санкт-Петербург</td>\n",
       "      <td>22041.0</td>\n",
       "      <td>17369.0</td>\n",
       "      <td>0.0</td>\n",
       "      <td>NaN</td>\n",
       "      <td>1.0</td>\n",
       "      <td>374.0</td>\n",
       "      <td>251.0</td>\n",
       "    </tr>\n",
       "    <tr>\n",
       "      <td>457</td>\n",
       "      <td>4</td>\n",
       "      <td>9788348.0</td>\n",
       "      <td>70.8</td>\n",
       "      <td>2015-08-01</td>\n",
       "      <td>2</td>\n",
       "      <td>2.65</td>\n",
       "      <td>NaN</td>\n",
       "      <td>38.40</td>\n",
       "      <td>12</td>\n",
       "      <td>NaN</td>\n",
       "      <td>...</td>\n",
       "      <td>10.63</td>\n",
       "      <td>0.0</td>\n",
       "      <td>Санкт-Петербург</td>\n",
       "      <td>37364.0</td>\n",
       "      <td>8322.0</td>\n",
       "      <td>2.0</td>\n",
       "      <td>309.0</td>\n",
       "      <td>2.0</td>\n",
       "      <td>706.0</td>\n",
       "      <td>727.0</td>\n",
       "    </tr>\n",
       "    <tr>\n",
       "      <td>671</td>\n",
       "      <td>4</td>\n",
       "      <td>6051191.0</td>\n",
       "      <td>93.6</td>\n",
       "      <td>2017-04-06</td>\n",
       "      <td>3</td>\n",
       "      <td>2.65</td>\n",
       "      <td>NaN</td>\n",
       "      <td>47.10</td>\n",
       "      <td>8</td>\n",
       "      <td>NaN</td>\n",
       "      <td>...</td>\n",
       "      <td>16.80</td>\n",
       "      <td>0.0</td>\n",
       "      <td>Санкт-Петербург</td>\n",
       "      <td>22041.0</td>\n",
       "      <td>17369.0</td>\n",
       "      <td>0.0</td>\n",
       "      <td>NaN</td>\n",
       "      <td>1.0</td>\n",
       "      <td>374.0</td>\n",
       "      <td>123.0</td>\n",
       "    </tr>\n",
       "    <tr>\n",
       "      <td>1757</td>\n",
       "      <td>5</td>\n",
       "      <td>3600000.0</td>\n",
       "      <td>39.0</td>\n",
       "      <td>2017-04-22</td>\n",
       "      <td>1</td>\n",
       "      <td>2.65</td>\n",
       "      <td>NaN</td>\n",
       "      <td>NaN</td>\n",
       "      <td>9</td>\n",
       "      <td>NaN</td>\n",
       "      <td>...</td>\n",
       "      <td>NaN</td>\n",
       "      <td>0.0</td>\n",
       "      <td>Санкт-Петербург</td>\n",
       "      <td>22735.0</td>\n",
       "      <td>11618.0</td>\n",
       "      <td>1.0</td>\n",
       "      <td>835.0</td>\n",
       "      <td>1.0</td>\n",
       "      <td>652.0</td>\n",
       "      <td>77.0</td>\n",
       "    </tr>\n",
       "    <tr>\n",
       "      <td>...</td>\n",
       "      <td>...</td>\n",
       "      <td>...</td>\n",
       "      <td>...</td>\n",
       "      <td>...</td>\n",
       "      <td>...</td>\n",
       "      <td>...</td>\n",
       "      <td>...</td>\n",
       "      <td>...</td>\n",
       "      <td>...</td>\n",
       "      <td>...</td>\n",
       "      <td>...</td>\n",
       "      <td>...</td>\n",
       "      <td>...</td>\n",
       "      <td>...</td>\n",
       "      <td>...</td>\n",
       "      <td>...</td>\n",
       "      <td>...</td>\n",
       "      <td>...</td>\n",
       "      <td>...</td>\n",
       "      <td>...</td>\n",
       "      <td>...</td>\n",
       "    </tr>\n",
       "    <tr>\n",
       "      <td>22542</td>\n",
       "      <td>5</td>\n",
       "      <td>8500000.0</td>\n",
       "      <td>63.5</td>\n",
       "      <td>2017-05-24</td>\n",
       "      <td>2</td>\n",
       "      <td>2.80</td>\n",
       "      <td>NaN</td>\n",
       "      <td>NaN</td>\n",
       "      <td>3</td>\n",
       "      <td>NaN</td>\n",
       "      <td>...</td>\n",
       "      <td>NaN</td>\n",
       "      <td>NaN</td>\n",
       "      <td>Санкт-Петербург</td>\n",
       "      <td>51340.0</td>\n",
       "      <td>15363.0</td>\n",
       "      <td>0.0</td>\n",
       "      <td>NaN</td>\n",
       "      <td>1.0</td>\n",
       "      <td>853.0</td>\n",
       "      <td>512.0</td>\n",
       "    </tr>\n",
       "    <tr>\n",
       "      <td>22656</td>\n",
       "      <td>4</td>\n",
       "      <td>4574160.0</td>\n",
       "      <td>64.5</td>\n",
       "      <td>2017-04-02</td>\n",
       "      <td>2</td>\n",
       "      <td>2.65</td>\n",
       "      <td>NaN</td>\n",
       "      <td>31.70</td>\n",
       "      <td>20</td>\n",
       "      <td>NaN</td>\n",
       "      <td>...</td>\n",
       "      <td>14.40</td>\n",
       "      <td>0.0</td>\n",
       "      <td>Санкт-Петербург</td>\n",
       "      <td>22041.0</td>\n",
       "      <td>17369.0</td>\n",
       "      <td>0.0</td>\n",
       "      <td>NaN</td>\n",
       "      <td>1.0</td>\n",
       "      <td>374.0</td>\n",
       "      <td>127.0</td>\n",
       "    </tr>\n",
       "    <tr>\n",
       "      <td>22808</td>\n",
       "      <td>0</td>\n",
       "      <td>14569263.0</td>\n",
       "      <td>110.4</td>\n",
       "      <td>2016-11-20</td>\n",
       "      <td>3</td>\n",
       "      <td>2.65</td>\n",
       "      <td>NaN</td>\n",
       "      <td>45.38</td>\n",
       "      <td>6</td>\n",
       "      <td>NaN</td>\n",
       "      <td>...</td>\n",
       "      <td>23.42</td>\n",
       "      <td>0.0</td>\n",
       "      <td>Санкт-Петербург</td>\n",
       "      <td>19095.0</td>\n",
       "      <td>4529.0</td>\n",
       "      <td>0.0</td>\n",
       "      <td>NaN</td>\n",
       "      <td>0.0</td>\n",
       "      <td>NaN</td>\n",
       "      <td>260.0</td>\n",
       "    </tr>\n",
       "    <tr>\n",
       "      <td>23590</td>\n",
       "      <td>0</td>\n",
       "      <td>21187872.0</td>\n",
       "      <td>123.3</td>\n",
       "      <td>2017-04-25</td>\n",
       "      <td>3</td>\n",
       "      <td>2.65</td>\n",
       "      <td>NaN</td>\n",
       "      <td>50.40</td>\n",
       "      <td>18</td>\n",
       "      <td>NaN</td>\n",
       "      <td>...</td>\n",
       "      <td>23.60</td>\n",
       "      <td>0.0</td>\n",
       "      <td>Санкт-Петербург</td>\n",
       "      <td>19095.0</td>\n",
       "      <td>4529.0</td>\n",
       "      <td>0.0</td>\n",
       "      <td>NaN</td>\n",
       "      <td>0.0</td>\n",
       "      <td>NaN</td>\n",
       "      <td>104.0</td>\n",
       "    </tr>\n",
       "    <tr>\n",
       "      <td>23658</td>\n",
       "      <td>6</td>\n",
       "      <td>3063600.0</td>\n",
       "      <td>43.8</td>\n",
       "      <td>2016-11-28</td>\n",
       "      <td>1</td>\n",
       "      <td>2.70</td>\n",
       "      <td>NaN</td>\n",
       "      <td>14.00</td>\n",
       "      <td>8</td>\n",
       "      <td>NaN</td>\n",
       "      <td>...</td>\n",
       "      <td>15.50</td>\n",
       "      <td>2.0</td>\n",
       "      <td>Санкт-Петербург</td>\n",
       "      <td>8426.0</td>\n",
       "      <td>12082.0</td>\n",
       "      <td>2.0</td>\n",
       "      <td>24.0</td>\n",
       "      <td>1.0</td>\n",
       "      <td>271.0</td>\n",
       "      <td>246.0</td>\n",
       "    </tr>\n",
       "  </tbody>\n",
       "</table>\n",
       "<p>86 rows × 22 columns</p>\n",
       "</div>"
      ],
      "text/plain": [
       "       total_images  last_price  total_area first_day_exposition  rooms  \\\n",
       "186              12  11640000.0        65.2           2018-10-02      2   \n",
       "237               4   2438033.0        28.1           2016-11-23      1   \n",
       "457               4   9788348.0        70.8           2015-08-01      2   \n",
       "671               4   6051191.0        93.6           2017-04-06      3   \n",
       "1757              5   3600000.0        39.0           2017-04-22      1   \n",
       "...             ...         ...         ...                  ...    ...   \n",
       "22542             5   8500000.0        63.5           2017-05-24      2   \n",
       "22656             4   4574160.0        64.5           2017-04-02      2   \n",
       "22808             0  14569263.0       110.4           2016-11-20      3   \n",
       "23590             0  21187872.0       123.3           2017-04-25      3   \n",
       "23658             6   3063600.0        43.8           2016-11-28      1   \n",
       "\n",
       "       ceiling_height  floors_total  living_area  floor is_apartment  ...  \\\n",
       "186              2.65           NaN        30.80      4          NaN  ...   \n",
       "237              2.65           NaN        20.75      1          NaN  ...   \n",
       "457              2.65           NaN        38.40     12          NaN  ...   \n",
       "671              2.65           NaN        47.10      8          NaN  ...   \n",
       "1757             2.65           NaN          NaN      9          NaN  ...   \n",
       "...               ...           ...          ...    ...          ...  ...   \n",
       "22542            2.80           NaN          NaN      3          NaN  ...   \n",
       "22656            2.65           NaN        31.70     20          NaN  ...   \n",
       "22808            2.65           NaN        45.38      6          NaN  ...   \n",
       "23590            2.65           NaN        50.40     18          NaN  ...   \n",
       "23658            2.70           NaN        14.00      8          NaN  ...   \n",
       "\n",
       "       kitchen_area  balcony    locality_name  airports_nearest  \\\n",
       "186           12.00      NaN  Санкт-Петербург           39197.0   \n",
       "237             NaN      0.0  Санкт-Петербург           22041.0   \n",
       "457           10.63      0.0  Санкт-Петербург           37364.0   \n",
       "671           16.80      0.0  Санкт-Петербург           22041.0   \n",
       "1757            NaN      0.0  Санкт-Петербург           22735.0   \n",
       "...             ...      ...              ...               ...   \n",
       "22542           NaN      NaN  Санкт-Петербург           51340.0   \n",
       "22656         14.40      0.0  Санкт-Петербург           22041.0   \n",
       "22808         23.42      0.0  Санкт-Петербург           19095.0   \n",
       "23590         23.60      0.0  Санкт-Петербург           19095.0   \n",
       "23658         15.50      2.0  Санкт-Петербург            8426.0   \n",
       "\n",
       "      cityCenters_nearest  parks_around3000  parks_nearest  ponds_around3000  \\\n",
       "186               12373.0               1.0          123.0               0.0   \n",
       "237               17369.0               0.0            NaN               1.0   \n",
       "457                8322.0               2.0          309.0               2.0   \n",
       "671               17369.0               0.0            NaN               1.0   \n",
       "1757              11618.0               1.0          835.0               1.0   \n",
       "...                   ...               ...            ...               ...   \n",
       "22542             15363.0               0.0            NaN               1.0   \n",
       "22656             17369.0               0.0            NaN               1.0   \n",
       "22808              4529.0               0.0            NaN               0.0   \n",
       "23590              4529.0               0.0            NaN               0.0   \n",
       "23658             12082.0               2.0           24.0               1.0   \n",
       "\n",
       "       ponds_nearest  days_exposition  \n",
       "186              NaN             49.0  \n",
       "237            374.0            251.0  \n",
       "457            706.0            727.0  \n",
       "671            374.0            123.0  \n",
       "1757           652.0             77.0  \n",
       "...              ...              ...  \n",
       "22542          853.0            512.0  \n",
       "22656          374.0            127.0  \n",
       "22808            NaN            260.0  \n",
       "23590            NaN            104.0  \n",
       "23658          271.0            246.0  \n",
       "\n",
       "[86 rows x 22 columns]"
      ]
     },
     "metadata": {},
     "output_type": "display_data"
    },
    {
     "name": "stdout",
     "output_type": "stream",
     "text": [
      "60.0\n",
      "1.0\n"
     ]
    }
   ],
   "source": [
    "display(df[df['floors_total'].isna()])\n",
    "print(df['floors_total'].max())\n",
    "print(df['floors_total'].min())\n"
   ]
  },
  {
   "cell_type": "markdown",
   "metadata": {},
   "source": [
    "86 пропусков и 60 этажей. Пропуски заменим наличием этажа floor + 1, так как нам в исследовании необходимо посчитать квартиры на последнем этаже. Шанс что все объявления с пропусками общей этажности имеют квартиры на последнем этаже, на мой взгляд весьма невелик. А 60 этажей есть только в Лахта-центре. Лидер-Тауэр имеет 42 этажа, но это бизнес-центр. Самый многоэтажный жилой комплекс - Алексанр Невский, имеет 37 этажей. Это важно, потому что в условяих проекта указано про объявления продажи именно квартир, а не помещений. Поэтому нужно посмотреть на все объявления с этажностью более 37 - это скорее всего выбросы. Этажи нужно перевести в целочисленные значения. Врядли продаются квартиры на втором с половиной этаже. "
   ]
  },
  {
   "cell_type": "code",
   "execution_count": 18,
   "metadata": {},
   "outputs": [
    {
     "data": {
      "text/html": [
       "<div>\n",
       "<style scoped>\n",
       "    .dataframe tbody tr th:only-of-type {\n",
       "        vertical-align: middle;\n",
       "    }\n",
       "\n",
       "    .dataframe tbody tr th {\n",
       "        vertical-align: top;\n",
       "    }\n",
       "\n",
       "    .dataframe thead th {\n",
       "        text-align: right;\n",
       "    }\n",
       "</style>\n",
       "<table border=\"1\" class=\"dataframe\">\n",
       "  <thead>\n",
       "    <tr style=\"text-align: right;\">\n",
       "      <th></th>\n",
       "      <th>total_images</th>\n",
       "      <th>last_price</th>\n",
       "      <th>total_area</th>\n",
       "      <th>first_day_exposition</th>\n",
       "      <th>rooms</th>\n",
       "      <th>ceiling_height</th>\n",
       "      <th>floors_total</th>\n",
       "      <th>living_area</th>\n",
       "      <th>floor</th>\n",
       "      <th>is_apartment</th>\n",
       "      <th>...</th>\n",
       "      <th>kitchen_area</th>\n",
       "      <th>balcony</th>\n",
       "      <th>locality_name</th>\n",
       "      <th>airports_nearest</th>\n",
       "      <th>cityCenters_nearest</th>\n",
       "      <th>parks_around3000</th>\n",
       "      <th>parks_nearest</th>\n",
       "      <th>ponds_around3000</th>\n",
       "      <th>ponds_nearest</th>\n",
       "      <th>days_exposition</th>\n",
       "    </tr>\n",
       "  </thead>\n",
       "  <tbody>\n",
       "    <tr>\n",
       "      <td>2253</td>\n",
       "      <td>12</td>\n",
       "      <td>3800000.0</td>\n",
       "      <td>45.5</td>\n",
       "      <td>2018-06-28</td>\n",
       "      <td>2</td>\n",
       "      <td>2.88</td>\n",
       "      <td>60</td>\n",
       "      <td>27.4</td>\n",
       "      <td>4</td>\n",
       "      <td>NaN</td>\n",
       "      <td>...</td>\n",
       "      <td>7.4</td>\n",
       "      <td>NaN</td>\n",
       "      <td>Кронштадт</td>\n",
       "      <td>67763.0</td>\n",
       "      <td>49488.0</td>\n",
       "      <td>2.0</td>\n",
       "      <td>342.0</td>\n",
       "      <td>3.0</td>\n",
       "      <td>614.0</td>\n",
       "      <td>166.0</td>\n",
       "    </tr>\n",
       "    <tr>\n",
       "      <td>16731</td>\n",
       "      <td>9</td>\n",
       "      <td>3978000.0</td>\n",
       "      <td>40.0</td>\n",
       "      <td>2018-09-24</td>\n",
       "      <td>1</td>\n",
       "      <td>2.65</td>\n",
       "      <td>52</td>\n",
       "      <td>10.5</td>\n",
       "      <td>18</td>\n",
       "      <td>NaN</td>\n",
       "      <td>...</td>\n",
       "      <td>14.0</td>\n",
       "      <td>NaN</td>\n",
       "      <td>Санкт-Петербург</td>\n",
       "      <td>20728.0</td>\n",
       "      <td>12978.0</td>\n",
       "      <td>1.0</td>\n",
       "      <td>793.0</td>\n",
       "      <td>0.0</td>\n",
       "      <td>NaN</td>\n",
       "      <td>45.0</td>\n",
       "    </tr>\n",
       "  </tbody>\n",
       "</table>\n",
       "<p>2 rows × 22 columns</p>\n",
       "</div>"
      ],
      "text/plain": [
       "       total_images  last_price  total_area first_day_exposition  rooms  \\\n",
       "2253             12   3800000.0        45.5           2018-06-28      2   \n",
       "16731             9   3978000.0        40.0           2018-09-24      1   \n",
       "\n",
       "       ceiling_height  floors_total  living_area  floor is_apartment  ...  \\\n",
       "2253             2.88            60         27.4      4          NaN  ...   \n",
       "16731            2.65            52         10.5     18          NaN  ...   \n",
       "\n",
       "       kitchen_area  balcony    locality_name  airports_nearest  \\\n",
       "2253            7.4      NaN        Кронштадт           67763.0   \n",
       "16731          14.0      NaN  Санкт-Петербург           20728.0   \n",
       "\n",
       "      cityCenters_nearest  parks_around3000  parks_nearest  ponds_around3000  \\\n",
       "2253              49488.0               2.0          342.0               3.0   \n",
       "16731             12978.0               1.0          793.0               0.0   \n",
       "\n",
       "       ponds_nearest  days_exposition  \n",
       "2253           614.0            166.0  \n",
       "16731            NaN             45.0  \n",
       "\n",
       "[2 rows x 22 columns]"
      ]
     },
     "execution_count": 18,
     "metadata": {},
     "output_type": "execute_result"
    }
   ],
   "source": [
    "# замена пропусков:\n",
    "df['floors_total'] = df['floors_total'].fillna(df['floor'] + 1)\n",
    "\n",
    "# менияем формат на целочисленный:\n",
    "\n",
    "df['floors_total'] = df['floors_total'].astype('int')\n",
    "\n",
    "# вывод объявлений с этажностью более 37:\n",
    "\n",
    "df[df['floors_total'] > 37]\n",
    "\n",
    "\n"
   ]
  },
  {
   "cell_type": "markdown",
   "metadata": {},
   "source": [
    "2 объявления - в этих объявлениях этаж с квартирой не является последним. Думаю в исследовани нам эти объявления не сыграют роли, так как их доля менее 1%.\n",
    "\n",
    "Следующий столбец living_area - жилая площадь, тут тоже есть пропуски. Смотрим на них и на экстремальные значения:"
   ]
  },
  {
   "cell_type": "code",
   "execution_count": 19,
   "metadata": {},
   "outputs": [
    {
     "name": "stdout",
     "output_type": "stream",
     "text": [
      "1903\n",
      "2.0\n",
      "409.7\n"
     ]
    }
   ],
   "source": [
    "print(df['living_area'].isna().sum())\n",
    "print(df['living_area'].min())\n",
    "print(df['living_area'].max())"
   ]
  },
  {
   "cell_type": "markdown",
   "metadata": {},
   "source": [
    "1903 пропуска. Думаю их стоит заменить медианным значением отношения жилой площади к общей. Посчитать сколько объявлений с жилой площадью менее 10 м2, так как именно столько примерно полагается на человека в России. Максимальные значения в пределах разумного. Для богатых, конечно. "
   ]
  },
  {
   "cell_type": "code",
   "execution_count": 20,
   "metadata": {},
   "outputs": [
    {
     "data": {
      "text/html": [
       "<div>\n",
       "<style scoped>\n",
       "    .dataframe tbody tr th:only-of-type {\n",
       "        vertical-align: middle;\n",
       "    }\n",
       "\n",
       "    .dataframe tbody tr th {\n",
       "        vertical-align: top;\n",
       "    }\n",
       "\n",
       "    .dataframe thead th {\n",
       "        text-align: right;\n",
       "    }\n",
       "</style>\n",
       "<table border=\"1\" class=\"dataframe\">\n",
       "  <thead>\n",
       "    <tr style=\"text-align: right;\">\n",
       "      <th></th>\n",
       "      <th>total_images</th>\n",
       "      <th>last_price</th>\n",
       "      <th>total_area</th>\n",
       "      <th>first_day_exposition</th>\n",
       "      <th>rooms</th>\n",
       "      <th>ceiling_height</th>\n",
       "      <th>floors_total</th>\n",
       "      <th>living_area</th>\n",
       "      <th>floor</th>\n",
       "      <th>is_apartment</th>\n",
       "      <th>...</th>\n",
       "      <th>kitchen_area</th>\n",
       "      <th>balcony</th>\n",
       "      <th>locality_name</th>\n",
       "      <th>airports_nearest</th>\n",
       "      <th>cityCenters_nearest</th>\n",
       "      <th>parks_around3000</th>\n",
       "      <th>parks_nearest</th>\n",
       "      <th>ponds_around3000</th>\n",
       "      <th>ponds_nearest</th>\n",
       "      <th>days_exposition</th>\n",
       "    </tr>\n",
       "  </thead>\n",
       "  <tbody>\n",
       "    <tr>\n",
       "      <td>114</td>\n",
       "      <td>5</td>\n",
       "      <td>4000000.0</td>\n",
       "      <td>21.40</td>\n",
       "      <td>2019-02-07</td>\n",
       "      <td>1</td>\n",
       "      <td>2.90</td>\n",
       "      <td>8</td>\n",
       "      <td>8.3</td>\n",
       "      <td>7</td>\n",
       "      <td>NaN</td>\n",
       "      <td>...</td>\n",
       "      <td>6.3</td>\n",
       "      <td>NaN</td>\n",
       "      <td>Санкт-Петербург</td>\n",
       "      <td>27089.0</td>\n",
       "      <td>5791.0</td>\n",
       "      <td>2.0</td>\n",
       "      <td>488.0</td>\n",
       "      <td>1.0</td>\n",
       "      <td>286.0</td>\n",
       "      <td>NaN</td>\n",
       "    </tr>\n",
       "    <tr>\n",
       "      <td>680</td>\n",
       "      <td>14</td>\n",
       "      <td>7200000.0</td>\n",
       "      <td>43.00</td>\n",
       "      <td>2017-10-31</td>\n",
       "      <td>1</td>\n",
       "      <td>2.65</td>\n",
       "      <td>8</td>\n",
       "      <td>9.0</td>\n",
       "      <td>2</td>\n",
       "      <td>NaN</td>\n",
       "      <td>...</td>\n",
       "      <td>23.0</td>\n",
       "      <td>NaN</td>\n",
       "      <td>Санкт-Петербург</td>\n",
       "      <td>23900.0</td>\n",
       "      <td>5232.0</td>\n",
       "      <td>1.0</td>\n",
       "      <td>2137.0</td>\n",
       "      <td>1.0</td>\n",
       "      <td>933.0</td>\n",
       "      <td>296.0</td>\n",
       "    </tr>\n",
       "    <tr>\n",
       "      <td>1326</td>\n",
       "      <td>8</td>\n",
       "      <td>8100000.0</td>\n",
       "      <td>52.00</td>\n",
       "      <td>2017-01-29</td>\n",
       "      <td>2</td>\n",
       "      <td>2.70</td>\n",
       "      <td>25</td>\n",
       "      <td>9.0</td>\n",
       "      <td>15</td>\n",
       "      <td>NaN</td>\n",
       "      <td>...</td>\n",
       "      <td>32.0</td>\n",
       "      <td>2.0</td>\n",
       "      <td>Санкт-Петербург</td>\n",
       "      <td>35555.0</td>\n",
       "      <td>15561.0</td>\n",
       "      <td>0.0</td>\n",
       "      <td>NaN</td>\n",
       "      <td>1.0</td>\n",
       "      <td>1180.0</td>\n",
       "      <td>337.0</td>\n",
       "    </tr>\n",
       "    <tr>\n",
       "      <td>2309</td>\n",
       "      <td>10</td>\n",
       "      <td>4200000.0</td>\n",
       "      <td>62.40</td>\n",
       "      <td>2017-06-15</td>\n",
       "      <td>2</td>\n",
       "      <td>2.60</td>\n",
       "      <td>9</td>\n",
       "      <td>8.4</td>\n",
       "      <td>6</td>\n",
       "      <td>NaN</td>\n",
       "      <td>...</td>\n",
       "      <td>41.0</td>\n",
       "      <td>2.0</td>\n",
       "      <td>посёлок Шушары</td>\n",
       "      <td>23662.0</td>\n",
       "      <td>29448.0</td>\n",
       "      <td>0.0</td>\n",
       "      <td>NaN</td>\n",
       "      <td>0.0</td>\n",
       "      <td>NaN</td>\n",
       "      <td>111.0</td>\n",
       "    </tr>\n",
       "    <tr>\n",
       "      <td>3242</td>\n",
       "      <td>7</td>\n",
       "      <td>4440000.0</td>\n",
       "      <td>41.00</td>\n",
       "      <td>2017-07-02</td>\n",
       "      <td>1</td>\n",
       "      <td>2.65</td>\n",
       "      <td>17</td>\n",
       "      <td>3.0</td>\n",
       "      <td>17</td>\n",
       "      <td>NaN</td>\n",
       "      <td>...</td>\n",
       "      <td>11.0</td>\n",
       "      <td>NaN</td>\n",
       "      <td>Санкт-Петербург</td>\n",
       "      <td>19272.0</td>\n",
       "      <td>13073.0</td>\n",
       "      <td>0.0</td>\n",
       "      <td>NaN</td>\n",
       "      <td>0.0</td>\n",
       "      <td>NaN</td>\n",
       "      <td>216.0</td>\n",
       "    </tr>\n",
       "    <tr>\n",
       "      <td>4100</td>\n",
       "      <td>17</td>\n",
       "      <td>5300000.0</td>\n",
       "      <td>34.80</td>\n",
       "      <td>2017-06-19</td>\n",
       "      <td>1</td>\n",
       "      <td>2.70</td>\n",
       "      <td>23</td>\n",
       "      <td>9.0</td>\n",
       "      <td>15</td>\n",
       "      <td>NaN</td>\n",
       "      <td>...</td>\n",
       "      <td>17.1</td>\n",
       "      <td>0.0</td>\n",
       "      <td>Санкт-Петербург</td>\n",
       "      <td>33626.0</td>\n",
       "      <td>13495.0</td>\n",
       "      <td>0.0</td>\n",
       "      <td>NaN</td>\n",
       "      <td>0.0</td>\n",
       "      <td>NaN</td>\n",
       "      <td>30.0</td>\n",
       "    </tr>\n",
       "    <tr>\n",
       "      <td>4542</td>\n",
       "      <td>12</td>\n",
       "      <td>3300000.0</td>\n",
       "      <td>18.00</td>\n",
       "      <td>2018-11-07</td>\n",
       "      <td>1</td>\n",
       "      <td>3.50</td>\n",
       "      <td>5</td>\n",
       "      <td>9.0</td>\n",
       "      <td>2</td>\n",
       "      <td>NaN</td>\n",
       "      <td>...</td>\n",
       "      <td>NaN</td>\n",
       "      <td>NaN</td>\n",
       "      <td>Санкт-Петербург</td>\n",
       "      <td>25157.0</td>\n",
       "      <td>4948.0</td>\n",
       "      <td>2.0</td>\n",
       "      <td>349.0</td>\n",
       "      <td>1.0</td>\n",
       "      <td>963.0</td>\n",
       "      <td>9.0</td>\n",
       "    </tr>\n",
       "    <tr>\n",
       "      <td>7312</td>\n",
       "      <td>8</td>\n",
       "      <td>3400000.0</td>\n",
       "      <td>27.00</td>\n",
       "      <td>2018-02-21</td>\n",
       "      <td>2</td>\n",
       "      <td>2.50</td>\n",
       "      <td>15</td>\n",
       "      <td>9.0</td>\n",
       "      <td>4</td>\n",
       "      <td>NaN</td>\n",
       "      <td>...</td>\n",
       "      <td>16.0</td>\n",
       "      <td>NaN</td>\n",
       "      <td>Санкт-Петербург</td>\n",
       "      <td>50246.0</td>\n",
       "      <td>16444.0</td>\n",
       "      <td>1.0</td>\n",
       "      <td>617.0</td>\n",
       "      <td>0.0</td>\n",
       "      <td>NaN</td>\n",
       "      <td>NaN</td>\n",
       "    </tr>\n",
       "    <tr>\n",
       "      <td>8325</td>\n",
       "      <td>9</td>\n",
       "      <td>4800000.0</td>\n",
       "      <td>52.00</td>\n",
       "      <td>2017-10-25</td>\n",
       "      <td>2</td>\n",
       "      <td>2.65</td>\n",
       "      <td>5</td>\n",
       "      <td>9.0</td>\n",
       "      <td>2</td>\n",
       "      <td>NaN</td>\n",
       "      <td>...</td>\n",
       "      <td>6.0</td>\n",
       "      <td>1.0</td>\n",
       "      <td>Санкт-Петербург</td>\n",
       "      <td>33358.0</td>\n",
       "      <td>13171.0</td>\n",
       "      <td>0.0</td>\n",
       "      <td>NaN</td>\n",
       "      <td>2.0</td>\n",
       "      <td>118.0</td>\n",
       "      <td>119.0</td>\n",
       "    </tr>\n",
       "    <tr>\n",
       "      <td>13915</td>\n",
       "      <td>20</td>\n",
       "      <td>6350000.0</td>\n",
       "      <td>52.00</td>\n",
       "      <td>2018-02-06</td>\n",
       "      <td>2</td>\n",
       "      <td>3.00</td>\n",
       "      <td>6</td>\n",
       "      <td>2.0</td>\n",
       "      <td>2</td>\n",
       "      <td>NaN</td>\n",
       "      <td>...</td>\n",
       "      <td>9.0</td>\n",
       "      <td>NaN</td>\n",
       "      <td>Санкт-Петербург</td>\n",
       "      <td>32453.0</td>\n",
       "      <td>6521.0</td>\n",
       "      <td>0.0</td>\n",
       "      <td>NaN</td>\n",
       "      <td>1.0</td>\n",
       "      <td>1012.0</td>\n",
       "      <td>91.0</td>\n",
       "    </tr>\n",
       "    <tr>\n",
       "      <td>15833</td>\n",
       "      <td>20</td>\n",
       "      <td>4600000.0</td>\n",
       "      <td>33.00</td>\n",
       "      <td>2017-01-01</td>\n",
       "      <td>1</td>\n",
       "      <td>2.70</td>\n",
       "      <td>22</td>\n",
       "      <td>9.0</td>\n",
       "      <td>12</td>\n",
       "      <td>NaN</td>\n",
       "      <td>...</td>\n",
       "      <td>14.3</td>\n",
       "      <td>1.0</td>\n",
       "      <td>Санкт-Петербург</td>\n",
       "      <td>33803.0</td>\n",
       "      <td>13671.0</td>\n",
       "      <td>0.0</td>\n",
       "      <td>NaN</td>\n",
       "      <td>0.0</td>\n",
       "      <td>NaN</td>\n",
       "      <td>511.0</td>\n",
       "    </tr>\n",
       "    <tr>\n",
       "      <td>16431</td>\n",
       "      <td>13</td>\n",
       "      <td>3799000.0</td>\n",
       "      <td>31.00</td>\n",
       "      <td>2018-04-12</td>\n",
       "      <td>1</td>\n",
       "      <td>2.60</td>\n",
       "      <td>5</td>\n",
       "      <td>6.0</td>\n",
       "      <td>1</td>\n",
       "      <td>NaN</td>\n",
       "      <td>...</td>\n",
       "      <td>17.0</td>\n",
       "      <td>NaN</td>\n",
       "      <td>Санкт-Петербург</td>\n",
       "      <td>32177.0</td>\n",
       "      <td>4826.0</td>\n",
       "      <td>1.0</td>\n",
       "      <td>430.0</td>\n",
       "      <td>0.0</td>\n",
       "      <td>NaN</td>\n",
       "      <td>168.0</td>\n",
       "    </tr>\n",
       "    <tr>\n",
       "      <td>17248</td>\n",
       "      <td>20</td>\n",
       "      <td>5300000.0</td>\n",
       "      <td>33.00</td>\n",
       "      <td>2017-04-14</td>\n",
       "      <td>1</td>\n",
       "      <td>2.70</td>\n",
       "      <td>22</td>\n",
       "      <td>8.9</td>\n",
       "      <td>16</td>\n",
       "      <td>NaN</td>\n",
       "      <td>...</td>\n",
       "      <td>16.1</td>\n",
       "      <td>1.0</td>\n",
       "      <td>Санкт-Петербург</td>\n",
       "      <td>33803.0</td>\n",
       "      <td>13671.0</td>\n",
       "      <td>0.0</td>\n",
       "      <td>NaN</td>\n",
       "      <td>0.0</td>\n",
       "      <td>NaN</td>\n",
       "      <td>216.0</td>\n",
       "    </tr>\n",
       "    <tr>\n",
       "      <td>17582</td>\n",
       "      <td>11</td>\n",
       "      <td>2680000.0</td>\n",
       "      <td>22.00</td>\n",
       "      <td>2018-08-11</td>\n",
       "      <td>0</td>\n",
       "      <td>2.65</td>\n",
       "      <td>25</td>\n",
       "      <td>5.0</td>\n",
       "      <td>8</td>\n",
       "      <td>NaN</td>\n",
       "      <td>...</td>\n",
       "      <td>NaN</td>\n",
       "      <td>2.0</td>\n",
       "      <td>Санкт-Петербург</td>\n",
       "      <td>22735.0</td>\n",
       "      <td>11618.0</td>\n",
       "      <td>1.0</td>\n",
       "      <td>835.0</td>\n",
       "      <td>1.0</td>\n",
       "      <td>652.0</td>\n",
       "      <td>70.0</td>\n",
       "    </tr>\n",
       "    <tr>\n",
       "      <td>19251</td>\n",
       "      <td>19</td>\n",
       "      <td>4050000.0</td>\n",
       "      <td>33.00</td>\n",
       "      <td>2018-10-15</td>\n",
       "      <td>1</td>\n",
       "      <td>2.50</td>\n",
       "      <td>22</td>\n",
       "      <td>6.5</td>\n",
       "      <td>21</td>\n",
       "      <td>NaN</td>\n",
       "      <td>...</td>\n",
       "      <td>18.0</td>\n",
       "      <td>NaN</td>\n",
       "      <td>Санкт-Петербург</td>\n",
       "      <td>9258.0</td>\n",
       "      <td>10592.0</td>\n",
       "      <td>1.0</td>\n",
       "      <td>458.0</td>\n",
       "      <td>0.0</td>\n",
       "      <td>NaN</td>\n",
       "      <td>44.0</td>\n",
       "    </tr>\n",
       "    <tr>\n",
       "      <td>19620</td>\n",
       "      <td>10</td>\n",
       "      <td>4300000.0</td>\n",
       "      <td>33.00</td>\n",
       "      <td>2018-02-01</td>\n",
       "      <td>1</td>\n",
       "      <td>2.65</td>\n",
       "      <td>5</td>\n",
       "      <td>9.0</td>\n",
       "      <td>1</td>\n",
       "      <td>NaN</td>\n",
       "      <td>...</td>\n",
       "      <td>17.0</td>\n",
       "      <td>NaN</td>\n",
       "      <td>Санкт-Петербург</td>\n",
       "      <td>22525.0</td>\n",
       "      <td>2976.0</td>\n",
       "      <td>2.0</td>\n",
       "      <td>251.0</td>\n",
       "      <td>3.0</td>\n",
       "      <td>220.0</td>\n",
       "      <td>86.0</td>\n",
       "    </tr>\n",
       "    <tr>\n",
       "      <td>20994</td>\n",
       "      <td>7</td>\n",
       "      <td>8900000.0</td>\n",
       "      <td>50.60</td>\n",
       "      <td>2018-10-22</td>\n",
       "      <td>2</td>\n",
       "      <td>2.50</td>\n",
       "      <td>7</td>\n",
       "      <td>8.0</td>\n",
       "      <td>3</td>\n",
       "      <td>NaN</td>\n",
       "      <td>...</td>\n",
       "      <td>31.0</td>\n",
       "      <td>NaN</td>\n",
       "      <td>Санкт-Петербург</td>\n",
       "      <td>12771.0</td>\n",
       "      <td>8301.0</td>\n",
       "      <td>1.0</td>\n",
       "      <td>173.0</td>\n",
       "      <td>3.0</td>\n",
       "      <td>126.0</td>\n",
       "      <td>NaN</td>\n",
       "    </tr>\n",
       "    <tr>\n",
       "      <td>21505</td>\n",
       "      <td>9</td>\n",
       "      <td>4100000.0</td>\n",
       "      <td>35.30</td>\n",
       "      <td>2018-01-10</td>\n",
       "      <td>1</td>\n",
       "      <td>2.75</td>\n",
       "      <td>27</td>\n",
       "      <td>8.5</td>\n",
       "      <td>11</td>\n",
       "      <td>NaN</td>\n",
       "      <td>...</td>\n",
       "      <td>16.1</td>\n",
       "      <td>2.0</td>\n",
       "      <td>Санкт-Петербург</td>\n",
       "      <td>33977.0</td>\n",
       "      <td>15076.0</td>\n",
       "      <td>0.0</td>\n",
       "      <td>NaN</td>\n",
       "      <td>0.0</td>\n",
       "      <td>NaN</td>\n",
       "      <td>60.0</td>\n",
       "    </tr>\n",
       "    <tr>\n",
       "      <td>21758</td>\n",
       "      <td>0</td>\n",
       "      <td>2330000.0</td>\n",
       "      <td>23.00</td>\n",
       "      <td>2018-01-01</td>\n",
       "      <td>0</td>\n",
       "      <td>2.65</td>\n",
       "      <td>24</td>\n",
       "      <td>2.0</td>\n",
       "      <td>22</td>\n",
       "      <td>NaN</td>\n",
       "      <td>...</td>\n",
       "      <td>NaN</td>\n",
       "      <td>NaN</td>\n",
       "      <td>посёлок Мурино</td>\n",
       "      <td>NaN</td>\n",
       "      <td>NaN</td>\n",
       "      <td>NaN</td>\n",
       "      <td>NaN</td>\n",
       "      <td>NaN</td>\n",
       "      <td>NaN</td>\n",
       "      <td>66.0</td>\n",
       "    </tr>\n",
       "    <tr>\n",
       "      <td>21908</td>\n",
       "      <td>9</td>\n",
       "      <td>5300000.0</td>\n",
       "      <td>46.30</td>\n",
       "      <td>2018-03-20</td>\n",
       "      <td>1</td>\n",
       "      <td>2.75</td>\n",
       "      <td>7</td>\n",
       "      <td>9.8</td>\n",
       "      <td>3</td>\n",
       "      <td>NaN</td>\n",
       "      <td>...</td>\n",
       "      <td>26.0</td>\n",
       "      <td>NaN</td>\n",
       "      <td>Сестрорецк</td>\n",
       "      <td>55422.0</td>\n",
       "      <td>32352.0</td>\n",
       "      <td>0.0</td>\n",
       "      <td>NaN</td>\n",
       "      <td>1.0</td>\n",
       "      <td>1144.0</td>\n",
       "      <td>36.0</td>\n",
       "    </tr>\n",
       "    <tr>\n",
       "      <td>21943</td>\n",
       "      <td>15</td>\n",
       "      <td>6100000.0</td>\n",
       "      <td>77.60</td>\n",
       "      <td>2019-02-28</td>\n",
       "      <td>4</td>\n",
       "      <td>2.50</td>\n",
       "      <td>9</td>\n",
       "      <td>5.4</td>\n",
       "      <td>1</td>\n",
       "      <td>NaN</td>\n",
       "      <td>...</td>\n",
       "      <td>9.8</td>\n",
       "      <td>NaN</td>\n",
       "      <td>Санкт-Петербург</td>\n",
       "      <td>29338.0</td>\n",
       "      <td>11270.0</td>\n",
       "      <td>1.0</td>\n",
       "      <td>584.0</td>\n",
       "      <td>0.0</td>\n",
       "      <td>NaN</td>\n",
       "      <td>33.0</td>\n",
       "    </tr>\n",
       "    <tr>\n",
       "      <td>22252</td>\n",
       "      <td>4</td>\n",
       "      <td>3340000.0</td>\n",
       "      <td>37.40</td>\n",
       "      <td>2018-02-08</td>\n",
       "      <td>1</td>\n",
       "      <td>2.80</td>\n",
       "      <td>8</td>\n",
       "      <td>9.0</td>\n",
       "      <td>4</td>\n",
       "      <td>NaN</td>\n",
       "      <td>...</td>\n",
       "      <td>19.0</td>\n",
       "      <td>2.0</td>\n",
       "      <td>Санкт-Петербург</td>\n",
       "      <td>19523.0</td>\n",
       "      <td>18525.0</td>\n",
       "      <td>1.0</td>\n",
       "      <td>365.0</td>\n",
       "      <td>0.0</td>\n",
       "      <td>NaN</td>\n",
       "      <td>233.0</td>\n",
       "    </tr>\n",
       "    <tr>\n",
       "      <td>22473</td>\n",
       "      <td>0</td>\n",
       "      <td>3490304.0</td>\n",
       "      <td>33.26</td>\n",
       "      <td>2015-12-22</td>\n",
       "      <td>2</td>\n",
       "      <td>2.65</td>\n",
       "      <td>13</td>\n",
       "      <td>9.1</td>\n",
       "      <td>9</td>\n",
       "      <td>NaN</td>\n",
       "      <td>...</td>\n",
       "      <td>16.4</td>\n",
       "      <td>0.0</td>\n",
       "      <td>Санкт-Петербург</td>\n",
       "      <td>33626.0</td>\n",
       "      <td>13495.0</td>\n",
       "      <td>0.0</td>\n",
       "      <td>NaN</td>\n",
       "      <td>0.0</td>\n",
       "      <td>NaN</td>\n",
       "      <td>199.0</td>\n",
       "    </tr>\n",
       "    <tr>\n",
       "      <td>23208</td>\n",
       "      <td>12</td>\n",
       "      <td>4800000.0</td>\n",
       "      <td>37.00</td>\n",
       "      <td>2016-02-24</td>\n",
       "      <td>1</td>\n",
       "      <td>2.65</td>\n",
       "      <td>14</td>\n",
       "      <td>8.0</td>\n",
       "      <td>11</td>\n",
       "      <td>NaN</td>\n",
       "      <td>...</td>\n",
       "      <td>22.0</td>\n",
       "      <td>0.0</td>\n",
       "      <td>Санкт-Петербург</td>\n",
       "      <td>27838.0</td>\n",
       "      <td>12387.0</td>\n",
       "      <td>2.0</td>\n",
       "      <td>358.0</td>\n",
       "      <td>1.0</td>\n",
       "      <td>950.0</td>\n",
       "      <td>139.0</td>\n",
       "    </tr>\n",
       "    <tr>\n",
       "      <td>23574</td>\n",
       "      <td>14</td>\n",
       "      <td>64990000.0</td>\n",
       "      <td>139.00</td>\n",
       "      <td>2015-11-24</td>\n",
       "      <td>3</td>\n",
       "      <td>3.00</td>\n",
       "      <td>8</td>\n",
       "      <td>3.0</td>\n",
       "      <td>8</td>\n",
       "      <td>NaN</td>\n",
       "      <td>...</td>\n",
       "      <td>16.0</td>\n",
       "      <td>1.0</td>\n",
       "      <td>Санкт-Петербург</td>\n",
       "      <td>33255.0</td>\n",
       "      <td>5975.0</td>\n",
       "      <td>1.0</td>\n",
       "      <td>630.0</td>\n",
       "      <td>3.0</td>\n",
       "      <td>100.0</td>\n",
       "      <td>280.0</td>\n",
       "    </tr>\n",
       "  </tbody>\n",
       "</table>\n",
       "<p>25 rows × 22 columns</p>\n",
       "</div>"
      ],
      "text/plain": [
       "       total_images  last_price  total_area first_day_exposition  rooms  \\\n",
       "114               5   4000000.0       21.40           2019-02-07      1   \n",
       "680              14   7200000.0       43.00           2017-10-31      1   \n",
       "1326              8   8100000.0       52.00           2017-01-29      2   \n",
       "2309             10   4200000.0       62.40           2017-06-15      2   \n",
       "3242              7   4440000.0       41.00           2017-07-02      1   \n",
       "4100             17   5300000.0       34.80           2017-06-19      1   \n",
       "4542             12   3300000.0       18.00           2018-11-07      1   \n",
       "7312              8   3400000.0       27.00           2018-02-21      2   \n",
       "8325              9   4800000.0       52.00           2017-10-25      2   \n",
       "13915            20   6350000.0       52.00           2018-02-06      2   \n",
       "15833            20   4600000.0       33.00           2017-01-01      1   \n",
       "16431            13   3799000.0       31.00           2018-04-12      1   \n",
       "17248            20   5300000.0       33.00           2017-04-14      1   \n",
       "17582            11   2680000.0       22.00           2018-08-11      0   \n",
       "19251            19   4050000.0       33.00           2018-10-15      1   \n",
       "19620            10   4300000.0       33.00           2018-02-01      1   \n",
       "20994             7   8900000.0       50.60           2018-10-22      2   \n",
       "21505             9   4100000.0       35.30           2018-01-10      1   \n",
       "21758             0   2330000.0       23.00           2018-01-01      0   \n",
       "21908             9   5300000.0       46.30           2018-03-20      1   \n",
       "21943            15   6100000.0       77.60           2019-02-28      4   \n",
       "22252             4   3340000.0       37.40           2018-02-08      1   \n",
       "22473             0   3490304.0       33.26           2015-12-22      2   \n",
       "23208            12   4800000.0       37.00           2016-02-24      1   \n",
       "23574            14  64990000.0      139.00           2015-11-24      3   \n",
       "\n",
       "       ceiling_height  floors_total  living_area  floor is_apartment  ...  \\\n",
       "114              2.90             8          8.3      7          NaN  ...   \n",
       "680              2.65             8          9.0      2          NaN  ...   \n",
       "1326             2.70            25          9.0     15          NaN  ...   \n",
       "2309             2.60             9          8.4      6          NaN  ...   \n",
       "3242             2.65            17          3.0     17          NaN  ...   \n",
       "4100             2.70            23          9.0     15          NaN  ...   \n",
       "4542             3.50             5          9.0      2          NaN  ...   \n",
       "7312             2.50            15          9.0      4          NaN  ...   \n",
       "8325             2.65             5          9.0      2          NaN  ...   \n",
       "13915            3.00             6          2.0      2          NaN  ...   \n",
       "15833            2.70            22          9.0     12          NaN  ...   \n",
       "16431            2.60             5          6.0      1          NaN  ...   \n",
       "17248            2.70            22          8.9     16          NaN  ...   \n",
       "17582            2.65            25          5.0      8          NaN  ...   \n",
       "19251            2.50            22          6.5     21          NaN  ...   \n",
       "19620            2.65             5          9.0      1          NaN  ...   \n",
       "20994            2.50             7          8.0      3          NaN  ...   \n",
       "21505            2.75            27          8.5     11          NaN  ...   \n",
       "21758            2.65            24          2.0     22          NaN  ...   \n",
       "21908            2.75             7          9.8      3          NaN  ...   \n",
       "21943            2.50             9          5.4      1          NaN  ...   \n",
       "22252            2.80             8          9.0      4          NaN  ...   \n",
       "22473            2.65            13          9.1      9          NaN  ...   \n",
       "23208            2.65            14          8.0     11          NaN  ...   \n",
       "23574            3.00             8          3.0      8          NaN  ...   \n",
       "\n",
       "       kitchen_area  balcony    locality_name  airports_nearest  \\\n",
       "114             6.3      NaN  Санкт-Петербург           27089.0   \n",
       "680            23.0      NaN  Санкт-Петербург           23900.0   \n",
       "1326           32.0      2.0  Санкт-Петербург           35555.0   \n",
       "2309           41.0      2.0   посёлок Шушары           23662.0   \n",
       "3242           11.0      NaN  Санкт-Петербург           19272.0   \n",
       "4100           17.1      0.0  Санкт-Петербург           33626.0   \n",
       "4542            NaN      NaN  Санкт-Петербург           25157.0   \n",
       "7312           16.0      NaN  Санкт-Петербург           50246.0   \n",
       "8325            6.0      1.0  Санкт-Петербург           33358.0   \n",
       "13915           9.0      NaN  Санкт-Петербург           32453.0   \n",
       "15833          14.3      1.0  Санкт-Петербург           33803.0   \n",
       "16431          17.0      NaN  Санкт-Петербург           32177.0   \n",
       "17248          16.1      1.0  Санкт-Петербург           33803.0   \n",
       "17582           NaN      2.0  Санкт-Петербург           22735.0   \n",
       "19251          18.0      NaN  Санкт-Петербург            9258.0   \n",
       "19620          17.0      NaN  Санкт-Петербург           22525.0   \n",
       "20994          31.0      NaN  Санкт-Петербург           12771.0   \n",
       "21505          16.1      2.0  Санкт-Петербург           33977.0   \n",
       "21758           NaN      NaN   посёлок Мурино               NaN   \n",
       "21908          26.0      NaN       Сестрорецк           55422.0   \n",
       "21943           9.8      NaN  Санкт-Петербург           29338.0   \n",
       "22252          19.0      2.0  Санкт-Петербург           19523.0   \n",
       "22473          16.4      0.0  Санкт-Петербург           33626.0   \n",
       "23208          22.0      0.0  Санкт-Петербург           27838.0   \n",
       "23574          16.0      1.0  Санкт-Петербург           33255.0   \n",
       "\n",
       "      cityCenters_nearest  parks_around3000  parks_nearest  ponds_around3000  \\\n",
       "114                5791.0               2.0          488.0               1.0   \n",
       "680                5232.0               1.0         2137.0               1.0   \n",
       "1326              15561.0               0.0            NaN               1.0   \n",
       "2309              29448.0               0.0            NaN               0.0   \n",
       "3242              13073.0               0.0            NaN               0.0   \n",
       "4100              13495.0               0.0            NaN               0.0   \n",
       "4542               4948.0               2.0          349.0               1.0   \n",
       "7312              16444.0               1.0          617.0               0.0   \n",
       "8325              13171.0               0.0            NaN               2.0   \n",
       "13915              6521.0               0.0            NaN               1.0   \n",
       "15833             13671.0               0.0            NaN               0.0   \n",
       "16431              4826.0               1.0          430.0               0.0   \n",
       "17248             13671.0               0.0            NaN               0.0   \n",
       "17582             11618.0               1.0          835.0               1.0   \n",
       "19251             10592.0               1.0          458.0               0.0   \n",
       "19620              2976.0               2.0          251.0               3.0   \n",
       "20994              8301.0               1.0          173.0               3.0   \n",
       "21505             15076.0               0.0            NaN               0.0   \n",
       "21758                 NaN               NaN            NaN               NaN   \n",
       "21908             32352.0               0.0            NaN               1.0   \n",
       "21943             11270.0               1.0          584.0               0.0   \n",
       "22252             18525.0               1.0          365.0               0.0   \n",
       "22473             13495.0               0.0            NaN               0.0   \n",
       "23208             12387.0               2.0          358.0               1.0   \n",
       "23574              5975.0               1.0          630.0               3.0   \n",
       "\n",
       "       ponds_nearest  days_exposition  \n",
       "114            286.0              NaN  \n",
       "680            933.0            296.0  \n",
       "1326          1180.0            337.0  \n",
       "2309             NaN            111.0  \n",
       "3242             NaN            216.0  \n",
       "4100             NaN             30.0  \n",
       "4542           963.0              9.0  \n",
       "7312             NaN              NaN  \n",
       "8325           118.0            119.0  \n",
       "13915         1012.0             91.0  \n",
       "15833            NaN            511.0  \n",
       "16431            NaN            168.0  \n",
       "17248            NaN            216.0  \n",
       "17582          652.0             70.0  \n",
       "19251            NaN             44.0  \n",
       "19620          220.0             86.0  \n",
       "20994          126.0              NaN  \n",
       "21505            NaN             60.0  \n",
       "21758            NaN             66.0  \n",
       "21908         1144.0             36.0  \n",
       "21943            NaN             33.0  \n",
       "22252            NaN            233.0  \n",
       "22473            NaN            199.0  \n",
       "23208          950.0            139.0  \n",
       "23574          100.0            280.0  \n",
       "\n",
       "[25 rows x 22 columns]"
      ]
     },
     "execution_count": 20,
     "metadata": {},
     "output_type": "execute_result"
    }
   ],
   "source": [
    "df[df['living_area'] < 10]"
   ]
  },
  {
   "cell_type": "markdown",
   "metadata": {},
   "source": [
    "Исходя из информации об общей площади, скорее всего данные просто перепутаны с площадью кухни, так как размер кухни больше жилой площади. Было бы целесообразно поменять их местами. Но я, откровенно, не понимаю как это сделать. В то же время таких квартир всего 25. Думаю такое количество не повлияет на результат, так как объем менее 1% от общего количества объявлений. Заменим пропуски медианным значением."
   ]
  },
  {
   "cell_type": "code",
   "execution_count": 21,
   "metadata": {},
   "outputs": [
    {
     "data": {
      "text/plain": [
       "0"
      ]
     },
     "execution_count": 21,
     "metadata": {},
     "output_type": "execute_result"
    }
   ],
   "source": [
    "# запишем отношение в переменную:\n",
    "liv_area_rait = df['living_area'] / df['total_area']\n",
    "\n",
    "# удалим пропуски в переменной и найдем медианное отношение:\n",
    "\n",
    "liv_area_rait = liv_area_rait.median()\n",
    "\n",
    "# заполним пропуски применив коэффициент к общей площади:\n",
    "\n",
    "df['living_area'] = df['living_area'].fillna(df['total_area'] * liv_area_rait).round(decimals=2)\n",
    "df['living_area'].isna().sum()"
   ]
  },
  {
   "cell_type": "markdown",
   "metadata": {},
   "source": [
    "В столбце floor нет пропусков. Посмотрим на эктремальные значения:"
   ]
  },
  {
   "cell_type": "code",
   "execution_count": 22,
   "metadata": {},
   "outputs": [
    {
     "name": "stdout",
     "output_type": "stream",
     "text": [
      "1\n",
      "33\n"
     ]
    }
   ],
   "source": [
    "print(df['floor'].min())\n",
    "print(df['floor'].max())"
   ]
  },
  {
   "cell_type": "markdown",
   "metadata": {},
   "source": [
    "Все в порядке. Формат столбца int64. is_apartment - апартаменты имеет пропуски. Заменим их на значение \"False\", так как не указав апартаменты, продавец скорее всего имел в виду что квартира апартаментами не явлется. "
   ]
  },
  {
   "cell_type": "code",
   "execution_count": 23,
   "metadata": {},
   "outputs": [
    {
     "name": "stdout",
     "output_type": "stream",
     "text": [
      "<class 'pandas.core.frame.DataFrame'>\n",
      "RangeIndex: 23699 entries, 0 to 23698\n",
      "Data columns (total 22 columns):\n",
      "total_images            23699 non-null int64\n",
      "last_price              23699 non-null float64\n",
      "total_area              23699 non-null float64\n",
      "first_day_exposition    23699 non-null datetime64[ns]\n",
      "rooms                   23699 non-null int64\n",
      "ceiling_height          23699 non-null float64\n",
      "floors_total            23699 non-null int64\n",
      "living_area             23699 non-null float64\n",
      "floor                   23699 non-null int64\n",
      "is_apartment            23699 non-null bool\n",
      "studio                  23699 non-null bool\n",
      "open_plan               23699 non-null bool\n",
      "kitchen_area            21421 non-null float64\n",
      "balcony                 12180 non-null float64\n",
      "locality_name           23650 non-null object\n",
      "airports_nearest        18157 non-null float64\n",
      "cityCenters_nearest     18180 non-null float64\n",
      "parks_around3000        18181 non-null float64\n",
      "parks_nearest           8079 non-null float64\n",
      "ponds_around3000        18181 non-null float64\n",
      "ponds_nearest           9110 non-null float64\n",
      "days_exposition         20518 non-null float64\n",
      "dtypes: bool(3), datetime64[ns](1), float64(13), int64(4), object(1)\n",
      "memory usage: 3.5+ MB\n"
     ]
    }
   ],
   "source": [
    "# убираем пропуски:\n",
    "df['is_apartment'] = df['is_apartment'].fillna(False)\n",
    "df.info()\n"
   ]
  },
  {
   "cell_type": "markdown",
   "metadata": {},
   "source": [
    "studio и open_plan пропустим, так как там нет пропусков и это булевы столбцы. В столбце kitchen_area - площадь кухни так же как с жилой площадью, проверим экстремальные значения и заменим пропуски медианым отношением общей площади к площади кухни других объявлений. "
   ]
  },
  {
   "cell_type": "code",
   "execution_count": 24,
   "metadata": {},
   "outputs": [
    {
     "name": "stdout",
     "output_type": "stream",
     "text": [
      "112.0\n",
      "1.3\n"
     ]
    }
   ],
   "source": [
    "print(df['kitchen_area'].max())\n",
    "print(df['kitchen_area'].min())"
   ]
  },
  {
   "cell_type": "markdown",
   "metadata": {},
   "source": [
    "Поступим по другому. Отсортируем данные по стобцу kitchen_area, так как юпитер выводит начало и конец таблицы, увидим все вместе. Возможно не самый правильный вариант, но удобный для меня."
   ]
  },
  {
   "cell_type": "code",
   "execution_count": 25,
   "metadata": {},
   "outputs": [
    {
     "data": {
      "text/html": [
       "<div>\n",
       "<style scoped>\n",
       "    .dataframe tbody tr th:only-of-type {\n",
       "        vertical-align: middle;\n",
       "    }\n",
       "\n",
       "    .dataframe tbody tr th {\n",
       "        vertical-align: top;\n",
       "    }\n",
       "\n",
       "    .dataframe thead th {\n",
       "        text-align: right;\n",
       "    }\n",
       "</style>\n",
       "<table border=\"1\" class=\"dataframe\">\n",
       "  <thead>\n",
       "    <tr style=\"text-align: right;\">\n",
       "      <th></th>\n",
       "      <th>total_images</th>\n",
       "      <th>last_price</th>\n",
       "      <th>total_area</th>\n",
       "      <th>first_day_exposition</th>\n",
       "      <th>rooms</th>\n",
       "      <th>ceiling_height</th>\n",
       "      <th>floors_total</th>\n",
       "      <th>living_area</th>\n",
       "      <th>floor</th>\n",
       "      <th>is_apartment</th>\n",
       "      <th>...</th>\n",
       "      <th>kitchen_area</th>\n",
       "      <th>balcony</th>\n",
       "      <th>locality_name</th>\n",
       "      <th>airports_nearest</th>\n",
       "      <th>cityCenters_nearest</th>\n",
       "      <th>parks_around3000</th>\n",
       "      <th>parks_nearest</th>\n",
       "      <th>ponds_around3000</th>\n",
       "      <th>ponds_nearest</th>\n",
       "      <th>days_exposition</th>\n",
       "    </tr>\n",
       "  </thead>\n",
       "  <tbody>\n",
       "    <tr>\n",
       "      <td>20217</td>\n",
       "      <td>7</td>\n",
       "      <td>4250000.0</td>\n",
       "      <td>28.50</td>\n",
       "      <td>2019-05-01</td>\n",
       "      <td>1</td>\n",
       "      <td>2.80</td>\n",
       "      <td>14</td>\n",
       "      <td>19.50</td>\n",
       "      <td>10</td>\n",
       "      <td>False</td>\n",
       "      <td>...</td>\n",
       "      <td>1.3</td>\n",
       "      <td>NaN</td>\n",
       "      <td>Санкт-Петербург</td>\n",
       "      <td>37199.0</td>\n",
       "      <td>12721.0</td>\n",
       "      <td>0.0</td>\n",
       "      <td>NaN</td>\n",
       "      <td>0.0</td>\n",
       "      <td>NaN</td>\n",
       "      <td>NaN</td>\n",
       "    </tr>\n",
       "    <tr>\n",
       "      <td>9138</td>\n",
       "      <td>17</td>\n",
       "      <td>2920000.0</td>\n",
       "      <td>23.29</td>\n",
       "      <td>2018-12-12</td>\n",
       "      <td>1</td>\n",
       "      <td>2.65</td>\n",
       "      <td>3</td>\n",
       "      <td>21.00</td>\n",
       "      <td>1</td>\n",
       "      <td>False</td>\n",
       "      <td>...</td>\n",
       "      <td>2.0</td>\n",
       "      <td>NaN</td>\n",
       "      <td>Санкт-Петербург</td>\n",
       "      <td>19506.0</td>\n",
       "      <td>4008.0</td>\n",
       "      <td>0.0</td>\n",
       "      <td>NaN</td>\n",
       "      <td>2.0</td>\n",
       "      <td>45.0</td>\n",
       "      <td>107.0</td>\n",
       "    </tr>\n",
       "    <tr>\n",
       "      <td>6262</td>\n",
       "      <td>9</td>\n",
       "      <td>3100000.0</td>\n",
       "      <td>24.00</td>\n",
       "      <td>2018-06-25</td>\n",
       "      <td>2</td>\n",
       "      <td>3.00</td>\n",
       "      <td>5</td>\n",
       "      <td>16.00</td>\n",
       "      <td>5</td>\n",
       "      <td>False</td>\n",
       "      <td>...</td>\n",
       "      <td>2.0</td>\n",
       "      <td>NaN</td>\n",
       "      <td>Санкт-Петербург</td>\n",
       "      <td>31960.0</td>\n",
       "      <td>4914.0</td>\n",
       "      <td>2.0</td>\n",
       "      <td>426.0</td>\n",
       "      <td>1.0</td>\n",
       "      <td>936.0</td>\n",
       "      <td>54.0</td>\n",
       "    </tr>\n",
       "    <tr>\n",
       "      <td>21419</td>\n",
       "      <td>4</td>\n",
       "      <td>1870000.0</td>\n",
       "      <td>20.00</td>\n",
       "      <td>2018-03-06</td>\n",
       "      <td>1</td>\n",
       "      <td>2.50</td>\n",
       "      <td>5</td>\n",
       "      <td>14.00</td>\n",
       "      <td>1</td>\n",
       "      <td>False</td>\n",
       "      <td>...</td>\n",
       "      <td>2.0</td>\n",
       "      <td>NaN</td>\n",
       "      <td>Санкт-Петербург</td>\n",
       "      <td>16652.0</td>\n",
       "      <td>15654.0</td>\n",
       "      <td>1.0</td>\n",
       "      <td>619.0</td>\n",
       "      <td>1.0</td>\n",
       "      <td>937.0</td>\n",
       "      <td>45.0</td>\n",
       "    </tr>\n",
       "    <tr>\n",
       "      <td>19642</td>\n",
       "      <td>5</td>\n",
       "      <td>1190000.0</td>\n",
       "      <td>14.00</td>\n",
       "      <td>2018-07-29</td>\n",
       "      <td>1</td>\n",
       "      <td>2.65</td>\n",
       "      <td>5</td>\n",
       "      <td>11.00</td>\n",
       "      <td>1</td>\n",
       "      <td>False</td>\n",
       "      <td>...</td>\n",
       "      <td>2.0</td>\n",
       "      <td>NaN</td>\n",
       "      <td>Санкт-Петербург</td>\n",
       "      <td>9898.0</td>\n",
       "      <td>11122.0</td>\n",
       "      <td>0.0</td>\n",
       "      <td>NaN</td>\n",
       "      <td>0.0</td>\n",
       "      <td>NaN</td>\n",
       "      <td>4.0</td>\n",
       "    </tr>\n",
       "    <tr>\n",
       "      <td>...</td>\n",
       "      <td>...</td>\n",
       "      <td>...</td>\n",
       "      <td>...</td>\n",
       "      <td>...</td>\n",
       "      <td>...</td>\n",
       "      <td>...</td>\n",
       "      <td>...</td>\n",
       "      <td>...</td>\n",
       "      <td>...</td>\n",
       "      <td>...</td>\n",
       "      <td>...</td>\n",
       "      <td>...</td>\n",
       "      <td>...</td>\n",
       "      <td>...</td>\n",
       "      <td>...</td>\n",
       "      <td>...</td>\n",
       "      <td>...</td>\n",
       "      <td>...</td>\n",
       "      <td>...</td>\n",
       "      <td>...</td>\n",
       "      <td>...</td>\n",
       "    </tr>\n",
       "    <tr>\n",
       "      <td>23655</td>\n",
       "      <td>1</td>\n",
       "      <td>2414306.0</td>\n",
       "      <td>40.50</td>\n",
       "      <td>2016-09-08</td>\n",
       "      <td>1</td>\n",
       "      <td>2.56</td>\n",
       "      <td>18</td>\n",
       "      <td>19.60</td>\n",
       "      <td>10</td>\n",
       "      <td>False</td>\n",
       "      <td>...</td>\n",
       "      <td>NaN</td>\n",
       "      <td>NaN</td>\n",
       "      <td>Никольское</td>\n",
       "      <td>NaN</td>\n",
       "      <td>NaN</td>\n",
       "      <td>NaN</td>\n",
       "      <td>NaN</td>\n",
       "      <td>NaN</td>\n",
       "      <td>NaN</td>\n",
       "      <td>627.0</td>\n",
       "    </tr>\n",
       "    <tr>\n",
       "      <td>23663</td>\n",
       "      <td>12</td>\n",
       "      <td>6400000.0</td>\n",
       "      <td>88.00</td>\n",
       "      <td>2018-01-12</td>\n",
       "      <td>4</td>\n",
       "      <td>2.55</td>\n",
       "      <td>10</td>\n",
       "      <td>49.97</td>\n",
       "      <td>1</td>\n",
       "      <td>False</td>\n",
       "      <td>...</td>\n",
       "      <td>NaN</td>\n",
       "      <td>NaN</td>\n",
       "      <td>Санкт-Петербург</td>\n",
       "      <td>33642.0</td>\n",
       "      <td>13943.0</td>\n",
       "      <td>0.0</td>\n",
       "      <td>NaN</td>\n",
       "      <td>2.0</td>\n",
       "      <td>844.0</td>\n",
       "      <td>59.0</td>\n",
       "    </tr>\n",
       "    <tr>\n",
       "      <td>23670</td>\n",
       "      <td>9</td>\n",
       "      <td>2450000.0</td>\n",
       "      <td>45.60</td>\n",
       "      <td>2018-02-08</td>\n",
       "      <td>1</td>\n",
       "      <td>2.80</td>\n",
       "      <td>9</td>\n",
       "      <td>25.89</td>\n",
       "      <td>2</td>\n",
       "      <td>False</td>\n",
       "      <td>...</td>\n",
       "      <td>NaN</td>\n",
       "      <td>NaN</td>\n",
       "      <td>поселок городского типа Синявино</td>\n",
       "      <td>NaN</td>\n",
       "      <td>NaN</td>\n",
       "      <td>NaN</td>\n",
       "      <td>NaN</td>\n",
       "      <td>NaN</td>\n",
       "      <td>NaN</td>\n",
       "      <td>45.0</td>\n",
       "    </tr>\n",
       "    <tr>\n",
       "      <td>23679</td>\n",
       "      <td>0</td>\n",
       "      <td>2500000.0</td>\n",
       "      <td>35.00</td>\n",
       "      <td>2017-12-08</td>\n",
       "      <td>1</td>\n",
       "      <td>2.65</td>\n",
       "      <td>9</td>\n",
       "      <td>19.88</td>\n",
       "      <td>4</td>\n",
       "      <td>False</td>\n",
       "      <td>...</td>\n",
       "      <td>NaN</td>\n",
       "      <td>NaN</td>\n",
       "      <td>Сосновый Бор</td>\n",
       "      <td>NaN</td>\n",
       "      <td>NaN</td>\n",
       "      <td>NaN</td>\n",
       "      <td>NaN</td>\n",
       "      <td>NaN</td>\n",
       "      <td>NaN</td>\n",
       "      <td>45.0</td>\n",
       "    </tr>\n",
       "    <tr>\n",
       "      <td>23696</td>\n",
       "      <td>18</td>\n",
       "      <td>2500000.0</td>\n",
       "      <td>56.70</td>\n",
       "      <td>2018-02-11</td>\n",
       "      <td>2</td>\n",
       "      <td>2.65</td>\n",
       "      <td>3</td>\n",
       "      <td>29.70</td>\n",
       "      <td>1</td>\n",
       "      <td>False</td>\n",
       "      <td>...</td>\n",
       "      <td>NaN</td>\n",
       "      <td>NaN</td>\n",
       "      <td>село Рождествено</td>\n",
       "      <td>NaN</td>\n",
       "      <td>NaN</td>\n",
       "      <td>NaN</td>\n",
       "      <td>NaN</td>\n",
       "      <td>NaN</td>\n",
       "      <td>NaN</td>\n",
       "      <td>NaN</td>\n",
       "    </tr>\n",
       "  </tbody>\n",
       "</table>\n",
       "<p>23699 rows × 22 columns</p>\n",
       "</div>"
      ],
      "text/plain": [
       "       total_images  last_price  total_area first_day_exposition  rooms  \\\n",
       "20217             7   4250000.0       28.50           2019-05-01      1   \n",
       "9138             17   2920000.0       23.29           2018-12-12      1   \n",
       "6262              9   3100000.0       24.00           2018-06-25      2   \n",
       "21419             4   1870000.0       20.00           2018-03-06      1   \n",
       "19642             5   1190000.0       14.00           2018-07-29      1   \n",
       "...             ...         ...         ...                  ...    ...   \n",
       "23655             1   2414306.0       40.50           2016-09-08      1   \n",
       "23663            12   6400000.0       88.00           2018-01-12      4   \n",
       "23670             9   2450000.0       45.60           2018-02-08      1   \n",
       "23679             0   2500000.0       35.00           2017-12-08      1   \n",
       "23696            18   2500000.0       56.70           2018-02-11      2   \n",
       "\n",
       "       ceiling_height  floors_total  living_area  floor  is_apartment  ...  \\\n",
       "20217            2.80            14        19.50     10         False  ...   \n",
       "9138             2.65             3        21.00      1         False  ...   \n",
       "6262             3.00             5        16.00      5         False  ...   \n",
       "21419            2.50             5        14.00      1         False  ...   \n",
       "19642            2.65             5        11.00      1         False  ...   \n",
       "...               ...           ...          ...    ...           ...  ...   \n",
       "23655            2.56            18        19.60     10         False  ...   \n",
       "23663            2.55            10        49.97      1         False  ...   \n",
       "23670            2.80             9        25.89      2         False  ...   \n",
       "23679            2.65             9        19.88      4         False  ...   \n",
       "23696            2.65             3        29.70      1         False  ...   \n",
       "\n",
       "       kitchen_area  balcony                     locality_name  \\\n",
       "20217           1.3      NaN                   Санкт-Петербург   \n",
       "9138            2.0      NaN                   Санкт-Петербург   \n",
       "6262            2.0      NaN                   Санкт-Петербург   \n",
       "21419           2.0      NaN                   Санкт-Петербург   \n",
       "19642           2.0      NaN                   Санкт-Петербург   \n",
       "...             ...      ...                               ...   \n",
       "23655           NaN      NaN                        Никольское   \n",
       "23663           NaN      NaN                   Санкт-Петербург   \n",
       "23670           NaN      NaN  поселок городского типа Синявино   \n",
       "23679           NaN      NaN                      Сосновый Бор   \n",
       "23696           NaN      NaN                  село Рождествено   \n",
       "\n",
       "       airports_nearest cityCenters_nearest  parks_around3000  parks_nearest  \\\n",
       "20217           37199.0             12721.0               0.0            NaN   \n",
       "9138            19506.0              4008.0               0.0            NaN   \n",
       "6262            31960.0              4914.0               2.0          426.0   \n",
       "21419           16652.0             15654.0               1.0          619.0   \n",
       "19642            9898.0             11122.0               0.0            NaN   \n",
       "...                 ...                 ...               ...            ...   \n",
       "23655               NaN                 NaN               NaN            NaN   \n",
       "23663           33642.0             13943.0               0.0            NaN   \n",
       "23670               NaN                 NaN               NaN            NaN   \n",
       "23679               NaN                 NaN               NaN            NaN   \n",
       "23696               NaN                 NaN               NaN            NaN   \n",
       "\n",
       "       ponds_around3000  ponds_nearest  days_exposition  \n",
       "20217               0.0            NaN              NaN  \n",
       "9138                2.0           45.0            107.0  \n",
       "6262                1.0          936.0             54.0  \n",
       "21419               1.0          937.0             45.0  \n",
       "19642               0.0            NaN              4.0  \n",
       "...                 ...            ...              ...  \n",
       "23655               NaN            NaN            627.0  \n",
       "23663               2.0          844.0             59.0  \n",
       "23670               NaN            NaN             45.0  \n",
       "23679               NaN            NaN             45.0  \n",
       "23696               NaN            NaN              NaN  \n",
       "\n",
       "[23699 rows x 22 columns]"
      ]
     },
     "execution_count": 25,
     "metadata": {},
     "output_type": "execute_result"
    }
   ],
   "source": [
    "df.sort_values(by='kitchen_area')"
   ]
  },
  {
   "cell_type": "markdown",
   "metadata": {},
   "source": [
    "Данные коррелируются и с общей и с жилой площадью. Менять данные площади кухни не будем. А вот пропуски запонить надо:"
   ]
  },
  {
   "cell_type": "code",
   "execution_count": 26,
   "metadata": {},
   "outputs": [
    {
     "data": {
      "text/plain": [
       "0"
      ]
     },
     "execution_count": 26,
     "metadata": {},
     "output_type": "execute_result"
    }
   ],
   "source": [
    "# запишем отношение в переменную:\n",
    "kitch_area_rait = df['kitchen_area'] / df['total_area']\n",
    "\n",
    "# удалим пропуски в переменной и найдем медианное отношение:\n",
    "\n",
    "kitch_area_rait = kitch_area_rait.median()\n",
    "\n",
    "# заполним пропуски применив коэффициент к общей площади:\n",
    "\n",
    "df['kitchen_area'] = df['kitchen_area'].fillna(df['total_area'] * kitch_area_rait).round(decimals=2)\n",
    "df['kitchen_area'].isna().sum()"
   ]
  },
  {
   "cell_type": "markdown",
   "metadata": {},
   "source": [
    "В данных с балконами тоже много пропусков. Ситуация схожа с данными об апартаментах. Если не указан, скорее всего нет. Меням пропуски на 0, а тип меняем на int. Не бывает половина балкона. Он либо есть, либо нет. "
   ]
  },
  {
   "cell_type": "code",
   "execution_count": 27,
   "metadata": {},
   "outputs": [
    {
     "data": {
      "text/plain": [
       "0"
      ]
     },
     "execution_count": 27,
     "metadata": {},
     "output_type": "execute_result"
    }
   ],
   "source": [
    "df['balcony'] = df['balcony'].fillna(0).astype('int')\n",
    "df['balcony'].isna().sum()"
   ]
  },
  {
   "cell_type": "markdown",
   "metadata": {},
   "source": [
    "Столбец locality_name тоже имеет пропуски. Но как их заполнять пока не ясно. Посмотрим на таблицу пропусков"
   ]
  },
  {
   "cell_type": "code",
   "execution_count": 28,
   "metadata": {},
   "outputs": [
    {
     "data": {
      "text/html": [
       "<div>\n",
       "<style scoped>\n",
       "    .dataframe tbody tr th:only-of-type {\n",
       "        vertical-align: middle;\n",
       "    }\n",
       "\n",
       "    .dataframe tbody tr th {\n",
       "        vertical-align: top;\n",
       "    }\n",
       "\n",
       "    .dataframe thead th {\n",
       "        text-align: right;\n",
       "    }\n",
       "</style>\n",
       "<table border=\"1\" class=\"dataframe\">\n",
       "  <thead>\n",
       "    <tr style=\"text-align: right;\">\n",
       "      <th></th>\n",
       "      <th>total_images</th>\n",
       "      <th>last_price</th>\n",
       "      <th>total_area</th>\n",
       "      <th>first_day_exposition</th>\n",
       "      <th>rooms</th>\n",
       "      <th>ceiling_height</th>\n",
       "      <th>floors_total</th>\n",
       "      <th>living_area</th>\n",
       "      <th>floor</th>\n",
       "      <th>is_apartment</th>\n",
       "      <th>...</th>\n",
       "      <th>kitchen_area</th>\n",
       "      <th>balcony</th>\n",
       "      <th>locality_name</th>\n",
       "      <th>airports_nearest</th>\n",
       "      <th>cityCenters_nearest</th>\n",
       "      <th>parks_around3000</th>\n",
       "      <th>parks_nearest</th>\n",
       "      <th>ponds_around3000</th>\n",
       "      <th>ponds_nearest</th>\n",
       "      <th>days_exposition</th>\n",
       "    </tr>\n",
       "  </thead>\n",
       "  <tbody>\n",
       "    <tr>\n",
       "      <td>1097</td>\n",
       "      <td>3</td>\n",
       "      <td>8600000.0</td>\n",
       "      <td>81.70</td>\n",
       "      <td>2016-04-15</td>\n",
       "      <td>3</td>\n",
       "      <td>3.55</td>\n",
       "      <td>5</td>\n",
       "      <td>50.80</td>\n",
       "      <td>2</td>\n",
       "      <td>False</td>\n",
       "      <td>...</td>\n",
       "      <td>8.80</td>\n",
       "      <td>0</td>\n",
       "      <td>NaN</td>\n",
       "      <td>23478.0</td>\n",
       "      <td>4258.0</td>\n",
       "      <td>0.0</td>\n",
       "      <td>NaN</td>\n",
       "      <td>0.0</td>\n",
       "      <td>NaN</td>\n",
       "      <td>147.0</td>\n",
       "    </tr>\n",
       "    <tr>\n",
       "      <td>2033</td>\n",
       "      <td>6</td>\n",
       "      <td>5398000.0</td>\n",
       "      <td>80.00</td>\n",
       "      <td>2017-05-30</td>\n",
       "      <td>3</td>\n",
       "      <td>2.65</td>\n",
       "      <td>4</td>\n",
       "      <td>42.60</td>\n",
       "      <td>2</td>\n",
       "      <td>False</td>\n",
       "      <td>...</td>\n",
       "      <td>18.60</td>\n",
       "      <td>0</td>\n",
       "      <td>NaN</td>\n",
       "      <td>NaN</td>\n",
       "      <td>NaN</td>\n",
       "      <td>NaN</td>\n",
       "      <td>NaN</td>\n",
       "      <td>NaN</td>\n",
       "      <td>NaN</td>\n",
       "      <td>34.0</td>\n",
       "    </tr>\n",
       "    <tr>\n",
       "      <td>2603</td>\n",
       "      <td>20</td>\n",
       "      <td>3351765.0</td>\n",
       "      <td>42.70</td>\n",
       "      <td>2015-09-20</td>\n",
       "      <td>1</td>\n",
       "      <td>2.65</td>\n",
       "      <td>24</td>\n",
       "      <td>15.60</td>\n",
       "      <td>3</td>\n",
       "      <td>False</td>\n",
       "      <td>...</td>\n",
       "      <td>10.70</td>\n",
       "      <td>0</td>\n",
       "      <td>NaN</td>\n",
       "      <td>22041.0</td>\n",
       "      <td>17369.0</td>\n",
       "      <td>0.0</td>\n",
       "      <td>NaN</td>\n",
       "      <td>1.0</td>\n",
       "      <td>374.0</td>\n",
       "      <td>276.0</td>\n",
       "    </tr>\n",
       "    <tr>\n",
       "      <td>2632</td>\n",
       "      <td>2</td>\n",
       "      <td>5130593.0</td>\n",
       "      <td>62.40</td>\n",
       "      <td>2015-10-11</td>\n",
       "      <td>2</td>\n",
       "      <td>2.65</td>\n",
       "      <td>24</td>\n",
       "      <td>33.10</td>\n",
       "      <td>21</td>\n",
       "      <td>False</td>\n",
       "      <td>...</td>\n",
       "      <td>8.20</td>\n",
       "      <td>0</td>\n",
       "      <td>NaN</td>\n",
       "      <td>22041.0</td>\n",
       "      <td>17369.0</td>\n",
       "      <td>0.0</td>\n",
       "      <td>NaN</td>\n",
       "      <td>1.0</td>\n",
       "      <td>374.0</td>\n",
       "      <td>256.0</td>\n",
       "    </tr>\n",
       "    <tr>\n",
       "      <td>3574</td>\n",
       "      <td>10</td>\n",
       "      <td>4200000.0</td>\n",
       "      <td>46.50</td>\n",
       "      <td>2016-05-28</td>\n",
       "      <td>2</td>\n",
       "      <td>2.65</td>\n",
       "      <td>5</td>\n",
       "      <td>30.80</td>\n",
       "      <td>5</td>\n",
       "      <td>False</td>\n",
       "      <td>...</td>\n",
       "      <td>6.50</td>\n",
       "      <td>0</td>\n",
       "      <td>NaN</td>\n",
       "      <td>27419.0</td>\n",
       "      <td>8127.0</td>\n",
       "      <td>0.0</td>\n",
       "      <td>NaN</td>\n",
       "      <td>1.0</td>\n",
       "      <td>603.0</td>\n",
       "      <td>45.0</td>\n",
       "    </tr>\n",
       "    <tr>\n",
       "      <td>4151</td>\n",
       "      <td>17</td>\n",
       "      <td>17600000.0</td>\n",
       "      <td>89.50</td>\n",
       "      <td>2014-12-09</td>\n",
       "      <td>2</td>\n",
       "      <td>3.00</td>\n",
       "      <td>8</td>\n",
       "      <td>39.62</td>\n",
       "      <td>7</td>\n",
       "      <td>False</td>\n",
       "      <td>...</td>\n",
       "      <td>13.38</td>\n",
       "      <td>0</td>\n",
       "      <td>NaN</td>\n",
       "      <td>25054.0</td>\n",
       "      <td>3902.0</td>\n",
       "      <td>1.0</td>\n",
       "      <td>485.0</td>\n",
       "      <td>3.0</td>\n",
       "      <td>722.0</td>\n",
       "      <td>869.0</td>\n",
       "    </tr>\n",
       "    <tr>\n",
       "      <td>4189</td>\n",
       "      <td>7</td>\n",
       "      <td>9200000.0</td>\n",
       "      <td>80.00</td>\n",
       "      <td>2015-12-10</td>\n",
       "      <td>3</td>\n",
       "      <td>4.00</td>\n",
       "      <td>4</td>\n",
       "      <td>52.30</td>\n",
       "      <td>3</td>\n",
       "      <td>False</td>\n",
       "      <td>...</td>\n",
       "      <td>10.40</td>\n",
       "      <td>0</td>\n",
       "      <td>NaN</td>\n",
       "      <td>21774.0</td>\n",
       "      <td>3039.0</td>\n",
       "      <td>1.0</td>\n",
       "      <td>690.0</td>\n",
       "      <td>1.0</td>\n",
       "      <td>953.0</td>\n",
       "      <td>223.0</td>\n",
       "    </tr>\n",
       "    <tr>\n",
       "      <td>4670</td>\n",
       "      <td>1</td>\n",
       "      <td>5500000.0</td>\n",
       "      <td>83.00</td>\n",
       "      <td>2015-08-14</td>\n",
       "      <td>3</td>\n",
       "      <td>2.65</td>\n",
       "      <td>7</td>\n",
       "      <td>47.13</td>\n",
       "      <td>6</td>\n",
       "      <td>False</td>\n",
       "      <td>...</td>\n",
       "      <td>14.31</td>\n",
       "      <td>0</td>\n",
       "      <td>NaN</td>\n",
       "      <td>26534.0</td>\n",
       "      <td>5382.0</td>\n",
       "      <td>1.0</td>\n",
       "      <td>446.0</td>\n",
       "      <td>1.0</td>\n",
       "      <td>376.0</td>\n",
       "      <td>350.0</td>\n",
       "    </tr>\n",
       "    <tr>\n",
       "      <td>5343</td>\n",
       "      <td>19</td>\n",
       "      <td>13540000.0</td>\n",
       "      <td>85.50</td>\n",
       "      <td>2016-01-20</td>\n",
       "      <td>3</td>\n",
       "      <td>2.65</td>\n",
       "      <td>7</td>\n",
       "      <td>59.10</td>\n",
       "      <td>5</td>\n",
       "      <td>False</td>\n",
       "      <td>...</td>\n",
       "      <td>8.30</td>\n",
       "      <td>4</td>\n",
       "      <td>NaN</td>\n",
       "      <td>10556.0</td>\n",
       "      <td>9538.0</td>\n",
       "      <td>1.0</td>\n",
       "      <td>67.0</td>\n",
       "      <td>0.0</td>\n",
       "      <td>NaN</td>\n",
       "      <td>303.0</td>\n",
       "    </tr>\n",
       "    <tr>\n",
       "      <td>5707</td>\n",
       "      <td>7</td>\n",
       "      <td>3700000.0</td>\n",
       "      <td>30.00</td>\n",
       "      <td>2016-04-29</td>\n",
       "      <td>1</td>\n",
       "      <td>2.65</td>\n",
       "      <td>24</td>\n",
       "      <td>20.00</td>\n",
       "      <td>23</td>\n",
       "      <td>False</td>\n",
       "      <td>...</td>\n",
       "      <td>5.17</td>\n",
       "      <td>0</td>\n",
       "      <td>NaN</td>\n",
       "      <td>21460.0</td>\n",
       "      <td>16788.0</td>\n",
       "      <td>0.0</td>\n",
       "      <td>NaN</td>\n",
       "      <td>1.0</td>\n",
       "      <td>170.0</td>\n",
       "      <td>49.0</td>\n",
       "    </tr>\n",
       "    <tr>\n",
       "      <td>6765</td>\n",
       "      <td>20</td>\n",
       "      <td>4895892.0</td>\n",
       "      <td>60.70</td>\n",
       "      <td>2015-03-12</td>\n",
       "      <td>2</td>\n",
       "      <td>2.65</td>\n",
       "      <td>24</td>\n",
       "      <td>31.90</td>\n",
       "      <td>3</td>\n",
       "      <td>False</td>\n",
       "      <td>...</td>\n",
       "      <td>12.20</td>\n",
       "      <td>0</td>\n",
       "      <td>NaN</td>\n",
       "      <td>22041.0</td>\n",
       "      <td>17369.0</td>\n",
       "      <td>0.0</td>\n",
       "      <td>NaN</td>\n",
       "      <td>1.0</td>\n",
       "      <td>374.0</td>\n",
       "      <td>468.0</td>\n",
       "    </tr>\n",
       "    <tr>\n",
       "      <td>7114</td>\n",
       "      <td>5</td>\n",
       "      <td>4250000.0</td>\n",
       "      <td>56.00</td>\n",
       "      <td>2016-03-16</td>\n",
       "      <td>3</td>\n",
       "      <td>2.65</td>\n",
       "      <td>5</td>\n",
       "      <td>40.00</td>\n",
       "      <td>4</td>\n",
       "      <td>False</td>\n",
       "      <td>...</td>\n",
       "      <td>6.00</td>\n",
       "      <td>0</td>\n",
       "      <td>NaN</td>\n",
       "      <td>14031.0</td>\n",
       "      <td>8582.0</td>\n",
       "      <td>0.0</td>\n",
       "      <td>NaN</td>\n",
       "      <td>0.0</td>\n",
       "      <td>NaN</td>\n",
       "      <td>96.0</td>\n",
       "    </tr>\n",
       "    <tr>\n",
       "      <td>7330</td>\n",
       "      <td>8</td>\n",
       "      <td>5100000.0</td>\n",
       "      <td>63.00</td>\n",
       "      <td>2015-01-27</td>\n",
       "      <td>3</td>\n",
       "      <td>2.65</td>\n",
       "      <td>5</td>\n",
       "      <td>42.00</td>\n",
       "      <td>1</td>\n",
       "      <td>False</td>\n",
       "      <td>...</td>\n",
       "      <td>7.50</td>\n",
       "      <td>0</td>\n",
       "      <td>NaN</td>\n",
       "      <td>25925.0</td>\n",
       "      <td>4627.0</td>\n",
       "      <td>2.0</td>\n",
       "      <td>459.0</td>\n",
       "      <td>0.0</td>\n",
       "      <td>NaN</td>\n",
       "      <td>566.0</td>\n",
       "    </tr>\n",
       "    <tr>\n",
       "      <td>7600</td>\n",
       "      <td>8</td>\n",
       "      <td>6800000.0</td>\n",
       "      <td>70.00</td>\n",
       "      <td>2016-01-31</td>\n",
       "      <td>3</td>\n",
       "      <td>2.65</td>\n",
       "      <td>11</td>\n",
       "      <td>42.00</td>\n",
       "      <td>9</td>\n",
       "      <td>False</td>\n",
       "      <td>...</td>\n",
       "      <td>11.00</td>\n",
       "      <td>1</td>\n",
       "      <td>NaN</td>\n",
       "      <td>37123.0</td>\n",
       "      <td>12332.0</td>\n",
       "      <td>0.0</td>\n",
       "      <td>NaN</td>\n",
       "      <td>0.0</td>\n",
       "      <td>NaN</td>\n",
       "      <td>209.0</td>\n",
       "    </tr>\n",
       "    <tr>\n",
       "      <td>8568</td>\n",
       "      <td>10</td>\n",
       "      <td>16000000.0</td>\n",
       "      <td>155.00</td>\n",
       "      <td>2016-05-09</td>\n",
       "      <td>3</td>\n",
       "      <td>2.65</td>\n",
       "      <td>6</td>\n",
       "      <td>94.00</td>\n",
       "      <td>3</td>\n",
       "      <td>False</td>\n",
       "      <td>...</td>\n",
       "      <td>23.00</td>\n",
       "      <td>0</td>\n",
       "      <td>NaN</td>\n",
       "      <td>24233.0</td>\n",
       "      <td>4065.0</td>\n",
       "      <td>1.0</td>\n",
       "      <td>547.0</td>\n",
       "      <td>0.0</td>\n",
       "      <td>NaN</td>\n",
       "      <td>248.0</td>\n",
       "    </tr>\n",
       "    <tr>\n",
       "      <td>8986</td>\n",
       "      <td>10</td>\n",
       "      <td>4850000.0</td>\n",
       "      <td>103.10</td>\n",
       "      <td>2018-07-10</td>\n",
       "      <td>3</td>\n",
       "      <td>2.65</td>\n",
       "      <td>5</td>\n",
       "      <td>68.10</td>\n",
       "      <td>4</td>\n",
       "      <td>False</td>\n",
       "      <td>...</td>\n",
       "      <td>16.70</td>\n",
       "      <td>0</td>\n",
       "      <td>NaN</td>\n",
       "      <td>19659.0</td>\n",
       "      <td>31813.0</td>\n",
       "      <td>0.0</td>\n",
       "      <td>NaN</td>\n",
       "      <td>0.0</td>\n",
       "      <td>NaN</td>\n",
       "      <td>28.0</td>\n",
       "    </tr>\n",
       "    <tr>\n",
       "      <td>9821</td>\n",
       "      <td>13</td>\n",
       "      <td>8000000.0</td>\n",
       "      <td>94.50</td>\n",
       "      <td>2015-01-21</td>\n",
       "      <td>4</td>\n",
       "      <td>3.00</td>\n",
       "      <td>2</td>\n",
       "      <td>57.80</td>\n",
       "      <td>2</td>\n",
       "      <td>False</td>\n",
       "      <td>...</td>\n",
       "      <td>11.30</td>\n",
       "      <td>0</td>\n",
       "      <td>NaN</td>\n",
       "      <td>24953.0</td>\n",
       "      <td>3801.0</td>\n",
       "      <td>1.0</td>\n",
       "      <td>375.0</td>\n",
       "      <td>2.0</td>\n",
       "      <td>532.0</td>\n",
       "      <td>531.0</td>\n",
       "    </tr>\n",
       "    <tr>\n",
       "      <td>10122</td>\n",
       "      <td>5</td>\n",
       "      <td>8200000.0</td>\n",
       "      <td>83.00</td>\n",
       "      <td>2015-06-24</td>\n",
       "      <td>4</td>\n",
       "      <td>2.65</td>\n",
       "      <td>5</td>\n",
       "      <td>53.00</td>\n",
       "      <td>2</td>\n",
       "      <td>False</td>\n",
       "      <td>...</td>\n",
       "      <td>10.00</td>\n",
       "      <td>0</td>\n",
       "      <td>NaN</td>\n",
       "      <td>25771.0</td>\n",
       "      <td>4474.0</td>\n",
       "      <td>2.0</td>\n",
       "      <td>374.0</td>\n",
       "      <td>0.0</td>\n",
       "      <td>NaN</td>\n",
       "      <td>364.0</td>\n",
       "    </tr>\n",
       "    <tr>\n",
       "      <td>11248</td>\n",
       "      <td>12</td>\n",
       "      <td>6300000.0</td>\n",
       "      <td>63.10</td>\n",
       "      <td>2015-01-16</td>\n",
       "      <td>4</td>\n",
       "      <td>2.65</td>\n",
       "      <td>8</td>\n",
       "      <td>44.00</td>\n",
       "      <td>7</td>\n",
       "      <td>False</td>\n",
       "      <td>...</td>\n",
       "      <td>8.70</td>\n",
       "      <td>0</td>\n",
       "      <td>NaN</td>\n",
       "      <td>25221.0</td>\n",
       "      <td>4069.0</td>\n",
       "      <td>0.0</td>\n",
       "      <td>NaN</td>\n",
       "      <td>2.0</td>\n",
       "      <td>653.0</td>\n",
       "      <td>551.0</td>\n",
       "    </tr>\n",
       "    <tr>\n",
       "      <td>12879</td>\n",
       "      <td>12</td>\n",
       "      <td>4400000.0</td>\n",
       "      <td>39.20</td>\n",
       "      <td>2016-04-26</td>\n",
       "      <td>1</td>\n",
       "      <td>2.65</td>\n",
       "      <td>12</td>\n",
       "      <td>20.00</td>\n",
       "      <td>12</td>\n",
       "      <td>False</td>\n",
       "      <td>...</td>\n",
       "      <td>7.90</td>\n",
       "      <td>0</td>\n",
       "      <td>NaN</td>\n",
       "      <td>37123.0</td>\n",
       "      <td>12332.0</td>\n",
       "      <td>0.0</td>\n",
       "      <td>NaN</td>\n",
       "      <td>0.0</td>\n",
       "      <td>NaN</td>\n",
       "      <td>179.0</td>\n",
       "    </tr>\n",
       "    <tr>\n",
       "      <td>12936</td>\n",
       "      <td>6</td>\n",
       "      <td>6800000.0</td>\n",
       "      <td>73.00</td>\n",
       "      <td>2015-11-01</td>\n",
       "      <td>3</td>\n",
       "      <td>2.65</td>\n",
       "      <td>5</td>\n",
       "      <td>53.10</td>\n",
       "      <td>2</td>\n",
       "      <td>False</td>\n",
       "      <td>...</td>\n",
       "      <td>8.20</td>\n",
       "      <td>0</td>\n",
       "      <td>NaN</td>\n",
       "      <td>25680.0</td>\n",
       "      <td>4383.0</td>\n",
       "      <td>3.0</td>\n",
       "      <td>336.0</td>\n",
       "      <td>0.0</td>\n",
       "      <td>NaN</td>\n",
       "      <td>542.0</td>\n",
       "    </tr>\n",
       "    <tr>\n",
       "      <td>13223</td>\n",
       "      <td>1</td>\n",
       "      <td>2919911.0</td>\n",
       "      <td>29.40</td>\n",
       "      <td>2015-03-12</td>\n",
       "      <td>1</td>\n",
       "      <td>2.75</td>\n",
       "      <td>24</td>\n",
       "      <td>21.10</td>\n",
       "      <td>2</td>\n",
       "      <td>False</td>\n",
       "      <td>...</td>\n",
       "      <td>5.07</td>\n",
       "      <td>0</td>\n",
       "      <td>NaN</td>\n",
       "      <td>22041.0</td>\n",
       "      <td>17369.0</td>\n",
       "      <td>0.0</td>\n",
       "      <td>NaN</td>\n",
       "      <td>1.0</td>\n",
       "      <td>374.0</td>\n",
       "      <td>470.0</td>\n",
       "    </tr>\n",
       "    <tr>\n",
       "      <td>13690</td>\n",
       "      <td>7</td>\n",
       "      <td>3500000.0</td>\n",
       "      <td>71.00</td>\n",
       "      <td>2016-06-23</td>\n",
       "      <td>3</td>\n",
       "      <td>2.75</td>\n",
       "      <td>2</td>\n",
       "      <td>45.60</td>\n",
       "      <td>1</td>\n",
       "      <td>False</td>\n",
       "      <td>...</td>\n",
       "      <td>8.00</td>\n",
       "      <td>2</td>\n",
       "      <td>NaN</td>\n",
       "      <td>20234.0</td>\n",
       "      <td>23659.0</td>\n",
       "      <td>0.0</td>\n",
       "      <td>NaN</td>\n",
       "      <td>2.0</td>\n",
       "      <td>296.0</td>\n",
       "      <td>92.0</td>\n",
       "    </tr>\n",
       "    <tr>\n",
       "      <td>14273</td>\n",
       "      <td>2</td>\n",
       "      <td>4422000.0</td>\n",
       "      <td>60.00</td>\n",
       "      <td>2016-03-23</td>\n",
       "      <td>2</td>\n",
       "      <td>2.75</td>\n",
       "      <td>23</td>\n",
       "      <td>32.00</td>\n",
       "      <td>14</td>\n",
       "      <td>False</td>\n",
       "      <td>...</td>\n",
       "      <td>11.90</td>\n",
       "      <td>0</td>\n",
       "      <td>NaN</td>\n",
       "      <td>22041.0</td>\n",
       "      <td>17369.0</td>\n",
       "      <td>0.0</td>\n",
       "      <td>NaN</td>\n",
       "      <td>1.0</td>\n",
       "      <td>374.0</td>\n",
       "      <td>90.0</td>\n",
       "    </tr>\n",
       "    <tr>\n",
       "      <td>14342</td>\n",
       "      <td>3</td>\n",
       "      <td>3611000.0</td>\n",
       "      <td>53.50</td>\n",
       "      <td>2017-04-27</td>\n",
       "      <td>1</td>\n",
       "      <td>2.65</td>\n",
       "      <td>4</td>\n",
       "      <td>25.80</td>\n",
       "      <td>3</td>\n",
       "      <td>False</td>\n",
       "      <td>...</td>\n",
       "      <td>9.22</td>\n",
       "      <td>1</td>\n",
       "      <td>NaN</td>\n",
       "      <td>NaN</td>\n",
       "      <td>NaN</td>\n",
       "      <td>NaN</td>\n",
       "      <td>NaN</td>\n",
       "      <td>NaN</td>\n",
       "      <td>NaN</td>\n",
       "      <td>92.0</td>\n",
       "    </tr>\n",
       "    <tr>\n",
       "      <td>15686</td>\n",
       "      <td>13</td>\n",
       "      <td>4700000.0</td>\n",
       "      <td>44.00</td>\n",
       "      <td>2015-12-01</td>\n",
       "      <td>2</td>\n",
       "      <td>2.65</td>\n",
       "      <td>5</td>\n",
       "      <td>28.00</td>\n",
       "      <td>3</td>\n",
       "      <td>False</td>\n",
       "      <td>...</td>\n",
       "      <td>5.00</td>\n",
       "      <td>0</td>\n",
       "      <td>NaN</td>\n",
       "      <td>35920.0</td>\n",
       "      <td>9633.0</td>\n",
       "      <td>2.0</td>\n",
       "      <td>472.0</td>\n",
       "      <td>3.0</td>\n",
       "      <td>535.0</td>\n",
       "      <td>280.0</td>\n",
       "    </tr>\n",
       "    <tr>\n",
       "      <td>15866</td>\n",
       "      <td>10</td>\n",
       "      <td>3950000.0</td>\n",
       "      <td>44.00</td>\n",
       "      <td>2016-04-16</td>\n",
       "      <td>2</td>\n",
       "      <td>2.70</td>\n",
       "      <td>5</td>\n",
       "      <td>28.50</td>\n",
       "      <td>5</td>\n",
       "      <td>False</td>\n",
       "      <td>...</td>\n",
       "      <td>5.50</td>\n",
       "      <td>1</td>\n",
       "      <td>NaN</td>\n",
       "      <td>36380.0</td>\n",
       "      <td>9497.0</td>\n",
       "      <td>1.0</td>\n",
       "      <td>634.0</td>\n",
       "      <td>3.0</td>\n",
       "      <td>513.0</td>\n",
       "      <td>85.0</td>\n",
       "    </tr>\n",
       "    <tr>\n",
       "      <td>16499</td>\n",
       "      <td>2</td>\n",
       "      <td>4995573.0</td>\n",
       "      <td>56.90</td>\n",
       "      <td>2016-06-17</td>\n",
       "      <td>2</td>\n",
       "      <td>2.65</td>\n",
       "      <td>24</td>\n",
       "      <td>29.20</td>\n",
       "      <td>14</td>\n",
       "      <td>False</td>\n",
       "      <td>...</td>\n",
       "      <td>10.90</td>\n",
       "      <td>0</td>\n",
       "      <td>NaN</td>\n",
       "      <td>22041.0</td>\n",
       "      <td>17369.0</td>\n",
       "      <td>0.0</td>\n",
       "      <td>NaN</td>\n",
       "      <td>1.0</td>\n",
       "      <td>374.0</td>\n",
       "      <td>4.0</td>\n",
       "    </tr>\n",
       "    <tr>\n",
       "      <td>16561</td>\n",
       "      <td>3</td>\n",
       "      <td>2450000.0</td>\n",
       "      <td>30.00</td>\n",
       "      <td>2016-06-02</td>\n",
       "      <td>1</td>\n",
       "      <td>2.65</td>\n",
       "      <td>4</td>\n",
       "      <td>17.00</td>\n",
       "      <td>2</td>\n",
       "      <td>False</td>\n",
       "      <td>...</td>\n",
       "      <td>6.00</td>\n",
       "      <td>1</td>\n",
       "      <td>NaN</td>\n",
       "      <td>21731.0</td>\n",
       "      <td>8619.0</td>\n",
       "      <td>0.0</td>\n",
       "      <td>NaN</td>\n",
       "      <td>3.0</td>\n",
       "      <td>162.0</td>\n",
       "      <td>140.0</td>\n",
       "    </tr>\n",
       "    <tr>\n",
       "      <td>16610</td>\n",
       "      <td>11</td>\n",
       "      <td>11940000.0</td>\n",
       "      <td>112.00</td>\n",
       "      <td>2015-11-19</td>\n",
       "      <td>3</td>\n",
       "      <td>3.00</td>\n",
       "      <td>5</td>\n",
       "      <td>64.00</td>\n",
       "      <td>2</td>\n",
       "      <td>False</td>\n",
       "      <td>...</td>\n",
       "      <td>23.00</td>\n",
       "      <td>0</td>\n",
       "      <td>NaN</td>\n",
       "      <td>21219.0</td>\n",
       "      <td>1322.0</td>\n",
       "      <td>1.0</td>\n",
       "      <td>740.0</td>\n",
       "      <td>3.0</td>\n",
       "      <td>365.0</td>\n",
       "      <td>319.0</td>\n",
       "    </tr>\n",
       "    <tr>\n",
       "      <td>17535</td>\n",
       "      <td>2</td>\n",
       "      <td>5985000.0</td>\n",
       "      <td>79.80</td>\n",
       "      <td>2018-07-30</td>\n",
       "      <td>3</td>\n",
       "      <td>2.65</td>\n",
       "      <td>9</td>\n",
       "      <td>45.32</td>\n",
       "      <td>2</td>\n",
       "      <td>False</td>\n",
       "      <td>...</td>\n",
       "      <td>13.76</td>\n",
       "      <td>0</td>\n",
       "      <td>NaN</td>\n",
       "      <td>NaN</td>\n",
       "      <td>NaN</td>\n",
       "      <td>NaN</td>\n",
       "      <td>NaN</td>\n",
       "      <td>NaN</td>\n",
       "      <td>NaN</td>\n",
       "      <td>213.0</td>\n",
       "    </tr>\n",
       "    <tr>\n",
       "      <td>17764</td>\n",
       "      <td>9</td>\n",
       "      <td>8400000.0</td>\n",
       "      <td>94.00</td>\n",
       "      <td>2016-01-24</td>\n",
       "      <td>3</td>\n",
       "      <td>2.65</td>\n",
       "      <td>23</td>\n",
       "      <td>52.00</td>\n",
       "      <td>5</td>\n",
       "      <td>False</td>\n",
       "      <td>...</td>\n",
       "      <td>16.21</td>\n",
       "      <td>0</td>\n",
       "      <td>NaN</td>\n",
       "      <td>36865.0</td>\n",
       "      <td>10976.0</td>\n",
       "      <td>0.0</td>\n",
       "      <td>NaN</td>\n",
       "      <td>1.0</td>\n",
       "      <td>856.0</td>\n",
       "      <td>305.0</td>\n",
       "    </tr>\n",
       "    <tr>\n",
       "      <td>18526</td>\n",
       "      <td>3</td>\n",
       "      <td>10800000.0</td>\n",
       "      <td>86.00</td>\n",
       "      <td>2016-06-24</td>\n",
       "      <td>4</td>\n",
       "      <td>3.20</td>\n",
       "      <td>7</td>\n",
       "      <td>48.00</td>\n",
       "      <td>2</td>\n",
       "      <td>False</td>\n",
       "      <td>...</td>\n",
       "      <td>12.00</td>\n",
       "      <td>0</td>\n",
       "      <td>NaN</td>\n",
       "      <td>11206.0</td>\n",
       "      <td>8943.0</td>\n",
       "      <td>0.0</td>\n",
       "      <td>NaN</td>\n",
       "      <td>0.0</td>\n",
       "      <td>NaN</td>\n",
       "      <td>65.0</td>\n",
       "    </tr>\n",
       "    <tr>\n",
       "      <td>18917</td>\n",
       "      <td>3</td>\n",
       "      <td>2660000.0</td>\n",
       "      <td>37.99</td>\n",
       "      <td>2017-08-17</td>\n",
       "      <td>1</td>\n",
       "      <td>2.65</td>\n",
       "      <td>4</td>\n",
       "      <td>13.00</td>\n",
       "      <td>1</td>\n",
       "      <td>False</td>\n",
       "      <td>...</td>\n",
       "      <td>12.40</td>\n",
       "      <td>0</td>\n",
       "      <td>NaN</td>\n",
       "      <td>21540.0</td>\n",
       "      <td>8429.0</td>\n",
       "      <td>0.0</td>\n",
       "      <td>NaN</td>\n",
       "      <td>3.0</td>\n",
       "      <td>142.0</td>\n",
       "      <td>15.0</td>\n",
       "    </tr>\n",
       "    <tr>\n",
       "      <td>19045</td>\n",
       "      <td>6</td>\n",
       "      <td>4650000.0</td>\n",
       "      <td>48.00</td>\n",
       "      <td>2016-01-25</td>\n",
       "      <td>2</td>\n",
       "      <td>3.12</td>\n",
       "      <td>5</td>\n",
       "      <td>26.20</td>\n",
       "      <td>1</td>\n",
       "      <td>False</td>\n",
       "      <td>...</td>\n",
       "      <td>8.00</td>\n",
       "      <td>0</td>\n",
       "      <td>NaN</td>\n",
       "      <td>21654.0</td>\n",
       "      <td>3312.0</td>\n",
       "      <td>1.0</td>\n",
       "      <td>549.0</td>\n",
       "      <td>1.0</td>\n",
       "      <td>858.0</td>\n",
       "      <td>254.0</td>\n",
       "    </tr>\n",
       "    <tr>\n",
       "      <td>19972</td>\n",
       "      <td>20</td>\n",
       "      <td>4361004.0</td>\n",
       "      <td>62.40</td>\n",
       "      <td>2015-09-20</td>\n",
       "      <td>2</td>\n",
       "      <td>2.65</td>\n",
       "      <td>24</td>\n",
       "      <td>33.10</td>\n",
       "      <td>21</td>\n",
       "      <td>False</td>\n",
       "      <td>...</td>\n",
       "      <td>8.20</td>\n",
       "      <td>0</td>\n",
       "      <td>NaN</td>\n",
       "      <td>22041.0</td>\n",
       "      <td>17369.0</td>\n",
       "      <td>0.0</td>\n",
       "      <td>NaN</td>\n",
       "      <td>1.0</td>\n",
       "      <td>374.0</td>\n",
       "      <td>278.0</td>\n",
       "    </tr>\n",
       "    <tr>\n",
       "      <td>20057</td>\n",
       "      <td>13</td>\n",
       "      <td>11500000.0</td>\n",
       "      <td>102.00</td>\n",
       "      <td>2015-10-14</td>\n",
       "      <td>2</td>\n",
       "      <td>2.65</td>\n",
       "      <td>5</td>\n",
       "      <td>70.00</td>\n",
       "      <td>2</td>\n",
       "      <td>False</td>\n",
       "      <td>...</td>\n",
       "      <td>17.59</td>\n",
       "      <td>0</td>\n",
       "      <td>NaN</td>\n",
       "      <td>23478.0</td>\n",
       "      <td>4258.0</td>\n",
       "      <td>0.0</td>\n",
       "      <td>NaN</td>\n",
       "      <td>0.0</td>\n",
       "      <td>NaN</td>\n",
       "      <td>325.0</td>\n",
       "    </tr>\n",
       "    <tr>\n",
       "      <td>20382</td>\n",
       "      <td>8</td>\n",
       "      <td>1750000.0</td>\n",
       "      <td>72.90</td>\n",
       "      <td>2018-10-27</td>\n",
       "      <td>3</td>\n",
       "      <td>2.65</td>\n",
       "      <td>5</td>\n",
       "      <td>47.30</td>\n",
       "      <td>2</td>\n",
       "      <td>False</td>\n",
       "      <td>...</td>\n",
       "      <td>8.30</td>\n",
       "      <td>0</td>\n",
       "      <td>NaN</td>\n",
       "      <td>NaN</td>\n",
       "      <td>NaN</td>\n",
       "      <td>NaN</td>\n",
       "      <td>NaN</td>\n",
       "      <td>NaN</td>\n",
       "      <td>NaN</td>\n",
       "      <td>NaN</td>\n",
       "    </tr>\n",
       "    <tr>\n",
       "      <td>20590</td>\n",
       "      <td>7</td>\n",
       "      <td>3380000.0</td>\n",
       "      <td>56.00</td>\n",
       "      <td>2017-11-06</td>\n",
       "      <td>2</td>\n",
       "      <td>2.70</td>\n",
       "      <td>4</td>\n",
       "      <td>29.00</td>\n",
       "      <td>3</td>\n",
       "      <td>False</td>\n",
       "      <td>...</td>\n",
       "      <td>10.00</td>\n",
       "      <td>1</td>\n",
       "      <td>NaN</td>\n",
       "      <td>NaN</td>\n",
       "      <td>NaN</td>\n",
       "      <td>NaN</td>\n",
       "      <td>NaN</td>\n",
       "      <td>NaN</td>\n",
       "      <td>NaN</td>\n",
       "      <td>78.0</td>\n",
       "    </tr>\n",
       "    <tr>\n",
       "      <td>20654</td>\n",
       "      <td>7</td>\n",
       "      <td>6100000.0</td>\n",
       "      <td>43.00</td>\n",
       "      <td>2016-01-13</td>\n",
       "      <td>1</td>\n",
       "      <td>2.65</td>\n",
       "      <td>5</td>\n",
       "      <td>21.00</td>\n",
       "      <td>3</td>\n",
       "      <td>False</td>\n",
       "      <td>...</td>\n",
       "      <td>12.00</td>\n",
       "      <td>1</td>\n",
       "      <td>NaN</td>\n",
       "      <td>24385.0</td>\n",
       "      <td>4604.0</td>\n",
       "      <td>1.0</td>\n",
       "      <td>700.0</td>\n",
       "      <td>0.0</td>\n",
       "      <td>NaN</td>\n",
       "      <td>164.0</td>\n",
       "    </tr>\n",
       "    <tr>\n",
       "      <td>21119</td>\n",
       "      <td>8</td>\n",
       "      <td>3500000.0</td>\n",
       "      <td>43.20</td>\n",
       "      <td>2018-11-11</td>\n",
       "      <td>2</td>\n",
       "      <td>2.65</td>\n",
       "      <td>4</td>\n",
       "      <td>24.53</td>\n",
       "      <td>2</td>\n",
       "      <td>False</td>\n",
       "      <td>...</td>\n",
       "      <td>7.45</td>\n",
       "      <td>0</td>\n",
       "      <td>NaN</td>\n",
       "      <td>19744.0</td>\n",
       "      <td>31897.0</td>\n",
       "      <td>0.0</td>\n",
       "      <td>NaN</td>\n",
       "      <td>0.0</td>\n",
       "      <td>NaN</td>\n",
       "      <td>9.0</td>\n",
       "    </tr>\n",
       "    <tr>\n",
       "      <td>21276</td>\n",
       "      <td>0</td>\n",
       "      <td>17122148.0</td>\n",
       "      <td>178.30</td>\n",
       "      <td>2017-02-10</td>\n",
       "      <td>1</td>\n",
       "      <td>2.65</td>\n",
       "      <td>3</td>\n",
       "      <td>101.25</td>\n",
       "      <td>1</td>\n",
       "      <td>False</td>\n",
       "      <td>...</td>\n",
       "      <td>41.60</td>\n",
       "      <td>1</td>\n",
       "      <td>NaN</td>\n",
       "      <td>60195.0</td>\n",
       "      <td>41294.0</td>\n",
       "      <td>0.0</td>\n",
       "      <td>NaN</td>\n",
       "      <td>0.0</td>\n",
       "      <td>NaN</td>\n",
       "      <td>4.0</td>\n",
       "    </tr>\n",
       "    <tr>\n",
       "      <td>21333</td>\n",
       "      <td>10</td>\n",
       "      <td>5900000.0</td>\n",
       "      <td>58.00</td>\n",
       "      <td>2015-03-12</td>\n",
       "      <td>3</td>\n",
       "      <td>2.65</td>\n",
       "      <td>6</td>\n",
       "      <td>35.20</td>\n",
       "      <td>6</td>\n",
       "      <td>False</td>\n",
       "      <td>...</td>\n",
       "      <td>11.00</td>\n",
       "      <td>0</td>\n",
       "      <td>NaN</td>\n",
       "      <td>26090.0</td>\n",
       "      <td>4805.0</td>\n",
       "      <td>0.0</td>\n",
       "      <td>NaN</td>\n",
       "      <td>1.0</td>\n",
       "      <td>943.0</td>\n",
       "      <td>486.0</td>\n",
       "    </tr>\n",
       "    <tr>\n",
       "      <td>21715</td>\n",
       "      <td>2</td>\n",
       "      <td>6047550.0</td>\n",
       "      <td>80.10</td>\n",
       "      <td>2018-07-30</td>\n",
       "      <td>2</td>\n",
       "      <td>2.65</td>\n",
       "      <td>9</td>\n",
       "      <td>30.50</td>\n",
       "      <td>2</td>\n",
       "      <td>False</td>\n",
       "      <td>...</td>\n",
       "      <td>29.20</td>\n",
       "      <td>0</td>\n",
       "      <td>NaN</td>\n",
       "      <td>NaN</td>\n",
       "      <td>NaN</td>\n",
       "      <td>NaN</td>\n",
       "      <td>NaN</td>\n",
       "      <td>NaN</td>\n",
       "      <td>NaN</td>\n",
       "      <td>176.0</td>\n",
       "    </tr>\n",
       "    <tr>\n",
       "      <td>21898</td>\n",
       "      <td>2</td>\n",
       "      <td>5886750.0</td>\n",
       "      <td>83.50</td>\n",
       "      <td>2018-07-30</td>\n",
       "      <td>2</td>\n",
       "      <td>2.65</td>\n",
       "      <td>9</td>\n",
       "      <td>36.60</td>\n",
       "      <td>2</td>\n",
       "      <td>False</td>\n",
       "      <td>...</td>\n",
       "      <td>29.70</td>\n",
       "      <td>0</td>\n",
       "      <td>NaN</td>\n",
       "      <td>NaN</td>\n",
       "      <td>NaN</td>\n",
       "      <td>NaN</td>\n",
       "      <td>NaN</td>\n",
       "      <td>NaN</td>\n",
       "      <td>NaN</td>\n",
       "      <td>169.0</td>\n",
       "    </tr>\n",
       "    <tr>\n",
       "      <td>22474</td>\n",
       "      <td>7</td>\n",
       "      <td>24000000.0</td>\n",
       "      <td>128.00</td>\n",
       "      <td>2015-07-24</td>\n",
       "      <td>4</td>\n",
       "      <td>2.75</td>\n",
       "      <td>6</td>\n",
       "      <td>68.40</td>\n",
       "      <td>6</td>\n",
       "      <td>False</td>\n",
       "      <td>...</td>\n",
       "      <td>16.50</td>\n",
       "      <td>0</td>\n",
       "      <td>NaN</td>\n",
       "      <td>23297.0</td>\n",
       "      <td>1780.0</td>\n",
       "      <td>3.0</td>\n",
       "      <td>277.0</td>\n",
       "      <td>3.0</td>\n",
       "      <td>561.0</td>\n",
       "      <td>436.0</td>\n",
       "    </tr>\n",
       "    <tr>\n",
       "      <td>22717</td>\n",
       "      <td>9</td>\n",
       "      <td>3000000.0</td>\n",
       "      <td>35.00</td>\n",
       "      <td>2018-01-02</td>\n",
       "      <td>1</td>\n",
       "      <td>2.60</td>\n",
       "      <td>16</td>\n",
       "      <td>16.00</td>\n",
       "      <td>7</td>\n",
       "      <td>False</td>\n",
       "      <td>...</td>\n",
       "      <td>10.00</td>\n",
       "      <td>1</td>\n",
       "      <td>NaN</td>\n",
       "      <td>NaN</td>\n",
       "      <td>NaN</td>\n",
       "      <td>NaN</td>\n",
       "      <td>NaN</td>\n",
       "      <td>NaN</td>\n",
       "      <td>NaN</td>\n",
       "      <td>75.0</td>\n",
       "    </tr>\n",
       "    <tr>\n",
       "      <td>22933</td>\n",
       "      <td>20</td>\n",
       "      <td>3176015.0</td>\n",
       "      <td>33.30</td>\n",
       "      <td>2015-04-22</td>\n",
       "      <td>1</td>\n",
       "      <td>2.65</td>\n",
       "      <td>23</td>\n",
       "      <td>15.40</td>\n",
       "      <td>22</td>\n",
       "      <td>False</td>\n",
       "      <td>...</td>\n",
       "      <td>9.00</td>\n",
       "      <td>0</td>\n",
       "      <td>NaN</td>\n",
       "      <td>22041.0</td>\n",
       "      <td>17369.0</td>\n",
       "      <td>0.0</td>\n",
       "      <td>NaN</td>\n",
       "      <td>1.0</td>\n",
       "      <td>374.0</td>\n",
       "      <td>427.0</td>\n",
       "    </tr>\n",
       "    <tr>\n",
       "      <td>23214</td>\n",
       "      <td>3</td>\n",
       "      <td>7990000.0</td>\n",
       "      <td>56.00</td>\n",
       "      <td>2016-05-31</td>\n",
       "      <td>2</td>\n",
       "      <td>2.65</td>\n",
       "      <td>6</td>\n",
       "      <td>31.80</td>\n",
       "      <td>5</td>\n",
       "      <td>False</td>\n",
       "      <td>...</td>\n",
       "      <td>9.66</td>\n",
       "      <td>0</td>\n",
       "      <td>NaN</td>\n",
       "      <td>11206.0</td>\n",
       "      <td>8943.0</td>\n",
       "      <td>0.0</td>\n",
       "      <td>NaN</td>\n",
       "      <td>0.0</td>\n",
       "      <td>NaN</td>\n",
       "      <td>70.0</td>\n",
       "    </tr>\n",
       "  </tbody>\n",
       "</table>\n",
       "<p>49 rows × 22 columns</p>\n",
       "</div>"
      ],
      "text/plain": [
       "       total_images  last_price  total_area first_day_exposition  rooms  \\\n",
       "1097              3   8600000.0       81.70           2016-04-15      3   \n",
       "2033              6   5398000.0       80.00           2017-05-30      3   \n",
       "2603             20   3351765.0       42.70           2015-09-20      1   \n",
       "2632              2   5130593.0       62.40           2015-10-11      2   \n",
       "3574             10   4200000.0       46.50           2016-05-28      2   \n",
       "4151             17  17600000.0       89.50           2014-12-09      2   \n",
       "4189              7   9200000.0       80.00           2015-12-10      3   \n",
       "4670              1   5500000.0       83.00           2015-08-14      3   \n",
       "5343             19  13540000.0       85.50           2016-01-20      3   \n",
       "5707              7   3700000.0       30.00           2016-04-29      1   \n",
       "6765             20   4895892.0       60.70           2015-03-12      2   \n",
       "7114              5   4250000.0       56.00           2016-03-16      3   \n",
       "7330              8   5100000.0       63.00           2015-01-27      3   \n",
       "7600              8   6800000.0       70.00           2016-01-31      3   \n",
       "8568             10  16000000.0      155.00           2016-05-09      3   \n",
       "8986             10   4850000.0      103.10           2018-07-10      3   \n",
       "9821             13   8000000.0       94.50           2015-01-21      4   \n",
       "10122             5   8200000.0       83.00           2015-06-24      4   \n",
       "11248            12   6300000.0       63.10           2015-01-16      4   \n",
       "12879            12   4400000.0       39.20           2016-04-26      1   \n",
       "12936             6   6800000.0       73.00           2015-11-01      3   \n",
       "13223             1   2919911.0       29.40           2015-03-12      1   \n",
       "13690             7   3500000.0       71.00           2016-06-23      3   \n",
       "14273             2   4422000.0       60.00           2016-03-23      2   \n",
       "14342             3   3611000.0       53.50           2017-04-27      1   \n",
       "15686            13   4700000.0       44.00           2015-12-01      2   \n",
       "15866            10   3950000.0       44.00           2016-04-16      2   \n",
       "16499             2   4995573.0       56.90           2016-06-17      2   \n",
       "16561             3   2450000.0       30.00           2016-06-02      1   \n",
       "16610            11  11940000.0      112.00           2015-11-19      3   \n",
       "17535             2   5985000.0       79.80           2018-07-30      3   \n",
       "17764             9   8400000.0       94.00           2016-01-24      3   \n",
       "18526             3  10800000.0       86.00           2016-06-24      4   \n",
       "18917             3   2660000.0       37.99           2017-08-17      1   \n",
       "19045             6   4650000.0       48.00           2016-01-25      2   \n",
       "19972            20   4361004.0       62.40           2015-09-20      2   \n",
       "20057            13  11500000.0      102.00           2015-10-14      2   \n",
       "20382             8   1750000.0       72.90           2018-10-27      3   \n",
       "20590             7   3380000.0       56.00           2017-11-06      2   \n",
       "20654             7   6100000.0       43.00           2016-01-13      1   \n",
       "21119             8   3500000.0       43.20           2018-11-11      2   \n",
       "21276             0  17122148.0      178.30           2017-02-10      1   \n",
       "21333            10   5900000.0       58.00           2015-03-12      3   \n",
       "21715             2   6047550.0       80.10           2018-07-30      2   \n",
       "21898             2   5886750.0       83.50           2018-07-30      2   \n",
       "22474             7  24000000.0      128.00           2015-07-24      4   \n",
       "22717             9   3000000.0       35.00           2018-01-02      1   \n",
       "22933            20   3176015.0       33.30           2015-04-22      1   \n",
       "23214             3   7990000.0       56.00           2016-05-31      2   \n",
       "\n",
       "       ceiling_height  floors_total  living_area  floor  is_apartment  ...  \\\n",
       "1097             3.55             5        50.80      2         False  ...   \n",
       "2033             2.65             4        42.60      2         False  ...   \n",
       "2603             2.65            24        15.60      3         False  ...   \n",
       "2632             2.65            24        33.10     21         False  ...   \n",
       "3574             2.65             5        30.80      5         False  ...   \n",
       "4151             3.00             8        39.62      7         False  ...   \n",
       "4189             4.00             4        52.30      3         False  ...   \n",
       "4670             2.65             7        47.13      6         False  ...   \n",
       "5343             2.65             7        59.10      5         False  ...   \n",
       "5707             2.65            24        20.00     23         False  ...   \n",
       "6765             2.65            24        31.90      3         False  ...   \n",
       "7114             2.65             5        40.00      4         False  ...   \n",
       "7330             2.65             5        42.00      1         False  ...   \n",
       "7600             2.65            11        42.00      9         False  ...   \n",
       "8568             2.65             6        94.00      3         False  ...   \n",
       "8986             2.65             5        68.10      4         False  ...   \n",
       "9821             3.00             2        57.80      2         False  ...   \n",
       "10122            2.65             5        53.00      2         False  ...   \n",
       "11248            2.65             8        44.00      7         False  ...   \n",
       "12879            2.65            12        20.00     12         False  ...   \n",
       "12936            2.65             5        53.10      2         False  ...   \n",
       "13223            2.75            24        21.10      2         False  ...   \n",
       "13690            2.75             2        45.60      1         False  ...   \n",
       "14273            2.75            23        32.00     14         False  ...   \n",
       "14342            2.65             4        25.80      3         False  ...   \n",
       "15686            2.65             5        28.00      3         False  ...   \n",
       "15866            2.70             5        28.50      5         False  ...   \n",
       "16499            2.65            24        29.20     14         False  ...   \n",
       "16561            2.65             4        17.00      2         False  ...   \n",
       "16610            3.00             5        64.00      2         False  ...   \n",
       "17535            2.65             9        45.32      2         False  ...   \n",
       "17764            2.65            23        52.00      5         False  ...   \n",
       "18526            3.20             7        48.00      2         False  ...   \n",
       "18917            2.65             4        13.00      1         False  ...   \n",
       "19045            3.12             5        26.20      1         False  ...   \n",
       "19972            2.65            24        33.10     21         False  ...   \n",
       "20057            2.65             5        70.00      2         False  ...   \n",
       "20382            2.65             5        47.30      2         False  ...   \n",
       "20590            2.70             4        29.00      3         False  ...   \n",
       "20654            2.65             5        21.00      3         False  ...   \n",
       "21119            2.65             4        24.53      2         False  ...   \n",
       "21276            2.65             3       101.25      1         False  ...   \n",
       "21333            2.65             6        35.20      6         False  ...   \n",
       "21715            2.65             9        30.50      2         False  ...   \n",
       "21898            2.65             9        36.60      2         False  ...   \n",
       "22474            2.75             6        68.40      6         False  ...   \n",
       "22717            2.60            16        16.00      7         False  ...   \n",
       "22933            2.65            23        15.40     22         False  ...   \n",
       "23214            2.65             6        31.80      5         False  ...   \n",
       "\n",
       "       kitchen_area  balcony  locality_name  airports_nearest  \\\n",
       "1097           8.80        0            NaN           23478.0   \n",
       "2033          18.60        0            NaN               NaN   \n",
       "2603          10.70        0            NaN           22041.0   \n",
       "2632           8.20        0            NaN           22041.0   \n",
       "3574           6.50        0            NaN           27419.0   \n",
       "4151          13.38        0            NaN           25054.0   \n",
       "4189          10.40        0            NaN           21774.0   \n",
       "4670          14.31        0            NaN           26534.0   \n",
       "5343           8.30        4            NaN           10556.0   \n",
       "5707           5.17        0            NaN           21460.0   \n",
       "6765          12.20        0            NaN           22041.0   \n",
       "7114           6.00        0            NaN           14031.0   \n",
       "7330           7.50        0            NaN           25925.0   \n",
       "7600          11.00        1            NaN           37123.0   \n",
       "8568          23.00        0            NaN           24233.0   \n",
       "8986          16.70        0            NaN           19659.0   \n",
       "9821          11.30        0            NaN           24953.0   \n",
       "10122         10.00        0            NaN           25771.0   \n",
       "11248          8.70        0            NaN           25221.0   \n",
       "12879          7.90        0            NaN           37123.0   \n",
       "12936          8.20        0            NaN           25680.0   \n",
       "13223          5.07        0            NaN           22041.0   \n",
       "13690          8.00        2            NaN           20234.0   \n",
       "14273         11.90        0            NaN           22041.0   \n",
       "14342          9.22        1            NaN               NaN   \n",
       "15686          5.00        0            NaN           35920.0   \n",
       "15866          5.50        1            NaN           36380.0   \n",
       "16499         10.90        0            NaN           22041.0   \n",
       "16561          6.00        1            NaN           21731.0   \n",
       "16610         23.00        0            NaN           21219.0   \n",
       "17535         13.76        0            NaN               NaN   \n",
       "17764         16.21        0            NaN           36865.0   \n",
       "18526         12.00        0            NaN           11206.0   \n",
       "18917         12.40        0            NaN           21540.0   \n",
       "19045          8.00        0            NaN           21654.0   \n",
       "19972          8.20        0            NaN           22041.0   \n",
       "20057         17.59        0            NaN           23478.0   \n",
       "20382          8.30        0            NaN               NaN   \n",
       "20590         10.00        1            NaN               NaN   \n",
       "20654         12.00        1            NaN           24385.0   \n",
       "21119          7.45        0            NaN           19744.0   \n",
       "21276         41.60        1            NaN           60195.0   \n",
       "21333         11.00        0            NaN           26090.0   \n",
       "21715         29.20        0            NaN               NaN   \n",
       "21898         29.70        0            NaN               NaN   \n",
       "22474         16.50        0            NaN           23297.0   \n",
       "22717         10.00        1            NaN               NaN   \n",
       "22933          9.00        0            NaN           22041.0   \n",
       "23214          9.66        0            NaN           11206.0   \n",
       "\n",
       "      cityCenters_nearest  parks_around3000  parks_nearest  ponds_around3000  \\\n",
       "1097               4258.0               0.0            NaN               0.0   \n",
       "2033                  NaN               NaN            NaN               NaN   \n",
       "2603              17369.0               0.0            NaN               1.0   \n",
       "2632              17369.0               0.0            NaN               1.0   \n",
       "3574               8127.0               0.0            NaN               1.0   \n",
       "4151               3902.0               1.0          485.0               3.0   \n",
       "4189               3039.0               1.0          690.0               1.0   \n",
       "4670               5382.0               1.0          446.0               1.0   \n",
       "5343               9538.0               1.0           67.0               0.0   \n",
       "5707              16788.0               0.0            NaN               1.0   \n",
       "6765              17369.0               0.0            NaN               1.0   \n",
       "7114               8582.0               0.0            NaN               0.0   \n",
       "7330               4627.0               2.0          459.0               0.0   \n",
       "7600              12332.0               0.0            NaN               0.0   \n",
       "8568               4065.0               1.0          547.0               0.0   \n",
       "8986              31813.0               0.0            NaN               0.0   \n",
       "9821               3801.0               1.0          375.0               2.0   \n",
       "10122              4474.0               2.0          374.0               0.0   \n",
       "11248              4069.0               0.0            NaN               2.0   \n",
       "12879             12332.0               0.0            NaN               0.0   \n",
       "12936              4383.0               3.0          336.0               0.0   \n",
       "13223             17369.0               0.0            NaN               1.0   \n",
       "13690             23659.0               0.0            NaN               2.0   \n",
       "14273             17369.0               0.0            NaN               1.0   \n",
       "14342                 NaN               NaN            NaN               NaN   \n",
       "15686              9633.0               2.0          472.0               3.0   \n",
       "15866              9497.0               1.0          634.0               3.0   \n",
       "16499             17369.0               0.0            NaN               1.0   \n",
       "16561              8619.0               0.0            NaN               3.0   \n",
       "16610              1322.0               1.0          740.0               3.0   \n",
       "17535                 NaN               NaN            NaN               NaN   \n",
       "17764             10976.0               0.0            NaN               1.0   \n",
       "18526              8943.0               0.0            NaN               0.0   \n",
       "18917              8429.0               0.0            NaN               3.0   \n",
       "19045              3312.0               1.0          549.0               1.0   \n",
       "19972             17369.0               0.0            NaN               1.0   \n",
       "20057              4258.0               0.0            NaN               0.0   \n",
       "20382                 NaN               NaN            NaN               NaN   \n",
       "20590                 NaN               NaN            NaN               NaN   \n",
       "20654              4604.0               1.0          700.0               0.0   \n",
       "21119             31897.0               0.0            NaN               0.0   \n",
       "21276             41294.0               0.0            NaN               0.0   \n",
       "21333              4805.0               0.0            NaN               1.0   \n",
       "21715                 NaN               NaN            NaN               NaN   \n",
       "21898                 NaN               NaN            NaN               NaN   \n",
       "22474              1780.0               3.0          277.0               3.0   \n",
       "22717                 NaN               NaN            NaN               NaN   \n",
       "22933             17369.0               0.0            NaN               1.0   \n",
       "23214              8943.0               0.0            NaN               0.0   \n",
       "\n",
       "       ponds_nearest  days_exposition  \n",
       "1097             NaN            147.0  \n",
       "2033             NaN             34.0  \n",
       "2603           374.0            276.0  \n",
       "2632           374.0            256.0  \n",
       "3574           603.0             45.0  \n",
       "4151           722.0            869.0  \n",
       "4189           953.0            223.0  \n",
       "4670           376.0            350.0  \n",
       "5343             NaN            303.0  \n",
       "5707           170.0             49.0  \n",
       "6765           374.0            468.0  \n",
       "7114             NaN             96.0  \n",
       "7330             NaN            566.0  \n",
       "7600             NaN            209.0  \n",
       "8568             NaN            248.0  \n",
       "8986             NaN             28.0  \n",
       "9821           532.0            531.0  \n",
       "10122            NaN            364.0  \n",
       "11248          653.0            551.0  \n",
       "12879            NaN            179.0  \n",
       "12936            NaN            542.0  \n",
       "13223          374.0            470.0  \n",
       "13690          296.0             92.0  \n",
       "14273          374.0             90.0  \n",
       "14342            NaN             92.0  \n",
       "15686          535.0            280.0  \n",
       "15866          513.0             85.0  \n",
       "16499          374.0              4.0  \n",
       "16561          162.0            140.0  \n",
       "16610          365.0            319.0  \n",
       "17535            NaN            213.0  \n",
       "17764          856.0            305.0  \n",
       "18526            NaN             65.0  \n",
       "18917          142.0             15.0  \n",
       "19045          858.0            254.0  \n",
       "19972          374.0            278.0  \n",
       "20057            NaN            325.0  \n",
       "20382            NaN              NaN  \n",
       "20590            NaN             78.0  \n",
       "20654            NaN            164.0  \n",
       "21119            NaN              9.0  \n",
       "21276            NaN              4.0  \n",
       "21333          943.0            486.0  \n",
       "21715            NaN            176.0  \n",
       "21898            NaN            169.0  \n",
       "22474          561.0            436.0  \n",
       "22717            NaN             75.0  \n",
       "22933          374.0            427.0  \n",
       "23214            NaN             70.0  \n",
       "\n",
       "[49 rows x 22 columns]"
      ]
     },
     "execution_count": 28,
     "metadata": {},
     "output_type": "execute_result"
    }
   ],
   "source": [
    "df[df['locality_name'].isna()]"
   ]
  },
  {
   "cell_type": "markdown",
   "metadata": {},
   "source": [
    "49 пропусков. От Адмиралтейства (условно центр города) до Сосновой поляны - 20 км Лахты - 12 км Девяткино 17 км Парнас -19 км Пр Большевиков. 12 км Рыбацкое - 18 км. Южная граница Купчино - 14 км. Исходя из этих данных округлим радиус города до 20 000 м, и будем заполнять пропуски в название города \"Санкт-Петербург\", в остальных - \"Пригород\"."
   ]
  },
  {
   "cell_type": "code",
   "execution_count": 29,
   "metadata": {},
   "outputs": [
    {
     "data": {
      "text/plain": [
       "0"
      ]
     },
     "execution_count": 29,
     "metadata": {},
     "output_type": "execute_result"
    }
   ],
   "source": [
    "# создадим функцию с условием:\n",
    "\n",
    "def loc_name_edit(row):\n",
    "    if row < 20000:\n",
    "        return 'Санкт-Петербург'\n",
    "    else:\n",
    "        return 'Пригород'\n",
    "\n",
    "# применим для объявелений с пропусками:\n",
    "\n",
    "df.loc[df['locality_name'].isna(), 'locality_name'] = df.loc[df['locality_name'].isna(), 'cityCenters_nearest'].apply(loc_name_edit)\n",
    " \n",
    "# результат:\n",
    "    \n",
    "df['locality_name'].isna().sum()\n"
   ]
  },
  {
   "cell_type": "markdown",
   "metadata": {},
   "source": [
    "Столбец airports_nearest - расстояние до аэропорта тоже имеет много пропусков. Поскольку в задании нет задач связанных с аэропортом, просто заменим на среднее значение."
   ]
  },
  {
   "cell_type": "code",
   "execution_count": 30,
   "metadata": {},
   "outputs": [
    {
     "data": {
      "text/plain": [
       "0"
      ]
     },
     "execution_count": 30,
     "metadata": {},
     "output_type": "execute_result"
    }
   ],
   "source": [
    "df['airports_nearest'] = df['airports_nearest'].fillna(df['airports_nearest'].mean())\n",
    "df['airports_nearest'].isna().sum()"
   ]
  },
  {
   "cell_type": "markdown",
   "metadata": {},
   "source": [
    "Столбец cityCenters_nearest - расстояние до центра города. Сгруппируем данные по населенному пункту, найдем медиану значений, ими заполним пропуски. "
   ]
  },
  {
   "cell_type": "code",
   "execution_count": 31,
   "metadata": {},
   "outputs": [
    {
     "data": {
      "text/html": [
       "<div>\n",
       "<style scoped>\n",
       "    .dataframe tbody tr th:only-of-type {\n",
       "        vertical-align: middle;\n",
       "    }\n",
       "\n",
       "    .dataframe tbody tr th {\n",
       "        vertical-align: top;\n",
       "    }\n",
       "\n",
       "    .dataframe thead th {\n",
       "        text-align: right;\n",
       "    }\n",
       "</style>\n",
       "<table border=\"1\" class=\"dataframe\">\n",
       "  <thead>\n",
       "    <tr style=\"text-align: right;\">\n",
       "      <th></th>\n",
       "      <th>cityCenters_nearest</th>\n",
       "    </tr>\n",
       "    <tr>\n",
       "      <th>locality_name</th>\n",
       "      <th></th>\n",
       "    </tr>\n",
       "  </thead>\n",
       "  <tbody>\n",
       "    <tr>\n",
       "      <td>Санкт-Петербург</td>\n",
       "      <td>12242.0</td>\n",
       "    </tr>\n",
       "    <tr>\n",
       "      <td>посёлок Парголово</td>\n",
       "      <td>19311.0</td>\n",
       "    </tr>\n",
       "    <tr>\n",
       "      <td>поселок Мурино</td>\n",
       "      <td>21888.0</td>\n",
       "    </tr>\n",
       "    <tr>\n",
       "      <td>посёлок Стрельна</td>\n",
       "      <td>23506.0</td>\n",
       "    </tr>\n",
       "    <tr>\n",
       "      <td>посёлок Шушары</td>\n",
       "      <td>24212.0</td>\n",
       "    </tr>\n",
       "    <tr>\n",
       "      <td>посёлок Левашово</td>\n",
       "      <td>25727.0</td>\n",
       "    </tr>\n",
       "    <tr>\n",
       "      <td>посёлок Песочный</td>\n",
       "      <td>26099.5</td>\n",
       "    </tr>\n",
       "    <tr>\n",
       "      <td>посёлок Петро-Славянка</td>\n",
       "      <td>27165.0</td>\n",
       "    </tr>\n",
       "    <tr>\n",
       "      <td>посёлок Лисий Нос</td>\n",
       "      <td>27297.0</td>\n",
       "    </tr>\n",
       "    <tr>\n",
       "      <td>посёлок Александровская</td>\n",
       "      <td>27468.0</td>\n",
       "    </tr>\n",
       "    <tr>\n",
       "      <td>посёлок Металлострой</td>\n",
       "      <td>27602.0</td>\n",
       "    </tr>\n",
       "    <tr>\n",
       "      <td>Пушкин</td>\n",
       "      <td>27930.5</td>\n",
       "    </tr>\n",
       "    <tr>\n",
       "      <td>посёлок Усть-Ижора</td>\n",
       "      <td>28222.5</td>\n",
       "    </tr>\n",
       "    <tr>\n",
       "      <td>поселок Лисий Нос</td>\n",
       "      <td>28246.0</td>\n",
       "    </tr>\n",
       "    <tr>\n",
       "      <td>Красное Село</td>\n",
       "      <td>29140.5</td>\n",
       "    </tr>\n",
       "    <tr>\n",
       "      <td>Пригород</td>\n",
       "      <td>31855.0</td>\n",
       "    </tr>\n",
       "    <tr>\n",
       "      <td>Колпино</td>\n",
       "      <td>32018.0</td>\n",
       "    </tr>\n",
       "    <tr>\n",
       "      <td>посёлок Понтонный</td>\n",
       "      <td>32354.0</td>\n",
       "    </tr>\n",
       "    <tr>\n",
       "      <td>Павловск</td>\n",
       "      <td>32683.0</td>\n",
       "    </tr>\n",
       "    <tr>\n",
       "      <td>Петергоф</td>\n",
       "      <td>33771.0</td>\n",
       "    </tr>\n",
       "    <tr>\n",
       "      <td>посёлок Щеглово</td>\n",
       "      <td>34085.0</td>\n",
       "    </tr>\n",
       "    <tr>\n",
       "      <td>Сестрорецк</td>\n",
       "      <td>34821.0</td>\n",
       "    </tr>\n",
       "    <tr>\n",
       "      <td>посёлок Сапёрный</td>\n",
       "      <td>35859.5</td>\n",
       "    </tr>\n",
       "    <tr>\n",
       "      <td>посёлок Белоостров</td>\n",
       "      <td>38868.0</td>\n",
       "    </tr>\n",
       "    <tr>\n",
       "      <td>посёлок Репино</td>\n",
       "      <td>42896.5</td>\n",
       "    </tr>\n",
       "    <tr>\n",
       "      <td>Кронштадт</td>\n",
       "      <td>49575.0</td>\n",
       "    </tr>\n",
       "    <tr>\n",
       "      <td>Ломоносов</td>\n",
       "      <td>51677.0</td>\n",
       "    </tr>\n",
       "    <tr>\n",
       "      <td>Зеленогорск</td>\n",
       "      <td>53381.0</td>\n",
       "    </tr>\n",
       "    <tr>\n",
       "      <td>посёлок Молодёжное</td>\n",
       "      <td>65764.0</td>\n",
       "    </tr>\n",
       "  </tbody>\n",
       "</table>\n",
       "</div>"
      ],
      "text/plain": [
       "                         cityCenters_nearest\n",
       "locality_name                               \n",
       "Санкт-Петербург                      12242.0\n",
       "посёлок Парголово                    19311.0\n",
       "поселок Мурино                       21888.0\n",
       "посёлок Стрельна                     23506.0\n",
       "посёлок Шушары                       24212.0\n",
       "посёлок Левашово                     25727.0\n",
       "посёлок Песочный                     26099.5\n",
       "посёлок Петро-Славянка               27165.0\n",
       "посёлок Лисий Нос                    27297.0\n",
       "посёлок Александровская              27468.0\n",
       "посёлок Металлострой                 27602.0\n",
       "Пушкин                               27930.5\n",
       "посёлок Усть-Ижора                   28222.5\n",
       "поселок Лисий Нос                    28246.0\n",
       "Красное Село                         29140.5\n",
       "Пригород                             31855.0\n",
       "Колпино                              32018.0\n",
       "посёлок Понтонный                    32354.0\n",
       "Павловск                             32683.0\n",
       "Петергоф                             33771.0\n",
       "посёлок Щеглово                      34085.0\n",
       "Сестрорецк                           34821.0\n",
       "посёлок Сапёрный                     35859.5\n",
       "посёлок Белоостров                   38868.0\n",
       "посёлок Репино                       42896.5\n",
       "Кронштадт                            49575.0\n",
       "Ломоносов                            51677.0\n",
       "Зеленогорск                          53381.0\n",
       "посёлок Молодёжное                   65764.0"
      ]
     },
     "execution_count": 31,
     "metadata": {},
     "output_type": "execute_result"
    }
   ],
   "source": [
    "# создадим сводную таблицу с медианными значениями:\n",
    "sity_dist = df.pivot_table(index='locality_name', values='cityCenters_nearest', aggfunc='median')\n",
    "sity_dist.sort_values(by='cityCenters_nearest')"
   ]
  },
  {
   "cell_type": "code",
   "execution_count": 32,
   "metadata": {},
   "outputs": [
    {
     "name": "stdout",
     "output_type": "stream",
     "text": [
      "29\n",
      "365\n"
     ]
    },
    {
     "data": {
      "text/plain": [
       "5519"
      ]
     },
     "execution_count": 32,
     "metadata": {},
     "output_type": "execute_result"
    }
   ],
   "source": [
    "# количество населенных пунктов с указанием данных о среднем расстоянии до центра:\n",
    "print(len(sity_dist))\n",
    "# всего населенных пунктов\n",
    "df\n",
    "print(len(df['locality_name'].value_counts()))\n",
    "\n",
    "\n",
    "df['cityCenters_nearest'].isna().sum()"
   ]
  },
  {
   "cell_type": "markdown",
   "metadata": {},
   "source": [
    "Следовательно не выйдет заполнить все пропуски по среднему значению сгруппировав по населенным пунктам. Сделаем насколько это возможно, остальные данные заменим на медиану с привязкой к населенному пункту "
   ]
  },
  {
   "cell_type": "code",
   "execution_count": 33,
   "metadata": {},
   "outputs": [
    {
     "data": {
      "text/plain": [
       "5386"
      ]
     },
     "execution_count": 33,
     "metadata": {},
     "output_type": "execute_result"
    }
   ],
   "source": [
    "# Создадим новый столбец, в котором указаны медианные значения расстояния до центра согласно населённому пункту:\n",
    "df['median_centr_nearest'] = df.groupby('locality_name')['cityCenters_nearest'].transform('mean')\n",
    " \n",
    "# заполним все пустые значения расстояния до центра на медианные значения из нового столбца\n",
    "df.loc[df['locality_name'] != 'Санкт-Петербург', 'cityCenters_nearest'] = df.loc[df['locality_name'] != 'Санкт-Петербург', 'cityCenters_nearest'].fillna(df['median_centr_nearest'])\n",
    "df.loc[df['locality_name'] == 'Санкт-Петербург', 'cityCenters_nearest'] = df.loc[df['locality_name'] == 'Санкт-Петербург', 'cityCenters_nearest'].fillna(df['median_centr_nearest'])\n",
    "df['cityCenters_nearest'].isna().sum()"
   ]
  },
  {
   "cell_type": "markdown",
   "metadata": {},
   "source": [
    "Послдение столбцы - с информацией о парках и прудах нам не нужны в исследовании, поэтому пропуски заменять в них не будем. Можно предположить что пропуск - это отсутствие парка или пруда. Но это тема отдельного исследования. "
   ]
  },
  {
   "cell_type": "markdown",
   "metadata": {},
   "source": [
    "Еще раз взглянем на данные: "
   ]
  },
  {
   "cell_type": "code",
   "execution_count": 34,
   "metadata": {},
   "outputs": [
    {
     "name": "stdout",
     "output_type": "stream",
     "text": [
      "<class 'pandas.core.frame.DataFrame'>\n",
      "RangeIndex: 23699 entries, 0 to 23698\n",
      "Data columns (total 23 columns):\n",
      "total_images            23699 non-null int64\n",
      "last_price              23699 non-null float64\n",
      "total_area              23699 non-null float64\n",
      "first_day_exposition    23699 non-null datetime64[ns]\n",
      "rooms                   23699 non-null int64\n",
      "ceiling_height          23699 non-null float64\n",
      "floors_total            23699 non-null int64\n",
      "living_area             23699 non-null float64\n",
      "floor                   23699 non-null int64\n",
      "is_apartment            23699 non-null bool\n",
      "studio                  23699 non-null bool\n",
      "open_plan               23699 non-null bool\n",
      "kitchen_area            23699 non-null float64\n",
      "balcony                 23699 non-null int64\n",
      "locality_name           23699 non-null object\n",
      "airports_nearest        23699 non-null float64\n",
      "cityCenters_nearest     18313 non-null float64\n",
      "parks_around3000        18181 non-null float64\n",
      "parks_nearest           8079 non-null float64\n",
      "ponds_around3000        18181 non-null float64\n",
      "ponds_nearest           9110 non-null float64\n",
      "days_exposition         20518 non-null float64\n",
      "median_centr_nearest    18313 non-null float64\n",
      "dtypes: bool(3), datetime64[ns](1), float64(13), int64(5), object(1)\n",
      "memory usage: 3.7+ MB\n"
     ]
    }
   ],
   "source": [
    "df.info()"
   ]
  },
  {
   "cell_type": "markdown",
   "metadata": {},
   "source": [
    "Последнюю цену размещения переведем в целочисленный формат. К чему нам эти копейки? А вот площади не будем трогать. Даже половина квадратного метра стоит совсем не копейки..."
   ]
  },
  {
   "cell_type": "code",
   "execution_count": 35,
   "metadata": {},
   "outputs": [
    {
     "name": "stdout",
     "output_type": "stream",
     "text": [
      "<class 'pandas.core.frame.DataFrame'>\n",
      "RangeIndex: 23699 entries, 0 to 23698\n",
      "Data columns (total 23 columns):\n",
      "total_images            23699 non-null int64\n",
      "last_price              23699 non-null int64\n",
      "total_area              23699 non-null float64\n",
      "first_day_exposition    23699 non-null datetime64[ns]\n",
      "rooms                   23699 non-null int64\n",
      "ceiling_height          23699 non-null float64\n",
      "floors_total            23699 non-null int64\n",
      "living_area             23699 non-null float64\n",
      "floor                   23699 non-null int64\n",
      "is_apartment            23699 non-null bool\n",
      "studio                  23699 non-null bool\n",
      "open_plan               23699 non-null bool\n",
      "kitchen_area            23699 non-null float64\n",
      "balcony                 23699 non-null int64\n",
      "locality_name           23699 non-null object\n",
      "airports_nearest        23699 non-null float64\n",
      "cityCenters_nearest     18313 non-null float64\n",
      "parks_around3000        18181 non-null float64\n",
      "parks_nearest           8079 non-null float64\n",
      "ponds_around3000        18181 non-null float64\n",
      "ponds_nearest           9110 non-null float64\n",
      "days_exposition         20518 non-null float64\n",
      "median_centr_nearest    18313 non-null float64\n",
      "dtypes: bool(3), datetime64[ns](1), float64(12), int64(6), object(1)\n",
      "memory usage: 3.7+ MB\n"
     ]
    }
   ],
   "source": [
    "# \n",
    "df['last_price'] = df['last_price'].astype('int')\n",
    "df.info()"
   ]
  },
  {
   "cell_type": "markdown",
   "metadata": {},
   "source": [
    "# "
   ]
  },
  {
   "cell_type": "markdown",
   "metadata": {},
   "source": [
    "## Расчёты и добавление результатов в таблицу"
   ]
  },
  {
   "cell_type": "markdown",
   "metadata": {},
   "source": [
    "Перед нами стоят слудующие задачи:\n",
    "\n",
    "- узнать цену квадратного метра;\n",
    "- день недели, месяц и год публикации объявления;\n",
    "- этаж квартиры; варианты — первый, последний, другой;\n",
    "- соотношение жилой и общей площади, а также отношение площади кухни к общей.\n",
    "\n",
    "Узнать цену квадратого метра достаточно просто: разделить цену квартиры на общую площадь, и приведем к целочисленному формату."
   ]
  },
  {
   "cell_type": "code",
   "execution_count": 36,
   "metadata": {},
   "outputs": [
    {
     "data": {
      "text/html": [
       "<div>\n",
       "<style scoped>\n",
       "    .dataframe tbody tr th:only-of-type {\n",
       "        vertical-align: middle;\n",
       "    }\n",
       "\n",
       "    .dataframe tbody tr th {\n",
       "        vertical-align: top;\n",
       "    }\n",
       "\n",
       "    .dataframe thead th {\n",
       "        text-align: right;\n",
       "    }\n",
       "</style>\n",
       "<table border=\"1\" class=\"dataframe\">\n",
       "  <thead>\n",
       "    <tr style=\"text-align: right;\">\n",
       "      <th></th>\n",
       "      <th>total_images</th>\n",
       "      <th>last_price</th>\n",
       "      <th>total_area</th>\n",
       "      <th>first_day_exposition</th>\n",
       "      <th>rooms</th>\n",
       "      <th>ceiling_height</th>\n",
       "      <th>floors_total</th>\n",
       "      <th>living_area</th>\n",
       "      <th>floor</th>\n",
       "      <th>is_apartment</th>\n",
       "      <th>...</th>\n",
       "      <th>locality_name</th>\n",
       "      <th>airports_nearest</th>\n",
       "      <th>cityCenters_nearest</th>\n",
       "      <th>parks_around3000</th>\n",
       "      <th>parks_nearest</th>\n",
       "      <th>ponds_around3000</th>\n",
       "      <th>ponds_nearest</th>\n",
       "      <th>days_exposition</th>\n",
       "      <th>median_centr_nearest</th>\n",
       "      <th>price_of_meter</th>\n",
       "    </tr>\n",
       "  </thead>\n",
       "  <tbody>\n",
       "    <tr>\n",
       "      <td>0</td>\n",
       "      <td>20</td>\n",
       "      <td>13000000</td>\n",
       "      <td>108.0</td>\n",
       "      <td>2019-03-07</td>\n",
       "      <td>3</td>\n",
       "      <td>2.70</td>\n",
       "      <td>16</td>\n",
       "      <td>51.00</td>\n",
       "      <td>8</td>\n",
       "      <td>False</td>\n",
       "      <td>...</td>\n",
       "      <td>Санкт-Петербург</td>\n",
       "      <td>18863.0</td>\n",
       "      <td>16028.0</td>\n",
       "      <td>1.0</td>\n",
       "      <td>482.0</td>\n",
       "      <td>2.0</td>\n",
       "      <td>755.0</td>\n",
       "      <td>NaN</td>\n",
       "      <td>11595.209148</td>\n",
       "      <td>120370</td>\n",
       "    </tr>\n",
       "    <tr>\n",
       "      <td>1</td>\n",
       "      <td>7</td>\n",
       "      <td>3350000</td>\n",
       "      <td>40.4</td>\n",
       "      <td>2018-12-04</td>\n",
       "      <td>1</td>\n",
       "      <td>2.65</td>\n",
       "      <td>11</td>\n",
       "      <td>18.60</td>\n",
       "      <td>1</td>\n",
       "      <td>False</td>\n",
       "      <td>...</td>\n",
       "      <td>посёлок Шушары</td>\n",
       "      <td>12817.0</td>\n",
       "      <td>18603.0</td>\n",
       "      <td>0.0</td>\n",
       "      <td>NaN</td>\n",
       "      <td>0.0</td>\n",
       "      <td>NaN</td>\n",
       "      <td>81.0</td>\n",
       "      <td>24243.387615</td>\n",
       "      <td>82920</td>\n",
       "    </tr>\n",
       "    <tr>\n",
       "      <td>2</td>\n",
       "      <td>10</td>\n",
       "      <td>5196000</td>\n",
       "      <td>56.0</td>\n",
       "      <td>2015-08-20</td>\n",
       "      <td>2</td>\n",
       "      <td>2.65</td>\n",
       "      <td>5</td>\n",
       "      <td>34.30</td>\n",
       "      <td>4</td>\n",
       "      <td>False</td>\n",
       "      <td>...</td>\n",
       "      <td>Санкт-Петербург</td>\n",
       "      <td>21741.0</td>\n",
       "      <td>13933.0</td>\n",
       "      <td>1.0</td>\n",
       "      <td>90.0</td>\n",
       "      <td>2.0</td>\n",
       "      <td>574.0</td>\n",
       "      <td>558.0</td>\n",
       "      <td>11595.209148</td>\n",
       "      <td>92785</td>\n",
       "    </tr>\n",
       "    <tr>\n",
       "      <td>3</td>\n",
       "      <td>0</td>\n",
       "      <td>64900000</td>\n",
       "      <td>159.0</td>\n",
       "      <td>2015-07-24</td>\n",
       "      <td>3</td>\n",
       "      <td>2.65</td>\n",
       "      <td>14</td>\n",
       "      <td>90.29</td>\n",
       "      <td>9</td>\n",
       "      <td>False</td>\n",
       "      <td>...</td>\n",
       "      <td>Санкт-Петербург</td>\n",
       "      <td>28098.0</td>\n",
       "      <td>6800.0</td>\n",
       "      <td>2.0</td>\n",
       "      <td>84.0</td>\n",
       "      <td>3.0</td>\n",
       "      <td>234.0</td>\n",
       "      <td>424.0</td>\n",
       "      <td>11595.209148</td>\n",
       "      <td>408176</td>\n",
       "    </tr>\n",
       "    <tr>\n",
       "      <td>4</td>\n",
       "      <td>2</td>\n",
       "      <td>10000000</td>\n",
       "      <td>100.0</td>\n",
       "      <td>2018-06-19</td>\n",
       "      <td>2</td>\n",
       "      <td>3.03</td>\n",
       "      <td>14</td>\n",
       "      <td>32.00</td>\n",
       "      <td>13</td>\n",
       "      <td>False</td>\n",
       "      <td>...</td>\n",
       "      <td>Санкт-Петербург</td>\n",
       "      <td>31856.0</td>\n",
       "      <td>8098.0</td>\n",
       "      <td>2.0</td>\n",
       "      <td>112.0</td>\n",
       "      <td>1.0</td>\n",
       "      <td>48.0</td>\n",
       "      <td>121.0</td>\n",
       "      <td>11595.209148</td>\n",
       "      <td>100000</td>\n",
       "    </tr>\n",
       "  </tbody>\n",
       "</table>\n",
       "<p>5 rows × 24 columns</p>\n",
       "</div>"
      ],
      "text/plain": [
       "   total_images  last_price  total_area first_day_exposition  rooms  \\\n",
       "0            20    13000000       108.0           2019-03-07      3   \n",
       "1             7     3350000        40.4           2018-12-04      1   \n",
       "2            10     5196000        56.0           2015-08-20      2   \n",
       "3             0    64900000       159.0           2015-07-24      3   \n",
       "4             2    10000000       100.0           2018-06-19      2   \n",
       "\n",
       "   ceiling_height  floors_total  living_area  floor  is_apartment  ...  \\\n",
       "0            2.70            16        51.00      8         False  ...   \n",
       "1            2.65            11        18.60      1         False  ...   \n",
       "2            2.65             5        34.30      4         False  ...   \n",
       "3            2.65            14        90.29      9         False  ...   \n",
       "4            3.03            14        32.00     13         False  ...   \n",
       "\n",
       "     locality_name  airports_nearest  cityCenters_nearest  parks_around3000  \\\n",
       "0  Санкт-Петербург           18863.0              16028.0               1.0   \n",
       "1   посёлок Шушары           12817.0              18603.0               0.0   \n",
       "2  Санкт-Петербург           21741.0              13933.0               1.0   \n",
       "3  Санкт-Петербург           28098.0               6800.0               2.0   \n",
       "4  Санкт-Петербург           31856.0               8098.0               2.0   \n",
       "\n",
       "  parks_nearest  ponds_around3000  ponds_nearest  days_exposition  \\\n",
       "0         482.0               2.0          755.0              NaN   \n",
       "1           NaN               0.0            NaN             81.0   \n",
       "2          90.0               2.0          574.0            558.0   \n",
       "3          84.0               3.0          234.0            424.0   \n",
       "4         112.0               1.0           48.0            121.0   \n",
       "\n",
       "   median_centr_nearest  price_of_meter  \n",
       "0          11595.209148          120370  \n",
       "1          24243.387615           82920  \n",
       "2          11595.209148           92785  \n",
       "3          11595.209148          408176  \n",
       "4          11595.209148          100000  \n",
       "\n",
       "[5 rows x 24 columns]"
      ]
     },
     "execution_count": 36,
     "metadata": {},
     "output_type": "execute_result"
    }
   ],
   "source": [
    "# цена метра:\n",
    "df['price_of_meter'] = df['last_price'] / df['total_area']\n",
    "\n",
    "# переводим к целочисленному виду:\n",
    "df['price_of_meter'] = df['price_of_meter'].astype('int')\n",
    "df.head()"
   ]
  },
  {
   "cell_type": "markdown",
   "metadata": {},
   "source": [
    "День недели, месяц и год лучше разделить по разным столбцам, так как в последствии нам необходимо отдельно искать их зависимости, данные берем из колонки о первом размещении 'first_day_exposition':"
   ]
  },
  {
   "cell_type": "code",
   "execution_count": 37,
   "metadata": {},
   "outputs": [
    {
     "data": {
      "text/html": [
       "<div>\n",
       "<style scoped>\n",
       "    .dataframe tbody tr th:only-of-type {\n",
       "        vertical-align: middle;\n",
       "    }\n",
       "\n",
       "    .dataframe tbody tr th {\n",
       "        vertical-align: top;\n",
       "    }\n",
       "\n",
       "    .dataframe thead th {\n",
       "        text-align: right;\n",
       "    }\n",
       "</style>\n",
       "<table border=\"1\" class=\"dataframe\">\n",
       "  <thead>\n",
       "    <tr style=\"text-align: right;\">\n",
       "      <th></th>\n",
       "      <th>total_images</th>\n",
       "      <th>last_price</th>\n",
       "      <th>total_area</th>\n",
       "      <th>first_day_exposition</th>\n",
       "      <th>rooms</th>\n",
       "      <th>ceiling_height</th>\n",
       "      <th>floors_total</th>\n",
       "      <th>living_area</th>\n",
       "      <th>floor</th>\n",
       "      <th>is_apartment</th>\n",
       "      <th>...</th>\n",
       "      <th>parks_around3000</th>\n",
       "      <th>parks_nearest</th>\n",
       "      <th>ponds_around3000</th>\n",
       "      <th>ponds_nearest</th>\n",
       "      <th>days_exposition</th>\n",
       "      <th>median_centr_nearest</th>\n",
       "      <th>price_of_meter</th>\n",
       "      <th>weekday_exposition</th>\n",
       "      <th>month_exposition</th>\n",
       "      <th>year_exposition</th>\n",
       "    </tr>\n",
       "  </thead>\n",
       "  <tbody>\n",
       "    <tr>\n",
       "      <td>0</td>\n",
       "      <td>20</td>\n",
       "      <td>13000000</td>\n",
       "      <td>108.0</td>\n",
       "      <td>2019-03-07</td>\n",
       "      <td>3</td>\n",
       "      <td>2.70</td>\n",
       "      <td>16</td>\n",
       "      <td>51.00</td>\n",
       "      <td>8</td>\n",
       "      <td>False</td>\n",
       "      <td>...</td>\n",
       "      <td>1.0</td>\n",
       "      <td>482.0</td>\n",
       "      <td>2.0</td>\n",
       "      <td>755.0</td>\n",
       "      <td>NaN</td>\n",
       "      <td>11595.209148</td>\n",
       "      <td>120370</td>\n",
       "      <td>3</td>\n",
       "      <td>3</td>\n",
       "      <td>2019</td>\n",
       "    </tr>\n",
       "    <tr>\n",
       "      <td>1</td>\n",
       "      <td>7</td>\n",
       "      <td>3350000</td>\n",
       "      <td>40.4</td>\n",
       "      <td>2018-12-04</td>\n",
       "      <td>1</td>\n",
       "      <td>2.65</td>\n",
       "      <td>11</td>\n",
       "      <td>18.60</td>\n",
       "      <td>1</td>\n",
       "      <td>False</td>\n",
       "      <td>...</td>\n",
       "      <td>0.0</td>\n",
       "      <td>NaN</td>\n",
       "      <td>0.0</td>\n",
       "      <td>NaN</td>\n",
       "      <td>81.0</td>\n",
       "      <td>24243.387615</td>\n",
       "      <td>82920</td>\n",
       "      <td>1</td>\n",
       "      <td>12</td>\n",
       "      <td>2018</td>\n",
       "    </tr>\n",
       "    <tr>\n",
       "      <td>2</td>\n",
       "      <td>10</td>\n",
       "      <td>5196000</td>\n",
       "      <td>56.0</td>\n",
       "      <td>2015-08-20</td>\n",
       "      <td>2</td>\n",
       "      <td>2.65</td>\n",
       "      <td>5</td>\n",
       "      <td>34.30</td>\n",
       "      <td>4</td>\n",
       "      <td>False</td>\n",
       "      <td>...</td>\n",
       "      <td>1.0</td>\n",
       "      <td>90.0</td>\n",
       "      <td>2.0</td>\n",
       "      <td>574.0</td>\n",
       "      <td>558.0</td>\n",
       "      <td>11595.209148</td>\n",
       "      <td>92785</td>\n",
       "      <td>3</td>\n",
       "      <td>8</td>\n",
       "      <td>2015</td>\n",
       "    </tr>\n",
       "    <tr>\n",
       "      <td>3</td>\n",
       "      <td>0</td>\n",
       "      <td>64900000</td>\n",
       "      <td>159.0</td>\n",
       "      <td>2015-07-24</td>\n",
       "      <td>3</td>\n",
       "      <td>2.65</td>\n",
       "      <td>14</td>\n",
       "      <td>90.29</td>\n",
       "      <td>9</td>\n",
       "      <td>False</td>\n",
       "      <td>...</td>\n",
       "      <td>2.0</td>\n",
       "      <td>84.0</td>\n",
       "      <td>3.0</td>\n",
       "      <td>234.0</td>\n",
       "      <td>424.0</td>\n",
       "      <td>11595.209148</td>\n",
       "      <td>408176</td>\n",
       "      <td>4</td>\n",
       "      <td>7</td>\n",
       "      <td>2015</td>\n",
       "    </tr>\n",
       "    <tr>\n",
       "      <td>4</td>\n",
       "      <td>2</td>\n",
       "      <td>10000000</td>\n",
       "      <td>100.0</td>\n",
       "      <td>2018-06-19</td>\n",
       "      <td>2</td>\n",
       "      <td>3.03</td>\n",
       "      <td>14</td>\n",
       "      <td>32.00</td>\n",
       "      <td>13</td>\n",
       "      <td>False</td>\n",
       "      <td>...</td>\n",
       "      <td>2.0</td>\n",
       "      <td>112.0</td>\n",
       "      <td>1.0</td>\n",
       "      <td>48.0</td>\n",
       "      <td>121.0</td>\n",
       "      <td>11595.209148</td>\n",
       "      <td>100000</td>\n",
       "      <td>1</td>\n",
       "      <td>6</td>\n",
       "      <td>2018</td>\n",
       "    </tr>\n",
       "  </tbody>\n",
       "</table>\n",
       "<p>5 rows × 27 columns</p>\n",
       "</div>"
      ],
      "text/plain": [
       "   total_images  last_price  total_area first_day_exposition  rooms  \\\n",
       "0            20    13000000       108.0           2019-03-07      3   \n",
       "1             7     3350000        40.4           2018-12-04      1   \n",
       "2            10     5196000        56.0           2015-08-20      2   \n",
       "3             0    64900000       159.0           2015-07-24      3   \n",
       "4             2    10000000       100.0           2018-06-19      2   \n",
       "\n",
       "   ceiling_height  floors_total  living_area  floor  is_apartment  ...  \\\n",
       "0            2.70            16        51.00      8         False  ...   \n",
       "1            2.65            11        18.60      1         False  ...   \n",
       "2            2.65             5        34.30      4         False  ...   \n",
       "3            2.65            14        90.29      9         False  ...   \n",
       "4            3.03            14        32.00     13         False  ...   \n",
       "\n",
       "   parks_around3000  parks_nearest  ponds_around3000  ponds_nearest  \\\n",
       "0               1.0          482.0               2.0          755.0   \n",
       "1               0.0            NaN               0.0            NaN   \n",
       "2               1.0           90.0               2.0          574.0   \n",
       "3               2.0           84.0               3.0          234.0   \n",
       "4               2.0          112.0               1.0           48.0   \n",
       "\n",
       "  days_exposition  median_centr_nearest  price_of_meter  weekday_exposition  \\\n",
       "0             NaN          11595.209148          120370                   3   \n",
       "1            81.0          24243.387615           82920                   1   \n",
       "2           558.0          11595.209148           92785                   3   \n",
       "3           424.0          11595.209148          408176                   4   \n",
       "4           121.0          11595.209148          100000                   1   \n",
       "\n",
       "   month_exposition  year_exposition  \n",
       "0                 3             2019  \n",
       "1                12             2018  \n",
       "2                 8             2015  \n",
       "3                 7             2015  \n",
       "4                 6             2018  \n",
       "\n",
       "[5 rows x 27 columns]"
      ]
     },
     "execution_count": 37,
     "metadata": {},
     "output_type": "execute_result"
    }
   ],
   "source": [
    "#создаем столбец дня недели\n",
    "df['weekday_exposition'] = df['first_day_exposition'].dt.weekday\n",
    "\n",
    "#создаем столбец месяца\n",
    "df['month_exposition'] = df['first_day_exposition'].dt.month\n",
    "\n",
    "#создаем столбец года\n",
    "df['year_exposition'] = df['first_day_exposition'].dt.year\n",
    "\n",
    "df.head()"
   ]
  },
  {
   "cell_type": "markdown",
   "metadata": {},
   "source": [
    "Далее нужно указать этаж квартиры - первый, последний и другой. Вновь категоризируем."
   ]
  },
  {
   "cell_type": "code",
   "execution_count": 38,
   "metadata": {},
   "outputs": [
    {
     "data": {
      "text/html": [
       "<div>\n",
       "<style scoped>\n",
       "    .dataframe tbody tr th:only-of-type {\n",
       "        vertical-align: middle;\n",
       "    }\n",
       "\n",
       "    .dataframe tbody tr th {\n",
       "        vertical-align: top;\n",
       "    }\n",
       "\n",
       "    .dataframe thead th {\n",
       "        text-align: right;\n",
       "    }\n",
       "</style>\n",
       "<table border=\"1\" class=\"dataframe\">\n",
       "  <thead>\n",
       "    <tr style=\"text-align: right;\">\n",
       "      <th></th>\n",
       "      <th>total_images</th>\n",
       "      <th>last_price</th>\n",
       "      <th>total_area</th>\n",
       "      <th>first_day_exposition</th>\n",
       "      <th>rooms</th>\n",
       "      <th>ceiling_height</th>\n",
       "      <th>floors_total</th>\n",
       "      <th>living_area</th>\n",
       "      <th>floor</th>\n",
       "      <th>is_apartment</th>\n",
       "      <th>...</th>\n",
       "      <th>parks_nearest</th>\n",
       "      <th>ponds_around3000</th>\n",
       "      <th>ponds_nearest</th>\n",
       "      <th>days_exposition</th>\n",
       "      <th>median_centr_nearest</th>\n",
       "      <th>price_of_meter</th>\n",
       "      <th>weekday_exposition</th>\n",
       "      <th>month_exposition</th>\n",
       "      <th>year_exposition</th>\n",
       "      <th>floor_category</th>\n",
       "    </tr>\n",
       "  </thead>\n",
       "  <tbody>\n",
       "    <tr>\n",
       "      <td>0</td>\n",
       "      <td>20</td>\n",
       "      <td>13000000</td>\n",
       "      <td>108.0</td>\n",
       "      <td>2019-03-07</td>\n",
       "      <td>3</td>\n",
       "      <td>2.70</td>\n",
       "      <td>16</td>\n",
       "      <td>51.00</td>\n",
       "      <td>8</td>\n",
       "      <td>False</td>\n",
       "      <td>...</td>\n",
       "      <td>482.0</td>\n",
       "      <td>2.0</td>\n",
       "      <td>755.0</td>\n",
       "      <td>NaN</td>\n",
       "      <td>11595.209148</td>\n",
       "      <td>120370</td>\n",
       "      <td>3</td>\n",
       "      <td>3</td>\n",
       "      <td>2019</td>\n",
       "      <td>другой</td>\n",
       "    </tr>\n",
       "    <tr>\n",
       "      <td>1</td>\n",
       "      <td>7</td>\n",
       "      <td>3350000</td>\n",
       "      <td>40.4</td>\n",
       "      <td>2018-12-04</td>\n",
       "      <td>1</td>\n",
       "      <td>2.65</td>\n",
       "      <td>11</td>\n",
       "      <td>18.60</td>\n",
       "      <td>1</td>\n",
       "      <td>False</td>\n",
       "      <td>...</td>\n",
       "      <td>NaN</td>\n",
       "      <td>0.0</td>\n",
       "      <td>NaN</td>\n",
       "      <td>81.0</td>\n",
       "      <td>24243.387615</td>\n",
       "      <td>82920</td>\n",
       "      <td>1</td>\n",
       "      <td>12</td>\n",
       "      <td>2018</td>\n",
       "      <td>первый</td>\n",
       "    </tr>\n",
       "    <tr>\n",
       "      <td>2</td>\n",
       "      <td>10</td>\n",
       "      <td>5196000</td>\n",
       "      <td>56.0</td>\n",
       "      <td>2015-08-20</td>\n",
       "      <td>2</td>\n",
       "      <td>2.65</td>\n",
       "      <td>5</td>\n",
       "      <td>34.30</td>\n",
       "      <td>4</td>\n",
       "      <td>False</td>\n",
       "      <td>...</td>\n",
       "      <td>90.0</td>\n",
       "      <td>2.0</td>\n",
       "      <td>574.0</td>\n",
       "      <td>558.0</td>\n",
       "      <td>11595.209148</td>\n",
       "      <td>92785</td>\n",
       "      <td>3</td>\n",
       "      <td>8</td>\n",
       "      <td>2015</td>\n",
       "      <td>другой</td>\n",
       "    </tr>\n",
       "    <tr>\n",
       "      <td>3</td>\n",
       "      <td>0</td>\n",
       "      <td>64900000</td>\n",
       "      <td>159.0</td>\n",
       "      <td>2015-07-24</td>\n",
       "      <td>3</td>\n",
       "      <td>2.65</td>\n",
       "      <td>14</td>\n",
       "      <td>90.29</td>\n",
       "      <td>9</td>\n",
       "      <td>False</td>\n",
       "      <td>...</td>\n",
       "      <td>84.0</td>\n",
       "      <td>3.0</td>\n",
       "      <td>234.0</td>\n",
       "      <td>424.0</td>\n",
       "      <td>11595.209148</td>\n",
       "      <td>408176</td>\n",
       "      <td>4</td>\n",
       "      <td>7</td>\n",
       "      <td>2015</td>\n",
       "      <td>другой</td>\n",
       "    </tr>\n",
       "    <tr>\n",
       "      <td>4</td>\n",
       "      <td>2</td>\n",
       "      <td>10000000</td>\n",
       "      <td>100.0</td>\n",
       "      <td>2018-06-19</td>\n",
       "      <td>2</td>\n",
       "      <td>3.03</td>\n",
       "      <td>14</td>\n",
       "      <td>32.00</td>\n",
       "      <td>13</td>\n",
       "      <td>False</td>\n",
       "      <td>...</td>\n",
       "      <td>112.0</td>\n",
       "      <td>1.0</td>\n",
       "      <td>48.0</td>\n",
       "      <td>121.0</td>\n",
       "      <td>11595.209148</td>\n",
       "      <td>100000</td>\n",
       "      <td>1</td>\n",
       "      <td>6</td>\n",
       "      <td>2018</td>\n",
       "      <td>другой</td>\n",
       "    </tr>\n",
       "  </tbody>\n",
       "</table>\n",
       "<p>5 rows × 28 columns</p>\n",
       "</div>"
      ],
      "text/plain": [
       "   total_images  last_price  total_area first_day_exposition  rooms  \\\n",
       "0            20    13000000       108.0           2019-03-07      3   \n",
       "1             7     3350000        40.4           2018-12-04      1   \n",
       "2            10     5196000        56.0           2015-08-20      2   \n",
       "3             0    64900000       159.0           2015-07-24      3   \n",
       "4             2    10000000       100.0           2018-06-19      2   \n",
       "\n",
       "   ceiling_height  floors_total  living_area  floor  is_apartment  ...  \\\n",
       "0            2.70            16        51.00      8         False  ...   \n",
       "1            2.65            11        18.60      1         False  ...   \n",
       "2            2.65             5        34.30      4         False  ...   \n",
       "3            2.65            14        90.29      9         False  ...   \n",
       "4            3.03            14        32.00     13         False  ...   \n",
       "\n",
       "   parks_nearest  ponds_around3000  ponds_nearest  days_exposition  \\\n",
       "0          482.0               2.0          755.0              NaN   \n",
       "1            NaN               0.0            NaN             81.0   \n",
       "2           90.0               2.0          574.0            558.0   \n",
       "3           84.0               3.0          234.0            424.0   \n",
       "4          112.0               1.0           48.0            121.0   \n",
       "\n",
       "  median_centr_nearest  price_of_meter  weekday_exposition  month_exposition  \\\n",
       "0         11595.209148          120370                   3                 3   \n",
       "1         24243.387615           82920                   1                12   \n",
       "2         11595.209148           92785                   3                 8   \n",
       "3         11595.209148          408176                   4                 7   \n",
       "4         11595.209148          100000                   1                 6   \n",
       "\n",
       "   year_exposition  floor_category  \n",
       "0             2019          другой  \n",
       "1             2018          первый  \n",
       "2             2015          другой  \n",
       "3             2015          другой  \n",
       "4             2018          другой  \n",
       "\n",
       "[5 rows x 28 columns]"
      ]
     },
     "execution_count": 38,
     "metadata": {},
     "output_type": "execute_result"
    }
   ],
   "source": [
    "#напишем функцию категоризации по этажам:\n",
    "def floors_category(row):\n",
    "    floors_total = row['floors_total']\n",
    "    floor = row['floor']\n",
    "    if floor == 1:\n",
    "        return 'первый'\n",
    "    elif floor == floors_total:\n",
    "        return 'последний'\n",
    "    else:\n",
    "        return 'другой'\n",
    "    \n",
    "#категоризуем этажи с помощью функции  \n",
    "df['floor_category'] = df.apply(floors_category, axis = 1)\n",
    "df.head()"
   ]
  },
  {
   "cell_type": "markdown",
   "metadata": {},
   "source": [
    "Соотношения площадей находится делением жилой площади к общей, и кухни к общей. Создаем соответствующие столбцы:"
   ]
  },
  {
   "cell_type": "code",
   "execution_count": 39,
   "metadata": {},
   "outputs": [
    {
     "data": {
      "text/html": [
       "<div>\n",
       "<style scoped>\n",
       "    .dataframe tbody tr th:only-of-type {\n",
       "        vertical-align: middle;\n",
       "    }\n",
       "\n",
       "    .dataframe tbody tr th {\n",
       "        vertical-align: top;\n",
       "    }\n",
       "\n",
       "    .dataframe thead th {\n",
       "        text-align: right;\n",
       "    }\n",
       "</style>\n",
       "<table border=\"1\" class=\"dataframe\">\n",
       "  <thead>\n",
       "    <tr style=\"text-align: right;\">\n",
       "      <th></th>\n",
       "      <th>total_images</th>\n",
       "      <th>last_price</th>\n",
       "      <th>total_area</th>\n",
       "      <th>first_day_exposition</th>\n",
       "      <th>rooms</th>\n",
       "      <th>ceiling_height</th>\n",
       "      <th>floors_total</th>\n",
       "      <th>living_area</th>\n",
       "      <th>floor</th>\n",
       "      <th>is_apartment</th>\n",
       "      <th>...</th>\n",
       "      <th>ponds_nearest</th>\n",
       "      <th>days_exposition</th>\n",
       "      <th>median_centr_nearest</th>\n",
       "      <th>price_of_meter</th>\n",
       "      <th>weekday_exposition</th>\n",
       "      <th>month_exposition</th>\n",
       "      <th>year_exposition</th>\n",
       "      <th>floor_category</th>\n",
       "      <th>living_area_rait</th>\n",
       "      <th>kitchen_area_rait</th>\n",
       "    </tr>\n",
       "  </thead>\n",
       "  <tbody>\n",
       "    <tr>\n",
       "      <td>0</td>\n",
       "      <td>20</td>\n",
       "      <td>13000000</td>\n",
       "      <td>108.0</td>\n",
       "      <td>2019-03-07</td>\n",
       "      <td>3</td>\n",
       "      <td>2.70</td>\n",
       "      <td>16</td>\n",
       "      <td>51.00</td>\n",
       "      <td>8</td>\n",
       "      <td>False</td>\n",
       "      <td>...</td>\n",
       "      <td>755.0</td>\n",
       "      <td>NaN</td>\n",
       "      <td>11595.209148</td>\n",
       "      <td>120370</td>\n",
       "      <td>3</td>\n",
       "      <td>3</td>\n",
       "      <td>2019</td>\n",
       "      <td>другой</td>\n",
       "      <td>0.472222</td>\n",
       "      <td>0.231481</td>\n",
       "    </tr>\n",
       "    <tr>\n",
       "      <td>1</td>\n",
       "      <td>7</td>\n",
       "      <td>3350000</td>\n",
       "      <td>40.4</td>\n",
       "      <td>2018-12-04</td>\n",
       "      <td>1</td>\n",
       "      <td>2.65</td>\n",
       "      <td>11</td>\n",
       "      <td>18.60</td>\n",
       "      <td>1</td>\n",
       "      <td>False</td>\n",
       "      <td>...</td>\n",
       "      <td>NaN</td>\n",
       "      <td>81.0</td>\n",
       "      <td>24243.387615</td>\n",
       "      <td>82920</td>\n",
       "      <td>1</td>\n",
       "      <td>12</td>\n",
       "      <td>2018</td>\n",
       "      <td>первый</td>\n",
       "      <td>0.460396</td>\n",
       "      <td>0.272277</td>\n",
       "    </tr>\n",
       "    <tr>\n",
       "      <td>2</td>\n",
       "      <td>10</td>\n",
       "      <td>5196000</td>\n",
       "      <td>56.0</td>\n",
       "      <td>2015-08-20</td>\n",
       "      <td>2</td>\n",
       "      <td>2.65</td>\n",
       "      <td>5</td>\n",
       "      <td>34.30</td>\n",
       "      <td>4</td>\n",
       "      <td>False</td>\n",
       "      <td>...</td>\n",
       "      <td>574.0</td>\n",
       "      <td>558.0</td>\n",
       "      <td>11595.209148</td>\n",
       "      <td>92785</td>\n",
       "      <td>3</td>\n",
       "      <td>8</td>\n",
       "      <td>2015</td>\n",
       "      <td>другой</td>\n",
       "      <td>0.612500</td>\n",
       "      <td>0.148214</td>\n",
       "    </tr>\n",
       "    <tr>\n",
       "      <td>3</td>\n",
       "      <td>0</td>\n",
       "      <td>64900000</td>\n",
       "      <td>159.0</td>\n",
       "      <td>2015-07-24</td>\n",
       "      <td>3</td>\n",
       "      <td>2.65</td>\n",
       "      <td>14</td>\n",
       "      <td>90.29</td>\n",
       "      <td>9</td>\n",
       "      <td>False</td>\n",
       "      <td>...</td>\n",
       "      <td>234.0</td>\n",
       "      <td>424.0</td>\n",
       "      <td>11595.209148</td>\n",
       "      <td>408176</td>\n",
       "      <td>4</td>\n",
       "      <td>7</td>\n",
       "      <td>2015</td>\n",
       "      <td>другой</td>\n",
       "      <td>0.567862</td>\n",
       "      <td>0.172390</td>\n",
       "    </tr>\n",
       "    <tr>\n",
       "      <td>4</td>\n",
       "      <td>2</td>\n",
       "      <td>10000000</td>\n",
       "      <td>100.0</td>\n",
       "      <td>2018-06-19</td>\n",
       "      <td>2</td>\n",
       "      <td>3.03</td>\n",
       "      <td>14</td>\n",
       "      <td>32.00</td>\n",
       "      <td>13</td>\n",
       "      <td>False</td>\n",
       "      <td>...</td>\n",
       "      <td>48.0</td>\n",
       "      <td>121.0</td>\n",
       "      <td>11595.209148</td>\n",
       "      <td>100000</td>\n",
       "      <td>1</td>\n",
       "      <td>6</td>\n",
       "      <td>2018</td>\n",
       "      <td>другой</td>\n",
       "      <td>0.320000</td>\n",
       "      <td>0.410000</td>\n",
       "    </tr>\n",
       "  </tbody>\n",
       "</table>\n",
       "<p>5 rows × 30 columns</p>\n",
       "</div>"
      ],
      "text/plain": [
       "   total_images  last_price  total_area first_day_exposition  rooms  \\\n",
       "0            20    13000000       108.0           2019-03-07      3   \n",
       "1             7     3350000        40.4           2018-12-04      1   \n",
       "2            10     5196000        56.0           2015-08-20      2   \n",
       "3             0    64900000       159.0           2015-07-24      3   \n",
       "4             2    10000000       100.0           2018-06-19      2   \n",
       "\n",
       "   ceiling_height  floors_total  living_area  floor  is_apartment  ...  \\\n",
       "0            2.70            16        51.00      8         False  ...   \n",
       "1            2.65            11        18.60      1         False  ...   \n",
       "2            2.65             5        34.30      4         False  ...   \n",
       "3            2.65            14        90.29      9         False  ...   \n",
       "4            3.03            14        32.00     13         False  ...   \n",
       "\n",
       "   ponds_nearest  days_exposition  median_centr_nearest  price_of_meter  \\\n",
       "0          755.0              NaN          11595.209148          120370   \n",
       "1            NaN             81.0          24243.387615           82920   \n",
       "2          574.0            558.0          11595.209148           92785   \n",
       "3          234.0            424.0          11595.209148          408176   \n",
       "4           48.0            121.0          11595.209148          100000   \n",
       "\n",
       "  weekday_exposition  month_exposition  year_exposition  floor_category  \\\n",
       "0                  3                 3             2019          другой   \n",
       "1                  1                12             2018          первый   \n",
       "2                  3                 8             2015          другой   \n",
       "3                  4                 7             2015          другой   \n",
       "4                  1                 6             2018          другой   \n",
       "\n",
       "   living_area_rait  kitchen_area_rait  \n",
       "0          0.472222           0.231481  \n",
       "1          0.460396           0.272277  \n",
       "2          0.612500           0.148214  \n",
       "3          0.567862           0.172390  \n",
       "4          0.320000           0.410000  \n",
       "\n",
       "[5 rows x 30 columns]"
      ]
     },
     "execution_count": 39,
     "metadata": {},
     "output_type": "execute_result"
    }
   ],
   "source": [
    "#добавим столбец соотношения жилой площади к общей\n",
    "df['living_area_rait'] = df['living_area'] / df['total_area']\n",
    "\n",
    "#добавим столбец отношения площади кухни к общей\n",
    "df['kitchen_area_rait'] = df['kitchen_area'] / df['total_area']\n",
    "df.head()"
   ]
  },
  {
   "cell_type": "markdown",
   "metadata": {},
   "source": [
    "## Исследовательский анализ данных"
   ]
  },
  {
   "cell_type": "markdown",
   "metadata": {},
   "source": [
    "Есть несколько задач. Начнем по-порядку, и первая задача выглядит так:\n",
    "\n",
    "\n",
    "1. Изучите следующие параметры: площадь, цена, число комнат, высота потолков. Постройте гистограммы для каждого параметра.\n",
    "\n",
    "Изучим площадь:"
   ]
  },
  {
   "cell_type": "code",
   "execution_count": 40,
   "metadata": {},
   "outputs": [
    {
     "data": {
      "text/plain": [
       "count    23699.000000\n",
       "mean        60.348651\n",
       "std         35.654083\n",
       "min         12.000000\n",
       "25%         40.000000\n",
       "50%         52.000000\n",
       "75%         69.900000\n",
       "max        900.000000\n",
       "Name: total_area, dtype: float64"
      ]
     },
     "execution_count": 40,
     "metadata": {},
     "output_type": "execute_result"
    },
    {
     "data": {
      "image/png": "[encoded data removed]",
      "text/plain": [
       "<Figure size 432x288 with 1 Axes>"
      ]
     },
     "metadata": {
      "needs_background": "light"
     },
     "output_type": "display_data"
    }
   ],
   "source": [
    "# Хотел сначала через .hist(), но понял что у .plot() больше возможностей:\n",
    "df.plot(y='total_area', kind='hist', bins=100, grid=True, figsize=(6,4), range=(0,300))\n",
    "df['total_area'].describe()"
   ]
  },
  {
   "cell_type": "markdown",
   "metadata": {},
   "source": [
    "Данные выглядят адекватно. Большая часть объявлений сконцентирована с площадью от 30 до 100 м2. Далее по убыванию. После 200 м2 объвлений так мало, что они в незначительной степени могут повлиять на исследование. Экстремалные значения - квартиры имеют площадь 12 м2 и 900 м2.\n",
    "\n",
    "Далее построим график и изучем цену объвлений, до 20 млн:"
   ]
  },
  {
   "cell_type": "code",
   "execution_count": 41,
   "metadata": {},
   "outputs": [
    {
     "data": {
      "text/plain": [
       "count    2.369900e+04\n",
       "mean     6.542063e+06\n",
       "std      1.088699e+07\n",
       "min      4.300000e+05\n",
       "25%      3.400000e+06\n",
       "50%      4.650000e+06\n",
       "75%      6.800000e+06\n",
       "max      7.630000e+08\n",
       "Name: last_price, dtype: float64"
      ]
     },
     "execution_count": 41,
     "metadata": {},
     "output_type": "execute_result"
    },
    {
     "data": {
      "image/png": "[encoded data removed]",
      "text/plain": [
       "<Figure size 432x288 with 1 Axes>"
      ]
     },
     "metadata": {
      "needs_background": "light"
     },
     "output_type": "display_data"
    }
   ],
   "source": [
    "df.plot(y='last_price', kind='hist', bins=100, grid=True, figsize=(6,4), range=(0,20000000))\n",
    "df['last_price'].describe()"
   ]
  },
  {
   "cell_type": "markdown",
   "metadata": {},
   "source": [
    "Нормальное распределение. Исходя из данных графика наибольшое количество объявлений имеет цену квартиры около 3 млн рублей, однако статистически средняя цена на квартиры равна 6.54 млн рублей. \n",
    "\n",
    "На очереде построение графика с числом комнат:"
   ]
  },
  {
   "cell_type": "code",
   "execution_count": 42,
   "metadata": {},
   "outputs": [
    {
     "data": {
      "text/plain": [
       "count    23699.000000\n",
       "mean         2.070636\n",
       "std          1.078405\n",
       "min          0.000000\n",
       "25%          1.000000\n",
       "50%          2.000000\n",
       "75%          3.000000\n",
       "max         19.000000\n",
       "Name: rooms, dtype: float64"
      ]
     },
     "execution_count": 42,
     "metadata": {},
     "output_type": "execute_result"
    },
    {
     "data": {
      "image/png": "[encoded data removed]",
      "text/plain": [
       "<Figure size 432x288 with 1 Axes>"
      ]
     },
     "metadata": {
      "needs_background": "light"
     },
     "output_type": "display_data"
    }
   ],
   "source": [
    "df.plot(y='rooms', kind='hist', bins=50, grid=True, figsize=(6,4), range=(0,10))\n",
    "df['rooms'].describe()"
   ]
  },
  {
   "cell_type": "markdown",
   "metadata": {},
   "source": [
    "Наибольшее число объявлений - с однокомнатными квартирами, более 8 тысяч. Двух комнатных чуть меньше - около 8 тысяч. Трехкомнатных - более 6 тысяч, а 4-х - более тысячи. 5 и более конмат имеют сравнительно немного квартир из списка объявлений. Есть конечно и 19-ти комнатный замок, но таких объявлений еденицы. \n",
    "\n",
    "Взглянем на график распределения высоты потолков:"
   ]
  },
  {
   "cell_type": "code",
   "execution_count": 43,
   "metadata": {},
   "outputs": [
    {
     "data": {
      "text/plain": [
       "count    23699.000000\n",
       "mean         2.697305\n",
       "std          0.220364\n",
       "min          2.400000\n",
       "25%          2.600000\n",
       "50%          2.650000\n",
       "75%          2.700000\n",
       "max          6.000000\n",
       "Name: ceiling_height, dtype: float64"
      ]
     },
     "execution_count": 43,
     "metadata": {},
     "output_type": "execute_result"
    },
    {
     "data": {
      "image/png": "[encoded data removed]",
      "text/plain": [
       "<Figure size 432x288 with 1 Axes>"
      ]
     },
     "metadata": {
      "needs_background": "light"
     },
     "output_type": "display_data"
    }
   ],
   "source": [
    "df.plot(y='ceiling_height', kind='hist', bins=50, grid=True, figsize=(6,4))\n",
    "df['ceiling_height'].describe()"
   ]
  },
  {
   "cell_type": "markdown",
   "metadata": {},
   "source": [
    "Подавляющее количество квартир имеют высоту потолка 2.65 метра. Она же является медианой. Возможно это связано с тем что на этапе предоработки мы объявлениям с пропуками присаивали медианное значение. Стоит это обсудить с коллегами, которые предоставляли эти данные. Среднее значение высоты потолка - 2.7 метра. "
   ]
  },
  {
   "cell_type": "markdown",
   "metadata": {},
   "source": [
    "Следующая гипотеза:\n",
    "\n",
    "2. Изучите время продажи квартиры. Постройте гистограмму. Посчитайте среднее и медиану. Опишите, сколько обычно занимает продажа. Когда можно считать, что продажи прошли очень быстро, а когда необычно долго?\n",
    "\n",
    "Отсортируем объявления по количетсву дней в продаже и построим гистограмму."
   ]
  },
  {
   "cell_type": "code",
   "execution_count": 44,
   "metadata": {},
   "outputs": [
    {
     "data": {
      "text/html": [
       "<div>\n",
       "<style scoped>\n",
       "    .dataframe tbody tr th:only-of-type {\n",
       "        vertical-align: middle;\n",
       "    }\n",
       "\n",
       "    .dataframe tbody tr th {\n",
       "        vertical-align: top;\n",
       "    }\n",
       "\n",
       "    .dataframe thead th {\n",
       "        text-align: right;\n",
       "    }\n",
       "</style>\n",
       "<table border=\"1\" class=\"dataframe\">\n",
       "  <thead>\n",
       "    <tr style=\"text-align: right;\">\n",
       "      <th></th>\n",
       "      <th>total_images</th>\n",
       "      <th>last_price</th>\n",
       "      <th>total_area</th>\n",
       "      <th>first_day_exposition</th>\n",
       "      <th>rooms</th>\n",
       "      <th>ceiling_height</th>\n",
       "      <th>floors_total</th>\n",
       "      <th>living_area</th>\n",
       "      <th>floor</th>\n",
       "      <th>is_apartment</th>\n",
       "      <th>...</th>\n",
       "      <th>ponds_around3000</th>\n",
       "      <th>ponds_nearest</th>\n",
       "      <th>median_centr_nearest</th>\n",
       "      <th>price_of_meter</th>\n",
       "      <th>weekday_exposition</th>\n",
       "      <th>month_exposition</th>\n",
       "      <th>year_exposition</th>\n",
       "      <th>floor_category</th>\n",
       "      <th>living_area_rait</th>\n",
       "      <th>kitchen_area_rait</th>\n",
       "    </tr>\n",
       "    <tr>\n",
       "      <th>days_exposition</th>\n",
       "      <th></th>\n",
       "      <th></th>\n",
       "      <th></th>\n",
       "      <th></th>\n",
       "      <th></th>\n",
       "      <th></th>\n",
       "      <th></th>\n",
       "      <th></th>\n",
       "      <th></th>\n",
       "      <th></th>\n",
       "      <th></th>\n",
       "      <th></th>\n",
       "      <th></th>\n",
       "      <th></th>\n",
       "      <th></th>\n",
       "      <th></th>\n",
       "      <th></th>\n",
       "      <th></th>\n",
       "      <th></th>\n",
       "      <th></th>\n",
       "      <th></th>\n",
       "    </tr>\n",
       "  </thead>\n",
       "  <tbody>\n",
       "    <tr>\n",
       "      <td>45.0</td>\n",
       "      <td>880</td>\n",
       "      <td>880</td>\n",
       "      <td>880</td>\n",
       "      <td>880</td>\n",
       "      <td>880</td>\n",
       "      <td>880</td>\n",
       "      <td>880</td>\n",
       "      <td>880</td>\n",
       "      <td>880</td>\n",
       "      <td>880</td>\n",
       "      <td>...</td>\n",
       "      <td>428</td>\n",
       "      <td>201</td>\n",
       "      <td>434</td>\n",
       "      <td>880</td>\n",
       "      <td>880</td>\n",
       "      <td>880</td>\n",
       "      <td>880</td>\n",
       "      <td>880</td>\n",
       "      <td>880</td>\n",
       "      <td>880</td>\n",
       "    </tr>\n",
       "    <tr>\n",
       "      <td>60.0</td>\n",
       "      <td>538</td>\n",
       "      <td>538</td>\n",
       "      <td>538</td>\n",
       "      <td>538</td>\n",
       "      <td>538</td>\n",
       "      <td>538</td>\n",
       "      <td>538</td>\n",
       "      <td>538</td>\n",
       "      <td>538</td>\n",
       "      <td>538</td>\n",
       "      <td>...</td>\n",
       "      <td>465</td>\n",
       "      <td>231</td>\n",
       "      <td>468</td>\n",
       "      <td>538</td>\n",
       "      <td>538</td>\n",
       "      <td>538</td>\n",
       "      <td>538</td>\n",
       "      <td>538</td>\n",
       "      <td>538</td>\n",
       "      <td>538</td>\n",
       "    </tr>\n",
       "    <tr>\n",
       "      <td>7.0</td>\n",
       "      <td>234</td>\n",
       "      <td>234</td>\n",
       "      <td>234</td>\n",
       "      <td>234</td>\n",
       "      <td>234</td>\n",
       "      <td>234</td>\n",
       "      <td>234</td>\n",
       "      <td>234</td>\n",
       "      <td>234</td>\n",
       "      <td>234</td>\n",
       "      <td>...</td>\n",
       "      <td>184</td>\n",
       "      <td>82</td>\n",
       "      <td>184</td>\n",
       "      <td>234</td>\n",
       "      <td>234</td>\n",
       "      <td>234</td>\n",
       "      <td>234</td>\n",
       "      <td>234</td>\n",
       "      <td>234</td>\n",
       "      <td>234</td>\n",
       "    </tr>\n",
       "    <tr>\n",
       "      <td>30.0</td>\n",
       "      <td>208</td>\n",
       "      <td>208</td>\n",
       "      <td>208</td>\n",
       "      <td>208</td>\n",
       "      <td>208</td>\n",
       "      <td>208</td>\n",
       "      <td>208</td>\n",
       "      <td>208</td>\n",
       "      <td>208</td>\n",
       "      <td>208</td>\n",
       "      <td>...</td>\n",
       "      <td>187</td>\n",
       "      <td>86</td>\n",
       "      <td>188</td>\n",
       "      <td>208</td>\n",
       "      <td>208</td>\n",
       "      <td>208</td>\n",
       "      <td>208</td>\n",
       "      <td>208</td>\n",
       "      <td>208</td>\n",
       "      <td>208</td>\n",
       "    </tr>\n",
       "    <tr>\n",
       "      <td>90.0</td>\n",
       "      <td>204</td>\n",
       "      <td>204</td>\n",
       "      <td>204</td>\n",
       "      <td>204</td>\n",
       "      <td>204</td>\n",
       "      <td>204</td>\n",
       "      <td>204</td>\n",
       "      <td>204</td>\n",
       "      <td>204</td>\n",
       "      <td>204</td>\n",
       "      <td>...</td>\n",
       "      <td>189</td>\n",
       "      <td>117</td>\n",
       "      <td>189</td>\n",
       "      <td>204</td>\n",
       "      <td>204</td>\n",
       "      <td>204</td>\n",
       "      <td>204</td>\n",
       "      <td>204</td>\n",
       "      <td>204</td>\n",
       "      <td>204</td>\n",
       "    </tr>\n",
       "    <tr>\n",
       "      <td>4.0</td>\n",
       "      <td>176</td>\n",
       "      <td>176</td>\n",
       "      <td>176</td>\n",
       "      <td>176</td>\n",
       "      <td>176</td>\n",
       "      <td>176</td>\n",
       "      <td>176</td>\n",
       "      <td>176</td>\n",
       "      <td>176</td>\n",
       "      <td>176</td>\n",
       "      <td>...</td>\n",
       "      <td>140</td>\n",
       "      <td>63</td>\n",
       "      <td>140</td>\n",
       "      <td>176</td>\n",
       "      <td>176</td>\n",
       "      <td>176</td>\n",
       "      <td>176</td>\n",
       "      <td>176</td>\n",
       "      <td>176</td>\n",
       "      <td>176</td>\n",
       "    </tr>\n",
       "    <tr>\n",
       "      <td>3.0</td>\n",
       "      <td>158</td>\n",
       "      <td>158</td>\n",
       "      <td>158</td>\n",
       "      <td>158</td>\n",
       "      <td>158</td>\n",
       "      <td>158</td>\n",
       "      <td>158</td>\n",
       "      <td>158</td>\n",
       "      <td>158</td>\n",
       "      <td>158</td>\n",
       "      <td>...</td>\n",
       "      <td>129</td>\n",
       "      <td>49</td>\n",
       "      <td>130</td>\n",
       "      <td>158</td>\n",
       "      <td>158</td>\n",
       "      <td>158</td>\n",
       "      <td>158</td>\n",
       "      <td>158</td>\n",
       "      <td>158</td>\n",
       "      <td>158</td>\n",
       "    </tr>\n",
       "    <tr>\n",
       "      <td>5.0</td>\n",
       "      <td>152</td>\n",
       "      <td>152</td>\n",
       "      <td>152</td>\n",
       "      <td>152</td>\n",
       "      <td>152</td>\n",
       "      <td>152</td>\n",
       "      <td>152</td>\n",
       "      <td>152</td>\n",
       "      <td>152</td>\n",
       "      <td>152</td>\n",
       "      <td>...</td>\n",
       "      <td>125</td>\n",
       "      <td>54</td>\n",
       "      <td>126</td>\n",
       "      <td>152</td>\n",
       "      <td>152</td>\n",
       "      <td>152</td>\n",
       "      <td>152</td>\n",
       "      <td>152</td>\n",
       "      <td>152</td>\n",
       "      <td>152</td>\n",
       "    </tr>\n",
       "    <tr>\n",
       "      <td>14.0</td>\n",
       "      <td>148</td>\n",
       "      <td>148</td>\n",
       "      <td>148</td>\n",
       "      <td>148</td>\n",
       "      <td>148</td>\n",
       "      <td>148</td>\n",
       "      <td>148</td>\n",
       "      <td>148</td>\n",
       "      <td>148</td>\n",
       "      <td>148</td>\n",
       "      <td>...</td>\n",
       "      <td>131</td>\n",
       "      <td>62</td>\n",
       "      <td>131</td>\n",
       "      <td>148</td>\n",
       "      <td>148</td>\n",
       "      <td>148</td>\n",
       "      <td>148</td>\n",
       "      <td>148</td>\n",
       "      <td>148</td>\n",
       "      <td>148</td>\n",
       "    </tr>\n",
       "    <tr>\n",
       "      <td>9.0</td>\n",
       "      <td>143</td>\n",
       "      <td>143</td>\n",
       "      <td>143</td>\n",
       "      <td>143</td>\n",
       "      <td>143</td>\n",
       "      <td>143</td>\n",
       "      <td>143</td>\n",
       "      <td>143</td>\n",
       "      <td>143</td>\n",
       "      <td>143</td>\n",
       "      <td>...</td>\n",
       "      <td>120</td>\n",
       "      <td>68</td>\n",
       "      <td>120</td>\n",
       "      <td>143</td>\n",
       "      <td>143</td>\n",
       "      <td>143</td>\n",
       "      <td>143</td>\n",
       "      <td>143</td>\n",
       "      <td>143</td>\n",
       "      <td>143</td>\n",
       "    </tr>\n",
       "  </tbody>\n",
       "</table>\n",
       "<p>10 rows × 29 columns</p>\n",
       "</div>"
      ],
      "text/plain": [
       "                 total_images  last_price  total_area  first_day_exposition  \\\n",
       "days_exposition                                                               \n",
       "45.0                      880         880         880                   880   \n",
       "60.0                      538         538         538                   538   \n",
       "7.0                       234         234         234                   234   \n",
       "30.0                      208         208         208                   208   \n",
       "90.0                      204         204         204                   204   \n",
       "4.0                       176         176         176                   176   \n",
       "3.0                       158         158         158                   158   \n",
       "5.0                       152         152         152                   152   \n",
       "14.0                      148         148         148                   148   \n",
       "9.0                       143         143         143                   143   \n",
       "\n",
       "                 rooms  ceiling_height  floors_total  living_area  floor  \\\n",
       "days_exposition                                                            \n",
       "45.0               880             880           880          880    880   \n",
       "60.0               538             538           538          538    538   \n",
       "7.0                234             234           234          234    234   \n",
       "30.0               208             208           208          208    208   \n",
       "90.0               204             204           204          204    204   \n",
       "4.0                176             176           176          176    176   \n",
       "3.0                158             158           158          158    158   \n",
       "5.0                152             152           152          152    152   \n",
       "14.0               148             148           148          148    148   \n",
       "9.0                143             143           143          143    143   \n",
       "\n",
       "                 is_apartment  ...  ponds_around3000  ponds_nearest  \\\n",
       "days_exposition                ...                                    \n",
       "45.0                      880  ...               428            201   \n",
       "60.0                      538  ...               465            231   \n",
       "7.0                       234  ...               184             82   \n",
       "30.0                      208  ...               187             86   \n",
       "90.0                      204  ...               189            117   \n",
       "4.0                       176  ...               140             63   \n",
       "3.0                       158  ...               129             49   \n",
       "5.0                       152  ...               125             54   \n",
       "14.0                      148  ...               131             62   \n",
       "9.0                       143  ...               120             68   \n",
       "\n",
       "                 median_centr_nearest  price_of_meter  weekday_exposition  \\\n",
       "days_exposition                                                             \n",
       "45.0                              434             880                 880   \n",
       "60.0                              468             538                 538   \n",
       "7.0                               184             234                 234   \n",
       "30.0                              188             208                 208   \n",
       "90.0                              189             204                 204   \n",
       "4.0                               140             176                 176   \n",
       "3.0                               130             158                 158   \n",
       "5.0                               126             152                 152   \n",
       "14.0                              131             148                 148   \n",
       "9.0                               120             143                 143   \n",
       "\n",
       "                 month_exposition  year_exposition  floor_category  \\\n",
       "days_exposition                                                      \n",
       "45.0                          880              880             880   \n",
       "60.0                          538              538             538   \n",
       "7.0                           234              234             234   \n",
       "30.0                          208              208             208   \n",
       "90.0                          204              204             204   \n",
       "4.0                           176              176             176   \n",
       "3.0                           158              158             158   \n",
       "5.0                           152              152             152   \n",
       "14.0                          148              148             148   \n",
       "9.0                           143              143             143   \n",
       "\n",
       "                 living_area_rait  kitchen_area_rait  \n",
       "days_exposition                                       \n",
       "45.0                          880                880  \n",
       "60.0                          538                538  \n",
       "7.0                           234                234  \n",
       "30.0                          208                208  \n",
       "90.0                          204                204  \n",
       "4.0                           176                176  \n",
       "3.0                           158                158  \n",
       "5.0                           152                152  \n",
       "14.0                          148                148  \n",
       "9.0                           143                143  \n",
       "\n",
       "[10 rows x 29 columns]"
      ]
     },
     "metadata": {},
     "output_type": "display_data"
    },
    {
     "data": {
      "text/plain": [
       "count    20518.000000\n",
       "mean       180.888634\n",
       "std        219.727988\n",
       "min          1.000000\n",
       "25%         45.000000\n",
       "50%         95.000000\n",
       "75%        232.000000\n",
       "max       1580.000000\n",
       "Name: days_exposition, dtype: float64"
      ]
     },
     "execution_count": 44,
     "metadata": {},
     "output_type": "execute_result"
    },
    {
     "data": {
      "image/png": "[encoded data removed]",
      "text/plain": [
       "<Figure size 432x288 with 1 Axes>"
      ]
     },
     "metadata": {
      "needs_background": "light"
     },
     "output_type": "display_data"
    },
    {
     "data": {
      "image/png": "[encoded data removed]",
      "text/plain": [
       "<Figure size 432x288 with 1 Axes>"
      ]
     },
     "metadata": {
      "needs_background": "light"
     },
     "output_type": "display_data"
    }
   ],
   "source": [
    "# сортировка вышла очень неопрятной, но я не смог додуматься как сделать лучше.\n",
    "display(df.groupby('days_exposition').count().sort_values(by='total_images', ascending=False).head(10))\n",
    "\n",
    "# построим два графика, широким размахом и более узким\n",
    "df.plot(y='days_exposition', kind='hist', bins=100, grid=True, range=(1,1500))\n",
    "df.plot(y='days_exposition', kind='hist', bins=100, grid=True, range=(1,100))\n",
    "\n",
    "# среднее и медиану можно узнать здесь:\n",
    "\n",
    "df['days_exposition'].describe()\n",
    "\n"
   ]
  },
  {
   "cell_type": "markdown",
   "metadata": {},
   "source": [
    "Сортировка действительно вышла некрасивой, но делает то что мне надо. Считает количество объявлений по количеству дней. И закономрность весьма странная - больше всего висят объявления 45 дней. Так же в это число входит продолжительность продажи 60, 7, 30 и 90 дней. Цифры подозрительно ровные. И действительно, в условиях размещения объявления по умолчанию стоит 30 дней. Можно сделать вывод, что объявления сняты не по причине продажи дома, а по причине истечения срока размещения.\n",
    "\n",
    "Распределение графиков выглядит весьма логичным на первой ггистограмме, бОльшая часть объявлений висит меньше месяца. Стандартное распределение. На втором графике мы видим выделяющиеся значения в 45, 60, 90, 7 и 30 дней. \n",
    "\n",
    "Среднее значение срока продажи - 181 день, медиана - 95 дней. \n",
    "\n",
    "Межквартильный размах у нас от 45 до 232 дней, соответственно что было продано быстрее 45 дней, то можно считать быстрой продажей, а что дольше 232 - долгой. Но это скорее всего некорректные данные, так как нам мешают выбросы 45, 60, 90, 30 и 7 дней. Нужно с ними разобраться. Следующий пункт проекта так и гласит:\n",
    "\n",
    "3. Уберите редкие и выбивающиеся значения. Опишите, какие особенности обнаружили."
   ]
  },
  {
   "cell_type": "code",
   "execution_count": 45,
   "metadata": {},
   "outputs": [
    {
     "data": {
      "text/plain": [
       "count    18454.000000\n",
       "mean       195.803349\n",
       "std        226.760010\n",
       "min          1.000000\n",
       "25%         44.000000\n",
       "50%        114.000000\n",
       "75%        259.000000\n",
       "max       1580.000000\n",
       "Name: days_exposition, dtype: float64"
      ]
     },
     "execution_count": 45,
     "metadata": {},
     "output_type": "execute_result"
    },
    {
     "data": {
      "image/png": "[encoded data removed]",
      "text/plain": [
       "<Figure size 432x288 with 1 Axes>"
      ]
     },
     "metadata": {
      "needs_background": "light"
     },
     "output_type": "display_data"
    },
    {
     "data": {
      "image/png": "[encoded data removed]",
      "text/plain": [
       "<Figure size 432x288 with 1 Axes>"
      ]
     },
     "metadata": {
      "needs_background": "light"
     },
     "output_type": "display_data"
    }
   ],
   "source": [
    "# Убираем ненужные нам значения и повторяем код.\n",
    "# Убирам пропуски, чтобы поменять тип на целочисленный:\n",
    "df['days_exposition'] = df['days_exposition'].fillna(0)\n",
    "\n",
    "# меняем тип на целочисленный, чтобы исключить неугодные нам данные:\n",
    "df['days_exposition'] = df['days_exposition'].astype('int')\n",
    "\n",
    "df_fix = df.query('days_exposition != 45 and \\\n",
    "        days_exposition != 30 and \\\n",
    "        days_exposition != 60 and \\\n",
    "        days_exposition != 90 and \\\n",
    "        days_exposition != 7 and \\\n",
    "        days_exposition != 0')\n",
    "\n",
    "\n",
    "#гистограммы\n",
    "df_fix.plot(y='days_exposition', kind='hist', bins=100, grid=True, range=(1,1500))\n",
    "df_fix.plot(y='days_exposition', kind='hist', bins=100, grid=True, range=(1,100))\n",
    "\n",
    "#среднее значение, медиана и межквартильный размах\n",
    "df_fix['days_exposition'].describe()"
   ]
  },
  {
   "cell_type": "markdown",
   "metadata": {},
   "source": [
    "Да, данные ожидаемо изменились. Среднее значение теперь 196, медиана 114. Нормальное распределение согласно квартилям находится в диапазоне от 44 до 259 дней. \n",
    "\n",
    "Следующая гипотеза:\n",
    "\n",
    "\n",
    "4. Какие факторы больше всего влияют на стоимость квартиры? Изучите, зависит ли цена от площади, числа комнат, удалённости от центра. Изучите зависимость цены от того, на каком этаже расположена квартира: первом, последнем или другом. Также изучите зависимость от даты размещения: дня недели, месяца и года.\n",
    "\n",
    "Соотнесем площадь, число комнат и удаленность от центра с ценой. Несмотря на то что в задании указано сравнить стоимость квартиры, логичнее будет сравнивать цены за квадратный метр, так как однушка за 5 млн и трешка за 5 млн имеют одинаковую цену но разную стоимость (в значении \"ценность\")"
   ]
  },
  {
   "cell_type": "code",
   "execution_count": 46,
   "metadata": {},
   "outputs": [
    {
     "data": {
      "text/html": [
       "<div>\n",
       "<style scoped>\n",
       "    .dataframe tbody tr th:only-of-type {\n",
       "        vertical-align: middle;\n",
       "    }\n",
       "\n",
       "    .dataframe tbody tr th {\n",
       "        vertical-align: top;\n",
       "    }\n",
       "\n",
       "    .dataframe thead th {\n",
       "        text-align: right;\n",
       "    }\n",
       "</style>\n",
       "<table border=\"1\" class=\"dataframe\">\n",
       "  <thead>\n",
       "    <tr style=\"text-align: right;\">\n",
       "      <th></th>\n",
       "      <th>price_of_meter</th>\n",
       "    </tr>\n",
       "    <tr>\n",
       "      <th>total_area</th>\n",
       "      <th></th>\n",
       "    </tr>\n",
       "  </thead>\n",
       "  <tbody>\n",
       "    <tr>\n",
       "      <td>401.00</td>\n",
       "      <td>1000748.0</td>\n",
       "    </tr>\n",
       "    <tr>\n",
       "      <td>187.50</td>\n",
       "      <td>927302.0</td>\n",
       "    </tr>\n",
       "    <tr>\n",
       "      <td>285.70</td>\n",
       "      <td>857542.0</td>\n",
       "    </tr>\n",
       "    <tr>\n",
       "      <td>268.00</td>\n",
       "      <td>712201.0</td>\n",
       "    </tr>\n",
       "    <tr>\n",
       "      <td>242.40</td>\n",
       "      <td>660000.0</td>\n",
       "    </tr>\n",
       "    <tr>\n",
       "      <td>243.00</td>\n",
       "      <td>658436.0</td>\n",
       "    </tr>\n",
       "    <tr>\n",
       "      <td>38.12</td>\n",
       "      <td>640422.0</td>\n",
       "    </tr>\n",
       "    <tr>\n",
       "      <td>187.60</td>\n",
       "      <td>634328.0</td>\n",
       "    </tr>\n",
       "    <tr>\n",
       "      <td>410.00</td>\n",
       "      <td>585365.0</td>\n",
       "    </tr>\n",
       "    <tr>\n",
       "      <td>145.70</td>\n",
       "      <td>583390.0</td>\n",
       "    </tr>\n",
       "    <tr>\n",
       "      <td>241.00</td>\n",
       "      <td>580912.0</td>\n",
       "    </tr>\n",
       "    <tr>\n",
       "      <td>135.70</td>\n",
       "      <td>570000.0</td>\n",
       "    </tr>\n",
       "    <tr>\n",
       "      <td>224.50</td>\n",
       "      <td>556792.0</td>\n",
       "    </tr>\n",
       "    <tr>\n",
       "      <td>347.00</td>\n",
       "      <td>518731.0</td>\n",
       "    </tr>\n",
       "    <tr>\n",
       "      <td>152.30</td>\n",
       "      <td>509599.0</td>\n",
       "    </tr>\n",
       "    <tr>\n",
       "      <td>248.70</td>\n",
       "      <td>500000.0</td>\n",
       "    </tr>\n",
       "    <tr>\n",
       "      <td>618.00</td>\n",
       "      <td>485436.0</td>\n",
       "    </tr>\n",
       "    <tr>\n",
       "      <td>153.60</td>\n",
       "      <td>481770.0</td>\n",
       "    </tr>\n",
       "    <tr>\n",
       "      <td>310.00</td>\n",
       "      <td>467741.5</td>\n",
       "    </tr>\n",
       "    <tr>\n",
       "      <td>900.00</td>\n",
       "      <td>466666.0</td>\n",
       "    </tr>\n",
       "  </tbody>\n",
       "</table>\n",
       "</div>"
      ],
      "text/plain": [
       "            price_of_meter\n",
       "total_area                \n",
       "401.00           1000748.0\n",
       "187.50            927302.0\n",
       "285.70            857542.0\n",
       "268.00            712201.0\n",
       "242.40            660000.0\n",
       "243.00            658436.0\n",
       "38.12             640422.0\n",
       "187.60            634328.0\n",
       "410.00            585365.0\n",
       "145.70            583390.0\n",
       "241.00            580912.0\n",
       "135.70            570000.0\n",
       "224.50            556792.0\n",
       "347.00            518731.0\n",
       "152.30            509599.0\n",
       "248.70            500000.0\n",
       "618.00            485436.0\n",
       "153.60            481770.0\n",
       "310.00            467741.5\n",
       "900.00            466666.0"
      ]
     },
     "metadata": {},
     "output_type": "display_data"
    },
    {
     "data": {
      "text/plain": [
       "0.3021124748836444"
      ]
     },
     "execution_count": 46,
     "metadata": {},
     "output_type": "execute_result"
    },
    {
     "data": {
      "image/png": "[encoded data removed]",
      "text/plain": [
       "<Figure size 432x288 with 1 Axes>"
      ]
     },
     "metadata": {
      "needs_background": "light"
     },
     "output_type": "display_data"
    }
   ],
   "source": [
    "# создаем сводную таблицу:\n",
    "pivot_table_total_area = df.pivot_table(index='total_area', values='price_of_meter', aggfunc='median')\n",
    "\n",
    "# сторим график:\n",
    "pivot_table_total_area.plot(y='price_of_meter', style='o', alpha=0.3)\n",
    "\n",
    "# сортируем:\n",
    "display(pivot_table_total_area.sort_values('price_of_meter', ascending=False).head(20))\n",
    "\n",
    "# ищем линейную корреляцию:\n",
    "df['total_area'].corr(df['price_of_meter'])"
   ]
  },
  {
   "cell_type": "markdown",
   "metadata": {},
   "source": [
    "Наибольшая цена за метр у квартир с площадью более 200 квадратных метров. Корреляция площади с ценой за метр невелика, всего 0.3 - это означает при увеличении площади в 2 раза, цена за квадратный метр увеличится всего на 30 %. На графике видна концентрация значений цены квадратного метра до 200 000 рублей при увеличении площади до 200 квадратных метров. \n",
    "\n",
    "Таким же образом высчитываем зависимость от количества комнат:"
   ]
  },
  {
   "cell_type": "code",
   "execution_count": 47,
   "metadata": {},
   "outputs": [
    {
     "data": {
      "text/html": [
       "<div>\n",
       "<style scoped>\n",
       "    .dataframe tbody tr th:only-of-type {\n",
       "        vertical-align: middle;\n",
       "    }\n",
       "\n",
       "    .dataframe tbody tr th {\n",
       "        vertical-align: top;\n",
       "    }\n",
       "\n",
       "    .dataframe thead th {\n",
       "        text-align: right;\n",
       "    }\n",
       "</style>\n",
       "<table border=\"1\" class=\"dataframe\">\n",
       "  <thead>\n",
       "    <tr style=\"text-align: right;\">\n",
       "      <th></th>\n",
       "      <th>price_of_meter</th>\n",
       "    </tr>\n",
       "    <tr>\n",
       "      <th>rooms</th>\n",
       "      <th></th>\n",
       "    </tr>\n",
       "  </thead>\n",
       "  <tbody>\n",
       "    <tr>\n",
       "      <td>12</td>\n",
       "      <td>466666.0</td>\n",
       "    </tr>\n",
       "    <tr>\n",
       "      <td>11</td>\n",
       "      <td>132639.5</td>\n",
       "    </tr>\n",
       "    <tr>\n",
       "      <td>15</td>\n",
       "      <td>110169.0</td>\n",
       "    </tr>\n",
       "    <tr>\n",
       "      <td>7</td>\n",
       "      <td>108827.0</td>\n",
       "    </tr>\n",
       "    <tr>\n",
       "      <td>8</td>\n",
       "      <td>106760.0</td>\n",
       "    </tr>\n",
       "    <tr>\n",
       "      <td>16</td>\n",
       "      <td>105555.0</td>\n",
       "    </tr>\n",
       "    <tr>\n",
       "      <td>0</td>\n",
       "      <td>105555.0</td>\n",
       "    </tr>\n",
       "    <tr>\n",
       "      <td>1</td>\n",
       "      <td>100000.0</td>\n",
       "    </tr>\n",
       "    <tr>\n",
       "      <td>6</td>\n",
       "      <td>99411.0</td>\n",
       "    </tr>\n",
       "    <tr>\n",
       "      <td>5</td>\n",
       "      <td>96516.5</td>\n",
       "    </tr>\n",
       "    <tr>\n",
       "      <td>14</td>\n",
       "      <td>92827.0</td>\n",
       "    </tr>\n",
       "    <tr>\n",
       "      <td>2</td>\n",
       "      <td>92809.5</td>\n",
       "    </tr>\n",
       "    <tr>\n",
       "      <td>4</td>\n",
       "      <td>92666.0</td>\n",
       "    </tr>\n",
       "    <tr>\n",
       "      <td>9</td>\n",
       "      <td>92517.5</td>\n",
       "    </tr>\n",
       "    <tr>\n",
       "      <td>3</td>\n",
       "      <td>88983.0</td>\n",
       "    </tr>\n",
       "    <tr>\n",
       "      <td>19</td>\n",
       "      <td>86091.0</td>\n",
       "    </tr>\n",
       "    <tr>\n",
       "      <td>10</td>\n",
       "      <td>84372.0</td>\n",
       "    </tr>\n",
       "  </tbody>\n",
       "</table>\n",
       "</div>"
      ],
      "text/plain": [
       "       price_of_meter\n",
       "rooms                \n",
       "12           466666.0\n",
       "11           132639.5\n",
       "15           110169.0\n",
       "7            108827.0\n",
       "8            106760.0\n",
       "16           105555.0\n",
       "0            105555.0\n",
       "1            100000.0\n",
       "6             99411.0\n",
       "5             96516.5\n",
       "14            92827.0\n",
       "2             92809.5\n",
       "4             92666.0\n",
       "9             92517.5\n",
       "3             88983.0\n",
       "19            86091.0\n",
       "10            84372.0"
      ]
     },
     "metadata": {},
     "output_type": "display_data"
    },
    {
     "data": {
      "text/plain": [
       "0.05541784722906923"
      ]
     },
     "execution_count": 47,
     "metadata": {},
     "output_type": "execute_result"
    },
    {
     "data": {
      "image/png": "[encoded data removed]",
      "text/plain": [
       "<Figure size 432x288 with 1 Axes>"
      ]
     },
     "metadata": {
      "needs_background": "light"
     },
     "output_type": "display_data"
    }
   ],
   "source": [
    "# создаем сводную таблицу:\n",
    "pivot_table_rooms = df.pivot_table(index='rooms', values='price_of_meter', aggfunc='median')\n",
    "\n",
    "# сторим график:\n",
    "pivot_table_rooms.plot(y='price_of_meter')\n",
    "\n",
    "# сортируем:\n",
    "display(pivot_table_rooms.sort_values('price_of_meter', ascending=False).head(20))\n",
    "\n",
    "# ищем линейную корреляцию:\n",
    "df['rooms'].corr(df['price_of_meter'])"
   ]
  },
  {
   "cell_type": "markdown",
   "metadata": {},
   "source": [
    "Наибольшая стоимость у квартир с 5 и более комнатами. Корреляция цены и количества комнат всего 0.05, то есть изменение количества комнат влияет всего на 5 процентов на изменение цены квадратного метра. По графику видно что самые дорогие квартиры с 11-12 комнатами. \n",
    "\n",
    "Изучаем цену в зависимости удаленности от центра:"
   ]
  },
  {
   "cell_type": "code",
   "execution_count": 48,
   "metadata": {},
   "outputs": [
    {
     "data": {
      "text/html": [
       "<div>\n",
       "<style scoped>\n",
       "    .dataframe tbody tr th:only-of-type {\n",
       "        vertical-align: middle;\n",
       "    }\n",
       "\n",
       "    .dataframe tbody tr th {\n",
       "        vertical-align: top;\n",
       "    }\n",
       "\n",
       "    .dataframe thead th {\n",
       "        text-align: right;\n",
       "    }\n",
       "</style>\n",
       "<table border=\"1\" class=\"dataframe\">\n",
       "  <thead>\n",
       "    <tr style=\"text-align: right;\">\n",
       "      <th></th>\n",
       "      <th>price_of_meter</th>\n",
       "    </tr>\n",
       "    <tr>\n",
       "      <th>cityCenters_nearest</th>\n",
       "      <th></th>\n",
       "    </tr>\n",
       "  </thead>\n",
       "  <tbody>\n",
       "    <tr>\n",
       "      <td>1197.0</td>\n",
       "      <td>1736842.0</td>\n",
       "    </tr>\n",
       "    <tr>\n",
       "      <td>1073.0</td>\n",
       "      <td>1542604.0</td>\n",
       "    </tr>\n",
       "    <tr>\n",
       "      <td>1722.0</td>\n",
       "      <td>995983.0</td>\n",
       "    </tr>\n",
       "    <tr>\n",
       "      <td>6235.0</td>\n",
       "      <td>857542.0</td>\n",
       "    </tr>\n",
       "    <tr>\n",
       "      <td>1462.0</td>\n",
       "      <td>848484.0</td>\n",
       "    </tr>\n",
       "    <tr>\n",
       "      <td>555.0</td>\n",
       "      <td>658436.0</td>\n",
       "    </tr>\n",
       "    <tr>\n",
       "      <td>2380.0</td>\n",
       "      <td>612557.0</td>\n",
       "    </tr>\n",
       "    <tr>\n",
       "      <td>8283.0</td>\n",
       "      <td>600000.0</td>\n",
       "    </tr>\n",
       "    <tr>\n",
       "      <td>2385.0</td>\n",
       "      <td>588888.0</td>\n",
       "    </tr>\n",
       "    <tr>\n",
       "      <td>6917.0</td>\n",
       "      <td>583390.0</td>\n",
       "    </tr>\n",
       "    <tr>\n",
       "      <td>3503.0</td>\n",
       "      <td>580912.0</td>\n",
       "    </tr>\n",
       "    <tr>\n",
       "      <td>2335.0</td>\n",
       "      <td>556792.0</td>\n",
       "    </tr>\n",
       "    <tr>\n",
       "      <td>436.0</td>\n",
       "      <td>525676.0</td>\n",
       "    </tr>\n",
       "    <tr>\n",
       "      <td>3794.0</td>\n",
       "      <td>518731.0</td>\n",
       "    </tr>\n",
       "    <tr>\n",
       "      <td>2389.0</td>\n",
       "      <td>509599.0</td>\n",
       "    </tr>\n",
       "    <tr>\n",
       "      <td>2242.0</td>\n",
       "      <td>500000.0</td>\n",
       "    </tr>\n",
       "    <tr>\n",
       "      <td>1032.0</td>\n",
       "      <td>500000.0</td>\n",
       "    </tr>\n",
       "    <tr>\n",
       "      <td>1376.0</td>\n",
       "      <td>494144.5</td>\n",
       "    </tr>\n",
       "    <tr>\n",
       "      <td>5297.0</td>\n",
       "      <td>485436.0</td>\n",
       "    </tr>\n",
       "    <tr>\n",
       "      <td>7023.0</td>\n",
       "      <td>483285.0</td>\n",
       "    </tr>\n",
       "  </tbody>\n",
       "</table>\n",
       "</div>"
      ],
      "text/plain": [
       "                     price_of_meter\n",
       "cityCenters_nearest                \n",
       "1197.0                    1736842.0\n",
       "1073.0                    1542604.0\n",
       "1722.0                     995983.0\n",
       "6235.0                     857542.0\n",
       "1462.0                     848484.0\n",
       "555.0                      658436.0\n",
       "2380.0                     612557.0\n",
       "8283.0                     600000.0\n",
       "2385.0                     588888.0\n",
       "6917.0                     583390.0\n",
       "3503.0                     580912.0\n",
       "2335.0                     556792.0\n",
       "436.0                      525676.0\n",
       "3794.0                     518731.0\n",
       "2389.0                     509599.0\n",
       "2242.0                     500000.0\n",
       "1032.0                     500000.0\n",
       "1376.0                     494144.5\n",
       "5297.0                     485436.0\n",
       "7023.0                     483285.0"
      ]
     },
     "metadata": {},
     "output_type": "display_data"
    },
    {
     "data": {
      "text/plain": [
       "-0.31973411422313314"
      ]
     },
     "execution_count": 48,
     "metadata": {},
     "output_type": "execute_result"
    },
    {
     "data": {
      "image/png": "[encoded data removed]",
      "text/plain": [
       "<Figure size 432x288 with 1 Axes>"
      ]
     },
     "metadata": {
      "needs_background": "light"
     },
     "output_type": "display_data"
    },
    {
     "data": {
      "image/png": "[encoded data removed]",
      "text/plain": [
       "<Figure size 432x288 with 1 Axes>"
      ]
     },
     "metadata": {
      "needs_background": "light"
     },
     "output_type": "display_data"
    },
    {
     "data": {
      "image/png": "[encoded data removed]",
      "text/plain": [
       "<Figure size 432x288 with 1 Axes>"
      ]
     },
     "metadata": {
      "needs_background": "light"
     },
     "output_type": "display_data"
    }
   ],
   "source": [
    "# создаем сводную таблицу:\n",
    "pivot_table_center = df.pivot_table(index='cityCenters_nearest', values='price_of_meter', aggfunc='median')\n",
    "\n",
    "# сторим графики, с разным масштабированием:\n",
    "pivot_table_center.plot(y='price_of_meter')\n",
    "pivot_table_center.plot(y='price_of_meter', xlim=(0, 30000))\n",
    "pivot_table_center.plot(y='price_of_meter', xlim=(0, 10000))\n",
    "\n",
    "# сортируем:\n",
    "display(pivot_table_center.sort_values('price_of_meter', ascending=False).head(20))\n",
    "\n",
    "# ищем линейную корреляцию:\n",
    "df['cityCenters_nearest'].corr(df['price_of_meter'])"
   ]
  },
  {
   "cell_type": "markdown",
   "metadata": {},
   "source": [
    "Самые дорогие метры в радиусе двух километров... После 10 км стоимость метра стабилизируется менее 250 000 рублей. Корреляция ожидаемо отрицательная, -0.32, то есть по мере увеличения расстояния до центра, стоимость метра уеньшается. \n",
    "\n",
    "Далее изучаем зависимость цены от этажа, первый, послдений, или какой то еще. "
   ]
  },
  {
   "cell_type": "code",
   "execution_count": 49,
   "metadata": {},
   "outputs": [
    {
     "data": {
      "text/html": [
       "<div>\n",
       "<style scoped>\n",
       "    .dataframe tbody tr th:only-of-type {\n",
       "        vertical-align: middle;\n",
       "    }\n",
       "\n",
       "    .dataframe tbody tr th {\n",
       "        vertical-align: top;\n",
       "    }\n",
       "\n",
       "    .dataframe thead th {\n",
       "        text-align: right;\n",
       "    }\n",
       "</style>\n",
       "<table border=\"1\" class=\"dataframe\">\n",
       "  <thead>\n",
       "    <tr style=\"text-align: right;\">\n",
       "      <th></th>\n",
       "      <th>price_of_meter</th>\n",
       "    </tr>\n",
       "    <tr>\n",
       "      <th>floor_category</th>\n",
       "      <th></th>\n",
       "    </tr>\n",
       "  </thead>\n",
       "  <tbody>\n",
       "    <tr>\n",
       "      <td>другой</td>\n",
       "      <td>98295.0</td>\n",
       "    </tr>\n",
       "    <tr>\n",
       "      <td>последний</td>\n",
       "      <td>87781.5</td>\n",
       "    </tr>\n",
       "    <tr>\n",
       "      <td>первый</td>\n",
       "      <td>81223.0</td>\n",
       "    </tr>\n",
       "  </tbody>\n",
       "</table>\n",
       "</div>"
      ],
      "text/plain": [
       "                price_of_meter\n",
       "floor_category                \n",
       "другой                 98295.0\n",
       "последний              87781.5\n",
       "первый                 81223.0"
      ]
     },
     "metadata": {},
     "output_type": "display_data"
    },
    {
     "data": {
      "image/png": "[encoded data removed]",
      "text/plain": [
       "<Figure size 432x288 with 1 Axes>"
      ]
     },
     "metadata": {
      "needs_background": "light"
     },
     "output_type": "display_data"
    }
   ],
   "source": [
    "# создаем сводную таблицу:\n",
    "pivot_table_floor = df.pivot_table(index='floor_category', values='price_of_meter', aggfunc='median')\n",
    "\n",
    "# сторим график, с разным масштабированием:\n",
    "pivot_table_floor.plot(y='price_of_meter')\n",
    "\n",
    "# сортируем:\n",
    "display(pivot_table_floor.sort_values('price_of_meter', ascending=False))"
   ]
  },
  {
   "cell_type": "markdown",
   "metadata": {},
   "source": [
    "Люди явно не любят жить на первом этаже, так как тут самые дешевые квартиры. На последнем еще куда не шло, но первый - ну уж нет. На других этажах квартиры явно дороже, на 12 % от квартир на последнем этаже, и на 21 % от квартир на 1 этаже. \n",
    "\n",
    "Изучаем зависимость цены квадратного метра от даты размещения - дня недели:"
   ]
  },
  {
   "cell_type": "code",
   "execution_count": 50,
   "metadata": {},
   "outputs": [
    {
     "data": {
      "text/html": [
       "<div>\n",
       "<style scoped>\n",
       "    .dataframe tbody tr th:only-of-type {\n",
       "        vertical-align: middle;\n",
       "    }\n",
       "\n",
       "    .dataframe tbody tr th {\n",
       "        vertical-align: top;\n",
       "    }\n",
       "\n",
       "    .dataframe thead th {\n",
       "        text-align: right;\n",
       "    }\n",
       "</style>\n",
       "<table border=\"1\" class=\"dataframe\">\n",
       "  <thead>\n",
       "    <tr style=\"text-align: right;\">\n",
       "      <th></th>\n",
       "      <th>count</th>\n",
       "      <th>median</th>\n",
       "    </tr>\n",
       "    <tr>\n",
       "      <th>weekday_exposition</th>\n",
       "      <th></th>\n",
       "      <th></th>\n",
       "    </tr>\n",
       "  </thead>\n",
       "  <tbody>\n",
       "    <tr>\n",
       "      <td>1</td>\n",
       "      <td>4183</td>\n",
       "      <td>95634.0</td>\n",
       "    </tr>\n",
       "    <tr>\n",
       "      <td>2</td>\n",
       "      <td>3974</td>\n",
       "      <td>95477.5</td>\n",
       "    </tr>\n",
       "    <tr>\n",
       "      <td>3</td>\n",
       "      <td>4295</td>\n",
       "      <td>95143.0</td>\n",
       "    </tr>\n",
       "    <tr>\n",
       "      <td>0</td>\n",
       "      <td>3612</td>\n",
       "      <td>94688.0</td>\n",
       "    </tr>\n",
       "    <tr>\n",
       "      <td>4</td>\n",
       "      <td>4000</td>\n",
       "      <td>94616.0</td>\n",
       "    </tr>\n",
       "    <tr>\n",
       "      <td>6</td>\n",
       "      <td>1699</td>\n",
       "      <td>94501.0</td>\n",
       "    </tr>\n",
       "    <tr>\n",
       "      <td>5</td>\n",
       "      <td>1936</td>\n",
       "      <td>93545.5</td>\n",
       "    </tr>\n",
       "  </tbody>\n",
       "</table>\n",
       "</div>"
      ],
      "text/plain": [
       "                    count   median\n",
       "weekday_exposition                \n",
       "1                    4183  95634.0\n",
       "2                    3974  95477.5\n",
       "3                    4295  95143.0\n",
       "0                    3612  94688.0\n",
       "4                    4000  94616.0\n",
       "6                    1699  94501.0\n",
       "5                    1936  93545.5"
      ]
     },
     "metadata": {},
     "output_type": "display_data"
    },
    {
     "data": {
      "text/plain": [
       "-0.007301965705521121"
      ]
     },
     "execution_count": 50,
     "metadata": {},
     "output_type": "execute_result"
    },
    {
     "data": {
      "image/png": "[encoded data removed]",
      "text/plain": [
       "<Figure size 432x288 with 1 Axes>"
      ]
     },
     "metadata": {
      "needs_background": "light"
     },
     "output_type": "display_data"
    }
   ],
   "source": [
    "# создаем сводную таблицу:\n",
    "pivot_table_weekday = df.pivot_table(index='weekday_exposition', values='price_of_meter', aggfunc=['count', 'median'])\n",
    "\n",
    "# избавляемся от мультииндекса в названии колонок:\n",
    "pivot_table_weekday.columns = ['count', 'median']\n",
    "\n",
    "# строим график:\n",
    "pivot_table_weekday.plot(y='median')\n",
    "\n",
    "# для наглядности еще и отсортируем таблицу по стоимости:\n",
    "display(pivot_table_weekday.sort_values('median', ascending = False))\n",
    "\n",
    "# ну и найдем корреляцию:\n",
    "df['weekday_exposition'].corr(df['price_of_meter'])"
   ]
  },
  {
   "cell_type": "markdown",
   "metadata": {},
   "source": [
    "Сразу обратим внимание на ничтожную корреляцию - зависимость всего 0.7% процента. Можно сказать зависимости нет. Но она есть, и график нам её демонстрирует. Во вторник цены самые высокие, в субботу самые низкие. Сложно рассуждать о факторах, влияющих на такое ценообразование, особенно учитывая ничтожную зависимость, однако смею предположить, что во вторник люди думают выставят подороже, чтобы потом сбавить цену, а в субботу сбавляют, либо выставляют дешевле, чтобы найти покупателя, так как на выходных есть время показать квартиру, повозиться с бумажками. В будние дни это может оказаться дорогим удовольствием, если пытаться отпроситься с работы. Но в то же время покупателя можно найти и в будние дни, а встречу назначить на выходные. Однако повторюсь - учитывая корреляцию - это всего лишь домыслы, и несколько объявлений с выбросовыми ценами могут сильно изменить картину. \n",
    "\n",
    "Изучаем зависимость цены квадратного метра от даты размещения - от месяца:"
   ]
  },
  {
   "cell_type": "code",
   "execution_count": 51,
   "metadata": {},
   "outputs": [
    {
     "data": {
      "text/html": [
       "<div>\n",
       "<style scoped>\n",
       "    .dataframe tbody tr th:only-of-type {\n",
       "        vertical-align: middle;\n",
       "    }\n",
       "\n",
       "    .dataframe tbody tr th {\n",
       "        vertical-align: top;\n",
       "    }\n",
       "\n",
       "    .dataframe thead th {\n",
       "        text-align: right;\n",
       "    }\n",
       "</style>\n",
       "<table border=\"1\" class=\"dataframe\">\n",
       "  <thead>\n",
       "    <tr style=\"text-align: right;\">\n",
       "      <th></th>\n",
       "      <th>count</th>\n",
       "      <th>median</th>\n",
       "    </tr>\n",
       "    <tr>\n",
       "      <th>month_exposition</th>\n",
       "      <th></th>\n",
       "      <th></th>\n",
       "    </tr>\n",
       "  </thead>\n",
       "  <tbody>\n",
       "    <tr>\n",
       "      <td>4</td>\n",
       "      <td>2379</td>\n",
       "      <td>96451</td>\n",
       "    </tr>\n",
       "    <tr>\n",
       "      <td>8</td>\n",
       "      <td>1744</td>\n",
       "      <td>96026</td>\n",
       "    </tr>\n",
       "    <tr>\n",
       "      <td>9</td>\n",
       "      <td>1981</td>\n",
       "      <td>95607</td>\n",
       "    </tr>\n",
       "    <tr>\n",
       "      <td>11</td>\n",
       "      <td>2371</td>\n",
       "      <td>95588</td>\n",
       "    </tr>\n",
       "    <tr>\n",
       "      <td>3</td>\n",
       "      <td>2587</td>\n",
       "      <td>95348</td>\n",
       "    </tr>\n",
       "    <tr>\n",
       "      <td>1</td>\n",
       "      <td>1500</td>\n",
       "      <td>95222</td>\n",
       "    </tr>\n",
       "    <tr>\n",
       "      <td>2</td>\n",
       "      <td>2640</td>\n",
       "      <td>95000</td>\n",
       "    </tr>\n",
       "    <tr>\n",
       "      <td>7</td>\n",
       "      <td>1695</td>\n",
       "      <td>95000</td>\n",
       "    </tr>\n",
       "    <tr>\n",
       "      <td>12</td>\n",
       "      <td>1641</td>\n",
       "      <td>94262</td>\n",
       "    </tr>\n",
       "    <tr>\n",
       "      <td>10</td>\n",
       "      <td>2127</td>\n",
       "      <td>94202</td>\n",
       "    </tr>\n",
       "    <tr>\n",
       "      <td>5</td>\n",
       "      <td>1274</td>\n",
       "      <td>92857</td>\n",
       "    </tr>\n",
       "    <tr>\n",
       "      <td>6</td>\n",
       "      <td>1760</td>\n",
       "      <td>92799</td>\n",
       "    </tr>\n",
       "  </tbody>\n",
       "</table>\n",
       "</div>"
      ],
      "text/plain": [
       "                  count  median\n",
       "month_exposition               \n",
       "4                  2379   96451\n",
       "8                  1744   96026\n",
       "9                  1981   95607\n",
       "11                 2371   95588\n",
       "3                  2587   95348\n",
       "1                  1500   95222\n",
       "2                  2640   95000\n",
       "7                  1695   95000\n",
       "12                 1641   94262\n",
       "10                 2127   94202\n",
       "5                  1274   92857\n",
       "6                  1760   92799"
      ]
     },
     "metadata": {},
     "output_type": "display_data"
    },
    {
     "data": {
      "text/plain": [
       "-0.0020869094268662707"
      ]
     },
     "execution_count": 51,
     "metadata": {},
     "output_type": "execute_result"
    },
    {
     "data": {
      "image/png": "[encoded data removed]",
      "text/plain": [
       "<Figure size 432x288 with 1 Axes>"
      ]
     },
     "metadata": {
      "needs_background": "light"
     },
     "output_type": "display_data"
    }
   ],
   "source": [
    "# создаем сводную таблицу:\n",
    "pivot_table_month = df.pivot_table(index='month_exposition', values='price_of_meter', aggfunc=['count', 'median'])\n",
    "\n",
    "# избавляемся от мультииндекса в названии колонок:\n",
    "pivot_table_month.columns = ['count', 'median']\n",
    "\n",
    "# строим график:\n",
    "pivot_table_month.plot(y='median', grid=True)\n",
    "\n",
    "# для наглядности еще и отсортируем таблицу по стоимости:\n",
    "display(pivot_table_month.sort_values('median', ascending = False))\n",
    "\n",
    "# ну и найдем корреляцию:\n",
    "df['month_exposition'].corr(df['price_of_meter'])"
   ]
  },
  {
   "cell_type": "markdown",
   "metadata": {},
   "source": [
    "На этом вычислении я понял что корреляция высчитывается линейная, а это не совсем подходит для анализа. В данном случае линейная корреляция получилась 0.2%, однако путем математических вычислений выясняем отличие экстримальных значений - минимальных от максимальных - составляет 3.8%. Главным образом стоит отметить самые дорогие квартиры в апреле и самые дешевые в июне. Здесь логика, на мой взгляд, схожа с размещением объявлений по дням - в апреле задирают цены чтобы потом немного сбавить, что и происходит в мае - сильный скачок цен вниз. Самые низкие в июне - продать квартиру и уехать на эти деньги отдыхать. Ну или вложить в бизнес и развивать его летом, так как у многих отпуск именно летом. У всех педагогических работников тоже. Мне как педагогу очень часто хочется уйти в бизнес...\n",
    "\n",
    "Изучаем зависимость цены квадратного метра от даты размещения - от года размещения:"
   ]
  },
  {
   "cell_type": "code",
   "execution_count": 52,
   "metadata": {},
   "outputs": [
    {
     "data": {
      "text/html": [
       "<div>\n",
       "<style scoped>\n",
       "    .dataframe tbody tr th:only-of-type {\n",
       "        vertical-align: middle;\n",
       "    }\n",
       "\n",
       "    .dataframe tbody tr th {\n",
       "        vertical-align: top;\n",
       "    }\n",
       "\n",
       "    .dataframe thead th {\n",
       "        text-align: right;\n",
       "    }\n",
       "</style>\n",
       "<table border=\"1\" class=\"dataframe\">\n",
       "  <thead>\n",
       "    <tr style=\"text-align: right;\">\n",
       "      <th></th>\n",
       "      <th>count</th>\n",
       "      <th>median</th>\n",
       "    </tr>\n",
       "    <tr>\n",
       "      <th>year_exposition</th>\n",
       "      <th></th>\n",
       "      <th></th>\n",
       "    </tr>\n",
       "  </thead>\n",
       "  <tbody>\n",
       "    <tr>\n",
       "      <td>2014</td>\n",
       "      <td>137</td>\n",
       "      <td>107000.0</td>\n",
       "    </tr>\n",
       "    <tr>\n",
       "      <td>2019</td>\n",
       "      <td>2879</td>\n",
       "      <td>103351.0</td>\n",
       "    </tr>\n",
       "    <tr>\n",
       "      <td>2018</td>\n",
       "      <td>8519</td>\n",
       "      <td>95689.0</td>\n",
       "    </tr>\n",
       "    <tr>\n",
       "      <td>2015</td>\n",
       "      <td>1191</td>\n",
       "      <td>93414.0</td>\n",
       "    </tr>\n",
       "    <tr>\n",
       "      <td>2017</td>\n",
       "      <td>8190</td>\n",
       "      <td>92564.5</td>\n",
       "    </tr>\n",
       "    <tr>\n",
       "      <td>2016</td>\n",
       "      <td>2783</td>\n",
       "      <td>91743.0</td>\n",
       "    </tr>\n",
       "  </tbody>\n",
       "</table>\n",
       "</div>"
      ],
      "text/plain": [
       "                 count    median\n",
       "year_exposition                 \n",
       "2014               137  107000.0\n",
       "2019              2879  103351.0\n",
       "2018              8519   95689.0\n",
       "2015              1191   93414.0\n",
       "2017              8190   92564.5\n",
       "2016              2783   91743.0"
      ]
     },
     "metadata": {},
     "output_type": "display_data"
    },
    {
     "data": {
      "image/png": "[encoded data removed]",
      "text/plain": [
       "<Figure size 432x288 with 1 Axes>"
      ]
     },
     "metadata": {
      "needs_background": "light"
     },
     "output_type": "display_data"
    }
   ],
   "source": [
    "# создаем сводную таблицу:\n",
    "pivot_table_year = df.pivot_table(index='year_exposition', values='price_of_meter', aggfunc=['count', 'median'])\n",
    "\n",
    "# избавляемся от мультииндекса в названии колонок:\n",
    "pivot_table_year.columns = ['count', 'median']\n",
    "\n",
    "# строим график:\n",
    "pivot_table_year.plot(y='median', grid=True)\n",
    "\n",
    "# для наглядности еще и отсортируем таблицу по стоимости:\n",
    "display(pivot_table_year.sort_values('median', ascending = False))"
   ]
  },
  {
   "cell_type": "markdown",
   "metadata": {},
   "source": [
    "Здесь картина более плавная - самые дорогие объявления размещены в 2014 году, самые дешевые в 2016 году. Дело скорее всего в общей динамике цен по стране. В поисковой строке мониторинга рынка недвижимости на просторах интернет первый результат - одной компании недвижимости, которая предоставляет данные по всей стране с 2012 по 2021 год:\n",
    "\n",
    "<a target=\"_blank\" href=\"https://radikal.ru\"><img src=\"https://a.radikal.ru/a21/2112/fc/39992b319edb.png\" /></a>\n",
    "\n",
    "\n",
    "Судя по графикам цены весьма адекватно коррелируются. \n",
    "\n",
    "Следующее задание гласит:\n",
    "\n",
    "Выберите 10 населённых пунктов с наибольшим числом объявлений. Посчитайте среднюю цену квадратного метра в этих населённых пунктах. Выделите населённые пункты с самой высокой и низкой стоимостью жилья. Нам снова не обойтись без сводных таблиц:"
   ]
  },
  {
   "cell_type": "code",
   "execution_count": 53,
   "metadata": {},
   "outputs": [
    {
     "data": {
      "text/html": [
       "<div>\n",
       "<style scoped>\n",
       "    .dataframe tbody tr th:only-of-type {\n",
       "        vertical-align: middle;\n",
       "    }\n",
       "\n",
       "    .dataframe tbody tr th {\n",
       "        vertical-align: top;\n",
       "    }\n",
       "\n",
       "    .dataframe thead th {\n",
       "        text-align: right;\n",
       "    }\n",
       "</style>\n",
       "<table border=\"1\" class=\"dataframe\">\n",
       "  <thead>\n",
       "    <tr style=\"text-align: right;\">\n",
       "      <th></th>\n",
       "      <th>count</th>\n",
       "      <th>mean</th>\n",
       "    </tr>\n",
       "    <tr>\n",
       "      <th>locality_name</th>\n",
       "      <th></th>\n",
       "      <th></th>\n",
       "    </tr>\n",
       "  </thead>\n",
       "  <tbody>\n",
       "    <tr>\n",
       "      <td>Санкт-Петербург</td>\n",
       "      <td>15758</td>\n",
       "      <td>114828.516182</td>\n",
       "    </tr>\n",
       "    <tr>\n",
       "      <td>посёлок Мурино</td>\n",
       "      <td>522</td>\n",
       "      <td>85751.733716</td>\n",
       "    </tr>\n",
       "    <tr>\n",
       "      <td>посёлок Шушары</td>\n",
       "      <td>440</td>\n",
       "      <td>78676.904545</td>\n",
       "    </tr>\n",
       "    <tr>\n",
       "      <td>Всеволожск</td>\n",
       "      <td>398</td>\n",
       "      <td>68654.007538</td>\n",
       "    </tr>\n",
       "    <tr>\n",
       "      <td>Пушкин</td>\n",
       "      <td>369</td>\n",
       "      <td>103125.373984</td>\n",
       "    </tr>\n",
       "    <tr>\n",
       "      <td>Колпино</td>\n",
       "      <td>338</td>\n",
       "      <td>75424.150888</td>\n",
       "    </tr>\n",
       "    <tr>\n",
       "      <td>посёлок Парголово</td>\n",
       "      <td>327</td>\n",
       "      <td>90175.489297</td>\n",
       "    </tr>\n",
       "    <tr>\n",
       "      <td>Гатчина</td>\n",
       "      <td>307</td>\n",
       "      <td>68745.693811</td>\n",
       "    </tr>\n",
       "    <tr>\n",
       "      <td>деревня Кудрово</td>\n",
       "      <td>299</td>\n",
       "      <td>92473.086957</td>\n",
       "    </tr>\n",
       "    <tr>\n",
       "      <td>Выборг</td>\n",
       "      <td>237</td>\n",
       "      <td>58141.489451</td>\n",
       "    </tr>\n",
       "  </tbody>\n",
       "</table>\n",
       "</div>"
      ],
      "text/plain": [
       "                   count           mean\n",
       "locality_name                          \n",
       "Санкт-Петербург    15758  114828.516182\n",
       "посёлок Мурино       522   85751.733716\n",
       "посёлок Шушары       440   78676.904545\n",
       "Всеволожск           398   68654.007538\n",
       "Пушкин               369  103125.373984\n",
       "Колпино              338   75424.150888\n",
       "посёлок Парголово    327   90175.489297\n",
       "Гатчина              307   68745.693811\n",
       "деревня Кудрово      299   92473.086957\n",
       "Выборг               237   58141.489451"
      ]
     },
     "metadata": {},
     "output_type": "display_data"
    },
    {
     "data": {
      "text/html": [
       "<div>\n",
       "<style scoped>\n",
       "    .dataframe tbody tr th:only-of-type {\n",
       "        vertical-align: middle;\n",
       "    }\n",
       "\n",
       "    .dataframe tbody tr th {\n",
       "        vertical-align: top;\n",
       "    }\n",
       "\n",
       "    .dataframe thead th {\n",
       "        text-align: right;\n",
       "    }\n",
       "</style>\n",
       "<table border=\"1\" class=\"dataframe\">\n",
       "  <thead>\n",
       "    <tr style=\"text-align: right;\">\n",
       "      <th></th>\n",
       "      <th>count</th>\n",
       "      <th>mean</th>\n",
       "    </tr>\n",
       "    <tr>\n",
       "      <th>locality_name</th>\n",
       "      <th></th>\n",
       "      <th></th>\n",
       "    </tr>\n",
       "  </thead>\n",
       "  <tbody>\n",
       "    <tr>\n",
       "      <td>посёлок Лисий Нос</td>\n",
       "      <td>2</td>\n",
       "      <td>121615.5</td>\n",
       "    </tr>\n",
       "  </tbody>\n",
       "</table>\n",
       "</div>"
      ],
      "text/plain": [
       "                   count      mean\n",
       "locality_name                     \n",
       "посёлок Лисий Нос      2  121615.5"
      ]
     },
     "metadata": {},
     "output_type": "display_data"
    },
    {
     "data": {
      "text/html": [
       "<div>\n",
       "<style scoped>\n",
       "    .dataframe tbody tr th:only-of-type {\n",
       "        vertical-align: middle;\n",
       "    }\n",
       "\n",
       "    .dataframe tbody tr th {\n",
       "        vertical-align: top;\n",
       "    }\n",
       "\n",
       "    .dataframe thead th {\n",
       "        text-align: right;\n",
       "    }\n",
       "</style>\n",
       "<table border=\"1\" class=\"dataframe\">\n",
       "  <thead>\n",
       "    <tr style=\"text-align: right;\">\n",
       "      <th></th>\n",
       "      <th>count</th>\n",
       "      <th>mean</th>\n",
       "    </tr>\n",
       "    <tr>\n",
       "      <th>locality_name</th>\n",
       "      <th></th>\n",
       "      <th></th>\n",
       "    </tr>\n",
       "  </thead>\n",
       "  <tbody>\n",
       "    <tr>\n",
       "      <td>деревня Старополье</td>\n",
       "      <td>3</td>\n",
       "      <td>11206.0</td>\n",
       "    </tr>\n",
       "  </tbody>\n",
       "</table>\n",
       "</div>"
      ],
      "text/plain": [
       "                    count     mean\n",
       "locality_name                     \n",
       "деревня Старополье      3  11206.0"
      ]
     },
     "metadata": {},
     "output_type": "display_data"
    }
   ],
   "source": [
    "# общая сводная таблица:\n",
    "pivot_table_city = df.pivot_table(index='locality_name', values='price_of_meter', aggfunc=['count', 'mean'])\n",
    "\n",
    "# избавялемся от мультииндекса в названии колонок:\n",
    "pivot_table_city.columns = ['count', 'mean']\n",
    "\n",
    "# сортировка по количеству объявлений:\n",
    "display(pivot_table_city.sort_values('count', ascending=False).head(10))\n",
    "\n",
    "# самая высокая стоимость жилья:\n",
    "display(pivot_table_city[pivot_table_city['mean']==pivot_table_city['mean'].max()])\n",
    "\n",
    "# самая низкая стоимость жилья:\n",
    "display(pivot_table_city[pivot_table_city['mean']==pivot_table_city['mean'].min()])"
   ]
  },
  {
   "cell_type": "markdown",
   "metadata": {},
   "source": [
    "Самая дорогая в среднем недвижимость ожидаемо в Санкт-Петербурге. В то время как десятку по стоимость квадратного метра занимает Выборг. Если взять отдельные объявления то самое дорогое зарегистрировано, как ни странно, в посёлке Лисий Нос. Самая дешевая - в деревне Старополье, здесь метр жилья можно купить за МРОТ...\n",
    "\n",
    "Следующая задача:Изучите предложения квартир: для каждой квартиры есть информация о расстоянии до центра. Выделите квартиры в Санкт-Петербурге (locality_name). Ваша задача — выяснить, какая область входит в центр. Создайте столбец с расстоянием до центра в километрах: округлите до целых значений. После этого посчитайте среднюю цену для каждого километра. Постройте график: он должен показывать, как цена зависит от удалённости от центра. Определите границу, где график сильно меняется, — это и будет центральная зона.\n",
    "\n",
    "И снова сводные таблицы, графики..."
   ]
  },
  {
   "cell_type": "code",
   "execution_count": 54,
   "metadata": {},
   "outputs": [
    {
     "name": "stderr",
     "output_type": "stream",
     "text": [
      "/opt/conda/lib/python3.7/site-packages/pandas/core/indexing.py:376: SettingWithCopyWarning: \n",
      "A value is trying to be set on a copy of a slice from a DataFrame.\n",
      "Try using .loc[row_indexer,col_indexer] = value instead\n",
      "\n",
      "See the caveats in the documentation: http://pandas.pydata.org/pandas-docs/stable/user_guide/indexing.html#returning-a-view-versus-a-copy\n",
      "  self.obj[key] = _infer_fill_value(value)\n",
      "/opt/conda/lib/python3.7/site-packages/pandas/core/indexing.py:494: SettingWithCopyWarning: \n",
      "A value is trying to be set on a copy of a slice from a DataFrame.\n",
      "Try using .loc[row_indexer,col_indexer] = value instead\n",
      "\n",
      "See the caveats in the documentation: http://pandas.pydata.org/pandas-docs/stable/user_guide/indexing.html#returning-a-view-versus-a-copy\n",
      "  self.obj[item] = s\n"
     ]
    },
    {
     "data": {
      "text/plain": [
       "<matplotlib.axes._subplots.AxesSubplot at 0x7f990dbf7550>"
      ]
     },
     "execution_count": 54,
     "metadata": {},
     "output_type": "execute_result"
    },
    {
     "data": {
      "image/png": "[encoded data removed]",
      "text/plain": [
       "<Figure size 432x288 with 1 Axes>"
      ]
     },
     "metadata": {
      "needs_background": "light"
     },
     "output_type": "display_data"
    }
   ],
   "source": [
    "# создадим данные только по Питеру:\n",
    "df_piter = df[df['locality_name']=='Санкт-Петербург']\n",
    "\n",
    "# создаем колонку с километражом до центра:\n",
    "df_piter.loc[:, 'km_to_center'] = df_piter.loc[:, 'cityCenters_nearest']/1000\n",
    "df_piter.loc[:, 'km_to_center'] = df_piter.loc[:, 'km_to_center'].astype('int')\n",
    "\n",
    "\n",
    "# создаем сводную таблицу со средней ценой квадратного метра по километрам:\n",
    "pivot_table_km = df_piter.query('km_to_center != 0').pivot_table(index='km_to_center', values='price_of_meter', aggfunc='mean')\n",
    "pivot_table_km.plot(grid=True)\n"
   ]
  },
  {
   "cell_type": "markdown",
   "metadata": {},
   "source": [
    "После 9-ти километров график снижения цены становится более пологим. Думаю целесообразно считать центром радиус в 9 км. Пик цены после 26 км - скорее всего элитные загородные дома, или новые ЖК на окраине. \n",
    "\n",
    "\n",
    "Следующее задание: Выделите сегмент квартир в центре. Проанализируйте эту территорию и изучите следующие параметры: площадь, цена, число комнат, высота потолков. Также выделите факторы, которые влияют на стоимость квартиры (число комнат, этаж, удалённость от центра, дата размещения объявления). Сделайте выводы. Отличаются ли они от общих выводов по всему городу?\n",
    "\n",
    "\n",
    "Создадим новый датафрейм с данными по центру Питера, по нему сводную таблицу с площадью, ценой, числом комнат и высотой потолков. Затем повторим все вычисления и графики которые делали для общих даных - сравним стоимость метра в зависимости от количества комнат, этажа, удаленности от центра и даты размещения объявления:"
   ]
  },
  {
   "cell_type": "code",
   "execution_count": 55,
   "metadata": {},
   "outputs": [
    {
     "data": {
      "text/html": [
       "<div>\n",
       "<style scoped>\n",
       "    .dataframe tbody tr th:only-of-type {\n",
       "        vertical-align: middle;\n",
       "    }\n",
       "\n",
       "    .dataframe tbody tr th {\n",
       "        vertical-align: top;\n",
       "    }\n",
       "\n",
       "    .dataframe thead th {\n",
       "        text-align: right;\n",
       "    }\n",
       "</style>\n",
       "<table border=\"1\" class=\"dataframe\">\n",
       "  <thead>\n",
       "    <tr style=\"text-align: right;\">\n",
       "      <th></th>\n",
       "      <th>ceiling_height</th>\n",
       "      <th>price_of_meter</th>\n",
       "      <th>rooms</th>\n",
       "      <th>total_area</th>\n",
       "    </tr>\n",
       "    <tr>\n",
       "      <th>km_to_center</th>\n",
       "      <th></th>\n",
       "      <th></th>\n",
       "      <th></th>\n",
       "      <th></th>\n",
       "    </tr>\n",
       "  </thead>\n",
       "  <tbody>\n",
       "    <tr>\n",
       "      <td>0</td>\n",
       "      <td>3.058256</td>\n",
       "      <td>187323.674419</td>\n",
       "      <td>3.220930</td>\n",
       "      <td>112.130000</td>\n",
       "    </tr>\n",
       "    <tr>\n",
       "      <td>1</td>\n",
       "      <td>3.052893</td>\n",
       "      <td>166441.743802</td>\n",
       "      <td>3.239669</td>\n",
       "      <td>103.219421</td>\n",
       "    </tr>\n",
       "    <tr>\n",
       "      <td>2</td>\n",
       "      <td>3.079674</td>\n",
       "      <td>146662.420195</td>\n",
       "      <td>3.114007</td>\n",
       "      <td>98.856482</td>\n",
       "    </tr>\n",
       "    <tr>\n",
       "      <td>3</td>\n",
       "      <td>2.975170</td>\n",
       "      <td>129369.694340</td>\n",
       "      <td>3.016981</td>\n",
       "      <td>91.446075</td>\n",
       "    </tr>\n",
       "    <tr>\n",
       "      <td>4</td>\n",
       "      <td>2.953766</td>\n",
       "      <td>137147.834061</td>\n",
       "      <td>2.924672</td>\n",
       "      <td>96.007052</td>\n",
       "    </tr>\n",
       "    <tr>\n",
       "      <td>5</td>\n",
       "      <td>2.898208</td>\n",
       "      <td>146873.966234</td>\n",
       "      <td>2.740260</td>\n",
       "      <td>93.921597</td>\n",
       "    </tr>\n",
       "    <tr>\n",
       "      <td>6</td>\n",
       "      <td>2.850404</td>\n",
       "      <td>152277.455319</td>\n",
       "      <td>2.338298</td>\n",
       "      <td>82.903319</td>\n",
       "    </tr>\n",
       "    <tr>\n",
       "      <td>7</td>\n",
       "      <td>2.748600</td>\n",
       "      <td>141399.287469</td>\n",
       "      <td>2.422604</td>\n",
       "      <td>77.187150</td>\n",
       "    </tr>\n",
       "    <tr>\n",
       "      <td>8</td>\n",
       "      <td>2.782308</td>\n",
       "      <td>120377.781065</td>\n",
       "      <td>2.208580</td>\n",
       "      <td>67.609038</td>\n",
       "    </tr>\n",
       "    <tr>\n",
       "      <td>9</td>\n",
       "      <td>2.696883</td>\n",
       "      <td>110209.278499</td>\n",
       "      <td>2.028860</td>\n",
       "      <td>57.698557</td>\n",
       "    </tr>\n",
       "  </tbody>\n",
       "</table>\n",
       "</div>"
      ],
      "text/plain": [
       "              ceiling_height  price_of_meter     rooms  total_area\n",
       "km_to_center                                                      \n",
       "0                   3.058256   187323.674419  3.220930  112.130000\n",
       "1                   3.052893   166441.743802  3.239669  103.219421\n",
       "2                   3.079674   146662.420195  3.114007   98.856482\n",
       "3                   2.975170   129369.694340  3.016981   91.446075\n",
       "4                   2.953766   137147.834061  2.924672   96.007052\n",
       "5                   2.898208   146873.966234  2.740260   93.921597\n",
       "6                   2.850404   152277.455319  2.338298   82.903319\n",
       "7                   2.748600   141399.287469  2.422604   77.187150\n",
       "8                   2.782308   120377.781065  2.208580   67.609038\n",
       "9                   2.696883   110209.278499  2.028860   57.698557"
      ]
     },
     "metadata": {},
     "output_type": "display_data"
    },
    {
     "data": {
      "text/plain": [
       "<matplotlib.axes._subplots.AxesSubplot at 0x7f99165bb890>"
      ]
     },
     "execution_count": 55,
     "metadata": {},
     "output_type": "execute_result"
    },
    {
     "data": {
      "image/png": "[encoded data removed]",
      "text/plain": [
       "<Figure size 432x288 with 1 Axes>"
      ]
     },
     "metadata": {
      "needs_background": "light"
     },
     "output_type": "display_data"
    }
   ],
   "source": [
    "# создаем еще один датафрейм для квартир в центре Питера:\n",
    "df_piter_center = df_piter[df_piter['km_to_center'] <= 9]\n",
    "\n",
    "# создадим сводную таблицу включающую площадь, цену, число комнат и высоту потолка.\n",
    "pivot_df_piter_center = df_piter_center.pivot_table(index='km_to_center', values=['total_area', 'price_of_meter', 'rooms', 'ceiling_height'])\n",
    "\n",
    "# выведем на экран таблицу:\n",
    "display(pivot_df_piter_center)\n",
    "\n",
    "# построим график со стоимостью квадратного метра:\n",
    "pivot_df_piter_center.plot(y='price_of_meter')"
   ]
  },
  {
   "cell_type": "markdown",
   "metadata": {},
   "source": [
    "Из сводной таблицы мы видим четкую закономерность - Высота потолков, количество комнат и общая площадь уменьшаются по мере отдаления от центра. В то время как стоимость метра не такая очевидная. Для нее мы построили график, на нем видно снижение цены в радиусе 3-х километров, и подорожание квартир в радиусе 6-ти км. Сложно конкретизировать рассуждения, возможно это связано с инфраструктурной доступностью жилья в отдельных районах. Отдадим эту информацию на растерзание риэлторам. \n",
    "\n",
    "Далее повторяем вычисления для нового набора данных - вычисляем зависимость цены квадратного метра от количества комнат:"
   ]
  },
  {
   "cell_type": "code",
   "execution_count": 56,
   "metadata": {},
   "outputs": [
    {
     "data": {
      "text/html": [
       "<div>\n",
       "<style scoped>\n",
       "    .dataframe tbody tr th:only-of-type {\n",
       "        vertical-align: middle;\n",
       "    }\n",
       "\n",
       "    .dataframe tbody tr th {\n",
       "        vertical-align: top;\n",
       "    }\n",
       "\n",
       "    .dataframe thead th {\n",
       "        text-align: right;\n",
       "    }\n",
       "</style>\n",
       "<table border=\"1\" class=\"dataframe\">\n",
       "  <thead>\n",
       "    <tr style=\"text-align: right;\">\n",
       "      <th></th>\n",
       "      <th>price_of_meter</th>\n",
       "    </tr>\n",
       "    <tr>\n",
       "      <th>rooms</th>\n",
       "      <th></th>\n",
       "    </tr>\n",
       "  </thead>\n",
       "  <tbody>\n",
       "    <tr>\n",
       "      <td>12</td>\n",
       "      <td>466666.0</td>\n",
       "    </tr>\n",
       "    <tr>\n",
       "      <td>11</td>\n",
       "      <td>132639.5</td>\n",
       "    </tr>\n",
       "    <tr>\n",
       "      <td>0</td>\n",
       "      <td>130000.0</td>\n",
       "    </tr>\n",
       "    <tr>\n",
       "      <td>1</td>\n",
       "      <td>128669.5</td>\n",
       "    </tr>\n",
       "    <tr>\n",
       "      <td>2</td>\n",
       "      <td>119205.0</td>\n",
       "    </tr>\n",
       "    <tr>\n",
       "      <td>3</td>\n",
       "      <td>113416.0</td>\n",
       "    </tr>\n",
       "    <tr>\n",
       "      <td>15</td>\n",
       "      <td>110169.0</td>\n",
       "    </tr>\n",
       "    <tr>\n",
       "      <td>7</td>\n",
       "      <td>109996.0</td>\n",
       "    </tr>\n",
       "    <tr>\n",
       "      <td>4</td>\n",
       "      <td>109452.5</td>\n",
       "    </tr>\n",
       "    <tr>\n",
       "      <td>8</td>\n",
       "      <td>107333.0</td>\n",
       "    </tr>\n",
       "    <tr>\n",
       "      <td>16</td>\n",
       "      <td>105555.0</td>\n",
       "    </tr>\n",
       "    <tr>\n",
       "      <td>10</td>\n",
       "      <td>104828.5</td>\n",
       "    </tr>\n",
       "    <tr>\n",
       "      <td>5</td>\n",
       "      <td>104414.0</td>\n",
       "    </tr>\n",
       "    <tr>\n",
       "      <td>6</td>\n",
       "      <td>103407.5</td>\n",
       "    </tr>\n",
       "    <tr>\n",
       "      <td>14</td>\n",
       "      <td>92827.0</td>\n",
       "    </tr>\n",
       "    <tr>\n",
       "      <td>9</td>\n",
       "      <td>92517.5</td>\n",
       "    </tr>\n",
       "    <tr>\n",
       "      <td>19</td>\n",
       "      <td>86091.0</td>\n",
       "    </tr>\n",
       "  </tbody>\n",
       "</table>\n",
       "</div>"
      ],
      "text/plain": [
       "       price_of_meter\n",
       "rooms                \n",
       "12           466666.0\n",
       "11           132639.5\n",
       "0            130000.0\n",
       "1            128669.5\n",
       "2            119205.0\n",
       "3            113416.0\n",
       "15           110169.0\n",
       "7            109996.0\n",
       "4            109452.5\n",
       "8            107333.0\n",
       "16           105555.0\n",
       "10           104828.5\n",
       "5            104414.0\n",
       "6            103407.5\n",
       "14            92827.0\n",
       "9             92517.5\n",
       "19            86091.0"
      ]
     },
     "metadata": {},
     "output_type": "display_data"
    },
    {
     "data": {
      "text/plain": [
       "0.037143956278693095"
      ]
     },
     "execution_count": 56,
     "metadata": {},
     "output_type": "execute_result"
    },
    {
     "data": {
      "image/png": "[encoded data removed]",
      "text/plain": [
       "<Figure size 432x288 with 1 Axes>"
      ]
     },
     "metadata": {
      "needs_background": "light"
     },
     "output_type": "display_data"
    }
   ],
   "source": [
    "# создаем сводную таблицу:\n",
    "pivot_table_rooms_center = df_piter_center.pivot_table(index='rooms', values='price_of_meter', aggfunc='median')\n",
    "\n",
    "# сторим график:\n",
    "pivot_table_rooms_center.plot(y='price_of_meter')\n",
    "\n",
    "# сортируем:\n",
    "display(pivot_table_rooms_center.sort_values('price_of_meter', ascending=False).head(20))\n",
    "\n",
    "# ищем линейную корреляцию:\n",
    "df_piter_center['rooms'].corr(df_piter_center['price_of_meter'])"
   ]
  },
  {
   "cell_type": "markdown",
   "metadata": {},
   "source": [
    "Хоромы с 12 комнатами все еще вляют на исслдование но мы видим более плавное снижение цены с увеличением числа комнат, а точнее большее увеличение цены с уменьшением числа комнат. Корреляция немного меньше, 3.8% против 5.8% общей выборки.\n",
    "\n",
    "Зависимость цены от этажа:"
   ]
  },
  {
   "cell_type": "code",
   "execution_count": 57,
   "metadata": {},
   "outputs": [
    {
     "data": {
      "text/html": [
       "<div>\n",
       "<style scoped>\n",
       "    .dataframe tbody tr th:only-of-type {\n",
       "        vertical-align: middle;\n",
       "    }\n",
       "\n",
       "    .dataframe tbody tr th {\n",
       "        vertical-align: top;\n",
       "    }\n",
       "\n",
       "    .dataframe thead th {\n",
       "        text-align: right;\n",
       "    }\n",
       "</style>\n",
       "<table border=\"1\" class=\"dataframe\">\n",
       "  <thead>\n",
       "    <tr style=\"text-align: right;\">\n",
       "      <th></th>\n",
       "      <th>price_of_meter</th>\n",
       "    </tr>\n",
       "    <tr>\n",
       "      <th>floor_category</th>\n",
       "      <th></th>\n",
       "    </tr>\n",
       "  </thead>\n",
       "  <tbody>\n",
       "    <tr>\n",
       "      <td>другой</td>\n",
       "      <td>122093.0</td>\n",
       "    </tr>\n",
       "    <tr>\n",
       "      <td>последний</td>\n",
       "      <td>113246.5</td>\n",
       "    </tr>\n",
       "    <tr>\n",
       "      <td>первый</td>\n",
       "      <td>103703.0</td>\n",
       "    </tr>\n",
       "  </tbody>\n",
       "</table>\n",
       "</div>"
      ],
      "text/plain": [
       "                price_of_meter\n",
       "floor_category                \n",
       "другой                122093.0\n",
       "последний             113246.5\n",
       "первый                103703.0"
      ]
     },
     "metadata": {},
     "output_type": "display_data"
    },
    {
     "data": {
      "image/png": "[encoded data removed]",
      "text/plain": [
       "<Figure size 432x288 with 1 Axes>"
      ]
     },
     "metadata": {
      "needs_background": "light"
     },
     "output_type": "display_data"
    }
   ],
   "source": [
    "# создаем сводную таблицу:\n",
    "pivot_table_floor_center = df_piter_center.pivot_table(index='floor_category', values='price_of_meter', aggfunc='median')\n",
    "\n",
    "# сторим график, с разным масштабированием:\n",
    "pivot_table_floor_center.plot(y='price_of_meter')\n",
    "\n",
    "# сортируем:\n",
    "display(pivot_table_floor_center.sort_values('price_of_meter', ascending=False))"
   ]
  },
  {
   "cell_type": "markdown",
   "metadata": {},
   "source": [
    "Квартиры на первом этаже все также самые дешевые, средняя цена у квартир на последнем этаже. Средние этажи имеют самую высокую стоимость. На других этажах квартиры явно дороже, на 7 % от квартир на последнем этаже, в отличие от общей выборки в 12 %, и на 15 % от квартир на 1 этаже в отличие от 21 % общей выборки. То есть разница цен немного меньше, чем общей выборки.\n",
    "\n",
    "Изучаем цену в зависимости от удаленности от центра:"
   ]
  },
  {
   "cell_type": "code",
   "execution_count": 58,
   "metadata": {},
   "outputs": [
    {
     "data": {
      "text/html": [
       "<div>\n",
       "<style scoped>\n",
       "    .dataframe tbody tr th:only-of-type {\n",
       "        vertical-align: middle;\n",
       "    }\n",
       "\n",
       "    .dataframe tbody tr th {\n",
       "        vertical-align: top;\n",
       "    }\n",
       "\n",
       "    .dataframe thead th {\n",
       "        text-align: right;\n",
       "    }\n",
       "</style>\n",
       "<table border=\"1\" class=\"dataframe\">\n",
       "  <thead>\n",
       "    <tr style=\"text-align: right;\">\n",
       "      <th></th>\n",
       "      <th>price_of_meter</th>\n",
       "    </tr>\n",
       "    <tr>\n",
       "      <th>cityCenters_nearest</th>\n",
       "      <th></th>\n",
       "    </tr>\n",
       "  </thead>\n",
       "  <tbody>\n",
       "    <tr>\n",
       "      <td>1197.0</td>\n",
       "      <td>1736842.0</td>\n",
       "    </tr>\n",
       "    <tr>\n",
       "      <td>1073.0</td>\n",
       "      <td>1542604.0</td>\n",
       "    </tr>\n",
       "    <tr>\n",
       "      <td>1722.0</td>\n",
       "      <td>995983.0</td>\n",
       "    </tr>\n",
       "    <tr>\n",
       "      <td>6235.0</td>\n",
       "      <td>857542.0</td>\n",
       "    </tr>\n",
       "    <tr>\n",
       "      <td>1462.0</td>\n",
       "      <td>848484.0</td>\n",
       "    </tr>\n",
       "    <tr>\n",
       "      <td>555.0</td>\n",
       "      <td>658436.0</td>\n",
       "    </tr>\n",
       "    <tr>\n",
       "      <td>2380.0</td>\n",
       "      <td>612557.0</td>\n",
       "    </tr>\n",
       "    <tr>\n",
       "      <td>8283.0</td>\n",
       "      <td>600000.0</td>\n",
       "    </tr>\n",
       "    <tr>\n",
       "      <td>2385.0</td>\n",
       "      <td>588888.0</td>\n",
       "    </tr>\n",
       "    <tr>\n",
       "      <td>6917.0</td>\n",
       "      <td>583390.0</td>\n",
       "    </tr>\n",
       "    <tr>\n",
       "      <td>3503.0</td>\n",
       "      <td>580912.0</td>\n",
       "    </tr>\n",
       "    <tr>\n",
       "      <td>2335.0</td>\n",
       "      <td>556792.0</td>\n",
       "    </tr>\n",
       "    <tr>\n",
       "      <td>436.0</td>\n",
       "      <td>525676.0</td>\n",
       "    </tr>\n",
       "    <tr>\n",
       "      <td>3794.0</td>\n",
       "      <td>518731.0</td>\n",
       "    </tr>\n",
       "    <tr>\n",
       "      <td>2389.0</td>\n",
       "      <td>509599.0</td>\n",
       "    </tr>\n",
       "    <tr>\n",
       "      <td>2242.0</td>\n",
       "      <td>500000.0</td>\n",
       "    </tr>\n",
       "    <tr>\n",
       "      <td>1032.0</td>\n",
       "      <td>500000.0</td>\n",
       "    </tr>\n",
       "    <tr>\n",
       "      <td>1376.0</td>\n",
       "      <td>494144.5</td>\n",
       "    </tr>\n",
       "    <tr>\n",
       "      <td>5297.0</td>\n",
       "      <td>485436.0</td>\n",
       "    </tr>\n",
       "    <tr>\n",
       "      <td>7023.0</td>\n",
       "      <td>483285.0</td>\n",
       "    </tr>\n",
       "  </tbody>\n",
       "</table>\n",
       "</div>"
      ],
      "text/plain": [
       "                     price_of_meter\n",
       "cityCenters_nearest                \n",
       "1197.0                    1736842.0\n",
       "1073.0                    1542604.0\n",
       "1722.0                     995983.0\n",
       "6235.0                     857542.0\n",
       "1462.0                     848484.0\n",
       "555.0                      658436.0\n",
       "2380.0                     612557.0\n",
       "8283.0                     600000.0\n",
       "2385.0                     588888.0\n",
       "6917.0                     583390.0\n",
       "3503.0                     580912.0\n",
       "2335.0                     556792.0\n",
       "436.0                      525676.0\n",
       "3794.0                     518731.0\n",
       "2389.0                     509599.0\n",
       "2242.0                     500000.0\n",
       "1032.0                     500000.0\n",
       "1376.0                     494144.5\n",
       "5297.0                     485436.0\n",
       "7023.0                     483285.0"
      ]
     },
     "metadata": {},
     "output_type": "display_data"
    },
    {
     "data": {
      "text/plain": [
       "-0.1460674666877753"
      ]
     },
     "execution_count": 58,
     "metadata": {},
     "output_type": "execute_result"
    },
    {
     "data": {
      "image/png": "[encoded data removed]",
      "text/plain": [
       "<Figure size 432x288 with 1 Axes>"
      ]
     },
     "metadata": {
      "needs_background": "light"
     },
     "output_type": "display_data"
    }
   ],
   "source": [
    "# создаем сводную таблицу:\n",
    "pivot_table_center_center = df_piter_center.pivot_table(index='cityCenters_nearest', values='price_of_meter', aggfunc='median')\n",
    "\n",
    "# сторим график:\n",
    "pivot_table_center_center.plot(y='price_of_meter')\n",
    "\n",
    "# сортируем:\n",
    "display(pivot_table_center_center.sort_values('price_of_meter', ascending=False).head(20))\n",
    "\n",
    "# ищем линейную корреляцию:\n",
    "df_piter_center['cityCenters_nearest'].corr(df_piter_center['price_of_meter'])"
   ]
  },
  {
   "cell_type": "markdown",
   "metadata": {},
   "source": [
    "Ожидаемо нет никаких отличий, так как данные идентичны, только ограничены девятью километрами. Хотя линейная корреляция 15% против 32% общей выборки - зависимость в два раза меньше. \n",
    "\n",
    "Зависимость цены от даты размещения - дня недели:"
   ]
  },
  {
   "cell_type": "code",
   "execution_count": 59,
   "metadata": {},
   "outputs": [
    {
     "data": {
      "text/html": [
       "<div>\n",
       "<style scoped>\n",
       "    .dataframe tbody tr th:only-of-type {\n",
       "        vertical-align: middle;\n",
       "    }\n",
       "\n",
       "    .dataframe tbody tr th {\n",
       "        vertical-align: top;\n",
       "    }\n",
       "\n",
       "    .dataframe thead th {\n",
       "        text-align: right;\n",
       "    }\n",
       "</style>\n",
       "<table border=\"1\" class=\"dataframe\">\n",
       "  <thead>\n",
       "    <tr style=\"text-align: right;\">\n",
       "      <th></th>\n",
       "      <th>count</th>\n",
       "      <th>median</th>\n",
       "    </tr>\n",
       "    <tr>\n",
       "      <th>weekday_exposition</th>\n",
       "      <th></th>\n",
       "      <th></th>\n",
       "    </tr>\n",
       "  </thead>\n",
       "  <tbody>\n",
       "    <tr>\n",
       "      <td>6</td>\n",
       "      <td>318</td>\n",
       "      <td>123118.0</td>\n",
       "    </tr>\n",
       "    <tr>\n",
       "      <td>5</td>\n",
       "      <td>376</td>\n",
       "      <td>121144.5</td>\n",
       "    </tr>\n",
       "    <tr>\n",
       "      <td>0</td>\n",
       "      <td>781</td>\n",
       "      <td>119354.0</td>\n",
       "    </tr>\n",
       "    <tr>\n",
       "      <td>2</td>\n",
       "      <td>861</td>\n",
       "      <td>118364.0</td>\n",
       "    </tr>\n",
       "    <tr>\n",
       "      <td>4</td>\n",
       "      <td>853</td>\n",
       "      <td>117968.0</td>\n",
       "    </tr>\n",
       "    <tr>\n",
       "      <td>3</td>\n",
       "      <td>1017</td>\n",
       "      <td>117142.0</td>\n",
       "    </tr>\n",
       "    <tr>\n",
       "      <td>1</td>\n",
       "      <td>891</td>\n",
       "      <td>116788.0</td>\n",
       "    </tr>\n",
       "  </tbody>\n",
       "</table>\n",
       "</div>"
      ],
      "text/plain": [
       "                    count    median\n",
       "weekday_exposition                 \n",
       "6                     318  123118.0\n",
       "5                     376  121144.5\n",
       "0                     781  119354.0\n",
       "2                     861  118364.0\n",
       "4                     853  117968.0\n",
       "3                    1017  117142.0\n",
       "1                     891  116788.0"
      ]
     },
     "metadata": {},
     "output_type": "display_data"
    },
    {
     "data": {
      "text/plain": [
       "0.006980149144354144"
      ]
     },
     "execution_count": 59,
     "metadata": {},
     "output_type": "execute_result"
    },
    {
     "data": {
      "image/png": "[encoded data removed]",
      "text/plain": [
       "<Figure size 432x288 with 1 Axes>"
      ]
     },
     "metadata": {
      "needs_background": "light"
     },
     "output_type": "display_data"
    }
   ],
   "source": [
    "# создаем сводную таблицу:\n",
    "pivot_table_weekday_center = df_piter_center.pivot_table(index='weekday_exposition', values='price_of_meter', aggfunc=['count', 'median'])\n",
    "\n",
    "# избавляемся от мультииндекса в названии колонок:\n",
    "pivot_table_weekday_center.columns = ['count', 'median']\n",
    "\n",
    "# строим график:\n",
    "pivot_table_weekday_center.plot(y='median')\n",
    "\n",
    "# для наглядности еще и отсортируем таблицу по стоимости:\n",
    "display(pivot_table_weekday_center.sort_values('median', ascending = False))\n",
    "\n",
    "# ну и найдем корреляцию:\n",
    "df_piter_center['weekday_exposition'].corr(df_piter_center['price_of_meter'])"
   ]
  },
  {
   "cell_type": "markdown",
   "metadata": {},
   "source": [
    "Здесь в отличие от общей выборки самые дорогие объявления размещены в выходные, особенно в вокресенье. Самые низкие цены во вторник. Графики практически противоположны. Неужели все в выходные хотят больше заработать?\n",
    "\n",
    "Зависимость цены от даты размещения - месяца:"
   ]
  },
  {
   "cell_type": "code",
   "execution_count": 60,
   "metadata": {},
   "outputs": [
    {
     "data": {
      "text/html": [
       "<div>\n",
       "<style scoped>\n",
       "    .dataframe tbody tr th:only-of-type {\n",
       "        vertical-align: middle;\n",
       "    }\n",
       "\n",
       "    .dataframe tbody tr th {\n",
       "        vertical-align: top;\n",
       "    }\n",
       "\n",
       "    .dataframe thead th {\n",
       "        text-align: right;\n",
       "    }\n",
       "</style>\n",
       "<table border=\"1\" class=\"dataframe\">\n",
       "  <thead>\n",
       "    <tr style=\"text-align: right;\">\n",
       "      <th></th>\n",
       "      <th>count</th>\n",
       "      <th>median</th>\n",
       "    </tr>\n",
       "    <tr>\n",
       "      <th>month_exposition</th>\n",
       "      <th></th>\n",
       "      <th></th>\n",
       "    </tr>\n",
       "  </thead>\n",
       "  <tbody>\n",
       "    <tr>\n",
       "      <td>8</td>\n",
       "      <td>373</td>\n",
       "      <td>123584.0</td>\n",
       "    </tr>\n",
       "    <tr>\n",
       "      <td>3</td>\n",
       "      <td>561</td>\n",
       "      <td>123110.0</td>\n",
       "    </tr>\n",
       "    <tr>\n",
       "      <td>9</td>\n",
       "      <td>431</td>\n",
       "      <td>120444.0</td>\n",
       "    </tr>\n",
       "    <tr>\n",
       "      <td>1</td>\n",
       "      <td>321</td>\n",
       "      <td>119607.0</td>\n",
       "    </tr>\n",
       "    <tr>\n",
       "      <td>11</td>\n",
       "      <td>480</td>\n",
       "      <td>119491.0</td>\n",
       "    </tr>\n",
       "    <tr>\n",
       "      <td>10</td>\n",
       "      <td>437</td>\n",
       "      <td>118625.0</td>\n",
       "    </tr>\n",
       "    <tr>\n",
       "      <td>12</td>\n",
       "      <td>339</td>\n",
       "      <td>118333.0</td>\n",
       "    </tr>\n",
       "    <tr>\n",
       "      <td>4</td>\n",
       "      <td>497</td>\n",
       "      <td>117567.0</td>\n",
       "    </tr>\n",
       "    <tr>\n",
       "      <td>7</td>\n",
       "      <td>399</td>\n",
       "      <td>116753.0</td>\n",
       "    </tr>\n",
       "    <tr>\n",
       "      <td>5</td>\n",
       "      <td>304</td>\n",
       "      <td>115767.0</td>\n",
       "    </tr>\n",
       "    <tr>\n",
       "      <td>2</td>\n",
       "      <td>563</td>\n",
       "      <td>115151.0</td>\n",
       "    </tr>\n",
       "    <tr>\n",
       "      <td>6</td>\n",
       "      <td>392</td>\n",
       "      <td>114816.5</td>\n",
       "    </tr>\n",
       "  </tbody>\n",
       "</table>\n",
       "</div>"
      ],
      "text/plain": [
       "                  count    median\n",
       "month_exposition                 \n",
       "8                   373  123584.0\n",
       "3                   561  123110.0\n",
       "9                   431  120444.0\n",
       "1                   321  119607.0\n",
       "11                  480  119491.0\n",
       "10                  437  118625.0\n",
       "12                  339  118333.0\n",
       "4                   497  117567.0\n",
       "7                   399  116753.0\n",
       "5                   304  115767.0\n",
       "2                   563  115151.0\n",
       "6                   392  114816.5"
      ]
     },
     "metadata": {},
     "output_type": "display_data"
    },
    {
     "data": {
      "image/png": "[encoded data removed]",
      "text/plain": [
       "<Figure size 432x288 with 1 Axes>"
      ]
     },
     "metadata": {
      "needs_background": "light"
     },
     "output_type": "display_data"
    }
   ],
   "source": [
    "# создаем сводную таблицу:\n",
    "pivot_table_month_center = df_piter_center.pivot_table(index='month_exposition', values='price_of_meter', aggfunc=['count', 'median'])\n",
    "\n",
    "# избавляемся от мультииндекса в названии колонок:\n",
    "pivot_table_month_center.columns = ['count', 'median']\n",
    "\n",
    "# строим график:\n",
    "pivot_table_month_center.plot(y='median', grid=True)\n",
    "\n",
    "# для наглядности еще и отсортируем таблицу по стоимости:\n",
    "display(pivot_table_month_center.sort_values('median', ascending = False))"
   ]
  },
  {
   "cell_type": "markdown",
   "metadata": {},
   "source": [
    "Есть небольшое сходство, зимой и летом самые дешевые квартиры. Однако самые дорогие не весной, в конце лета, в отличие от общей выборки. Тут видимо логика другая - сначала все потратить летом, а осенью заработать на продаже квартиры. Хотя весенние цены (марта) не сильно отстают от августовских. \n",
    "\n",
    "Зависимость цены от даты размещения - года:"
   ]
  },
  {
   "cell_type": "code",
   "execution_count": 61,
   "metadata": {},
   "outputs": [
    {
     "data": {
      "text/html": [
       "<div>\n",
       "<style scoped>\n",
       "    .dataframe tbody tr th:only-of-type {\n",
       "        vertical-align: middle;\n",
       "    }\n",
       "\n",
       "    .dataframe tbody tr th {\n",
       "        vertical-align: top;\n",
       "    }\n",
       "\n",
       "    .dataframe thead th {\n",
       "        text-align: right;\n",
       "    }\n",
       "</style>\n",
       "<table border=\"1\" class=\"dataframe\">\n",
       "  <thead>\n",
       "    <tr style=\"text-align: right;\">\n",
       "      <th></th>\n",
       "      <th>count</th>\n",
       "      <th>median</th>\n",
       "    </tr>\n",
       "    <tr>\n",
       "      <th>year_exposition</th>\n",
       "      <th></th>\n",
       "      <th></th>\n",
       "    </tr>\n",
       "  </thead>\n",
       "  <tbody>\n",
       "    <tr>\n",
       "      <td>2014</td>\n",
       "      <td>41</td>\n",
       "      <td>141630.0</td>\n",
       "    </tr>\n",
       "    <tr>\n",
       "      <td>2019</td>\n",
       "      <td>584</td>\n",
       "      <td>128579.0</td>\n",
       "    </tr>\n",
       "    <tr>\n",
       "      <td>2018</td>\n",
       "      <td>1610</td>\n",
       "      <td>119276.5</td>\n",
       "    </tr>\n",
       "    <tr>\n",
       "      <td>2017</td>\n",
       "      <td>1761</td>\n",
       "      <td>116119.0</td>\n",
       "    </tr>\n",
       "    <tr>\n",
       "      <td>2015</td>\n",
       "      <td>409</td>\n",
       "      <td>115000.0</td>\n",
       "    </tr>\n",
       "    <tr>\n",
       "      <td>2016</td>\n",
       "      <td>692</td>\n",
       "      <td>114441.0</td>\n",
       "    </tr>\n",
       "  </tbody>\n",
       "</table>\n",
       "</div>"
      ],
      "text/plain": [
       "                 count    median\n",
       "year_exposition                 \n",
       "2014                41  141630.0\n",
       "2019               584  128579.0\n",
       "2018              1610  119276.5\n",
       "2017              1761  116119.0\n",
       "2015               409  115000.0\n",
       "2016               692  114441.0"
      ]
     },
     "metadata": {},
     "output_type": "display_data"
    },
    {
     "data": {
      "image/png": "[encoded data removed]",
      "text/plain": [
       "<Figure size 432x288 with 1 Axes>"
      ]
     },
     "metadata": {
      "needs_background": "light"
     },
     "output_type": "display_data"
    }
   ],
   "source": [
    "# создаем сводную таблицу:\n",
    "pivot_table_year_center = df_piter_center.pivot_table(index='year_exposition', values='price_of_meter', aggfunc=['count', 'median'])\n",
    "\n",
    "# избавляемся от мультииндекса в названии колонок:\n",
    "pivot_table_year_center.columns = ['count', 'median']\n",
    "\n",
    "# строим график:\n",
    "pivot_table_year_center.plot(y='median', grid=True)\n",
    "\n",
    "# для наглядности еще и отсортируем таблицу по стоимости:\n",
    "display(pivot_table_year_center.sort_values('median', ascending = False))"
   ]
  },
  {
   "cell_type": "markdown",
   "metadata": {},
   "source": [
    "На графике можно заметить более резкое падение цен в 2015 году, в отличие от общей выборки, а затем планый рост. "
   ]
  },
  {
   "cell_type": "markdown",
   "metadata": {},
   "source": [
    "## Общий вывод"
   ]
  },
  {
   "cell_type": "markdown",
   "metadata": {},
   "source": [
    "Мы обработали массив данных, заменили пропуски где это было необходимо, заменили типы данных для дальнейшей работы с ними. Вывели день недели, месяц и год в отдельные столбцы. \n",
    "\n",
    "Изучая время продажи квартир, мы нашли выбивающиеся значения, которые говорили не о продаже квартир, а об автоматическом снятии объявления  с продажи, поэтому мы исклюючили эти данные из анализа. Среднее значение сроков продажи квартиры составило 196 дней, медиана 114 дней. Нормальное распределение согласно квартилям находится в диапазоне от 44 до 259 дней.\n",
    "\n",
    "Во время поиска закономерностей цены мы выяснили, что в центре стоимость жилья выше чем на окраине. Центр Питера по нашим данным можно считать площадь с радиусом в 9 километров. Также на стоимость квартиры влияет количество комнат - чем меньше комнат, тем выше стоимость квадратнго метра. Чем выше потолок, ближе к центру, тем также выше стоимость. Зависимость цены от даты размещения есть, но корреляция невелика, и поэтому нет особой разницы в стоимости квартир. Данные по всей выборке и по центру Питера почти везде схожи, кроме стоимости в зависимости от дня недели и месяца размещения - в центре Питера самые дорогие объявления в воскресенье, в августе, в то время как в общей своей массе самые дорогие объявления во вторник, в июне. Самые дешевые в центре во вторник в июне, в то время как в общей массе объявления дешевели к субботе. Зависимость от года продажи схожа, только в 2015 году в центре цены упали сильнее чем в целом по всей Ленинградской области. \n",
    "\n",
    "P.S.\n",
    "\n",
    "Проект делал нестабильно из-за предновогодней суеты и завала на работе. Уверен в следующий раз будет более органично и красиво. С Новым Годом! :=)"
   ]
  },
  {
   "cell_type": "markdown",
   "metadata": {},
   "source": [
    "## Чек-лист готовности проекта\n",
    "\n",
    "Поставьте 'x' в выполненных пунктах. Далее нажмите Shift+Enter."
   ]
  },
  {
   "cell_type": "markdown",
   "metadata": {},
   "source": [
    "- [x]  открыт файл\n",
    "- [x]  файлы изучены (выведены первые строки, метод info())\n",
    "- [x]  определены пропущенные значения\n",
    "- [x]  заполнены пропущенные значения\n",
    "- [x]  есть пояснение, какие пропущенные значения обнаружены\n",
    "- [x]  изменены типы данных\n",
    "- [x]  есть пояснение, в каких столбцах изменены типы и почему\n",
    "- [x]  посчитано и добавлено в таблицу: цена квадратного метра\n",
    "- [x]  посчитано и добавлено в таблицу: день недели, месяц и год публикации объявления\n",
    "- [x]  посчитано и добавлено в таблицу: этаж квартиры; варианты — первый, последний, другой\n",
    "- [x]  посчитано и добавлено в таблицу: соотношение жилой и общей площади, а также отношение площади кухни к общей\n",
    "- [x]  изучены следующие параметры: площадь, цена, число комнат, высота потолков\n",
    "- [x]  построены гистограммы для каждого параметра\n",
    "- [x]  выполнено задание: \"Изучите время продажи квартиры. Постройте гистограмму. Посчитайте среднее и медиану. Опишите, сколько обычно занимает продажа. Когда можно считать, что продажи прошли очень быстро, а когда необычно долго?\"\n",
    "- [x]  выполнено задание: \"Уберите редкие и выбивающиеся значения. Опишите, какие особенности обнаружили.\"\n",
    "- [x]  выполнено задание: \"Какие факторы больше всего влияют на стоимость квартиры? Изучите, зависит ли цена от квадратного метра, числа комнат, этажа (первого или последнего), удалённости от центра. Также изучите зависимость от даты размещения: дня недели, месяца и года. \"Выберите 10 населённых пунктов с наибольшим числом объявлений. Посчитайте среднюю цену квадратного метра в этих населённых пунктах. Выделите населённые пункты с самой высокой и низкой стоимостью жилья. Эти данные можно найти по имени в столбце '*locality_name'*. \"\n",
    "- [x]  выполнено задание: \"Изучите предложения квартир: для каждой квартиры есть информация о расстоянии до центра. Выделите квартиры в Санкт-Петербурге (*'locality_name'*). Ваша задача — выяснить, какая область входит в центр. Создайте столбец с расстоянием до центра в километрах: округлите до целых значений. После этого посчитайте среднюю цену для каждого километра. Постройте график: он должен показывать, как цена зависит от удалённости от центра. Определите границу, где график сильно меняется — это и будет центральная зона. \"\n",
    "- [x]  выполнено задание: \"Выделите сегмент квартир в центре. Проанализируйте эту территорию и изучите следующие параметры: площадь, цена, число комнат, высота потолков. Также выделите факторы, которые влияют на стоимость квартиры (число комнат, этаж, удалённость от центра, дата размещения объявления). Сделайте выводы. Отличаются ли они от общих выводов по всему городу?\"\n",
    "- [x]  в каждом этапе есть выводы\n",
    "- [x]  есть общий вывод"
   ]
  },
  {
   "cell_type": "code",
   "execution_count": null,
   "metadata": {},
   "outputs": [],
   "source": []
  }
 ],
 "metadata": {
  "ExecuteTimeLog": [
   {
    "duration": 749,
    "start_time": "2021-12-15T21:46:25.070Z"
   },
   {
    "duration": 148,
    "start_time": "2021-12-15T22:01:41.428Z"
   },
   {
    "duration": 355,
    "start_time": "2021-12-15T22:03:28.665Z"
   },
   {
    "duration": 345,
    "start_time": "2021-12-18T12:24:55.236Z"
   },
   {
    "duration": 730,
    "start_time": "2021-12-18T12:24:59.980Z"
   },
   {
    "duration": 29,
    "start_time": "2021-12-18T12:25:00.712Z"
   },
   {
    "duration": 7543,
    "start_time": "2021-12-18T12:30:49.297Z"
   },
   {
    "duration": 28,
    "start_time": "2021-12-18T12:42:56.973Z"
   },
   {
    "duration": 26,
    "start_time": "2021-12-18T12:43:34.854Z"
   },
   {
    "duration": 7,
    "start_time": "2021-12-18T12:44:22.702Z"
   },
   {
    "duration": 5,
    "start_time": "2021-12-18T12:59:55.452Z"
   },
   {
    "duration": 6,
    "start_time": "2021-12-18T13:00:10.385Z"
   },
   {
    "duration": 131,
    "start_time": "2021-12-18T17:55:35.369Z"
   },
   {
    "duration": 400,
    "start_time": "2021-12-18T17:56:06.289Z"
   },
   {
    "duration": 918,
    "start_time": "2021-12-18T17:56:12.354Z"
   },
   {
    "duration": 37,
    "start_time": "2021-12-18T17:56:13.275Z"
   },
   {
    "duration": 357,
    "start_time": "2021-12-18T17:56:13.315Z"
   },
   {
    "duration": 9,
    "start_time": "2021-12-18T17:57:14.056Z"
   },
   {
    "duration": 130,
    "start_time": "2021-12-18T18:10:28.077Z"
   },
   {
    "duration": 5,
    "start_time": "2021-12-18T18:19:04.177Z"
   },
   {
    "duration": 129,
    "start_time": "2021-12-18T18:21:47.787Z"
   },
   {
    "duration": 319,
    "start_time": "2021-12-18T18:21:57.923Z"
   },
   {
    "duration": 368,
    "start_time": "2021-12-18T18:22:26.352Z"
   },
   {
    "duration": 6,
    "start_time": "2021-12-18T18:22:38.890Z"
   },
   {
    "duration": 56,
    "start_time": "2021-12-18T20:12:27.346Z"
   },
   {
    "duration": 36,
    "start_time": "2021-12-18T20:12:43.789Z"
   },
   {
    "duration": 54,
    "start_time": "2021-12-18T20:13:33.430Z"
   },
   {
    "duration": 42,
    "start_time": "2021-12-18T20:15:03.924Z"
   },
   {
    "duration": 42,
    "start_time": "2021-12-18T20:30:00.872Z"
   },
   {
    "duration": 399,
    "start_time": "2021-12-18T20:31:57.635Z"
   },
   {
    "duration": 6,
    "start_time": "2021-12-18T20:44:55.654Z"
   },
   {
    "duration": 5,
    "start_time": "2021-12-18T20:45:42.481Z"
   },
   {
    "duration": 450,
    "start_time": "2021-12-18T20:47:30.613Z"
   },
   {
    "duration": 9,
    "start_time": "2021-12-18T20:47:37.770Z"
   },
   {
    "duration": 8,
    "start_time": "2021-12-18T20:48:30.030Z"
   },
   {
    "duration": 8,
    "start_time": "2021-12-18T20:48:52.036Z"
   },
   {
    "duration": 8,
    "start_time": "2021-12-18T20:49:02.312Z"
   },
   {
    "duration": 7,
    "start_time": "2021-12-18T20:49:05.485Z"
   },
   {
    "duration": 128,
    "start_time": "2021-12-18T20:49:10.300Z"
   },
   {
    "duration": 50,
    "start_time": "2021-12-18T20:49:10.431Z"
   },
   {
    "duration": 5,
    "start_time": "2021-12-18T20:49:10.484Z"
   },
   {
    "duration": 9,
    "start_time": "2021-12-18T20:49:10.492Z"
   },
   {
    "duration": 66,
    "start_time": "2021-12-18T20:49:10.504Z"
   },
   {
    "duration": 8,
    "start_time": "2021-12-18T20:49:10.572Z"
   },
   {
    "duration": 9,
    "start_time": "2021-12-18T20:49:10.582Z"
   },
   {
    "duration": 8,
    "start_time": "2021-12-18T20:51:10.244Z"
   },
   {
    "duration": 8,
    "start_time": "2021-12-18T20:51:14.129Z"
   },
   {
    "duration": 8,
    "start_time": "2021-12-18T20:52:39.817Z"
   },
   {
    "duration": 7,
    "start_time": "2021-12-18T20:54:04.603Z"
   },
   {
    "duration": 78,
    "start_time": "2021-12-18T20:57:35.843Z"
   },
   {
    "duration": 40,
    "start_time": "2021-12-18T20:57:55.918Z"
   },
   {
    "duration": 10,
    "start_time": "2021-12-18T21:05:12.430Z"
   },
   {
    "duration": 10,
    "start_time": "2021-12-18T21:08:02.914Z"
   },
   {
    "duration": 7,
    "start_time": "2021-12-18T21:08:22.548Z"
   },
   {
    "duration": 7,
    "start_time": "2021-12-18T21:08:54.381Z"
   },
   {
    "duration": 6,
    "start_time": "2021-12-18T21:11:38.108Z"
   },
   {
    "duration": 125,
    "start_time": "2021-12-18T21:16:50.684Z"
   },
   {
    "duration": 2530,
    "start_time": "2021-12-18T21:17:33.412Z"
   },
   {
    "duration": 15,
    "start_time": "2021-12-18T21:18:38.912Z"
   },
   {
    "duration": 21,
    "start_time": "2021-12-18T21:18:59.103Z"
   },
   {
    "duration": 9,
    "start_time": "2021-12-18T21:19:21.240Z"
   },
   {
    "duration": 5,
    "start_time": "2021-12-18T21:22:21.799Z"
   },
   {
    "duration": 112,
    "start_time": "2021-12-18T21:24:00.361Z"
   },
   {
    "duration": 75,
    "start_time": "2021-12-18T21:24:04.528Z"
   },
   {
    "duration": 60,
    "start_time": "2021-12-18T21:26:09.025Z"
   },
   {
    "duration": 61,
    "start_time": "2021-12-18T21:27:54.305Z"
   },
   {
    "duration": 62,
    "start_time": "2021-12-18T21:31:09.028Z"
   },
   {
    "duration": 57,
    "start_time": "2021-12-18T21:31:27.946Z"
   },
   {
    "duration": 56,
    "start_time": "2021-12-18T21:37:48.071Z"
   },
   {
    "duration": 652,
    "start_time": "2021-12-19T07:16:31.491Z"
   },
   {
    "duration": 25,
    "start_time": "2021-12-19T07:16:32.145Z"
   },
   {
    "duration": 4,
    "start_time": "2021-12-19T07:16:32.172Z"
   },
   {
    "duration": 20,
    "start_time": "2021-12-19T07:16:32.178Z"
   },
   {
    "duration": 25,
    "start_time": "2021-12-19T07:16:32.200Z"
   },
   {
    "duration": 6,
    "start_time": "2021-12-19T07:16:32.226Z"
   },
   {
    "duration": 7,
    "start_time": "2021-12-19T07:16:32.233Z"
   },
   {
    "duration": 61,
    "start_time": "2021-12-19T07:16:32.242Z"
   },
   {
    "duration": 9,
    "start_time": "2021-12-19T07:16:32.304Z"
   },
   {
    "duration": 4,
    "start_time": "2021-12-19T07:16:32.315Z"
   },
   {
    "duration": 31,
    "start_time": "2021-12-19T07:16:32.321Z"
   },
   {
    "duration": 5,
    "start_time": "2021-12-19T07:16:32.354Z"
   },
   {
    "duration": 30,
    "start_time": "2021-12-19T07:17:12.502Z"
   },
   {
    "duration": 49,
    "start_time": "2021-12-19T07:35:27.264Z"
   },
   {
    "duration": 46,
    "start_time": "2021-12-19T07:42:47.187Z"
   },
   {
    "duration": 11,
    "start_time": "2021-12-19T07:42:54.563Z"
   },
   {
    "duration": 26,
    "start_time": "2021-12-19T07:43:30.501Z"
   },
   {
    "duration": 14,
    "start_time": "2021-12-19T07:44:43.040Z"
   },
   {
    "duration": 6,
    "start_time": "2021-12-19T07:47:57.466Z"
   },
   {
    "duration": 6,
    "start_time": "2021-12-19T07:50:38.888Z"
   },
   {
    "duration": 30,
    "start_time": "2021-12-19T07:50:53.313Z"
   },
   {
    "duration": 32,
    "start_time": "2021-12-19T07:58:13.424Z"
   },
   {
    "duration": 37,
    "start_time": "2021-12-19T08:00:17.898Z"
   },
   {
    "duration": 48,
    "start_time": "2021-12-19T08:03:48.093Z"
   },
   {
    "duration": 32,
    "start_time": "2021-12-19T08:07:19.565Z"
   },
   {
    "duration": 3752,
    "start_time": "2021-12-19T08:13:13.018Z"
   },
   {
    "duration": 3463,
    "start_time": "2021-12-19T08:14:48.090Z"
   },
   {
    "duration": 12,
    "start_time": "2021-12-19T08:15:06.609Z"
   },
   {
    "duration": 93,
    "start_time": "2021-12-19T08:20:25.383Z"
   },
   {
    "duration": 33,
    "start_time": "2021-12-19T08:20:25.478Z"
   },
   {
    "duration": 4,
    "start_time": "2021-12-19T08:20:25.513Z"
   },
   {
    "duration": 6,
    "start_time": "2021-12-19T08:20:25.519Z"
   },
   {
    "duration": 26,
    "start_time": "2021-12-19T08:20:25.527Z"
   },
   {
    "duration": 4,
    "start_time": "2021-12-19T08:20:25.555Z"
   },
   {
    "duration": 33,
    "start_time": "2021-12-19T08:20:25.561Z"
   },
   {
    "duration": 26,
    "start_time": "2021-12-19T08:20:25.596Z"
   },
   {
    "duration": 10,
    "start_time": "2021-12-19T08:20:25.623Z"
   },
   {
    "duration": 5,
    "start_time": "2021-12-19T08:20:25.634Z"
   },
   {
    "duration": 60,
    "start_time": "2021-12-19T08:20:25.640Z"
   },
   {
    "duration": 12,
    "start_time": "2021-12-19T08:20:25.702Z"
   },
   {
    "duration": 13,
    "start_time": "2021-12-19T08:20:25.716Z"
   },
   {
    "duration": 31,
    "start_time": "2021-12-19T08:20:25.730Z"
   },
   {
    "duration": 62,
    "start_time": "2021-12-19T08:20:25.763Z"
   },
   {
    "duration": 13,
    "start_time": "2021-12-19T08:20:25.827Z"
   },
   {
    "duration": 2804,
    "start_time": "2021-12-19T08:23:43.907Z"
   },
   {
    "duration": 9064,
    "start_time": "2021-12-19T08:25:05.471Z"
   },
   {
    "duration": 9167,
    "start_time": "2021-12-19T08:28:10.329Z"
   },
   {
    "duration": 178,
    "start_time": "2021-12-19T08:31:13.559Z"
   },
   {
    "duration": 12,
    "start_time": "2021-12-19T08:49:29.381Z"
   },
   {
    "duration": 101,
    "start_time": "2021-12-19T08:49:55.715Z"
   },
   {
    "duration": 24,
    "start_time": "2021-12-19T08:49:55.818Z"
   },
   {
    "duration": 4,
    "start_time": "2021-12-19T08:49:55.844Z"
   },
   {
    "duration": 8,
    "start_time": "2021-12-19T08:49:55.850Z"
   },
   {
    "duration": 54,
    "start_time": "2021-12-19T08:49:55.859Z"
   },
   {
    "duration": 5,
    "start_time": "2021-12-19T08:49:55.915Z"
   },
   {
    "duration": 4,
    "start_time": "2021-12-19T08:49:55.922Z"
   },
   {
    "duration": 26,
    "start_time": "2021-12-19T08:49:55.929Z"
   },
   {
    "duration": 35,
    "start_time": "2021-12-19T08:49:55.957Z"
   },
   {
    "duration": 4,
    "start_time": "2021-12-19T08:49:55.994Z"
   },
   {
    "duration": 33,
    "start_time": "2021-12-19T08:49:55.999Z"
   },
   {
    "duration": 10,
    "start_time": "2021-12-19T08:49:56.034Z"
   },
   {
    "duration": 7,
    "start_time": "2021-12-19T08:49:56.046Z"
   },
   {
    "duration": 65,
    "start_time": "2021-12-19T08:49:56.055Z"
   },
   {
    "duration": 35,
    "start_time": "2021-12-19T08:49:56.122Z"
   },
   {
    "duration": 35,
    "start_time": "2021-12-19T08:49:56.159Z"
   },
   {
    "duration": 137,
    "start_time": "2021-12-19T08:53:20.324Z"
   },
   {
    "duration": 6,
    "start_time": "2021-12-19T08:57:50.247Z"
   },
   {
    "duration": 11,
    "start_time": "2021-12-19T08:58:11.051Z"
   },
   {
    "duration": 11,
    "start_time": "2021-12-19T08:59:14.743Z"
   },
   {
    "duration": 18,
    "start_time": "2021-12-19T08:59:27.721Z"
   },
   {
    "duration": 16,
    "start_time": "2021-12-19T09:01:35.715Z"
   },
   {
    "duration": 11,
    "start_time": "2021-12-19T09:01:47.790Z"
   },
   {
    "duration": 2417,
    "start_time": "2021-12-19T09:02:22.330Z"
   },
   {
    "duration": 301,
    "start_time": "2021-12-19T09:03:09.511Z"
   },
   {
    "duration": 11,
    "start_time": "2021-12-19T09:03:49.303Z"
   },
   {
    "duration": 11,
    "start_time": "2021-12-19T09:04:02.509Z"
   },
   {
    "duration": 6,
    "start_time": "2021-12-19T09:05:02.923Z"
   },
   {
    "duration": 6,
    "start_time": "2021-12-19T09:06:56.605Z"
   },
   {
    "duration": 7,
    "start_time": "2021-12-19T09:08:05.510Z"
   },
   {
    "duration": 6,
    "start_time": "2021-12-19T09:08:14.714Z"
   },
   {
    "duration": 6,
    "start_time": "2021-12-19T09:08:21.573Z"
   },
   {
    "duration": 13,
    "start_time": "2021-12-19T09:08:40.910Z"
   },
   {
    "duration": 6,
    "start_time": "2021-12-19T09:10:13.897Z"
   },
   {
    "duration": 6,
    "start_time": "2021-12-19T09:10:24.179Z"
   },
   {
    "duration": 6,
    "start_time": "2021-12-19T09:10:30.375Z"
   },
   {
    "duration": 7,
    "start_time": "2021-12-19T09:10:34.037Z"
   },
   {
    "duration": 6,
    "start_time": "2021-12-19T09:10:37.864Z"
   },
   {
    "duration": 6,
    "start_time": "2021-12-19T09:10:41.288Z"
   },
   {
    "duration": 5,
    "start_time": "2021-12-19T09:10:58.269Z"
   },
   {
    "duration": 12,
    "start_time": "2021-12-19T09:11:31.486Z"
   },
   {
    "duration": 134,
    "start_time": "2021-12-19T09:13:24.391Z"
   },
   {
    "duration": 53,
    "start_time": "2021-12-19T09:13:55.968Z"
   },
   {
    "duration": 67,
    "start_time": "2021-12-19T09:14:20.463Z"
   },
   {
    "duration": 40,
    "start_time": "2021-12-19T09:15:06.402Z"
   },
   {
    "duration": 144,
    "start_time": "2021-12-19T09:15:23.054Z"
   },
   {
    "duration": 52,
    "start_time": "2021-12-19T09:15:52.950Z"
   },
   {
    "duration": 16,
    "start_time": "2021-12-19T09:16:13.802Z"
   },
   {
    "duration": 91,
    "start_time": "2021-12-19T09:16:47.529Z"
   },
   {
    "duration": 23,
    "start_time": "2021-12-19T09:16:47.622Z"
   },
   {
    "duration": 3,
    "start_time": "2021-12-19T09:16:47.647Z"
   },
   {
    "duration": 7,
    "start_time": "2021-12-19T09:16:47.653Z"
   },
   {
    "duration": 61,
    "start_time": "2021-12-19T09:16:47.662Z"
   },
   {
    "duration": 6,
    "start_time": "2021-12-19T09:16:47.724Z"
   },
   {
    "duration": 5,
    "start_time": "2021-12-19T09:16:47.731Z"
   },
   {
    "duration": 28,
    "start_time": "2021-12-19T09:16:47.738Z"
   },
   {
    "duration": 30,
    "start_time": "2021-12-19T09:16:47.768Z"
   },
   {
    "duration": 4,
    "start_time": "2021-12-19T09:16:47.800Z"
   },
   {
    "duration": 37,
    "start_time": "2021-12-19T09:16:47.806Z"
   },
   {
    "duration": 9,
    "start_time": "2021-12-19T09:16:47.845Z"
   },
   {
    "duration": 35,
    "start_time": "2021-12-19T09:16:47.856Z"
   },
   {
    "duration": 30,
    "start_time": "2021-12-19T09:16:47.893Z"
   },
   {
    "duration": 33,
    "start_time": "2021-12-19T09:16:47.924Z"
   },
   {
    "duration": 4,
    "start_time": "2021-12-19T09:16:47.958Z"
   },
   {
    "duration": 17,
    "start_time": "2021-12-19T09:18:17.433Z"
   },
   {
    "duration": 11,
    "start_time": "2021-12-19T09:18:28.147Z"
   },
   {
    "duration": 61,
    "start_time": "2021-12-19T09:18:43.715Z"
   },
   {
    "duration": 14,
    "start_time": "2021-12-19T09:19:32.933Z"
   },
   {
    "duration": 137,
    "start_time": "2021-12-19T09:20:15.878Z"
   },
   {
    "duration": 15,
    "start_time": "2021-12-19T09:20:22.542Z"
   },
   {
    "duration": 12,
    "start_time": "2021-12-19T09:20:34.056Z"
   },
   {
    "duration": 6,
    "start_time": "2021-12-19T09:38:11.538Z"
   },
   {
    "duration": 177,
    "start_time": "2021-12-19T10:10:44.884Z"
   },
   {
    "duration": 10,
    "start_time": "2021-12-19T10:19:41.928Z"
   },
   {
    "duration": 22,
    "start_time": "2021-12-19T10:25:17.003Z"
   },
   {
    "duration": 41,
    "start_time": "2021-12-19T10:25:31.914Z"
   },
   {
    "duration": 34,
    "start_time": "2021-12-19T10:27:10.509Z"
   },
   {
    "duration": 790,
    "start_time": "2021-12-19T10:42:12.092Z"
   },
   {
    "duration": 9,
    "start_time": "2021-12-19T10:42:26.220Z"
   },
   {
    "duration": 22,
    "start_time": "2021-12-19T10:42:46.008Z"
   },
   {
    "duration": 47,
    "start_time": "2021-12-19T10:42:56.036Z"
   },
   {
    "duration": 38,
    "start_time": "2021-12-19T10:44:09.664Z"
   },
   {
    "duration": 6,
    "start_time": "2021-12-19T10:49:01.526Z"
   },
   {
    "duration": 5,
    "start_time": "2021-12-19T10:49:25.841Z"
   },
   {
    "duration": 19,
    "start_time": "2021-12-19T10:50:40.662Z"
   },
   {
    "duration": 167,
    "start_time": "2021-12-19T10:51:41.137Z"
   },
   {
    "duration": 7,
    "start_time": "2021-12-19T10:51:58.400Z"
   },
   {
    "duration": 4,
    "start_time": "2021-12-19T10:52:25.508Z"
   },
   {
    "duration": 30,
    "start_time": "2021-12-19T10:53:55.895Z"
   },
   {
    "duration": 9,
    "start_time": "2021-12-19T11:06:36.717Z"
   },
   {
    "duration": 24,
    "start_time": "2021-12-19T11:06:59.635Z"
   },
   {
    "duration": 33,
    "start_time": "2021-12-19T11:07:16.812Z"
   },
   {
    "duration": 32,
    "start_time": "2021-12-19T11:08:27.012Z"
   },
   {
    "duration": 24,
    "start_time": "2021-12-19T11:08:35.961Z"
   },
   {
    "duration": 7,
    "start_time": "2021-12-19T11:31:59.389Z"
   },
   {
    "duration": 46,
    "start_time": "2021-12-19T11:39:23.813Z"
   },
   {
    "duration": 35,
    "start_time": "2021-12-19T11:43:21.335Z"
   },
   {
    "duration": 36,
    "start_time": "2021-12-19T11:43:30.221Z"
   },
   {
    "duration": 31,
    "start_time": "2021-12-19T11:44:01.629Z"
   },
   {
    "duration": 5,
    "start_time": "2021-12-19T11:49:34.604Z"
   },
   {
    "duration": 8,
    "start_time": "2021-12-19T12:06:48.268Z"
   },
   {
    "duration": 6,
    "start_time": "2021-12-19T12:07:57.349Z"
   },
   {
    "duration": 6,
    "start_time": "2021-12-19T12:09:10.497Z"
   },
   {
    "duration": 9,
    "start_time": "2021-12-19T12:09:21.253Z"
   },
   {
    "duration": 6,
    "start_time": "2021-12-19T12:13:08.332Z"
   },
   {
    "duration": 42,
    "start_time": "2021-12-19T12:13:31.011Z"
   },
   {
    "duration": 7,
    "start_time": "2021-12-19T12:15:10.835Z"
   },
   {
    "duration": 125,
    "start_time": "2021-12-19T12:16:45.246Z"
   },
   {
    "duration": 8,
    "start_time": "2021-12-19T12:16:50.389Z"
   },
   {
    "duration": 8,
    "start_time": "2021-12-19T12:22:25.712Z"
   },
   {
    "duration": 8,
    "start_time": "2021-12-19T12:23:24.077Z"
   },
   {
    "duration": 111,
    "start_time": "2021-12-19T12:23:30.683Z"
   },
   {
    "duration": 23,
    "start_time": "2021-12-19T12:23:30.796Z"
   },
   {
    "duration": 4,
    "start_time": "2021-12-19T12:23:30.821Z"
   },
   {
    "duration": 14,
    "start_time": "2021-12-19T12:23:30.826Z"
   },
   {
    "duration": 52,
    "start_time": "2021-12-19T12:23:30.841Z"
   },
   {
    "duration": 6,
    "start_time": "2021-12-19T12:23:30.894Z"
   },
   {
    "duration": 20,
    "start_time": "2021-12-19T12:23:30.901Z"
   },
   {
    "duration": 33,
    "start_time": "2021-12-19T12:23:30.923Z"
   },
   {
    "duration": 10,
    "start_time": "2021-12-19T12:23:30.958Z"
   },
   {
    "duration": 8,
    "start_time": "2021-12-19T12:23:30.969Z"
   },
   {
    "duration": 43,
    "start_time": "2021-12-19T12:23:30.979Z"
   },
   {
    "duration": 11,
    "start_time": "2021-12-19T12:23:31.023Z"
   },
   {
    "duration": 6,
    "start_time": "2021-12-19T12:23:31.036Z"
   },
   {
    "duration": 50,
    "start_time": "2021-12-19T12:23:31.043Z"
   },
   {
    "duration": 37,
    "start_time": "2021-12-19T12:23:31.094Z"
   },
   {
    "duration": 12,
    "start_time": "2021-12-19T12:23:31.132Z"
   },
   {
    "duration": 63,
    "start_time": "2021-12-19T12:23:31.146Z"
   },
   {
    "duration": 25,
    "start_time": "2021-12-19T12:23:31.211Z"
   },
   {
    "duration": 5,
    "start_time": "2021-12-19T12:23:31.237Z"
   },
   {
    "duration": 57,
    "start_time": "2021-12-19T12:23:31.244Z"
   },
   {
    "duration": 7,
    "start_time": "2021-12-19T12:23:31.303Z"
   },
   {
    "duration": 8,
    "start_time": "2021-12-19T12:24:08.413Z"
   },
   {
    "duration": 36,
    "start_time": "2021-12-19T12:24:52.131Z"
   },
   {
    "duration": 43,
    "start_time": "2021-12-19T12:29:51.367Z"
   },
   {
    "duration": 94,
    "start_time": "2021-12-19T12:30:14.819Z"
   },
   {
    "duration": 21,
    "start_time": "2021-12-19T12:30:14.915Z"
   },
   {
    "duration": 4,
    "start_time": "2021-12-19T12:30:14.938Z"
   },
   {
    "duration": 6,
    "start_time": "2021-12-19T12:30:14.944Z"
   },
   {
    "duration": 52,
    "start_time": "2021-12-19T12:30:14.951Z"
   },
   {
    "duration": 6,
    "start_time": "2021-12-19T12:30:15.005Z"
   },
   {
    "duration": 16,
    "start_time": "2021-12-19T12:30:15.013Z"
   },
   {
    "duration": 26,
    "start_time": "2021-12-19T12:30:15.031Z"
   },
   {
    "duration": 9,
    "start_time": "2021-12-19T12:30:15.060Z"
   },
   {
    "duration": 21,
    "start_time": "2021-12-19T12:30:15.071Z"
   },
   {
    "duration": 33,
    "start_time": "2021-12-19T12:30:15.095Z"
   },
   {
    "duration": 11,
    "start_time": "2021-12-19T12:30:15.130Z"
   },
   {
    "duration": 6,
    "start_time": "2021-12-19T12:30:15.142Z"
   },
   {
    "duration": 60,
    "start_time": "2021-12-19T12:30:15.150Z"
   },
   {
    "duration": 34,
    "start_time": "2021-12-19T12:30:15.212Z"
   },
   {
    "duration": 12,
    "start_time": "2021-12-19T12:30:15.248Z"
   },
   {
    "duration": 61,
    "start_time": "2021-12-19T12:30:15.261Z"
   },
   {
    "duration": 24,
    "start_time": "2021-12-19T12:30:15.323Z"
   },
   {
    "duration": 5,
    "start_time": "2021-12-19T12:30:15.348Z"
   },
   {
    "duration": 56,
    "start_time": "2021-12-19T12:30:15.354Z"
   },
   {
    "duration": 30,
    "start_time": "2021-12-19T12:30:15.412Z"
   },
   {
    "duration": 31,
    "start_time": "2021-12-19T12:30:34.360Z"
   },
   {
    "duration": 34,
    "start_time": "2021-12-19T12:34:46.994Z"
   },
   {
    "duration": 10,
    "start_time": "2021-12-19T12:35:22.377Z"
   },
   {
    "duration": 4,
    "start_time": "2021-12-19T12:37:10.762Z"
   },
   {
    "duration": 13,
    "start_time": "2021-12-19T12:44:04.313Z"
   },
   {
    "duration": 10,
    "start_time": "2021-12-19T12:44:57.448Z"
   },
   {
    "duration": 95,
    "start_time": "2021-12-19T12:46:12.474Z"
   },
   {
    "duration": 39,
    "start_time": "2021-12-19T12:46:12.570Z"
   },
   {
    "duration": 3,
    "start_time": "2021-12-19T12:46:12.611Z"
   },
   {
    "duration": 8,
    "start_time": "2021-12-19T12:46:12.616Z"
   },
   {
    "duration": 26,
    "start_time": "2021-12-19T12:46:12.626Z"
   },
   {
    "duration": 5,
    "start_time": "2021-12-19T12:46:12.653Z"
   },
   {
    "duration": 33,
    "start_time": "2021-12-19T12:46:12.660Z"
   },
   {
    "duration": 27,
    "start_time": "2021-12-19T12:46:12.696Z"
   },
   {
    "duration": 10,
    "start_time": "2021-12-19T12:46:12.725Z"
   },
   {
    "duration": 16,
    "start_time": "2021-12-19T12:46:12.737Z"
   },
   {
    "duration": 52,
    "start_time": "2021-12-19T12:46:12.754Z"
   },
   {
    "duration": 11,
    "start_time": "2021-12-19T12:46:12.807Z"
   },
   {
    "duration": 6,
    "start_time": "2021-12-19T12:46:12.820Z"
   },
   {
    "duration": 30,
    "start_time": "2021-12-19T12:46:12.828Z"
   },
   {
    "duration": 62,
    "start_time": "2021-12-19T12:46:12.859Z"
   },
   {
    "duration": 11,
    "start_time": "2021-12-19T12:46:12.923Z"
   },
   {
    "duration": 34,
    "start_time": "2021-12-19T12:46:12.935Z"
   },
   {
    "duration": 25,
    "start_time": "2021-12-19T12:46:12.992Z"
   },
   {
    "duration": 5,
    "start_time": "2021-12-19T12:46:13.019Z"
   },
   {
    "duration": 32,
    "start_time": "2021-12-19T12:46:13.026Z"
   },
   {
    "duration": 33,
    "start_time": "2021-12-19T12:46:13.060Z"
   },
   {
    "duration": 5,
    "start_time": "2021-12-19T12:46:13.094Z"
   },
   {
    "duration": 13,
    "start_time": "2021-12-19T12:46:13.101Z"
   },
   {
    "duration": 3136,
    "start_time": "2021-12-19T12:51:03.899Z"
   },
   {
    "duration": 5,
    "start_time": "2021-12-19T12:51:12.367Z"
   },
   {
    "duration": 132,
    "start_time": "2021-12-19T14:41:42.727Z"
   },
   {
    "duration": 7,
    "start_time": "2021-12-19T14:42:06.231Z"
   },
   {
    "duration": 43,
    "start_time": "2021-12-19T14:45:32.973Z"
   },
   {
    "duration": 9,
    "start_time": "2021-12-19T14:47:47.963Z"
   },
   {
    "duration": 11,
    "start_time": "2021-12-19T14:51:24.765Z"
   },
   {
    "duration": 57,
    "start_time": "2021-12-19T14:53:22.624Z"
   },
   {
    "duration": 9,
    "start_time": "2021-12-19T14:56:31.236Z"
   },
   {
    "duration": 43,
    "start_time": "2021-12-19T14:56:39.411Z"
   },
   {
    "duration": 101,
    "start_time": "2021-12-19T14:56:58.068Z"
   },
   {
    "duration": 42,
    "start_time": "2021-12-19T14:56:58.171Z"
   },
   {
    "duration": 4,
    "start_time": "2021-12-19T14:56:58.214Z"
   },
   {
    "duration": 9,
    "start_time": "2021-12-19T14:56:58.220Z"
   },
   {
    "duration": 26,
    "start_time": "2021-12-19T14:56:58.230Z"
   },
   {
    "duration": 38,
    "start_time": "2021-12-19T14:56:58.258Z"
   },
   {
    "duration": 4,
    "start_time": "2021-12-19T14:56:58.298Z"
   },
   {
    "duration": 29,
    "start_time": "2021-12-19T14:56:58.305Z"
   },
   {
    "duration": 11,
    "start_time": "2021-12-19T14:56:58.337Z"
   },
   {
    "duration": 4,
    "start_time": "2021-12-19T14:56:58.350Z"
   },
   {
    "duration": 30,
    "start_time": "2021-12-19T14:56:58.391Z"
   },
   {
    "duration": 10,
    "start_time": "2021-12-19T14:56:58.423Z"
   },
   {
    "duration": 6,
    "start_time": "2021-12-19T14:56:58.434Z"
   },
   {
    "duration": 58,
    "start_time": "2021-12-19T14:56:58.442Z"
   },
   {
    "duration": 41,
    "start_time": "2021-12-19T14:56:58.502Z"
   },
   {
    "duration": 12,
    "start_time": "2021-12-19T14:56:58.544Z"
   },
   {
    "duration": 79,
    "start_time": "2021-12-19T14:56:58.558Z"
   },
   {
    "duration": 52,
    "start_time": "2021-12-19T14:56:58.639Z"
   },
   {
    "duration": 5,
    "start_time": "2021-12-19T14:56:58.693Z"
   },
   {
    "duration": 34,
    "start_time": "2021-12-19T14:56:58.699Z"
   },
   {
    "duration": 8,
    "start_time": "2021-12-19T14:56:58.735Z"
   },
   {
    "duration": 3,
    "start_time": "2021-12-19T14:56:58.745Z"
   },
   {
    "duration": 44,
    "start_time": "2021-12-19T14:56:58.751Z"
   },
   {
    "duration": 4,
    "start_time": "2021-12-19T14:56:58.797Z"
   },
   {
    "duration": 43,
    "start_time": "2021-12-19T14:56:58.803Z"
   },
   {
    "duration": 8,
    "start_time": "2021-12-19T14:56:58.847Z"
   },
   {
    "duration": 37,
    "start_time": "2021-12-19T14:56:58.856Z"
   },
   {
    "duration": 42,
    "start_time": "2021-12-19T14:56:58.895Z"
   },
   {
    "duration": 7,
    "start_time": "2021-12-19T14:58:40.327Z"
   },
   {
    "duration": 42,
    "start_time": "2021-12-19T14:58:44.681Z"
   },
   {
    "duration": 17,
    "start_time": "2021-12-19T15:16:53.289Z"
   },
   {
    "duration": 141,
    "start_time": "2021-12-19T15:24:49.168Z"
   },
   {
    "duration": 145,
    "start_time": "2021-12-19T15:32:00.348Z"
   },
   {
    "duration": 13,
    "start_time": "2021-12-19T15:41:28.620Z"
   },
   {
    "duration": 16,
    "start_time": "2021-12-19T15:41:39.972Z"
   },
   {
    "duration": 97,
    "start_time": "2021-12-19T15:41:49.652Z"
   },
   {
    "duration": 43,
    "start_time": "2021-12-19T15:41:49.750Z"
   },
   {
    "duration": 3,
    "start_time": "2021-12-19T15:41:49.796Z"
   },
   {
    "duration": 9,
    "start_time": "2021-12-19T15:41:49.801Z"
   },
   {
    "duration": 26,
    "start_time": "2021-12-19T15:41:49.812Z"
   },
   {
    "duration": 5,
    "start_time": "2021-12-19T15:41:49.840Z"
   },
   {
    "duration": 7,
    "start_time": "2021-12-19T15:41:49.847Z"
   },
   {
    "duration": 56,
    "start_time": "2021-12-19T15:41:49.857Z"
   },
   {
    "duration": 10,
    "start_time": "2021-12-19T15:41:49.915Z"
   },
   {
    "duration": 4,
    "start_time": "2021-12-19T15:41:49.927Z"
   },
   {
    "duration": 35,
    "start_time": "2021-12-19T15:41:49.932Z"
   },
   {
    "duration": 32,
    "start_time": "2021-12-19T15:41:49.969Z"
   },
   {
    "duration": 7,
    "start_time": "2021-12-19T15:41:50.002Z"
   },
   {
    "duration": 32,
    "start_time": "2021-12-19T15:41:50.011Z"
   },
   {
    "duration": 69,
    "start_time": "2021-12-19T15:41:50.044Z"
   },
   {
    "duration": 13,
    "start_time": "2021-12-19T15:41:50.115Z"
   },
   {
    "duration": 38,
    "start_time": "2021-12-19T15:41:50.130Z"
   },
   {
    "duration": 47,
    "start_time": "2021-12-19T15:41:50.170Z"
   },
   {
    "duration": 6,
    "start_time": "2021-12-19T15:41:50.219Z"
   },
   {
    "duration": 33,
    "start_time": "2021-12-19T15:41:50.226Z"
   },
   {
    "duration": 36,
    "start_time": "2021-12-19T15:41:50.260Z"
   },
   {
    "duration": 13,
    "start_time": "2021-12-19T15:41:50.297Z"
   },
   {
    "duration": 21,
    "start_time": "2021-12-19T15:41:50.313Z"
   },
   {
    "duration": 9,
    "start_time": "2021-12-19T15:41:50.337Z"
   },
   {
    "duration": 60,
    "start_time": "2021-12-19T15:41:50.348Z"
   },
   {
    "duration": 8,
    "start_time": "2021-12-19T15:41:50.409Z"
   },
   {
    "duration": 19,
    "start_time": "2021-12-19T15:41:50.419Z"
   },
   {
    "duration": 71,
    "start_time": "2021-12-19T15:41:50.440Z"
   },
   {
    "duration": 11,
    "start_time": "2021-12-19T15:41:50.513Z"
   },
   {
    "duration": 14,
    "start_time": "2021-12-19T15:43:01.248Z"
   },
   {
    "duration": 145,
    "start_time": "2021-12-19T15:43:30.108Z"
   },
   {
    "duration": 141,
    "start_time": "2021-12-19T15:44:17.121Z"
   },
   {
    "duration": 14,
    "start_time": "2021-12-19T15:44:28.099Z"
   },
   {
    "duration": 12,
    "start_time": "2021-12-19T15:44:58.057Z"
   },
   {
    "duration": 7,
    "start_time": "2021-12-19T15:57:11.335Z"
   },
   {
    "duration": 11,
    "start_time": "2021-12-19T16:27:06.362Z"
   },
   {
    "duration": 7,
    "start_time": "2021-12-19T16:29:30.164Z"
   },
   {
    "duration": 10,
    "start_time": "2021-12-19T16:54:37.807Z"
   },
   {
    "duration": 6,
    "start_time": "2021-12-19T16:55:42.624Z"
   },
   {
    "duration": 16,
    "start_time": "2021-12-19T17:06:08.599Z"
   },
   {
    "duration": 18,
    "start_time": "2021-12-19T17:06:20.725Z"
   },
   {
    "duration": 153,
    "start_time": "2021-12-19T19:53:29.596Z"
   },
   {
    "duration": 137,
    "start_time": "2021-12-19T19:53:54.622Z"
   },
   {
    "duration": 19,
    "start_time": "2021-12-19T19:54:10.875Z"
   },
   {
    "duration": 3156,
    "start_time": "2021-12-19T20:33:34.656Z"
   },
   {
    "duration": 3198,
    "start_time": "2021-12-19T20:35:07.498Z"
   },
   {
    "duration": 3454,
    "start_time": "2021-12-19T20:35:52.884Z"
   },
   {
    "duration": 4672,
    "start_time": "2021-12-19T20:42:17.002Z"
   },
   {
    "duration": 3622,
    "start_time": "2021-12-19T20:49:49.308Z"
   },
   {
    "duration": 150,
    "start_time": "2021-12-19T20:51:11.775Z"
   },
   {
    "duration": 15,
    "start_time": "2021-12-19T20:53:22.950Z"
   },
   {
    "duration": 19,
    "start_time": "2021-12-19T20:54:32.850Z"
   },
   {
    "duration": 16,
    "start_time": "2021-12-19T20:55:11.205Z"
   },
   {
    "duration": 123,
    "start_time": "2021-12-19T20:55:14.580Z"
   },
   {
    "duration": 25,
    "start_time": "2021-12-19T20:55:14.705Z"
   },
   {
    "duration": 4,
    "start_time": "2021-12-19T20:55:14.733Z"
   },
   {
    "duration": 7,
    "start_time": "2021-12-19T20:55:14.740Z"
   },
   {
    "duration": 65,
    "start_time": "2021-12-19T20:55:14.749Z"
   },
   {
    "duration": 6,
    "start_time": "2021-12-19T20:55:14.816Z"
   },
   {
    "duration": 5,
    "start_time": "2021-12-19T20:55:14.823Z"
   },
   {
    "duration": 25,
    "start_time": "2021-12-19T20:55:14.831Z"
   },
   {
    "duration": 34,
    "start_time": "2021-12-19T20:55:14.858Z"
   },
   {
    "duration": 4,
    "start_time": "2021-12-19T20:55:14.894Z"
   },
   {
    "duration": 31,
    "start_time": "2021-12-19T20:55:14.900Z"
   },
   {
    "duration": 12,
    "start_time": "2021-12-19T20:55:14.934Z"
   },
   {
    "duration": 7,
    "start_time": "2021-12-19T20:55:14.948Z"
   },
   {
    "duration": 70,
    "start_time": "2021-12-19T20:55:14.956Z"
   },
   {
    "duration": 38,
    "start_time": "2021-12-19T20:55:15.028Z"
   },
   {
    "duration": 28,
    "start_time": "2021-12-19T20:55:15.069Z"
   },
   {
    "duration": 36,
    "start_time": "2021-12-19T20:55:15.099Z"
   },
   {
    "duration": 25,
    "start_time": "2021-12-19T20:55:15.136Z"
   },
   {
    "duration": 5,
    "start_time": "2021-12-19T20:55:15.191Z"
   },
   {
    "duration": 33,
    "start_time": "2021-12-19T20:55:15.198Z"
   },
   {
    "duration": 9,
    "start_time": "2021-12-19T20:55:15.233Z"
   },
   {
    "duration": 5,
    "start_time": "2021-12-19T20:55:15.244Z"
   },
   {
    "duration": 45,
    "start_time": "2021-12-19T20:55:15.253Z"
   },
   {
    "duration": 4,
    "start_time": "2021-12-19T20:55:15.300Z"
   },
   {
    "duration": 44,
    "start_time": "2021-12-19T20:55:15.306Z"
   },
   {
    "duration": 8,
    "start_time": "2021-12-19T20:55:15.352Z"
   },
   {
    "duration": 7,
    "start_time": "2021-12-19T20:55:15.391Z"
   },
   {
    "duration": 43,
    "start_time": "2021-12-19T20:55:15.400Z"
   },
   {
    "duration": 12,
    "start_time": "2021-12-19T20:55:15.445Z"
   },
   {
    "duration": 36,
    "start_time": "2021-12-19T20:55:15.459Z"
   },
   {
    "duration": 16,
    "start_time": "2021-12-19T20:55:15.498Z"
   },
   {
    "duration": 15,
    "start_time": "2021-12-19T20:55:15.516Z"
   },
   {
    "duration": 14,
    "start_time": "2021-12-19T20:56:24.924Z"
   },
   {
    "duration": 15,
    "start_time": "2021-12-19T20:56:51.718Z"
   },
   {
    "duration": 99,
    "start_time": "2021-12-19T20:56:56.445Z"
   },
   {
    "duration": 55,
    "start_time": "2021-12-19T20:56:56.546Z"
   },
   {
    "duration": 5,
    "start_time": "2021-12-19T20:56:56.604Z"
   },
   {
    "duration": 7,
    "start_time": "2021-12-19T20:56:56.610Z"
   },
   {
    "duration": 29,
    "start_time": "2021-12-19T20:56:56.618Z"
   },
   {
    "duration": 46,
    "start_time": "2021-12-19T20:56:56.649Z"
   },
   {
    "duration": 5,
    "start_time": "2021-12-19T20:56:56.697Z"
   },
   {
    "duration": 35,
    "start_time": "2021-12-19T20:56:56.705Z"
   },
   {
    "duration": 9,
    "start_time": "2021-12-19T20:56:56.743Z"
   },
   {
    "duration": 4,
    "start_time": "2021-12-19T20:56:56.754Z"
   },
   {
    "duration": 54,
    "start_time": "2021-12-19T20:56:56.760Z"
   },
   {
    "duration": 13,
    "start_time": "2021-12-19T20:56:56.817Z"
   },
   {
    "duration": 6,
    "start_time": "2021-12-19T20:56:56.832Z"
   },
   {
    "duration": 67,
    "start_time": "2021-12-19T20:56:56.840Z"
   },
   {
    "duration": 33,
    "start_time": "2021-12-19T20:56:56.908Z"
   },
   {
    "duration": 16,
    "start_time": "2021-12-19T20:56:56.943Z"
   },
   {
    "duration": 77,
    "start_time": "2021-12-19T20:56:56.961Z"
   },
   {
    "duration": 25,
    "start_time": "2021-12-19T20:56:57.039Z"
   },
   {
    "duration": 25,
    "start_time": "2021-12-19T20:56:57.066Z"
   },
   {
    "duration": 37,
    "start_time": "2021-12-19T20:56:57.093Z"
   },
   {
    "duration": 9,
    "start_time": "2021-12-19T20:56:57.132Z"
   },
   {
    "duration": 6,
    "start_time": "2021-12-19T20:56:57.143Z"
   },
   {
    "duration": 48,
    "start_time": "2021-12-19T20:56:57.152Z"
   },
   {
    "duration": 4,
    "start_time": "2021-12-19T20:56:57.203Z"
   },
   {
    "duration": 43,
    "start_time": "2021-12-19T20:56:57.209Z"
   },
   {
    "duration": 8,
    "start_time": "2021-12-19T20:56:57.254Z"
   },
   {
    "duration": 32,
    "start_time": "2021-12-19T20:56:57.264Z"
   },
   {
    "duration": 44,
    "start_time": "2021-12-19T20:56:57.298Z"
   },
   {
    "duration": 12,
    "start_time": "2021-12-19T20:56:57.344Z"
   },
   {
    "duration": 35,
    "start_time": "2021-12-19T20:56:57.358Z"
   },
   {
    "duration": 16,
    "start_time": "2021-12-19T20:56:57.394Z"
   },
   {
    "duration": 15,
    "start_time": "2021-12-19T20:56:57.412Z"
   },
   {
    "duration": 9,
    "start_time": "2021-12-19T20:57:20.106Z"
   },
   {
    "duration": 15,
    "start_time": "2021-12-19T20:58:56.719Z"
   },
   {
    "duration": 39,
    "start_time": "2021-12-19T20:59:09.750Z"
   },
   {
    "duration": 11,
    "start_time": "2021-12-19T20:59:57.869Z"
   },
   {
    "duration": 16,
    "start_time": "2021-12-19T21:00:01.791Z"
   },
   {
    "duration": 944,
    "start_time": "2021-12-20T12:35:08.894Z"
   },
   {
    "duration": 37,
    "start_time": "2021-12-20T12:35:09.840Z"
   },
   {
    "duration": 5,
    "start_time": "2021-12-20T12:35:09.880Z"
   },
   {
    "duration": 32,
    "start_time": "2021-12-20T12:35:09.887Z"
   },
   {
    "duration": 46,
    "start_time": "2021-12-20T12:35:09.922Z"
   },
   {
    "duration": 9,
    "start_time": "2021-12-20T12:35:09.971Z"
   },
   {
    "duration": 38,
    "start_time": "2021-12-20T12:35:09.982Z"
   },
   {
    "duration": 54,
    "start_time": "2021-12-20T12:35:10.024Z"
   },
   {
    "duration": 15,
    "start_time": "2021-12-20T12:35:10.081Z"
   },
   {
    "duration": 7,
    "start_time": "2021-12-20T12:35:10.118Z"
   },
   {
    "duration": 54,
    "start_time": "2021-12-20T12:35:10.127Z"
   },
   {
    "duration": 44,
    "start_time": "2021-12-20T12:35:10.184Z"
   },
   {
    "duration": 8,
    "start_time": "2021-12-20T12:35:10.230Z"
   },
   {
    "duration": 105,
    "start_time": "2021-12-20T12:35:10.240Z"
   },
   {
    "duration": 98,
    "start_time": "2021-12-20T12:35:10.349Z"
   },
   {
    "duration": 18,
    "start_time": "2021-12-20T12:35:10.450Z"
   },
   {
    "duration": 88,
    "start_time": "2021-12-20T12:35:10.470Z"
   },
   {
    "duration": 57,
    "start_time": "2021-12-20T12:35:10.560Z"
   },
   {
    "duration": 7,
    "start_time": "2021-12-20T12:35:10.619Z"
   },
   {
    "duration": 53,
    "start_time": "2021-12-20T12:35:10.628Z"
   },
   {
    "duration": 34,
    "start_time": "2021-12-20T12:35:10.684Z"
   },
   {
    "duration": 6,
    "start_time": "2021-12-20T12:35:10.720Z"
   },
   {
    "duration": 19,
    "start_time": "2021-12-20T12:35:10.730Z"
   },
   {
    "duration": 5,
    "start_time": "2021-12-20T12:35:10.752Z"
   },
   {
    "duration": 118,
    "start_time": "2021-12-20T12:35:10.759Z"
   },
   {
    "duration": 11,
    "start_time": "2021-12-20T12:35:10.879Z"
   },
   {
    "duration": 27,
    "start_time": "2021-12-20T12:35:10.893Z"
   },
   {
    "duration": 97,
    "start_time": "2021-12-20T12:35:10.922Z"
   },
   {
    "duration": 17,
    "start_time": "2021-12-20T12:35:11.021Z"
   },
   {
    "duration": 9,
    "start_time": "2021-12-20T12:35:11.041Z"
   },
   {
    "duration": 25,
    "start_time": "2021-12-20T12:35:11.052Z"
   },
   {
    "duration": 61,
    "start_time": "2021-12-20T12:35:11.079Z"
   },
   {
    "duration": 888,
    "start_time": "2021-12-20T17:19:29.209Z"
   },
   {
    "duration": 38,
    "start_time": "2021-12-20T17:19:30.100Z"
   },
   {
    "duration": 25,
    "start_time": "2021-12-20T17:19:30.141Z"
   },
   {
    "duration": 14,
    "start_time": "2021-12-20T17:19:30.169Z"
   },
   {
    "duration": 43,
    "start_time": "2021-12-20T17:19:30.186Z"
   },
   {
    "duration": 37,
    "start_time": "2021-12-20T17:19:30.231Z"
   },
   {
    "duration": 8,
    "start_time": "2021-12-20T17:19:30.271Z"
   },
   {
    "duration": 44,
    "start_time": "2021-12-20T17:19:30.283Z"
   },
   {
    "duration": 24,
    "start_time": "2021-12-20T17:19:30.363Z"
   },
   {
    "duration": 23,
    "start_time": "2021-12-20T17:19:30.404Z"
   },
   {
    "duration": 95,
    "start_time": "2021-12-20T17:19:30.431Z"
   },
   {
    "duration": 35,
    "start_time": "2021-12-20T17:19:30.529Z"
   },
   {
    "duration": 27,
    "start_time": "2021-12-20T17:19:30.567Z"
   },
   {
    "duration": 153,
    "start_time": "2021-12-20T17:19:30.597Z"
   },
   {
    "duration": 133,
    "start_time": "2021-12-20T17:19:30.753Z"
   },
   {
    "duration": 42,
    "start_time": "2021-12-20T17:19:30.888Z"
   },
   {
    "duration": 122,
    "start_time": "2021-12-20T17:19:30.936Z"
   },
   {
    "duration": 86,
    "start_time": "2021-12-20T17:19:31.061Z"
   },
   {
    "duration": 9,
    "start_time": "2021-12-20T17:19:31.150Z"
   },
   {
    "duration": 95,
    "start_time": "2021-12-20T17:19:31.162Z"
   },
   {
    "duration": 13,
    "start_time": "2021-12-20T17:19:31.261Z"
   },
   {
    "duration": 6,
    "start_time": "2021-12-20T17:19:31.277Z"
   },
   {
    "duration": 18,
    "start_time": "2021-12-20T17:19:31.288Z"
   },
   {
    "duration": 6,
    "start_time": "2021-12-20T17:19:31.309Z"
   },
   {
    "duration": 119,
    "start_time": "2021-12-20T17:19:31.318Z"
   },
   {
    "duration": 26,
    "start_time": "2021-12-20T17:19:31.440Z"
   },
   {
    "duration": 9,
    "start_time": "2021-12-20T17:19:31.468Z"
   },
   {
    "duration": 91,
    "start_time": "2021-12-20T17:19:31.480Z"
   },
   {
    "duration": 33,
    "start_time": "2021-12-20T17:19:31.574Z"
   },
   {
    "duration": 9,
    "start_time": "2021-12-20T17:19:31.610Z"
   },
   {
    "duration": 51,
    "start_time": "2021-12-20T17:19:31.622Z"
   },
   {
    "duration": 27,
    "start_time": "2021-12-20T17:19:31.676Z"
   },
   {
    "duration": 146,
    "start_time": "2021-12-20T17:20:10.350Z"
   },
   {
    "duration": 35,
    "start_time": "2021-12-20T17:20:10.499Z"
   },
   {
    "duration": 5,
    "start_time": "2021-12-20T17:20:10.563Z"
   },
   {
    "duration": 30,
    "start_time": "2021-12-20T17:20:10.572Z"
   },
   {
    "duration": 71,
    "start_time": "2021-12-20T17:20:10.605Z"
   },
   {
    "duration": 7,
    "start_time": "2021-12-20T17:20:10.679Z"
   },
   {
    "duration": 42,
    "start_time": "2021-12-20T17:20:10.688Z"
   },
   {
    "duration": 69,
    "start_time": "2021-12-20T17:20:10.734Z"
   },
   {
    "duration": 13,
    "start_time": "2021-12-20T17:20:10.806Z"
   },
   {
    "duration": 22,
    "start_time": "2021-12-20T17:20:10.822Z"
   },
   {
    "duration": 75,
    "start_time": "2021-12-20T17:20:10.847Z"
   },
   {
    "duration": 16,
    "start_time": "2021-12-20T17:20:10.924Z"
   },
   {
    "duration": 52,
    "start_time": "2021-12-20T17:20:10.943Z"
   },
   {
    "duration": 64,
    "start_time": "2021-12-20T17:20:10.998Z"
   },
   {
    "duration": 54,
    "start_time": "2021-12-20T17:20:11.065Z"
   },
   {
    "duration": 42,
    "start_time": "2021-12-20T17:20:11.122Z"
   },
   {
    "duration": 70,
    "start_time": "2021-12-20T17:20:11.167Z"
   },
   {
    "duration": 46,
    "start_time": "2021-12-20T17:20:11.240Z"
   },
   {
    "duration": 7,
    "start_time": "2021-12-20T17:20:11.288Z"
   },
   {
    "duration": 87,
    "start_time": "2021-12-20T17:20:11.297Z"
   },
   {
    "duration": 11,
    "start_time": "2021-12-20T17:20:11.387Z"
   },
   {
    "duration": 59,
    "start_time": "2021-12-20T17:20:11.400Z"
   },
   {
    "duration": 50,
    "start_time": "2021-12-20T17:20:11.466Z"
   },
   {
    "duration": 28,
    "start_time": "2021-12-20T17:20:11.519Z"
   },
   {
    "duration": 100,
    "start_time": "2021-12-20T17:20:11.550Z"
   },
   {
    "duration": 12,
    "start_time": "2021-12-20T17:20:11.653Z"
   },
   {
    "duration": 28,
    "start_time": "2021-12-20T17:20:11.667Z"
   },
   {
    "duration": 109,
    "start_time": "2021-12-20T17:20:11.698Z"
   },
   {
    "duration": 16,
    "start_time": "2021-12-20T17:20:11.810Z"
   },
   {
    "duration": 51,
    "start_time": "2021-12-20T17:20:11.828Z"
   },
   {
    "duration": 87,
    "start_time": "2021-12-20T17:20:11.881Z"
   },
   {
    "duration": 42,
    "start_time": "2021-12-20T17:20:11.971Z"
   },
   {
    "duration": 1240,
    "start_time": "2021-12-20T17:47:06.562Z"
   },
   {
    "duration": 1225,
    "start_time": "2021-12-20T17:47:42.652Z"
   },
   {
    "duration": 1311,
    "start_time": "2021-12-20T17:51:47.596Z"
   },
   {
    "duration": 1822,
    "start_time": "2021-12-20T18:02:15.254Z"
   },
   {
    "duration": 8,
    "start_time": "2021-12-20T18:02:53.834Z"
   },
   {
    "duration": 1199,
    "start_time": "2021-12-20T20:27:05.677Z"
   },
   {
    "duration": 2050,
    "start_time": "2021-12-20T20:30:25.062Z"
   },
   {
    "duration": 129,
    "start_time": "2021-12-20T20:52:31.028Z"
   },
   {
    "duration": 366,
    "start_time": "2021-12-20T20:52:44.946Z"
   },
   {
    "duration": 882,
    "start_time": "2021-12-21T04:36:23.973Z"
   },
   {
    "duration": 37,
    "start_time": "2021-12-21T04:36:24.858Z"
   },
   {
    "duration": 20,
    "start_time": "2021-12-21T04:36:24.898Z"
   },
   {
    "duration": 8,
    "start_time": "2021-12-21T04:36:24.921Z"
   },
   {
    "duration": 40,
    "start_time": "2021-12-21T04:36:24.932Z"
   },
   {
    "duration": 8,
    "start_time": "2021-12-21T04:36:24.974Z"
   },
   {
    "duration": 7,
    "start_time": "2021-12-21T04:36:25.016Z"
   },
   {
    "duration": 43,
    "start_time": "2021-12-21T04:36:25.026Z"
   },
   {
    "duration": 45,
    "start_time": "2021-12-21T04:36:25.072Z"
   },
   {
    "duration": 5,
    "start_time": "2021-12-21T04:36:25.119Z"
   },
   {
    "duration": 50,
    "start_time": "2021-12-21T04:36:25.126Z"
   },
   {
    "duration": 40,
    "start_time": "2021-12-21T04:36:25.178Z"
   },
   {
    "duration": 8,
    "start_time": "2021-12-21T04:36:25.220Z"
   },
   {
    "duration": 46,
    "start_time": "2021-12-21T04:36:25.231Z"
   },
   {
    "duration": 84,
    "start_time": "2021-12-21T04:36:25.279Z"
   },
   {
    "duration": 18,
    "start_time": "2021-12-21T04:36:25.365Z"
   },
   {
    "duration": 79,
    "start_time": "2021-12-21T04:36:25.386Z"
   },
   {
    "duration": 59,
    "start_time": "2021-12-21T04:36:25.468Z"
   },
   {
    "duration": 7,
    "start_time": "2021-12-21T04:36:25.530Z"
   },
   {
    "duration": 51,
    "start_time": "2021-12-21T04:36:25.539Z"
   },
   {
    "duration": 11,
    "start_time": "2021-12-21T04:36:25.617Z"
   },
   {
    "duration": 6,
    "start_time": "2021-12-21T04:36:25.630Z"
   },
   {
    "duration": 17,
    "start_time": "2021-12-21T04:36:25.640Z"
   },
   {
    "duration": 6,
    "start_time": "2021-12-21T04:36:25.660Z"
   },
   {
    "duration": 114,
    "start_time": "2021-12-21T04:36:25.669Z"
   },
   {
    "duration": 10,
    "start_time": "2021-12-21T04:36:25.785Z"
   },
   {
    "duration": 27,
    "start_time": "2021-12-21T04:36:25.797Z"
   },
   {
    "duration": 67,
    "start_time": "2021-12-21T04:36:25.826Z"
   },
   {
    "duration": 36,
    "start_time": "2021-12-21T04:36:25.895Z"
   },
   {
    "duration": 10,
    "start_time": "2021-12-21T04:36:25.933Z"
   },
   {
    "duration": 23,
    "start_time": "2021-12-21T04:36:25.945Z"
   },
   {
    "duration": 5,
    "start_time": "2021-12-21T04:36:25.971Z"
   },
   {
    "duration": 7754,
    "start_time": "2021-12-21T04:38:39.035Z"
   },
   {
    "duration": 7126,
    "start_time": "2021-12-21T04:39:18.305Z"
   },
   {
    "duration": 7367,
    "start_time": "2021-12-21T04:40:26.547Z"
   },
   {
    "duration": 7798,
    "start_time": "2021-12-21T04:41:30.934Z"
   },
   {
    "duration": 5,
    "start_time": "2021-12-21T04:45:08.633Z"
   },
   {
    "duration": 302,
    "start_time": "2021-12-21T04:45:18.797Z"
   },
   {
    "duration": 8,
    "start_time": "2021-12-21T04:46:09.712Z"
   },
   {
    "duration": 9,
    "start_time": "2021-12-21T04:50:32.064Z"
   },
   {
    "duration": 564,
    "start_time": "2021-12-21T04:50:46.995Z"
   },
   {
    "duration": 9,
    "start_time": "2021-12-21T04:51:18.971Z"
   },
   {
    "duration": 13,
    "start_time": "2021-12-21T04:52:01.737Z"
   },
   {
    "duration": 11,
    "start_time": "2021-12-21T04:53:26.928Z"
   },
   {
    "duration": 12,
    "start_time": "2021-12-21T04:53:51.250Z"
   },
   {
    "duration": 12,
    "start_time": "2021-12-21T04:54:51.908Z"
   },
   {
    "duration": 28,
    "start_time": "2021-12-21T07:49:01.518Z"
   },
   {
    "duration": 33,
    "start_time": "2021-12-21T08:14:07.981Z"
   },
   {
    "duration": 31,
    "start_time": "2021-12-21T08:14:18.160Z"
   },
   {
    "duration": 708,
    "start_time": "2021-12-24T15:54:36.573Z"
   },
   {
    "duration": 28,
    "start_time": "2021-12-24T15:54:37.283Z"
   },
   {
    "duration": 4,
    "start_time": "2021-12-24T15:54:37.313Z"
   },
   {
    "duration": 8,
    "start_time": "2021-12-24T15:54:37.319Z"
   },
   {
    "duration": 50,
    "start_time": "2021-12-24T15:54:37.329Z"
   },
   {
    "duration": 6,
    "start_time": "2021-12-24T15:54:37.381Z"
   },
   {
    "duration": 4,
    "start_time": "2021-12-24T15:54:37.389Z"
   },
   {
    "duration": 29,
    "start_time": "2021-12-24T15:54:37.395Z"
   },
   {
    "duration": 35,
    "start_time": "2021-12-24T15:54:37.426Z"
   },
   {
    "duration": 4,
    "start_time": "2021-12-24T15:54:37.463Z"
   },
   {
    "duration": 33,
    "start_time": "2021-12-24T15:54:37.469Z"
   },
   {
    "duration": 10,
    "start_time": "2021-12-24T15:54:37.504Z"
   },
   {
    "duration": 6,
    "start_time": "2021-12-24T15:54:37.516Z"
   },
   {
    "duration": 62,
    "start_time": "2021-12-24T15:54:37.523Z"
   },
   {
    "duration": 32,
    "start_time": "2021-12-24T15:54:37.587Z"
   },
   {
    "duration": 12,
    "start_time": "2021-12-24T15:54:37.620Z"
   },
   {
    "duration": 57,
    "start_time": "2021-12-24T15:54:37.633Z"
   },
   {
    "duration": 29,
    "start_time": "2021-12-24T15:54:37.692Z"
   },
   {
    "duration": 6,
    "start_time": "2021-12-24T15:54:37.722Z"
   },
   {
    "duration": 51,
    "start_time": "2021-12-24T15:54:37.729Z"
   },
   {
    "duration": 7,
    "start_time": "2021-12-24T15:54:37.782Z"
   },
   {
    "duration": 5,
    "start_time": "2021-12-24T15:54:37.790Z"
   },
   {
    "duration": 13,
    "start_time": "2021-12-24T15:54:37.798Z"
   },
   {
    "duration": 6,
    "start_time": "2021-12-24T15:54:37.812Z"
   },
   {
    "duration": 72,
    "start_time": "2021-12-24T15:54:37.820Z"
   },
   {
    "duration": 7,
    "start_time": "2021-12-24T15:54:37.894Z"
   },
   {
    "duration": 27,
    "start_time": "2021-12-24T15:54:37.903Z"
   },
   {
    "duration": 41,
    "start_time": "2021-12-24T15:54:37.931Z"
   },
   {
    "duration": 11,
    "start_time": "2021-12-24T15:54:37.974Z"
   },
   {
    "duration": 5,
    "start_time": "2021-12-24T15:54:37.987Z"
   },
   {
    "duration": 20,
    "start_time": "2021-12-24T15:54:37.994Z"
   },
   {
    "duration": 9,
    "start_time": "2021-12-24T15:54:38.016Z"
   },
   {
    "duration": 61,
    "start_time": "2021-12-24T15:54:38.026Z"
   },
   {
    "duration": 25,
    "start_time": "2021-12-24T16:42:51.796Z"
   },
   {
    "duration": 15,
    "start_time": "2021-12-24T16:43:20.700Z"
   },
   {
    "duration": 16,
    "start_time": "2021-12-24T16:43:54.162Z"
   },
   {
    "duration": 25,
    "start_time": "2021-12-24T16:44:04.490Z"
   },
   {
    "duration": 16,
    "start_time": "2021-12-24T16:49:13.910Z"
   },
   {
    "duration": 15,
    "start_time": "2021-12-24T16:52:48.387Z"
   },
   {
    "duration": 29,
    "start_time": "2021-12-24T16:54:38.182Z"
   },
   {
    "duration": 851,
    "start_time": "2021-12-24T17:02:18.377Z"
   },
   {
    "duration": 497,
    "start_time": "2021-12-24T17:03:50.738Z"
   },
   {
    "duration": 23,
    "start_time": "2021-12-24T17:08:39.458Z"
   },
   {
    "duration": 16,
    "start_time": "2021-12-24T17:09:26.456Z"
   },
   {
    "duration": 23,
    "start_time": "2021-12-24T17:09:47.385Z"
   },
   {
    "duration": 499,
    "start_time": "2021-12-24T17:22:30.561Z"
   },
   {
    "duration": 372,
    "start_time": "2021-12-24T17:23:18.591Z"
   },
   {
    "duration": 361,
    "start_time": "2021-12-24T17:26:17.374Z"
   },
   {
    "duration": 359,
    "start_time": "2021-12-24T17:26:28.036Z"
   },
   {
    "duration": 433,
    "start_time": "2021-12-24T17:26:37.529Z"
   },
   {
    "duration": 491,
    "start_time": "2021-12-24T17:26:43.307Z"
   },
   {
    "duration": 821,
    "start_time": "2021-12-24T17:29:33.826Z"
   },
   {
    "duration": 382,
    "start_time": "2021-12-24T17:29:41.817Z"
   },
   {
    "duration": 391,
    "start_time": "2021-12-24T17:30:00.044Z"
   },
   {
    "duration": 513,
    "start_time": "2021-12-24T17:46:03.182Z"
   },
   {
    "duration": 284,
    "start_time": "2021-12-24T17:46:17.103Z"
   },
   {
    "duration": 368,
    "start_time": "2021-12-24T17:47:06.332Z"
   },
   {
    "duration": 282,
    "start_time": "2021-12-24T17:57:18.218Z"
   },
   {
    "duration": 276,
    "start_time": "2021-12-24T17:57:27.570Z"
   },
   {
    "duration": 577,
    "start_time": "2021-12-24T18:50:15.139Z"
   },
   {
    "duration": 31,
    "start_time": "2021-12-24T18:50:30.895Z"
   },
   {
    "duration": 51,
    "start_time": "2021-12-24T18:50:54.945Z"
   },
   {
    "duration": 28,
    "start_time": "2021-12-24T18:52:09.874Z"
   },
   {
    "duration": 80,
    "start_time": "2021-12-24T18:56:41.875Z"
   },
   {
    "duration": 238,
    "start_time": "2021-12-24T18:56:51.675Z"
   },
   {
    "duration": 16,
    "start_time": "2021-12-24T18:57:49.019Z"
   },
   {
    "duration": 45,
    "start_time": "2021-12-24T19:03:32.050Z"
   },
   {
    "duration": 29,
    "start_time": "2021-12-24T19:05:52.774Z"
   },
   {
    "duration": 25,
    "start_time": "2021-12-24T19:06:20.211Z"
   },
   {
    "duration": 15,
    "start_time": "2021-12-24T19:09:49.959Z"
   },
   {
    "duration": 209,
    "start_time": "2021-12-24T19:10:05.997Z"
   },
   {
    "duration": 14,
    "start_time": "2021-12-24T19:10:11.158Z"
   },
   {
    "duration": 3,
    "start_time": "2021-12-24T19:10:38.831Z"
   },
   {
    "duration": 19,
    "start_time": "2021-12-24T19:11:29.937Z"
   },
   {
    "duration": 208,
    "start_time": "2021-12-24T19:11:45.264Z"
   },
   {
    "duration": 206,
    "start_time": "2021-12-24T19:23:24.730Z"
   },
   {
    "duration": 15,
    "start_time": "2021-12-24T19:24:34.149Z"
   },
   {
    "duration": 16,
    "start_time": "2021-12-24T19:25:24.363Z"
   },
   {
    "duration": 197,
    "start_time": "2021-12-24T19:25:54.182Z"
   },
   {
    "duration": 215,
    "start_time": "2021-12-24T19:26:01.330Z"
   },
   {
    "duration": 17,
    "start_time": "2021-12-24T19:26:12.486Z"
   },
   {
    "duration": 27,
    "start_time": "2021-12-24T19:49:03.650Z"
   },
   {
    "duration": 41,
    "start_time": "2021-12-24T19:49:11.023Z"
   },
   {
    "duration": 27,
    "start_time": "2021-12-24T19:49:21.910Z"
   },
   {
    "duration": 219,
    "start_time": "2021-12-24T19:50:40.011Z"
   },
   {
    "duration": 37,
    "start_time": "2021-12-24T19:50:54.641Z"
   },
   {
    "duration": 27,
    "start_time": "2021-12-24T19:51:29.106Z"
   },
   {
    "duration": 25,
    "start_time": "2021-12-24T19:51:50.491Z"
   },
   {
    "duration": 24,
    "start_time": "2021-12-24T19:54:43.318Z"
   },
   {
    "duration": 759,
    "start_time": "2021-12-24T19:58:42.699Z"
   },
   {
    "duration": 742,
    "start_time": "2021-12-24T20:14:03.368Z"
   },
   {
    "duration": 70,
    "start_time": "2021-12-24T20:28:54.252Z"
   },
   {
    "duration": 864,
    "start_time": "2021-12-24T20:31:40.345Z"
   },
   {
    "duration": 756,
    "start_time": "2021-12-24T20:32:36.521Z"
   },
   {
    "duration": 717,
    "start_time": "2021-12-24T20:35:38.110Z"
   },
   {
    "duration": 110,
    "start_time": "2021-12-24T20:36:00.590Z"
   },
   {
    "duration": 57,
    "start_time": "2021-12-24T20:36:00.702Z"
   },
   {
    "duration": 4,
    "start_time": "2021-12-24T20:36:00.761Z"
   },
   {
    "duration": 17,
    "start_time": "2021-12-24T20:36:00.768Z"
   },
   {
    "duration": 39,
    "start_time": "2021-12-24T20:36:00.787Z"
   },
   {
    "duration": 7,
    "start_time": "2021-12-24T20:36:00.828Z"
   },
   {
    "duration": 26,
    "start_time": "2021-12-24T20:36:00.836Z"
   },
   {
    "duration": 32,
    "start_time": "2021-12-24T20:36:00.865Z"
   },
   {
    "duration": 10,
    "start_time": "2021-12-24T20:36:00.900Z"
   },
   {
    "duration": 10,
    "start_time": "2021-12-24T20:36:00.912Z"
   },
   {
    "duration": 54,
    "start_time": "2021-12-24T20:36:00.924Z"
   },
   {
    "duration": 12,
    "start_time": "2021-12-24T20:36:00.980Z"
   },
   {
    "duration": 11,
    "start_time": "2021-12-24T20:36:00.994Z"
   },
   {
    "duration": 61,
    "start_time": "2021-12-24T20:36:01.007Z"
   },
   {
    "duration": 38,
    "start_time": "2021-12-24T20:36:01.070Z"
   },
   {
    "duration": 13,
    "start_time": "2021-12-24T20:36:01.110Z"
   },
   {
    "duration": 66,
    "start_time": "2021-12-24T20:36:01.125Z"
   },
   {
    "duration": 28,
    "start_time": "2021-12-24T20:36:01.193Z"
   },
   {
    "duration": 10,
    "start_time": "2021-12-24T20:36:01.223Z"
   },
   {
    "duration": 58,
    "start_time": "2021-12-24T20:36:01.235Z"
   },
   {
    "duration": 10,
    "start_time": "2021-12-24T20:36:01.295Z"
   },
   {
    "duration": 16,
    "start_time": "2021-12-24T20:36:01.307Z"
   },
   {
    "duration": 19,
    "start_time": "2021-12-24T20:36:01.326Z"
   },
   {
    "duration": 5,
    "start_time": "2021-12-24T20:36:01.361Z"
   },
   {
    "duration": 52,
    "start_time": "2021-12-24T20:36:01.368Z"
   },
   {
    "duration": 8,
    "start_time": "2021-12-24T20:36:01.422Z"
   },
   {
    "duration": 7,
    "start_time": "2021-12-24T20:36:01.432Z"
   },
   {
    "duration": 45,
    "start_time": "2021-12-24T20:36:01.462Z"
   },
   {
    "duration": 12,
    "start_time": "2021-12-24T20:36:01.509Z"
   },
   {
    "duration": 9,
    "start_time": "2021-12-24T20:36:01.522Z"
   },
   {
    "duration": 41,
    "start_time": "2021-12-24T20:36:01.533Z"
   },
   {
    "duration": 13,
    "start_time": "2021-12-24T20:36:01.576Z"
   },
   {
    "duration": 30,
    "start_time": "2021-12-24T20:36:01.591Z"
   },
   {
    "duration": 10,
    "start_time": "2021-12-24T20:36:01.623Z"
   },
   {
    "duration": 13,
    "start_time": "2021-12-24T20:36:01.660Z"
   },
   {
    "duration": 25,
    "start_time": "2021-12-24T20:36:01.675Z"
   },
   {
    "duration": 32,
    "start_time": "2021-12-24T20:36:01.702Z"
   },
   {
    "duration": 648,
    "start_time": "2021-12-24T20:36:01.761Z"
   },
   {
    "duration": 25,
    "start_time": "2021-12-24T20:36:02.411Z"
   },
   {
    "duration": 499,
    "start_time": "2021-12-24T20:36:02.438Z"
   },
   {
    "duration": 625,
    "start_time": "2021-12-24T20:36:02.940Z"
   },
   {
    "duration": 303,
    "start_time": "2021-12-24T20:36:03.567Z"
   },
   {
    "duration": 298,
    "start_time": "2021-12-24T20:36:03.872Z"
   },
   {
    "duration": 892,
    "start_time": "2021-12-24T20:36:04.172Z"
   },
   {
    "duration": 768,
    "start_time": "2021-12-24T20:36:05.066Z"
   },
   {
    "duration": 724,
    "start_time": "2021-12-24T20:37:37.320Z"
   },
   {
    "duration": 98,
    "start_time": "2021-12-24T20:41:53.993Z"
   },
   {
    "duration": 731,
    "start_time": "2021-12-24T20:42:05.625Z"
   },
   {
    "duration": 852,
    "start_time": "2021-12-24T20:42:32.387Z"
   },
   {
    "duration": 727,
    "start_time": "2021-12-24T20:43:08.816Z"
   },
   {
    "duration": 103,
    "start_time": "2021-12-24T20:52:33.788Z"
   },
   {
    "duration": 24,
    "start_time": "2021-12-24T20:52:33.892Z"
   },
   {
    "duration": 3,
    "start_time": "2021-12-24T20:52:33.918Z"
   },
   {
    "duration": 7,
    "start_time": "2021-12-24T20:52:33.923Z"
   },
   {
    "duration": 31,
    "start_time": "2021-12-24T20:52:33.963Z"
   },
   {
    "duration": 5,
    "start_time": "2021-12-24T20:52:33.996Z"
   },
   {
    "duration": 5,
    "start_time": "2021-12-24T20:52:34.003Z"
   },
   {
    "duration": 70,
    "start_time": "2021-12-24T20:52:34.010Z"
   },
   {
    "duration": 11,
    "start_time": "2021-12-24T20:52:34.082Z"
   },
   {
    "duration": 4,
    "start_time": "2021-12-24T20:52:34.095Z"
   },
   {
    "duration": 30,
    "start_time": "2021-12-24T20:52:34.101Z"
   },
   {
    "duration": 43,
    "start_time": "2021-12-24T20:52:34.133Z"
   },
   {
    "duration": 9,
    "start_time": "2021-12-24T20:52:34.178Z"
   },
   {
    "duration": 31,
    "start_time": "2021-12-24T20:52:34.189Z"
   },
   {
    "duration": 83,
    "start_time": "2021-12-24T20:52:34.222Z"
   },
   {
    "duration": 11,
    "start_time": "2021-12-24T20:52:34.307Z"
   },
   {
    "duration": 60,
    "start_time": "2021-12-24T20:52:34.319Z"
   },
   {
    "duration": 24,
    "start_time": "2021-12-24T20:52:34.380Z"
   },
   {
    "duration": 5,
    "start_time": "2021-12-24T20:52:34.405Z"
   },
   {
    "duration": 61,
    "start_time": "2021-12-24T20:52:34.411Z"
   },
   {
    "duration": 9,
    "start_time": "2021-12-24T20:52:34.474Z"
   },
   {
    "duration": 3,
    "start_time": "2021-12-24T20:52:34.485Z"
   },
   {
    "duration": 12,
    "start_time": "2021-12-24T20:52:34.492Z"
   },
   {
    "duration": 4,
    "start_time": "2021-12-24T20:52:34.506Z"
   },
   {
    "duration": 78,
    "start_time": "2021-12-24T20:52:34.512Z"
   },
   {
    "duration": 8,
    "start_time": "2021-12-24T20:52:34.592Z"
   },
   {
    "duration": 6,
    "start_time": "2021-12-24T20:52:34.601Z"
   },
   {
    "duration": 71,
    "start_time": "2021-12-24T20:52:34.609Z"
   },
   {
    "duration": 12,
    "start_time": "2021-12-24T20:52:34.681Z"
   },
   {
    "duration": 7,
    "start_time": "2021-12-24T20:52:34.695Z"
   },
   {
    "duration": 17,
    "start_time": "2021-12-24T20:52:34.703Z"
   },
   {
    "duration": 7,
    "start_time": "2021-12-24T20:52:34.722Z"
   },
   {
    "duration": 58,
    "start_time": "2021-12-24T20:52:34.731Z"
   },
   {
    "duration": 8,
    "start_time": "2021-12-24T20:52:34.791Z"
   },
   {
    "duration": 14,
    "start_time": "2021-12-24T20:52:34.801Z"
   },
   {
    "duration": 70,
    "start_time": "2021-12-24T20:52:34.817Z"
   },
   {
    "duration": 38,
    "start_time": "2021-12-24T20:52:34.890Z"
   },
   {
    "duration": 560,
    "start_time": "2021-12-24T20:52:34.930Z"
   },
   {
    "duration": 22,
    "start_time": "2021-12-24T20:52:35.491Z"
   },
   {
    "duration": 424,
    "start_time": "2021-12-24T20:52:35.515Z"
   },
   {
    "duration": 515,
    "start_time": "2021-12-24T20:52:35.941Z"
   },
   {
    "duration": 316,
    "start_time": "2021-12-24T20:52:36.458Z"
   },
   {
    "duration": 321,
    "start_time": "2021-12-24T20:52:36.777Z"
   },
   {
    "duration": 844,
    "start_time": "2021-12-24T20:52:37.100Z"
   },
   {
    "duration": 801,
    "start_time": "2021-12-24T20:52:37.946Z"
   },
   {
    "duration": 819,
    "start_time": "2021-12-24T20:55:37.554Z"
   },
   {
    "duration": 757,
    "start_time": "2021-12-24T20:58:01.786Z"
   },
   {
    "duration": 789,
    "start_time": "2021-12-24T21:02:01.711Z"
   },
   {
    "duration": 420,
    "start_time": "2021-12-24T21:04:17.138Z"
   },
   {
    "duration": 224,
    "start_time": "2021-12-24T21:04:41.513Z"
   },
   {
    "duration": 202,
    "start_time": "2021-12-24T21:05:09.703Z"
   },
   {
    "duration": 1045,
    "start_time": "2021-12-24T21:05:57.140Z"
   },
   {
    "duration": 763,
    "start_time": "2021-12-24T21:06:26.452Z"
   },
   {
    "duration": 1333,
    "start_time": "2021-12-24T21:06:43.755Z"
   },
   {
    "duration": 94,
    "start_time": "2021-12-24T21:10:24.633Z"
   },
   {
    "duration": 1296,
    "start_time": "2021-12-24T21:10:54.935Z"
   },
   {
    "duration": 1428,
    "start_time": "2021-12-24T21:16:51.808Z"
   },
   {
    "duration": 665,
    "start_time": "2021-12-25T19:18:38.251Z"
   },
   {
    "duration": 22,
    "start_time": "2021-12-25T19:18:38.918Z"
   },
   {
    "duration": 3,
    "start_time": "2021-12-25T19:18:38.942Z"
   },
   {
    "duration": 7,
    "start_time": "2021-12-25T19:18:38.947Z"
   },
   {
    "duration": 23,
    "start_time": "2021-12-25T19:18:38.955Z"
   },
   {
    "duration": 5,
    "start_time": "2021-12-25T19:18:38.980Z"
   },
   {
    "duration": 7,
    "start_time": "2021-12-25T19:18:38.987Z"
   },
   {
    "duration": 49,
    "start_time": "2021-12-25T19:18:38.997Z"
   },
   {
    "duration": 10,
    "start_time": "2021-12-25T19:18:39.049Z"
   },
   {
    "duration": 8,
    "start_time": "2021-12-25T19:18:39.060Z"
   },
   {
    "duration": 29,
    "start_time": "2021-12-25T19:18:39.070Z"
   },
   {
    "duration": 32,
    "start_time": "2021-12-25T19:18:39.101Z"
   },
   {
    "duration": 6,
    "start_time": "2021-12-25T19:18:39.135Z"
   },
   {
    "duration": 31,
    "start_time": "2021-12-25T19:18:39.142Z"
   },
   {
    "duration": 30,
    "start_time": "2021-12-25T19:18:39.175Z"
   },
   {
    "duration": 30,
    "start_time": "2021-12-25T19:18:39.206Z"
   },
   {
    "duration": 33,
    "start_time": "2021-12-25T19:18:39.238Z"
   },
   {
    "duration": 25,
    "start_time": "2021-12-25T19:18:39.272Z"
   },
   {
    "duration": 28,
    "start_time": "2021-12-25T19:18:39.299Z"
   },
   {
    "duration": 29,
    "start_time": "2021-12-25T19:18:39.329Z"
   },
   {
    "duration": 7,
    "start_time": "2021-12-25T19:18:39.359Z"
   },
   {
    "duration": 3,
    "start_time": "2021-12-25T19:18:39.368Z"
   },
   {
    "duration": 13,
    "start_time": "2021-12-25T19:18:39.374Z"
   },
   {
    "duration": 3,
    "start_time": "2021-12-25T19:18:39.389Z"
   },
   {
    "duration": 68,
    "start_time": "2021-12-25T19:18:39.394Z"
   },
   {
    "duration": 7,
    "start_time": "2021-12-25T19:18:39.464Z"
   },
   {
    "duration": 6,
    "start_time": "2021-12-25T19:18:39.472Z"
   },
   {
    "duration": 62,
    "start_time": "2021-12-25T19:18:39.480Z"
   },
   {
    "duration": 10,
    "start_time": "2021-12-25T19:18:39.543Z"
   },
   {
    "duration": 7,
    "start_time": "2021-12-25T19:18:39.555Z"
   },
   {
    "duration": 15,
    "start_time": "2021-12-25T19:18:39.564Z"
   },
   {
    "duration": 7,
    "start_time": "2021-12-25T19:18:39.581Z"
   },
   {
    "duration": 56,
    "start_time": "2021-12-25T19:18:39.590Z"
   },
   {
    "duration": 8,
    "start_time": "2021-12-25T19:18:39.648Z"
   },
   {
    "duration": 9,
    "start_time": "2021-12-25T19:18:39.658Z"
   },
   {
    "duration": 20,
    "start_time": "2021-12-25T19:18:39.669Z"
   },
   {
    "duration": 51,
    "start_time": "2021-12-25T19:18:39.690Z"
   },
   {
    "duration": 556,
    "start_time": "2021-12-25T19:18:39.743Z"
   },
   {
    "duration": 32,
    "start_time": "2021-12-25T19:18:40.301Z"
   },
   {
    "duration": 467,
    "start_time": "2021-12-25T19:18:40.335Z"
   },
   {
    "duration": 353,
    "start_time": "2021-12-25T19:18:40.803Z"
   },
   {
    "duration": 266,
    "start_time": "2021-12-25T19:18:41.158Z"
   },
   {
    "duration": 260,
    "start_time": "2021-12-25T19:18:41.425Z"
   },
   {
    "duration": 686,
    "start_time": "2021-12-25T19:18:41.687Z"
   },
   {
    "duration": 783,
    "start_time": "2021-12-25T19:18:42.375Z"
   },
   {
    "duration": 340,
    "start_time": "2021-12-26T18:14:09.463Z"
   },
   {
    "duration": 714,
    "start_time": "2021-12-26T18:14:13.444Z"
   },
   {
    "duration": 26,
    "start_time": "2021-12-26T18:14:14.161Z"
   },
   {
    "duration": 4,
    "start_time": "2021-12-26T18:14:14.190Z"
   },
   {
    "duration": 7,
    "start_time": "2021-12-26T18:14:14.196Z"
   },
   {
    "duration": 54,
    "start_time": "2021-12-26T18:14:14.205Z"
   },
   {
    "duration": 7,
    "start_time": "2021-12-26T18:14:14.261Z"
   },
   {
    "duration": 8,
    "start_time": "2021-12-26T18:14:14.269Z"
   },
   {
    "duration": 39,
    "start_time": "2021-12-26T18:14:14.280Z"
   },
   {
    "duration": 30,
    "start_time": "2021-12-26T18:14:14.322Z"
   },
   {
    "duration": 6,
    "start_time": "2021-12-26T18:14:14.354Z"
   },
   {
    "duration": 43,
    "start_time": "2021-12-26T18:14:14.362Z"
   },
   {
    "duration": 11,
    "start_time": "2021-12-26T18:14:14.406Z"
   },
   {
    "duration": 22,
    "start_time": "2021-12-26T18:14:14.419Z"
   },
   {
    "duration": 27,
    "start_time": "2021-12-26T18:14:14.443Z"
   },
   {
    "duration": 31,
    "start_time": "2021-12-26T18:14:14.472Z"
   },
   {
    "duration": 42,
    "start_time": "2021-12-26T18:14:14.505Z"
   },
   {
    "duration": 34,
    "start_time": "2021-12-26T18:14:14.549Z"
   },
   {
    "duration": 29,
    "start_time": "2021-12-26T18:14:14.585Z"
   },
   {
    "duration": 26,
    "start_time": "2021-12-26T18:14:14.615Z"
   },
   {
    "duration": 32,
    "start_time": "2021-12-26T18:14:14.642Z"
   },
   {
    "duration": 8,
    "start_time": "2021-12-26T18:14:14.676Z"
   },
   {
    "duration": 3,
    "start_time": "2021-12-26T18:14:14.686Z"
   },
   {
    "duration": 11,
    "start_time": "2021-12-26T18:14:14.692Z"
   },
   {
    "duration": 36,
    "start_time": "2021-12-26T18:14:14.705Z"
   },
   {
    "duration": 45,
    "start_time": "2021-12-26T18:14:14.743Z"
   },
   {
    "duration": 7,
    "start_time": "2021-12-26T18:14:14.790Z"
   },
   {
    "duration": 6,
    "start_time": "2021-12-26T18:14:14.799Z"
   },
   {
    "duration": 70,
    "start_time": "2021-12-26T18:14:14.807Z"
   },
   {
    "duration": 11,
    "start_time": "2021-12-26T18:14:14.879Z"
   },
   {
    "duration": 8,
    "start_time": "2021-12-26T18:14:14.891Z"
   },
   {
    "duration": 41,
    "start_time": "2021-12-26T18:14:14.901Z"
   },
   {
    "duration": 9,
    "start_time": "2021-12-26T18:14:14.944Z"
   },
   {
    "duration": 29,
    "start_time": "2021-12-26T18:14:14.955Z"
   },
   {
    "duration": 9,
    "start_time": "2021-12-26T18:14:14.986Z"
   },
   {
    "duration": 17,
    "start_time": "2021-12-26T18:14:14.997Z"
   },
   {
    "duration": 42,
    "start_time": "2021-12-26T18:14:15.017Z"
   },
   {
    "duration": 29,
    "start_time": "2021-12-26T18:14:15.062Z"
   },
   {
    "duration": 594,
    "start_time": "2021-12-26T18:14:15.092Z"
   },
   {
    "duration": 24,
    "start_time": "2021-12-26T18:14:15.688Z"
   },
   {
    "duration": 492,
    "start_time": "2021-12-26T18:14:15.715Z"
   },
   {
    "duration": 377,
    "start_time": "2021-12-26T18:14:16.209Z"
   },
   {
    "duration": 286,
    "start_time": "2021-12-26T18:14:16.588Z"
   },
   {
    "duration": 335,
    "start_time": "2021-12-26T18:14:16.876Z"
   },
   {
    "duration": 848,
    "start_time": "2021-12-26T18:14:17.213Z"
   },
   {
    "duration": 1065,
    "start_time": "2021-12-26T18:14:18.063Z"
   },
   {
    "duration": 40,
    "start_time": "2021-12-26T18:14:19.130Z"
   },
   {
    "duration": 8,
    "start_time": "2021-12-26T18:15:16.382Z"
   },
   {
    "duration": 242,
    "start_time": "2021-12-26T18:17:15.796Z"
   },
   {
    "duration": 199,
    "start_time": "2021-12-26T18:17:49.617Z"
   },
   {
    "duration": 247,
    "start_time": "2021-12-26T18:18:08.279Z"
   },
   {
    "duration": 4,
    "start_time": "2021-12-26T18:20:40.257Z"
   },
   {
    "duration": 243,
    "start_time": "2021-12-26T18:21:32.698Z"
   },
   {
    "duration": 8,
    "start_time": "2021-12-26T18:21:44.074Z"
   },
   {
    "duration": 191,
    "start_time": "2021-12-26T18:22:47.230Z"
   },
   {
    "duration": 26,
    "start_time": "2021-12-26T18:23:51.886Z"
   },
   {
    "duration": 915,
    "start_time": "2021-12-30T16:38:12.169Z"
   },
   {
    "duration": 48,
    "start_time": "2021-12-30T16:38:13.086Z"
   },
   {
    "duration": 6,
    "start_time": "2021-12-30T16:38:13.137Z"
   },
   {
    "duration": 10,
    "start_time": "2021-12-30T16:38:13.146Z"
   },
   {
    "duration": 78,
    "start_time": "2021-12-30T16:38:13.159Z"
   },
   {
    "duration": 11,
    "start_time": "2021-12-30T16:38:13.240Z"
   },
   {
    "duration": 6,
    "start_time": "2021-12-30T16:38:13.254Z"
   },
   {
    "duration": 82,
    "start_time": "2021-12-30T16:38:13.266Z"
   },
   {
    "duration": 14,
    "start_time": "2021-12-30T16:38:13.352Z"
   },
   {
    "duration": 9,
    "start_time": "2021-12-30T16:38:13.368Z"
   },
   {
    "duration": 77,
    "start_time": "2021-12-30T16:38:13.379Z"
   },
   {
    "duration": 15,
    "start_time": "2021-12-30T16:38:13.459Z"
   },
   {
    "duration": 40,
    "start_time": "2021-12-30T16:38:13.477Z"
   },
   {
    "duration": 50,
    "start_time": "2021-12-30T16:38:13.519Z"
   },
   {
    "duration": 77,
    "start_time": "2021-12-30T16:38:13.571Z"
   },
   {
    "duration": 20,
    "start_time": "2021-12-30T16:38:13.651Z"
   },
   {
    "duration": 88,
    "start_time": "2021-12-30T16:38:13.674Z"
   },
   {
    "duration": 54,
    "start_time": "2021-12-30T16:38:13.764Z"
   },
   {
    "duration": 7,
    "start_time": "2021-12-30T16:38:13.820Z"
   },
   {
    "duration": 51,
    "start_time": "2021-12-30T16:38:13.829Z"
   },
   {
    "duration": 37,
    "start_time": "2021-12-30T16:38:13.882Z"
   },
   {
    "duration": 5,
    "start_time": "2021-12-30T16:38:13.921Z"
   },
   {
    "duration": 19,
    "start_time": "2021-12-30T16:38:13.931Z"
   },
   {
    "duration": 6,
    "start_time": "2021-12-30T16:38:13.953Z"
   },
   {
    "duration": 116,
    "start_time": "2021-12-30T16:38:13.962Z"
   },
   {
    "duration": 10,
    "start_time": "2021-12-30T16:38:14.080Z"
   },
   {
    "duration": 27,
    "start_time": "2021-12-30T16:38:14.092Z"
   },
   {
    "duration": 67,
    "start_time": "2021-12-30T16:38:14.121Z"
   },
   {
    "duration": 37,
    "start_time": "2021-12-30T16:38:14.190Z"
   },
   {
    "duration": 9,
    "start_time": "2021-12-30T16:38:14.229Z"
   },
   {
    "duration": 24,
    "start_time": "2021-12-30T16:38:14.240Z"
   },
   {
    "duration": 51,
    "start_time": "2021-12-30T16:38:14.266Z"
   },
   {
    "duration": 35,
    "start_time": "2021-12-30T16:38:14.319Z"
   },
   {
    "duration": 13,
    "start_time": "2021-12-30T16:38:14.356Z"
   },
   {
    "duration": 15,
    "start_time": "2021-12-30T16:38:14.371Z"
   },
   {
    "duration": 37,
    "start_time": "2021-12-30T16:38:14.416Z"
   },
   {
    "duration": 68,
    "start_time": "2021-12-30T16:38:14.456Z"
   },
   {
    "duration": 792,
    "start_time": "2021-12-30T16:38:14.527Z"
   },
   {
    "duration": 36,
    "start_time": "2021-12-30T16:38:15.322Z"
   },
   {
    "duration": 807,
    "start_time": "2021-12-30T16:38:15.361Z"
   },
   {
    "duration": 636,
    "start_time": "2021-12-30T16:38:16.170Z"
   },
   {
    "duration": 567,
    "start_time": "2021-12-30T16:38:16.808Z"
   },
   {
    "duration": 468,
    "start_time": "2021-12-30T16:38:17.377Z"
   },
   {
    "duration": 1248,
    "start_time": "2021-12-30T16:38:17.847Z"
   },
   {
    "duration": 1481,
    "start_time": "2021-12-30T16:38:19.098Z"
   },
   {
    "duration": 432,
    "start_time": "2021-12-30T16:51:31.570Z"
   },
   {
    "duration": 374,
    "start_time": "2021-12-30T16:51:39.466Z"
   },
   {
    "duration": 372,
    "start_time": "2021-12-30T16:53:26.559Z"
   },
   {
    "duration": 39,
    "start_time": "2021-12-30T16:54:22.406Z"
   },
   {
    "duration": 51,
    "start_time": "2021-12-30T16:54:43.881Z"
   },
   {
    "duration": 339,
    "start_time": "2021-12-30T16:55:45.366Z"
   },
   {
    "duration": 333,
    "start_time": "2021-12-30T16:56:49.931Z"
   },
   {
    "duration": 352,
    "start_time": "2021-12-30T16:56:56.357Z"
   },
   {
    "duration": 361,
    "start_time": "2021-12-30T16:58:13.424Z"
   },
   {
    "duration": 351,
    "start_time": "2021-12-30T16:58:45.192Z"
   },
   {
    "duration": 50,
    "start_time": "2021-12-30T16:58:55.535Z"
   },
   {
    "duration": 359,
    "start_time": "2021-12-30T16:59:47.613Z"
   },
   {
    "duration": 358,
    "start_time": "2021-12-30T17:00:04.379Z"
   },
   {
    "duration": 366,
    "start_time": "2021-12-30T17:00:44.941Z"
   },
   {
    "duration": 53,
    "start_time": "2021-12-30T17:04:30.830Z"
   },
   {
    "duration": 640,
    "start_time": "2021-12-30T17:07:24.858Z"
   },
   {
    "duration": 8481,
    "start_time": "2021-12-30T17:07:37.660Z"
   },
   {
    "duration": 335,
    "start_time": "2021-12-30T17:07:58.784Z"
   },
   {
    "duration": 424,
    "start_time": "2021-12-30T17:08:21.334Z"
   },
   {
    "duration": 646,
    "start_time": "2021-12-30T17:11:36.802Z"
   },
   {
    "duration": 348,
    "start_time": "2021-12-30T17:11:57.164Z"
   },
   {
    "duration": 356,
    "start_time": "2021-12-30T17:16:47.994Z"
   },
   {
    "duration": 389,
    "start_time": "2021-12-30T17:17:04.036Z"
   },
   {
    "duration": 1624,
    "start_time": "2021-12-30T17:17:54.087Z"
   },
   {
    "duration": 362,
    "start_time": "2021-12-30T17:18:15.258Z"
   },
   {
    "duration": 330,
    "start_time": "2021-12-30T17:19:02.758Z"
   },
   {
    "duration": 363,
    "start_time": "2021-12-30T17:19:15.723Z"
   },
   {
    "duration": 13741,
    "start_time": "2021-12-30T17:19:24.113Z"
   },
   {
    "duration": 24,
    "start_time": "2021-12-30T17:20:11.963Z"
   },
   {
    "duration": 320,
    "start_time": "2021-12-30T17:20:43.596Z"
   },
   {
    "duration": 335,
    "start_time": "2021-12-30T17:21:01.850Z"
   },
   {
    "duration": 342,
    "start_time": "2021-12-30T17:21:11.870Z"
   },
   {
    "duration": 394,
    "start_time": "2021-12-30T17:22:27.281Z"
   },
   {
    "duration": 1995,
    "start_time": "2021-12-30T17:27:38.034Z"
   },
   {
    "duration": 318,
    "start_time": "2021-12-30T17:27:54.276Z"
   },
   {
    "duration": 312,
    "start_time": "2021-12-30T17:29:24.537Z"
   },
   {
    "duration": 328,
    "start_time": "2021-12-30T17:30:21.496Z"
   },
   {
    "duration": 316,
    "start_time": "2021-12-30T17:30:49.876Z"
   },
   {
    "duration": 314,
    "start_time": "2021-12-30T17:31:38.134Z"
   },
   {
    "duration": 330,
    "start_time": "2021-12-30T17:39:08.200Z"
   },
   {
    "duration": 341,
    "start_time": "2021-12-30T17:42:13.291Z"
   },
   {
    "duration": 325,
    "start_time": "2021-12-30T17:43:23.621Z"
   },
   {
    "duration": 332,
    "start_time": "2021-12-30T17:43:37.644Z"
   },
   {
    "duration": 316,
    "start_time": "2021-12-30T17:44:36.897Z"
   },
   {
    "duration": 1033,
    "start_time": "2021-12-30T17:45:38.695Z"
   },
   {
    "duration": 1540,
    "start_time": "2021-12-30T17:53:30.701Z"
   },
   {
    "duration": 265,
    "start_time": "2021-12-30T17:54:37.702Z"
   },
   {
    "duration": 278,
    "start_time": "2021-12-30T17:55:02.711Z"
   },
   {
    "duration": 260,
    "start_time": "2021-12-30T17:55:23.874Z"
   },
   {
    "duration": 265,
    "start_time": "2021-12-30T17:55:30.282Z"
   },
   {
    "duration": 650,
    "start_time": "2021-12-30T18:43:39.107Z"
   },
   {
    "duration": 290,
    "start_time": "2021-12-30T18:44:02.848Z"
   },
   {
    "duration": 289,
    "start_time": "2021-12-30T18:47:05.905Z"
   },
   {
    "duration": 300,
    "start_time": "2021-12-30T18:47:30.860Z"
   },
   {
    "duration": 317,
    "start_time": "2021-12-30T18:56:43.857Z"
   },
   {
    "duration": 303,
    "start_time": "2021-12-30T18:59:06.209Z"
   },
   {
    "duration": 319,
    "start_time": "2021-12-30T18:59:32.958Z"
   },
   {
    "duration": 747,
    "start_time": "2021-12-30T19:00:24.061Z"
   },
   {
    "duration": 722,
    "start_time": "2021-12-30T19:00:43.194Z"
   },
   {
    "duration": 323,
    "start_time": "2021-12-30T19:01:06.924Z"
   },
   {
    "duration": 328,
    "start_time": "2021-12-30T19:10:48.191Z"
   },
   {
    "duration": 28,
    "start_time": "2021-12-30T20:09:08.924Z"
   },
   {
    "duration": 37,
    "start_time": "2021-12-30T20:09:20.656Z"
   },
   {
    "duration": 35,
    "start_time": "2021-12-30T20:10:05.321Z"
   },
   {
    "duration": 418,
    "start_time": "2021-12-30T20:10:39.395Z"
   },
   {
    "duration": 35,
    "start_time": "2021-12-30T20:12:11.506Z"
   },
   {
    "duration": 36,
    "start_time": "2021-12-30T20:12:58.191Z"
   },
   {
    "duration": 36,
    "start_time": "2021-12-30T20:13:29.620Z"
   },
   {
    "duration": 36,
    "start_time": "2021-12-30T20:13:57.482Z"
   },
   {
    "duration": 36,
    "start_time": "2021-12-30T20:15:21.237Z"
   },
   {
    "duration": 37,
    "start_time": "2021-12-30T20:16:42.030Z"
   },
   {
    "duration": 38,
    "start_time": "2021-12-30T20:19:15.476Z"
   },
   {
    "duration": 38,
    "start_time": "2021-12-30T20:20:25.846Z"
   },
   {
    "duration": 107,
    "start_time": "2021-12-30T20:21:05.240Z"
   },
   {
    "duration": 40,
    "start_time": "2021-12-30T20:21:13.204Z"
   },
   {
    "duration": 46,
    "start_time": "2021-12-30T20:21:44.819Z"
   },
   {
    "duration": 70,
    "start_time": "2021-12-30T20:35:12.411Z"
   },
   {
    "duration": 18,
    "start_time": "2021-12-30T20:35:50.270Z"
   },
   {
    "duration": 14,
    "start_time": "2021-12-30T20:37:01.857Z"
   },
   {
    "duration": 13,
    "start_time": "2021-12-30T20:37:13.171Z"
   },
   {
    "duration": 109,
    "start_time": "2021-12-30T20:39:55.686Z"
   },
   {
    "duration": 16,
    "start_time": "2021-12-30T20:40:52.615Z"
   },
   {
    "duration": 14,
    "start_time": "2021-12-30T20:41:30.178Z"
   },
   {
    "duration": 25,
    "start_time": "2021-12-30T20:41:52.549Z"
   },
   {
    "duration": 24,
    "start_time": "2021-12-30T20:43:16.196Z"
   },
   {
    "duration": 45,
    "start_time": "2021-12-30T20:43:30.389Z"
   },
   {
    "duration": 40,
    "start_time": "2021-12-30T20:43:58.259Z"
   },
   {
    "duration": 40,
    "start_time": "2021-12-30T20:44:07.436Z"
   },
   {
    "duration": 6106,
    "start_time": "2021-12-30T20:47:06.329Z"
   },
   {
    "duration": 343,
    "start_time": "2021-12-30T20:49:24.101Z"
   },
   {
    "duration": 16,
    "start_time": "2021-12-30T20:53:45.720Z"
   },
   {
    "duration": 404,
    "start_time": "2021-12-30T20:56:20.227Z"
   },
   {
    "duration": 377,
    "start_time": "2021-12-30T20:56:47.961Z"
   },
   {
    "duration": 314,
    "start_time": "2021-12-30T20:57:07.023Z"
   },
   {
    "duration": 296,
    "start_time": "2021-12-30T20:57:32.125Z"
   },
   {
    "duration": 424,
    "start_time": "2021-12-30T21:01:30.928Z"
   },
   {
    "duration": 338,
    "start_time": "2021-12-30T21:01:47.581Z"
   },
   {
    "duration": 292,
    "start_time": "2021-12-30T21:02:27.251Z"
   },
   {
    "duration": 410,
    "start_time": "2021-12-30T21:03:23.143Z"
   },
   {
    "duration": 304,
    "start_time": "2021-12-30T21:04:24.872Z"
   },
   {
    "duration": 300,
    "start_time": "2021-12-30T21:09:20.124Z"
   },
   {
    "duration": 426,
    "start_time": "2021-12-30T21:09:35.594Z"
   },
   {
    "duration": 335,
    "start_time": "2021-12-30T21:09:46.105Z"
   },
   {
    "duration": 308,
    "start_time": "2021-12-30T21:09:54.794Z"
   },
   {
    "duration": 976,
    "start_time": "2021-12-31T06:56:24.876Z"
   },
   {
    "duration": 39,
    "start_time": "2021-12-31T06:56:25.854Z"
   },
   {
    "duration": 24,
    "start_time": "2021-12-31T06:56:25.896Z"
   },
   {
    "duration": 10,
    "start_time": "2021-12-31T06:56:25.923Z"
   },
   {
    "duration": 42,
    "start_time": "2021-12-31T06:56:25.936Z"
   },
   {
    "duration": 38,
    "start_time": "2021-12-31T06:56:25.980Z"
   },
   {
    "duration": 5,
    "start_time": "2021-12-31T06:56:26.021Z"
   },
   {
    "duration": 46,
    "start_time": "2021-12-31T06:56:26.030Z"
   },
   {
    "duration": 43,
    "start_time": "2021-12-31T06:56:26.079Z"
   },
   {
    "duration": 5,
    "start_time": "2021-12-31T06:56:26.124Z"
   },
   {
    "duration": 61,
    "start_time": "2021-12-31T06:56:26.132Z"
   },
   {
    "duration": 15,
    "start_time": "2021-12-31T06:56:26.218Z"
   },
   {
    "duration": 8,
    "start_time": "2021-12-31T06:56:26.236Z"
   },
   {
    "duration": 81,
    "start_time": "2021-12-31T06:56:26.246Z"
   },
   {
    "duration": 52,
    "start_time": "2021-12-31T06:56:26.329Z"
   },
   {
    "duration": 42,
    "start_time": "2021-12-31T06:56:26.383Z"
   },
   {
    "duration": 54,
    "start_time": "2021-12-31T06:56:26.428Z"
   },
   {
    "duration": 64,
    "start_time": "2021-12-31T06:56:26.485Z"
   },
   {
    "duration": 7,
    "start_time": "2021-12-31T06:56:26.551Z"
   },
   {
    "duration": 70,
    "start_time": "2021-12-31T06:56:26.561Z"
   },
   {
    "duration": 10,
    "start_time": "2021-12-31T06:56:26.634Z"
   },
   {
    "duration": 5,
    "start_time": "2021-12-31T06:56:26.647Z"
   },
   {
    "duration": 17,
    "start_time": "2021-12-31T06:56:26.657Z"
   },
   {
    "duration": 44,
    "start_time": "2021-12-31T06:56:26.677Z"
   },
   {
    "duration": 73,
    "start_time": "2021-12-31T06:56:26.723Z"
   },
   {
    "duration": 32,
    "start_time": "2021-12-31T06:56:26.799Z"
   },
   {
    "duration": 10,
    "start_time": "2021-12-31T06:56:26.833Z"
   },
   {
    "duration": 94,
    "start_time": "2021-12-31T06:56:26.846Z"
   },
   {
    "duration": 16,
    "start_time": "2021-12-31T06:56:26.942Z"
   },
   {
    "duration": 8,
    "start_time": "2021-12-31T06:56:26.960Z"
   },
   {
    "duration": 60,
    "start_time": "2021-12-31T06:56:26.970Z"
   },
   {
    "duration": 11,
    "start_time": "2021-12-31T06:56:27.032Z"
   },
   {
    "duration": 36,
    "start_time": "2021-12-31T06:56:27.045Z"
   },
   {
    "duration": 37,
    "start_time": "2021-12-31T06:56:27.083Z"
   },
   {
    "duration": 15,
    "start_time": "2021-12-31T06:56:27.122Z"
   },
   {
    "duration": 35,
    "start_time": "2021-12-31T06:56:27.139Z"
   },
   {
    "duration": 72,
    "start_time": "2021-12-31T06:56:27.176Z"
   },
   {
    "duration": 817,
    "start_time": "2021-12-31T06:56:27.250Z"
   },
   {
    "duration": 49,
    "start_time": "2021-12-31T06:56:28.069Z"
   },
   {
    "duration": 787,
    "start_time": "2021-12-31T06:56:28.121Z"
   },
   {
    "duration": 743,
    "start_time": "2021-12-31T06:56:28.911Z"
   },
   {
    "duration": 463,
    "start_time": "2021-12-31T06:56:29.656Z"
   },
   {
    "duration": 490,
    "start_time": "2021-12-31T06:56:30.122Z"
   },
   {
    "duration": 1381,
    "start_time": "2021-12-31T06:56:30.617Z"
   },
   {
    "duration": 1391,
    "start_time": "2021-12-31T06:56:32.001Z"
   },
   {
    "duration": 347,
    "start_time": "2021-12-31T06:56:33.394Z"
   },
   {
    "duration": 334,
    "start_time": "2021-12-31T06:56:33.743Z"
   },
   {
    "duration": 953,
    "start_time": "2021-12-31T06:56:34.080Z"
   },
   {
    "duration": 278,
    "start_time": "2021-12-31T06:56:35.036Z"
   },
   {
    "duration": 303,
    "start_time": "2021-12-31T06:56:35.317Z"
   },
   {
    "duration": 331,
    "start_time": "2021-12-31T06:56:35.623Z"
   },
   {
    "duration": 443,
    "start_time": "2021-12-31T06:56:35.956Z"
   },
   {
    "duration": 56,
    "start_time": "2021-12-31T06:56:36.401Z"
   },
   {
    "duration": 346,
    "start_time": "2021-12-31T06:56:36.459Z"
   },
   {
    "duration": 115,
    "start_time": "2021-12-31T06:56:36.807Z"
   },
   {
    "duration": 324,
    "start_time": "2021-12-31T07:01:08.790Z"
   },
   {
    "duration": 291,
    "start_time": "2021-12-31T07:01:15.148Z"
   },
   {
    "duration": 16,
    "start_time": "2021-12-31T07:03:50.057Z"
   },
   {
    "duration": 10,
    "start_time": "2021-12-31T07:04:44.508Z"
   },
   {
    "duration": 33,
    "start_time": "2021-12-31T07:31:16.609Z"
   },
   {
    "duration": 572,
    "start_time": "2021-12-31T07:35:24.146Z"
   },
   {
    "duration": 601,
    "start_time": "2021-12-31T07:35:34.015Z"
   },
   {
    "duration": 26,
    "start_time": "2021-12-31T07:36:08.519Z"
   },
   {
    "duration": 28,
    "start_time": "2021-12-31T07:37:27.865Z"
   },
   {
    "duration": 359,
    "start_time": "2021-12-31T07:41:23.788Z"
   },
   {
    "duration": 329,
    "start_time": "2021-12-31T07:41:43.788Z"
   },
   {
    "duration": 341,
    "start_time": "2021-12-31T07:42:01.226Z"
   },
   {
    "duration": 331,
    "start_time": "2021-12-31T08:25:52.518Z"
   },
   {
    "duration": 335,
    "start_time": "2021-12-31T08:27:14.662Z"
   },
   {
    "duration": 267,
    "start_time": "2021-12-31T08:35:18.132Z"
   },
   {
    "duration": 408,
    "start_time": "2021-12-31T08:44:31.717Z"
   },
   {
    "duration": 333,
    "start_time": "2021-12-31T08:49:58.273Z"
   },
   {
    "duration": 304,
    "start_time": "2021-12-31T08:55:22.315Z"
   },
   {
    "duration": 300,
    "start_time": "2021-12-31T08:55:38.896Z"
   },
   {
    "duration": 305,
    "start_time": "2021-12-31T09:00:00.303Z"
   },
   {
    "duration": 147,
    "start_time": "2021-12-31T09:27:16.396Z"
   },
   {
    "duration": 38,
    "start_time": "2021-12-31T09:27:16.546Z"
   },
   {
    "duration": 6,
    "start_time": "2021-12-31T09:27:16.618Z"
   },
   {
    "duration": 28,
    "start_time": "2021-12-31T09:27:16.627Z"
   },
   {
    "duration": 67,
    "start_time": "2021-12-31T09:27:16.658Z"
   },
   {
    "duration": 8,
    "start_time": "2021-12-31T09:27:16.728Z"
   },
   {
    "duration": 7,
    "start_time": "2021-12-31T09:27:16.738Z"
   },
   {
    "duration": 77,
    "start_time": "2021-12-31T09:27:16.749Z"
   },
   {
    "duration": 14,
    "start_time": "2021-12-31T09:27:16.829Z"
   },
   {
    "duration": 6,
    "start_time": "2021-12-31T09:27:16.846Z"
   },
   {
    "duration": 78,
    "start_time": "2021-12-31T09:27:16.854Z"
   },
   {
    "duration": 16,
    "start_time": "2021-12-31T09:27:16.935Z"
   },
   {
    "duration": 9,
    "start_time": "2021-12-31T09:27:16.954Z"
   },
   {
    "duration": 81,
    "start_time": "2021-12-31T09:27:16.965Z"
   },
   {
    "duration": 71,
    "start_time": "2021-12-31T09:27:17.048Z"
   },
   {
    "duration": 18,
    "start_time": "2021-12-31T09:27:17.121Z"
   },
   {
    "duration": 82,
    "start_time": "2021-12-31T09:27:17.141Z"
   },
   {
    "duration": 38,
    "start_time": "2021-12-31T09:27:17.226Z"
   },
   {
    "duration": 8,
    "start_time": "2021-12-31T09:27:17.266Z"
   },
   {
    "duration": 85,
    "start_time": "2021-12-31T09:27:17.276Z"
   },
   {
    "duration": 15,
    "start_time": "2021-12-31T09:27:17.363Z"
   },
   {
    "duration": 12,
    "start_time": "2021-12-31T09:27:17.380Z"
   },
   {
    "duration": 36,
    "start_time": "2021-12-31T09:27:17.398Z"
   },
   {
    "duration": 6,
    "start_time": "2021-12-31T09:27:17.437Z"
   },
   {
    "duration": 91,
    "start_time": "2021-12-31T09:27:17.446Z"
   },
   {
    "duration": 11,
    "start_time": "2021-12-31T09:27:17.540Z"
   },
   {
    "duration": 10,
    "start_time": "2021-12-31T09:27:17.554Z"
   },
   {
    "duration": 105,
    "start_time": "2021-12-31T09:27:17.567Z"
   },
   {
    "duration": 16,
    "start_time": "2021-12-31T09:27:17.674Z"
   },
   {
    "duration": 30,
    "start_time": "2021-12-31T09:27:17.692Z"
   },
   {
    "duration": 26,
    "start_time": "2021-12-31T09:27:17.724Z"
   },
   {
    "duration": 13,
    "start_time": "2021-12-31T09:27:17.754Z"
   },
   {
    "duration": 76,
    "start_time": "2021-12-31T09:27:17.770Z"
   },
   {
    "duration": 15,
    "start_time": "2021-12-31T09:27:17.849Z"
   },
   {
    "duration": 50,
    "start_time": "2021-12-31T09:27:17.867Z"
   },
   {
    "duration": 39,
    "start_time": "2021-12-31T09:27:17.920Z"
   },
   {
    "duration": 76,
    "start_time": "2021-12-31T09:27:17.962Z"
   },
   {
    "duration": 937,
    "start_time": "2021-12-31T09:27:18.041Z"
   },
   {
    "duration": 54,
    "start_time": "2021-12-31T09:27:18.981Z"
   },
   {
    "duration": 634,
    "start_time": "2021-12-31T09:27:19.038Z"
   },
   {
    "duration": 718,
    "start_time": "2021-12-31T09:27:19.675Z"
   },
   {
    "duration": 481,
    "start_time": "2021-12-31T09:27:20.396Z"
   },
   {
    "duration": 481,
    "start_time": "2021-12-31T09:27:20.880Z"
   },
   {
    "duration": 1375,
    "start_time": "2021-12-31T09:27:21.364Z"
   },
   {
    "duration": 1616,
    "start_time": "2021-12-31T09:27:22.742Z"
   },
   {
    "duration": 457,
    "start_time": "2021-12-31T09:27:24.360Z"
   },
   {
    "duration": 344,
    "start_time": "2021-12-31T09:27:24.820Z"
   },
   {
    "duration": 953,
    "start_time": "2021-12-31T09:27:25.166Z"
   },
   {
    "duration": 271,
    "start_time": "2021-12-31T09:27:26.122Z"
   },
   {
    "duration": 321,
    "start_time": "2021-12-31T09:27:26.396Z"
   },
   {
    "duration": 388,
    "start_time": "2021-12-31T09:27:26.720Z"
   },
   {
    "duration": 342,
    "start_time": "2021-12-31T09:27:27.117Z"
   },
   {
    "duration": 61,
    "start_time": "2021-12-31T09:27:27.462Z"
   },
   {
    "duration": 320,
    "start_time": "2021-12-31T09:27:27.526Z"
   },
   {
    "duration": 366,
    "start_time": "2021-12-31T09:27:27.848Z"
   },
   {
    "duration": 338,
    "start_time": "2021-12-31T09:27:28.216Z"
   },
   {
    "duration": 349,
    "start_time": "2021-12-31T09:27:28.556Z"
   },
   {
    "duration": 329,
    "start_time": "2021-12-31T09:27:28.907Z"
   },
   {
    "duration": 317,
    "start_time": "2021-12-31T09:27:29.238Z"
   },
   {
    "duration": 311,
    "start_time": "2021-12-31T09:27:29.558Z"
   },
   {
    "duration": 326,
    "start_time": "2021-12-31T09:27:29.872Z"
   },
   {
    "duration": 995,
    "start_time": "2022-01-01T20:38:02.214Z"
   },
   {
    "duration": 53,
    "start_time": "2022-01-01T20:38:03.213Z"
   },
   {
    "duration": 6,
    "start_time": "2022-01-01T20:38:03.270Z"
   },
   {
    "duration": 10,
    "start_time": "2022-01-01T20:38:03.280Z"
   },
   {
    "duration": 97,
    "start_time": "2022-01-01T20:38:03.293Z"
   },
   {
    "duration": 10,
    "start_time": "2022-01-01T20:38:03.392Z"
   },
   {
    "duration": 7,
    "start_time": "2022-01-01T20:38:03.405Z"
   },
   {
    "duration": 86,
    "start_time": "2022-01-01T20:38:03.416Z"
   },
   {
    "duration": 19,
    "start_time": "2022-01-01T20:38:03.505Z"
   },
   {
    "duration": 6,
    "start_time": "2022-01-01T20:38:03.527Z"
   },
   {
    "duration": 48,
    "start_time": "2022-01-01T20:38:03.563Z"
   },
   {
    "duration": 15,
    "start_time": "2022-01-01T20:38:03.613Z"
   },
   {
    "duration": 37,
    "start_time": "2022-01-01T20:38:03.631Z"
   },
   {
    "duration": 47,
    "start_time": "2022-01-01T20:38:03.671Z"
   },
   {
    "duration": 83,
    "start_time": "2022-01-01T20:38:03.721Z"
   },
   {
    "duration": 18,
    "start_time": "2022-01-01T20:38:03.807Z"
   },
   {
    "duration": 82,
    "start_time": "2022-01-01T20:38:03.828Z"
   },
   {
    "duration": 57,
    "start_time": "2022-01-01T20:38:03.913Z"
   },
   {
    "duration": 7,
    "start_time": "2022-01-01T20:38:03.973Z"
   },
   {
    "duration": 83,
    "start_time": "2022-01-01T20:38:03.982Z"
   },
   {
    "duration": 10,
    "start_time": "2022-01-01T20:38:04.068Z"
   },
   {
    "duration": 5,
    "start_time": "2022-01-01T20:38:04.081Z"
   },
   {
    "duration": 19,
    "start_time": "2022-01-01T20:38:04.092Z"
   },
   {
    "duration": 49,
    "start_time": "2022-01-01T20:38:04.114Z"
   },
   {
    "duration": 107,
    "start_time": "2022-01-01T20:38:04.166Z"
   },
   {
    "duration": 12,
    "start_time": "2022-01-01T20:38:04.276Z"
   },
   {
    "duration": 26,
    "start_time": "2022-01-01T20:38:04.291Z"
   },
   {
    "duration": 85,
    "start_time": "2022-01-01T20:38:04.320Z"
   },
   {
    "duration": 17,
    "start_time": "2022-01-01T20:38:04.408Z"
   },
   {
    "duration": 35,
    "start_time": "2022-01-01T20:38:04.427Z"
   },
   {
    "duration": 24,
    "start_time": "2022-01-01T20:38:04.464Z"
   },
   {
    "duration": 11,
    "start_time": "2022-01-01T20:38:04.490Z"
   },
   {
    "duration": 74,
    "start_time": "2022-01-01T20:38:04.504Z"
   },
   {
    "duration": 16,
    "start_time": "2022-01-01T20:38:04.581Z"
   },
   {
    "duration": 15,
    "start_time": "2022-01-01T20:38:04.599Z"
   },
   {
    "duration": 68,
    "start_time": "2022-01-01T20:38:04.617Z"
   },
   {
    "duration": 45,
    "start_time": "2022-01-01T20:38:04.687Z"
   },
   {
    "duration": 912,
    "start_time": "2022-01-01T20:38:04.735Z"
   },
   {
    "duration": 47,
    "start_time": "2022-01-01T20:38:05.649Z"
   },
   {
    "duration": 860,
    "start_time": "2022-01-01T20:38:05.698Z"
   },
   {
    "duration": 753,
    "start_time": "2022-01-01T20:38:06.564Z"
   },
   {
    "duration": 509,
    "start_time": "2022-01-01T20:38:07.320Z"
   },
   {
    "duration": 554,
    "start_time": "2022-01-01T20:38:07.832Z"
   },
   {
    "duration": 1484,
    "start_time": "2022-01-01T20:38:08.388Z"
   },
   {
    "duration": 1570,
    "start_time": "2022-01-01T20:38:09.875Z"
   },
   {
    "duration": 364,
    "start_time": "2022-01-01T20:38:11.447Z"
   },
   {
    "duration": 354,
    "start_time": "2022-01-01T20:38:11.814Z"
   },
   {
    "duration": 1062,
    "start_time": "2022-01-01T20:38:12.171Z"
   },
   {
    "duration": 277,
    "start_time": "2022-01-01T20:38:13.236Z"
   },
   {
    "duration": 315,
    "start_time": "2022-01-01T20:38:13.515Z"
   },
   {
    "duration": 347,
    "start_time": "2022-01-01T20:38:13.832Z"
   },
   {
    "duration": 435,
    "start_time": "2022-01-01T20:38:14.182Z"
   },
   {
    "duration": 71,
    "start_time": "2022-01-01T20:38:14.619Z"
   },
   {
    "duration": 395,
    "start_time": "2022-01-01T20:38:14.692Z"
   },
   {
    "duration": 407,
    "start_time": "2022-01-01T20:38:15.089Z"
   },
   {
    "duration": 431,
    "start_time": "2022-01-01T20:38:15.499Z"
   },
   {
    "duration": 420,
    "start_time": "2022-01-01T20:38:15.933Z"
   },
   {
    "duration": 340,
    "start_time": "2022-01-01T20:38:16.362Z"
   },
   {
    "duration": 345,
    "start_time": "2022-01-01T20:38:16.705Z"
   },
   {
    "duration": 382,
    "start_time": "2022-01-01T20:38:17.053Z"
   },
   {
    "duration": 353,
    "start_time": "2022-01-01T20:38:17.438Z"
   },
   {
    "duration": 388,
    "start_time": "2022-01-01T21:47:11.558Z"
   },
   {
    "duration": 914,
    "start_time": "2022-01-01T21:47:16.585Z"
   },
   {
    "duration": 47,
    "start_time": "2022-01-01T21:47:17.502Z"
   },
   {
    "duration": 5,
    "start_time": "2022-01-01T21:47:17.553Z"
   },
   {
    "duration": 7,
    "start_time": "2022-01-01T21:47:17.561Z"
   },
   {
    "duration": 66,
    "start_time": "2022-01-01T21:47:17.570Z"
   },
   {
    "duration": 8,
    "start_time": "2022-01-01T21:47:17.639Z"
   },
   {
    "duration": 6,
    "start_time": "2022-01-01T21:47:17.650Z"
   },
   {
    "duration": 67,
    "start_time": "2022-01-01T21:47:17.660Z"
   },
   {
    "duration": 13,
    "start_time": "2022-01-01T21:47:17.730Z"
   },
   {
    "duration": 9,
    "start_time": "2022-01-01T21:47:17.745Z"
   },
   {
    "duration": 74,
    "start_time": "2022-01-01T21:47:17.756Z"
   },
   {
    "duration": 6,
    "start_time": "2022-01-01T21:47:17.832Z"
   },
   {
    "duration": 11,
    "start_time": "2022-01-01T21:47:17.840Z"
   },
   {
    "duration": 70,
    "start_time": "2022-01-01T21:47:17.854Z"
   },
   {
    "duration": 50,
    "start_time": "2022-01-01T21:47:17.927Z"
   },
   {
    "duration": 45,
    "start_time": "2022-01-01T21:47:17.979Z"
   },
   {
    "duration": 51,
    "start_time": "2022-01-01T21:47:18.026Z"
   },
   {
    "duration": 56,
    "start_time": "2022-01-01T21:47:18.079Z"
   },
   {
    "duration": 6,
    "start_time": "2022-01-01T21:47:18.137Z"
   },
   {
    "duration": 52,
    "start_time": "2022-01-01T21:47:18.146Z"
   },
   {
    "duration": 29,
    "start_time": "2022-01-01T21:47:18.200Z"
   },
   {
    "duration": 6,
    "start_time": "2022-01-01T21:47:18.231Z"
   },
   {
    "duration": 17,
    "start_time": "2022-01-01T21:47:18.244Z"
   },
   {
    "duration": 6,
    "start_time": "2022-01-01T21:47:18.264Z"
   },
   {
    "duration": 112,
    "start_time": "2022-01-01T21:47:18.272Z"
   },
   {
    "duration": 10,
    "start_time": "2022-01-01T21:47:18.387Z"
   },
   {
    "duration": 30,
    "start_time": "2022-01-01T21:47:18.399Z"
   },
   {
    "duration": 62,
    "start_time": "2022-01-01T21:47:18.431Z"
   },
   {
    "duration": 36,
    "start_time": "2022-01-01T21:47:18.495Z"
   },
   {
    "duration": 8,
    "start_time": "2022-01-01T21:47:18.533Z"
   },
   {
    "duration": 24,
    "start_time": "2022-01-01T21:47:18.543Z"
   },
   {
    "duration": 12,
    "start_time": "2022-01-01T21:47:18.569Z"
   },
   {
    "duration": 34,
    "start_time": "2022-01-01T21:47:18.624Z"
   },
   {
    "duration": 13,
    "start_time": "2022-01-01T21:47:18.661Z"
   },
   {
    "duration": 47,
    "start_time": "2022-01-01T21:47:18.676Z"
   },
   {
    "duration": 35,
    "start_time": "2022-01-01T21:47:18.725Z"
   },
   {
    "duration": 65,
    "start_time": "2022-01-01T21:47:18.763Z"
   },
   {
    "duration": 774,
    "start_time": "2022-01-01T21:47:18.830Z"
   },
   {
    "duration": 47,
    "start_time": "2022-01-01T21:47:19.606Z"
   },
   {
    "duration": 773,
    "start_time": "2022-01-01T21:47:19.656Z"
   },
   {
    "duration": 634,
    "start_time": "2022-01-01T21:47:20.431Z"
   },
   {
    "duration": 450,
    "start_time": "2022-01-01T21:47:21.067Z"
   },
   {
    "duration": 437,
    "start_time": "2022-01-01T21:47:21.523Z"
   },
   {
    "duration": 1172,
    "start_time": "2022-01-01T21:47:21.962Z"
   },
   {
    "duration": 1311,
    "start_time": "2022-01-01T21:47:23.137Z"
   },
   {
    "duration": 347,
    "start_time": "2022-01-01T21:47:24.451Z"
   },
   {
    "duration": 319,
    "start_time": "2022-01-01T21:47:24.800Z"
   },
   {
    "duration": 908,
    "start_time": "2022-01-01T21:47:25.123Z"
   },
   {
    "duration": 272,
    "start_time": "2022-01-01T21:47:26.033Z"
   },
   {
    "duration": 311,
    "start_time": "2022-01-01T21:47:26.308Z"
   },
   {
    "duration": 316,
    "start_time": "2022-01-01T21:47:26.624Z"
   },
   {
    "duration": 380,
    "start_time": "2022-01-01T21:47:26.943Z"
   },
   {
    "duration": 49,
    "start_time": "2022-01-01T21:47:27.326Z"
   },
   {
    "duration": 319,
    "start_time": "2022-01-01T21:47:27.378Z"
   },
   {
    "duration": 345,
    "start_time": "2022-01-01T21:47:27.700Z"
   },
   {
    "duration": 344,
    "start_time": "2022-01-01T21:47:28.048Z"
   },
   {
    "duration": 262,
    "start_time": "2022-01-01T21:47:28.395Z"
   },
   {
    "duration": 302,
    "start_time": "2022-01-01T21:47:28.659Z"
   },
   {
    "duration": 319,
    "start_time": "2022-01-01T21:47:28.964Z"
   },
   {
    "duration": 295,
    "start_time": "2022-01-01T21:47:29.286Z"
   },
   {
    "duration": 403,
    "start_time": "2022-01-01T21:47:29.584Z"
   },
   {
    "duration": 465,
    "start_time": "2022-01-01T21:53:01.764Z"
   },
   {
    "duration": 411,
    "start_time": "2022-01-01T21:53:10.473Z"
   },
   {
    "duration": 137,
    "start_time": "2022-01-01T22:03:14.506Z"
   },
   {
    "duration": 35,
    "start_time": "2022-01-01T22:03:14.645Z"
   },
   {
    "duration": 4,
    "start_time": "2022-01-01T22:03:14.683Z"
   },
   {
    "duration": 40,
    "start_time": "2022-01-01T22:03:14.689Z"
   },
   {
    "duration": 41,
    "start_time": "2022-01-01T22:03:14.731Z"
   },
   {
    "duration": 50,
    "start_time": "2022-01-01T22:03:14.775Z"
   },
   {
    "duration": 6,
    "start_time": "2022-01-01T22:03:14.827Z"
   },
   {
    "duration": 38,
    "start_time": "2022-01-01T22:03:14.934Z"
   },
   {
    "duration": 13,
    "start_time": "2022-01-01T22:03:14.976Z"
   },
   {
    "duration": 33,
    "start_time": "2022-01-01T22:03:14.992Z"
   },
   {
    "duration": 51,
    "start_time": "2022-01-01T22:03:15.027Z"
   },
   {
    "duration": 5,
    "start_time": "2022-01-01T22:03:15.080Z"
   },
   {
    "duration": 38,
    "start_time": "2022-01-01T22:03:15.088Z"
   },
   {
    "duration": 49,
    "start_time": "2022-01-01T22:03:15.128Z"
   },
   {
    "duration": 72,
    "start_time": "2022-01-01T22:03:15.179Z"
   },
   {
    "duration": 16,
    "start_time": "2022-01-01T22:03:15.253Z"
   },
   {
    "duration": 78,
    "start_time": "2022-01-01T22:03:15.271Z"
   },
   {
    "duration": 36,
    "start_time": "2022-01-01T22:03:15.351Z"
   },
   {
    "duration": 6,
    "start_time": "2022-01-01T22:03:15.389Z"
   },
   {
    "duration": 49,
    "start_time": "2022-01-01T22:03:15.424Z"
   },
   {
    "duration": 15,
    "start_time": "2022-01-01T22:03:15.475Z"
   },
   {
    "duration": 5,
    "start_time": "2022-01-01T22:03:15.492Z"
   },
   {
    "duration": 17,
    "start_time": "2022-01-01T22:03:15.526Z"
   },
   {
    "duration": 5,
    "start_time": "2022-01-01T22:03:15.546Z"
   },
   {
    "duration": 87,
    "start_time": "2022-01-01T22:03:15.554Z"
   },
   {
    "duration": 10,
    "start_time": "2022-01-01T22:03:15.643Z"
   },
   {
    "duration": 8,
    "start_time": "2022-01-01T22:03:15.656Z"
   },
   {
    "duration": 95,
    "start_time": "2022-01-01T22:03:15.667Z"
   },
   {
    "duration": 16,
    "start_time": "2022-01-01T22:03:15.764Z"
   },
   {
    "duration": 13,
    "start_time": "2022-01-01T22:03:15.783Z"
   },
   {
    "duration": 45,
    "start_time": "2022-01-01T22:03:15.799Z"
   },
   {
    "duration": 12,
    "start_time": "2022-01-01T22:03:15.847Z"
   },
   {
    "duration": 64,
    "start_time": "2022-01-01T22:03:15.861Z"
   },
   {
    "duration": 14,
    "start_time": "2022-01-01T22:03:15.927Z"
   },
   {
    "duration": 15,
    "start_time": "2022-01-01T22:03:15.944Z"
   },
   {
    "duration": 63,
    "start_time": "2022-01-01T22:03:15.961Z"
   },
   {
    "duration": 43,
    "start_time": "2022-01-01T22:03:16.027Z"
   },
   {
    "duration": 790,
    "start_time": "2022-01-01T22:03:16.072Z"
   },
   {
    "duration": 33,
    "start_time": "2022-01-01T22:03:16.864Z"
   },
   {
    "duration": 642,
    "start_time": "2022-01-01T22:03:16.899Z"
   },
   {
    "duration": 613,
    "start_time": "2022-01-01T22:03:17.544Z"
   },
   {
    "duration": 443,
    "start_time": "2022-01-01T22:03:18.159Z"
   },
   {
    "duration": 458,
    "start_time": "2022-01-01T22:03:18.604Z"
   },
   {
    "duration": 1252,
    "start_time": "2022-01-01T22:03:19.065Z"
   },
   {
    "duration": 1211,
    "start_time": "2022-01-01T22:03:20.320Z"
   },
   {
    "duration": 321,
    "start_time": "2022-01-01T22:03:21.533Z"
   },
   {
    "duration": 337,
    "start_time": "2022-01-01T22:03:21.856Z"
   },
   {
    "duration": 905,
    "start_time": "2022-01-01T22:03:22.196Z"
   },
   {
    "duration": 392,
    "start_time": "2022-01-01T22:03:23.104Z"
   },
   {
    "duration": 322,
    "start_time": "2022-01-01T22:03:23.498Z"
   },
   {
    "duration": 332,
    "start_time": "2022-01-01T22:03:23.824Z"
   },
   {
    "duration": 331,
    "start_time": "2022-01-01T22:03:24.158Z"
   },
   {
    "duration": 65,
    "start_time": "2022-01-01T22:03:24.492Z"
   },
   {
    "duration": 319,
    "start_time": "2022-01-01T22:03:24.560Z"
   },
   {
    "duration": 347,
    "start_time": "2022-01-01T22:03:24.882Z"
   },
   {
    "duration": 324,
    "start_time": "2022-01-01T22:03:25.233Z"
   },
   {
    "duration": 282,
    "start_time": "2022-01-01T22:03:25.560Z"
   },
   {
    "duration": 308,
    "start_time": "2022-01-01T22:03:25.844Z"
   },
   {
    "duration": 325,
    "start_time": "2022-01-01T22:03:26.155Z"
   },
   {
    "duration": 293,
    "start_time": "2022-01-01T22:03:26.482Z"
   },
   {
    "duration": 365,
    "start_time": "2022-01-01T22:03:26.777Z"
   },
   {
    "duration": 777,
    "start_time": "2022-01-02T21:33:09.044Z"
   },
   {
    "duration": 40,
    "start_time": "2022-01-02T21:33:09.824Z"
   },
   {
    "duration": 4,
    "start_time": "2022-01-02T21:33:09.867Z"
   },
   {
    "duration": 7,
    "start_time": "2022-01-02T21:33:09.873Z"
   },
   {
    "duration": 25,
    "start_time": "2022-01-02T21:33:09.882Z"
   },
   {
    "duration": 5,
    "start_time": "2022-01-02T21:33:09.909Z"
   },
   {
    "duration": 5,
    "start_time": "2022-01-02T21:33:09.916Z"
   },
   {
    "duration": 58,
    "start_time": "2022-01-02T21:33:09.924Z"
   },
   {
    "duration": 11,
    "start_time": "2022-01-02T21:33:09.984Z"
   },
   {
    "duration": 7,
    "start_time": "2022-01-02T21:33:09.996Z"
   },
   {
    "duration": 67,
    "start_time": "2022-01-02T21:33:10.005Z"
   },
   {
    "duration": 6,
    "start_time": "2022-01-02T21:33:10.074Z"
   },
   {
    "duration": 8,
    "start_time": "2022-01-02T21:33:10.083Z"
   },
   {
    "duration": 40,
    "start_time": "2022-01-02T21:33:10.092Z"
   },
   {
    "duration": 59,
    "start_time": "2022-01-02T21:33:10.133Z"
   },
   {
    "duration": 12,
    "start_time": "2022-01-02T21:33:10.193Z"
   },
   {
    "duration": 64,
    "start_time": "2022-01-02T21:33:10.207Z"
   },
   {
    "duration": 30,
    "start_time": "2022-01-02T21:33:10.273Z"
   },
   {
    "duration": 5,
    "start_time": "2022-01-02T21:33:10.305Z"
   },
   {
    "duration": 60,
    "start_time": "2022-01-02T21:33:10.312Z"
   },
   {
    "duration": 7,
    "start_time": "2022-01-02T21:33:10.374Z"
   },
   {
    "duration": 3,
    "start_time": "2022-01-02T21:33:10.384Z"
   },
   {
    "duration": 13,
    "start_time": "2022-01-02T21:33:10.391Z"
   },
   {
    "duration": 4,
    "start_time": "2022-01-02T21:33:10.406Z"
   },
   {
    "duration": 91,
    "start_time": "2022-01-02T21:33:10.412Z"
   },
   {
    "duration": 8,
    "start_time": "2022-01-02T21:33:10.505Z"
   },
   {
    "duration": 7,
    "start_time": "2022-01-02T21:33:10.515Z"
   },
   {
    "duration": 70,
    "start_time": "2022-01-02T21:33:10.524Z"
   },
   {
    "duration": 13,
    "start_time": "2022-01-02T21:33:10.596Z"
   },
   {
    "duration": 6,
    "start_time": "2022-01-02T21:33:10.611Z"
   },
   {
    "duration": 43,
    "start_time": "2022-01-02T21:33:10.619Z"
   },
   {
    "duration": 10,
    "start_time": "2022-01-02T21:33:10.664Z"
   },
   {
    "duration": 29,
    "start_time": "2022-01-02T21:33:10.676Z"
   },
   {
    "duration": 10,
    "start_time": "2022-01-02T21:33:10.707Z"
   },
   {
    "duration": 47,
    "start_time": "2022-01-02T21:33:10.719Z"
   },
   {
    "duration": 24,
    "start_time": "2022-01-02T21:33:10.768Z"
   },
   {
    "duration": 30,
    "start_time": "2022-01-02T21:33:10.795Z"
   },
   {
    "duration": 542,
    "start_time": "2022-01-02T21:33:10.827Z"
   },
   {
    "duration": 25,
    "start_time": "2022-01-02T21:33:11.371Z"
   },
   {
    "duration": 578,
    "start_time": "2022-01-02T21:33:11.397Z"
   },
   {
    "duration": 396,
    "start_time": "2022-01-02T21:33:11.977Z"
   },
   {
    "duration": 349,
    "start_time": "2022-01-02T21:33:12.375Z"
   },
   {
    "duration": 301,
    "start_time": "2022-01-02T21:33:12.726Z"
   },
   {
    "duration": 788,
    "start_time": "2022-01-02T21:33:13.029Z"
   },
   {
    "duration": 892,
    "start_time": "2022-01-02T21:33:13.819Z"
   },
   {
    "duration": 219,
    "start_time": "2022-01-02T21:33:14.713Z"
   },
   {
    "duration": 227,
    "start_time": "2022-01-02T21:33:14.935Z"
   },
   {
    "duration": 617,
    "start_time": "2022-01-02T21:33:15.164Z"
   },
   {
    "duration": 173,
    "start_time": "2022-01-02T21:33:15.783Z"
   },
   {
    "duration": 202,
    "start_time": "2022-01-02T21:33:15.960Z"
   },
   {
    "duration": 219,
    "start_time": "2022-01-02T21:33:16.164Z"
   },
   {
    "duration": 449,
    "start_time": "2022-01-02T21:33:16.385Z"
   },
   {
    "duration": 58,
    "start_time": "2022-01-02T21:33:16.837Z"
   },
   {
    "duration": 226,
    "start_time": "2022-01-02T21:33:16.897Z"
   },
   {
    "duration": 220,
    "start_time": "2022-01-02T21:33:17.125Z"
   },
   {
    "duration": 219,
    "start_time": "2022-01-02T21:33:17.347Z"
   },
   {
    "duration": 181,
    "start_time": "2022-01-02T21:33:17.568Z"
   },
   {
    "duration": 203,
    "start_time": "2022-01-02T21:33:17.750Z"
   },
   {
    "duration": 218,
    "start_time": "2022-01-02T21:33:17.955Z"
   },
   {
    "duration": 206,
    "start_time": "2022-01-02T21:33:18.175Z"
   },
   {
    "duration": 202,
    "start_time": "2022-01-02T21:33:18.383Z"
   },
   {
    "duration": 225,
    "start_time": "2022-01-02T21:39:56.269Z"
   },
   {
    "duration": 200,
    "start_time": "2022-01-02T21:40:00.610Z"
   }
  ],
  "kernelspec": {
   "display_name": "Python 3 (ipykernel)",
   "language": "python",
   "name": "python3"
  },
  "language_info": {
   "codemirror_mode": {
    "name": "ipython",
    "version": 3
   },
   "file_extension": ".py",
   "mimetype": "text/x-python",
   "name": "python",
   "nbconvert_exporter": "python",
   "pygments_lexer": "ipython3",
   "version": "3.9.7"
  },
  "toc": {
   "base_numbering": 1,
   "nav_menu": {},
   "number_sections": true,
   "sideBar": true,
   "skip_h1_title": true,
   "title_cell": "Содержание",
   "title_sidebar": "Contents",
   "toc_cell": true,
   "toc_position": {
    "height": "calc(100% - 180px)",
    "left": "10px",
    "top": "150px",
    "width": "275.33px"
   },
   "toc_section_display": true,
   "toc_window_display": false
  }
 },
 "nbformat": 4,
 "nbformat_minor": 2
}
