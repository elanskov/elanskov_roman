{
 "cells": [
  {
   "cell_type": "markdown",
   "metadata": {
    "toc": true
   },
   "source": [
    "<h1>Содержание<span class=\"tocSkip\"></span></h1>\n",
    "<div class=\"toc\"><ul class=\"toc-item\"><li><span><a href=\"#Подготовка-данных\" data-toc-modified-id=\"Подготовка-данных-1\"><span class=\"toc-item-num\">1&nbsp;&nbsp;</span>Подготовка данных</a></span></li><li><span><a href=\"#Исследование-задачи\" data-toc-modified-id=\"Исследование-задачи-2\"><span class=\"toc-item-num\">2&nbsp;&nbsp;</span>Исследование задачи</a></span></li><li><span><a href=\"#-Комментарий-студента\" data-toc-modified-id=\"-Комментарий-студента-3\"><span class=\"toc-item-num\">3&nbsp;&nbsp;</span> Комментарий студента</a></span></li><li><span><a href=\"#Борьба-с-дисбалансом\" data-toc-modified-id=\"Борьба-с-дисбалансом-4\"><span class=\"toc-item-num\">4&nbsp;&nbsp;</span>Борьба с дисбалансом</a></span></li><li><span><a href=\"#-Комментарий-студента\" data-toc-modified-id=\"-Комментарий-студента-5\"><span class=\"toc-item-num\">5&nbsp;&nbsp;</span> Комментарий студента</a></span></li><li><span><a href=\"#Тестирование-модели\" data-toc-modified-id=\"Тестирование-модели-6\"><span class=\"toc-item-num\">6&nbsp;&nbsp;</span>Тестирование модели</a></span></li><li><span><a href=\"#Чек-лист-готовности-проекта\" data-toc-modified-id=\"Чек-лист-готовности-проекта-7\"><span class=\"toc-item-num\">7&nbsp;&nbsp;</span>Чек-лист готовности проекта</a></span></li></ul></div>"
   ]
  },
  {
   "cell_type": "markdown",
   "metadata": {},
   "source": [
    "# Отток клиентов"
   ]
  },
  {
   "cell_type": "markdown",
   "metadata": {},
   "source": [
    "Из «Бета-Банка» стали уходить клиенты. Каждый месяц. Немного, но заметно. Банковские маркетологи посчитали: сохранять текущих клиентов дешевле, чем привлекать новых.\n",
    "\n",
    "Нужно спрогнозировать, уйдёт клиент из банка в ближайшее время или нет. Вам предоставлены исторические данные о поведении клиентов и расторжении договоров с банком. \n",
    "\n",
    "Постройте модель с предельно большим значением *F1*-меры. Чтобы сдать проект успешно, нужно довести метрику до 0.59. Проверьте *F1*-меру на тестовой выборке самостоятельно.\n",
    "\n",
    "Дополнительно измеряйте *AUC-ROC*, сравнивайте её значение с *F1*-мерой.\n",
    "\n",
    "Источник данных: [https://www.kaggle.com/barelydedicated/bank-customer-churn-modeling](https://www.kaggle.com/barelydedicated/bank-customer-churn-modeling)"
   ]
  },
  {
   "cell_type": "markdown",
   "metadata": {},
   "source": [
    "## Подготовка данных"
   ]
  },
  {
   "cell_type": "markdown",
   "metadata": {},
   "source": [
    "Импорт нужных библиотек и функций:"
   ]
  },
  {
   "cell_type": "code",
   "execution_count": 112,
   "metadata": {},
   "outputs": [],
   "source": [
    "import pandas as pd\n",
    "from sklearn.preprocessing import OrdinalEncoder\n",
    "from sklearn.model_selection import train_test_split\n",
    "from sklearn.preprocessing import StandardScaler\n",
    "from sklearn.linear_model import LogisticRegression\n",
    "from sklearn.ensemble import RandomForestClassifier\n",
    "from sklearn.tree import DecisionTreeClassifier\n",
    "from sklearn.metrics import recall_score\n",
    "from sklearn.metrics import precision_score\n",
    "from sklearn.metrics import f1_score\n",
    "from sklearn.metrics import roc_auc_score\n",
    "from sklearn.metrics import roc_curve\n",
    "from sklearn.metrics import confusion_matrix\n",
    "from sklearn.metrics import accuracy_score\n",
    "from sklearn.utils import shuffle\n",
    "import numpy as np\n",
    "import matplotlib.pyplot as plt"
   ]
  },
  {
   "cell_type": "markdown",
   "metadata": {},
   "source": [
    "Импорт и изучение данных:"
   ]
  },
  {
   "cell_type": "code",
   "execution_count": 113,
   "metadata": {},
   "outputs": [
    {
     "name": "stdout",
     "output_type": "stream",
     "text": [
      "<class 'pandas.core.frame.DataFrame'>\n",
      "RangeIndex: 10000 entries, 0 to 9999\n",
      "Data columns (total 14 columns):\n",
      "RowNumber          10000 non-null int64\n",
      "CustomerId         10000 non-null int64\n",
      "Surname            10000 non-null object\n",
      "CreditScore        10000 non-null int64\n",
      "Geography          10000 non-null object\n",
      "Gender             10000 non-null object\n",
      "Age                10000 non-null int64\n",
      "Tenure             9091 non-null float64\n",
      "Balance            10000 non-null float64\n",
      "NumOfProducts      10000 non-null int64\n",
      "HasCrCard          10000 non-null int64\n",
      "IsActiveMember     10000 non-null int64\n",
      "EstimatedSalary    10000 non-null float64\n",
      "Exited             10000 non-null int64\n",
      "dtypes: float64(3), int64(8), object(3)\n",
      "memory usage: 1.1+ MB\n"
     ]
    }
   ],
   "source": [
    "df = pd.read_csv('/datasets/Churn.csv')\n",
    "df.info()"
   ]
  },
  {
   "cell_type": "markdown",
   "metadata": {},
   "source": [
    "Пропуски в столбце с возрастом клиента. Предлагаю заменить пропуски с привязкой к возрасту. Предпопложим, что в среднем человек начинает трудовую деятельность и активную финансовую в том числе после окончания ВУЗа, а это примерно 23 года. Заменим пропуски в столбце пропусков значением возраста минус 23. Но сначала следует взглянуть на адекватность значений возраста."
   ]
  },
  {
   "cell_type": "code",
   "execution_count": 114,
   "metadata": {},
   "outputs": [
    {
     "data": {
      "text/plain": [
       "<matplotlib.axes._subplots.AxesSubplot at 0x7f4830b48790>"
      ]
     },
     "execution_count": 114,
     "metadata": {},
     "output_type": "execute_result"
    },
    {
     "data": {
      "image/png": "[encoded data removed]",
      "text/plain": [
       "<Figure size 1440x360 with 1 Axes>"
      ]
     },
     "metadata": {
      "needs_background": "light"
     },
     "output_type": "display_data"
    }
   ],
   "source": [
    "df['Age'].value_counts().plot(figsize=(20, 5), kind='bar')"
   ]
  },
  {
   "cell_type": "code",
   "execution_count": 115,
   "metadata": {},
   "outputs": [
    {
     "data": {
      "text/plain": [
       "<matplotlib.axes._subplots.AxesSubplot at 0x7f483068eed0>"
      ]
     },
     "execution_count": 115,
     "metadata": {},
     "output_type": "execute_result"
    },
    {
     "data": {
      "image/png": "[encoded data removed]",
      "text/plain": [
       "<Figure size 1440x360 with 1 Axes>"
      ]
     },
     "metadata": {
      "needs_background": "light"
     },
     "output_type": "display_data"
    }
   ],
   "source": [
    "df['Tenure'].value_counts().plot(figsize=(20, 5), kind='bar')"
   ]
  },
  {
   "cell_type": "markdown",
   "metadata": {},
   "source": [
    "Хм, интересно... Исследовать данные мне нравится все больше и больше. На первом графике видно, что основная масса клиентов имеют возраст 30-40 лет. Далее по убыванию 40, 50 и т.д. Однако из второго графика видно что банку всего 10 лет, так как самые преданные клиенты с банком именно 10 лет. Поскольку колчисетво клиентов с разным количеством лет в банке является примерно одинаковым (около 900 человек), значит каждый год в банк приходило примерно 900 человек. Предположим что люди одного возраста приходят в банк. Соотнесем 10-ти летний разборс опыта банковского обслуживания с самым популярным возрастом клиентов, получается люди идут в этот банк примерно в 30 лет. Возьмем эту цифру за основание для вычисления количества лет в банке. \n",
    "\n",
    "Но сначала посмотрим на возраст клиентов, у которых не указано количество лет общения с банком:"
   ]
  },
  {
   "cell_type": "code",
   "execution_count": 116,
   "metadata": {},
   "outputs": [
    {
     "data": {
      "text/plain": [
       "<matplotlib.axes._subplots.AxesSubplot at 0x7f48311190d0>"
      ]
     },
     "execution_count": 116,
     "metadata": {},
     "output_type": "execute_result"
    },
    {
     "data": {
      "image/png": "[encoded data removed]",
      "text/plain": [
       "<Figure size 1440x360 with 1 Axes>"
      ]
     },
     "metadata": {
      "needs_background": "light"
     },
     "output_type": "display_data"
    }
   ],
   "source": [
    "df_isna = df[df['Tenure'].isna()]\n",
    "df_isna['Age'].value_counts().plot(figsize=(20, 5), kind='bar')"
   ]
  },
  {
   "cell_type": "markdown",
   "metadata": {},
   "source": [
    "Нет. Предложенный способ не подойдет, поскольку слишком большой будет разброс значений. Пожалуй, остается только заполнить пропуски случайными значениями от 0 до 10, чтобы избежать перекоса данных."
   ]
  },
  {
   "cell_type": "code",
   "execution_count": 117,
   "metadata": {},
   "outputs": [],
   "source": [
    "# заполним пропуски случайными значениями:\n",
    "df.loc[df['Tenure'].isna(), 'Tenure'] = pd.Series(np.random.randint(0, 10, len(df)))"
   ]
  },
  {
   "cell_type": "code",
   "execution_count": 118,
   "metadata": {
    "scrolled": true
   },
   "outputs": [
    {
     "data": {
      "text/plain": [
       "<matplotlib.axes._subplots.AxesSubplot at 0x7f48302e0e90>"
      ]
     },
     "execution_count": 118,
     "metadata": {},
     "output_type": "execute_result"
    },
    {
     "data": {
      "image/png": "[encoded data removed]",
      "text/plain": [
       "<Figure size 1440x360 with 1 Axes>"
      ]
     },
     "metadata": {
      "needs_background": "light"
     },
     "output_type": "display_data"
    }
   ],
   "source": [
    "# проверим распределение после заполнения пропусков:\n",
    "df['Tenure'].value_counts().plot(figsize=(20, 5), kind='bar')"
   ]
  },
  {
   "cell_type": "code",
   "execution_count": 119,
   "metadata": {
    "scrolled": true
   },
   "outputs": [
    {
     "data": {
      "text/plain": [
       "array([ 2.,  1.,  8.,  7.,  4.,  6.,  3., 10.,  5.,  9.,  0.])"
      ]
     },
     "execution_count": 119,
     "metadata": {},
     "output_type": "execute_result"
    }
   ],
   "source": [
    "# и проверим уникальные значения:\n",
    "df['Tenure'].unique()"
   ]
  },
  {
   "cell_type": "markdown",
   "metadata": {},
   "source": [
    "Теперь с пропусками все ок. По привычке проверю дубликаты"
   ]
  },
  {
   "cell_type": "code",
   "execution_count": 120,
   "metadata": {},
   "outputs": [
    {
     "data": {
      "text/plain": [
       "0"
      ]
     },
     "execution_count": 120,
     "metadata": {},
     "output_type": "execute_result"
    }
   ],
   "source": [
    "df.duplicated().sum()"
   ]
  },
  {
   "cell_type": "markdown",
   "metadata": {},
   "source": [
    "С ними тоже все хорошо. Глазу не нравится \"ВерблюжийРегистр\" в названии столбцов. Так как нам не хватает \"пробелов\", то перепишем вручную:"
   ]
  },
  {
   "cell_type": "code",
   "execution_count": 121,
   "metadata": {},
   "outputs": [
    {
     "data": {
      "text/plain": [
       "Index(['row_number', 'customer_id', 'surname', 'credit_score', 'geography',\n",
       "       'gender', 'age', 'tenure', 'balance', 'num_of_products', 'has_cr_card',\n",
       "       'is_active_member', 'estimated_salary', 'exited'],\n",
       "      dtype='object')"
      ]
     },
     "execution_count": 121,
     "metadata": {},
     "output_type": "execute_result"
    }
   ],
   "source": [
    "df.rename(columns = {'RowNumber' : 'row_number', 'CustomerId' : 'customer_id', \n",
    "                   'Surname' : 'surname', 'CreditScore' : 'credit_score', 'Geography' : 'geography',\n",
    "                   'Gender' : 'gender', 'Age' : 'age', 'Tenure' : 'tenure', 'Balance' : 'balance', \n",
    "                   'NumOfProducts' : 'num_of_products', 'HasCrCard' : 'has_cr_card', \n",
    "                   'IsActiveMember' : 'is_active_member', 'EstimatedSalary' : 'estimated_salary', \n",
    "                   'Exited' : 'exited'}, inplace = True)\n",
    "df.columns"
   ]
  },
  {
   "cell_type": "markdown",
   "metadata": {},
   "source": [
    "Ну и в конце удалим столбцы, которые нам врядли помогут в прогнозировании результата. Это данные о фамилии и id клиента:"
   ]
  },
  {
   "cell_type": "code",
   "execution_count": 122,
   "metadata": {},
   "outputs": [
    {
     "name": "stdout",
     "output_type": "stream",
     "text": [
      "<class 'pandas.core.frame.DataFrame'>\n",
      "RangeIndex: 10000 entries, 0 to 9999\n",
      "Data columns (total 12 columns):\n",
      "row_number          10000 non-null int64\n",
      "credit_score        10000 non-null int64\n",
      "geography           10000 non-null object\n",
      "gender              10000 non-null object\n",
      "age                 10000 non-null int64\n",
      "tenure              10000 non-null float64\n",
      "balance             10000 non-null float64\n",
      "num_of_products     10000 non-null int64\n",
      "has_cr_card         10000 non-null int64\n",
      "is_active_member    10000 non-null int64\n",
      "estimated_salary    10000 non-null float64\n",
      "exited              10000 non-null int64\n",
      "dtypes: float64(3), int64(7), object(2)\n",
      "memory usage: 937.6+ KB\n"
     ]
    }
   ],
   "source": [
    "df.drop(columns = ['customer_id', 'surname'], axis = 1, inplace=True) \n",
    "df.info()"
   ]
  },
  {
   "cell_type": "markdown",
   "metadata": {},
   "source": [
    "## Исследование задачи"
   ]
  },
  {
   "cell_type": "markdown",
   "metadata": {},
   "source": [
    "Еще раз взглянем на датасет, чтобы узнать какие признаки нам нужно преобразовать."
   ]
  },
  {
   "cell_type": "code",
   "execution_count": 123,
   "metadata": {},
   "outputs": [
    {
     "data": {
      "text/html": [
       "<div>\n",
       "<style scoped>\n",
       "    .dataframe tbody tr th:only-of-type {\n",
       "        vertical-align: middle;\n",
       "    }\n",
       "\n",
       "    .dataframe tbody tr th {\n",
       "        vertical-align: top;\n",
       "    }\n",
       "\n",
       "    .dataframe thead th {\n",
       "        text-align: right;\n",
       "    }\n",
       "</style>\n",
       "<table border=\"1\" class=\"dataframe\">\n",
       "  <thead>\n",
       "    <tr style=\"text-align: right;\">\n",
       "      <th></th>\n",
       "      <th>row_number</th>\n",
       "      <th>credit_score</th>\n",
       "      <th>geography</th>\n",
       "      <th>gender</th>\n",
       "      <th>age</th>\n",
       "      <th>tenure</th>\n",
       "      <th>balance</th>\n",
       "      <th>num_of_products</th>\n",
       "      <th>has_cr_card</th>\n",
       "      <th>is_active_member</th>\n",
       "      <th>estimated_salary</th>\n",
       "      <th>exited</th>\n",
       "    </tr>\n",
       "  </thead>\n",
       "  <tbody>\n",
       "    <tr>\n",
       "      <td>0</td>\n",
       "      <td>1</td>\n",
       "      <td>619</td>\n",
       "      <td>France</td>\n",
       "      <td>Female</td>\n",
       "      <td>42</td>\n",
       "      <td>2.0</td>\n",
       "      <td>0.00</td>\n",
       "      <td>1</td>\n",
       "      <td>1</td>\n",
       "      <td>1</td>\n",
       "      <td>101348.88</td>\n",
       "      <td>1</td>\n",
       "    </tr>\n",
       "    <tr>\n",
       "      <td>1</td>\n",
       "      <td>2</td>\n",
       "      <td>608</td>\n",
       "      <td>Spain</td>\n",
       "      <td>Female</td>\n",
       "      <td>41</td>\n",
       "      <td>1.0</td>\n",
       "      <td>83807.86</td>\n",
       "      <td>1</td>\n",
       "      <td>0</td>\n",
       "      <td>1</td>\n",
       "      <td>112542.58</td>\n",
       "      <td>0</td>\n",
       "    </tr>\n",
       "    <tr>\n",
       "      <td>2</td>\n",
       "      <td>3</td>\n",
       "      <td>502</td>\n",
       "      <td>France</td>\n",
       "      <td>Female</td>\n",
       "      <td>42</td>\n",
       "      <td>8.0</td>\n",
       "      <td>159660.80</td>\n",
       "      <td>3</td>\n",
       "      <td>1</td>\n",
       "      <td>0</td>\n",
       "      <td>113931.57</td>\n",
       "      <td>1</td>\n",
       "    </tr>\n",
       "    <tr>\n",
       "      <td>3</td>\n",
       "      <td>4</td>\n",
       "      <td>699</td>\n",
       "      <td>France</td>\n",
       "      <td>Female</td>\n",
       "      <td>39</td>\n",
       "      <td>1.0</td>\n",
       "      <td>0.00</td>\n",
       "      <td>2</td>\n",
       "      <td>0</td>\n",
       "      <td>0</td>\n",
       "      <td>93826.63</td>\n",
       "      <td>0</td>\n",
       "    </tr>\n",
       "    <tr>\n",
       "      <td>4</td>\n",
       "      <td>5</td>\n",
       "      <td>850</td>\n",
       "      <td>Spain</td>\n",
       "      <td>Female</td>\n",
       "      <td>43</td>\n",
       "      <td>2.0</td>\n",
       "      <td>125510.82</td>\n",
       "      <td>1</td>\n",
       "      <td>1</td>\n",
       "      <td>1</td>\n",
       "      <td>79084.10</td>\n",
       "      <td>0</td>\n",
       "    </tr>\n",
       "  </tbody>\n",
       "</table>\n",
       "</div>"
      ],
      "text/plain": [
       "   row_number  credit_score geography  gender  age  tenure    balance  \\\n",
       "0           1           619    France  Female   42     2.0       0.00   \n",
       "1           2           608     Spain  Female   41     1.0   83807.86   \n",
       "2           3           502    France  Female   42     8.0  159660.80   \n",
       "3           4           699    France  Female   39     1.0       0.00   \n",
       "4           5           850     Spain  Female   43     2.0  125510.82   \n",
       "\n",
       "   num_of_products  has_cr_card  is_active_member  estimated_salary  exited  \n",
       "0                1            1                 1         101348.88       1  \n",
       "1                1            0                 1         112542.58       0  \n",
       "2                3            1                 0         113931.57       1  \n",
       "3                2            0                 0          93826.63       0  \n",
       "4                1            1                 1          79084.10       0  "
      ]
     },
     "execution_count": 123,
     "metadata": {},
     "output_type": "execute_result"
    }
   ],
   "source": [
    "df.head()"
   ]
  },
  {
   "cell_type": "markdown",
   "metadata": {},
   "source": [
    "Мы видим колонки с названием страной и полом клиента, которые нужна преобразовать в численные значения. Используем для этого прямое кодирование применив функцию get_dummies(). "
   ]
  },
  {
   "cell_type": "code",
   "execution_count": 124,
   "metadata": {},
   "outputs": [
    {
     "data": {
      "text/html": [
       "<div>\n",
       "<style scoped>\n",
       "    .dataframe tbody tr th:only-of-type {\n",
       "        vertical-align: middle;\n",
       "    }\n",
       "\n",
       "    .dataframe tbody tr th {\n",
       "        vertical-align: top;\n",
       "    }\n",
       "\n",
       "    .dataframe thead th {\n",
       "        text-align: right;\n",
       "    }\n",
       "</style>\n",
       "<table border=\"1\" class=\"dataframe\">\n",
       "  <thead>\n",
       "    <tr style=\"text-align: right;\">\n",
       "      <th></th>\n",
       "      <th>row_number</th>\n",
       "      <th>credit_score</th>\n",
       "      <th>age</th>\n",
       "      <th>tenure</th>\n",
       "      <th>balance</th>\n",
       "      <th>num_of_products</th>\n",
       "      <th>has_cr_card</th>\n",
       "      <th>is_active_member</th>\n",
       "      <th>estimated_salary</th>\n",
       "      <th>exited</th>\n",
       "      <th>geography_Germany</th>\n",
       "      <th>geography_Spain</th>\n",
       "      <th>gender_Male</th>\n",
       "    </tr>\n",
       "  </thead>\n",
       "  <tbody>\n",
       "    <tr>\n",
       "      <td>0</td>\n",
       "      <td>1</td>\n",
       "      <td>619</td>\n",
       "      <td>42</td>\n",
       "      <td>2.0</td>\n",
       "      <td>0.00</td>\n",
       "      <td>1</td>\n",
       "      <td>1</td>\n",
       "      <td>1</td>\n",
       "      <td>101348.88</td>\n",
       "      <td>1</td>\n",
       "      <td>0</td>\n",
       "      <td>0</td>\n",
       "      <td>0</td>\n",
       "    </tr>\n",
       "    <tr>\n",
       "      <td>1</td>\n",
       "      <td>2</td>\n",
       "      <td>608</td>\n",
       "      <td>41</td>\n",
       "      <td>1.0</td>\n",
       "      <td>83807.86</td>\n",
       "      <td>1</td>\n",
       "      <td>0</td>\n",
       "      <td>1</td>\n",
       "      <td>112542.58</td>\n",
       "      <td>0</td>\n",
       "      <td>0</td>\n",
       "      <td>1</td>\n",
       "      <td>0</td>\n",
       "    </tr>\n",
       "    <tr>\n",
       "      <td>2</td>\n",
       "      <td>3</td>\n",
       "      <td>502</td>\n",
       "      <td>42</td>\n",
       "      <td>8.0</td>\n",
       "      <td>159660.80</td>\n",
       "      <td>3</td>\n",
       "      <td>1</td>\n",
       "      <td>0</td>\n",
       "      <td>113931.57</td>\n",
       "      <td>1</td>\n",
       "      <td>0</td>\n",
       "      <td>0</td>\n",
       "      <td>0</td>\n",
       "    </tr>\n",
       "    <tr>\n",
       "      <td>3</td>\n",
       "      <td>4</td>\n",
       "      <td>699</td>\n",
       "      <td>39</td>\n",
       "      <td>1.0</td>\n",
       "      <td>0.00</td>\n",
       "      <td>2</td>\n",
       "      <td>0</td>\n",
       "      <td>0</td>\n",
       "      <td>93826.63</td>\n",
       "      <td>0</td>\n",
       "      <td>0</td>\n",
       "      <td>0</td>\n",
       "      <td>0</td>\n",
       "    </tr>\n",
       "    <tr>\n",
       "      <td>4</td>\n",
       "      <td>5</td>\n",
       "      <td>850</td>\n",
       "      <td>43</td>\n",
       "      <td>2.0</td>\n",
       "      <td>125510.82</td>\n",
       "      <td>1</td>\n",
       "      <td>1</td>\n",
       "      <td>1</td>\n",
       "      <td>79084.10</td>\n",
       "      <td>0</td>\n",
       "      <td>0</td>\n",
       "      <td>1</td>\n",
       "      <td>0</td>\n",
       "    </tr>\n",
       "  </tbody>\n",
       "</table>\n",
       "</div>"
      ],
      "text/plain": [
       "   row_number  credit_score  age  tenure    balance  num_of_products  \\\n",
       "0           1           619   42     2.0       0.00                1   \n",
       "1           2           608   41     1.0   83807.86                1   \n",
       "2           3           502   42     8.0  159660.80                3   \n",
       "3           4           699   39     1.0       0.00                2   \n",
       "4           5           850   43     2.0  125510.82                1   \n",
       "\n",
       "   has_cr_card  is_active_member  estimated_salary  exited  geography_Germany  \\\n",
       "0            1                 1         101348.88       1                  0   \n",
       "1            0                 1         112542.58       0                  0   \n",
       "2            1                 0         113931.57       1                  0   \n",
       "3            0                 0          93826.63       0                  0   \n",
       "4            1                 1          79084.10       0                  0   \n",
       "\n",
       "   geography_Spain  gender_Male  \n",
       "0                0            0  \n",
       "1                1            0  \n",
       "2                0            0  \n",
       "3                0            0  \n",
       "4                1            0  "
      ]
     },
     "execution_count": 124,
     "metadata": {},
     "output_type": "execute_result"
    }
   ],
   "source": [
    "df = pd.get_dummies(df, drop_first=True)\n",
    "df.head()"
   ]
  },
  {
   "cell_type": "markdown",
   "metadata": {},
   "source": [
    "Теперь разделим данные на выборки, тренировочную, валидационную и тестовую, предварительно выделив признаки и целевое значение"
   ]
  },
  {
   "cell_type": "code",
   "execution_count": 125,
   "metadata": {
    "scrolled": true
   },
   "outputs": [
    {
     "name": "stdout",
     "output_type": "stream",
     "text": [
      "6000\n",
      "2000\n",
      "2000\n"
     ]
    }
   ],
   "source": [
    "target = df['exited']\n",
    "features = df.drop('exited', axis=1)\n",
    "\n",
    "# сначала разделим данные на тренировочный и тестовый наборы:\n",
    "features_train, features_valid_test, target_train, target_valid_test = train_test_split(\n",
    "    features, target, test_size=0.4, random_state=12345)\n",
    "\n",
    "# теперь разделим тестовый на валидационный и тестовый:\n",
    "features_valid, features_test, target_valid, target_test = train_test_split(\n",
    "    features_valid_test, target_valid_test, test_size=0.5, random_state=12345)\n",
    "\n",
    "# проверим размеры датасетов\n",
    "print(len(features_train))\n",
    "print(len(features_valid))\n",
    "print(len(features_test))"
   ]
  },
  {
   "cell_type": "markdown",
   "metadata": {},
   "source": [
    "Теперь необходимо масштабировать признаки. Используем StandartScaler()"
   ]
  },
  {
   "cell_type": "code",
   "execution_count": 126,
   "metadata": {},
   "outputs": [
    {
     "data": {
      "text/html": [
       "<div>\n",
       "<style scoped>\n",
       "    .dataframe tbody tr th:only-of-type {\n",
       "        vertical-align: middle;\n",
       "    }\n",
       "\n",
       "    .dataframe tbody tr th {\n",
       "        vertical-align: top;\n",
       "    }\n",
       "\n",
       "    .dataframe thead th {\n",
       "        text-align: right;\n",
       "    }\n",
       "</style>\n",
       "<table border=\"1\" class=\"dataframe\">\n",
       "  <thead>\n",
       "    <tr style=\"text-align: right;\">\n",
       "      <th></th>\n",
       "      <th>row_number</th>\n",
       "      <th>credit_score</th>\n",
       "      <th>age</th>\n",
       "      <th>tenure</th>\n",
       "      <th>balance</th>\n",
       "      <th>num_of_products</th>\n",
       "      <th>has_cr_card</th>\n",
       "      <th>is_active_member</th>\n",
       "      <th>estimated_salary</th>\n",
       "      <th>geography_Germany</th>\n",
       "      <th>geography_Spain</th>\n",
       "      <th>gender_Male</th>\n",
       "    </tr>\n",
       "  </thead>\n",
       "  <tbody>\n",
       "    <tr>\n",
       "      <td>7479</td>\n",
       "      <td>7480</td>\n",
       "      <td>-0.886751</td>\n",
       "      <td>-0.373192</td>\n",
       "      <td>8.0</td>\n",
       "      <td>1.232271</td>\n",
       "      <td>1</td>\n",
       "      <td>1</td>\n",
       "      <td>0</td>\n",
       "      <td>-0.187705</td>\n",
       "      <td>0</td>\n",
       "      <td>1</td>\n",
       "      <td>1</td>\n",
       "    </tr>\n",
       "    <tr>\n",
       "      <td>3411</td>\n",
       "      <td>3412</td>\n",
       "      <td>0.608663</td>\n",
       "      <td>-0.183385</td>\n",
       "      <td>8.0</td>\n",
       "      <td>0.600563</td>\n",
       "      <td>1</td>\n",
       "      <td>0</td>\n",
       "      <td>0</td>\n",
       "      <td>-0.333945</td>\n",
       "      <td>0</td>\n",
       "      <td>0</td>\n",
       "      <td>0</td>\n",
       "    </tr>\n",
       "    <tr>\n",
       "      <td>6027</td>\n",
       "      <td>6028</td>\n",
       "      <td>2.052152</td>\n",
       "      <td>0.480939</td>\n",
       "      <td>3.0</td>\n",
       "      <td>1.027098</td>\n",
       "      <td>2</td>\n",
       "      <td>0</td>\n",
       "      <td>1</td>\n",
       "      <td>1.503095</td>\n",
       "      <td>1</td>\n",
       "      <td>0</td>\n",
       "      <td>1</td>\n",
       "    </tr>\n",
       "    <tr>\n",
       "      <td>1247</td>\n",
       "      <td>1248</td>\n",
       "      <td>-1.457915</td>\n",
       "      <td>-1.417129</td>\n",
       "      <td>6.0</td>\n",
       "      <td>-1.233163</td>\n",
       "      <td>2</td>\n",
       "      <td>1</td>\n",
       "      <td>0</td>\n",
       "      <td>-1.071061</td>\n",
       "      <td>0</td>\n",
       "      <td>0</td>\n",
       "      <td>1</td>\n",
       "    </tr>\n",
       "    <tr>\n",
       "      <td>3716</td>\n",
       "      <td>3717</td>\n",
       "      <td>0.130961</td>\n",
       "      <td>-1.132419</td>\n",
       "      <td>2.0</td>\n",
       "      <td>1.140475</td>\n",
       "      <td>1</td>\n",
       "      <td>0</td>\n",
       "      <td>0</td>\n",
       "      <td>1.524268</td>\n",
       "      <td>1</td>\n",
       "      <td>0</td>\n",
       "      <td>0</td>\n",
       "    </tr>\n",
       "  </tbody>\n",
       "</table>\n",
       "</div>"
      ],
      "text/plain": [
       "      row_number  credit_score       age  tenure   balance  num_of_products  \\\n",
       "7479        7480     -0.886751 -0.373192     8.0  1.232271                1   \n",
       "3411        3412      0.608663 -0.183385     8.0  0.600563                1   \n",
       "6027        6028      2.052152  0.480939     3.0  1.027098                2   \n",
       "1247        1248     -1.457915 -1.417129     6.0 -1.233163                2   \n",
       "3716        3717      0.130961 -1.132419     2.0  1.140475                1   \n",
       "\n",
       "      has_cr_card  is_active_member  estimated_salary  geography_Germany  \\\n",
       "7479            1                 0         -0.187705                  0   \n",
       "3411            0                 0         -0.333945                  0   \n",
       "6027            0                 1          1.503095                  1   \n",
       "1247            1                 0         -1.071061                  0   \n",
       "3716            0                 0          1.524268                  1   \n",
       "\n",
       "      geography_Spain  gender_Male  \n",
       "7479                1            1  \n",
       "3411                0            0  \n",
       "6027                0            1  \n",
       "1247                0            1  \n",
       "3716                0            0  "
      ]
     },
     "execution_count": 126,
     "metadata": {},
     "output_type": "execute_result"
    }
   ],
   "source": [
    "# уберем предупреждение об ошибке\n",
    "pd.options.mode.chained_assignment = None\n",
    "\n",
    "# создадим переменную со списком столбцов для масштабирования\n",
    "numeric = ['credit_score', 'balance', 'estimated_salary', 'age']\n",
    "# думаю tenure не обязательно масштабировать, там разборс не так велик\n",
    "\n",
    "scaler = StandardScaler()\n",
    "scaler.fit(features_train[numeric])\n",
    "\n",
    "features_train[numeric] = scaler.transform(features_train[numeric])\n",
    "features_valid[numeric] = scaler.transform(features_valid[numeric])\n",
    "features_test[numeric] = scaler.transform(features_test[numeric])\n",
    "\n",
    "\n",
    "features_train.head()"
   ]
  },
  {
   "cell_type": "markdown",
   "metadata": {},
   "source": [
    "Теперь обучим модели и посчитаем метрику F1"
   ]
  },
  {
   "cell_type": "code",
   "execution_count": 127,
   "metadata": {},
   "outputs": [
    {
     "name": "stderr",
     "output_type": "stream",
     "text": [
      "/opt/conda/lib/python3.7/site-packages/sklearn/ensemble/forest.py:245: FutureWarning: The default value of n_estimators will change from 10 in version 0.20 to 100 in 0.22.\n",
      "  \"10 in version 0.20 to 100 in 0.22.\", FutureWarning)\n"
     ]
    },
    {
     "data": {
      "text/plain": [
       "0.5295007564296521"
      ]
     },
     "execution_count": 127,
     "metadata": {},
     "output_type": "execute_result"
    }
   ],
   "source": [
    "model = RandomForestClassifier(random_state=12345)\n",
    "model.fit(features_train, target_train)\n",
    "predicted_valid = model.predict(features_valid)\n",
    "\n",
    "f1_score(target_valid, predicted_valid)"
   ]
  },
  {
   "cell_type": "markdown",
   "metadata": {},
   "source": [
    "Добавим метрику ROC-AUC"
   ]
  },
  {
   "cell_type": "code",
   "execution_count": 128,
   "metadata": {},
   "outputs": [
    {
     "data": {
      "text/plain": [
       "0.8146946207030045"
      ]
     },
     "execution_count": 128,
     "metadata": {},
     "output_type": "execute_result"
    }
   ],
   "source": [
    "probabilities_valid = model.predict_proba(features_valid)\n",
    "probabilities_one_valid = probabilities_valid[:, 1]\n",
    "\n",
    "auc_roc = roc_auc_score(target_valid, probabilities_one_valid)\n",
    "\n",
    "auc_roc"
   ]
  },
  {
   "cell_type": "markdown",
   "metadata": {},
   "source": [
    "Показатели случайного леса оставляют желать лучшего. Попробуем использовать регрессию"
   ]
  },
  {
   "cell_type": "code",
   "execution_count": 129,
   "metadata": {},
   "outputs": [
    {
     "name": "stderr",
     "output_type": "stream",
     "text": [
      "/opt/conda/lib/python3.7/site-packages/sklearn/linear_model/logistic.py:432: FutureWarning: Default solver will be changed to 'lbfgs' in 0.22. Specify a solver to silence this warning.\n",
      "  FutureWarning)\n"
     ]
    },
    {
     "data": {
      "text/plain": [
       "0.3270868824531516"
      ]
     },
     "execution_count": 129,
     "metadata": {},
     "output_type": "execute_result"
    }
   ],
   "source": [
    "model = LogisticRegression(random_state=12345)\n",
    "model.fit(features_train, target_train)\n",
    "predicted_valid = model.predict(features_valid)\n",
    "\n",
    "f1_score(target_valid, predicted_valid)"
   ]
  },
  {
   "cell_type": "markdown",
   "metadata": {},
   "source": [
    "Метрика ROC-AUC"
   ]
  },
  {
   "cell_type": "code",
   "execution_count": 130,
   "metadata": {},
   "outputs": [
    {
     "data": {
      "text/plain": [
       "0.7587179936970341"
      ]
     },
     "execution_count": 130,
     "metadata": {},
     "output_type": "execute_result"
    }
   ],
   "source": [
    "probabilities_valid = model.predict_proba(features_valid)\n",
    "probabilities_one_valid = probabilities_valid[:, 1]\n",
    "\n",
    "auc_roc = roc_auc_score(target_valid, probabilities_one_valid)\n",
    "\n",
    "auc_roc"
   ]
  },
  {
   "cell_type": "markdown",
   "metadata": {},
   "source": [
    "F1 хуже, а вот ROC-AUC лучше. Попробуем использовать решающее дерево"
   ]
  },
  {
   "cell_type": "code",
   "execution_count": 131,
   "metadata": {},
   "outputs": [
    {
     "data": {
      "text/plain": [
       "0.4976303317535545"
      ]
     },
     "execution_count": 131,
     "metadata": {},
     "output_type": "execute_result"
    }
   ],
   "source": [
    "model = DecisionTreeClassifier(random_state=12345)\n",
    "model.fit(features_train, target_train)\n",
    "predicted_valid = model.predict(features_valid)\n",
    "\n",
    "f1_score(target_valid, predicted_valid)"
   ]
  },
  {
   "cell_type": "markdown",
   "metadata": {},
   "source": [
    "Посмотрим на метрики ROC-AUC"
   ]
  },
  {
   "cell_type": "code",
   "execution_count": 132,
   "metadata": {},
   "outputs": [
    {
     "data": {
      "text/plain": [
       "0.6829281570781337"
      ]
     },
     "execution_count": 132,
     "metadata": {},
     "output_type": "execute_result"
    }
   ],
   "source": [
    "probabilities_valid = model.predict_proba(features_valid)\n",
    "probabilities_one_valid = probabilities_valid[:, 1]\n",
    "\n",
    "auc_roc = roc_auc_score(target_valid, probabilities_one_valid)\n",
    "\n",
    "auc_roc"
   ]
  },
  {
   "cell_type": "markdown",
   "metadata": {},
   "source": [
    "Как мы видим лучший показатель у случайного леса. Избавимся от дисбаланса классов и проведем испытание моделей еще раз. "
   ]
  },
  {
   "cell_type": "markdown",
   "metadata": {},
   "source": [
    "Проверим баланс классов:"
   ]
  },
  {
   "cell_type": "code",
   "execution_count": 133,
   "metadata": {},
   "outputs": [
    {
     "data": {
      "text/plain": [
       "0    7963\n",
       "1    2037\n",
       "Name: exited, dtype: int64"
      ]
     },
     "execution_count": 133,
     "metadata": {},
     "output_type": "execute_result"
    }
   ],
   "source": [
    "df['exited'].value_counts()"
   ]
  },
  {
   "cell_type": "markdown",
   "metadata": {},
   "source": [
    "Видим что клиентов, которые ушли, почти в 4 раза меньше тех, что остались. Тревожная динамика, будем исправлять этот дисбаланс"
   ]
  },
  {
   "cell_type": "markdown",
   "metadata": {},
   "source": [
    "## Борьба с дисбалансом"
   ]
  },
  {
   "cell_type": "markdown",
   "metadata": {},
   "source": [
    "В первую очередь попробуем указать аргумент баланса классов в вызове модели"
   ]
  },
  {
   "cell_type": "code",
   "execution_count": 134,
   "metadata": {},
   "outputs": [
    {
     "name": "stderr",
     "output_type": "stream",
     "text": [
      "/opt/conda/lib/python3.7/site-packages/sklearn/ensemble/forest.py:245: FutureWarning: The default value of n_estimators will change from 10 in version 0.20 to 100 in 0.22.\n",
      "  \"10 in version 0.20 to 100 in 0.22.\", FutureWarning)\n"
     ]
    },
    {
     "data": {
      "text/plain": [
       "0.48465266558966075"
      ]
     },
     "execution_count": 134,
     "metadata": {},
     "output_type": "execute_result"
    }
   ],
   "source": [
    "model = RandomForestClassifier(random_state=12345, class_weight='balanced')\n",
    "model.fit(features_train, target_train)\n",
    "predicted_valid = model.predict(features_valid)\n",
    "\n",
    "f1_score(target_valid, predicted_valid)"
   ]
  },
  {
   "cell_type": "markdown",
   "metadata": {},
   "source": [
    "Результат еще хуже. Пробуем увеличить выборку\n"
   ]
  },
  {
   "cell_type": "code",
   "execution_count": 135,
   "metadata": {},
   "outputs": [
    {
     "name": "stderr",
     "output_type": "stream",
     "text": [
      "/opt/conda/lib/python3.7/site-packages/sklearn/ensemble/forest.py:245: FutureWarning: The default value of n_estimators will change from 10 in version 0.20 to 100 in 0.22.\n",
      "  \"10 in version 0.20 to 100 in 0.22.\", FutureWarning)\n"
     ]
    },
    {
     "name": "stdout",
     "output_type": "stream",
     "text": [
      "F1: 0.5352112676056339\n"
     ]
    }
   ],
   "source": [
    "# напишем функцию для увеличения выборки:\n",
    "def upsample(features, target, repeat):\n",
    "    features_zeros = features[target == 0]\n",
    "    features_ones = features[target == 1]\n",
    "    target_zeros = target[target == 0]\n",
    "    target_ones = target[target == 1]\n",
    "\n",
    "    features_upsampled = pd.concat([features_zeros] + [features_ones] * repeat)\n",
    "    target_upsampled = pd.concat([target_zeros] + [target_ones] * repeat)\n",
    "    \n",
    "    features_upsampled, target_upsampled = shuffle(\n",
    "        features_upsampled, target_upsampled, random_state=12345)\n",
    "    \n",
    "    return features_upsampled, target_upsampled\n",
    "\n",
    "features_upsampled, target_upsampled = upsample(features_train, target_train, 6)\n",
    "\n",
    "model = RandomForestClassifier(random_state=12345, class_weight='balanced')\n",
    "model.fit(features_upsampled, target_upsampled)\n",
    "predicted_valid = model.predict(features_valid)\n",
    "print(\"F1:\", f1_score(target_valid, predicted_valid))"
   ]
  },
  {
   "cell_type": "markdown",
   "metadata": {},
   "source": [
    "ROC-AUC:"
   ]
  },
  {
   "cell_type": "code",
   "execution_count": 136,
   "metadata": {},
   "outputs": [
    {
     "data": {
      "text/plain": [
       "0.8082185048300559"
      ]
     },
     "execution_count": 136,
     "metadata": {},
     "output_type": "execute_result"
    }
   ],
   "source": [
    "probabilities_valid = model.predict_proba(features_valid)\n",
    "probabilities_one_valid = probabilities_valid[:, 1]\n",
    "\n",
    "auc_roc = roc_auc_score(target_valid, probabilities_one_valid)\n",
    "\n",
    "auc_roc"
   ]
  },
  {
   "cell_type": "markdown",
   "metadata": {},
   "source": [
    "Мы близки к результату. Лучший результат показывает увеличение меньшей выборки в 6 раз. Попробуем то же самое с деревом"
   ]
  },
  {
   "cell_type": "code",
   "execution_count": 137,
   "metadata": {},
   "outputs": [
    {
     "name": "stdout",
     "output_type": "stream",
     "text": [
      "F1: 0.5147058823529411\n"
     ]
    }
   ],
   "source": [
    "\n",
    "features_upsampled, target_upsampled = upsample(features_train, target_train, 7)\n",
    "\n",
    "model = DecisionTreeClassifier(random_state=12345, class_weight='balanced')\n",
    "model.fit(features_upsampled, target_upsampled)\n",
    "predicted_valid = model.predict(features_valid)\n",
    "print(\"F1:\", f1_score(target_valid, predicted_valid))"
   ]
  },
  {
   "cell_type": "markdown",
   "metadata": {},
   "source": [
    "ROC-AUC:"
   ]
  },
  {
   "cell_type": "code",
   "execution_count": 138,
   "metadata": {},
   "outputs": [
    {
     "data": {
      "text/plain": [
       "0.6917777146002577"
      ]
     },
     "execution_count": 138,
     "metadata": {},
     "output_type": "execute_result"
    }
   ],
   "source": [
    "probabilities_valid = model.predict_proba(features_valid)\n",
    "probabilities_one_valid = probabilities_valid[:, 1]\n",
    "\n",
    "auc_roc = roc_auc_score(target_valid, probabilities_one_valid)\n",
    "\n",
    "auc_roc"
   ]
  },
  {
   "cell_type": "markdown",
   "metadata": {},
   "source": [
    "Максимальный результат получился на модели случайного леса. Попробуем усовершенствовать его, добавив глубины и количества деревьев"
   ]
  },
  {
   "cell_type": "code",
   "execution_count": 139,
   "metadata": {},
   "outputs": [
    {
     "data": {
      "text/plain": [
       "0.6030150753768844"
      ]
     },
     "execution_count": 139,
     "metadata": {},
     "output_type": "execute_result"
    }
   ],
   "source": [
    "features_upsampled, target_upsampled = upsample(features_train, target_train, 5)\n",
    "\n",
    "\n",
    "model_random_forest = RandomForestClassifier(random_state=12345, n_estimators=7, class_weight='balanced', max_depth=6)\n",
    "model_random_forest.fit(features_upsampled, target_upsampled)\n",
    "predicted_valid = model_random_forest.predict(features_valid)\n",
    "result = f1_score(target_valid, predicted_valid)   \n",
    "result"
   ]
  },
  {
   "cell_type": "markdown",
   "metadata": {},
   "source": [
    "На валидационной выборке достигли желаемого результата, пора переходить к тестовой. Но сначала посомтрим на ROC-AUC"
   ]
  },
  {
   "cell_type": "code",
   "execution_count": 140,
   "metadata": {},
   "outputs": [
    {
     "data": {
      "text/plain": [
       "0.8454752629764274"
      ]
     },
     "execution_count": 140,
     "metadata": {},
     "output_type": "execute_result"
    }
   ],
   "source": [
    "probabilities_valid = model_random_forest.predict_proba(features_valid)\n",
    "probabilities_one_valid = probabilities_valid[:, 1]\n",
    "\n",
    "auc_roc = roc_auc_score(target_valid, probabilities_one_valid)\n",
    "\n",
    "auc_roc"
   ]
  },
  {
   "cell_type": "markdown",
   "metadata": {},
   "source": [
    "Да, и ROC-AUC подтянулся, думаю пора переходить к тестовой выборке"
   ]
  },
  {
   "cell_type": "markdown",
   "metadata": {},
   "source": [
    "## Тестирование модели"
   ]
  },
  {
   "cell_type": "code",
   "execution_count": 143,
   "metadata": {
    "scrolled": true
   },
   "outputs": [
    {
     "data": {
      "text/plain": [
       "0.601593625498008"
      ]
     },
     "execution_count": 143,
     "metadata": {},
     "output_type": "execute_result"
    }
   ],
   "source": [
    "predicted_test = model_random_forest.predict(features_test)\n",
    "result = f1_score(target_test, predicted_test)   \n",
    "result"
   ]
  },
  {
   "cell_type": "markdown",
   "metadata": {},
   "source": [
    "И финальный ROC-AUC"
   ]
  },
  {
   "cell_type": "code",
   "execution_count": 142,
   "metadata": {},
   "outputs": [
    {
     "data": {
      "text/plain": [
       "0.8454752629764274"
      ]
     },
     "execution_count": 142,
     "metadata": {},
     "output_type": "execute_result"
    }
   ],
   "source": [
    "probabilities_valid = model_random_forest.predict_proba(features_valid)\n",
    "probabilities_one_valid = probabilities_valid[:, 1]\n",
    "\n",
    "auc_roc = roc_auc_score(target_valid, probabilities_one_valid)\n",
    "\n",
    "auc_roc"
   ]
  },
  {
   "cell_type": "markdown",
   "metadata": {},
   "source": [
    "Вывод. Мы добились нужных результатов. Можно заметить что F1 и ROC-AUC имеют прямую корреляцию. В нашем случае мы добились успеха только комбинацией борьбы с дисбалансом уровновешивания классов через class_weight='balanced' и увеличением тренировочной выборки. "
   ]
  },
  {
   "cell_type": "markdown",
   "metadata": {},
   "source": [
    "## Чек-лист готовности проекта"
   ]
  },
  {
   "cell_type": "markdown",
   "metadata": {},
   "source": [
    "Поставьте 'x' в выполненных пунктах. Далее нажмите Shift+Enter."
   ]
  },
  {
   "cell_type": "markdown",
   "metadata": {},
   "source": [
    "- [x]  Jupyter Notebook открыт\n",
    "- [ ]  Весь код выполняется без ошибок\n",
    "- [ ]  Ячейки с кодом расположены в порядке исполнения\n",
    "- [ ]  Выполнен шаг 1: данные подготовлены\n",
    "- [ ]  Выполнен шаг 2: задача исследована\n",
    "    - [ ]  Исследован баланс классов\n",
    "    - [ ]  Изучены модели без учёта дисбаланса\n",
    "    - [ ]  Написаны выводы по результатам исследования\n",
    "- [ ]  Выполнен шаг 3: учтён дисбаланс\n",
    "    - [ ]  Применено несколько способов борьбы с дисбалансом\n",
    "    - [ ]  Написаны выводы по результатам исследования\n",
    "- [ ]  Выполнен шаг 4: проведено тестирование\n",
    "- [ ]  Удалось достичь *F1*-меры не менее 0.59\n",
    "- [ ]  Исследована метрика *AUC-ROC*"
   ]
  },
  {
   "cell_type": "code",
   "execution_count": null,
   "metadata": {},
   "outputs": [],
   "source": []
  }
 ],
 "metadata": {
  "ExecuteTimeLog": [
   {
    "duration": 203,
    "start_time": "2022-02-17T17:32:35.486Z"
   },
   {
    "duration": 1089,
    "start_time": "2022-02-17T17:32:43.078Z"
   },
   {
    "duration": 181,
    "start_time": "2022-02-17T17:32:56.254Z"
   },
   {
    "duration": 34,
    "start_time": "2022-02-17T17:33:13.617Z"
   },
   {
    "duration": 45,
    "start_time": "2022-02-17T17:34:44.078Z"
   },
   {
    "duration": 29,
    "start_time": "2022-02-17T17:34:54.445Z"
   },
   {
    "duration": 5,
    "start_time": "2022-02-17T18:29:52.754Z"
   },
   {
    "duration": 5,
    "start_time": "2022-02-17T18:30:05.106Z"
   },
   {
    "duration": 95960,
    "start_time": "2022-02-17T18:30:30.758Z"
   },
   {
    "duration": 130,
    "start_time": "2022-02-17T18:33:13.714Z"
   },
   {
    "duration": 7,
    "start_time": "2022-02-17T18:33:39.682Z"
   },
   {
    "duration": 715,
    "start_time": "2022-02-17T18:34:01.872Z"
   },
   {
    "duration": 301,
    "start_time": "2022-02-17T18:34:16.198Z"
   },
   {
    "duration": 298,
    "start_time": "2022-02-17T18:34:24.000Z"
   },
   {
    "duration": 288,
    "start_time": "2022-02-17T18:34:39.547Z"
   },
   {
    "duration": 334,
    "start_time": "2022-02-17T18:37:50.591Z"
   },
   {
    "duration": 752,
    "start_time": "2022-02-17T18:37:57.051Z"
   },
   {
    "duration": 318,
    "start_time": "2022-02-17T18:38:23.238Z"
   },
   {
    "duration": 328,
    "start_time": "2022-02-17T18:38:52.026Z"
   },
   {
    "duration": 5,
    "start_time": "2022-02-17T18:41:04.552Z"
   },
   {
    "duration": 335,
    "start_time": "2022-02-17T18:41:10.471Z"
   },
   {
    "duration": 145,
    "start_time": "2022-02-17T18:41:24.382Z"
   },
   {
    "duration": 33,
    "start_time": "2022-02-17T18:42:12.779Z"
   },
   {
    "duration": 144,
    "start_time": "2022-02-17T18:42:16.965Z"
   },
   {
    "duration": 826,
    "start_time": "2022-02-17T18:42:22.740Z"
   },
   {
    "duration": 762,
    "start_time": "2022-02-17T18:42:42.044Z"
   },
   {
    "duration": 342,
    "start_time": "2022-02-17T18:58:42.115Z"
   },
   {
    "duration": 194,
    "start_time": "2022-02-17T19:15:01.318Z"
   },
   {
    "duration": 137,
    "start_time": "2022-02-17T19:15:15.117Z"
   },
   {
    "duration": 1596,
    "start_time": "2022-02-17T19:17:40.324Z"
   },
   {
    "duration": 191,
    "start_time": "2022-02-17T19:18:03.499Z"
   },
   {
    "duration": 18,
    "start_time": "2022-02-17T19:18:11.577Z"
   },
   {
    "duration": 19,
    "start_time": "2022-02-17T19:18:32.358Z"
   },
   {
    "duration": 5,
    "start_time": "2022-02-17T19:19:12.226Z"
   },
   {
    "duration": 798,
    "start_time": "2022-02-17T19:19:28.291Z"
   },
   {
    "duration": 223,
    "start_time": "2022-02-17T19:19:32.733Z"
   },
   {
    "duration": 5,
    "start_time": "2022-02-17T19:19:54.169Z"
   },
   {
    "duration": 4,
    "start_time": "2022-02-17T19:20:03.952Z"
   },
   {
    "duration": 241,
    "start_time": "2022-02-17T19:20:03.958Z"
   },
   {
    "duration": 791,
    "start_time": "2022-02-17T19:20:04.201Z"
   },
   {
    "duration": 260,
    "start_time": "2022-02-17T19:20:04.993Z"
   },
   {
    "duration": 4,
    "start_time": "2022-02-17T19:20:05.255Z"
   },
   {
    "duration": 5,
    "start_time": "2022-02-17T19:20:22.722Z"
   },
   {
    "duration": 6,
    "start_time": "2022-02-17T19:20:42.228Z"
   },
   {
    "duration": 21,
    "start_time": "2022-02-17T19:38:35.313Z"
   },
   {
    "duration": 7,
    "start_time": "2022-02-17T19:39:13.264Z"
   },
   {
    "duration": 7,
    "start_time": "2022-02-17T19:39:39.147Z"
   },
   {
    "duration": 6,
    "start_time": "2022-02-17T19:39:59.983Z"
   },
   {
    "duration": 6,
    "start_time": "2022-02-17T19:40:03.599Z"
   },
   {
    "duration": 7,
    "start_time": "2022-02-17T19:40:17.707Z"
   },
   {
    "duration": 8,
    "start_time": "2022-02-17T19:40:48.143Z"
   },
   {
    "duration": 5,
    "start_time": "2022-02-17T19:44:13.037Z"
   },
   {
    "duration": 5,
    "start_time": "2022-02-17T19:47:10.884Z"
   },
   {
    "duration": 6,
    "start_time": "2022-02-17T19:47:20.488Z"
   },
   {
    "duration": 6,
    "start_time": "2022-02-17T19:47:31.823Z"
   },
   {
    "duration": 5,
    "start_time": "2022-02-17T19:47:34.366Z"
   },
   {
    "duration": 21,
    "start_time": "2022-02-17T19:49:22.099Z"
   },
   {
    "duration": 5,
    "start_time": "2022-02-17T19:49:36.674Z"
   },
   {
    "duration": 42,
    "start_time": "2022-02-17T19:49:43.486Z"
   },
   {
    "duration": 20,
    "start_time": "2022-02-17T19:49:47.688Z"
   },
   {
    "duration": 4,
    "start_time": "2022-02-17T19:50:06.740Z"
   },
   {
    "duration": 23,
    "start_time": "2022-02-17T19:50:13.567Z"
   },
   {
    "duration": 676,
    "start_time": "2022-02-17T19:50:44.718Z"
   },
   {
    "duration": 1335,
    "start_time": "2022-02-19T18:46:17.819Z"
   },
   {
    "duration": 31,
    "start_time": "2022-02-19T18:46:19.156Z"
   },
   {
    "duration": 871,
    "start_time": "2022-02-19T18:46:19.189Z"
   },
   {
    "duration": 275,
    "start_time": "2022-02-19T18:46:20.062Z"
   },
   {
    "duration": 720,
    "start_time": "2022-02-19T18:46:20.339Z"
   },
   {
    "duration": 330,
    "start_time": "2022-02-19T18:54:19.899Z"
   },
   {
    "duration": 259,
    "start_time": "2022-02-19T18:54:30.425Z"
   },
   {
    "duration": 4,
    "start_time": "2022-02-19T18:54:42.620Z"
   },
   {
    "duration": 8,
    "start_time": "2022-02-19T18:55:36.161Z"
   },
   {
    "duration": 10,
    "start_time": "2022-02-19T18:56:02.896Z"
   },
   {
    "duration": 5,
    "start_time": "2022-02-19T18:56:44.994Z"
   },
   {
    "duration": 5,
    "start_time": "2022-02-19T18:56:53.639Z"
   },
   {
    "duration": 215,
    "start_time": "2022-02-19T18:58:21.081Z"
   },
   {
    "duration": 17,
    "start_time": "2022-02-19T18:58:25.231Z"
   },
   {
    "duration": 11,
    "start_time": "2022-02-19T18:58:31.276Z"
   },
   {
    "duration": 78,
    "start_time": "2022-02-19T19:10:56.941Z"
   },
   {
    "duration": 8,
    "start_time": "2022-02-19T19:11:55.394Z"
   },
   {
    "duration": 5,
    "start_time": "2022-02-19T19:12:19.047Z"
   },
   {
    "duration": 32,
    "start_time": "2022-02-19T19:12:19.053Z"
   },
   {
    "duration": 788,
    "start_time": "2022-02-19T19:12:19.087Z"
   },
   {
    "duration": 259,
    "start_time": "2022-02-19T19:12:19.876Z"
   },
   {
    "duration": 701,
    "start_time": "2022-02-19T19:12:20.137Z"
   },
   {
    "duration": 5,
    "start_time": "2022-02-19T19:12:20.841Z"
   },
   {
    "duration": 9,
    "start_time": "2022-02-19T19:12:20.847Z"
   },
   {
    "duration": 12,
    "start_time": "2022-02-19T19:12:20.858Z"
   },
   {
    "duration": 7,
    "start_time": "2022-02-19T19:12:20.873Z"
   },
   {
    "duration": 9,
    "start_time": "2022-02-19T19:13:47.870Z"
   },
   {
    "duration": 5896,
    "start_time": "2022-02-19T19:14:18.687Z"
   },
   {
    "duration": 258,
    "start_time": "2022-02-19T19:14:35.563Z"
   },
   {
    "duration": 5,
    "start_time": "2022-02-19T19:15:16.029Z"
   },
   {
    "duration": 36,
    "start_time": "2022-02-19T19:15:16.036Z"
   },
   {
    "duration": 807,
    "start_time": "2022-02-19T19:15:16.074Z"
   },
   {
    "duration": 257,
    "start_time": "2022-02-19T19:15:16.884Z"
   },
   {
    "duration": 704,
    "start_time": "2022-02-19T19:15:17.143Z"
   },
   {
    "duration": 4,
    "start_time": "2022-02-19T19:15:17.849Z"
   },
   {
    "duration": 9,
    "start_time": "2022-02-19T19:15:17.855Z"
   },
   {
    "duration": 20,
    "start_time": "2022-02-19T19:15:17.866Z"
   },
   {
    "duration": 7,
    "start_time": "2022-02-19T19:15:17.888Z"
   },
   {
    "duration": 373,
    "start_time": "2022-02-19T19:15:17.897Z"
   },
   {
    "duration": 4,
    "start_time": "2022-02-19T19:15:31.733Z"
   },
   {
    "duration": 36,
    "start_time": "2022-02-19T19:15:31.739Z"
   },
   {
    "duration": 784,
    "start_time": "2022-02-19T19:15:31.777Z"
   },
   {
    "duration": 251,
    "start_time": "2022-02-19T19:15:32.563Z"
   },
   {
    "duration": 761,
    "start_time": "2022-02-19T19:15:32.819Z"
   },
   {
    "duration": 4,
    "start_time": "2022-02-19T19:15:33.582Z"
   },
   {
    "duration": 9,
    "start_time": "2022-02-19T19:15:33.587Z"
   },
   {
    "duration": 28,
    "start_time": "2022-02-19T19:15:33.597Z"
   },
   {
    "duration": 7,
    "start_time": "2022-02-19T19:15:33.628Z"
   },
   {
    "duration": 265,
    "start_time": "2022-02-19T19:15:33.637Z"
   },
   {
    "duration": 5,
    "start_time": "2022-02-19T19:15:39.677Z"
   },
   {
    "duration": 45,
    "start_time": "2022-02-19T19:15:39.684Z"
   },
   {
    "duration": 979,
    "start_time": "2022-02-19T19:15:39.732Z"
   },
   {
    "duration": 294,
    "start_time": "2022-02-19T19:15:40.713Z"
   },
   {
    "duration": 855,
    "start_time": "2022-02-19T19:15:41.010Z"
   },
   {
    "duration": 5,
    "start_time": "2022-02-19T19:15:41.867Z"
   },
   {
    "duration": 11,
    "start_time": "2022-02-19T19:15:41.873Z"
   },
   {
    "duration": 33,
    "start_time": "2022-02-19T19:15:41.886Z"
   },
   {
    "duration": 7,
    "start_time": "2022-02-19T19:15:41.923Z"
   },
   {
    "duration": 317,
    "start_time": "2022-02-19T19:15:41.932Z"
   },
   {
    "duration": 4,
    "start_time": "2022-02-19T19:15:51.260Z"
   },
   {
    "duration": 52,
    "start_time": "2022-02-19T19:15:51.266Z"
   },
   {
    "duration": 805,
    "start_time": "2022-02-19T19:15:51.320Z"
   },
   {
    "duration": 247,
    "start_time": "2022-02-19T19:15:52.127Z"
   },
   {
    "duration": 731,
    "start_time": "2022-02-19T19:15:52.376Z"
   },
   {
    "duration": 10,
    "start_time": "2022-02-19T19:15:53.109Z"
   },
   {
    "duration": 10,
    "start_time": "2022-02-19T19:15:53.121Z"
   },
   {
    "duration": 12,
    "start_time": "2022-02-19T19:15:53.134Z"
   },
   {
    "duration": 7,
    "start_time": "2022-02-19T19:15:53.148Z"
   },
   {
    "duration": 304,
    "start_time": "2022-02-19T19:15:53.157Z"
   },
   {
    "duration": 5,
    "start_time": "2022-02-19T19:15:59.948Z"
   },
   {
    "duration": 31,
    "start_time": "2022-02-19T19:15:59.955Z"
   },
   {
    "duration": 820,
    "start_time": "2022-02-19T19:15:59.988Z"
   },
   {
    "duration": 259,
    "start_time": "2022-02-19T19:16:00.818Z"
   },
   {
    "duration": 718,
    "start_time": "2022-02-19T19:16:01.079Z"
   },
   {
    "duration": 3,
    "start_time": "2022-02-19T19:16:01.799Z"
   },
   {
    "duration": 58,
    "start_time": "2022-02-19T19:16:01.804Z"
   },
   {
    "duration": 30,
    "start_time": "2022-02-19T19:16:01.863Z"
   },
   {
    "duration": 9,
    "start_time": "2022-02-19T19:16:01.896Z"
   },
   {
    "duration": 402,
    "start_time": "2022-02-19T19:16:01.907Z"
   },
   {
    "duration": 4,
    "start_time": "2022-02-19T19:16:24.428Z"
   },
   {
    "duration": 34,
    "start_time": "2022-02-19T19:16:24.434Z"
   },
   {
    "duration": 799,
    "start_time": "2022-02-19T19:16:24.470Z"
   },
   {
    "duration": 264,
    "start_time": "2022-02-19T19:16:25.272Z"
   },
   {
    "duration": 707,
    "start_time": "2022-02-19T19:16:25.538Z"
   },
   {
    "duration": 4,
    "start_time": "2022-02-19T19:16:26.247Z"
   },
   {
    "duration": 18,
    "start_time": "2022-02-19T19:16:26.252Z"
   },
   {
    "duration": 26,
    "start_time": "2022-02-19T19:16:26.273Z"
   },
   {
    "duration": 8,
    "start_time": "2022-02-19T19:16:26.301Z"
   },
   {
    "duration": 256,
    "start_time": "2022-02-19T19:16:26.311Z"
   },
   {
    "duration": 200,
    "start_time": "2022-02-19T19:44:05.509Z"
   },
   {
    "duration": 5170,
    "start_time": "2022-02-19T19:44:27.147Z"
   },
   {
    "duration": 4,
    "start_time": "2022-02-19T19:44:47.970Z"
   },
   {
    "duration": 244,
    "start_time": "2022-02-19T19:44:56.594Z"
   },
   {
    "duration": 5,
    "start_time": "2022-02-19T19:45:03.458Z"
   },
   {
    "duration": 33,
    "start_time": "2022-02-19T19:45:03.465Z"
   },
   {
    "duration": 820,
    "start_time": "2022-02-19T19:45:03.501Z"
   },
   {
    "duration": 259,
    "start_time": "2022-02-19T19:45:04.323Z"
   },
   {
    "duration": 711,
    "start_time": "2022-02-19T19:45:04.583Z"
   },
   {
    "duration": 5249,
    "start_time": "2022-02-19T19:45:05.295Z"
   },
   {
    "duration": -92,
    "start_time": "2022-02-19T19:45:10.639Z"
   },
   {
    "duration": -92,
    "start_time": "2022-02-19T19:45:10.640Z"
   },
   {
    "duration": -92,
    "start_time": "2022-02-19T19:45:10.641Z"
   },
   {
    "duration": -93,
    "start_time": "2022-02-19T19:45:10.643Z"
   },
   {
    "duration": 4,
    "start_time": "2022-02-19T19:45:23.307Z"
   },
   {
    "duration": 50,
    "start_time": "2022-02-19T19:45:23.313Z"
   },
   {
    "duration": 799,
    "start_time": "2022-02-19T19:45:23.365Z"
   },
   {
    "duration": 467,
    "start_time": "2022-02-19T19:45:24.167Z"
   },
   {
    "duration": 722,
    "start_time": "2022-02-19T19:45:24.635Z"
   },
   {
    "duration": 6,
    "start_time": "2022-02-19T19:45:25.358Z"
   },
   {
    "duration": 12,
    "start_time": "2022-02-19T19:45:25.366Z"
   },
   {
    "duration": 20,
    "start_time": "2022-02-19T19:45:25.380Z"
   },
   {
    "duration": 21,
    "start_time": "2022-02-19T19:45:25.403Z"
   },
   {
    "duration": 284,
    "start_time": "2022-02-19T19:45:25.425Z"
   },
   {
    "duration": 4,
    "start_time": "2022-02-19T19:48:58.519Z"
   },
   {
    "duration": 38,
    "start_time": "2022-02-19T19:48:58.525Z"
   },
   {
    "duration": 798,
    "start_time": "2022-02-19T19:48:58.566Z"
   },
   {
    "duration": 255,
    "start_time": "2022-02-19T19:48:59.366Z"
   },
   {
    "duration": 721,
    "start_time": "2022-02-19T19:48:59.623Z"
   },
   {
    "duration": 4,
    "start_time": "2022-02-19T19:49:00.345Z"
   },
   {
    "duration": 10,
    "start_time": "2022-02-19T19:49:00.351Z"
   },
   {
    "duration": 19,
    "start_time": "2022-02-19T19:49:00.363Z"
   },
   {
    "duration": 7,
    "start_time": "2022-02-19T19:49:00.385Z"
   },
   {
    "duration": 270,
    "start_time": "2022-02-19T19:49:00.393Z"
   },
   {
    "duration": 5215,
    "start_time": "2022-02-19T20:07:52.173Z"
   },
   {
    "duration": 5,
    "start_time": "2022-02-19T20:08:22.221Z"
   },
   {
    "duration": 41,
    "start_time": "2022-02-19T20:08:22.228Z"
   },
   {
    "duration": 808,
    "start_time": "2022-02-19T20:08:22.271Z"
   },
   {
    "duration": 260,
    "start_time": "2022-02-19T20:08:23.081Z"
   },
   {
    "duration": 711,
    "start_time": "2022-02-19T20:08:23.343Z"
   },
   {
    "duration": 204,
    "start_time": "2022-02-19T20:08:24.056Z"
   },
   {
    "duration": -95,
    "start_time": "2022-02-19T20:08:24.357Z"
   },
   {
    "duration": -96,
    "start_time": "2022-02-19T20:08:24.359Z"
   },
   {
    "duration": -98,
    "start_time": "2022-02-19T20:08:24.362Z"
   },
   {
    "duration": -99,
    "start_time": "2022-02-19T20:08:24.364Z"
   },
   {
    "duration": 6,
    "start_time": "2022-02-19T20:08:36.086Z"
   },
   {
    "duration": 36,
    "start_time": "2022-02-19T20:08:36.094Z"
   },
   {
    "duration": 850,
    "start_time": "2022-02-19T20:08:36.133Z"
   },
   {
    "duration": 279,
    "start_time": "2022-02-19T20:08:36.986Z"
   },
   {
    "duration": 931,
    "start_time": "2022-02-19T20:08:37.267Z"
   },
   {
    "duration": 4,
    "start_time": "2022-02-19T20:08:38.201Z"
   },
   {
    "duration": 265,
    "start_time": "2022-02-19T20:08:38.219Z"
   },
   {
    "duration": 5,
    "start_time": "2022-02-19T20:08:38.485Z"
   },
   {
    "duration": 29,
    "start_time": "2022-02-19T20:08:38.492Z"
   },
   {
    "duration": 2,
    "start_time": "2022-02-19T20:08:38.523Z"
   },
   {
    "duration": 200,
    "start_time": "2022-02-19T20:09:09.758Z"
   },
   {
    "duration": 436,
    "start_time": "2022-02-19T20:09:21.138Z"
   },
   {
    "duration": 7,
    "start_time": "2022-02-19T20:10:50.731Z"
   },
   {
    "duration": 242,
    "start_time": "2022-02-19T20:10:54.527Z"
   },
   {
    "duration": 5,
    "start_time": "2022-02-19T20:10:58.853Z"
   },
   {
    "duration": 46,
    "start_time": "2022-02-19T20:10:58.860Z"
   },
   {
    "duration": 788,
    "start_time": "2022-02-19T20:10:58.909Z"
   },
   {
    "duration": 255,
    "start_time": "2022-02-19T20:10:59.699Z"
   },
   {
    "duration": 720,
    "start_time": "2022-02-19T20:10:59.956Z"
   },
   {
    "duration": 7,
    "start_time": "2022-02-19T20:11:00.679Z"
   },
   {
    "duration": 267,
    "start_time": "2022-02-19T20:11:00.688Z"
   },
   {
    "duration": 5,
    "start_time": "2022-02-19T20:11:00.958Z"
   },
   {
    "duration": 15,
    "start_time": "2022-02-19T20:11:00.966Z"
   },
   {
    "duration": 3,
    "start_time": "2022-02-19T20:11:00.983Z"
   },
   {
    "duration": 5,
    "start_time": "2022-02-19T20:11:05.060Z"
   },
   {
    "duration": 32,
    "start_time": "2022-02-19T20:11:05.067Z"
   },
   {
    "duration": 819,
    "start_time": "2022-02-19T20:11:05.102Z"
   },
   {
    "duration": 265,
    "start_time": "2022-02-19T20:11:05.923Z"
   },
   {
    "duration": 730,
    "start_time": "2022-02-19T20:11:06.190Z"
   },
   {
    "duration": 6,
    "start_time": "2022-02-19T20:11:06.922Z"
   },
   {
    "duration": 264,
    "start_time": "2022-02-19T20:11:06.930Z"
   },
   {
    "duration": 5,
    "start_time": "2022-02-19T20:11:07.196Z"
   },
   {
    "duration": 24,
    "start_time": "2022-02-19T20:11:07.204Z"
   },
   {
    "duration": 2,
    "start_time": "2022-02-19T20:11:07.230Z"
   },
   {
    "duration": 217,
    "start_time": "2022-02-19T20:12:52.418Z"
   },
   {
    "duration": 5,
    "start_time": "2022-02-19T20:13:34.886Z"
   },
   {
    "duration": 268,
    "start_time": "2022-02-19T20:13:40.313Z"
   },
   {
    "duration": 35,
    "start_time": "2022-02-19T20:14:40.987Z"
   },
   {
    "duration": 4,
    "start_time": "2022-02-19T20:14:47.827Z"
   },
   {
    "duration": 250,
    "start_time": "2022-02-19T20:14:49.381Z"
   },
   {
    "duration": 4,
    "start_time": "2022-02-19T20:16:53.156Z"
   },
   {
    "duration": 252,
    "start_time": "2022-02-19T20:16:54.458Z"
   },
   {
    "duration": 31,
    "start_time": "2022-02-19T20:16:58.502Z"
   },
   {
    "duration": 5,
    "start_time": "2022-02-19T20:17:04.214Z"
   },
   {
    "duration": 246,
    "start_time": "2022-02-19T20:17:05.409Z"
   },
   {
    "duration": 4,
    "start_time": "2022-02-19T20:17:12.453Z"
   },
   {
    "duration": 37,
    "start_time": "2022-02-19T20:17:12.459Z"
   },
   {
    "duration": 785,
    "start_time": "2022-02-19T20:17:12.499Z"
   },
   {
    "duration": 260,
    "start_time": "2022-02-19T20:17:13.286Z"
   },
   {
    "duration": 684,
    "start_time": "2022-02-19T20:17:13.548Z"
   },
   {
    "duration": 4,
    "start_time": "2022-02-19T20:17:14.234Z"
   },
   {
    "duration": 518,
    "start_time": "2022-02-19T20:17:14.240Z"
   },
   {
    "duration": 5,
    "start_time": "2022-02-19T20:17:14.760Z"
   },
   {
    "duration": 14,
    "start_time": "2022-02-19T20:17:14.768Z"
   },
   {
    "duration": 2,
    "start_time": "2022-02-19T20:17:14.784Z"
   },
   {
    "duration": 31,
    "start_time": "2022-02-19T20:21:14.742Z"
   },
   {
    "duration": 6,
    "start_time": "2022-02-19T20:21:20.400Z"
   },
   {
    "duration": 256,
    "start_time": "2022-02-19T20:21:21.865Z"
   },
   {
    "duration": 286,
    "start_time": "2022-02-19T20:21:29.110Z"
   },
   {
    "duration": 6,
    "start_time": "2022-02-19T20:21:31.314Z"
   },
   {
    "duration": 256,
    "start_time": "2022-02-19T20:21:32.562Z"
   },
   {
    "duration": 30,
    "start_time": "2022-02-19T20:21:35.611Z"
   },
   {
    "duration": 7,
    "start_time": "2022-02-19T20:21:39.526Z"
   },
   {
    "duration": 275,
    "start_time": "2022-02-19T20:21:40.199Z"
   },
   {
    "duration": 31,
    "start_time": "2022-02-19T20:22:30.404Z"
   },
   {
    "duration": 86,
    "start_time": "2022-02-19T20:22:35.172Z"
   },
   {
    "duration": 6,
    "start_time": "2022-02-19T20:22:45.921Z"
   },
   {
    "duration": 246,
    "start_time": "2022-02-19T20:22:47.866Z"
   },
   {
    "duration": 243,
    "start_time": "2022-02-19T20:24:42.423Z"
   },
   {
    "duration": 5,
    "start_time": "2022-02-19T20:25:03.001Z"
   },
   {
    "duration": 9,
    "start_time": "2022-02-19T20:25:25.397Z"
   },
   {
    "duration": 4,
    "start_time": "2022-02-19T20:25:32.654Z"
   },
   {
    "duration": 68,
    "start_time": "2022-02-19T20:25:32.660Z"
   },
   {
    "duration": 813,
    "start_time": "2022-02-19T20:25:32.731Z"
   },
   {
    "duration": 250,
    "start_time": "2022-02-19T20:25:33.546Z"
   },
   {
    "duration": 699,
    "start_time": "2022-02-19T20:25:33.797Z"
   },
   {
    "duration": 6,
    "start_time": "2022-02-19T20:25:34.499Z"
   },
   {
    "duration": 262,
    "start_time": "2022-02-19T20:25:34.507Z"
   },
   {
    "duration": 5,
    "start_time": "2022-02-19T20:25:34.771Z"
   },
   {
    "duration": 13,
    "start_time": "2022-02-19T20:25:34.778Z"
   },
   {
    "duration": 3,
    "start_time": "2022-02-19T20:25:34.793Z"
   },
   {
    "duration": 8,
    "start_time": "2022-02-19T20:27:24.607Z"
   },
   {
    "duration": 11,
    "start_time": "2022-02-19T20:36:15.359Z"
   },
   {
    "duration": 11,
    "start_time": "2022-02-19T20:36:49.205Z"
   },
   {
    "duration": 178,
    "start_time": "2022-02-20T07:00:39.139Z"
   },
   {
    "duration": 1104,
    "start_time": "2022-02-20T07:00:42.928Z"
   },
   {
    "duration": 34,
    "start_time": "2022-02-20T07:00:44.034Z"
   },
   {
    "duration": 772,
    "start_time": "2022-02-20T07:00:44.070Z"
   },
   {
    "duration": 248,
    "start_time": "2022-02-20T07:00:44.843Z"
   },
   {
    "duration": 638,
    "start_time": "2022-02-20T07:00:45.092Z"
   },
   {
    "duration": 6,
    "start_time": "2022-02-20T07:00:45.731Z"
   },
   {
    "duration": 287,
    "start_time": "2022-02-20T07:00:45.739Z"
   },
   {
    "duration": 4,
    "start_time": "2022-02-20T07:00:46.028Z"
   },
   {
    "duration": 13,
    "start_time": "2022-02-20T07:00:46.034Z"
   },
   {
    "duration": 6,
    "start_time": "2022-02-20T07:00:46.049Z"
   },
   {
    "duration": 13,
    "start_time": "2022-02-20T07:00:46.057Z"
   },
   {
    "duration": 11,
    "start_time": "2022-02-20T07:00:46.072Z"
   },
   {
    "duration": 21,
    "start_time": "2022-02-20T07:07:09.972Z"
   },
   {
    "duration": 12,
    "start_time": "2022-02-20T07:14:35.347Z"
   },
   {
    "duration": 23,
    "start_time": "2022-02-20T08:40:41.968Z"
   },
   {
    "duration": 27,
    "start_time": "2022-02-20T08:40:54.108Z"
   },
   {
    "duration": 212,
    "start_time": "2022-02-20T08:42:25.923Z"
   },
   {
    "duration": 83,
    "start_time": "2022-02-20T08:42:58.546Z"
   },
   {
    "duration": 71,
    "start_time": "2022-02-20T08:44:13.094Z"
   },
   {
    "duration": 36,
    "start_time": "2022-02-20T08:45:14.420Z"
   },
   {
    "duration": 4,
    "start_time": "2022-02-20T08:47:06.213Z"
   },
   {
    "duration": 40,
    "start_time": "2022-02-20T08:48:08.554Z"
   },
   {
    "duration": 40,
    "start_time": "2022-02-20T08:48:30.795Z"
   },
   {
    "duration": 85,
    "start_time": "2022-02-20T09:00:31.239Z"
   },
   {
    "duration": 84,
    "start_time": "2022-02-20T09:00:51.782Z"
   },
   {
    "duration": 98,
    "start_time": "2022-02-20T09:00:53.750Z"
   },
   {
    "duration": 103,
    "start_time": "2022-02-20T09:09:16.233Z"
   },
   {
    "duration": 285,
    "start_time": "2022-02-20T09:10:38.404Z"
   },
   {
    "duration": 83,
    "start_time": "2022-02-20T09:13:33.409Z"
   },
   {
    "duration": 84,
    "start_time": "2022-02-20T09:13:37.069Z"
   },
   {
    "duration": 83,
    "start_time": "2022-02-20T09:17:59.203Z"
   },
   {
    "duration": 119,
    "start_time": "2022-02-20T09:18:16.047Z"
   },
   {
    "duration": 83,
    "start_time": "2022-02-20T09:18:20.261Z"
   },
   {
    "duration": 91,
    "start_time": "2022-02-20T09:18:23.640Z"
   },
   {
    "duration": 5,
    "start_time": "2022-02-20T09:18:26.329Z"
   },
   {
    "duration": 35,
    "start_time": "2022-02-20T09:18:26.336Z"
   },
   {
    "duration": 775,
    "start_time": "2022-02-20T09:18:26.374Z"
   },
   {
    "duration": 240,
    "start_time": "2022-02-20T09:18:27.151Z"
   },
   {
    "duration": 669,
    "start_time": "2022-02-20T09:18:27.392Z"
   },
   {
    "duration": 7,
    "start_time": "2022-02-20T09:18:28.063Z"
   },
   {
    "duration": 258,
    "start_time": "2022-02-20T09:18:28.072Z"
   },
   {
    "duration": 5,
    "start_time": "2022-02-20T09:18:28.333Z"
   },
   {
    "duration": 12,
    "start_time": "2022-02-20T09:18:28.340Z"
   },
   {
    "duration": 6,
    "start_time": "2022-02-20T09:18:28.353Z"
   },
   {
    "duration": 9,
    "start_time": "2022-02-20T09:18:28.361Z"
   },
   {
    "duration": 11,
    "start_time": "2022-02-20T09:18:28.371Z"
   },
   {
    "duration": 55,
    "start_time": "2022-02-20T09:18:28.384Z"
   },
   {
    "duration": 12,
    "start_time": "2022-02-20T09:18:28.441Z"
   },
   {
    "duration": 27,
    "start_time": "2022-02-20T09:18:28.455Z"
   },
   {
    "duration": 110,
    "start_time": "2022-02-20T09:18:28.484Z"
   },
   {
    "duration": 45,
    "start_time": "2022-02-20T09:18:28.595Z"
   },
   {
    "duration": 132,
    "start_time": "2022-02-20T09:18:28.732Z"
   },
   {
    "duration": 101,
    "start_time": "2022-02-20T09:18:28.866Z"
   },
   {
    "duration": 161,
    "start_time": "2022-02-20T09:18:28.968Z"
   },
   {
    "duration": 7,
    "start_time": "2022-02-20T11:19:18.657Z"
   },
   {
    "duration": 84,
    "start_time": "2022-02-20T11:20:00.849Z"
   },
   {
    "duration": 7,
    "start_time": "2022-02-20T11:20:01.951Z"
   },
   {
    "duration": 93,
    "start_time": "2022-02-20T11:21:55.073Z"
   },
   {
    "duration": 119,
    "start_time": "2022-02-20T11:21:58.513Z"
   },
   {
    "duration": 55,
    "start_time": "2022-02-20T11:22:04.008Z"
   },
   {
    "duration": 56,
    "start_time": "2022-02-20T11:22:08.481Z"
   },
   {
    "duration": 60,
    "start_time": "2022-02-20T11:22:12.396Z"
   },
   {
    "duration": 56,
    "start_time": "2022-02-20T11:22:15.930Z"
   },
   {
    "duration": 342,
    "start_time": "2022-02-20T11:31:48.934Z"
   },
   {
    "duration": 128,
    "start_time": "2022-02-20T11:32:18.985Z"
   },
   {
    "duration": 131,
    "start_time": "2022-02-20T11:32:30.766Z"
   },
   {
    "duration": 130,
    "start_time": "2022-02-20T11:32:34.524Z"
   },
   {
    "duration": 137,
    "start_time": "2022-02-20T11:32:38.153Z"
   },
   {
    "duration": 186,
    "start_time": "2022-02-20T11:32:43.151Z"
   },
   {
    "duration": 143,
    "start_time": "2022-02-20T11:35:01.753Z"
   },
   {
    "duration": 171,
    "start_time": "2022-02-20T11:35:07.606Z"
   },
   {
    "duration": 141,
    "start_time": "2022-02-20T11:35:11.027Z"
   },
   {
    "duration": 168,
    "start_time": "2022-02-20T11:35:14.607Z"
   },
   {
    "duration": 148,
    "start_time": "2022-02-20T11:35:18.632Z"
   },
   {
    "duration": 142,
    "start_time": "2022-02-20T11:35:22.408Z"
   },
   {
    "duration": 69,
    "start_time": "2022-02-20T11:36:56.048Z"
   },
   {
    "duration": 55,
    "start_time": "2022-02-20T11:37:38.636Z"
   },
   {
    "duration": 57,
    "start_time": "2022-02-20T11:37:43.463Z"
   },
   {
    "duration": 60,
    "start_time": "2022-02-20T11:37:46.663Z"
   },
   {
    "duration": 65,
    "start_time": "2022-02-20T11:37:50.078Z"
   },
   {
    "duration": 65,
    "start_time": "2022-02-20T11:37:52.604Z"
   },
   {
    "duration": 69,
    "start_time": "2022-02-20T11:37:54.946Z"
   },
   {
    "duration": 35212,
    "start_time": "2022-02-20T11:43:10.707Z"
   },
   {
    "duration": 190,
    "start_time": "2022-02-20T11:44:27.472Z"
   },
   {
    "duration": 161,
    "start_time": "2022-02-20T11:51:09.571Z"
   },
   {
    "duration": 156,
    "start_time": "2022-02-20T11:57:51.097Z"
   },
   {
    "duration": 58100,
    "start_time": "2022-02-20T11:58:05.837Z"
   },
   {
    "duration": 55889,
    "start_time": "2022-02-20T12:09:31.982Z"
   },
   {
    "duration": 53795,
    "start_time": "2022-02-20T12:10:35.505Z"
   },
   {
    "duration": 5,
    "start_time": "2022-02-20T12:11:33.451Z"
   },
   {
    "duration": 85,
    "start_time": "2022-02-20T12:13:05.409Z"
   },
   {
    "duration": 91,
    "start_time": "2022-02-20T12:13:15.211Z"
   },
   {
    "duration": 48,
    "start_time": "2022-02-20T12:13:19.313Z"
   },
   {
    "duration": 45,
    "start_time": "2022-02-20T12:13:23.890Z"
   },
   {
    "duration": 42,
    "start_time": "2022-02-20T12:13:27.018Z"
   },
   {
    "duration": 44,
    "start_time": "2022-02-20T12:13:29.836Z"
   },
   {
    "duration": 132,
    "start_time": "2022-02-20T12:13:34.648Z"
   },
   {
    "duration": 138,
    "start_time": "2022-02-20T12:13:51.095Z"
   },
   {
    "duration": 89,
    "start_time": "2022-02-20T12:14:09.410Z"
   },
   {
    "duration": 105,
    "start_time": "2022-02-20T12:14:25.249Z"
   },
   {
    "duration": 142,
    "start_time": "2022-02-20T12:14:33.562Z"
   },
   {
    "duration": 105,
    "start_time": "2022-02-20T12:15:21.059Z"
   },
   {
    "duration": 88,
    "start_time": "2022-02-20T12:15:33.521Z"
   },
   {
    "duration": 4,
    "start_time": "2022-02-20T12:16:35.528Z"
   },
   {
    "duration": 13,
    "start_time": "2022-02-20T12:19:44.605Z"
   },
   {
    "duration": 11,
    "start_time": "2022-02-20T12:19:56.978Z"
   },
   {
    "duration": 12,
    "start_time": "2022-02-20T12:20:03.108Z"
   },
   {
    "duration": 12,
    "start_time": "2022-02-20T12:20:11.371Z"
   },
   {
    "duration": 13,
    "start_time": "2022-02-20T12:20:22.916Z"
   },
   {
    "duration": 12,
    "start_time": "2022-02-20T12:20:25.250Z"
   },
   {
    "duration": 138,
    "start_time": "2022-02-20T12:20:39.508Z"
   },
   {
    "duration": 217,
    "start_time": "2022-02-20T12:21:30.561Z"
   },
   {
    "duration": 213,
    "start_time": "2022-02-20T12:21:39.073Z"
   },
   {
    "duration": 5,
    "start_time": "2022-02-20T12:21:46.695Z"
   },
   {
    "duration": 34,
    "start_time": "2022-02-20T12:21:46.702Z"
   },
   {
    "duration": 1274,
    "start_time": "2022-02-20T12:21:46.738Z"
   },
   {
    "duration": 349,
    "start_time": "2022-02-20T12:21:48.014Z"
   },
   {
    "duration": 713,
    "start_time": "2022-02-20T12:21:48.364Z"
   },
   {
    "duration": 8,
    "start_time": "2022-02-20T12:21:49.079Z"
   },
   {
    "duration": 361,
    "start_time": "2022-02-20T12:21:49.089Z"
   },
   {
    "duration": 6,
    "start_time": "2022-02-20T12:21:49.453Z"
   },
   {
    "duration": 27,
    "start_time": "2022-02-20T12:21:49.461Z"
   },
   {
    "duration": 9,
    "start_time": "2022-02-20T12:21:49.489Z"
   },
   {
    "duration": 22,
    "start_time": "2022-02-20T12:21:49.500Z"
   },
   {
    "duration": 22,
    "start_time": "2022-02-20T12:21:49.524Z"
   },
   {
    "duration": 33,
    "start_time": "2022-02-20T12:21:49.548Z"
   },
   {
    "duration": 13,
    "start_time": "2022-02-20T12:21:49.583Z"
   },
   {
    "duration": 33,
    "start_time": "2022-02-20T12:21:49.598Z"
   },
   {
    "duration": 85,
    "start_time": "2022-02-20T12:21:49.633Z"
   },
   {
    "duration": 114,
    "start_time": "2022-02-20T12:21:49.720Z"
   },
   {
    "duration": 141,
    "start_time": "2022-02-20T12:21:49.837Z"
   },
   {
    "duration": 99,
    "start_time": "2022-02-20T12:21:49.980Z"
   },
   {
    "duration": 158,
    "start_time": "2022-02-20T12:21:50.082Z"
   },
   {
    "duration": 69,
    "start_time": "2022-02-20T12:21:50.242Z"
   },
   {
    "duration": 95,
    "start_time": "2022-02-20T12:21:50.313Z"
   },
   {
    "duration": 24,
    "start_time": "2022-02-20T12:21:50.411Z"
   },
   {
    "duration": 130,
    "start_time": "2022-02-20T12:25:47.041Z"
   },
   {
    "duration": 4,
    "start_time": "2022-02-20T12:26:08.373Z"
   },
   {
    "duration": 40,
    "start_time": "2022-02-20T12:26:08.379Z"
   },
   {
    "duration": 803,
    "start_time": "2022-02-20T12:26:08.421Z"
   },
   {
    "duration": 245,
    "start_time": "2022-02-20T12:26:09.226Z"
   },
   {
    "duration": 706,
    "start_time": "2022-02-20T12:26:09.473Z"
   },
   {
    "duration": 6,
    "start_time": "2022-02-20T12:26:10.180Z"
   },
   {
    "duration": 258,
    "start_time": "2022-02-20T12:26:10.187Z"
   },
   {
    "duration": 4,
    "start_time": "2022-02-20T12:26:10.447Z"
   },
   {
    "duration": 12,
    "start_time": "2022-02-20T12:26:10.454Z"
   },
   {
    "duration": 6,
    "start_time": "2022-02-20T12:26:10.468Z"
   },
   {
    "duration": 12,
    "start_time": "2022-02-20T12:26:10.476Z"
   },
   {
    "duration": 40,
    "start_time": "2022-02-20T12:26:10.490Z"
   },
   {
    "duration": 23,
    "start_time": "2022-02-20T12:26:10.532Z"
   },
   {
    "duration": 10,
    "start_time": "2022-02-20T12:26:10.557Z"
   },
   {
    "duration": 151,
    "start_time": "2022-02-20T12:26:10.569Z"
   },
   {
    "duration": 91,
    "start_time": "2022-02-20T12:26:10.722Z"
   },
   {
    "duration": 115,
    "start_time": "2022-02-20T12:26:10.815Z"
   },
   {
    "duration": 131,
    "start_time": "2022-02-20T12:26:10.933Z"
   },
   {
    "duration": 101,
    "start_time": "2022-02-20T12:26:11.065Z"
   },
   {
    "duration": 146,
    "start_time": "2022-02-20T12:26:11.168Z"
   },
   {
    "duration": 79,
    "start_time": "2022-02-20T12:26:11.316Z"
   },
   {
    "duration": 135,
    "start_time": "2022-02-20T12:26:11.397Z"
   },
   {
    "duration": 11,
    "start_time": "2022-02-20T12:26:11.534Z"
   },
   {
    "duration": 87,
    "start_time": "2022-02-20T12:26:24.902Z"
   },
   {
    "duration": 10,
    "start_time": "2022-02-20T12:26:28.787Z"
   },
   {
    "duration": 218,
    "start_time": "2022-02-20T12:28:02.422Z"
   },
   {
    "duration": 88,
    "start_time": "2022-02-20T12:29:47.666Z"
   },
   {
    "duration": 84,
    "start_time": "2022-02-20T12:29:51.528Z"
   },
   {
    "duration": 87,
    "start_time": "2022-02-20T12:29:52.752Z"
   },
   {
    "duration": 87,
    "start_time": "2022-02-20T12:29:53.492Z"
   },
   {
    "duration": 87,
    "start_time": "2022-02-20T12:29:54.214Z"
   },
   {
    "duration": 87,
    "start_time": "2022-02-20T12:29:55.047Z"
   },
   {
    "duration": 55,
    "start_time": "2022-02-20T12:29:59.648Z"
   },
   {
    "duration": 346,
    "start_time": "2022-02-20T12:30:05.697Z"
   },
   {
    "duration": 35,
    "start_time": "2022-02-20T12:30:10.981Z"
   },
   {
    "duration": 37,
    "start_time": "2022-02-20T12:30:25.861Z"
   },
   {
    "duration": 8,
    "start_time": "2022-02-20T12:30:30.587Z"
   },
   {
    "duration": 41,
    "start_time": "2022-02-20T12:30:39.920Z"
   },
   {
    "duration": 49,
    "start_time": "2022-02-20T12:30:43.620Z"
   },
   {
    "duration": 55,
    "start_time": "2022-02-20T12:30:46.850Z"
   },
   {
    "duration": 66,
    "start_time": "2022-02-20T12:30:50.080Z"
   },
   {
    "duration": 69,
    "start_time": "2022-02-20T12:30:54.142Z"
   },
   {
    "duration": 94,
    "start_time": "2022-02-20T12:30:58.028Z"
   },
   {
    "duration": 71,
    "start_time": "2022-02-20T12:31:01.250Z"
   },
   {
    "duration": 59,
    "start_time": "2022-02-20T12:31:05.262Z"
   },
   {
    "duration": 61,
    "start_time": "2022-02-20T12:31:08.309Z"
   },
   {
    "duration": 56,
    "start_time": "2022-02-20T12:31:15.441Z"
   },
   {
    "duration": 71,
    "start_time": "2022-02-20T12:31:19.068Z"
   },
   {
    "duration": 63,
    "start_time": "2022-02-20T12:31:22.948Z"
   },
   {
    "duration": 10,
    "start_time": "2022-02-20T12:31:26.388Z"
   },
   {
    "duration": 4,
    "start_time": "2022-02-20T12:31:39.944Z"
   },
   {
    "duration": 32,
    "start_time": "2022-02-20T12:31:39.950Z"
   },
   {
    "duration": 833,
    "start_time": "2022-02-20T12:31:39.985Z"
   },
   {
    "duration": 254,
    "start_time": "2022-02-20T12:31:40.820Z"
   },
   {
    "duration": 707,
    "start_time": "2022-02-20T12:31:41.077Z"
   },
   {
    "duration": 6,
    "start_time": "2022-02-20T12:31:41.786Z"
   },
   {
    "duration": 256,
    "start_time": "2022-02-20T12:31:41.794Z"
   },
   {
    "duration": 5,
    "start_time": "2022-02-20T12:31:42.051Z"
   },
   {
    "duration": 12,
    "start_time": "2022-02-20T12:31:42.059Z"
   },
   {
    "duration": 7,
    "start_time": "2022-02-20T12:31:42.073Z"
   },
   {
    "duration": 16,
    "start_time": "2022-02-20T12:31:42.081Z"
   },
   {
    "duration": 35,
    "start_time": "2022-02-20T12:31:42.099Z"
   },
   {
    "duration": 24,
    "start_time": "2022-02-20T12:31:42.136Z"
   },
   {
    "duration": 12,
    "start_time": "2022-02-20T12:31:42.162Z"
   },
   {
    "duration": 54,
    "start_time": "2022-02-20T12:31:42.176Z"
   },
   {
    "duration": 86,
    "start_time": "2022-02-20T12:31:42.231Z"
   },
   {
    "duration": 120,
    "start_time": "2022-02-20T12:31:42.318Z"
   },
   {
    "duration": 121,
    "start_time": "2022-02-20T12:31:42.441Z"
   },
   {
    "duration": 96,
    "start_time": "2022-02-20T12:31:42.564Z"
   },
   {
    "duration": 149,
    "start_time": "2022-02-20T12:31:42.662Z"
   },
   {
    "duration": 78,
    "start_time": "2022-02-20T12:31:42.813Z"
   },
   {
    "duration": 77,
    "start_time": "2022-02-20T12:31:42.892Z"
   },
   {
    "duration": 9,
    "start_time": "2022-02-20T12:31:42.970Z"
   },
   {
    "duration": 61,
    "start_time": "2022-02-20T12:31:52.740Z"
   },
   {
    "duration": 70,
    "start_time": "2022-02-20T12:31:55.004Z"
   },
   {
    "duration": 66,
    "start_time": "2022-02-20T12:31:55.937Z"
   },
   {
    "duration": 61,
    "start_time": "2022-02-20T12:31:56.816Z"
   },
   {
    "duration": 11,
    "start_time": "2022-02-20T12:32:05.333Z"
   },
   {
    "duration": 70,
    "start_time": "2022-02-20T12:32:24.199Z"
   },
   {
    "duration": 417,
    "start_time": "2022-02-20T14:02:03.501Z"
   },
   {
    "duration": 1860,
    "start_time": "2022-02-20T14:02:07.992Z"
   },
   {
    "duration": 44,
    "start_time": "2022-02-20T14:02:09.856Z"
   },
   {
    "duration": 1476,
    "start_time": "2022-02-20T14:02:09.904Z"
   },
   {
    "duration": 455,
    "start_time": "2022-02-20T14:02:11.383Z"
   },
   {
    "duration": 1379,
    "start_time": "2022-02-20T14:02:11.842Z"
   },
   {
    "duration": 11,
    "start_time": "2022-02-20T14:02:13.227Z"
   },
   {
    "duration": 519,
    "start_time": "2022-02-20T14:02:13.241Z"
   },
   {
    "duration": 7,
    "start_time": "2022-02-20T14:02:13.767Z"
   },
   {
    "duration": 51,
    "start_time": "2022-02-20T14:02:13.777Z"
   },
   {
    "duration": 13,
    "start_time": "2022-02-20T14:02:13.831Z"
   },
   {
    "duration": 38,
    "start_time": "2022-02-20T14:02:13.847Z"
   },
   {
    "duration": 40,
    "start_time": "2022-02-20T14:02:13.888Z"
   },
   {
    "duration": 39,
    "start_time": "2022-02-20T14:02:13.931Z"
   },
   {
    "duration": 20,
    "start_time": "2022-02-20T14:02:13.972Z"
   },
   {
    "duration": 77,
    "start_time": "2022-02-20T14:02:13.995Z"
   },
   {
    "duration": 158,
    "start_time": "2022-02-20T14:02:14.074Z"
   },
   {
    "duration": 101,
    "start_time": "2022-02-20T14:02:14.234Z"
   },
   {
    "duration": 138,
    "start_time": "2022-02-20T14:02:14.339Z"
   },
   {
    "duration": 55,
    "start_time": "2022-02-20T14:02:14.480Z"
   },
   {
    "duration": 158,
    "start_time": "2022-02-20T14:02:14.537Z"
   },
   {
    "duration": 263,
    "start_time": "2022-02-20T14:02:14.698Z"
   },
   {
    "duration": 138,
    "start_time": "2022-02-20T14:02:14.964Z"
   },
   {
    "duration": 121,
    "start_time": "2022-02-20T14:02:15.107Z"
   },
   {
    "duration": 18,
    "start_time": "2022-02-20T14:02:15.231Z"
   },
   {
    "duration": 11,
    "start_time": "2022-02-20T14:03:36.771Z"
   },
   {
    "duration": 107,
    "start_time": "2022-02-20T14:04:35.329Z"
   },
   {
    "duration": 14,
    "start_time": "2022-02-20T14:04:40.261Z"
   },
   {
    "duration": 62,
    "start_time": "2022-02-20T14:05:40.899Z"
   },
   {
    "duration": 11,
    "start_time": "2022-02-20T14:05:43.482Z"
   },
   {
    "duration": 61,
    "start_time": "2022-02-20T14:06:46.819Z"
   },
   {
    "duration": 11,
    "start_time": "2022-02-20T14:06:55.624Z"
   },
   {
    "duration": 13,
    "start_time": "2022-02-20T14:09:06.947Z"
   },
   {
    "duration": 10,
    "start_time": "2022-02-20T14:10:47.992Z"
   },
   {
    "duration": 14,
    "start_time": "2022-02-20T14:36:13.825Z"
   },
   {
    "duration": 12,
    "start_time": "2022-02-20T14:38:33.259Z"
   },
   {
    "duration": 13,
    "start_time": "2022-02-20T14:39:06.865Z"
   },
   {
    "duration": 110,
    "start_time": "2022-02-20T14:39:10.361Z"
   },
   {
    "duration": 11,
    "start_time": "2022-02-20T14:39:14.993Z"
   },
   {
    "duration": 9,
    "start_time": "2022-02-20T14:43:07.454Z"
   },
   {
    "duration": 75,
    "start_time": "2022-02-20T14:43:07.467Z"
   },
   {
    "duration": 1447,
    "start_time": "2022-02-20T14:43:07.546Z"
   },
   {
    "duration": 465,
    "start_time": "2022-02-20T14:43:08.996Z"
   },
   {
    "duration": 1280,
    "start_time": "2022-02-20T14:43:09.464Z"
   },
   {
    "duration": 11,
    "start_time": "2022-02-20T14:43:10.747Z"
   },
   {
    "duration": 510,
    "start_time": "2022-02-20T14:43:10.761Z"
   },
   {
    "duration": 6,
    "start_time": "2022-02-20T14:43:11.275Z"
   },
   {
    "duration": 64,
    "start_time": "2022-02-20T14:43:11.286Z"
   },
   {
    "duration": 11,
    "start_time": "2022-02-20T14:43:11.354Z"
   },
   {
    "duration": 26,
    "start_time": "2022-02-20T14:43:11.369Z"
   },
   {
    "duration": 45,
    "start_time": "2022-02-20T14:43:11.398Z"
   },
   {
    "duration": 42,
    "start_time": "2022-02-20T14:43:11.446Z"
   },
   {
    "duration": 50,
    "start_time": "2022-02-20T14:43:11.491Z"
   },
   {
    "duration": 50,
    "start_time": "2022-02-20T14:43:11.544Z"
   },
   {
    "duration": 244,
    "start_time": "2022-02-20T14:43:11.597Z"
   },
   {
    "duration": 18,
    "start_time": "2022-02-20T14:43:11.844Z"
   },
   {
    "duration": 161,
    "start_time": "2022-02-20T14:43:11.865Z"
   },
   {
    "duration": 99,
    "start_time": "2022-02-20T14:43:12.030Z"
   },
   {
    "duration": 152,
    "start_time": "2022-02-20T14:43:12.132Z"
   },
   {
    "duration": 47,
    "start_time": "2022-02-20T14:43:12.287Z"
   },
   {
    "duration": 14,
    "start_time": "2022-02-20T14:43:12.337Z"
   },
   {
    "duration": 238,
    "start_time": "2022-02-20T14:43:12.359Z"
   },
   {
    "duration": 353,
    "start_time": "2022-02-20T14:43:12.601Z"
   },
   {
    "duration": 23,
    "start_time": "2022-02-20T14:43:12.957Z"
   },
   {
    "duration": 199,
    "start_time": "2022-02-20T14:43:12.984Z"
   },
   {
    "duration": 14,
    "start_time": "2022-02-20T14:43:13.186Z"
   },
   {
    "duration": 154,
    "start_time": "2022-02-20T14:43:13.204Z"
   },
   {
    "duration": 20,
    "start_time": "2022-02-20T14:43:13.361Z"
   },
   {
    "duration": 46,
    "start_time": "2022-02-20T14:43:13.385Z"
   },
   {
    "duration": 107,
    "start_time": "2022-02-20T14:43:59.803Z"
   },
   {
    "duration": 105,
    "start_time": "2022-02-20T14:44:13.746Z"
   },
   {
    "duration": 112,
    "start_time": "2022-02-20T14:44:19.978Z"
   },
   {
    "duration": 100,
    "start_time": "2022-02-20T14:44:27.657Z"
   },
   {
    "duration": 16,
    "start_time": "2022-02-20T14:44:34.551Z"
   },
   {
    "duration": 104,
    "start_time": "2022-02-20T14:44:40.471Z"
   },
   {
    "duration": 121,
    "start_time": "2022-02-20T14:44:44.819Z"
   },
   {
    "duration": 93,
    "start_time": "2022-02-20T14:44:49.866Z"
   },
   {
    "duration": 12,
    "start_time": "2022-02-20T14:44:54.583Z"
   },
   {
    "duration": 118,
    "start_time": "2022-02-20T14:44:59.636Z"
   },
   {
    "duration": 16,
    "start_time": "2022-02-20T14:45:02.771Z"
   },
   {
    "duration": 8,
    "start_time": "2022-02-20T14:45:12.147Z"
   },
   {
    "duration": 74,
    "start_time": "2022-02-20T14:45:12.159Z"
   },
   {
    "duration": 1594,
    "start_time": "2022-02-20T14:45:12.236Z"
   },
   {
    "duration": 438,
    "start_time": "2022-02-20T14:45:13.833Z"
   },
   {
    "duration": 1429,
    "start_time": "2022-02-20T14:45:14.275Z"
   },
   {
    "duration": 23,
    "start_time": "2022-02-20T14:45:15.708Z"
   },
   {
    "duration": 469,
    "start_time": "2022-02-20T14:45:15.734Z"
   },
   {
    "duration": 19,
    "start_time": "2022-02-20T14:45:16.209Z"
   },
   {
    "duration": 37,
    "start_time": "2022-02-20T14:45:16.232Z"
   },
   {
    "duration": 14,
    "start_time": "2022-02-20T14:45:16.272Z"
   },
   {
    "duration": 42,
    "start_time": "2022-02-20T14:45:16.289Z"
   },
   {
    "duration": 53,
    "start_time": "2022-02-20T14:45:16.334Z"
   },
   {
    "duration": 56,
    "start_time": "2022-02-20T14:45:16.391Z"
   },
   {
    "duration": 27,
    "start_time": "2022-02-20T14:45:16.451Z"
   },
   {
    "duration": 85,
    "start_time": "2022-02-20T14:45:16.482Z"
   },
   {
    "duration": 161,
    "start_time": "2022-02-20T14:45:16.571Z"
   },
   {
    "duration": 22,
    "start_time": "2022-02-20T14:45:16.735Z"
   },
   {
    "duration": 167,
    "start_time": "2022-02-20T14:45:16.761Z"
   },
   {
    "duration": 196,
    "start_time": "2022-02-20T14:45:16.932Z"
   },
   {
    "duration": 124,
    "start_time": "2022-02-20T14:45:17.131Z"
   },
   {
    "duration": 12,
    "start_time": "2022-02-20T14:45:17.257Z"
   },
   {
    "duration": 11,
    "start_time": "2022-02-20T14:45:17.271Z"
   },
   {
    "duration": 214,
    "start_time": "2022-02-20T14:45:17.327Z"
   },
   {
    "duration": 328,
    "start_time": "2022-02-20T14:45:17.545Z"
   },
   {
    "duration": 20,
    "start_time": "2022-02-20T14:45:17.877Z"
   },
   {
    "duration": 142,
    "start_time": "2022-02-20T14:45:17.900Z"
   },
   {
    "duration": 14,
    "start_time": "2022-02-20T14:45:18.046Z"
   },
   {
    "duration": 146,
    "start_time": "2022-02-20T14:45:18.063Z"
   },
   {
    "duration": 26,
    "start_time": "2022-02-20T14:45:18.212Z"
   },
   {
    "duration": 19,
    "start_time": "2022-02-20T14:45:18.242Z"
   },
   {
    "duration": 14,
    "start_time": "2022-02-20T14:46:05.534Z"
   },
   {
    "duration": 8,
    "start_time": "2022-02-20T14:49:23.217Z"
   },
   {
    "duration": 51,
    "start_time": "2022-02-20T14:49:23.229Z"
   },
   {
    "duration": 1492,
    "start_time": "2022-02-20T14:49:23.284Z"
   },
   {
    "duration": 428,
    "start_time": "2022-02-20T14:49:24.779Z"
   },
   {
    "duration": 1314,
    "start_time": "2022-02-20T14:49:25.211Z"
   },
   {
    "duration": 11,
    "start_time": "2022-02-20T14:49:26.528Z"
   },
   {
    "duration": 443,
    "start_time": "2022-02-20T14:49:26.543Z"
   },
   {
    "duration": 9,
    "start_time": "2022-02-20T14:49:26.992Z"
   },
   {
    "duration": 43,
    "start_time": "2022-02-20T14:49:27.006Z"
   },
   {
    "duration": 12,
    "start_time": "2022-02-20T14:49:27.052Z"
   },
   {
    "duration": 16,
    "start_time": "2022-02-20T14:49:27.067Z"
   },
   {
    "duration": 58,
    "start_time": "2022-02-20T14:49:27.085Z"
   },
   {
    "duration": 37,
    "start_time": "2022-02-20T14:49:27.146Z"
   },
   {
    "duration": 49,
    "start_time": "2022-02-20T14:49:27.186Z"
   },
   {
    "duration": 50,
    "start_time": "2022-02-20T14:49:27.238Z"
   },
   {
    "duration": 164,
    "start_time": "2022-02-20T14:49:27.291Z"
   },
   {
    "duration": 26,
    "start_time": "2022-02-20T14:49:27.459Z"
   },
   {
    "duration": 145,
    "start_time": "2022-02-20T14:49:27.487Z"
   },
   {
    "duration": 191,
    "start_time": "2022-02-20T14:49:27.635Z"
   },
   {
    "duration": 177,
    "start_time": "2022-02-20T14:49:27.832Z"
   },
   {
    "duration": 21,
    "start_time": "2022-02-20T14:49:28.013Z"
   },
   {
    "duration": 9,
    "start_time": "2022-02-20T14:49:28.037Z"
   },
   {
    "duration": 223,
    "start_time": "2022-02-20T14:49:28.052Z"
   },
   {
    "duration": 274,
    "start_time": "2022-02-20T14:49:28.278Z"
   },
   {
    "duration": 18,
    "start_time": "2022-02-20T14:49:28.555Z"
   },
   {
    "duration": 141,
    "start_time": "2022-02-20T14:49:28.576Z"
   },
   {
    "duration": 17,
    "start_time": "2022-02-20T14:49:28.719Z"
   },
   {
    "duration": 150,
    "start_time": "2022-02-20T14:49:28.740Z"
   },
   {
    "duration": 35,
    "start_time": "2022-02-20T14:49:28.894Z"
   },
   {
    "duration": 19,
    "start_time": "2022-02-20T14:49:28.932Z"
   },
   {
    "duration": 16,
    "start_time": "2022-02-20T14:49:28.954Z"
   },
   {
    "duration": 13,
    "start_time": "2022-02-20T14:49:37.480Z"
   }
  ],
  "kernelspec": {
   "display_name": "Python 3 (ipykernel)",
   "language": "python",
   "name": "python3"
  },
  "language_info": {
   "codemirror_mode": {
    "name": "ipython",
    "version": 3
   },
   "file_extension": ".py",
   "mimetype": "text/x-python",
   "name": "python",
   "nbconvert_exporter": "python",
   "pygments_lexer": "ipython3",
   "version": "3.9.7"
  },
  "toc": {
   "base_numbering": 1,
   "nav_menu": {},
   "number_sections": true,
   "sideBar": true,
   "skip_h1_title": true,
   "title_cell": "Содержание",
   "title_sidebar": "Contents",
   "toc_cell": true,
   "toc_position": {},
   "toc_section_display": true,
   "toc_window_display": true
  }
 },
 "nbformat": 4,
 "nbformat_minor": 2
}
