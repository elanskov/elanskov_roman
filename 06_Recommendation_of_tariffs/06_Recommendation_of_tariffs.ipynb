{
 "cells": [
  {
   "cell_type": "markdown",
   "metadata": {},
   "source": [
    "# Рекомендация тарифов"
   ]
  },
  {
   "cell_type": "markdown",
   "metadata": {},
   "source": [
    "В вашем распоряжении данные о поведении клиентов, которые уже перешли на эти тарифы (из проекта курса «Статистический анализ данных»). Нужно построить модель для задачи классификации, которая выберет подходящий тариф. Предобработка данных не понадобится — вы её уже сделали.\n",
    "\n",
    "Постройте модель с максимально большим значением *accuracy*. Чтобы сдать проект успешно, нужно довести долю правильных ответов по крайней мере до 0.75. Проверьте *accuracy* на тестовой выборке самостоятельно."
   ]
  },
  {
   "cell_type": "markdown",
   "metadata": {},
   "source": [
    "# Описание данных:\n",
    "\n",
    "\n",
    "Каждый объект в наборе данных — это информация о поведении одного пользователя за месяц. Известно:\n",
    "- сalls — количество звонков,\n",
    "- minutes — суммарная длительность звонков в минутах,\n",
    "- messages — количество sms-сообщений,\n",
    "- mb_used — израсходованный интернет-трафик в Мб,\n",
    "- is_ultra — каким тарифом пользовался в течение месяца («Ультра» — 1, «Смарт» — 0)."
   ]
  },
  {
   "cell_type": "markdown",
   "metadata": {},
   "source": [
    "## Откройте и изучите файл"
   ]
  },
  {
   "cell_type": "markdown",
   "metadata": {},
   "source": [
    "Импортируем библиотеки:"
   ]
  },
  {
   "cell_type": "code",
   "execution_count": 1,
   "metadata": {},
   "outputs": [],
   "source": [
    "import pandas as pd\n",
    "import numpy as np\n",
    "from sklearn.dummy import DummyClassifier\n",
    "from sklearn.model_selection import train_test_split\n",
    "from sklearn.linear_model import LogisticRegression\n",
    "from sklearn.ensemble import RandomForestClassifier\n",
    "from sklearn.tree import DecisionTreeClassifier\n",
    "from sklearn.metrics import accuracy_score\n",
    "from sklearn.metrics import roc_curve\n",
    "from sklearn.metrics import auc"
   ]
  },
  {
   "cell_type": "markdown",
   "metadata": {},
   "source": [
    "Импортируем файл и посмотрим на него:"
   ]
  },
  {
   "cell_type": "code",
   "execution_count": 2,
   "metadata": {},
   "outputs": [
    {
     "data": {
      "text/html": [
       "<div>\n",
       "<style scoped>\n",
       "    .dataframe tbody tr th:only-of-type {\n",
       "        vertical-align: middle;\n",
       "    }\n",
       "\n",
       "    .dataframe tbody tr th {\n",
       "        vertical-align: top;\n",
       "    }\n",
       "\n",
       "    .dataframe thead th {\n",
       "        text-align: right;\n",
       "    }\n",
       "</style>\n",
       "<table border=\"1\" class=\"dataframe\">\n",
       "  <thead>\n",
       "    <tr style=\"text-align: right;\">\n",
       "      <th></th>\n",
       "      <th>calls</th>\n",
       "      <th>minutes</th>\n",
       "      <th>messages</th>\n",
       "      <th>mb_used</th>\n",
       "      <th>is_ultra</th>\n",
       "    </tr>\n",
       "  </thead>\n",
       "  <tbody>\n",
       "    <tr>\n",
       "      <td>0</td>\n",
       "      <td>40.0</td>\n",
       "      <td>311.90</td>\n",
       "      <td>83.0</td>\n",
       "      <td>19915.42</td>\n",
       "      <td>0</td>\n",
       "    </tr>\n",
       "    <tr>\n",
       "      <td>1</td>\n",
       "      <td>85.0</td>\n",
       "      <td>516.75</td>\n",
       "      <td>56.0</td>\n",
       "      <td>22696.96</td>\n",
       "      <td>0</td>\n",
       "    </tr>\n",
       "    <tr>\n",
       "      <td>2</td>\n",
       "      <td>77.0</td>\n",
       "      <td>467.66</td>\n",
       "      <td>86.0</td>\n",
       "      <td>21060.45</td>\n",
       "      <td>0</td>\n",
       "    </tr>\n",
       "    <tr>\n",
       "      <td>3</td>\n",
       "      <td>106.0</td>\n",
       "      <td>745.53</td>\n",
       "      <td>81.0</td>\n",
       "      <td>8437.39</td>\n",
       "      <td>1</td>\n",
       "    </tr>\n",
       "    <tr>\n",
       "      <td>4</td>\n",
       "      <td>66.0</td>\n",
       "      <td>418.74</td>\n",
       "      <td>1.0</td>\n",
       "      <td>14502.75</td>\n",
       "      <td>0</td>\n",
       "    </tr>\n",
       "  </tbody>\n",
       "</table>\n",
       "</div>"
      ],
      "text/plain": [
       "   calls  minutes  messages   mb_used  is_ultra\n",
       "0   40.0   311.90      83.0  19915.42         0\n",
       "1   85.0   516.75      56.0  22696.96         0\n",
       "2   77.0   467.66      86.0  21060.45         0\n",
       "3  106.0   745.53      81.0   8437.39         1\n",
       "4   66.0   418.74       1.0  14502.75         0"
      ]
     },
     "metadata": {},
     "output_type": "display_data"
    },
    {
     "name": "stdout",
     "output_type": "stream",
     "text": [
      "<class 'pandas.core.frame.DataFrame'>\n",
      "RangeIndex: 3214 entries, 0 to 3213\n",
      "Data columns (total 5 columns):\n",
      "calls       3214 non-null float64\n",
      "minutes     3214 non-null float64\n",
      "messages    3214 non-null float64\n",
      "mb_used     3214 non-null float64\n",
      "is_ultra    3214 non-null int64\n",
      "dtypes: float64(4), int64(1)\n",
      "memory usage: 125.7 KB\n",
      "None\n"
     ]
    }
   ],
   "source": [
    "df = pd.read_csv('/datasets/users_behavior.csv')\n",
    "display(df.head())\n",
    "print(df.info())"
   ]
  },
  {
   "cell_type": "markdown",
   "metadata": {},
   "source": [
    "Думаю стоит количество звонков и колечество сообщениий привести к цeлочисленному формату."
   ]
  },
  {
   "cell_type": "code",
   "execution_count": 3,
   "metadata": {},
   "outputs": [
    {
     "name": "stdout",
     "output_type": "stream",
     "text": [
      "<class 'pandas.core.frame.DataFrame'>\n",
      "RangeIndex: 3214 entries, 0 to 3213\n",
      "Data columns (total 5 columns):\n",
      "calls       3214 non-null int64\n",
      "minutes     3214 non-null float64\n",
      "messages    3214 non-null int64\n",
      "mb_used     3214 non-null float64\n",
      "is_ultra    3214 non-null int64\n",
      "dtypes: float64(2), int64(3)\n",
      "memory usage: 125.7 KB\n"
     ]
    }
   ],
   "source": [
    "df['calls'] = df['calls'].astype('int')\n",
    "df['messages'] = df['messages'].astype('int')\n",
    "df.info()"
   ]
  },
  {
   "cell_type": "markdown",
   "metadata": {},
   "source": [
    "Так же проверим пропуски и дубликаты"
   ]
  },
  {
   "cell_type": "code",
   "execution_count": 4,
   "metadata": {},
   "outputs": [
    {
     "name": "stdout",
     "output_type": "stream",
     "text": [
      "calls       0\n",
      "minutes     0\n",
      "messages    0\n",
      "mb_used     0\n",
      "is_ultra    0\n",
      "dtype: int64\n",
      "0\n"
     ]
    }
   ],
   "source": [
    "print(df.isna().sum())\n",
    "print(df.duplicated().sum())"
   ]
  },
  {
   "cell_type": "markdown",
   "metadata": {},
   "source": [
    "Хоть в описании к проекту и сказано, что предоработка не нужна, проверить стоило, что все в порядке. Изменили типы данных, проверили наличие пропусков и дубликатов. "
   ]
  },
  {
   "cell_type": "markdown",
   "metadata": {},
   "source": [
    "## Разбейте данные на выборки"
   ]
  },
  {
   "cell_type": "markdown",
   "metadata": {},
   "source": [
    "Выделим признаки и целевой параметр: целевой параметр - столбец \"is_ultra\", все остальное - признаки."
   ]
  },
  {
   "cell_type": "code",
   "execution_count": 5,
   "metadata": {},
   "outputs": [],
   "source": [
    "# для признаков удалим 'is_ultra', а для целевых параметров оставим только его:\n",
    "features = df.drop(['is_ultra'], axis=1)\n",
    "target = df['is_ultra']"
   ]
  },
  {
   "cell_type": "markdown",
   "metadata": {},
   "source": [
    "Теперь нам необходимо разделить полученные наборы данных на тренировочную, валидационную и тестовую выборки в соотношении 60/20/20. Используем функцию train_test_split(). Для этого сначала разделим данные на два набора - обучающий и тестово-валидационный. А тестово-валидационный затем поделим пополам для разделения на валидационный и тестовый. "
   ]
  },
  {
   "cell_type": "code",
   "execution_count": 6,
   "metadata": {},
   "outputs": [
    {
     "name": "stdout",
     "output_type": "stream",
     "text": [
      "1928\n",
      "643\n",
      "643\n"
     ]
    }
   ],
   "source": [
    "# сначала разделим данные на тренировочный и тестовый наборы:\n",
    "features_train, features_valid_test, target_train, target_valid_test = train_test_split(\n",
    "    features, target, test_size=0.4, random_state=12345)\n",
    "\n",
    "# теперь разделим тестовый на валидационный и тестовый:\n",
    "features_valid, features_test, target_valid, target_test = train_test_split(\n",
    "    features_valid_test, target_valid_test, test_size=0.5, random_state=12345)\n",
    "\n",
    "# проверим размеры датасетов\n",
    "print(len(features_train))\n",
    "print(len(features_valid))\n",
    "print(len(features_test))"
   ]
  },
  {
   "cell_type": "markdown",
   "metadata": {},
   "source": [
    "## Исследуйте модели"
   ]
  },
  {
   "cell_type": "markdown",
   "metadata": {},
   "source": [
    "Обучим и исследуем модели случайного леса, логической регрессии и дерево решений. Начнем со случайного леса. Переберем циклом несколько гиперпараметров и выбеим лучший."
   ]
  },
  {
   "cell_type": "code",
   "execution_count": 8,
   "metadata": {},
   "outputs": [
    {
     "data": {
      "text/plain": [
       "0.7947122861586314"
      ]
     },
     "execution_count": 8,
     "metadata": {},
     "output_type": "execute_result"
    }
   ],
   "source": [
    "# создадим переменные лучших результатов\n",
    "best_model_random_forest = None\n",
    "best_result_random_forest = 0\n",
    "\n",
    "# цикл переборов деревьев\n",
    "for est in range(1, 100):\n",
    "    model_random_forest = RandomForestClassifier(random_state=12345, n_estimators=est)\n",
    "    model_random_forest.fit(features_train, target_train)\n",
    "    result = model_random_forest.score(features_valid, target_valid)\n",
    "    if result > best_result_random_forest:\n",
    "        best_model_random_forest = model_random_forest\n",
    "        best_result_random_forest = result\n",
    "        \n",
    "best_result_random_forest"
   ]
  },
  {
   "cell_type": "markdown",
   "metadata": {},
   "source": [
    "0.79 на валидационной выборке. Хороший результат. Но нужно проверить остальные модели, может есть вариант лучше. Логистическая регрессия:"
   ]
  },
  {
   "cell_type": "code",
   "execution_count": 9,
   "metadata": {},
   "outputs": [
    {
     "name": "stderr",
     "output_type": "stream",
     "text": [
      "/opt/conda/lib/python3.7/site-packages/sklearn/linear_model/logistic.py:432: FutureWarning: Default solver will be changed to 'lbfgs' in 0.22. Specify a solver to silence this warning.\n",
      "  FutureWarning)\n"
     ]
    },
    {
     "data": {
      "text/plain": [
       "0.7589424572317263"
      ]
     },
     "execution_count": 9,
     "metadata": {},
     "output_type": "execute_result"
    }
   ],
   "source": [
    "# инициилизируем модель:\n",
    "model_log = LogisticRegression(random_state=12345)\n",
    "\n",
    "# обучим модель на тренировочной выборке\n",
    "model_log.fit(features_train, target_train)\n",
    "\n",
    "# получим метрику качества модели на валидационной выборке\n",
    "result_log = model_log.score(features_valid, target_valid) \n",
    "\n",
    "# результат\n",
    "result_log"
   ]
  },
  {
   "cell_type": "markdown",
   "metadata": {},
   "source": [
    "Почти 0.76 - неплохой результат, но он хуже, чем модель случайного леса."
   ]
  },
  {
   "cell_type": "markdown",
   "metadata": {},
   "source": [
    "Проверим модель дерева решений."
   ]
  },
  {
   "cell_type": "code",
   "execution_count": 10,
   "metadata": {},
   "outputs": [
    {
     "data": {
      "text/plain": [
       "0.7853810264385692"
      ]
     },
     "execution_count": 10,
     "metadata": {},
     "output_type": "execute_result"
    }
   ],
   "source": [
    "# создадим переменные для сохрарнения результатов\n",
    "best_model_tree = None\n",
    "best_result_tree = 0\n",
    "\n",
    "# цикл для перебора глубины дерева:\n",
    "for depth in range(1, 4):\n",
    "    model_tree = DecisionTreeClassifier(random_state=12345, max_depth=depth)\n",
    "    model_tree.fit(features_train, target_train)\n",
    "    predictions_tree = model_tree.predict(features_valid)\n",
    "    result_tree = accuracy_score(target_valid, predictions_tree)\n",
    "    if result_tree > best_result_tree:\n",
    "        best_model_tree = model_tree\n",
    "        best_result_tree = result_tree\n",
    "\n",
    "# результат\n",
    "best_result_tree"
   ]
  },
  {
   "cell_type": "markdown",
   "metadata": {},
   "source": [
    "0.78 - средний результат среди всех моделей. Но мы будем проверять модели на тестовой выборке. Предварительный итог таков:\n",
    "\n",
    "1. 1 место по качеству - у случайного леса, accuracy почти 0.795. Самое долгое обучение, но оно того стоит. Хотя после 100 деревьев результат улучшается не сильно, мы решили высадить аж 1000 деревьев.  \n",
    "2. 2 место у дерева решений. Методом перебора глубины дерева выяснилось что после 4 \"узлов\" качество не увеличивается, и остается примерно 0.785\n",
    "3. 3 место у логистической регрессии - accurasy - почти 0.76. Хотя она и работет быстрее всех, мы нацалены на качество. "
   ]
  },
  {
   "cell_type": "markdown",
   "metadata": {},
   "source": [
    "## Проверьте модель на тестовой выборке"
   ]
  },
  {
   "cell_type": "markdown",
   "metadata": {},
   "source": [
    "Проверяем модели на тестовой выборке. Начнем с логической регрессии"
   ]
  },
  {
   "cell_type": "code",
   "execution_count": 11,
   "metadata": {},
   "outputs": [
    {
     "data": {
      "text/plain": [
       "0.7402799377916018"
      ]
     },
     "execution_count": 11,
     "metadata": {},
     "output_type": "execute_result"
    }
   ],
   "source": [
    "# получим метрику качества модели на тестовой выборке\n",
    "result_log = model_log.score(features_test, target_test) \n",
    "\n",
    "# результат\n",
    "result_log"
   ]
  },
  {
   "cell_type": "markdown",
   "metadata": {},
   "source": [
    "Результат совсем не удовлетворительный... На очереди дерево решений. "
   ]
  },
  {
   "cell_type": "code",
   "execution_count": 12,
   "metadata": {},
   "outputs": [
    {
     "data": {
      "text/plain": [
       "0.7791601866251944"
      ]
     },
     "execution_count": 12,
     "metadata": {},
     "output_type": "execute_result"
    }
   ],
   "source": [
    "# предсказания модели\n",
    "predictions_tree = best_model_tree.predict(features_test)\n",
    "\n",
    "# качество модели\n",
    "best_result_tree = accuracy_score(target_test, predictions_tree)\n",
    "\n",
    "# результат\n",
    "best_result_tree"
   ]
  },
  {
   "cell_type": "markdown",
   "metadata": {},
   "source": [
    "Почти 0.78 - неплохо. Но может лес будет лучше?"
   ]
  },
  {
   "cell_type": "code",
   "execution_count": 13,
   "metadata": {},
   "outputs": [
    {
     "data": {
      "text/plain": [
       "0.7807153965785381"
      ]
     },
     "execution_count": 13,
     "metadata": {},
     "output_type": "execute_result"
    }
   ],
   "source": [
    "# качество модели\n",
    "best_result_random = best_model_random_forest.score(features_test, target_test)\n",
    "\n",
    "# результат\n",
    "best_result_random"
   ]
  },
  {
   "cell_type": "markdown",
   "metadata": {},
   "source": [
    "Результат случайного леса и дерева решений практически равны, но все же случайный лес точнее. \n",
    "Итак, наши победители:\n",
    "1. RandomForest, accuracy = 0.7807\n",
    "2. DecisionTree, accuracy = 0.7792\n",
    "3. LogisticRegression, accuracy = 0.7403"
   ]
  },
  {
   "cell_type": "markdown",
   "metadata": {},
   "source": [
    "## (бонус) Проверьте модели на адекватность"
   ]
  },
  {
   "cell_type": "markdown",
   "metadata": {},
   "source": [
    "Проверкой на декватность, то есть вменяемость, как я узнал на просторах интернет, является соотнесение результатов обученных моделей с результатами моделей, которые учитывают только простые правила. Таким методом явлется DummyClassifier. С его помощью посчитаем accuracy и сравним его с нашими показателями. "
   ]
  },
  {
   "cell_type": "code",
   "execution_count": 15,
   "metadata": {},
   "outputs": [
    {
     "data": {
      "text/plain": [
       "0.6842923794712286"
      ]
     },
     "execution_count": 15,
     "metadata": {},
     "output_type": "execute_result"
    }
   ],
   "source": [
    "#\n",
    "model_dummy = DummyClassifier(strategy=\"most_frequent\")\n",
    "model_dummy.fit(features_train, target_train)\n",
    "model_dummy.predict(features_test)\n",
    "\n",
    "model_dummy.score(features_test, target_test)\n",
    "\n"
   ]
  },
  {
   "cell_type": "markdown",
   "metadata": {},
   "source": [
    "Мы все таки впереди незатейливых моделей, поэтому считаю что фокус удался. "
   ]
  },
  {
   "cell_type": "markdown",
   "metadata": {},
   "source": [
    "## Чек-лист готовности проекта"
   ]
  },
  {
   "cell_type": "markdown",
   "metadata": {},
   "source": [
    "Поставьте 'x' в выполненных пунктах. Далее нажмите Shift+Enter."
   ]
  },
  {
   "cell_type": "markdown",
   "metadata": {},
   "source": [
    "- [x] Jupyter Notebook открыт\n",
    "- [x] Весь код исполняется без ошибок\n",
    "- [x] Ячейки с кодом расположены в порядке исполнения\n",
    "- [x] Выполнено задание 1: данные загружены и изучены\n",
    "- [x] Выполнено задание 2: данные разбиты на три выборки\n",
    "- [x] Выполнено задание 3: проведено исследование моделей\n",
    "    - [x] Рассмотрено больше одной модели\n",
    "    - [x] Рассмотрено хотя бы 3 значения гипепараметров для какой-нибудь модели\n",
    "    - [x] Написаны выводы по результатам исследования\n",
    "- [x] Выполнено задание 3: Проведено тестирование\n",
    "- [x] Удалось достичь accuracy не меньше 0.75\n"
   ]
  },
  {
   "cell_type": "code",
   "execution_count": null,
   "metadata": {},
   "outputs": [],
   "source": []
  }
 ],
 "metadata": {
  "ExecuteTimeLog": [
   {
    "duration": 968,
    "start_time": "2022-01-30T20:09:23.025Z"
   },
   {
    "duration": 57,
    "start_time": "2022-01-30T20:09:47.046Z"
   },
   {
    "duration": 693,
    "start_time": "2022-02-02T06:59:19.306Z"
   },
   {
    "duration": 1461,
    "start_time": "2022-02-02T06:59:24.397Z"
   },
   {
    "duration": 32,
    "start_time": "2022-02-02T06:59:25.861Z"
   },
   {
    "duration": 29,
    "start_time": "2022-02-02T07:04:19.963Z"
   },
   {
    "duration": 27,
    "start_time": "2022-02-02T07:05:04.072Z"
   },
   {
    "duration": 32,
    "start_time": "2022-02-02T07:05:20.956Z"
   },
   {
    "duration": 104,
    "start_time": "2022-02-02T07:05:59.425Z"
   },
   {
    "duration": 12,
    "start_time": "2022-02-02T07:08:31.953Z"
   },
   {
    "duration": 453,
    "start_time": "2022-02-02T07:10:49.303Z"
   },
   {
    "duration": 10,
    "start_time": "2022-02-02T07:11:01.806Z"
   },
   {
    "duration": 10,
    "start_time": "2022-02-02T07:11:32.683Z"
   },
   {
    "duration": 6,
    "start_time": "2022-02-02T07:26:20.377Z"
   },
   {
    "duration": 20,
    "start_time": "2022-02-02T07:53:46.002Z"
   },
   {
    "duration": 9,
    "start_time": "2022-02-02T07:53:53.591Z"
   },
   {
    "duration": 10,
    "start_time": "2022-02-02T07:54:06.741Z"
   },
   {
    "duration": 348,
    "start_time": "2022-02-02T08:00:54.031Z"
   },
   {
    "duration": 9,
    "start_time": "2022-02-02T08:09:43.822Z"
   },
   {
    "duration": 6,
    "start_time": "2022-02-02T08:12:03.590Z"
   },
   {
    "duration": 11,
    "start_time": "2022-02-02T08:12:09.850Z"
   },
   {
    "duration": 12,
    "start_time": "2022-02-02T08:13:15.612Z"
   },
   {
    "duration": 13,
    "start_time": "2022-02-02T08:27:55.656Z"
   },
   {
    "duration": 12,
    "start_time": "2022-02-02T08:28:15.684Z"
   },
   {
    "duration": 315,
    "start_time": "2022-02-02T08:35:44.652Z"
   },
   {
    "duration": 320,
    "start_time": "2022-02-02T08:47:19.666Z"
   },
   {
    "duration": 321,
    "start_time": "2022-02-02T08:47:36.756Z"
   },
   {
    "duration": 341,
    "start_time": "2022-02-02T08:49:42.039Z"
   },
   {
    "duration": 29,
    "start_time": "2022-02-02T08:50:26.488Z"
   },
   {
    "duration": 1562,
    "start_time": "2022-02-02T08:51:38.738Z"
   },
   {
    "duration": 34,
    "start_time": "2022-02-02T08:52:44.888Z"
   },
   {
    "duration": 250398,
    "start_time": "2022-02-02T08:57:11.328Z"
   },
   {
    "duration": 47392,
    "start_time": "2022-02-02T09:02:38.168Z"
   },
   {
    "duration": 379,
    "start_time": "2022-02-02T09:06:56.569Z"
   },
   {
    "duration": 46,
    "start_time": "2022-02-02T09:07:04.668Z"
   },
   {
    "duration": 89,
    "start_time": "2022-02-02T09:07:49.349Z"
   },
   {
    "duration": 269,
    "start_time": "2022-02-02T09:07:55.129Z"
   },
   {
    "duration": 941,
    "start_time": "2022-02-02T09:08:04.699Z"
   },
   {
    "duration": 96,
    "start_time": "2022-02-02T09:08:16.989Z"
   },
   {
    "duration": 475,
    "start_time": "2022-02-02T09:09:37.730Z"
   },
   {
    "duration": 263,
    "start_time": "2022-02-02T09:09:41.875Z"
   },
   {
    "duration": 343,
    "start_time": "2022-02-02T09:09:45.221Z"
   },
   {
    "duration": 421,
    "start_time": "2022-02-02T09:09:48.129Z"
   },
   {
    "duration": 379,
    "start_time": "2022-02-02T09:09:51.858Z"
   },
   {
    "duration": 396,
    "start_time": "2022-02-02T09:09:54.636Z"
   },
   {
    "duration": 417,
    "start_time": "2022-02-02T09:09:57.688Z"
   },
   {
    "duration": 447,
    "start_time": "2022-02-02T09:10:01.949Z"
   },
   {
    "duration": 460,
    "start_time": "2022-02-02T09:10:05.932Z"
   },
   {
    "duration": 331,
    "start_time": "2022-02-02T09:28:55.371Z"
   },
   {
    "duration": 294,
    "start_time": "2022-02-02T09:29:43.973Z"
   },
   {
    "duration": 1130,
    "start_time": "2022-02-02T09:29:58.460Z"
   },
   {
    "duration": 2350,
    "start_time": "2022-02-02T09:30:09.693Z"
   },
   {
    "duration": 940,
    "start_time": "2022-02-02T09:30:18.342Z"
   },
   {
    "duration": 539,
    "start_time": "2022-02-02T09:30:24.751Z"
   },
   {
    "duration": 68,
    "start_time": "2022-02-02T09:30:28.899Z"
   },
   {
    "duration": 42,
    "start_time": "2022-02-02T09:30:34.338Z"
   },
   {
    "duration": 38,
    "start_time": "2022-02-02T09:30:39.511Z"
   },
   {
    "duration": 32,
    "start_time": "2022-02-02T09:30:41.719Z"
   },
   {
    "duration": 25,
    "start_time": "2022-02-02T09:30:44.458Z"
   },
   {
    "duration": 17,
    "start_time": "2022-02-02T09:30:48.251Z"
   },
   {
    "duration": 19,
    "start_time": "2022-02-02T09:30:52.411Z"
   },
   {
    "duration": 25,
    "start_time": "2022-02-02T09:30:56.131Z"
   },
   {
    "duration": 248505,
    "start_time": "2022-02-02T09:31:49.619Z"
   },
   {
    "duration": 2502,
    "start_time": "2022-02-02T09:38:53.582Z"
   },
   {
    "duration": 5085,
    "start_time": "2022-02-02T09:39:06.318Z"
   },
   {
    "duration": 1226,
    "start_time": "2022-02-02T09:39:19.710Z"
   },
   {
    "duration": 425,
    "start_time": "2022-02-02T09:39:28.574Z"
   },
   {
    "duration": 2292,
    "start_time": "2022-02-02T09:39:38.350Z"
   },
   {
    "duration": 6280,
    "start_time": "2022-02-02T09:39:52.091Z"
   },
   {
    "duration": 24810,
    "start_time": "2022-02-02T09:40:09.620Z"
   },
   {
    "duration": 32,
    "start_time": "2022-02-02T09:41:24.726Z"
   },
   {
    "duration": 27,
    "start_time": "2022-02-02T09:42:23.911Z"
   },
   {
    "duration": 25,
    "start_time": "2022-02-02T09:46:22.856Z"
   },
   {
    "duration": 11,
    "start_time": "2022-02-02T10:10:45.512Z"
   },
   {
    "duration": 8,
    "start_time": "2022-02-02T10:14:26.187Z"
   },
   {
    "duration": 7,
    "start_time": "2022-02-02T10:14:46.247Z"
   },
   {
    "duration": 11,
    "start_time": "2022-02-02T10:17:18.002Z"
   },
   {
    "duration": 114,
    "start_time": "2022-02-02T10:21:02.796Z"
   },
   {
    "duration": 997,
    "start_time": "2022-02-02T20:25:15.800Z"
   },
   {
    "duration": 37,
    "start_time": "2022-02-02T20:25:16.799Z"
   },
   {
    "duration": 7,
    "start_time": "2022-02-02T20:25:16.838Z"
   },
   {
    "duration": 14,
    "start_time": "2022-02-02T20:25:16.847Z"
   },
   {
    "duration": 4,
    "start_time": "2022-02-02T20:25:16.863Z"
   },
   {
    "duration": 10,
    "start_time": "2022-02-02T20:25:16.868Z"
   },
   {
    "duration": 261,
    "start_time": "2022-02-02T20:25:16.880Z"
   },
   {
    "duration": 45739982,
    "start_time": "2022-02-02T07:42:57.162Z"
   },
   {
    "duration": 45739976,
    "start_time": "2022-02-02T07:42:57.168Z"
   },
   {
    "duration": 45739962,
    "start_time": "2022-02-02T07:42:57.183Z"
   },
   {
    "duration": 45739956,
    "start_time": "2022-02-02T07:42:57.190Z"
   },
   {
    "duration": 45739945,
    "start_time": "2022-02-02T07:42:57.202Z"
   },
   {
    "duration": 45739940,
    "start_time": "2022-02-02T07:42:57.208Z"
   },
   {
    "duration": 16638,
    "start_time": "2022-02-02T20:33:57.015Z"
   },
   {
    "duration": 16,
    "start_time": "2022-02-02T20:34:21.290Z"
   },
   {
    "duration": 21,
    "start_time": "2022-02-02T20:34:24.748Z"
   },
   {
    "duration": 6,
    "start_time": "2022-02-02T20:34:27.766Z"
   },
   {
    "duration": 6,
    "start_time": "2022-02-02T20:34:29.783Z"
   },
   {
    "duration": 10,
    "start_time": "2022-02-02T20:34:32.181Z"
   },
   {
    "duration": 6,
    "start_time": "2022-02-02T20:39:05.870Z"
   },
   {
    "duration": 6,
    "start_time": "2022-02-02T20:43:12.434Z"
   }
  ],
  "kernelspec": {
   "display_name": "Python 3 (ipykernel)",
   "language": "python",
   "name": "python3"
  },
  "language_info": {
   "codemirror_mode": {
    "name": "ipython",
    "version": 3
   },
   "file_extension": ".py",
   "mimetype": "text/x-python",
   "name": "python",
   "nbconvert_exporter": "python",
   "pygments_lexer": "ipython3",
   "version": "3.9.7"
  },
  "toc": {
   "base_numbering": 1,
   "nav_menu": {},
   "number_sections": true,
   "sideBar": true,
   "skip_h1_title": true,
   "title_cell": "Table of Contents",
   "title_sidebar": "Contents",
   "toc_cell": false,
   "toc_position": {},
   "toc_section_display": true,
   "toc_window_display": false
  }
 },
 "nbformat": 4,
 "nbformat_minor": 2
}
