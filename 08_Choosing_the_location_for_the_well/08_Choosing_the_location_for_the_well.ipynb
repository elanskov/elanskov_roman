{
 "cells": [
  {
   "cell_type": "markdown",
   "metadata": {},
   "source": [
    "# Выбор локации для скважины"
   ]
  },
  {
   "cell_type": "markdown",
   "metadata": {},
   "source": [
    "Допустим, вы работаете в добывающей компании «ГлавРосГосНефть». Нужно решить, где бурить новую скважину.\n",
    "\n",
    "Вам предоставлены пробы нефти в трёх регионах: в каждом 10 000 месторождений, где измерили качество нефти и объём её запасов. Постройте модель машинного обучения, которая поможет определить регион, где добыча принесёт наибольшую прибыль. Проанализируйте возможную прибыль и риски техникой *Bootstrap.*\n",
    "\n",
    "Шаги для выбора локации:\n",
    "\n",
    "- В избранном регионе ищут месторождения, для каждого определяют значения признаков;\n",
    "- Строят модель и оценивают объём запасов;\n",
    "- Выбирают месторождения с самым высокими оценками значений. Количество месторождений зависит от бюджета компании и стоимости разработки одной скважины;\n",
    "- Прибыль равна суммарной прибыли отобранных месторождений."
   ]
  },
  {
   "cell_type": "markdown",
   "metadata": {},
   "source": [
    "## Загрузка и подготовка данных"
   ]
  },
  {
   "cell_type": "markdown",
   "metadata": {},
   "source": [
    "Импортируем библиотеки, функции и данные. Посмотрим на наличие пропусков."
   ]
  },
  {
   "cell_type": "code",
   "execution_count": 89,
   "metadata": {},
   "outputs": [],
   "source": [
    "import pandas as pd\n",
    "import numpy as np\n",
    "from sklearn.linear_model import LinearRegression\n",
    "import matplotlib.pyplot as plt \n",
    "import itertools\n",
    "from sklearn.model_selection import train_test_split\n",
    "from sklearn.pipeline import make_pipeline\n",
    "from sklearn.preprocessing import StandardScaler\n",
    "from sklearn.metrics import mean_squared_error\n",
    "from numpy.random import RandomState\n",
    "from tqdm import tqdm\n",
    "import seaborn as sns\n",
    "from IPython.display import display\n",
    "from scipy import stats"
   ]
  },
  {
   "cell_type": "code",
   "execution_count": 90,
   "metadata": {},
   "outputs": [],
   "source": [
    "df_0 = pd.read_csv('/datasets/geo_data_0.csv')\n",
    "df_1 = pd.read_csv('/datasets/geo_data_1.csv')\n",
    "df_2 = pd.read_csv('/datasets/geo_data_2.csv')"
   ]
  },
  {
   "cell_type": "code",
   "execution_count": 91,
   "metadata": {},
   "outputs": [
    {
     "name": "stdout",
     "output_type": "stream",
     "text": [
      "<class 'pandas.core.frame.DataFrame'>\n",
      "RangeIndex: 100000 entries, 0 to 99999\n",
      "Data columns (total 5 columns):\n",
      "id         100000 non-null object\n",
      "f0         100000 non-null float64\n",
      "f1         100000 non-null float64\n",
      "f2         100000 non-null float64\n",
      "product    100000 non-null float64\n",
      "dtypes: float64(4), object(1)\n",
      "memory usage: 3.8+ MB\n",
      "None\n",
      "<class 'pandas.core.frame.DataFrame'>\n",
      "RangeIndex: 100000 entries, 0 to 99999\n",
      "Data columns (total 5 columns):\n",
      "id         100000 non-null object\n",
      "f0         100000 non-null float64\n",
      "f1         100000 non-null float64\n",
      "f2         100000 non-null float64\n",
      "product    100000 non-null float64\n",
      "dtypes: float64(4), object(1)\n",
      "memory usage: 3.8+ MB\n",
      "None\n",
      "<class 'pandas.core.frame.DataFrame'>\n",
      "RangeIndex: 100000 entries, 0 to 99999\n",
      "Data columns (total 5 columns):\n",
      "id         100000 non-null object\n",
      "f0         100000 non-null float64\n",
      "f1         100000 non-null float64\n",
      "f2         100000 non-null float64\n",
      "product    100000 non-null float64\n",
      "dtypes: float64(4), object(1)\n",
      "memory usage: 3.8+ MB\n",
      "None\n"
     ]
    }
   ],
   "source": [
    "print(df_0.info())\n",
    "print(df_1.info())\n",
    "print(df_2.info())\n"
   ]
  },
  {
   "cell_type": "markdown",
   "metadata": {},
   "source": [
    "Наиличие дубликатов:"
   ]
  },
  {
   "cell_type": "code",
   "execution_count": 92,
   "metadata": {},
   "outputs": [
    {
     "name": "stdout",
     "output_type": "stream",
     "text": [
      "0\n",
      "0\n",
      "0\n"
     ]
    }
   ],
   "source": [
    "print(df_0.duplicated().sum())\n",
    "print(df_1.duplicated().sum())\n",
    "print(df_2.duplicated().sum())"
   ]
  },
  {
   "cell_type": "markdown",
   "metadata": {},
   "source": [
    "И сами данные:"
   ]
  },
  {
   "cell_type": "code",
   "execution_count": 93,
   "metadata": {},
   "outputs": [
    {
     "data": {
      "text/html": [
       "<div>\n",
       "<style scoped>\n",
       "    .dataframe tbody tr th:only-of-type {\n",
       "        vertical-align: middle;\n",
       "    }\n",
       "\n",
       "    .dataframe tbody tr th {\n",
       "        vertical-align: top;\n",
       "    }\n",
       "\n",
       "    .dataframe thead th {\n",
       "        text-align: right;\n",
       "    }\n",
       "</style>\n",
       "<table border=\"1\" class=\"dataframe\">\n",
       "  <thead>\n",
       "    <tr style=\"text-align: right;\">\n",
       "      <th></th>\n",
       "      <th>id</th>\n",
       "      <th>f0</th>\n",
       "      <th>f1</th>\n",
       "      <th>f2</th>\n",
       "      <th>product</th>\n",
       "    </tr>\n",
       "  </thead>\n",
       "  <tbody>\n",
       "    <tr>\n",
       "      <td>0</td>\n",
       "      <td>txEyH</td>\n",
       "      <td>0.705745</td>\n",
       "      <td>-0.497823</td>\n",
       "      <td>1.221170</td>\n",
       "      <td>105.280062</td>\n",
       "    </tr>\n",
       "    <tr>\n",
       "      <td>1</td>\n",
       "      <td>2acmU</td>\n",
       "      <td>1.334711</td>\n",
       "      <td>-0.340164</td>\n",
       "      <td>4.365080</td>\n",
       "      <td>73.037750</td>\n",
       "    </tr>\n",
       "    <tr>\n",
       "      <td>2</td>\n",
       "      <td>409Wp</td>\n",
       "      <td>1.022732</td>\n",
       "      <td>0.151990</td>\n",
       "      <td>1.419926</td>\n",
       "      <td>85.265647</td>\n",
       "    </tr>\n",
       "    <tr>\n",
       "      <td>3</td>\n",
       "      <td>iJLyR</td>\n",
       "      <td>-0.032172</td>\n",
       "      <td>0.139033</td>\n",
       "      <td>2.978566</td>\n",
       "      <td>168.620776</td>\n",
       "    </tr>\n",
       "    <tr>\n",
       "      <td>4</td>\n",
       "      <td>Xdl7t</td>\n",
       "      <td>1.988431</td>\n",
       "      <td>0.155413</td>\n",
       "      <td>4.751769</td>\n",
       "      <td>154.036647</td>\n",
       "    </tr>\n",
       "  </tbody>\n",
       "</table>\n",
       "</div>"
      ],
      "text/plain": [
       "      id        f0        f1        f2     product\n",
       "0  txEyH  0.705745 -0.497823  1.221170  105.280062\n",
       "1  2acmU  1.334711 -0.340164  4.365080   73.037750\n",
       "2  409Wp  1.022732  0.151990  1.419926   85.265647\n",
       "3  iJLyR -0.032172  0.139033  2.978566  168.620776\n",
       "4  Xdl7t  1.988431  0.155413  4.751769  154.036647"
      ]
     },
     "metadata": {},
     "output_type": "display_data"
    },
    {
     "data": {
      "text/html": [
       "<div>\n",
       "<style scoped>\n",
       "    .dataframe tbody tr th:only-of-type {\n",
       "        vertical-align: middle;\n",
       "    }\n",
       "\n",
       "    .dataframe tbody tr th {\n",
       "        vertical-align: top;\n",
       "    }\n",
       "\n",
       "    .dataframe thead th {\n",
       "        text-align: right;\n",
       "    }\n",
       "</style>\n",
       "<table border=\"1\" class=\"dataframe\">\n",
       "  <thead>\n",
       "    <tr style=\"text-align: right;\">\n",
       "      <th></th>\n",
       "      <th>id</th>\n",
       "      <th>f0</th>\n",
       "      <th>f1</th>\n",
       "      <th>f2</th>\n",
       "      <th>product</th>\n",
       "    </tr>\n",
       "  </thead>\n",
       "  <tbody>\n",
       "    <tr>\n",
       "      <td>0</td>\n",
       "      <td>kBEdx</td>\n",
       "      <td>-15.001348</td>\n",
       "      <td>-8.276000</td>\n",
       "      <td>-0.005876</td>\n",
       "      <td>3.179103</td>\n",
       "    </tr>\n",
       "    <tr>\n",
       "      <td>1</td>\n",
       "      <td>62mP7</td>\n",
       "      <td>14.272088</td>\n",
       "      <td>-3.475083</td>\n",
       "      <td>0.999183</td>\n",
       "      <td>26.953261</td>\n",
       "    </tr>\n",
       "    <tr>\n",
       "      <td>2</td>\n",
       "      <td>vyE1P</td>\n",
       "      <td>6.263187</td>\n",
       "      <td>-5.948386</td>\n",
       "      <td>5.001160</td>\n",
       "      <td>134.766305</td>\n",
       "    </tr>\n",
       "    <tr>\n",
       "      <td>3</td>\n",
       "      <td>KcrkZ</td>\n",
       "      <td>-13.081196</td>\n",
       "      <td>-11.506057</td>\n",
       "      <td>4.999415</td>\n",
       "      <td>137.945408</td>\n",
       "    </tr>\n",
       "    <tr>\n",
       "      <td>4</td>\n",
       "      <td>AHL4O</td>\n",
       "      <td>12.702195</td>\n",
       "      <td>-8.147433</td>\n",
       "      <td>5.004363</td>\n",
       "      <td>134.766305</td>\n",
       "    </tr>\n",
       "  </tbody>\n",
       "</table>\n",
       "</div>"
      ],
      "text/plain": [
       "      id         f0         f1        f2     product\n",
       "0  kBEdx -15.001348  -8.276000 -0.005876    3.179103\n",
       "1  62mP7  14.272088  -3.475083  0.999183   26.953261\n",
       "2  vyE1P   6.263187  -5.948386  5.001160  134.766305\n",
       "3  KcrkZ -13.081196 -11.506057  4.999415  137.945408\n",
       "4  AHL4O  12.702195  -8.147433  5.004363  134.766305"
      ]
     },
     "metadata": {},
     "output_type": "display_data"
    },
    {
     "data": {
      "text/html": [
       "<div>\n",
       "<style scoped>\n",
       "    .dataframe tbody tr th:only-of-type {\n",
       "        vertical-align: middle;\n",
       "    }\n",
       "\n",
       "    .dataframe tbody tr th {\n",
       "        vertical-align: top;\n",
       "    }\n",
       "\n",
       "    .dataframe thead th {\n",
       "        text-align: right;\n",
       "    }\n",
       "</style>\n",
       "<table border=\"1\" class=\"dataframe\">\n",
       "  <thead>\n",
       "    <tr style=\"text-align: right;\">\n",
       "      <th></th>\n",
       "      <th>id</th>\n",
       "      <th>f0</th>\n",
       "      <th>f1</th>\n",
       "      <th>f2</th>\n",
       "      <th>product</th>\n",
       "    </tr>\n",
       "  </thead>\n",
       "  <tbody>\n",
       "    <tr>\n",
       "      <td>0</td>\n",
       "      <td>fwXo0</td>\n",
       "      <td>-1.146987</td>\n",
       "      <td>0.963328</td>\n",
       "      <td>-0.828965</td>\n",
       "      <td>27.758673</td>\n",
       "    </tr>\n",
       "    <tr>\n",
       "      <td>1</td>\n",
       "      <td>WJtFt</td>\n",
       "      <td>0.262778</td>\n",
       "      <td>0.269839</td>\n",
       "      <td>-2.530187</td>\n",
       "      <td>56.069697</td>\n",
       "    </tr>\n",
       "    <tr>\n",
       "      <td>2</td>\n",
       "      <td>ovLUW</td>\n",
       "      <td>0.194587</td>\n",
       "      <td>0.289035</td>\n",
       "      <td>-5.586433</td>\n",
       "      <td>62.871910</td>\n",
       "    </tr>\n",
       "    <tr>\n",
       "      <td>3</td>\n",
       "      <td>q6cA6</td>\n",
       "      <td>2.236060</td>\n",
       "      <td>-0.553760</td>\n",
       "      <td>0.930038</td>\n",
       "      <td>114.572842</td>\n",
       "    </tr>\n",
       "    <tr>\n",
       "      <td>4</td>\n",
       "      <td>WPMUX</td>\n",
       "      <td>-0.515993</td>\n",
       "      <td>1.716266</td>\n",
       "      <td>5.899011</td>\n",
       "      <td>149.600746</td>\n",
       "    </tr>\n",
       "  </tbody>\n",
       "</table>\n",
       "</div>"
      ],
      "text/plain": [
       "      id        f0        f1        f2     product\n",
       "0  fwXo0 -1.146987  0.963328 -0.828965   27.758673\n",
       "1  WJtFt  0.262778  0.269839 -2.530187   56.069697\n",
       "2  ovLUW  0.194587  0.289035 -5.586433   62.871910\n",
       "3  q6cA6  2.236060 -0.553760  0.930038  114.572842\n",
       "4  WPMUX -0.515993  1.716266  5.899011  149.600746"
      ]
     },
     "metadata": {},
     "output_type": "display_data"
    }
   ],
   "source": [
    "display(df_0.head())\n",
    "display(df_1.head())\n",
    "display(df_2.head())"
   ]
  },
  {
   "cell_type": "markdown",
   "metadata": {},
   "source": [
    "Посмотрим на распределения значений различных столбцов в данных"
   ]
  },
  {
   "cell_type": "code",
   "execution_count": 94,
   "metadata": {},
   "outputs": [
    {
     "name": "stdout",
     "output_type": "stream",
     "text": [
      "                  f0             f1             f2        product\n",
      "count  100000.000000  100000.000000  100000.000000  100000.000000\n",
      "mean        0.500419       0.250143       2.502647      92.500000\n",
      "std         0.871832       0.504433       3.248248      44.288691\n",
      "min        -1.408605      -0.848218     -12.088328       0.000000\n",
      "25%        -0.072580      -0.200881       0.287748      56.497507\n",
      "50%         0.502360       0.250252       2.515969      91.849972\n",
      "75%         1.073581       0.700646       4.715088     128.564089\n",
      "max         2.362331       1.343769      16.003790     185.364347\n",
      "                  f0             f1             f2        product\n",
      "count  100000.000000  100000.000000  100000.000000  100000.000000\n",
      "mean        1.141296      -4.796579       2.494541      68.825000\n",
      "std         8.965932       5.119872       1.703572      45.944423\n",
      "min       -31.609576     -26.358598      -0.018144       0.000000\n",
      "25%        -6.298551      -8.267985       1.000021      26.953261\n",
      "50%         1.153055      -4.813172       2.011479      57.085625\n",
      "75%         8.621015      -1.332816       3.999904     107.813044\n",
      "max        29.421755      18.734063       5.019721     137.945408\n",
      "                  f0             f1             f2        product\n",
      "count  100000.000000  100000.000000  100000.000000  100000.000000\n",
      "mean        0.002023      -0.002081       2.495128      95.000000\n",
      "std         1.732045       1.730417       3.473445      44.749921\n",
      "min        -8.760004      -7.084020     -11.970335       0.000000\n",
      "25%        -1.162288      -1.174820       0.130359      59.450441\n",
      "50%         0.009424      -0.009482       2.484236      94.925613\n",
      "75%         1.158535       1.163678       4.858794     130.595027\n",
      "max         7.238262       7.844801      16.739402     190.029838\n"
     ]
    }
   ],
   "source": [
    "print(df_0.describe())\n",
    "print(df_1.describe())\n",
    "print(df_2.describe())"
   ]
  },
  {
   "cell_type": "markdown",
   "metadata": {},
   "source": [
    "Посмотрим на корреляцию значений в столбцах:"
   ]
  },
  {
   "cell_type": "code",
   "execution_count": 95,
   "metadata": {},
   "outputs": [
    {
     "name": "stdout",
     "output_type": "stream",
     "text": [
      "               f0        f1        f2   product\n",
      "f0       1.000000 -0.440723 -0.003153  0.143536\n",
      "f1      -0.440723  1.000000  0.001724 -0.192356\n",
      "f2      -0.003153  0.001724  1.000000  0.483663\n",
      "product  0.143536 -0.192356  0.483663  1.000000\n",
      "               f0        f1        f2   product\n",
      "f0       1.000000  0.182287 -0.001777 -0.030491\n",
      "f1       0.182287  1.000000 -0.002595 -0.010155\n",
      "f2      -0.001777 -0.002595  1.000000  0.999397\n",
      "product -0.030491 -0.010155  0.999397  1.000000\n",
      "               f0        f1        f2   product\n",
      "f0       1.000000  0.000528 -0.000448 -0.001987\n",
      "f1       0.000528  1.000000  0.000779 -0.001012\n",
      "f2      -0.000448  0.000779  1.000000  0.445871\n",
      "product -0.001987 -0.001012  0.445871  1.000000\n"
     ]
    }
   ],
   "source": [
    "print(df_0.corr())\n",
    "print(df_1.corr())\n",
    "print(df_2.corr())"
   ]
  },
  {
   "cell_type": "markdown",
   "metadata": {},
   "source": [
    "### Вывод"
   ]
  },
  {
   "cell_type": "markdown",
   "metadata": {},
   "source": [
    "Данные загружены и изучены. Аномалий нет, пропусков и дубликатов тоже. Формат всех данных - float64. Есть небольшие выбросы в df_1['f2'],df_2['f0', 'f1'] и df_3['f2']. Ничего с ними делать не будем. Но будем иметь это ввиду. Корреляция просматривается не везде, однако стоит обратить внимание на корреляцию в df_2 - там данные из столбца f2 почти полностью коррелируют с данным из столбца с запасами сырья. Странное явление. "
   ]
  },
  {
   "cell_type": "markdown",
   "metadata": {},
   "source": [
    "## Обучение и проверка модели"
   ]
  },
  {
   "cell_type": "markdown",
   "metadata": {},
   "source": [
    "Проведем разделение признаков и целей, разделим данные на выборки, обучим модедь и посчитаем среднюю квадратичную ошибку."
   ]
  },
  {
   "cell_type": "code",
   "execution_count": 96,
   "metadata": {},
   "outputs": [
    {
     "name": "stdout",
     "output_type": "stream",
     "text": [
      "Средний запас предсказанного сырья: 92.59256778438038\n",
      "RMSE модели: 37.5794217150813\n"
     ]
    }
   ],
   "source": [
    "# делим на признаки и целевой параметр\n",
    "df_0_features = df_0.drop([\"id\",\"product\"], axis = 1)\n",
    "df_0_target = df_0[\"product\"]\n",
    "\n",
    "# разделим данные на выборки:\n",
    "df_0_features_train, df_0_features_valid, df_0_target_train, df_0_target_valid = train_test_split(\n",
    "    df_0_features, df_0_target, test_size=0.25, random_state=12345)\n",
    "\n",
    "# инициилизируем модель:\n",
    "model_df_0 = LinearRegression()\n",
    "\n",
    "# обучим модель на данных df_1\n",
    "model_df_0.fit(df_0_features_train, df_0_target_train)\n",
    "predict_df_0 = model_df_0.predict(df_0_features_valid)\n",
    "predict_df_0_mean = predict_df_0.mean()\n",
    "\n",
    "# найдем среднюю квадратичную ошибку:\n",
    "rmse_df_0 = mean_squared_error(df_0_target_valid, predict_df_0) ** 0.5\n",
    "\n",
    "print('Средний запас предсказанного сырья:', predict_df_0_mean)\n",
    "print('RMSE модели:', rmse_df_0)"
   ]
  },
  {
   "cell_type": "markdown",
   "metadata": {},
   "source": [
    "Проделаем те же операции с оставшимися наборами данных:\n"
   ]
  },
  {
   "cell_type": "code",
   "execution_count": 97,
   "metadata": {},
   "outputs": [
    {
     "name": "stdout",
     "output_type": "stream",
     "text": [
      "Средний запас предсказанного сырья: 68.728546895446\n",
      "RMSE модели: 0.893099286775616\n"
     ]
    }
   ],
   "source": [
    "# делим на признаки и целевой параметр\n",
    "df_1_features = df_1.drop(['id','product'], axis = 1)\n",
    "df_1_target = df_1['product']\n",
    "\n",
    "# разделим данные на выборки:\n",
    "df_1_features_train, df_1_features_valid, df_1_target_train, df_1_target_valid = train_test_split(\n",
    "    df_1_features, df_1_target, test_size=0.25, random_state=12345)\n",
    "\n",
    "# инициилизируем модель:\n",
    "model_df_1 = LinearRegression()\n",
    "\n",
    "# обучим модель на данных df_1\n",
    "model_df_1.fit(df_1_features_train, df_1_target_train)\n",
    "predict_df_1 = model_df_1.predict(df_1_features_valid)\n",
    "predict_df_1_mean = predict_df_1.mean()\n",
    "\n",
    "# найдем среднюю квадратичную ошибку:\n",
    "rmse_df_1 = mean_squared_error(df_1_target_valid, predict_df_1) ** 0.5\n",
    "\n",
    "print('Средний запас предсказанного сырья:', predict_df_1_mean)\n",
    "print('RMSE модели:', rmse_df_1)"
   ]
  },
  {
   "cell_type": "code",
   "execution_count": 98,
   "metadata": {},
   "outputs": [
    {
     "name": "stdout",
     "output_type": "stream",
     "text": [
      "Средний запас предсказанного сырья: 94.96504596800489\n",
      "RMSE модели: 40.02970873393434\n"
     ]
    }
   ],
   "source": [
    "# делим на признаки и целевой параметр\n",
    "df_2_features = df_2.drop(['id','product'], axis = 1)\n",
    "df_2_target = df_2['product']\n",
    "\n",
    "# разделим данные на выборки:\n",
    "df_2_features_train, df_2_features_valid, df_2_target_train, df_2_target_valid = train_test_split(\n",
    "    df_2_features, df_2_target, test_size=0.25, random_state=12345)\n",
    "\n",
    "# инициилизируем модель:\n",
    "model_df_2 = LinearRegression()\n",
    "\n",
    "# обучим модель на данных df_1\n",
    "model_df_2.fit(df_2_features_train, df_2_target_train)\n",
    "predict_df_2 = model_df_2.predict(df_2_features_valid)\n",
    "predict_df_2_mean = predict_df_2.mean()\n",
    "\n",
    "# найдем среднюю квадратичную ошибку:\n",
    "rmse_df_2 = mean_squared_error(df_2_target_valid, predict_df_2) ** 0.5\n",
    "\n",
    "print('Средний запас предсказанного сырья:', predict_df_2_mean)\n",
    "print('RMSE модели:', rmse_df_2)"
   ]
  },
  {
   "cell_type": "markdown",
   "metadata": {},
   "source": [
    "Здесь я понимаю что возможно стоит завернуть расчеты в функцию, поскольку действия повторяются, но с этим у меня проблемы. Мне нужна помощь - что и как лучше поместить в функцию, что дать на вход и что она должна вернуть. Нужна помощь)"
   ]
  },
  {
   "cell_type": "markdown",
   "metadata": {},
   "source": [
    "### Вывод"
   ]
  },
  {
   "cell_type": "markdown",
   "metadata": {},
   "source": [
    "Средний запас предсказанного сырья во втором наборе данных немного ниже - 69, в сравнении с остальными - 93 и 95 соответственно. В то же время RMSE на втором датасете намного ниже - 0.9, в сравнении с теми же 38 и 40. Вывод - средний набор данных сильно отличается. Мы помним там есть аномальная корреляция..."
   ]
  },
  {
   "cell_type": "markdown",
   "metadata": {},
   "source": [
    "## Подготовка к расчёту прибыли"
   ]
  },
  {
   "cell_type": "markdown",
   "metadata": {},
   "source": [
    "Нам необходимо рассчитать прибыльность разведки. Напомним данные, которые у нас есть:\n",
    "- При разведке региона исследуют 500 точек, из которых с помощью машинного обучения выбирают 200 лучших для разработки\n",
    "- Бюджет на разработку скважин в регионе — 10 млрд рублей\n",
    "- При нынешних ценах один баррель сырья приносит 450 рублей дохода\n",
    "- Доход с каждой единицы продукта составляет 450 тыс. рублей, поскольку объём указан в тысячах баррелей\n",
    "- После оценки рисков нужно оставить лишь те регионы, в которых вероятность убытков меньше 2.5%\n",
    "\n",
    "Создадим переменные и посчитаем безубыточность разработки новой скважины, сравним со средним запасом в регионе."
   ]
  },
  {
   "cell_type": "code",
   "execution_count": 99,
   "metadata": {},
   "outputs": [],
   "source": [
    "total_money = 10**10\n",
    "top_spot = 200\n",
    "max_spot = 500\n",
    "income = 4.5*10**5"
   ]
  },
  {
   "cell_type": "code",
   "execution_count": 100,
   "metadata": {},
   "outputs": [
    {
     "data": {
      "text/plain": [
       "111.11111111111111"
      ]
     },
     "execution_count": 100,
     "metadata": {},
     "output_type": "execute_result"
    }
   ],
   "source": [
    "min_prod = total_money / (top_spot * income)\n",
    "min_prod"
   ]
  },
  {
   "cell_type": "markdown",
   "metadata": {},
   "source": [
    "### Вывод"
   ]
  },
  {
   "cell_type": "markdown",
   "metadata": {},
   "source": [
    "Минимальный объем для безубыточной добычи составляет 111.11 (тыс.баррелей). Что несомненно выше средних предсказаний, даже в самом прибыльном регионе - 95 (тыс.баррелей)"
   ]
  },
  {
   "cell_type": "markdown",
   "metadata": {},
   "source": [
    "## Расчёт прибыли и рисков "
   ]
  },
  {
   "cell_type": "markdown",
   "metadata": {},
   "source": [
    "### Расчет прибыли"
   ]
  },
  {
   "cell_type": "code",
   "execution_count": 101,
   "metadata": {},
   "outputs": [],
   "source": [
    "# функция для подсчета прибыли(подсмотрел в тренажере):\n",
    "\n",
    "def profit(predictions, target, top_spot):    \n",
    "    predictions = pd.Series(predictions, index=target.index)\n",
    "    predictions_best = predictions.sort_values(ascending=False)\n",
    "    target_best = target[predictions_best.index][:top_spot]\n",
    "    return sum(target_best)*income - total_money"
   ]
  },
  {
   "cell_type": "markdown",
   "metadata": {},
   "source": [
    "Используем функцию для подсчета прибыли на всех площадках\n"
   ]
  },
  {
   "cell_type": "code",
   "execution_count": 102,
   "metadata": {},
   "outputs": [],
   "source": [
    "profit_0 = profit(predict_df_0, df_0_target_valid, top_spot)\n",
    "profit_1 = profit(predict_df_1, df_1_target_valid, top_spot)\n",
    "profit_2 = profit(predict_df_2, df_2_target_valid, top_spot)"
   ]
  },
  {
   "cell_type": "code",
   "execution_count": 103,
   "metadata": {},
   "outputs": [
    {
     "name": "stdout",
     "output_type": "stream",
     "text": [
      "Потенциальная прибыль в регионе 0: 3.3208260431398546 млрд. руб\n",
      "Потенциальная прибыль в регионе 1: 2.415086696681551 млрд. руб\n",
      "Потенциальная прибыль в регионе 2: 2.7103499635998363 млрд. руб\n"
     ]
    }
   ],
   "source": [
    "print(\"Потенциальная прибыль в регионе 0:\", profit_0/1000000000, 'млрд. руб')\n",
    "print(\"Потенциальная прибыль в регионе 1:\", profit_1/1000000000, 'млрд. руб')\n",
    "print(\"Потенциальная прибыль в регионе 2:\", profit_2/1000000000, 'млрд. руб')"
   ]
  },
  {
   "cell_type": "markdown",
   "metadata": {},
   "source": [
    "### Расчет рисков"
   ]
  },
  {
   "cell_type": "markdown",
   "metadata": {},
   "source": [
    "Напишем функцию для bootstrap, чтобы улучшить предсказания, и посчитаем риски"
   ]
  },
  {
   "cell_type": "code",
   "execution_count": 104,
   "metadata": {},
   "outputs": [],
   "source": [
    "#функция для bootstrap (подсмотрел в slack)\n",
    "def bootstrap(predictions, target, profits):\n",
    "    state = np.random.RandomState(0)\n",
    "    target = pd.Series(target)\n",
    "    values = []\n",
    " \n",
    "    for i in range(1000):\n",
    "        target_subsamples = target.reset_index(drop=True).sample(n=500, replace=True, random_state=state)\n",
    "        predictions_subsamples = predictions[target_subsamples.index]\n",
    "        values.append(profit(predictions_subsamples, target_subsamples, top_spot))\n",
    " \n",
    "    values = pd.Series(values)\n",
    "    mean_profit = values.mean()\n",
    "    loss = np.mean(values < 0)\n",
    "    \n",
    "    #доверительный интервал:\n",
    "    profits = pd.Series(profits)\n",
    "    conf_int_left = profits.quantile(0.025)\n",
    "    conf_int_right = profits.quantile(0.975)\n",
    "    \n",
    "    return mean_profit, loss, conf_int_left, conf_int_right"
   ]
  },
  {
   "cell_type": "code",
   "execution_count": 105,
   "metadata": {},
   "outputs": [],
   "source": [
    "mean_profit_0, risk_0, conf_int_left_0, conf_int_right_0 = bootstrap(predict_df_0, df_0_target_valid, profit_0)\n",
    "mean_profit_1, risk_1, conf_int_left_1, conf_int_right_1 = bootstrap(predict_df_1, df_1_target_valid, profit_1)\n",
    "mean_profit_2, risk_2, conf_int_left_2, conf_int_right_2 = bootstrap(predict_df_2, df_2_target_valid, profit_2)"
   ]
  },
  {
   "cell_type": "code",
   "execution_count": 106,
   "metadata": {},
   "outputs": [
    {
     "name": "stdout",
     "output_type": "stream",
     "text": [
      "Седняя прибыль в регионе 0: 410.30332713249203 млн. руб\n",
      "Риск в регионе 0: 7.7 %\n",
      "Доверительный интервал в регионе 0 лежит между 3320826043.1398544 3320826043.1398544\n"
     ]
    }
   ],
   "source": [
    "print('Седняя прибыль в регионе 0:', mean_profit_0/1000000, 'млн. руб')\n",
    "print('Риск в регионе 0:', risk_0*100,'%')\n",
    "print('Доверительный интервал в регионе 0 лежит между', conf_int_left_0, conf_int_right_0)"
   ]
  },
  {
   "cell_type": "code",
   "execution_count": 107,
   "metadata": {},
   "outputs": [
    {
     "name": "stdout",
     "output_type": "stream",
     "text": [
      "Седняя прибыль в регионе 1: 507.5524766187899 млн. руб\n",
      "Риск в регионе 1: 0.6 %\n",
      "Доверительный интервал в регионе 1 лежит между 2415086696.681551 2415086696.681551\n"
     ]
    }
   ],
   "source": [
    "print('Седняя прибыль в регионе 1:', mean_profit_1/1000000, 'млн. руб')\n",
    "print('Риск в регионе 1:', risk_1*100,'%')\n",
    "print('Доверительный интервал в регионе 1 лежит между', conf_int_left_1, conf_int_right_1)"
   ]
  },
  {
   "cell_type": "code",
   "execution_count": 108,
   "metadata": {},
   "outputs": [
    {
     "name": "stdout",
     "output_type": "stream",
     "text": [
      "Седняя прибыль в регионе 2: 412.2633519279241 млн. руб\n",
      "Риск в регионе 2: 7.5 %\n",
      "Доверительный интервал в регионе 2 лежит между 2710349963.5998363 2710349963.5998363\n"
     ]
    }
   ],
   "source": [
    "print('Седняя прибыль в регионе 2:', mean_profit_2/1000000, 'млн. руб')\n",
    "print('Риск в регионе 2:', risk_2*100,'%')\n",
    "print('Доверительный интервал в регионе 2 лежит между', conf_int_left_2, conf_int_right_2)"
   ]
  },
  {
   "cell_type": "markdown",
   "metadata": {},
   "source": [
    "### Вывод"
   ]
  },
  {
   "cell_type": "markdown",
   "metadata": {},
   "source": [
    "Учитывая полученные данные, можно сделать вывод, что наименьший риск разработки нефтедобычи мы имеем в регионе 1 - на уровне 0.6%. Там же наибольшая средняя потенциальная прибыль - 507 млн рублей."
   ]
  },
  {
   "cell_type": "markdown",
   "metadata": {},
   "source": [
    "## Общий вывод"
   ]
  },
  {
   "cell_type": "markdown",
   "metadata": {},
   "source": [
    "1. В регионах 0 и 2 достаточно высокий средний показатель запаса предсказанного сырья. Однако RMSE для данных регионов также высок (37 и 40 соответственно). Это свидетельствует о неоднозначности показателя, неточности модели регрессии.\n",
    "\n",
    "2. В регионе 1 средний показатель запаса предсказанного сырья составляет 68.7 (ниже остальных регионов). Однако RMSE в данном регионе также мал (0.9). Это говорит о точности предсказаний и качестве построенной модели.\n",
    "\n",
    "3. Минимальный объем для безубыточной добычи составляет 111.11 (тыс.баррелей). Что несомненно выше средних предсказаний, даже в самом прибыльном регионе - 95 (тыс.баррелей)\n",
    "\n",
    "4. Оценка прибыли наибольшее значение имеет в регионе 1 - 507 млн рублей, против 410 и 412 млн рублей в 0 и 2 регионе соответственно. \n",
    "\n",
    "5. Риск убытков минимален для региона 1 и составляет 0.6%, против 7.7% и 7.5% в 0 и 2 регионах соответственно.\n",
    "\n",
    "6. Рекомендовать регион 1 для разработки. "
   ]
  },
  {
   "cell_type": "markdown",
   "metadata": {},
   "source": [
    "## Чек-лист готовности проекта"
   ]
  },
  {
   "cell_type": "markdown",
   "metadata": {},
   "source": [
    "Поставьте 'x' в выполненных пунктах. Далее нажмите Shift+Enter."
   ]
  },
  {
   "cell_type": "markdown",
   "metadata": {},
   "source": [
    "- [x]  Jupyter Notebook открыт\n",
    "- [ ]  Весь код выполняется без ошибок\n",
    "- [ ]  Ячейки с кодом расположены в порядке исполнения\n",
    "- [ ]  Выполнен шаг 1: данные подготовлены\n",
    "- [ ]  Выполнен шаг 2: модели обучены и проверены\n",
    "    - [ ]  Данные корректно разбиты на обучающую и валидационную выборки\n",
    "    - [ ]  Модели обучены, предсказания сделаны\n",
    "    - [ ]  Предсказания и правильные ответы на валидационной выборке сохранены\n",
    "    - [ ]  На экране напечатаны результаты\n",
    "    - [ ]  Сделаны выводы\n",
    "- [ ]  Выполнен шаг 3: проведена подготовка к расчёту прибыли\n",
    "    - [ ]  Для всех ключевых значений созданы константы Python\n",
    "    - [ ]  Посчитано минимальное среднее количество продукта в месторождениях региона, достаточное для разработки\n",
    "    - [ ]  По предыдущему пункту сделаны выводы\n",
    "    - [ ]  Написана функция расчёта прибыли\n",
    "- [ ]  Выполнен шаг 4: посчитаны риски и прибыль\n",
    "    - [ ]  Проведена процедура *Bootstrap*\n",
    "    - [ ]  Все параметры бутстрепа соответствуют условию\n",
    "    - [ ]  Найдены все нужные величины\n",
    "    - [ ]  Предложен регион для разработки месторождения\n",
    "    - [ ]  Выбор региона обоснован"
   ]
  },
  {
   "cell_type": "code",
   "execution_count": null,
   "metadata": {},
   "outputs": [],
   "source": []
  }
 ],
 "metadata": {
  "ExecuteTimeLog": [
   {
    "duration": 249,
    "start_time": "2022-03-08T14:51:23.486Z"
   },
   {
    "duration": 976,
    "start_time": "2022-03-08T14:51:27.941Z"
   },
   {
    "duration": 374,
    "start_time": "2022-03-08T14:51:29.586Z"
   },
   {
    "duration": 12,
    "start_time": "2022-03-08T14:51:30.597Z"
   },
   {
    "duration": 13,
    "start_time": "2022-03-08T14:51:39.485Z"
   },
   {
    "duration": 12,
    "start_time": "2022-03-08T14:51:44.091Z"
   },
   {
    "duration": 24,
    "start_time": "2022-03-08T15:14:37.522Z"
   },
   {
    "duration": 1071,
    "start_time": "2022-03-09T08:56:06.940Z"
   },
   {
    "duration": 349,
    "start_time": "2022-03-09T08:56:08.013Z"
   },
   {
    "duration": 25,
    "start_time": "2022-03-09T08:56:08.364Z"
   },
   {
    "duration": 99,
    "start_time": "2022-03-09T08:59:24.819Z"
   },
   {
    "duration": 11,
    "start_time": "2022-03-09T09:00:56.159Z"
   },
   {
    "duration": 27,
    "start_time": "2022-03-09T09:01:15.622Z"
   },
   {
    "duration": 829,
    "start_time": "2022-03-09T09:06:42.022Z"
   },
   {
    "duration": 89,
    "start_time": "2022-03-09T09:08:21.180Z"
   },
   {
    "duration": 58,
    "start_time": "2022-03-09T09:18:05.719Z"
   },
   {
    "duration": 24,
    "start_time": "2022-03-09T09:19:23.177Z"
   },
   {
    "duration": 4,
    "start_time": "2022-03-09T09:34:11.630Z"
   },
   {
    "duration": 341,
    "start_time": "2022-03-09T10:00:22.033Z"
   },
   {
    "duration": 240,
    "start_time": "2022-03-09T10:01:31.060Z"
   },
   {
    "duration": 27,
    "start_time": "2022-03-09T10:01:58.604Z"
   },
   {
    "duration": 27,
    "start_time": "2022-03-09T10:05:00.161Z"
   },
   {
    "duration": 25,
    "start_time": "2022-03-09T10:05:20.169Z"
   },
   {
    "duration": 34,
    "start_time": "2022-03-09T10:08:01.034Z"
   },
   {
    "duration": 26,
    "start_time": "2022-03-09T10:09:29.224Z"
   },
   {
    "duration": 4,
    "start_time": "2022-03-09T10:13:32.440Z"
   },
   {
    "duration": 4,
    "start_time": "2022-03-09T10:13:42.597Z"
   },
   {
    "duration": 4,
    "start_time": "2022-03-09T10:18:21.261Z"
   },
   {
    "duration": 335,
    "start_time": "2022-03-09T10:18:21.267Z"
   },
   {
    "duration": 24,
    "start_time": "2022-03-09T10:18:21.604Z"
   },
   {
    "duration": 112,
    "start_time": "2022-03-09T10:18:21.630Z"
   },
   {
    "duration": 25,
    "start_time": "2022-03-09T10:18:21.744Z"
   },
   {
    "duration": 110,
    "start_time": "2022-03-09T10:18:21.771Z"
   },
   {
    "duration": 23,
    "start_time": "2022-03-09T10:18:21.882Z"
   },
   {
    "duration": 59,
    "start_time": "2022-03-09T10:18:21.907Z"
   },
   {
    "duration": 110,
    "start_time": "2022-03-09T10:18:21.969Z"
   },
   {
    "duration": 197,
    "start_time": "2022-03-09T10:18:22.082Z"
   },
   {
    "duration": 27,
    "start_time": "2022-03-09T10:19:12.921Z"
   },
   {
    "duration": 3,
    "start_time": "2022-03-09T11:24:28.988Z"
   },
   {
    "duration": 4,
    "start_time": "2022-03-09T11:25:41.892Z"
   },
   {
    "duration": 3,
    "start_time": "2022-03-09T12:42:30.862Z"
   },
   {
    "duration": 367,
    "start_time": "2022-03-09T12:43:37.339Z"
   },
   {
    "duration": 427,
    "start_time": "2022-03-09T13:55:53.474Z"
   },
   {
    "duration": 414,
    "start_time": "2022-03-09T13:56:07.160Z"
   },
   {
    "duration": 244,
    "start_time": "2022-03-09T13:57:21.724Z"
   },
   {
    "duration": 390,
    "start_time": "2022-03-09T13:57:34.141Z"
   },
   {
    "duration": 249,
    "start_time": "2022-03-09T14:03:53.910Z"
   },
   {
    "duration": 394,
    "start_time": "2022-03-09T14:11:16.043Z"
   },
   {
    "duration": 223,
    "start_time": "2022-03-09T14:37:55.305Z"
   },
   {
    "duration": 419,
    "start_time": "2022-03-09T14:38:01.343Z"
   },
   {
    "duration": 384,
    "start_time": "2022-03-09T14:38:44.939Z"
   },
   {
    "duration": 376,
    "start_time": "2022-03-09T14:42:16.483Z"
   },
   {
    "duration": 386,
    "start_time": "2022-03-09T14:42:57.563Z"
   },
   {
    "duration": 383,
    "start_time": "2022-03-09T14:46:21.510Z"
   },
   {
    "duration": 12,
    "start_time": "2022-03-09T14:47:32.858Z"
   },
   {
    "duration": 4,
    "start_time": "2022-03-09T14:51:08.968Z"
   },
   {
    "duration": 19,
    "start_time": "2022-03-09T14:53:01.887Z"
   },
   {
    "duration": 4,
    "start_time": "2022-03-09T14:54:40.380Z"
   },
   {
    "duration": 4,
    "start_time": "2022-03-09T14:55:51.489Z"
   },
   {
    "duration": 4,
    "start_time": "2022-03-09T14:56:15.800Z"
   },
   {
    "duration": 4,
    "start_time": "2022-03-09T15:11:41.728Z"
   },
   {
    "duration": 2417,
    "start_time": "2022-03-09T15:12:17.604Z"
   },
   {
    "duration": 6942,
    "start_time": "2022-03-09T15:21:54.835Z"
   },
   {
    "duration": 6,
    "start_time": "2022-03-09T15:24:53.486Z"
   },
   {
    "duration": 6,
    "start_time": "2022-03-09T15:25:58.050Z"
   },
   {
    "duration": 5,
    "start_time": "2022-03-09T15:40:49.982Z"
   },
   {
    "duration": 217,
    "start_time": "2022-03-09T15:40:50.974Z"
   },
   {
    "duration": 5,
    "start_time": "2022-03-09T15:41:00.382Z"
   },
   {
    "duration": 232,
    "start_time": "2022-03-09T15:41:01.346Z"
   },
   {
    "duration": 6888,
    "start_time": "2022-03-09T15:41:43.264Z"
   },
   {
    "duration": 6953,
    "start_time": "2022-03-09T15:43:01.553Z"
   },
   {
    "duration": 7,
    "start_time": "2022-03-09T15:43:48.649Z"
   },
   {
    "duration": 5,
    "start_time": "2022-03-09T15:46:56.518Z"
   },
   {
    "duration": 5,
    "start_time": "2022-03-09T15:46:57.408Z"
   },
   {
    "duration": 5,
    "start_time": "2022-03-09T15:46:58.379Z"
   },
   {
    "duration": 5,
    "start_time": "2022-03-09T15:56:56.344Z"
   },
   {
    "duration": 341,
    "start_time": "2022-03-09T15:56:56.351Z"
   },
   {
    "duration": 25,
    "start_time": "2022-03-09T15:56:56.695Z"
   },
   {
    "duration": 114,
    "start_time": "2022-03-09T15:56:56.723Z"
   },
   {
    "duration": 34,
    "start_time": "2022-03-09T15:56:56.839Z"
   },
   {
    "duration": 99,
    "start_time": "2022-03-09T15:56:56.875Z"
   },
   {
    "duration": 23,
    "start_time": "2022-03-09T15:56:56.976Z"
   },
   {
    "duration": 62,
    "start_time": "2022-03-09T15:56:57.001Z"
   },
   {
    "duration": 116,
    "start_time": "2022-03-09T15:56:57.066Z"
   },
   {
    "duration": 193,
    "start_time": "2022-03-09T15:56:57.185Z"
   },
   {
    "duration": 82,
    "start_time": "2022-03-09T15:56:57.381Z"
   },
   {
    "duration": 114,
    "start_time": "2022-03-09T15:56:57.466Z"
   },
   {
    "duration": 25,
    "start_time": "2022-03-09T15:56:57.582Z"
   },
   {
    "duration": 39,
    "start_time": "2022-03-09T15:56:57.608Z"
   },
   {
    "duration": 8,
    "start_time": "2022-03-09T15:56:57.649Z"
   },
   {
    "duration": 21,
    "start_time": "2022-03-09T15:56:57.658Z"
   },
   {
    "duration": 4,
    "start_time": "2022-03-09T15:57:04.527Z"
   },
   {
    "duration": 368,
    "start_time": "2022-03-09T15:57:04.533Z"
   },
   {
    "duration": 23,
    "start_time": "2022-03-09T15:57:04.902Z"
   },
   {
    "duration": 107,
    "start_time": "2022-03-09T15:57:04.927Z"
   },
   {
    "duration": 30,
    "start_time": "2022-03-09T15:57:05.036Z"
   },
   {
    "duration": 105,
    "start_time": "2022-03-09T15:57:05.067Z"
   },
   {
    "duration": 21,
    "start_time": "2022-03-09T15:57:05.174Z"
   },
   {
    "duration": 68,
    "start_time": "2022-03-09T15:57:05.196Z"
   },
   {
    "duration": 196,
    "start_time": "2022-03-09T15:57:05.266Z"
   },
   {
    "duration": 113,
    "start_time": "2022-03-09T15:57:05.466Z"
   },
   {
    "duration": 81,
    "start_time": "2022-03-09T15:57:05.582Z"
   },
   {
    "duration": 96,
    "start_time": "2022-03-09T15:57:05.665Z"
   },
   {
    "duration": 15,
    "start_time": "2022-03-09T15:57:05.762Z"
   },
   {
    "duration": 22,
    "start_time": "2022-03-09T15:57:05.779Z"
   },
   {
    "duration": 4,
    "start_time": "2022-03-09T15:57:05.803Z"
   },
   {
    "duration": 5,
    "start_time": "2022-03-09T15:57:05.809Z"
   },
   {
    "duration": 6962,
    "start_time": "2022-03-09T15:57:05.817Z"
   },
   {
    "duration": 5,
    "start_time": "2022-03-09T15:57:12.780Z"
   },
   {
    "duration": 23,
    "start_time": "2022-03-09T15:57:12.786Z"
   },
   {
    "duration": 17,
    "start_time": "2022-03-09T15:57:12.811Z"
   }
  ],
  "kernelspec": {
   "display_name": "Python 3 (ipykernel)",
   "language": "python",
   "name": "python3"
  },
  "language_info": {
   "codemirror_mode": {
    "name": "ipython",
    "version": 3
   },
   "file_extension": ".py",
   "mimetype": "text/x-python",
   "name": "python",
   "nbconvert_exporter": "python",
   "pygments_lexer": "ipython3",
   "version": "3.9.7"
  },
  "toc": {
   "base_numbering": 1,
   "nav_menu": {},
   "number_sections": true,
   "sideBar": true,
   "skip_h1_title": true,
   "title_cell": "Table of Contents",
   "title_sidebar": "Contents",
   "toc_cell": false,
   "toc_position": {},
   "toc_section_display": true,
   "toc_window_display": false
  }
 },
 "nbformat": 4,
 "nbformat_minor": 2
}
