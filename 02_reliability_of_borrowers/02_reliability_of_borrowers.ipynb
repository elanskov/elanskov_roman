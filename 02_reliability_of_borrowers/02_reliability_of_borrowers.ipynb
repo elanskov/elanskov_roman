{
 "cells": [
  {
   "cell_type": "markdown",
   "metadata": {},
   "source": [
    "# Исследование надёжности заёмщиков\n",
    "\n",
    "Заказчик — кредитный отдел банка. Нужно разобраться, влияет ли семейное положение и количество детей клиента на факт погашения кредита в срок. Входные данные от банка — статистика о платёжеспособности клиентов.\n",
    "\n",
    "Результаты исследования будут учтены при построении модели **кредитного скоринга** — специальной системы, которая оценивает способность потенциального заёмщика вернуть кредит банку."
   ]
  },
  {
   "cell_type": "markdown",
   "metadata": {},
   "source": [
    "## Шаг 1. Откройте файл с данными и изучите общую информацию"
   ]
  },
  {
   "cell_type": "code",
   "execution_count": 91,
   "metadata": {},
   "outputs": [
    {
     "name": "stdout",
     "output_type": "stream",
     "text": [
      "<class 'pandas.core.frame.DataFrame'>\n",
      "RangeIndex: 21525 entries, 0 to 21524\n",
      "Data columns (total 12 columns):\n",
      "children            21525 non-null int64\n",
      "days_employed       19351 non-null float64\n",
      "dob_years           21525 non-null int64\n",
      "education           21525 non-null object\n",
      "education_id        21525 non-null int64\n",
      "family_status       21525 non-null object\n",
      "family_status_id    21525 non-null int64\n",
      "gender              21525 non-null object\n",
      "income_type         21525 non-null object\n",
      "debt                21525 non-null int64\n",
      "total_income        19351 non-null float64\n",
      "purpose             21525 non-null object\n",
      "dtypes: float64(2), int64(5), object(5)\n",
      "memory usage: 2.0+ MB\n"
     ]
    },
    {
     "data": {
      "text/html": [
       "<div>\n",
       "<style scoped>\n",
       "    .dataframe tbody tr th:only-of-type {\n",
       "        vertical-align: middle;\n",
       "    }\n",
       "\n",
       "    .dataframe tbody tr th {\n",
       "        vertical-align: top;\n",
       "    }\n",
       "\n",
       "    .dataframe thead th {\n",
       "        text-align: right;\n",
       "    }\n",
       "</style>\n",
       "<table border=\"1\" class=\"dataframe\">\n",
       "  <thead>\n",
       "    <tr style=\"text-align: right;\">\n",
       "      <th></th>\n",
       "      <th>children</th>\n",
       "      <th>days_employed</th>\n",
       "      <th>dob_years</th>\n",
       "      <th>education</th>\n",
       "      <th>education_id</th>\n",
       "      <th>family_status</th>\n",
       "      <th>family_status_id</th>\n",
       "      <th>gender</th>\n",
       "      <th>income_type</th>\n",
       "      <th>debt</th>\n",
       "      <th>total_income</th>\n",
       "      <th>purpose</th>\n",
       "    </tr>\n",
       "  </thead>\n",
       "  <tbody>\n",
       "    <tr>\n",
       "      <td>0</td>\n",
       "      <td>1</td>\n",
       "      <td>-8437.673028</td>\n",
       "      <td>42</td>\n",
       "      <td>высшее</td>\n",
       "      <td>0</td>\n",
       "      <td>женат / замужем</td>\n",
       "      <td>0</td>\n",
       "      <td>F</td>\n",
       "      <td>сотрудник</td>\n",
       "      <td>0</td>\n",
       "      <td>253875.639453</td>\n",
       "      <td>покупка жилья</td>\n",
       "    </tr>\n",
       "    <tr>\n",
       "      <td>1</td>\n",
       "      <td>1</td>\n",
       "      <td>-4024.803754</td>\n",
       "      <td>36</td>\n",
       "      <td>среднее</td>\n",
       "      <td>1</td>\n",
       "      <td>женат / замужем</td>\n",
       "      <td>0</td>\n",
       "      <td>F</td>\n",
       "      <td>сотрудник</td>\n",
       "      <td>0</td>\n",
       "      <td>112080.014102</td>\n",
       "      <td>приобретение автомобиля</td>\n",
       "    </tr>\n",
       "    <tr>\n",
       "      <td>2</td>\n",
       "      <td>0</td>\n",
       "      <td>-5623.422610</td>\n",
       "      <td>33</td>\n",
       "      <td>Среднее</td>\n",
       "      <td>1</td>\n",
       "      <td>женат / замужем</td>\n",
       "      <td>0</td>\n",
       "      <td>M</td>\n",
       "      <td>сотрудник</td>\n",
       "      <td>0</td>\n",
       "      <td>145885.952297</td>\n",
       "      <td>покупка жилья</td>\n",
       "    </tr>\n",
       "    <tr>\n",
       "      <td>3</td>\n",
       "      <td>3</td>\n",
       "      <td>-4124.747207</td>\n",
       "      <td>32</td>\n",
       "      <td>среднее</td>\n",
       "      <td>1</td>\n",
       "      <td>женат / замужем</td>\n",
       "      <td>0</td>\n",
       "      <td>M</td>\n",
       "      <td>сотрудник</td>\n",
       "      <td>0</td>\n",
       "      <td>267628.550329</td>\n",
       "      <td>дополнительное образование</td>\n",
       "    </tr>\n",
       "    <tr>\n",
       "      <td>4</td>\n",
       "      <td>0</td>\n",
       "      <td>340266.072047</td>\n",
       "      <td>53</td>\n",
       "      <td>среднее</td>\n",
       "      <td>1</td>\n",
       "      <td>гражданский брак</td>\n",
       "      <td>1</td>\n",
       "      <td>F</td>\n",
       "      <td>пенсионер</td>\n",
       "      <td>0</td>\n",
       "      <td>158616.077870</td>\n",
       "      <td>сыграть свадьбу</td>\n",
       "    </tr>\n",
       "    <tr>\n",
       "      <td>5</td>\n",
       "      <td>0</td>\n",
       "      <td>-926.185831</td>\n",
       "      <td>27</td>\n",
       "      <td>высшее</td>\n",
       "      <td>0</td>\n",
       "      <td>гражданский брак</td>\n",
       "      <td>1</td>\n",
       "      <td>M</td>\n",
       "      <td>компаньон</td>\n",
       "      <td>0</td>\n",
       "      <td>255763.565419</td>\n",
       "      <td>покупка жилья</td>\n",
       "    </tr>\n",
       "    <tr>\n",
       "      <td>6</td>\n",
       "      <td>0</td>\n",
       "      <td>-2879.202052</td>\n",
       "      <td>43</td>\n",
       "      <td>высшее</td>\n",
       "      <td>0</td>\n",
       "      <td>женат / замужем</td>\n",
       "      <td>0</td>\n",
       "      <td>F</td>\n",
       "      <td>компаньон</td>\n",
       "      <td>0</td>\n",
       "      <td>240525.971920</td>\n",
       "      <td>операции с жильем</td>\n",
       "    </tr>\n",
       "    <tr>\n",
       "      <td>7</td>\n",
       "      <td>0</td>\n",
       "      <td>-152.779569</td>\n",
       "      <td>50</td>\n",
       "      <td>СРЕДНЕЕ</td>\n",
       "      <td>1</td>\n",
       "      <td>женат / замужем</td>\n",
       "      <td>0</td>\n",
       "      <td>M</td>\n",
       "      <td>сотрудник</td>\n",
       "      <td>0</td>\n",
       "      <td>135823.934197</td>\n",
       "      <td>образование</td>\n",
       "    </tr>\n",
       "    <tr>\n",
       "      <td>8</td>\n",
       "      <td>2</td>\n",
       "      <td>-6929.865299</td>\n",
       "      <td>35</td>\n",
       "      <td>ВЫСШЕЕ</td>\n",
       "      <td>0</td>\n",
       "      <td>гражданский брак</td>\n",
       "      <td>1</td>\n",
       "      <td>F</td>\n",
       "      <td>сотрудник</td>\n",
       "      <td>0</td>\n",
       "      <td>95856.832424</td>\n",
       "      <td>на проведение свадьбы</td>\n",
       "    </tr>\n",
       "    <tr>\n",
       "      <td>9</td>\n",
       "      <td>0</td>\n",
       "      <td>-2188.756445</td>\n",
       "      <td>41</td>\n",
       "      <td>среднее</td>\n",
       "      <td>1</td>\n",
       "      <td>женат / замужем</td>\n",
       "      <td>0</td>\n",
       "      <td>M</td>\n",
       "      <td>сотрудник</td>\n",
       "      <td>0</td>\n",
       "      <td>144425.938277</td>\n",
       "      <td>покупка жилья для семьи</td>\n",
       "    </tr>\n",
       "  </tbody>\n",
       "</table>\n",
       "</div>"
      ],
      "text/plain": [
       "   children  days_employed  dob_years education  education_id  \\\n",
       "0         1   -8437.673028         42    высшее             0   \n",
       "1         1   -4024.803754         36   среднее             1   \n",
       "2         0   -5623.422610         33   Среднее             1   \n",
       "3         3   -4124.747207         32   среднее             1   \n",
       "4         0  340266.072047         53   среднее             1   \n",
       "5         0    -926.185831         27    высшее             0   \n",
       "6         0   -2879.202052         43    высшее             0   \n",
       "7         0    -152.779569         50   СРЕДНЕЕ             1   \n",
       "8         2   -6929.865299         35    ВЫСШЕЕ             0   \n",
       "9         0   -2188.756445         41   среднее             1   \n",
       "\n",
       "      family_status  family_status_id gender income_type  debt   total_income  \\\n",
       "0   женат / замужем                 0      F   сотрудник     0  253875.639453   \n",
       "1   женат / замужем                 0      F   сотрудник     0  112080.014102   \n",
       "2   женат / замужем                 0      M   сотрудник     0  145885.952297   \n",
       "3   женат / замужем                 0      M   сотрудник     0  267628.550329   \n",
       "4  гражданский брак                 1      F   пенсионер     0  158616.077870   \n",
       "5  гражданский брак                 1      M   компаньон     0  255763.565419   \n",
       "6   женат / замужем                 0      F   компаньон     0  240525.971920   \n",
       "7   женат / замужем                 0      M   сотрудник     0  135823.934197   \n",
       "8  гражданский брак                 1      F   сотрудник     0   95856.832424   \n",
       "9   женат / замужем                 0      M   сотрудник     0  144425.938277   \n",
       "\n",
       "                      purpose  \n",
       "0               покупка жилья  \n",
       "1     приобретение автомобиля  \n",
       "2               покупка жилья  \n",
       "3  дополнительное образование  \n",
       "4             сыграть свадьбу  \n",
       "5               покупка жилья  \n",
       "6           операции с жильем  \n",
       "7                 образование  \n",
       "8       на проведение свадьбы  \n",
       "9     покупка жилья для семьи  "
      ]
     },
     "execution_count": 91,
     "metadata": {},
     "output_type": "execute_result"
    }
   ],
   "source": [
    "# Вызовем библиотеку pandas, импортируем и откроем датасет:\n",
    "import pandas as pd\n",
    "df = pd.read_csv('/datasets/data.csv')\n",
    "df.info()\n",
    "df.head(10)"
   ]
  },
  {
   "cell_type": "markdown",
   "metadata": {},
   "source": [
    "**Вывод**"
   ]
  },
  {
   "cell_type": "markdown",
   "metadata": {},
   "source": [
    "\n",
    "В данных есть пропуски. В столбцах days_employed и total_income одинкаовое колличество пропусков. \n",
    "В days_employed пропуски можно заполнить простым средним значением, так как нам эти данные не нужны.\n",
    "В total_income следует заменить пропуски с привязкой к другим столбцам, чтобы получать более корректные данные.\n"
   ]
  },
  {
   "cell_type": "markdown",
   "metadata": {},
   "source": [
    "## Шаг 2. Предобработка данных"
   ]
  },
  {
   "cell_type": "markdown",
   "metadata": {},
   "source": [
    "### Обработка пропусков"
   ]
  },
  {
   "cell_type": "code",
   "execution_count": 92,
   "metadata": {},
   "outputs": [
    {
     "name": "stdout",
     "output_type": "stream",
     "text": [
      "<class 'pandas.core.frame.DataFrame'>\n",
      "RangeIndex: 21525 entries, 0 to 21524\n",
      "Data columns (total 12 columns):\n",
      "children            21525 non-null int64\n",
      "days_employed       21525 non-null float64\n",
      "dob_years           21525 non-null int64\n",
      "education           21525 non-null object\n",
      "education_id        21525 non-null int64\n",
      "family_status       21525 non-null object\n",
      "family_status_id    21525 non-null int64\n",
      "gender              21525 non-null object\n",
      "income_type         21525 non-null object\n",
      "debt                21525 non-null int64\n",
      "total_income        21525 non-null float64\n",
      "purpose             21525 non-null object\n",
      "dtypes: float64(2), int64(5), object(5)\n",
      "memory usage: 2.0+ MB\n"
     ]
    },
    {
     "data": {
      "text/html": [
       "<div>\n",
       "<style scoped>\n",
       "    .dataframe tbody tr th:only-of-type {\n",
       "        vertical-align: middle;\n",
       "    }\n",
       "\n",
       "    .dataframe tbody tr th {\n",
       "        vertical-align: top;\n",
       "    }\n",
       "\n",
       "    .dataframe thead th {\n",
       "        text-align: right;\n",
       "    }\n",
       "</style>\n",
       "<table border=\"1\" class=\"dataframe\">\n",
       "  <thead>\n",
       "    <tr style=\"text-align: right;\">\n",
       "      <th></th>\n",
       "      <th>children</th>\n",
       "      <th>days_employed</th>\n",
       "      <th>dob_years</th>\n",
       "      <th>education</th>\n",
       "      <th>education_id</th>\n",
       "      <th>family_status</th>\n",
       "      <th>family_status_id</th>\n",
       "      <th>gender</th>\n",
       "      <th>income_type</th>\n",
       "      <th>debt</th>\n",
       "      <th>total_income</th>\n",
       "      <th>purpose</th>\n",
       "    </tr>\n",
       "  </thead>\n",
       "  <tbody>\n",
       "    <tr>\n",
       "      <td>0</td>\n",
       "      <td>1</td>\n",
       "      <td>-8437.673028</td>\n",
       "      <td>42</td>\n",
       "      <td>высшее</td>\n",
       "      <td>0</td>\n",
       "      <td>женат / замужем</td>\n",
       "      <td>0</td>\n",
       "      <td>F</td>\n",
       "      <td>сотрудник</td>\n",
       "      <td>0</td>\n",
       "      <td>253875.639453</td>\n",
       "      <td>покупка жилья</td>\n",
       "    </tr>\n",
       "    <tr>\n",
       "      <td>1</td>\n",
       "      <td>1</td>\n",
       "      <td>-4024.803754</td>\n",
       "      <td>36</td>\n",
       "      <td>среднее</td>\n",
       "      <td>1</td>\n",
       "      <td>женат / замужем</td>\n",
       "      <td>0</td>\n",
       "      <td>F</td>\n",
       "      <td>сотрудник</td>\n",
       "      <td>0</td>\n",
       "      <td>112080.014102</td>\n",
       "      <td>приобретение автомобиля</td>\n",
       "    </tr>\n",
       "    <tr>\n",
       "      <td>2</td>\n",
       "      <td>0</td>\n",
       "      <td>-5623.422610</td>\n",
       "      <td>33</td>\n",
       "      <td>Среднее</td>\n",
       "      <td>1</td>\n",
       "      <td>женат / замужем</td>\n",
       "      <td>0</td>\n",
       "      <td>M</td>\n",
       "      <td>сотрудник</td>\n",
       "      <td>0</td>\n",
       "      <td>145885.952297</td>\n",
       "      <td>покупка жилья</td>\n",
       "    </tr>\n",
       "    <tr>\n",
       "      <td>3</td>\n",
       "      <td>3</td>\n",
       "      <td>-4124.747207</td>\n",
       "      <td>32</td>\n",
       "      <td>среднее</td>\n",
       "      <td>1</td>\n",
       "      <td>женат / замужем</td>\n",
       "      <td>0</td>\n",
       "      <td>M</td>\n",
       "      <td>сотрудник</td>\n",
       "      <td>0</td>\n",
       "      <td>267628.550329</td>\n",
       "      <td>дополнительное образование</td>\n",
       "    </tr>\n",
       "    <tr>\n",
       "      <td>4</td>\n",
       "      <td>0</td>\n",
       "      <td>340266.072047</td>\n",
       "      <td>53</td>\n",
       "      <td>среднее</td>\n",
       "      <td>1</td>\n",
       "      <td>гражданский брак</td>\n",
       "      <td>1</td>\n",
       "      <td>F</td>\n",
       "      <td>пенсионер</td>\n",
       "      <td>0</td>\n",
       "      <td>158616.077870</td>\n",
       "      <td>сыграть свадьбу</td>\n",
       "    </tr>\n",
       "    <tr>\n",
       "      <td>5</td>\n",
       "      <td>0</td>\n",
       "      <td>-926.185831</td>\n",
       "      <td>27</td>\n",
       "      <td>высшее</td>\n",
       "      <td>0</td>\n",
       "      <td>гражданский брак</td>\n",
       "      <td>1</td>\n",
       "      <td>M</td>\n",
       "      <td>компаньон</td>\n",
       "      <td>0</td>\n",
       "      <td>255763.565419</td>\n",
       "      <td>покупка жилья</td>\n",
       "    </tr>\n",
       "    <tr>\n",
       "      <td>6</td>\n",
       "      <td>0</td>\n",
       "      <td>-2879.202052</td>\n",
       "      <td>43</td>\n",
       "      <td>высшее</td>\n",
       "      <td>0</td>\n",
       "      <td>женат / замужем</td>\n",
       "      <td>0</td>\n",
       "      <td>F</td>\n",
       "      <td>компаньон</td>\n",
       "      <td>0</td>\n",
       "      <td>240525.971920</td>\n",
       "      <td>операции с жильем</td>\n",
       "    </tr>\n",
       "    <tr>\n",
       "      <td>7</td>\n",
       "      <td>0</td>\n",
       "      <td>-152.779569</td>\n",
       "      <td>50</td>\n",
       "      <td>СРЕДНЕЕ</td>\n",
       "      <td>1</td>\n",
       "      <td>женат / замужем</td>\n",
       "      <td>0</td>\n",
       "      <td>M</td>\n",
       "      <td>сотрудник</td>\n",
       "      <td>0</td>\n",
       "      <td>135823.934197</td>\n",
       "      <td>образование</td>\n",
       "    </tr>\n",
       "    <tr>\n",
       "      <td>8</td>\n",
       "      <td>2</td>\n",
       "      <td>-6929.865299</td>\n",
       "      <td>35</td>\n",
       "      <td>ВЫСШЕЕ</td>\n",
       "      <td>0</td>\n",
       "      <td>гражданский брак</td>\n",
       "      <td>1</td>\n",
       "      <td>F</td>\n",
       "      <td>сотрудник</td>\n",
       "      <td>0</td>\n",
       "      <td>95856.832424</td>\n",
       "      <td>на проведение свадьбы</td>\n",
       "    </tr>\n",
       "    <tr>\n",
       "      <td>9</td>\n",
       "      <td>0</td>\n",
       "      <td>-2188.756445</td>\n",
       "      <td>41</td>\n",
       "      <td>среднее</td>\n",
       "      <td>1</td>\n",
       "      <td>женат / замужем</td>\n",
       "      <td>0</td>\n",
       "      <td>M</td>\n",
       "      <td>сотрудник</td>\n",
       "      <td>0</td>\n",
       "      <td>144425.938277</td>\n",
       "      <td>покупка жилья для семьи</td>\n",
       "    </tr>\n",
       "  </tbody>\n",
       "</table>\n",
       "</div>"
      ],
      "text/plain": [
       "   children  days_employed  dob_years education  education_id  \\\n",
       "0         1   -8437.673028         42    высшее             0   \n",
       "1         1   -4024.803754         36   среднее             1   \n",
       "2         0   -5623.422610         33   Среднее             1   \n",
       "3         3   -4124.747207         32   среднее             1   \n",
       "4         0  340266.072047         53   среднее             1   \n",
       "5         0    -926.185831         27    высшее             0   \n",
       "6         0   -2879.202052         43    высшее             0   \n",
       "7         0    -152.779569         50   СРЕДНЕЕ             1   \n",
       "8         2   -6929.865299         35    ВЫСШЕЕ             0   \n",
       "9         0   -2188.756445         41   среднее             1   \n",
       "\n",
       "      family_status  family_status_id gender income_type  debt   total_income  \\\n",
       "0   женат / замужем                 0      F   сотрудник     0  253875.639453   \n",
       "1   женат / замужем                 0      F   сотрудник     0  112080.014102   \n",
       "2   женат / замужем                 0      M   сотрудник     0  145885.952297   \n",
       "3   женат / замужем                 0      M   сотрудник     0  267628.550329   \n",
       "4  гражданский брак                 1      F   пенсионер     0  158616.077870   \n",
       "5  гражданский брак                 1      M   компаньон     0  255763.565419   \n",
       "6   женат / замужем                 0      F   компаньон     0  240525.971920   \n",
       "7   женат / замужем                 0      M   сотрудник     0  135823.934197   \n",
       "8  гражданский брак                 1      F   сотрудник     0   95856.832424   \n",
       "9   женат / замужем                 0      M   сотрудник     0  144425.938277   \n",
       "\n",
       "                      purpose  \n",
       "0               покупка жилья  \n",
       "1     приобретение автомобиля  \n",
       "2               покупка жилья  \n",
       "3  дополнительное образование  \n",
       "4             сыграть свадьбу  \n",
       "5               покупка жилья  \n",
       "6           операции с жильем  \n",
       "7                 образование  \n",
       "8       на проведение свадьбы  \n",
       "9     покупка жилья для семьи  "
      ]
     },
     "execution_count": 92,
     "metadata": {},
     "output_type": "execute_result"
    }
   ],
   "source": [
    "# взглянем на строки с пропусками:\n",
    "df[df['days_employed'].isna()].head(20)\n",
    "\n",
    "# заменим пропуски в days_employed:\n",
    "\n",
    "df['days_employed'] = df['days_employed'].fillna(value=df['days_employed'].mean()) \n",
    "\n",
    "\n",
    "# заменим пропуски в total_income:\n",
    "\n",
    " \n",
    "df['total_income'] = df.groupby('income_type')['total_income'].apply(lambda s: s.fillna(s.mean()))\n",
    "\n",
    "# проверим данные:\n",
    "\n",
    "df.info()\n",
    "\n",
    "df.head(10)"
   ]
  },
  {
   "cell_type": "code",
   "execution_count": 93,
   "metadata": {},
   "outputs": [
    {
     "data": {
      "text/html": [
       "<div>\n",
       "<style scoped>\n",
       "    .dataframe tbody tr th:only-of-type {\n",
       "        vertical-align: middle;\n",
       "    }\n",
       "\n",
       "    .dataframe tbody tr th {\n",
       "        vertical-align: top;\n",
       "    }\n",
       "\n",
       "    .dataframe thead th {\n",
       "        text-align: right;\n",
       "    }\n",
       "</style>\n",
       "<table border=\"1\" class=\"dataframe\">\n",
       "  <thead>\n",
       "    <tr style=\"text-align: right;\">\n",
       "      <th></th>\n",
       "      <th>A</th>\n",
       "      <th>B</th>\n",
       "    </tr>\n",
       "  </thead>\n",
       "  <tbody>\n",
       "    <tr>\n",
       "      <td>0</td>\n",
       "      <td>1</td>\n",
       "      <td>3</td>\n",
       "    </tr>\n",
       "    <tr>\n",
       "      <td>1</td>\n",
       "      <td>2</td>\n",
       "      <td>3</td>\n",
       "    </tr>\n",
       "    <tr>\n",
       "      <td>2</td>\n",
       "      <td>4</td>\n",
       "      <td>5</td>\n",
       "    </tr>\n",
       "  </tbody>\n",
       "</table>\n",
       "</div>"
      ],
      "text/plain": [
       "   A  B\n",
       "0  1  3\n",
       "1  2  3\n",
       "2  4  5"
      ]
     },
     "execution_count": 93,
     "metadata": {},
     "output_type": "execute_result"
    }
   ],
   "source": [
    "# Создам датафрейм.\n",
    "\n",
    "l = {'A':[1,2,4], 'B':[3,3,5]}\n",
    "\n",
    "dfq = pd.DataFrame(l)\n",
    "dfq"
   ]
  },
  {
   "cell_type": "code",
   "execution_count": 94,
   "metadata": {},
   "outputs": [
    {
     "data": {
      "text/html": [
       "<div>\n",
       "<style scoped>\n",
       "    .dataframe tbody tr th:only-of-type {\n",
       "        vertical-align: middle;\n",
       "    }\n",
       "\n",
       "    .dataframe tbody tr th {\n",
       "        vertical-align: top;\n",
       "    }\n",
       "\n",
       "    .dataframe thead th {\n",
       "        text-align: right;\n",
       "    }\n",
       "</style>\n",
       "<table border=\"1\" class=\"dataframe\">\n",
       "  <thead>\n",
       "    <tr style=\"text-align: right;\">\n",
       "      <th></th>\n",
       "      <th>A</th>\n",
       "      <th>B</th>\n",
       "    </tr>\n",
       "  </thead>\n",
       "  <tbody>\n",
       "    <tr>\n",
       "      <td>0</td>\n",
       "      <td>1</td>\n",
       "      <td>9</td>\n",
       "    </tr>\n",
       "    <tr>\n",
       "      <td>1</td>\n",
       "      <td>4</td>\n",
       "      <td>9</td>\n",
       "    </tr>\n",
       "    <tr>\n",
       "      <td>2</td>\n",
       "      <td>16</td>\n",
       "      <td>25</td>\n",
       "    </tr>\n",
       "  </tbody>\n",
       "</table>\n",
       "</div>"
      ],
      "text/plain": [
       "    A   B\n",
       "0   1   9\n",
       "1   4   9\n",
       "2  16  25"
      ]
     },
     "execution_count": 94,
     "metadata": {},
     "output_type": "execute_result"
    }
   ],
   "source": [
    "# Обычная функция. \n",
    "def squared(df):\n",
    "    ''' \n",
    "    Функция принимает таблицу, меняет элементы на их квадраты и возвращает уже таблицу с квадратами.\n",
    "    '''\n",
    "    df['A'] = df['A']*df['A']\n",
    "    df['B'] = df['B']*df['B']\n",
    "    return df\n",
    "\n",
    "squared(dfq)"
   ]
  },
  {
   "cell_type": "code",
   "execution_count": 95,
   "metadata": {},
   "outputs": [
    {
     "data": {
      "text/html": [
       "<div>\n",
       "<style scoped>\n",
       "    .dataframe tbody tr th:only-of-type {\n",
       "        vertical-align: middle;\n",
       "    }\n",
       "\n",
       "    .dataframe tbody tr th {\n",
       "        vertical-align: top;\n",
       "    }\n",
       "\n",
       "    .dataframe thead th {\n",
       "        text-align: right;\n",
       "    }\n",
       "</style>\n",
       "<table border=\"1\" class=\"dataframe\">\n",
       "  <thead>\n",
       "    <tr style=\"text-align: right;\">\n",
       "      <th></th>\n",
       "      <th>A</th>\n",
       "      <th>B</th>\n",
       "    </tr>\n",
       "  </thead>\n",
       "  <tbody>\n",
       "    <tr>\n",
       "      <td>0</td>\n",
       "      <td>1</td>\n",
       "      <td>9</td>\n",
       "    </tr>\n",
       "    <tr>\n",
       "      <td>1</td>\n",
       "      <td>4</td>\n",
       "      <td>9</td>\n",
       "    </tr>\n",
       "    <tr>\n",
       "      <td>2</td>\n",
       "      <td>16</td>\n",
       "      <td>25</td>\n",
       "    </tr>\n",
       "  </tbody>\n",
       "</table>\n",
       "</div>"
      ],
      "text/plain": [
       "    A   B\n",
       "0   1   9\n",
       "1   4   9\n",
       "2  16  25"
      ]
     },
     "execution_count": 95,
     "metadata": {},
     "output_type": "execute_result"
    }
   ],
   "source": [
    "\n",
    "# Таблица изменилась, потому функция ее вернула измененную.\n",
    "dfq"
   ]
  },
  {
   "cell_type": "code",
   "execution_count": 96,
   "metadata": {},
   "outputs": [
    {
     "data": {
      "text/html": [
       "<div>\n",
       "<style scoped>\n",
       "    .dataframe tbody tr th:only-of-type {\n",
       "        vertical-align: middle;\n",
       "    }\n",
       "\n",
       "    .dataframe tbody tr th {\n",
       "        vertical-align: top;\n",
       "    }\n",
       "\n",
       "    .dataframe thead th {\n",
       "        text-align: right;\n",
       "    }\n",
       "</style>\n",
       "<table border=\"1\" class=\"dataframe\">\n",
       "  <thead>\n",
       "    <tr style=\"text-align: right;\">\n",
       "      <th></th>\n",
       "      <th>A</th>\n",
       "      <th>B</th>\n",
       "    </tr>\n",
       "  </thead>\n",
       "  <tbody>\n",
       "    <tr>\n",
       "      <td>0</td>\n",
       "      <td>1</td>\n",
       "      <td>3</td>\n",
       "    </tr>\n",
       "    <tr>\n",
       "      <td>1</td>\n",
       "      <td>2</td>\n",
       "      <td>3</td>\n",
       "    </tr>\n",
       "    <tr>\n",
       "      <td>2</td>\n",
       "      <td>4</td>\n",
       "      <td>5</td>\n",
       "    </tr>\n",
       "  </tbody>\n",
       "</table>\n",
       "</div>"
      ],
      "text/plain": [
       "   A  B\n",
       "0  1  3\n",
       "1  2  3\n",
       "2  4  5"
      ]
     },
     "execution_count": 96,
     "metadata": {},
     "output_type": "execute_result"
    }
   ],
   "source": [
    "def unsquared(df):\n",
    "    ''' \n",
    "    Берет квадратный корень. \n",
    "    \n",
    "    Принимает: таблицу.\n",
    "    Возвращает: таблицу, из элементов которой взят квадратный корень.\n",
    "    '''\n",
    "    \n",
    "    import numpy as np\n",
    "    \n",
    "    df['A'] = np.sqrt(df['A']).astype(int)\n",
    "    df['B'] = np.sqrt(df['B']).astype(int)\n",
    "    return df\n",
    "\n",
    "# Вернем все назад.\n",
    "unsquared(dfq)"
   ]
  },
  {
   "cell_type": "code",
   "execution_count": 97,
   "metadata": {},
   "outputs": [
    {
     "data": {
      "text/html": [
       "<div>\n",
       "<style scoped>\n",
       "    .dataframe tbody tr th:only-of-type {\n",
       "        vertical-align: middle;\n",
       "    }\n",
       "\n",
       "    .dataframe tbody tr th {\n",
       "        vertical-align: top;\n",
       "    }\n",
       "\n",
       "    .dataframe thead th {\n",
       "        text-align: right;\n",
       "    }\n",
       "</style>\n",
       "<table border=\"1\" class=\"dataframe\">\n",
       "  <thead>\n",
       "    <tr style=\"text-align: right;\">\n",
       "      <th></th>\n",
       "      <th>A</th>\n",
       "      <th>B</th>\n",
       "    </tr>\n",
       "  </thead>\n",
       "  <tbody>\n",
       "    <tr>\n",
       "      <td>0</td>\n",
       "      <td>1</td>\n",
       "      <td>3</td>\n",
       "    </tr>\n",
       "    <tr>\n",
       "      <td>1</td>\n",
       "      <td>2</td>\n",
       "      <td>3</td>\n",
       "    </tr>\n",
       "    <tr>\n",
       "      <td>2</td>\n",
       "      <td>4</td>\n",
       "      <td>5</td>\n",
       "    </tr>\n",
       "  </tbody>\n",
       "</table>\n",
       "</div>"
      ],
      "text/plain": [
       "   A  B\n",
       "0  1  3\n",
       "1  2  3\n",
       "2  4  5"
      ]
     },
     "execution_count": 97,
     "metadata": {},
     "output_type": "execute_result"
    }
   ],
   "source": [
    "\n",
    "# Таблица вернулась, потому функция ее вернула измененную.\n",
    "dfq"
   ]
  },
  {
   "cell_type": "code",
   "execution_count": 98,
   "metadata": {},
   "outputs": [
    {
     "data": {
      "text/html": [
       "<div>\n",
       "<style scoped>\n",
       "    .dataframe tbody tr th:only-of-type {\n",
       "        vertical-align: middle;\n",
       "    }\n",
       "\n",
       "    .dataframe tbody tr th {\n",
       "        vertical-align: top;\n",
       "    }\n",
       "\n",
       "    .dataframe thead th {\n",
       "        text-align: right;\n",
       "    }\n",
       "</style>\n",
       "<table border=\"1\" class=\"dataframe\">\n",
       "  <thead>\n",
       "    <tr style=\"text-align: right;\">\n",
       "      <th></th>\n",
       "      <th>A</th>\n",
       "      <th>B</th>\n",
       "      <th>Sum</th>\n",
       "    </tr>\n",
       "  </thead>\n",
       "  <tbody>\n",
       "    <tr>\n",
       "      <td>0</td>\n",
       "      <td>1</td>\n",
       "      <td>3</td>\n",
       "      <td>4</td>\n",
       "    </tr>\n",
       "    <tr>\n",
       "      <td>1</td>\n",
       "      <td>2</td>\n",
       "      <td>3</td>\n",
       "      <td>5</td>\n",
       "    </tr>\n",
       "    <tr>\n",
       "      <td>2</td>\n",
       "      <td>4</td>\n",
       "      <td>5</td>\n",
       "      <td>9</td>\n",
       "    </tr>\n",
       "  </tbody>\n",
       "</table>\n",
       "</div>"
      ],
      "text/plain": [
       "   A  B  Sum\n",
       "0  1  3    4\n",
       "1  2  3    5\n",
       "2  4  5    9"
      ]
     },
     "execution_count": 98,
     "metadata": {},
     "output_type": "execute_result"
    }
   ],
   "source": [
    "def sum_(row):\n",
    "    ''' \n",
    "    Функция принимает таблицу построчно. Возвращает сумму элементов. \n",
    "    Применяется ко всей таблице через метод apply с аргументом axis=1, то есть построчно.\n",
    "    '''\n",
    "    return row['A']+row['B']\n",
    "\n",
    "dfq['Sum'] = dfq.apply(sum_, axis=1)\n",
    "dfq"
   ]
  },
  {
   "cell_type": "code",
   "execution_count": 99,
   "metadata": {},
   "outputs": [
    {
     "data": {
      "text/html": [
       "<div>\n",
       "<style scoped>\n",
       "    .dataframe tbody tr th:only-of-type {\n",
       "        vertical-align: middle;\n",
       "    }\n",
       "\n",
       "    .dataframe tbody tr th {\n",
       "        vertical-align: top;\n",
       "    }\n",
       "\n",
       "    .dataframe thead th {\n",
       "        text-align: right;\n",
       "    }\n",
       "</style>\n",
       "<table border=\"1\" class=\"dataframe\">\n",
       "  <thead>\n",
       "    <tr style=\"text-align: right;\">\n",
       "      <th></th>\n",
       "      <th>A</th>\n",
       "      <th>B</th>\n",
       "      <th>Sum</th>\n",
       "      <th>Sum2</th>\n",
       "    </tr>\n",
       "  </thead>\n",
       "  <tbody>\n",
       "    <tr>\n",
       "      <td>0</td>\n",
       "      <td>1</td>\n",
       "      <td>3</td>\n",
       "      <td>4</td>\n",
       "      <td>4</td>\n",
       "    </tr>\n",
       "    <tr>\n",
       "      <td>1</td>\n",
       "      <td>2</td>\n",
       "      <td>3</td>\n",
       "      <td>5</td>\n",
       "      <td>5</td>\n",
       "    </tr>\n",
       "    <tr>\n",
       "      <td>2</td>\n",
       "      <td>4</td>\n",
       "      <td>5</td>\n",
       "      <td>9</td>\n",
       "      <td>9</td>\n",
       "    </tr>\n",
       "  </tbody>\n",
       "</table>\n",
       "</div>"
      ],
      "text/plain": [
       "   A  B  Sum  Sum2\n",
       "0  1  3    4     4\n",
       "1  2  3    5     5\n",
       "2  4  5    9     9"
      ]
     },
     "execution_count": 99,
     "metadata": {},
     "output_type": "execute_result"
    }
   ],
   "source": [
    "\n",
    "dfq['Sum2'] = dfq.apply(lambda row: row['A'] + row['B'], axis=1)\n",
    "dfq"
   ]
  },
  {
   "cell_type": "code",
   "execution_count": 100,
   "metadata": {},
   "outputs": [
    {
     "data": {
      "text/html": [
       "<div>\n",
       "<style scoped>\n",
       "    .dataframe tbody tr th:only-of-type {\n",
       "        vertical-align: middle;\n",
       "    }\n",
       "\n",
       "    .dataframe tbody tr th {\n",
       "        vertical-align: top;\n",
       "    }\n",
       "\n",
       "    .dataframe thead th {\n",
       "        text-align: right;\n",
       "    }\n",
       "</style>\n",
       "<table border=\"1\" class=\"dataframe\">\n",
       "  <thead>\n",
       "    <tr style=\"text-align: right;\">\n",
       "      <th></th>\n",
       "      <th>A</th>\n",
       "      <th>B</th>\n",
       "      <th>Sum</th>\n",
       "      <th>Sum2</th>\n",
       "      <th>Total_sum</th>\n",
       "    </tr>\n",
       "  </thead>\n",
       "  <tbody>\n",
       "    <tr>\n",
       "      <td>0</td>\n",
       "      <td>1</td>\n",
       "      <td>3</td>\n",
       "      <td>4</td>\n",
       "      <td>4</td>\n",
       "      <td>12</td>\n",
       "    </tr>\n",
       "    <tr>\n",
       "      <td>1</td>\n",
       "      <td>2</td>\n",
       "      <td>3</td>\n",
       "      <td>5</td>\n",
       "      <td>5</td>\n",
       "      <td>15</td>\n",
       "    </tr>\n",
       "    <tr>\n",
       "      <td>2</td>\n",
       "      <td>4</td>\n",
       "      <td>5</td>\n",
       "      <td>9</td>\n",
       "      <td>9</td>\n",
       "      <td>27</td>\n",
       "    </tr>\n",
       "  </tbody>\n",
       "</table>\n",
       "</div>"
      ],
      "text/plain": [
       "   A  B  Sum  Sum2  Total_sum\n",
       "0  1  3    4     4         12\n",
       "1  2  3    5     5         15\n",
       "2  4  5    9     9         27"
      ]
     },
     "execution_count": 100,
     "metadata": {},
     "output_type": "execute_result"
    }
   ],
   "source": [
    "\n",
    "# Сумма по всей строке может быть взята проще:\n",
    "dfq['Total_sum'] = dfq.apply(lambda row: row.sum(), axis=1)\n",
    "dfq"
   ]
  },
  {
   "cell_type": "code",
   "execution_count": 101,
   "metadata": {},
   "outputs": [
    {
     "data": {
      "text/html": [
       "<div>\n",
       "<style scoped>\n",
       "    .dataframe tbody tr th:only-of-type {\n",
       "        vertical-align: middle;\n",
       "    }\n",
       "\n",
       "    .dataframe tbody tr th {\n",
       "        vertical-align: top;\n",
       "    }\n",
       "\n",
       "    .dataframe thead th {\n",
       "        text-align: right;\n",
       "    }\n",
       "</style>\n",
       "<table border=\"1\" class=\"dataframe\">\n",
       "  <thead>\n",
       "    <tr style=\"text-align: right;\">\n",
       "      <th></th>\n",
       "      <th>A</th>\n",
       "      <th>B</th>\n",
       "      <th>Sum</th>\n",
       "      <th>Sum2</th>\n",
       "      <th>Total_sum</th>\n",
       "    </tr>\n",
       "  </thead>\n",
       "  <tbody>\n",
       "    <tr>\n",
       "      <td>0</td>\n",
       "      <td>1</td>\n",
       "      <td>3</td>\n",
       "      <td>4</td>\n",
       "      <td>4</td>\n",
       "      <td>12</td>\n",
       "    </tr>\n",
       "    <tr>\n",
       "      <td>1</td>\n",
       "      <td>2</td>\n",
       "      <td>3</td>\n",
       "      <td>5</td>\n",
       "      <td>5</td>\n",
       "      <td>15</td>\n",
       "    </tr>\n",
       "    <tr>\n",
       "      <td>2</td>\n",
       "      <td>4</td>\n",
       "      <td>5</td>\n",
       "      <td>9</td>\n",
       "      <td>9</td>\n",
       "      <td>27</td>\n",
       "    </tr>\n",
       "    <tr>\n",
       "      <td>3</td>\n",
       "      <td>7</td>\n",
       "      <td>11</td>\n",
       "      <td>18</td>\n",
       "      <td>18</td>\n",
       "      <td>54</td>\n",
       "    </tr>\n",
       "  </tbody>\n",
       "</table>\n",
       "</div>"
      ],
      "text/plain": [
       "   A   B  Sum  Sum2  Total_sum\n",
       "0  1   3    4     4         12\n",
       "1  2   3    5     5         15\n",
       "2  4   5    9     9         27\n",
       "3  7  11   18    18         54"
      ]
     },
     "execution_count": 101,
     "metadata": {},
     "output_type": "execute_result"
    }
   ],
   "source": [
    "\n",
    "import numpy as np\n",
    "\n",
    "# Сумма столбца. Добавим строку.\n",
    "dfq.loc[3] = dfq.apply(np.sum, axis=0)\n",
    "dfq"
   ]
  },
  {
   "cell_type": "code",
   "execution_count": 102,
   "metadata": {},
   "outputs": [],
   "source": []
  },
  {
   "cell_type": "code",
   "execution_count": 103,
   "metadata": {},
   "outputs": [
    {
     "data": {
      "text/html": [
       "<div>\n",
       "<style scoped>\n",
       "    .dataframe tbody tr th:only-of-type {\n",
       "        vertical-align: middle;\n",
       "    }\n",
       "\n",
       "    .dataframe tbody tr th {\n",
       "        vertical-align: top;\n",
       "    }\n",
       "\n",
       "    .dataframe thead th {\n",
       "        text-align: right;\n",
       "    }\n",
       "</style>\n",
       "<table border=\"1\" class=\"dataframe\">\n",
       "  <thead>\n",
       "    <tr style=\"text-align: right;\">\n",
       "      <th></th>\n",
       "      <th>education</th>\n",
       "      <th>высшее</th>\n",
       "      <th>начальное</th>\n",
       "      <th>неоконченное высшее</th>\n",
       "      <th>среднее</th>\n",
       "      <th>ученая степень</th>\n",
       "    </tr>\n",
       "    <tr>\n",
       "      <th>income_type</th>\n",
       "      <th>gender</th>\n",
       "      <th></th>\n",
       "      <th></th>\n",
       "      <th></th>\n",
       "      <th></th>\n",
       "      <th></th>\n",
       "    </tr>\n",
       "  </thead>\n",
       "  <tbody>\n",
       "    <tr>\n",
       "      <td rowspan=\"2\" valign=\"top\">безработный</td>\n",
       "      <td>F</td>\n",
       "      <td>202722.511368</td>\n",
       "      <td>NaN</td>\n",
       "      <td>NaN</td>\n",
       "      <td>NaN</td>\n",
       "      <td>NaN</td>\n",
       "    </tr>\n",
       "    <tr>\n",
       "      <td>M</td>\n",
       "      <td>NaN</td>\n",
       "      <td>NaN</td>\n",
       "      <td>NaN</td>\n",
       "      <td>59956.991984</td>\n",
       "      <td>NaN</td>\n",
       "    </tr>\n",
       "    <tr>\n",
       "      <td>в декрете</td>\n",
       "      <td>F</td>\n",
       "      <td>NaN</td>\n",
       "      <td>NaN</td>\n",
       "      <td>NaN</td>\n",
       "      <td>53829.130729</td>\n",
       "      <td>NaN</td>\n",
       "    </tr>\n",
       "    <tr>\n",
       "      <td rowspan=\"2\" valign=\"top\">госслужащий</td>\n",
       "      <td>F</td>\n",
       "      <td>170622.718045</td>\n",
       "      <td>138332.356612</td>\n",
       "      <td>154277.551439</td>\n",
       "      <td>135073.137857</td>\n",
       "      <td>111392.231107</td>\n",
       "    </tr>\n",
       "    <tr>\n",
       "      <td>M</td>\n",
       "      <td>204717.884325</td>\n",
       "      <td>190966.659534</td>\n",
       "      <td>170898.309923</td>\n",
       "      <td>170898.309923</td>\n",
       "      <td>NaN</td>\n",
       "    </tr>\n",
       "    <tr>\n",
       "      <td rowspan=\"3\" valign=\"top\">компаньон</td>\n",
       "      <td>F</td>\n",
       "      <td>200981.752861</td>\n",
       "      <td>152336.943284</td>\n",
       "      <td>180705.451982</td>\n",
       "      <td>155725.928731</td>\n",
       "      <td>NaN</td>\n",
       "    </tr>\n",
       "    <tr>\n",
       "      <td>M</td>\n",
       "      <td>217768.009290</td>\n",
       "      <td>150100.960964</td>\n",
       "      <td>200559.696452</td>\n",
       "      <td>191468.957958</td>\n",
       "      <td>NaN</td>\n",
       "    </tr>\n",
       "    <tr>\n",
       "      <td>XNA</td>\n",
       "      <td>NaN</td>\n",
       "      <td>NaN</td>\n",
       "      <td>203905.157261</td>\n",
       "      <td>NaN</td>\n",
       "      <td>NaN</td>\n",
       "    </tr>\n",
       "    <tr>\n",
       "      <td rowspan=\"2\" valign=\"top\">пенсионер</td>\n",
       "      <td>F</td>\n",
       "      <td>137127.465690</td>\n",
       "      <td>102598.653164</td>\n",
       "      <td>130837.388717</td>\n",
       "      <td>123508.906819</td>\n",
       "      <td>255425.196556</td>\n",
       "    </tr>\n",
       "    <tr>\n",
       "      <td>M</td>\n",
       "      <td>150246.754511</td>\n",
       "      <td>114068.787524</td>\n",
       "      <td>124667.471301</td>\n",
       "      <td>134708.033691</td>\n",
       "      <td>98752.495442</td>\n",
       "    </tr>\n",
       "    <tr>\n",
       "      <td rowspan=\"2\" valign=\"top\">предприниматель</td>\n",
       "      <td>F</td>\n",
       "      <td>499163.144947</td>\n",
       "      <td>NaN</td>\n",
       "      <td>NaN</td>\n",
       "      <td>NaN</td>\n",
       "      <td>NaN</td>\n",
       "    </tr>\n",
       "    <tr>\n",
       "      <td>M</td>\n",
       "      <td>499163.144947</td>\n",
       "      <td>NaN</td>\n",
       "      <td>NaN</td>\n",
       "      <td>NaN</td>\n",
       "      <td>NaN</td>\n",
       "    </tr>\n",
       "    <tr>\n",
       "      <td rowspan=\"2\" valign=\"top\">сотрудник</td>\n",
       "      <td>F</td>\n",
       "      <td>161380.260488</td>\n",
       "      <td>124397.467932</td>\n",
       "      <td>143663.050521</td>\n",
       "      <td>132635.207938</td>\n",
       "      <td>NaN</td>\n",
       "    </tr>\n",
       "    <tr>\n",
       "      <td>M</td>\n",
       "      <td>179564.658485</td>\n",
       "      <td>147989.228695</td>\n",
       "      <td>175068.921286</td>\n",
       "      <td>161380.260488</td>\n",
       "      <td>198570.757322</td>\n",
       "    </tr>\n",
       "    <tr>\n",
       "      <td>студент</td>\n",
       "      <td>M</td>\n",
       "      <td>98201.625314</td>\n",
       "      <td>NaN</td>\n",
       "      <td>NaN</td>\n",
       "      <td>NaN</td>\n",
       "      <td>NaN</td>\n",
       "    </tr>\n",
       "  </tbody>\n",
       "</table>\n",
       "</div>"
      ],
      "text/plain": [
       "education                      высшее      начальное  неоконченное высшее  \\\n",
       "income_type     gender                                                      \n",
       "безработный     F       202722.511368            NaN                  NaN   \n",
       "                M                 NaN            NaN                  NaN   \n",
       "в декрете       F                 NaN            NaN                  NaN   \n",
       "госслужащий     F       170622.718045  138332.356612        154277.551439   \n",
       "                M       204717.884325  190966.659534        170898.309923   \n",
       "компаньон       F       200981.752861  152336.943284        180705.451982   \n",
       "                M       217768.009290  150100.960964        200559.696452   \n",
       "                XNA               NaN            NaN        203905.157261   \n",
       "пенсионер       F       137127.465690  102598.653164        130837.388717   \n",
       "                M       150246.754511  114068.787524        124667.471301   \n",
       "предприниматель F       499163.144947            NaN                  NaN   \n",
       "                M       499163.144947            NaN                  NaN   \n",
       "сотрудник       F       161380.260488  124397.467932        143663.050521   \n",
       "                M       179564.658485  147989.228695        175068.921286   \n",
       "студент         M        98201.625314            NaN                  NaN   \n",
       "\n",
       "education                     среднее  ученая степень  \n",
       "income_type     gender                                 \n",
       "безработный     F                 NaN             NaN  \n",
       "                M        59956.991984             NaN  \n",
       "в декрете       F        53829.130729             NaN  \n",
       "госслужащий     F       135073.137857   111392.231107  \n",
       "                M       170898.309923             NaN  \n",
       "компаньон       F       155725.928731             NaN  \n",
       "                M       191468.957958             NaN  \n",
       "                XNA               NaN             NaN  \n",
       "пенсионер       F       123508.906819   255425.196556  \n",
       "                M       134708.033691    98752.495442  \n",
       "предприниматель F                 NaN             NaN  \n",
       "                M                 NaN             NaN  \n",
       "сотрудник       F       132635.207938             NaN  \n",
       "                M       161380.260488   198570.757322  \n",
       "студент         M                 NaN             NaN  "
      ]
     },
     "execution_count": 103,
     "metadata": {},
     "output_type": "execute_result"
    }
   ],
   "source": [
    "df1 = df.copy()\n",
    "df1.education = df1.education.str.lower()\n",
    "\n",
    "df1.pivot_table(index=['income_type', 'gender'], columns='education', values='total_income', aggfunc='median')"
   ]
  },
  {
   "cell_type": "code",
   "execution_count": 104,
   "metadata": {},
   "outputs": [
    {
     "data": {
      "text/plain": [
       "98201.62531401133"
      ]
     },
     "execution_count": 104,
     "metadata": {},
     "output_type": "execute_result"
    }
   ],
   "source": [
    "\n",
    "qq = df1.pivot_table(index=['income_type', 'gender'], columns='education', values='total_income', aggfunc='median')\n",
    "qq.loc[('студент', 'M')]['высшее']"
   ]
  },
  {
   "cell_type": "code",
   "execution_count": 105,
   "metadata": {},
   "outputs": [
    {
     "name": "stdout",
     "output_type": "stream",
     "text": [
      "98201.62531401133\n"
     ]
    }
   ],
   "source": [
    "\n",
    "def super_fillna_func(income_type, gender, education):\n",
    "    '''\n",
    "    Находит в таблице qq нужную медиану.\n",
    "    '''\n",
    "    try:\n",
    "        return qq.loc[(income_type, gender)][education]\n",
    "    except:\n",
    "        return 0\n",
    "    \n",
    "print(super_fillna_func('студент', 'M','высшее') ) "
   ]
  },
  {
   "cell_type": "code",
   "execution_count": 106,
   "metadata": {},
   "outputs": [
    {
     "name": "stdout",
     "output_type": "stream",
     "text": [
      "0\n"
     ]
    }
   ],
   "source": [
    "\n",
    "print(super_fillna_func('ревьюер', 'F','высшее') )"
   ]
  },
  {
   "cell_type": "code",
   "execution_count": 107,
   "metadata": {},
   "outputs": [
    {
     "data": {
      "text/plain": [
       "0        161380.260488\n",
       "1        132635.207938\n",
       "2        161380.260488\n",
       "3        161380.260488\n",
       "4        123508.906819\n",
       "             ...      \n",
       "21520    155725.928731\n",
       "21521    123508.906819\n",
       "21522    161380.260488\n",
       "21523    161380.260488\n",
       "21524    132635.207938\n",
       "Length: 21525, dtype: float64"
      ]
     },
     "execution_count": 107,
     "metadata": {},
     "output_type": "execute_result"
    }
   ],
   "source": [
    "\n",
    "# Так сработает apply.\n",
    "df1.apply(lambda row: super_fillna_func(row['income_type'], row['gender'], row['education']), axis=1)"
   ]
  },
  {
   "cell_type": "code",
   "execution_count": 108,
   "metadata": {},
   "outputs": [],
   "source": [
    "\n",
    "# Вот так применяем к таблице.\n",
    "\n",
    "# Запишем в новый столбец.\n",
    "# df1['new_income'] = df1.apply(lambda row: super_fillna_func(row['income_type'], row['gender'], row['education']), axis=1)\n",
    "\n",
    "# Пандас сам заменит пропуски значениями из нового столбца в той же строке.\n",
    "# df1['total_income'] = df1['total_income'].fillna(df['new_income'])"
   ]
  },
  {
   "cell_type": "code",
   "execution_count": 109,
   "metadata": {},
   "outputs": [],
   "source": [
    "\n",
    "# А вот так мы столбец создадим, но сохранять не будем. Замену произведем в воздухе:\n",
    "df1['total_income'] = df1['total_income'].fillna(df1.apply(lambda row: super_fillna_func(row['income_type'], row['gender'], row['education']), axis=1))"
   ]
  },
  {
   "cell_type": "markdown",
   "metadata": {},
   "source": [
    "\n",
    "    \n",
    "Ну и то же самое, но через лямбду и трансформ: "
   ]
  },
  {
   "cell_type": "code",
   "execution_count": 110,
   "metadata": {},
   "outputs": [],
   "source": [
    "\n",
    "# df1['total_income'] = df1.groupby(['income_type','gender', 'education'])['total_income'].apply(lambda x: x.fillna(x.median()))\n",
    "   \n",
    "# Оно же, но без лямбды:\n",
    "# df1['total_income'] = df1['total_income'].fillna(df1.groupby(['income_type','gender', 'education'])['total_income'].transform('median'))"
   ]
  },
  {
   "cell_type": "markdown",
   "metadata": {},
   "source": [
    "**Вывод**"
   ]
  },
  {
   "cell_type": "markdown",
   "metadata": {},
   "source": [
    "Пропуски исправлены, можно двигаться дальше. Скорее всего пропуски были техническим сбоем, так как пропуски были в весьма значимых категориях данных, без которых, скорее всего, в кредитовании было бы отказано."
   ]
  },
  {
   "cell_type": "markdown",
   "metadata": {},
   "source": [
    "### Замена типа данных"
   ]
  },
  {
   "cell_type": "code",
   "execution_count": 111,
   "metadata": {},
   "outputs": [
    {
     "name": "stdout",
     "output_type": "stream",
     "text": [
      "<class 'pandas.core.frame.DataFrame'>\n",
      "RangeIndex: 21525 entries, 0 to 21524\n",
      "Data columns (total 12 columns):\n",
      "children            21525 non-null int64\n",
      "days_employed       21525 non-null float64\n",
      "dob_years           21525 non-null int64\n",
      "education           21525 non-null object\n",
      "education_id        21525 non-null int64\n",
      "family_status       21525 non-null object\n",
      "family_status_id    21525 non-null int64\n",
      "gender              21525 non-null object\n",
      "income_type         21525 non-null object\n",
      "debt                21525 non-null int64\n",
      "total_income        21525 non-null int64\n",
      "purpose             21525 non-null object\n",
      "dtypes: float64(1), int64(6), object(5)\n",
      "memory usage: 2.0+ MB\n"
     ]
    }
   ],
   "source": [
    "# переведем вещественные значения в целочисленные:\n",
    "\n",
    "df['total_income'] = df['total_income'].astype('int')\n",
    "\n",
    "# проверим успешность операции:\n",
    "\n",
    "df.info()\n",
    "\n"
   ]
  },
  {
   "cell_type": "markdown",
   "metadata": {},
   "source": [
    "**Вывод**"
   ]
  },
  {
   "cell_type": "markdown",
   "metadata": {},
   "source": [
    "Нам предстоить работать со столбцом total_income, поэтому его значения есть смысл перевести в Int64. В трансформации столбца days_employed нет необходимости. Был использован метод .astype(), поскольку метод .to_numeric() возвращает только вещественные значения."
   ]
  },
  {
   "cell_type": "markdown",
   "metadata": {},
   "source": [
    "### Обработка дубликатов"
   ]
  },
  {
   "cell_type": "code",
   "execution_count": 112,
   "metadata": {},
   "outputs": [
    {
     "data": {
      "text/html": [
       "<div>\n",
       "<style scoped>\n",
       "    .dataframe tbody tr th:only-of-type {\n",
       "        vertical-align: middle;\n",
       "    }\n",
       "\n",
       "    .dataframe tbody tr th {\n",
       "        vertical-align: top;\n",
       "    }\n",
       "\n",
       "    .dataframe thead th {\n",
       "        text-align: right;\n",
       "    }\n",
       "</style>\n",
       "<table border=\"1\" class=\"dataframe\">\n",
       "  <thead>\n",
       "    <tr style=\"text-align: right;\">\n",
       "      <th></th>\n",
       "      <th>children</th>\n",
       "      <th>days_employed</th>\n",
       "      <th>dob_years</th>\n",
       "      <th>education</th>\n",
       "      <th>education_id</th>\n",
       "      <th>family_status</th>\n",
       "      <th>family_status_id</th>\n",
       "      <th>gender</th>\n",
       "      <th>income_type</th>\n",
       "      <th>debt</th>\n",
       "      <th>total_income</th>\n",
       "      <th>purpose</th>\n",
       "    </tr>\n",
       "  </thead>\n",
       "  <tbody>\n",
       "    <tr>\n",
       "      <td>0</td>\n",
       "      <td>1</td>\n",
       "      <td>-8437.673028</td>\n",
       "      <td>42</td>\n",
       "      <td>высшее</td>\n",
       "      <td>0</td>\n",
       "      <td>женат / замужем</td>\n",
       "      <td>0</td>\n",
       "      <td>F</td>\n",
       "      <td>сотрудник</td>\n",
       "      <td>0</td>\n",
       "      <td>253875</td>\n",
       "      <td>покупка жилья</td>\n",
       "    </tr>\n",
       "    <tr>\n",
       "      <td>1</td>\n",
       "      <td>1</td>\n",
       "      <td>-4024.803754</td>\n",
       "      <td>36</td>\n",
       "      <td>среднее</td>\n",
       "      <td>1</td>\n",
       "      <td>женат / замужем</td>\n",
       "      <td>0</td>\n",
       "      <td>F</td>\n",
       "      <td>сотрудник</td>\n",
       "      <td>0</td>\n",
       "      <td>112080</td>\n",
       "      <td>приобретение автомобиля</td>\n",
       "    </tr>\n",
       "    <tr>\n",
       "      <td>2</td>\n",
       "      <td>0</td>\n",
       "      <td>-5623.422610</td>\n",
       "      <td>33</td>\n",
       "      <td>среднее</td>\n",
       "      <td>1</td>\n",
       "      <td>женат / замужем</td>\n",
       "      <td>0</td>\n",
       "      <td>M</td>\n",
       "      <td>сотрудник</td>\n",
       "      <td>0</td>\n",
       "      <td>145885</td>\n",
       "      <td>покупка жилья</td>\n",
       "    </tr>\n",
       "    <tr>\n",
       "      <td>3</td>\n",
       "      <td>3</td>\n",
       "      <td>-4124.747207</td>\n",
       "      <td>32</td>\n",
       "      <td>среднее</td>\n",
       "      <td>1</td>\n",
       "      <td>женат / замужем</td>\n",
       "      <td>0</td>\n",
       "      <td>M</td>\n",
       "      <td>сотрудник</td>\n",
       "      <td>0</td>\n",
       "      <td>267628</td>\n",
       "      <td>дополнительное образование</td>\n",
       "    </tr>\n",
       "    <tr>\n",
       "      <td>4</td>\n",
       "      <td>0</td>\n",
       "      <td>340266.072047</td>\n",
       "      <td>53</td>\n",
       "      <td>среднее</td>\n",
       "      <td>1</td>\n",
       "      <td>гражданский брак</td>\n",
       "      <td>1</td>\n",
       "      <td>F</td>\n",
       "      <td>пенсионер</td>\n",
       "      <td>0</td>\n",
       "      <td>158616</td>\n",
       "      <td>сыграть свадьбу</td>\n",
       "    </tr>\n",
       "    <tr>\n",
       "      <td>5</td>\n",
       "      <td>0</td>\n",
       "      <td>-926.185831</td>\n",
       "      <td>27</td>\n",
       "      <td>высшее</td>\n",
       "      <td>0</td>\n",
       "      <td>гражданский брак</td>\n",
       "      <td>1</td>\n",
       "      <td>M</td>\n",
       "      <td>компаньон</td>\n",
       "      <td>0</td>\n",
       "      <td>255763</td>\n",
       "      <td>покупка жилья</td>\n",
       "    </tr>\n",
       "    <tr>\n",
       "      <td>6</td>\n",
       "      <td>0</td>\n",
       "      <td>-2879.202052</td>\n",
       "      <td>43</td>\n",
       "      <td>высшее</td>\n",
       "      <td>0</td>\n",
       "      <td>женат / замужем</td>\n",
       "      <td>0</td>\n",
       "      <td>F</td>\n",
       "      <td>компаньон</td>\n",
       "      <td>0</td>\n",
       "      <td>240525</td>\n",
       "      <td>операции с жильем</td>\n",
       "    </tr>\n",
       "    <tr>\n",
       "      <td>7</td>\n",
       "      <td>0</td>\n",
       "      <td>-152.779569</td>\n",
       "      <td>50</td>\n",
       "      <td>среднее</td>\n",
       "      <td>1</td>\n",
       "      <td>женат / замужем</td>\n",
       "      <td>0</td>\n",
       "      <td>M</td>\n",
       "      <td>сотрудник</td>\n",
       "      <td>0</td>\n",
       "      <td>135823</td>\n",
       "      <td>образование</td>\n",
       "    </tr>\n",
       "    <tr>\n",
       "      <td>8</td>\n",
       "      <td>2</td>\n",
       "      <td>-6929.865299</td>\n",
       "      <td>35</td>\n",
       "      <td>высшее</td>\n",
       "      <td>0</td>\n",
       "      <td>гражданский брак</td>\n",
       "      <td>1</td>\n",
       "      <td>F</td>\n",
       "      <td>сотрудник</td>\n",
       "      <td>0</td>\n",
       "      <td>95856</td>\n",
       "      <td>на проведение свадьбы</td>\n",
       "    </tr>\n",
       "    <tr>\n",
       "      <td>9</td>\n",
       "      <td>0</td>\n",
       "      <td>-2188.756445</td>\n",
       "      <td>41</td>\n",
       "      <td>среднее</td>\n",
       "      <td>1</td>\n",
       "      <td>женат / замужем</td>\n",
       "      <td>0</td>\n",
       "      <td>M</td>\n",
       "      <td>сотрудник</td>\n",
       "      <td>0</td>\n",
       "      <td>144425</td>\n",
       "      <td>покупка жилья для семьи</td>\n",
       "    </tr>\n",
       "  </tbody>\n",
       "</table>\n",
       "</div>"
      ],
      "text/plain": [
       "   children  days_employed  dob_years education  education_id  \\\n",
       "0         1   -8437.673028         42    высшее             0   \n",
       "1         1   -4024.803754         36   среднее             1   \n",
       "2         0   -5623.422610         33   среднее             1   \n",
       "3         3   -4124.747207         32   среднее             1   \n",
       "4         0  340266.072047         53   среднее             1   \n",
       "5         0    -926.185831         27    высшее             0   \n",
       "6         0   -2879.202052         43    высшее             0   \n",
       "7         0    -152.779569         50   среднее             1   \n",
       "8         2   -6929.865299         35    высшее             0   \n",
       "9         0   -2188.756445         41   среднее             1   \n",
       "\n",
       "      family_status  family_status_id gender income_type  debt  total_income  \\\n",
       "0   женат / замужем                 0      F   сотрудник     0        253875   \n",
       "1   женат / замужем                 0      F   сотрудник     0        112080   \n",
       "2   женат / замужем                 0      M   сотрудник     0        145885   \n",
       "3   женат / замужем                 0      M   сотрудник     0        267628   \n",
       "4  гражданский брак                 1      F   пенсионер     0        158616   \n",
       "5  гражданский брак                 1      M   компаньон     0        255763   \n",
       "6   женат / замужем                 0      F   компаньон     0        240525   \n",
       "7   женат / замужем                 0      M   сотрудник     0        135823   \n",
       "8  гражданский брак                 1      F   сотрудник     0         95856   \n",
       "9   женат / замужем                 0      M   сотрудник     0        144425   \n",
       "\n",
       "                      purpose  \n",
       "0               покупка жилья  \n",
       "1     приобретение автомобиля  \n",
       "2               покупка жилья  \n",
       "3  дополнительное образование  \n",
       "4             сыграть свадьбу  \n",
       "5               покупка жилья  \n",
       "6           операции с жильем  \n",
       "7                 образование  \n",
       "8       на проведение свадьбы  \n",
       "9     покупка жилья для семьи  "
      ]
     },
     "metadata": {},
     "output_type": "display_data"
    },
    {
     "data": {
      "text/plain": [
       "0"
      ]
     },
     "execution_count": 112,
     "metadata": {},
     "output_type": "execute_result"
    }
   ],
   "source": [
    "# найдем явные дубликаты:\n",
    "\n",
    "df.duplicated().sum()\n",
    "\n",
    "# приведем все к нижнему регистру:\n",
    "\n",
    "df['education'] = df['education'].str.lower()\n",
    "\n",
    "# проверим:\n",
    "\n",
    "display(df.head(10))\n",
    "\n",
    "# удалим дубликаты:\n",
    "\n",
    "df = df.drop_duplicates()\n",
    "\n",
    "# приверим еще раз наличие дубликатов:\n",
    "\n",
    "df.duplicated().sum()"
   ]
  },
  {
   "cell_type": "markdown",
   "metadata": {},
   "source": [
    "**Вывод**"
   ]
  },
  {
   "cell_type": "markdown",
   "metadata": {},
   "source": [
    "Был найден 71 явный дубликат, который мы в удалили методом .drop_duplicates(). "
   ]
  },
  {
   "cell_type": "markdown",
   "metadata": {},
   "source": [
    "### Лемматизация"
   ]
  },
  {
   "cell_type": "code",
   "execution_count": 113,
   "metadata": {},
   "outputs": [
    {
     "data": {
      "text/html": [
       "<div>\n",
       "<style scoped>\n",
       "    .dataframe tbody tr th:only-of-type {\n",
       "        vertical-align: middle;\n",
       "    }\n",
       "\n",
       "    .dataframe tbody tr th {\n",
       "        vertical-align: top;\n",
       "    }\n",
       "\n",
       "    .dataframe thead th {\n",
       "        text-align: right;\n",
       "    }\n",
       "</style>\n",
       "<table border=\"1\" class=\"dataframe\">\n",
       "  <thead>\n",
       "    <tr style=\"text-align: right;\">\n",
       "      <th></th>\n",
       "      <th>children</th>\n",
       "      <th>days_employed</th>\n",
       "      <th>dob_years</th>\n",
       "      <th>education</th>\n",
       "      <th>education_id</th>\n",
       "      <th>family_status</th>\n",
       "      <th>family_status_id</th>\n",
       "      <th>gender</th>\n",
       "      <th>income_type</th>\n",
       "      <th>debt</th>\n",
       "      <th>total_income</th>\n",
       "      <th>purpose</th>\n",
       "      <th>purpose_lemmas</th>\n",
       "    </tr>\n",
       "  </thead>\n",
       "  <tbody>\n",
       "    <tr>\n",
       "      <td>0</td>\n",
       "      <td>1</td>\n",
       "      <td>-8437.673028</td>\n",
       "      <td>42</td>\n",
       "      <td>высшее</td>\n",
       "      <td>0</td>\n",
       "      <td>женат / замужем</td>\n",
       "      <td>0</td>\n",
       "      <td>F</td>\n",
       "      <td>сотрудник</td>\n",
       "      <td>0</td>\n",
       "      <td>253875</td>\n",
       "      <td>покупка жилья</td>\n",
       "      <td>[покупка,  , жилье, \\n]</td>\n",
       "    </tr>\n",
       "    <tr>\n",
       "      <td>1</td>\n",
       "      <td>1</td>\n",
       "      <td>-4024.803754</td>\n",
       "      <td>36</td>\n",
       "      <td>среднее</td>\n",
       "      <td>1</td>\n",
       "      <td>женат / замужем</td>\n",
       "      <td>0</td>\n",
       "      <td>F</td>\n",
       "      <td>сотрудник</td>\n",
       "      <td>0</td>\n",
       "      <td>112080</td>\n",
       "      <td>приобретение автомобиля</td>\n",
       "      <td>[приобретение,  , автомобиль, \\n]</td>\n",
       "    </tr>\n",
       "    <tr>\n",
       "      <td>2</td>\n",
       "      <td>0</td>\n",
       "      <td>-5623.422610</td>\n",
       "      <td>33</td>\n",
       "      <td>среднее</td>\n",
       "      <td>1</td>\n",
       "      <td>женат / замужем</td>\n",
       "      <td>0</td>\n",
       "      <td>M</td>\n",
       "      <td>сотрудник</td>\n",
       "      <td>0</td>\n",
       "      <td>145885</td>\n",
       "      <td>покупка жилья</td>\n",
       "      <td>[покупка,  , жилье, \\n]</td>\n",
       "    </tr>\n",
       "    <tr>\n",
       "      <td>3</td>\n",
       "      <td>3</td>\n",
       "      <td>-4124.747207</td>\n",
       "      <td>32</td>\n",
       "      <td>среднее</td>\n",
       "      <td>1</td>\n",
       "      <td>женат / замужем</td>\n",
       "      <td>0</td>\n",
       "      <td>M</td>\n",
       "      <td>сотрудник</td>\n",
       "      <td>0</td>\n",
       "      <td>267628</td>\n",
       "      <td>дополнительное образование</td>\n",
       "      <td>[дополнительный,  , образование, \\n]</td>\n",
       "    </tr>\n",
       "    <tr>\n",
       "      <td>4</td>\n",
       "      <td>0</td>\n",
       "      <td>340266.072047</td>\n",
       "      <td>53</td>\n",
       "      <td>среднее</td>\n",
       "      <td>1</td>\n",
       "      <td>гражданский брак</td>\n",
       "      <td>1</td>\n",
       "      <td>F</td>\n",
       "      <td>пенсионер</td>\n",
       "      <td>0</td>\n",
       "      <td>158616</td>\n",
       "      <td>сыграть свадьбу</td>\n",
       "      <td>[сыграть,  , свадьба, \\n]</td>\n",
       "    </tr>\n",
       "  </tbody>\n",
       "</table>\n",
       "</div>"
      ],
      "text/plain": [
       "   children  days_employed  dob_years education  education_id  \\\n",
       "0         1   -8437.673028         42    высшее             0   \n",
       "1         1   -4024.803754         36   среднее             1   \n",
       "2         0   -5623.422610         33   среднее             1   \n",
       "3         3   -4124.747207         32   среднее             1   \n",
       "4         0  340266.072047         53   среднее             1   \n",
       "\n",
       "      family_status  family_status_id gender income_type  debt  total_income  \\\n",
       "0   женат / замужем                 0      F   сотрудник     0        253875   \n",
       "1   женат / замужем                 0      F   сотрудник     0        112080   \n",
       "2   женат / замужем                 0      M   сотрудник     0        145885   \n",
       "3   женат / замужем                 0      M   сотрудник     0        267628   \n",
       "4  гражданский брак                 1      F   пенсионер     0        158616   \n",
       "\n",
       "                      purpose                        purpose_lemmas  \n",
       "0               покупка жилья               [покупка,  , жилье, \\n]  \n",
       "1     приобретение автомобиля     [приобретение,  , автомобиль, \\n]  \n",
       "2               покупка жилья               [покупка,  , жилье, \\n]  \n",
       "3  дополнительное образование  [дополнительный,  , образование, \\n]  \n",
       "4             сыграть свадьбу             [сыграть,  , свадьба, \\n]  "
      ]
     },
     "execution_count": 113,
     "metadata": {},
     "output_type": "execute_result"
    }
   ],
   "source": [
    "# импортируем библиотеку для лемматизации:\n",
    "from pymystem3 import Mystem\n",
    "m = Mystem() \n",
    "\n",
    "# Создаем функцию, которая принимает столбец на вход\n",
    "\n",
    "lemmas = []\n",
    "def lem_purpose(column): \n",
    "    lemmas = m.lemmatize(column) # записываем результат лемматизации столбца в переменниую\n",
    "    return lemmas # возвращаем переменную\n",
    " \n",
    "df['purpose_lemmas'] = df['purpose'].apply(lem_purpose) # применяем и записываем в новый столбец 'purpose_lemmas'\n",
    " \n",
    "df.head()"
   ]
  },
  {
   "cell_type": "markdown",
   "metadata": {},
   "source": [
    "**Вывод**"
   ]
  },
  {
   "cell_type": "markdown",
   "metadata": {},
   "source": [
    "Здесь, я, пожалуй, не совсем понял что требуется. Выделил леммы для целей кредита и создал с ними отдельный столбец, к которму буду обращаться в исследовании"
   ]
  },
  {
   "cell_type": "markdown",
   "metadata": {},
   "source": [
    "### Категоризация данных"
   ]
  },
  {
   "cell_type": "code",
   "execution_count": 114,
   "metadata": {},
   "outputs": [
    {
     "data": {
      "text/plain": [
       "средний достаток    6090\n",
       "богатые             5568\n",
       "высокий достаток    5333\n",
       "низкий достаток     4463\n",
       "Name: total_income_category, dtype: int64"
      ]
     },
     "execution_count": 114,
     "metadata": {},
     "output_type": "execute_result"
    }
   ],
   "source": [
    "# функция для категоризации целей кредита:\n",
    "\n",
    "def purpose_category(purpose_lemmas):\n",
    "    if (('жилье' in purpose_lemmas) or ('недвижимость' in purpose_lemmas)) and ('строительство' not in purpose_lemmas):\n",
    "        return 'покупка недвижимости'\n",
    "    if (('жилье' in purpose_lemmas) or ('недвижимость' in purpose_lemmas)) and ('строительство' in purpose_lemmas):\n",
    "        return 'строительство недвижимости'\n",
    "    if 'автомобиль' in purpose_lemmas:\n",
    "        return 'покупка автомобиля'\n",
    "    if 'образование' in purpose_lemmas:\n",
    "        return 'образование'\n",
    "    if 'свадьба' in purpose_lemmas:\n",
    "        return 'свадьба'\n",
    "    return purpose_lemmas\n",
    "\n",
    "df['purpose_category'] = df['purpose_lemmas'].apply(purpose_category)\n",
    "df['purpose_category'].value_counts()\n",
    "\n",
    "# функция для категоризации уровня дохода:\n",
    "\n",
    "def total_income_category(total_income):\n",
    "    if total_income <= 100000:\n",
    "        return 'низкий достаток'\n",
    "    if 100000 < total_income <= 150000:\n",
    "        return 'средний достаток'\n",
    "    if 150000 < total_income <= 200000:\n",
    "        return 'высокий достаток'\n",
    "    if total_income > 200000:\n",
    "        return 'богатые'\n",
    "    \n",
    "df['total_income_category'] = df['total_income'].apply(total_income_category)\n",
    "df['total_income_category'].value_counts()"
   ]
  },
  {
   "cell_type": "markdown",
   "metadata": {},
   "source": [
    "**Вывод**"
   ]
  },
  {
   "cell_type": "markdown",
   "metadata": {},
   "source": [
    "Категории целей, на мой взгляд, выделены правильно. \n",
    "Категоризацию доходов я выделил в группы с шагом в 50000 рублей, исходя из своего личного опыта, поскольку прибегая к данным из росстата, человеку необходимо около 12000 рублей в месяц. На мой взгляд это некорректные данные. Тем более, что распределение по группам получилось почти соразмерным. "
   ]
  },
  {
   "cell_type": "markdown",
   "metadata": {},
   "source": [
    "## Шаг 3. Ответьте на вопросы"
   ]
  },
  {
   "cell_type": "markdown",
   "metadata": {},
   "source": [
    "- Есть ли зависимость между наличием детей и возвратом кредита в срок?"
   ]
  },
  {
   "cell_type": "code",
   "execution_count": 115,
   "metadata": {},
   "outputs": [
    {
     "name": "stdout",
     "output_type": "stream",
     "text": [
      "         total_income        \n",
      "debt                0       1\n",
      "children                     \n",
      "-1               46.0     1.0\n",
      " 0            13028.0  1063.0\n",
      " 1             4364.0   444.0\n",
      " 2             1858.0   194.0\n",
      " 3              303.0    27.0\n",
      " 4               37.0     4.0\n",
      " 5                9.0     NaN\n",
      " 20              68.0     8.0\n"
     ]
    },
    {
     "data": {
      "text/plain": [
       "children\n",
       "-1      2.173913\n",
       " 0      8.159349\n",
       " 1     10.174152\n",
       " 2     10.441335\n",
       " 3      8.910891\n",
       " 4     10.810811\n",
       " 5           NaN\n",
       " 20    11.764706\n",
       "dtype: float64"
      ]
     },
     "execution_count": 115,
     "metadata": {},
     "output_type": "execute_result"
    }
   ],
   "source": [
    "#создаем сводную таблицу для анализа соотношения количества детей к вероятности возврата кредита\n",
    "df_pivot_children = df.pivot_table(index=['children'], columns=['debt'], values=['total_income'], aggfunc='count')\n",
    "\n",
    "# смотрим на результат:\n",
    "print(df_pivot_children.head(10))\n",
    "\n",
    "# считаем зависимость количества детей от успешности возврата кредита:\n",
    "df_pivot_children_ratio = df_pivot_children['total_income'][1] / df_pivot_children['total_income'][0] * 100\n",
    "df_pivot_children_ratio.head(10)\n"
   ]
  },
  {
   "cell_type": "markdown",
   "metadata": {},
   "source": [
    "**Вывод**"
   ]
  },
  {
   "cell_type": "markdown",
   "metadata": {},
   "source": [
    "Данными с количеством детей -1, 5 и 20 считаю можно принебречь, поскольку таких результатов менее одного процента. Из итоговой табицы видно, что процент должников без детей - 8.15 %, с 1,2 и 4 детьми - 10-11 %. Таким образом заемщики с детьми невозвращают кредит чаще, чем заемщики без детей. Однако эта разница составляет 2-2.5%. "
   ]
  },
  {
   "cell_type": "markdown",
   "metadata": {},
   "source": [
    "- Есть ли зависимость между семейным положением и возвратом кредита в срок?"
   ]
  },
  {
   "cell_type": "code",
   "execution_count": 116,
   "metadata": {},
   "outputs": [
    {
     "name": "stdout",
     "output_type": "stream",
     "text": [
      "                      total_income     \n",
      "debt                             0    1\n",
      "family_status                          \n",
      "Не женат / не замужем         2536  274\n",
      "в разводе                     1110   85\n",
      "вдовец / вдова                 896   63\n",
      "гражданский брак              3763  388\n",
      "женат / замужем              11408  931\n"
     ]
    },
    {
     "data": {
      "text/plain": [
       "family_status\n",
       "Не женат / не замужем    9.750890\n",
       "в разводе                7.112971\n",
       "вдовец / вдова           6.569343\n",
       "гражданский брак         9.347145\n",
       "женат / замужем          7.545182\n",
       "dtype: float64"
      ]
     },
     "execution_count": 116,
     "metadata": {},
     "output_type": "execute_result"
    }
   ],
   "source": [
    "#создаем сводную таблицу для анализа соотношения семейного положения к вероятности возврата кредита\n",
    "df_pivot_family = df.pivot_table(index=['family_status'], columns=['debt'], values=['total_income'], aggfunc='count')\n",
    "\n",
    "# смотрим на результат:\n",
    "print(df_pivot_family.head(10))\n",
    "\n",
    "# считаем зависимость семейного положения от успешности возврата кредита:\n",
    "df_pivot_family_ratio = df_pivot_family['total_income'][1] / (df_pivot_family['total_income'][0] + df_pivot_family['total_income'][1]) * 100\n",
    "df_pivot_family_ratio.head()"
   ]
  },
  {
   "cell_type": "code",
   "execution_count": 117,
   "metadata": {},
   "outputs": [
    {
     "data": {
      "text/html": [
       "<div>\n",
       "<style scoped>\n",
       "    .dataframe tbody tr th:only-of-type {\n",
       "        vertical-align: middle;\n",
       "    }\n",
       "\n",
       "    .dataframe tbody tr th {\n",
       "        vertical-align: top;\n",
       "    }\n",
       "\n",
       "    .dataframe thead th {\n",
       "        text-align: right;\n",
       "    }\n",
       "</style>\n",
       "<table border=\"1\" class=\"dataframe\">\n",
       "  <thead>\n",
       "    <tr style=\"text-align: right;\">\n",
       "      <th></th>\n",
       "      <th>count</th>\n",
       "      <th>sum</th>\n",
       "      <th>mean</th>\n",
       "    </tr>\n",
       "    <tr>\n",
       "      <th>family_status</th>\n",
       "      <th></th>\n",
       "      <th></th>\n",
       "      <th></th>\n",
       "    </tr>\n",
       "  </thead>\n",
       "  <tbody>\n",
       "    <tr>\n",
       "      <td>Не женат / не замужем</td>\n",
       "      <td>2810</td>\n",
       "      <td>274</td>\n",
       "      <td>0.097509</td>\n",
       "    </tr>\n",
       "    <tr>\n",
       "      <td>в разводе</td>\n",
       "      <td>1195</td>\n",
       "      <td>85</td>\n",
       "      <td>0.071130</td>\n",
       "    </tr>\n",
       "    <tr>\n",
       "      <td>вдовец / вдова</td>\n",
       "      <td>959</td>\n",
       "      <td>63</td>\n",
       "      <td>0.065693</td>\n",
       "    </tr>\n",
       "    <tr>\n",
       "      <td>гражданский брак</td>\n",
       "      <td>4151</td>\n",
       "      <td>388</td>\n",
       "      <td>0.093471</td>\n",
       "    </tr>\n",
       "    <tr>\n",
       "      <td>женат / замужем</td>\n",
       "      <td>12339</td>\n",
       "      <td>931</td>\n",
       "      <td>0.075452</td>\n",
       "    </tr>\n",
       "  </tbody>\n",
       "</table>\n",
       "</div>"
      ],
      "text/plain": [
       "                       count  sum      mean\n",
       "family_status                              \n",
       "Не женат / не замужем   2810  274  0.097509\n",
       "в разводе               1195   85  0.071130\n",
       "вдовец / вдова           959   63  0.065693\n",
       "гражданский брак        4151  388  0.093471\n",
       "женат / замужем        12339  931  0.075452"
      ]
     },
     "execution_count": 117,
     "metadata": {},
     "output_type": "execute_result"
    }
   ],
   "source": [
    "# КОД РЕВЬЮЕРА\n",
    "\n",
    "df.groupby('family_status')['debt'].agg(['count','sum','mean'])"
   ]
  },
  {
   "cell_type": "code",
   "execution_count": 118,
   "metadata": {},
   "outputs": [
    {
     "data": {
      "text/html": [
       "<div>\n",
       "<style scoped>\n",
       "    .dataframe tbody tr th:only-of-type {\n",
       "        vertical-align: middle;\n",
       "    }\n",
       "\n",
       "    .dataframe tbody tr th {\n",
       "        vertical-align: top;\n",
       "    }\n",
       "\n",
       "    .dataframe thead th {\n",
       "        text-align: right;\n",
       "    }\n",
       "</style>\n",
       "<table border=\"1\" class=\"dataframe\">\n",
       "  <thead>\n",
       "    <tr style=\"text-align: right;\">\n",
       "      <th></th>\n",
       "      <th>count</th>\n",
       "      <th>sum</th>\n",
       "      <th>&lt;lambda_0&gt;</th>\n",
       "    </tr>\n",
       "    <tr>\n",
       "      <th>family_status</th>\n",
       "      <th></th>\n",
       "      <th></th>\n",
       "      <th></th>\n",
       "    </tr>\n",
       "  </thead>\n",
       "  <tbody>\n",
       "    <tr>\n",
       "      <td>Не женат / не замужем</td>\n",
       "      <td>2810</td>\n",
       "      <td>274</td>\n",
       "      <td>9.750890</td>\n",
       "    </tr>\n",
       "    <tr>\n",
       "      <td>в разводе</td>\n",
       "      <td>1195</td>\n",
       "      <td>85</td>\n",
       "      <td>7.112971</td>\n",
       "    </tr>\n",
       "    <tr>\n",
       "      <td>вдовец / вдова</td>\n",
       "      <td>959</td>\n",
       "      <td>63</td>\n",
       "      <td>6.569343</td>\n",
       "    </tr>\n",
       "    <tr>\n",
       "      <td>гражданский брак</td>\n",
       "      <td>4151</td>\n",
       "      <td>388</td>\n",
       "      <td>9.347145</td>\n",
       "    </tr>\n",
       "    <tr>\n",
       "      <td>женат / замужем</td>\n",
       "      <td>12339</td>\n",
       "      <td>931</td>\n",
       "      <td>7.545182</td>\n",
       "    </tr>\n",
       "  </tbody>\n",
       "</table>\n",
       "</div>"
      ],
      "text/plain": [
       "                       count  sum  <lambda_0>\n",
       "family_status                                \n",
       "Не женат / не замужем   2810  274    9.750890\n",
       "в разводе               1195   85    7.112971\n",
       "вдовец / вдова           959   63    6.569343\n",
       "гражданский брак        4151  388    9.347145\n",
       "женат / замужем        12339  931    7.545182"
      ]
     },
     "execution_count": 118,
     "metadata": {},
     "output_type": "execute_result"
    }
   ],
   "source": [
    "# КОД РЕВЬЮЕРА\n",
    "\n",
    "# В кач-ве агрегирования можно любую функцию брать.\n",
    "df.groupby('family_status')['debt'].agg(['count', 'sum', lambda x: x.mean()*100])"
   ]
  },
  {
   "cell_type": "code",
   "execution_count": 119,
   "metadata": {
    "scrolled": true
   },
   "outputs": [
    {
     "data": {
      "text/html": [
       "<div>\n",
       "<style scoped>\n",
       "    .dataframe tbody tr th:only-of-type {\n",
       "        vertical-align: middle;\n",
       "    }\n",
       "\n",
       "    .dataframe tbody tr th {\n",
       "        vertical-align: top;\n",
       "    }\n",
       "\n",
       "    .dataframe thead th {\n",
       "        text-align: right;\n",
       "    }\n",
       "</style>\n",
       "<table border=\"1\" class=\"dataframe\">\n",
       "  <thead>\n",
       "    <tr style=\"text-align: right;\">\n",
       "      <th></th>\n",
       "      <th>count</th>\n",
       "      <th>sum</th>\n",
       "      <th>&lt;lambda_0&gt;</th>\n",
       "    </tr>\n",
       "    <tr>\n",
       "      <th>family_status</th>\n",
       "      <th></th>\n",
       "      <th></th>\n",
       "      <th></th>\n",
       "    </tr>\n",
       "  </thead>\n",
       "  <tbody>\n",
       "    <tr>\n",
       "      <td>Не женат / не замужем</td>\n",
       "      <td>2810</td>\n",
       "      <td>274</td>\n",
       "      <td>9.75%</td>\n",
       "    </tr>\n",
       "    <tr>\n",
       "      <td>в разводе</td>\n",
       "      <td>1195</td>\n",
       "      <td>85</td>\n",
       "      <td>7.11%</td>\n",
       "    </tr>\n",
       "    <tr>\n",
       "      <td>вдовец / вдова</td>\n",
       "      <td>959</td>\n",
       "      <td>63</td>\n",
       "      <td>6.57%</td>\n",
       "    </tr>\n",
       "    <tr>\n",
       "      <td>гражданский брак</td>\n",
       "      <td>4151</td>\n",
       "      <td>388</td>\n",
       "      <td>9.35%</td>\n",
       "    </tr>\n",
       "    <tr>\n",
       "      <td>женат / замужем</td>\n",
       "      <td>12339</td>\n",
       "      <td>931</td>\n",
       "      <td>7.55%</td>\n",
       "    </tr>\n",
       "  </tbody>\n",
       "</table>\n",
       "</div>"
      ],
      "text/plain": [
       "                       count  sum <lambda_0>\n",
       "family_status                               \n",
       "Не женат / не замужем   2810  274     9.75% \n",
       "в разводе               1195   85     7.11% \n",
       "вдовец / вдова           959   63     6.57% \n",
       "гражданский брак        4151  388     9.35% \n",
       "женат / замужем        12339  931     7.55% "
      ]
     },
     "execution_count": 119,
     "metadata": {},
     "output_type": "execute_result"
    }
   ],
   "source": [
    "# КОД РЕВЬЮЕРА\n",
    "\n",
    "# Или просто форматируем вывод\n",
    "df.groupby('family_status')['debt'].agg(['count', 'sum', lambda x: '{:.2%} '.format(x.mean())])"
   ]
  },
  {
   "cell_type": "markdown",
   "metadata": {},
   "source": [
    "**Вывод**"
   ]
  },
  {
   "cell_type": "markdown",
   "metadata": {},
   "source": [
    "Средний процент должников категорий \"в разводе\", \"вдовец/вдова\", \"женат/замужем\" = 7%\n",
    "Средний процент должников категорий \"Не женат/не замужем\", \"гражданский брак\" = 9.5%\n",
    "Таким образом, должников, берущих заемные средства до заключения официального брака больше на 2.5%, чем должников после регистрации брака. "
   ]
  },
  {
   "cell_type": "markdown",
   "metadata": {},
   "source": [
    "- Есть ли зависимость между уровнем дохода и возвратом кредита в срок?"
   ]
  },
  {
   "cell_type": "code",
   "execution_count": 120,
   "metadata": {},
   "outputs": [
    {
     "name": "stdout",
     "output_type": "stream",
     "text": [
      "                      total_income     \n",
      "debt                             0    1\n",
      "total_income_category                  \n",
      "богатые                       5180  388\n",
      "высокий достаток              4860  473\n",
      "низкий достаток               4109  354\n",
      "средний достаток              5564  526\n"
     ]
    },
    {
     "data": {
      "text/plain": [
       "total_income_category\n",
       "богатые             6.968391\n",
       "высокий достаток    8.869304\n",
       "низкий достаток     7.931884\n",
       "средний достаток    8.637110\n",
       "dtype: float64"
      ]
     },
     "execution_count": 120,
     "metadata": {},
     "output_type": "execute_result"
    }
   ],
   "source": [
    "#создаем сводную таблицу для анализа соотношения дохода к вероятности возврата кредита\n",
    "df_pivot_income = df.pivot_table(index=['total_income_category'], columns=['debt'], values=['total_income'], aggfunc='count')\n",
    "\n",
    "# смотрим на результат:\n",
    "print(df_pivot_income.head(10))\n",
    "\n",
    "# считаем зависимость дохода от успешности возврата кредита:\n",
    "df_pivot_income_ratio = df_pivot_income['total_income'][1] / (df_pivot_income['total_income'][0] + df_pivot_income['total_income'][1]) * 100\n",
    "df_pivot_income_ratio.head()"
   ]
  },
  {
   "cell_type": "markdown",
   "metadata": {},
   "source": [
    "**Вывод**"
   ]
  },
  {
   "cell_type": "markdown",
   "metadata": {},
   "source": [
    "Богатые и бедные возвращают кредит на 1-2% чаще, чем люди со средними зарплатами."
   ]
  },
  {
   "cell_type": "markdown",
   "metadata": {},
   "source": [
    "- Как разные цели кредита влияют на его возврат в срок?"
   ]
  },
  {
   "cell_type": "code",
   "execution_count": 121,
   "metadata": {},
   "outputs": [
    {
     "name": "stdout",
     "output_type": "stream",
     "text": [
      "                           total_income     \n",
      "debt                                  0    1\n",
      "purpose_category                            \n",
      "образование                        3643  370\n",
      "покупка автомобиля                 3903  403\n",
      "покупка недвижимости               8295  638\n",
      "свадьба                            2138  186\n",
      "строительство недвижимости         1734  144\n"
     ]
    },
    {
     "data": {
      "text/plain": [
       "purpose_category\n",
       "образование                   9.220035\n",
       "покупка автомобиля            9.359034\n",
       "покупка недвижимости          7.142058\n",
       "свадьба                       8.003442\n",
       "строительство недвижимости    7.667732\n",
       "dtype: float64"
      ]
     },
     "execution_count": 121,
     "metadata": {},
     "output_type": "execute_result"
    }
   ],
   "source": [
    "#создаем сводную таблицу для анализа соотношения целей кредита к вероятности возврата кредита\n",
    "df_pivot_target = df.pivot_table(index=['purpose_category'], columns=['debt'], values=['total_income'], aggfunc='count')\n",
    "\n",
    "# смотрим на результат:\n",
    "print(df_pivot_target.head(10))\n",
    "\n",
    "# считаем зависимость целей кредита от успешности возврата кредита:\n",
    "df_pivot_target_ratio = df_pivot_target['total_income'][1] / (df_pivot_target['total_income'][0] + df_pivot_target['total_income'][1]) * 100\n",
    "df_pivot_target_ratio.head()"
   ]
  },
  {
   "cell_type": "markdown",
   "metadata": {},
   "source": [
    "**Вывод**"
   ]
  },
  {
   "cell_type": "markdown",
   "metadata": {},
   "source": [
    "Должников с целями на образование или автомобиль больше на 1-2%, чем должников с целями на недвижимость или свадьбу."
   ]
  },
  {
   "cell_type": "markdown",
   "metadata": {},
   "source": [
    "## Шаг 4. Общий вывод"
   ]
  },
  {
   "cell_type": "markdown",
   "metadata": {},
   "source": [
    "В исследовании выявлено, что средняя разница возврата и невозврата кредита в разных группах граждан составляет в среднем от 1.5 до 3%. \n",
    "Самые надежные заемщики после заключения брака - 7% невозврата в срок. \n",
    "Самые злостные неплательщики - до брака - 9% невернувших деньги.\n",
    "Самые надежные заемщики богатые, с доходом от 200 000 рублей в месяц  - 7% невернувших кредит.\n",
    "Самые злостные неплательщики - люди со средним достатком от 100 000 до 200 000 - 8.5% невернувших кредит.\n",
    "Самые надежные заемщики - покупатели недвижимости - 7% должников.\n",
    "Самые злостные неплательщики - автомобилисты - 9.4% должников.\n",
    "На мой взгляд, разница не большая, но в рамках большого объема выдачи кредитов, убытки могут быть существенны. Если кредитная организация сделает выводы, и пересмотрит алгоритмы выдачи кредитов, пожалуй она (кредитная организация) сможет повысить свою доходность. В анализе я осознанно выводил на экран сначала количество погашенных и непогашенных кредитов, а потом их соотношение, поскольку 1% от 100 и 1% 10000 это немного разные цифры, и эти данные также стоит учитывать. "
   ]
  },
  {
   "cell_type": "markdown",
   "metadata": {},
   "source": [
    "## Чек-лист готовности проекта\n",
    "\n",
    "Поставьте 'x' в выполненных пунктах. Далее нажмите Shift+Enter."
   ]
  },
  {
   "cell_type": "markdown",
   "metadata": {},
   "source": [
    "- [x]  открыт файл;\n",
    "- [x]  файл изучен;\n",
    "- [x]  определены пропущенные значения;\n",
    "- [x]  заполнены пропущенные значения;\n",
    "- [x]  есть пояснение, какие пропущенные значения обнаружены;\n",
    "- [x]  описаны возможные причины появления пропусков в данных;\n",
    "- [x]  объяснено, по какому принципу заполнены пропуски;\n",
    "- [x]  заменен вещественный тип данных на целочисленный;\n",
    "- [x]  есть пояснение, какой метод используется для изменения типа данных и почему;\n",
    "- [x]  удалены дубликаты;\n",
    "- [x]  есть пояснение, какой метод используется для поиска и удаления дубликатов;\n",
    "- [x]  описаны возможные причины появления дубликатов в данных;\n",
    "- [x]  выделены леммы в значениях столбца с целями получения кредита;\n",
    "- [x]  описан процесс лемматизации;\n",
    "- [x]  данные категоризированы;\n",
    "- [x]  есть объяснение принципа категоризации данных;\n",
    "- [x]  есть ответ на вопрос: \"Есть ли зависимость между наличием детей и возвратом кредита в срок?\";\n",
    "- [x]  есть ответ на вопрос: \"Есть ли зависимость между семейным положением и возвратом кредита в срок?\";\n",
    "- [x]  есть ответ на вопрос: \"Есть ли зависимость между уровнем дохода и возвратом кредита в срок?\";\n",
    "- [x]  есть ответ на вопрос: \"Как разные цели кредита влияют на его возврат в срок?\";\n",
    "- [x]  в каждом этапе есть выводы;\n",
    "- [x]  есть общий вывод."
   ]
  },
  {
   "cell_type": "code",
   "execution_count": null,
   "metadata": {},
   "outputs": [],
   "source": []
  }
 ],
 "metadata": {
  "ExecuteTimeLog": [
   {
    "duration": 957,
    "start_time": "2021-12-05T17:15:21.237Z"
   },
   {
    "duration": 2975,
    "start_time": "2021-12-05T17:19:17.250Z"
   },
   {
    "duration": 135,
    "start_time": "2021-12-05T17:24:05.965Z"
   },
   {
    "duration": 2982,
    "start_time": "2021-12-05T17:25:13.830Z"
   },
   {
    "duration": 2200,
    "start_time": "2021-12-05T17:25:36.488Z"
   },
   {
    "duration": 2237,
    "start_time": "2021-12-05T17:25:44.553Z"
   },
   {
    "duration": 82,
    "start_time": "2021-12-05T17:42:17.249Z"
   },
   {
    "duration": 871,
    "start_time": "2021-12-06T11:58:43.196Z"
   },
   {
    "duration": 79,
    "start_time": "2021-12-06T12:00:30.916Z"
   },
   {
    "duration": 602,
    "start_time": "2021-12-06T17:47:44.228Z"
   },
   {
    "duration": 66,
    "start_time": "2021-12-06T17:51:17.933Z"
   },
   {
    "duration": 211,
    "start_time": "2021-12-06T18:02:15.230Z"
   },
   {
    "duration": 183,
    "start_time": "2021-12-06T18:04:23.452Z"
   },
   {
    "duration": 17,
    "start_time": "2021-12-06T18:08:35.884Z"
   },
   {
    "duration": 10,
    "start_time": "2021-12-06T18:49:03.733Z"
   },
   {
    "duration": 22,
    "start_time": "2021-12-06T18:49:27.483Z"
   },
   {
    "duration": 10,
    "start_time": "2021-12-06T18:49:40.062Z"
   },
   {
    "duration": 17,
    "start_time": "2021-12-06T19:55:53.456Z"
   },
   {
    "duration": 347,
    "start_time": "2021-12-07T16:22:26.237Z"
   },
   {
    "duration": 920,
    "start_time": "2021-12-07T16:22:41.294Z"
   },
   {
    "duration": 15,
    "start_time": "2021-12-07T16:22:42.216Z"
   },
   {
    "duration": 20,
    "start_time": "2021-12-07T16:23:07.139Z"
   },
   {
    "duration": 40,
    "start_time": "2021-12-07T16:24:31.737Z"
   },
   {
    "duration": 330,
    "start_time": "2021-12-07T19:24:28.494Z"
   },
   {
    "duration": 48,
    "start_time": "2021-12-07T19:24:46.386Z"
   },
   {
    "duration": 57,
    "start_time": "2021-12-07T19:25:30.951Z"
   },
   {
    "duration": 49,
    "start_time": "2021-12-07T20:16:07.299Z"
   },
   {
    "duration": 14,
    "start_time": "2021-12-07T20:22:45.496Z"
   },
   {
    "duration": 17,
    "start_time": "2021-12-07T20:24:57.605Z"
   },
   {
    "duration": 17,
    "start_time": "2021-12-07T20:27:41.939Z"
   },
   {
    "duration": 16,
    "start_time": "2021-12-07T20:27:50.253Z"
   },
   {
    "duration": 23,
    "start_time": "2021-12-07T20:28:35.124Z"
   },
   {
    "duration": 19,
    "start_time": "2021-12-07T20:29:18.968Z"
   },
   {
    "duration": 23,
    "start_time": "2021-12-07T20:29:32.407Z"
   },
   {
    "duration": 23,
    "start_time": "2021-12-07T20:40:15.337Z"
   },
   {
    "duration": 50,
    "start_time": "2021-12-07T20:40:40.731Z"
   },
   {
    "duration": 25,
    "start_time": "2021-12-07T20:42:28.973Z"
   },
   {
    "duration": 38,
    "start_time": "2021-12-07T20:42:42.938Z"
   },
   {
    "duration": 961,
    "start_time": "2021-12-07T20:50:23.428Z"
   },
   {
    "duration": 688,
    "start_time": "2021-12-07T20:52:41.360Z"
   },
   {
    "duration": 28,
    "start_time": "2021-12-07T20:52:56.236Z"
   },
   {
    "duration": 29,
    "start_time": "2021-12-07T20:54:55.778Z"
   },
   {
    "duration": 32,
    "start_time": "2021-12-07T20:55:32.206Z"
   },
   {
    "duration": 20,
    "start_time": "2021-12-07T20:56:36.208Z"
   },
   {
    "duration": 27,
    "start_time": "2021-12-07T20:57:06.630Z"
   },
   {
    "duration": 37,
    "start_time": "2021-12-07T20:57:29.224Z"
   },
   {
    "duration": 51,
    "start_time": "2021-12-07T21:01:52.358Z"
   },
   {
    "duration": 14,
    "start_time": "2021-12-07T21:03:40.192Z"
   },
   {
    "duration": 40,
    "start_time": "2021-12-07T21:04:12.451Z"
   },
   {
    "duration": 41,
    "start_time": "2021-12-07T21:04:34.236Z"
   },
   {
    "duration": 76,
    "start_time": "2021-12-07T21:04:53.658Z"
   },
   {
    "duration": 343,
    "start_time": "2021-12-08T03:31:41.578Z"
   },
   {
    "duration": 869,
    "start_time": "2021-12-08T03:31:47.733Z"
   },
   {
    "duration": 56,
    "start_time": "2021-12-08T03:31:48.604Z"
   },
   {
    "duration": 17,
    "start_time": "2021-12-08T03:31:48.663Z"
   },
   {
    "duration": 52,
    "start_time": "2021-12-08T03:31:48.682Z"
   },
   {
    "duration": 56,
    "start_time": "2021-12-08T03:33:53.447Z"
   },
   {
    "duration": 4657,
    "start_time": "2021-12-08T04:15:31.441Z"
   },
   {
    "duration": 4586,
    "start_time": "2021-12-08T04:15:45.194Z"
   },
   {
    "duration": 4557,
    "start_time": "2021-12-08T04:18:05.810Z"
   },
   {
    "duration": 4508,
    "start_time": "2021-12-08T04:22:09.660Z"
   },
   {
    "duration": 4449,
    "start_time": "2021-12-08T04:22:26.253Z"
   },
   {
    "duration": 55,
    "start_time": "2021-12-08T04:23:17.815Z"
   },
   {
    "duration": 89,
    "start_time": "2021-12-08T04:23:26.432Z"
   },
   {
    "duration": 87,
    "start_time": "2021-12-08T04:26:01.537Z"
   },
   {
    "duration": 46,
    "start_time": "2021-12-08T04:26:01.627Z"
   },
   {
    "duration": 42,
    "start_time": "2021-12-08T04:26:01.676Z"
   },
   {
    "duration": 57,
    "start_time": "2021-12-08T04:26:01.722Z"
   },
   {
    "duration": 4789,
    "start_time": "2021-12-08T04:26:01.782Z"
   },
   {
    "duration": 4570,
    "start_time": "2021-12-08T04:34:05.997Z"
   },
   {
    "duration": 4487,
    "start_time": "2021-12-08T04:34:46.057Z"
   },
   {
    "duration": 102,
    "start_time": "2021-12-08T04:35:27.406Z"
   },
   {
    "duration": 48,
    "start_time": "2021-12-08T04:35:27.517Z"
   },
   {
    "duration": 16,
    "start_time": "2021-12-08T04:35:27.568Z"
   },
   {
    "duration": 58,
    "start_time": "2021-12-08T04:35:27.616Z"
   },
   {
    "duration": 4509,
    "start_time": "2021-12-08T04:35:27.676Z"
   },
   {
    "duration": 6,
    "start_time": "2021-12-08T04:51:32.071Z"
   },
   {
    "duration": 32,
    "start_time": "2021-12-08T04:54:10.098Z"
   },
   {
    "duration": 47,
    "start_time": "2021-12-08T05:02:38.089Z"
   },
   {
    "duration": 47,
    "start_time": "2021-12-08T05:06:13.511Z"
   },
   {
    "duration": 23,
    "start_time": "2021-12-08T05:11:26.907Z"
   },
   {
    "duration": 796,
    "start_time": "2021-12-09T19:47:26.876Z"
   },
   {
    "duration": 65,
    "start_time": "2021-12-09T19:47:27.675Z"
   },
   {
    "duration": 19,
    "start_time": "2021-12-09T19:47:27.743Z"
   },
   {
    "duration": 82,
    "start_time": "2021-12-09T19:47:27.765Z"
   },
   {
    "duration": 4801,
    "start_time": "2021-12-09T19:47:27.850Z"
   },
   {
    "duration": 49,
    "start_time": "2021-12-09T19:47:32.653Z"
   },
   {
    "duration": 39,
    "start_time": "2021-12-09T19:47:32.704Z"
   },
   {
    "duration": 98,
    "start_time": "2021-12-09T19:55:28.133Z"
   },
   {
    "duration": 772,
    "start_time": "2021-12-09T19:55:44.968Z"
   },
   {
    "duration": 345,
    "start_time": "2021-12-09T19:55:57.744Z"
   },
   {
    "duration": 316,
    "start_time": "2021-12-09T19:56:35.584Z"
   },
   {
    "duration": 276,
    "start_time": "2021-12-09T19:59:08.145Z"
   },
   {
    "duration": 23,
    "start_time": "2021-12-09T19:59:28.152Z"
   },
   {
    "duration": 30,
    "start_time": "2021-12-09T20:00:05.866Z"
   },
   {
    "duration": 4951,
    "start_time": "2021-12-09T20:04:37.490Z"
   },
   {
    "duration": 27,
    "start_time": "2021-12-09T20:05:09.143Z"
   },
   {
    "duration": 27,
    "start_time": "2021-12-09T20:06:58.897Z"
   },
   {
    "duration": 100,
    "start_time": "2021-12-09T20:07:47.445Z"
   },
   {
    "duration": 24,
    "start_time": "2021-12-09T20:08:14.509Z"
   },
   {
    "duration": 28,
    "start_time": "2021-12-09T20:08:30.600Z"
   },
   {
    "duration": 42,
    "start_time": "2021-12-09T20:15:14.378Z"
   },
   {
    "duration": 30,
    "start_time": "2021-12-09T20:25:17.864Z"
   },
   {
    "duration": 32,
    "start_time": "2021-12-09T20:26:32.657Z"
   },
   {
    "duration": 30,
    "start_time": "2021-12-09T20:27:50.688Z"
   },
   {
    "duration": 7050,
    "start_time": "2021-12-09T20:33:44.364Z"
   },
   {
    "duration": 34,
    "start_time": "2021-12-09T20:34:44.412Z"
   },
   {
    "duration": 26,
    "start_time": "2021-12-09T20:36:16.264Z"
   },
   {
    "duration": 32,
    "start_time": "2021-12-09T20:37:17.216Z"
   },
   {
    "duration": 30,
    "start_time": "2021-12-09T20:37:49.809Z"
   },
   {
    "duration": 31,
    "start_time": "2021-12-09T20:43:40.001Z"
   },
   {
    "duration": 30,
    "start_time": "2021-12-09T20:50:25.707Z"
   },
   {
    "duration": 31,
    "start_time": "2021-12-09T20:50:34.268Z"
   },
   {
    "duration": 32,
    "start_time": "2021-12-09T20:50:43.183Z"
   },
   {
    "duration": 1904,
    "start_time": "2021-12-09T20:58:27.695Z"
   },
   {
    "duration": 2021,
    "start_time": "2021-12-09T20:58:50.059Z"
   },
   {
    "duration": 20,
    "start_time": "2021-12-09T20:59:17.483Z"
   },
   {
    "duration": 2849,
    "start_time": "2021-12-09T20:59:41.438Z"
   },
   {
    "duration": 2208,
    "start_time": "2021-12-09T21:00:11.531Z"
   },
   {
    "duration": 1969,
    "start_time": "2021-12-09T21:03:34.178Z"
   },
   {
    "duration": 86,
    "start_time": "2021-12-09T21:05:25.792Z"
   },
   {
    "duration": 62,
    "start_time": "2021-12-09T21:05:25.881Z"
   },
   {
    "duration": 16,
    "start_time": "2021-12-09T21:05:25.946Z"
   },
   {
    "duration": 75,
    "start_time": "2021-12-09T21:05:25.965Z"
   },
   {
    "duration": 5918,
    "start_time": "2021-12-09T21:05:26.043Z"
   },
   {
    "duration": 86,
    "start_time": "2021-12-09T21:05:31.964Z"
   },
   {
    "duration": 69,
    "start_time": "2021-12-09T21:05:32.054Z"
   },
   {
    "duration": 48,
    "start_time": "2021-12-09T21:05:32.128Z"
   },
   {
    "duration": 74,
    "start_time": "2021-12-09T21:05:32.180Z"
   },
   {
    "duration": 34,
    "start_time": "2021-12-09T21:05:32.256Z"
   },
   {
    "duration": 884,
    "start_time": "2021-12-10T14:08:02.393Z"
   },
   {
    "duration": 52,
    "start_time": "2021-12-10T14:08:03.279Z"
   },
   {
    "duration": 17,
    "start_time": "2021-12-10T14:08:03.334Z"
   },
   {
    "duration": 78,
    "start_time": "2021-12-10T14:08:03.353Z"
   },
   {
    "duration": 4891,
    "start_time": "2021-12-10T14:08:03.434Z"
   },
   {
    "duration": 53,
    "start_time": "2021-12-10T14:08:08.328Z"
   },
   {
    "duration": 75,
    "start_time": "2021-12-10T14:08:08.384Z"
   },
   {
    "duration": 32,
    "start_time": "2021-12-10T14:08:08.462Z"
   },
   {
    "duration": 51,
    "start_time": "2021-12-10T14:08:08.497Z"
   },
   {
    "duration": 35,
    "start_time": "2021-12-10T14:08:08.550Z"
   },
   {
    "duration": 699,
    "start_time": "2021-12-10T17:18:48.406Z"
   },
   {
    "duration": 30,
    "start_time": "2021-12-10T17:18:49.107Z"
   },
   {
    "duration": 12,
    "start_time": "2021-12-10T17:18:49.140Z"
   },
   {
    "duration": 548,
    "start_time": "2021-12-10T17:18:49.154Z"
   },
   {
    "duration": 31494106,
    "start_time": "2021-12-10T08:33:55.598Z"
   },
   {
    "duration": 31494094,
    "start_time": "2021-12-10T08:33:55.611Z"
   },
   {
    "duration": 31494085,
    "start_time": "2021-12-10T08:33:55.621Z"
   },
   {
    "duration": 31494064,
    "start_time": "2021-12-10T08:33:55.643Z"
   },
   {
    "duration": 31494059,
    "start_time": "2021-12-10T08:33:55.649Z"
   },
   {
    "duration": 31494034,
    "start_time": "2021-12-10T08:33:55.675Z"
   },
   {
    "duration": 47,
    "start_time": "2021-12-10T17:21:08.270Z"
   },
   {
    "duration": 51,
    "start_time": "2021-12-10T17:23:56.462Z"
   },
   {
    "duration": 408,
    "start_time": "2021-12-10T17:24:35.698Z"
   },
   {
    "duration": 55,
    "start_time": "2021-12-10T17:29:26.155Z"
   },
   {
    "duration": 67,
    "start_time": "2021-12-10T17:30:02.251Z"
   },
   {
    "duration": 10345,
    "start_time": "2021-12-10T17:34:21.793Z"
   },
   {
    "duration": 70,
    "start_time": "2021-12-10T17:35:05.455Z"
   },
   {
    "duration": 32,
    "start_time": "2021-12-10T17:35:05.527Z"
   },
   {
    "duration": 15,
    "start_time": "2021-12-10T17:35:05.561Z"
   },
   {
    "duration": 90,
    "start_time": "2021-12-10T17:35:05.579Z"
   },
   {
    "duration": 4441,
    "start_time": "2021-12-10T17:35:05.671Z"
   },
   {
    "duration": 58,
    "start_time": "2021-12-10T17:35:10.114Z"
   },
   {
    "duration": 68,
    "start_time": "2021-12-10T17:35:10.175Z"
   },
   {
    "duration": 24,
    "start_time": "2021-12-10T17:35:10.246Z"
   },
   {
    "duration": 22,
    "start_time": "2021-12-10T17:35:10.271Z"
   },
   {
    "duration": 26,
    "start_time": "2021-12-10T17:35:10.294Z"
   },
   {
    "duration": 33,
    "start_time": "2021-12-10T17:37:11.938Z"
   },
   {
    "duration": 22,
    "start_time": "2021-12-10T20:31:53.462Z"
   },
   {
    "duration": 21,
    "start_time": "2021-12-10T20:38:25.442Z"
   },
   {
    "duration": 29,
    "start_time": "2021-12-10T20:41:44.314Z"
   },
   {
    "duration": 22,
    "start_time": "2021-12-10T20:41:56.760Z"
   },
   {
    "duration": 22,
    "start_time": "2021-12-10T20:45:01.586Z"
   },
   {
    "duration": 22,
    "start_time": "2021-12-10T20:46:20.839Z"
   },
   {
    "duration": 21,
    "start_time": "2021-12-10T20:46:27.008Z"
   },
   {
    "duration": 23,
    "start_time": "2021-12-10T20:47:15.452Z"
   },
   {
    "duration": 69,
    "start_time": "2021-12-10T20:59:28.062Z"
   },
   {
    "duration": 30,
    "start_time": "2021-12-10T20:59:28.133Z"
   },
   {
    "duration": 13,
    "start_time": "2021-12-10T20:59:28.165Z"
   },
   {
    "duration": 81,
    "start_time": "2021-12-10T20:59:28.180Z"
   },
   {
    "duration": 3743,
    "start_time": "2021-12-10T20:59:28.263Z"
   },
   {
    "duration": 33,
    "start_time": "2021-12-10T20:59:32.008Z"
   },
   {
    "duration": 27,
    "start_time": "2021-12-10T20:59:32.043Z"
   },
   {
    "duration": 47,
    "start_time": "2021-12-10T20:59:32.073Z"
   },
   {
    "duration": 22,
    "start_time": "2021-12-10T20:59:32.122Z"
   },
   {
    "duration": 22,
    "start_time": "2021-12-10T20:59:32.146Z"
   },
   {
    "duration": 2465,
    "start_time": "2021-12-10T21:00:57.537Z"
   },
   {
    "duration": 64,
    "start_time": "2021-12-10T21:01:10.740Z"
   },
   {
    "duration": 29,
    "start_time": "2021-12-10T21:01:10.806Z"
   },
   {
    "duration": 12,
    "start_time": "2021-12-10T21:01:10.837Z"
   },
   {
    "duration": 77,
    "start_time": "2021-12-10T21:01:10.851Z"
   },
   {
    "duration": 3730,
    "start_time": "2021-12-10T21:01:10.930Z"
   },
   {
    "duration": 46,
    "start_time": "2021-12-10T21:01:14.661Z"
   },
   {
    "duration": 25,
    "start_time": "2021-12-10T21:01:14.709Z"
   },
   {
    "duration": 20,
    "start_time": "2021-12-10T21:01:14.736Z"
   },
   {
    "duration": 20,
    "start_time": "2021-12-10T21:01:14.758Z"
   },
   {
    "duration": 46,
    "start_time": "2021-12-10T21:01:14.780Z"
   },
   {
    "duration": 2973,
    "start_time": "2021-12-10T21:02:04.922Z"
   },
   {
    "duration": 67,
    "start_time": "2021-12-10T21:02:12.793Z"
   },
   {
    "duration": 31,
    "start_time": "2021-12-10T21:02:12.862Z"
   },
   {
    "duration": 13,
    "start_time": "2021-12-10T21:02:12.908Z"
   },
   {
    "duration": 34,
    "start_time": "2021-12-10T21:02:12.922Z"
   },
   {
    "duration": 3991,
    "start_time": "2021-12-10T21:02:12.958Z"
   },
   {
    "duration": 31,
    "start_time": "2021-12-10T21:02:16.952Z"
   },
   {
    "duration": 44,
    "start_time": "2021-12-10T21:02:16.985Z"
   },
   {
    "duration": 24,
    "start_time": "2021-12-10T21:02:17.031Z"
   },
   {
    "duration": 54,
    "start_time": "2021-12-10T21:02:17.058Z"
   },
   {
    "duration": 23,
    "start_time": "2021-12-10T21:02:17.115Z"
   },
   {
    "duration": 2605,
    "start_time": "2021-12-10T21:03:01.288Z"
   },
   {
    "duration": 71,
    "start_time": "2021-12-10T21:03:13.630Z"
   },
   {
    "duration": 30,
    "start_time": "2021-12-10T21:03:13.703Z"
   },
   {
    "duration": 13,
    "start_time": "2021-12-10T21:03:13.735Z"
   },
   {
    "duration": 82,
    "start_time": "2021-12-10T21:03:13.750Z"
   },
   {
    "duration": 4149,
    "start_time": "2021-12-10T21:03:13.834Z"
   },
   {
    "duration": 69,
    "start_time": "2021-12-10T21:03:17.986Z"
   },
   {
    "duration": 29,
    "start_time": "2021-12-10T21:03:18.058Z"
   },
   {
    "duration": 34,
    "start_time": "2021-12-10T21:03:18.089Z"
   },
   {
    "duration": 25,
    "start_time": "2021-12-10T21:03:18.125Z"
   },
   {
    "duration": 23,
    "start_time": "2021-12-10T21:03:18.152Z"
   },
   {
    "duration": 677,
    "start_time": "2021-12-11T08:27:22.941Z"
   },
   {
    "duration": 29,
    "start_time": "2021-12-11T08:27:23.620Z"
   },
   {
    "duration": 30,
    "start_time": "2021-12-11T08:27:34.507Z"
   },
   {
    "duration": 345,
    "start_time": "2021-12-11T08:27:47.767Z"
   },
   {
    "duration": 37,
    "start_time": "2021-12-11T08:27:52.396Z"
   },
   {
    "duration": 20,
    "start_time": "2021-12-11T08:28:02.807Z"
   },
   {
    "duration": 4,
    "start_time": "2021-12-11T08:28:09.587Z"
   },
   {
    "duration": 4,
    "start_time": "2021-12-11T08:28:15.786Z"
   },
   {
    "duration": 3618,
    "start_time": "2021-12-11T08:28:22.548Z"
   },
   {
    "duration": 13,
    "start_time": "2021-12-11T08:31:15.887Z"
   },
   {
    "duration": 58,
    "start_time": "2021-12-11T08:31:15.902Z"
   },
   {
    "duration": 3601,
    "start_time": "2021-12-11T08:31:15.962Z"
   },
   {
    "duration": 30,
    "start_time": "2021-12-11T08:31:19.565Z"
   },
   {
    "duration": 83,
    "start_time": "2021-12-11T08:31:19.597Z"
   },
   {
    "duration": 19,
    "start_time": "2021-12-11T08:31:19.682Z"
   },
   {
    "duration": 68,
    "start_time": "2021-12-11T08:31:19.703Z"
   },
   {
    "duration": 19,
    "start_time": "2021-12-11T08:31:19.773Z"
   },
   {
    "duration": 13,
    "start_time": "2021-12-11T08:32:00.464Z"
   },
   {
    "duration": 7,
    "start_time": "2021-12-11T08:33:12.847Z"
   },
   {
    "duration": 8,
    "start_time": "2021-12-11T08:33:30.438Z"
   },
   {
    "duration": 7,
    "start_time": "2021-12-11T08:33:36.118Z"
   },
   {
    "duration": 9,
    "start_time": "2021-12-11T08:33:42.788Z"
   },
   {
    "duration": 6,
    "start_time": "2021-12-11T08:33:47.918Z"
   },
   {
    "duration": 8,
    "start_time": "2021-12-11T08:33:53.379Z"
   },
   {
    "duration": 9,
    "start_time": "2021-12-11T08:34:11.277Z"
   },
   {
    "duration": 11,
    "start_time": "2021-12-11T08:34:16.679Z"
   },
   {
    "duration": 228,
    "start_time": "2021-12-11T08:34:32.509Z"
   },
   {
    "duration": 11,
    "start_time": "2021-12-11T08:34:45.009Z"
   },
   {
    "duration": 4,
    "start_time": "2021-12-11T08:35:11.948Z"
   },
   {
    "duration": 15,
    "start_time": "2021-12-11T08:35:36.339Z"
   },
   {
    "duration": 13,
    "start_time": "2021-12-11T08:35:51.631Z"
   },
   {
    "duration": 7,
    "start_time": "2021-12-11T08:38:08.143Z"
   },
   {
    "duration": 13,
    "start_time": "2021-12-11T08:39:21.892Z"
   },
   {
    "duration": 14,
    "start_time": "2021-12-11T08:39:25.476Z"
   },
   {
    "duration": 13,
    "start_time": "2021-12-11T08:39:28.765Z"
   },
   {
    "duration": 666,
    "start_time": "2021-12-11T13:34:32.137Z"
   },
   {
    "duration": 28,
    "start_time": "2021-12-11T13:34:32.805Z"
   },
   {
    "duration": 6,
    "start_time": "2021-12-11T13:34:32.835Z"
   },
   {
    "duration": 26,
    "start_time": "2021-12-11T13:34:32.843Z"
   },
   {
    "duration": 5,
    "start_time": "2021-12-11T13:34:32.870Z"
   },
   {
    "duration": 8,
    "start_time": "2021-12-11T13:34:32.877Z"
   },
   {
    "duration": 7,
    "start_time": "2021-12-11T13:34:32.886Z"
   },
   {
    "duration": 10,
    "start_time": "2021-12-11T13:34:32.895Z"
   },
   {
    "duration": 10,
    "start_time": "2021-12-11T13:34:32.907Z"
   },
   {
    "duration": 9,
    "start_time": "2021-12-11T13:34:32.919Z"
   },
   {
    "duration": 41,
    "start_time": "2021-12-11T13:34:32.929Z"
   },
   {
    "duration": 5,
    "start_time": "2021-12-11T13:34:32.972Z"
   },
   {
    "duration": 36,
    "start_time": "2021-12-11T13:34:32.978Z"
   },
   {
    "duration": 19,
    "start_time": "2021-12-11T13:34:33.015Z"
   },
   {
    "duration": 4,
    "start_time": "2021-12-11T13:34:33.035Z"
   },
   {
    "duration": 24,
    "start_time": "2021-12-11T13:34:33.041Z"
   },
   {
    "duration": 3413,
    "start_time": "2021-12-11T13:34:33.066Z"
   },
   {
    "duration": 10294,
    "start_time": "2021-12-11T13:34:36.480Z"
   },
   {
    "duration": 273,
    "start_time": "2021-12-11T13:34:46.503Z"
   },
   {
    "duration": 270,
    "start_time": "2021-12-11T13:34:46.507Z"
   },
   {
    "duration": 267,
    "start_time": "2021-12-11T13:34:46.511Z"
   },
   {
    "duration": 264,
    "start_time": "2021-12-11T13:34:46.515Z"
   },
   {
    "duration": 261,
    "start_time": "2021-12-11T13:34:46.519Z"
   },
   {
    "duration": 259,
    "start_time": "2021-12-11T13:34:46.523Z"
   },
   {
    "duration": 251,
    "start_time": "2021-12-11T13:34:46.532Z"
   },
   {
    "duration": 248,
    "start_time": "2021-12-11T13:34:46.536Z"
   },
   {
    "duration": 245,
    "start_time": "2021-12-11T13:34:46.540Z"
   },
   {
    "duration": 243,
    "start_time": "2021-12-11T13:34:46.543Z"
   },
   {
    "duration": 241,
    "start_time": "2021-12-11T13:34:46.546Z"
   },
   {
    "duration": 237,
    "start_time": "2021-12-11T13:34:46.551Z"
   },
   {
    "duration": 235,
    "start_time": "2021-12-11T13:34:46.554Z"
   },
   {
    "duration": 99,
    "start_time": "2021-12-11T13:40:22.990Z"
   },
   {
    "duration": 31,
    "start_time": "2021-12-11T13:40:23.092Z"
   },
   {
    "duration": 7,
    "start_time": "2021-12-11T13:40:23.125Z"
   },
   {
    "duration": 33,
    "start_time": "2021-12-11T13:40:23.134Z"
   },
   {
    "duration": 23,
    "start_time": "2021-12-11T13:40:23.169Z"
   },
   {
    "duration": 29,
    "start_time": "2021-12-11T13:40:23.194Z"
   },
   {
    "duration": 39,
    "start_time": "2021-12-11T13:40:23.225Z"
   },
   {
    "duration": 34,
    "start_time": "2021-12-11T13:40:23.267Z"
   },
   {
    "duration": 24,
    "start_time": "2021-12-11T13:40:23.303Z"
   },
   {
    "duration": 40,
    "start_time": "2021-12-11T13:40:23.329Z"
   },
   {
    "duration": 27,
    "start_time": "2021-12-11T13:40:23.371Z"
   },
   {
    "duration": 16,
    "start_time": "2021-12-11T13:40:23.400Z"
   },
   {
    "duration": 60,
    "start_time": "2021-12-11T13:40:23.418Z"
   },
   {
    "duration": 19,
    "start_time": "2021-12-11T13:40:23.479Z"
   },
   {
    "duration": 24,
    "start_time": "2021-12-11T13:40:23.500Z"
   },
   {
    "duration": 37,
    "start_time": "2021-12-11T13:40:23.525Z"
   },
   {
    "duration": 3728,
    "start_time": "2021-12-11T13:40:23.564Z"
   },
   {
    "duration": 10152,
    "start_time": "2021-12-11T13:40:27.294Z"
   },
   {
    "duration": 257,
    "start_time": "2021-12-11T13:40:37.192Z"
   },
   {
    "duration": 252,
    "start_time": "2021-12-11T13:40:37.197Z"
   },
   {
    "duration": 250,
    "start_time": "2021-12-11T13:40:37.200Z"
   },
   {
    "duration": 248,
    "start_time": "2021-12-11T13:40:37.203Z"
   },
   {
    "duration": 246,
    "start_time": "2021-12-11T13:40:37.206Z"
   },
   {
    "duration": 243,
    "start_time": "2021-12-11T13:40:37.210Z"
   },
   {
    "duration": 241,
    "start_time": "2021-12-11T13:40:37.213Z"
   },
   {
    "duration": 237,
    "start_time": "2021-12-11T13:40:37.217Z"
   },
   {
    "duration": 235,
    "start_time": "2021-12-11T13:40:37.220Z"
   },
   {
    "duration": 233,
    "start_time": "2021-12-11T13:40:37.223Z"
   },
   {
    "duration": 224,
    "start_time": "2021-12-11T13:40:37.233Z"
   },
   {
    "duration": 221,
    "start_time": "2021-12-11T13:40:37.237Z"
   },
   {
    "duration": 219,
    "start_time": "2021-12-11T13:40:37.240Z"
   },
   {
    "duration": 64,
    "start_time": "2021-12-11T13:40:47.800Z"
   },
   {
    "duration": 30,
    "start_time": "2021-12-11T13:40:47.865Z"
   },
   {
    "duration": 6,
    "start_time": "2021-12-11T13:40:47.896Z"
   },
   {
    "duration": 8,
    "start_time": "2021-12-11T13:40:47.904Z"
   },
   {
    "duration": 8,
    "start_time": "2021-12-11T13:40:47.914Z"
   },
   {
    "duration": 11,
    "start_time": "2021-12-11T13:40:47.923Z"
   },
   {
    "duration": 6,
    "start_time": "2021-12-11T13:40:47.963Z"
   },
   {
    "duration": 9,
    "start_time": "2021-12-11T13:40:47.971Z"
   },
   {
    "duration": 10,
    "start_time": "2021-12-11T13:40:47.981Z"
   },
   {
    "duration": 10,
    "start_time": "2021-12-11T13:40:47.992Z"
   },
   {
    "duration": 12,
    "start_time": "2021-12-11T13:40:48.003Z"
   },
   {
    "duration": 7,
    "start_time": "2021-12-11T13:40:48.016Z"
   },
   {
    "duration": 60,
    "start_time": "2021-12-11T13:40:48.025Z"
   },
   {
    "duration": 20,
    "start_time": "2021-12-11T13:40:48.087Z"
   },
   {
    "duration": 4,
    "start_time": "2021-12-11T13:40:48.109Z"
   },
   {
    "duration": 5,
    "start_time": "2021-12-11T13:40:48.114Z"
   },
   {
    "duration": 3879,
    "start_time": "2021-12-11T13:40:48.121Z"
   },
   {
    "duration": 9231,
    "start_time": "2021-12-11T13:40:52.001Z"
   },
   {
    "duration": 256,
    "start_time": "2021-12-11T13:41:00.978Z"
   },
   {
    "duration": 253,
    "start_time": "2021-12-11T13:41:00.982Z"
   },
   {
    "duration": 243,
    "start_time": "2021-12-11T13:41:00.993Z"
   },
   {
    "duration": 241,
    "start_time": "2021-12-11T13:41:00.996Z"
   },
   {
    "duration": 238,
    "start_time": "2021-12-11T13:41:01.000Z"
   },
   {
    "duration": 236,
    "start_time": "2021-12-11T13:41:01.003Z"
   },
   {
    "duration": 234,
    "start_time": "2021-12-11T13:41:01.006Z"
   },
   {
    "duration": 232,
    "start_time": "2021-12-11T13:41:01.009Z"
   },
   {
    "duration": 228,
    "start_time": "2021-12-11T13:41:01.013Z"
   },
   {
    "duration": 227,
    "start_time": "2021-12-11T13:41:01.016Z"
   },
   {
    "duration": 224,
    "start_time": "2021-12-11T13:41:01.020Z"
   },
   {
    "duration": 222,
    "start_time": "2021-12-11T13:41:01.023Z"
   },
   {
    "duration": 219,
    "start_time": "2021-12-11T13:41:01.026Z"
   },
   {
    "duration": 65,
    "start_time": "2021-12-11T13:41:10.393Z"
   },
   {
    "duration": 29,
    "start_time": "2021-12-11T13:41:10.459Z"
   },
   {
    "duration": 7,
    "start_time": "2021-12-11T13:41:10.490Z"
   },
   {
    "duration": 11,
    "start_time": "2021-12-11T13:41:10.499Z"
   },
   {
    "duration": 8,
    "start_time": "2021-12-11T13:41:10.511Z"
   },
   {
    "duration": 10,
    "start_time": "2021-12-11T13:41:10.520Z"
   },
   {
    "duration": 33,
    "start_time": "2021-12-11T13:41:10.531Z"
   },
   {
    "duration": 10,
    "start_time": "2021-12-11T13:41:10.566Z"
   },
   {
    "duration": 12,
    "start_time": "2021-12-11T13:41:10.577Z"
   },
   {
    "duration": 10,
    "start_time": "2021-12-11T13:41:10.590Z"
   },
   {
    "duration": 10,
    "start_time": "2021-12-11T13:41:10.602Z"
   },
   {
    "duration": 6,
    "start_time": "2021-12-11T13:41:10.614Z"
   },
   {
    "duration": 58,
    "start_time": "2021-12-11T13:41:10.621Z"
   },
   {
    "duration": 20,
    "start_time": "2021-12-11T13:41:10.680Z"
   },
   {
    "duration": 3,
    "start_time": "2021-12-11T13:41:10.702Z"
   },
   {
    "duration": 4,
    "start_time": "2021-12-11T13:41:10.707Z"
   },
   {
    "duration": 3733,
    "start_time": "2021-12-11T13:41:10.713Z"
   },
   {
    "duration": 11132,
    "start_time": "2021-12-11T13:41:14.448Z"
   },
   {
    "duration": 250,
    "start_time": "2021-12-11T13:41:25.332Z"
   },
   {
    "duration": 246,
    "start_time": "2021-12-11T13:41:25.337Z"
   },
   {
    "duration": 242,
    "start_time": "2021-12-11T13:41:25.342Z"
   },
   {
    "duration": 239,
    "start_time": "2021-12-11T13:41:25.345Z"
   },
   {
    "duration": 235,
    "start_time": "2021-12-11T13:41:25.350Z"
   },
   {
    "duration": 233,
    "start_time": "2021-12-11T13:41:25.353Z"
   },
   {
    "duration": 231,
    "start_time": "2021-12-11T13:41:25.356Z"
   },
   {
    "duration": 229,
    "start_time": "2021-12-11T13:41:25.359Z"
   },
   {
    "duration": 226,
    "start_time": "2021-12-11T13:41:25.362Z"
   },
   {
    "duration": 224,
    "start_time": "2021-12-11T13:41:25.365Z"
   },
   {
    "duration": 223,
    "start_time": "2021-12-11T13:41:25.368Z"
   },
   {
    "duration": 220,
    "start_time": "2021-12-11T13:41:25.371Z"
   },
   {
    "duration": 219,
    "start_time": "2021-12-11T13:41:25.374Z"
   },
   {
    "duration": 66,
    "start_time": "2021-12-11T20:34:04.446Z"
   },
   {
    "duration": 54,
    "start_time": "2021-12-11T20:34:04.514Z"
   },
   {
    "duration": 6,
    "start_time": "2021-12-11T20:34:04.570Z"
   },
   {
    "duration": 11,
    "start_time": "2021-12-11T20:34:04.578Z"
   },
   {
    "duration": 9,
    "start_time": "2021-12-11T20:34:04.590Z"
   },
   {
    "duration": 11,
    "start_time": "2021-12-11T20:34:04.601Z"
   },
   {
    "duration": 10,
    "start_time": "2021-12-11T20:34:04.613Z"
   },
   {
    "duration": 8,
    "start_time": "2021-12-11T20:34:04.625Z"
   },
   {
    "duration": 35,
    "start_time": "2021-12-11T20:34:04.635Z"
   },
   {
    "duration": 10,
    "start_time": "2021-12-11T20:34:04.672Z"
   },
   {
    "duration": 10,
    "start_time": "2021-12-11T20:34:04.683Z"
   },
   {
    "duration": 7,
    "start_time": "2021-12-11T20:34:04.695Z"
   },
   {
    "duration": 37,
    "start_time": "2021-12-11T20:34:04.703Z"
   },
   {
    "duration": 34,
    "start_time": "2021-12-11T20:34:04.741Z"
   },
   {
    "duration": 4,
    "start_time": "2021-12-11T20:34:04.776Z"
   },
   {
    "duration": 7,
    "start_time": "2021-12-11T20:34:04.781Z"
   },
   {
    "duration": 3783,
    "start_time": "2021-12-11T20:34:04.789Z"
   },
   {
    "duration": 11314,
    "start_time": "2021-12-11T20:34:08.573Z"
   },
   {
    "duration": -56,
    "start_time": "2021-12-11T20:34:19.945Z"
   },
   {
    "duration": -64,
    "start_time": "2021-12-11T20:34:19.954Z"
   },
   {
    "duration": -70,
    "start_time": "2021-12-11T20:34:19.961Z"
   },
   {
    "duration": -74,
    "start_time": "2021-12-11T20:34:19.966Z"
   },
   {
    "duration": -79,
    "start_time": "2021-12-11T20:34:19.972Z"
   },
   {
    "duration": -85,
    "start_time": "2021-12-11T20:34:19.979Z"
   },
   {
    "duration": -90,
    "start_time": "2021-12-11T20:34:19.984Z"
   },
   {
    "duration": -94,
    "start_time": "2021-12-11T20:34:19.989Z"
   },
   {
    "duration": -97,
    "start_time": "2021-12-11T20:34:19.993Z"
   },
   {
    "duration": -102,
    "start_time": "2021-12-11T20:34:19.999Z"
   },
   {
    "duration": -113,
    "start_time": "2021-12-11T20:34:20.010Z"
   },
   {
    "duration": -121,
    "start_time": "2021-12-11T20:34:20.019Z"
   },
   {
    "duration": -127,
    "start_time": "2021-12-11T20:34:20.026Z"
   },
   {
    "duration": 67,
    "start_time": "2021-12-11T20:38:20.302Z"
   },
   {
    "duration": 27,
    "start_time": "2021-12-11T20:38:20.370Z"
   },
   {
    "duration": 6,
    "start_time": "2021-12-11T20:38:20.399Z"
   },
   {
    "duration": 7,
    "start_time": "2021-12-11T20:38:20.407Z"
   },
   {
    "duration": 11,
    "start_time": "2021-12-11T20:38:20.415Z"
   },
   {
    "duration": 37,
    "start_time": "2021-12-11T20:38:20.428Z"
   },
   {
    "duration": 7,
    "start_time": "2021-12-11T20:38:20.467Z"
   },
   {
    "duration": 8,
    "start_time": "2021-12-11T20:38:20.477Z"
   },
   {
    "duration": 9,
    "start_time": "2021-12-11T20:38:20.486Z"
   },
   {
    "duration": 10,
    "start_time": "2021-12-11T20:38:20.497Z"
   },
   {
    "duration": 14,
    "start_time": "2021-12-11T20:38:20.508Z"
   },
   {
    "duration": 8,
    "start_time": "2021-12-11T20:38:20.523Z"
   },
   {
    "duration": 56,
    "start_time": "2021-12-11T20:38:20.533Z"
   },
   {
    "duration": 18,
    "start_time": "2021-12-11T20:38:20.592Z"
   },
   {
    "duration": 5,
    "start_time": "2021-12-11T20:38:20.611Z"
   },
   {
    "duration": 4,
    "start_time": "2021-12-11T20:38:20.618Z"
   },
   {
    "duration": 3930,
    "start_time": "2021-12-11T20:38:20.624Z"
   },
   {
    "duration": 2,
    "start_time": "2021-12-11T20:38:24.556Z"
   },
   {
    "duration": 3463,
    "start_time": "2021-12-11T20:38:24.559Z"
   },
   {
    "duration": 2,
    "start_time": "2021-12-11T20:38:28.023Z"
   },
   {
    "duration": 37,
    "start_time": "2021-12-11T20:38:28.027Z"
   },
   {
    "duration": 68,
    "start_time": "2021-12-11T20:38:28.065Z"
   },
   {
    "duration": 3496,
    "start_time": "2021-12-11T20:38:28.135Z"
   },
   {
    "duration": 41,
    "start_time": "2021-12-11T20:38:31.633Z"
   },
   {
    "duration": 28,
    "start_time": "2021-12-11T20:38:31.676Z"
   },
   {
    "duration": 20,
    "start_time": "2021-12-11T20:38:31.705Z"
   },
   {
    "duration": 37,
    "start_time": "2021-12-11T20:38:31.727Z"
   },
   {
    "duration": 14,
    "start_time": "2021-12-11T20:38:31.765Z"
   },
   {
    "duration": 11,
    "start_time": "2021-12-11T20:38:31.781Z"
   },
   {
    "duration": 21,
    "start_time": "2021-12-11T20:38:31.794Z"
   },
   {
    "duration": 49,
    "start_time": "2021-12-11T20:38:31.817Z"
   }
  ],
  "kernelspec": {
   "display_name": "Python 3 (ipykernel)",
   "language": "python",
   "name": "python3"
  },
  "language_info": {
   "codemirror_mode": {
    "name": "ipython",
    "version": 3
   },
   "file_extension": ".py",
   "mimetype": "text/x-python",
   "name": "python",
   "nbconvert_exporter": "python",
   "pygments_lexer": "ipython3",
   "version": "3.9.7"
  },
  "toc": {
   "base_numbering": 1,
   "nav_menu": {},
   "number_sections": true,
   "sideBar": true,
   "skip_h1_title": true,
   "title_cell": "Table of Contents",
   "title_sidebar": "Contents",
   "toc_cell": false,
   "toc_position": {
    "height": "calc(100% - 180px)",
    "left": "10px",
    "top": "150px",
    "width": "292px"
   },
   "toc_section_display": true,
   "toc_window_display": true
  }
 },
 "nbformat": 4,
 "nbformat_minor": 2
}
