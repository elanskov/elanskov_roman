{
 "cells": [
  {
   "cell_type": "markdown",
   "metadata": {},
   "source": [
    "# Описание проекта\n",
    "\n",
    "Вы аналитик компании «Мегалайн» — федерального оператора сотовой связи. Клиентам предлагают два тарифных плана: «Смарт» и «Ультра». Чтобы скорректировать рекламный бюджет, коммерческий департамент хочет понять, какой тариф приносит больше денег.\n",
    "\n",
    "\n",
    "Вам предстоит сделать предварительный анализ тарифов на небольшой выборке клиентов. В вашем распоряжении данные 500 пользователей «Мегалайна»: кто они, откуда, каким тарифом пользуются, сколько звонков и сообщений каждый отправил за 2018 год. Нужно проанализировать поведение клиентов и сделать вывод — какой тариф лучше."
   ]
  },
  {
   "cell_type": "markdown",
   "metadata": {},
   "source": [
    "## Описание тарифов:\n",
    "### Тариф «Смарт»\n",
    "1. Ежемесячная плата: 550 рублей\n",
    "2. Включено 500 минут разговора, 50 сообщений и 15 Гб интернет-трафика\n",
    "3. Стоимость услуг сверх тарифного пакета: \n",
    "- минута разговора: 3 рубля («Мегалайн» всегда округляет вверх значения минут и мегабайтов. Если пользователь проговорил всего 1 секунду, в тарифе засчитывается целая минута); \n",
    "- сообщение: 3 рубля; \n",
    "- 1 Гб интернет-трафика: 200 рублей."
   ]
  },
  {
   "cell_type": "markdown",
   "metadata": {},
   "source": [
    "### Тариф \"Ультра\"\n",
    "1. Ежемесячная плата: 1950 рублей\n",
    "2. Включено 3000 минут разговора, 1000 сообщений и 30 Гб интернет-трафика\n",
    "3. Стоимость услуг сверх тарифного пакета: \n",
    "- минута разговора: 1 рубль; \n",
    "- сообщение: 1 рубль; \n",
    "- 1 Гб интернет-трафика: 150 рублей.\n",
    "\n",
    "** Примечание:\n",
    "«Мегалайн» всегда округляет секунды до минут, а мегабайты — до гигабайт. Каждый звонок округляется отдельно: даже если он длился всего 1 секунду, будет засчитан как 1 минута.\n",
    "Для веб-трафика отдельные сессии не считаются. Вместо этого общая сумма за месяц округляется в бо́льшую сторону. Если абонент использует 1025 мегабайт в этом месяце, с него возьмут плату за 2 гигабайта. **"
   ]
  },
  {
   "cell_type": "markdown",
   "metadata": {},
   "source": [
    "### Описание данных\n",
    "Таблица users (информация о пользователях):\n",
    "- user_id — уникальный идентификатор пользователя\n",
    "- first_name — имя пользователя\n",
    "- last_name — фамилия пользователя\n",
    "- age — возраст пользователя (годы)\n",
    "- reg_date — дата подключения тарифа (день, месяц, год)\n",
    "- churn_date — дата прекращения пользования тарифом (если значение пропущено, то тариф ещё действовал на момент выгрузки данных)\n",
    "- city — город проживания пользователя\n",
    "- tarif — название тарифного плана\n",
    "\n",
    "\n",
    "Таблица calls (информация о звонках):\n",
    "- id — уникальный номер звонка\n",
    "- call_date — дата звонка\n",
    "- duration — длительность звонка в минутах\n",
    "- user_id — идентификатор пользователя, сделавшего звонок\n",
    "\n",
    "\n",
    "Таблица messages (информация о сообщениях):\n",
    "- id — уникальный номер сообщения\n",
    "- message_date — дата сообщения\n",
    "- user_id — идентификатор пользователя, отправившего сообщение\n",
    "\n",
    "\n",
    "Таблица internet (информация об интернет-сессиях):\n",
    "- id — уникальный номер сессии\n",
    "- mb_used — объём потраченного за сессию интернет-трафика (в мегабайтах)\n",
    "- session_date — дата интернет-сессии\n",
    "- user_id — идентификатор пользователя\n",
    "\n",
    "\n",
    "Таблица tariffs (информация о тарифах):\n",
    "- tariff_name — название тарифа\n",
    "- rub_monthly_fee — ежемесячная абонентская плата в рублях\n",
    "- minutes_included — количество минут разговора в месяц, включённых в абонентскую плату\n",
    "- messages_included — количество сообщений в месяц, включённых в абонентскую плату\n",
    "- mb_per_month_included — объём интернет-трафика, включённого в абонентскую плату (в мегабайтах)\n",
    "- rub_per_minute — стоимость минуты разговора сверх тарифного пакета (например, если в тарифе 100 минут разговора в месяц, то со 101 минуты будет взиматься плата)\n",
    "- rub_per_message — стоимость отправки сообщения сверх тарифного пакета\n",
    "- rub_per_gb — стоимость дополнительного гигабайта интернет-трафика сверх тарифного пакета (1 гигабайт = 1024 мегабайта)"
   ]
  },
  {
   "cell_type": "markdown",
   "metadata": {},
   "source": [
    "# Изучение данных и предоработка"
   ]
  },
  {
   "cell_type": "markdown",
   "metadata": {},
   "source": [
    "Проект по изучению данных мобильного оператра \"Мегалайн\". Импортируем библиотеки, импортируем датасеты, смотрим на полученные фреймы:"
   ]
  },
  {
   "cell_type": "code",
   "execution_count": 2,
   "metadata": {},
   "outputs": [],
   "source": [
    "import pandas as pd\n",
    "import numpy as np\n",
    "from scipy import stats as st\n",
    "import matplotlib.pyplot as plt"
   ]
  },
  {
   "cell_type": "code",
   "execution_count": 3,
   "metadata": {},
   "outputs": [],
   "source": [
    "calls = pd.read_csv('/datasets/calls.csv')\n",
    "internet = pd.read_csv('/datasets/internet.csv')\n",
    "messages = pd.read_csv('/datasets/messages.csv')\n",
    "tariffs = pd.read_csv('/datasets/tariffs.csv')\n",
    "users = pd.read_csv('/datasets/users.csv')"
   ]
  },
  {
   "cell_type": "markdown",
   "metadata": {},
   "source": [
    "Нужно проверить все данные, пропуски, дубликаты, форматы данных. Начнем по порядку, с данных по вызовам:"
   ]
  },
  {
   "cell_type": "code",
   "execution_count": 4,
   "metadata": {},
   "outputs": [
    {
     "name": "stdout",
     "output_type": "stream",
     "text": [
      "0\n",
      "<class 'pandas.core.frame.DataFrame'>\n",
      "RangeIndex: 202607 entries, 0 to 202606\n",
      "Data columns (total 4 columns):\n",
      "id           202607 non-null object\n",
      "call_date    202607 non-null object\n",
      "duration     202607 non-null float64\n",
      "user_id      202607 non-null int64\n",
      "dtypes: float64(1), int64(1), object(2)\n",
      "memory usage: 6.2+ MB\n",
      "None\n"
     ]
    },
    {
     "data": {
      "text/html": [
       "<div>\n",
       "<style scoped>\n",
       "    .dataframe tbody tr th:only-of-type {\n",
       "        vertical-align: middle;\n",
       "    }\n",
       "\n",
       "    .dataframe tbody tr th {\n",
       "        vertical-align: top;\n",
       "    }\n",
       "\n",
       "    .dataframe thead th {\n",
       "        text-align: right;\n",
       "    }\n",
       "</style>\n",
       "<table border=\"1\" class=\"dataframe\">\n",
       "  <thead>\n",
       "    <tr style=\"text-align: right;\">\n",
       "      <th></th>\n",
       "      <th>id</th>\n",
       "      <th>call_date</th>\n",
       "      <th>duration</th>\n",
       "      <th>user_id</th>\n",
       "    </tr>\n",
       "  </thead>\n",
       "  <tbody>\n",
       "    <tr>\n",
       "      <td>0</td>\n",
       "      <td>1000_0</td>\n",
       "      <td>2018-07-25</td>\n",
       "      <td>0.00</td>\n",
       "      <td>1000</td>\n",
       "    </tr>\n",
       "    <tr>\n",
       "      <td>1</td>\n",
       "      <td>1000_1</td>\n",
       "      <td>2018-08-17</td>\n",
       "      <td>0.00</td>\n",
       "      <td>1000</td>\n",
       "    </tr>\n",
       "    <tr>\n",
       "      <td>2</td>\n",
       "      <td>1000_2</td>\n",
       "      <td>2018-06-11</td>\n",
       "      <td>2.85</td>\n",
       "      <td>1000</td>\n",
       "    </tr>\n",
       "    <tr>\n",
       "      <td>3</td>\n",
       "      <td>1000_3</td>\n",
       "      <td>2018-09-21</td>\n",
       "      <td>13.80</td>\n",
       "      <td>1000</td>\n",
       "    </tr>\n",
       "    <tr>\n",
       "      <td>4</td>\n",
       "      <td>1000_4</td>\n",
       "      <td>2018-12-15</td>\n",
       "      <td>5.18</td>\n",
       "      <td>1000</td>\n",
       "    </tr>\n",
       "  </tbody>\n",
       "</table>\n",
       "</div>"
      ],
      "text/plain": [
       "       id   call_date  duration  user_id\n",
       "0  1000_0  2018-07-25      0.00     1000\n",
       "1  1000_1  2018-08-17      0.00     1000\n",
       "2  1000_2  2018-06-11      2.85     1000\n",
       "3  1000_3  2018-09-21     13.80     1000\n",
       "4  1000_4  2018-12-15      5.18     1000"
      ]
     },
     "execution_count": 4,
     "metadata": {},
     "output_type": "execute_result"
    }
   ],
   "source": [
    "# ищем дубликаты:\n",
    "print(calls.duplicated().sum())\n",
    "\n",
    "# ищем пропуски:\n",
    "print(calls.info())\n",
    "\n",
    "# смотрим на таблицу:\n",
    "calls.head()"
   ]
  },
  {
   "cell_type": "markdown",
   "metadata": {},
   "source": [
    "Пропусков и дубликатов нет, но необходимо перевести тип столбца call_date к datetime, а так же округлить минуты до целых значний:"
   ]
  },
  {
   "cell_type": "code",
   "execution_count": 5,
   "metadata": {},
   "outputs": [
    {
     "name": "stdout",
     "output_type": "stream",
     "text": [
      "<class 'pandas.core.frame.DataFrame'>\n",
      "RangeIndex: 202607 entries, 0 to 202606\n",
      "Data columns (total 4 columns):\n",
      "id           202607 non-null object\n",
      "call_date    202607 non-null datetime64[ns]\n",
      "duration     202607 non-null int64\n",
      "user_id      202607 non-null int64\n",
      "dtypes: datetime64[ns](1), int64(2), object(1)\n",
      "memory usage: 6.2+ MB\n"
     ]
    }
   ],
   "source": [
    "# меняем формат даты:\n",
    "calls['call_date'] = pd.to_datetime(calls['call_date'], format='%Y-%m-%d')\n",
    "\n",
    "# округляем минуты:\n",
    "calls['duration'] = np.ceil(calls['duration']).astype('int')\n",
    "calls.info()"
   ]
  },
  {
   "cell_type": "markdown",
   "metadata": {},
   "source": [
    "Следующий набор данных про интернет:"
   ]
  },
  {
   "cell_type": "code",
   "execution_count": 6,
   "metadata": {},
   "outputs": [
    {
     "name": "stdout",
     "output_type": "stream",
     "text": [
      "0\n",
      "<class 'pandas.core.frame.DataFrame'>\n",
      "RangeIndex: 149396 entries, 0 to 149395\n",
      "Data columns (total 5 columns):\n",
      "Unnamed: 0      149396 non-null int64\n",
      "id              149396 non-null object\n",
      "mb_used         149396 non-null float64\n",
      "session_date    149396 non-null object\n",
      "user_id         149396 non-null int64\n",
      "dtypes: float64(1), int64(2), object(2)\n",
      "memory usage: 5.7+ MB\n",
      "None\n"
     ]
    },
    {
     "data": {
      "text/html": [
       "<div>\n",
       "<style scoped>\n",
       "    .dataframe tbody tr th:only-of-type {\n",
       "        vertical-align: middle;\n",
       "    }\n",
       "\n",
       "    .dataframe tbody tr th {\n",
       "        vertical-align: top;\n",
       "    }\n",
       "\n",
       "    .dataframe thead th {\n",
       "        text-align: right;\n",
       "    }\n",
       "</style>\n",
       "<table border=\"1\" class=\"dataframe\">\n",
       "  <thead>\n",
       "    <tr style=\"text-align: right;\">\n",
       "      <th></th>\n",
       "      <th>Unnamed: 0</th>\n",
       "      <th>id</th>\n",
       "      <th>mb_used</th>\n",
       "      <th>session_date</th>\n",
       "      <th>user_id</th>\n",
       "    </tr>\n",
       "  </thead>\n",
       "  <tbody>\n",
       "    <tr>\n",
       "      <td>0</td>\n",
       "      <td>0</td>\n",
       "      <td>1000_0</td>\n",
       "      <td>112.95</td>\n",
       "      <td>2018-11-25</td>\n",
       "      <td>1000</td>\n",
       "    </tr>\n",
       "    <tr>\n",
       "      <td>1</td>\n",
       "      <td>1</td>\n",
       "      <td>1000_1</td>\n",
       "      <td>1052.81</td>\n",
       "      <td>2018-09-07</td>\n",
       "      <td>1000</td>\n",
       "    </tr>\n",
       "    <tr>\n",
       "      <td>2</td>\n",
       "      <td>2</td>\n",
       "      <td>1000_2</td>\n",
       "      <td>1197.26</td>\n",
       "      <td>2018-06-25</td>\n",
       "      <td>1000</td>\n",
       "    </tr>\n",
       "    <tr>\n",
       "      <td>3</td>\n",
       "      <td>3</td>\n",
       "      <td>1000_3</td>\n",
       "      <td>550.27</td>\n",
       "      <td>2018-08-22</td>\n",
       "      <td>1000</td>\n",
       "    </tr>\n",
       "    <tr>\n",
       "      <td>4</td>\n",
       "      <td>4</td>\n",
       "      <td>1000_4</td>\n",
       "      <td>302.56</td>\n",
       "      <td>2018-09-24</td>\n",
       "      <td>1000</td>\n",
       "    </tr>\n",
       "  </tbody>\n",
       "</table>\n",
       "</div>"
      ],
      "text/plain": [
       "   Unnamed: 0      id  mb_used session_date  user_id\n",
       "0           0  1000_0   112.95   2018-11-25     1000\n",
       "1           1  1000_1  1052.81   2018-09-07     1000\n",
       "2           2  1000_2  1197.26   2018-06-25     1000\n",
       "3           3  1000_3   550.27   2018-08-22     1000\n",
       "4           4  1000_4   302.56   2018-09-24     1000"
      ]
     },
     "execution_count": 6,
     "metadata": {},
     "output_type": "execute_result"
    }
   ],
   "source": [
    "# ищем дубликаты:\n",
    "print(internet.duplicated().sum())\n",
    "\n",
    "# ищем пропуски:\n",
    "print(internet.info())\n",
    "\n",
    "# смотрим на таблицу:\n",
    "internet.head()"
   ]
  },
  {
   "cell_type": "markdown",
   "metadata": {},
   "source": [
    "Дубликатов и пропусков нет. Но снова нужно привести солбец session_date к datetime. Так же есть странный столбец Unnamed: 0. Судя по первым пяти строкам таблицы - это дубликация индекса."
   ]
  },
  {
   "cell_type": "code",
   "execution_count": 7,
   "metadata": {},
   "outputs": [
    {
     "name": "stdout",
     "output_type": "stream",
     "text": [
      "149396\n"
     ]
    },
    {
     "data": {
      "text/html": [
       "<div>\n",
       "<style scoped>\n",
       "    .dataframe tbody tr th:only-of-type {\n",
       "        vertical-align: middle;\n",
       "    }\n",
       "\n",
       "    .dataframe tbody tr th {\n",
       "        vertical-align: top;\n",
       "    }\n",
       "\n",
       "    .dataframe thead th {\n",
       "        text-align: right;\n",
       "    }\n",
       "</style>\n",
       "<table border=\"1\" class=\"dataframe\">\n",
       "  <thead>\n",
       "    <tr style=\"text-align: right;\">\n",
       "      <th></th>\n",
       "      <th>Unnamed</th>\n",
       "      <th>id</th>\n",
       "      <th>mb_used</th>\n",
       "      <th>session_date</th>\n",
       "      <th>user_id</th>\n",
       "    </tr>\n",
       "  </thead>\n",
       "  <tbody>\n",
       "    <tr>\n",
       "      <td>0</td>\n",
       "      <td>0</td>\n",
       "      <td>1000_0</td>\n",
       "      <td>112.95</td>\n",
       "      <td>2018-11-25</td>\n",
       "      <td>1000</td>\n",
       "    </tr>\n",
       "    <tr>\n",
       "      <td>1</td>\n",
       "      <td>1</td>\n",
       "      <td>1000_1</td>\n",
       "      <td>1052.81</td>\n",
       "      <td>2018-09-07</td>\n",
       "      <td>1000</td>\n",
       "    </tr>\n",
       "    <tr>\n",
       "      <td>2</td>\n",
       "      <td>2</td>\n",
       "      <td>1000_2</td>\n",
       "      <td>1197.26</td>\n",
       "      <td>2018-06-25</td>\n",
       "      <td>1000</td>\n",
       "    </tr>\n",
       "    <tr>\n",
       "      <td>3</td>\n",
       "      <td>3</td>\n",
       "      <td>1000_3</td>\n",
       "      <td>550.27</td>\n",
       "      <td>2018-08-22</td>\n",
       "      <td>1000</td>\n",
       "    </tr>\n",
       "    <tr>\n",
       "      <td>4</td>\n",
       "      <td>4</td>\n",
       "      <td>1000_4</td>\n",
       "      <td>302.56</td>\n",
       "      <td>2018-09-24</td>\n",
       "      <td>1000</td>\n",
       "    </tr>\n",
       "  </tbody>\n",
       "</table>\n",
       "</div>"
      ],
      "text/plain": [
       "   Unnamed      id  mb_used session_date  user_id\n",
       "0        0  1000_0   112.95   2018-11-25     1000\n",
       "1        1  1000_1  1052.81   2018-09-07     1000\n",
       "2        2  1000_2  1197.26   2018-06-25     1000\n",
       "3        3  1000_3   550.27   2018-08-22     1000\n",
       "4        4  1000_4   302.56   2018-09-24     1000"
      ]
     },
     "execution_count": 7,
     "metadata": {},
     "output_type": "execute_result"
    }
   ],
   "source": [
    "# приводим нужный формат даты:\n",
    "internet['session_date'] = pd.to_datetime(internet['session_date'], format='%Y-%m-%d')\n",
    "\n",
    "# поверяем странный столбец:\n",
    "internet.columns = ['Unnamed', 'id', 'mb_used', 'session_date', 'user_id']\n",
    "print(len(internet['Unnamed'].unique()))\n",
    "\n",
    "internet.head()\n"
   ]
  },
  {
   "cell_type": "markdown",
   "metadata": {},
   "source": [
    "Тип даты изменили. Подозрительная колонка действительно дублирует индексы, так как количство уникальных значений соответствует количеству строк. Она нам не нужна, думаю стоит её удалить."
   ]
  },
  {
   "cell_type": "code",
   "execution_count": 8,
   "metadata": {},
   "outputs": [
    {
     "name": "stdout",
     "output_type": "stream",
     "text": [
      "<class 'pandas.core.frame.DataFrame'>\n",
      "RangeIndex: 149396 entries, 0 to 149395\n",
      "Data columns (total 4 columns):\n",
      "id              149396 non-null object\n",
      "mb_used         149396 non-null float64\n",
      "session_date    149396 non-null datetime64[ns]\n",
      "user_id         149396 non-null int64\n",
      "dtypes: datetime64[ns](1), float64(1), int64(1), object(1)\n",
      "memory usage: 4.6+ MB\n"
     ]
    }
   ],
   "source": [
    "internet = internet.drop('Unnamed', 1)\n",
    "internet.info()"
   ]
  },
  {
   "cell_type": "markdown",
   "metadata": {},
   "source": [
    "Изучим данные с сообщениями - messages:"
   ]
  },
  {
   "cell_type": "code",
   "execution_count": 9,
   "metadata": {},
   "outputs": [
    {
     "name": "stdout",
     "output_type": "stream",
     "text": [
      "0\n",
      "<class 'pandas.core.frame.DataFrame'>\n",
      "RangeIndex: 123036 entries, 0 to 123035\n",
      "Data columns (total 3 columns):\n",
      "id              123036 non-null object\n",
      "message_date    123036 non-null object\n",
      "user_id         123036 non-null int64\n",
      "dtypes: int64(1), object(2)\n",
      "memory usage: 2.8+ MB\n",
      "None\n"
     ]
    },
    {
     "data": {
      "text/html": [
       "<div>\n",
       "<style scoped>\n",
       "    .dataframe tbody tr th:only-of-type {\n",
       "        vertical-align: middle;\n",
       "    }\n",
       "\n",
       "    .dataframe tbody tr th {\n",
       "        vertical-align: top;\n",
       "    }\n",
       "\n",
       "    .dataframe thead th {\n",
       "        text-align: right;\n",
       "    }\n",
       "</style>\n",
       "<table border=\"1\" class=\"dataframe\">\n",
       "  <thead>\n",
       "    <tr style=\"text-align: right;\">\n",
       "      <th></th>\n",
       "      <th>id</th>\n",
       "      <th>message_date</th>\n",
       "      <th>user_id</th>\n",
       "    </tr>\n",
       "  </thead>\n",
       "  <tbody>\n",
       "    <tr>\n",
       "      <td>0</td>\n",
       "      <td>1000_0</td>\n",
       "      <td>2018-06-27</td>\n",
       "      <td>1000</td>\n",
       "    </tr>\n",
       "    <tr>\n",
       "      <td>1</td>\n",
       "      <td>1000_1</td>\n",
       "      <td>2018-10-08</td>\n",
       "      <td>1000</td>\n",
       "    </tr>\n",
       "    <tr>\n",
       "      <td>2</td>\n",
       "      <td>1000_2</td>\n",
       "      <td>2018-08-04</td>\n",
       "      <td>1000</td>\n",
       "    </tr>\n",
       "    <tr>\n",
       "      <td>3</td>\n",
       "      <td>1000_3</td>\n",
       "      <td>2018-06-16</td>\n",
       "      <td>1000</td>\n",
       "    </tr>\n",
       "    <tr>\n",
       "      <td>4</td>\n",
       "      <td>1000_4</td>\n",
       "      <td>2018-12-05</td>\n",
       "      <td>1000</td>\n",
       "    </tr>\n",
       "  </tbody>\n",
       "</table>\n",
       "</div>"
      ],
      "text/plain": [
       "       id message_date  user_id\n",
       "0  1000_0   2018-06-27     1000\n",
       "1  1000_1   2018-10-08     1000\n",
       "2  1000_2   2018-08-04     1000\n",
       "3  1000_3   2018-06-16     1000\n",
       "4  1000_4   2018-12-05     1000"
      ]
     },
     "execution_count": 9,
     "metadata": {},
     "output_type": "execute_result"
    }
   ],
   "source": [
    "# ищем дубликаты:\n",
    "print(messages.duplicated().sum())\n",
    "\n",
    "# ищем пропуски:\n",
    "print(messages.info())\n",
    "\n",
    "# смотрим на таблицу:\n",
    "messages.head()"
   ]
  },
  {
   "cell_type": "markdown",
   "metadata": {},
   "source": [
    "Дублкатов и пропусков нет. Но снова нужно помеять формат даты:"
   ]
  },
  {
   "cell_type": "code",
   "execution_count": 10,
   "metadata": {},
   "outputs": [
    {
     "name": "stdout",
     "output_type": "stream",
     "text": [
      "<class 'pandas.core.frame.DataFrame'>\n",
      "RangeIndex: 123036 entries, 0 to 123035\n",
      "Data columns (total 3 columns):\n",
      "id              123036 non-null object\n",
      "message_date    123036 non-null datetime64[ns]\n",
      "user_id         123036 non-null int64\n",
      "dtypes: datetime64[ns](1), int64(1), object(1)\n",
      "memory usage: 2.8+ MB\n"
     ]
    }
   ],
   "source": [
    "messages['message_date'] = pd.to_datetime(messages['message_date'], format='%Y-%m-%d')\n",
    "messages.info()"
   ]
  },
  {
   "cell_type": "markdown",
   "metadata": {},
   "source": [
    "Проверяем набор данных с данными о тарифах - tariffs:"
   ]
  },
  {
   "cell_type": "code",
   "execution_count": 11,
   "metadata": {},
   "outputs": [
    {
     "name": "stdout",
     "output_type": "stream",
     "text": [
      "0\n",
      "<class 'pandas.core.frame.DataFrame'>\n",
      "RangeIndex: 2 entries, 0 to 1\n",
      "Data columns (total 8 columns):\n",
      "messages_included        2 non-null int64\n",
      "mb_per_month_included    2 non-null int64\n",
      "minutes_included         2 non-null int64\n",
      "rub_monthly_fee          2 non-null int64\n",
      "rub_per_gb               2 non-null int64\n",
      "rub_per_message          2 non-null int64\n",
      "rub_per_minute           2 non-null int64\n",
      "tariff_name              2 non-null object\n",
      "dtypes: int64(7), object(1)\n",
      "memory usage: 256.0+ bytes\n",
      "None\n"
     ]
    },
    {
     "data": {
      "text/html": [
       "<div>\n",
       "<style scoped>\n",
       "    .dataframe tbody tr th:only-of-type {\n",
       "        vertical-align: middle;\n",
       "    }\n",
       "\n",
       "    .dataframe tbody tr th {\n",
       "        vertical-align: top;\n",
       "    }\n",
       "\n",
       "    .dataframe thead th {\n",
       "        text-align: right;\n",
       "    }\n",
       "</style>\n",
       "<table border=\"1\" class=\"dataframe\">\n",
       "  <thead>\n",
       "    <tr style=\"text-align: right;\">\n",
       "      <th></th>\n",
       "      <th>messages_included</th>\n",
       "      <th>mb_per_month_included</th>\n",
       "      <th>minutes_included</th>\n",
       "      <th>rub_monthly_fee</th>\n",
       "      <th>rub_per_gb</th>\n",
       "      <th>rub_per_message</th>\n",
       "      <th>rub_per_minute</th>\n",
       "      <th>tariff_name</th>\n",
       "    </tr>\n",
       "  </thead>\n",
       "  <tbody>\n",
       "    <tr>\n",
       "      <td>0</td>\n",
       "      <td>50</td>\n",
       "      <td>15360</td>\n",
       "      <td>500</td>\n",
       "      <td>550</td>\n",
       "      <td>200</td>\n",
       "      <td>3</td>\n",
       "      <td>3</td>\n",
       "      <td>smart</td>\n",
       "    </tr>\n",
       "    <tr>\n",
       "      <td>1</td>\n",
       "      <td>1000</td>\n",
       "      <td>30720</td>\n",
       "      <td>3000</td>\n",
       "      <td>1950</td>\n",
       "      <td>150</td>\n",
       "      <td>1</td>\n",
       "      <td>1</td>\n",
       "      <td>ultra</td>\n",
       "    </tr>\n",
       "  </tbody>\n",
       "</table>\n",
       "</div>"
      ],
      "text/plain": [
       "   messages_included  mb_per_month_included  minutes_included  \\\n",
       "0                 50                  15360               500   \n",
       "1               1000                  30720              3000   \n",
       "\n",
       "   rub_monthly_fee  rub_per_gb  rub_per_message  rub_per_minute tariff_name  \n",
       "0              550         200                3               3       smart  \n",
       "1             1950         150                1               1       ultra  "
      ]
     },
     "execution_count": 11,
     "metadata": {},
     "output_type": "execute_result"
    }
   ],
   "source": [
    "# ищем дубликаты:\n",
    "print(tariffs.duplicated().sum())\n",
    "\n",
    "# ищем пропуски:\n",
    "print(tariffs.info())\n",
    "\n",
    "# смотрим на таблицу:\n",
    "tariffs.head()"
   ]
  },
  {
   "cell_type": "markdown",
   "metadata": {},
   "source": [
    "Все в порядке. Смотрим на данные о пользователях - users:"
   ]
  },
  {
   "cell_type": "code",
   "execution_count": 12,
   "metadata": {},
   "outputs": [
    {
     "name": "stdout",
     "output_type": "stream",
     "text": [
      "0\n",
      "<class 'pandas.core.frame.DataFrame'>\n",
      "RangeIndex: 500 entries, 0 to 499\n",
      "Data columns (total 8 columns):\n",
      "user_id       500 non-null int64\n",
      "age           500 non-null int64\n",
      "churn_date    38 non-null object\n",
      "city          500 non-null object\n",
      "first_name    500 non-null object\n",
      "last_name     500 non-null object\n",
      "reg_date      500 non-null object\n",
      "tariff        500 non-null object\n",
      "dtypes: int64(2), object(6)\n",
      "memory usage: 31.4+ KB\n",
      "None\n"
     ]
    },
    {
     "data": {
      "text/html": [
       "<div>\n",
       "<style scoped>\n",
       "    .dataframe tbody tr th:only-of-type {\n",
       "        vertical-align: middle;\n",
       "    }\n",
       "\n",
       "    .dataframe tbody tr th {\n",
       "        vertical-align: top;\n",
       "    }\n",
       "\n",
       "    .dataframe thead th {\n",
       "        text-align: right;\n",
       "    }\n",
       "</style>\n",
       "<table border=\"1\" class=\"dataframe\">\n",
       "  <thead>\n",
       "    <tr style=\"text-align: right;\">\n",
       "      <th></th>\n",
       "      <th>user_id</th>\n",
       "      <th>age</th>\n",
       "      <th>churn_date</th>\n",
       "      <th>city</th>\n",
       "      <th>first_name</th>\n",
       "      <th>last_name</th>\n",
       "      <th>reg_date</th>\n",
       "      <th>tariff</th>\n",
       "    </tr>\n",
       "  </thead>\n",
       "  <tbody>\n",
       "    <tr>\n",
       "      <td>0</td>\n",
       "      <td>1000</td>\n",
       "      <td>52</td>\n",
       "      <td>NaN</td>\n",
       "      <td>Краснодар</td>\n",
       "      <td>Рафаил</td>\n",
       "      <td>Верещагин</td>\n",
       "      <td>2018-05-25</td>\n",
       "      <td>ultra</td>\n",
       "    </tr>\n",
       "    <tr>\n",
       "      <td>1</td>\n",
       "      <td>1001</td>\n",
       "      <td>41</td>\n",
       "      <td>NaN</td>\n",
       "      <td>Москва</td>\n",
       "      <td>Иван</td>\n",
       "      <td>Ежов</td>\n",
       "      <td>2018-11-01</td>\n",
       "      <td>smart</td>\n",
       "    </tr>\n",
       "    <tr>\n",
       "      <td>2</td>\n",
       "      <td>1002</td>\n",
       "      <td>59</td>\n",
       "      <td>NaN</td>\n",
       "      <td>Стерлитамак</td>\n",
       "      <td>Евгений</td>\n",
       "      <td>Абрамович</td>\n",
       "      <td>2018-06-17</td>\n",
       "      <td>smart</td>\n",
       "    </tr>\n",
       "    <tr>\n",
       "      <td>3</td>\n",
       "      <td>1003</td>\n",
       "      <td>23</td>\n",
       "      <td>NaN</td>\n",
       "      <td>Москва</td>\n",
       "      <td>Белла</td>\n",
       "      <td>Белякова</td>\n",
       "      <td>2018-08-17</td>\n",
       "      <td>ultra</td>\n",
       "    </tr>\n",
       "    <tr>\n",
       "      <td>4</td>\n",
       "      <td>1004</td>\n",
       "      <td>68</td>\n",
       "      <td>NaN</td>\n",
       "      <td>Новокузнецк</td>\n",
       "      <td>Татьяна</td>\n",
       "      <td>Авдеенко</td>\n",
       "      <td>2018-05-14</td>\n",
       "      <td>ultra</td>\n",
       "    </tr>\n",
       "  </tbody>\n",
       "</table>\n",
       "</div>"
      ],
      "text/plain": [
       "   user_id  age churn_date         city first_name  last_name    reg_date  \\\n",
       "0     1000   52        NaN    Краснодар     Рафаил  Верещагин  2018-05-25   \n",
       "1     1001   41        NaN       Москва       Иван       Ежов  2018-11-01   \n",
       "2     1002   59        NaN  Стерлитамак    Евгений  Абрамович  2018-06-17   \n",
       "3     1003   23        NaN       Москва      Белла   Белякова  2018-08-17   \n",
       "4     1004   68        NaN  Новокузнецк    Татьяна   Авдеенко  2018-05-14   \n",
       "\n",
       "  tariff  \n",
       "0  ultra  \n",
       "1  smart  \n",
       "2  smart  \n",
       "3  ultra  \n",
       "4  ultra  "
      ]
     },
     "execution_count": 12,
     "metadata": {},
     "output_type": "execute_result"
    }
   ],
   "source": [
    "# ищем дубликаты:\n",
    "print(users.duplicated().sum())\n",
    "\n",
    "# ищем пропуски:\n",
    "print(users.info())\n",
    "\n",
    "# смотрим на таблицу:\n",
    "users.head()"
   ]
  },
  {
   "cell_type": "markdown",
   "metadata": {},
   "source": [
    "Дубликатов нет, есть пропуски в строке churn_date. В описании к данным это указывает на то, что абонент еще пользуется тарифом,  пропущеные значения не трогаем."
   ]
  },
  {
   "cell_type": "markdown",
   "metadata": {},
   "source": [
    "## Подсчет данных по месяцам"
   ]
  },
  {
   "cell_type": "markdown",
   "metadata": {},
   "source": [
    "Необходимо посчитать для каждого пользователя:\n",
    "- количество сделанных звонков и израсходованных минут разговора по месяцам;\n",
    "- количество отправленных сообщений по месяцам;\n",
    "- объем израсходованного интернет-трафика по месяцам;\n",
    "- помесячную выручку с каждого пользователя (вычтите бесплатный лимит из суммарного количества звонков, сообщений и интернет-трафика; остаток умножьте на значение из тарифного плана; прибавьте абонентскую плату, соответствующую тарифному плану).\n",
    "\n",
    "Добавим в каждый из набор данных столбец с месяцем. Потом создадим один датафрейм с необходимыми данными. "
   ]
  },
  {
   "cell_type": "code",
   "execution_count": 13,
   "metadata": {},
   "outputs": [],
   "source": [
    "# Создадим столбцы с номером месяца:\n",
    "calls['month'] = calls['call_date'].dt.month\n",
    "messages['month'] = messages['message_date'].dt.month\n",
    "internet['month'] = internet['session_date'].dt.month\n"
   ]
  },
  {
   "cell_type": "code",
   "execution_count": 14,
   "metadata": {},
   "outputs": [],
   "source": [
    "# сгруппируем и посчитаем данные по пользователю и месяцу:\n",
    "num_of_calls = calls.groupby(['user_id', 'month'])['duration'].agg(['count', 'sum'])\n",
    "num_of_messages = messages.groupby(['user_id', 'month'])['id'].count()\n",
    "num_of_internet = internet.groupby(['user_id', 'month']).sum()['mb_used']"
   ]
  },
  {
   "cell_type": "code",
   "execution_count": 15,
   "metadata": {},
   "outputs": [
    {
     "data": {
      "text/html": [
       "<div>\n",
       "<style scoped>\n",
       "    .dataframe tbody tr th:only-of-type {\n",
       "        vertical-align: middle;\n",
       "    }\n",
       "\n",
       "    .dataframe tbody tr th {\n",
       "        vertical-align: top;\n",
       "    }\n",
       "\n",
       "    .dataframe thead th {\n",
       "        text-align: right;\n",
       "    }\n",
       "</style>\n",
       "<table border=\"1\" class=\"dataframe\">\n",
       "  <thead>\n",
       "    <tr style=\"text-align: right;\">\n",
       "      <th></th>\n",
       "      <th>user_id</th>\n",
       "      <th>month</th>\n",
       "      <th>count_calls</th>\n",
       "      <th>sum_calls</th>\n",
       "      <th>count_messages</th>\n",
       "      <th>sum_mb_used</th>\n",
       "    </tr>\n",
       "  </thead>\n",
       "  <tbody>\n",
       "    <tr>\n",
       "      <td>0</td>\n",
       "      <td>1000</td>\n",
       "      <td>5</td>\n",
       "      <td>22.0</td>\n",
       "      <td>159.0</td>\n",
       "      <td>22.0</td>\n",
       "      <td>2253.49</td>\n",
       "    </tr>\n",
       "    <tr>\n",
       "      <td>1</td>\n",
       "      <td>1000</td>\n",
       "      <td>6</td>\n",
       "      <td>43.0</td>\n",
       "      <td>172.0</td>\n",
       "      <td>60.0</td>\n",
       "      <td>23233.77</td>\n",
       "    </tr>\n",
       "    <tr>\n",
       "      <td>2</td>\n",
       "      <td>1000</td>\n",
       "      <td>7</td>\n",
       "      <td>47.0</td>\n",
       "      <td>340.0</td>\n",
       "      <td>75.0</td>\n",
       "      <td>14003.64</td>\n",
       "    </tr>\n",
       "    <tr>\n",
       "      <td>3</td>\n",
       "      <td>1000</td>\n",
       "      <td>8</td>\n",
       "      <td>52.0</td>\n",
       "      <td>408.0</td>\n",
       "      <td>81.0</td>\n",
       "      <td>14055.93</td>\n",
       "    </tr>\n",
       "    <tr>\n",
       "      <td>4</td>\n",
       "      <td>1000</td>\n",
       "      <td>9</td>\n",
       "      <td>58.0</td>\n",
       "      <td>466.0</td>\n",
       "      <td>57.0</td>\n",
       "      <td>14568.91</td>\n",
       "    </tr>\n",
       "  </tbody>\n",
       "</table>\n",
       "</div>"
      ],
      "text/plain": [
       "   user_id  month  count_calls  sum_calls  count_messages  sum_mb_used\n",
       "0     1000      5         22.0      159.0            22.0      2253.49\n",
       "1     1000      6         43.0      172.0            60.0     23233.77\n",
       "2     1000      7         47.0      340.0            75.0     14003.64\n",
       "3     1000      8         52.0      408.0            81.0     14055.93\n",
       "4     1000      9         58.0      466.0            57.0     14568.91"
      ]
     },
     "execution_count": 15,
     "metadata": {},
     "output_type": "execute_result"
    }
   ],
   "source": [
    "# создадим общий датафрейм:\n",
    "df = num_of_calls.join([num_of_messages, num_of_internet], how='outer')\n",
    "df = df.reset_index()\n",
    "df.columns = ['user_id', 'month', 'count_calls', 'sum_calls', 'count_messages', 'sum_mb_used']\n",
    "df.head()"
   ]
  },
  {
   "cell_type": "markdown",
   "metadata": {},
   "source": [
    "Нужно преобразовать мегабайты в гигабайты и округлить в бОльшую сторону, так как оператор округляет гигабайты именно в бОльшую сторону:"
   ]
  },
  {
   "cell_type": "code",
   "execution_count": 16,
   "metadata": {},
   "outputs": [
    {
     "data": {
      "text/html": [
       "<div>\n",
       "<style scoped>\n",
       "    .dataframe tbody tr th:only-of-type {\n",
       "        vertical-align: middle;\n",
       "    }\n",
       "\n",
       "    .dataframe tbody tr th {\n",
       "        vertical-align: top;\n",
       "    }\n",
       "\n",
       "    .dataframe thead th {\n",
       "        text-align: right;\n",
       "    }\n",
       "</style>\n",
       "<table border=\"1\" class=\"dataframe\">\n",
       "  <thead>\n",
       "    <tr style=\"text-align: right;\">\n",
       "      <th></th>\n",
       "      <th>user_id</th>\n",
       "      <th>month</th>\n",
       "      <th>count_calls</th>\n",
       "      <th>sum_calls</th>\n",
       "      <th>count_messages</th>\n",
       "      <th>sum_gb_used</th>\n",
       "    </tr>\n",
       "  </thead>\n",
       "  <tbody>\n",
       "    <tr>\n",
       "      <td>0</td>\n",
       "      <td>1000</td>\n",
       "      <td>5</td>\n",
       "      <td>22.0</td>\n",
       "      <td>159.0</td>\n",
       "      <td>22.0</td>\n",
       "      <td>3.0</td>\n",
       "    </tr>\n",
       "    <tr>\n",
       "      <td>1</td>\n",
       "      <td>1000</td>\n",
       "      <td>6</td>\n",
       "      <td>43.0</td>\n",
       "      <td>172.0</td>\n",
       "      <td>60.0</td>\n",
       "      <td>23.0</td>\n",
       "    </tr>\n",
       "    <tr>\n",
       "      <td>2</td>\n",
       "      <td>1000</td>\n",
       "      <td>7</td>\n",
       "      <td>47.0</td>\n",
       "      <td>340.0</td>\n",
       "      <td>75.0</td>\n",
       "      <td>14.0</td>\n",
       "    </tr>\n",
       "    <tr>\n",
       "      <td>3</td>\n",
       "      <td>1000</td>\n",
       "      <td>8</td>\n",
       "      <td>52.0</td>\n",
       "      <td>408.0</td>\n",
       "      <td>81.0</td>\n",
       "      <td>14.0</td>\n",
       "    </tr>\n",
       "    <tr>\n",
       "      <td>4</td>\n",
       "      <td>1000</td>\n",
       "      <td>9</td>\n",
       "      <td>58.0</td>\n",
       "      <td>466.0</td>\n",
       "      <td>57.0</td>\n",
       "      <td>15.0</td>\n",
       "    </tr>\n",
       "  </tbody>\n",
       "</table>\n",
       "</div>"
      ],
      "text/plain": [
       "   user_id  month  count_calls  sum_calls  count_messages  sum_gb_used\n",
       "0     1000      5         22.0      159.0            22.0          3.0\n",
       "1     1000      6         43.0      172.0            60.0         23.0\n",
       "2     1000      7         47.0      340.0            75.0         14.0\n",
       "3     1000      8         52.0      408.0            81.0         14.0\n",
       "4     1000      9         58.0      466.0            57.0         15.0"
      ]
     },
     "execution_count": 16,
     "metadata": {},
     "output_type": "execute_result"
    }
   ],
   "source": [
    "df['sum_mb_used'] = df['sum_mb_used']/1024\n",
    "df['sum_mb_used'] = np.ceil(df['sum_mb_used'])\n",
    "df = df.rename(columns={'sum_mb_used':'sum_gb_used'})\n",
    "df.head()"
   ]
  },
  {
   "cell_type": "markdown",
   "metadata": {},
   "source": [
    "Добавим тариф к нашей таблице"
   ]
  },
  {
   "cell_type": "code",
   "execution_count": 17,
   "metadata": {},
   "outputs": [
    {
     "data": {
      "text/html": [
       "<div>\n",
       "<style scoped>\n",
       "    .dataframe tbody tr th:only-of-type {\n",
       "        vertical-align: middle;\n",
       "    }\n",
       "\n",
       "    .dataframe tbody tr th {\n",
       "        vertical-align: top;\n",
       "    }\n",
       "\n",
       "    .dataframe thead th {\n",
       "        text-align: right;\n",
       "    }\n",
       "</style>\n",
       "<table border=\"1\" class=\"dataframe\">\n",
       "  <thead>\n",
       "    <tr style=\"text-align: right;\">\n",
       "      <th></th>\n",
       "      <th>user_id</th>\n",
       "      <th>month</th>\n",
       "      <th>count_calls</th>\n",
       "      <th>sum_calls</th>\n",
       "      <th>count_messages</th>\n",
       "      <th>sum_gb_used</th>\n",
       "      <th>tariff</th>\n",
       "    </tr>\n",
       "  </thead>\n",
       "  <tbody>\n",
       "    <tr>\n",
       "      <td>0</td>\n",
       "      <td>1000</td>\n",
       "      <td>5</td>\n",
       "      <td>22.0</td>\n",
       "      <td>159.0</td>\n",
       "      <td>22.0</td>\n",
       "      <td>3.0</td>\n",
       "      <td>ultra</td>\n",
       "    </tr>\n",
       "    <tr>\n",
       "      <td>1</td>\n",
       "      <td>1000</td>\n",
       "      <td>6</td>\n",
       "      <td>43.0</td>\n",
       "      <td>172.0</td>\n",
       "      <td>60.0</td>\n",
       "      <td>23.0</td>\n",
       "      <td>ultra</td>\n",
       "    </tr>\n",
       "    <tr>\n",
       "      <td>2</td>\n",
       "      <td>1000</td>\n",
       "      <td>7</td>\n",
       "      <td>47.0</td>\n",
       "      <td>340.0</td>\n",
       "      <td>75.0</td>\n",
       "      <td>14.0</td>\n",
       "      <td>ultra</td>\n",
       "    </tr>\n",
       "    <tr>\n",
       "      <td>3</td>\n",
       "      <td>1000</td>\n",
       "      <td>8</td>\n",
       "      <td>52.0</td>\n",
       "      <td>408.0</td>\n",
       "      <td>81.0</td>\n",
       "      <td>14.0</td>\n",
       "      <td>ultra</td>\n",
       "    </tr>\n",
       "    <tr>\n",
       "      <td>4</td>\n",
       "      <td>1000</td>\n",
       "      <td>9</td>\n",
       "      <td>58.0</td>\n",
       "      <td>466.0</td>\n",
       "      <td>57.0</td>\n",
       "      <td>15.0</td>\n",
       "      <td>ultra</td>\n",
       "    </tr>\n",
       "  </tbody>\n",
       "</table>\n",
       "</div>"
      ],
      "text/plain": [
       "   user_id  month  count_calls  sum_calls  count_messages  sum_gb_used tariff\n",
       "0     1000      5         22.0      159.0            22.0          3.0  ultra\n",
       "1     1000      6         43.0      172.0            60.0         23.0  ultra\n",
       "2     1000      7         47.0      340.0            75.0         14.0  ultra\n",
       "3     1000      8         52.0      408.0            81.0         14.0  ultra\n",
       "4     1000      9         58.0      466.0            57.0         15.0  ultra"
      ]
     },
     "execution_count": 17,
     "metadata": {},
     "output_type": "execute_result"
    }
   ],
   "source": [
    "# добавляем тариф\n",
    "df = df.merge(users[['user_id','tariff']], on = 'user_id')\n",
    "df.head()"
   ]
  },
  {
   "cell_type": "markdown",
   "metadata": {},
   "source": [
    "Поскольку нужно будет сравнивать данные по городам, добавим в таблицу данные о городе абонента:"
   ]
  },
  {
   "cell_type": "code",
   "execution_count": 18,
   "metadata": {},
   "outputs": [
    {
     "data": {
      "text/html": [
       "<div>\n",
       "<style scoped>\n",
       "    .dataframe tbody tr th:only-of-type {\n",
       "        vertical-align: middle;\n",
       "    }\n",
       "\n",
       "    .dataframe tbody tr th {\n",
       "        vertical-align: top;\n",
       "    }\n",
       "\n",
       "    .dataframe thead th {\n",
       "        text-align: right;\n",
       "    }\n",
       "</style>\n",
       "<table border=\"1\" class=\"dataframe\">\n",
       "  <thead>\n",
       "    <tr style=\"text-align: right;\">\n",
       "      <th></th>\n",
       "      <th>user_id</th>\n",
       "      <th>month</th>\n",
       "      <th>count_calls</th>\n",
       "      <th>sum_calls</th>\n",
       "      <th>count_messages</th>\n",
       "      <th>sum_gb_used</th>\n",
       "      <th>tariff</th>\n",
       "      <th>city</th>\n",
       "    </tr>\n",
       "  </thead>\n",
       "  <tbody>\n",
       "    <tr>\n",
       "      <td>0</td>\n",
       "      <td>1000</td>\n",
       "      <td>5</td>\n",
       "      <td>22.0</td>\n",
       "      <td>159.0</td>\n",
       "      <td>22.0</td>\n",
       "      <td>3.0</td>\n",
       "      <td>ultra</td>\n",
       "      <td>Краснодар</td>\n",
       "    </tr>\n",
       "    <tr>\n",
       "      <td>1</td>\n",
       "      <td>1000</td>\n",
       "      <td>6</td>\n",
       "      <td>43.0</td>\n",
       "      <td>172.0</td>\n",
       "      <td>60.0</td>\n",
       "      <td>23.0</td>\n",
       "      <td>ultra</td>\n",
       "      <td>Краснодар</td>\n",
       "    </tr>\n",
       "    <tr>\n",
       "      <td>2</td>\n",
       "      <td>1000</td>\n",
       "      <td>7</td>\n",
       "      <td>47.0</td>\n",
       "      <td>340.0</td>\n",
       "      <td>75.0</td>\n",
       "      <td>14.0</td>\n",
       "      <td>ultra</td>\n",
       "      <td>Краснодар</td>\n",
       "    </tr>\n",
       "    <tr>\n",
       "      <td>3</td>\n",
       "      <td>1000</td>\n",
       "      <td>8</td>\n",
       "      <td>52.0</td>\n",
       "      <td>408.0</td>\n",
       "      <td>81.0</td>\n",
       "      <td>14.0</td>\n",
       "      <td>ultra</td>\n",
       "      <td>Краснодар</td>\n",
       "    </tr>\n",
       "    <tr>\n",
       "      <td>4</td>\n",
       "      <td>1000</td>\n",
       "      <td>9</td>\n",
       "      <td>58.0</td>\n",
       "      <td>466.0</td>\n",
       "      <td>57.0</td>\n",
       "      <td>15.0</td>\n",
       "      <td>ultra</td>\n",
       "      <td>Краснодар</td>\n",
       "    </tr>\n",
       "  </tbody>\n",
       "</table>\n",
       "</div>"
      ],
      "text/plain": [
       "   user_id  month  count_calls  sum_calls  count_messages  sum_gb_used tariff  \\\n",
       "0     1000      5         22.0      159.0            22.0          3.0  ultra   \n",
       "1     1000      6         43.0      172.0            60.0         23.0  ultra   \n",
       "2     1000      7         47.0      340.0            75.0         14.0  ultra   \n",
       "3     1000      8         52.0      408.0            81.0         14.0  ultra   \n",
       "4     1000      9         58.0      466.0            57.0         15.0  ultra   \n",
       "\n",
       "        city  \n",
       "0  Краснодар  \n",
       "1  Краснодар  \n",
       "2  Краснодар  \n",
       "3  Краснодар  \n",
       "4  Краснодар  "
      ]
     },
     "execution_count": 18,
     "metadata": {},
     "output_type": "execute_result"
    }
   ],
   "source": [
    "# добавляем город\n",
    "df = df.merge(users[['user_id','city']], on = 'user_id')\n",
    "df.head()"
   ]
  },
  {
   "cell_type": "markdown",
   "metadata": {},
   "source": [
    "Готово. Теперь нам нужно посчитать выручку с каждого абонента. Напишем для этого функцию, и применим её к датафрейму. "
   ]
  },
  {
   "cell_type": "code",
   "execution_count": 19,
   "metadata": {},
   "outputs": [
    {
     "data": {
      "text/html": [
       "<div>\n",
       "<style scoped>\n",
       "    .dataframe tbody tr th:only-of-type {\n",
       "        vertical-align: middle;\n",
       "    }\n",
       "\n",
       "    .dataframe tbody tr th {\n",
       "        vertical-align: top;\n",
       "    }\n",
       "\n",
       "    .dataframe thead th {\n",
       "        text-align: right;\n",
       "    }\n",
       "</style>\n",
       "<table border=\"1\" class=\"dataframe\">\n",
       "  <thead>\n",
       "    <tr style=\"text-align: right;\">\n",
       "      <th></th>\n",
       "      <th>user_id</th>\n",
       "      <th>month</th>\n",
       "      <th>count_calls</th>\n",
       "      <th>sum_calls</th>\n",
       "      <th>count_messages</th>\n",
       "      <th>sum_gb_used</th>\n",
       "      <th>tariff</th>\n",
       "      <th>city</th>\n",
       "      <th>income</th>\n",
       "    </tr>\n",
       "  </thead>\n",
       "  <tbody>\n",
       "    <tr>\n",
       "      <td>0</td>\n",
       "      <td>1000</td>\n",
       "      <td>5</td>\n",
       "      <td>22.0</td>\n",
       "      <td>159.0</td>\n",
       "      <td>22.0</td>\n",
       "      <td>3.0</td>\n",
       "      <td>ultra</td>\n",
       "      <td>Краснодар</td>\n",
       "      <td>1950.0</td>\n",
       "    </tr>\n",
       "    <tr>\n",
       "      <td>1</td>\n",
       "      <td>1000</td>\n",
       "      <td>6</td>\n",
       "      <td>43.0</td>\n",
       "      <td>172.0</td>\n",
       "      <td>60.0</td>\n",
       "      <td>23.0</td>\n",
       "      <td>ultra</td>\n",
       "      <td>Краснодар</td>\n",
       "      <td>1950.0</td>\n",
       "    </tr>\n",
       "    <tr>\n",
       "      <td>2</td>\n",
       "      <td>1000</td>\n",
       "      <td>7</td>\n",
       "      <td>47.0</td>\n",
       "      <td>340.0</td>\n",
       "      <td>75.0</td>\n",
       "      <td>14.0</td>\n",
       "      <td>ultra</td>\n",
       "      <td>Краснодар</td>\n",
       "      <td>1950.0</td>\n",
       "    </tr>\n",
       "    <tr>\n",
       "      <td>3</td>\n",
       "      <td>1000</td>\n",
       "      <td>8</td>\n",
       "      <td>52.0</td>\n",
       "      <td>408.0</td>\n",
       "      <td>81.0</td>\n",
       "      <td>14.0</td>\n",
       "      <td>ultra</td>\n",
       "      <td>Краснодар</td>\n",
       "      <td>1950.0</td>\n",
       "    </tr>\n",
       "    <tr>\n",
       "      <td>4</td>\n",
       "      <td>1000</td>\n",
       "      <td>9</td>\n",
       "      <td>58.0</td>\n",
       "      <td>466.0</td>\n",
       "      <td>57.0</td>\n",
       "      <td>15.0</td>\n",
       "      <td>ultra</td>\n",
       "      <td>Краснодар</td>\n",
       "      <td>1950.0</td>\n",
       "    </tr>\n",
       "    <tr>\n",
       "      <td>...</td>\n",
       "      <td>...</td>\n",
       "      <td>...</td>\n",
       "      <td>...</td>\n",
       "      <td>...</td>\n",
       "      <td>...</td>\n",
       "      <td>...</td>\n",
       "      <td>...</td>\n",
       "      <td>...</td>\n",
       "      <td>...</td>\n",
       "    </tr>\n",
       "    <tr>\n",
       "      <td>3209</td>\n",
       "      <td>1498</td>\n",
       "      <td>10</td>\n",
       "      <td>41.0</td>\n",
       "      <td>247.0</td>\n",
       "      <td>42.0</td>\n",
       "      <td>21.0</td>\n",
       "      <td>smart</td>\n",
       "      <td>Владикавказ</td>\n",
       "      <td>1750.0</td>\n",
       "    </tr>\n",
       "    <tr>\n",
       "      <td>3210</td>\n",
       "      <td>1499</td>\n",
       "      <td>9</td>\n",
       "      <td>9.0</td>\n",
       "      <td>70.0</td>\n",
       "      <td>11.0</td>\n",
       "      <td>2.0</td>\n",
       "      <td>smart</td>\n",
       "      <td>Пермь</td>\n",
       "      <td>550.0</td>\n",
       "    </tr>\n",
       "    <tr>\n",
       "      <td>3211</td>\n",
       "      <td>1499</td>\n",
       "      <td>10</td>\n",
       "      <td>68.0</td>\n",
       "      <td>449.0</td>\n",
       "      <td>48.0</td>\n",
       "      <td>18.0</td>\n",
       "      <td>smart</td>\n",
       "      <td>Пермь</td>\n",
       "      <td>1150.0</td>\n",
       "    </tr>\n",
       "    <tr>\n",
       "      <td>3212</td>\n",
       "      <td>1499</td>\n",
       "      <td>11</td>\n",
       "      <td>74.0</td>\n",
       "      <td>612.0</td>\n",
       "      <td>59.0</td>\n",
       "      <td>18.0</td>\n",
       "      <td>smart</td>\n",
       "      <td>Пермь</td>\n",
       "      <td>1513.0</td>\n",
       "    </tr>\n",
       "    <tr>\n",
       "      <td>3213</td>\n",
       "      <td>1499</td>\n",
       "      <td>12</td>\n",
       "      <td>69.0</td>\n",
       "      <td>492.0</td>\n",
       "      <td>66.0</td>\n",
       "      <td>13.0</td>\n",
       "      <td>smart</td>\n",
       "      <td>Пермь</td>\n",
       "      <td>598.0</td>\n",
       "    </tr>\n",
       "  </tbody>\n",
       "</table>\n",
       "<p>3214 rows × 9 columns</p>\n",
       "</div>"
      ],
      "text/plain": [
       "      user_id  month  count_calls  sum_calls  count_messages  sum_gb_used  \\\n",
       "0        1000      5         22.0      159.0            22.0          3.0   \n",
       "1        1000      6         43.0      172.0            60.0         23.0   \n",
       "2        1000      7         47.0      340.0            75.0         14.0   \n",
       "3        1000      8         52.0      408.0            81.0         14.0   \n",
       "4        1000      9         58.0      466.0            57.0         15.0   \n",
       "...       ...    ...          ...        ...             ...          ...   \n",
       "3209     1498     10         41.0      247.0            42.0         21.0   \n",
       "3210     1499      9          9.0       70.0            11.0          2.0   \n",
       "3211     1499     10         68.0      449.0            48.0         18.0   \n",
       "3212     1499     11         74.0      612.0            59.0         18.0   \n",
       "3213     1499     12         69.0      492.0            66.0         13.0   \n",
       "\n",
       "     tariff         city  income  \n",
       "0     ultra    Краснодар  1950.0  \n",
       "1     ultra    Краснодар  1950.0  \n",
       "2     ultra    Краснодар  1950.0  \n",
       "3     ultra    Краснодар  1950.0  \n",
       "4     ultra    Краснодар  1950.0  \n",
       "...     ...          ...     ...  \n",
       "3209  smart  Владикавказ  1750.0  \n",
       "3210  smart        Пермь   550.0  \n",
       "3211  smart        Пермь  1150.0  \n",
       "3212  smart        Пермь  1513.0  \n",
       "3213  smart        Пермь   598.0  \n",
       "\n",
       "[3214 rows x 9 columns]"
      ]
     },
     "execution_count": 19,
     "metadata": {},
     "output_type": "execute_result"
    }
   ],
   "source": [
    "# общая функция для добавления столбца с абонентской платой:\n",
    "def get_income(row):\n",
    "    \n",
    "    # локальная функция, считающая минуты, гигабайты и смс,\n",
    "    # израсходованные сверх тарифного пакета:\n",
    "    def get_over(dict_of_param):\n",
    "        local_over_min = 0\n",
    "        local_over_sms = 0\n",
    "        local_over_gb = 0\n",
    "        if row['sum_calls'] > dict_of_param['sum_calls']: \n",
    "            local_over_min = row['sum_calls'] - dict_of_param['sum_calls']\n",
    "        if row['count_messages'] > dict_of_param['count_messages']:\n",
    "            local_over_sms = row['count_messages'] - dict_of_param['count_messages']\n",
    "        if row['sum_gb_used'] > dict_of_param['sum_gb_used']:\n",
    "            local_over_gb = (row['sum_gb_used'] - dict_of_param['sum_gb_used'])\n",
    "        return local_over_min, local_over_sms, local_over_gb   \n",
    "    \n",
    "    ultra_param = {\n",
    "        'sum_calls':3000,\n",
    "        'count_messages': 1000,\n",
    "        'sum_gb_used': 30\n",
    "    }\n",
    "    smart_param = {\n",
    "        'sum_calls':500,\n",
    "        'count_messages': 50,\n",
    "        'sum_gb_used': 15\n",
    "    }\n",
    "            \n",
    "    if row['tariff'] == 'ultra':\n",
    "        income = 1950\n",
    "        over_min, over_sms, over_gb = get_over(ultra_param)\n",
    "        income += over_min + over_sms + over_gb * 150     \n",
    "    elif row['tariff'] == 'smart':\n",
    "        income = 550\n",
    "        over_min, over_sms, over_gb = get_over(smart_param)\n",
    "        income += 3 * over_min + 3* over_sms + over_gb * 200 \n",
    "    return income\n",
    "df['income'] = df.apply(get_income, axis=1)\n",
    "df"
   ]
  },
  {
   "cell_type": "markdown",
   "metadata": {},
   "source": [
    "В ходе проверки и предоработки данных обнаружили, что пропусков почти нет. Есть только там, где абоненты еще пользуются тарифом, поэтому дата окончания  использования тарифа не указана. \n",
    "\n",
    "Привели все типы дат к типу datetime, время в минутах округлили в большую сторону, округление гигабайт сделали после группировки по месяцам, так как оператор округляет данные за месяц. Округление на этапе чтения данных приведет к округлению каждой сессии, что сильно исказит данные.  Также избавились от ненужного столбца. \n",
    "\n",
    "Сгруппировали нужные нам данные и объеденили в один датафрейм, можно приступать к анализу. "
   ]
  },
  {
   "cell_type": "markdown",
   "metadata": {},
   "source": [
    "## Анализ данных"
   ]
  },
  {
   "cell_type": "markdown",
   "metadata": {},
   "source": [
    "Нам необходимо описать поведение клиентов оператора, исходя из выборки. Сколько минут разговора, сколько сообщений и какой объём интернет-трафика требуется пользователям каждого тарифа в месяц?"
   ]
  },
  {
   "cell_type": "markdown",
   "metadata": {},
   "source": [
    "Посчитаем среднее количество, дисперсию и стандартное отклонение в сводной таблице. "
   ]
  },
  {
   "cell_type": "code",
   "execution_count": 20,
   "metadata": {},
   "outputs": [
    {
     "data": {
      "text/html": [
       "<div>\n",
       "<style scoped>\n",
       "    .dataframe tbody tr th:only-of-type {\n",
       "        vertical-align: middle;\n",
       "    }\n",
       "\n",
       "    .dataframe tbody tr th {\n",
       "        vertical-align: top;\n",
       "    }\n",
       "\n",
       "    .dataframe thead tr th {\n",
       "        text-align: left;\n",
       "    }\n",
       "\n",
       "    .dataframe thead tr:last-of-type th {\n",
       "        text-align: right;\n",
       "    }\n",
       "</style>\n",
       "<table border=\"1\" class=\"dataframe\">\n",
       "  <thead>\n",
       "    <tr>\n",
       "      <th></th>\n",
       "      <th colspan=\"5\" halign=\"left\">mean</th>\n",
       "      <th colspan=\"5\" halign=\"left\">var</th>\n",
       "      <th colspan=\"5\" halign=\"left\">std</th>\n",
       "    </tr>\n",
       "    <tr>\n",
       "      <th></th>\n",
       "      <th>count_calls</th>\n",
       "      <th>count_messages</th>\n",
       "      <th>income</th>\n",
       "      <th>sum_calls</th>\n",
       "      <th>sum_gb_used</th>\n",
       "      <th>count_calls</th>\n",
       "      <th>count_messages</th>\n",
       "      <th>income</th>\n",
       "      <th>sum_calls</th>\n",
       "      <th>sum_gb_used</th>\n",
       "      <th>count_calls</th>\n",
       "      <th>count_messages</th>\n",
       "      <th>income</th>\n",
       "      <th>sum_calls</th>\n",
       "      <th>sum_gb_used</th>\n",
       "    </tr>\n",
       "    <tr>\n",
       "      <th>tariff</th>\n",
       "      <th></th>\n",
       "      <th></th>\n",
       "      <th></th>\n",
       "      <th></th>\n",
       "      <th></th>\n",
       "      <th></th>\n",
       "      <th></th>\n",
       "      <th></th>\n",
       "      <th></th>\n",
       "      <th></th>\n",
       "      <th></th>\n",
       "      <th></th>\n",
       "      <th></th>\n",
       "      <th></th>\n",
       "      <th></th>\n",
       "    </tr>\n",
       "  </thead>\n",
       "  <tbody>\n",
       "    <tr>\n",
       "      <td>smart</td>\n",
       "      <td>58.621233</td>\n",
       "      <td>38.716441</td>\n",
       "      <td>1289.973531</td>\n",
       "      <td>419.062978</td>\n",
       "      <td>16.336176</td>\n",
       "      <td>665.438829</td>\n",
       "      <td>717.594201</td>\n",
       "      <td>669785.708006</td>\n",
       "      <td>35844.189551</td>\n",
       "      <td>32.923756</td>\n",
       "      <td>25.796101</td>\n",
       "      <td>26.787949</td>\n",
       "      <td>818.404367</td>\n",
       "      <td>189.325618</td>\n",
       "      <td>5.737923</td>\n",
       "    </tr>\n",
       "    <tr>\n",
       "      <td>ultra</td>\n",
       "      <td>76.016824</td>\n",
       "      <td>61.161006</td>\n",
       "      <td>2070.152284</td>\n",
       "      <td>545.451104</td>\n",
       "      <td>19.694359</td>\n",
       "      <td>1798.043927</td>\n",
       "      <td>2109.659183</td>\n",
       "      <td>141516.745079</td>\n",
       "      <td>94203.418396</td>\n",
       "      <td>94.146734</td>\n",
       "      <td>42.403348</td>\n",
       "      <td>45.931026</td>\n",
       "      <td>376.187114</td>\n",
       "      <td>306.925754</td>\n",
       "      <td>9.702924</td>\n",
       "    </tr>\n",
       "  </tbody>\n",
       "</table>\n",
       "</div>"
      ],
      "text/plain": [
       "              mean                                                      \\\n",
       "       count_calls count_messages       income   sum_calls sum_gb_used   \n",
       "tariff                                                                   \n",
       "smart    58.621233      38.716441  1289.973531  419.062978   16.336176   \n",
       "ultra    76.016824      61.161006  2070.152284  545.451104   19.694359   \n",
       "\n",
       "                var                                                          \\\n",
       "        count_calls count_messages         income     sum_calls sum_gb_used   \n",
       "tariff                                                                        \n",
       "smart    665.438829     717.594201  669785.708006  35844.189551   32.923756   \n",
       "ultra   1798.043927    2109.659183  141516.745079  94203.418396   94.146734   \n",
       "\n",
       "               std                                                     \n",
       "       count_calls count_messages      income   sum_calls sum_gb_used  \n",
       "tariff                                                                 \n",
       "smart    25.796101      26.787949  818.404367  189.325618    5.737923  \n",
       "ultra    42.403348      45.931026  376.187114  306.925754    9.702924  "
      ]
     },
     "execution_count": 20,
     "metadata": {},
     "output_type": "execute_result"
    }
   ],
   "source": [
    "df.pivot_table(index = 'tariff', values = ['count_calls', 'sum_calls', 'count_messages', 'sum_gb_used', 'income'],\n",
    "                            aggfunc = ['mean', 'var', 'std'])"
   ]
  },
  {
   "cell_type": "markdown",
   "metadata": {},
   "source": [
    "Исходя из полученных данных, можно сделать вывод, что пользователи тарифа ultra больше отправляют sms, больше звонят - как в количественном отношении, так и в продолжительности вызова и больше поользуются интернетом. Средний доход от тарифа samart намного ниже, чем у тарифа ultra. Мне кажется немного странным полученные средние данные, которые пользователи тратят на мобильную свзяь, на мой взгляд они выше средних значний на сегодняшний день. Проверим экстремальные значения по израсходованным минутам, гигабайтам и sms.  "
   ]
  },
  {
   "cell_type": "code",
   "execution_count": 21,
   "metadata": {},
   "outputs": [
    {
     "name": "stdout",
     "output_type": "stream",
     "text": [
      "1673.0\n",
      "224.0\n",
      "49.0\n"
     ]
    }
   ],
   "source": [
    "print(df['sum_calls'].max())\n",
    "print(df['count_messages'].max())\n",
    "print(df['sum_gb_used'].max())"
   ]
  },
  {
   "cell_type": "markdown",
   "metadata": {},
   "source": [
    "Действительно не мало. Построим гистограммы для описания распределения. "
   ]
  },
  {
   "cell_type": "code",
   "execution_count": 32,
   "metadata": {},
   "outputs": [
    {
     "data": {
      "text/plain": [
       "<matplotlib.legend.Legend at 0x7fef7e8dc850>"
      ]
     },
     "execution_count": 32,
     "metadata": {},
     "output_type": "execute_result"
    },
    {
     "data": {
      "image/png": "[encoded data removed]",
      "text/plain": [
       "<Figure size 720x432 with 1 Axes>"
      ]
     },
     "metadata": {
      "needs_background": "light"
     },
     "output_type": "display_data"
    }
   ],
   "source": [
    "df[df['tariff'] == 'ultra']['sum_calls'].plot(kind='hist', bins=50, figsize=(10,6), alpha=1, label = 'Ultra')\n",
    "df[df['tariff'] == 'smart']['sum_calls'].plot(kind='hist', bins=50, figsize=(10,6), alpha=0.3, label = 'Smart')\n",
    "plt.title('Количество потраченных минут в месяц')\n",
    "plt.legend()"
   ]
  },
  {
   "cell_type": "markdown",
   "metadata": {},
   "source": [
    "Видим что продолжительность звонков на тарифе ultra больше, чем на тарифе smart. Зато на тарифе smart больше людей разговаривают от 300 до 600 минут в месяц. "
   ]
  },
  {
   "cell_type": "code",
   "execution_count": 23,
   "metadata": {},
   "outputs": [
    {
     "data": {
      "image/png": "[encoded data removed]",
      "text/plain": [
       "<Figure size 720x432 with 1 Axes>"
      ]
     },
     "metadata": {
      "needs_background": "light"
     },
     "output_type": "display_data"
    }
   ],
   "source": [
    "# код ревьюера\n",
    "df[df['tariff'] == 'ultra']['sum_calls'].plot(kind='hist', bins=50, figsize=(10,6), alpha=0.5, label = 'Ultra')\n",
    "df[df['tariff'] == 'smart']['sum_calls'].plot(kind='hist', bins=50, figsize=(10,6), alpha=0.5, label = 'Smart')\n",
    "plt.title('Количество потраченных минут в месяц')\n",
    "plt.legend();"
   ]
  },
  {
   "cell_type": "code",
   "execution_count": 31,
   "metadata": {},
   "outputs": [
    {
     "data": {
      "text/plain": [
       "<matplotlib.legend.Legend at 0x7fef7e89cad0>"
      ]
     },
     "execution_count": 31,
     "metadata": {},
     "output_type": "execute_result"
    },
    {
     "data": {
      "image/png": "[encoded data removed]",
      "text/plain": [
       "<Figure size 720x432 with 1 Axes>"
      ]
     },
     "metadata": {
      "needs_background": "light"
     },
     "output_type": "display_data"
    }
   ],
   "source": [
    "df[df['tariff'] == 'ultra']['count_messages'].plot(kind='hist', bins=50, figsize=(10,6), alpha=1, label = 'Ultra')\n",
    "df[df['tariff'] == 'smart']['count_messages'].plot(kind='hist', bins=50, figsize=(10,6), alpha=0.3, label = 'Smart')\n",
    "plt.title('Количество отправленных сообщений в месяц')\n",
    "plt.legend()"
   ]
  },
  {
   "cell_type": "markdown",
   "metadata": {},
   "source": [
    "На тарифе ultra средний пользователь сообщений отпрвляет больше, но в тарифе smart больше человек отправляет до 80 сообщений в месяц.  "
   ]
  },
  {
   "cell_type": "code",
   "execution_count": 30,
   "metadata": {},
   "outputs": [
    {
     "data": {
      "text/plain": [
       "<matplotlib.legend.Legend at 0x7fef7fbc1a50>"
      ]
     },
     "execution_count": 30,
     "metadata": {},
     "output_type": "execute_result"
    },
    {
     "data": {
      "image/png": "[encoded data removed]",
      "text/plain": [
       "<Figure size 720x432 with 1 Axes>"
      ]
     },
     "metadata": {
      "needs_background": "light"
     },
     "output_type": "display_data"
    }
   ],
   "source": [
    "df[df['tariff'] == 'ultra']['sum_gb_used'].plot(kind='hist', bins=50, figsize=(10,6), alpha=1, label = 'Ultra')\n",
    "df[df['tariff'] == 'smart']['sum_gb_used'].plot(kind='hist', bins=50, figsize=(10,6), alpha=0.3, label = 'Smart')\n",
    "plt.title('Количество использованных гигабайт в месяц')\n",
    "plt.legend()"
   ]
  },
  {
   "cell_type": "markdown",
   "metadata": {},
   "source": [
    "И снова в тарифе ultra лидеры в использовании интернет-траффика. Использовавших более 28 ГБ траффика больше в трифе ultra, но пользователей потртивших до 25 ГБ больше с тарифом smart. Для общего вывода посмотрим количество абонентов с разными тарифами:"
   ]
  },
  {
   "cell_type": "code",
   "execution_count": 26,
   "metadata": {},
   "outputs": [
    {
     "data": {
      "text/plain": [
       "smart    2229\n",
       "ultra     985\n",
       "Name: tariff, dtype: int64"
      ]
     },
     "execution_count": 26,
     "metadata": {},
     "output_type": "execute_result"
    }
   ],
   "source": [
    "df['tariff'].value_counts()"
   ]
  },
  {
   "cell_type": "markdown",
   "metadata": {},
   "source": [
    "Общий вывод по использованию двух тарифов. Количество пользователей тарифа smart более чем в два раза больше, и это не удивительно, ведь его абонентская плата почти в четыре раза ниже! Однако судя по графикам абоненты тарифа smart чаще используют дополнительные, платные минуты, в то время как пользователи тарифа ultra всегда укладываются в свой лимит, не смотря на то, что часто их разговоры за месяц сильно превышают разговоры абонентов тарифа smart. "
   ]
  },
  {
   "cell_type": "markdown",
   "metadata": {},
   "source": [
    "Аналогичная ситуация с сообщениями, абоненты тарифа smart часто использут платные sms, в то время как абоненты ultra всегда укладываются в 3000 заложенных в тарифе сообщений."
   ]
  },
  {
   "cell_type": "markdown",
   "metadata": {},
   "source": [
    "А вот в траффик интернета никто не укладывается. Дополнительными \"гигами\" пользуются все. Но чаще, конечно, пользователи тарифа smart. \n"
   ]
  },
  {
   "cell_type": "markdown",
   "metadata": {},
   "source": [
    "## Проверка гипотез"
   ]
  },
  {
   "cell_type": "markdown",
   "metadata": {},
   "source": [
    "Необходимо проверить две гипотезы:\n",
    "- средняя выручка пользователей тарифов «Ультра» и «Смарт» различаются;\n",
    "- средняя выручка пользователей из Москвы отличается от выручки пользователей из других регионов.\n",
    "\n",
    "\n",
    "Итак первая гипотеза о равенстве выручки среди тарифов \"Ультра\" и \"Смарт\".\n",
    "- Нулевая гипотеза: выручка пользователей тарифов \"Ультра\" и \"Смарт\" не различаются\n",
    "- Альтернативная гипотеза: выручка пользователей тарифов \"Ультра\" и \"Смарт\" различаются"
   ]
  },
  {
   "cell_type": "code",
   "execution_count": 27,
   "metadata": {},
   "outputs": [
    {
     "name": "stdout",
     "output_type": "stream",
     "text": [
      "p значение 1.4229814360764067e-160\n",
      "Отвергаем нулевую гипотезу\n"
     ]
    }
   ],
   "source": [
    "# создадим две переменные, хранящие данные о пользователях разных тарифов:\n",
    "income_ultra = df.loc[df.loc[:,'tariff'] == 'ultra']['income']\n",
    "income_smart = df.loc[df.loc[:,'tariff'] == 'smart']['income']\n",
    "\n",
    "alpha = 0.05\n",
    "\n",
    "result = st.ttest_ind(income_smart,income_ultra) \n",
    "\n",
    "print('p значение', result.pvalue)\n",
    "\n",
    "if result.pvalue < alpha:\n",
    "    print(\"Отвергаем нулевую гипотезу\")\n",
    "else:\n",
    "    print(\"Не получилось нулевую гипотезу\")\n",
    "    "
   ]
  },
  {
   "cell_type": "markdown",
   "metadata": {},
   "source": [
    "Поскольку нулевая гипотеза отвергнута, остается альтернативная - выручка абонентов разных тарифов отличается. \n",
    "\n",
    "Была выдвинута двусторонняя гипотеза, поскольку в изначальной гипотезе не важно было выручка от какого тарифа больше, \"Смарт\" или \"Ультра\", поэтому был использован t-тест. 5% - стандартный критический уровень статистической значимости. \n"
   ]
  },
  {
   "cell_type": "markdown",
   "metadata": {},
   "source": [
    "\n",
    "Вторая гипотеза звучит так:\n",
    "- средняя выручка пользователей из Москвы отличается от выручки пользователей из других регионов.\n",
    "\n",
    "Для нее подобным образом сформируем нулевую и альтернативную гипотезы:\n",
    "- Нулевая гипотеза: средняя выручка пользователей из Москвы равна выручке пользователей из других регионов.\n",
    "- Альтернативная гипотеза: средняя выручка пользователей из Москвы отличается от выручки пользователей из других регионов."
   ]
  },
  {
   "cell_type": "code",
   "execution_count": 28,
   "metadata": {},
   "outputs": [
    {
     "name": "stdout",
     "output_type": "stream",
     "text": [
      "p значение 0.5440152911670224\n",
      "Не получилось отвергнуть нулевую гипотезу\n"
     ]
    }
   ],
   "source": [
    "# создадим две переменные, хранящие данные о пользователях разных категорий городов, Москвы и не Москвы:\n",
    "income_moscow = df.loc[df.loc[:,'city'] == 'Москва']['income']\n",
    "income_region = df.loc[df.loc[:,'city'] != 'Москва']['income']\n",
    "result_city = st.ttest_ind(income_moscow,income_region) \n",
    "\n",
    "alpha = 0.05\n",
    "\n",
    "print('p значение', result_city.pvalue)\n",
    "\n",
    "if result_city.pvalue < alpha:\n",
    "    print(\"Отвергаем нулевую гипотезу\")\n",
    "else:\n",
    "    print(\"Не получилось отвергнуть нулевую гипотезу\")"
   ]
  },
  {
   "cell_type": "markdown",
   "metadata": {},
   "source": [
    "Поскольку нулевую гипотезу отвергнуть не получилось, значит выручка абонентов из Москвы и из других регионов не отличается. На мой взгляд, это весьма закономерно, так как связь потребляет одинаковое количество ресурсов что в Москве, что в Саратове. Здесь также была выдвинута двусторонняя гипотеза и использован t-тест, покольку от нас не требовалось узнать насколько больше или меньше выручка в Москве или в регионе. "
   ]
  },
  {
   "cell_type": "markdown",
   "metadata": {},
   "source": [
    "## Общий вывод"
   ]
  },
  {
   "cell_type": "markdown",
   "metadata": {},
   "source": [
    "Перед нами стит главный вопрос - какой тариф наиболее перспеткивный. Я думаю что ответ на этот вопрос лежит в понимании вопроса, что значит \"перспективный\". Если говорить о банальной прибыли, то, полагаю, достаточно взглянуть на общий доход от двух тарифов, который можно получить из сводной таблицы:"
   ]
  },
  {
   "cell_type": "code",
   "execution_count": 29,
   "metadata": {},
   "outputs": [
    {
     "data": {
      "text/html": [
       "<div>\n",
       "<style scoped>\n",
       "    .dataframe tbody tr th:only-of-type {\n",
       "        vertical-align: middle;\n",
       "    }\n",
       "\n",
       "    .dataframe tbody tr th {\n",
       "        vertical-align: top;\n",
       "    }\n",
       "\n",
       "    .dataframe thead tr th {\n",
       "        text-align: left;\n",
       "    }\n",
       "\n",
       "    .dataframe thead tr:last-of-type th {\n",
       "        text-align: right;\n",
       "    }\n",
       "</style>\n",
       "<table border=\"1\" class=\"dataframe\">\n",
       "  <thead>\n",
       "    <tr>\n",
       "      <th></th>\n",
       "      <th>sum</th>\n",
       "    </tr>\n",
       "    <tr>\n",
       "      <th></th>\n",
       "      <th>income</th>\n",
       "    </tr>\n",
       "    <tr>\n",
       "      <th>tariff</th>\n",
       "      <th></th>\n",
       "    </tr>\n",
       "  </thead>\n",
       "  <tbody>\n",
       "    <tr>\n",
       "      <td>smart</td>\n",
       "      <td>2875351.0</td>\n",
       "    </tr>\n",
       "    <tr>\n",
       "      <td>ultra</td>\n",
       "      <td>2039100.0</td>\n",
       "    </tr>\n",
       "  </tbody>\n",
       "</table>\n",
       "</div>"
      ],
      "text/plain": [
       "              sum\n",
       "           income\n",
       "tariff           \n",
       "smart   2875351.0\n",
       "ultra   2039100.0"
      ]
     },
     "execution_count": 29,
     "metadata": {},
     "output_type": "execute_result"
    }
   ],
   "source": [
    "df.pivot_table(index = 'tariff', values = ['income'], aggfunc = ['sum'])"
   ]
  },
  {
   "cell_type": "markdown",
   "metadata": {},
   "source": [
    "1. Мы видим что доход от пользователей тарифа \"Смарт\" почти вдвое выше, чем доход от пользователей тарифа \"Ультра\". Логично сделать вывод о том, что выгоднее тариф \"Смарт\". \n",
    "\n",
    "2. В то же время вспомним, что на тарифе \"Ультра\" большинство абонентов далеко от лимитных показателей, они не тратят значимую часть звонков и смс, включенных в пакет, когда абоненты тарифа \"Смарт\" очень часто выходят за границы лимитов тарифа. \n",
    "\n",
    "3. Учитывая результаты исследования, мобильному оператору стоит обратить внимание на тариф \"Смарт\" - увеличить количество смс, интернет-траффика и звонков, увеличив соразмерно и абонентскую плату. \n",
    "\n",
    "4. Однако это стоит делать не \"взамен\", а в дополнение к существующим тарифам, так как многие пользователи находятся около тарифных лимитов, и может говорить о том, что им удобно ими пользоваться. "
   ]
  },
  {
   "cell_type": "code",
   "execution_count": null,
   "metadata": {},
   "outputs": [],
   "source": []
  }
 ],
 "metadata": {
  "ExecuteTimeLog": [
   {
    "duration": 1192,
    "start_time": "2022-01-04T21:44:39.333Z"
   },
   {
    "duration": 532,
    "start_time": "2022-01-04T21:44:41.320Z"
   },
   {
    "duration": 571,
    "start_time": "2022-01-04T21:45:04.760Z"
   },
   {
    "duration": 529,
    "start_time": "2022-01-04T21:45:27.811Z"
   },
   {
    "duration": 523,
    "start_time": "2022-01-04T21:45:42.337Z"
   },
   {
    "duration": 531,
    "start_time": "2022-01-04T21:46:00.789Z"
   },
   {
    "duration": 597,
    "start_time": "2022-01-04T21:46:26.722Z"
   },
   {
    "duration": 528,
    "start_time": "2022-01-04T21:46:45.523Z"
   },
   {
    "duration": 4,
    "start_time": "2022-01-04T21:51:11.057Z"
   },
   {
    "duration": 523,
    "start_time": "2022-01-04T21:51:11.063Z"
   },
   {
    "duration": 251,
    "start_time": "2022-01-10T10:06:15.043Z"
   },
   {
    "duration": 1152,
    "start_time": "2022-01-10T10:06:19.277Z"
   },
   {
    "duration": 429,
    "start_time": "2022-01-10T10:06:20.431Z"
   },
   {
    "duration": 35,
    "start_time": "2022-01-10T10:06:20.862Z"
   },
   {
    "duration": 295,
    "start_time": "2022-01-10T10:07:06.410Z"
   },
   {
    "duration": 119,
    "start_time": "2022-01-10T10:07:42.220Z"
   },
   {
    "duration": 124,
    "start_time": "2022-01-10T10:07:49.133Z"
   },
   {
    "duration": 140,
    "start_time": "2022-01-10T10:08:38.952Z"
   },
   {
    "duration": 139,
    "start_time": "2022-01-10T10:09:00.931Z"
   },
   {
    "duration": 146,
    "start_time": "2022-01-10T11:01:15.244Z"
   },
   {
    "duration": 205,
    "start_time": "2022-01-10T11:05:43.488Z"
   },
   {
    "duration": 32,
    "start_time": "2022-01-10T11:06:22.818Z"
   },
   {
    "duration": 31,
    "start_time": "2022-01-10T11:06:41.364Z"
   },
   {
    "duration": 85,
    "start_time": "2022-01-10T11:08:08.098Z"
   },
   {
    "duration": 99,
    "start_time": "2022-01-10T11:57:02.265Z"
   },
   {
    "duration": 104,
    "start_time": "2022-01-10T11:58:44.042Z"
   },
   {
    "duration": 3,
    "start_time": "2022-01-10T11:58:59.829Z"
   },
   {
    "duration": 385,
    "start_time": "2022-01-10T11:58:59.833Z"
   },
   {
    "duration": 112,
    "start_time": "2022-01-10T11:59:00.221Z"
   },
   {
    "duration": 39,
    "start_time": "2022-01-10T11:59:00.335Z"
   },
   {
    "duration": 82,
    "start_time": "2022-01-10T11:59:00.376Z"
   },
   {
    "duration": 62,
    "start_time": "2022-01-10T12:00:13.131Z"
   },
   {
    "duration": 6478,
    "start_time": "2022-01-10T12:23:31.048Z"
   },
   {
    "duration": 6260,
    "start_time": "2022-01-10T12:26:30.241Z"
   },
   {
    "duration": 366,
    "start_time": "2022-01-10T12:39:10.021Z"
   },
   {
    "duration": 12,
    "start_time": "2022-01-10T12:39:46.908Z"
   },
   {
    "duration": 12,
    "start_time": "2022-01-10T12:41:06.831Z"
   },
   {
    "duration": 11,
    "start_time": "2022-01-10T12:41:38.638Z"
   },
   {
    "duration": 22,
    "start_time": "2022-01-10T12:42:34.678Z"
   },
   {
    "duration": 16,
    "start_time": "2022-01-10T12:47:14.934Z"
   },
   {
    "duration": 50,
    "start_time": "2022-01-10T12:49:34.309Z"
   },
   {
    "duration": 214,
    "start_time": "2022-01-10T12:54:31.589Z"
   },
   {
    "duration": 18,
    "start_time": "2022-01-10T12:55:45.253Z"
   },
   {
    "duration": 14,
    "start_time": "2022-01-10T12:57:21.707Z"
   },
   {
    "duration": 15,
    "start_time": "2022-01-10T13:00:00.914Z"
   },
   {
    "duration": 5,
    "start_time": "2022-01-10T13:11:38.158Z"
   },
   {
    "duration": 5,
    "start_time": "2022-01-10T13:11:49.188Z"
   },
   {
    "duration": 226,
    "start_time": "2022-01-10T14:06:58.629Z"
   },
   {
    "duration": 14,
    "start_time": "2022-01-10T14:07:18.755Z"
   },
   {
    "duration": 20,
    "start_time": "2022-01-10T14:07:29.362Z"
   },
   {
    "duration": 22,
    "start_time": "2022-01-10T14:07:52.250Z"
   },
   {
    "duration": 766,
    "start_time": "2022-01-10T14:13:26.376Z"
   },
   {
    "duration": 2,
    "start_time": "2022-01-10T14:13:52.900Z"
   },
   {
    "duration": 458,
    "start_time": "2022-01-10T14:13:52.904Z"
   },
   {
    "duration": 125,
    "start_time": "2022-01-10T14:13:53.364Z"
   },
   {
    "duration": 56,
    "start_time": "2022-01-10T14:13:53.491Z"
   },
   {
    "duration": 96,
    "start_time": "2022-01-10T14:13:53.549Z"
   },
   {
    "duration": 53,
    "start_time": "2022-01-10T14:13:53.648Z"
   },
   {
    "duration": 37,
    "start_time": "2022-01-10T14:13:53.704Z"
   },
   {
    "duration": 72,
    "start_time": "2022-01-10T14:13:53.743Z"
   },
   {
    "duration": 25,
    "start_time": "2022-01-10T14:13:53.817Z"
   },
   {
    "duration": 18,
    "start_time": "2022-01-10T14:13:53.844Z"
   },
   {
    "duration": 44,
    "start_time": "2022-01-10T14:13:53.864Z"
   },
   {
    "duration": 66,
    "start_time": "2022-01-10T14:13:53.910Z"
   },
   {
    "duration": 4,
    "start_time": "2022-01-10T14:14:30.621Z"
   },
   {
    "duration": 425,
    "start_time": "2022-01-10T14:14:30.626Z"
   },
   {
    "duration": 126,
    "start_time": "2022-01-10T14:14:31.054Z"
   },
   {
    "duration": 46,
    "start_time": "2022-01-10T14:14:31.182Z"
   },
   {
    "duration": 85,
    "start_time": "2022-01-10T14:14:31.240Z"
   },
   {
    "duration": 49,
    "start_time": "2022-01-10T14:14:31.327Z"
   },
   {
    "duration": 19,
    "start_time": "2022-01-10T14:14:31.378Z"
   },
   {
    "duration": 97,
    "start_time": "2022-01-10T14:14:31.400Z"
   },
   {
    "duration": 26,
    "start_time": "2022-01-10T14:14:31.499Z"
   },
   {
    "duration": 29,
    "start_time": "2022-01-10T14:14:31.527Z"
   },
   {
    "duration": 17,
    "start_time": "2022-01-10T14:14:31.558Z"
   },
   {
    "duration": 81,
    "start_time": "2022-01-10T14:14:31.576Z"
   },
   {
    "duration": 3,
    "start_time": "2022-01-10T14:15:09.796Z"
   },
   {
    "duration": 590,
    "start_time": "2022-01-10T14:15:09.802Z"
   },
   {
    "duration": 110,
    "start_time": "2022-01-10T14:15:10.394Z"
   },
   {
    "duration": 49,
    "start_time": "2022-01-10T14:15:10.506Z"
   },
   {
    "duration": 92,
    "start_time": "2022-01-10T14:15:10.557Z"
   },
   {
    "duration": 38,
    "start_time": "2022-01-10T14:15:10.651Z"
   },
   {
    "duration": 15,
    "start_time": "2022-01-10T14:15:10.691Z"
   },
   {
    "duration": 117,
    "start_time": "2022-01-10T14:15:10.709Z"
   },
   {
    "duration": 47,
    "start_time": "2022-01-10T14:15:10.828Z"
   },
   {
    "duration": 25,
    "start_time": "2022-01-10T14:15:10.877Z"
   },
   {
    "duration": 37,
    "start_time": "2022-01-10T14:15:10.904Z"
   },
   {
    "duration": 59,
    "start_time": "2022-01-10T14:15:10.943Z"
   },
   {
    "duration": 899,
    "start_time": "2022-01-10T14:15:40.423Z"
   },
   {
    "duration": 3,
    "start_time": "2022-01-10T14:15:59.667Z"
   },
   {
    "duration": 406,
    "start_time": "2022-01-10T14:15:59.672Z"
   },
   {
    "duration": 130,
    "start_time": "2022-01-10T14:16:00.081Z"
   },
   {
    "duration": 74,
    "start_time": "2022-01-10T14:16:00.213Z"
   },
   {
    "duration": 93,
    "start_time": "2022-01-10T14:16:00.289Z"
   },
   {
    "duration": 36,
    "start_time": "2022-01-10T14:16:00.384Z"
   },
   {
    "duration": 44,
    "start_time": "2022-01-10T14:16:00.421Z"
   },
   {
    "duration": 60,
    "start_time": "2022-01-10T14:16:00.468Z"
   },
   {
    "duration": 27,
    "start_time": "2022-01-10T14:16:00.542Z"
   },
   {
    "duration": 13,
    "start_time": "2022-01-10T14:16:00.571Z"
   },
   {
    "duration": 25,
    "start_time": "2022-01-10T14:16:00.586Z"
   },
   {
    "duration": 66,
    "start_time": "2022-01-10T14:16:00.613Z"
   },
   {
    "duration": 22,
    "start_time": "2022-01-10T14:17:26.749Z"
   },
   {
    "duration": 3,
    "start_time": "2022-01-10T14:17:36.853Z"
   },
   {
    "duration": 432,
    "start_time": "2022-01-10T14:17:36.858Z"
   },
   {
    "duration": 103,
    "start_time": "2022-01-10T14:17:37.292Z"
   },
   {
    "duration": 46,
    "start_time": "2022-01-10T14:17:37.397Z"
   },
   {
    "duration": 74,
    "start_time": "2022-01-10T14:17:37.445Z"
   },
   {
    "duration": 45,
    "start_time": "2022-01-10T14:17:37.521Z"
   },
   {
    "duration": 19,
    "start_time": "2022-01-10T14:17:37.567Z"
   },
   {
    "duration": 80,
    "start_time": "2022-01-10T14:17:37.589Z"
   },
   {
    "duration": 26,
    "start_time": "2022-01-10T14:17:37.671Z"
   },
   {
    "duration": 15,
    "start_time": "2022-01-10T14:17:37.699Z"
   },
   {
    "duration": 18,
    "start_time": "2022-01-10T14:17:37.741Z"
   },
   {
    "duration": 48,
    "start_time": "2022-01-10T14:17:37.761Z"
   },
   {
    "duration": 3,
    "start_time": "2022-01-10T14:26:33.783Z"
   },
   {
    "duration": 394,
    "start_time": "2022-01-10T14:26:33.788Z"
   },
   {
    "duration": 96,
    "start_time": "2022-01-10T14:26:34.184Z"
   },
   {
    "duration": 37,
    "start_time": "2022-01-10T14:26:34.282Z"
   },
   {
    "duration": 78,
    "start_time": "2022-01-10T14:26:34.321Z"
   },
   {
    "duration": 45,
    "start_time": "2022-01-10T14:26:34.401Z"
   },
   {
    "duration": 18,
    "start_time": "2022-01-10T14:26:34.448Z"
   },
   {
    "duration": 78,
    "start_time": "2022-01-10T14:26:34.468Z"
   },
   {
    "duration": 31,
    "start_time": "2022-01-10T14:26:34.548Z"
   },
   {
    "duration": 16,
    "start_time": "2022-01-10T14:26:34.581Z"
   },
   {
    "duration": 21,
    "start_time": "2022-01-10T14:26:34.598Z"
   },
   {
    "duration": 47,
    "start_time": "2022-01-10T14:26:34.641Z"
   },
   {
    "duration": 279,
    "start_time": "2022-01-10T14:37:27.014Z"
   },
   {
    "duration": 306,
    "start_time": "2022-01-10T14:39:33.758Z"
   },
   {
    "duration": 267,
    "start_time": "2022-01-10T14:44:24.279Z"
   },
   {
    "duration": 196,
    "start_time": "2022-01-10T14:44:36.012Z"
   },
   {
    "duration": 210,
    "start_time": "2022-01-10T14:45:32.836Z"
   },
   {
    "duration": 2568,
    "start_time": "2022-01-10T14:45:36.961Z"
   },
   {
    "duration": 1044,
    "start_time": "2022-01-10T14:45:39.531Z"
   },
   {
    "duration": 126,
    "start_time": "2022-01-10T14:45:40.577Z"
   },
   {
    "duration": 55,
    "start_time": "2022-01-10T14:45:40.705Z"
   },
   {
    "duration": 84,
    "start_time": "2022-01-10T14:45:40.762Z"
   },
   {
    "duration": 37,
    "start_time": "2022-01-10T14:45:40.848Z"
   },
   {
    "duration": 18,
    "start_time": "2022-01-10T14:45:40.886Z"
   },
   {
    "duration": 83,
    "start_time": "2022-01-10T14:45:40.906Z"
   },
   {
    "duration": 30,
    "start_time": "2022-01-10T14:45:40.991Z"
   },
   {
    "duration": 24,
    "start_time": "2022-01-10T14:45:41.023Z"
   },
   {
    "duration": 16,
    "start_time": "2022-01-10T14:45:41.049Z"
   },
   {
    "duration": 249,
    "start_time": "2022-01-10T14:46:34.121Z"
   },
   {
    "duration": 190,
    "start_time": "2022-01-10T14:46:58.984Z"
   },
   {
    "duration": 197,
    "start_time": "2022-01-10T14:48:05.360Z"
   },
   {
    "duration": 190,
    "start_time": "2022-01-10T14:49:24.691Z"
   },
   {
    "duration": 215,
    "start_time": "2022-01-10T14:49:44.463Z"
   },
   {
    "duration": 202,
    "start_time": "2022-01-10T14:49:49.017Z"
   },
   {
    "duration": 2624,
    "start_time": "2022-01-10T14:49:57.921Z"
   },
   {
    "duration": 1069,
    "start_time": "2022-01-10T14:50:00.547Z"
   },
   {
    "duration": 134,
    "start_time": "2022-01-10T14:50:01.618Z"
   },
   {
    "duration": 46,
    "start_time": "2022-01-10T14:50:01.754Z"
   },
   {
    "duration": 93,
    "start_time": "2022-01-10T14:50:01.802Z"
   },
   {
    "duration": 47,
    "start_time": "2022-01-10T14:50:01.897Z"
   },
   {
    "duration": 17,
    "start_time": "2022-01-10T14:50:01.946Z"
   },
   {
    "duration": 60,
    "start_time": "2022-01-10T14:50:01.966Z"
   },
   {
    "duration": 38,
    "start_time": "2022-01-10T14:50:02.027Z"
   },
   {
    "duration": 14,
    "start_time": "2022-01-10T14:50:02.066Z"
   },
   {
    "duration": 24,
    "start_time": "2022-01-10T14:50:02.081Z"
   },
   {
    "duration": 34,
    "start_time": "2022-01-10T14:50:02.107Z"
   },
   {
    "duration": 23,
    "start_time": "2022-01-10T14:50:20.481Z"
   },
   {
    "duration": 311,
    "start_time": "2022-01-10T14:50:36.353Z"
   },
   {
    "duration": 319,
    "start_time": "2022-01-10T14:52:27.376Z"
   },
   {
    "duration": 240,
    "start_time": "2022-01-10T14:52:58.140Z"
   },
   {
    "duration": 242,
    "start_time": "2022-01-10T14:53:05.166Z"
   },
   {
    "duration": 368,
    "start_time": "2022-01-10T14:53:10.001Z"
   },
   {
    "duration": 281,
    "start_time": "2022-01-10T14:54:36.718Z"
   },
   {
    "duration": 255,
    "start_time": "2022-01-10T14:54:59.642Z"
   },
   {
    "duration": 5964,
    "start_time": "2022-01-10T14:55:24.066Z"
   },
   {
    "duration": 84,
    "start_time": "2022-01-10T14:55:43.807Z"
   },
   {
    "duration": 81,
    "start_time": "2022-01-10T14:56:47.091Z"
   },
   {
    "duration": 76,
    "start_time": "2022-01-10T14:57:27.774Z"
   },
   {
    "duration": 417,
    "start_time": "2022-01-10T15:00:50.374Z"
   },
   {
    "duration": 80,
    "start_time": "2022-01-10T15:00:57.299Z"
   },
   {
    "duration": 82,
    "start_time": "2022-01-10T15:01:21.216Z"
   },
   {
    "duration": 4,
    "start_time": "2022-01-10T15:02:21.744Z"
   },
   {
    "duration": 425,
    "start_time": "2022-01-10T15:02:21.751Z"
   },
   {
    "duration": 123,
    "start_time": "2022-01-10T15:02:22.178Z"
   },
   {
    "duration": 52,
    "start_time": "2022-01-10T15:02:22.303Z"
   },
   {
    "duration": 90,
    "start_time": "2022-01-10T15:02:22.358Z"
   },
   {
    "duration": 38,
    "start_time": "2022-01-10T15:02:22.450Z"
   },
   {
    "duration": 19,
    "start_time": "2022-01-10T15:02:22.490Z"
   },
   {
    "duration": 93,
    "start_time": "2022-01-10T15:02:22.511Z"
   },
   {
    "duration": 43,
    "start_time": "2022-01-10T15:02:22.607Z"
   },
   {
    "duration": 14,
    "start_time": "2022-01-10T15:02:22.652Z"
   },
   {
    "duration": 32,
    "start_time": "2022-01-10T15:02:22.668Z"
   },
   {
    "duration": 107,
    "start_time": "2022-01-10T15:02:22.702Z"
   },
   {
    "duration": 58,
    "start_time": "2022-01-10T19:34:17.881Z"
   },
   {
    "duration": 57,
    "start_time": "2022-01-10T19:37:18.866Z"
   },
   {
    "duration": 59,
    "start_time": "2022-01-10T19:37:45.879Z"
   },
   {
    "duration": 75,
    "start_time": "2022-01-10T19:38:17.799Z"
   },
   {
    "duration": 1001,
    "start_time": "2022-01-10T19:43:27.953Z"
   },
   {
    "duration": 88,
    "start_time": "2022-01-10T19:43:58.658Z"
   },
   {
    "duration": 80,
    "start_time": "2022-01-10T19:44:29.748Z"
   },
   {
    "duration": 82,
    "start_time": "2022-01-10T19:45:04.203Z"
   },
   {
    "duration": 259,
    "start_time": "2022-01-10T19:56:16.191Z"
   },
   {
    "duration": 86,
    "start_time": "2022-01-10T19:58:37.675Z"
   },
   {
    "duration": 82,
    "start_time": "2022-01-10T19:59:00.865Z"
   },
   {
    "duration": 115,
    "start_time": "2022-01-10T19:59:47.057Z"
   },
   {
    "duration": 109,
    "start_time": "2022-01-10T20:00:17.902Z"
   },
   {
    "duration": 119,
    "start_time": "2022-01-10T20:01:00.883Z"
   },
   {
    "duration": 370,
    "start_time": "2022-01-10T20:04:57.023Z"
   },
   {
    "duration": 112,
    "start_time": "2022-01-10T20:05:19.122Z"
   },
   {
    "duration": 241,
    "start_time": "2022-01-10T20:10:04.712Z"
   },
   {
    "duration": 171,
    "start_time": "2022-01-10T20:10:10.676Z"
   },
   {
    "duration": 325,
    "start_time": "2022-01-10T20:10:14.808Z"
   },
   {
    "duration": 8,
    "start_time": "2022-01-10T20:10:31.552Z"
   },
   {
    "duration": 19,
    "start_time": "2022-01-10T20:10:41.568Z"
   },
   {
    "duration": 17,
    "start_time": "2022-01-10T20:12:20.461Z"
   },
   {
    "duration": 19,
    "start_time": "2022-01-10T20:12:26.153Z"
   },
   {
    "duration": 111,
    "start_time": "2022-01-10T20:12:48.213Z"
   },
   {
    "duration": 14,
    "start_time": "2022-01-10T20:12:51.880Z"
   },
   {
    "duration": 17,
    "start_time": "2022-01-10T20:12:59.313Z"
   },
   {
    "duration": 162,
    "start_time": "2022-01-10T20:15:54.839Z"
   },
   {
    "duration": 14,
    "start_time": "2022-01-10T20:16:58.971Z"
   },
   {
    "duration": 368,
    "start_time": "2022-01-10T20:26:01.476Z"
   },
   {
    "duration": 363,
    "start_time": "2022-01-10T20:26:47.474Z"
   },
   {
    "duration": 979,
    "start_time": "2022-01-10T20:28:22.390Z"
   },
   {
    "duration": 118,
    "start_time": "2022-01-10T20:31:22.482Z"
   },
   {
    "duration": 938,
    "start_time": "2022-01-10T20:31:33.802Z"
   },
   {
    "duration": 1112,
    "start_time": "2022-01-10T20:33:18.552Z"
   },
   {
    "duration": 796,
    "start_time": "2022-01-10T20:34:14.151Z"
   },
   {
    "duration": 1252,
    "start_time": "2022-01-10T20:34:30.697Z"
   },
   {
    "duration": 2790,
    "start_time": "2022-01-10T20:36:10.064Z"
   },
   {
    "duration": 1367,
    "start_time": "2022-01-12T02:43:36.403Z"
   },
   {
    "duration": 474,
    "start_time": "2022-01-12T02:43:37.773Z"
   },
   {
    "duration": 145,
    "start_time": "2022-01-12T02:43:38.250Z"
   },
   {
    "duration": 72,
    "start_time": "2022-01-12T02:43:38.397Z"
   },
   {
    "duration": 122,
    "start_time": "2022-01-12T02:43:38.472Z"
   },
   {
    "duration": 66,
    "start_time": "2022-01-12T02:43:38.597Z"
   },
   {
    "duration": 27,
    "start_time": "2022-01-12T02:43:38.666Z"
   },
   {
    "duration": 93,
    "start_time": "2022-01-12T02:43:38.696Z"
   },
   {
    "duration": 49,
    "start_time": "2022-01-12T02:43:38.792Z"
   },
   {
    "duration": 20,
    "start_time": "2022-01-12T02:43:38.844Z"
   },
   {
    "duration": 56,
    "start_time": "2022-01-12T02:43:38.867Z"
   },
   {
    "duration": 172,
    "start_time": "2022-01-12T02:43:38.925Z"
   },
   {
    "duration": 27,
    "start_time": "2022-01-12T02:43:39.099Z"
   },
   {
    "duration": 5484,
    "start_time": "2022-01-12T02:43:39.128Z"
   },
   {
    "duration": 23,
    "start_time": "2022-01-12T02:49:15.868Z"
   },
   {
    "duration": 8,
    "start_time": "2022-01-12T03:05:22.713Z"
   },
   {
    "duration": 682,
    "start_time": "2022-01-12T03:07:33.886Z"
   },
   {
    "duration": 560,
    "start_time": "2022-01-12T03:08:31.543Z"
   },
   {
    "duration": 252,
    "start_time": "2022-01-12T03:09:43.847Z"
   },
   {
    "duration": 248,
    "start_time": "2022-01-12T03:10:19.809Z"
   },
   {
    "duration": 444,
    "start_time": "2022-01-12T03:17:47.664Z"
   },
   {
    "duration": 60,
    "start_time": "2022-01-12T03:18:10.905Z"
   },
   {
    "duration": 58,
    "start_time": "2022-01-12T03:19:24.720Z"
   },
   {
    "duration": 53,
    "start_time": "2022-01-12T03:19:35.394Z"
   },
   {
    "duration": 66,
    "start_time": "2022-01-12T03:23:30.597Z"
   },
   {
    "duration": 54,
    "start_time": "2022-01-12T03:24:27.349Z"
   },
   {
    "duration": 247,
    "start_time": "2022-01-12T03:28:54.963Z"
   },
   {
    "duration": 6,
    "start_time": "2022-01-12T03:34:18.359Z"
   },
   {
    "duration": 7751,
    "start_time": "2022-01-12T03:44:50.421Z"
   },
   {
    "duration": 7,
    "start_time": "2022-01-12T03:45:12.389Z"
   },
   {
    "duration": 8428,
    "start_time": "2022-01-12T03:54:13.627Z"
   },
   {
    "duration": 347,
    "start_time": "2022-01-12T03:55:12.684Z"
   },
   {
    "duration": 6,
    "start_time": "2022-01-12T03:55:41.847Z"
   },
   {
    "duration": 485,
    "start_time": "2022-01-12T05:06:44.881Z"
   },
   {
    "duration": 464,
    "start_time": "2022-01-12T05:07:55.830Z"
   },
   {
    "duration": 538,
    "start_time": "2022-01-12T05:08:28.648Z"
   },
   {
    "duration": 2861,
    "start_time": "2022-01-12T05:11:34.896Z"
   },
   {
    "duration": 4,
    "start_time": "2022-01-12T14:43:21.456Z"
   },
   {
    "duration": 539,
    "start_time": "2022-01-12T14:43:21.462Z"
   },
   {
    "duration": 157,
    "start_time": "2022-01-12T14:43:22.004Z"
   },
   {
    "duration": 91,
    "start_time": "2022-01-12T14:43:22.164Z"
   },
   {
    "duration": 127,
    "start_time": "2022-01-12T14:43:22.258Z"
   },
   {
    "duration": 70,
    "start_time": "2022-01-12T14:43:22.388Z"
   },
   {
    "duration": 21,
    "start_time": "2022-01-12T14:43:22.461Z"
   },
   {
    "duration": 85,
    "start_time": "2022-01-12T14:43:22.485Z"
   },
   {
    "duration": 33,
    "start_time": "2022-01-12T14:43:22.573Z"
   },
   {
    "duration": 29,
    "start_time": "2022-01-12T14:43:22.609Z"
   },
   {
    "duration": 25,
    "start_time": "2022-01-12T14:43:22.641Z"
   },
   {
    "duration": 10572,
    "start_time": "2022-01-12T14:43:22.669Z"
   },
   {
    "duration": 79319266,
    "start_time": "2022-01-11T16:41:33.977Z"
   },
   {
    "duration": 79319264,
    "start_time": "2022-01-11T16:41:33.981Z"
   },
   {
    "duration": 79319263,
    "start_time": "2022-01-11T16:41:33.984Z"
   },
   {
    "duration": 79319254,
    "start_time": "2022-01-11T16:41:33.994Z"
   },
   {
    "duration": 79319247,
    "start_time": "2022-01-11T16:41:34.003Z"
   },
   {
    "duration": 79319221,
    "start_time": "2022-01-11T16:41:34.030Z"
   },
   {
    "duration": 60,
    "start_time": "2022-01-12T14:44:17.580Z"
   },
   {
    "duration": 4,
    "start_time": "2022-01-12T14:44:22.821Z"
   },
   {
    "duration": 564,
    "start_time": "2022-01-12T14:44:22.828Z"
   },
   {
    "duration": 135,
    "start_time": "2022-01-12T14:44:23.395Z"
   },
   {
    "duration": 66,
    "start_time": "2022-01-12T14:44:23.533Z"
   },
   {
    "duration": 153,
    "start_time": "2022-01-12T14:44:23.603Z"
   },
   {
    "duration": 67,
    "start_time": "2022-01-12T14:44:23.758Z"
   },
   {
    "duration": 22,
    "start_time": "2022-01-12T14:44:23.828Z"
   },
   {
    "duration": 98,
    "start_time": "2022-01-12T14:44:23.853Z"
   },
   {
    "duration": 71,
    "start_time": "2022-01-12T14:44:23.955Z"
   },
   {
    "duration": 27,
    "start_time": "2022-01-12T14:44:24.029Z"
   },
   {
    "duration": 37,
    "start_time": "2022-01-12T14:44:24.059Z"
   },
   {
    "duration": 1545,
    "start_time": "2022-01-12T14:44:24.099Z"
   },
   {
    "duration": 79319501,
    "start_time": "2022-01-11T16:42:26.146Z"
   },
   {
    "duration": 79319480,
    "start_time": "2022-01-11T16:42:26.170Z"
   },
   {
    "duration": 79319471,
    "start_time": "2022-01-11T16:42:26.181Z"
   },
   {
    "duration": 79319469,
    "start_time": "2022-01-11T16:42:26.185Z"
   },
   {
    "duration": 79319462,
    "start_time": "2022-01-11T16:42:26.195Z"
   },
   {
    "duration": 79319448,
    "start_time": "2022-01-11T16:42:26.211Z"
   },
   {
    "duration": 158,
    "start_time": "2022-01-12T14:45:11.953Z"
   },
   {
    "duration": 4,
    "start_time": "2022-01-12T14:45:46.773Z"
   },
   {
    "duration": 468,
    "start_time": "2022-01-12T14:45:46.780Z"
   },
   {
    "duration": 127,
    "start_time": "2022-01-12T14:45:47.250Z"
   },
   {
    "duration": 64,
    "start_time": "2022-01-12T14:45:47.379Z"
   },
   {
    "duration": 132,
    "start_time": "2022-01-12T14:45:47.446Z"
   },
   {
    "duration": 71,
    "start_time": "2022-01-12T14:45:47.581Z"
   },
   {
    "duration": 22,
    "start_time": "2022-01-12T14:45:47.657Z"
   },
   {
    "duration": 111,
    "start_time": "2022-01-12T14:45:47.682Z"
   },
   {
    "duration": 51,
    "start_time": "2022-01-12T14:45:47.795Z"
   },
   {
    "duration": 21,
    "start_time": "2022-01-12T14:45:47.848Z"
   },
   {
    "duration": 57,
    "start_time": "2022-01-12T14:45:47.872Z"
   },
   {
    "duration": 200,
    "start_time": "2022-01-12T14:45:47.933Z"
   },
   {
    "duration": 26,
    "start_time": "2022-01-12T14:45:48.135Z"
   },
   {
    "duration": 61,
    "start_time": "2022-01-12T14:45:48.164Z"
   },
   {
    "duration": 294,
    "start_time": "2022-01-12T14:45:48.229Z"
   },
   {
    "duration": 52,
    "start_time": "2022-01-12T14:45:48.525Z"
   },
   {
    "duration": 7,
    "start_time": "2022-01-12T14:45:48.580Z"
   },
   {
    "duration": 2779,
    "start_time": "2022-01-12T14:45:48.590Z"
   },
   {
    "duration": 161,
    "start_time": "2022-01-12T14:47:49.864Z"
   },
   {
    "duration": 152,
    "start_time": "2022-01-12T14:47:56.965Z"
   },
   {
    "duration": 4,
    "start_time": "2022-01-12T14:48:32.196Z"
   },
   {
    "duration": 506,
    "start_time": "2022-01-12T14:48:32.204Z"
   },
   {
    "duration": 138,
    "start_time": "2022-01-12T14:48:32.713Z"
   },
   {
    "duration": 69,
    "start_time": "2022-01-12T14:48:32.854Z"
   },
   {
    "duration": 117,
    "start_time": "2022-01-12T14:48:32.925Z"
   },
   {
    "duration": 45,
    "start_time": "2022-01-12T14:48:33.044Z"
   },
   {
    "duration": 48,
    "start_time": "2022-01-12T14:48:33.093Z"
   },
   {
    "duration": 101,
    "start_time": "2022-01-12T14:48:33.144Z"
   },
   {
    "duration": 36,
    "start_time": "2022-01-12T14:48:33.248Z"
   },
   {
    "duration": 40,
    "start_time": "2022-01-12T14:48:33.287Z"
   },
   {
    "duration": 28,
    "start_time": "2022-01-12T14:48:33.330Z"
   },
   {
    "duration": 191,
    "start_time": "2022-01-12T14:48:33.360Z"
   },
   {
    "duration": 24,
    "start_time": "2022-01-12T14:48:33.553Z"
   },
   {
    "duration": 52,
    "start_time": "2022-01-12T14:48:33.580Z"
   },
   {
    "duration": 250,
    "start_time": "2022-01-12T14:48:33.634Z"
   },
   {
    "duration": 65,
    "start_time": "2022-01-12T14:48:33.887Z"
   },
   {
    "duration": 6,
    "start_time": "2022-01-12T14:48:33.955Z"
   },
   {
    "duration": 2704,
    "start_time": "2022-01-12T14:48:33.963Z"
   },
   {
    "duration": 323,
    "start_time": "2022-01-12T14:49:56.136Z"
   },
   {
    "duration": 41,
    "start_time": "2022-01-12T14:50:09.684Z"
   },
   {
    "duration": 77,
    "start_time": "2022-01-12T14:50:27.108Z"
   },
   {
    "duration": 43,
    "start_time": "2022-01-12T14:50:38.101Z"
   },
   {
    "duration": 67,
    "start_time": "2022-01-12T14:50:46.165Z"
   },
   {
    "duration": 41,
    "start_time": "2022-01-12T14:52:10.824Z"
   },
   {
    "duration": 43,
    "start_time": "2022-01-12T14:52:20.314Z"
   },
   {
    "duration": 122,
    "start_time": "2022-01-12T14:52:48.565Z"
   },
   {
    "duration": 487,
    "start_time": "2022-01-12T14:53:07.160Z"
   },
   {
    "duration": 117,
    "start_time": "2022-01-12T14:53:25.838Z"
   },
   {
    "duration": 47,
    "start_time": "2022-01-12T14:53:46.750Z"
   },
   {
    "duration": 25,
    "start_time": "2022-01-12T14:53:58.495Z"
   },
   {
    "duration": 71,
    "start_time": "2022-01-12T14:54:09.913Z"
   },
   {
    "duration": 36,
    "start_time": "2022-01-12T14:54:19.293Z"
   },
   {
    "duration": 21,
    "start_time": "2022-01-12T14:54:30.858Z"
   },
   {
    "duration": 24,
    "start_time": "2022-01-12T14:54:37.412Z"
   },
   {
    "duration": 495,
    "start_time": "2022-01-12T14:54:56.707Z"
   },
   {
    "duration": 56,
    "start_time": "2022-01-12T14:55:36.370Z"
   },
   {
    "duration": 171,
    "start_time": "2022-01-12T14:55:50.996Z"
   },
   {
    "duration": 4,
    "start_time": "2022-01-12T14:57:03.507Z"
   },
   {
    "duration": 669,
    "start_time": "2022-01-12T14:57:04.734Z"
   },
   {
    "duration": 133,
    "start_time": "2022-01-12T14:57:14.618Z"
   },
   {
    "duration": 55,
    "start_time": "2022-01-12T14:57:30.674Z"
   },
   {
    "duration": 109,
    "start_time": "2022-01-12T14:57:34.945Z"
   },
   {
    "duration": 48,
    "start_time": "2022-01-12T14:57:45.494Z"
   },
   {
    "duration": 21,
    "start_time": "2022-01-12T14:57:56.383Z"
   },
   {
    "duration": 75,
    "start_time": "2022-01-12T14:58:02.155Z"
   },
   {
    "duration": 34,
    "start_time": "2022-01-12T14:58:20.429Z"
   },
   {
    "duration": 21,
    "start_time": "2022-01-12T14:58:25.004Z"
   },
   {
    "duration": 26,
    "start_time": "2022-01-12T14:58:30.872Z"
   },
   {
    "duration": 172,
    "start_time": "2022-01-12T14:58:41.317Z"
   },
   {
    "duration": 257,
    "start_time": "2022-01-12T14:59:30.111Z"
   },
   {
    "duration": 151,
    "start_time": "2022-01-12T15:00:12.443Z"
   },
   {
    "duration": 219,
    "start_time": "2022-01-12T15:01:32.682Z"
   },
   {
    "duration": 161,
    "start_time": "2022-01-12T15:02:09.312Z"
   },
   {
    "duration": 157,
    "start_time": "2022-01-12T15:03:08.240Z"
   },
   {
    "duration": 21,
    "start_time": "2022-01-12T15:03:53.371Z"
   },
   {
    "duration": 23,
    "start_time": "2022-01-12T15:04:13.862Z"
   },
   {
    "duration": 121,
    "start_time": "2022-01-12T15:07:49.051Z"
   },
   {
    "duration": 100,
    "start_time": "2022-01-12T15:08:32.075Z"
   },
   {
    "duration": 8,
    "start_time": "2022-01-12T15:08:36.481Z"
   },
   {
    "duration": 353,
    "start_time": "2022-01-12T15:08:54.775Z"
   },
   {
    "duration": 4,
    "start_time": "2022-01-12T15:13:54.305Z"
   },
   {
    "duration": 21,
    "start_time": "2022-01-12T15:15:43.281Z"
   },
   {
    "duration": 18,
    "start_time": "2022-01-12T15:15:58.877Z"
   },
   {
    "duration": 160,
    "start_time": "2022-01-12T15:16:13.993Z"
   },
   {
    "duration": 16,
    "start_time": "2022-01-12T15:16:18.901Z"
   },
   {
    "duration": 15,
    "start_time": "2022-01-12T15:18:48.948Z"
   },
   {
    "duration": 16,
    "start_time": "2022-01-12T15:19:18.179Z"
   },
   {
    "duration": 17,
    "start_time": "2022-01-12T15:21:43.368Z"
   },
   {
    "duration": 241,
    "start_time": "2022-01-12T15:22:13.627Z"
   },
   {
    "duration": 166,
    "start_time": "2022-01-12T15:22:38.605Z"
   },
   {
    "duration": 157,
    "start_time": "2022-01-12T15:22:44.680Z"
   },
   {
    "duration": 20,
    "start_time": "2022-01-12T15:24:07.735Z"
   },
   {
    "duration": 21,
    "start_time": "2022-01-12T15:24:20.355Z"
   },
   {
    "duration": 23,
    "start_time": "2022-01-12T15:24:27.068Z"
   },
   {
    "duration": 252,
    "start_time": "2022-01-12T15:24:31.572Z"
   },
   {
    "duration": 55,
    "start_time": "2022-01-12T15:24:51.731Z"
   },
   {
    "duration": 244,
    "start_time": "2022-01-12T15:25:58.095Z"
   },
   {
    "duration": 53,
    "start_time": "2022-01-12T15:26:26.091Z"
   },
   {
    "duration": 7,
    "start_time": "2022-01-12T15:26:38.851Z"
   },
   {
    "duration": 7,
    "start_time": "2022-01-12T15:26:58.906Z"
   },
   {
    "duration": 2675,
    "start_time": "2022-01-12T15:28:50.127Z"
   },
   {
    "duration": 111,
    "start_time": "2022-01-12T15:32:54.035Z"
   },
   {
    "duration": 130,
    "start_time": "2022-01-12T15:33:11.306Z"
   },
   {
    "duration": 114,
    "start_time": "2022-01-12T15:33:23.188Z"
   },
   {
    "duration": 121,
    "start_time": "2022-01-12T15:33:48.205Z"
   },
   {
    "duration": 108,
    "start_time": "2022-01-12T15:34:02.621Z"
   },
   {
    "duration": 119,
    "start_time": "2022-01-12T15:34:22.900Z"
   },
   {
    "duration": 116,
    "start_time": "2022-01-12T15:35:10.326Z"
   },
   {
    "duration": 136,
    "start_time": "2022-01-12T15:35:24.154Z"
   },
   {
    "duration": 116,
    "start_time": "2022-01-12T15:35:56.931Z"
   },
   {
    "duration": 120,
    "start_time": "2022-01-12T15:36:19.645Z"
   },
   {
    "duration": 29,
    "start_time": "2022-01-12T15:36:30.983Z"
   },
   {
    "duration": 17,
    "start_time": "2022-01-12T15:36:48.916Z"
   },
   {
    "duration": 19,
    "start_time": "2022-01-12T15:37:09.745Z"
   },
   {
    "duration": 455,
    "start_time": "2022-01-12T15:37:22.968Z"
   },
   {
    "duration": 342,
    "start_time": "2022-01-12T15:38:21.536Z"
   },
   {
    "duration": 354,
    "start_time": "2022-01-12T15:38:31.959Z"
   },
   {
    "duration": 659,
    "start_time": "2022-01-12T15:38:58.276Z"
   },
   {
    "duration": 30,
    "start_time": "2022-01-12T15:42:04.782Z"
   },
   {
    "duration": 28,
    "start_time": "2022-01-12T15:42:16.395Z"
   },
   {
    "duration": 13,
    "start_time": "2022-01-12T15:46:49.495Z"
   },
   {
    "duration": 8712,
    "start_time": "2022-01-12T15:49:08.545Z"
   },
   {
    "duration": 82918690,
    "start_time": "2022-01-11T16:47:18.570Z"
   },
   {
    "duration": 6,
    "start_time": "2022-01-12T15:49:30.561Z"
   },
   {
    "duration": 16,
    "start_time": "2022-01-12T15:49:57.807Z"
   },
   {
    "duration": 1459,
    "start_time": "2022-01-12T15:50:46.356Z"
   },
   {
    "duration": 727,
    "start_time": "2022-01-12T16:22:05.428Z"
   },
   {
    "duration": 406,
    "start_time": "2022-01-12T16:22:49.725Z"
   },
   {
    "duration": 389,
    "start_time": "2022-01-12T16:23:04.401Z"
   },
   {
    "duration": 385,
    "start_time": "2022-01-12T16:23:14.768Z"
   },
   {
    "duration": 387,
    "start_time": "2022-01-12T16:23:43.410Z"
   },
   {
    "duration": 765,
    "start_time": "2022-01-12T16:24:49.740Z"
   },
   {
    "duration": 427,
    "start_time": "2022-01-12T16:25:01.904Z"
   },
   {
    "duration": 683,
    "start_time": "2022-01-12T16:27:25.676Z"
   },
   {
    "duration": 8127,
    "start_time": "2022-01-12T16:28:10.093Z"
   },
   {
    "duration": 467,
    "start_time": "2022-01-12T16:28:36.476Z"
   },
   {
    "duration": 304,
    "start_time": "2022-01-12T16:29:18.692Z"
   },
   {
    "duration": 406,
    "start_time": "2022-01-12T16:29:30.472Z"
   },
   {
    "duration": 488,
    "start_time": "2022-01-12T16:29:36.770Z"
   },
   {
    "duration": 1227,
    "start_time": "2022-01-12T16:29:43.162Z"
   },
   {
    "duration": 614,
    "start_time": "2022-01-12T16:29:55.978Z"
   },
   {
    "duration": 480,
    "start_time": "2022-01-12T16:30:31.389Z"
   },
   {
    "duration": 461,
    "start_time": "2022-01-12T16:30:54.335Z"
   },
   {
    "duration": 470,
    "start_time": "2022-01-12T16:31:24.870Z"
   },
   {
    "duration": 658,
    "start_time": "2022-01-12T16:31:34.300Z"
   },
   {
    "duration": 465,
    "start_time": "2022-01-12T16:32:18.597Z"
   },
   {
    "duration": 512,
    "start_time": "2022-01-12T16:33:01.801Z"
   },
   {
    "duration": 461,
    "start_time": "2022-01-12T16:36:54.593Z"
   },
   {
    "duration": 468,
    "start_time": "2022-01-12T16:38:01.542Z"
   },
   {
    "duration": 13,
    "start_time": "2022-01-12T16:39:23.980Z"
   },
   {
    "duration": 445,
    "start_time": "2022-01-12T16:40:32.202Z"
   },
   {
    "duration": 495,
    "start_time": "2022-01-12T16:41:58.061Z"
   },
   {
    "duration": 511,
    "start_time": "2022-01-12T16:42:25.535Z"
   },
   {
    "duration": 498,
    "start_time": "2022-01-12T16:42:51.672Z"
   },
   {
    "duration": 12,
    "start_time": "2022-01-12T16:43:53.696Z"
   },
   {
    "duration": 521,
    "start_time": "2022-01-12T16:44:11.766Z"
   },
   {
    "duration": 507,
    "start_time": "2022-01-12T16:45:17.530Z"
   },
   {
    "duration": 494,
    "start_time": "2022-01-12T16:45:24.068Z"
   },
   {
    "duration": 708,
    "start_time": "2022-01-12T16:45:40.629Z"
   },
   {
    "duration": 1213,
    "start_time": "2022-01-12T16:45:55.284Z"
   },
   {
    "duration": 725,
    "start_time": "2022-01-12T16:46:06.352Z"
   },
   {
    "duration": 683,
    "start_time": "2022-01-12T16:49:07.565Z"
   },
   {
    "duration": 678,
    "start_time": "2022-01-12T16:52:31.279Z"
   },
   {
    "duration": 11,
    "start_time": "2022-01-12T16:57:42.148Z"
   },
   {
    "duration": 6,
    "start_time": "2022-01-12T16:58:08.420Z"
   },
   {
    "duration": 9,
    "start_time": "2022-01-12T16:59:06.082Z"
   },
   {
    "duration": 13,
    "start_time": "2022-01-12T18:23:41.951Z"
   },
   {
    "duration": 12,
    "start_time": "2022-01-12T18:24:26.708Z"
   },
   {
    "duration": 12,
    "start_time": "2022-01-12T18:24:38.546Z"
   },
   {
    "duration": 346,
    "start_time": "2022-01-12T18:35:18.948Z"
   },
   {
    "duration": 14,
    "start_time": "2022-01-12T18:35:32.641Z"
   },
   {
    "duration": 23,
    "start_time": "2022-01-12T18:48:12.064Z"
   },
   {
    "duration": 985,
    "start_time": "2022-01-14T12:41:32.228Z"
   },
   {
    "duration": 324,
    "start_time": "2022-01-14T12:41:33.215Z"
   },
   {
    "duration": 95,
    "start_time": "2022-01-14T12:41:33.541Z"
   },
   {
    "duration": 39,
    "start_time": "2022-01-14T12:41:33.638Z"
   },
   {
    "duration": 76,
    "start_time": "2022-01-14T12:41:33.678Z"
   },
   {
    "duration": 27,
    "start_time": "2022-01-14T12:41:33.755Z"
   },
   {
    "duration": 29,
    "start_time": "2022-01-14T12:41:33.783Z"
   },
   {
    "duration": 48,
    "start_time": "2022-01-14T12:41:33.813Z"
   },
   {
    "duration": 22,
    "start_time": "2022-01-14T12:41:33.863Z"
   },
   {
    "duration": 28,
    "start_time": "2022-01-14T12:41:33.886Z"
   },
   {
    "duration": 14,
    "start_time": "2022-01-14T12:41:33.915Z"
   },
   {
    "duration": 129,
    "start_time": "2022-01-14T12:41:33.930Z"
   },
   {
    "duration": 10,
    "start_time": "2022-01-14T12:41:34.061Z"
   },
   {
    "duration": 11,
    "start_time": "2022-01-14T12:41:34.072Z"
   },
   {
    "duration": 29,
    "start_time": "2022-01-14T12:41:34.085Z"
   },
   {
    "duration": 130,
    "start_time": "2022-01-14T12:41:34.116Z"
   },
   {
    "duration": 29,
    "start_time": "2022-01-14T12:41:34.247Z"
   },
   {
    "duration": 4,
    "start_time": "2022-01-14T12:41:34.277Z"
   },
   {
    "duration": 408,
    "start_time": "2022-01-14T12:41:34.282Z"
   },
   {
    "duration": 377,
    "start_time": "2022-01-14T12:41:34.691Z"
   },
   {
    "duration": 440,
    "start_time": "2022-01-14T12:41:35.069Z"
   },
   {
    "duration": 6,
    "start_time": "2022-01-14T12:41:35.510Z"
   },
   {
    "duration": 9,
    "start_time": "2022-01-14T12:41:35.517Z"
   },
   {
    "duration": 6,
    "start_time": "2022-01-14T12:41:35.528Z"
   },
   {
    "duration": 12,
    "start_time": "2022-01-14T12:41:35.536Z"
   },
   {
    "duration": 402,
    "start_time": "2022-01-14T12:45:32.867Z"
   },
   {
    "duration": 412,
    "start_time": "2022-01-14T12:47:45.488Z"
   },
   {
    "duration": 415,
    "start_time": "2022-01-14T12:47:51.038Z"
   },
   {
    "duration": 415,
    "start_time": "2022-01-14T12:48:03.248Z"
   },
   {
    "duration": 430,
    "start_time": "2022-01-14T12:48:30.819Z"
   },
   {
    "duration": 487,
    "start_time": "2022-01-14T12:48:36.898Z"
   },
   {
    "duration": 414,
    "start_time": "2022-01-14T12:49:29.058Z"
   },
   {
    "duration": 380,
    "start_time": "2022-01-14T12:49:38.368Z"
   },
   {
    "duration": 412,
    "start_time": "2022-01-14T12:49:45.428Z"
   },
   {
    "duration": 7,
    "start_time": "2022-01-14T12:50:48.828Z"
   },
   {
    "duration": 7,
    "start_time": "2022-01-14T12:51:11.088Z"
   },
   {
    "duration": 377,
    "start_time": "2022-01-14T12:52:26.897Z"
   },
   {
    "duration": 281,
    "start_time": "2022-01-14T12:52:42.808Z"
   },
   {
    "duration": 7,
    "start_time": "2022-01-14T12:53:16.367Z"
   },
   {
    "duration": 14,
    "start_time": "2022-01-14T12:59:31.877Z"
   },
   {
    "duration": 19,
    "start_time": "2022-01-14T13:00:06.427Z"
   },
   {
    "duration": 15,
    "start_time": "2022-01-14T13:00:09.018Z"
   },
   {
    "duration": 372,
    "start_time": "2022-01-14T14:49:17.863Z"
   },
   {
    "duration": 1400,
    "start_time": "2022-01-14T14:49:24.243Z"
   },
   {
    "duration": 586,
    "start_time": "2022-01-14T14:49:25.646Z"
   },
   {
    "duration": 167,
    "start_time": "2022-01-14T14:49:26.236Z"
   },
   {
    "duration": 83,
    "start_time": "2022-01-14T14:49:26.406Z"
   },
   {
    "duration": 134,
    "start_time": "2022-01-14T14:49:26.491Z"
   },
   {
    "duration": 62,
    "start_time": "2022-01-14T14:49:26.627Z"
   },
   {
    "duration": 22,
    "start_time": "2022-01-14T14:49:26.691Z"
   },
   {
    "duration": 107,
    "start_time": "2022-01-14T14:49:26.717Z"
   },
   {
    "duration": 49,
    "start_time": "2022-01-14T14:49:26.828Z"
   },
   {
    "duration": 20,
    "start_time": "2022-01-14T14:49:26.880Z"
   },
   {
    "duration": 25,
    "start_time": "2022-01-14T14:49:26.903Z"
   },
   {
    "duration": 74,
    "start_time": "2022-01-14T14:49:26.959Z"
   },
   {
    "duration": 84,
    "start_time": "2022-01-14T14:49:27.035Z"
   },
   {
    "duration": 59,
    "start_time": "2022-01-14T14:49:27.121Z"
   },
   {
    "duration": 22,
    "start_time": "2022-01-14T14:49:27.182Z"
   },
   {
    "duration": 21,
    "start_time": "2022-01-14T14:49:27.206Z"
   },
   {
    "duration": 45,
    "start_time": "2022-01-14T14:49:27.230Z"
   },
   {
    "duration": 250,
    "start_time": "2022-01-14T14:49:27.277Z"
   },
   {
    "duration": 68,
    "start_time": "2022-01-14T14:49:27.529Z"
   },
   {
    "duration": 6,
    "start_time": "2022-01-14T14:49:27.599Z"
   },
   {
    "duration": 737,
    "start_time": "2022-01-14T14:49:27.607Z"
   },
   {
    "duration": 718,
    "start_time": "2022-01-14T14:49:28.346Z"
   },
   {
    "duration": 745,
    "start_time": "2022-01-14T14:49:29.067Z"
   },
   {
    "duration": 821,
    "start_time": "2022-01-14T14:49:29.814Z"
   },
   {
    "duration": 9,
    "start_time": "2022-01-14T14:49:30.637Z"
   },
   {
    "duration": 20,
    "start_time": "2022-01-14T14:49:30.659Z"
   },
   {
    "duration": 12,
    "start_time": "2022-01-14T14:49:30.683Z"
   },
   {
    "duration": 30,
    "start_time": "2022-01-14T14:49:30.697Z"
   },
   {
    "duration": 689,
    "start_time": "2022-01-14T15:04:20.524Z"
   },
   {
    "duration": 708,
    "start_time": "2022-01-14T15:04:40.704Z"
   },
   {
    "duration": 724,
    "start_time": "2022-01-14T15:05:18.924Z"
   }
  ],
  "kernelspec": {
   "display_name": "Python 3 (ipykernel)",
   "language": "python",
   "name": "python3"
  },
  "language_info": {
   "codemirror_mode": {
    "name": "ipython",
    "version": 3
   },
   "file_extension": ".py",
   "mimetype": "text/x-python",
   "name": "python",
   "nbconvert_exporter": "python",
   "pygments_lexer": "ipython3",
   "version": "3.9.7"
  },
  "toc": {
   "base_numbering": 1,
   "nav_menu": {},
   "number_sections": false,
   "sideBar": true,
   "skip_h1_title": false,
   "title_cell": "Table of Contents",
   "title_sidebar": "Contents",
   "toc_cell": false,
   "toc_position": {
    "height": "calc(100% - 180px)",
    "left": "10px",
    "top": "150px",
    "width": "386px"
   },
   "toc_section_display": true,
   "toc_window_display": false
  }
 },
 "nbformat": 4,
 "nbformat_minor": 2
}
