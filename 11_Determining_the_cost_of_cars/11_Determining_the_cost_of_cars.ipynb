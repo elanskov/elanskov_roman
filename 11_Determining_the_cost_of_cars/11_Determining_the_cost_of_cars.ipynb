{
 "cells": [
  {
   "cell_type": "markdown",
   "metadata": {},
   "source": [
    "# Определение стоимости автомобилей"
   ]
  },
  {
   "cell_type": "markdown",
   "metadata": {},
   "source": [
    "Сервис по продаже автомобилей с пробегом «Не бит, не крашен» разрабатывает приложение для привлечения новых клиентов. В нём можно быстро узнать рыночную стоимость своего автомобиля. В вашем распоряжении исторические данные: технические характеристики, комплектации и цены автомобилей. Вам нужно построить модель для определения стоимости. \n",
    "\n",
    "Заказчику важны:\n",
    "\n",
    "- качество предсказания;\n",
    "- скорость предсказания;\n",
    "- время обучения."
   ]
  },
  {
   "cell_type": "markdown",
   "metadata": {},
   "source": [
    "## Подготовка данных"
   ]
  },
  {
   "cell_type": "markdown",
   "metadata": {},
   "source": [
    "### Описание данных\n",
    "\n",
    "#### Признаки\n",
    "\n",
    "\n",
    " - DateCrawled — дата скачивания анкеты из базы\n",
    " - VehicleType — тип автомобильного кузова\n",
    " - RegistrationYear — год регистрации автомобиля\n",
    " - Gearbox — тип коробки передач\n",
    " - Power — мощность (л. с.)\n",
    " - Model — модель автомобиля\n",
    " - Kilometer — пробег (км)\n",
    " - RegistrationMonth — месяц регистрации автомобиля\n",
    " - FuelType — тип топлива\n",
    " - Brand — марка автомобиля\n",
    " - NotRepaired — была машина в ремонте или нет\n",
    " - DateCreated — дата создания анкеты\n",
    " - NumberOfPictures — количество фотографий автомобиля\n",
    " - PostalCode — почтовый индекс владельца анкеты (пользователя)\n",
    " - LastSeen — дата последней активности пользователя\n",
    "\n",
    "\n",
    "#### Целевой признак\n",
    "\n",
    " - Price — цена (евро)"
   ]
  },
  {
   "cell_type": "markdown",
   "metadata": {},
   "source": [
    "### Загрузка и изучение данных"
   ]
  },
  {
   "cell_type": "code",
   "execution_count": 1,
   "metadata": {},
   "outputs": [],
   "source": [
    "# импорт необходимых библитоек и функций:\n",
    "import pandas as pd\n",
    "import numpy as np\n",
    "\n",
    "from sklearn.dummy import DummyRegressor\n",
    "from sklearn.metrics import mean_squared_error\n",
    "from sklearn.linear_model import LinearRegression\n",
    "from sklearn.model_selection import train_test_split, cross_val_score, GridSearchCV\n",
    "from sklearn.preprocessing import StandardScaler\n",
    "\n",
    "from catboost import CatBoostRegressor\n",
    "import lightgbm as lgb\n",
    "from lightgbm import LGBMRegressor\n",
    "\n",
    "from math import sqrt\n",
    "\n",
    "import warnings\n",
    "warnings.filterwarnings(\"ignore\")"
   ]
  },
  {
   "cell_type": "code",
   "execution_count": 2,
   "metadata": {},
   "outputs": [],
   "source": [
    "df = pd.read_csv('/datasets/autos.csv')"
   ]
  },
  {
   "cell_type": "code",
   "execution_count": 3,
   "metadata": {},
   "outputs": [
    {
     "name": "stdout",
     "output_type": "stream",
     "text": [
      "<class 'pandas.core.frame.DataFrame'>\n",
      "RangeIndex: 354369 entries, 0 to 354368\n",
      "Data columns (total 16 columns):\n",
      " #   Column             Non-Null Count   Dtype \n",
      "---  ------             --------------   ----- \n",
      " 0   DateCrawled        354369 non-null  object\n",
      " 1   Price              354369 non-null  int64 \n",
      " 2   VehicleType        316879 non-null  object\n",
      " 3   RegistrationYear   354369 non-null  int64 \n",
      " 4   Gearbox            334536 non-null  object\n",
      " 5   Power              354369 non-null  int64 \n",
      " 6   Model              334664 non-null  object\n",
      " 7   Kilometer          354369 non-null  int64 \n",
      " 8   RegistrationMonth  354369 non-null  int64 \n",
      " 9   FuelType           321474 non-null  object\n",
      " 10  Brand              354369 non-null  object\n",
      " 11  NotRepaired        283215 non-null  object\n",
      " 12  DateCreated        354369 non-null  object\n",
      " 13  NumberOfPictures   354369 non-null  int64 \n",
      " 14  PostalCode         354369 non-null  int64 \n",
      " 15  LastSeen           354369 non-null  object\n",
      "dtypes: int64(7), object(9)\n",
      "memory usage: 43.3+ MB\n"
     ]
    }
   ],
   "source": [
    "df.info()"
   ]
  },
  {
   "cell_type": "markdown",
   "metadata": {},
   "source": [
    "### Предоработка"
   ]
  },
  {
   "cell_type": "markdown",
   "metadata": {},
   "source": [
    "Проверим количество дубликатов:"
   ]
  },
  {
   "cell_type": "code",
   "execution_count": 4,
   "metadata": {},
   "outputs": [
    {
     "data": {
      "text/plain": [
       "4"
      ]
     },
     "execution_count": 4,
     "metadata": {},
     "output_type": "execute_result"
    }
   ],
   "source": [
    "df.duplicated().sum()"
   ]
  },
  {
   "cell_type": "markdown",
   "metadata": {},
   "source": [
    "Даже такое небольшое количество дубликатов может повлиять на результат. Их необходимо удалить."
   ]
  },
  {
   "cell_type": "code",
   "execution_count": 5,
   "metadata": {},
   "outputs": [
    {
     "data": {
      "text/plain": [
       "0"
      ]
     },
     "execution_count": 5,
     "metadata": {},
     "output_type": "execute_result"
    }
   ],
   "source": [
    "df = df.drop_duplicates()\n",
    "df.duplicated().sum()"
   ]
  },
  {
   "cell_type": "markdown",
   "metadata": {},
   "source": [
    "От дубликтов избавились. Теперь необходимо проверить пропуски."
   ]
  },
  {
   "cell_type": "code",
   "execution_count": 6,
   "metadata": {},
   "outputs": [
    {
     "data": {
      "text/plain": [
       "DateCrawled              0\n",
       "Price                    0\n",
       "VehicleType          37490\n",
       "RegistrationYear         0\n",
       "Gearbox              19833\n",
       "Power                    0\n",
       "Model                19705\n",
       "Kilometer                0\n",
       "RegistrationMonth        0\n",
       "FuelType             32895\n",
       "Brand                    0\n",
       "NotRepaired          71154\n",
       "DateCreated              0\n",
       "NumberOfPictures         0\n",
       "PostalCode               0\n",
       "LastSeen                 0\n",
       "dtype: int64"
      ]
     },
     "execution_count": 6,
     "metadata": {},
     "output_type": "execute_result"
    }
   ],
   "source": [
    "df.isna().sum()"
   ]
  },
  {
   "cell_type": "code",
   "execution_count": 7,
   "metadata": {},
   "outputs": [
    {
     "data": {
      "text/html": [
       "<div>\n",
       "<style scoped>\n",
       "    .dataframe tbody tr th:only-of-type {\n",
       "        vertical-align: middle;\n",
       "    }\n",
       "\n",
       "    .dataframe tbody tr th {\n",
       "        vertical-align: top;\n",
       "    }\n",
       "\n",
       "    .dataframe thead th {\n",
       "        text-align: right;\n",
       "    }\n",
       "</style>\n",
       "<table border=\"1\" class=\"dataframe\">\n",
       "  <thead>\n",
       "    <tr style=\"text-align: right;\">\n",
       "      <th></th>\n",
       "      <th>DateCrawled</th>\n",
       "      <th>Price</th>\n",
       "      <th>VehicleType</th>\n",
       "      <th>RegistrationYear</th>\n",
       "      <th>Gearbox</th>\n",
       "      <th>Power</th>\n",
       "      <th>Model</th>\n",
       "      <th>Kilometer</th>\n",
       "      <th>RegistrationMonth</th>\n",
       "      <th>FuelType</th>\n",
       "      <th>Brand</th>\n",
       "      <th>NotRepaired</th>\n",
       "      <th>DateCreated</th>\n",
       "      <th>NumberOfPictures</th>\n",
       "      <th>PostalCode</th>\n",
       "      <th>LastSeen</th>\n",
       "    </tr>\n",
       "  </thead>\n",
       "  <tbody>\n",
       "    <tr>\n",
       "      <th>0</th>\n",
       "      <td>2016-03-24 11:52:17</td>\n",
       "      <td>480</td>\n",
       "      <td>NaN</td>\n",
       "      <td>1993</td>\n",
       "      <td>manual</td>\n",
       "      <td>0</td>\n",
       "      <td>golf</td>\n",
       "      <td>150000</td>\n",
       "      <td>0</td>\n",
       "      <td>petrol</td>\n",
       "      <td>volkswagen</td>\n",
       "      <td>NaN</td>\n",
       "      <td>2016-03-24 00:00:00</td>\n",
       "      <td>0</td>\n",
       "      <td>70435</td>\n",
       "      <td>2016-04-07 03:16:57</td>\n",
       "    </tr>\n",
       "    <tr>\n",
       "      <th>1</th>\n",
       "      <td>2016-03-24 10:58:45</td>\n",
       "      <td>18300</td>\n",
       "      <td>coupe</td>\n",
       "      <td>2011</td>\n",
       "      <td>manual</td>\n",
       "      <td>190</td>\n",
       "      <td>NaN</td>\n",
       "      <td>125000</td>\n",
       "      <td>5</td>\n",
       "      <td>gasoline</td>\n",
       "      <td>audi</td>\n",
       "      <td>yes</td>\n",
       "      <td>2016-03-24 00:00:00</td>\n",
       "      <td>0</td>\n",
       "      <td>66954</td>\n",
       "      <td>2016-04-07 01:46:50</td>\n",
       "    </tr>\n",
       "    <tr>\n",
       "      <th>2</th>\n",
       "      <td>2016-03-14 12:52:21</td>\n",
       "      <td>9800</td>\n",
       "      <td>suv</td>\n",
       "      <td>2004</td>\n",
       "      <td>auto</td>\n",
       "      <td>163</td>\n",
       "      <td>grand</td>\n",
       "      <td>125000</td>\n",
       "      <td>8</td>\n",
       "      <td>gasoline</td>\n",
       "      <td>jeep</td>\n",
       "      <td>NaN</td>\n",
       "      <td>2016-03-14 00:00:00</td>\n",
       "      <td>0</td>\n",
       "      <td>90480</td>\n",
       "      <td>2016-04-05 12:47:46</td>\n",
       "    </tr>\n",
       "    <tr>\n",
       "      <th>3</th>\n",
       "      <td>2016-03-17 16:54:04</td>\n",
       "      <td>1500</td>\n",
       "      <td>small</td>\n",
       "      <td>2001</td>\n",
       "      <td>manual</td>\n",
       "      <td>75</td>\n",
       "      <td>golf</td>\n",
       "      <td>150000</td>\n",
       "      <td>6</td>\n",
       "      <td>petrol</td>\n",
       "      <td>volkswagen</td>\n",
       "      <td>no</td>\n",
       "      <td>2016-03-17 00:00:00</td>\n",
       "      <td>0</td>\n",
       "      <td>91074</td>\n",
       "      <td>2016-03-17 17:40:17</td>\n",
       "    </tr>\n",
       "    <tr>\n",
       "      <th>4</th>\n",
       "      <td>2016-03-31 17:25:20</td>\n",
       "      <td>3600</td>\n",
       "      <td>small</td>\n",
       "      <td>2008</td>\n",
       "      <td>manual</td>\n",
       "      <td>69</td>\n",
       "      <td>fabia</td>\n",
       "      <td>90000</td>\n",
       "      <td>7</td>\n",
       "      <td>gasoline</td>\n",
       "      <td>skoda</td>\n",
       "      <td>no</td>\n",
       "      <td>2016-03-31 00:00:00</td>\n",
       "      <td>0</td>\n",
       "      <td>60437</td>\n",
       "      <td>2016-04-06 10:17:21</td>\n",
       "    </tr>\n",
       "  </tbody>\n",
       "</table>\n",
       "</div>"
      ],
      "text/plain": [
       "           DateCrawled  Price VehicleType  RegistrationYear Gearbox  Power  \\\n",
       "0  2016-03-24 11:52:17    480         NaN              1993  manual      0   \n",
       "1  2016-03-24 10:58:45  18300       coupe              2011  manual    190   \n",
       "2  2016-03-14 12:52:21   9800         suv              2004    auto    163   \n",
       "3  2016-03-17 16:54:04   1500       small              2001  manual     75   \n",
       "4  2016-03-31 17:25:20   3600       small              2008  manual     69   \n",
       "\n",
       "   Model  Kilometer  RegistrationMonth  FuelType       Brand NotRepaired  \\\n",
       "0   golf     150000                  0    petrol  volkswagen         NaN   \n",
       "1    NaN     125000                  5  gasoline        audi         yes   \n",
       "2  grand     125000                  8  gasoline        jeep         NaN   \n",
       "3   golf     150000                  6    petrol  volkswagen          no   \n",
       "4  fabia      90000                  7  gasoline       skoda          no   \n",
       "\n",
       "           DateCreated  NumberOfPictures  PostalCode             LastSeen  \n",
       "0  2016-03-24 00:00:00                 0       70435  2016-04-07 03:16:57  \n",
       "1  2016-03-24 00:00:00                 0       66954  2016-04-07 01:46:50  \n",
       "2  2016-03-14 00:00:00                 0       90480  2016-04-05 12:47:46  \n",
       "3  2016-03-17 00:00:00                 0       91074  2016-03-17 17:40:17  \n",
       "4  2016-03-31 00:00:00                 0       60437  2016-04-06 10:17:21  "
      ]
     },
     "execution_count": 7,
     "metadata": {},
     "output_type": "execute_result"
    }
   ],
   "source": [
    "df.head()"
   ]
  },
  {
   "cell_type": "markdown",
   "metadata": {},
   "source": [
    "Пропуски есть в столбцах VehicleType, Gearbox, Model, FuelType, NotRepaired. Они занимают достаточно большой объем от датасета, поэтому удалять их - значит повлиять на работу модели. Стоит их заменить. Столбец VehicleType - тип кузова. Врядли его можно заменить релевантным значением. Заменим пропуски на unknow. Также поступим с пропусками в всех отсальных столбцах. "
   ]
  },
  {
   "cell_type": "code",
   "execution_count": 8,
   "metadata": {},
   "outputs": [
    {
     "data": {
      "text/plain": [
       "DateCrawled          0\n",
       "Price                0\n",
       "VehicleType          0\n",
       "RegistrationYear     0\n",
       "Gearbox              0\n",
       "Power                0\n",
       "Model                0\n",
       "Kilometer            0\n",
       "RegistrationMonth    0\n",
       "FuelType             0\n",
       "Brand                0\n",
       "NotRepaired          0\n",
       "DateCreated          0\n",
       "NumberOfPictures     0\n",
       "PostalCode           0\n",
       "LastSeen             0\n",
       "dtype: int64"
      ]
     },
     "execution_count": 8,
     "metadata": {},
     "output_type": "execute_result"
    }
   ],
   "source": [
    "df = df.fillna('unknow')\n",
    "df.isna().sum()"
   ]
  },
  {
   "cell_type": "markdown",
   "metadata": {},
   "source": [
    "Далее удалим неполезные для нас данные, которые не влияют на цену автомобиля. Это информация о почтовом индексе, количестве фотографий, дате создания объявления и месяц регистраци автомобиля."
   ]
  },
  {
   "cell_type": "code",
   "execution_count": 9,
   "metadata": {},
   "outputs": [
    {
     "name": "stdout",
     "output_type": "stream",
     "text": [
      "<class 'pandas.core.frame.DataFrame'>\n",
      "Int64Index: 354365 entries, 0 to 354368\n",
      "Data columns (total 12 columns):\n",
      " #   Column            Non-Null Count   Dtype \n",
      "---  ------            --------------   ----- \n",
      " 0   Price             354365 non-null  int64 \n",
      " 1   VehicleType       354365 non-null  object\n",
      " 2   RegistrationYear  354365 non-null  int64 \n",
      " 3   Gearbox           354365 non-null  object\n",
      " 4   Power             354365 non-null  int64 \n",
      " 5   Model             354365 non-null  object\n",
      " 6   Kilometer         354365 non-null  int64 \n",
      " 7   FuelType          354365 non-null  object\n",
      " 8   Brand             354365 non-null  object\n",
      " 9   NotRepaired       354365 non-null  object\n",
      " 10  DateCreated       354365 non-null  object\n",
      " 11  LastSeen          354365 non-null  object\n",
      "dtypes: int64(4), object(8)\n",
      "memory usage: 35.1+ MB\n"
     ]
    }
   ],
   "source": [
    "df = df.drop(['NumberOfPictures', 'PostalCode', 'DateCrawled', 'RegistrationMonth'], axis=1)\n",
    "df.info()"
   ]
  },
  {
   "cell_type": "markdown",
   "metadata": {},
   "source": [
    "Теперь посмотрим на наличие выборосов и адекватность данных. Начнем с цены."
   ]
  },
  {
   "cell_type": "code",
   "execution_count": 10,
   "metadata": {},
   "outputs": [
    {
     "data": {
      "text/plain": [
       "<AxesSubplot:ylabel='Frequency'>"
      ]
     },
     "execution_count": 10,
     "metadata": {},
     "output_type": "execute_result"
    },
    {
     "data": {
      "image/png": "[encoded data removed]",
      "text/plain": [
       "<Figure size 432x288 with 1 Axes>"
      ]
     },
     "metadata": {
      "needs_background": "light"
     },
     "output_type": "display_data"
    }
   ],
   "source": [
    "df['Price'].plot(kind='hist', bins=100)"
   ]
  },
  {
   "cell_type": "markdown",
   "metadata": {},
   "source": [
    "Много данных с нулевыми ценами. Это странно. Дешевле 10 тысяч рублей это сильно странно. Посмотрим на объявления с ценой меньше 100 евро."
   ]
  },
  {
   "cell_type": "code",
   "execution_count": 11,
   "metadata": {},
   "outputs": [
    {
     "data": {
      "text/html": [
       "<div>\n",
       "<style scoped>\n",
       "    .dataframe tbody tr th:only-of-type {\n",
       "        vertical-align: middle;\n",
       "    }\n",
       "\n",
       "    .dataframe tbody tr th {\n",
       "        vertical-align: top;\n",
       "    }\n",
       "\n",
       "    .dataframe thead th {\n",
       "        text-align: right;\n",
       "    }\n",
       "</style>\n",
       "<table border=\"1\" class=\"dataframe\">\n",
       "  <thead>\n",
       "    <tr style=\"text-align: right;\">\n",
       "      <th></th>\n",
       "      <th>Price</th>\n",
       "      <th>VehicleType</th>\n",
       "      <th>RegistrationYear</th>\n",
       "      <th>Gearbox</th>\n",
       "      <th>Power</th>\n",
       "      <th>Model</th>\n",
       "      <th>Kilometer</th>\n",
       "      <th>FuelType</th>\n",
       "      <th>Brand</th>\n",
       "      <th>NotRepaired</th>\n",
       "      <th>DateCreated</th>\n",
       "      <th>LastSeen</th>\n",
       "    </tr>\n",
       "  </thead>\n",
       "  <tbody>\n",
       "    <tr>\n",
       "      <th>7</th>\n",
       "      <td>0</td>\n",
       "      <td>sedan</td>\n",
       "      <td>1980</td>\n",
       "      <td>manual</td>\n",
       "      <td>50</td>\n",
       "      <td>other</td>\n",
       "      <td>40000</td>\n",
       "      <td>petrol</td>\n",
       "      <td>volkswagen</td>\n",
       "      <td>no</td>\n",
       "      <td>2016-03-21 00:00:00</td>\n",
       "      <td>2016-03-25 16:47:58</td>\n",
       "    </tr>\n",
       "    <tr>\n",
       "      <th>40</th>\n",
       "      <td>0</td>\n",
       "      <td>unknow</td>\n",
       "      <td>1990</td>\n",
       "      <td>unknow</td>\n",
       "      <td>0</td>\n",
       "      <td>corsa</td>\n",
       "      <td>150000</td>\n",
       "      <td>petrol</td>\n",
       "      <td>opel</td>\n",
       "      <td>unknow</td>\n",
       "      <td>2016-03-26 00:00:00</td>\n",
       "      <td>2016-03-27 17:43:34</td>\n",
       "    </tr>\n",
       "    <tr>\n",
       "      <th>59</th>\n",
       "      <td>1</td>\n",
       "      <td>suv</td>\n",
       "      <td>1994</td>\n",
       "      <td>manual</td>\n",
       "      <td>286</td>\n",
       "      <td>unknow</td>\n",
       "      <td>150000</td>\n",
       "      <td>unknow</td>\n",
       "      <td>sonstige_autos</td>\n",
       "      <td>unknow</td>\n",
       "      <td>2016-03-29 00:00:00</td>\n",
       "      <td>2016-04-06 01:44:38</td>\n",
       "    </tr>\n",
       "    <tr>\n",
       "      <th>89</th>\n",
       "      <td>1</td>\n",
       "      <td>sedan</td>\n",
       "      <td>1995</td>\n",
       "      <td>manual</td>\n",
       "      <td>113</td>\n",
       "      <td>e_klasse</td>\n",
       "      <td>150000</td>\n",
       "      <td>gasoline</td>\n",
       "      <td>mercedes_benz</td>\n",
       "      <td>no</td>\n",
       "      <td>2016-03-28 00:00:00</td>\n",
       "      <td>2016-04-06 12:15:54</td>\n",
       "    </tr>\n",
       "    <tr>\n",
       "      <th>111</th>\n",
       "      <td>0</td>\n",
       "      <td>unknow</td>\n",
       "      <td>2017</td>\n",
       "      <td>manual</td>\n",
       "      <td>0</td>\n",
       "      <td>golf</td>\n",
       "      <td>5000</td>\n",
       "      <td>petrol</td>\n",
       "      <td>volkswagen</td>\n",
       "      <td>unknow</td>\n",
       "      <td>2016-03-19 00:00:00</td>\n",
       "      <td>2016-04-01 08:47:05</td>\n",
       "    </tr>\n",
       "    <tr>\n",
       "      <th>...</th>\n",
       "      <td>...</td>\n",
       "      <td>...</td>\n",
       "      <td>...</td>\n",
       "      <td>...</td>\n",
       "      <td>...</td>\n",
       "      <td>...</td>\n",
       "      <td>...</td>\n",
       "      <td>...</td>\n",
       "      <td>...</td>\n",
       "      <td>...</td>\n",
       "      <td>...</td>\n",
       "      <td>...</td>\n",
       "    </tr>\n",
       "    <tr>\n",
       "      <th>354238</th>\n",
       "      <td>0</td>\n",
       "      <td>small</td>\n",
       "      <td>2002</td>\n",
       "      <td>manual</td>\n",
       "      <td>60</td>\n",
       "      <td>fiesta</td>\n",
       "      <td>150000</td>\n",
       "      <td>petrol</td>\n",
       "      <td>ford</td>\n",
       "      <td>unknow</td>\n",
       "      <td>2016-03-20 00:00:00</td>\n",
       "      <td>2016-04-06 18:45:23</td>\n",
       "    </tr>\n",
       "    <tr>\n",
       "      <th>354248</th>\n",
       "      <td>0</td>\n",
       "      <td>small</td>\n",
       "      <td>1999</td>\n",
       "      <td>manual</td>\n",
       "      <td>53</td>\n",
       "      <td>swift</td>\n",
       "      <td>150000</td>\n",
       "      <td>petrol</td>\n",
       "      <td>suzuki</td>\n",
       "      <td>unknow</td>\n",
       "      <td>2016-03-24 00:00:00</td>\n",
       "      <td>2016-04-07 05:17:24</td>\n",
       "    </tr>\n",
       "    <tr>\n",
       "      <th>354277</th>\n",
       "      <td>0</td>\n",
       "      <td>small</td>\n",
       "      <td>1999</td>\n",
       "      <td>manual</td>\n",
       "      <td>37</td>\n",
       "      <td>arosa</td>\n",
       "      <td>150000</td>\n",
       "      <td>petrol</td>\n",
       "      <td>seat</td>\n",
       "      <td>yes</td>\n",
       "      <td>2016-03-10 00:00:00</td>\n",
       "      <td>2016-03-12 23:46:32</td>\n",
       "    </tr>\n",
       "    <tr>\n",
       "      <th>354309</th>\n",
       "      <td>99</td>\n",
       "      <td>small</td>\n",
       "      <td>1999</td>\n",
       "      <td>manual</td>\n",
       "      <td>60</td>\n",
       "      <td>arosa</td>\n",
       "      <td>150000</td>\n",
       "      <td>petrol</td>\n",
       "      <td>seat</td>\n",
       "      <td>yes</td>\n",
       "      <td>2016-03-09 00:00:00</td>\n",
       "      <td>2016-04-06 22:15:32</td>\n",
       "    </tr>\n",
       "    <tr>\n",
       "      <th>354364</th>\n",
       "      <td>0</td>\n",
       "      <td>unknow</td>\n",
       "      <td>2005</td>\n",
       "      <td>manual</td>\n",
       "      <td>0</td>\n",
       "      <td>colt</td>\n",
       "      <td>150000</td>\n",
       "      <td>petrol</td>\n",
       "      <td>mitsubishi</td>\n",
       "      <td>yes</td>\n",
       "      <td>2016-03-21 00:00:00</td>\n",
       "      <td>2016-03-21 10:42:49</td>\n",
       "    </tr>\n",
       "  </tbody>\n",
       "</table>\n",
       "<p>13314 rows × 12 columns</p>\n",
       "</div>"
      ],
      "text/plain": [
       "        Price VehicleType  RegistrationYear Gearbox  Power     Model  \\\n",
       "7           0       sedan              1980  manual     50     other   \n",
       "40          0      unknow              1990  unknow      0     corsa   \n",
       "59          1         suv              1994  manual    286    unknow   \n",
       "89          1       sedan              1995  manual    113  e_klasse   \n",
       "111         0      unknow              2017  manual      0      golf   \n",
       "...       ...         ...               ...     ...    ...       ...   \n",
       "354238      0       small              2002  manual     60    fiesta   \n",
       "354248      0       small              1999  manual     53     swift   \n",
       "354277      0       small              1999  manual     37     arosa   \n",
       "354309     99       small              1999  manual     60     arosa   \n",
       "354364      0      unknow              2005  manual      0      colt   \n",
       "\n",
       "        Kilometer  FuelType           Brand NotRepaired          DateCreated  \\\n",
       "7           40000    petrol      volkswagen          no  2016-03-21 00:00:00   \n",
       "40         150000    petrol            opel      unknow  2016-03-26 00:00:00   \n",
       "59         150000    unknow  sonstige_autos      unknow  2016-03-29 00:00:00   \n",
       "89         150000  gasoline   mercedes_benz          no  2016-03-28 00:00:00   \n",
       "111          5000    petrol      volkswagen      unknow  2016-03-19 00:00:00   \n",
       "...           ...       ...             ...         ...                  ...   \n",
       "354238     150000    petrol            ford      unknow  2016-03-20 00:00:00   \n",
       "354248     150000    petrol          suzuki      unknow  2016-03-24 00:00:00   \n",
       "354277     150000    petrol            seat         yes  2016-03-10 00:00:00   \n",
       "354309     150000    petrol            seat         yes  2016-03-09 00:00:00   \n",
       "354364     150000    petrol      mitsubishi         yes  2016-03-21 00:00:00   \n",
       "\n",
       "                   LastSeen  \n",
       "7       2016-03-25 16:47:58  \n",
       "40      2016-03-27 17:43:34  \n",
       "59      2016-04-06 01:44:38  \n",
       "89      2016-04-06 12:15:54  \n",
       "111     2016-04-01 08:47:05  \n",
       "...                     ...  \n",
       "354238  2016-04-06 18:45:23  \n",
       "354248  2016-04-07 05:17:24  \n",
       "354277  2016-03-12 23:46:32  \n",
       "354309  2016-04-06 22:15:32  \n",
       "354364  2016-03-21 10:42:49  \n",
       "\n",
       "[13314 rows x 12 columns]"
      ]
     },
     "execution_count": 11,
     "metadata": {},
     "output_type": "execute_result"
    }
   ],
   "source": [
    "df[df['Price'] < 100]"
   ]
  },
  {
   "cell_type": "markdown",
   "metadata": {},
   "source": [
    "Данные о цене этих авто явно не получится восстановить. Их стоит удалить. "
   ]
  },
  {
   "cell_type": "code",
   "execution_count": 12,
   "metadata": {},
   "outputs": [
    {
     "data": {
      "text/plain": [
       "<AxesSubplot:ylabel='Frequency'>"
      ]
     },
     "execution_count": 12,
     "metadata": {},
     "output_type": "execute_result"
    },
    {
     "data": {
      "image/png": "[encoded data removed]",
      "text/plain": [
       "<Figure size 432x288 with 1 Axes>"
      ]
     },
     "metadata": {
      "needs_background": "light"
     },
     "output_type": "display_data"
    }
   ],
   "source": [
    "df = df[df['Price'] > 100]\n",
    "df['Price'].plot(kind='hist', bins=100)"
   ]
  },
  {
   "cell_type": "markdown",
   "metadata": {},
   "source": [
    "Следующий столбец для проверки на выбросы - год регистрации."
   ]
  },
  {
   "cell_type": "code",
   "execution_count": 13,
   "metadata": {},
   "outputs": [
    {
     "data": {
      "text/html": [
       "<div>\n",
       "<style scoped>\n",
       "    .dataframe tbody tr th:only-of-type {\n",
       "        vertical-align: middle;\n",
       "    }\n",
       "\n",
       "    .dataframe tbody tr th {\n",
       "        vertical-align: top;\n",
       "    }\n",
       "\n",
       "    .dataframe thead th {\n",
       "        text-align: right;\n",
       "    }\n",
       "</style>\n",
       "<table border=\"1\" class=\"dataframe\">\n",
       "  <thead>\n",
       "    <tr style=\"text-align: right;\">\n",
       "      <th></th>\n",
       "      <th>Price</th>\n",
       "      <th>VehicleType</th>\n",
       "      <th>RegistrationYear</th>\n",
       "      <th>Gearbox</th>\n",
       "      <th>Power</th>\n",
       "      <th>Model</th>\n",
       "      <th>Kilometer</th>\n",
       "      <th>FuelType</th>\n",
       "      <th>Brand</th>\n",
       "      <th>NotRepaired</th>\n",
       "      <th>DateCreated</th>\n",
       "      <th>LastSeen</th>\n",
       "    </tr>\n",
       "  </thead>\n",
       "  <tbody>\n",
       "    <tr>\n",
       "      <th>15870</th>\n",
       "      <td>1700</td>\n",
       "      <td>unknow</td>\n",
       "      <td>3200</td>\n",
       "      <td>unknow</td>\n",
       "      <td>0</td>\n",
       "      <td>unknow</td>\n",
       "      <td>5000</td>\n",
       "      <td>unknow</td>\n",
       "      <td>sonstige_autos</td>\n",
       "      <td>unknow</td>\n",
       "      <td>2016-04-02 00:00:00</td>\n",
       "      <td>2016-04-06 09:46:13</td>\n",
       "    </tr>\n",
       "    <tr>\n",
       "      <th>17271</th>\n",
       "      <td>700</td>\n",
       "      <td>unknow</td>\n",
       "      <td>9999</td>\n",
       "      <td>unknow</td>\n",
       "      <td>0</td>\n",
       "      <td>other</td>\n",
       "      <td>10000</td>\n",
       "      <td>unknow</td>\n",
       "      <td>opel</td>\n",
       "      <td>unknow</td>\n",
       "      <td>2016-03-23 00:00:00</td>\n",
       "      <td>2016-04-05 20:16:15</td>\n",
       "    </tr>\n",
       "    <tr>\n",
       "      <th>17346</th>\n",
       "      <td>6500</td>\n",
       "      <td>unknow</td>\n",
       "      <td>8888</td>\n",
       "      <td>unknow</td>\n",
       "      <td>0</td>\n",
       "      <td>unknow</td>\n",
       "      <td>10000</td>\n",
       "      <td>unknow</td>\n",
       "      <td>sonstige_autos</td>\n",
       "      <td>unknow</td>\n",
       "      <td>2016-03-06 00:00:00</td>\n",
       "      <td>2016-03-30 20:46:55</td>\n",
       "    </tr>\n",
       "    <tr>\n",
       "      <th>18259</th>\n",
       "      <td>300</td>\n",
       "      <td>unknow</td>\n",
       "      <td>2200</td>\n",
       "      <td>unknow</td>\n",
       "      <td>0</td>\n",
       "      <td>twingo</td>\n",
       "      <td>5000</td>\n",
       "      <td>unknow</td>\n",
       "      <td>renault</td>\n",
       "      <td>unknow</td>\n",
       "      <td>2016-03-16 00:00:00</td>\n",
       "      <td>2016-04-07 06:45:32</td>\n",
       "    </tr>\n",
       "    <tr>\n",
       "      <th>20159</th>\n",
       "      <td>1600</td>\n",
       "      <td>unknow</td>\n",
       "      <td>4100</td>\n",
       "      <td>unknow</td>\n",
       "      <td>0</td>\n",
       "      <td>unknow</td>\n",
       "      <td>5000</td>\n",
       "      <td>unknow</td>\n",
       "      <td>sonstige_autos</td>\n",
       "      <td>unknow</td>\n",
       "      <td>2016-04-01 00:00:00</td>\n",
       "      <td>2016-04-05 20:19:27</td>\n",
       "    </tr>\n",
       "    <tr>\n",
       "      <th>...</th>\n",
       "      <td>...</td>\n",
       "      <td>...</td>\n",
       "      <td>...</td>\n",
       "      <td>...</td>\n",
       "      <td>...</td>\n",
       "      <td>...</td>\n",
       "      <td>...</td>\n",
       "      <td>...</td>\n",
       "      <td>...</td>\n",
       "      <td>...</td>\n",
       "      <td>...</td>\n",
       "      <td>...</td>\n",
       "    </tr>\n",
       "    <tr>\n",
       "      <th>320452</th>\n",
       "      <td>500</td>\n",
       "      <td>unknow</td>\n",
       "      <td>8200</td>\n",
       "      <td>auto</td>\n",
       "      <td>81</td>\n",
       "      <td>octavia</td>\n",
       "      <td>10000</td>\n",
       "      <td>unknow</td>\n",
       "      <td>skoda</td>\n",
       "      <td>unknow</td>\n",
       "      <td>2016-03-16 00:00:00</td>\n",
       "      <td>2016-03-16 08:52:33</td>\n",
       "    </tr>\n",
       "    <tr>\n",
       "      <th>322234</th>\n",
       "      <td>15000</td>\n",
       "      <td>unknow</td>\n",
       "      <td>5000</td>\n",
       "      <td>unknow</td>\n",
       "      <td>155</td>\n",
       "      <td>golf</td>\n",
       "      <td>5000</td>\n",
       "      <td>petrol</td>\n",
       "      <td>volkswagen</td>\n",
       "      <td>unknow</td>\n",
       "      <td>2016-03-24 00:00:00</td>\n",
       "      <td>2016-04-07 11:16:25</td>\n",
       "    </tr>\n",
       "    <tr>\n",
       "      <th>326556</th>\n",
       "      <td>7999</td>\n",
       "      <td>unknow</td>\n",
       "      <td>5911</td>\n",
       "      <td>auto</td>\n",
       "      <td>75</td>\n",
       "      <td>golf</td>\n",
       "      <td>10000</td>\n",
       "      <td>unknow</td>\n",
       "      <td>volkswagen</td>\n",
       "      <td>unknow</td>\n",
       "      <td>2016-03-29 00:00:00</td>\n",
       "      <td>2016-04-06 07:46:20</td>\n",
       "    </tr>\n",
       "    <tr>\n",
       "      <th>328453</th>\n",
       "      <td>450</td>\n",
       "      <td>unknow</td>\n",
       "      <td>2500</td>\n",
       "      <td>unknow</td>\n",
       "      <td>0</td>\n",
       "      <td>6_reihe</td>\n",
       "      <td>5000</td>\n",
       "      <td>unknow</td>\n",
       "      <td>mazda</td>\n",
       "      <td>unknow</td>\n",
       "      <td>2016-03-14 00:00:00</td>\n",
       "      <td>2016-03-19 07:17:39</td>\n",
       "    </tr>\n",
       "    <tr>\n",
       "      <th>334967</th>\n",
       "      <td>12000</td>\n",
       "      <td>unknow</td>\n",
       "      <td>4000</td>\n",
       "      <td>unknow</td>\n",
       "      <td>500</td>\n",
       "      <td>golf</td>\n",
       "      <td>5000</td>\n",
       "      <td>unknow</td>\n",
       "      <td>volkswagen</td>\n",
       "      <td>no</td>\n",
       "      <td>2016-03-20 00:00:00</td>\n",
       "      <td>2016-04-07 00:46:30</td>\n",
       "    </tr>\n",
       "  </tbody>\n",
       "</table>\n",
       "<p>71 rows × 12 columns</p>\n",
       "</div>"
      ],
      "text/plain": [
       "        Price VehicleType  RegistrationYear Gearbox  Power    Model  \\\n",
       "15870    1700      unknow              3200  unknow      0   unknow   \n",
       "17271     700      unknow              9999  unknow      0    other   \n",
       "17346    6500      unknow              8888  unknow      0   unknow   \n",
       "18259     300      unknow              2200  unknow      0   twingo   \n",
       "20159    1600      unknow              4100  unknow      0   unknow   \n",
       "...       ...         ...               ...     ...    ...      ...   \n",
       "320452    500      unknow              8200    auto     81  octavia   \n",
       "322234  15000      unknow              5000  unknow    155     golf   \n",
       "326556   7999      unknow              5911    auto     75     golf   \n",
       "328453    450      unknow              2500  unknow      0  6_reihe   \n",
       "334967  12000      unknow              4000  unknow    500     golf   \n",
       "\n",
       "        Kilometer FuelType           Brand NotRepaired          DateCreated  \\\n",
       "15870        5000   unknow  sonstige_autos      unknow  2016-04-02 00:00:00   \n",
       "17271       10000   unknow            opel      unknow  2016-03-23 00:00:00   \n",
       "17346       10000   unknow  sonstige_autos      unknow  2016-03-06 00:00:00   \n",
       "18259        5000   unknow         renault      unknow  2016-03-16 00:00:00   \n",
       "20159        5000   unknow  sonstige_autos      unknow  2016-04-01 00:00:00   \n",
       "...           ...      ...             ...         ...                  ...   \n",
       "320452      10000   unknow           skoda      unknow  2016-03-16 00:00:00   \n",
       "322234       5000   petrol      volkswagen      unknow  2016-03-24 00:00:00   \n",
       "326556      10000   unknow      volkswagen      unknow  2016-03-29 00:00:00   \n",
       "328453       5000   unknow           mazda      unknow  2016-03-14 00:00:00   \n",
       "334967       5000   unknow      volkswagen          no  2016-03-20 00:00:00   \n",
       "\n",
       "                   LastSeen  \n",
       "15870   2016-04-06 09:46:13  \n",
       "17271   2016-04-05 20:16:15  \n",
       "17346   2016-03-30 20:46:55  \n",
       "18259   2016-04-07 06:45:32  \n",
       "20159   2016-04-05 20:19:27  \n",
       "...                     ...  \n",
       "320452  2016-03-16 08:52:33  \n",
       "322234  2016-04-07 11:16:25  \n",
       "326556  2016-04-06 07:46:20  \n",
       "328453  2016-03-19 07:17:39  \n",
       "334967  2016-04-07 00:46:30  \n",
       "\n",
       "[71 rows x 12 columns]"
      ]
     },
     "execution_count": 13,
     "metadata": {},
     "output_type": "execute_result"
    }
   ],
   "source": [
    "df[df['RegistrationYear'] > 2022]"
   ]
  },
  {
   "cell_type": "markdown",
   "metadata": {},
   "source": [
    "В этих объявлениях явно неверные данные, их стоит удалить, так как они будут мешать построению модели."
   ]
  },
  {
   "cell_type": "code",
   "execution_count": 14,
   "metadata": {},
   "outputs": [],
   "source": [
    "df = df[df['RegistrationYear'] < 2022]"
   ]
  },
  {
   "cell_type": "markdown",
   "metadata": {},
   "source": [
    "Теперь посмотрим на аномально низкие значения в годе регистрации автомобиля:"
   ]
  },
  {
   "cell_type": "code",
   "execution_count": 15,
   "metadata": {
    "scrolled": true
   },
   "outputs": [
    {
     "data": {
      "text/html": [
       "<div>\n",
       "<style scoped>\n",
       "    .dataframe tbody tr th:only-of-type {\n",
       "        vertical-align: middle;\n",
       "    }\n",
       "\n",
       "    .dataframe tbody tr th {\n",
       "        vertical-align: top;\n",
       "    }\n",
       "\n",
       "    .dataframe thead th {\n",
       "        text-align: right;\n",
       "    }\n",
       "</style>\n",
       "<table border=\"1\" class=\"dataframe\">\n",
       "  <thead>\n",
       "    <tr style=\"text-align: right;\">\n",
       "      <th></th>\n",
       "      <th>Price</th>\n",
       "      <th>VehicleType</th>\n",
       "      <th>RegistrationYear</th>\n",
       "      <th>Gearbox</th>\n",
       "      <th>Power</th>\n",
       "      <th>Model</th>\n",
       "      <th>Kilometer</th>\n",
       "      <th>FuelType</th>\n",
       "      <th>Brand</th>\n",
       "      <th>NotRepaired</th>\n",
       "      <th>DateCreated</th>\n",
       "      <th>LastSeen</th>\n",
       "    </tr>\n",
       "  </thead>\n",
       "  <tbody>\n",
       "    <tr>\n",
       "      <th>16062</th>\n",
       "      <td>190</td>\n",
       "      <td>unknow</td>\n",
       "      <td>1000</td>\n",
       "      <td>unknow</td>\n",
       "      <td>0</td>\n",
       "      <td>mondeo</td>\n",
       "      <td>5000</td>\n",
       "      <td>unknow</td>\n",
       "      <td>ford</td>\n",
       "      <td>unknow</td>\n",
       "      <td>2016-03-29 00:00:00</td>\n",
       "      <td>2016-04-06 10:44:58</td>\n",
       "    </tr>\n",
       "    <tr>\n",
       "      <th>18224</th>\n",
       "      <td>7999</td>\n",
       "      <td>unknow</td>\n",
       "      <td>1500</td>\n",
       "      <td>manual</td>\n",
       "      <td>224</td>\n",
       "      <td>impreza</td>\n",
       "      <td>5000</td>\n",
       "      <td>unknow</td>\n",
       "      <td>subaru</td>\n",
       "      <td>unknow</td>\n",
       "      <td>2016-03-09 00:00:00</td>\n",
       "      <td>2016-03-15 05:15:17</td>\n",
       "    </tr>\n",
       "    <tr>\n",
       "      <th>34332</th>\n",
       "      <td>450</td>\n",
       "      <td>unknow</td>\n",
       "      <td>1800</td>\n",
       "      <td>unknow</td>\n",
       "      <td>1800</td>\n",
       "      <td>unknow</td>\n",
       "      <td>5000</td>\n",
       "      <td>unknow</td>\n",
       "      <td>mitsubishi</td>\n",
       "      <td>no</td>\n",
       "      <td>2016-04-01 00:00:00</td>\n",
       "      <td>2016-04-01 09:42:30</td>\n",
       "    </tr>\n",
       "    <tr>\n",
       "      <th>38875</th>\n",
       "      <td>1234</td>\n",
       "      <td>unknow</td>\n",
       "      <td>1234</td>\n",
       "      <td>unknow</td>\n",
       "      <td>26</td>\n",
       "      <td>unknow</td>\n",
       "      <td>5000</td>\n",
       "      <td>unknow</td>\n",
       "      <td>trabant</td>\n",
       "      <td>unknow</td>\n",
       "      <td>2016-03-19 00:00:00</td>\n",
       "      <td>2016-04-06 03:15:22</td>\n",
       "    </tr>\n",
       "    <tr>\n",
       "      <th>53577</th>\n",
       "      <td>330</td>\n",
       "      <td>unknow</td>\n",
       "      <td>1000</td>\n",
       "      <td>unknow</td>\n",
       "      <td>0</td>\n",
       "      <td>polo</td>\n",
       "      <td>5000</td>\n",
       "      <td>unknow</td>\n",
       "      <td>volkswagen</td>\n",
       "      <td>unknow</td>\n",
       "      <td>2016-03-20 00:00:00</td>\n",
       "      <td>2016-04-04 08:17:15</td>\n",
       "    </tr>\n",
       "    <tr>\n",
       "      <th>55605</th>\n",
       "      <td>500</td>\n",
       "      <td>unknow</td>\n",
       "      <td>1000</td>\n",
       "      <td>unknow</td>\n",
       "      <td>0</td>\n",
       "      <td>unknow</td>\n",
       "      <td>5000</td>\n",
       "      <td>unknow</td>\n",
       "      <td>citroen</td>\n",
       "      <td>yes</td>\n",
       "      <td>2016-03-10 00:00:00</td>\n",
       "      <td>2016-04-06 03:45:53</td>\n",
       "    </tr>\n",
       "    <tr>\n",
       "      <th>56241</th>\n",
       "      <td>950</td>\n",
       "      <td>unknow</td>\n",
       "      <td>1400</td>\n",
       "      <td>manual</td>\n",
       "      <td>1400</td>\n",
       "      <td>golf</td>\n",
       "      <td>125000</td>\n",
       "      <td>petrol</td>\n",
       "      <td>volkswagen</td>\n",
       "      <td>unknow</td>\n",
       "      <td>2016-03-30 00:00:00</td>\n",
       "      <td>2016-04-03 09:45:19</td>\n",
       "    </tr>\n",
       "    <tr>\n",
       "      <th>66198</th>\n",
       "      <td>1300</td>\n",
       "      <td>unknow</td>\n",
       "      <td>1000</td>\n",
       "      <td>auto</td>\n",
       "      <td>0</td>\n",
       "      <td>unknow</td>\n",
       "      <td>5000</td>\n",
       "      <td>petrol</td>\n",
       "      <td>sonstige_autos</td>\n",
       "      <td>unknow</td>\n",
       "      <td>2016-03-08 00:00:00</td>\n",
       "      <td>2016-03-17 08:17:42</td>\n",
       "    </tr>\n",
       "    <tr>\n",
       "      <th>71459</th>\n",
       "      <td>500</td>\n",
       "      <td>unknow</td>\n",
       "      <td>1000</td>\n",
       "      <td>unknow</td>\n",
       "      <td>0</td>\n",
       "      <td>golf</td>\n",
       "      <td>5000</td>\n",
       "      <td>unknow</td>\n",
       "      <td>volkswagen</td>\n",
       "      <td>unknow</td>\n",
       "      <td>2016-03-27 00:00:00</td>\n",
       "      <td>2016-03-29 13:46:49</td>\n",
       "    </tr>\n",
       "    <tr>\n",
       "      <th>79120</th>\n",
       "      <td>4750</td>\n",
       "      <td>unknow</td>\n",
       "      <td>1000</td>\n",
       "      <td>unknow</td>\n",
       "      <td>0</td>\n",
       "      <td>other</td>\n",
       "      <td>5000</td>\n",
       "      <td>unknow</td>\n",
       "      <td>renault</td>\n",
       "      <td>unknow</td>\n",
       "      <td>2016-03-15 00:00:00</td>\n",
       "      <td>2016-04-06 20:19:21</td>\n",
       "    </tr>\n",
       "    <tr>\n",
       "      <th>91869</th>\n",
       "      <td>400</td>\n",
       "      <td>unknow</td>\n",
       "      <td>1000</td>\n",
       "      <td>unknow</td>\n",
       "      <td>0</td>\n",
       "      <td>unknow</td>\n",
       "      <td>5000</td>\n",
       "      <td>unknow</td>\n",
       "      <td>sonstige_autos</td>\n",
       "      <td>unknow</td>\n",
       "      <td>2016-03-11 00:00:00</td>\n",
       "      <td>2016-03-12 18:45:19</td>\n",
       "    </tr>\n",
       "    <tr>\n",
       "      <th>97736</th>\n",
       "      <td>140</td>\n",
       "      <td>unknow</td>\n",
       "      <td>1000</td>\n",
       "      <td>unknow</td>\n",
       "      <td>0</td>\n",
       "      <td>911</td>\n",
       "      <td>5000</td>\n",
       "      <td>unknow</td>\n",
       "      <td>porsche</td>\n",
       "      <td>unknow</td>\n",
       "      <td>2016-03-14 00:00:00</td>\n",
       "      <td>2016-03-17 22:16:17</td>\n",
       "    </tr>\n",
       "    <tr>\n",
       "      <th>110123</th>\n",
       "      <td>400</td>\n",
       "      <td>unknow</td>\n",
       "      <td>1000</td>\n",
       "      <td>unknow</td>\n",
       "      <td>0</td>\n",
       "      <td>unknow</td>\n",
       "      <td>5000</td>\n",
       "      <td>unknow</td>\n",
       "      <td>mercedes_benz</td>\n",
       "      <td>no</td>\n",
       "      <td>2016-03-19 00:00:00</td>\n",
       "      <td>2016-03-25 13:46:45</td>\n",
       "    </tr>\n",
       "    <tr>\n",
       "      <th>112768</th>\n",
       "      <td>2500</td>\n",
       "      <td>unknow</td>\n",
       "      <td>1000</td>\n",
       "      <td>unknow</td>\n",
       "      <td>0</td>\n",
       "      <td>unknow</td>\n",
       "      <td>5000</td>\n",
       "      <td>unknow</td>\n",
       "      <td>trabant</td>\n",
       "      <td>no</td>\n",
       "      <td>2016-04-04 00:00:00</td>\n",
       "      <td>2016-04-06 13:44:24</td>\n",
       "    </tr>\n",
       "    <tr>\n",
       "      <th>125577</th>\n",
       "      <td>7750</td>\n",
       "      <td>unknow</td>\n",
       "      <td>1001</td>\n",
       "      <td>unknow</td>\n",
       "      <td>0</td>\n",
       "      <td>other</td>\n",
       "      <td>5000</td>\n",
       "      <td>unknow</td>\n",
       "      <td>citroen</td>\n",
       "      <td>unknow</td>\n",
       "      <td>2016-03-15 00:00:00</td>\n",
       "      <td>2016-04-06 18:47:20</td>\n",
       "    </tr>\n",
       "    <tr>\n",
       "      <th>129768</th>\n",
       "      <td>275</td>\n",
       "      <td>unknow</td>\n",
       "      <td>1234</td>\n",
       "      <td>unknow</td>\n",
       "      <td>0</td>\n",
       "      <td>e_klasse</td>\n",
       "      <td>5000</td>\n",
       "      <td>unknow</td>\n",
       "      <td>mercedes_benz</td>\n",
       "      <td>unknow</td>\n",
       "      <td>2016-03-05 00:00:00</td>\n",
       "      <td>2016-03-05 17:55:26</td>\n",
       "    </tr>\n",
       "    <tr>\n",
       "      <th>129980</th>\n",
       "      <td>1000</td>\n",
       "      <td>unknow</td>\n",
       "      <td>1000</td>\n",
       "      <td>unknow</td>\n",
       "      <td>0</td>\n",
       "      <td>unknow</td>\n",
       "      <td>5000</td>\n",
       "      <td>unknow</td>\n",
       "      <td>sonstige_autos</td>\n",
       "      <td>unknow</td>\n",
       "      <td>2016-03-25 00:00:00</td>\n",
       "      <td>2016-03-30 17:47:53</td>\n",
       "    </tr>\n",
       "    <tr>\n",
       "      <th>135865</th>\n",
       "      <td>16500</td>\n",
       "      <td>unknow</td>\n",
       "      <td>1000</td>\n",
       "      <td>unknow</td>\n",
       "      <td>0</td>\n",
       "      <td>unknow</td>\n",
       "      <td>5000</td>\n",
       "      <td>unknow</td>\n",
       "      <td>sonstige_autos</td>\n",
       "      <td>unknow</td>\n",
       "      <td>2016-03-07 00:00:00</td>\n",
       "      <td>2016-03-09 19:15:47</td>\n",
       "    </tr>\n",
       "    <tr>\n",
       "      <th>139360</th>\n",
       "      <td>450</td>\n",
       "      <td>unknow</td>\n",
       "      <td>1800</td>\n",
       "      <td>unknow</td>\n",
       "      <td>1800</td>\n",
       "      <td>unknow</td>\n",
       "      <td>5000</td>\n",
       "      <td>unknow</td>\n",
       "      <td>mitsubishi</td>\n",
       "      <td>no</td>\n",
       "      <td>2016-04-02 00:00:00</td>\n",
       "      <td>2016-04-04 14:46:21</td>\n",
       "    </tr>\n",
       "    <tr>\n",
       "      <th>143621</th>\n",
       "      <td>550</td>\n",
       "      <td>unknow</td>\n",
       "      <td>1000</td>\n",
       "      <td>unknow</td>\n",
       "      <td>1000</td>\n",
       "      <td>golf</td>\n",
       "      <td>5000</td>\n",
       "      <td>petrol</td>\n",
       "      <td>volkswagen</td>\n",
       "      <td>unknow</td>\n",
       "      <td>2016-03-17 00:00:00</td>\n",
       "      <td>2016-03-26 05:18:19</td>\n",
       "    </tr>\n",
       "    <tr>\n",
       "      <th>146323</th>\n",
       "      <td>400</td>\n",
       "      <td>unknow</td>\n",
       "      <td>1234</td>\n",
       "      <td>unknow</td>\n",
       "      <td>0</td>\n",
       "      <td>unknow</td>\n",
       "      <td>5000</td>\n",
       "      <td>unknow</td>\n",
       "      <td>opel</td>\n",
       "      <td>yes</td>\n",
       "      <td>2016-03-08 00:00:00</td>\n",
       "      <td>2016-03-09 14:45:55</td>\n",
       "    </tr>\n",
       "    <tr>\n",
       "      <th>151725</th>\n",
       "      <td>400</td>\n",
       "      <td>unknow</td>\n",
       "      <td>1000</td>\n",
       "      <td>unknow</td>\n",
       "      <td>0</td>\n",
       "      <td>unknow</td>\n",
       "      <td>5000</td>\n",
       "      <td>unknow</td>\n",
       "      <td>mercedes_benz</td>\n",
       "      <td>unknow</td>\n",
       "      <td>2016-04-03 00:00:00</td>\n",
       "      <td>2016-04-07 13:16:56</td>\n",
       "    </tr>\n",
       "    <tr>\n",
       "      <th>183779</th>\n",
       "      <td>500</td>\n",
       "      <td>unknow</td>\n",
       "      <td>1000</td>\n",
       "      <td>unknow</td>\n",
       "      <td>0</td>\n",
       "      <td>unknow</td>\n",
       "      <td>5000</td>\n",
       "      <td>unknow</td>\n",
       "      <td>sonstige_autos</td>\n",
       "      <td>unknow</td>\n",
       "      <td>2016-03-08 00:00:00</td>\n",
       "      <td>2016-03-09 22:45:54</td>\n",
       "    </tr>\n",
       "    <tr>\n",
       "      <th>189722</th>\n",
       "      <td>1500</td>\n",
       "      <td>unknow</td>\n",
       "      <td>1000</td>\n",
       "      <td>manual</td>\n",
       "      <td>0</td>\n",
       "      <td>kaefer</td>\n",
       "      <td>5000</td>\n",
       "      <td>petrol</td>\n",
       "      <td>volkswagen</td>\n",
       "      <td>unknow</td>\n",
       "      <td>2016-03-29 00:00:00</td>\n",
       "      <td>2016-03-31 10:15:28</td>\n",
       "    </tr>\n",
       "    <tr>\n",
       "      <th>213499</th>\n",
       "      <td>380</td>\n",
       "      <td>unknow</td>\n",
       "      <td>1000</td>\n",
       "      <td>unknow</td>\n",
       "      <td>0</td>\n",
       "      <td>6er</td>\n",
       "      <td>5000</td>\n",
       "      <td>unknow</td>\n",
       "      <td>bmw</td>\n",
       "      <td>unknow</td>\n",
       "      <td>2016-03-08 00:00:00</td>\n",
       "      <td>2016-04-06 00:16:56</td>\n",
       "    </tr>\n",
       "    <tr>\n",
       "      <th>214830</th>\n",
       "      <td>1600</td>\n",
       "      <td>unknow</td>\n",
       "      <td>1600</td>\n",
       "      <td>unknow</td>\n",
       "      <td>0</td>\n",
       "      <td>unknow</td>\n",
       "      <td>5000</td>\n",
       "      <td>unknow</td>\n",
       "      <td>sonstige_autos</td>\n",
       "      <td>unknow</td>\n",
       "      <td>2016-03-24 00:00:00</td>\n",
       "      <td>2016-03-29 04:17:04</td>\n",
       "    </tr>\n",
       "    <tr>\n",
       "      <th>215678</th>\n",
       "      <td>490</td>\n",
       "      <td>unknow</td>\n",
       "      <td>1111</td>\n",
       "      <td>unknow</td>\n",
       "      <td>0</td>\n",
       "      <td>unknow</td>\n",
       "      <td>5000</td>\n",
       "      <td>unknow</td>\n",
       "      <td>trabant</td>\n",
       "      <td>unknow</td>\n",
       "      <td>2016-03-17 00:00:00</td>\n",
       "      <td>2016-04-07 07:17:29</td>\n",
       "    </tr>\n",
       "    <tr>\n",
       "      <th>218241</th>\n",
       "      <td>7999</td>\n",
       "      <td>unknow</td>\n",
       "      <td>1800</td>\n",
       "      <td>unknow</td>\n",
       "      <td>290</td>\n",
       "      <td>golf</td>\n",
       "      <td>5000</td>\n",
       "      <td>unknow</td>\n",
       "      <td>volkswagen</td>\n",
       "      <td>unknow</td>\n",
       "      <td>2016-03-16 00:00:00</td>\n",
       "      <td>2016-03-29 20:47:40</td>\n",
       "    </tr>\n",
       "    <tr>\n",
       "      <th>221736</th>\n",
       "      <td>1500</td>\n",
       "      <td>unknow</td>\n",
       "      <td>1039</td>\n",
       "      <td>unknow</td>\n",
       "      <td>0</td>\n",
       "      <td>unknow</td>\n",
       "      <td>5000</td>\n",
       "      <td>petrol</td>\n",
       "      <td>volkswagen</td>\n",
       "      <td>unknow</td>\n",
       "      <td>2016-03-15 00:00:00</td>\n",
       "      <td>2016-03-16 12:15:21</td>\n",
       "    </tr>\n",
       "    <tr>\n",
       "      <th>243656</th>\n",
       "      <td>2500</td>\n",
       "      <td>unknow</td>\n",
       "      <td>1000</td>\n",
       "      <td>unknow</td>\n",
       "      <td>34</td>\n",
       "      <td>unknow</td>\n",
       "      <td>5000</td>\n",
       "      <td>petrol</td>\n",
       "      <td>sonstige_autos</td>\n",
       "      <td>unknow</td>\n",
       "      <td>2016-03-29 00:00:00</td>\n",
       "      <td>2016-04-06 02:45:00</td>\n",
       "    </tr>\n",
       "    <tr>\n",
       "      <th>244092</th>\n",
       "      <td>2000</td>\n",
       "      <td>unknow</td>\n",
       "      <td>1000</td>\n",
       "      <td>unknow</td>\n",
       "      <td>0</td>\n",
       "      <td>unknow</td>\n",
       "      <td>5000</td>\n",
       "      <td>unknow</td>\n",
       "      <td>sonstige_autos</td>\n",
       "      <td>unknow</td>\n",
       "      <td>2016-03-26 00:00:00</td>\n",
       "      <td>2016-04-02 12:46:25</td>\n",
       "    </tr>\n",
       "    <tr>\n",
       "      <th>252420</th>\n",
       "      <td>149</td>\n",
       "      <td>unknow</td>\n",
       "      <td>1300</td>\n",
       "      <td>unknow</td>\n",
       "      <td>0</td>\n",
       "      <td>1_reihe</td>\n",
       "      <td>5000</td>\n",
       "      <td>unknow</td>\n",
       "      <td>peugeot</td>\n",
       "      <td>unknow</td>\n",
       "      <td>2016-03-27 00:00:00</td>\n",
       "      <td>2016-04-05 11:47:37</td>\n",
       "    </tr>\n",
       "    <tr>\n",
       "      <th>256532</th>\n",
       "      <td>12500</td>\n",
       "      <td>unknow</td>\n",
       "      <td>1000</td>\n",
       "      <td>unknow</td>\n",
       "      <td>200</td>\n",
       "      <td>golf</td>\n",
       "      <td>5000</td>\n",
       "      <td>unknow</td>\n",
       "      <td>volkswagen</td>\n",
       "      <td>unknow</td>\n",
       "      <td>2016-02-28 00:00:00</td>\n",
       "      <td>2016-04-07 12:17:06</td>\n",
       "    </tr>\n",
       "    <tr>\n",
       "      <th>275472</th>\n",
       "      <td>530</td>\n",
       "      <td>unknow</td>\n",
       "      <td>1000</td>\n",
       "      <td>unknow</td>\n",
       "      <td>0</td>\n",
       "      <td>300c</td>\n",
       "      <td>5000</td>\n",
       "      <td>unknow</td>\n",
       "      <td>chrysler</td>\n",
       "      <td>unknow</td>\n",
       "      <td>2016-04-05 00:00:00</td>\n",
       "      <td>2016-04-05 11:39:14</td>\n",
       "    </tr>\n",
       "    <tr>\n",
       "      <th>278517</th>\n",
       "      <td>450</td>\n",
       "      <td>unknow</td>\n",
       "      <td>1500</td>\n",
       "      <td>manual</td>\n",
       "      <td>0</td>\n",
       "      <td>unknow</td>\n",
       "      <td>5000</td>\n",
       "      <td>unknow</td>\n",
       "      <td>volkswagen</td>\n",
       "      <td>yes</td>\n",
       "      <td>2016-03-09 00:00:00</td>\n",
       "      <td>2016-04-06 03:15:42</td>\n",
       "    </tr>\n",
       "    <tr>\n",
       "      <th>287304</th>\n",
       "      <td>500</td>\n",
       "      <td>unknow</td>\n",
       "      <td>1602</td>\n",
       "      <td>manual</td>\n",
       "      <td>0</td>\n",
       "      <td>other</td>\n",
       "      <td>5000</td>\n",
       "      <td>unknow</td>\n",
       "      <td>bmw</td>\n",
       "      <td>yes</td>\n",
       "      <td>2016-03-09 00:00:00</td>\n",
       "      <td>2016-03-10 12:17:35</td>\n",
       "    </tr>\n",
       "    <tr>\n",
       "      <th>319412</th>\n",
       "      <td>480</td>\n",
       "      <td>unknow</td>\n",
       "      <td>1300</td>\n",
       "      <td>unknow</td>\n",
       "      <td>0</td>\n",
       "      <td>astra</td>\n",
       "      <td>5000</td>\n",
       "      <td>unknow</td>\n",
       "      <td>opel</td>\n",
       "      <td>unknow</td>\n",
       "      <td>2016-03-25 00:00:00</td>\n",
       "      <td>2016-04-07 01:44:51</td>\n",
       "    </tr>\n",
       "    <tr>\n",
       "      <th>325739</th>\n",
       "      <td>400</td>\n",
       "      <td>unknow</td>\n",
       "      <td>1000</td>\n",
       "      <td>unknow</td>\n",
       "      <td>0</td>\n",
       "      <td>unknow</td>\n",
       "      <td>5000</td>\n",
       "      <td>unknow</td>\n",
       "      <td>mercedes_benz</td>\n",
       "      <td>unknow</td>\n",
       "      <td>2016-03-30 00:00:00</td>\n",
       "      <td>2016-04-01 06:16:46</td>\n",
       "    </tr>\n",
       "    <tr>\n",
       "      <th>340759</th>\n",
       "      <td>700</td>\n",
       "      <td>unknow</td>\n",
       "      <td>1600</td>\n",
       "      <td>manual</td>\n",
       "      <td>1600</td>\n",
       "      <td>a3</td>\n",
       "      <td>150000</td>\n",
       "      <td>petrol</td>\n",
       "      <td>audi</td>\n",
       "      <td>no</td>\n",
       "      <td>2016-04-04 00:00:00</td>\n",
       "      <td>2016-04-05 06:44:07</td>\n",
       "    </tr>\n",
       "    <tr>\n",
       "      <th>351682</th>\n",
       "      <td>11500</td>\n",
       "      <td>unknow</td>\n",
       "      <td>1800</td>\n",
       "      <td>unknow</td>\n",
       "      <td>16</td>\n",
       "      <td>other</td>\n",
       "      <td>5000</td>\n",
       "      <td>petrol</td>\n",
       "      <td>fiat</td>\n",
       "      <td>unknow</td>\n",
       "      <td>2016-03-11 00:00:00</td>\n",
       "      <td>2016-04-05 19:47:27</td>\n",
       "    </tr>\n",
       "  </tbody>\n",
       "</table>\n",
       "</div>"
      ],
      "text/plain": [
       "        Price VehicleType  RegistrationYear Gearbox  Power     Model  \\\n",
       "16062     190      unknow              1000  unknow      0    mondeo   \n",
       "18224    7999      unknow              1500  manual    224   impreza   \n",
       "34332     450      unknow              1800  unknow   1800    unknow   \n",
       "38875    1234      unknow              1234  unknow     26    unknow   \n",
       "53577     330      unknow              1000  unknow      0      polo   \n",
       "55605     500      unknow              1000  unknow      0    unknow   \n",
       "56241     950      unknow              1400  manual   1400      golf   \n",
       "66198    1300      unknow              1000    auto      0    unknow   \n",
       "71459     500      unknow              1000  unknow      0      golf   \n",
       "79120    4750      unknow              1000  unknow      0     other   \n",
       "91869     400      unknow              1000  unknow      0    unknow   \n",
       "97736     140      unknow              1000  unknow      0       911   \n",
       "110123    400      unknow              1000  unknow      0    unknow   \n",
       "112768   2500      unknow              1000  unknow      0    unknow   \n",
       "125577   7750      unknow              1001  unknow      0     other   \n",
       "129768    275      unknow              1234  unknow      0  e_klasse   \n",
       "129980   1000      unknow              1000  unknow      0    unknow   \n",
       "135865  16500      unknow              1000  unknow      0    unknow   \n",
       "139360    450      unknow              1800  unknow   1800    unknow   \n",
       "143621    550      unknow              1000  unknow   1000      golf   \n",
       "146323    400      unknow              1234  unknow      0    unknow   \n",
       "151725    400      unknow              1000  unknow      0    unknow   \n",
       "183779    500      unknow              1000  unknow      0    unknow   \n",
       "189722   1500      unknow              1000  manual      0    kaefer   \n",
       "213499    380      unknow              1000  unknow      0       6er   \n",
       "214830   1600      unknow              1600  unknow      0    unknow   \n",
       "215678    490      unknow              1111  unknow      0    unknow   \n",
       "218241   7999      unknow              1800  unknow    290      golf   \n",
       "221736   1500      unknow              1039  unknow      0    unknow   \n",
       "243656   2500      unknow              1000  unknow     34    unknow   \n",
       "244092   2000      unknow              1000  unknow      0    unknow   \n",
       "252420    149      unknow              1300  unknow      0   1_reihe   \n",
       "256532  12500      unknow              1000  unknow    200      golf   \n",
       "275472    530      unknow              1000  unknow      0      300c   \n",
       "278517    450      unknow              1500  manual      0    unknow   \n",
       "287304    500      unknow              1602  manual      0     other   \n",
       "319412    480      unknow              1300  unknow      0     astra   \n",
       "325739    400      unknow              1000  unknow      0    unknow   \n",
       "340759    700      unknow              1600  manual   1600        a3   \n",
       "351682  11500      unknow              1800  unknow     16     other   \n",
       "\n",
       "        Kilometer FuelType           Brand NotRepaired          DateCreated  \\\n",
       "16062        5000   unknow            ford      unknow  2016-03-29 00:00:00   \n",
       "18224        5000   unknow          subaru      unknow  2016-03-09 00:00:00   \n",
       "34332        5000   unknow      mitsubishi          no  2016-04-01 00:00:00   \n",
       "38875        5000   unknow         trabant      unknow  2016-03-19 00:00:00   \n",
       "53577        5000   unknow      volkswagen      unknow  2016-03-20 00:00:00   \n",
       "55605        5000   unknow         citroen         yes  2016-03-10 00:00:00   \n",
       "56241      125000   petrol      volkswagen      unknow  2016-03-30 00:00:00   \n",
       "66198        5000   petrol  sonstige_autos      unknow  2016-03-08 00:00:00   \n",
       "71459        5000   unknow      volkswagen      unknow  2016-03-27 00:00:00   \n",
       "79120        5000   unknow         renault      unknow  2016-03-15 00:00:00   \n",
       "91869        5000   unknow  sonstige_autos      unknow  2016-03-11 00:00:00   \n",
       "97736        5000   unknow         porsche      unknow  2016-03-14 00:00:00   \n",
       "110123       5000   unknow   mercedes_benz          no  2016-03-19 00:00:00   \n",
       "112768       5000   unknow         trabant          no  2016-04-04 00:00:00   \n",
       "125577       5000   unknow         citroen      unknow  2016-03-15 00:00:00   \n",
       "129768       5000   unknow   mercedes_benz      unknow  2016-03-05 00:00:00   \n",
       "129980       5000   unknow  sonstige_autos      unknow  2016-03-25 00:00:00   \n",
       "135865       5000   unknow  sonstige_autos      unknow  2016-03-07 00:00:00   \n",
       "139360       5000   unknow      mitsubishi          no  2016-04-02 00:00:00   \n",
       "143621       5000   petrol      volkswagen      unknow  2016-03-17 00:00:00   \n",
       "146323       5000   unknow            opel         yes  2016-03-08 00:00:00   \n",
       "151725       5000   unknow   mercedes_benz      unknow  2016-04-03 00:00:00   \n",
       "183779       5000   unknow  sonstige_autos      unknow  2016-03-08 00:00:00   \n",
       "189722       5000   petrol      volkswagen      unknow  2016-03-29 00:00:00   \n",
       "213499       5000   unknow             bmw      unknow  2016-03-08 00:00:00   \n",
       "214830       5000   unknow  sonstige_autos      unknow  2016-03-24 00:00:00   \n",
       "215678       5000   unknow         trabant      unknow  2016-03-17 00:00:00   \n",
       "218241       5000   unknow      volkswagen      unknow  2016-03-16 00:00:00   \n",
       "221736       5000   petrol      volkswagen      unknow  2016-03-15 00:00:00   \n",
       "243656       5000   petrol  sonstige_autos      unknow  2016-03-29 00:00:00   \n",
       "244092       5000   unknow  sonstige_autos      unknow  2016-03-26 00:00:00   \n",
       "252420       5000   unknow         peugeot      unknow  2016-03-27 00:00:00   \n",
       "256532       5000   unknow      volkswagen      unknow  2016-02-28 00:00:00   \n",
       "275472       5000   unknow        chrysler      unknow  2016-04-05 00:00:00   \n",
       "278517       5000   unknow      volkswagen         yes  2016-03-09 00:00:00   \n",
       "287304       5000   unknow             bmw         yes  2016-03-09 00:00:00   \n",
       "319412       5000   unknow            opel      unknow  2016-03-25 00:00:00   \n",
       "325739       5000   unknow   mercedes_benz      unknow  2016-03-30 00:00:00   \n",
       "340759     150000   petrol            audi          no  2016-04-04 00:00:00   \n",
       "351682       5000   petrol            fiat      unknow  2016-03-11 00:00:00   \n",
       "\n",
       "                   LastSeen  \n",
       "16062   2016-04-06 10:44:58  \n",
       "18224   2016-03-15 05:15:17  \n",
       "34332   2016-04-01 09:42:30  \n",
       "38875   2016-04-06 03:15:22  \n",
       "53577   2016-04-04 08:17:15  \n",
       "55605   2016-04-06 03:45:53  \n",
       "56241   2016-04-03 09:45:19  \n",
       "66198   2016-03-17 08:17:42  \n",
       "71459   2016-03-29 13:46:49  \n",
       "79120   2016-04-06 20:19:21  \n",
       "91869   2016-03-12 18:45:19  \n",
       "97736   2016-03-17 22:16:17  \n",
       "110123  2016-03-25 13:46:45  \n",
       "112768  2016-04-06 13:44:24  \n",
       "125577  2016-04-06 18:47:20  \n",
       "129768  2016-03-05 17:55:26  \n",
       "129980  2016-03-30 17:47:53  \n",
       "135865  2016-03-09 19:15:47  \n",
       "139360  2016-04-04 14:46:21  \n",
       "143621  2016-03-26 05:18:19  \n",
       "146323  2016-03-09 14:45:55  \n",
       "151725  2016-04-07 13:16:56  \n",
       "183779  2016-03-09 22:45:54  \n",
       "189722  2016-03-31 10:15:28  \n",
       "213499  2016-04-06 00:16:56  \n",
       "214830  2016-03-29 04:17:04  \n",
       "215678  2016-04-07 07:17:29  \n",
       "218241  2016-03-29 20:47:40  \n",
       "221736  2016-03-16 12:15:21  \n",
       "243656  2016-04-06 02:45:00  \n",
       "244092  2016-04-02 12:46:25  \n",
       "252420  2016-04-05 11:47:37  \n",
       "256532  2016-04-07 12:17:06  \n",
       "275472  2016-04-05 11:39:14  \n",
       "278517  2016-04-06 03:15:42  \n",
       "287304  2016-03-10 12:17:35  \n",
       "319412  2016-04-07 01:44:51  \n",
       "325739  2016-04-01 06:16:46  \n",
       "340759  2016-04-05 06:44:07  \n",
       "351682  2016-04-05 19:47:27  "
      ]
     },
     "execution_count": 15,
     "metadata": {},
     "output_type": "execute_result"
    }
   ],
   "source": [
    "df[df['RegistrationYear'] < 1900]"
   ]
  },
  {
   "cell_type": "markdown",
   "metadata": {},
   "source": [
    "Их тоже немного, но они явно не правдоподобны, также исключим их. "
   ]
  },
  {
   "cell_type": "code",
   "execution_count": 16,
   "metadata": {},
   "outputs": [],
   "source": [
    "df = df[df['RegistrationYear'] > 1900]"
   ]
  },
  {
   "cell_type": "markdown",
   "metadata": {},
   "source": [
    "Теперь посмотрим на мощьность двигателя. Посмотрим на мощность двиготеля менее 5 л.с., так как именно столько по закону должны иметь транспортные средства."
   ]
  },
  {
   "cell_type": "code",
   "execution_count": 17,
   "metadata": {},
   "outputs": [
    {
     "data": {
      "text/html": [
       "<div>\n",
       "<style scoped>\n",
       "    .dataframe tbody tr th:only-of-type {\n",
       "        vertical-align: middle;\n",
       "    }\n",
       "\n",
       "    .dataframe tbody tr th {\n",
       "        vertical-align: top;\n",
       "    }\n",
       "\n",
       "    .dataframe thead th {\n",
       "        text-align: right;\n",
       "    }\n",
       "</style>\n",
       "<table border=\"1\" class=\"dataframe\">\n",
       "  <thead>\n",
       "    <tr style=\"text-align: right;\">\n",
       "      <th></th>\n",
       "      <th>Price</th>\n",
       "      <th>VehicleType</th>\n",
       "      <th>RegistrationYear</th>\n",
       "      <th>Gearbox</th>\n",
       "      <th>Power</th>\n",
       "      <th>Model</th>\n",
       "      <th>Kilometer</th>\n",
       "      <th>FuelType</th>\n",
       "      <th>Brand</th>\n",
       "      <th>NotRepaired</th>\n",
       "      <th>DateCreated</th>\n",
       "      <th>LastSeen</th>\n",
       "    </tr>\n",
       "  </thead>\n",
       "  <tbody>\n",
       "    <tr>\n",
       "      <th>0</th>\n",
       "      <td>480</td>\n",
       "      <td>unknow</td>\n",
       "      <td>1993</td>\n",
       "      <td>manual</td>\n",
       "      <td>0</td>\n",
       "      <td>golf</td>\n",
       "      <td>150000</td>\n",
       "      <td>petrol</td>\n",
       "      <td>volkswagen</td>\n",
       "      <td>unknow</td>\n",
       "      <td>2016-03-24 00:00:00</td>\n",
       "      <td>2016-04-07 03:16:57</td>\n",
       "    </tr>\n",
       "    <tr>\n",
       "      <th>15</th>\n",
       "      <td>450</td>\n",
       "      <td>small</td>\n",
       "      <td>1910</td>\n",
       "      <td>unknow</td>\n",
       "      <td>0</td>\n",
       "      <td>ka</td>\n",
       "      <td>5000</td>\n",
       "      <td>petrol</td>\n",
       "      <td>ford</td>\n",
       "      <td>unknow</td>\n",
       "      <td>2016-03-11 00:00:00</td>\n",
       "      <td>2016-03-19 08:46:47</td>\n",
       "    </tr>\n",
       "    <tr>\n",
       "      <th>32</th>\n",
       "      <td>245</td>\n",
       "      <td>sedan</td>\n",
       "      <td>1994</td>\n",
       "      <td>unknow</td>\n",
       "      <td>0</td>\n",
       "      <td>golf</td>\n",
       "      <td>150000</td>\n",
       "      <td>petrol</td>\n",
       "      <td>volkswagen</td>\n",
       "      <td>no</td>\n",
       "      <td>2016-03-15 00:00:00</td>\n",
       "      <td>2016-03-17 18:17:43</td>\n",
       "    </tr>\n",
       "    <tr>\n",
       "      <th>37</th>\n",
       "      <td>1500</td>\n",
       "      <td>unknow</td>\n",
       "      <td>2016</td>\n",
       "      <td>unknow</td>\n",
       "      <td>0</td>\n",
       "      <td>kangoo</td>\n",
       "      <td>150000</td>\n",
       "      <td>gasoline</td>\n",
       "      <td>renault</td>\n",
       "      <td>no</td>\n",
       "      <td>2016-03-28 00:00:00</td>\n",
       "      <td>2016-03-30 09:18:02</td>\n",
       "    </tr>\n",
       "    <tr>\n",
       "      <th>54</th>\n",
       "      <td>4700</td>\n",
       "      <td>wagon</td>\n",
       "      <td>2005</td>\n",
       "      <td>manual</td>\n",
       "      <td>0</td>\n",
       "      <td>signum</td>\n",
       "      <td>150000</td>\n",
       "      <td>unknow</td>\n",
       "      <td>opel</td>\n",
       "      <td>no</td>\n",
       "      <td>2016-03-17 00:00:00</td>\n",
       "      <td>2016-04-04 04:17:32</td>\n",
       "    </tr>\n",
       "    <tr>\n",
       "      <th>...</th>\n",
       "      <td>...</td>\n",
       "      <td>...</td>\n",
       "      <td>...</td>\n",
       "      <td>...</td>\n",
       "      <td>...</td>\n",
       "      <td>...</td>\n",
       "      <td>...</td>\n",
       "      <td>...</td>\n",
       "      <td>...</td>\n",
       "      <td>...</td>\n",
       "      <td>...</td>\n",
       "      <td>...</td>\n",
       "    </tr>\n",
       "    <tr>\n",
       "      <th>354338</th>\n",
       "      <td>180</td>\n",
       "      <td>unknow</td>\n",
       "      <td>1995</td>\n",
       "      <td>unknow</td>\n",
       "      <td>0</td>\n",
       "      <td>unknow</td>\n",
       "      <td>125000</td>\n",
       "      <td>petrol</td>\n",
       "      <td>opel</td>\n",
       "      <td>unknow</td>\n",
       "      <td>2016-03-31 00:00:00</td>\n",
       "      <td>2016-04-06 14:18:04</td>\n",
       "    </tr>\n",
       "    <tr>\n",
       "      <th>354346</th>\n",
       "      <td>2600</td>\n",
       "      <td>unknow</td>\n",
       "      <td>2005</td>\n",
       "      <td>auto</td>\n",
       "      <td>0</td>\n",
       "      <td>c_klasse</td>\n",
       "      <td>150000</td>\n",
       "      <td>unknow</td>\n",
       "      <td>mercedes_benz</td>\n",
       "      <td>unknow</td>\n",
       "      <td>2016-03-07 00:00:00</td>\n",
       "      <td>2016-03-08 21:28:38</td>\n",
       "    </tr>\n",
       "    <tr>\n",
       "      <th>354360</th>\n",
       "      <td>3999</td>\n",
       "      <td>wagon</td>\n",
       "      <td>2005</td>\n",
       "      <td>manual</td>\n",
       "      <td>3</td>\n",
       "      <td>3er</td>\n",
       "      <td>150000</td>\n",
       "      <td>gasoline</td>\n",
       "      <td>bmw</td>\n",
       "      <td>no</td>\n",
       "      <td>2016-04-02 00:00:00</td>\n",
       "      <td>2016-04-06 20:47:12</td>\n",
       "    </tr>\n",
       "    <tr>\n",
       "      <th>354363</th>\n",
       "      <td>1150</td>\n",
       "      <td>bus</td>\n",
       "      <td>2000</td>\n",
       "      <td>manual</td>\n",
       "      <td>0</td>\n",
       "      <td>zafira</td>\n",
       "      <td>150000</td>\n",
       "      <td>petrol</td>\n",
       "      <td>opel</td>\n",
       "      <td>no</td>\n",
       "      <td>2016-03-27 00:00:00</td>\n",
       "      <td>2016-03-29 10:17:23</td>\n",
       "    </tr>\n",
       "    <tr>\n",
       "      <th>354365</th>\n",
       "      <td>2200</td>\n",
       "      <td>unknow</td>\n",
       "      <td>2005</td>\n",
       "      <td>unknow</td>\n",
       "      <td>0</td>\n",
       "      <td>unknow</td>\n",
       "      <td>20000</td>\n",
       "      <td>unknow</td>\n",
       "      <td>sonstige_autos</td>\n",
       "      <td>unknow</td>\n",
       "      <td>2016-03-14 00:00:00</td>\n",
       "      <td>2016-04-06 00:46:52</td>\n",
       "    </tr>\n",
       "  </tbody>\n",
       "</table>\n",
       "<p>34644 rows × 12 columns</p>\n",
       "</div>"
      ],
      "text/plain": [
       "        Price VehicleType  RegistrationYear Gearbox  Power     Model  \\\n",
       "0         480      unknow              1993  manual      0      golf   \n",
       "15        450       small              1910  unknow      0        ka   \n",
       "32        245       sedan              1994  unknow      0      golf   \n",
       "37       1500      unknow              2016  unknow      0    kangoo   \n",
       "54       4700       wagon              2005  manual      0    signum   \n",
       "...       ...         ...               ...     ...    ...       ...   \n",
       "354338    180      unknow              1995  unknow      0    unknow   \n",
       "354346   2600      unknow              2005    auto      0  c_klasse   \n",
       "354360   3999       wagon              2005  manual      3       3er   \n",
       "354363   1150         bus              2000  manual      0    zafira   \n",
       "354365   2200      unknow              2005  unknow      0    unknow   \n",
       "\n",
       "        Kilometer  FuelType           Brand NotRepaired          DateCreated  \\\n",
       "0          150000    petrol      volkswagen      unknow  2016-03-24 00:00:00   \n",
       "15           5000    petrol            ford      unknow  2016-03-11 00:00:00   \n",
       "32         150000    petrol      volkswagen          no  2016-03-15 00:00:00   \n",
       "37         150000  gasoline         renault          no  2016-03-28 00:00:00   \n",
       "54         150000    unknow            opel          no  2016-03-17 00:00:00   \n",
       "...           ...       ...             ...         ...                  ...   \n",
       "354338     125000    petrol            opel      unknow  2016-03-31 00:00:00   \n",
       "354346     150000    unknow   mercedes_benz      unknow  2016-03-07 00:00:00   \n",
       "354360     150000  gasoline             bmw          no  2016-04-02 00:00:00   \n",
       "354363     150000    petrol            opel          no  2016-03-27 00:00:00   \n",
       "354365      20000    unknow  sonstige_autos      unknow  2016-03-14 00:00:00   \n",
       "\n",
       "                   LastSeen  \n",
       "0       2016-04-07 03:16:57  \n",
       "15      2016-03-19 08:46:47  \n",
       "32      2016-03-17 18:17:43  \n",
       "37      2016-03-30 09:18:02  \n",
       "54      2016-04-04 04:17:32  \n",
       "...                     ...  \n",
       "354338  2016-04-06 14:18:04  \n",
       "354346  2016-03-08 21:28:38  \n",
       "354360  2016-04-06 20:47:12  \n",
       "354363  2016-03-29 10:17:23  \n",
       "354365  2016-04-06 00:46:52  \n",
       "\n",
       "[34644 rows x 12 columns]"
      ]
     },
     "execution_count": 17,
     "metadata": {},
     "output_type": "execute_result"
    }
   ],
   "source": [
    "df[df['Power'] < 5]"
   ]
  },
  {
   "cell_type": "markdown",
   "metadata": {},
   "source": [
    "Так как данных слишком много, не будем их удалять, попробуем заменить данные средним значением по модели. Включим в условия и данные о количестве сил более 1000. "
   ]
  },
  {
   "cell_type": "code",
   "execution_count": 18,
   "metadata": {},
   "outputs": [],
   "source": [
    "df.loc[(df['Power'] > 1000) | (df['Power'] <= 5), 'Power'] = None\n",
    "df['Power'] = df['Power'].fillna(df.groupby('Model')['Power'].transform('median'))"
   ]
  },
  {
   "cell_type": "code",
   "execution_count": 19,
   "metadata": {},
   "outputs": [
    {
     "data": {
      "text/html": [
       "<div>\n",
       "<style scoped>\n",
       "    .dataframe tbody tr th:only-of-type {\n",
       "        vertical-align: middle;\n",
       "    }\n",
       "\n",
       "    .dataframe tbody tr th {\n",
       "        vertical-align: top;\n",
       "    }\n",
       "\n",
       "    .dataframe thead th {\n",
       "        text-align: right;\n",
       "    }\n",
       "</style>\n",
       "<table border=\"1\" class=\"dataframe\">\n",
       "  <thead>\n",
       "    <tr style=\"text-align: right;\">\n",
       "      <th></th>\n",
       "      <th>Price</th>\n",
       "      <th>VehicleType</th>\n",
       "      <th>RegistrationYear</th>\n",
       "      <th>Gearbox</th>\n",
       "      <th>Power</th>\n",
       "      <th>Model</th>\n",
       "      <th>Kilometer</th>\n",
       "      <th>FuelType</th>\n",
       "      <th>Brand</th>\n",
       "      <th>NotRepaired</th>\n",
       "      <th>DateCreated</th>\n",
       "      <th>LastSeen</th>\n",
       "    </tr>\n",
       "  </thead>\n",
       "  <tbody>\n",
       "  </tbody>\n",
       "</table>\n",
       "</div>"
      ],
      "text/plain": [
       "Empty DataFrame\n",
       "Columns: [Price, VehicleType, RegistrationYear, Gearbox, Power, Model, Kilometer, FuelType, Brand, NotRepaired, DateCreated, LastSeen]\n",
       "Index: []"
      ]
     },
     "execution_count": 19,
     "metadata": {},
     "output_type": "execute_result"
    }
   ],
   "source": [
    "df[df['Power'] < 5]"
   ]
  },
  {
   "cell_type": "markdown",
   "metadata": {},
   "source": [
    "Признаки DateCreated и LastSeen:"
   ]
  },
  {
   "cell_type": "code",
   "execution_count": 20,
   "metadata": {},
   "outputs": [
    {
     "data": {
      "text/plain": [
       "'2014-03-10 00:00:00'"
      ]
     },
     "execution_count": 20,
     "metadata": {},
     "output_type": "execute_result"
    }
   ],
   "source": [
    "min(df['DateCreated'])"
   ]
  },
  {
   "cell_type": "markdown",
   "metadata": {},
   "source": [
    "Признаки DateCreated и LastSeen преобразуем в количество дней с момента 2014-03-01."
   ]
  },
  {
   "cell_type": "code",
   "execution_count": 21,
   "metadata": {},
   "outputs": [],
   "source": [
    "base_df = pd.Timestamp('2014-03-01 00:00:00')\n",
    "df['DateCreated'] = df['DateCreated'].map(lambda date : (pd.Timestamp(date) - base_df).days)\n",
    "df['LastSeen'] = df['LastSeen'].map(lambda date : (pd.Timestamp(date) - base_df).days)"
   ]
  },
  {
   "cell_type": "markdown",
   "metadata": {},
   "source": [
    "Данные очищены от выбросов и пропусков. Взглянем на них еще раз:"
   ]
  },
  {
   "cell_type": "code",
   "execution_count": 22,
   "metadata": {},
   "outputs": [
    {
     "data": {
      "text/html": [
       "<div>\n",
       "<style scoped>\n",
       "    .dataframe tbody tr th:only-of-type {\n",
       "        vertical-align: middle;\n",
       "    }\n",
       "\n",
       "    .dataframe tbody tr th {\n",
       "        vertical-align: top;\n",
       "    }\n",
       "\n",
       "    .dataframe thead th {\n",
       "        text-align: right;\n",
       "    }\n",
       "</style>\n",
       "<table border=\"1\" class=\"dataframe\">\n",
       "  <thead>\n",
       "    <tr style=\"text-align: right;\">\n",
       "      <th></th>\n",
       "      <th>Price</th>\n",
       "      <th>VehicleType</th>\n",
       "      <th>RegistrationYear</th>\n",
       "      <th>Gearbox</th>\n",
       "      <th>Power</th>\n",
       "      <th>Model</th>\n",
       "      <th>Kilometer</th>\n",
       "      <th>FuelType</th>\n",
       "      <th>Brand</th>\n",
       "      <th>NotRepaired</th>\n",
       "      <th>DateCreated</th>\n",
       "      <th>LastSeen</th>\n",
       "    </tr>\n",
       "  </thead>\n",
       "  <tbody>\n",
       "    <tr>\n",
       "      <th>0</th>\n",
       "      <td>480</td>\n",
       "      <td>unknow</td>\n",
       "      <td>1993</td>\n",
       "      <td>manual</td>\n",
       "      <td>101.0</td>\n",
       "      <td>golf</td>\n",
       "      <td>150000</td>\n",
       "      <td>petrol</td>\n",
       "      <td>volkswagen</td>\n",
       "      <td>unknow</td>\n",
       "      <td>754</td>\n",
       "      <td>768</td>\n",
       "    </tr>\n",
       "    <tr>\n",
       "      <th>1</th>\n",
       "      <td>18300</td>\n",
       "      <td>coupe</td>\n",
       "      <td>2011</td>\n",
       "      <td>manual</td>\n",
       "      <td>190.0</td>\n",
       "      <td>unknow</td>\n",
       "      <td>125000</td>\n",
       "      <td>gasoline</td>\n",
       "      <td>audi</td>\n",
       "      <td>yes</td>\n",
       "      <td>754</td>\n",
       "      <td>768</td>\n",
       "    </tr>\n",
       "    <tr>\n",
       "      <th>2</th>\n",
       "      <td>9800</td>\n",
       "      <td>suv</td>\n",
       "      <td>2004</td>\n",
       "      <td>auto</td>\n",
       "      <td>163.0</td>\n",
       "      <td>grand</td>\n",
       "      <td>125000</td>\n",
       "      <td>gasoline</td>\n",
       "      <td>jeep</td>\n",
       "      <td>unknow</td>\n",
       "      <td>744</td>\n",
       "      <td>766</td>\n",
       "    </tr>\n",
       "    <tr>\n",
       "      <th>3</th>\n",
       "      <td>1500</td>\n",
       "      <td>small</td>\n",
       "      <td>2001</td>\n",
       "      <td>manual</td>\n",
       "      <td>75.0</td>\n",
       "      <td>golf</td>\n",
       "      <td>150000</td>\n",
       "      <td>petrol</td>\n",
       "      <td>volkswagen</td>\n",
       "      <td>no</td>\n",
       "      <td>747</td>\n",
       "      <td>747</td>\n",
       "    </tr>\n",
       "    <tr>\n",
       "      <th>4</th>\n",
       "      <td>3600</td>\n",
       "      <td>small</td>\n",
       "      <td>2008</td>\n",
       "      <td>manual</td>\n",
       "      <td>69.0</td>\n",
       "      <td>fabia</td>\n",
       "      <td>90000</td>\n",
       "      <td>gasoline</td>\n",
       "      <td>skoda</td>\n",
       "      <td>no</td>\n",
       "      <td>761</td>\n",
       "      <td>767</td>\n",
       "    </tr>\n",
       "  </tbody>\n",
       "</table>\n",
       "</div>"
      ],
      "text/plain": [
       "   Price VehicleType  RegistrationYear Gearbox  Power   Model  Kilometer  \\\n",
       "0    480      unknow              1993  manual  101.0    golf     150000   \n",
       "1  18300       coupe              2011  manual  190.0  unknow     125000   \n",
       "2   9800         suv              2004    auto  163.0   grand     125000   \n",
       "3   1500       small              2001  manual   75.0    golf     150000   \n",
       "4   3600       small              2008  manual   69.0   fabia      90000   \n",
       "\n",
       "   FuelType       Brand NotRepaired  DateCreated  LastSeen  \n",
       "0    petrol  volkswagen      unknow          754       768  \n",
       "1  gasoline        audi         yes          754       768  \n",
       "2  gasoline        jeep      unknow          744       766  \n",
       "3    petrol  volkswagen          no          747       747  \n",
       "4  gasoline       skoda          no          761       767  "
      ]
     },
     "execution_count": 22,
     "metadata": {},
     "output_type": "execute_result"
    }
   ],
   "source": [
    "df.head()"
   ]
  },
  {
   "cell_type": "code",
   "execution_count": 23,
   "metadata": {
    "scrolled": true
   },
   "outputs": [
    {
     "name": "stdout",
     "output_type": "stream",
     "text": [
      "<class 'pandas.core.frame.DataFrame'>\n",
      "Int64Index: 339909 entries, 0 to 354368\n",
      "Data columns (total 12 columns):\n",
      " #   Column            Non-Null Count   Dtype  \n",
      "---  ------            --------------   -----  \n",
      " 0   Price             339909 non-null  int64  \n",
      " 1   VehicleType       339909 non-null  object \n",
      " 2   RegistrationYear  339909 non-null  int64  \n",
      " 3   Gearbox           339909 non-null  object \n",
      " 4   Power             339908 non-null  float64\n",
      " 5   Model             339909 non-null  object \n",
      " 6   Kilometer         339909 non-null  int64  \n",
      " 7   FuelType          339909 non-null  object \n",
      " 8   Brand             339909 non-null  object \n",
      " 9   NotRepaired       339909 non-null  object \n",
      " 10  DateCreated       339909 non-null  int64  \n",
      " 11  LastSeen          339909 non-null  int64  \n",
      "dtypes: float64(1), int64(5), object(6)\n",
      "memory usage: 33.7+ MB\n"
     ]
    }
   ],
   "source": [
    "df.info()"
   ]
  },
  {
   "cell_type": "markdown",
   "metadata": {},
   "source": [
    "### Кодирование категориальных признаков"
   ]
  },
  {
   "cell_type": "markdown",
   "metadata": {},
   "source": [
    "Для преобразования категориальных признаков используем функцию get_dummies() с аргументом drop_first. Такой подход позволит не попасть в дамми-ловушку, так как не создает большое количество фиктивных признаков. "
   ]
  },
  {
   "cell_type": "code",
   "execution_count": 24,
   "metadata": {},
   "outputs": [
    {
     "data": {
      "text/html": [
       "<div>\n",
       "<style scoped>\n",
       "    .dataframe tbody tr th:only-of-type {\n",
       "        vertical-align: middle;\n",
       "    }\n",
       "\n",
       "    .dataframe tbody tr th {\n",
       "        vertical-align: top;\n",
       "    }\n",
       "\n",
       "    .dataframe thead th {\n",
       "        text-align: right;\n",
       "    }\n",
       "</style>\n",
       "<table border=\"1\" class=\"dataframe\">\n",
       "  <thead>\n",
       "    <tr style=\"text-align: right;\">\n",
       "      <th></th>\n",
       "      <th>Price</th>\n",
       "      <th>RegistrationYear</th>\n",
       "      <th>Power</th>\n",
       "      <th>Kilometer</th>\n",
       "      <th>DateCreated</th>\n",
       "      <th>LastSeen</th>\n",
       "      <th>VehicleType_convertible</th>\n",
       "      <th>VehicleType_coupe</th>\n",
       "      <th>VehicleType_other</th>\n",
       "      <th>VehicleType_sedan</th>\n",
       "      <th>...</th>\n",
       "      <th>Brand_smart</th>\n",
       "      <th>Brand_sonstige_autos</th>\n",
       "      <th>Brand_subaru</th>\n",
       "      <th>Brand_suzuki</th>\n",
       "      <th>Brand_toyota</th>\n",
       "      <th>Brand_trabant</th>\n",
       "      <th>Brand_volkswagen</th>\n",
       "      <th>Brand_volvo</th>\n",
       "      <th>NotRepaired_unknow</th>\n",
       "      <th>NotRepaired_yes</th>\n",
       "    </tr>\n",
       "  </thead>\n",
       "  <tbody>\n",
       "    <tr>\n",
       "      <th>0</th>\n",
       "      <td>480</td>\n",
       "      <td>1993</td>\n",
       "      <td>101.0</td>\n",
       "      <td>150000</td>\n",
       "      <td>754</td>\n",
       "      <td>768</td>\n",
       "      <td>0</td>\n",
       "      <td>0</td>\n",
       "      <td>0</td>\n",
       "      <td>0</td>\n",
       "      <td>...</td>\n",
       "      <td>0</td>\n",
       "      <td>0</td>\n",
       "      <td>0</td>\n",
       "      <td>0</td>\n",
       "      <td>0</td>\n",
       "      <td>0</td>\n",
       "      <td>1</td>\n",
       "      <td>0</td>\n",
       "      <td>1</td>\n",
       "      <td>0</td>\n",
       "    </tr>\n",
       "    <tr>\n",
       "      <th>1</th>\n",
       "      <td>18300</td>\n",
       "      <td>2011</td>\n",
       "      <td>190.0</td>\n",
       "      <td>125000</td>\n",
       "      <td>754</td>\n",
       "      <td>768</td>\n",
       "      <td>0</td>\n",
       "      <td>1</td>\n",
       "      <td>0</td>\n",
       "      <td>0</td>\n",
       "      <td>...</td>\n",
       "      <td>0</td>\n",
       "      <td>0</td>\n",
       "      <td>0</td>\n",
       "      <td>0</td>\n",
       "      <td>0</td>\n",
       "      <td>0</td>\n",
       "      <td>0</td>\n",
       "      <td>0</td>\n",
       "      <td>0</td>\n",
       "      <td>1</td>\n",
       "    </tr>\n",
       "    <tr>\n",
       "      <th>2</th>\n",
       "      <td>9800</td>\n",
       "      <td>2004</td>\n",
       "      <td>163.0</td>\n",
       "      <td>125000</td>\n",
       "      <td>744</td>\n",
       "      <td>766</td>\n",
       "      <td>0</td>\n",
       "      <td>0</td>\n",
       "      <td>0</td>\n",
       "      <td>0</td>\n",
       "      <td>...</td>\n",
       "      <td>0</td>\n",
       "      <td>0</td>\n",
       "      <td>0</td>\n",
       "      <td>0</td>\n",
       "      <td>0</td>\n",
       "      <td>0</td>\n",
       "      <td>0</td>\n",
       "      <td>0</td>\n",
       "      <td>1</td>\n",
       "      <td>0</td>\n",
       "    </tr>\n",
       "    <tr>\n",
       "      <th>3</th>\n",
       "      <td>1500</td>\n",
       "      <td>2001</td>\n",
       "      <td>75.0</td>\n",
       "      <td>150000</td>\n",
       "      <td>747</td>\n",
       "      <td>747</td>\n",
       "      <td>0</td>\n",
       "      <td>0</td>\n",
       "      <td>0</td>\n",
       "      <td>0</td>\n",
       "      <td>...</td>\n",
       "      <td>0</td>\n",
       "      <td>0</td>\n",
       "      <td>0</td>\n",
       "      <td>0</td>\n",
       "      <td>0</td>\n",
       "      <td>0</td>\n",
       "      <td>1</td>\n",
       "      <td>0</td>\n",
       "      <td>0</td>\n",
       "      <td>0</td>\n",
       "    </tr>\n",
       "    <tr>\n",
       "      <th>4</th>\n",
       "      <td>3600</td>\n",
       "      <td>2008</td>\n",
       "      <td>69.0</td>\n",
       "      <td>90000</td>\n",
       "      <td>761</td>\n",
       "      <td>767</td>\n",
       "      <td>0</td>\n",
       "      <td>0</td>\n",
       "      <td>0</td>\n",
       "      <td>0</td>\n",
       "      <td>...</td>\n",
       "      <td>0</td>\n",
       "      <td>0</td>\n",
       "      <td>0</td>\n",
       "      <td>0</td>\n",
       "      <td>0</td>\n",
       "      <td>0</td>\n",
       "      <td>0</td>\n",
       "      <td>0</td>\n",
       "      <td>0</td>\n",
       "      <td>0</td>\n",
       "    </tr>\n",
       "  </tbody>\n",
       "</table>\n",
       "<p>5 rows × 314 columns</p>\n",
       "</div>"
      ],
      "text/plain": [
       "   Price  RegistrationYear  Power  Kilometer  DateCreated  LastSeen  \\\n",
       "0    480              1993  101.0     150000          754       768   \n",
       "1  18300              2011  190.0     125000          754       768   \n",
       "2   9800              2004  163.0     125000          744       766   \n",
       "3   1500              2001   75.0     150000          747       747   \n",
       "4   3600              2008   69.0      90000          761       767   \n",
       "\n",
       "   VehicleType_convertible  VehicleType_coupe  VehicleType_other  \\\n",
       "0                        0                  0                  0   \n",
       "1                        0                  1                  0   \n",
       "2                        0                  0                  0   \n",
       "3                        0                  0                  0   \n",
       "4                        0                  0                  0   \n",
       "\n",
       "   VehicleType_sedan  ...  Brand_smart  Brand_sonstige_autos  Brand_subaru  \\\n",
       "0                  0  ...            0                     0             0   \n",
       "1                  0  ...            0                     0             0   \n",
       "2                  0  ...            0                     0             0   \n",
       "3                  0  ...            0                     0             0   \n",
       "4                  0  ...            0                     0             0   \n",
       "\n",
       "   Brand_suzuki  Brand_toyota  Brand_trabant  Brand_volkswagen  Brand_volvo  \\\n",
       "0             0             0              0                 1            0   \n",
       "1             0             0              0                 0            0   \n",
       "2             0             0              0                 0            0   \n",
       "3             0             0              0                 1            0   \n",
       "4             0             0              0                 0            0   \n",
       "\n",
       "   NotRepaired_unknow  NotRepaired_yes  \n",
       "0                   1                0  \n",
       "1                   0                1  \n",
       "2                   1                0  \n",
       "3                   0                0  \n",
       "4                   0                0  \n",
       "\n",
       "[5 rows x 314 columns]"
      ]
     },
     "execution_count": 24,
     "metadata": {},
     "output_type": "execute_result"
    }
   ],
   "source": [
    "df_ohe = pd.get_dummies(df, drop_first=True)\n",
    "df_ohe.head()"
   ]
  },
  {
   "cell_type": "markdown",
   "metadata": {},
   "source": [
    "### Разбиение данных на выборки"
   ]
  },
  {
   "cell_type": "markdown",
   "metadata": {},
   "source": [
    "Так как спрятанной тестовой выборки у нас нету, разделим исходные данные на три выборки: обучающую, валидационную и тестовую. Так как размеры тестовой и валидационной выборок обычно равны, разделим данные в соотношении 3:1:1.\n",
    "\n",
    "Для этого методом train_test_split разделим исходные данные на обучающую (60%) и валидационную выборку (40%), а после этого валидационную выборку разделим пополам — на валидационную и тестовую выборки"
   ]
  },
  {
   "cell_type": "code",
   "execution_count": 25,
   "metadata": {},
   "outputs": [],
   "source": [
    "# разделим признаки и целевой признак:\n",
    "target = df_ohe['Price']\n",
    "features = df_ohe.drop('Price', axis=1)"
   ]
  },
  {
   "cell_type": "code",
   "execution_count": 26,
   "metadata": {},
   "outputs": [],
   "source": [
    "# поделим данные на обучающую и валидацилнную выборки:\n",
    "features_train, features_valid, target_train, target_valid = train_test_split(features,\n",
    "target, train_size=0.60, test_size=0.40, random_state=12345)\n",
    "\n",
    "# и валидационную поделим на валидационную и тестовую:\n",
    "features_valid, features_test, target_valid, target_test = train_test_split(features_valid, \n",
    "target_valid, train_size=0.50, test_size=0.50, random_state=12345)"
   ]
  },
  {
   "cell_type": "markdown",
   "metadata": {},
   "source": [
    "## Обучение моделей"
   ]
  },
  {
   "cell_type": "markdown",
   "metadata": {},
   "source": [
    "Используем несколько моделей для поиска лучшего результата. Для этого возьмем линейную регрессию, LGBM и CatBoost. "
   ]
  },
  {
   "cell_type": "markdown",
   "metadata": {},
   "source": [
    "### LinearRegression"
   ]
  },
  {
   "cell_type": "markdown",
   "metadata": {},
   "source": [
    "Для линейной регрессии нужно масштабировать признаки. "
   ]
  },
  {
   "cell_type": "code",
   "execution_count": 27,
   "metadata": {},
   "outputs": [
    {
     "data": {
      "text/plain": [
       "StandardScaler()"
      ]
     },
     "execution_count": 27,
     "metadata": {},
     "output_type": "execute_result"
    }
   ],
   "source": [
    "numeric = ['RegistrationYear', 'Power', 'Kilometer', 'DateCreated', 'LastSeen']\n",
    "\n",
    "scaler = StandardScaler()\n",
    "scaler.fit(features_train[numeric])"
   ]
  },
  {
   "cell_type": "code",
   "execution_count": 28,
   "metadata": {},
   "outputs": [],
   "source": [
    "features_train[numeric] = scaler.transform(features_train[numeric])\n",
    "features_valid[numeric] = scaler.transform(features_valid[numeric])\n",
    "features_test[numeric] = scaler.transform(features_test[numeric])"
   ]
  },
  {
   "cell_type": "code",
   "execution_count": 29,
   "metadata": {
    "scrolled": true
   },
   "outputs": [
    {
     "data": {
      "text/html": [
       "<div>\n",
       "<style scoped>\n",
       "    .dataframe tbody tr th:only-of-type {\n",
       "        vertical-align: middle;\n",
       "    }\n",
       "\n",
       "    .dataframe tbody tr th {\n",
       "        vertical-align: top;\n",
       "    }\n",
       "\n",
       "    .dataframe thead th {\n",
       "        text-align: right;\n",
       "    }\n",
       "</style>\n",
       "<table border=\"1\" class=\"dataframe\">\n",
       "  <thead>\n",
       "    <tr style=\"text-align: right;\">\n",
       "      <th></th>\n",
       "      <th>RegistrationYear</th>\n",
       "      <th>Power</th>\n",
       "      <th>Kilometer</th>\n",
       "      <th>DateCreated</th>\n",
       "      <th>LastSeen</th>\n",
       "      <th>VehicleType_convertible</th>\n",
       "      <th>VehicleType_coupe</th>\n",
       "      <th>VehicleType_other</th>\n",
       "      <th>VehicleType_sedan</th>\n",
       "      <th>VehicleType_small</th>\n",
       "      <th>...</th>\n",
       "      <th>Brand_smart</th>\n",
       "      <th>Brand_sonstige_autos</th>\n",
       "      <th>Brand_subaru</th>\n",
       "      <th>Brand_suzuki</th>\n",
       "      <th>Brand_toyota</th>\n",
       "      <th>Brand_trabant</th>\n",
       "      <th>Brand_volkswagen</th>\n",
       "      <th>Brand_volvo</th>\n",
       "      <th>NotRepaired_unknow</th>\n",
       "      <th>NotRepaired_yes</th>\n",
       "    </tr>\n",
       "  </thead>\n",
       "  <tbody>\n",
       "    <tr>\n",
       "      <th>252465</th>\n",
       "      <td>-0.168417</td>\n",
       "      <td>-0.192771</td>\n",
       "      <td>0.579299</td>\n",
       "      <td>-0.195775</td>\n",
       "      <td>-1.148648</td>\n",
       "      <td>1</td>\n",
       "      <td>0</td>\n",
       "      <td>0</td>\n",
       "      <td>0</td>\n",
       "      <td>0</td>\n",
       "      <td>...</td>\n",
       "      <td>0</td>\n",
       "      <td>0</td>\n",
       "      <td>0</td>\n",
       "      <td>0</td>\n",
       "      <td>0</td>\n",
       "      <td>0</td>\n",
       "      <td>0</td>\n",
       "      <td>0</td>\n",
       "      <td>1</td>\n",
       "      <td>0</td>\n",
       "    </tr>\n",
       "  </tbody>\n",
       "</table>\n",
       "<p>1 rows × 313 columns</p>\n",
       "</div>"
      ],
      "text/plain": [
       "        RegistrationYear     Power  Kilometer  DateCreated  LastSeen  \\\n",
       "252465         -0.168417 -0.192771   0.579299    -0.195775 -1.148648   \n",
       "\n",
       "        VehicleType_convertible  VehicleType_coupe  VehicleType_other  \\\n",
       "252465                        1                  0                  0   \n",
       "\n",
       "        VehicleType_sedan  VehicleType_small  ...  Brand_smart  \\\n",
       "252465                  0                  0  ...            0   \n",
       "\n",
       "        Brand_sonstige_autos  Brand_subaru  Brand_suzuki  Brand_toyota  \\\n",
       "252465                     0             0             0             0   \n",
       "\n",
       "        Brand_trabant  Brand_volkswagen  Brand_volvo  NotRepaired_unknow  \\\n",
       "252465              0                 0            0                   1   \n",
       "\n",
       "        NotRepaired_yes  \n",
       "252465                0  \n",
       "\n",
       "[1 rows x 313 columns]"
      ]
     },
     "execution_count": 29,
     "metadata": {},
     "output_type": "execute_result"
    }
   ],
   "source": [
    "features_train.sample()"
   ]
  },
  {
   "cell_type": "markdown",
   "metadata": {},
   "source": [
    "Сейчас признаки имеют одинаковый масштаб.\n",
    "\n",
    "Перед тем как перейти к обучению моделей, напишем функцию для расчета метрики RMSE. Данная метрика позволит оценить и сравнить качество разных моделей."
   ]
  },
  {
   "cell_type": "code",
   "execution_count": 30,
   "metadata": {},
   "outputs": [],
   "source": [
    "def rmse(target, predictions):\n",
    "    mse = mean_squared_error(target, predictions)\n",
    "    rmse = sqrt(mse)\n",
    "    return rmse"
   ]
  },
  {
   "cell_type": "markdown",
   "metadata": {},
   "source": [
    "Не знаю откуда, ну у меня затерялся один пропуск в Power и вылезала ошибка \"Input contains NaN, infinity or a value too large for dtype('float64')\". Поэтому чищу пропуски и идем дальше. "
   ]
  },
  {
   "cell_type": "code",
   "execution_count": 31,
   "metadata": {},
   "outputs": [],
   "source": [
    "features_train = features_train.fillna(0)"
   ]
  },
  {
   "cell_type": "code",
   "execution_count": 32,
   "metadata": {},
   "outputs": [
    {
     "name": "stdout",
     "output_type": "stream",
     "text": [
      "CPU times: user 17.3 s, sys: 3.9 s, total: 21.2 s\n",
      "Wall time: 21.2 s\n"
     ]
    },
    {
     "data": {
      "text/plain": [
       "LinearRegression()"
      ]
     },
     "execution_count": 32,
     "metadata": {},
     "output_type": "execute_result"
    }
   ],
   "source": [
    "%%time\n",
    "lm = LinearRegression()\n",
    "lm.fit(features_train, target_train)"
   ]
  },
  {
   "cell_type": "code",
   "execution_count": 33,
   "metadata": {},
   "outputs": [
    {
     "name": "stdout",
     "output_type": "stream",
     "text": [
      "CPU times: user 79.1 ms, sys: 78 ms, total: 157 ms\n",
      "Wall time: 128 ms\n"
     ]
    }
   ],
   "source": [
    "%%time\n",
    "predictions_lm = lm.predict(features_test)"
   ]
  },
  {
   "cell_type": "code",
   "execution_count": 34,
   "metadata": {},
   "outputs": [
    {
     "name": "stdout",
     "output_type": "stream",
     "text": [
      "RMSE на тестовой выборке: 2630.7823933017557\n"
     ]
    }
   ],
   "source": [
    "print('RMSE на тестовой выборке:', rmse(target_test, predictions_lm))"
   ]
  },
  {
   "cell_type": "markdown",
   "metadata": {},
   "source": [
    "### LGBMRegressor"
   ]
  },
  {
   "cell_type": "markdown",
   "metadata": {},
   "source": [
    "Подберем параметры и обучим модель."
   ]
  },
  {
   "cell_type": "code",
   "execution_count": 35,
   "metadata": {},
   "outputs": [],
   "source": [
    "parameters = {'boosting_type': 'gbdt', \n",
    "              'max_depth': 11, \n",
    "              'n_estimators': 120, \n",
    "              'random_state': 12345}\n",
    "model_lgbm = LGBMRegressor(**parameters)"
   ]
  },
  {
   "cell_type": "code",
   "execution_count": 36,
   "metadata": {},
   "outputs": [
    {
     "name": "stdout",
     "output_type": "stream",
     "text": [
      "CPU times: user 7.73 s, sys: 266 ms, total: 7.99 s\n",
      "Wall time: 8.07 s\n"
     ]
    },
    {
     "data": {
      "text/plain": [
       "LGBMRegressor(max_depth=11, n_estimators=120, random_state=12345)"
      ]
     },
     "execution_count": 36,
     "metadata": {},
     "output_type": "execute_result"
    }
   ],
   "source": [
    "%%time\n",
    "model_lgbm.fit(features_train, target_train)"
   ]
  },
  {
   "cell_type": "code",
   "execution_count": 37,
   "metadata": {},
   "outputs": [
    {
     "name": "stdout",
     "output_type": "stream",
     "text": [
      "CPU times: user 877 ms, sys: 78 ms, total: 955 ms\n",
      "Wall time: 944 ms\n"
     ]
    }
   ],
   "source": [
    "%%time\n",
    "predictions_lgbm = model_lgbm.predict(features_test, verbose=2)"
   ]
  },
  {
   "cell_type": "code",
   "execution_count": 38,
   "metadata": {},
   "outputs": [
    {
     "name": "stdout",
     "output_type": "stream",
     "text": [
      "RMSE на тестовой выборке: 1693.489546452197\n"
     ]
    }
   ],
   "source": [
    "print('RMSE на тестовой выборке:', rmse(target_test, predictions_lgbm))"
   ]
  },
  {
   "cell_type": "markdown",
   "metadata": {},
   "source": [
    "### CatBoostRegressor"
   ]
  },
  {
   "cell_type": "code",
   "execution_count": 39,
   "metadata": {
    "scrolled": true
   },
   "outputs": [
    {
     "name": "stdout",
     "output_type": "stream",
     "text": [
      "Learning rate set to 0.5\n",
      "0:\tlearn: 3286.2752311\ttotal: 81ms\tremaining: 729ms\n",
      "1:\tlearn: 2725.4509035\ttotal: 111ms\tremaining: 444ms\n",
      "2:\tlearn: 2474.3875297\ttotal: 137ms\tremaining: 320ms\n",
      "3:\tlearn: 2311.6559801\ttotal: 166ms\tremaining: 248ms\n",
      "4:\tlearn: 2225.2519144\ttotal: 195ms\tremaining: 195ms\n",
      "5:\tlearn: 2171.9184131\ttotal: 222ms\tremaining: 148ms\n",
      "6:\tlearn: 2124.3192395\ttotal: 250ms\tremaining: 107ms\n",
      "7:\tlearn: 2097.6042696\ttotal: 277ms\tremaining: 69.2ms\n",
      "8:\tlearn: 2073.0705682\ttotal: 303ms\tremaining: 33.7ms\n",
      "9:\tlearn: 2049.4130820\ttotal: 331ms\tremaining: 0us\n",
      "Learning rate set to 0.5\n",
      "0:\tlearn: 3189.7012792\ttotal: 35.2ms\tremaining: 317ms\n",
      "1:\tlearn: 2603.7138744\ttotal: 71.4ms\tremaining: 286ms\n",
      "2:\tlearn: 2333.9267792\ttotal: 107ms\tremaining: 249ms\n",
      "3:\tlearn: 2201.1928252\ttotal: 141ms\tremaining: 211ms\n",
      "4:\tlearn: 2105.5329275\ttotal: 176ms\tremaining: 176ms\n",
      "5:\tlearn: 2050.9974700\ttotal: 206ms\tremaining: 138ms\n",
      "6:\tlearn: 2015.9028108\ttotal: 238ms\tremaining: 102ms\n",
      "7:\tlearn: 1993.0996766\ttotal: 271ms\tremaining: 67.8ms\n",
      "8:\tlearn: 1968.1169323\ttotal: 304ms\tremaining: 33.7ms\n",
      "9:\tlearn: 1949.9931286\ttotal: 339ms\tremaining: 0us\n",
      "Learning rate set to 0.5\n",
      "0:\tlearn: 3105.1932593\ttotal: 49.3ms\tremaining: 444ms\n",
      "1:\tlearn: 2507.5859012\ttotal: 93.4ms\tremaining: 373ms\n",
      "2:\tlearn: 2236.5391123\ttotal: 136ms\tremaining: 318ms\n",
      "3:\tlearn: 2115.6305167\ttotal: 181ms\tremaining: 272ms\n",
      "4:\tlearn: 2005.6740619\ttotal: 225ms\tremaining: 225ms\n",
      "5:\tlearn: 1958.0469816\ttotal: 267ms\tremaining: 178ms\n",
      "6:\tlearn: 1924.4680071\ttotal: 315ms\tremaining: 135ms\n",
      "7:\tlearn: 1903.5959430\ttotal: 353ms\tremaining: 88.3ms\n",
      "8:\tlearn: 1884.6785502\ttotal: 397ms\tremaining: 44.1ms\n",
      "9:\tlearn: 1857.2582096\ttotal: 440ms\tremaining: 0us\n",
      "Learning rate set to 0.5\n",
      "0:\tlearn: 3286.2752311\ttotal: 32.7ms\tremaining: 949ms\n",
      "1:\tlearn: 2725.4509035\ttotal: 74.8ms\tremaining: 1.05s\n",
      "2:\tlearn: 2474.3875297\ttotal: 111ms\tremaining: 1s\n",
      "3:\tlearn: 2311.6559801\ttotal: 151ms\tremaining: 984ms\n",
      "4:\tlearn: 2225.2519144\ttotal: 179ms\tremaining: 893ms\n",
      "5:\tlearn: 2171.9184131\ttotal: 205ms\tremaining: 821ms\n",
      "6:\tlearn: 2124.3192395\ttotal: 232ms\tremaining: 764ms\n",
      "7:\tlearn: 2097.6042696\ttotal: 259ms\tremaining: 711ms\n",
      "8:\tlearn: 2073.0705682\ttotal: 286ms\tremaining: 666ms\n",
      "9:\tlearn: 2049.4130820\ttotal: 318ms\tremaining: 635ms\n",
      "10:\tlearn: 2025.4149354\ttotal: 345ms\tremaining: 597ms\n",
      "11:\tlearn: 1996.7496518\ttotal: 374ms\tremaining: 560ms\n",
      "12:\tlearn: 1977.7338778\ttotal: 401ms\tremaining: 524ms\n",
      "13:\tlearn: 1964.1989575\ttotal: 429ms\tremaining: 490ms\n",
      "14:\tlearn: 1954.0871838\ttotal: 456ms\tremaining: 456ms\n",
      "15:\tlearn: 1943.2128776\ttotal: 484ms\tremaining: 424ms\n",
      "16:\tlearn: 1934.9776399\ttotal: 516ms\tremaining: 394ms\n",
      "17:\tlearn: 1923.0995356\ttotal: 543ms\tremaining: 362ms\n",
      "18:\tlearn: 1913.5392264\ttotal: 580ms\tremaining: 336ms\n",
      "19:\tlearn: 1908.2458931\ttotal: 605ms\tremaining: 302ms\n",
      "20:\tlearn: 1893.9447424\ttotal: 636ms\tremaining: 272ms\n",
      "21:\tlearn: 1886.2309042\ttotal: 662ms\tremaining: 241ms\n",
      "22:\tlearn: 1881.1345254\ttotal: 689ms\tremaining: 210ms\n",
      "23:\tlearn: 1872.4456897\ttotal: 715ms\tremaining: 179ms\n",
      "24:\tlearn: 1866.6336099\ttotal: 741ms\tremaining: 148ms\n",
      "25:\tlearn: 1860.1022408\ttotal: 766ms\tremaining: 118ms\n",
      "26:\tlearn: 1854.4277568\ttotal: 794ms\tremaining: 88.2ms\n",
      "27:\tlearn: 1850.7458773\ttotal: 820ms\tremaining: 58.6ms\n",
      "28:\tlearn: 1844.3118367\ttotal: 850ms\tremaining: 29.3ms\n",
      "29:\tlearn: 1837.1701752\ttotal: 880ms\tremaining: 0us\n",
      "Learning rate set to 0.5\n",
      "0:\tlearn: 3189.7012792\ttotal: 35.2ms\tremaining: 1.02s\n",
      "1:\tlearn: 2603.7138744\ttotal: 70.1ms\tremaining: 981ms\n",
      "2:\tlearn: 2333.9267792\ttotal: 104ms\tremaining: 936ms\n",
      "3:\tlearn: 2201.1928252\ttotal: 136ms\tremaining: 887ms\n",
      "4:\tlearn: 2105.5329275\ttotal: 172ms\tremaining: 861ms\n",
      "5:\tlearn: 2050.9974700\ttotal: 207ms\tremaining: 827ms\n",
      "6:\tlearn: 2015.9028108\ttotal: 238ms\tremaining: 782ms\n",
      "7:\tlearn: 1993.0996766\ttotal: 276ms\tremaining: 759ms\n",
      "8:\tlearn: 1968.1169323\ttotal: 308ms\tremaining: 718ms\n",
      "9:\tlearn: 1949.9931286\ttotal: 340ms\tremaining: 679ms\n",
      "10:\tlearn: 1922.9370569\ttotal: 373ms\tremaining: 644ms\n",
      "11:\tlearn: 1907.0884901\ttotal: 407ms\tremaining: 610ms\n",
      "12:\tlearn: 1894.9528873\ttotal: 442ms\tremaining: 578ms\n",
      "13:\tlearn: 1882.5094733\ttotal: 483ms\tremaining: 552ms\n",
      "14:\tlearn: 1867.5735495\ttotal: 522ms\tremaining: 522ms\n",
      "15:\tlearn: 1858.1308108\ttotal: 557ms\tremaining: 487ms\n",
      "16:\tlearn: 1842.0737953\ttotal: 599ms\tremaining: 458ms\n",
      "17:\tlearn: 1836.6190600\ttotal: 634ms\tremaining: 422ms\n",
      "18:\tlearn: 1829.3508970\ttotal: 667ms\tremaining: 386ms\n",
      "19:\tlearn: 1820.9242570\ttotal: 700ms\tremaining: 350ms\n",
      "20:\tlearn: 1809.9282374\ttotal: 736ms\tremaining: 315ms\n",
      "21:\tlearn: 1803.5453692\ttotal: 770ms\tremaining: 280ms\n",
      "22:\tlearn: 1798.9070540\ttotal: 800ms\tremaining: 244ms\n",
      "23:\tlearn: 1792.6366180\ttotal: 831ms\tremaining: 208ms\n",
      "24:\tlearn: 1788.2880085\ttotal: 861ms\tremaining: 172ms\n",
      "25:\tlearn: 1782.8525189\ttotal: 895ms\tremaining: 138ms\n",
      "26:\tlearn: 1779.5189989\ttotal: 924ms\tremaining: 103ms\n",
      "27:\tlearn: 1774.9844731\ttotal: 959ms\tremaining: 68.5ms\n",
      "28:\tlearn: 1770.5072320\ttotal: 997ms\tremaining: 34.4ms\n",
      "29:\tlearn: 1766.9913401\ttotal: 1.03s\tremaining: 0us\n",
      "Learning rate set to 0.5\n",
      "0:\tlearn: 3105.1932593\ttotal: 73.9ms\tremaining: 2.14s\n",
      "1:\tlearn: 2507.5859012\ttotal: 143ms\tremaining: 2s\n",
      "2:\tlearn: 2236.5391123\ttotal: 210ms\tremaining: 1.89s\n",
      "3:\tlearn: 2115.6305167\ttotal: 277ms\tremaining: 1.8s\n",
      "4:\tlearn: 2005.6740619\ttotal: 328ms\tremaining: 1.64s\n",
      "5:\tlearn: 1958.0469816\ttotal: 371ms\tremaining: 1.48s\n",
      "6:\tlearn: 1924.4680071\ttotal: 415ms\tremaining: 1.36s\n",
      "7:\tlearn: 1903.5959430\ttotal: 455ms\tremaining: 1.25s\n",
      "8:\tlearn: 1884.6785502\ttotal: 499ms\tremaining: 1.16s\n",
      "9:\tlearn: 1857.2582096\ttotal: 544ms\tremaining: 1.09s\n",
      "10:\tlearn: 1843.5544588\ttotal: 585ms\tremaining: 1.01s\n",
      "11:\tlearn: 1830.1806081\ttotal: 623ms\tremaining: 935ms\n",
      "12:\tlearn: 1811.4361089\ttotal: 684ms\tremaining: 895ms\n",
      "13:\tlearn: 1799.0050739\ttotal: 755ms\tremaining: 863ms\n",
      "14:\tlearn: 1791.1087817\ttotal: 820ms\tremaining: 820ms\n",
      "15:\tlearn: 1778.0117441\ttotal: 889ms\tremaining: 778ms\n",
      "16:\tlearn: 1772.6413745\ttotal: 948ms\tremaining: 725ms\n",
      "17:\tlearn: 1760.0618413\ttotal: 1.02s\tremaining: 683ms\n",
      "18:\tlearn: 1753.7846664\ttotal: 1.07s\tremaining: 622ms\n",
      "19:\tlearn: 1747.9619798\ttotal: 1.11s\tremaining: 557ms\n",
      "20:\tlearn: 1740.3420660\ttotal: 1.16s\tremaining: 496ms\n",
      "21:\tlearn: 1734.7362570\ttotal: 1.2s\tremaining: 435ms\n",
      "22:\tlearn: 1730.0234896\ttotal: 1.24s\tremaining: 377ms\n",
      "23:\tlearn: 1721.9431883\ttotal: 1.28s\tremaining: 321ms\n",
      "24:\tlearn: 1715.6998930\ttotal: 1.32s\tremaining: 265ms\n",
      "25:\tlearn: 1709.3449099\ttotal: 1.37s\tremaining: 211ms\n",
      "26:\tlearn: 1705.8722293\ttotal: 1.41s\tremaining: 157ms\n",
      "27:\tlearn: 1696.3137446\ttotal: 1.45s\tremaining: 104ms\n",
      "28:\tlearn: 1691.7878459\ttotal: 1.5s\tremaining: 51.6ms\n",
      "29:\tlearn: 1687.2386944\ttotal: 1.53s\tremaining: 0us\n",
      "Learning rate set to 0.5\n",
      "0:\tlearn: 3286.2752311\ttotal: 29.3ms\tremaining: 1.43s\n",
      "1:\tlearn: 2725.4509035\ttotal: 60.2ms\tremaining: 1.44s\n",
      "2:\tlearn: 2474.3875297\ttotal: 87.9ms\tremaining: 1.38s\n",
      "3:\tlearn: 2311.6559801\ttotal: 119ms\tremaining: 1.37s\n",
      "4:\tlearn: 2225.2519144\ttotal: 148ms\tremaining: 1.33s\n",
      "5:\tlearn: 2171.9184131\ttotal: 175ms\tremaining: 1.28s\n",
      "6:\tlearn: 2124.3192395\ttotal: 207ms\tremaining: 1.27s\n",
      "7:\tlearn: 2097.6042696\ttotal: 235ms\tremaining: 1.24s\n",
      "8:\tlearn: 2073.0705682\ttotal: 263ms\tremaining: 1.2s\n",
      "9:\tlearn: 2049.4130820\ttotal: 292ms\tremaining: 1.17s\n",
      "10:\tlearn: 2025.4149354\ttotal: 320ms\tremaining: 1.13s\n",
      "11:\tlearn: 1996.7496518\ttotal: 351ms\tremaining: 1.11s\n",
      "12:\tlearn: 1977.7338778\ttotal: 379ms\tremaining: 1.08s\n",
      "13:\tlearn: 1964.1989575\ttotal: 407ms\tremaining: 1.05s\n",
      "14:\tlearn: 1954.0871838\ttotal: 435ms\tremaining: 1.01s\n",
      "15:\tlearn: 1943.2128776\ttotal: 463ms\tremaining: 985ms\n",
      "16:\tlearn: 1934.9776399\ttotal: 491ms\tremaining: 954ms\n",
      "17:\tlearn: 1923.0995356\ttotal: 526ms\tremaining: 936ms\n",
      "18:\tlearn: 1913.5392264\ttotal: 555ms\tremaining: 905ms\n",
      "19:\tlearn: 1908.2458931\ttotal: 579ms\tremaining: 869ms\n",
      "20:\tlearn: 1893.9447424\ttotal: 609ms\tremaining: 840ms\n",
      "21:\tlearn: 1886.2309042\ttotal: 635ms\tremaining: 808ms\n",
      "22:\tlearn: 1881.1345254\ttotal: 662ms\tremaining: 777ms\n",
      "23:\tlearn: 1872.4456897\ttotal: 689ms\tremaining: 747ms\n",
      "24:\tlearn: 1866.6336099\ttotal: 722ms\tremaining: 722ms\n",
      "25:\tlearn: 1860.1022408\ttotal: 749ms\tremaining: 691ms\n",
      "26:\tlearn: 1854.4277568\ttotal: 776ms\tremaining: 661ms\n",
      "27:\tlearn: 1850.7458773\ttotal: 800ms\tremaining: 629ms\n",
      "28:\tlearn: 1844.3118367\ttotal: 830ms\tremaining: 601ms\n",
      "29:\tlearn: 1837.1701752\ttotal: 860ms\tremaining: 573ms\n",
      "30:\tlearn: 1834.0605272\ttotal: 884ms\tremaining: 542ms\n",
      "31:\tlearn: 1829.7824593\ttotal: 913ms\tremaining: 514ms\n",
      "32:\tlearn: 1824.1664920\ttotal: 939ms\tremaining: 484ms\n",
      "33:\tlearn: 1820.5251467\ttotal: 967ms\tremaining: 455ms\n",
      "34:\tlearn: 1817.5143209\ttotal: 993ms\tremaining: 426ms\n",
      "35:\tlearn: 1813.1970802\ttotal: 1.02s\tremaining: 396ms\n",
      "36:\tlearn: 1809.8341426\ttotal: 1.05s\tremaining: 368ms\n",
      "37:\tlearn: 1807.5023337\ttotal: 1.07s\tremaining: 338ms\n",
      "38:\tlearn: 1802.3265940\ttotal: 1.1s\tremaining: 311ms\n",
      "39:\tlearn: 1799.0176221\ttotal: 1.13s\tremaining: 282ms\n",
      "40:\tlearn: 1797.2695403\ttotal: 1.15s\tremaining: 253ms\n",
      "41:\tlearn: 1793.9186967\ttotal: 1.18s\tremaining: 224ms\n",
      "42:\tlearn: 1790.7616438\ttotal: 1.2s\tremaining: 196ms\n",
      "43:\tlearn: 1786.7865786\ttotal: 1.23s\tremaining: 167ms\n",
      "44:\tlearn: 1781.0854986\ttotal: 1.25s\tremaining: 139ms\n",
      "45:\tlearn: 1778.4266021\ttotal: 1.28s\tremaining: 111ms\n",
      "46:\tlearn: 1775.5129269\ttotal: 1.31s\tremaining: 83.7ms\n",
      "47:\tlearn: 1773.2472332\ttotal: 1.33s\tremaining: 55.6ms\n",
      "48:\tlearn: 1771.4259796\ttotal: 1.36s\tremaining: 27.8ms\n",
      "49:\tlearn: 1769.3220132\ttotal: 1.39s\tremaining: 0us\n",
      "Learning rate set to 0.5\n",
      "0:\tlearn: 3189.7012792\ttotal: 34.5ms\tremaining: 1.69s\n",
      "1:\tlearn: 2603.7138744\ttotal: 70.5ms\tremaining: 1.69s\n",
      "2:\tlearn: 2333.9267792\ttotal: 105ms\tremaining: 1.64s\n",
      "3:\tlearn: 2201.1928252\ttotal: 137ms\tremaining: 1.57s\n",
      "4:\tlearn: 2105.5329275\ttotal: 171ms\tremaining: 1.54s\n",
      "5:\tlearn: 2050.9974700\ttotal: 202ms\tremaining: 1.48s\n",
      "6:\tlearn: 2015.9028108\ttotal: 232ms\tremaining: 1.43s\n",
      "7:\tlearn: 1993.0996766\ttotal: 266ms\tremaining: 1.4s\n",
      "8:\tlearn: 1968.1169323\ttotal: 299ms\tremaining: 1.36s\n",
      "9:\tlearn: 1949.9931286\ttotal: 330ms\tremaining: 1.32s\n",
      "10:\tlearn: 1922.9370569\ttotal: 363ms\tremaining: 1.29s\n",
      "11:\tlearn: 1907.0884901\ttotal: 393ms\tremaining: 1.25s\n",
      "12:\tlearn: 1894.9528873\ttotal: 424ms\tremaining: 1.21s\n",
      "13:\tlearn: 1882.5094733\ttotal: 455ms\tremaining: 1.17s\n",
      "14:\tlearn: 1867.5735495\ttotal: 487ms\tremaining: 1.14s\n",
      "15:\tlearn: 1858.1308108\ttotal: 519ms\tremaining: 1.1s\n",
      "16:\tlearn: 1842.0737953\ttotal: 556ms\tremaining: 1.08s\n",
      "17:\tlearn: 1836.6190600\ttotal: 587ms\tremaining: 1.04s\n",
      "18:\tlearn: 1829.3508970\ttotal: 617ms\tremaining: 1.01s\n",
      "19:\tlearn: 1820.9242570\ttotal: 649ms\tremaining: 974ms\n",
      "20:\tlearn: 1809.9282374\ttotal: 690ms\tremaining: 953ms\n",
      "21:\tlearn: 1803.5453692\ttotal: 725ms\tremaining: 923ms\n",
      "22:\tlearn: 1798.9070540\ttotal: 756ms\tremaining: 888ms\n",
      "23:\tlearn: 1792.6366180\ttotal: 788ms\tremaining: 854ms\n",
      "24:\tlearn: 1788.2880085\ttotal: 819ms\tremaining: 819ms\n",
      "25:\tlearn: 1782.8525189\ttotal: 851ms\tremaining: 786ms\n",
      "26:\tlearn: 1779.5189989\ttotal: 882ms\tremaining: 752ms\n",
      "27:\tlearn: 1774.9844731\ttotal: 914ms\tremaining: 718ms\n",
      "28:\tlearn: 1770.5072320\ttotal: 947ms\tremaining: 686ms\n",
      "29:\tlearn: 1766.9913401\ttotal: 979ms\tremaining: 653ms\n",
      "30:\tlearn: 1758.9740323\ttotal: 1.01s\tremaining: 619ms\n",
      "31:\tlearn: 1751.6321080\ttotal: 1.04s\tremaining: 588ms\n",
      "32:\tlearn: 1746.7312465\ttotal: 1.08s\tremaining: 556ms\n",
      "33:\tlearn: 1743.5482432\ttotal: 1.11s\tremaining: 521ms\n",
      "34:\tlearn: 1740.3088601\ttotal: 1.14s\tremaining: 487ms\n",
      "35:\tlearn: 1734.7623243\ttotal: 1.17s\tremaining: 455ms\n",
      "36:\tlearn: 1732.1813099\ttotal: 1.2s\tremaining: 422ms\n",
      "37:\tlearn: 1728.1177777\ttotal: 1.23s\tremaining: 389ms\n",
      "38:\tlearn: 1721.9921511\ttotal: 1.27s\tremaining: 357ms\n",
      "39:\tlearn: 1718.1552435\ttotal: 1.3s\tremaining: 324ms\n",
      "40:\tlearn: 1713.6684610\ttotal: 1.33s\tremaining: 292ms\n",
      "41:\tlearn: 1709.9902917\ttotal: 1.36s\tremaining: 259ms\n",
      "42:\tlearn: 1708.3204692\ttotal: 1.39s\tremaining: 226ms\n",
      "43:\tlearn: 1705.9159895\ttotal: 1.42s\tremaining: 193ms\n",
      "44:\tlearn: 1701.9642751\ttotal: 1.45s\tremaining: 161ms\n",
      "45:\tlearn: 1697.7186555\ttotal: 1.49s\tremaining: 129ms\n",
      "46:\tlearn: 1695.6715942\ttotal: 1.51s\tremaining: 96.8ms\n",
      "47:\tlearn: 1692.6511197\ttotal: 1.55s\tremaining: 64.5ms\n",
      "48:\tlearn: 1689.5218591\ttotal: 1.58s\tremaining: 32.2ms\n",
      "49:\tlearn: 1685.9399052\ttotal: 1.61s\tremaining: 0us\n",
      "Learning rate set to 0.5\n",
      "0:\tlearn: 3105.1932593\ttotal: 46.3ms\tremaining: 2.27s\n",
      "1:\tlearn: 2507.5859012\ttotal: 92.2ms\tremaining: 2.21s\n",
      "2:\tlearn: 2236.5391123\ttotal: 136ms\tremaining: 2.12s\n",
      "3:\tlearn: 2115.6305167\ttotal: 179ms\tremaining: 2.06s\n",
      "4:\tlearn: 2005.6740619\ttotal: 221ms\tremaining: 1.99s\n",
      "5:\tlearn: 1958.0469816\ttotal: 268ms\tremaining: 1.96s\n",
      "6:\tlearn: 1924.4680071\ttotal: 309ms\tremaining: 1.9s\n",
      "7:\tlearn: 1903.5959430\ttotal: 345ms\tremaining: 1.81s\n",
      "8:\tlearn: 1884.6785502\ttotal: 387ms\tremaining: 1.76s\n",
      "9:\tlearn: 1857.2582096\ttotal: 432ms\tremaining: 1.73s\n",
      "10:\tlearn: 1843.5544588\ttotal: 474ms\tremaining: 1.68s\n",
      "11:\tlearn: 1830.1806081\ttotal: 512ms\tremaining: 1.62s\n",
      "12:\tlearn: 1811.4361089\ttotal: 556ms\tremaining: 1.58s\n",
      "13:\tlearn: 1799.0050739\ttotal: 602ms\tremaining: 1.55s\n",
      "14:\tlearn: 1791.1087817\ttotal: 640ms\tremaining: 1.49s\n",
      "15:\tlearn: 1778.0117441\ttotal: 681ms\tremaining: 1.45s\n",
      "16:\tlearn: 1772.6413745\ttotal: 718ms\tremaining: 1.39s\n",
      "17:\tlearn: 1760.0618413\ttotal: 763ms\tremaining: 1.36s\n",
      "18:\tlearn: 1753.7846664\ttotal: 801ms\tremaining: 1.31s\n",
      "19:\tlearn: 1747.9619798\ttotal: 843ms\tremaining: 1.26s\n",
      "20:\tlearn: 1740.3420660\ttotal: 887ms\tremaining: 1.22s\n",
      "21:\tlearn: 1734.7362570\ttotal: 927ms\tremaining: 1.18s\n",
      "22:\tlearn: 1730.0234896\ttotal: 968ms\tremaining: 1.14s\n",
      "23:\tlearn: 1721.9431883\ttotal: 1.01s\tremaining: 1.09s\n",
      "24:\tlearn: 1715.6998930\ttotal: 1.05s\tremaining: 1.05s\n",
      "25:\tlearn: 1709.3449099\ttotal: 1.09s\tremaining: 1.01s\n",
      "26:\tlearn: 1705.8722293\ttotal: 1.13s\tremaining: 964ms\n",
      "27:\tlearn: 1696.3137446\ttotal: 1.18s\tremaining: 926ms\n",
      "28:\tlearn: 1691.7878459\ttotal: 1.22s\tremaining: 884ms\n",
      "29:\tlearn: 1687.2386944\ttotal: 1.26s\tremaining: 838ms\n",
      "30:\tlearn: 1681.4692604\ttotal: 1.3s\tremaining: 797ms\n",
      "31:\tlearn: 1677.3558793\ttotal: 1.35s\tremaining: 758ms\n",
      "32:\tlearn: 1672.5943087\ttotal: 1.38s\tremaining: 713ms\n",
      "33:\tlearn: 1669.0820787\ttotal: 1.43s\tremaining: 672ms\n",
      "34:\tlearn: 1664.3390445\ttotal: 1.47s\tremaining: 630ms\n",
      "35:\tlearn: 1661.2736296\ttotal: 1.51s\tremaining: 589ms\n",
      "36:\tlearn: 1658.7420595\ttotal: 1.55s\tremaining: 546ms\n",
      "37:\tlearn: 1653.8738453\ttotal: 1.59s\tremaining: 504ms\n",
      "38:\tlearn: 1649.1971289\ttotal: 1.64s\tremaining: 462ms\n",
      "39:\tlearn: 1646.4797380\ttotal: 1.68s\tremaining: 420ms\n",
      "40:\tlearn: 1643.9064575\ttotal: 1.72s\tremaining: 378ms\n",
      "41:\tlearn: 1640.2114211\ttotal: 1.77s\tremaining: 337ms\n",
      "42:\tlearn: 1636.8117094\ttotal: 1.81s\tremaining: 294ms\n",
      "43:\tlearn: 1634.7922665\ttotal: 1.85s\tremaining: 252ms\n",
      "44:\tlearn: 1631.7580084\ttotal: 1.89s\tremaining: 211ms\n",
      "45:\tlearn: 1628.2593256\ttotal: 1.94s\tremaining: 169ms\n",
      "46:\tlearn: 1624.5581265\ttotal: 1.98s\tremaining: 127ms\n",
      "47:\tlearn: 1620.6541356\ttotal: 2.04s\tremaining: 85ms\n",
      "48:\tlearn: 1616.9743845\ttotal: 2.08s\tremaining: 42.5ms\n",
      "49:\tlearn: 1613.8688123\ttotal: 2.12s\tremaining: 0us\n",
      "Learning rate set to 0.5\n",
      "0:\tlearn: 3286.2752311\ttotal: 30.1ms\tremaining: 2.08s\n",
      "1:\tlearn: 2725.4509035\ttotal: 60.5ms\tremaining: 2.06s\n",
      "2:\tlearn: 2474.3875297\ttotal: 87.5ms\tremaining: 1.95s\n",
      "3:\tlearn: 2311.6559801\ttotal: 117ms\tremaining: 1.93s\n",
      "4:\tlearn: 2225.2519144\ttotal: 147ms\tremaining: 1.91s\n",
      "5:\tlearn: 2171.9184131\ttotal: 173ms\tremaining: 1.85s\n",
      "6:\tlearn: 2124.3192395\ttotal: 201ms\tremaining: 1.81s\n",
      "7:\tlearn: 2097.6042696\ttotal: 227ms\tremaining: 1.76s\n",
      "8:\tlearn: 2073.0705682\ttotal: 256ms\tremaining: 1.73s\n",
      "9:\tlearn: 2049.4130820\ttotal: 286ms\tremaining: 1.72s\n",
      "10:\tlearn: 2025.4149354\ttotal: 317ms\tremaining: 1.7s\n",
      "11:\tlearn: 1996.7496518\ttotal: 346ms\tremaining: 1.67s\n",
      "12:\tlearn: 1977.7338778\ttotal: 374ms\tremaining: 1.64s\n",
      "13:\tlearn: 1964.1989575\ttotal: 401ms\tremaining: 1.6s\n",
      "14:\tlearn: 1954.0871838\ttotal: 428ms\tremaining: 1.57s\n",
      "15:\tlearn: 1943.2128776\ttotal: 455ms\tremaining: 1.53s\n",
      "16:\tlearn: 1934.9776399\ttotal: 486ms\tremaining: 1.52s\n",
      "17:\tlearn: 1923.0995356\ttotal: 515ms\tremaining: 1.49s\n",
      "18:\tlearn: 1913.5392264\ttotal: 544ms\tremaining: 1.46s\n",
      "19:\tlearn: 1908.2458931\ttotal: 569ms\tremaining: 1.42s\n",
      "20:\tlearn: 1893.9447424\ttotal: 598ms\tremaining: 1.4s\n",
      "21:\tlearn: 1886.2309042\ttotal: 626ms\tremaining: 1.37s\n",
      "22:\tlearn: 1881.1345254\ttotal: 653ms\tremaining: 1.33s\n",
      "23:\tlearn: 1872.4456897\ttotal: 680ms\tremaining: 1.3s\n",
      "24:\tlearn: 1866.6336099\ttotal: 707ms\tremaining: 1.27s\n",
      "25:\tlearn: 1860.1022408\ttotal: 735ms\tremaining: 1.24s\n",
      "26:\tlearn: 1854.4277568\ttotal: 762ms\tremaining: 1.21s\n",
      "27:\tlearn: 1850.7458773\ttotal: 787ms\tremaining: 1.18s\n",
      "28:\tlearn: 1844.3118367\ttotal: 816ms\tremaining: 1.15s\n",
      "29:\tlearn: 1837.1701752\ttotal: 846ms\tremaining: 1.13s\n",
      "30:\tlearn: 1834.0605272\ttotal: 873ms\tremaining: 1.1s\n",
      "31:\tlearn: 1829.7824593\ttotal: 903ms\tremaining: 1.07s\n",
      "32:\tlearn: 1824.1664920\ttotal: 929ms\tremaining: 1.04s\n",
      "33:\tlearn: 1820.5251467\ttotal: 956ms\tremaining: 1.01s\n",
      "34:\tlearn: 1817.5143209\ttotal: 982ms\tremaining: 982ms\n",
      "35:\tlearn: 1813.1970802\ttotal: 1.01s\tremaining: 952ms\n",
      "36:\tlearn: 1809.8341426\ttotal: 1.04s\tremaining: 924ms\n",
      "37:\tlearn: 1807.5023337\ttotal: 1.06s\tremaining: 893ms\n",
      "38:\tlearn: 1802.3265940\ttotal: 1.09s\tremaining: 867ms\n",
      "39:\tlearn: 1799.0176221\ttotal: 1.12s\tremaining: 838ms\n",
      "40:\tlearn: 1797.2695403\ttotal: 1.14s\tremaining: 808ms\n",
      "41:\tlearn: 1793.9186967\ttotal: 1.17s\tremaining: 780ms\n",
      "42:\tlearn: 1790.7616438\ttotal: 1.2s\tremaining: 753ms\n",
      "43:\tlearn: 1786.7865786\ttotal: 1.23s\tremaining: 725ms\n",
      "44:\tlearn: 1781.0854986\ttotal: 1.25s\tremaining: 698ms\n",
      "45:\tlearn: 1778.4266021\ttotal: 1.28s\tremaining: 671ms\n",
      "46:\tlearn: 1775.5129269\ttotal: 1.32s\tremaining: 648ms\n",
      "47:\tlearn: 1773.2472332\ttotal: 1.36s\tremaining: 625ms\n",
      "48:\tlearn: 1771.4259796\ttotal: 1.4s\tremaining: 599ms\n",
      "49:\tlearn: 1769.3220132\ttotal: 1.44s\tremaining: 576ms\n",
      "50:\tlearn: 1767.1227053\ttotal: 1.48s\tremaining: 551ms\n",
      "51:\tlearn: 1765.1052465\ttotal: 1.52s\tremaining: 526ms\n",
      "52:\tlearn: 1762.5360415\ttotal: 1.56s\tremaining: 501ms\n",
      "53:\tlearn: 1759.9315007\ttotal: 1.6s\tremaining: 474ms\n",
      "54:\tlearn: 1757.9089933\ttotal: 1.64s\tremaining: 447ms\n",
      "55:\tlearn: 1755.2358410\ttotal: 1.68s\tremaining: 420ms\n",
      "56:\tlearn: 1753.0770997\ttotal: 1.72s\tremaining: 392ms\n",
      "57:\tlearn: 1750.6533362\ttotal: 1.76s\tremaining: 365ms\n",
      "58:\tlearn: 1744.7518814\ttotal: 1.8s\tremaining: 336ms\n",
      "59:\tlearn: 1741.8907604\ttotal: 1.83s\tremaining: 306ms\n",
      "60:\tlearn: 1738.6637154\ttotal: 1.86s\tremaining: 275ms\n",
      "61:\tlearn: 1735.9165228\ttotal: 1.89s\tremaining: 244ms\n",
      "62:\tlearn: 1729.5050853\ttotal: 1.92s\tremaining: 213ms\n",
      "63:\tlearn: 1727.8545647\ttotal: 1.95s\tremaining: 183ms\n",
      "64:\tlearn: 1725.2736352\ttotal: 1.98s\tremaining: 152ms\n",
      "65:\tlearn: 1723.6459948\ttotal: 2.01s\tremaining: 122ms\n",
      "66:\tlearn: 1721.2480732\ttotal: 2.03s\tremaining: 91.1ms\n",
      "67:\tlearn: 1719.4877295\ttotal: 2.06s\tremaining: 60.6ms\n",
      "68:\tlearn: 1717.0961810\ttotal: 2.09s\tremaining: 30.3ms\n",
      "69:\tlearn: 1715.4291461\ttotal: 2.11s\tremaining: 0us\n",
      "Learning rate set to 0.5\n",
      "0:\tlearn: 3189.7012792\ttotal: 45.8ms\tremaining: 3.16s\n",
      "1:\tlearn: 2603.7138744\ttotal: 80.5ms\tremaining: 2.73s\n",
      "2:\tlearn: 2333.9267792\ttotal: 114ms\tremaining: 2.54s\n",
      "3:\tlearn: 2201.1928252\ttotal: 146ms\tremaining: 2.4s\n",
      "4:\tlearn: 2105.5329275\ttotal: 182ms\tremaining: 2.36s\n",
      "5:\tlearn: 2050.9974700\ttotal: 216ms\tremaining: 2.3s\n",
      "6:\tlearn: 2015.9028108\ttotal: 248ms\tremaining: 2.23s\n",
      "7:\tlearn: 1993.0996766\ttotal: 287ms\tremaining: 2.23s\n",
      "8:\tlearn: 1968.1169323\ttotal: 319ms\tremaining: 2.16s\n",
      "9:\tlearn: 1949.9931286\ttotal: 349ms\tremaining: 2.1s\n",
      "10:\tlearn: 1922.9370569\ttotal: 382ms\tremaining: 2.05s\n",
      "11:\tlearn: 1907.0884901\ttotal: 414ms\tremaining: 2s\n",
      "12:\tlearn: 1894.9528873\ttotal: 446ms\tremaining: 1.95s\n",
      "13:\tlearn: 1882.5094733\ttotal: 482ms\tremaining: 1.93s\n",
      "14:\tlearn: 1867.5735495\ttotal: 515ms\tremaining: 1.89s\n",
      "15:\tlearn: 1858.1308108\ttotal: 553ms\tremaining: 1.86s\n",
      "16:\tlearn: 1842.0737953\ttotal: 593ms\tremaining: 1.85s\n",
      "17:\tlearn: 1836.6190600\ttotal: 627ms\tremaining: 1.81s\n",
      "18:\tlearn: 1829.3508970\ttotal: 665ms\tremaining: 1.78s\n",
      "19:\tlearn: 1820.9242570\ttotal: 697ms\tremaining: 1.74s\n",
      "20:\tlearn: 1809.9282374\ttotal: 733ms\tremaining: 1.71s\n",
      "21:\tlearn: 1803.5453692\ttotal: 766ms\tremaining: 1.67s\n",
      "22:\tlearn: 1798.9070540\ttotal: 799ms\tremaining: 1.63s\n",
      "23:\tlearn: 1792.6366180\ttotal: 833ms\tremaining: 1.6s\n",
      "24:\tlearn: 1788.2880085\ttotal: 867ms\tremaining: 1.56s\n",
      "25:\tlearn: 1782.8525189\ttotal: 899ms\tremaining: 1.52s\n",
      "26:\tlearn: 1779.5189989\ttotal: 929ms\tremaining: 1.48s\n",
      "27:\tlearn: 1774.9844731\ttotal: 967ms\tremaining: 1.45s\n",
      "28:\tlearn: 1770.5072320\ttotal: 1000ms\tremaining: 1.41s\n",
      "29:\tlearn: 1766.9913401\ttotal: 1.03s\tremaining: 1.37s\n",
      "30:\tlearn: 1758.9740323\ttotal: 1.06s\tremaining: 1.33s\n",
      "31:\tlearn: 1751.6321080\ttotal: 1.09s\tremaining: 1.3s\n",
      "32:\tlearn: 1746.7312465\ttotal: 1.13s\tremaining: 1.26s\n",
      "33:\tlearn: 1743.5482432\ttotal: 1.16s\tremaining: 1.23s\n",
      "34:\tlearn: 1740.3088601\ttotal: 1.19s\tremaining: 1.19s\n",
      "35:\tlearn: 1734.7623243\ttotal: 1.22s\tremaining: 1.15s\n",
      "36:\tlearn: 1732.1813099\ttotal: 1.25s\tremaining: 1.11s\n",
      "37:\tlearn: 1728.1177777\ttotal: 1.28s\tremaining: 1.08s\n",
      "38:\tlearn: 1721.9921511\ttotal: 1.32s\tremaining: 1.05s\n",
      "39:\tlearn: 1718.1552435\ttotal: 1.35s\tremaining: 1.01s\n",
      "40:\tlearn: 1713.6684610\ttotal: 1.38s\tremaining: 977ms\n",
      "41:\tlearn: 1709.9902917\ttotal: 1.41s\tremaining: 943ms\n",
      "42:\tlearn: 1708.3204692\ttotal: 1.44s\tremaining: 906ms\n",
      "43:\tlearn: 1705.9159895\ttotal: 1.47s\tremaining: 870ms\n",
      "44:\tlearn: 1701.9642751\ttotal: 1.51s\tremaining: 837ms\n",
      "45:\tlearn: 1697.7186555\ttotal: 1.64s\tremaining: 857ms\n",
      "46:\tlearn: 1695.6715942\ttotal: 1.67s\tremaining: 818ms\n",
      "47:\tlearn: 1692.6511197\ttotal: 1.7s\tremaining: 780ms\n",
      "48:\tlearn: 1689.5218591\ttotal: 1.73s\tremaining: 742ms\n",
      "49:\tlearn: 1685.9399052\ttotal: 1.76s\tremaining: 706ms\n",
      "50:\tlearn: 1682.0724633\ttotal: 1.8s\tremaining: 669ms\n",
      "51:\tlearn: 1680.2044984\ttotal: 1.83s\tremaining: 633ms\n",
      "52:\tlearn: 1678.5246063\ttotal: 1.86s\tremaining: 596ms\n",
      "53:\tlearn: 1675.7786474\ttotal: 1.89s\tremaining: 561ms\n",
      "54:\tlearn: 1673.0268796\ttotal: 2.02s\tremaining: 552ms\n",
      "55:\tlearn: 1670.9961957\ttotal: 2.06s\tremaining: 514ms\n",
      "56:\tlearn: 1669.2745527\ttotal: 2.08s\tremaining: 476ms\n",
      "57:\tlearn: 1667.1484618\ttotal: 2.12s\tremaining: 438ms\n",
      "58:\tlearn: 1664.8009369\ttotal: 2.15s\tremaining: 402ms\n",
      "59:\tlearn: 1661.9899457\ttotal: 2.19s\tremaining: 365ms\n",
      "60:\tlearn: 1659.3270579\ttotal: 2.22s\tremaining: 328ms\n",
      "61:\tlearn: 1657.0451392\ttotal: 2.25s\tremaining: 291ms\n",
      "62:\tlearn: 1654.7565284\ttotal: 2.29s\tremaining: 254ms\n",
      "63:\tlearn: 1652.1862917\ttotal: 2.32s\tremaining: 218ms\n",
      "64:\tlearn: 1650.6878267\ttotal: 2.35s\tremaining: 181ms\n",
      "65:\tlearn: 1648.7964545\ttotal: 2.39s\tremaining: 145ms\n",
      "66:\tlearn: 1646.9224831\ttotal: 2.43s\tremaining: 109ms\n",
      "67:\tlearn: 1645.3247580\ttotal: 2.46s\tremaining: 72.3ms\n",
      "68:\tlearn: 1642.4804627\ttotal: 2.5s\tremaining: 36.2ms\n",
      "69:\tlearn: 1641.2044489\ttotal: 2.53s\tremaining: 0us\n",
      "Learning rate set to 0.5\n",
      "0:\tlearn: 3105.1932593\ttotal: 51.5ms\tremaining: 3.55s\n",
      "1:\tlearn: 2507.5859012\ttotal: 99.6ms\tremaining: 3.39s\n",
      "2:\tlearn: 2236.5391123\ttotal: 144ms\tremaining: 3.22s\n",
      "3:\tlearn: 2115.6305167\ttotal: 187ms\tremaining: 3.09s\n",
      "4:\tlearn: 2005.6740619\ttotal: 230ms\tremaining: 2.98s\n",
      "5:\tlearn: 1958.0469816\ttotal: 272ms\tremaining: 2.9s\n",
      "6:\tlearn: 1924.4680071\ttotal: 314ms\tremaining: 2.83s\n",
      "7:\tlearn: 1903.5959430\ttotal: 356ms\tremaining: 2.76s\n",
      "8:\tlearn: 1884.6785502\ttotal: 399ms\tremaining: 2.71s\n",
      "9:\tlearn: 1857.2582096\ttotal: 444ms\tremaining: 2.66s\n",
      "10:\tlearn: 1843.5544588\ttotal: 484ms\tremaining: 2.6s\n",
      "11:\tlearn: 1830.1806081\ttotal: 521ms\tremaining: 2.52s\n",
      "12:\tlearn: 1811.4361089\ttotal: 562ms\tremaining: 2.46s\n",
      "13:\tlearn: 1799.0050739\ttotal: 607ms\tremaining: 2.43s\n",
      "14:\tlearn: 1791.1087817\ttotal: 647ms\tremaining: 2.37s\n",
      "15:\tlearn: 1778.0117441\ttotal: 691ms\tremaining: 2.33s\n",
      "16:\tlearn: 1772.6413745\ttotal: 727ms\tremaining: 2.27s\n",
      "17:\tlearn: 1760.0618413\ttotal: 770ms\tremaining: 2.23s\n",
      "18:\tlearn: 1753.7846664\ttotal: 808ms\tremaining: 2.17s\n",
      "19:\tlearn: 1747.9619798\ttotal: 847ms\tremaining: 2.12s\n",
      "20:\tlearn: 1740.3420660\ttotal: 889ms\tremaining: 2.07s\n",
      "21:\tlearn: 1734.7362570\ttotal: 929ms\tremaining: 2.03s\n",
      "22:\tlearn: 1730.0234896\ttotal: 968ms\tremaining: 1.98s\n",
      "23:\tlearn: 1721.9431883\ttotal: 1.01s\tremaining: 1.93s\n",
      "24:\tlearn: 1715.6998930\ttotal: 1.05s\tremaining: 1.89s\n",
      "25:\tlearn: 1709.3449099\ttotal: 1.09s\tremaining: 1.85s\n",
      "26:\tlearn: 1705.8722293\ttotal: 1.13s\tremaining: 1.8s\n",
      "27:\tlearn: 1696.3137446\ttotal: 1.17s\tremaining: 1.76s\n",
      "28:\tlearn: 1691.7878459\ttotal: 1.21s\tremaining: 1.72s\n",
      "29:\tlearn: 1687.2386944\ttotal: 1.25s\tremaining: 1.67s\n",
      "30:\tlearn: 1681.4692604\ttotal: 1.29s\tremaining: 1.63s\n",
      "31:\tlearn: 1677.3558793\ttotal: 1.34s\tremaining: 1.59s\n",
      "32:\tlearn: 1672.5943087\ttotal: 1.37s\tremaining: 1.54s\n",
      "33:\tlearn: 1669.0820787\ttotal: 1.42s\tremaining: 1.5s\n",
      "34:\tlearn: 1664.3390445\ttotal: 1.46s\tremaining: 1.46s\n",
      "35:\tlearn: 1661.2736296\ttotal: 1.5s\tremaining: 1.42s\n",
      "36:\tlearn: 1658.7420595\ttotal: 1.53s\tremaining: 1.37s\n",
      "37:\tlearn: 1653.8738453\ttotal: 1.57s\tremaining: 1.33s\n",
      "38:\tlearn: 1649.1971289\ttotal: 1.61s\tremaining: 1.28s\n",
      "39:\tlearn: 1646.4797380\ttotal: 1.65s\tremaining: 1.24s\n",
      "40:\tlearn: 1643.9064575\ttotal: 1.69s\tremaining: 1.19s\n",
      "41:\tlearn: 1640.2114211\ttotal: 1.73s\tremaining: 1.15s\n",
      "42:\tlearn: 1636.8117094\ttotal: 1.77s\tremaining: 1.11s\n",
      "43:\tlearn: 1634.7922665\ttotal: 1.8s\tremaining: 1.07s\n",
      "44:\tlearn: 1631.7580084\ttotal: 1.85s\tremaining: 1.02s\n",
      "45:\tlearn: 1628.2593256\ttotal: 1.89s\tremaining: 985ms\n",
      "46:\tlearn: 1624.5581265\ttotal: 1.93s\tremaining: 944ms\n",
      "47:\tlearn: 1620.6541356\ttotal: 1.97s\tremaining: 903ms\n",
      "48:\tlearn: 1616.9743845\ttotal: 2.02s\tremaining: 864ms\n",
      "49:\tlearn: 1613.8688123\ttotal: 2.05s\tremaining: 822ms\n",
      "50:\tlearn: 1611.1370234\ttotal: 2.09s\tremaining: 780ms\n",
      "51:\tlearn: 1608.0520080\ttotal: 2.13s\tremaining: 738ms\n",
      "52:\tlearn: 1603.9355798\ttotal: 2.17s\tremaining: 697ms\n",
      "53:\tlearn: 1601.9746718\ttotal: 2.21s\tremaining: 656ms\n",
      "54:\tlearn: 1601.0129760\ttotal: 2.25s\tremaining: 613ms\n",
      "55:\tlearn: 1599.1296014\ttotal: 2.28s\tremaining: 571ms\n",
      "56:\tlearn: 1597.8584559\ttotal: 2.32s\tremaining: 530ms\n",
      "57:\tlearn: 1595.1023007\ttotal: 2.37s\tremaining: 489ms\n",
      "58:\tlearn: 1592.9069616\ttotal: 2.4s\tremaining: 448ms\n",
      "59:\tlearn: 1590.4594875\ttotal: 2.45s\tremaining: 408ms\n",
      "60:\tlearn: 1587.4213413\ttotal: 2.49s\tremaining: 367ms\n",
      "61:\tlearn: 1585.1442875\ttotal: 2.53s\tremaining: 327ms\n",
      "62:\tlearn: 1583.4912730\ttotal: 2.57s\tremaining: 286ms\n",
      "63:\tlearn: 1580.4294466\ttotal: 2.62s\tremaining: 246ms\n",
      "64:\tlearn: 1578.5829295\ttotal: 2.66s\tremaining: 204ms\n",
      "65:\tlearn: 1576.6636540\ttotal: 2.7s\tremaining: 164ms\n",
      "66:\tlearn: 1573.9025178\ttotal: 2.74s\tremaining: 123ms\n",
      "67:\tlearn: 1572.4058510\ttotal: 2.78s\tremaining: 81.8ms\n",
      "68:\tlearn: 1571.1564763\ttotal: 2.82s\tremaining: 40.9ms\n",
      "69:\tlearn: 1568.2307352\ttotal: 2.86s\tremaining: 0us\n",
      "Learning rate set to 0.5\n",
      "0:\tlearn: 3286.2752311\ttotal: 28.4ms\tremaining: 2.53s\n",
      "1:\tlearn: 2725.4509035\ttotal: 58.4ms\tremaining: 2.57s\n",
      "2:\tlearn: 2474.3875297\ttotal: 84.4ms\tremaining: 2.45s\n",
      "3:\tlearn: 2311.6559801\ttotal: 111ms\tremaining: 2.38s\n",
      "4:\tlearn: 2225.2519144\ttotal: 138ms\tremaining: 2.35s\n",
      "5:\tlearn: 2171.9184131\ttotal: 164ms\tremaining: 2.3s\n",
      "6:\tlearn: 2124.3192395\ttotal: 191ms\tremaining: 2.26s\n",
      "7:\tlearn: 2097.6042696\ttotal: 217ms\tremaining: 2.22s\n",
      "8:\tlearn: 2073.0705682\ttotal: 243ms\tremaining: 2.19s\n",
      "9:\tlearn: 2049.4130820\ttotal: 270ms\tremaining: 2.16s\n",
      "10:\tlearn: 2025.4149354\ttotal: 299ms\tremaining: 2.15s\n",
      "11:\tlearn: 1996.7496518\ttotal: 327ms\tremaining: 2.12s\n",
      "12:\tlearn: 1977.7338778\ttotal: 354ms\tremaining: 2.1s\n",
      "13:\tlearn: 1964.1989575\ttotal: 381ms\tremaining: 2.06s\n",
      "14:\tlearn: 1954.0871838\ttotal: 406ms\tremaining: 2.03s\n",
      "15:\tlearn: 1943.2128776\ttotal: 432ms\tremaining: 2s\n",
      "16:\tlearn: 1934.9776399\ttotal: 458ms\tremaining: 1.97s\n",
      "17:\tlearn: 1923.0995356\ttotal: 485ms\tremaining: 1.94s\n",
      "18:\tlearn: 1913.5392264\ttotal: 512ms\tremaining: 1.91s\n",
      "19:\tlearn: 1908.2458931\ttotal: 535ms\tremaining: 1.87s\n",
      "20:\tlearn: 1893.9447424\ttotal: 563ms\tremaining: 1.85s\n",
      "21:\tlearn: 1886.2309042\ttotal: 587ms\tremaining: 1.81s\n",
      "22:\tlearn: 1881.1345254\ttotal: 614ms\tremaining: 1.79s\n",
      "23:\tlearn: 1872.4456897\ttotal: 641ms\tremaining: 1.76s\n",
      "24:\tlearn: 1866.6336099\ttotal: 673ms\tremaining: 1.75s\n",
      "25:\tlearn: 1860.1022408\ttotal: 698ms\tremaining: 1.72s\n",
      "26:\tlearn: 1854.4277568\ttotal: 724ms\tremaining: 1.69s\n",
      "27:\tlearn: 1850.7458773\ttotal: 746ms\tremaining: 1.65s\n",
      "28:\tlearn: 1844.3118367\ttotal: 774ms\tremaining: 1.63s\n",
      "29:\tlearn: 1837.1701752\ttotal: 802ms\tremaining: 1.6s\n",
      "30:\tlearn: 1834.0605272\ttotal: 826ms\tremaining: 1.57s\n",
      "31:\tlearn: 1829.7824593\ttotal: 853ms\tremaining: 1.54s\n",
      "32:\tlearn: 1824.1664920\ttotal: 878ms\tremaining: 1.52s\n",
      "33:\tlearn: 1820.5251467\ttotal: 904ms\tremaining: 1.49s\n",
      "34:\tlearn: 1817.5143209\ttotal: 928ms\tremaining: 1.46s\n",
      "35:\tlearn: 1813.1970802\ttotal: 954ms\tremaining: 1.43s\n",
      "36:\tlearn: 1809.8341426\ttotal: 980ms\tremaining: 1.4s\n",
      "37:\tlearn: 1807.5023337\ttotal: 1s\tremaining: 1.37s\n",
      "38:\tlearn: 1802.3265940\ttotal: 1.03s\tremaining: 1.35s\n",
      "39:\tlearn: 1799.0176221\ttotal: 1.06s\tremaining: 1.32s\n",
      "40:\tlearn: 1797.2695403\ttotal: 1.08s\tremaining: 1.29s\n",
      "41:\tlearn: 1793.9186967\ttotal: 1.1s\tremaining: 1.26s\n",
      "42:\tlearn: 1790.7616438\ttotal: 1.13s\tremaining: 1.24s\n",
      "43:\tlearn: 1786.7865786\ttotal: 1.16s\tremaining: 1.21s\n",
      "44:\tlearn: 1781.0854986\ttotal: 1.18s\tremaining: 1.18s\n",
      "45:\tlearn: 1778.4266021\ttotal: 1.21s\tremaining: 1.16s\n",
      "46:\tlearn: 1775.5129269\ttotal: 1.24s\tremaining: 1.13s\n",
      "47:\tlearn: 1773.2472332\ttotal: 1.26s\tremaining: 1.1s\n",
      "48:\tlearn: 1771.4259796\ttotal: 1.28s\tremaining: 1.07s\n",
      "49:\tlearn: 1769.3220132\ttotal: 1.31s\tremaining: 1.05s\n",
      "50:\tlearn: 1767.1227053\ttotal: 1.34s\tremaining: 1.02s\n",
      "51:\tlearn: 1765.1052465\ttotal: 1.36s\tremaining: 998ms\n",
      "52:\tlearn: 1762.5360415\ttotal: 1.39s\tremaining: 973ms\n",
      "53:\tlearn: 1759.9315007\ttotal: 1.42s\tremaining: 946ms\n",
      "54:\tlearn: 1757.9089933\ttotal: 1.45s\tremaining: 920ms\n",
      "55:\tlearn: 1755.2358410\ttotal: 1.48s\tremaining: 896ms\n",
      "56:\tlearn: 1753.0770997\ttotal: 1.5s\tremaining: 870ms\n",
      "57:\tlearn: 1750.6533362\ttotal: 1.53s\tremaining: 844ms\n",
      "58:\tlearn: 1744.7518814\ttotal: 1.56s\tremaining: 819ms\n",
      "59:\tlearn: 1741.8907604\ttotal: 1.59s\tremaining: 795ms\n",
      "60:\tlearn: 1738.6637154\ttotal: 1.62s\tremaining: 769ms\n",
      "61:\tlearn: 1735.9165228\ttotal: 1.65s\tremaining: 744ms\n",
      "62:\tlearn: 1729.5050853\ttotal: 1.68s\tremaining: 718ms\n",
      "63:\tlearn: 1727.8545647\ttotal: 1.71s\tremaining: 693ms\n",
      "64:\tlearn: 1725.2736352\ttotal: 1.74s\tremaining: 668ms\n",
      "65:\tlearn: 1723.6459948\ttotal: 1.77s\tremaining: 642ms\n",
      "66:\tlearn: 1721.2480732\ttotal: 1.8s\tremaining: 617ms\n",
      "67:\tlearn: 1719.4877295\ttotal: 1.82s\tremaining: 590ms\n",
      "68:\tlearn: 1717.0961810\ttotal: 1.85s\tremaining: 564ms\n",
      "69:\tlearn: 1715.4291461\ttotal: 1.88s\tremaining: 537ms\n",
      "70:\tlearn: 1712.5690115\ttotal: 1.92s\tremaining: 513ms\n",
      "71:\tlearn: 1711.5334868\ttotal: 1.94s\tremaining: 486ms\n",
      "72:\tlearn: 1710.1720173\ttotal: 1.97s\tremaining: 460ms\n",
      "73:\tlearn: 1709.4977430\ttotal: 2s\tremaining: 432ms\n",
      "74:\tlearn: 1707.9911621\ttotal: 2.03s\tremaining: 406ms\n",
      "75:\tlearn: 1706.9404959\ttotal: 2.06s\tremaining: 379ms\n",
      "76:\tlearn: 1705.1812360\ttotal: 2.08s\tremaining: 352ms\n",
      "77:\tlearn: 1702.5343253\ttotal: 2.11s\tremaining: 325ms\n",
      "78:\tlearn: 1701.2173622\ttotal: 2.14s\tremaining: 298ms\n",
      "79:\tlearn: 1699.9587051\ttotal: 2.17s\tremaining: 271ms\n",
      "80:\tlearn: 1698.4185119\ttotal: 2.19s\tremaining: 244ms\n",
      "81:\tlearn: 1697.2915633\ttotal: 2.22s\tremaining: 217ms\n",
      "82:\tlearn: 1695.3663660\ttotal: 2.25s\tremaining: 190ms\n",
      "83:\tlearn: 1693.8055437\ttotal: 2.28s\tremaining: 163ms\n",
      "84:\tlearn: 1692.4851781\ttotal: 2.31s\tremaining: 136ms\n",
      "85:\tlearn: 1691.4372305\ttotal: 2.33s\tremaining: 109ms\n",
      "86:\tlearn: 1690.3078354\ttotal: 2.36s\tremaining: 81.4ms\n",
      "87:\tlearn: 1689.1197011\ttotal: 2.39s\tremaining: 54.2ms\n",
      "88:\tlearn: 1686.7791723\ttotal: 2.41s\tremaining: 27.1ms\n",
      "89:\tlearn: 1685.3280260\ttotal: 2.44s\tremaining: 0us\n",
      "Learning rate set to 0.5\n",
      "0:\tlearn: 3189.7012792\ttotal: 47.6ms\tremaining: 4.24s\n",
      "1:\tlearn: 2603.7138744\ttotal: 82.8ms\tremaining: 3.64s\n",
      "2:\tlearn: 2333.9267792\ttotal: 128ms\tremaining: 3.72s\n",
      "3:\tlearn: 2201.1928252\ttotal: 159ms\tremaining: 3.43s\n",
      "4:\tlearn: 2105.5329275\ttotal: 192ms\tremaining: 3.27s\n",
      "5:\tlearn: 2050.9974700\ttotal: 224ms\tremaining: 3.13s\n",
      "6:\tlearn: 2015.9028108\ttotal: 255ms\tremaining: 3.03s\n",
      "7:\tlearn: 1993.0996766\ttotal: 288ms\tremaining: 2.95s\n",
      "8:\tlearn: 1968.1169323\ttotal: 325ms\tremaining: 2.92s\n",
      "9:\tlearn: 1949.9931286\ttotal: 355ms\tremaining: 2.84s\n",
      "10:\tlearn: 1922.9370569\ttotal: 386ms\tremaining: 2.77s\n",
      "11:\tlearn: 1907.0884901\ttotal: 416ms\tremaining: 2.7s\n",
      "12:\tlearn: 1894.9528873\ttotal: 446ms\tremaining: 2.64s\n",
      "13:\tlearn: 1882.5094733\ttotal: 477ms\tremaining: 2.59s\n",
      "14:\tlearn: 1867.5735495\ttotal: 510ms\tremaining: 2.55s\n",
      "15:\tlearn: 1858.1308108\ttotal: 544ms\tremaining: 2.52s\n",
      "16:\tlearn: 1842.0737953\ttotal: 580ms\tremaining: 2.49s\n",
      "17:\tlearn: 1836.6190600\ttotal: 613ms\tremaining: 2.45s\n",
      "18:\tlearn: 1829.3508970\ttotal: 644ms\tremaining: 2.41s\n",
      "19:\tlearn: 1820.9242570\ttotal: 677ms\tremaining: 2.37s\n",
      "20:\tlearn: 1809.9282374\ttotal: 714ms\tremaining: 2.34s\n",
      "21:\tlearn: 1803.5453692\ttotal: 744ms\tremaining: 2.3s\n",
      "22:\tlearn: 1798.9070540\ttotal: 773ms\tremaining: 2.25s\n",
      "23:\tlearn: 1792.6366180\ttotal: 804ms\tremaining: 2.21s\n",
      "24:\tlearn: 1788.2880085\ttotal: 833ms\tremaining: 2.16s\n",
      "25:\tlearn: 1782.8525189\ttotal: 863ms\tremaining: 2.12s\n",
      "26:\tlearn: 1779.5189989\ttotal: 894ms\tremaining: 2.09s\n",
      "27:\tlearn: 1774.9844731\ttotal: 1.02s\tremaining: 2.27s\n",
      "28:\tlearn: 1770.5072320\ttotal: 1.06s\tremaining: 2.22s\n",
      "29:\tlearn: 1766.9913401\ttotal: 1.08s\tremaining: 2.17s\n",
      "30:\tlearn: 1758.9740323\ttotal: 1.12s\tremaining: 2.13s\n",
      "31:\tlearn: 1751.6321080\ttotal: 1.15s\tremaining: 2.09s\n",
      "32:\tlearn: 1746.7312465\ttotal: 1.18s\tremaining: 2.04s\n",
      "33:\tlearn: 1743.5482432\ttotal: 1.21s\tremaining: 2s\n",
      "34:\tlearn: 1740.3088601\ttotal: 1.24s\tremaining: 1.95s\n",
      "35:\tlearn: 1734.7623243\ttotal: 1.27s\tremaining: 1.9s\n",
      "36:\tlearn: 1732.1813099\ttotal: 1.3s\tremaining: 1.86s\n",
      "37:\tlearn: 1728.1177777\ttotal: 1.33s\tremaining: 1.82s\n",
      "38:\tlearn: 1721.9921511\ttotal: 1.36s\tremaining: 1.78s\n",
      "39:\tlearn: 1718.1552435\ttotal: 1.39s\tremaining: 1.74s\n",
      "40:\tlearn: 1713.6684610\ttotal: 1.42s\tremaining: 1.7s\n",
      "41:\tlearn: 1709.9902917\ttotal: 1.45s\tremaining: 1.66s\n",
      "42:\tlearn: 1708.3204692\ttotal: 1.48s\tremaining: 1.62s\n",
      "43:\tlearn: 1705.9159895\ttotal: 1.51s\tremaining: 1.58s\n",
      "44:\tlearn: 1701.9642751\ttotal: 1.55s\tremaining: 1.55s\n",
      "45:\tlearn: 1697.7186555\ttotal: 1.58s\tremaining: 1.51s\n",
      "46:\tlearn: 1695.6715942\ttotal: 1.61s\tremaining: 1.47s\n",
      "47:\tlearn: 1692.6511197\ttotal: 1.64s\tremaining: 1.43s\n",
      "48:\tlearn: 1689.5218591\ttotal: 1.67s\tremaining: 1.4s\n",
      "49:\tlearn: 1685.9399052\ttotal: 1.71s\tremaining: 1.37s\n",
      "50:\tlearn: 1682.0724633\ttotal: 1.74s\tremaining: 1.33s\n",
      "51:\tlearn: 1680.2044984\ttotal: 1.77s\tremaining: 1.3s\n",
      "52:\tlearn: 1678.5246063\ttotal: 1.81s\tremaining: 1.26s\n",
      "53:\tlearn: 1675.7786474\ttotal: 1.84s\tremaining: 1.23s\n",
      "54:\tlearn: 1673.0268796\ttotal: 1.88s\tremaining: 1.19s\n",
      "55:\tlearn: 1670.9961957\ttotal: 1.91s\tremaining: 1.16s\n",
      "56:\tlearn: 1669.2745527\ttotal: 1.94s\tremaining: 1.12s\n",
      "57:\tlearn: 1667.1484618\ttotal: 1.97s\tremaining: 1.08s\n",
      "58:\tlearn: 1664.8009369\ttotal: 2s\tremaining: 1.05s\n",
      "59:\tlearn: 1661.9899457\ttotal: 2.04s\tremaining: 1.02s\n",
      "60:\tlearn: 1659.3270579\ttotal: 2.07s\tremaining: 983ms\n",
      "61:\tlearn: 1657.0451392\ttotal: 2.1s\tremaining: 949ms\n",
      "62:\tlearn: 1654.7565284\ttotal: 2.13s\tremaining: 914ms\n",
      "63:\tlearn: 1652.1862917\ttotal: 2.16s\tremaining: 879ms\n",
      "64:\tlearn: 1650.6878267\ttotal: 2.2s\tremaining: 846ms\n",
      "65:\tlearn: 1648.7964545\ttotal: 2.23s\tremaining: 812ms\n",
      "66:\tlearn: 1646.9224831\ttotal: 2.27s\tremaining: 779ms\n",
      "67:\tlearn: 1645.3247580\ttotal: 2.3s\tremaining: 745ms\n",
      "68:\tlearn: 1642.4804627\ttotal: 2.34s\tremaining: 712ms\n",
      "69:\tlearn: 1641.2044489\ttotal: 2.37s\tremaining: 678ms\n",
      "70:\tlearn: 1639.0222390\ttotal: 2.4s\tremaining: 643ms\n",
      "71:\tlearn: 1636.8226995\ttotal: 2.43s\tremaining: 608ms\n",
      "72:\tlearn: 1634.0214572\ttotal: 2.47s\tremaining: 575ms\n",
      "73:\tlearn: 1630.4312379\ttotal: 2.5s\tremaining: 542ms\n",
      "74:\tlearn: 1628.2065224\ttotal: 2.53s\tremaining: 507ms\n",
      "75:\tlearn: 1626.7296792\ttotal: 2.56s\tremaining: 473ms\n",
      "76:\tlearn: 1624.8965149\ttotal: 2.6s\tremaining: 439ms\n",
      "77:\tlearn: 1622.7986125\ttotal: 2.63s\tremaining: 405ms\n",
      "78:\tlearn: 1621.1625272\ttotal: 2.67s\tremaining: 371ms\n",
      "79:\tlearn: 1619.0201752\ttotal: 2.7s\tremaining: 337ms\n",
      "80:\tlearn: 1617.0183036\ttotal: 2.73s\tremaining: 303ms\n",
      "81:\tlearn: 1615.9384752\ttotal: 2.76s\tremaining: 270ms\n",
      "82:\tlearn: 1614.7699050\ttotal: 2.79s\tremaining: 235ms\n",
      "83:\tlearn: 1613.7183328\ttotal: 2.82s\tremaining: 201ms\n",
      "84:\tlearn: 1612.3713685\ttotal: 2.85s\tremaining: 168ms\n",
      "85:\tlearn: 1610.6943040\ttotal: 2.89s\tremaining: 134ms\n",
      "86:\tlearn: 1610.1238239\ttotal: 2.91s\tremaining: 100ms\n",
      "87:\tlearn: 1608.6238624\ttotal: 2.94s\tremaining: 66.9ms\n",
      "88:\tlearn: 1606.6560638\ttotal: 2.98s\tremaining: 33.5ms\n",
      "89:\tlearn: 1605.6334616\ttotal: 3.01s\tremaining: 0us\n",
      "Learning rate set to 0.5\n",
      "0:\tlearn: 3105.1932593\ttotal: 44.8ms\tremaining: 3.99s\n",
      "1:\tlearn: 2507.5859012\ttotal: 91.4ms\tremaining: 4.02s\n",
      "2:\tlearn: 2236.5391123\ttotal: 140ms\tremaining: 4.06s\n",
      "3:\tlearn: 2115.6305167\ttotal: 186ms\tremaining: 4s\n",
      "4:\tlearn: 2005.6740619\ttotal: 234ms\tremaining: 3.98s\n",
      "5:\tlearn: 1958.0469816\ttotal: 281ms\tremaining: 3.94s\n",
      "6:\tlearn: 1924.4680071\ttotal: 327ms\tremaining: 3.88s\n",
      "7:\tlearn: 1903.5959430\ttotal: 366ms\tremaining: 3.75s\n",
      "8:\tlearn: 1884.6785502\ttotal: 411ms\tremaining: 3.7s\n",
      "9:\tlearn: 1857.2582096\ttotal: 455ms\tremaining: 3.64s\n",
      "10:\tlearn: 1843.5544588\ttotal: 496ms\tremaining: 3.56s\n",
      "11:\tlearn: 1830.1806081\ttotal: 533ms\tremaining: 3.46s\n",
      "12:\tlearn: 1811.4361089\ttotal: 578ms\tremaining: 3.42s\n",
      "13:\tlearn: 1799.0050739\ttotal: 626ms\tremaining: 3.4s\n",
      "14:\tlearn: 1791.1087817\ttotal: 664ms\tremaining: 3.32s\n",
      "15:\tlearn: 1778.0117441\ttotal: 707ms\tremaining: 3.27s\n",
      "16:\tlearn: 1772.6413745\ttotal: 743ms\tremaining: 3.19s\n",
      "17:\tlearn: 1760.0618413\ttotal: 791ms\tremaining: 3.17s\n",
      "18:\tlearn: 1753.7846664\ttotal: 835ms\tremaining: 3.12s\n",
      "19:\tlearn: 1747.9619798\ttotal: 874ms\tremaining: 3.06s\n",
      "20:\tlearn: 1740.3420660\ttotal: 917ms\tremaining: 3.01s\n",
      "21:\tlearn: 1734.7362570\ttotal: 962ms\tremaining: 2.97s\n",
      "22:\tlearn: 1730.0234896\ttotal: 1s\tremaining: 2.92s\n",
      "23:\tlearn: 1721.9431883\ttotal: 1.04s\tremaining: 2.86s\n",
      "24:\tlearn: 1715.6998930\ttotal: 1.08s\tremaining: 2.8s\n",
      "25:\tlearn: 1709.3449099\ttotal: 1.12s\tremaining: 2.75s\n",
      "26:\tlearn: 1705.8722293\ttotal: 1.16s\tremaining: 2.7s\n",
      "27:\tlearn: 1696.3137446\ttotal: 1.2s\tremaining: 2.66s\n",
      "28:\tlearn: 1691.7878459\ttotal: 1.24s\tremaining: 2.61s\n",
      "29:\tlearn: 1687.2386944\ttotal: 1.28s\tremaining: 2.56s\n",
      "30:\tlearn: 1681.4692604\ttotal: 1.32s\tremaining: 2.51s\n",
      "31:\tlearn: 1677.3558793\ttotal: 1.36s\tremaining: 2.47s\n",
      "32:\tlearn: 1672.5943087\ttotal: 1.4s\tremaining: 2.42s\n",
      "33:\tlearn: 1669.0820787\ttotal: 1.44s\tremaining: 2.38s\n",
      "34:\tlearn: 1664.3390445\ttotal: 1.49s\tremaining: 2.34s\n",
      "35:\tlearn: 1661.2736296\ttotal: 1.53s\tremaining: 2.29s\n",
      "36:\tlearn: 1658.7420595\ttotal: 1.57s\tremaining: 2.25s\n",
      "37:\tlearn: 1653.8738453\ttotal: 1.61s\tremaining: 2.2s\n",
      "38:\tlearn: 1649.1971289\ttotal: 1.65s\tremaining: 2.16s\n",
      "39:\tlearn: 1646.4797380\ttotal: 1.69s\tremaining: 2.11s\n",
      "40:\tlearn: 1643.9064575\ttotal: 1.72s\tremaining: 2.06s\n",
      "41:\tlearn: 1640.2114211\ttotal: 1.76s\tremaining: 2.01s\n",
      "42:\tlearn: 1636.8117094\ttotal: 1.8s\tremaining: 1.97s\n",
      "43:\tlearn: 1634.7922665\ttotal: 1.84s\tremaining: 1.92s\n",
      "44:\tlearn: 1631.7580084\ttotal: 1.88s\tremaining: 1.88s\n",
      "45:\tlearn: 1628.2593256\ttotal: 1.92s\tremaining: 1.83s\n",
      "46:\tlearn: 1624.5581265\ttotal: 1.96s\tremaining: 1.79s\n",
      "47:\tlearn: 1620.6541356\ttotal: 2s\tremaining: 1.75s\n",
      "48:\tlearn: 1616.9743845\ttotal: 2.04s\tremaining: 1.71s\n",
      "49:\tlearn: 1613.8688123\ttotal: 2.08s\tremaining: 1.66s\n",
      "50:\tlearn: 1611.1370234\ttotal: 2.12s\tremaining: 1.62s\n",
      "51:\tlearn: 1608.0520080\ttotal: 2.16s\tremaining: 1.58s\n",
      "52:\tlearn: 1603.9355798\ttotal: 2.21s\tremaining: 1.54s\n",
      "53:\tlearn: 1601.9746718\ttotal: 2.25s\tremaining: 1.5s\n",
      "54:\tlearn: 1601.0129760\ttotal: 2.28s\tremaining: 1.45s\n",
      "55:\tlearn: 1599.1296014\ttotal: 2.31s\tremaining: 1.41s\n",
      "56:\tlearn: 1597.8584559\ttotal: 2.35s\tremaining: 1.36s\n",
      "57:\tlearn: 1595.1023007\ttotal: 2.39s\tremaining: 1.32s\n",
      "58:\tlearn: 1592.9069616\ttotal: 2.43s\tremaining: 1.28s\n",
      "59:\tlearn: 1590.4594875\ttotal: 2.47s\tremaining: 1.24s\n",
      "60:\tlearn: 1587.4213413\ttotal: 2.52s\tremaining: 1.2s\n",
      "61:\tlearn: 1585.1442875\ttotal: 2.56s\tremaining: 1.16s\n",
      "62:\tlearn: 1583.4912730\ttotal: 2.6s\tremaining: 1.11s\n",
      "63:\tlearn: 1580.4294466\ttotal: 2.65s\tremaining: 1.07s\n",
      "64:\tlearn: 1578.5829295\ttotal: 2.69s\tremaining: 1.03s\n",
      "65:\tlearn: 1576.6636540\ttotal: 2.73s\tremaining: 995ms\n",
      "66:\tlearn: 1573.9025178\ttotal: 2.78s\tremaining: 954ms\n",
      "67:\tlearn: 1572.4058510\ttotal: 2.81s\tremaining: 911ms\n",
      "68:\tlearn: 1571.1564763\ttotal: 2.86s\tremaining: 870ms\n",
      "69:\tlearn: 1568.2307352\ttotal: 2.9s\tremaining: 828ms\n",
      "70:\tlearn: 1565.8645875\ttotal: 2.94s\tremaining: 788ms\n",
      "71:\tlearn: 1563.4514479\ttotal: 2.98s\tremaining: 746ms\n",
      "72:\tlearn: 1561.3874159\ttotal: 3.03s\tremaining: 705ms\n",
      "73:\tlearn: 1558.8470859\ttotal: 3.07s\tremaining: 663ms\n",
      "74:\tlearn: 1556.7754323\ttotal: 3.11s\tremaining: 621ms\n",
      "75:\tlearn: 1554.9907684\ttotal: 3.15s\tremaining: 580ms\n",
      "76:\tlearn: 1553.4393013\ttotal: 3.19s\tremaining: 539ms\n",
      "77:\tlearn: 1552.0636725\ttotal: 3.23s\tremaining: 497ms\n",
      "78:\tlearn: 1550.3067249\ttotal: 3.27s\tremaining: 455ms\n",
      "79:\tlearn: 1547.9700744\ttotal: 3.31s\tremaining: 414ms\n",
      "80:\tlearn: 1546.7811962\ttotal: 3.36s\tremaining: 373ms\n",
      "81:\tlearn: 1544.2068759\ttotal: 3.4s\tremaining: 332ms\n",
      "82:\tlearn: 1543.8201695\ttotal: 3.44s\tremaining: 290ms\n",
      "83:\tlearn: 1540.4200117\ttotal: 3.48s\tremaining: 249ms\n",
      "84:\tlearn: 1539.3278659\ttotal: 3.52s\tremaining: 207ms\n",
      "85:\tlearn: 1537.1096464\ttotal: 3.56s\tremaining: 166ms\n",
      "86:\tlearn: 1536.0431080\ttotal: 3.6s\tremaining: 124ms\n",
      "87:\tlearn: 1534.3487476\ttotal: 3.65s\tremaining: 82.9ms\n",
      "88:\tlearn: 1532.1635424\ttotal: 3.69s\tremaining: 41.4ms\n",
      "89:\tlearn: 1530.2331446\ttotal: 3.73s\tremaining: 0us\n",
      "CPU times: user 45.7 s, sys: 47.8 ms, total: 45.8 s\n",
      "Wall time: 1min\n"
     ]
    }
   ],
   "source": [
    "%%time\n",
    "results = []\n",
    "for iteration in range(10, 101, 20):\n",
    "    \n",
    "    for depth in range(5, 11, 2):\n",
    "    \n",
    "        model_cbr = CatBoostRegressor(random_state=12345, iterations=iteration, loss_function='RMSE', depth=depth)\n",
    "    \n",
    "\n",
    "        model_cbr.fit(features_train, target_train)\n",
    "\n",
    " \n",
    "        predictions_cbr = model_cbr.predict(features_test, verbose=1)\n",
    "\n",
    "\n",
    "        RMSE = rmse(target_test, predictions_cbr)\n",
    "        \n",
    "        results.append({'Модель': 'CatBoostRegressor', \n",
    "                        'Параметры': {'random_state':12345, \n",
    "                                      'iterations': iteration, \n",
    "                                      'loss_function': 'RMSE', \n",
    "                                      'depth': depth}, \n",
    "                        'RMSE': RMSE})"
   ]
  },
  {
   "cell_type": "code",
   "execution_count": 40,
   "metadata": {},
   "outputs": [
    {
     "data": {
      "text/html": [
       "<style  type=\"text/css\" >\n",
       "#T_3e0b3_row14_col2{\n",
       "            background-color:  lightgreen;\n",
       "        }</style><table id=\"T_3e0b3_\" ><thead>    <tr>        <th class=\"blank level0\" ></th>        <th class=\"col_heading level0 col0\" >Модель</th>        <th class=\"col_heading level0 col1\" >Параметры</th>        <th class=\"col_heading level0 col2\" >RMSE</th>    </tr></thead><tbody>\n",
       "                <tr>\n",
       "                        <th id=\"T_3e0b3_level0_row0\" class=\"row_heading level0 row0\" >0</th>\n",
       "                        <td id=\"T_3e0b3_row0_col0\" class=\"data row0 col0\" >CatBoostRegressor</td>\n",
       "                        <td id=\"T_3e0b3_row0_col1\" class=\"data row0 col1\" >{'random_state': 12345, 'iterations': 10, 'loss_function': 'RMSE', 'depth': 5}</td>\n",
       "                        <td id=\"T_3e0b3_row0_col2\" class=\"data row0 col2\" >2041.034496</td>\n",
       "            </tr>\n",
       "            <tr>\n",
       "                        <th id=\"T_3e0b3_level0_row1\" class=\"row_heading level0 row1\" >1</th>\n",
       "                        <td id=\"T_3e0b3_row1_col0\" class=\"data row1 col0\" >CatBoostRegressor</td>\n",
       "                        <td id=\"T_3e0b3_row1_col1\" class=\"data row1 col1\" >{'random_state': 12345, 'iterations': 10, 'loss_function': 'RMSE', 'depth': 7}</td>\n",
       "                        <td id=\"T_3e0b3_row1_col2\" class=\"data row1 col2\" >1952.785445</td>\n",
       "            </tr>\n",
       "            <tr>\n",
       "                        <th id=\"T_3e0b3_level0_row2\" class=\"row_heading level0 row2\" >2</th>\n",
       "                        <td id=\"T_3e0b3_row2_col0\" class=\"data row2 col0\" >CatBoostRegressor</td>\n",
       "                        <td id=\"T_3e0b3_row2_col1\" class=\"data row2 col1\" >{'random_state': 12345, 'iterations': 10, 'loss_function': 'RMSE', 'depth': 9}</td>\n",
       "                        <td id=\"T_3e0b3_row2_col2\" class=\"data row2 col2\" >1871.414912</td>\n",
       "            </tr>\n",
       "            <tr>\n",
       "                        <th id=\"T_3e0b3_level0_row3\" class=\"row_heading level0 row3\" >3</th>\n",
       "                        <td id=\"T_3e0b3_row3_col0\" class=\"data row3 col0\" >CatBoostRegressor</td>\n",
       "                        <td id=\"T_3e0b3_row3_col1\" class=\"data row3 col1\" >{'random_state': 12345, 'iterations': 30, 'loss_function': 'RMSE', 'depth': 5}</td>\n",
       "                        <td id=\"T_3e0b3_row3_col2\" class=\"data row3 col2\" >1844.371272</td>\n",
       "            </tr>\n",
       "            <tr>\n",
       "                        <th id=\"T_3e0b3_level0_row4\" class=\"row_heading level0 row4\" >4</th>\n",
       "                        <td id=\"T_3e0b3_row4_col0\" class=\"data row4 col0\" >CatBoostRegressor</td>\n",
       "                        <td id=\"T_3e0b3_row4_col1\" class=\"data row4 col1\" >{'random_state': 12345, 'iterations': 30, 'loss_function': 'RMSE', 'depth': 7}</td>\n",
       "                        <td id=\"T_3e0b3_row4_col2\" class=\"data row4 col2\" >1785.914703</td>\n",
       "            </tr>\n",
       "            <tr>\n",
       "                        <th id=\"T_3e0b3_level0_row5\" class=\"row_heading level0 row5\" >5</th>\n",
       "                        <td id=\"T_3e0b3_row5_col0\" class=\"data row5 col0\" >CatBoostRegressor</td>\n",
       "                        <td id=\"T_3e0b3_row5_col1\" class=\"data row5 col1\" >{'random_state': 12345, 'iterations': 30, 'loss_function': 'RMSE', 'depth': 9}</td>\n",
       "                        <td id=\"T_3e0b3_row5_col2\" class=\"data row5 col2\" >1731.435794</td>\n",
       "            </tr>\n",
       "            <tr>\n",
       "                        <th id=\"T_3e0b3_level0_row6\" class=\"row_heading level0 row6\" >6</th>\n",
       "                        <td id=\"T_3e0b3_row6_col0\" class=\"data row6 col0\" >CatBoostRegressor</td>\n",
       "                        <td id=\"T_3e0b3_row6_col1\" class=\"data row6 col1\" >{'random_state': 12345, 'iterations': 50, 'loss_function': 'RMSE', 'depth': 5}</td>\n",
       "                        <td id=\"T_3e0b3_row6_col2\" class=\"data row6 col2\" >1783.947969</td>\n",
       "            </tr>\n",
       "            <tr>\n",
       "                        <th id=\"T_3e0b3_level0_row7\" class=\"row_heading level0 row7\" >7</th>\n",
       "                        <td id=\"T_3e0b3_row7_col0\" class=\"data row7 col0\" >CatBoostRegressor</td>\n",
       "                        <td id=\"T_3e0b3_row7_col1\" class=\"data row7 col1\" >{'random_state': 12345, 'iterations': 50, 'loss_function': 'RMSE', 'depth': 7}</td>\n",
       "                        <td id=\"T_3e0b3_row7_col2\" class=\"data row7 col2\" >1719.297347</td>\n",
       "            </tr>\n",
       "            <tr>\n",
       "                        <th id=\"T_3e0b3_level0_row8\" class=\"row_heading level0 row8\" >8</th>\n",
       "                        <td id=\"T_3e0b3_row8_col0\" class=\"data row8 col0\" >CatBoostRegressor</td>\n",
       "                        <td id=\"T_3e0b3_row8_col1\" class=\"data row8 col1\" >{'random_state': 12345, 'iterations': 50, 'loss_function': 'RMSE', 'depth': 9}</td>\n",
       "                        <td id=\"T_3e0b3_row8_col2\" class=\"data row8 col2\" >1677.671237</td>\n",
       "            </tr>\n",
       "            <tr>\n",
       "                        <th id=\"T_3e0b3_level0_row9\" class=\"row_heading level0 row9\" >9</th>\n",
       "                        <td id=\"T_3e0b3_row9_col0\" class=\"data row9 col0\" >CatBoostRegressor</td>\n",
       "                        <td id=\"T_3e0b3_row9_col1\" class=\"data row9 col1\" >{'random_state': 12345, 'iterations': 70, 'loss_function': 'RMSE', 'depth': 5}</td>\n",
       "                        <td id=\"T_3e0b3_row9_col2\" class=\"data row9 col2\" >1736.739229</td>\n",
       "            </tr>\n",
       "            <tr>\n",
       "                        <th id=\"T_3e0b3_level0_row10\" class=\"row_heading level0 row10\" >10</th>\n",
       "                        <td id=\"T_3e0b3_row10_col0\" class=\"data row10 col0\" >CatBoostRegressor</td>\n",
       "                        <td id=\"T_3e0b3_row10_col1\" class=\"data row10 col1\" >{'random_state': 12345, 'iterations': 70, 'loss_function': 'RMSE', 'depth': 7}</td>\n",
       "                        <td id=\"T_3e0b3_row10_col2\" class=\"data row10 col2\" >1688.211574</td>\n",
       "            </tr>\n",
       "            <tr>\n",
       "                        <th id=\"T_3e0b3_level0_row11\" class=\"row_heading level0 row11\" >11</th>\n",
       "                        <td id=\"T_3e0b3_row11_col0\" class=\"data row11 col0\" >CatBoostRegressor</td>\n",
       "                        <td id=\"T_3e0b3_row11_col1\" class=\"data row11 col1\" >{'random_state': 12345, 'iterations': 70, 'loss_function': 'RMSE', 'depth': 9}</td>\n",
       "                        <td id=\"T_3e0b3_row11_col2\" class=\"data row11 col2\" >1649.921011</td>\n",
       "            </tr>\n",
       "            <tr>\n",
       "                        <th id=\"T_3e0b3_level0_row12\" class=\"row_heading level0 row12\" >12</th>\n",
       "                        <td id=\"T_3e0b3_row12_col0\" class=\"data row12 col0\" >CatBoostRegressor</td>\n",
       "                        <td id=\"T_3e0b3_row12_col1\" class=\"data row12 col1\" >{'random_state': 12345, 'iterations': 90, 'loss_function': 'RMSE', 'depth': 5}</td>\n",
       "                        <td id=\"T_3e0b3_row12_col2\" class=\"data row12 col2\" >1714.051354</td>\n",
       "            </tr>\n",
       "            <tr>\n",
       "                        <th id=\"T_3e0b3_level0_row13\" class=\"row_heading level0 row13\" >13</th>\n",
       "                        <td id=\"T_3e0b3_row13_col0\" class=\"data row13 col0\" >CatBoostRegressor</td>\n",
       "                        <td id=\"T_3e0b3_row13_col1\" class=\"data row13 col1\" >{'random_state': 12345, 'iterations': 90, 'loss_function': 'RMSE', 'depth': 7}</td>\n",
       "                        <td id=\"T_3e0b3_row13_col2\" class=\"data row13 col2\" >1661.613065</td>\n",
       "            </tr>\n",
       "            <tr>\n",
       "                        <th id=\"T_3e0b3_level0_row14\" class=\"row_heading level0 row14\" >14</th>\n",
       "                        <td id=\"T_3e0b3_row14_col0\" class=\"data row14 col0\" >CatBoostRegressor</td>\n",
       "                        <td id=\"T_3e0b3_row14_col1\" class=\"data row14 col1\" >{'random_state': 12345, 'iterations': 90, 'loss_function': 'RMSE', 'depth': 9}</td>\n",
       "                        <td id=\"T_3e0b3_row14_col2\" class=\"data row14 col2\" >1628.763415</td>\n",
       "            </tr>\n",
       "    </tbody></table>"
      ],
      "text/plain": [
       "<pandas.io.formats.style.Styler at 0x7fe481e7c340>"
      ]
     },
     "execution_count": 40,
     "metadata": {},
     "output_type": "execute_result"
    }
   ],
   "source": [
    "pd.DataFrame(results).style.highlight_min(color = 'lightgreen', axis = 0)"
   ]
  },
  {
   "cell_type": "markdown",
   "metadata": {},
   "source": [
    "## Анализ моделей"
   ]
  },
  {
   "cell_type": "markdown",
   "metadata": {},
   "source": [
    "### Анализ моделей"
   ]
  },
  {
   "cell_type": "markdown",
   "metadata": {},
   "source": [
    "Изучив данные трех моделей можно сделать следующие выводы:\n",
    "\n",
    "- Модель линейной регрессии хоть и достаточно быстра, но имеет слишком большой показатель RMSE - 2630.\n",
    "- Модель LGBM работает медленно, но показывает лучший результат, чем у линейной регрессии - RMSE равно почти 1693.\n",
    "- Модель CatBoost работает быстрее, чем LGBM, и результат у нее немного лучше - RMSE равно 1628."
   ]
  },
  {
   "cell_type": "markdown",
   "metadata": {},
   "source": [
    "### Вывод"
   ]
  },
  {
   "cell_type": "markdown",
   "metadata": {},
   "source": [
    "Исходя из вышеизложенного - лучший вариант это модель CatBoostRegressor."
   ]
  },
  {
   "cell_type": "markdown",
   "metadata": {},
   "source": [
    "## Чек-лист проверки"
   ]
  },
  {
   "cell_type": "markdown",
   "metadata": {},
   "source": [
    "Поставьте 'x' в выполненных пунктах. Далее нажмите Shift+Enter."
   ]
  },
  {
   "cell_type": "markdown",
   "metadata": {},
   "source": [
    "- [x]  Jupyter Notebook открыт\n",
    "- [ ]  Весь код выполняется без ошибок\n",
    "- [ ]  Ячейки с кодом расположены в порядке исполнения\n",
    "- [ ]  Выполнена загрузка и подготовка данных\n",
    "- [ ]  Выполнено обучение моделей\n",
    "- [ ]  Есть анализ скорости работы и качества моделей"
   ]
  },
  {
   "cell_type": "code",
   "execution_count": null,
   "metadata": {},
   "outputs": [],
   "source": []
  }
 ],
 "metadata": {
  "ExecuteTimeLog": [
   {
    "duration": 590,
    "start_time": "2022-04-18T18:41:03.816Z"
   },
   {
    "duration": 900,
    "start_time": "2022-04-18T18:41:45.786Z"
   },
   {
    "duration": 29,
    "start_time": "2022-04-18T18:42:17.675Z"
   },
   {
    "duration": 137,
    "start_time": "2022-04-18T18:42:26.376Z"
   },
   {
    "duration": 2,
    "start_time": "2022-04-18T18:57:10.269Z"
   },
   {
    "duration": 375,
    "start_time": "2022-05-03T05:11:40.044Z"
   },
   {
    "duration": 716,
    "start_time": "2022-05-03T05:11:40.422Z"
   },
   {
    "duration": 110,
    "start_time": "2022-05-03T05:11:41.140Z"
   },
   {
    "duration": 422,
    "start_time": "2022-05-03T05:11:46.737Z"
   },
   {
    "duration": 388,
    "start_time": "2022-05-03T05:11:56.747Z"
   },
   {
    "duration": 105,
    "start_time": "2022-05-03T05:12:28.333Z"
   },
   {
    "duration": 811,
    "start_time": "2022-05-03T05:19:25.786Z"
   },
   {
    "duration": 99,
    "start_time": "2022-05-03T05:20:24.647Z"
   },
   {
    "duration": 429,
    "start_time": "2022-05-04T15:12:20.902Z"
   },
   {
    "duration": 918,
    "start_time": "2022-05-04T15:12:21.333Z"
   },
   {
    "duration": 167,
    "start_time": "2022-05-04T15:12:22.253Z"
   },
   {
    "duration": 606,
    "start_time": "2022-05-04T15:12:22.426Z"
   },
   {
    "duration": 1126,
    "start_time": "2022-05-04T15:12:23.034Z"
   },
   {
    "duration": 157,
    "start_time": "2022-05-04T15:12:24.162Z"
   },
   {
    "duration": 146,
    "start_time": "2022-05-04T15:15:36.082Z"
   },
   {
    "duration": 23,
    "start_time": "2022-05-04T15:36:29.371Z"
   },
   {
    "duration": 17,
    "start_time": "2022-05-04T15:38:29.496Z"
   },
   {
    "duration": 72,
    "start_time": "2022-05-04T15:45:07.961Z"
   },
   {
    "duration": 331,
    "start_time": "2022-05-04T15:45:19.743Z"
   },
   {
    "duration": 306,
    "start_time": "2022-05-04T17:44:56.752Z"
   },
   {
    "duration": 6073,
    "start_time": "2022-05-04T17:45:48.199Z"
   },
   {
    "duration": 602,
    "start_time": "2022-05-04T17:46:31.891Z"
   },
   {
    "duration": 259,
    "start_time": "2022-05-04T17:47:42.331Z"
   },
   {
    "duration": 49,
    "start_time": "2022-05-04T17:49:51.670Z"
   },
   {
    "duration": 421,
    "start_time": "2022-05-04T17:52:02.532Z"
   },
   {
    "duration": 1152,
    "start_time": "2022-05-04T17:52:20.640Z"
   },
   {
    "duration": 347,
    "start_time": "2022-05-04T17:52:44.693Z"
   },
   {
    "duration": 432,
    "start_time": "2022-05-04T17:53:12.406Z"
   },
   {
    "duration": 47,
    "start_time": "2022-05-04T17:55:19.298Z"
   },
   {
    "duration": 32,
    "start_time": "2022-05-04T17:55:26.864Z"
   },
   {
    "duration": 390,
    "start_time": "2022-05-04T17:59:03.143Z"
   },
   {
    "duration": 302,
    "start_time": "2022-05-04T18:02:14.549Z"
   },
   {
    "duration": 201,
    "start_time": "2022-05-04T18:02:22.627Z"
   },
   {
    "duration": 165,
    "start_time": "2022-05-04T18:02:39.549Z"
   },
   {
    "duration": 15188,
    "start_time": "2022-05-04T18:02:49.240Z"
   },
   {
    "duration": 311,
    "start_time": "2022-05-04T18:05:12.055Z"
   },
   {
    "duration": 329,
    "start_time": "2022-05-04T18:05:30.061Z"
   },
   {
    "duration": 7,
    "start_time": "2022-05-04T18:05:42.310Z"
   },
   {
    "duration": 29,
    "start_time": "2022-05-04T18:05:56.938Z"
   },
   {
    "duration": 26,
    "start_time": "2022-05-04T18:08:40.116Z"
   },
   {
    "duration": 21,
    "start_time": "2022-05-04T18:09:37.758Z"
   },
   {
    "duration": 21,
    "start_time": "2022-05-04T18:09:46.940Z"
   },
   {
    "duration": 51,
    "start_time": "2022-05-04T18:12:00.666Z"
   },
   {
    "duration": 21,
    "start_time": "2022-05-04T18:12:42.153Z"
   },
   {
    "duration": 11,
    "start_time": "2022-05-04T18:12:56.994Z"
   },
   {
    "duration": 8,
    "start_time": "2022-05-04T18:13:06.942Z"
   },
   {
    "duration": 21,
    "start_time": "2022-05-04T18:13:32.960Z"
   },
   {
    "duration": 43,
    "start_time": "2022-05-04T18:14:19.640Z"
   },
   {
    "duration": 327,
    "start_time": "2022-05-04T18:15:13.599Z"
   },
   {
    "duration": 188,
    "start_time": "2022-05-04T18:15:27.623Z"
   },
   {
    "duration": 33,
    "start_time": "2022-05-04T18:15:48.581Z"
   },
   {
    "duration": 759,
    "start_time": "2022-05-04T18:16:21.016Z"
   },
   {
    "duration": 29,
    "start_time": "2022-05-04T18:17:13.967Z"
   },
   {
    "duration": 30,
    "start_time": "2022-05-04T18:22:50.384Z"
   },
   {
    "duration": 65,
    "start_time": "2022-05-04T18:28:47.476Z"
   },
   {
    "duration": 23,
    "start_time": "2022-05-04T18:29:07.127Z"
   },
   {
    "duration": 15,
    "start_time": "2022-05-04T18:31:25.216Z"
   },
   {
    "duration": 55,
    "start_time": "2022-05-04T18:31:29.814Z"
   },
   {
    "duration": 20,
    "start_time": "2022-05-04T18:31:45.155Z"
   },
   {
    "duration": 27,
    "start_time": "2022-05-04T18:31:57.490Z"
   },
   {
    "duration": 53,
    "start_time": "2022-05-04T18:34:36.211Z"
   },
   {
    "duration": 11,
    "start_time": "2022-05-04T18:34:41.559Z"
   },
   {
    "duration": 34,
    "start_time": "2022-05-04T18:34:52.352Z"
   },
   {
    "duration": 10,
    "start_time": "2022-05-04T18:35:04.338Z"
   },
   {
    "duration": 30,
    "start_time": "2022-05-04T18:52:04.296Z"
   },
   {
    "duration": 169,
    "start_time": "2022-05-04T18:52:18.642Z"
   },
   {
    "duration": 82,
    "start_time": "2022-05-04T18:55:24.917Z"
   },
   {
    "duration": 28,
    "start_time": "2022-05-04T18:55:31.275Z"
   },
   {
    "duration": 18,
    "start_time": "2022-05-04T18:56:08.103Z"
   },
   {
    "duration": 7796,
    "start_time": "2022-05-04T18:56:46.049Z"
   },
   {
    "duration": 13,
    "start_time": "2022-05-04T18:56:56.447Z"
   },
   {
    "duration": 105,
    "start_time": "2022-05-04T18:57:02.843Z"
   },
   {
    "duration": 979,
    "start_time": "2022-05-04T18:59:01.009Z"
   },
   {
    "duration": 217,
    "start_time": "2022-05-04T19:02:53.731Z"
   },
   {
    "duration": 11,
    "start_time": "2022-05-04T19:05:18.677Z"
   },
   {
    "duration": 724,
    "start_time": "2022-05-04T19:05:59.936Z"
   },
   {
    "duration": 541,
    "start_time": "2022-05-04T19:06:05.777Z"
   },
   {
    "duration": 87,
    "start_time": "2022-05-04T19:17:08.554Z"
   },
   {
    "duration": 29,
    "start_time": "2022-05-04T19:18:23.296Z"
   },
   {
    "duration": 289,
    "start_time": "2022-05-04T19:18:38.271Z"
   },
   {
    "duration": 34,
    "start_time": "2022-05-04T19:18:53.511Z"
   },
   {
    "duration": 35,
    "start_time": "2022-05-04T19:19:46.241Z"
   },
   {
    "duration": 338,
    "start_time": "2022-05-04T19:19:47.454Z"
   },
   {
    "duration": 24,
    "start_time": "2022-05-04T19:19:50.676Z"
   },
   {
    "duration": 5,
    "start_time": "2022-05-04T19:20:26.392Z"
   },
   {
    "duration": 6,
    "start_time": "2022-05-04T19:20:56.335Z"
   },
   {
    "duration": 4,
    "start_time": "2022-05-04T19:21:37.899Z"
   },
   {
    "duration": 4,
    "start_time": "2022-05-04T19:21:42.457Z"
   },
   {
    "duration": 459,
    "start_time": "2022-05-04T19:21:51.381Z"
   },
   {
    "duration": 4,
    "start_time": "2022-05-04T19:25:55.253Z"
   },
   {
    "duration": 2150,
    "start_time": "2022-05-04T19:25:55.259Z"
   },
   {
    "duration": 174,
    "start_time": "2022-05-04T19:25:57.413Z"
   },
   {
    "duration": 486,
    "start_time": "2022-05-04T19:25:57.589Z"
   },
   {
    "duration": 1027,
    "start_time": "2022-05-04T19:25:58.077Z"
   },
   {
    "duration": 194,
    "start_time": "2022-05-04T19:25:59.106Z"
   },
   {
    "duration": 36,
    "start_time": "2022-05-04T19:25:59.307Z"
   },
   {
    "duration": 341,
    "start_time": "2022-05-04T19:25:59.345Z"
   },
   {
    "duration": 293,
    "start_time": "2022-05-04T19:25:59.688Z"
   },
   {
    "duration": 372,
    "start_time": "2022-05-04T19:25:59.985Z"
   },
   {
    "duration": 25,
    "start_time": "2022-05-04T19:26:00.360Z"
   },
   {
    "duration": 398,
    "start_time": "2022-05-04T19:26:00.387Z"
   },
   {
    "duration": 40,
    "start_time": "2022-05-04T19:26:00.787Z"
   },
   {
    "duration": 39,
    "start_time": "2022-05-04T19:26:00.829Z"
   },
   {
    "duration": 22,
    "start_time": "2022-05-04T19:26:00.870Z"
   },
   {
    "duration": 77,
    "start_time": "2022-05-04T19:26:00.893Z"
   },
   {
    "duration": 32,
    "start_time": "2022-05-04T19:26:00.972Z"
   },
   {
    "duration": 64,
    "start_time": "2022-05-04T19:26:01.006Z"
   },
   {
    "duration": 10,
    "start_time": "2022-05-04T19:26:01.072Z"
   },
   {
    "duration": 68,
    "start_time": "2022-05-04T19:26:01.084Z"
   },
   {
    "duration": 7789,
    "start_time": "2022-05-04T19:26:01.154Z"
   },
   {
    "duration": 14,
    "start_time": "2022-05-04T19:26:08.945Z"
   },
   {
    "duration": 121,
    "start_time": "2022-05-04T19:26:08.961Z"
   },
   {
    "duration": 1048,
    "start_time": "2022-05-04T19:26:09.084Z"
   },
   {
    "duration": 223,
    "start_time": "2022-05-04T19:26:10.134Z"
   },
   {
    "duration": 487,
    "start_time": "2022-05-04T19:26:10.359Z"
   },
   {
    "duration": 29,
    "start_time": "2022-05-04T19:26:10.849Z"
   },
   {
    "duration": 353,
    "start_time": "2022-05-04T19:26:10.883Z"
   },
   {
    "duration": 24,
    "start_time": "2022-05-04T19:26:11.240Z"
   },
   {
    "duration": 3,
    "start_time": "2022-05-04T19:26:11.266Z"
   },
   {
    "duration": 9,
    "start_time": "2022-05-04T19:26:11.270Z"
   },
   {
    "duration": 734,
    "start_time": "2022-05-04T19:26:11.280Z"
   },
   {
    "duration": 17,
    "start_time": "2022-05-04T19:27:04.656Z"
   },
   {
    "duration": 405,
    "start_time": "2022-05-04T19:27:23.146Z"
   },
   {
    "duration": 101,
    "start_time": "2022-05-04T19:28:07.236Z"
   },
   {
    "duration": 3,
    "start_time": "2022-05-04T19:28:53.958Z"
   },
   {
    "duration": 94,
    "start_time": "2022-05-04T19:29:00.527Z"
   },
   {
    "duration": 83396,
    "start_time": "2022-05-04T19:29:34.070Z"
   },
   {
    "duration": 427,
    "start_time": "2022-05-04T19:33:51.183Z"
   },
   {
    "duration": 37,
    "start_time": "2022-05-04T19:35:33.300Z"
   },
   {
    "duration": 7,
    "start_time": "2022-05-04T19:35:54.082Z"
   },
   {
    "duration": 28,
    "start_time": "2022-05-04T19:39:33.535Z"
   },
   {
    "duration": 389,
    "start_time": "2022-05-04T19:40:39.194Z"
   },
   {
    "duration": 21,
    "start_time": "2022-05-04T19:40:42.172Z"
   },
   {
    "duration": 21,
    "start_time": "2022-05-04T19:40:46.654Z"
   },
   {
    "duration": 344,
    "start_time": "2022-05-04T19:40:49.027Z"
   },
   {
    "duration": 21,
    "start_time": "2022-05-04T19:40:50.958Z"
   },
   {
    "duration": 28,
    "start_time": "2022-05-04T19:40:52.576Z"
   },
   {
    "duration": 32,
    "start_time": "2022-05-04T19:40:54.501Z"
   },
   {
    "duration": 308,
    "start_time": "2022-05-04T19:40:55.872Z"
   },
   {
    "duration": 39,
    "start_time": "2022-05-04T19:40:56.986Z"
   },
   {
    "duration": 397,
    "start_time": "2022-05-04T19:41:04.374Z"
   },
   {
    "duration": 5,
    "start_time": "2022-05-04T19:41:27.258Z"
   },
   {
    "duration": 98,
    "start_time": "2022-05-04T19:41:38.871Z"
   },
   {
    "duration": 33,
    "start_time": "2022-05-04T19:42:19.060Z"
   },
   {
    "duration": 102,
    "start_time": "2022-05-04T19:42:41.909Z"
   },
   {
    "duration": 313,
    "start_time": "2022-05-04T19:45:16.351Z"
   },
   {
    "duration": 393,
    "start_time": "2022-05-04T19:45:19.873Z"
   },
   {
    "duration": 307,
    "start_time": "2022-05-04T19:45:43.709Z"
   },
   {
    "duration": 400,
    "start_time": "2022-05-04T19:45:47.145Z"
   },
   {
    "duration": 4,
    "start_time": "2022-05-04T19:46:35.580Z"
   },
   {
    "duration": 914,
    "start_time": "2022-05-04T19:46:35.587Z"
   },
   {
    "duration": 256,
    "start_time": "2022-05-04T19:46:36.504Z"
   },
   {
    "duration": 482,
    "start_time": "2022-05-04T19:46:36.763Z"
   },
   {
    "duration": 902,
    "start_time": "2022-05-04T19:46:37.247Z"
   },
   {
    "duration": 142,
    "start_time": "2022-05-04T19:46:38.151Z"
   },
   {
    "duration": 33,
    "start_time": "2022-05-04T19:46:38.294Z"
   },
   {
    "duration": 341,
    "start_time": "2022-05-04T19:46:38.329Z"
   },
   {
    "duration": 293,
    "start_time": "2022-05-04T19:46:38.673Z"
   },
   {
    "duration": 335,
    "start_time": "2022-05-04T19:46:38.967Z"
   },
   {
    "duration": 31,
    "start_time": "2022-05-04T19:46:39.304Z"
   },
   {
    "duration": 374,
    "start_time": "2022-05-04T19:46:39.337Z"
   },
   {
    "duration": 23,
    "start_time": "2022-05-04T19:46:39.713Z"
   },
   {
    "duration": 41,
    "start_time": "2022-05-04T19:46:39.739Z"
   },
   {
    "duration": 50,
    "start_time": "2022-05-04T19:46:39.782Z"
   },
   {
    "duration": 32,
    "start_time": "2022-05-04T19:46:39.835Z"
   },
   {
    "duration": 53,
    "start_time": "2022-05-04T19:46:39.869Z"
   },
   {
    "duration": 65,
    "start_time": "2022-05-04T19:46:39.924Z"
   },
   {
    "duration": 27,
    "start_time": "2022-05-04T19:46:39.991Z"
   },
   {
    "duration": 34,
    "start_time": "2022-05-04T19:46:40.020Z"
   },
   {
    "duration": 7349,
    "start_time": "2022-05-04T19:46:40.056Z"
   },
   {
    "duration": 15,
    "start_time": "2022-05-04T19:46:47.406Z"
   },
   {
    "duration": 110,
    "start_time": "2022-05-04T19:46:47.423Z"
   },
   {
    "duration": 895,
    "start_time": "2022-05-04T19:46:47.537Z"
   },
   {
    "duration": 219,
    "start_time": "2022-05-04T19:46:48.435Z"
   },
   {
    "duration": 459,
    "start_time": "2022-05-04T19:46:48.656Z"
   },
   {
    "duration": 25,
    "start_time": "2022-05-04T19:46:49.117Z"
   },
   {
    "duration": 272,
    "start_time": "2022-05-04T19:46:49.144Z"
   },
   {
    "duration": 26,
    "start_time": "2022-05-04T19:46:49.420Z"
   },
   {
    "duration": 3,
    "start_time": "2022-05-04T19:46:49.447Z"
   },
   {
    "duration": 69,
    "start_time": "2022-05-04T19:46:49.452Z"
   },
   {
    "duration": 39837,
    "start_time": "2022-05-04T19:46:49.524Z"
   },
   {
    "duration": 135,
    "start_time": "2022-05-04T19:49:01.484Z"
   },
   {
    "duration": 91,
    "start_time": "2022-05-04T19:49:35.340Z"
   },
   {
    "duration": 18,
    "start_time": "2022-05-04T19:49:38.515Z"
   },
   {
    "duration": 5,
    "start_time": "2022-05-04T19:50:39.422Z"
   },
   {
    "duration": 5,
    "start_time": "2022-05-04T19:50:46.289Z"
   },
   {
    "duration": 3,
    "start_time": "2022-05-04T19:51:53.630Z"
   },
   {
    "duration": 412274,
    "start_time": "2022-05-04T19:52:24.352Z"
   },
   {
    "duration": 945,
    "start_time": "2022-05-04T19:59:45.786Z"
   },
   {
    "duration": 4,
    "start_time": "2022-05-04T19:59:49.962Z"
   },
   {
    "duration": 13,
    "start_time": "2022-05-04T20:03:11.922Z"
   },
   {
    "duration": 11,
    "start_time": "2022-05-04T20:03:35.729Z"
   },
   {
    "duration": 62944,
    "start_time": "2022-05-04T20:04:18.338Z"
   },
   {
    "duration": 14,
    "start_time": "2022-05-04T20:05:43.597Z"
   },
   {
    "duration": 2333,
    "start_time": "2022-05-04T20:07:04.580Z"
   },
   {
    "duration": 58912,
    "start_time": "2022-05-04T20:07:55.971Z"
   },
   {
    "duration": 60,
    "start_time": "2022-05-04T20:09:00.939Z"
   },
   {
    "duration": 83985,
    "start_time": "2022-05-04T20:14:50.261Z"
   },
   {
    "duration": 8,
    "start_time": "2022-05-04T20:16:21.031Z"
   },
   {
    "duration": 1058,
    "start_time": "2022-05-04T20:16:21.042Z"
   },
   {
    "duration": 172,
    "start_time": "2022-05-04T20:16:22.102Z"
   },
   {
    "duration": 474,
    "start_time": "2022-05-04T20:16:22.276Z"
   },
   {
    "duration": 987,
    "start_time": "2022-05-04T20:16:22.753Z"
   },
   {
    "duration": 147,
    "start_time": "2022-05-04T20:16:23.741Z"
   },
   {
    "duration": 24,
    "start_time": "2022-05-04T20:16:23.890Z"
   },
   {
    "duration": 342,
    "start_time": "2022-05-04T20:16:23.918Z"
   },
   {
    "duration": 304,
    "start_time": "2022-05-04T20:16:24.262Z"
   },
   {
    "duration": 382,
    "start_time": "2022-05-04T20:16:24.568Z"
   },
   {
    "duration": 24,
    "start_time": "2022-05-04T20:16:24.952Z"
   },
   {
    "duration": 420,
    "start_time": "2022-05-04T20:16:24.978Z"
   },
   {
    "duration": 32,
    "start_time": "2022-05-04T20:16:25.400Z"
   },
   {
    "duration": 45,
    "start_time": "2022-05-04T20:16:25.437Z"
   },
   {
    "duration": 63,
    "start_time": "2022-05-04T20:16:25.484Z"
   },
   {
    "duration": 32,
    "start_time": "2022-05-04T20:16:25.549Z"
   },
   {
    "duration": 41,
    "start_time": "2022-05-04T20:16:25.583Z"
   },
   {
    "duration": 49,
    "start_time": "2022-05-04T20:16:25.627Z"
   },
   {
    "duration": 9,
    "start_time": "2022-05-04T20:16:25.677Z"
   },
   {
    "duration": 60,
    "start_time": "2022-05-04T20:16:25.688Z"
   },
   {
    "duration": 7931,
    "start_time": "2022-05-04T20:16:25.750Z"
   },
   {
    "duration": 16,
    "start_time": "2022-05-04T20:16:33.683Z"
   },
   {
    "duration": 120,
    "start_time": "2022-05-04T20:16:33.700Z"
   },
   {
    "duration": 1035,
    "start_time": "2022-05-04T20:16:33.822Z"
   },
   {
    "duration": 232,
    "start_time": "2022-05-04T20:16:34.859Z"
   },
   {
    "duration": 502,
    "start_time": "2022-05-04T20:16:35.092Z"
   },
   {
    "duration": 37,
    "start_time": "2022-05-04T20:16:35.595Z"
   },
   {
    "duration": 276,
    "start_time": "2022-05-04T20:16:35.638Z"
   },
   {
    "duration": 29,
    "start_time": "2022-05-04T20:16:35.917Z"
   },
   {
    "duration": 3,
    "start_time": "2022-05-04T20:16:35.947Z"
   },
   {
    "duration": 66,
    "start_time": "2022-05-04T20:16:35.952Z"
   },
   {
    "duration": 84019,
    "start_time": "2022-05-04T20:16:36.021Z"
   },
   {
    "duration": 184,
    "start_time": "2022-05-04T20:18:00.042Z"
   },
   {
    "duration": 87,
    "start_time": "2022-05-04T20:18:00.230Z"
   },
   {
    "duration": 14,
    "start_time": "2022-05-04T20:18:00.323Z"
   },
   {
    "duration": 183576,
    "start_time": "2022-05-04T20:18:00.340Z"
   },
   {
    "duration": 1006,
    "start_time": "2022-05-04T20:21:03.918Z"
   },
   {
    "duration": 4,
    "start_time": "2022-05-04T20:21:04.926Z"
   },
   {
    "duration": 54516,
    "start_time": "2022-05-04T20:21:04.932Z"
   },
   {
    "duration": 11,
    "start_time": "2022-05-04T20:21:59.450Z"
   },
   {
    "duration": 1313,
    "start_time": "2022-05-05T20:14:52.920Z"
   },
   {
    "duration": 3691,
    "start_time": "2022-05-05T20:14:54.235Z"
   },
   {
    "duration": 134,
    "start_time": "2022-05-05T20:14:57.928Z"
   },
   {
    "duration": 468,
    "start_time": "2022-05-05T20:14:58.065Z"
   },
   {
    "duration": 949,
    "start_time": "2022-05-05T20:14:58.535Z"
   },
   {
    "duration": 129,
    "start_time": "2022-05-05T20:14:59.486Z"
   },
   {
    "duration": 24,
    "start_time": "2022-05-05T20:14:59.616Z"
   },
   {
    "duration": 338,
    "start_time": "2022-05-05T20:14:59.642Z"
   },
   {
    "duration": 253,
    "start_time": "2022-05-05T20:14:59.981Z"
   },
   {
    "duration": 716,
    "start_time": "2022-05-05T20:15:00.237Z"
   },
   {
    "duration": 33,
    "start_time": "2022-05-05T20:15:00.954Z"
   },
   {
    "duration": 377,
    "start_time": "2022-05-05T20:15:00.989Z"
   },
   {
    "duration": 19,
    "start_time": "2022-05-05T20:15:01.368Z"
   },
   {
    "duration": 54,
    "start_time": "2022-05-05T20:15:01.388Z"
   },
   {
    "duration": 21,
    "start_time": "2022-05-05T20:15:01.444Z"
   },
   {
    "duration": 63,
    "start_time": "2022-05-05T20:15:01.466Z"
   },
   {
    "duration": 25,
    "start_time": "2022-05-05T20:15:01.531Z"
   },
   {
    "duration": 67,
    "start_time": "2022-05-05T20:15:01.558Z"
   },
   {
    "duration": 92,
    "start_time": "2022-05-05T20:15:01.627Z"
   },
   {
    "duration": 36,
    "start_time": "2022-05-05T20:15:01.721Z"
   },
   {
    "duration": 958,
    "start_time": "2022-05-05T20:15:01.758Z"
   },
   {
    "duration": 0,
    "start_time": "2022-05-05T20:15:02.718Z"
   },
   {
    "duration": 0,
    "start_time": "2022-05-05T20:15:02.719Z"
   },
   {
    "duration": 0,
    "start_time": "2022-05-05T20:15:02.721Z"
   },
   {
    "duration": 0,
    "start_time": "2022-05-05T20:15:02.722Z"
   },
   {
    "duration": 0,
    "start_time": "2022-05-05T20:15:02.723Z"
   },
   {
    "duration": 0,
    "start_time": "2022-05-05T20:15:02.724Z"
   },
   {
    "duration": 0,
    "start_time": "2022-05-05T20:15:02.725Z"
   },
   {
    "duration": 0,
    "start_time": "2022-05-05T20:15:02.727Z"
   },
   {
    "duration": 0,
    "start_time": "2022-05-05T20:15:02.728Z"
   },
   {
    "duration": 0,
    "start_time": "2022-05-05T20:15:02.729Z"
   },
   {
    "duration": 0,
    "start_time": "2022-05-05T20:15:02.731Z"
   },
   {
    "duration": 0,
    "start_time": "2022-05-05T20:15:02.732Z"
   },
   {
    "duration": 0,
    "start_time": "2022-05-05T20:15:02.734Z"
   },
   {
    "duration": 0,
    "start_time": "2022-05-05T20:15:02.735Z"
   },
   {
    "duration": 0,
    "start_time": "2022-05-05T20:15:02.736Z"
   },
   {
    "duration": 0,
    "start_time": "2022-05-05T20:15:02.737Z"
   },
   {
    "duration": 0,
    "start_time": "2022-05-05T20:15:02.738Z"
   },
   {
    "duration": 0,
    "start_time": "2022-05-05T20:15:02.740Z"
   },
   {
    "duration": 0,
    "start_time": "2022-05-05T20:15:02.741Z"
   },
   {
    "duration": 6650,
    "start_time": "2022-05-05T20:16:03.915Z"
   },
   {
    "duration": 12,
    "start_time": "2022-05-05T20:16:15.077Z"
   },
   {
    "duration": 93,
    "start_time": "2022-05-05T20:16:19.505Z"
   },
   {
    "duration": 4,
    "start_time": "2022-05-05T20:16:24.572Z"
   },
   {
    "duration": 765,
    "start_time": "2022-05-05T20:16:24.578Z"
   },
   {
    "duration": 138,
    "start_time": "2022-05-05T20:16:25.345Z"
   },
   {
    "duration": 418,
    "start_time": "2022-05-05T20:16:25.486Z"
   },
   {
    "duration": 833,
    "start_time": "2022-05-05T20:16:25.907Z"
   },
   {
    "duration": 139,
    "start_time": "2022-05-05T20:16:26.742Z"
   },
   {
    "duration": 24,
    "start_time": "2022-05-05T20:16:26.883Z"
   },
   {
    "duration": 282,
    "start_time": "2022-05-05T20:16:26.909Z"
   },
   {
    "duration": 255,
    "start_time": "2022-05-05T20:16:27.193Z"
   },
   {
    "duration": 311,
    "start_time": "2022-05-05T20:16:27.451Z"
   },
   {
    "duration": 23,
    "start_time": "2022-05-05T20:16:27.764Z"
   },
   {
    "duration": 344,
    "start_time": "2022-05-05T20:16:27.789Z"
   },
   {
    "duration": 20,
    "start_time": "2022-05-05T20:16:28.134Z"
   },
   {
    "duration": 52,
    "start_time": "2022-05-05T20:16:28.155Z"
   },
   {
    "duration": 20,
    "start_time": "2022-05-05T20:16:28.209Z"
   },
   {
    "duration": 30,
    "start_time": "2022-05-05T20:16:28.231Z"
   },
   {
    "duration": 45,
    "start_time": "2022-05-05T20:16:28.263Z"
   },
   {
    "duration": 41,
    "start_time": "2022-05-05T20:16:28.310Z"
   },
   {
    "duration": 8,
    "start_time": "2022-05-05T20:16:28.353Z"
   },
   {
    "duration": 46,
    "start_time": "2022-05-05T20:16:28.363Z"
   },
   {
    "duration": 6589,
    "start_time": "2022-05-05T20:16:28.411Z"
   },
   {
    "duration": 15,
    "start_time": "2022-05-05T20:16:35.002Z"
   },
   {
    "duration": 112,
    "start_time": "2022-05-05T20:16:35.019Z"
   },
   {
    "duration": 878,
    "start_time": "2022-05-05T20:16:35.132Z"
   },
   {
    "duration": 225,
    "start_time": "2022-05-05T20:16:36.012Z"
   },
   {
    "duration": 469,
    "start_time": "2022-05-05T20:16:36.238Z"
   },
   {
    "duration": 26,
    "start_time": "2022-05-05T20:16:36.709Z"
   },
   {
    "duration": 257,
    "start_time": "2022-05-05T20:16:36.739Z"
   },
   {
    "duration": 24,
    "start_time": "2022-05-05T20:16:36.998Z"
   },
   {
    "duration": 3,
    "start_time": "2022-05-05T20:16:37.024Z"
   },
   {
    "duration": 57,
    "start_time": "2022-05-05T20:16:37.028Z"
   },
   {
    "duration": 27425,
    "start_time": "2022-05-05T20:16:37.087Z"
   },
   {
    "duration": 197,
    "start_time": "2022-05-05T20:17:04.513Z"
   },
   {
    "duration": 5,
    "start_time": "2022-05-05T20:17:04.713Z"
   },
   {
    "duration": 4,
    "start_time": "2022-05-05T20:17:04.807Z"
   },
   {
    "duration": 152005,
    "start_time": "2022-05-05T20:17:04.813Z"
   },
   {
    "duration": 1011,
    "start_time": "2022-05-05T20:19:36.820Z"
   },
   {
    "duration": 4,
    "start_time": "2022-05-05T20:19:37.833Z"
   },
   {
    "duration": 56298,
    "start_time": "2022-05-05T20:19:37.839Z"
   },
   {
    "duration": 62,
    "start_time": "2022-05-05T20:20:34.139Z"
   },
   {
    "duration": 1450,
    "start_time": "2022-05-06T14:05:26.121Z"
   },
   {
    "duration": 830,
    "start_time": "2022-05-06T14:05:27.573Z"
   },
   {
    "duration": 134,
    "start_time": "2022-05-06T14:05:28.405Z"
   },
   {
    "duration": 500,
    "start_time": "2022-05-06T14:05:28.542Z"
   },
   {
    "duration": 1011,
    "start_time": "2022-05-06T14:05:29.044Z"
   },
   {
    "duration": 133,
    "start_time": "2022-05-06T14:05:30.057Z"
   },
   {
    "duration": 16,
    "start_time": "2022-05-06T14:05:30.192Z"
   },
   {
    "duration": 327,
    "start_time": "2022-05-06T14:05:30.209Z"
   },
   {
    "duration": 249,
    "start_time": "2022-05-06T14:05:30.537Z"
   },
   {
    "duration": 696,
    "start_time": "2022-05-06T14:05:30.789Z"
   },
   {
    "duration": 33,
    "start_time": "2022-05-06T14:05:31.487Z"
   },
   {
    "duration": 349,
    "start_time": "2022-05-06T14:05:31.521Z"
   },
   {
    "duration": 22,
    "start_time": "2022-05-06T14:05:31.872Z"
   },
   {
    "duration": 74,
    "start_time": "2022-05-06T14:05:31.896Z"
   },
   {
    "duration": 21,
    "start_time": "2022-05-06T14:05:31.971Z"
   },
   {
    "duration": 69,
    "start_time": "2022-05-06T14:05:31.995Z"
   },
   {
    "duration": 33,
    "start_time": "2022-05-06T14:05:32.066Z"
   },
   {
    "duration": 56,
    "start_time": "2022-05-06T14:05:32.101Z"
   },
   {
    "duration": 111,
    "start_time": "2022-05-06T14:05:32.159Z"
   },
   {
    "duration": 75,
    "start_time": "2022-05-06T14:05:32.272Z"
   },
   {
    "duration": 6801,
    "start_time": "2022-05-06T14:05:32.349Z"
   },
   {
    "duration": 13,
    "start_time": "2022-05-06T14:05:39.154Z"
   },
   {
    "duration": 100,
    "start_time": "2022-05-06T14:05:39.169Z"
   },
   {
    "duration": 962,
    "start_time": "2022-05-06T14:05:39.271Z"
   },
   {
    "duration": 210,
    "start_time": "2022-05-06T14:05:40.235Z"
   },
   {
    "duration": 468,
    "start_time": "2022-05-06T14:05:40.447Z"
   },
   {
    "duration": 24,
    "start_time": "2022-05-06T14:05:40.917Z"
   },
   {
    "duration": 252,
    "start_time": "2022-05-06T14:05:40.957Z"
   },
   {
    "duration": 22,
    "start_time": "2022-05-06T14:05:41.210Z"
   },
   {
    "duration": 32,
    "start_time": "2022-05-06T14:05:41.234Z"
   },
   {
    "duration": 86,
    "start_time": "2022-05-06T14:05:41.268Z"
   },
   {
    "duration": 21204,
    "start_time": "2022-05-06T14:05:41.356Z"
   },
   {
    "duration": 195,
    "start_time": "2022-05-06T14:06:02.561Z"
   },
   {
    "duration": 97,
    "start_time": "2022-05-06T14:06:02.758Z"
   },
   {
    "duration": 3,
    "start_time": "2022-05-06T14:06:02.857Z"
   },
   {
    "duration": 8097,
    "start_time": "2022-05-06T14:06:02.862Z"
   },
   {
    "duration": 948,
    "start_time": "2022-05-06T14:06:10.961Z"
   },
   {
    "duration": 47,
    "start_time": "2022-05-06T14:06:11.911Z"
   },
   {
    "duration": 60143,
    "start_time": "2022-05-06T14:06:11.960Z"
   },
   {
    "duration": 57,
    "start_time": "2022-05-06T14:07:12.105Z"
   }
  ],
  "kernelspec": {
   "display_name": "Python 3 (ipykernel)",
   "language": "python",
   "name": "python3"
  },
  "language_info": {
   "codemirror_mode": {
    "name": "ipython",
    "version": 3
   },
   "file_extension": ".py",
   "mimetype": "text/x-python",
   "name": "python",
   "nbconvert_exporter": "python",
   "pygments_lexer": "ipython3",
   "version": "3.9.7"
  },
  "toc": {
   "base_numbering": 1,
   "nav_menu": {},
   "number_sections": true,
   "sideBar": true,
   "skip_h1_title": true,
   "title_cell": "Table of Contents",
   "title_sidebar": "Contents",
   "toc_cell": false,
   "toc_position": {
    "height": "calc(100% - 180px)",
    "left": "10px",
    "top": "150px",
    "width": "228.391px"
   },
   "toc_section_display": true,
   "toc_window_display": true
  }
 },
 "nbformat": 4,
 "nbformat_minor": 2
}
