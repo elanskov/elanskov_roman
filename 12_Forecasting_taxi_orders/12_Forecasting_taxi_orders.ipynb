{
 "cells": [
  {
   "cell_type": "markdown",
   "metadata": {
    "toc": true
   },
   "source": [
    "<h1>Содержание<span class=\"tocSkip\"></span></h1>\n",
    "<div class=\"toc\"><ul class=\"toc-item\"><li><span><a href=\"#Подготовка\" data-toc-modified-id=\"Подготовка-1\"><span class=\"toc-item-num\">1&nbsp;&nbsp;</span>Подготовка</a></span></li><li><span><a href=\"#Анализ\" data-toc-modified-id=\"Анализ-2\"><span class=\"toc-item-num\">2&nbsp;&nbsp;</span>Анализ</a></span><ul class=\"toc-item\"><li><span><a href=\"#Анализ-данных\" data-toc-modified-id=\"Анализ-данных-2.1\"><span class=\"toc-item-num\">2.1&nbsp;&nbsp;</span>Анализ данных</a></span></li><li><span><a href=\"#Создание-признаков\" data-toc-modified-id=\"Создание-признаков-2.2\"><span class=\"toc-item-num\">2.2&nbsp;&nbsp;</span>Создание признаков</a></span></li></ul></li><li><span><a href=\"#Обучение\" data-toc-modified-id=\"Обучение-3\"><span class=\"toc-item-num\">3&nbsp;&nbsp;</span>Обучение</a></span><ul class=\"toc-item\"><li><span><a href=\"#CatBoost\" data-toc-modified-id=\"CatBoost-3.1\"><span class=\"toc-item-num\">3.1&nbsp;&nbsp;</span>CatBoost</a></span></li><li><span><a href=\"#LinearRegression\" data-toc-modified-id=\"LinearRegression-3.2\"><span class=\"toc-item-num\">3.2&nbsp;&nbsp;</span>LinearRegression</a></span></li></ul></li><li><span><a href=\"#Тестирование\" data-toc-modified-id=\"Тестирование-4\"><span class=\"toc-item-num\">4&nbsp;&nbsp;</span>Тестирование</a></span></li><li><span><a href=\"#Вывод\" data-toc-modified-id=\"Вывод-5\"><span class=\"toc-item-num\">5&nbsp;&nbsp;</span>Вывод</a></span></li><li><span><a href=\"#Чек-лист-проверки\" data-toc-modified-id=\"Чек-лист-проверки-6\"><span class=\"toc-item-num\">6&nbsp;&nbsp;</span>Чек-лист проверки</a></span></li></ul></div>"
   ]
  },
  {
   "cell_type": "markdown",
   "metadata": {},
   "source": [
    "#  Прогнозирование заказов такси"
   ]
  },
  {
   "cell_type": "markdown",
   "metadata": {},
   "source": [
    "Компания «Чётенькое такси» собрала исторические данные о заказах такси в аэропортах. Чтобы привлекать больше водителей в период пиковой нагрузки, нужно спрогнозировать количество заказов такси на следующий час. Постройте модель для такого предсказания.\n",
    "\n",
    "Значение метрики *RMSE* на тестовой выборке должно быть не больше 48.\n",
    "\n",
    "Вам нужно:\n",
    "\n",
    "1. Загрузить данные и выполнить их ресемплирование по одному часу.\n",
    "2. Проанализировать данные.\n",
    "3. Обучить разные модели с различными гиперпараметрами. Сделать тестовую выборку размером 10% от исходных данных.\n",
    "4. Проверить данные на тестовой выборке и сделать выводы.\n",
    "\n",
    "\n",
    "Данные лежат в файле `taxi.csv`. Количество заказов находится в столбце `num_orders` (от англ. *number of orders*, «число заказов»)."
   ]
  },
  {
   "cell_type": "markdown",
   "metadata": {},
   "source": [
    "## Подготовка"
   ]
  },
  {
   "cell_type": "markdown",
   "metadata": {},
   "source": [
    "Импортируем нужные инструменты:"
   ]
  },
  {
   "cell_type": "code",
   "execution_count": 33,
   "metadata": {},
   "outputs": [],
   "source": [
    "import pandas as pd\n",
    "\n",
    "from statsmodels.tsa.seasonal import seasonal_decompose\n",
    "\n",
    "import matplotlib.pyplot as plt\n",
    "import seaborn as sns\n",
    "\n",
    "from sklearn.linear_model import LinearRegression\n",
    "from catboost import CatBoostRegressor\n",
    "from sklearn.dummy import DummyRegressor\n",
    "\n",
    "from sklearn.model_selection import train_test_split\n",
    "from sklearn.model_selection import TimeSeriesSplit\n",
    "from sklearn.metrics import mean_squared_error\n",
    "\n",
    "from statsmodels.tsa.seasonal import seasonal_decompose\n",
    "import statsmodels.graphics.tsaplots as sgt\n",
    "import statsmodels.tsa.stattools as sts"
   ]
  },
  {
   "cell_type": "code",
   "execution_count": 34,
   "metadata": {},
   "outputs": [
    {
     "name": "stdout",
     "output_type": "stream",
     "text": [
      "<class 'pandas.core.frame.DataFrame'>\n",
      "DatetimeIndex: 26496 entries, 2018-03-01 00:00:00 to 2018-08-31 23:50:00\n",
      "Data columns (total 1 columns):\n",
      " #   Column      Non-Null Count  Dtype\n",
      "---  ------      --------------  -----\n",
      " 0   num_orders  26496 non-null  int64\n",
      "dtypes: int64(1)\n",
      "memory usage: 414.0 KB\n"
     ]
    }
   ],
   "source": [
    "df = pd.read_csv('/datasets/taxi.csv', parse_dates=[0], index_col=[0])\n",
    "df.info()"
   ]
  },
  {
   "cell_type": "code",
   "execution_count": 35,
   "metadata": {},
   "outputs": [
    {
     "data": {
      "text/html": [
       "<div>\n",
       "<style scoped>\n",
       "    .dataframe tbody tr th:only-of-type {\n",
       "        vertical-align: middle;\n",
       "    }\n",
       "\n",
       "    .dataframe tbody tr th {\n",
       "        vertical-align: top;\n",
       "    }\n",
       "\n",
       "    .dataframe thead th {\n",
       "        text-align: right;\n",
       "    }\n",
       "</style>\n",
       "<table border=\"1\" class=\"dataframe\">\n",
       "  <thead>\n",
       "    <tr style=\"text-align: right;\">\n",
       "      <th></th>\n",
       "      <th>num_orders</th>\n",
       "    </tr>\n",
       "    <tr>\n",
       "      <th>datetime</th>\n",
       "      <th></th>\n",
       "    </tr>\n",
       "  </thead>\n",
       "  <tbody>\n",
       "    <tr>\n",
       "      <th>2018-03-01 00:00:00</th>\n",
       "      <td>9</td>\n",
       "    </tr>\n",
       "    <tr>\n",
       "      <th>2018-03-01 00:10:00</th>\n",
       "      <td>14</td>\n",
       "    </tr>\n",
       "    <tr>\n",
       "      <th>2018-03-01 00:20:00</th>\n",
       "      <td>28</td>\n",
       "    </tr>\n",
       "    <tr>\n",
       "      <th>2018-03-01 00:30:00</th>\n",
       "      <td>20</td>\n",
       "    </tr>\n",
       "    <tr>\n",
       "      <th>2018-03-01 00:40:00</th>\n",
       "      <td>32</td>\n",
       "    </tr>\n",
       "  </tbody>\n",
       "</table>\n",
       "</div>"
      ],
      "text/plain": [
       "                     num_orders\n",
       "datetime                       \n",
       "2018-03-01 00:00:00           9\n",
       "2018-03-01 00:10:00          14\n",
       "2018-03-01 00:20:00          28\n",
       "2018-03-01 00:30:00          20\n",
       "2018-03-01 00:40:00          32"
      ]
     },
     "execution_count": 35,
     "metadata": {},
     "output_type": "execute_result"
    }
   ],
   "source": [
    "df.head()"
   ]
  },
  {
   "cell_type": "code",
   "execution_count": 36,
   "metadata": {},
   "outputs": [
    {
     "data": {
      "text/plain": [
       "num_orders    0\n",
       "dtype: int64"
      ]
     },
     "execution_count": 36,
     "metadata": {},
     "output_type": "execute_result"
    }
   ],
   "source": [
    "#проверим пропуски:\n",
    "df.isna().sum()"
   ]
  },
  {
   "cell_type": "markdown",
   "metadata": {},
   "source": [
    "Данные загрузили, пропусков нет. При помощи аргументов при импорте данных сделали строку с датами индексной. Данные отсортированы по 10 минут. Применим ресемплирование и сделаем интервал часовым:"
   ]
  },
  {
   "cell_type": "code",
   "execution_count": 37,
   "metadata": {},
   "outputs": [
    {
     "data": {
      "text/html": [
       "<div>\n",
       "<style scoped>\n",
       "    .dataframe tbody tr th:only-of-type {\n",
       "        vertical-align: middle;\n",
       "    }\n",
       "\n",
       "    .dataframe tbody tr th {\n",
       "        vertical-align: top;\n",
       "    }\n",
       "\n",
       "    .dataframe thead th {\n",
       "        text-align: right;\n",
       "    }\n",
       "</style>\n",
       "<table border=\"1\" class=\"dataframe\">\n",
       "  <thead>\n",
       "    <tr style=\"text-align: right;\">\n",
       "      <th></th>\n",
       "      <th>num_orders</th>\n",
       "    </tr>\n",
       "    <tr>\n",
       "      <th>datetime</th>\n",
       "      <th></th>\n",
       "    </tr>\n",
       "  </thead>\n",
       "  <tbody>\n",
       "    <tr>\n",
       "      <th>2018-03-01 00:00:00</th>\n",
       "      <td>124</td>\n",
       "    </tr>\n",
       "    <tr>\n",
       "      <th>2018-03-01 01:00:00</th>\n",
       "      <td>85</td>\n",
       "    </tr>\n",
       "    <tr>\n",
       "      <th>2018-03-01 02:00:00</th>\n",
       "      <td>71</td>\n",
       "    </tr>\n",
       "    <tr>\n",
       "      <th>2018-03-01 03:00:00</th>\n",
       "      <td>66</td>\n",
       "    </tr>\n",
       "    <tr>\n",
       "      <th>2018-03-01 04:00:00</th>\n",
       "      <td>43</td>\n",
       "    </tr>\n",
       "  </tbody>\n",
       "</table>\n",
       "</div>"
      ],
      "text/plain": [
       "                     num_orders\n",
       "datetime                       \n",
       "2018-03-01 00:00:00         124\n",
       "2018-03-01 01:00:00          85\n",
       "2018-03-01 02:00:00          71\n",
       "2018-03-01 03:00:00          66\n",
       "2018-03-01 04:00:00          43"
      ]
     },
     "execution_count": 37,
     "metadata": {},
     "output_type": "execute_result"
    }
   ],
   "source": [
    "df = df.resample('1H').sum()\n",
    "df.head()"
   ]
  },
  {
   "cell_type": "markdown",
   "metadata": {},
   "source": [
    "Осталось проверить индекс на последовательность:"
   ]
  },
  {
   "cell_type": "code",
   "execution_count": 38,
   "metadata": {},
   "outputs": [
    {
     "data": {
      "text/plain": [
       "True"
      ]
     },
     "execution_count": 38,
     "metadata": {},
     "output_type": "execute_result"
    }
   ],
   "source": [
    "df.index.is_monotonic"
   ]
  },
  {
   "cell_type": "markdown",
   "metadata": {},
   "source": [
    "Успех. Данные последовательны. Переходим к анализу."
   ]
  },
  {
   "cell_type": "markdown",
   "metadata": {},
   "source": [
    "## Анализ"
   ]
  },
  {
   "cell_type": "markdown",
   "metadata": {},
   "source": [
    "### Анализ данных"
   ]
  },
  {
   "cell_type": "markdown",
   "metadata": {},
   "source": [
    "Разложим временной ряд на сезонную составляющую, тренд и остаточные данные. Отобразим данные на графиках. "
   ]
  },
  {
   "cell_type": "code",
   "execution_count": 39,
   "metadata": {},
   "outputs": [
    {
     "data": {
      "image/png": "[encoded data removed]",
      "text/plain": [
       "<Figure size 1440x576 with 3 Axes>"
      ]
     },
     "metadata": {},
     "output_type": "display_data"
    }
   ],
   "source": [
    "decomposed = seasonal_decompose(df.num_orders)\n",
    "\n",
    "plt.figure(figsize=(20, 8))\n",
    "\n",
    "plt.subplot(311)\n",
    "decomposed.trend.plot(ax=plt.gca())\n",
    "plt.title('Trend', size=16)\n",
    "\n",
    "plt.subplot(312)\n",
    "decomposed.seasonal.plot(ax=plt.gca())\n",
    "plt.title('Seasonality', size=16)\n",
    "\n",
    "plt.subplot(313)\n",
    "decomposed.resid.plot(ax=plt.gca())\n",
    "plt.title('Residuals', size=16)\n",
    "\n",
    "plt.tight_layout()"
   ]
  },
  {
   "cell_type": "markdown",
   "metadata": {},
   "source": [
    "Тренд явно восходящий, осенью люди стали заметно чаще пользоваться такси. Сезонность прослеживается ежедневно. Для лучшего качества модели, стоит создать еще признаки. "
   ]
  },
  {
   "cell_type": "code",
   "execution_count": 40,
   "metadata": {},
   "outputs": [
    {
     "data": {
      "text/plain": [
       "<AxesSubplot:title={'center':'Seasonal'}, xlabel='datetime'>"
      ]
     },
     "execution_count": 40,
     "metadata": {},
     "output_type": "execute_result"
    },
    {
     "data": {
      "image/png": "[encoded data removed]",
      "text/plain": [
       "<Figure size 432x288 with 1 Axes>"
      ]
     },
     "metadata": {},
     "output_type": "display_data"
    }
   ],
   "source": [
    "decomposed.seasonal['2018-04-01' : '2018-04-02'].plot(title='Seasonal')"
   ]
  },
  {
   "cell_type": "markdown",
   "metadata": {},
   "source": [
    "Самый низкий спрос в 6 утра. Самый высокий в полночь. И так изо дня в день. "
   ]
  },
  {
   "cell_type": "markdown",
   "metadata": {},
   "source": [
    "Проверяем стационарность ряда тестом Дики — Фуллера. Для этого выдвинем две гипотезы - нулевую и альтернативную. \n",
    "\n",
    "- Нулевая гипотеза: ряд не стационарен\n",
    "- Альтернативная: ряд стационарен"
   ]
  },
  {
   "cell_type": "code",
   "execution_count": 41,
   "metadata": {},
   "outputs": [
    {
     "data": {
      "text/plain": [
       "-3.068924289027945"
      ]
     },
     "execution_count": 41,
     "metadata": {},
     "output_type": "execute_result"
    }
   ],
   "source": [
    "test_stat, p_val, _, _, crit_val, _ = sts.adfuller(df.num_orders)\n",
    "test_stat"
   ]
  },
  {
   "cell_type": "code",
   "execution_count": 42,
   "metadata": {},
   "outputs": [
    {
     "data": {
      "text/plain": [
       "0.028940051402613794"
      ]
     },
     "execution_count": 42,
     "metadata": {},
     "output_type": "execute_result"
    }
   ],
   "source": [
    "p_val"
   ]
  },
  {
   "cell_type": "code",
   "execution_count": 43,
   "metadata": {},
   "outputs": [
    {
     "data": {
      "text/plain": [
       "{'1%': -3.431842162413052,\n",
       " '5%': -2.8621993540813637,\n",
       " '10%': -2.567120978470452}"
      ]
     },
     "execution_count": 43,
     "metadata": {},
     "output_type": "execute_result"
    }
   ],
   "source": [
    "crit_val"
   ]
  },
  {
   "cell_type": "markdown",
   "metadata": {},
   "source": [
    "p-значение меньше 0.05, значение статистики меньше критических на 5%  уровня значимости: нулевую гипотезу можно отвергнуть и признать ряд стационарным. "
   ]
  },
  {
   "cell_type": "markdown",
   "metadata": {},
   "source": [
    "### Создание признаков"
   ]
  },
  {
   "cell_type": "markdown",
   "metadata": {},
   "source": [
    "Для улучшения качества модели, создадим несколько признаков. "
   ]
  },
  {
   "cell_type": "code",
   "execution_count": 44,
   "metadata": {},
   "outputs": [],
   "source": [
    "# cоздадим специально для этого функцию:\n",
    "def make_features(df, max_lag, rolling):\n",
    "    df['day'] = df.index.day # добавим день\n",
    "    df['hour'] = df.index.hour # добавим час\n",
    "    df['dayofweek'] = df.index.dayofweek # и добавим день недели\n",
    " \n",
    "    for lag in range(1, max_lag + 1):\n",
    "        df['lag_{}'.format(lag)] = df['num_orders'].shift(2*lag)\n",
    " \n",
    "    for i, roll in zip(range(len(rolling)), rolling):\n",
    "        df['rolling_mean_{}'.format(i)] = df['num_orders'].shift().rolling(roll).mean()"
   ]
  },
  {
   "cell_type": "markdown",
   "metadata": {},
   "source": [
    "Добавим признаки отстающих значений и скользящее среднее"
   ]
  },
  {
   "cell_type": "code",
   "execution_count": 45,
   "metadata": {},
   "outputs": [],
   "source": [
    "rolling = [5, 13]\n",
    "make_features(df, 8, rolling)"
   ]
  },
  {
   "cell_type": "markdown",
   "metadata": {},
   "source": [
    "Разделим датасет на обучающую и тестовую выборку в соотношении 9:1"
   ]
  },
  {
   "cell_type": "code",
   "execution_count": 46,
   "metadata": {},
   "outputs": [],
   "source": [
    "features_train, features_test, target_train, target_test = train_test_split(\n",
    "    df.drop(['num_orders'], axis=1), df['num_orders'], test_size=0.1, shuffle=False, random_state=12345) "
   ]
  },
  {
   "cell_type": "markdown",
   "metadata": {},
   "source": [
    "## Обучение"
   ]
  },
  {
   "cell_type": "markdown",
   "metadata": {},
   "source": [
    "### CatBoost"
   ]
  },
  {
   "cell_type": "markdown",
   "metadata": {},
   "source": [
    "Обучим две модели - линейную регрессию и CatBoost. Подберем сначала параметры для CatBoost."
   ]
  },
  {
   "cell_type": "code",
   "execution_count": 47,
   "metadata": {},
   "outputs": [
    {
     "data": {
      "application/vnd.jupyter.widget-view+json": {
       "model_id": "a3d25ac8333e4c4cad30a0424e0da621",
       "version_major": 2,
       "version_minor": 0
      },
      "text/plain": [
       "MetricVisualizer(layout=Layout(align_self='stretch', height='500px'))"
      ]
     },
     "metadata": {},
     "output_type": "display_data"
    },
    {
     "name": "stdout",
     "output_type": "stream",
     "text": [
      "0:\tlearn: 77.1095442\ttest: 112.3772348\tbest: 112.3772348 (0)\ttotal: 2.45ms\tremaining: 2.44s\n",
      "100:\tlearn: 23.9108599\ttest: 41.7282655\tbest: 41.7282655 (100)\ttotal: 202ms\tremaining: 1.8s\n",
      "200:\tlearn: 21.2974409\ttest: 35.1663086\tbest: 35.1663086 (200)\ttotal: 386ms\tremaining: 1.53s\n",
      "300:\tlearn: 20.2196377\ttest: 33.0526492\tbest: 33.0526492 (300)\ttotal: 592ms\tremaining: 1.37s\n",
      "400:\tlearn: 19.4927819\ttest: 32.1726660\tbest: 32.1726660 (400)\ttotal: 781ms\tremaining: 1.17s\n",
      "500:\tlearn: 18.9548480\ttest: 31.8424094\tbest: 31.8384657 (499)\ttotal: 986ms\tremaining: 982ms\n",
      "600:\tlearn: 18.5116825\ttest: 31.6729220\tbest: 31.6438857 (593)\ttotal: 1.18s\tremaining: 781ms\n",
      "700:\tlearn: 18.0535940\ttest: 31.5494209\tbest: 31.5352841 (675)\ttotal: 1.37s\tremaining: 583ms\n",
      "800:\tlearn: 17.6411851\ttest: 31.5043789\tbest: 31.4969884 (758)\ttotal: 1.55s\tremaining: 385ms\n",
      "900:\tlearn: 17.2754632\ttest: 31.5609381\tbest: 31.4785258 (825)\ttotal: 1.75s\tremaining: 192ms\n",
      "999:\tlearn: 16.9124026\ttest: 31.5288706\tbest: 31.4785258 (825)\ttotal: 1.93s\tremaining: 0us\n",
      "\n",
      "bestTest = 31.47852578\n",
      "bestIteration = 825\n",
      "\n",
      "0:\tloss: 31.4785258\tbest: 31.4785258 (0)\ttotal: 2.7s\tremaining: 1m 58s\n",
      "0:\tlearn: 77.1143665\ttest: 112.3921968\tbest: 112.3921968 (0)\ttotal: 1.56ms\tremaining: 1.56s\n",
      "100:\tlearn: 23.9722831\ttest: 42.2001550\tbest: 42.2001550 (100)\ttotal: 129ms\tremaining: 1.15s\n",
      "200:\tlearn: 21.3313025\ttest: 35.4151306\tbest: 35.4151306 (200)\ttotal: 262ms\tremaining: 1.04s\n",
      "300:\tlearn: 20.2892286\ttest: 33.2793137\tbest: 33.2793137 (300)\ttotal: 391ms\tremaining: 907ms\n",
      "400:\tlearn: 19.6091172\ttest: 32.3959737\tbest: 32.3939766 (398)\ttotal: 526ms\tremaining: 786ms\n",
      "500:\tlearn: 19.1200169\ttest: 31.9483719\tbest: 31.9483719 (500)\ttotal: 653ms\tremaining: 651ms\n",
      "600:\tlearn: 18.6935843\ttest: 31.7016059\tbest: 31.6955203 (595)\ttotal: 781ms\tremaining: 518ms\n",
      "700:\tlearn: 18.2644225\ttest: 31.5450311\tbest: 31.5380117 (698)\ttotal: 905ms\tremaining: 386ms\n",
      "800:\tlearn: 17.9059362\ttest: 31.3946351\tbest: 31.3911945 (786)\ttotal: 1.03s\tremaining: 256ms\n",
      "900:\tlearn: 17.5638198\ttest: 31.3467645\tbest: 31.3433725 (873)\ttotal: 1.16s\tremaining: 128ms\n",
      "999:\tlearn: 17.2272608\ttest: 31.2755243\tbest: 31.2695738 (989)\ttotal: 1.29s\tremaining: 0us\n",
      "\n",
      "bestTest = 31.26957384\n",
      "bestIteration = 989\n",
      "\n",
      "1:\tloss: 31.2695738\tbest: 31.2695738 (1)\ttotal: 4.01s\tremaining: 1m 26s\n",
      "0:\tlearn: 77.1231439\ttest: 112.4113268\tbest: 112.4113268 (0)\ttotal: 1.6ms\tremaining: 1.6s\n",
      "100:\tlearn: 24.1130352\ttest: 43.1411196\tbest: 43.1411196 (100)\ttotal: 133ms\tremaining: 1.18s\n",
      "200:\tlearn: 21.5040662\ttest: 35.8474160\tbest: 35.8474160 (200)\ttotal: 271ms\tremaining: 1.07s\n",
      "300:\tlearn: 20.5054038\ttest: 33.7346624\tbest: 33.7346624 (300)\ttotal: 397ms\tremaining: 923ms\n",
      "400:\tlearn: 19.7889573\ttest: 32.6986933\tbest: 32.6982472 (399)\ttotal: 523ms\tremaining: 781ms\n",
      "500:\tlearn: 19.3579604\ttest: 32.2503263\tbest: 32.2503263 (500)\ttotal: 650ms\tremaining: 648ms\n",
      "600:\tlearn: 18.9804111\ttest: 32.0158097\tbest: 32.0123935 (597)\ttotal: 784ms\tremaining: 520ms\n",
      "700:\tlearn: 18.5855864\ttest: 31.7931585\tbest: 31.7894686 (698)\ttotal: 910ms\tremaining: 388ms\n",
      "800:\tlearn: 18.2878332\ttest: 31.7218103\tbest: 31.7211870 (797)\ttotal: 1.03s\tremaining: 257ms\n",
      "900:\tlearn: 18.0197099\ttest: 31.6136965\tbest: 31.6123015 (898)\ttotal: 1.17s\tremaining: 128ms\n",
      "999:\tlearn: 17.7177793\ttest: 31.5096767\tbest: 31.4903738 (988)\ttotal: 1.3s\tremaining: 0us\n",
      "\n",
      "bestTest = 31.49037378\n",
      "bestIteration = 988\n",
      "\n",
      "2:\tloss: 31.4903738\tbest: 31.2695738 (1)\ttotal: 5.33s\tremaining: 1m 14s\n",
      "0:\tlearn: 77.1273141\ttest: 112.4188149\tbest: 112.4188149 (0)\ttotal: 1.6ms\tremaining: 1.6s\n",
      "100:\tlearn: 24.1904739\ttest: 43.3263538\tbest: 43.3263538 (100)\ttotal: 131ms\tremaining: 1.16s\n",
      "200:\tlearn: 21.5324335\ttest: 35.9185211\tbest: 35.9185211 (200)\ttotal: 262ms\tremaining: 1.04s\n",
      "300:\tlearn: 20.5333939\ttest: 33.8097723\tbest: 33.8097723 (300)\ttotal: 390ms\tremaining: 905ms\n",
      "400:\tlearn: 19.8171379\ttest: 32.7684142\tbest: 32.7684142 (400)\ttotal: 515ms\tremaining: 770ms\n",
      "500:\tlearn: 19.4082933\ttest: 32.4615499\tbest: 32.4599610 (499)\ttotal: 642ms\tremaining: 640ms\n",
      "600:\tlearn: 19.0826596\ttest: 32.3238181\tbest: 32.3238181 (600)\ttotal: 769ms\tremaining: 510ms\n",
      "700:\tlearn: 18.7201271\ttest: 32.1303893\tbest: 32.1297366 (697)\ttotal: 893ms\tremaining: 381ms\n",
      "800:\tlearn: 18.3747747\ttest: 31.9852106\tbest: 31.9844938 (798)\ttotal: 1.03s\tremaining: 255ms\n",
      "900:\tlearn: 18.0863360\ttest: 31.9288677\tbest: 31.9083832 (882)\ttotal: 1.16s\tremaining: 127ms\n",
      "999:\tlearn: 17.7887411\ttest: 31.8061445\tbest: 31.7858565 (992)\ttotal: 1.28s\tremaining: 0us\n",
      "\n",
      "bestTest = 31.78585654\n",
      "bestIteration = 992\n",
      "\n",
      "3:\tloss: 31.7858565\tbest: 31.2695738 (1)\ttotal: 6.64s\tremaining: 1m 8s\n",
      "0:\tlearn: 77.1313916\ttest: 112.4256455\tbest: 112.4256455 (0)\ttotal: 1.56ms\tremaining: 1.56s\n",
      "100:\tlearn: 24.2418310\ttest: 43.3755477\tbest: 43.3755477 (100)\ttotal: 132ms\tremaining: 1.17s\n",
      "200:\tlearn: 21.5465962\ttest: 36.1754933\tbest: 36.1754933 (200)\ttotal: 262ms\tremaining: 1.04s\n",
      "300:\tlearn: 20.5628097\ttest: 33.9957353\tbest: 33.9919235 (299)\ttotal: 393ms\tremaining: 913ms\n",
      "400:\tlearn: 19.8866206\ttest: 33.0553529\tbest: 33.0553529 (400)\ttotal: 521ms\tremaining: 778ms\n",
      "500:\tlearn: 19.4289534\ttest: 32.6537464\tbest: 32.6526131 (499)\ttotal: 649ms\tremaining: 646ms\n",
      "600:\tlearn: 19.0722680\ttest: 32.4949583\tbest: 32.4949583 (600)\ttotal: 787ms\tremaining: 522ms\n",
      "700:\tlearn: 18.7580536\ttest: 32.2777195\tbest: 32.2715583 (697)\ttotal: 909ms\tremaining: 388ms\n",
      "800:\tlearn: 18.4691490\ttest: 32.1879751\tbest: 32.1879751 (800)\ttotal: 1.04s\tremaining: 258ms\n",
      "900:\tlearn: 18.1925335\ttest: 32.0798048\tbest: 32.0724786 (848)\ttotal: 1.17s\tremaining: 128ms\n",
      "999:\tlearn: 17.9480250\ttest: 31.9511190\tbest: 31.9438406 (978)\ttotal: 1.29s\tremaining: 0us\n",
      "\n",
      "bestTest = 31.94384056\n",
      "bestIteration = 978\n",
      "\n",
      "4:\tloss: 31.9438406\tbest: 31.2695738 (1)\ttotal: 7.95s\tremaining: 1m 3s\n",
      "0:\tlearn: 77.1010130\ttest: 112.2978895\tbest: 112.2978895 (0)\ttotal: 2.09ms\tremaining: 2.08s\n",
      "100:\tlearn: 23.1442733\ttest: 41.3036812\tbest: 41.3036812 (100)\ttotal: 182ms\tremaining: 1.62s\n",
      "200:\tlearn: 20.6515369\ttest: 34.8715803\tbest: 34.8715803 (200)\ttotal: 369ms\tremaining: 1.47s\n",
      "300:\tlearn: 19.6140688\ttest: 33.0122768\tbest: 33.0122768 (300)\ttotal: 550ms\tremaining: 1.28s\n",
      "400:\tlearn: 18.7231811\ttest: 32.2841064\tbest: 32.2780677 (398)\ttotal: 738ms\tremaining: 1.1s\n",
      "500:\tlearn: 18.0951533\ttest: 31.9047406\tbest: 31.9038682 (496)\ttotal: 913ms\tremaining: 909ms\n",
      "600:\tlearn: 17.4944263\ttest: 31.7187189\tbest: 31.7187189 (600)\ttotal: 1.09s\tremaining: 725ms\n",
      "700:\tlearn: 16.9612911\ttest: 31.6001186\tbest: 31.5849927 (685)\ttotal: 1.26s\tremaining: 540ms\n",
      "800:\tlearn: 16.5049207\ttest: 31.6428679\tbest: 31.5849927 (685)\ttotal: 1.44s\tremaining: 358ms\n",
      "900:\tlearn: 16.0651650\ttest: 31.6256988\tbest: 31.5846956 (836)\ttotal: 1.62s\tremaining: 178ms\n",
      "999:\tlearn: 15.6368656\ttest: 31.6653112\tbest: 31.5829654 (910)\ttotal: 1.8s\tremaining: 0us\n",
      "\n",
      "bestTest = 31.58296536\n",
      "bestIteration = 910\n",
      "\n",
      "5:\tloss: 31.5829654\tbest: 31.2695738 (1)\ttotal: 9.77s\tremaining: 1m 3s\n",
      "0:\tlearn: 77.1080556\ttest: 112.3073906\tbest: 112.3073906 (0)\ttotal: 2.04ms\tremaining: 2.03s\n",
      "100:\tlearn: 23.4716988\ttest: 42.0130466\tbest: 42.0130466 (100)\ttotal: 177ms\tremaining: 1.57s\n",
      "200:\tlearn: 20.7827018\ttest: 35.5292986\tbest: 35.5292986 (200)\ttotal: 456ms\tremaining: 1.81s\n",
      "300:\tlearn: 19.6634824\ttest: 33.5733062\tbest: 33.5733062 (300)\ttotal: 629ms\tremaining: 1.46s\n",
      "400:\tlearn: 18.8716955\ttest: 32.7724443\tbest: 32.7700008 (399)\ttotal: 809ms\tremaining: 1.21s\n",
      "500:\tlearn: 18.3123179\ttest: 32.3491230\tbest: 32.3259238 (491)\ttotal: 994ms\tremaining: 990ms\n",
      "600:\tlearn: 17.8105474\ttest: 32.1683635\tbest: 32.1550576 (593)\ttotal: 1.18s\tremaining: 784ms\n",
      "700:\tlearn: 17.3111453\ttest: 32.0178947\tbest: 32.0111337 (679)\ttotal: 1.36s\tremaining: 579ms\n",
      "800:\tlearn: 16.8407581\ttest: 31.9295506\tbest: 31.9295506 (800)\ttotal: 1.54s\tremaining: 383ms\n",
      "900:\tlearn: 16.4481963\ttest: 31.9433525\tbest: 31.9168895 (835)\ttotal: 1.73s\tremaining: 190ms\n",
      "999:\tlearn: 16.0510682\ttest: 31.8990216\tbest: 31.8714887 (980)\ttotal: 1.9s\tremaining: 0us\n",
      "\n",
      "bestTest = 31.87148873\n",
      "bestIteration = 980\n",
      "\n",
      "6:\tloss: 31.8714887\tbest: 31.2695738 (1)\ttotal: 11.7s\tremaining: 1m 3s\n",
      "0:\tlearn: 77.1211401\ttest: 112.3231303\tbest: 112.3231303 (0)\ttotal: 1.86ms\tremaining: 1.86s\n",
      "100:\tlearn: 23.5053315\ttest: 42.6462704\tbest: 42.6462704 (100)\ttotal: 188ms\tremaining: 1.68s\n",
      "200:\tlearn: 20.8943240\ttest: 35.8521556\tbest: 35.8521556 (200)\ttotal: 372ms\tremaining: 1.48s\n",
      "300:\tlearn: 19.8989293\ttest: 33.9557165\tbest: 33.9535696 (299)\ttotal: 550ms\tremaining: 1.28s\n",
      "400:\tlearn: 19.2286366\ttest: 33.2997436\tbest: 33.2997436 (400)\ttotal: 737ms\tremaining: 1.1s\n",
      "500:\tlearn: 18.7159746\ttest: 32.9397241\tbest: 32.9290060 (493)\ttotal: 922ms\tremaining: 919ms\n",
      "600:\tlearn: 18.2331848\ttest: 32.6542819\tbest: 32.6530263 (599)\ttotal: 1.1s\tremaining: 730ms\n",
      "700:\tlearn: 17.8636522\ttest: 32.5333848\tbest: 32.5262882 (694)\ttotal: 1.28s\tremaining: 548ms\n",
      "800:\tlearn: 17.4320289\ttest: 32.4150477\tbest: 32.4150477 (800)\ttotal: 1.48s\tremaining: 368ms\n",
      "900:\tlearn: 17.0378718\ttest: 32.3604131\tbest: 32.3601919 (899)\ttotal: 1.67s\tremaining: 183ms\n",
      "999:\tlearn: 16.6290231\ttest: 32.2285413\tbest: 32.2252159 (995)\ttotal: 1.85s\tremaining: 0us\n",
      "\n",
      "bestTest = 32.22521586\n",
      "bestIteration = 995\n",
      "\n",
      "7:\tloss: 32.2252159\tbest: 31.2695738 (1)\ttotal: 13.6s\tremaining: 1m 2s\n",
      "0:\tlearn: 77.1273990\ttest: 112.3304106\tbest: 112.3304106 (0)\ttotal: 2.09ms\tremaining: 2.09s\n",
      "100:\tlearn: 23.6719489\ttest: 43.3169874\tbest: 43.3169874 (100)\ttotal: 187ms\tremaining: 1.66s\n",
      "200:\tlearn: 20.9982105\ttest: 36.2782517\tbest: 36.2782517 (200)\ttotal: 367ms\tremaining: 1.46s\n",
      "300:\tlearn: 19.9909106\ttest: 34.4966670\tbest: 34.4966670 (300)\ttotal: 543ms\tremaining: 1.26s\n",
      "400:\tlearn: 19.2152756\ttest: 33.5652300\tbest: 33.5649607 (398)\ttotal: 715ms\tremaining: 1.07s\n",
      "500:\tlearn: 18.7280226\ttest: 33.1560366\tbest: 33.1543128 (497)\ttotal: 897ms\tremaining: 893ms\n",
      "600:\tlearn: 18.3592790\ttest: 32.9039825\tbest: 32.9014898 (598)\ttotal: 1.08s\tremaining: 715ms\n",
      "700:\tlearn: 17.9534090\ttest: 32.7460406\tbest: 32.7419784 (691)\ttotal: 1.27s\tremaining: 541ms\n",
      "800:\tlearn: 17.5955761\ttest: 32.6312539\tbest: 32.6286484 (798)\ttotal: 1.44s\tremaining: 359ms\n",
      "900:\tlearn: 17.2154911\ttest: 32.4998204\tbest: 32.4977349 (895)\ttotal: 1.63s\tremaining: 179ms\n",
      "999:\tlearn: 16.8987958\ttest: 32.4344394\tbest: 32.4305794 (997)\ttotal: 1.8s\tremaining: 0us\n",
      "\n",
      "bestTest = 32.43057944\n",
      "bestIteration = 997\n",
      "\n",
      "8:\tloss: 32.4305794\tbest: 31.2695738 (1)\ttotal: 15.4s\tremaining: 1m 1s\n",
      "0:\tlearn: 77.1335232\ttest: 112.3374971\tbest: 112.3374971 (0)\ttotal: 2.23ms\tremaining: 2.23s\n",
      "100:\tlearn: 23.7083126\ttest: 43.3583301\tbest: 43.3583301 (100)\ttotal: 184ms\tremaining: 1.64s\n",
      "200:\tlearn: 21.0613047\ttest: 36.3135914\tbest: 36.3135914 (200)\ttotal: 372ms\tremaining: 1.48s\n",
      "300:\tlearn: 20.0641125\ttest: 34.4326056\tbest: 34.4326056 (300)\ttotal: 553ms\tremaining: 1.28s\n",
      "400:\tlearn: 19.3174437\ttest: 33.6700601\tbest: 33.6700601 (400)\ttotal: 745ms\tremaining: 1.11s\n",
      "500:\tlearn: 18.7867762\ttest: 33.1627910\tbest: 33.1627910 (500)\ttotal: 936ms\tremaining: 932ms\n",
      "600:\tlearn: 18.4575911\ttest: 33.0115699\tbest: 33.0115699 (600)\ttotal: 1.12s\tremaining: 747ms\n",
      "700:\tlearn: 18.0783487\ttest: 32.7922107\tbest: 32.7922107 (700)\ttotal: 1.32s\tremaining: 565ms\n",
      "800:\tlearn: 17.7773473\ttest: 32.6960918\tbest: 32.6927122 (794)\ttotal: 1.51s\tremaining: 375ms\n",
      "900:\tlearn: 17.4311713\ttest: 32.5614343\tbest: 32.5614343 (900)\ttotal: 1.69s\tremaining: 186ms\n",
      "999:\tlearn: 17.0999850\ttest: 32.4898320\tbest: 32.4847646 (997)\ttotal: 1.87s\tremaining: 0us\n",
      "\n",
      "bestTest = 32.48476465\n",
      "bestIteration = 997\n",
      "\n",
      "9:\tloss: 32.4847646\tbest: 31.2695738 (1)\ttotal: 17.3s\tremaining: 1m\n",
      "0:\tlearn: 77.1015333\ttest: 112.3132911\tbest: 112.3132911 (0)\ttotal: 4.06ms\tremaining: 4.05s\n",
      "100:\tlearn: 22.7319960\ttest: 41.2065527\tbest: 41.2065527 (100)\ttotal: 277ms\tremaining: 2.47s\n",
      "200:\tlearn: 19.9816173\ttest: 34.7991324\tbest: 34.7991324 (200)\ttotal: 564ms\tremaining: 2.24s\n",
      "300:\tlearn: 18.7653912\ttest: 33.3139127\tbest: 33.3046782 (299)\ttotal: 836ms\tremaining: 1.94s\n",
      "400:\tlearn: 17.8300354\ttest: 32.7195840\tbest: 32.6985827 (392)\ttotal: 1.11s\tremaining: 1.65s\n",
      "500:\tlearn: 17.1128110\ttest: 32.3607526\tbest: 32.3581343 (497)\ttotal: 1.37s\tremaining: 1.36s\n",
      "600:\tlearn: 16.4078672\ttest: 32.2822614\tbest: 32.2782034 (571)\ttotal: 1.64s\tremaining: 1.09s\n",
      "700:\tlearn: 15.7801291\ttest: 32.2500456\tbest: 32.2174508 (688)\ttotal: 1.91s\tremaining: 817ms\n",
      "800:\tlearn: 15.2040154\ttest: 32.1394577\tbest: 32.1188328 (789)\ttotal: 2.17s\tremaining: 540ms\n",
      "900:\tlearn: 14.6322508\ttest: 32.1175104\tbest: 32.1174934 (899)\ttotal: 2.46s\tremaining: 270ms\n",
      "999:\tlearn: 14.1015495\ttest: 32.1345668\tbest: 32.0948025 (932)\ttotal: 2.76s\tremaining: 0us\n",
      "\n",
      "bestTest = 32.09480251\n",
      "bestIteration = 932\n",
      "\n",
      "10:\tloss: 32.0948025\tbest: 31.2695738 (1)\ttotal: 20.1s\tremaining: 1m 2s\n",
      "0:\tlearn: 77.1086343\ttest: 112.3238075\tbest: 112.3238075 (0)\ttotal: 3.08ms\tremaining: 3.08s\n",
      "100:\tlearn: 22.8117323\ttest: 41.8472163\tbest: 41.8472163 (100)\ttotal: 289ms\tremaining: 2.57s\n",
      "200:\tlearn: 20.1479420\ttest: 35.3320293\tbest: 35.3320293 (200)\ttotal: 552ms\tremaining: 2.19s\n",
      "300:\tlearn: 19.0177105\ttest: 33.7773807\tbest: 33.7773807 (300)\ttotal: 837ms\tremaining: 1.94s\n",
      "400:\tlearn: 18.1564698\ttest: 33.0739579\tbest: 33.0671443 (399)\ttotal: 1.1s\tremaining: 1.65s\n",
      "500:\tlearn: 17.4980388\ttest: 32.7237132\tbest: 32.7237132 (500)\ttotal: 1.37s\tremaining: 1.37s\n",
      "600:\tlearn: 16.9339937\ttest: 32.5710207\tbest: 32.5710207 (600)\ttotal: 1.64s\tremaining: 1.09s\n",
      "700:\tlearn: 16.3631328\ttest: 32.5171186\tbest: 32.5148754 (695)\ttotal: 1.92s\tremaining: 821ms\n",
      "800:\tlearn: 15.8615574\ttest: 32.4478559\tbest: 32.4417906 (794)\ttotal: 2.19s\tremaining: 544ms\n",
      "900:\tlearn: 15.3022938\ttest: 32.4654726\tbest: 32.4399052 (846)\ttotal: 2.46s\tremaining: 271ms\n",
      "999:\tlearn: 14.8089955\ttest: 32.4540924\tbest: 32.4378883 (923)\ttotal: 2.72s\tremaining: 0us\n",
      "\n",
      "bestTest = 32.4378883\n",
      "bestIteration = 923\n",
      "\n",
      "11:\tloss: 32.4378883\tbest: 31.2695738 (1)\ttotal: 22.8s\tremaining: 1m 2s\n",
      "0:\tlearn: 77.1217657\ttest: 112.3403071\tbest: 112.3403071 (0)\ttotal: 2.79ms\tremaining: 2.79s\n",
      "100:\tlearn: 23.1755213\ttest: 43.2576654\tbest: 43.2576654 (100)\ttotal: 284ms\tremaining: 2.52s\n",
      "200:\tlearn: 20.3651805\ttest: 36.0697539\tbest: 36.0697539 (200)\ttotal: 557ms\tremaining: 2.21s\n",
      "300:\tlearn: 19.2744837\ttest: 34.4558525\tbest: 34.4558525 (300)\ttotal: 817ms\tremaining: 1.9s\n",
      "400:\tlearn: 18.5186867\ttest: 33.7463505\tbest: 33.7440582 (396)\ttotal: 1.07s\tremaining: 1.6s\n",
      "500:\tlearn: 18.0120839\ttest: 33.3979999\tbest: 33.3979999 (500)\ttotal: 1.35s\tremaining: 1.34s\n",
      "600:\tlearn: 17.5463878\ttest: 33.1909085\tbest: 33.1901155 (599)\ttotal: 1.61s\tremaining: 1.07s\n",
      "700:\tlearn: 17.0759141\ttest: 32.9751259\tbest: 32.9711197 (695)\ttotal: 1.87s\tremaining: 796ms\n",
      "800:\tlearn: 16.6302997\ttest: 32.8493203\tbest: 32.8468070 (798)\ttotal: 2.15s\tremaining: 535ms\n",
      "900:\tlearn: 16.1550059\ttest: 32.7665579\tbest: 32.7530203 (886)\ttotal: 2.47s\tremaining: 271ms\n",
      "999:\tlearn: 15.7548796\ttest: 32.7221857\tbest: 32.7178532 (986)\ttotal: 2.74s\tremaining: 0us\n",
      "\n",
      "bestTest = 32.71785317\n",
      "bestIteration = 986\n",
      "\n",
      "12:\tloss: 32.7178532\tbest: 31.2695738 (1)\ttotal: 25.6s\tremaining: 1m 3s\n",
      "0:\tlearn: 77.1280363\ttest: 112.3477553\tbest: 112.3477553 (0)\ttotal: 3.21ms\tremaining: 3.21s\n",
      "100:\tlearn: 23.2210689\ttest: 43.4941073\tbest: 43.4941073 (100)\ttotal: 273ms\tremaining: 2.43s\n",
      "200:\tlearn: 20.4704667\ttest: 36.1634716\tbest: 36.1634716 (200)\ttotal: 565ms\tremaining: 2.25s\n",
      "300:\tlearn: 19.4245054\ttest: 34.4857568\tbest: 34.4849164 (299)\ttotal: 845ms\tremaining: 1.96s\n",
      "400:\tlearn: 18.6101372\ttest: 33.7343016\tbest: 33.7343016 (400)\ttotal: 1.11s\tremaining: 1.66s\n",
      "500:\tlearn: 18.0249406\ttest: 33.4208709\tbest: 33.4206062 (499)\ttotal: 1.36s\tremaining: 1.36s\n",
      "600:\tlearn: 17.5835562\ttest: 33.2084441\tbest: 33.2080443 (592)\ttotal: 1.63s\tremaining: 1.08s\n",
      "700:\tlearn: 17.1690156\ttest: 33.0413370\tbest: 33.0376122 (697)\ttotal: 1.89s\tremaining: 808ms\n",
      "800:\tlearn: 16.6971246\ttest: 32.8680679\tbest: 32.8638543 (797)\ttotal: 2.16s\tremaining: 536ms\n",
      "900:\tlearn: 16.2546875\ttest: 32.7716460\tbest: 32.7716378 (898)\ttotal: 2.41s\tremaining: 265ms\n",
      "999:\tlearn: 15.8342859\ttest: 32.6989569\tbest: 32.6989569 (999)\ttotal: 2.69s\tremaining: 0us\n",
      "\n",
      "bestTest = 32.69895688\n",
      "bestIteration = 999\n",
      "\n",
      "13:\tloss: 32.6989569\tbest: 31.2695738 (1)\ttotal: 28.3s\tremaining: 1m 2s\n",
      "0:\tlearn: 77.1341688\ttest: 112.3549493\tbest: 112.3549493 (0)\ttotal: 3.34ms\tremaining: 3.33s\n",
      "100:\tlearn: 23.4083151\ttest: 43.9554023\tbest: 43.9554023 (100)\ttotal: 271ms\tremaining: 2.41s\n",
      "200:\tlearn: 20.5770845\ttest: 36.4847238\tbest: 36.4847238 (200)\ttotal: 540ms\tremaining: 2.15s\n",
      "300:\tlearn: 19.5345351\ttest: 34.7034581\tbest: 34.7034581 (300)\ttotal: 809ms\tremaining: 1.88s\n",
      "400:\tlearn: 18.7188617\ttest: 33.9522962\tbest: 33.9522962 (400)\ttotal: 1.08s\tremaining: 1.61s\n",
      "500:\tlearn: 18.0580132\ttest: 33.6209557\tbest: 33.6133726 (497)\ttotal: 1.33s\tremaining: 1.33s\n",
      "600:\tlearn: 17.6035407\ttest: 33.3638668\tbest: 33.3638668 (600)\ttotal: 1.59s\tremaining: 1.05s\n",
      "700:\tlearn: 17.2548739\ttest: 33.2244662\tbest: 33.2203158 (697)\ttotal: 1.85s\tremaining: 790ms\n",
      "800:\tlearn: 16.8654284\ttest: 33.1486020\tbest: 33.1375813 (796)\ttotal: 2.13s\tremaining: 530ms\n",
      "900:\tlearn: 16.4242910\ttest: 33.0197480\tbest: 33.0153791 (899)\ttotal: 2.39s\tremaining: 263ms\n",
      "999:\tlearn: 16.0232779\ttest: 32.9126392\tbest: 32.9126392 (999)\ttotal: 2.66s\tremaining: 0us\n",
      "\n",
      "bestTest = 32.91263916\n",
      "bestIteration = 999\n",
      "\n",
      "14:\tloss: 32.9126392\tbest: 31.2695738 (1)\ttotal: 31s\tremaining: 1m 2s\n",
      "0:\tlearn: 77.1095442\ttest: 112.3772348\tbest: 112.3772348 (0)\ttotal: 1.67ms\tremaining: 1.67s\n",
      "100:\tlearn: 23.9108599\ttest: 41.7282655\tbest: 41.7282655 (100)\ttotal: 131ms\tremaining: 1.16s\n",
      "200:\tlearn: 21.2974409\ttest: 35.1663086\tbest: 35.1663086 (200)\ttotal: 268ms\tremaining: 1.06s\n",
      "300:\tlearn: 20.2196377\ttest: 33.0526492\tbest: 33.0526492 (300)\ttotal: 401ms\tremaining: 932ms\n",
      "400:\tlearn: 19.4927819\ttest: 32.1726660\tbest: 32.1726660 (400)\ttotal: 531ms\tremaining: 793ms\n",
      "500:\tlearn: 18.9548480\ttest: 31.8424094\tbest: 31.8384657 (499)\ttotal: 668ms\tremaining: 665ms\n",
      "600:\tlearn: 18.5116825\ttest: 31.6729220\tbest: 31.6438857 (593)\ttotal: 804ms\tremaining: 534ms\n",
      "700:\tlearn: 18.0535940\ttest: 31.5494209\tbest: 31.5352841 (675)\ttotal: 935ms\tremaining: 399ms\n",
      "800:\tlearn: 17.6411851\ttest: 31.5043789\tbest: 31.4969884 (758)\ttotal: 1.06s\tremaining: 265ms\n",
      "900:\tlearn: 17.2754632\ttest: 31.5609381\tbest: 31.4785258 (825)\ttotal: 1.19s\tremaining: 131ms\n",
      "999:\tlearn: 16.9124026\ttest: 31.5288706\tbest: 31.4785258 (825)\ttotal: 1.32s\tremaining: 0us\n",
      "\n",
      "bestTest = 31.47852578\n",
      "bestIteration = 825\n",
      "\n",
      "15:\tloss: 31.4785258\tbest: 31.2695738 (1)\ttotal: 32.3s\tremaining: 58.6s\n",
      "0:\tlearn: 77.1143665\ttest: 112.3921968\tbest: 112.3921968 (0)\ttotal: 1.63ms\tremaining: 1.63s\n",
      "100:\tlearn: 23.9722831\ttest: 42.2001550\tbest: 42.2001550 (100)\ttotal: 131ms\tremaining: 1.17s\n",
      "200:\tlearn: 21.3313025\ttest: 35.4151306\tbest: 35.4151306 (200)\ttotal: 258ms\tremaining: 1.03s\n",
      "300:\tlearn: 20.2892286\ttest: 33.2793137\tbest: 33.2793137 (300)\ttotal: 385ms\tremaining: 894ms\n",
      "400:\tlearn: 19.6091172\ttest: 32.3959737\tbest: 32.3939766 (398)\ttotal: 518ms\tremaining: 773ms\n",
      "500:\tlearn: 19.1200169\ttest: 31.9483719\tbest: 31.9483719 (500)\ttotal: 647ms\tremaining: 645ms\n",
      "600:\tlearn: 18.6935843\ttest: 31.7016059\tbest: 31.6955203 (595)\ttotal: 775ms\tremaining: 515ms\n",
      "700:\tlearn: 18.2644225\ttest: 31.5450311\tbest: 31.5380117 (698)\ttotal: 910ms\tremaining: 388ms\n",
      "800:\tlearn: 17.9059362\ttest: 31.3946351\tbest: 31.3911945 (786)\ttotal: 1.04s\tremaining: 260ms\n",
      "900:\tlearn: 17.5638198\ttest: 31.3467645\tbest: 31.3433725 (873)\ttotal: 1.18s\tremaining: 129ms\n",
      "999:\tlearn: 17.2272608\ttest: 31.2755243\tbest: 31.2695738 (989)\ttotal: 1.31s\tremaining: 0us\n",
      "\n",
      "bestTest = 31.26957384\n",
      "bestIteration = 989\n",
      "\n",
      "16:\tloss: 31.2695738\tbest: 31.2695738 (1)\ttotal: 33.7s\tremaining: 55.5s\n",
      "0:\tlearn: 77.1231439\ttest: 112.4113268\tbest: 112.4113268 (0)\ttotal: 1.39ms\tremaining: 1.39s\n",
      "100:\tlearn: 24.1130352\ttest: 43.1411196\tbest: 43.1411196 (100)\ttotal: 127ms\tremaining: 1.13s\n",
      "200:\tlearn: 21.5040662\ttest: 35.8474160\tbest: 35.8474160 (200)\ttotal: 260ms\tremaining: 1.03s\n",
      "300:\tlearn: 20.5054038\ttest: 33.7346624\tbest: 33.7346624 (300)\ttotal: 392ms\tremaining: 910ms\n",
      "400:\tlearn: 19.7889573\ttest: 32.6986933\tbest: 32.6982472 (399)\ttotal: 524ms\tremaining: 783ms\n",
      "500:\tlearn: 19.3579604\ttest: 32.2503263\tbest: 32.2503263 (500)\ttotal: 651ms\tremaining: 648ms\n",
      "600:\tlearn: 18.9804111\ttest: 32.0158097\tbest: 32.0123935 (597)\ttotal: 779ms\tremaining: 517ms\n",
      "700:\tlearn: 18.5855864\ttest: 31.7931585\tbest: 31.7894686 (698)\ttotal: 913ms\tremaining: 389ms\n",
      "800:\tlearn: 18.2878332\ttest: 31.7218103\tbest: 31.7211870 (797)\ttotal: 1.04s\tremaining: 259ms\n",
      "900:\tlearn: 18.0197099\ttest: 31.6136965\tbest: 31.6123015 (898)\ttotal: 1.18s\tremaining: 129ms\n",
      "999:\tlearn: 17.7177793\ttest: 31.5096767\tbest: 31.4903738 (988)\ttotal: 1.32s\tremaining: 0us\n",
      "\n",
      "bestTest = 31.49037378\n",
      "bestIteration = 988\n",
      "\n",
      "17:\tloss: 31.4903738\tbest: 31.2695738 (1)\ttotal: 35s\tremaining: 52.5s\n",
      "0:\tlearn: 77.1273141\ttest: 112.4188149\tbest: 112.4188149 (0)\ttotal: 1.89ms\tremaining: 1.89s\n",
      "100:\tlearn: 24.1904739\ttest: 43.3263538\tbest: 43.3263538 (100)\ttotal: 139ms\tremaining: 1.24s\n",
      "200:\tlearn: 21.5324335\ttest: 35.9185211\tbest: 35.9185211 (200)\ttotal: 279ms\tremaining: 1.11s\n",
      "300:\tlearn: 20.5333939\ttest: 33.8097723\tbest: 33.8097723 (300)\ttotal: 419ms\tremaining: 973ms\n",
      "400:\tlearn: 19.8171379\ttest: 32.7684142\tbest: 32.7684142 (400)\ttotal: 556ms\tremaining: 830ms\n",
      "500:\tlearn: 19.4082933\ttest: 32.4615499\tbest: 32.4599610 (499)\ttotal: 679ms\tremaining: 676ms\n",
      "600:\tlearn: 19.0826596\ttest: 32.3238181\tbest: 32.3238181 (600)\ttotal: 803ms\tremaining: 533ms\n",
      "700:\tlearn: 18.7201271\ttest: 32.1303893\tbest: 32.1297366 (697)\ttotal: 938ms\tremaining: 400ms\n",
      "800:\tlearn: 18.3747747\ttest: 31.9852106\tbest: 31.9844938 (798)\ttotal: 1.08s\tremaining: 268ms\n",
      "900:\tlearn: 18.0863360\ttest: 31.9288677\tbest: 31.9083832 (882)\ttotal: 1.2s\tremaining: 132ms\n",
      "999:\tlearn: 17.7887411\ttest: 31.8061445\tbest: 31.7858565 (992)\ttotal: 1.34s\tremaining: 0us\n",
      "\n",
      "bestTest = 31.78585654\n",
      "bestIteration = 992\n",
      "\n",
      "18:\tloss: 31.7858565\tbest: 31.2695738 (1)\ttotal: 36.4s\tremaining: 49.8s\n",
      "0:\tlearn: 77.1313916\ttest: 112.4256455\tbest: 112.4256455 (0)\ttotal: 1.56ms\tremaining: 1.56s\n",
      "100:\tlearn: 24.2418310\ttest: 43.3755477\tbest: 43.3755477 (100)\ttotal: 134ms\tremaining: 1.19s\n",
      "200:\tlearn: 21.5465962\ttest: 36.1754933\tbest: 36.1754933 (200)\ttotal: 261ms\tremaining: 1.04s\n",
      "300:\tlearn: 20.5628097\ttest: 33.9957353\tbest: 33.9919235 (299)\ttotal: 389ms\tremaining: 903ms\n",
      "400:\tlearn: 19.8866206\ttest: 33.0553529\tbest: 33.0553529 (400)\ttotal: 518ms\tremaining: 774ms\n",
      "500:\tlearn: 19.4289534\ttest: 32.6537464\tbest: 32.6526131 (499)\ttotal: 649ms\tremaining: 647ms\n",
      "600:\tlearn: 19.0722680\ttest: 32.4949583\tbest: 32.4949583 (600)\ttotal: 776ms\tremaining: 515ms\n",
      "700:\tlearn: 18.7580536\ttest: 32.2777195\tbest: 32.2715583 (697)\ttotal: 901ms\tremaining: 385ms\n",
      "800:\tlearn: 18.4691490\ttest: 32.1879751\tbest: 32.1879751 (800)\ttotal: 1.03s\tremaining: 255ms\n",
      "900:\tlearn: 18.1925335\ttest: 32.0798048\tbest: 32.0724786 (848)\ttotal: 1.16s\tremaining: 127ms\n",
      "999:\tlearn: 17.9480250\ttest: 31.9511190\tbest: 31.9438406 (978)\ttotal: 1.28s\tremaining: 0us\n",
      "\n",
      "bestTest = 31.94384056\n",
      "bestIteration = 978\n",
      "\n",
      "19:\tloss: 31.9438406\tbest: 31.2695738 (1)\ttotal: 37.7s\tremaining: 47.1s\n",
      "0:\tlearn: 77.1010130\ttest: 112.2978895\tbest: 112.2978895 (0)\ttotal: 2.01ms\tremaining: 2.01s\n",
      "100:\tlearn: 23.1442733\ttest: 41.3036812\tbest: 41.3036812 (100)\ttotal: 180ms\tremaining: 1.6s\n",
      "200:\tlearn: 20.6515369\ttest: 34.8715803\tbest: 34.8715803 (200)\ttotal: 361ms\tremaining: 1.43s\n",
      "300:\tlearn: 19.6140688\ttest: 33.0122768\tbest: 33.0122768 (300)\ttotal: 540ms\tremaining: 1.25s\n",
      "400:\tlearn: 18.7231811\ttest: 32.2841064\tbest: 32.2780677 (398)\ttotal: 721ms\tremaining: 1.08s\n",
      "500:\tlearn: 18.0951533\ttest: 31.9047406\tbest: 31.9038682 (496)\ttotal: 903ms\tremaining: 900ms\n",
      "600:\tlearn: 17.4944263\ttest: 31.7187189\tbest: 31.7187189 (600)\ttotal: 1.09s\tremaining: 726ms\n",
      "700:\tlearn: 16.9612911\ttest: 31.6001186\tbest: 31.5849927 (685)\ttotal: 1.27s\tremaining: 542ms\n",
      "800:\tlearn: 16.5049207\ttest: 31.6428679\tbest: 31.5849927 (685)\ttotal: 1.45s\tremaining: 361ms\n",
      "900:\tlearn: 16.0651650\ttest: 31.6256988\tbest: 31.5846956 (836)\ttotal: 1.63s\tremaining: 180ms\n",
      "999:\tlearn: 15.6368656\ttest: 31.6653112\tbest: 31.5829654 (910)\ttotal: 1.82s\tremaining: 0us\n",
      "\n",
      "bestTest = 31.58296536\n",
      "bestIteration = 910\n",
      "\n",
      "20:\tloss: 31.5829654\tbest: 31.2695738 (1)\ttotal: 39.5s\tremaining: 45.2s\n",
      "0:\tlearn: 77.1080556\ttest: 112.3073906\tbest: 112.3073906 (0)\ttotal: 2.08ms\tremaining: 2.07s\n",
      "100:\tlearn: 23.4716988\ttest: 42.0130466\tbest: 42.0130466 (100)\ttotal: 185ms\tremaining: 1.65s\n",
      "200:\tlearn: 20.7827018\ttest: 35.5292986\tbest: 35.5292986 (200)\ttotal: 366ms\tremaining: 1.45s\n",
      "300:\tlearn: 19.6634824\ttest: 33.5733062\tbest: 33.5733062 (300)\ttotal: 545ms\tremaining: 1.26s\n",
      "400:\tlearn: 18.8716955\ttest: 32.7724443\tbest: 32.7700008 (399)\ttotal: 757ms\tremaining: 1.13s\n",
      "500:\tlearn: 18.3123179\ttest: 32.3491230\tbest: 32.3259238 (491)\ttotal: 945ms\tremaining: 941ms\n",
      "600:\tlearn: 17.8105474\ttest: 32.1683635\tbest: 32.1550576 (593)\ttotal: 1.15s\tremaining: 763ms\n",
      "700:\tlearn: 17.3111453\ttest: 32.0178947\tbest: 32.0111337 (679)\ttotal: 1.33s\tremaining: 568ms\n",
      "800:\tlearn: 16.8407581\ttest: 31.9295506\tbest: 31.9295506 (800)\ttotal: 1.54s\tremaining: 384ms\n",
      "900:\tlearn: 16.4481963\ttest: 31.9433525\tbest: 31.9168895 (835)\ttotal: 1.73s\tremaining: 190ms\n",
      "999:\tlearn: 16.0510682\ttest: 31.8990216\tbest: 31.8714887 (980)\ttotal: 1.92s\tremaining: 0us\n",
      "\n",
      "bestTest = 31.87148873\n",
      "bestIteration = 980\n",
      "\n",
      "21:\tloss: 31.8714887\tbest: 31.2695738 (1)\ttotal: 41.5s\tremaining: 43.4s\n",
      "0:\tlearn: 77.1211401\ttest: 112.3231303\tbest: 112.3231303 (0)\ttotal: 2.22ms\tremaining: 2.22s\n",
      "100:\tlearn: 23.5053315\ttest: 42.6462704\tbest: 42.6462704 (100)\ttotal: 185ms\tremaining: 1.65s\n",
      "200:\tlearn: 20.8943240\ttest: 35.8521556\tbest: 35.8521556 (200)\ttotal: 368ms\tremaining: 1.46s\n",
      "300:\tlearn: 19.8989293\ttest: 33.9557165\tbest: 33.9535696 (299)\ttotal: 543ms\tremaining: 1.26s\n",
      "400:\tlearn: 19.2286366\ttest: 33.2997436\tbest: 33.2997436 (400)\ttotal: 739ms\tremaining: 1.1s\n",
      "500:\tlearn: 18.7159746\ttest: 32.9397241\tbest: 32.9290060 (493)\ttotal: 921ms\tremaining: 918ms\n",
      "600:\tlearn: 18.2331848\ttest: 32.6542819\tbest: 32.6530263 (599)\ttotal: 1.11s\tremaining: 736ms\n",
      "700:\tlearn: 17.8636522\ttest: 32.5333848\tbest: 32.5262882 (694)\ttotal: 1.29s\tremaining: 551ms\n",
      "800:\tlearn: 17.4320289\ttest: 32.4150477\tbest: 32.4150477 (800)\ttotal: 1.48s\tremaining: 366ms\n",
      "900:\tlearn: 17.0378718\ttest: 32.3604131\tbest: 32.3601919 (899)\ttotal: 1.65s\tremaining: 181ms\n",
      "999:\tlearn: 16.6290231\ttest: 32.2285413\tbest: 32.2252159 (995)\ttotal: 1.84s\tremaining: 0us\n",
      "\n",
      "bestTest = 32.22521586\n",
      "bestIteration = 995\n",
      "\n",
      "22:\tloss: 32.2252159\tbest: 31.2695738 (1)\ttotal: 43.4s\tremaining: 41.5s\n",
      "0:\tlearn: 77.1273990\ttest: 112.3304106\tbest: 112.3304106 (0)\ttotal: 3.26ms\tremaining: 3.26s\n",
      "100:\tlearn: 23.6719489\ttest: 43.3169874\tbest: 43.3169874 (100)\ttotal: 229ms\tremaining: 2.04s\n",
      "200:\tlearn: 20.9982105\ttest: 36.2782517\tbest: 36.2782517 (200)\ttotal: 415ms\tremaining: 1.65s\n",
      "300:\tlearn: 19.9909106\ttest: 34.4966670\tbest: 34.4966670 (300)\ttotal: 601ms\tremaining: 1.4s\n",
      "400:\tlearn: 19.2152756\ttest: 33.5652300\tbest: 33.5649607 (398)\ttotal: 777ms\tremaining: 1.16s\n",
      "500:\tlearn: 18.7280226\ttest: 33.1560366\tbest: 33.1543128 (497)\ttotal: 955ms\tremaining: 951ms\n",
      "600:\tlearn: 18.3592790\ttest: 32.9039825\tbest: 32.9014898 (598)\ttotal: 1.13s\tremaining: 748ms\n",
      "700:\tlearn: 17.9534090\ttest: 32.7460406\tbest: 32.7419784 (691)\ttotal: 1.31s\tremaining: 558ms\n",
      "800:\tlearn: 17.5955761\ttest: 32.6312539\tbest: 32.6286484 (798)\ttotal: 1.49s\tremaining: 371ms\n",
      "900:\tlearn: 17.2154911\ttest: 32.4998204\tbest: 32.4977349 (895)\ttotal: 1.68s\tremaining: 184ms\n",
      "999:\tlearn: 16.8987958\ttest: 32.4344394\tbest: 32.4305794 (997)\ttotal: 1.86s\tremaining: 0us\n",
      "\n",
      "bestTest = 32.43057944\n",
      "bestIteration = 997\n",
      "\n",
      "23:\tloss: 32.4305794\tbest: 31.2695738 (1)\ttotal: 45.2s\tremaining: 39.6s\n",
      "0:\tlearn: 77.1335232\ttest: 112.3374971\tbest: 112.3374971 (0)\ttotal: 2.15ms\tremaining: 2.15s\n",
      "100:\tlearn: 23.7083126\ttest: 43.3583301\tbest: 43.3583301 (100)\ttotal: 185ms\tremaining: 1.65s\n",
      "200:\tlearn: 21.0613047\ttest: 36.3135914\tbest: 36.3135914 (200)\ttotal: 377ms\tremaining: 1.5s\n",
      "300:\tlearn: 20.0641125\ttest: 34.4326056\tbest: 34.4326056 (300)\ttotal: 559ms\tremaining: 1.3s\n",
      "400:\tlearn: 19.3174437\ttest: 33.6700601\tbest: 33.6700601 (400)\ttotal: 743ms\tremaining: 1.11s\n",
      "500:\tlearn: 18.7867762\ttest: 33.1627910\tbest: 33.1627910 (500)\ttotal: 937ms\tremaining: 934ms\n",
      "600:\tlearn: 18.4575911\ttest: 33.0115699\tbest: 33.0115699 (600)\ttotal: 1.12s\tremaining: 741ms\n",
      "700:\tlearn: 18.0783487\ttest: 32.7922107\tbest: 32.7922107 (700)\ttotal: 1.31s\tremaining: 559ms\n",
      "800:\tlearn: 17.7773473\ttest: 32.6960918\tbest: 32.6927122 (794)\ttotal: 1.5s\tremaining: 372ms\n",
      "900:\tlearn: 17.4311713\ttest: 32.5614343\tbest: 32.5614343 (900)\ttotal: 1.68s\tremaining: 185ms\n",
      "999:\tlearn: 17.0999850\ttest: 32.4898320\tbest: 32.4847646 (997)\ttotal: 1.86s\tremaining: 0us\n",
      "\n",
      "bestTest = 32.48476465\n",
      "bestIteration = 997\n",
      "\n",
      "24:\tloss: 32.4847646\tbest: 31.2695738 (1)\ttotal: 47.1s\tremaining: 37.7s\n",
      "0:\tlearn: 77.1015333\ttest: 112.3132911\tbest: 112.3132911 (0)\ttotal: 3.08ms\tremaining: 3.08s\n",
      "100:\tlearn: 22.7319960\ttest: 41.2065527\tbest: 41.2065527 (100)\ttotal: 269ms\tremaining: 2.39s\n",
      "200:\tlearn: 19.9816173\ttest: 34.7991324\tbest: 34.7991324 (200)\ttotal: 528ms\tremaining: 2.1s\n",
      "300:\tlearn: 18.7653912\ttest: 33.3139127\tbest: 33.3046782 (299)\ttotal: 798ms\tremaining: 1.85s\n",
      "400:\tlearn: 17.8300354\ttest: 32.7195840\tbest: 32.6985827 (392)\ttotal: 1.06s\tremaining: 1.59s\n",
      "500:\tlearn: 17.1128110\ttest: 32.3607526\tbest: 32.3581343 (497)\ttotal: 1.32s\tremaining: 1.31s\n",
      "600:\tlearn: 16.4078672\ttest: 32.2822614\tbest: 32.2782034 (571)\ttotal: 1.58s\tremaining: 1.05s\n",
      "700:\tlearn: 15.7801291\ttest: 32.2500456\tbest: 32.2174508 (688)\ttotal: 1.85s\tremaining: 789ms\n",
      "800:\tlearn: 15.2040154\ttest: 32.1394577\tbest: 32.1188328 (789)\ttotal: 2.11s\tremaining: 525ms\n",
      "900:\tlearn: 14.6322508\ttest: 32.1175104\tbest: 32.1174934 (899)\ttotal: 2.38s\tremaining: 262ms\n",
      "999:\tlearn: 14.1015495\ttest: 32.1345668\tbest: 32.0948025 (932)\ttotal: 2.65s\tremaining: 0us\n",
      "\n",
      "bestTest = 32.09480251\n",
      "bestIteration = 932\n",
      "\n",
      "25:\tloss: 32.0948025\tbest: 31.2695738 (1)\ttotal: 49.8s\tremaining: 36.4s\n",
      "0:\tlearn: 77.1086343\ttest: 112.3238075\tbest: 112.3238075 (0)\ttotal: 2.98ms\tremaining: 2.97s\n",
      "100:\tlearn: 22.8117323\ttest: 41.8472163\tbest: 41.8472163 (100)\ttotal: 269ms\tremaining: 2.39s\n",
      "200:\tlearn: 20.1479420\ttest: 35.3320293\tbest: 35.3320293 (200)\ttotal: 535ms\tremaining: 2.13s\n",
      "300:\tlearn: 19.0177105\ttest: 33.7773807\tbest: 33.7773807 (300)\ttotal: 804ms\tremaining: 1.87s\n",
      "400:\tlearn: 18.1564698\ttest: 33.0739579\tbest: 33.0671443 (399)\ttotal: 1.07s\tremaining: 1.59s\n",
      "500:\tlearn: 17.4980388\ttest: 32.7237132\tbest: 32.7237132 (500)\ttotal: 1.33s\tremaining: 1.32s\n",
      "600:\tlearn: 16.9339937\ttest: 32.5710207\tbest: 32.5710207 (600)\ttotal: 1.6s\tremaining: 1.06s\n",
      "700:\tlearn: 16.3631328\ttest: 32.5171186\tbest: 32.5148754 (695)\ttotal: 1.86s\tremaining: 795ms\n",
      "800:\tlearn: 15.8615574\ttest: 32.4478559\tbest: 32.4417906 (794)\ttotal: 2.12s\tremaining: 527ms\n",
      "900:\tlearn: 15.3022938\ttest: 32.4654726\tbest: 32.4399052 (846)\ttotal: 2.39s\tremaining: 263ms\n",
      "999:\tlearn: 14.8089955\ttest: 32.4540924\tbest: 32.4378883 (923)\ttotal: 2.65s\tremaining: 0us\n",
      "\n",
      "bestTest = 32.4378883\n",
      "bestIteration = 923\n",
      "\n",
      "26:\tloss: 32.4378883\tbest: 31.2695738 (1)\ttotal: 52.5s\tremaining: 35s\n",
      "0:\tlearn: 77.1217657\ttest: 112.3403071\tbest: 112.3403071 (0)\ttotal: 2.91ms\tremaining: 2.91s\n",
      "100:\tlearn: 23.1755213\ttest: 43.2576654\tbest: 43.2576654 (100)\ttotal: 268ms\tremaining: 2.38s\n",
      "200:\tlearn: 20.3651805\ttest: 36.0697539\tbest: 36.0697539 (200)\ttotal: 545ms\tremaining: 2.17s\n",
      "300:\tlearn: 19.2744837\ttest: 34.4558525\tbest: 34.4558525 (300)\ttotal: 815ms\tremaining: 1.89s\n",
      "400:\tlearn: 18.5186867\ttest: 33.7463505\tbest: 33.7440582 (396)\ttotal: 1.07s\tremaining: 1.6s\n",
      "500:\tlearn: 18.0120839\ttest: 33.3979999\tbest: 33.3979999 (500)\ttotal: 1.33s\tremaining: 1.33s\n",
      "600:\tlearn: 17.5463878\ttest: 33.1909085\tbest: 33.1901155 (599)\ttotal: 1.6s\tremaining: 1.06s\n",
      "700:\tlearn: 17.0759141\ttest: 32.9751259\tbest: 32.9711197 (695)\ttotal: 1.86s\tremaining: 794ms\n",
      "800:\tlearn: 16.6302997\ttest: 32.8493203\tbest: 32.8468070 (798)\ttotal: 2.12s\tremaining: 527ms\n",
      "900:\tlearn: 16.1550059\ttest: 32.7665579\tbest: 32.7530203 (886)\ttotal: 2.39s\tremaining: 262ms\n",
      "999:\tlearn: 15.7548796\ttest: 32.7221857\tbest: 32.7178532 (986)\ttotal: 2.65s\tremaining: 0us\n",
      "\n",
      "bestTest = 32.71785317\n",
      "bestIteration = 986\n",
      "\n",
      "27:\tloss: 32.7178532\tbest: 31.2695738 (1)\ttotal: 55.1s\tremaining: 33.5s\n",
      "0:\tlearn: 77.1280363\ttest: 112.3477553\tbest: 112.3477553 (0)\ttotal: 3.1ms\tremaining: 3.09s\n",
      "100:\tlearn: 23.2210689\ttest: 43.4941073\tbest: 43.4941073 (100)\ttotal: 275ms\tremaining: 2.45s\n",
      "200:\tlearn: 20.4704667\ttest: 36.1634716\tbest: 36.1634716 (200)\ttotal: 544ms\tremaining: 2.16s\n",
      "300:\tlearn: 19.4245054\ttest: 34.4857568\tbest: 34.4849164 (299)\ttotal: 804ms\tremaining: 1.87s\n",
      "400:\tlearn: 18.6101372\ttest: 33.7343016\tbest: 33.7343016 (400)\ttotal: 1.1s\tremaining: 1.65s\n",
      "500:\tlearn: 18.0249406\ttest: 33.4208709\tbest: 33.4206062 (499)\ttotal: 1.54s\tremaining: 1.53s\n",
      "600:\tlearn: 17.5835562\ttest: 33.2084441\tbest: 33.2080443 (592)\ttotal: 1.97s\tremaining: 1.3s\n",
      "700:\tlearn: 17.1690156\ttest: 33.0413370\tbest: 33.0376122 (697)\ttotal: 2.41s\tremaining: 1.03s\n",
      "800:\tlearn: 16.6971246\ttest: 32.8680679\tbest: 32.8638543 (797)\ttotal: 2.86s\tremaining: 712ms\n",
      "900:\tlearn: 16.2546875\ttest: 32.7716460\tbest: 32.7716378 (898)\ttotal: 3.31s\tremaining: 363ms\n",
      "999:\tlearn: 15.8342859\ttest: 32.6989569\tbest: 32.6989569 (999)\ttotal: 3.74s\tremaining: 0us\n",
      "\n",
      "bestTest = 32.69895688\n",
      "bestIteration = 999\n",
      "\n",
      "28:\tloss: 32.6989569\tbest: 31.2695738 (1)\ttotal: 58.9s\tremaining: 32.5s\n",
      "0:\tlearn: 77.1341688\ttest: 112.3549493\tbest: 112.3549493 (0)\ttotal: 4.9ms\tremaining: 4.9s\n",
      "100:\tlearn: 23.4083151\ttest: 43.9554023\tbest: 43.9554023 (100)\ttotal: 422ms\tremaining: 3.76s\n",
      "200:\tlearn: 20.5770845\ttest: 36.4847238\tbest: 36.4847238 (200)\ttotal: 842ms\tremaining: 3.35s\n",
      "300:\tlearn: 19.5345351\ttest: 34.7034581\tbest: 34.7034581 (300)\ttotal: 1.3s\tremaining: 3.02s\n",
      "400:\tlearn: 18.7188617\ttest: 33.9522962\tbest: 33.9522962 (400)\ttotal: 1.72s\tremaining: 2.57s\n",
      "500:\tlearn: 18.0580132\ttest: 33.6209557\tbest: 33.6133726 (497)\ttotal: 2.16s\tremaining: 2.15s\n",
      "600:\tlearn: 17.6035407\ttest: 33.3638668\tbest: 33.3638668 (600)\ttotal: 2.59s\tremaining: 1.72s\n",
      "700:\tlearn: 17.2548739\ttest: 33.2244662\tbest: 33.2203158 (697)\ttotal: 3.02s\tremaining: 1.29s\n",
      "800:\tlearn: 16.8654284\ttest: 33.1486020\tbest: 33.1375813 (796)\ttotal: 3.47s\tremaining: 863ms\n",
      "900:\tlearn: 16.4242910\ttest: 33.0197480\tbest: 33.0153791 (899)\ttotal: 3.92s\tremaining: 431ms\n",
      "999:\tlearn: 16.0232779\ttest: 32.9126392\tbest: 32.9126392 (999)\ttotal: 4.33s\tremaining: 0us\n",
      "\n",
      "bestTest = 32.91263916\n",
      "bestIteration = 999\n",
      "\n",
      "29:\tloss: 32.9126392\tbest: 31.2695738 (1)\ttotal: 1m 3s\tremaining: 31.6s\n",
      "0:\tlearn: 77.1095442\ttest: 112.3772348\tbest: 112.3772348 (0)\ttotal: 2.34ms\tremaining: 2.34s\n",
      "100:\tlearn: 23.9108599\ttest: 41.7282655\tbest: 41.7282655 (100)\ttotal: 193ms\tremaining: 1.72s\n",
      "200:\tlearn: 21.2974409\ttest: 35.1663086\tbest: 35.1663086 (200)\ttotal: 380ms\tremaining: 1.51s\n",
      "300:\tlearn: 20.2196377\ttest: 33.0526492\tbest: 33.0526492 (300)\ttotal: 571ms\tremaining: 1.33s\n",
      "400:\tlearn: 19.4927819\ttest: 32.1726660\tbest: 32.1726660 (400)\ttotal: 767ms\tremaining: 1.15s\n",
      "500:\tlearn: 18.9548480\ttest: 31.8424094\tbest: 31.8384657 (499)\ttotal: 974ms\tremaining: 970ms\n",
      "600:\tlearn: 18.5116825\ttest: 31.6729220\tbest: 31.6438857 (593)\ttotal: 1.17s\tremaining: 780ms\n",
      "700:\tlearn: 18.0535940\ttest: 31.5494209\tbest: 31.5352841 (675)\ttotal: 1.37s\tremaining: 586ms\n",
      "800:\tlearn: 17.6411851\ttest: 31.5043789\tbest: 31.4969884 (758)\ttotal: 1.63s\tremaining: 406ms\n",
      "900:\tlearn: 17.2754632\ttest: 31.5609381\tbest: 31.4785258 (825)\ttotal: 1.84s\tremaining: 202ms\n",
      "999:\tlearn: 16.9124026\ttest: 31.5288706\tbest: 31.4785258 (825)\ttotal: 2.04s\tremaining: 0us\n",
      "\n",
      "bestTest = 31.47852578\n",
      "bestIteration = 825\n",
      "\n",
      "30:\tloss: 31.4785258\tbest: 31.2695738 (1)\ttotal: 1m 5s\tremaining: 29.5s\n",
      "0:\tlearn: 77.1143665\ttest: 112.3921968\tbest: 112.3921968 (0)\ttotal: 2.4ms\tremaining: 2.4s\n",
      "100:\tlearn: 23.9722831\ttest: 42.2001550\tbest: 42.2001550 (100)\ttotal: 218ms\tremaining: 1.94s\n",
      "200:\tlearn: 21.3313025\ttest: 35.4151306\tbest: 35.4151306 (200)\ttotal: 410ms\tremaining: 1.63s\n",
      "300:\tlearn: 20.2892286\ttest: 33.2793137\tbest: 33.2793137 (300)\ttotal: 627ms\tremaining: 1.46s\n",
      "400:\tlearn: 19.6091172\ttest: 32.3959737\tbest: 32.3939766 (398)\ttotal: 829ms\tremaining: 1.24s\n",
      "500:\tlearn: 19.1200169\ttest: 31.9483719\tbest: 31.9483719 (500)\ttotal: 1.03s\tremaining: 1.03s\n",
      "600:\tlearn: 18.6935843\ttest: 31.7016059\tbest: 31.6955203 (595)\ttotal: 1.24s\tremaining: 825ms\n",
      "700:\tlearn: 18.2644225\ttest: 31.5450311\tbest: 31.5380117 (698)\ttotal: 1.46s\tremaining: 623ms\n",
      "800:\tlearn: 17.9059362\ttest: 31.3946351\tbest: 31.3911945 (786)\ttotal: 1.66s\tremaining: 412ms\n",
      "900:\tlearn: 17.5638198\ttest: 31.3467645\tbest: 31.3433725 (873)\ttotal: 1.84s\tremaining: 203ms\n",
      "999:\tlearn: 17.2272608\ttest: 31.2755243\tbest: 31.2695738 (989)\ttotal: 2.03s\tremaining: 0us\n",
      "\n",
      "bestTest = 31.26957384\n",
      "bestIteration = 989\n",
      "\n",
      "31:\tloss: 31.2695738\tbest: 31.2695738 (1)\ttotal: 1m 7s\tremaining: 27.4s\n",
      "0:\tlearn: 77.1231439\ttest: 112.4113268\tbest: 112.4113268 (0)\ttotal: 1.58ms\tremaining: 1.58s\n",
      "100:\tlearn: 24.1130352\ttest: 43.1411196\tbest: 43.1411196 (100)\ttotal: 133ms\tremaining: 1.18s\n",
      "200:\tlearn: 21.5040662\ttest: 35.8474160\tbest: 35.8474160 (200)\ttotal: 260ms\tremaining: 1.03s\n",
      "300:\tlearn: 20.5054038\ttest: 33.7346624\tbest: 33.7346624 (300)\ttotal: 390ms\tremaining: 905ms\n",
      "400:\tlearn: 19.7889573\ttest: 32.6986933\tbest: 32.6982472 (399)\ttotal: 520ms\tremaining: 777ms\n",
      "500:\tlearn: 19.3579604\ttest: 32.2503263\tbest: 32.2503263 (500)\ttotal: 651ms\tremaining: 649ms\n",
      "600:\tlearn: 18.9804111\ttest: 32.0158097\tbest: 32.0123935 (597)\ttotal: 777ms\tremaining: 516ms\n",
      "700:\tlearn: 18.5855864\ttest: 31.7931585\tbest: 31.7894686 (698)\ttotal: 907ms\tremaining: 387ms\n",
      "800:\tlearn: 18.2878332\ttest: 31.7218103\tbest: 31.7211870 (797)\ttotal: 1.03s\tremaining: 257ms\n",
      "900:\tlearn: 18.0197099\ttest: 31.6136965\tbest: 31.6123015 (898)\ttotal: 1.16s\tremaining: 128ms\n",
      "999:\tlearn: 17.7177793\ttest: 31.5096767\tbest: 31.4903738 (988)\ttotal: 1.3s\tremaining: 0us\n",
      "\n",
      "bestTest = 31.49037378\n",
      "bestIteration = 988\n",
      "\n",
      "32:\tloss: 31.4903738\tbest: 31.2695738 (1)\ttotal: 1m 8s\tremaining: 25s\n",
      "0:\tlearn: 77.1273141\ttest: 112.4188149\tbest: 112.4188149 (0)\ttotal: 1.41ms\tremaining: 1.41s\n",
      "100:\tlearn: 24.1904739\ttest: 43.3263538\tbest: 43.3263538 (100)\ttotal: 133ms\tremaining: 1.18s\n",
      "200:\tlearn: 21.5324335\ttest: 35.9185211\tbest: 35.9185211 (200)\ttotal: 262ms\tremaining: 1.04s\n",
      "300:\tlearn: 20.5333939\ttest: 33.8097723\tbest: 33.8097723 (300)\ttotal: 391ms\tremaining: 908ms\n",
      "400:\tlearn: 19.8171379\ttest: 32.7684142\tbest: 32.7684142 (400)\ttotal: 524ms\tremaining: 782ms\n",
      "500:\tlearn: 19.4082933\ttest: 32.4615499\tbest: 32.4599610 (499)\ttotal: 649ms\tremaining: 646ms\n",
      "600:\tlearn: 19.0826596\ttest: 32.3238181\tbest: 32.3238181 (600)\ttotal: 772ms\tremaining: 513ms\n",
      "700:\tlearn: 18.7201271\ttest: 32.1303893\tbest: 32.1297366 (697)\ttotal: 904ms\tremaining: 386ms\n",
      "800:\tlearn: 18.3747747\ttest: 31.9852106\tbest: 31.9844938 (798)\ttotal: 1.03s\tremaining: 256ms\n",
      "900:\tlearn: 18.0863360\ttest: 31.9288677\tbest: 31.9083832 (882)\ttotal: 1.16s\tremaining: 127ms\n",
      "999:\tlearn: 17.7887411\ttest: 31.8061445\tbest: 31.7858565 (992)\ttotal: 1.29s\tremaining: 0us\n",
      "\n",
      "bestTest = 31.78585654\n",
      "bestIteration = 992\n",
      "\n",
      "33:\tloss: 31.7858565\tbest: 31.2695738 (1)\ttotal: 1m 10s\tremaining: 22.7s\n",
      "0:\tlearn: 77.1313916\ttest: 112.4256455\tbest: 112.4256455 (0)\ttotal: 1.57ms\tremaining: 1.57s\n",
      "100:\tlearn: 24.2418310\ttest: 43.3755477\tbest: 43.3755477 (100)\ttotal: 131ms\tremaining: 1.17s\n",
      "200:\tlearn: 21.5465962\ttest: 36.1754933\tbest: 36.1754933 (200)\ttotal: 261ms\tremaining: 1.04s\n",
      "300:\tlearn: 20.5628097\ttest: 33.9957353\tbest: 33.9919235 (299)\ttotal: 394ms\tremaining: 916ms\n",
      "400:\tlearn: 19.8866206\ttest: 33.0553529\tbest: 33.0553529 (400)\ttotal: 521ms\tremaining: 778ms\n",
      "500:\tlearn: 19.4289534\ttest: 32.6537464\tbest: 32.6526131 (499)\ttotal: 656ms\tremaining: 653ms\n",
      "600:\tlearn: 19.0722680\ttest: 32.4949583\tbest: 32.4949583 (600)\ttotal: 802ms\tremaining: 532ms\n",
      "700:\tlearn: 18.7580536\ttest: 32.2777195\tbest: 32.2715583 (697)\ttotal: 951ms\tremaining: 406ms\n",
      "800:\tlearn: 18.4691490\ttest: 32.1879751\tbest: 32.1879751 (800)\ttotal: 1.09s\tremaining: 270ms\n",
      "900:\tlearn: 18.1925335\ttest: 32.0798048\tbest: 32.0724786 (848)\ttotal: 1.22s\tremaining: 134ms\n",
      "999:\tlearn: 17.9480250\ttest: 31.9511190\tbest: 31.9438406 (978)\ttotal: 1.34s\tremaining: 0us\n",
      "\n",
      "bestTest = 31.94384056\n",
      "bestIteration = 978\n",
      "\n",
      "34:\tloss: 31.9438406\tbest: 31.2695738 (1)\ttotal: 1m 11s\tremaining: 20.4s\n",
      "0:\tlearn: 77.1010130\ttest: 112.2978895\tbest: 112.2978895 (0)\ttotal: 2.14ms\tremaining: 2.14s\n",
      "100:\tlearn: 23.1442733\ttest: 41.3036812\tbest: 41.3036812 (100)\ttotal: 183ms\tremaining: 1.63s\n",
      "200:\tlearn: 20.6515369\ttest: 34.8715803\tbest: 34.8715803 (200)\ttotal: 369ms\tremaining: 1.47s\n",
      "300:\tlearn: 19.6140688\ttest: 33.0122768\tbest: 33.0122768 (300)\ttotal: 552ms\tremaining: 1.28s\n",
      "400:\tlearn: 18.7231811\ttest: 32.2841064\tbest: 32.2780677 (398)\ttotal: 724ms\tremaining: 1.08s\n",
      "500:\tlearn: 18.0951533\ttest: 31.9047406\tbest: 31.9038682 (496)\ttotal: 911ms\tremaining: 907ms\n",
      "600:\tlearn: 17.4944263\ttest: 31.7187189\tbest: 31.7187189 (600)\ttotal: 1.09s\tremaining: 723ms\n",
      "700:\tlearn: 16.9612911\ttest: 31.6001186\tbest: 31.5849927 (685)\ttotal: 1.27s\tremaining: 540ms\n",
      "800:\tlearn: 16.5049207\ttest: 31.6428679\tbest: 31.5849927 (685)\ttotal: 1.45s\tremaining: 359ms\n",
      "900:\tlearn: 16.0651650\ttest: 31.6256988\tbest: 31.5846956 (836)\ttotal: 1.63s\tremaining: 179ms\n",
      "999:\tlearn: 15.6368656\ttest: 31.6653112\tbest: 31.5829654 (910)\ttotal: 1.81s\tremaining: 0us\n",
      "\n",
      "bestTest = 31.58296536\n",
      "bestIteration = 910\n",
      "\n",
      "35:\tloss: 31.5829654\tbest: 31.2695738 (1)\ttotal: 1m 13s\tremaining: 18.3s\n",
      "0:\tlearn: 77.1080556\ttest: 112.3073906\tbest: 112.3073906 (0)\ttotal: 2.08ms\tremaining: 2.08s\n",
      "100:\tlearn: 23.4716988\ttest: 42.0130466\tbest: 42.0130466 (100)\ttotal: 184ms\tremaining: 1.64s\n",
      "200:\tlearn: 20.7827018\ttest: 35.5292986\tbest: 35.5292986 (200)\ttotal: 360ms\tremaining: 1.43s\n",
      "300:\tlearn: 19.6634824\ttest: 33.5733062\tbest: 33.5733062 (300)\ttotal: 542ms\tremaining: 1.26s\n",
      "400:\tlearn: 18.8716955\ttest: 32.7724443\tbest: 32.7700008 (399)\ttotal: 721ms\tremaining: 1.08s\n",
      "500:\tlearn: 18.3123179\ttest: 32.3491230\tbest: 32.3259238 (491)\ttotal: 899ms\tremaining: 896ms\n",
      "600:\tlearn: 17.8105474\ttest: 32.1683635\tbest: 32.1550576 (593)\ttotal: 1.08s\tremaining: 717ms\n",
      "700:\tlearn: 17.3111453\ttest: 32.0178947\tbest: 32.0111337 (679)\ttotal: 1.26s\tremaining: 538ms\n",
      "800:\tlearn: 16.8407581\ttest: 31.9295506\tbest: 31.9295506 (800)\ttotal: 1.44s\tremaining: 358ms\n",
      "900:\tlearn: 16.4481963\ttest: 31.9433525\tbest: 31.9168895 (835)\ttotal: 1.63s\tremaining: 179ms\n",
      "999:\tlearn: 16.0510682\ttest: 31.8990216\tbest: 31.8714887 (980)\ttotal: 1.81s\tremaining: 0us\n",
      "\n",
      "bestTest = 31.87148873\n",
      "bestIteration = 980\n",
      "\n",
      "36:\tloss: 31.8714887\tbest: 31.2695738 (1)\ttotal: 1m 15s\tremaining: 16.2s\n",
      "0:\tlearn: 77.1211401\ttest: 112.3231303\tbest: 112.3231303 (0)\ttotal: 1.91ms\tremaining: 1.91s\n",
      "100:\tlearn: 23.5053315\ttest: 42.6462704\tbest: 42.6462704 (100)\ttotal: 185ms\tremaining: 1.65s\n",
      "200:\tlearn: 20.8943240\ttest: 35.8521556\tbest: 35.8521556 (200)\ttotal: 364ms\tremaining: 1.45s\n",
      "300:\tlearn: 19.8989293\ttest: 33.9557165\tbest: 33.9535696 (299)\ttotal: 543ms\tremaining: 1.26s\n",
      "400:\tlearn: 19.2286366\ttest: 33.2997436\tbest: 33.2997436 (400)\ttotal: 735ms\tremaining: 1.1s\n",
      "500:\tlearn: 18.7159746\ttest: 32.9397241\tbest: 32.9290060 (493)\ttotal: 918ms\tremaining: 914ms\n",
      "600:\tlearn: 18.2331848\ttest: 32.6542819\tbest: 32.6530263 (599)\ttotal: 1.1s\tremaining: 732ms\n",
      "700:\tlearn: 17.8636522\ttest: 32.5333848\tbest: 32.5262882 (694)\ttotal: 1.31s\tremaining: 558ms\n",
      "800:\tlearn: 17.4320289\ttest: 32.4150477\tbest: 32.4150477 (800)\ttotal: 1.51s\tremaining: 375ms\n",
      "900:\tlearn: 17.0378718\ttest: 32.3604131\tbest: 32.3601919 (899)\ttotal: 1.74s\tremaining: 191ms\n",
      "999:\tlearn: 16.6290231\ttest: 32.2285413\tbest: 32.2252159 (995)\ttotal: 2.05s\tremaining: 0us\n",
      "\n",
      "bestTest = 32.22521586\n",
      "bestIteration = 995\n",
      "\n",
      "37:\tloss: 32.2252159\tbest: 31.2695738 (1)\ttotal: 1m 17s\tremaining: 14.2s\n",
      "0:\tlearn: 77.1273990\ttest: 112.3304106\tbest: 112.3304106 (0)\ttotal: 3.16ms\tremaining: 3.16s\n",
      "100:\tlearn: 23.6719489\ttest: 43.3169874\tbest: 43.3169874 (100)\ttotal: 215ms\tremaining: 1.91s\n",
      "200:\tlearn: 20.9982105\ttest: 36.2782517\tbest: 36.2782517 (200)\ttotal: 427ms\tremaining: 1.7s\n",
      "300:\tlearn: 19.9909106\ttest: 34.4966670\tbest: 34.4966670 (300)\ttotal: 612ms\tremaining: 1.42s\n",
      "400:\tlearn: 19.2152756\ttest: 33.5652300\tbest: 33.5649607 (398)\ttotal: 800ms\tremaining: 1.19s\n",
      "500:\tlearn: 18.7280226\ttest: 33.1560366\tbest: 33.1543128 (497)\ttotal: 977ms\tremaining: 973ms\n",
      "600:\tlearn: 18.3592790\ttest: 32.9039825\tbest: 32.9014898 (598)\ttotal: 1.16s\tremaining: 768ms\n",
      "700:\tlearn: 17.9534090\ttest: 32.7460406\tbest: 32.7419784 (691)\ttotal: 1.33s\tremaining: 568ms\n",
      "800:\tlearn: 17.5955761\ttest: 32.6312539\tbest: 32.6286484 (798)\ttotal: 1.5s\tremaining: 374ms\n",
      "900:\tlearn: 17.2154911\ttest: 32.4998204\tbest: 32.4977349 (895)\ttotal: 1.68s\tremaining: 184ms\n",
      "999:\tlearn: 16.8987958\ttest: 32.4344394\tbest: 32.4305794 (997)\ttotal: 1.86s\tremaining: 0us\n",
      "\n",
      "bestTest = 32.43057944\n",
      "bestIteration = 997\n",
      "\n",
      "38:\tloss: 32.4305794\tbest: 31.2695738 (1)\ttotal: 1m 19s\tremaining: 12.2s\n",
      "0:\tlearn: 77.1335232\ttest: 112.3374971\tbest: 112.3374971 (0)\ttotal: 2.12ms\tremaining: 2.12s\n",
      "100:\tlearn: 23.7083126\ttest: 43.3583301\tbest: 43.3583301 (100)\ttotal: 180ms\tremaining: 1.6s\n",
      "200:\tlearn: 21.0613047\ttest: 36.3135914\tbest: 36.3135914 (200)\ttotal: 361ms\tremaining: 1.44s\n",
      "300:\tlearn: 20.0641125\ttest: 34.4326056\tbest: 34.4326056 (300)\ttotal: 535ms\tremaining: 1.24s\n",
      "400:\tlearn: 19.3174437\ttest: 33.6700601\tbest: 33.6700601 (400)\ttotal: 710ms\tremaining: 1.06s\n",
      "500:\tlearn: 18.7867762\ttest: 33.1627910\tbest: 33.1627910 (500)\ttotal: 891ms\tremaining: 887ms\n",
      "600:\tlearn: 18.4575911\ttest: 33.0115699\tbest: 33.0115699 (600)\ttotal: 1.07s\tremaining: 712ms\n",
      "700:\tlearn: 18.0783487\ttest: 32.7922107\tbest: 32.7922107 (700)\ttotal: 1.25s\tremaining: 532ms\n",
      "800:\tlearn: 17.7773473\ttest: 32.6960918\tbest: 32.6927122 (794)\ttotal: 1.43s\tremaining: 355ms\n",
      "900:\tlearn: 17.4311713\ttest: 32.5614343\tbest: 32.5614343 (900)\ttotal: 1.61s\tremaining: 177ms\n",
      "999:\tlearn: 17.0999850\ttest: 32.4898320\tbest: 32.4847646 (997)\ttotal: 1.78s\tremaining: 0us\n",
      "\n",
      "bestTest = 32.48476465\n",
      "bestIteration = 997\n",
      "\n",
      "39:\tloss: 32.4847646\tbest: 31.2695738 (1)\ttotal: 1m 20s\tremaining: 10.1s\n",
      "0:\tlearn: 77.1015333\ttest: 112.3132911\tbest: 112.3132911 (0)\ttotal: 3.33ms\tremaining: 3.32s\n",
      "100:\tlearn: 22.7319960\ttest: 41.2065527\tbest: 41.2065527 (100)\ttotal: 268ms\tremaining: 2.38s\n",
      "200:\tlearn: 19.9816173\ttest: 34.7991324\tbest: 34.7991324 (200)\ttotal: 541ms\tremaining: 2.15s\n",
      "300:\tlearn: 18.7653912\ttest: 33.3139127\tbest: 33.3046782 (299)\ttotal: 806ms\tremaining: 1.87s\n",
      "400:\tlearn: 17.8300354\ttest: 32.7195840\tbest: 32.6985827 (392)\ttotal: 1.07s\tremaining: 1.6s\n",
      "500:\tlearn: 17.1128110\ttest: 32.3607526\tbest: 32.3581343 (497)\ttotal: 1.34s\tremaining: 1.33s\n",
      "600:\tlearn: 16.4078672\ttest: 32.2822614\tbest: 32.2782034 (571)\ttotal: 1.61s\tremaining: 1.07s\n",
      "700:\tlearn: 15.7801291\ttest: 32.2500456\tbest: 32.2174508 (688)\ttotal: 1.86s\tremaining: 795ms\n",
      "800:\tlearn: 15.2040154\ttest: 32.1394577\tbest: 32.1188328 (789)\ttotal: 2.13s\tremaining: 529ms\n",
      "900:\tlearn: 14.6322508\ttest: 32.1175104\tbest: 32.1174934 (899)\ttotal: 2.4s\tremaining: 263ms\n",
      "999:\tlearn: 14.1015495\ttest: 32.1345668\tbest: 32.0948025 (932)\ttotal: 2.65s\tremaining: 0us\n",
      "\n",
      "bestTest = 32.09480251\n",
      "bestIteration = 932\n",
      "\n",
      "40:\tloss: 32.0948025\tbest: 31.2695738 (1)\ttotal: 1m 23s\tremaining: 8.15s\n",
      "0:\tlearn: 77.1086343\ttest: 112.3238075\tbest: 112.3238075 (0)\ttotal: 3.06ms\tremaining: 3.06s\n",
      "100:\tlearn: 22.8117323\ttest: 41.8472163\tbest: 41.8472163 (100)\ttotal: 263ms\tremaining: 2.34s\n",
      "200:\tlearn: 20.1479420\ttest: 35.3320293\tbest: 35.3320293 (200)\ttotal: 528ms\tremaining: 2.1s\n",
      "300:\tlearn: 19.0177105\ttest: 33.7773807\tbest: 33.7773807 (300)\ttotal: 789ms\tremaining: 1.83s\n",
      "400:\tlearn: 18.1564698\ttest: 33.0739579\tbest: 33.0671443 (399)\ttotal: 1.04s\tremaining: 1.56s\n",
      "500:\tlearn: 17.4980388\ttest: 32.7237132\tbest: 32.7237132 (500)\ttotal: 1.31s\tremaining: 1.3s\n",
      "600:\tlearn: 16.9339937\ttest: 32.5710207\tbest: 32.5710207 (600)\ttotal: 1.58s\tremaining: 1.05s\n",
      "700:\tlearn: 16.3631328\ttest: 32.5171186\tbest: 32.5148754 (695)\ttotal: 1.86s\tremaining: 793ms\n",
      "800:\tlearn: 15.8615574\ttest: 32.4478559\tbest: 32.4417906 (794)\ttotal: 2.12s\tremaining: 528ms\n",
      "900:\tlearn: 15.3022938\ttest: 32.4654726\tbest: 32.4399052 (846)\ttotal: 2.39s\tremaining: 262ms\n",
      "999:\tlearn: 14.8089955\ttest: 32.4540924\tbest: 32.4378883 (923)\ttotal: 2.65s\tremaining: 0us\n",
      "\n",
      "bestTest = 32.4378883\n",
      "bestIteration = 923\n",
      "\n",
      "41:\tloss: 32.4378883\tbest: 31.2695738 (1)\ttotal: 1m 26s\tremaining: 6.16s\n",
      "0:\tlearn: 77.1217657\ttest: 112.3403071\tbest: 112.3403071 (0)\ttotal: 3.12ms\tremaining: 3.12s\n",
      "100:\tlearn: 23.1755213\ttest: 43.2576654\tbest: 43.2576654 (100)\ttotal: 270ms\tremaining: 2.41s\n",
      "200:\tlearn: 20.3651805\ttest: 36.0697539\tbest: 36.0697539 (200)\ttotal: 536ms\tremaining: 2.13s\n",
      "300:\tlearn: 19.2744837\ttest: 34.4558525\tbest: 34.4558525 (300)\ttotal: 795ms\tremaining: 1.85s\n",
      "400:\tlearn: 18.5186867\ttest: 33.7463505\tbest: 33.7440582 (396)\ttotal: 1.07s\tremaining: 1.59s\n",
      "500:\tlearn: 18.0120839\ttest: 33.3979999\tbest: 33.3979999 (500)\ttotal: 1.33s\tremaining: 1.33s\n",
      "600:\tlearn: 17.5463878\ttest: 33.1909085\tbest: 33.1901155 (599)\ttotal: 1.59s\tremaining: 1.05s\n",
      "700:\tlearn: 17.0759141\ttest: 32.9751259\tbest: 32.9711197 (695)\ttotal: 1.86s\tremaining: 793ms\n",
      "800:\tlearn: 16.6302997\ttest: 32.8493203\tbest: 32.8468070 (798)\ttotal: 2.14s\tremaining: 532ms\n",
      "900:\tlearn: 16.1550059\ttest: 32.7665579\tbest: 32.7530203 (886)\ttotal: 2.4s\tremaining: 264ms\n",
      "999:\tlearn: 15.7548796\ttest: 32.7221857\tbest: 32.7178532 (986)\ttotal: 2.67s\tremaining: 0us\n",
      "\n",
      "bestTest = 32.71785317\n",
      "bestIteration = 986\n",
      "\n",
      "42:\tloss: 32.7178532\tbest: 31.2695738 (1)\ttotal: 1m 28s\tremaining: 4.13s\n",
      "0:\tlearn: 77.1280363\ttest: 112.3477553\tbest: 112.3477553 (0)\ttotal: 2.87ms\tremaining: 2.87s\n",
      "100:\tlearn: 23.2210689\ttest: 43.4941073\tbest: 43.4941073 (100)\ttotal: 271ms\tremaining: 2.41s\n",
      "200:\tlearn: 20.4704667\ttest: 36.1634716\tbest: 36.1634716 (200)\ttotal: 546ms\tremaining: 2.17s\n",
      "300:\tlearn: 19.4245054\ttest: 34.4857568\tbest: 34.4849164 (299)\ttotal: 805ms\tremaining: 1.87s\n",
      "400:\tlearn: 18.6101372\ttest: 33.7343016\tbest: 33.7343016 (400)\ttotal: 1.08s\tremaining: 1.61s\n",
      "500:\tlearn: 18.0249406\ttest: 33.4208709\tbest: 33.4206062 (499)\ttotal: 1.34s\tremaining: 1.33s\n",
      "600:\tlearn: 17.5835562\ttest: 33.2084441\tbest: 33.2080443 (592)\ttotal: 1.59s\tremaining: 1.06s\n",
      "700:\tlearn: 17.1690156\ttest: 33.0413370\tbest: 33.0376122 (697)\ttotal: 1.86s\tremaining: 794ms\n",
      "800:\tlearn: 16.6971246\ttest: 32.8680679\tbest: 32.8638543 (797)\ttotal: 2.15s\tremaining: 535ms\n",
      "900:\tlearn: 16.2546875\ttest: 32.7716460\tbest: 32.7716378 (898)\ttotal: 2.44s\tremaining: 268ms\n",
      "999:\tlearn: 15.8342859\ttest: 32.6989569\tbest: 32.6989569 (999)\ttotal: 2.7s\tremaining: 0us\n",
      "\n",
      "bestTest = 32.69895688\n",
      "bestIteration = 999\n",
      "\n",
      "43:\tloss: 32.6989569\tbest: 31.2695738 (1)\ttotal: 1m 31s\tremaining: 2.08s\n",
      "0:\tlearn: 77.1341688\ttest: 112.3549493\tbest: 112.3549493 (0)\ttotal: 3.6ms\tremaining: 3.6s\n",
      "100:\tlearn: 23.4083151\ttest: 43.9554023\tbest: 43.9554023 (100)\ttotal: 284ms\tremaining: 2.53s\n",
      "200:\tlearn: 20.5770845\ttest: 36.4847238\tbest: 36.4847238 (200)\ttotal: 550ms\tremaining: 2.19s\n",
      "300:\tlearn: 19.5345351\ttest: 34.7034581\tbest: 34.7034581 (300)\ttotal: 819ms\tremaining: 1.9s\n",
      "400:\tlearn: 18.7188617\ttest: 33.9522962\tbest: 33.9522962 (400)\ttotal: 1.07s\tremaining: 1.61s\n",
      "500:\tlearn: 18.0580132\ttest: 33.6209557\tbest: 33.6133726 (497)\ttotal: 1.34s\tremaining: 1.34s\n",
      "600:\tlearn: 17.6035407\ttest: 33.3638668\tbest: 33.3638668 (600)\ttotal: 1.61s\tremaining: 1.07s\n",
      "700:\tlearn: 17.2548739\ttest: 33.2244662\tbest: 33.2203158 (697)\ttotal: 1.87s\tremaining: 798ms\n",
      "800:\tlearn: 16.8654284\ttest: 33.1486020\tbest: 33.1375813 (796)\ttotal: 2.14s\tremaining: 531ms\n",
      "900:\tlearn: 16.4242910\ttest: 33.0197480\tbest: 33.0153791 (899)\ttotal: 2.4s\tremaining: 264ms\n",
      "999:\tlearn: 16.0232779\ttest: 32.9126392\tbest: 32.9126392 (999)\ttotal: 2.68s\tremaining: 0us\n",
      "\n",
      "bestTest = 32.91263916\n",
      "bestIteration = 999\n",
      "\n",
      "44:\tloss: 32.9126392\tbest: 31.2695738 (1)\ttotal: 1m 34s\tremaining: 0us\n",
      "Estimating final quality...\n",
      "Training on fold [0/3]\n",
      "0:\tlearn: 62.6937405\ttest: 75.3494771\tbest: 75.3494771 (0)\ttotal: 1.08ms\tremaining: 1.07s\n",
      "100:\tlearn: 19.8621916\ttest: 29.9724421\tbest: 29.9724421 (100)\ttotal: 84ms\tremaining: 748ms\n",
      "200:\tlearn: 17.3148174\ttest: 27.5016327\tbest: 27.5016327 (200)\ttotal: 170ms\tremaining: 676ms\n",
      "300:\tlearn: 15.9060942\ttest: 26.5344860\tbest: 26.5344860 (300)\ttotal: 256ms\tremaining: 594ms\n",
      "400:\tlearn: 14.9756954\ttest: 26.2253209\tbest: 26.2209799 (396)\ttotal: 338ms\tremaining: 505ms\n",
      "500:\tlearn: 14.2083561\ttest: 26.1149728\tbest: 26.1068193 (487)\ttotal: 424ms\tremaining: 422ms\n",
      "600:\tlearn: 13.5226410\ttest: 26.0754366\tbest: 26.0726428 (578)\ttotal: 541ms\tremaining: 359ms\n",
      "700:\tlearn: 12.8686924\ttest: 26.1180303\tbest: 26.0686726 (607)\ttotal: 628ms\tremaining: 268ms\n",
      "800:\tlearn: 12.3172827\ttest: 26.1640167\tbest: 26.0686726 (607)\ttotal: 713ms\tremaining: 177ms\n",
      "900:\tlearn: 11.8412325\ttest: 26.1992186\tbest: 26.0686726 (607)\ttotal: 805ms\tremaining: 88.4ms\n",
      "999:\tlearn: 11.4011626\ttest: 26.2288649\tbest: 26.0686726 (607)\ttotal: 888ms\tremaining: 0us\n",
      "\n",
      "bestTest = 26.06867261\n",
      "bestIteration = 607\n",
      "\n",
      "Training on fold [1/3]\n",
      "0:\tlearn: 69.1386242\ttest: 88.1068158\tbest: 88.1068158 (0)\ttotal: 1.19ms\tremaining: 1.19s\n",
      "100:\tlearn: 22.6237597\ttest: 31.7711272\tbest: 31.7711272 (100)\ttotal: 104ms\tremaining: 929ms\n",
      "200:\tlearn: 20.1249096\ttest: 27.3702793\tbest: 27.3702793 (200)\ttotal: 214ms\tremaining: 851ms\n",
      "300:\tlearn: 18.9663026\ttest: 26.2078907\tbest: 26.2078907 (300)\ttotal: 324ms\tremaining: 752ms\n",
      "400:\tlearn: 18.0228077\ttest: 25.6079199\tbest: 25.6049258 (394)\ttotal: 438ms\tremaining: 654ms\n",
      "500:\tlearn: 17.3141996\ttest: 25.3975785\tbest: 25.3864950 (492)\ttotal: 546ms\tremaining: 543ms\n",
      "600:\tlearn: 16.6841448\ttest: 25.2750841\tbest: 25.2750841 (600)\ttotal: 654ms\tremaining: 434ms\n",
      "700:\tlearn: 16.1607948\ttest: 25.2138726\tbest: 25.2137102 (697)\ttotal: 789ms\tremaining: 336ms\n",
      "800:\tlearn: 15.6879799\ttest: 25.2214290\tbest: 25.1795197 (728)\ttotal: 904ms\tremaining: 225ms\n",
      "900:\tlearn: 15.2970525\ttest: 25.2194620\tbest: 25.1795197 (728)\ttotal: 1.01s\tremaining: 111ms\n",
      "999:\tlearn: 14.9216580\ttest: 25.2499090\tbest: 25.1795197 (728)\ttotal: 1.12s\tremaining: 0us\n",
      "\n",
      "bestTest = 25.17951967\n",
      "bestIteration = 728\n",
      "\n",
      "Training on fold [2/3]\n",
      "0:\tlearn: 75.8201892\ttest: 109.1797957\tbest: 109.1797957 (0)\ttotal: 1.33ms\tremaining: 1.33s\n",
      "100:\tlearn: 23.8897144\ttest: 41.1688811\tbest: 41.1688811 (100)\ttotal: 128ms\tremaining: 1.14s\n",
      "200:\tlearn: 21.3162885\ttest: 34.5944129\tbest: 34.5944129 (200)\ttotal: 253ms\tremaining: 1.01s\n",
      "300:\tlearn: 20.2890489\ttest: 32.5008903\tbest: 32.5008903 (300)\ttotal: 370ms\tremaining: 858ms\n",
      "400:\tlearn: 19.5950968\ttest: 31.4919566\tbest: 31.4919566 (400)\ttotal: 491ms\tremaining: 733ms\n",
      "500:\tlearn: 19.1404253\ttest: 31.1654758\tbest: 31.1654269 (494)\ttotal: 610ms\tremaining: 608ms\n",
      "600:\tlearn: 18.6582967\ttest: 30.7895821\tbest: 30.7791705 (595)\ttotal: 732ms\tremaining: 486ms\n",
      "700:\tlearn: 18.2546058\ttest: 30.6088058\tbest: 30.5936113 (691)\ttotal: 855ms\tremaining: 365ms\n",
      "800:\tlearn: 17.9036044\ttest: 30.4067464\tbest: 30.3930238 (790)\ttotal: 977ms\tremaining: 243ms\n",
      "900:\tlearn: 17.5411016\ttest: 30.2798102\tbest: 30.2798102 (900)\ttotal: 1.1s\tremaining: 120ms\n",
      "999:\tlearn: 17.2277486\ttest: 30.1754444\tbest: 30.1624142 (992)\ttotal: 1.22s\tremaining: 0us\n",
      "\n",
      "bestTest = 30.16241416\n",
      "bestIteration = 992\n",
      "\n"
     ]
    }
   ],
   "source": [
    "tscv = TimeSeriesSplit(n_splits=3) # corectly split time series data\n",
    "\n",
    "model = CatBoostRegressor(loss_function='RMSE',\n",
    "                          verbose=100,\n",
    "                          thread_count=-1,\n",
    "                          random_seed=12345)\n",
    "\n",
    "grid = {'depth': [4, 5, 6],\n",
    "        'min_data_in_leaf':[3, 4, 5],\n",
    "        'l2_leaf_reg': [3, 5, 9, 11, 13]\n",
    "       }\n",
    "\n",
    "grid_search_result = model.grid_search(grid,\n",
    "                                       cv=tscv,\n",
    "                                       X=features_train, \n",
    "                                       y=target_train,\n",
    "                                       plot=True)"
   ]
  },
  {
   "cell_type": "code",
   "execution_count": 48,
   "metadata": {},
   "outputs": [
    {
     "name": "stdout",
     "output_type": "stream",
     "text": [
      "Best CatBoost params: {'min_data_in_leaf': 3, 'depth': 4, 'l2_leaf_reg': 5}\n"
     ]
    }
   ],
   "source": [
    "print(f\"Best CatBoost params: {grid_search_result['params']}\")"
   ]
  },
  {
   "cell_type": "markdown",
   "metadata": {},
   "source": [
    "### LinearRegression"
   ]
  },
  {
   "cell_type": "markdown",
   "metadata": {},
   "source": [
    "Обучим модель линейной регрессии."
   ]
  },
  {
   "cell_type": "code",
   "execution_count": 49,
   "metadata": {},
   "outputs": [
    {
     "data": {
      "text/plain": [
       "LinearRegression()"
      ]
     },
     "execution_count": 49,
     "metadata": {},
     "output_type": "execute_result"
    }
   ],
   "source": [
    "reg = LinearRegression()\n",
    "reg.fit(features_train.dropna(), target_train[features_train.dropna().index])"
   ]
  },
  {
   "cell_type": "code",
   "execution_count": 50,
   "metadata": {},
   "outputs": [
    {
     "name": "stdout",
     "output_type": "stream",
     "text": [
      "RMSE LinearRegression:   32.91882340307937\n",
      "RMSE CatBoostRegression: 18.897444698703268\n"
     ]
    }
   ],
   "source": [
    "predicted_reg = reg.predict(features_train.fillna(0))\n",
    "predicted_catboost = model.predict(features_train.fillna(0))\n",
    "\n",
    "print(f'RMSE LinearRegression:   {mean_squared_error(target_train, predicted_reg, squared=False)}')\n",
    "print(f'RMSE CatBoostRegression: {mean_squared_error(target_train, predicted_catboost, squared=False)}')"
   ]
  },
  {
   "cell_type": "markdown",
   "metadata": {},
   "source": [
    "CatBoost почти \"в два раза лучше\"."
   ]
  },
  {
   "cell_type": "markdown",
   "metadata": {},
   "source": [
    "## Тестирование"
   ]
  },
  {
   "cell_type": "code",
   "execution_count": 51,
   "metadata": {},
   "outputs": [
    {
     "name": "stdout",
     "output_type": "stream",
     "text": [
      "RMSE LinearRegression:   56.762014172656066\n",
      "RMSE CatBoostRegression: 43.346099250783396\n"
     ]
    }
   ],
   "source": [
    "predicted_reg = reg.predict(features_test)\n",
    "predicted_catboost = model.predict(features_test)\n",
    "\n",
    "print(f'RMSE LinearRegression:   {mean_squared_error(target_test, predicted_reg, squared=False)}')\n",
    "print(f'RMSE CatBoostRegression: {mean_squared_error(target_test, predicted_catboost, squared=False)}')"
   ]
  },
  {
   "cell_type": "markdown",
   "metadata": {},
   "source": [
    "Обучим константуную модель."
   ]
  },
  {
   "cell_type": "code",
   "execution_count": 52,
   "metadata": {},
   "outputs": [
    {
     "name": "stdout",
     "output_type": "stream",
     "text": [
      "RMSE DummyRegressor: 58.549609354757315\n"
     ]
    }
   ],
   "source": [
    "dr = DummyRegressor()\n",
    "dr.fit(features_test, target_test)\n",
    "predicted_dr = dr.predict(features_test.fillna(0))\n",
    "print(f'RMSE DummyRegressor: {mean_squared_error(target_test, predicted_dr, squared=False)}')"
   ]
  },
  {
   "cell_type": "markdown",
   "metadata": {},
   "source": [
    "График сравнения предсказания и реальных значений:"
   ]
  },
  {
   "cell_type": "code",
   "execution_count": 54,
   "metadata": {},
   "outputs": [
    {
     "data": {
      "image/png": "[encoded data removed]",
      "text/plain": [
       "<Figure size 1080x360 with 1 Axes>"
      ]
     },
     "metadata": {},
     "output_type": "display_data"
    }
   ],
   "source": [
    "true_pred = pd.DataFrame({ \n",
    "    'y_true' : target_test,\n",
    "    'y_pred' : model.predict(features_test)\n",
    "    })\n",
    "\n",
    "\n",
    "true_pred.plot(figsize=(15,5), title='True and prediction values comparison');"
   ]
  },
  {
   "cell_type": "markdown",
   "metadata": {},
   "source": [
    "Константная модель явно хуже наших моделей. \n",
    "\n",
    "График демонстрирует хорошую прямую  корреляцию предсказаний и реальных значений. "
   ]
  },
  {
   "cell_type": "markdown",
   "metadata": {},
   "source": [
    "## Вывод"
   ]
  },
  {
   "cell_type": "markdown",
   "metadata": {},
   "source": [
    "- Был првоеден анализ данных, проверены пропуски. Был выявлен тренд на увеличение количества заказов осенью, и ежедневная сезонность. \n",
    "- Добавили новые признаки: час заказа, день недели, день, скользящее среднее значений и отстающие значения.\n",
    "- С помощью кросс-валидации подобрали лучшие параметры для CatBoostRegression\n",
    "- Добились RMSE на тестовой выборке меньше 48, как и требовалось.\n",
    "- Модель CatBoostRegression оказалась лучше LinearRegression - RMSE 43.34 против 56.76 соответственно. "
   ]
  }
 ],
 "metadata": {
  "ExecuteTimeLog": [
   {
    "duration": 491,
    "start_time": "2022-05-06T14:51:01.604Z"
   },
   {
    "duration": 35,
    "start_time": "2022-05-06T14:51:27.060Z"
   },
   {
    "duration": 36,
    "start_time": "2022-05-06T19:12:12.279Z"
   },
   {
    "duration": 13,
    "start_time": "2022-05-06T19:12:29.370Z"
   },
   {
    "duration": 8,
    "start_time": "2022-05-06T19:13:44.803Z"
   },
   {
    "duration": 6,
    "start_time": "2022-05-06T19:14:08.293Z"
   },
   {
    "duration": 5,
    "start_time": "2022-05-06T19:15:23.104Z"
   },
   {
    "duration": 12,
    "start_time": "2022-05-06T19:19:13.420Z"
   },
   {
    "duration": 4,
    "start_time": "2022-05-06T19:20:03.662Z"
   },
   {
    "duration": 67,
    "start_time": "2022-05-06T19:21:46.367Z"
   },
   {
    "duration": 491,
    "start_time": "2022-05-06T19:22:08.724Z"
   },
   {
    "duration": 41,
    "start_time": "2022-05-06T19:22:13.035Z"
   },
   {
    "duration": 332,
    "start_time": "2022-05-06T19:22:22.903Z"
   },
   {
    "duration": 756,
    "start_time": "2022-05-06T19:22:27.807Z"
   },
   {
    "duration": 1839,
    "start_time": "2022-05-07T17:03:56.854Z"
   },
   {
    "duration": 140,
    "start_time": "2022-05-07T17:03:58.699Z"
   },
   {
    "duration": 9,
    "start_time": "2022-05-07T17:03:58.841Z"
   },
   {
    "duration": 5,
    "start_time": "2022-05-07T17:03:58.851Z"
   },
   {
    "duration": 14,
    "start_time": "2022-05-07T17:03:58.858Z"
   },
   {
    "duration": 3,
    "start_time": "2022-05-07T17:03:58.873Z"
   },
   {
    "duration": 807,
    "start_time": "2022-05-07T17:03:58.878Z"
   },
   {
    "duration": 4,
    "start_time": "2022-05-07T17:09:54.264Z"
   },
   {
    "duration": 99,
    "start_time": "2022-05-07T17:10:33.248Z"
   },
   {
    "duration": 12,
    "start_time": "2022-05-07T17:10:39.158Z"
   },
   {
    "duration": 9,
    "start_time": "2022-05-07T17:11:18.477Z"
   },
   {
    "duration": 401,
    "start_time": "2022-05-07T17:11:52.420Z"
   },
   {
    "duration": 16,
    "start_time": "2022-05-07T17:11:56.815Z"
   },
   {
    "duration": 6,
    "start_time": "2022-05-07T17:12:03.356Z"
   },
   {
    "duration": 9,
    "start_time": "2022-05-07T17:15:06.297Z"
   },
   {
    "duration": 3,
    "start_time": "2022-05-07T17:15:28.343Z"
   },
   {
    "duration": 9,
    "start_time": "2022-05-07T17:15:32.713Z"
   },
   {
    "duration": 35,
    "start_time": "2022-05-07T17:15:51.205Z"
   },
   {
    "duration": 84852,
    "start_time": "2022-05-07T17:15:56.219Z"
   },
   {
    "duration": 4,
    "start_time": "2022-05-07T17:17:21.072Z"
   },
   {
    "duration": 16,
    "start_time": "2022-05-07T17:19:01.355Z"
   },
   {
    "duration": 16,
    "start_time": "2022-05-07T17:19:30.480Z"
   },
   {
    "duration": 3,
    "start_time": "2022-05-07T17:20:01.126Z"
   },
   {
    "duration": 7,
    "start_time": "2022-05-07T17:20:07.262Z"
   },
   {
    "duration": 7,
    "start_time": "2022-05-07T17:20:38.438Z"
   },
   {
    "duration": 3,
    "start_time": "2022-05-07T17:30:15.426Z"
   },
   {
    "duration": 52,
    "start_time": "2022-05-07T17:30:15.431Z"
   },
   {
    "duration": 6,
    "start_time": "2022-05-07T17:30:15.484Z"
   },
   {
    "duration": 7,
    "start_time": "2022-05-07T17:30:15.491Z"
   },
   {
    "duration": 9,
    "start_time": "2022-05-07T17:30:15.500Z"
   },
   {
    "duration": 4,
    "start_time": "2022-05-07T17:30:15.510Z"
   },
   {
    "duration": 688,
    "start_time": "2022-05-07T17:30:15.515Z"
   },
   {
    "duration": 4,
    "start_time": "2022-05-07T17:30:16.205Z"
   },
   {
    "duration": 14,
    "start_time": "2022-05-07T17:30:16.210Z"
   },
   {
    "duration": 5,
    "start_time": "2022-05-07T17:30:16.226Z"
   },
   {
    "duration": 84977,
    "start_time": "2022-05-07T17:30:16.232Z"
   },
   {
    "duration": 3,
    "start_time": "2022-05-07T17:31:41.210Z"
   },
   {
    "duration": 13,
    "start_time": "2022-05-07T17:31:41.215Z"
   },
   {
    "duration": 8,
    "start_time": "2022-05-07T17:31:41.230Z"
   },
   {
    "duration": 2272,
    "start_time": "2022-05-07T20:33:25.728Z"
   },
   {
    "duration": 56,
    "start_time": "2022-05-07T20:33:28.003Z"
   },
   {
    "duration": 14,
    "start_time": "2022-05-07T20:33:28.062Z"
   },
   {
    "duration": 7,
    "start_time": "2022-05-07T20:33:28.079Z"
   },
   {
    "duration": 18,
    "start_time": "2022-05-07T20:33:28.089Z"
   },
   {
    "duration": 5,
    "start_time": "2022-05-07T20:33:28.110Z"
   },
   {
    "duration": 1339,
    "start_time": "2022-05-07T20:33:28.153Z"
   },
   {
    "duration": 6,
    "start_time": "2022-05-07T20:33:29.495Z"
   },
   {
    "duration": 24,
    "start_time": "2022-05-07T20:33:29.504Z"
   },
   {
    "duration": 8,
    "start_time": "2022-05-07T20:33:29.532Z"
   },
   {
    "duration": 128833,
    "start_time": "2022-05-07T20:33:29.543Z"
   },
   {
    "duration": 5,
    "start_time": "2022-05-07T20:35:38.378Z"
   },
   {
    "duration": 68,
    "start_time": "2022-05-07T20:35:38.385Z"
   },
   {
    "duration": 104,
    "start_time": "2022-05-07T20:35:38.456Z"
   },
   {
    "duration": 32,
    "start_time": "2022-05-07T20:37:58.771Z"
   },
   {
    "duration": 32,
    "start_time": "2022-05-07T20:38:15.426Z"
   },
   {
    "duration": 52,
    "start_time": "2022-05-08T05:55:15.155Z"
   },
   {
    "duration": 1655,
    "start_time": "2022-05-08T05:55:19.889Z"
   },
   {
    "duration": 42,
    "start_time": "2022-05-08T05:55:21.547Z"
   },
   {
    "duration": 21,
    "start_time": "2022-05-08T05:55:21.591Z"
   },
   {
    "duration": 5,
    "start_time": "2022-05-08T05:55:21.614Z"
   },
   {
    "duration": 15,
    "start_time": "2022-05-08T05:55:21.621Z"
   },
   {
    "duration": 4,
    "start_time": "2022-05-08T05:55:21.639Z"
   },
   {
    "duration": 1004,
    "start_time": "2022-05-08T05:55:21.644Z"
   },
   {
    "duration": 149,
    "start_time": "2022-05-08T05:55:22.649Z"
   },
   {
    "duration": 9,
    "start_time": "2022-05-08T05:55:22.801Z"
   },
   {
    "duration": 14,
    "start_time": "2022-05-08T05:55:22.812Z"
   },
   {
    "duration": 6,
    "start_time": "2022-05-08T05:55:22.828Z"
   },
   {
    "duration": 92408,
    "start_time": "2022-05-08T05:55:22.835Z"
   },
   {
    "duration": 3,
    "start_time": "2022-05-08T05:56:55.244Z"
   },
   {
    "duration": 18,
    "start_time": "2022-05-08T05:56:55.249Z"
   },
   {
    "duration": 100,
    "start_time": "2022-05-08T05:56:55.313Z"
   },
   {
    "duration": 78,
    "start_time": "2022-05-08T06:00:25.190Z"
   },
   {
    "duration": 27,
    "start_time": "2022-05-08T06:00:45.147Z"
   },
   {
    "duration": 1963,
    "start_time": "2022-05-08T06:01:02.953Z"
   },
   {
    "duration": 4,
    "start_time": "2022-05-08T06:01:24.093Z"
   },
   {
    "duration": 4,
    "start_time": "2022-05-08T06:01:35.931Z"
   },
   {
    "duration": 14,
    "start_time": "2022-05-08T06:23:43.543Z"
   },
   {
    "duration": 17,
    "start_time": "2022-05-08T07:20:37.165Z"
   },
   {
    "duration": 171,
    "start_time": "2022-05-08T07:22:12.158Z"
   },
   {
    "duration": 103,
    "start_time": "2022-05-08T07:22:18.110Z"
   },
   {
    "duration": 197,
    "start_time": "2022-05-08T07:22:51.913Z"
   },
   {
    "duration": 26,
    "start_time": "2022-05-08T07:23:13.683Z"
   },
   {
    "duration": 5,
    "start_time": "2022-05-08T07:26:07.658Z"
   },
   {
    "duration": 19,
    "start_time": "2022-05-08T07:28:51.179Z"
   },
   {
    "duration": 23,
    "start_time": "2022-05-08T07:29:26.597Z"
   },
   {
    "duration": 20,
    "start_time": "2022-05-08T07:33:29.332Z"
   },
   {
    "duration": 20,
    "start_time": "2022-05-08T07:33:35.111Z"
   },
   {
    "duration": 13,
    "start_time": "2022-05-08T07:33:42.288Z"
   },
   {
    "duration": 19,
    "start_time": "2022-05-08T07:33:56.903Z"
   },
   {
    "duration": 5,
    "start_time": "2022-05-08T07:34:20.781Z"
   },
   {
    "duration": 2485,
    "start_time": "2022-05-08T10:27:29.947Z"
   },
   {
    "duration": 58,
    "start_time": "2022-05-08T10:27:32.435Z"
   },
   {
    "duration": 9,
    "start_time": "2022-05-08T10:27:32.495Z"
   },
   {
    "duration": 7,
    "start_time": "2022-05-08T10:27:32.506Z"
   },
   {
    "duration": 14,
    "start_time": "2022-05-08T10:27:32.515Z"
   },
   {
    "duration": 4,
    "start_time": "2022-05-08T10:27:32.530Z"
   },
   {
    "duration": 982,
    "start_time": "2022-05-08T10:27:32.536Z"
   },
   {
    "duration": 156,
    "start_time": "2022-05-08T10:27:33.520Z"
   },
   {
    "duration": 2120,
    "start_time": "2022-05-08T10:27:33.677Z"
   },
   {
    "duration": 91,
    "start_time": "2022-05-08T10:27:35.803Z"
   },
   {
    "duration": 6,
    "start_time": "2022-05-08T10:27:35.895Z"
   },
   {
    "duration": 13,
    "start_time": "2022-05-08T10:27:35.903Z"
   },
   {
    "duration": 17,
    "start_time": "2022-05-08T10:27:35.917Z"
   },
   {
    "duration": 7,
    "start_time": "2022-05-08T10:27:35.936Z"
   },
   {
    "duration": 95005,
    "start_time": "2022-05-08T10:27:35.945Z"
   },
   {
    "duration": 5,
    "start_time": "2022-05-08T10:29:10.952Z"
   },
   {
    "duration": 24,
    "start_time": "2022-05-08T10:29:10.959Z"
   },
   {
    "duration": 203,
    "start_time": "2022-05-08T10:29:10.994Z"
   },
   {
    "duration": 13,
    "start_time": "2022-05-08T10:29:11.199Z"
   },
   {
    "duration": 80,
    "start_time": "2022-05-08T10:29:11.216Z"
   },
   {
    "duration": 5,
    "start_time": "2022-05-08T10:31:12.779Z"
   },
   {
    "duration": 7,
    "start_time": "2022-05-08T10:31:18.269Z"
   },
   {
    "duration": 296,
    "start_time": "2022-05-08T10:32:00.110Z"
   },
   {
    "duration": 182,
    "start_time": "2022-05-08T10:32:17.532Z"
   },
   {
    "duration": 181,
    "start_time": "2022-05-08T10:32:31.062Z"
   },
   {
    "duration": 179,
    "start_time": "2022-05-08T10:33:34.507Z"
   },
   {
    "duration": 13,
    "start_time": "2022-05-08T10:37:50.202Z"
   },
   {
    "duration": 15,
    "start_time": "2022-05-08T10:38:40.239Z"
   },
   {
    "duration": 10,
    "start_time": "2022-05-08T10:43:47.724Z"
   },
   {
    "duration": 12,
    "start_time": "2022-05-08T10:44:04.803Z"
   },
   {
    "duration": 11,
    "start_time": "2022-05-08T10:45:36.288Z"
   },
   {
    "duration": 412,
    "start_time": "2022-05-08T10:45:53.241Z"
   },
   {
    "duration": 6,
    "start_time": "2022-05-08T10:47:29.428Z"
   },
   {
    "duration": 60,
    "start_time": "2022-05-08T10:47:29.436Z"
   },
   {
    "duration": 9,
    "start_time": "2022-05-08T10:47:29.499Z"
   },
   {
    "duration": 11,
    "start_time": "2022-05-08T10:47:29.510Z"
   },
   {
    "duration": 15,
    "start_time": "2022-05-08T10:47:29.525Z"
   },
   {
    "duration": 5,
    "start_time": "2022-05-08T10:47:29.543Z"
   },
   {
    "duration": 1365,
    "start_time": "2022-05-08T10:47:29.550Z"
   },
   {
    "duration": 243,
    "start_time": "2022-05-08T10:47:30.917Z"
   },
   {
    "duration": 1343,
    "start_time": "2022-05-08T10:47:31.162Z"
   },
   {
    "duration": 88,
    "start_time": "2022-05-08T10:47:32.507Z"
   },
   {
    "duration": 96,
    "start_time": "2022-05-08T10:47:32.598Z"
   },
   {
    "duration": 7,
    "start_time": "2022-05-08T10:47:32.697Z"
   },
   {
    "duration": 21,
    "start_time": "2022-05-08T10:47:32.707Z"
   },
   {
    "duration": 9,
    "start_time": "2022-05-08T10:47:32.732Z"
   },
   {
    "duration": 101027,
    "start_time": "2022-05-08T10:47:32.744Z"
   },
   {
    "duration": 4,
    "start_time": "2022-05-08T10:49:13.773Z"
   },
   {
    "duration": 29,
    "start_time": "2022-05-08T10:49:13.779Z"
   },
   {
    "duration": 87,
    "start_time": "2022-05-08T10:49:13.810Z"
   },
   {
    "duration": 112,
    "start_time": "2022-05-08T10:49:13.899Z"
   },
   {
    "duration": 11,
    "start_time": "2022-05-08T10:49:14.012Z"
   },
   {
    "duration": 273,
    "start_time": "2022-05-08T10:49:14.025Z"
   },
   {
    "duration": 241,
    "start_time": "2022-05-08T10:49:59.105Z"
   }
  ],
  "kernelspec": {
   "display_name": "Python 3 (ipykernel)",
   "language": "python",
   "name": "python3"
  },
  "language_info": {
   "codemirror_mode": {
    "name": "ipython",
    "version": 3
   },
   "file_extension": ".py",
   "mimetype": "text/x-python",
   "name": "python",
   "nbconvert_exporter": "python",
   "pygments_lexer": "ipython3",
   "version": "3.9.7"
  },
  "toc": {
   "base_numbering": 1,
   "nav_menu": {},
   "number_sections": true,
   "sideBar": true,
   "skip_h1_title": true,
   "title_cell": "Содержание",
   "title_sidebar": "Contents",
   "toc_cell": true,
   "toc_position": {},
   "toc_section_display": true,
   "toc_window_display": false
  }
 },
 "nbformat": 4,
 "nbformat_minor": 2
}
