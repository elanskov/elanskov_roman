{
 "cells": [
  {
   "cell_type": "markdown",
   "metadata": {
    "id": "E0vqbgi9ay0H"
   },
   "source": [
    "# Яндекс.Музыка"
   ]
  },
  {
   "cell_type": "markdown",
   "metadata": {
    "id": "VUC88oWjTJw2"
   },
   "source": [
    "Сравнение Москвы и Петербурга окружено мифами. Например:\n",
    " * Москва — мегаполис, подчинённый жёсткому ритму рабочей недели;\n",
    " * Петербург — культурная столица, со своими вкусами.\n",
    "\n",
    "На данных Яндекс.Музыки вы сравните поведение пользователей двух столиц.\n",
    "\n",
    "**Цель исследования** — проверьте три гипотезы:\n",
    "1. Активность пользователей зависит от дня недели. Причём в Москве и Петербурге это проявляется по-разному.\n",
    "2. В понедельник утром в Москве преобладают одни жанры, а в Петербурге — другие. Так же и вечером пятницы преобладают разные жанры — в зависимости от города. \n",
    "3. Москва и Петербург предпочитают разные жанры музыки. В Москве чаще слушают поп-музыку, в Петербурге — русский рэп.\n",
    "\n",
    "**Ход исследования**\n",
    "\n",
    "Данные о поведении пользователей вы получите из файла `yandex_music_project.csv`. О качестве данных ничего не известно. Поэтому перед проверкой гипотез понадобится обзор данных. \n",
    "\n",
    "Вы проверите данные на ошибки и оцените их влияние на исследование. Затем, на этапе предобработки вы поищете возможность исправить самые критичные ошибки данных.\n",
    " \n",
    "Таким образом, исследование пройдёт в три этапа:\n",
    " 1. Обзор данных.\n",
    " 2. Предобработка данных.\n",
    " 3. Проверка гипотез.\n",
    "\n"
   ]
  },
  {
   "cell_type": "markdown",
   "metadata": {
    "id": "Ml1hmfXC_Zcs"
   },
   "source": [
    "## Обзор данных\n",
    "\n",
    "Составьте первое представление о данных Яндекс.Музыки.\n",
    "\n",
    "\n"
   ]
  },
  {
   "cell_type": "markdown",
   "metadata": {
    "id": "57eAOGIz_Zcs"
   },
   "source": [
    "Основной инструмент аналитика — `pandas`. Импортируйте эту библиотеку."
   ]
  },
  {
   "cell_type": "code",
   "execution_count": 1,
   "metadata": {
    "id": "AXN7PHPN_Zcs"
   },
   "outputs": [],
   "source": [
    "# импорт библиотеки pandas\n",
    "import pandas as pd"
   ]
  },
  {
   "cell_type": "markdown",
   "metadata": {
    "id": "SG23P8tt_Zcs"
   },
   "source": [
    "Прочитайте файл `yandex_music_project.csv` из папки `/datasets` и сохраните его в переменной `df`:"
   ]
  },
  {
   "cell_type": "code",
   "execution_count": 2,
   "metadata": {
    "id": "fFVu7vqh_Zct",
    "scrolled": true
   },
   "outputs": [],
   "source": [
    "# чтение файла с данными и сохранение в df\n",
    "df = pd.read_csv('/datasets/yandex_music_project.csv')"
   ]
  },
  {
   "cell_type": "markdown",
   "metadata": {
    "id": "rDoOMd3uTqnZ"
   },
   "source": [
    "Выведите на экран первые десять строк таблицы:"
   ]
  },
  {
   "cell_type": "code",
   "execution_count": 3,
   "metadata": {
    "id": "oWTVX3gW_Zct"
   },
   "outputs": [
    {
     "data": {
      "text/html": [
       "<div>\n",
       "<style scoped>\n",
       "    .dataframe tbody tr th:only-of-type {\n",
       "        vertical-align: middle;\n",
       "    }\n",
       "\n",
       "    .dataframe tbody tr th {\n",
       "        vertical-align: top;\n",
       "    }\n",
       "\n",
       "    .dataframe thead th {\n",
       "        text-align: right;\n",
       "    }\n",
       "</style>\n",
       "<table border=\"1\" class=\"dataframe\">\n",
       "  <thead>\n",
       "    <tr style=\"text-align: right;\">\n",
       "      <th></th>\n",
       "      <th>userID</th>\n",
       "      <th>Track</th>\n",
       "      <th>artist</th>\n",
       "      <th>genre</th>\n",
       "      <th>City</th>\n",
       "      <th>time</th>\n",
       "      <th>Day</th>\n",
       "    </tr>\n",
       "  </thead>\n",
       "  <tbody>\n",
       "    <tr>\n",
       "      <td>0</td>\n",
       "      <td>FFB692EC</td>\n",
       "      <td>Kamigata To Boots</td>\n",
       "      <td>The Mass Missile</td>\n",
       "      <td>rock</td>\n",
       "      <td>Saint-Petersburg</td>\n",
       "      <td>20:28:33</td>\n",
       "      <td>Wednesday</td>\n",
       "    </tr>\n",
       "    <tr>\n",
       "      <td>1</td>\n",
       "      <td>55204538</td>\n",
       "      <td>Delayed Because of Accident</td>\n",
       "      <td>Andreas Rönnberg</td>\n",
       "      <td>rock</td>\n",
       "      <td>Moscow</td>\n",
       "      <td>14:07:09</td>\n",
       "      <td>Friday</td>\n",
       "    </tr>\n",
       "    <tr>\n",
       "      <td>2</td>\n",
       "      <td>20EC38</td>\n",
       "      <td>Funiculì funiculà</td>\n",
       "      <td>Mario Lanza</td>\n",
       "      <td>pop</td>\n",
       "      <td>Saint-Petersburg</td>\n",
       "      <td>20:58:07</td>\n",
       "      <td>Wednesday</td>\n",
       "    </tr>\n",
       "    <tr>\n",
       "      <td>3</td>\n",
       "      <td>A3DD03C9</td>\n",
       "      <td>Dragons in the Sunset</td>\n",
       "      <td>Fire + Ice</td>\n",
       "      <td>folk</td>\n",
       "      <td>Saint-Petersburg</td>\n",
       "      <td>08:37:09</td>\n",
       "      <td>Monday</td>\n",
       "    </tr>\n",
       "    <tr>\n",
       "      <td>4</td>\n",
       "      <td>E2DC1FAE</td>\n",
       "      <td>Soul People</td>\n",
       "      <td>Space Echo</td>\n",
       "      <td>dance</td>\n",
       "      <td>Moscow</td>\n",
       "      <td>08:34:34</td>\n",
       "      <td>Monday</td>\n",
       "    </tr>\n",
       "    <tr>\n",
       "      <td>5</td>\n",
       "      <td>842029A1</td>\n",
       "      <td>Преданная</td>\n",
       "      <td>IMPERVTOR</td>\n",
       "      <td>rusrap</td>\n",
       "      <td>Saint-Petersburg</td>\n",
       "      <td>13:09:41</td>\n",
       "      <td>Friday</td>\n",
       "    </tr>\n",
       "    <tr>\n",
       "      <td>6</td>\n",
       "      <td>4CB90AA5</td>\n",
       "      <td>True</td>\n",
       "      <td>Roman Messer</td>\n",
       "      <td>dance</td>\n",
       "      <td>Moscow</td>\n",
       "      <td>13:00:07</td>\n",
       "      <td>Wednesday</td>\n",
       "    </tr>\n",
       "    <tr>\n",
       "      <td>7</td>\n",
       "      <td>F03E1C1F</td>\n",
       "      <td>Feeling This Way</td>\n",
       "      <td>Polina Griffith</td>\n",
       "      <td>dance</td>\n",
       "      <td>Moscow</td>\n",
       "      <td>20:47:49</td>\n",
       "      <td>Wednesday</td>\n",
       "    </tr>\n",
       "    <tr>\n",
       "      <td>8</td>\n",
       "      <td>8FA1D3BE</td>\n",
       "      <td>И вновь продолжается бой</td>\n",
       "      <td>NaN</td>\n",
       "      <td>ruspop</td>\n",
       "      <td>Moscow</td>\n",
       "      <td>09:17:40</td>\n",
       "      <td>Friday</td>\n",
       "    </tr>\n",
       "    <tr>\n",
       "      <td>9</td>\n",
       "      <td>E772D5C0</td>\n",
       "      <td>Pessimist</td>\n",
       "      <td>NaN</td>\n",
       "      <td>dance</td>\n",
       "      <td>Saint-Petersburg</td>\n",
       "      <td>21:20:49</td>\n",
       "      <td>Wednesday</td>\n",
       "    </tr>\n",
       "  </tbody>\n",
       "</table>\n",
       "</div>"
      ],
      "text/plain": [
       "     userID                        Track            artist   genre  \\\n",
       "0  FFB692EC            Kamigata To Boots  The Mass Missile    rock   \n",
       "1  55204538  Delayed Because of Accident  Andreas Rönnberg    rock   \n",
       "2    20EC38            Funiculì funiculà       Mario Lanza     pop   \n",
       "3  A3DD03C9        Dragons in the Sunset        Fire + Ice    folk   \n",
       "4  E2DC1FAE                  Soul People        Space Echo   dance   \n",
       "5  842029A1                    Преданная         IMPERVTOR  rusrap   \n",
       "6  4CB90AA5                         True      Roman Messer   dance   \n",
       "7  F03E1C1F             Feeling This Way   Polina Griffith   dance   \n",
       "8  8FA1D3BE     И вновь продолжается бой               NaN  ruspop   \n",
       "9  E772D5C0                    Pessimist               NaN   dance   \n",
       "\n",
       "             City        time        Day  \n",
       "0  Saint-Petersburg  20:28:33  Wednesday  \n",
       "1            Moscow  14:07:09     Friday  \n",
       "2  Saint-Petersburg  20:58:07  Wednesday  \n",
       "3  Saint-Petersburg  08:37:09     Monday  \n",
       "4            Moscow  08:34:34     Monday  \n",
       "5  Saint-Petersburg  13:09:41     Friday  \n",
       "6            Moscow  13:00:07  Wednesday  \n",
       "7            Moscow  20:47:49  Wednesday  \n",
       "8            Moscow  09:17:40     Friday  \n",
       "9  Saint-Petersburg  21:20:49  Wednesday  "
      ]
     },
     "execution_count": 3,
     "metadata": {},
     "output_type": "execute_result"
    }
   ],
   "source": [
    "# получение первых 10 строк таблицы df\n",
    "df.head(10)"
   ]
  },
  {
   "cell_type": "markdown",
   "metadata": {
    "id": "EO73Kwic_Zct"
   },
   "source": [
    "Одной командой получить общую информацию о таблице:"
   ]
  },
  {
   "cell_type": "code",
   "execution_count": 4,
   "metadata": {
    "id": "DSf2kIb-_Zct"
   },
   "outputs": [
    {
     "name": "stdout",
     "output_type": "stream",
     "text": [
      "<class 'pandas.core.frame.DataFrame'>\n",
      "RangeIndex: 65079 entries, 0 to 65078\n",
      "Data columns (total 7 columns):\n",
      "  userID    65079 non-null object\n",
      "Track       63848 non-null object\n",
      "artist      57876 non-null object\n",
      "genre       63881 non-null object\n",
      "  City      65079 non-null object\n",
      "time        65079 non-null object\n",
      "Day         65079 non-null object\n",
      "dtypes: object(7)\n",
      "memory usage: 3.5+ MB\n"
     ]
    }
   ],
   "source": [
    "# получение общей информации о данных в таблице df. \n",
    "df.info() "
   ]
  },
  {
   "cell_type": "markdown",
   "metadata": {
    "id": "TaQ2Iwbr_Zct"
   },
   "source": [
    "Итак, в таблице семь столбцов. Тип данных во всех столбцах — `object`.\n",
    "\n",
    "Согласно документации к данным:\n",
    "* `userID` — идентификатор пользователя;\n",
    "* `Track` — название трека;  \n",
    "* `artist` — имя исполнителя;\n",
    "* `genre` — название жанра;\n",
    "* `City` — город пользователя;\n",
    "* `time` — время начала прослушивания;\n",
    "* `Day` — день недели.\n",
    "\n",
    "В названиях колонок видны три нарушения стиля:\n",
    "1. Строчные буквы сочетаются с прописными.\n",
    "2. Встречаются пробелы.\n",
    "3. Использован \"жирафий регистр\" (в названии \"userID\")\n",
    "\n",
    "\n",
    "Количество значений в столбцах различается. Значит, в данных есть пропущенные значения."
   ]
  },
  {
   "cell_type": "markdown",
   "metadata": {
    "id": "MCB6-dXG_Zct"
   },
   "source": [
    "**Выводы**\n",
    "\n",
    "В каждой строке таблицы — данные о прослушанном треке. Часть колонок описывает саму композицию: название, исполнителя и жанр. Остальные данные рассказывают о пользователе: из какого он города, когда он слушал музыку. \n",
    "\n",
    "Предварительно можно утверждать, что, данных достаточно для проверки гипотез. Но встречаются пропуски в данных, а в названиях колонок — расхождения с хорошим стилем.\n",
    "\n",
    "Чтобы двигаться дальше, нужно устранить проблемы в данных."
   ]
  },
  {
   "cell_type": "markdown",
   "metadata": {
    "id": "SjYF6Ub9_Zct"
   },
   "source": [
    "## Предобработка данных\n",
    "Исправьте стиль в заголовках столбцов, исключите пропуски. Затем проверьте данные на дубликаты."
   ]
  },
  {
   "cell_type": "markdown",
   "metadata": {
    "id": "dIaKXr29_Zct"
   },
   "source": [
    "### Стиль заголовков\n",
    "Выведите на экран названия столбцов:"
   ]
  },
  {
   "cell_type": "code",
   "execution_count": 5,
   "metadata": {
    "id": "oKOTdF_Q_Zct"
   },
   "outputs": [
    {
     "data": {
      "text/plain": [
       "Index(['  userID', 'Track', 'artist', 'genre', '  City  ', 'time', 'Day'], dtype='object')"
      ]
     },
     "execution_count": 5,
     "metadata": {},
     "output_type": "execute_result"
    }
   ],
   "source": [
    "# перечень названий столбцов таблицы df\n",
    "df.columns "
   ]
  },
  {
   "cell_type": "markdown",
   "metadata": {
    "id": "zj5534cv_Zct"
   },
   "source": [
    "Приведите названия в соответствие с хорошим стилем:\n",
    "* несколько слов в названии запишите в «змеином_регистре»,\n",
    "* все символы сделайте строчными,\n",
    "* устраните пробелы.\n",
    "\n",
    "Для этого переименуйте колонки так:\n",
    "* `'  userID'` → `'user_id'`;\n",
    "* `'Track'` → `'track'`;\n",
    "* `'  City  '` → `'city'`;\n",
    "* `'Day'` → `'day'`."
   ]
  },
  {
   "cell_type": "code",
   "execution_count": 6,
   "metadata": {
    "id": "ISlFqs5y_Zct"
   },
   "outputs": [],
   "source": [
    "df = df.rename(columns={'  userID':'user_id', 'Track':'track', '  City  ':'city', 'Day':'day'}) # переименование столбцов"
   ]
  },
  {
   "cell_type": "markdown",
   "metadata": {
    "id": "1dqbh00J_Zct"
   },
   "source": [
    "Проверьте результат. Для этого ещё раз выведите на экран названия столбцов:"
   ]
  },
  {
   "cell_type": "code",
   "execution_count": 7,
   "metadata": {
    "id": "d4NOAmTW_Zct"
   },
   "outputs": [
    {
     "data": {
      "text/plain": [
       "Index(['user_id', 'track', 'artist', 'genre', 'city', 'time', 'day'], dtype='object')"
      ]
     },
     "execution_count": 7,
     "metadata": {},
     "output_type": "execute_result"
    }
   ],
   "source": [
    "# проверка результатов - перечень названий столбцов\n",
    "df.columns "
   ]
  },
  {
   "cell_type": "markdown",
   "metadata": {
    "id": "5ISfbcfY_Zct"
   },
   "source": [
    "### Пропуски значений\n",
    "Сначала посчитайте, сколько в таблице пропущенных значений. Для этого достаточно двух методов `pandas`:"
   ]
  },
  {
   "cell_type": "code",
   "execution_count": 8,
   "metadata": {
    "id": "RskX29qr_Zct"
   },
   "outputs": [
    {
     "data": {
      "text/plain": [
       "user_id       0\n",
       "track      1231\n",
       "artist     7203\n",
       "genre      1198\n",
       "city          0\n",
       "time          0\n",
       "day           0\n",
       "dtype: int64"
      ]
     },
     "execution_count": 8,
     "metadata": {},
     "output_type": "execute_result"
    }
   ],
   "source": [
    "df.isna().sum() # подсчёт пропусков"
   ]
  },
  {
   "cell_type": "markdown",
   "metadata": {
    "id": "qubhgnlO_Zct"
   },
   "source": [
    "Не все пропущенные значения влияют на исследование. Так в `track` и `artist` пропуски не важны для вашей работы. Достаточно заменить их явными обозначениями.\n",
    "\n",
    "Но пропуски в `genre` могут помешать сравнению музыкальных вкусов в Москве и Санкт-Петербурге. На практике было бы правильно установить причину пропусков и восстановить данные. Такой возможности нет в учебном проекте. Придётся:\n",
    "* заполнить и эти пропуски явными обозначениями,\n",
    "* оценить, насколько они повредят расчётам. "
   ]
  },
  {
   "cell_type": "markdown",
   "metadata": {
    "id": "fSv2laPA_Zct"
   },
   "source": [
    "Замените пропущенные значения в столбцах `track`, `artist` и `genre` на строку `'unknown'`. Для этого создайте список `columns_to_replace`, переберите его элементы циклом `for` и для каждого столбца выполните замену пропущенных значений:"
   ]
  },
  {
   "cell_type": "code",
   "execution_count": 9,
   "metadata": {
    "id": "KplB5qWs_Zct"
   },
   "outputs": [],
   "source": [
    "column_to_replace = ['track', 'artist', 'genre'] # создание списка для исправления пропусков\n",
    "for i in column_to_replace: # перебор названий столбцов в цикле и\n",
    "    df[i] = df[i].fillna('unknown') # замена пропущенных значений на 'unknown'\n",
    "    \n",
    " "
   ]
  },
  {
   "cell_type": "markdown",
   "metadata": {
    "id": "Ilsm-MZo_Zct"
   },
   "source": [
    "Убедитесь, что в таблице не осталось пропусков. Для этого ещё раз посчитайте пропущенные значения."
   ]
  },
  {
   "cell_type": "code",
   "execution_count": 10,
   "metadata": {
    "id": "Tq4nYRX4_Zct"
   },
   "outputs": [
    {
     "data": {
      "text/plain": [
       "user_id    0\n",
       "track      0\n",
       "artist     0\n",
       "genre      0\n",
       "city       0\n",
       "time       0\n",
       "day        0\n",
       "dtype: int64"
      ]
     },
     "execution_count": 10,
     "metadata": {},
     "output_type": "execute_result"
    }
   ],
   "source": [
    "df.isna().sum() # подсчёт пропусков"
   ]
  },
  {
   "cell_type": "markdown",
   "metadata": {
    "id": "BWKRtBJ3_Zct"
   },
   "source": [
    "### Дубликаты\n",
    "Посчитайте явные дубликаты в таблице одной командой:"
   ]
  },
  {
   "cell_type": "code",
   "execution_count": 11,
   "metadata": {
    "id": "36eES_S0_Zct"
   },
   "outputs": [
    {
     "data": {
      "text/plain": [
       "3826"
      ]
     },
     "execution_count": 11,
     "metadata": {},
     "output_type": "execute_result"
    }
   ],
   "source": [
    "df.duplicated().sum() # подсчёт явных дубликатов"
   ]
  },
  {
   "cell_type": "markdown",
   "metadata": {
    "id": "Ot25h6XR_Zct"
   },
   "source": [
    "Вызовите специальный метод `pandas`, чтобы удалить явные дубликаты:"
   ]
  },
  {
   "cell_type": "code",
   "execution_count": 12,
   "metadata": {
    "id": "exFHq6tt_Zct"
   },
   "outputs": [],
   "source": [
    "df = df.drop_duplicates().reset_index(drop=True) # удаление явных дубликатов (с удалением старых индексов и формированием новых)"
   ]
  },
  {
   "cell_type": "markdown",
   "metadata": {
    "id": "Im2YwBEG_Zct"
   },
   "source": [
    "Ещё раз посчитайте явные дубликаты в таблице — убедитесь, что полностью от них избавились:"
   ]
  },
  {
   "cell_type": "code",
   "execution_count": 13,
   "metadata": {
    "id": "-8PuNWQ0_Zct"
   },
   "outputs": [
    {
     "data": {
      "text/plain": [
       "0"
      ]
     },
     "execution_count": 13,
     "metadata": {},
     "output_type": "execute_result"
    }
   ],
   "source": [
    "df.duplicated().sum() # проверка на отсутствие дубликатов"
   ]
  },
  {
   "cell_type": "markdown",
   "metadata": {
    "id": "QlFBsxAr_Zct"
   },
   "source": [
    "Теперь избавьтесь от неявных дубликатов в колонке `genre`. Например, название одного и того же жанра может быть записано немного по-разному. Такие ошибки тоже повлияют на результат исследования."
   ]
  },
  {
   "cell_type": "markdown",
   "metadata": {
    "id": "eSjWwsOh_Zct"
   },
   "source": [
    "Выведите на экран список уникальных названий жанров, отсортированный в алфавитном порядке. Для этого:\n",
    "* извлеките нужный столбец датафрейма, \n",
    "* примените к нему метод сортировки,\n",
    "* для отсортированного столбца вызовите метод, который вернёт уникальные значения из столбца."
   ]
  },
  {
   "cell_type": "code",
   "execution_count": 14,
   "metadata": {
    "id": "JIUcqzZN_Zct"
   },
   "outputs": [
    {
     "data": {
      "text/plain": [
       "array(['acid', 'acoustic', 'action', 'adult', 'africa', 'afrikaans',\n",
       "       'alternative', 'alternativepunk', 'ambient', 'americana',\n",
       "       'animated', 'anime', 'arabesk', 'arabic', 'arena',\n",
       "       'argentinetango', 'art', 'audiobook', 'author', 'avantgarde',\n",
       "       'axé', 'baile', 'balkan', 'beats', 'bigroom', 'black', 'bluegrass',\n",
       "       'blues', 'bollywood', 'bossa', 'brazilian', 'breakbeat', 'breaks',\n",
       "       'broadway', 'cantautori', 'cantopop', 'canzone', 'caribbean',\n",
       "       'caucasian', 'celtic', 'chamber', 'chanson', 'children', 'chill',\n",
       "       'chinese', 'choral', 'christian', 'christmas', 'classical',\n",
       "       'classicmetal', 'club', 'colombian', 'comedy', 'conjazz',\n",
       "       'contemporary', 'country', 'cuban', 'dance', 'dancehall',\n",
       "       'dancepop', 'dark', 'death', 'deep', 'deutschrock', 'deutschspr',\n",
       "       'dirty', 'disco', 'dnb', 'documentary', 'downbeat', 'downtempo',\n",
       "       'drum', 'dub', 'dubstep', 'eastern', 'easy', 'electronic',\n",
       "       'electropop', 'emo', 'entehno', 'epicmetal', 'estrada', 'ethnic',\n",
       "       'eurofolk', 'european', 'experimental', 'extrememetal', 'fado',\n",
       "       'fairytail', 'film', 'fitness', 'flamenco', 'folk', 'folklore',\n",
       "       'folkmetal', 'folkrock', 'folktronica', 'forró', 'frankreich',\n",
       "       'französisch', 'french', 'funk', 'future', 'gangsta', 'garage',\n",
       "       'german', 'ghazal', 'gitarre', 'glitch', 'gospel', 'gothic',\n",
       "       'grime', 'grunge', 'gypsy', 'handsup', \"hard'n'heavy\", 'hardcore',\n",
       "       'hardstyle', 'hardtechno', 'hip', 'hip-hop', 'hiphop',\n",
       "       'historisch', 'holiday', 'hop', 'horror', 'house', 'hymn', 'idm',\n",
       "       'independent', 'indian', 'indie', 'indipop', 'industrial',\n",
       "       'inspirational', 'instrumental', 'international', 'irish', 'jam',\n",
       "       'japanese', 'jazz', 'jewish', 'jpop', 'jungle', 'k-pop',\n",
       "       'karadeniz', 'karaoke', 'kayokyoku', 'korean', 'laiko', 'latin',\n",
       "       'latino', 'leftfield', 'local', 'lounge', 'loungeelectronic',\n",
       "       'lovers', 'malaysian', 'mandopop', 'marschmusik', 'meditative',\n",
       "       'mediterranean', 'melodic', 'metal', 'metalcore', 'mexican',\n",
       "       'middle', 'minimal', 'miscellaneous', 'modern', 'mood', 'mpb',\n",
       "       'muslim', 'native', 'neoklassik', 'neue', 'new', 'newage',\n",
       "       'newwave', 'nu', 'nujazz', 'numetal', 'oceania', 'old', 'opera',\n",
       "       'orchestral', 'other', 'piano', 'podcasts', 'pop', 'popdance',\n",
       "       'popelectronic', 'popeurodance', 'poprussian', 'post',\n",
       "       'posthardcore', 'postrock', 'power', 'progmetal', 'progressive',\n",
       "       'psychedelic', 'punjabi', 'punk', 'quebecois', 'ragga', 'ram',\n",
       "       'rancheras', 'rap', 'rave', 'reggae', 'reggaeton', 'regional',\n",
       "       'relax', 'religious', 'retro', 'rhythm', 'rnb', 'rnr', 'rock',\n",
       "       'rockabilly', 'rockalternative', 'rockindie', 'rockother',\n",
       "       'romance', 'roots', 'ruspop', 'rusrap', 'rusrock', 'russian',\n",
       "       'salsa', 'samba', 'scenic', 'schlager', 'self', 'sertanejo',\n",
       "       'shanson', 'shoegazing', 'showtunes', 'singer', 'ska', 'skarock',\n",
       "       'slow', 'smooth', 'soft', 'soul', 'soulful', 'sound', 'soundtrack',\n",
       "       'southern', 'specialty', 'speech', 'spiritual', 'sport',\n",
       "       'stonerrock', 'surf', 'swing', 'synthpop', 'synthrock',\n",
       "       'sängerportrait', 'tango', 'tanzorchester', 'taraftar', 'tatar',\n",
       "       'tech', 'techno', 'teen', 'thrash', 'top', 'traditional',\n",
       "       'tradjazz', 'trance', 'tribal', 'trip', 'triphop', 'tropical',\n",
       "       'türk', 'türkçe', 'ukrrock', 'unknown', 'urban', 'uzbek',\n",
       "       'variété', 'vi', 'videogame', 'vocal', 'western', 'world',\n",
       "       'worldbeat', 'ïîï', 'электроника'], dtype=object)"
      ]
     },
     "execution_count": 14,
     "metadata": {},
     "output_type": "execute_result"
    }
   ],
   "source": [
    "# Просмотр уникальных названий жанров\n",
    "df['genre'].sort_values().unique()"
   ]
  },
  {
   "cell_type": "markdown",
   "metadata": {
    "id": "qej-Qmuo_Zct"
   },
   "source": [
    "Просмотрите список и найдите неявные дубликаты названия `hiphop`. Это могут быть названия с ошибками или альтернативные названия того же жанра.\n",
    "\n",
    "Вы увидите следующие неявные дубликаты:\n",
    "* *hip*,\n",
    "* *hop*,\n",
    "* *hip-hop*.\n",
    "\n",
    "Чтобы очистить от них таблицу, напишите функцию `replace_wrong_genres()` с двумя параметрами: \n",
    "* `wrong_genres` — список дубликатов,\n",
    "* `correct_genre` — строка с правильным значением.\n",
    "\n",
    "Функция должна исправить колонку `genre` в таблице `df`: заменить каждое значение из списка `wrong_genres` на значение из `correct_genre`."
   ]
  },
  {
   "cell_type": "code",
   "execution_count": 15,
   "metadata": {
    "id": "ErNDkmns_Zct"
   },
   "outputs": [],
   "source": [
    "def replace_wrong_genres(wrong_genres, correct_genre): # Функция для замены неявных дубликатов\n",
    "    df['genre'] = df['genre'].replace(wrong_genres, correct_genre) # меняем каждое непавильное имя  "
   ]
  },
  {
   "cell_type": "markdown",
   "metadata": {
    "id": "aDoBJxbA_Zct"
   },
   "source": [
    "Вызовите `replace_wrong_genres()` и передайте ей такие аргументы, чтобы она устранила неявные дубликаты: вместо `hip`, `hop` и `hip-hop` в таблице должно быть значение `hiphop`:"
   ]
  },
  {
   "cell_type": "code",
   "execution_count": 16,
   "metadata": {
    "id": "YN5i2hpmSo09"
   },
   "outputs": [],
   "source": [
    "duplicates = ['hip', 'hop', 'hip-hop'] # список дубликатов\n",
    "genre = 'hiphop' # корректное названия жанра\n",
    "replace_wrong_genres(duplicates, genre) # Устранение неявных дубликатов"
   ]
  },
  {
   "cell_type": "markdown",
   "metadata": {
    "id": "zQKF16_RG15m"
   },
   "source": [
    "Проверьте, что заменили неправильные названия:\n",
    "\n",
    "*   hip\n",
    "*   hop\n",
    "*   hip-hop\n",
    "\n",
    "Выведите отсортированный список уникальных значений столбца `genre`:"
   ]
  },
  {
   "cell_type": "code",
   "execution_count": 17,
   "metadata": {
    "id": "wvixALnFG15m"
   },
   "outputs": [
    {
     "data": {
      "text/plain": [
       "array(['acid', 'acoustic', 'action', 'adult', 'africa', 'afrikaans',\n",
       "       'alternative', 'alternativepunk', 'ambient', 'americana',\n",
       "       'animated', 'anime', 'arabesk', 'arabic', 'arena',\n",
       "       'argentinetango', 'art', 'audiobook', 'author', 'avantgarde',\n",
       "       'axé', 'baile', 'balkan', 'beats', 'bigroom', 'black', 'bluegrass',\n",
       "       'blues', 'bollywood', 'bossa', 'brazilian', 'breakbeat', 'breaks',\n",
       "       'broadway', 'cantautori', 'cantopop', 'canzone', 'caribbean',\n",
       "       'caucasian', 'celtic', 'chamber', 'chanson', 'children', 'chill',\n",
       "       'chinese', 'choral', 'christian', 'christmas', 'classical',\n",
       "       'classicmetal', 'club', 'colombian', 'comedy', 'conjazz',\n",
       "       'contemporary', 'country', 'cuban', 'dance', 'dancehall',\n",
       "       'dancepop', 'dark', 'death', 'deep', 'deutschrock', 'deutschspr',\n",
       "       'dirty', 'disco', 'dnb', 'documentary', 'downbeat', 'downtempo',\n",
       "       'drum', 'dub', 'dubstep', 'eastern', 'easy', 'electronic',\n",
       "       'electropop', 'emo', 'entehno', 'epicmetal', 'estrada', 'ethnic',\n",
       "       'eurofolk', 'european', 'experimental', 'extrememetal', 'fado',\n",
       "       'fairytail', 'film', 'fitness', 'flamenco', 'folk', 'folklore',\n",
       "       'folkmetal', 'folkrock', 'folktronica', 'forró', 'frankreich',\n",
       "       'französisch', 'french', 'funk', 'future', 'gangsta', 'garage',\n",
       "       'german', 'ghazal', 'gitarre', 'glitch', 'gospel', 'gothic',\n",
       "       'grime', 'grunge', 'gypsy', 'handsup', \"hard'n'heavy\", 'hardcore',\n",
       "       'hardstyle', 'hardtechno', 'hiphop', 'historisch', 'holiday',\n",
       "       'horror', 'house', 'hymn', 'idm', 'independent', 'indian', 'indie',\n",
       "       'indipop', 'industrial', 'inspirational', 'instrumental',\n",
       "       'international', 'irish', 'jam', 'japanese', 'jazz', 'jewish',\n",
       "       'jpop', 'jungle', 'k-pop', 'karadeniz', 'karaoke', 'kayokyoku',\n",
       "       'korean', 'laiko', 'latin', 'latino', 'leftfield', 'local',\n",
       "       'lounge', 'loungeelectronic', 'lovers', 'malaysian', 'mandopop',\n",
       "       'marschmusik', 'meditative', 'mediterranean', 'melodic', 'metal',\n",
       "       'metalcore', 'mexican', 'middle', 'minimal', 'miscellaneous',\n",
       "       'modern', 'mood', 'mpb', 'muslim', 'native', 'neoklassik', 'neue',\n",
       "       'new', 'newage', 'newwave', 'nu', 'nujazz', 'numetal', 'oceania',\n",
       "       'old', 'opera', 'orchestral', 'other', 'piano', 'podcasts', 'pop',\n",
       "       'popdance', 'popelectronic', 'popeurodance', 'poprussian', 'post',\n",
       "       'posthardcore', 'postrock', 'power', 'progmetal', 'progressive',\n",
       "       'psychedelic', 'punjabi', 'punk', 'quebecois', 'ragga', 'ram',\n",
       "       'rancheras', 'rap', 'rave', 'reggae', 'reggaeton', 'regional',\n",
       "       'relax', 'religious', 'retro', 'rhythm', 'rnb', 'rnr', 'rock',\n",
       "       'rockabilly', 'rockalternative', 'rockindie', 'rockother',\n",
       "       'romance', 'roots', 'ruspop', 'rusrap', 'rusrock', 'russian',\n",
       "       'salsa', 'samba', 'scenic', 'schlager', 'self', 'sertanejo',\n",
       "       'shanson', 'shoegazing', 'showtunes', 'singer', 'ska', 'skarock',\n",
       "       'slow', 'smooth', 'soft', 'soul', 'soulful', 'sound', 'soundtrack',\n",
       "       'southern', 'specialty', 'speech', 'spiritual', 'sport',\n",
       "       'stonerrock', 'surf', 'swing', 'synthpop', 'synthrock',\n",
       "       'sängerportrait', 'tango', 'tanzorchester', 'taraftar', 'tatar',\n",
       "       'tech', 'techno', 'teen', 'thrash', 'top', 'traditional',\n",
       "       'tradjazz', 'trance', 'tribal', 'trip', 'triphop', 'tropical',\n",
       "       'türk', 'türkçe', 'ukrrock', 'unknown', 'urban', 'uzbek',\n",
       "       'variété', 'vi', 'videogame', 'vocal', 'western', 'world',\n",
       "       'worldbeat', 'ïîï', 'электроника'], dtype=object)"
      ]
     },
     "execution_count": 17,
     "metadata": {},
     "output_type": "execute_result"
    }
   ],
   "source": [
    "# Проверка на неявные дубликаты\n",
    "df['genre'].sort_values().unique()"
   ]
  },
  {
   "cell_type": "markdown",
   "metadata": {
    "id": "jz6a9-7HQUDd"
   },
   "source": [
    "**Выводы**\n",
    "\n",
    "Предобработка обнаружила три проблемы в данных:\n",
    "\n",
    "- нарушения в стиле заголовков,\n",
    "- пропущенные значения,\n",
    "- дубликаты — явные и неявные.\n",
    "\n",
    "Вы исправили заголовки, чтобы упростить работу с таблицей. Без дубликатов исследование станет более точным.\n",
    "\n",
    "Пропущенные значения вы заменили на `'unknown'`. Ещё предстоит увидеть, не повредят ли исследованию пропуски в колонке `genre`.\n",
    "\n",
    "Теперь можно перейти к проверке гипотез. "
   ]
  },
  {
   "cell_type": "markdown",
   "metadata": {
    "id": "WttZHXH0SqKk"
   },
   "source": [
    "## Проверка гипотез"
   ]
  },
  {
   "cell_type": "markdown",
   "metadata": {
    "id": "Im936VVi_Zcu"
   },
   "source": [
    "### Сравнение поведения пользователей двух столиц"
   ]
  },
  {
   "cell_type": "markdown",
   "metadata": {
    "id": "nwt_MuaL_Zcu"
   },
   "source": [
    "Первая гипотеза утверждает, что пользователи по-разному слушают музыку в Москве и Санкт-Петербурге. Проверьте это предположение по данным о трёх днях недели — понедельнике, среде и пятнице. Для этого:\n",
    "\n",
    "* Разделите пользователей Москвы и Санкт-Петербурга\n",
    "* Сравните, сколько треков послушала каждая группа пользователей в понедельник, среду и пятницу.\n"
   ]
  },
  {
   "cell_type": "markdown",
   "metadata": {
    "id": "8Dw_YMmT_Zcu"
   },
   "source": [
    "Для тренировки сначала выполните каждый из расчётов по отдельности. \n",
    "\n",
    "Оцените активность пользователей в каждом городе. Сгруппируйте данные по городу и посчитайте прослушивания в каждой группе.\n",
    "\n"
   ]
  },
  {
   "cell_type": "code",
   "execution_count": 18,
   "metadata": {
    "id": "0_Qs96oh_Zcu"
   },
   "outputs": [
    {
     "data": {
      "text/plain": [
       "city\n",
       "Moscow              42741\n",
       "Saint-Petersburg    18512\n",
       "Name: user_id, dtype: int64"
      ]
     },
     "execution_count": 18,
     "metadata": {},
     "output_type": "execute_result"
    }
   ],
   "source": [
    "# Подсчёт прослушиваний в каждом городе\n",
    "df.groupby('city')['user_id'].count()"
   ]
  },
  {
   "cell_type": "markdown",
   "metadata": {
    "id": "dzli3w8o_Zcu"
   },
   "source": [
    "В Москве прослушиваний больше, чем в Петербурге. Из этого не следует, что московские пользователи чаще слушают музыку. Просто самих пользователей в Москве больше.\n",
    "\n",
    "Теперь сгруппируйте данные по дню недели и подсчитайте прослушивания в понедельник, среду и пятницу. Учтите, что в данных есть информация только о прослушиваниях только за эти дни.\n"
   ]
  },
  {
   "cell_type": "code",
   "execution_count": 19,
   "metadata": {
    "id": "uZMKjiJz_Zcu"
   },
   "outputs": [
    {
     "data": {
      "text/plain": [
       "day\n",
       "Friday       21840\n",
       "Monday       21354\n",
       "Wednesday    18059\n",
       "Name: user_id, dtype: int64"
      ]
     },
     "execution_count": 19,
     "metadata": {},
     "output_type": "execute_result"
    }
   ],
   "source": [
    "# Подсчёт прослушиваний в каждый из трёх дней\n",
    "df.groupby('day')['user_id'].count()"
   ]
  },
  {
   "cell_type": "markdown",
   "metadata": {
    "id": "cC2tNrlL_Zcu"
   },
   "source": [
    "В среднем пользователи из двух городов менее активны по средам. Но картина может измениться, если рассмотреть каждый город в отдельности."
   ]
  },
  {
   "cell_type": "markdown",
   "metadata": {
    "id": "POzs8bGa_Zcu"
   },
   "source": [
    "Вы видели, как работает группировка по городу и по дням недели. Теперь напишите функцию, которая объединит два эти расчёта.\n",
    "\n",
    "Создайте функцию `number_tracks()`, которая посчитает прослушивания для заданного дня и города. Ей понадобятся два параметра:\n",
    "* день недели,\n",
    "* название города.\n",
    "\n",
    "В функции сохраните в переменную строки исходной таблицы, у которых значение:\n",
    "  * в колонке `day` равно параметру `day`,\n",
    "  * в колонке `city` равно параметру `city`.\n",
    "\n",
    "Для этого примените последовательную фильтрацию с логической индексацией.\n",
    "\n",
    "Затем посчитайте значения в столбце `user_id` получившейся таблицы. Результат сохраните в новую переменную. Верните эту переменную из функции."
   ]
  },
  {
   "cell_type": "code",
   "execution_count": 20,
   "metadata": {
    "id": "Nz3GdQB1_Zcu"
   },
   "outputs": [],
   "source": [
    " # <создание функции number_tracks()>\n",
    "def number_tracks(day, city): # Объявляется функция с двумя параметрами: day, city.\n",
    "    # В переменной track_list сохраняются те строки таблицы df, для которых:\n",
    "    track_list = df[df['day'] == day]  # значение в столбце 'day' равно параметру day\n",
    "    track_list = track_list[track_list['city'] == city] # значение в столбце 'city' равно параметру city\n",
    "    track_list_count = track_list['user_id'].count() # В переменной track_list_count сохраняется число значений столбца 'user_id'\n",
    "    return track_list_count # Функция возвращает число - значение track_list_count\n",
    "\n",
    "\n",
    " \n",
    "\n",
    " # Функция для подсчёта прослушиваний для конкретного города и дня.\n",
    " # С помощью последовательной фильтрации с логической индексацией она \n",
    " # сначала получит из исходной таблицы строки с нужным днём,\n",
    " # затем из результата отфильтрует строки с нужным городом,\n",
    " # методом count() посчитает количество значений в колонке user_id. \n",
    " # Это количество функция вернёт в качестве результата"
   ]
  },
  {
   "cell_type": "markdown",
   "metadata": {
    "id": "ytf7xFrFJQ2r"
   },
   "source": [
    "Вызовите `number_tracks()` шесть раз, меняя значение параметров — так, чтобы получить данные для каждого города в каждый из трёх дней."
   ]
  },
  {
   "cell_type": "code",
   "execution_count": 21,
   "metadata": {
    "id": "rJcRATNQ_Zcu"
   },
   "outputs": [
    {
     "data": {
      "text/plain": [
       "15740"
      ]
     },
     "execution_count": 21,
     "metadata": {},
     "output_type": "execute_result"
    }
   ],
   "source": [
    "# количество прослушиваний в Москве по понедельникам\n",
    "day = 'Monday'\n",
    "city = 'Moscow'\n",
    "number_tracks(day, city)"
   ]
  },
  {
   "cell_type": "code",
   "execution_count": 22,
   "metadata": {
    "id": "hq_ncZ5T_Zcu"
   },
   "outputs": [
    {
     "data": {
      "text/plain": [
       "5614"
      ]
     },
     "execution_count": 22,
     "metadata": {},
     "output_type": "execute_result"
    }
   ],
   "source": [
    "# количество прослушиваний в Санкт-Петербурге по понедельникам\n",
    "day = 'Monday'\n",
    "city = 'Saint-Petersburg'\n",
    "number_tracks(day, city)"
   ]
  },
  {
   "cell_type": "code",
   "execution_count": 23,
   "metadata": {
    "id": "_NTy2VPU_Zcu"
   },
   "outputs": [
    {
     "data": {
      "text/plain": [
       "11056"
      ]
     },
     "execution_count": 23,
     "metadata": {},
     "output_type": "execute_result"
    }
   ],
   "source": [
    "# количество прослушиваний в Москве по средам\n",
    "day = 'Wednesday'\n",
    "city = 'Moscow'\n",
    "number_tracks(day, city)"
   ]
  },
  {
   "cell_type": "code",
   "execution_count": 24,
   "metadata": {
    "id": "j2y3TAwo_Zcu"
   },
   "outputs": [
    {
     "data": {
      "text/plain": [
       "7003"
      ]
     },
     "execution_count": 24,
     "metadata": {},
     "output_type": "execute_result"
    }
   ],
   "source": [
    "# количество прослушиваний в Санкт-Петербурге по средам\n",
    "day = 'Wednesday'\n",
    "city = 'Saint-Petersburg'\n",
    "number_tracks(day, city)"
   ]
  },
  {
   "cell_type": "code",
   "execution_count": 25,
   "metadata": {
    "id": "vYDw5u_K_Zcu"
   },
   "outputs": [
    {
     "data": {
      "text/plain": [
       "15945"
      ]
     },
     "execution_count": 25,
     "metadata": {},
     "output_type": "execute_result"
    }
   ],
   "source": [
    "# количество прослушиваний в Москве по пятницам\n",
    "day = 'Friday'\n",
    "city = 'Moscow'\n",
    "number_tracks(day, city)"
   ]
  },
  {
   "cell_type": "code",
   "execution_count": 26,
   "metadata": {
    "id": "8_yzFtW3_Zcu"
   },
   "outputs": [
    {
     "data": {
      "text/plain": [
       "5895"
      ]
     },
     "execution_count": 26,
     "metadata": {},
     "output_type": "execute_result"
    }
   ],
   "source": [
    "# количество прослушиваний в Санкт-Петербурге по пятницам\n",
    "day = 'Friday'\n",
    "city = 'Saint-Petersburg'\n",
    "number_tracks(day, city)"
   ]
  },
  {
   "cell_type": "markdown",
   "metadata": {
    "id": "7QXffbO-_Zcu"
   },
   "source": [
    "Создайте c помощью конструктора `pd.DataFrame` таблицу, где\n",
    "* названия колонок — `['city', 'monday', 'wednesday', 'friday']`;\n",
    "* данные — результаты, которые вы получили с помощью `number_tracks`."
   ]
  },
  {
   "cell_type": "code",
   "execution_count": 27,
   "metadata": {
    "id": "APAcLpOr_Zcu"
   },
   "outputs": [
    {
     "data": {
      "text/html": [
       "<div>\n",
       "<style scoped>\n",
       "    .dataframe tbody tr th:only-of-type {\n",
       "        vertical-align: middle;\n",
       "    }\n",
       "\n",
       "    .dataframe tbody tr th {\n",
       "        vertical-align: top;\n",
       "    }\n",
       "\n",
       "    .dataframe thead th {\n",
       "        text-align: right;\n",
       "    }\n",
       "</style>\n",
       "<table border=\"1\" class=\"dataframe\">\n",
       "  <thead>\n",
       "    <tr style=\"text-align: right;\">\n",
       "      <th></th>\n",
       "      <th>city</th>\n",
       "      <th>monday</th>\n",
       "      <th>wednesday</th>\n",
       "      <th>friday</th>\n",
       "    </tr>\n",
       "  </thead>\n",
       "  <tbody>\n",
       "    <tr>\n",
       "      <td>0</td>\n",
       "      <td>Moscow</td>\n",
       "      <td>15740</td>\n",
       "      <td>11056</td>\n",
       "      <td>15945</td>\n",
       "    </tr>\n",
       "    <tr>\n",
       "      <td>1</td>\n",
       "      <td>Saint-Petersburg</td>\n",
       "      <td>5614</td>\n",
       "      <td>7003</td>\n",
       "      <td>5895</td>\n",
       "    </tr>\n",
       "  </tbody>\n",
       "</table>\n",
       "</div>"
      ],
      "text/plain": [
       "               city  monday  wednesday  friday\n",
       "0            Moscow   15740      11056   15945\n",
       "1  Saint-Petersburg    5614       7003    5895"
      ]
     },
     "execution_count": 27,
     "metadata": {},
     "output_type": "execute_result"
    }
   ],
   "source": [
    "tracks_in_days = [['Moscow', 15740, 11056, 15945], ['Saint-Petersburg', 5614, 7003, 5895]]\n",
    "df_sorted_tracks_in_days = pd.DataFrame(data=tracks_in_days, columns=['city', 'monday', 'wednesday', 'friday'])\n",
    "df_sorted_tracks_in_days\n",
    "# Таблица с результатами"
   ]
  },
  {
   "cell_type": "markdown",
   "metadata": {
    "id": "-EgPIHYu_Zcu"
   },
   "source": [
    "**Выводы**\n",
    "\n",
    "Данные показывают разницу поведения пользователей:\n",
    "\n",
    "- В Москве пик прослушиваний приходится на понедельник и пятницу, а в среду заметен спад.\n",
    "- В Петербурге, наоборот, больше слушают музыку по средам. Активность в понедельник и пятницу здесь почти в равной мере уступает среде.\n",
    "\n",
    "Значит, данные говорят в пользу первой гипотезы."
   ]
  },
  {
   "cell_type": "markdown",
   "metadata": {
    "id": "atZAxtq4_Zcu"
   },
   "source": [
    "### Музыка в начале и в конце недели"
   ]
  },
  {
   "cell_type": "markdown",
   "metadata": {
    "id": "eXrQqXFH_Zcu"
   },
   "source": [
    "Согласно второй гипотезе, утром в понедельник в Москве преобладают одни жанры, а в Петербурге — другие. Так же и вечером пятницы преобладают разные жанры — в зависимости от города."
   ]
  },
  {
   "cell_type": "markdown",
   "metadata": {
    "id": "S8UcW6Hw_Zcu"
   },
   "source": [
    "Сохраните таблицы с данными в две переменные:\n",
    "* по Москве — в `moscow_general`;\n",
    "* по Санкт-Петербургу — в `spb_general`."
   ]
  },
  {
   "cell_type": "code",
   "execution_count": 28,
   "metadata": {
    "id": "qeaFfM_P_Zcu"
   },
   "outputs": [
    {
     "data": {
      "text/html": [
       "<div>\n",
       "<style scoped>\n",
       "    .dataframe tbody tr th:only-of-type {\n",
       "        vertical-align: middle;\n",
       "    }\n",
       "\n",
       "    .dataframe tbody tr th {\n",
       "        vertical-align: top;\n",
       "    }\n",
       "\n",
       "    .dataframe thead th {\n",
       "        text-align: right;\n",
       "    }\n",
       "</style>\n",
       "<table border=\"1\" class=\"dataframe\">\n",
       "  <thead>\n",
       "    <tr style=\"text-align: right;\">\n",
       "      <th></th>\n",
       "      <th>user_id</th>\n",
       "      <th>track</th>\n",
       "      <th>artist</th>\n",
       "      <th>genre</th>\n",
       "      <th>city</th>\n",
       "      <th>time</th>\n",
       "      <th>day</th>\n",
       "    </tr>\n",
       "  </thead>\n",
       "  <tbody>\n",
       "    <tr>\n",
       "      <td>1</td>\n",
       "      <td>55204538</td>\n",
       "      <td>Delayed Because of Accident</td>\n",
       "      <td>Andreas Rönnberg</td>\n",
       "      <td>rock</td>\n",
       "      <td>Moscow</td>\n",
       "      <td>14:07:09</td>\n",
       "      <td>Friday</td>\n",
       "    </tr>\n",
       "    <tr>\n",
       "      <td>4</td>\n",
       "      <td>E2DC1FAE</td>\n",
       "      <td>Soul People</td>\n",
       "      <td>Space Echo</td>\n",
       "      <td>dance</td>\n",
       "      <td>Moscow</td>\n",
       "      <td>08:34:34</td>\n",
       "      <td>Monday</td>\n",
       "    </tr>\n",
       "    <tr>\n",
       "      <td>6</td>\n",
       "      <td>4CB90AA5</td>\n",
       "      <td>True</td>\n",
       "      <td>Roman Messer</td>\n",
       "      <td>dance</td>\n",
       "      <td>Moscow</td>\n",
       "      <td>13:00:07</td>\n",
       "      <td>Wednesday</td>\n",
       "    </tr>\n",
       "    <tr>\n",
       "      <td>7</td>\n",
       "      <td>F03E1C1F</td>\n",
       "      <td>Feeling This Way</td>\n",
       "      <td>Polina Griffith</td>\n",
       "      <td>dance</td>\n",
       "      <td>Moscow</td>\n",
       "      <td>20:47:49</td>\n",
       "      <td>Wednesday</td>\n",
       "    </tr>\n",
       "    <tr>\n",
       "      <td>8</td>\n",
       "      <td>8FA1D3BE</td>\n",
       "      <td>И вновь продолжается бой</td>\n",
       "      <td>unknown</td>\n",
       "      <td>ruspop</td>\n",
       "      <td>Moscow</td>\n",
       "      <td>09:17:40</td>\n",
       "      <td>Friday</td>\n",
       "    </tr>\n",
       "  </tbody>\n",
       "</table>\n",
       "</div>"
      ],
      "text/plain": [
       "    user_id                        track            artist   genre    city  \\\n",
       "1  55204538  Delayed Because of Accident  Andreas Rönnberg    rock  Moscow   \n",
       "4  E2DC1FAE                  Soul People        Space Echo   dance  Moscow   \n",
       "6  4CB90AA5                         True      Roman Messer   dance  Moscow   \n",
       "7  F03E1C1F             Feeling This Way   Polina Griffith   dance  Moscow   \n",
       "8  8FA1D3BE     И вновь продолжается бой           unknown  ruspop  Moscow   \n",
       "\n",
       "       time        day  \n",
       "1  14:07:09     Friday  \n",
       "4  08:34:34     Monday  \n",
       "6  13:00:07  Wednesday  \n",
       "7  20:47:49  Wednesday  \n",
       "8  09:17:40     Friday  "
      ]
     },
     "execution_count": 28,
     "metadata": {},
     "output_type": "execute_result"
    }
   ],
   "source": [
    " # получение таблицы moscow_general из тех строк таблицы df, \n",
    " # для которых значение в столбце 'city' равно 'Moscow'\n",
    "moscow_general = df[df['city'] == 'Moscow']\n",
    "moscow_general.head()"
   ]
  },
  {
   "cell_type": "code",
   "execution_count": 29,
   "metadata": {
    "id": "ORaVRKto_Zcu"
   },
   "outputs": [
    {
     "data": {
      "text/html": [
       "<div>\n",
       "<style scoped>\n",
       "    .dataframe tbody tr th:only-of-type {\n",
       "        vertical-align: middle;\n",
       "    }\n",
       "\n",
       "    .dataframe tbody tr th {\n",
       "        vertical-align: top;\n",
       "    }\n",
       "\n",
       "    .dataframe thead th {\n",
       "        text-align: right;\n",
       "    }\n",
       "</style>\n",
       "<table border=\"1\" class=\"dataframe\">\n",
       "  <thead>\n",
       "    <tr style=\"text-align: right;\">\n",
       "      <th></th>\n",
       "      <th>user_id</th>\n",
       "      <th>track</th>\n",
       "      <th>artist</th>\n",
       "      <th>genre</th>\n",
       "      <th>city</th>\n",
       "      <th>time</th>\n",
       "      <th>day</th>\n",
       "    </tr>\n",
       "  </thead>\n",
       "  <tbody>\n",
       "    <tr>\n",
       "      <td>0</td>\n",
       "      <td>FFB692EC</td>\n",
       "      <td>Kamigata To Boots</td>\n",
       "      <td>The Mass Missile</td>\n",
       "      <td>rock</td>\n",
       "      <td>Saint-Petersburg</td>\n",
       "      <td>20:28:33</td>\n",
       "      <td>Wednesday</td>\n",
       "    </tr>\n",
       "    <tr>\n",
       "      <td>2</td>\n",
       "      <td>20EC38</td>\n",
       "      <td>Funiculì funiculà</td>\n",
       "      <td>Mario Lanza</td>\n",
       "      <td>pop</td>\n",
       "      <td>Saint-Petersburg</td>\n",
       "      <td>20:58:07</td>\n",
       "      <td>Wednesday</td>\n",
       "    </tr>\n",
       "    <tr>\n",
       "      <td>3</td>\n",
       "      <td>A3DD03C9</td>\n",
       "      <td>Dragons in the Sunset</td>\n",
       "      <td>Fire + Ice</td>\n",
       "      <td>folk</td>\n",
       "      <td>Saint-Petersburg</td>\n",
       "      <td>08:37:09</td>\n",
       "      <td>Monday</td>\n",
       "    </tr>\n",
       "    <tr>\n",
       "      <td>5</td>\n",
       "      <td>842029A1</td>\n",
       "      <td>Преданная</td>\n",
       "      <td>IMPERVTOR</td>\n",
       "      <td>rusrap</td>\n",
       "      <td>Saint-Petersburg</td>\n",
       "      <td>13:09:41</td>\n",
       "      <td>Friday</td>\n",
       "    </tr>\n",
       "    <tr>\n",
       "      <td>9</td>\n",
       "      <td>E772D5C0</td>\n",
       "      <td>Pessimist</td>\n",
       "      <td>unknown</td>\n",
       "      <td>dance</td>\n",
       "      <td>Saint-Petersburg</td>\n",
       "      <td>21:20:49</td>\n",
       "      <td>Wednesday</td>\n",
       "    </tr>\n",
       "  </tbody>\n",
       "</table>\n",
       "</div>"
      ],
      "text/plain": [
       "    user_id                  track            artist   genre  \\\n",
       "0  FFB692EC      Kamigata To Boots  The Mass Missile    rock   \n",
       "2    20EC38      Funiculì funiculà       Mario Lanza     pop   \n",
       "3  A3DD03C9  Dragons in the Sunset        Fire + Ice    folk   \n",
       "5  842029A1              Преданная         IMPERVTOR  rusrap   \n",
       "9  E772D5C0              Pessimist           unknown   dance   \n",
       "\n",
       "               city      time        day  \n",
       "0  Saint-Petersburg  20:28:33  Wednesday  \n",
       "2  Saint-Petersburg  20:58:07  Wednesday  \n",
       "3  Saint-Petersburg  08:37:09     Monday  \n",
       "5  Saint-Petersburg  13:09:41     Friday  \n",
       "9  Saint-Petersburg  21:20:49  Wednesday  "
      ]
     },
     "execution_count": 29,
     "metadata": {},
     "output_type": "execute_result"
    }
   ],
   "source": [
    "# получение таблицы spb_general из тех строк таблицы df,\n",
    "# для которых значение в столбце 'city' равно 'Saint-Petersburg'\n",
    "spb_general = df[df['city'] == 'Saint-Petersburg']\n",
    "spb_general.head()"
   ]
  },
  {
   "cell_type": "markdown",
   "metadata": {
    "id": "MEJV-CX2_Zcu"
   },
   "source": [
    "Создайте функцию `genre_weekday()` с четырьмя параметрами:\n",
    "* таблица (датафрейм) с данными,\n",
    "* день недели,\n",
    "* начальная временная метка в формате 'hh:mm', \n",
    "* последняя временная метка в формате 'hh:mm'.\n",
    "\n",
    "Функция должна вернуть информацию о топ-10 жанров тех треков, которые прослушивали в указанный день, в промежутке между двумя отметками времени."
   ]
  },
  {
   "cell_type": "code",
   "execution_count": 30,
   "metadata": {
    "id": "laJT9BYl_Zcu"
   },
   "outputs": [],
   "source": [
    "# Объявление функции genre_weekday() с параметрами table, day, time1, time2,\n",
    "# которая возвращает информацию о самых популярных жанрах в указанный день в\n",
    "# заданное время:\n",
    "\n",
    "def genre_weekday(table, day, time1, time2):\n",
    "    \n",
    "# 1) в переменную genre_df сохраняются те строки переданного датафрейма table, для\n",
    "#    которых одновременно:\n",
    "#    - значение в столбце day равно значению аргумента day\n",
    "#    - значение в столбце time больше значения аргумента time1\n",
    "#    - значение в столбце time меньше значения аргумента time2\n",
    "#    Используйте последовательную фильтрацию с помощью логической индексации:\n",
    "\n",
    "    genre_df_day = table[table['day'] == day]\n",
    "    genre_df_time = genre_df_day[genre_df_day['time'] > time1]\n",
    "    genre_df = genre_df_time[genre_df_time['time'] < time2]\n",
    "\n",
    "# 2) сгруппировать датафрейм genre_df по столбцу genre, взять один из его\n",
    "#    столбцов и посчитать методом count() количество записей для каждого из\n",
    "#    присутствующих жанров, получившийся Series записать в переменную\n",
    "#    genre_df_count:\n",
    "\n",
    "    genre_df_count = genre_df.groupby('genre')['genre'].count()\n",
    "    \n",
    "\n",
    "# 3) отсортировать genre_df_count по убыванию встречаемости и сохранить\n",
    "#    в переменную genre_df_sorted:\n",
    "\n",
    "    genre_df_sorted = genre_df_count.sort_values(ascending=False)\n",
    "    \n",
    "\n",
    "# 4) вернуть Series из 10 первых значений genre_df_sorted, это будут топ-10\n",
    "#    популярных жанров (в указанный день, в заданное время):\n",
    "\n",
    "    return genre_df_sorted.head(10)"
   ]
  },
  {
   "cell_type": "markdown",
   "metadata": {
    "id": "la2s2_PF_Zcu"
   },
   "source": [
    "Cравните результаты функции `genre_weekday()` для Москвы и Санкт-Петербурга в понедельник утром (с 7:00 до 11:00) и в пятницу вечером (с 17:00 до 23:00):"
   ]
  },
  {
   "cell_type": "code",
   "execution_count": 31,
   "metadata": {
    "id": "yz7itPUQ_Zcu"
   },
   "outputs": [
    {
     "data": {
      "text/plain": [
       "genre\n",
       "pop            781\n",
       "dance          549\n",
       "electronic     480\n",
       "rock           474\n",
       "hiphop         286\n",
       "ruspop         186\n",
       "world          181\n",
       "rusrap         175\n",
       "alternative    164\n",
       "unknown        161\n",
       "Name: genre, dtype: int64"
      ]
     },
     "execution_count": 31,
     "metadata": {},
     "output_type": "execute_result"
    }
   ],
   "source": [
    "# вызов функции для утра понедельника в Москве (вместо df — таблица moscow_general)\n",
    "# объекты, хранящие время, являются строками и сравниваются как строки\n",
    "# пример вызова: genre_weekday(moscow_general, 'Monday', '07:00', '11:00')\n",
    "genre_weekday(moscow_general, 'Monday', '07:00', '11:00')"
   ]
  },
  {
   "cell_type": "code",
   "execution_count": 32,
   "metadata": {
    "id": "kwUcHPdy_Zcu"
   },
   "outputs": [
    {
     "data": {
      "text/plain": [
       "genre\n",
       "pop            218\n",
       "dance          182\n",
       "rock           162\n",
       "electronic     147\n",
       "hiphop          80\n",
       "ruspop          64\n",
       "alternative     58\n",
       "rusrap          55\n",
       "jazz            44\n",
       "classical       40\n",
       "Name: genre, dtype: int64"
      ]
     },
     "execution_count": 32,
     "metadata": {},
     "output_type": "execute_result"
    }
   ],
   "source": [
    "genre_weekday(spb_general, 'Monday', '07:00', '11:00') # вызов функции для утра понедельника в Петербурге (вместо df — таблица spb_general)"
   ]
  },
  {
   "cell_type": "code",
   "execution_count": 33,
   "metadata": {
    "id": "EzXVRE1o_Zcu"
   },
   "outputs": [
    {
     "data": {
      "text/plain": [
       "genre\n",
       "pop            713\n",
       "rock           517\n",
       "dance          495\n",
       "electronic     482\n",
       "hiphop         273\n",
       "world          208\n",
       "ruspop         170\n",
       "alternative    163\n",
       "classical      163\n",
       "rusrap         142\n",
       "Name: genre, dtype: int64"
      ]
     },
     "execution_count": 33,
     "metadata": {},
     "output_type": "execute_result"
    }
   ],
   "source": [
    "genre_weekday(moscow_general, 'Friday', '17:00', '23:00') # вызов функции для вечера пятницы в Москве"
   ]
  },
  {
   "cell_type": "code",
   "execution_count": 34,
   "metadata": {
    "id": "JZaEKu5v_Zcu"
   },
   "outputs": [
    {
     "data": {
      "text/plain": [
       "genre\n",
       "pop            256\n",
       "rock           216\n",
       "electronic     216\n",
       "dance          210\n",
       "hiphop          97\n",
       "alternative     63\n",
       "jazz            61\n",
       "classical       60\n",
       "rusrap          59\n",
       "world           54\n",
       "Name: genre, dtype: int64"
      ]
     },
     "execution_count": 34,
     "metadata": {},
     "output_type": "execute_result"
    }
   ],
   "source": [
    "genre_weekday(spb_general, 'Friday', '17:00', '23:00') # вызов функции для вечера пятницы в Петербурге"
   ]
  },
  {
   "cell_type": "markdown",
   "metadata": {
    "id": "wrCe4MNX_Zcu"
   },
   "source": [
    "**Выводы**\n",
    "\n",
    "Если сравнить топ-10 жанров в понедельник утром, можно сделать такие выводы:\n",
    "\n",
    "1. В Москве и Петербурге слушают похожую музыку. Единственное отличие — в московский рейтинг вошёл жанр “world”, а в петербургский — джаз и классика.\n",
    "\n",
    "2. В Москве пропущенных значений оказалось так много, что значение `'unknown'` заняло десятое место среди самых популярных жанров. Значит, пропущенные значения занимают существенную долю в данных и угрожают достоверности исследования.\n",
    "\n",
    "Вечер пятницы не меняет эту картину. Некоторые жанры поднимаются немного выше, другие спускаются, но в целом топ-10 остаётся тем же самым.\n",
    "\n",
    "Таким образом, вторая гипотеза подтвердилась лишь частично:\n",
    "* Пользователи слушают похожую музыку в начале недели и в конце.\n",
    "* Разница между Москвой и Петербургом не слишком выражена. В Москве чаще слушают русскую популярную музыку, в Петербурге — джаз.\n",
    "\n",
    "Однако пропуски в данных ставят под сомнение этот результат. В Москве их так много, что рейтинг топ-10 мог бы выглядеть иначе, если бы не утерянные  данные о жанрах."
   ]
  },
  {
   "cell_type": "markdown",
   "metadata": {
    "id": "JolODAqr_Zcu"
   },
   "source": [
    "### Жанровые предпочтения в Москве и Петербурге\n",
    "\n",
    "Гипотеза: Петербург — столица рэпа, музыку этого жанра там слушают чаще, чем в Москве.  А Москва — город контрастов, в котором, тем не менее, преобладает поп-музыка."
   ]
  },
  {
   "cell_type": "markdown",
   "metadata": {
    "id": "DlegSvaT_Zcu"
   },
   "source": [
    "Сгруппируйте таблицу `moscow_general` по жанру и посчитайте прослушивания треков каждого жанра методом `count()`. Затем отсортируйте результат в порядке убывания и сохраните его в таблице `moscow_genres`."
   ]
  },
  {
   "cell_type": "code",
   "execution_count": 35,
   "metadata": {
    "id": "r19lIPke_Zcu"
   },
   "outputs": [],
   "source": [
    "# одной строкой: группировка таблицы moscow_general по столбцу 'genre', \n",
    "# подсчёт числа значений 'genre' в этой группировке методом count(), \n",
    "# сортировка получившегося Series в порядке убывания и сохранение в moscow_genres\n",
    "moscow_genres = moscow_general.groupby('genre')['genre'].count().sort_values(ascending=False)"
   ]
  },
  {
   "cell_type": "markdown",
   "metadata": {
    "id": "6kMuomxTiIr8"
   },
   "source": [
    "Выведите на экран первые десять строк `moscow_genres`:"
   ]
  },
  {
   "cell_type": "code",
   "execution_count": 36,
   "metadata": {
    "id": "WhCSooF8_Zcv"
   },
   "outputs": [
    {
     "data": {
      "text/plain": [
       "genre\n",
       "pop            5892\n",
       "dance          4435\n",
       "rock           3965\n",
       "electronic     3786\n",
       "hiphop         2096\n",
       "classical      1616\n",
       "world          1432\n",
       "alternative    1379\n",
       "ruspop         1372\n",
       "rusrap         1161\n",
       "Name: genre, dtype: int64"
      ]
     },
     "execution_count": 36,
     "metadata": {},
     "output_type": "execute_result"
    }
   ],
   "source": [
    "moscow_genres.head(10) # просмотр первых 10 строк moscow_genres"
   ]
  },
  {
   "cell_type": "markdown",
   "metadata": {
    "id": "cnPG2vnN_Zcv"
   },
   "source": [
    "Теперь повторите то же и для Петербурга.\n",
    "\n",
    "Сгруппируйте таблицу `spb_general` по жанру. Посчитайте прослушивания треков каждого жанра. Результат отсортируйте в порядке убывания и сохраните в таблице `spb_genres`:\n"
   ]
  },
  {
   "cell_type": "code",
   "execution_count": 37,
   "metadata": {
    "id": "gluLIpE7_Zcv"
   },
   "outputs": [],
   "source": [
    "# одной строкой: группировка таблицы spb_general по столбцу 'genre', \n",
    "# подсчёт числа значений 'genre' в этой группировке методом count(), \n",
    "# сортировка получившегося Series в порядке убывания и сохранение в spb_genres\n",
    "spb_genres = spb_general.groupby('genre')['genre'].count().sort_values(ascending=False)"
   ]
  },
  {
   "cell_type": "markdown",
   "metadata": {
    "id": "5Doha_ODgyQ8"
   },
   "source": [
    "Выведите на экран первые десять строк `spb_genres`:"
   ]
  },
  {
   "cell_type": "code",
   "execution_count": 38,
   "metadata": {
    "id": "uaGJHjVU_Zcv"
   },
   "outputs": [
    {
     "data": {
      "text/plain": [
       "genre\n",
       "pop            2431\n",
       "dance          1932\n",
       "rock           1879\n",
       "electronic     1736\n",
       "hiphop          960\n",
       "alternative     649\n",
       "classical       646\n",
       "rusrap          564\n",
       "ruspop          538\n",
       "world           515\n",
       "Name: genre, dtype: int64"
      ]
     },
     "execution_count": 38,
     "metadata": {},
     "output_type": "execute_result"
    }
   ],
   "source": [
    "spb_genres.head(10) # просмотр первых 10 строк spb_genres"
   ]
  },
  {
   "cell_type": "markdown",
   "metadata": {
    "id": "RY51YJYu_Zcv"
   },
   "source": [
    "**Выводы**"
   ]
  },
  {
   "cell_type": "markdown",
   "metadata": {
    "id": "nVhnJEm__Zcv"
   },
   "source": [
    "Гипотеза частично подтвердилась:\n",
    "* Поп-музыка — самый популярный жанр в Москве, как и предполагала гипотеза. Более того, в топ-10 жанров встречается близкий жанр — русская популярная музыка.\n",
    "* Вопреки ожиданиям, рэп одинаково популярен в Москве и Петербурге. \n"
   ]
  },
  {
   "cell_type": "markdown",
   "metadata": {
    "id": "ykKQ0N65_Zcv"
   },
   "source": [
    "## Итоги исследования"
   ]
  },
  {
   "cell_type": "markdown",
   "metadata": {
    "id": "tjUwbHb3_Zcv"
   },
   "source": [
    "Вы проверили три гипотезы и установили:\n",
    "\n",
    "1. День недели по-разному влияет на активность пользователей в Москве и Петербурге. \n",
    "\n",
    "Первая гипотеза полностью подтвердилась.\n",
    "\n",
    "2. Музыкальные предпочтения не сильно меняются в течение недели — будь то Москва или Петербург. Небольшие различия заметны в начале недели, по понедельникам:\n",
    "* в Москве слушают музыку жанра “world”,\n",
    "* в Петербурге — джаз и классику.\n",
    "\n",
    "Таким образом, вторая гипотеза подтвердилась лишь отчасти. Этот результат мог оказаться иным, если бы не пропуски в данных.\n",
    "\n",
    "3. Во вкусах пользователей Москвы и Петербурга больше общего чем различий. Вопреки ожиданиям, предпочтения жанров в Петербурге напоминают московские.\n",
    "\n",
    "Третья гипотеза не подтвердилась. Если различия в предпочтениях и существуют, на основной массе пользователей они незаметны.\n",
    "\n",
    "**На практике исследования содержат проверки статистических гипотез.**\n",
    "Из данных одного сервиса не всегда можно сделать вывод о всех жителях города.\n",
    "Проверки статистических гипотез покажут, насколько они достоверны, исходя из имеющихся данных. \n",
    "С методами проверок гипотез вы ещё познакомитесь в следующих темах."
   ]
  },
  {
   "cell_type": "code",
   "execution_count": null,
   "metadata": {},
   "outputs": [],
   "source": []
  }
 ],
 "metadata": {
  "ExecuteTimeLog": [
   {
    "duration": 522,
    "start_time": "2021-11-15T11:53:12.437Z"
   },
   {
    "duration": 93,
    "start_time": "2021-11-15T11:54:30.129Z"
   },
   {
    "duration": 245,
    "start_time": "2021-11-15T11:54:38.902Z"
   },
   {
    "duration": 184,
    "start_time": "2021-11-15T11:54:48.103Z"
   },
   {
    "duration": 1821,
    "start_time": "2021-11-15T11:55:18.540Z"
   },
   {
    "duration": 66,
    "start_time": "2021-11-15T11:56:18.624Z"
   },
   {
    "duration": 182,
    "start_time": "2021-11-15T11:56:23.390Z"
   },
   {
    "duration": 65,
    "start_time": "2021-11-15T12:07:27.382Z"
   },
   {
    "duration": 66,
    "start_time": "2021-11-15T12:08:44.028Z"
   },
   {
    "duration": 89,
    "start_time": "2021-11-15T17:27:18.493Z"
   },
   {
    "duration": 2,
    "start_time": "2021-11-15T17:27:30.245Z"
   },
   {
    "duration": 85,
    "start_time": "2021-11-15T17:27:41.197Z"
   },
   {
    "duration": 304,
    "start_time": "2021-11-15T17:28:10.373Z"
   },
   {
    "duration": 254,
    "start_time": "2021-11-15T17:33:39.203Z"
   },
   {
    "duration": 280,
    "start_time": "2021-11-15T17:35:56.956Z"
   },
   {
    "duration": 270,
    "start_time": "2021-11-15T17:36:20.866Z"
   },
   {
    "duration": 254,
    "start_time": "2021-11-15T17:36:41.422Z"
   },
   {
    "duration": 662,
    "start_time": "2021-11-15T17:39:00.021Z"
   },
   {
    "duration": 135,
    "start_time": "2021-11-15T17:39:03.559Z"
   },
   {
    "duration": 189,
    "start_time": "2021-11-15T17:39:13.196Z"
   },
   {
    "duration": 91,
    "start_time": "2021-11-15T17:40:04.565Z"
   },
   {
    "duration": 15,
    "start_time": "2021-11-15T17:40:17.564Z"
   },
   {
    "duration": 26,
    "start_time": "2021-11-15T17:40:53.628Z"
   },
   {
    "duration": 4,
    "start_time": "2021-11-15T17:42:58.461Z"
   },
   {
    "duration": 91,
    "start_time": "2021-11-15T17:46:07.275Z"
   },
   {
    "duration": 284,
    "start_time": "2021-11-15T17:46:19.468Z"
   },
   {
    "duration": 17,
    "start_time": "2021-11-15T17:59:05.312Z"
   },
   {
    "duration": 11,
    "start_time": "2021-11-15T17:59:30.882Z"
   },
   {
    "duration": 14,
    "start_time": "2021-11-15T18:00:50.164Z"
   },
   {
    "duration": 10,
    "start_time": "2021-11-15T18:00:54.164Z"
   },
   {
    "duration": 14,
    "start_time": "2021-11-15T18:01:19.485Z"
   },
   {
    "duration": 13,
    "start_time": "2021-11-15T18:01:23.241Z"
   },
   {
    "duration": 23,
    "start_time": "2021-11-15T18:02:22.218Z"
   },
   {
    "duration": 7901,
    "start_time": "2021-11-15T18:14:26.418Z"
   },
   {
    "duration": 17,
    "start_time": "2021-11-15T18:15:02.249Z"
   },
   {
    "duration": 22,
    "start_time": "2021-11-15T18:16:20.424Z"
   },
   {
    "duration": 54,
    "start_time": "2021-11-15T18:17:39.584Z"
   },
   {
    "duration": 60,
    "start_time": "2021-11-15T18:18:54.414Z"
   },
   {
    "duration": 55,
    "start_time": "2021-11-15T18:19:07.820Z"
   },
   {
    "duration": 336,
    "start_time": "2021-11-15T18:22:18.598Z"
   },
   {
    "duration": 9,
    "start_time": "2021-11-15T18:23:42.845Z"
   },
   {
    "duration": 3,
    "start_time": "2021-11-15T20:07:29.261Z"
   },
   {
    "duration": 15,
    "start_time": "2021-11-15T20:11:20.854Z"
   },
   {
    "duration": 11,
    "start_time": "2021-11-15T20:11:50.393Z"
   },
   {
    "duration": 33,
    "start_time": "2021-11-15T20:17:53.577Z"
   },
   {
    "duration": 64,
    "start_time": "2021-11-15T20:19:07.059Z"
   },
   {
    "duration": 3,
    "start_time": "2021-11-15T20:30:38.084Z"
   },
   {
    "duration": 16,
    "start_time": "2021-11-15T20:34:52.151Z"
   },
   {
    "duration": 15,
    "start_time": "2021-11-15T20:37:52.036Z"
   },
   {
    "duration": 15,
    "start_time": "2021-11-15T20:38:03.085Z"
   },
   {
    "duration": 15,
    "start_time": "2021-11-15T20:38:10.456Z"
   },
   {
    "duration": 13,
    "start_time": "2021-11-15T20:38:31.835Z"
   },
   {
    "duration": 15,
    "start_time": "2021-11-15T20:38:32.768Z"
   },
   {
    "duration": 3,
    "start_time": "2021-11-15T20:40:18.962Z"
   },
   {
    "duration": 27,
    "start_time": "2021-11-15T20:40:24.730Z"
   },
   {
    "duration": 27,
    "start_time": "2021-11-15T20:40:27.202Z"
   },
   {
    "duration": 262,
    "start_time": "2021-11-15T20:49:50.556Z"
   },
   {
    "duration": 254,
    "start_time": "2021-11-15T20:54:24.750Z"
   },
   {
    "duration": 280,
    "start_time": "2021-11-15T20:55:08.097Z"
   },
   {
    "duration": 6,
    "start_time": "2021-11-15T20:58:25.654Z"
   },
   {
    "duration": 21,
    "start_time": "2021-11-15T20:58:30.657Z"
   },
   {
    "duration": 23,
    "start_time": "2021-11-15T20:58:38.442Z"
   },
   {
    "duration": 21,
    "start_time": "2021-11-15T20:58:41.107Z"
   },
   {
    "duration": 18,
    "start_time": "2021-11-15T20:58:41.612Z"
   },
   {
    "duration": 21,
    "start_time": "2021-11-15T20:58:42.609Z"
   },
   {
    "duration": 18,
    "start_time": "2021-11-15T20:58:43.805Z"
   },
   {
    "duration": 345,
    "start_time": "2021-11-15T20:59:01.764Z"
   },
   {
    "duration": 4,
    "start_time": "2021-11-15T21:00:04.148Z"
   },
   {
    "duration": 3624,
    "start_time": "2021-11-15T21:00:07.295Z"
   },
   {
    "duration": 36739215,
    "start_time": "2021-11-15T10:47:51.706Z"
   },
   {
    "duration": 3,
    "start_time": "2021-11-15T21:00:39.269Z"
   },
   {
    "duration": 4,
    "start_time": "2021-11-15T21:01:09.035Z"
   },
   {
    "duration": 21,
    "start_time": "2021-11-15T21:01:13.387Z"
   },
   {
    "duration": 17,
    "start_time": "2021-11-15T21:01:14.676Z"
   },
   {
    "duration": 21,
    "start_time": "2021-11-15T21:01:16.276Z"
   },
   {
    "duration": 17,
    "start_time": "2021-11-15T21:01:18.031Z"
   },
   {
    "duration": 6,
    "start_time": "2021-11-16T04:39:49.522Z"
   },
   {
    "duration": 925,
    "start_time": "2021-11-16T04:40:00.684Z"
   },
   {
    "duration": 749,
    "start_time": "2021-11-16T04:40:24.198Z"
   },
   {
    "duration": 194,
    "start_time": "2021-11-16T04:40:28.549Z"
   },
   {
    "duration": 36,
    "start_time": "2021-11-16T04:40:33.161Z"
   },
   {
    "duration": 56,
    "start_time": "2021-11-16T04:40:42.030Z"
   },
   {
    "duration": 6,
    "start_time": "2021-11-16T04:40:48.053Z"
   },
   {
    "duration": 31,
    "start_time": "2021-11-16T04:40:56.450Z"
   },
   {
    "duration": 6709,
    "start_time": "2021-11-16T04:41:03.311Z"
   },
   {
    "duration": 32,
    "start_time": "2021-11-16T04:41:51.456Z"
   },
   {
    "duration": 27,
    "start_time": "2021-11-16T04:42:13.073Z"
   },
   {
    "duration": 22,
    "start_time": "2021-11-16T04:42:16.858Z"
   },
   {
    "duration": 52,
    "start_time": "2021-11-16T04:42:22.591Z"
   },
   {
    "duration": 26,
    "start_time": "2021-11-16T04:42:29.871Z"
   },
   {
    "duration": 33,
    "start_time": "2021-11-16T04:42:37.582Z"
   },
   {
    "duration": 92,
    "start_time": "2021-11-16T04:42:42.045Z"
   },
   {
    "duration": 101,
    "start_time": "2021-11-16T04:42:47.039Z"
   },
   {
    "duration": 80,
    "start_time": "2021-11-16T04:42:49.449Z"
   },
   {
    "duration": 23,
    "start_time": "2021-11-16T04:42:54.198Z"
   },
   {
    "duration": 5,
    "start_time": "2021-11-16T04:43:05.724Z"
   },
   {
    "duration": 24,
    "start_time": "2021-11-16T04:43:09.081Z"
   },
   {
    "duration": 15,
    "start_time": "2021-11-16T04:43:15.328Z"
   },
   {
    "duration": 46,
    "start_time": "2021-11-16T04:43:24.876Z"
   },
   {
    "duration": 43,
    "start_time": "2021-11-16T04:43:28.207Z"
   },
   {
    "duration": 5,
    "start_time": "2021-11-16T04:43:38.640Z"
   },
   {
    "duration": 27,
    "start_time": "2021-11-16T04:43:47.593Z"
   },
   {
    "duration": 22,
    "start_time": "2021-11-16T04:43:50.298Z"
   },
   {
    "duration": 29,
    "start_time": "2021-11-16T04:43:52.142Z"
   },
   {
    "duration": 28,
    "start_time": "2021-11-16T04:43:53.085Z"
   },
   {
    "duration": 31,
    "start_time": "2021-11-16T04:43:54.157Z"
   },
   {
    "duration": 33,
    "start_time": "2021-11-16T04:43:56.316Z"
   },
   {
    "duration": 308,
    "start_time": "2021-11-16T04:44:17.225Z"
   },
   {
    "duration": 337,
    "start_time": "2021-11-16T04:44:25.527Z"
   },
   {
    "duration": 263,
    "start_time": "2021-11-16T04:51:17.074Z"
   },
   {
    "duration": 272,
    "start_time": "2021-11-16T04:53:26.415Z"
   },
   {
    "duration": 357,
    "start_time": "2021-11-16T05:09:06.535Z"
   },
   {
    "duration": 296,
    "start_time": "2021-11-16T07:34:29.047Z"
   },
   {
    "duration": 607,
    "start_time": "2021-11-16T07:35:38.368Z"
   },
   {
    "duration": 145,
    "start_time": "2021-11-16T07:35:43.937Z"
   },
   {
    "duration": 17,
    "start_time": "2021-11-16T07:35:49.983Z"
   },
   {
    "duration": 27,
    "start_time": "2021-11-16T07:35:56.724Z"
   },
   {
    "duration": 4,
    "start_time": "2021-11-16T07:36:01.212Z"
   },
   {
    "duration": 26,
    "start_time": "2021-11-16T07:36:04.961Z"
   },
   {
    "duration": 10,
    "start_time": "2021-11-16T07:36:11.105Z"
   },
   {
    "duration": 24,
    "start_time": "2021-11-16T07:36:18.079Z"
   },
   {
    "duration": 21,
    "start_time": "2021-11-16T07:36:26.488Z"
   },
   {
    "duration": 23,
    "start_time": "2021-11-16T07:36:29.440Z"
   },
   {
    "duration": 64,
    "start_time": "2021-11-16T07:36:33.236Z"
   },
   {
    "duration": 72,
    "start_time": "2021-11-16T07:36:35.864Z"
   },
   {
    "duration": 56,
    "start_time": "2021-11-16T07:36:37.970Z"
   },
   {
    "duration": 15,
    "start_time": "2021-11-16T07:36:43.125Z"
   },
   {
    "duration": 4,
    "start_time": "2021-11-16T07:36:49.009Z"
   },
   {
    "duration": 15,
    "start_time": "2021-11-16T07:36:53.639Z"
   },
   {
    "duration": 10,
    "start_time": "2021-11-16T07:36:58.411Z"
   },
   {
    "duration": 34,
    "start_time": "2021-11-16T07:37:07.586Z"
   },
   {
    "duration": 34,
    "start_time": "2021-11-16T07:37:11.055Z"
   },
   {
    "duration": 4,
    "start_time": "2021-11-16T07:37:24.417Z"
   },
   {
    "duration": 20,
    "start_time": "2021-11-16T07:37:28.409Z"
   },
   {
    "duration": 18,
    "start_time": "2021-11-16T07:37:29.231Z"
   },
   {
    "duration": 18,
    "start_time": "2021-11-16T07:37:30.156Z"
   },
   {
    "duration": 21,
    "start_time": "2021-11-16T07:37:31.470Z"
   },
   {
    "duration": 19,
    "start_time": "2021-11-16T07:37:33.115Z"
   },
   {
    "duration": 18,
    "start_time": "2021-11-16T07:37:33.875Z"
   },
   {
    "duration": 5,
    "start_time": "2021-11-16T07:37:38.422Z"
   },
   {
    "duration": 9,
    "start_time": "2021-11-16T07:38:08.303Z"
   },
   {
    "duration": 10,
    "start_time": "2021-11-16T07:40:31.091Z"
   },
   {
    "duration": 9,
    "start_time": "2021-11-16T07:41:31.574Z"
   },
   {
    "duration": 11,
    "start_time": "2021-11-16T07:43:09.090Z"
   },
   {
    "duration": 266,
    "start_time": "2021-11-16T07:44:09.078Z"
   },
   {
    "duration": 23,
    "start_time": "2021-11-16T07:44:25.389Z"
   },
   {
    "duration": 19,
    "start_time": "2021-11-16T07:44:46.477Z"
   },
   {
    "duration": 4,
    "start_time": "2021-11-16T08:03:59.782Z"
   },
   {
    "duration": 34,
    "start_time": "2021-11-16T08:04:34.992Z"
   },
   {
    "duration": 6,
    "start_time": "2021-11-16T09:12:53.428Z"
   },
   {
    "duration": 23,
    "start_time": "2021-11-16T09:12:58.330Z"
   },
   {
    "duration": 27,
    "start_time": "2021-11-16T09:13:58.191Z"
   },
   {
    "duration": 31,
    "start_time": "2021-11-16T09:14:53.571Z"
   },
   {
    "duration": 25,
    "start_time": "2021-11-16T09:25:11.812Z"
   },
   {
    "duration": 24,
    "start_time": "2021-11-16T09:25:27.924Z"
   },
   {
    "duration": 21,
    "start_time": "2021-11-16T09:25:50.442Z"
   },
   {
    "duration": 25,
    "start_time": "2021-11-16T09:27:13.151Z"
   },
   {
    "duration": 31,
    "start_time": "2021-11-16T09:27:30.558Z"
   },
   {
    "duration": 10,
    "start_time": "2021-11-16T09:27:58.277Z"
   },
   {
    "duration": 271,
    "start_time": "2021-11-16T09:28:57.551Z"
   },
   {
    "duration": 354,
    "start_time": "2021-11-16T09:29:11.965Z"
   },
   {
    "duration": 348,
    "start_time": "2021-11-16T09:30:01.768Z"
   },
   {
    "duration": 11,
    "start_time": "2021-11-16T09:30:48.875Z"
   },
   {
    "duration": 320,
    "start_time": "2021-11-16T09:31:19.962Z"
   },
   {
    "duration": 5,
    "start_time": "2021-11-16T09:31:26.618Z"
   },
   {
    "duration": 10,
    "start_time": "2021-11-16T09:32:12.226Z"
   },
   {
    "duration": 6,
    "start_time": "2021-11-16T09:32:39.999Z"
   },
   {
    "duration": 4,
    "start_time": "2021-11-16T09:38:44.848Z"
   },
   {
    "duration": 24,
    "start_time": "2021-11-16T09:38:48.465Z"
   },
   {
    "duration": 24,
    "start_time": "2021-11-16T09:38:54.594Z"
   },
   {
    "duration": 7,
    "start_time": "2021-11-16T15:51:09.966Z"
   },
   {
    "duration": 393,
    "start_time": "2021-11-16T15:51:16.526Z"
   },
   {
    "duration": 767,
    "start_time": "2021-11-16T15:51:33.545Z"
   },
   {
    "duration": 187,
    "start_time": "2021-11-16T15:51:34.315Z"
   },
   {
    "duration": 32,
    "start_time": "2021-11-16T15:51:34.505Z"
   },
   {
    "duration": 36,
    "start_time": "2021-11-16T15:51:34.539Z"
   },
   {
    "duration": 5,
    "start_time": "2021-11-16T15:51:34.578Z"
   },
   {
    "duration": 69,
    "start_time": "2021-11-16T15:51:34.585Z"
   },
   {
    "duration": 17,
    "start_time": "2021-11-16T15:51:34.657Z"
   },
   {
    "duration": 56,
    "start_time": "2021-11-16T15:51:34.678Z"
   },
   {
    "duration": 24,
    "start_time": "2021-11-16T15:51:34.739Z"
   },
   {
    "duration": 30,
    "start_time": "2021-11-16T15:51:34.765Z"
   },
   {
    "duration": 117,
    "start_time": "2021-11-16T15:51:34.798Z"
   },
   {
    "duration": 114,
    "start_time": "2021-11-16T15:51:34.929Z"
   },
   {
    "duration": 85,
    "start_time": "2021-11-16T15:51:35.045Z"
   },
   {
    "duration": 15,
    "start_time": "2021-11-16T15:51:35.132Z"
   },
   {
    "duration": 4,
    "start_time": "2021-11-16T15:51:35.149Z"
   },
   {
    "duration": 23,
    "start_time": "2021-11-16T15:51:35.155Z"
   },
   {
    "duration": 51,
    "start_time": "2021-11-16T15:51:35.180Z"
   },
   {
    "duration": 47,
    "start_time": "2021-11-16T15:51:35.233Z"
   },
   {
    "duration": 72,
    "start_time": "2021-11-16T15:51:35.283Z"
   },
   {
    "duration": 5,
    "start_time": "2021-11-16T15:51:35.358Z"
   },
   {
    "duration": 33,
    "start_time": "2021-11-16T15:51:35.365Z"
   },
   {
    "duration": 41,
    "start_time": "2021-11-16T15:51:35.401Z"
   },
   {
    "duration": 27,
    "start_time": "2021-11-16T15:51:35.448Z"
   },
   {
    "duration": 58,
    "start_time": "2021-11-16T15:51:35.478Z"
   },
   {
    "duration": 32,
    "start_time": "2021-11-16T15:51:35.539Z"
   },
   {
    "duration": 29,
    "start_time": "2021-11-16T15:51:35.574Z"
   },
   {
    "duration": 16,
    "start_time": "2021-11-16T15:51:35.629Z"
   },
   {
    "duration": 42,
    "start_time": "2021-11-16T15:51:35.648Z"
   },
   {
    "duration": 62,
    "start_time": "2021-11-16T15:51:35.693Z"
   },
   {
    "duration": 8,
    "start_time": "2021-11-16T15:51:35.758Z"
   },
   {
    "duration": 63,
    "start_time": "2021-11-16T15:51:35.769Z"
   },
   {
    "duration": 19,
    "start_time": "2021-11-16T15:51:35.835Z"
   },
   {
    "duration": 24,
    "start_time": "2021-11-16T15:51:35.857Z"
   },
   {
    "duration": 54,
    "start_time": "2021-11-16T15:51:35.884Z"
   },
   {
    "duration": 15,
    "start_time": "2021-11-16T15:51:35.940Z"
   },
   {
    "duration": 13,
    "start_time": "2021-11-16T15:51:35.957Z"
   },
   {
    "duration": 22,
    "start_time": "2021-11-16T15:51:35.972Z"
   },
   {
    "duration": 13,
    "start_time": "2021-11-16T15:51:35.997Z"
   },
   {
    "duration": 754,
    "start_time": "2021-11-17T12:45:42.307Z"
   },
   {
    "duration": 182,
    "start_time": "2021-11-17T12:45:43.064Z"
   },
   {
    "duration": 39,
    "start_time": "2021-11-17T12:45:43.250Z"
   },
   {
    "duration": 35,
    "start_time": "2021-11-17T12:45:43.292Z"
   },
   {
    "duration": 6,
    "start_time": "2021-11-17T12:45:43.329Z"
   },
   {
    "duration": 68,
    "start_time": "2021-11-17T12:45:43.338Z"
   },
   {
    "duration": 22,
    "start_time": "2021-11-17T12:45:43.410Z"
   },
   {
    "duration": 51,
    "start_time": "2021-11-17T12:45:43.436Z"
   },
   {
    "duration": 21,
    "start_time": "2021-11-17T12:45:43.490Z"
   },
   {
    "duration": 30,
    "start_time": "2021-11-17T12:45:43.514Z"
   },
   {
    "duration": 120,
    "start_time": "2021-11-17T12:45:43.546Z"
   },
   {
    "duration": 119,
    "start_time": "2021-11-17T12:45:43.668Z"
   },
   {
    "duration": 75,
    "start_time": "2021-11-17T12:45:43.790Z"
   },
   {
    "duration": 15,
    "start_time": "2021-11-17T12:45:43.882Z"
   },
   {
    "duration": 4,
    "start_time": "2021-11-17T12:45:43.899Z"
   },
   {
    "duration": 25,
    "start_time": "2021-11-17T12:45:43.906Z"
   },
   {
    "duration": 50,
    "start_time": "2021-11-17T12:45:43.934Z"
   },
   {
    "duration": 45,
    "start_time": "2021-11-17T12:45:43.987Z"
   },
   {
    "duration": 67,
    "start_time": "2021-11-17T12:45:44.034Z"
   },
   {
    "duration": 6,
    "start_time": "2021-11-17T12:45:44.103Z"
   },
   {
    "duration": 26,
    "start_time": "2021-11-17T12:45:44.112Z"
   },
   {
    "duration": 43,
    "start_time": "2021-11-17T12:45:44.141Z"
   },
   {
    "duration": 20,
    "start_time": "2021-11-17T12:45:44.188Z"
   },
   {
    "duration": 20,
    "start_time": "2021-11-17T12:45:44.211Z"
   },
   {
    "duration": 61,
    "start_time": "2021-11-17T12:45:44.234Z"
   },
   {
    "duration": 19,
    "start_time": "2021-11-17T12:45:44.298Z"
   },
   {
    "duration": 11,
    "start_time": "2021-11-17T12:45:44.319Z"
   },
   {
    "duration": 58,
    "start_time": "2021-11-17T12:45:44.333Z"
   },
   {
    "duration": 26,
    "start_time": "2021-11-17T12:45:44.393Z"
   },
   {
    "duration": 5,
    "start_time": "2021-11-17T12:45:44.422Z"
   },
   {
    "duration": 64,
    "start_time": "2021-11-17T12:45:44.429Z"
   },
   {
    "duration": 22,
    "start_time": "2021-11-17T12:45:44.496Z"
   },
   {
    "duration": 32,
    "start_time": "2021-11-17T12:45:44.520Z"
   },
   {
    "duration": 22,
    "start_time": "2021-11-17T12:45:44.583Z"
   },
   {
    "duration": 19,
    "start_time": "2021-11-17T12:45:44.608Z"
   },
   {
    "duration": 9,
    "start_time": "2021-11-17T12:45:44.630Z"
   },
   {
    "duration": 52,
    "start_time": "2021-11-17T12:45:44.641Z"
   },
   {
    "duration": 6,
    "start_time": "2021-11-17T12:45:44.695Z"
   },
   {
    "duration": 375,
    "start_time": "2021-11-17T18:12:42.320Z"
   },
   {
    "duration": 595,
    "start_time": "2021-11-17T18:12:55.124Z"
   },
   {
    "duration": 124,
    "start_time": "2021-11-17T18:12:55.721Z"
   },
   {
    "duration": 16,
    "start_time": "2021-11-17T18:12:55.847Z"
   },
   {
    "duration": 28,
    "start_time": "2021-11-17T18:12:55.864Z"
   },
   {
    "duration": 4,
    "start_time": "2021-11-17T18:12:55.894Z"
   },
   {
    "duration": 26,
    "start_time": "2021-11-17T18:12:55.899Z"
   },
   {
    "duration": 9,
    "start_time": "2021-11-17T18:12:55.927Z"
   },
   {
    "duration": 29,
    "start_time": "2021-11-17T18:12:55.938Z"
   },
   {
    "duration": 15,
    "start_time": "2021-11-17T18:12:55.970Z"
   },
   {
    "duration": 38,
    "start_time": "2021-11-17T18:12:55.987Z"
   },
   {
    "duration": 59,
    "start_time": "2021-11-17T18:12:56.027Z"
   },
   {
    "duration": 74,
    "start_time": "2021-11-17T18:12:56.088Z"
   },
   {
    "duration": 59,
    "start_time": "2021-11-17T18:12:56.163Z"
   },
   {
    "duration": 10,
    "start_time": "2021-11-17T18:12:56.224Z"
   },
   {
    "duration": 10,
    "start_time": "2021-11-17T18:12:56.235Z"
   },
   {
    "duration": 24,
    "start_time": "2021-11-17T18:12:56.246Z"
   },
   {
    "duration": 9,
    "start_time": "2021-11-17T18:12:56.271Z"
   },
   {
    "duration": 50,
    "start_time": "2021-11-17T18:12:56.282Z"
   },
   {
    "duration": 29,
    "start_time": "2021-11-17T18:12:56.334Z"
   },
   {
    "duration": 3,
    "start_time": "2021-11-17T18:12:56.364Z"
   },
   {
    "duration": 25,
    "start_time": "2021-11-17T18:12:56.369Z"
   },
   {
    "duration": 21,
    "start_time": "2021-11-17T18:12:56.396Z"
   },
   {
    "duration": 15,
    "start_time": "2021-11-17T18:12:56.418Z"
   },
   {
    "duration": 13,
    "start_time": "2021-11-17T18:12:56.434Z"
   },
   {
    "duration": 27,
    "start_time": "2021-11-17T18:12:56.449Z"
   },
   {
    "duration": 35,
    "start_time": "2021-11-17T18:12:56.477Z"
   },
   {
    "duration": 7,
    "start_time": "2021-11-17T18:12:56.516Z"
   },
   {
    "duration": 25,
    "start_time": "2021-11-17T18:12:56.525Z"
   },
   {
    "duration": 19,
    "start_time": "2021-11-17T18:12:56.551Z"
   },
   {
    "duration": 11,
    "start_time": "2021-11-17T18:12:56.572Z"
   },
   {
    "duration": 51,
    "start_time": "2021-11-17T18:12:56.584Z"
   },
   {
    "duration": 13,
    "start_time": "2021-11-17T18:12:56.637Z"
   },
   {
    "duration": 30,
    "start_time": "2021-11-17T18:12:56.652Z"
   },
   {
    "duration": 19,
    "start_time": "2021-11-17T18:12:56.684Z"
   },
   {
    "duration": 41,
    "start_time": "2021-11-17T18:12:56.705Z"
   },
   {
    "duration": 13,
    "start_time": "2021-11-17T18:12:56.748Z"
   },
   {
    "duration": 38,
    "start_time": "2021-11-17T18:12:56.763Z"
   },
   {
    "duration": 22,
    "start_time": "2021-11-17T18:12:56.803Z"
   },
   {
    "duration": 21,
    "start_time": "2021-11-17T18:13:20.075Z"
   },
   {
    "duration": 363,
    "start_time": "2021-11-17T18:21:38.338Z"
   },
   {
    "duration": 331,
    "start_time": "2021-11-17T18:21:47.556Z"
   },
   {
    "duration": 10,
    "start_time": "2021-11-17T18:21:56.792Z"
   },
   {
    "duration": 4,
    "start_time": "2021-11-17T18:23:33.931Z"
   },
   {
    "duration": 41,
    "start_time": "2021-11-17T18:37:20.192Z"
   },
   {
    "duration": 2,
    "start_time": "2021-11-17T20:34:08.843Z"
   },
   {
    "duration": 7,
    "start_time": "2021-11-17T20:34:32.456Z"
   },
   {
    "duration": 10,
    "start_time": "2021-11-17T20:34:37.192Z"
   },
   {
    "duration": 7,
    "start_time": "2021-11-17T20:36:51.450Z"
   },
   {
    "duration": 40,
    "start_time": "2021-11-17T20:38:36.326Z"
   },
   {
    "duration": 13,
    "start_time": "2021-11-17T20:40:41.399Z"
   },
   {
    "duration": 12,
    "start_time": "2021-11-17T20:43:07.122Z"
   },
   {
    "duration": 17,
    "start_time": "2021-11-17T20:45:50.541Z"
   },
   {
    "duration": 20,
    "start_time": "2021-11-17T20:46:44.165Z"
   },
   {
    "duration": 11,
    "start_time": "2021-11-17T20:52:35.978Z"
   },
   {
    "duration": 25,
    "start_time": "2021-11-17T20:56:14.334Z"
   },
   {
    "duration": 3,
    "start_time": "2021-11-17T20:59:19.806Z"
   },
   {
    "duration": 158,
    "start_time": "2021-11-17T20:59:19.811Z"
   },
   {
    "duration": 10,
    "start_time": "2021-11-17T20:59:19.971Z"
   },
   {
    "duration": 29,
    "start_time": "2021-11-17T20:59:20.008Z"
   },
   {
    "duration": 12,
    "start_time": "2021-11-17T20:59:20.038Z"
   },
   {
    "duration": 34,
    "start_time": "2021-11-17T20:59:20.051Z"
   },
   {
    "duration": 4,
    "start_time": "2021-11-17T20:59:20.088Z"
   },
   {
    "duration": 29,
    "start_time": "2021-11-17T20:59:20.094Z"
   },
   {
    "duration": 21,
    "start_time": "2021-11-17T20:59:20.125Z"
   },
   {
    "duration": 32,
    "start_time": "2021-11-17T20:59:20.147Z"
   },
   {
    "duration": 54,
    "start_time": "2021-11-17T20:59:20.181Z"
   },
   {
    "duration": 57,
    "start_time": "2021-11-17T20:59:20.237Z"
   },
   {
    "duration": 56,
    "start_time": "2021-11-17T20:59:20.295Z"
   },
   {
    "duration": 58,
    "start_time": "2021-11-17T20:59:20.353Z"
   },
   {
    "duration": 3,
    "start_time": "2021-11-17T20:59:20.412Z"
   },
   {
    "duration": 15,
    "start_time": "2021-11-17T20:59:20.416Z"
   },
   {
    "duration": 42,
    "start_time": "2021-11-17T20:59:20.433Z"
   },
   {
    "duration": 35,
    "start_time": "2021-11-17T20:59:20.477Z"
   },
   {
    "duration": 14,
    "start_time": "2021-11-17T20:59:20.515Z"
   },
   {
    "duration": 3,
    "start_time": "2021-11-17T20:59:20.532Z"
   },
   {
    "duration": 26,
    "start_time": "2021-11-17T20:59:20.537Z"
   },
   {
    "duration": 43,
    "start_time": "2021-11-17T20:59:20.565Z"
   },
   {
    "duration": 21,
    "start_time": "2021-11-17T20:59:20.610Z"
   },
   {
    "duration": 19,
    "start_time": "2021-11-17T20:59:20.633Z"
   },
   {
    "duration": 23,
    "start_time": "2021-11-17T20:59:20.654Z"
   },
   {
    "duration": 40,
    "start_time": "2021-11-17T20:59:20.680Z"
   },
   {
    "duration": 8,
    "start_time": "2021-11-17T20:59:20.722Z"
   },
   {
    "duration": 26,
    "start_time": "2021-11-17T20:59:20.732Z"
   },
   {
    "duration": 15,
    "start_time": "2021-11-17T20:59:20.760Z"
   },
   {
    "duration": 29,
    "start_time": "2021-11-17T20:59:20.777Z"
   },
   {
    "duration": 20,
    "start_time": "2021-11-17T20:59:20.808Z"
   },
   {
    "duration": 11,
    "start_time": "2021-11-17T20:59:20.830Z"
   },
   {
    "duration": 19,
    "start_time": "2021-11-17T20:59:20.843Z"
   },
   {
    "duration": 50,
    "start_time": "2021-11-17T20:59:20.864Z"
   },
   {
    "duration": 12,
    "start_time": "2021-11-17T20:59:20.915Z"
   },
   {
    "duration": 5,
    "start_time": "2021-11-17T20:59:20.930Z"
   },
   {
    "duration": 28,
    "start_time": "2021-11-17T20:59:20.937Z"
   },
   {
    "duration": 24,
    "start_time": "2021-11-17T20:59:20.967Z"
   },
   {
    "duration": 10,
    "start_time": "2021-11-17T21:00:27.269Z"
   },
   {
    "duration": 4,
    "start_time": "2021-11-17T21:01:26.683Z"
   },
   {
    "duration": 8,
    "start_time": "2021-11-17T21:02:53.047Z"
   },
   {
    "duration": 18,
    "start_time": "2021-11-17T21:03:04.062Z"
   },
   {
    "duration": 17,
    "start_time": "2021-11-17T21:03:15.002Z"
   },
   {
    "duration": 9,
    "start_time": "2021-11-17T21:03:59.436Z"
   },
   {
    "duration": 7,
    "start_time": "2021-11-17T21:04:25.162Z"
   },
   {
    "duration": 5,
    "start_time": "2021-11-17T21:04:29.223Z"
   },
   {
    "duration": 8,
    "start_time": "2021-11-17T21:04:40.110Z"
   },
   {
    "duration": 3,
    "start_time": "2021-11-17T21:05:08.180Z"
   },
   {
    "duration": 150,
    "start_time": "2021-11-17T21:05:08.187Z"
   },
   {
    "duration": 9,
    "start_time": "2021-11-17T21:05:08.339Z"
   },
   {
    "duration": 25,
    "start_time": "2021-11-17T21:05:08.350Z"
   },
   {
    "duration": 3,
    "start_time": "2021-11-17T21:05:08.377Z"
   },
   {
    "duration": 41,
    "start_time": "2021-11-17T21:05:08.382Z"
   },
   {
    "duration": 13,
    "start_time": "2021-11-17T21:05:08.425Z"
   },
   {
    "duration": 25,
    "start_time": "2021-11-17T21:05:08.440Z"
   },
   {
    "duration": 18,
    "start_time": "2021-11-17T21:05:08.469Z"
   },
   {
    "duration": 22,
    "start_time": "2021-11-17T21:05:08.507Z"
   },
   {
    "duration": 53,
    "start_time": "2021-11-17T21:05:08.530Z"
   },
   {
    "duration": 74,
    "start_time": "2021-11-17T21:05:08.584Z"
   },
   {
    "duration": 60,
    "start_time": "2021-11-17T21:05:08.660Z"
   },
   {
    "duration": 38,
    "start_time": "2021-11-17T21:05:08.722Z"
   },
   {
    "duration": 5,
    "start_time": "2021-11-17T21:05:08.762Z"
   },
   {
    "duration": 10,
    "start_time": "2021-11-17T21:05:08.768Z"
   },
   {
    "duration": 56,
    "start_time": "2021-11-17T21:05:08.779Z"
   },
   {
    "duration": 11,
    "start_time": "2021-11-17T21:05:08.837Z"
   },
   {
    "duration": 11,
    "start_time": "2021-11-17T21:05:08.851Z"
   },
   {
    "duration": 5,
    "start_time": "2021-11-17T21:05:08.863Z"
   },
   {
    "duration": 47,
    "start_time": "2021-11-17T21:05:08.870Z"
   },
   {
    "duration": 15,
    "start_time": "2021-11-17T21:05:08.919Z"
   },
   {
    "duration": 16,
    "start_time": "2021-11-17T21:05:08.936Z"
   },
   {
    "duration": 13,
    "start_time": "2021-11-17T21:05:08.956Z"
   },
   {
    "duration": 48,
    "start_time": "2021-11-17T21:05:08.971Z"
   },
   {
    "duration": 15,
    "start_time": "2021-11-17T21:05:09.020Z"
   },
   {
    "duration": 9,
    "start_time": "2021-11-17T21:05:09.036Z"
   },
   {
    "duration": 28,
    "start_time": "2021-11-17T21:05:09.046Z"
   },
   {
    "duration": 31,
    "start_time": "2021-11-17T21:05:09.076Z"
   },
   {
    "duration": 4,
    "start_time": "2021-11-17T21:05:09.109Z"
   },
   {
    "duration": 32,
    "start_time": "2021-11-17T21:05:09.114Z"
   },
   {
    "duration": 12,
    "start_time": "2021-11-17T21:05:09.148Z"
   },
   {
    "duration": 15,
    "start_time": "2021-11-17T21:05:09.162Z"
   },
   {
    "duration": 28,
    "start_time": "2021-11-17T21:05:09.179Z"
   },
   {
    "duration": 7,
    "start_time": "2021-11-17T21:05:09.209Z"
   },
   {
    "duration": 6,
    "start_time": "2021-11-17T21:05:09.218Z"
   },
   {
    "duration": 13,
    "start_time": "2021-11-17T21:05:09.225Z"
   },
   {
    "duration": 7,
    "start_time": "2021-11-17T21:05:09.240Z"
   },
   {
    "duration": 841,
    "start_time": "2021-11-18T14:10:30.593Z"
   },
   {
    "duration": 190,
    "start_time": "2021-11-18T14:10:31.436Z"
   },
   {
    "duration": 26,
    "start_time": "2021-11-18T14:10:31.629Z"
   },
   {
    "duration": 54,
    "start_time": "2021-11-18T14:10:31.657Z"
   },
   {
    "duration": 9,
    "start_time": "2021-11-18T14:10:31.713Z"
   },
   {
    "duration": 35,
    "start_time": "2021-11-18T14:10:31.724Z"
   },
   {
    "duration": 22,
    "start_time": "2021-11-18T14:10:31.761Z"
   },
   {
    "duration": 39,
    "start_time": "2021-11-18T14:10:31.787Z"
   },
   {
    "duration": 25,
    "start_time": "2021-11-18T14:10:31.829Z"
   },
   {
    "duration": 49,
    "start_time": "2021-11-18T14:10:31.856Z"
   },
   {
    "duration": 109,
    "start_time": "2021-11-18T14:10:31.908Z"
   },
   {
    "duration": 117,
    "start_time": "2021-11-18T14:10:32.020Z"
   },
   {
    "duration": 89,
    "start_time": "2021-11-18T14:10:32.140Z"
   },
   {
    "duration": 68,
    "start_time": "2021-11-18T14:10:32.231Z"
   },
   {
    "duration": 4,
    "start_time": "2021-11-18T14:10:32.301Z"
   },
   {
    "duration": 13,
    "start_time": "2021-11-18T14:10:32.307Z"
   },
   {
    "duration": 87,
    "start_time": "2021-11-18T14:10:32.323Z"
   },
   {
    "duration": 17,
    "start_time": "2021-11-18T14:10:32.413Z"
   },
   {
    "duration": 18,
    "start_time": "2021-11-18T14:10:32.434Z"
   },
   {
    "duration": 5,
    "start_time": "2021-11-18T14:10:32.483Z"
   },
   {
    "duration": 38,
    "start_time": "2021-11-18T14:10:32.491Z"
   },
   {
    "duration": 51,
    "start_time": "2021-11-18T14:10:32.532Z"
   },
   {
    "duration": 20,
    "start_time": "2021-11-18T14:10:32.589Z"
   },
   {
    "duration": 20,
    "start_time": "2021-11-18T14:10:32.613Z"
   },
   {
    "duration": 60,
    "start_time": "2021-11-18T14:10:32.636Z"
   },
   {
    "duration": 21,
    "start_time": "2021-11-18T14:10:32.698Z"
   },
   {
    "duration": 12,
    "start_time": "2021-11-18T14:10:32.721Z"
   },
   {
    "duration": 56,
    "start_time": "2021-11-18T14:10:32.735Z"
   },
   {
    "duration": 23,
    "start_time": "2021-11-18T14:10:32.793Z"
   },
   {
    "duration": 6,
    "start_time": "2021-11-18T14:10:32.819Z"
   },
   {
    "duration": 57,
    "start_time": "2021-11-18T14:10:32.827Z"
   },
   {
    "duration": 20,
    "start_time": "2021-11-18T14:10:32.886Z"
   },
   {
    "duration": 23,
    "start_time": "2021-11-18T14:10:32.908Z"
   },
   {
    "duration": 54,
    "start_time": "2021-11-18T14:10:32.934Z"
   },
   {
    "duration": 10,
    "start_time": "2021-11-18T14:10:32.991Z"
   },
   {
    "duration": 7,
    "start_time": "2021-11-18T14:10:33.003Z"
   },
   {
    "duration": 9,
    "start_time": "2021-11-18T14:10:33.012Z"
   },
   {
    "duration": 7,
    "start_time": "2021-11-18T14:10:33.024Z"
   },
   {
    "duration": 59,
    "start_time": "2021-11-18T14:17:19.517Z"
   },
   {
    "duration": 691,
    "start_time": "2021-11-18T14:28:13.473Z"
   },
   {
    "duration": 61,
    "start_time": "2021-11-18T14:28:24.009Z"
   },
   {
    "duration": 72,
    "start_time": "2021-11-18T14:28:36.994Z"
   }
  ],
  "colab": {
   "collapsed_sections": [
    "E0vqbgi9ay0H",
    "VUC88oWjTJw2"
   ],
   "name": "yandex_music_project_2021.2.ipynb",
   "provenance": []
  },
  "kernelspec": {
   "display_name": "Python 3 (ipykernel)",
   "language": "python",
   "name": "python3"
  },
  "language_info": {
   "codemirror_mode": {
    "name": "ipython",
    "version": 3
   },
   "file_extension": ".py",
   "mimetype": "text/x-python",
   "name": "python",
   "nbconvert_exporter": "python",
   "pygments_lexer": "ipython3",
   "version": "3.9.7"
  },
  "toc": {
   "base_numbering": 1,
   "nav_menu": {},
   "number_sections": true,
   "sideBar": true,
   "skip_h1_title": true,
   "title_cell": "Table of Contents",
   "title_sidebar": "Contents",
   "toc_cell": false,
   "toc_position": {},
   "toc_section_display": true,
   "toc_window_display": true
  }
 },
 "nbformat": 4,
 "nbformat_minor": 1
}
