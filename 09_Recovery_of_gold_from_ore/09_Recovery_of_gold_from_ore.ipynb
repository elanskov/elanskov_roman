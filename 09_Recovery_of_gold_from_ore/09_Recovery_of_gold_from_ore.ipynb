{
 "cells": [
  {
   "cell_type": "markdown",
   "metadata": {
    "toc": true
   },
   "source": [
    "<h1>Содержание<span class=\"tocSkip\"></span></h1>\n",
    "<div class=\"toc\"><ul class=\"toc-item\"><li><span><a href=\"#Подготовка-данных\" data-toc-modified-id=\"Подготовка-данных-1\"><span class=\"toc-item-num\">1&nbsp;&nbsp;</span>Подготовка данных</a></span><ul class=\"toc-item\"><li><span><a href=\"#Загрузка-и-предоработка\" data-toc-modified-id=\"Загрузка-и-предоработка-1.1\"><span class=\"toc-item-num\">1.1&nbsp;&nbsp;</span>Загрузка и предоработка</a></span></li><li><span><a href=\"#Подготовка-данных\" data-toc-modified-id=\"Подготовка-данных-1.2\"><span class=\"toc-item-num\">1.2&nbsp;&nbsp;</span>Подготовка данных</a></span></li><li><span><a href=\"#Разница-выборок\" data-toc-modified-id=\"Разница-выборок-1.3\"><span class=\"toc-item-num\">1.3&nbsp;&nbsp;</span>Разница выборок</a></span></li></ul></li><li><span><a href=\"#Анализ-данных\" data-toc-modified-id=\"Анализ-данных-2\"><span class=\"toc-item-num\">2&nbsp;&nbsp;</span>Анализ данных</a></span><ul class=\"toc-item\"><li><span><a href=\"#Анализ-концентрации-металлов\" data-toc-modified-id=\"Анализ-концентрации-металлов-2.1\"><span class=\"toc-item-num\">2.1&nbsp;&nbsp;</span>Анализ концентрации металлов</a></span></li><li><span><a href=\"#Сравнение-распределения-размеров-гранул-сырья\" data-toc-modified-id=\"Сравнение-распределения-размеров-гранул-сырья-2.2\"><span class=\"toc-item-num\">2.2&nbsp;&nbsp;</span>Сравнение распределения размеров гранул сырья</a></span></li><li><span><a href=\"#Суммарная-концентрация-всех-веществ\" data-toc-modified-id=\"Суммарная-концентрация-всех-веществ-2.3\"><span class=\"toc-item-num\">2.3&nbsp;&nbsp;</span>Суммарная концентрация всех веществ</a></span></li></ul></li><li><span><a href=\"#Модель\" data-toc-modified-id=\"Модель-3\"><span class=\"toc-item-num\">3&nbsp;&nbsp;</span>Модель</a></span><ul class=\"toc-item\"><li><span><a href=\"#Функция-для-подсчета-sMAPE\" data-toc-modified-id=\"Функция-для-подсчета-sMAPE-3.1\"><span class=\"toc-item-num\">3.1&nbsp;&nbsp;</span>Функция для подсчета sMAPE</a></span></li><li><span><a href=\"#Обучение-моделей\" data-toc-modified-id=\"Обучение-моделей-3.2\"><span class=\"toc-item-num\">3.2&nbsp;&nbsp;</span>Обучение моделей</a></span></li></ul></li><li><span><a href=\"#Выводы\" data-toc-modified-id=\"Выводы-4\"><span class=\"toc-item-num\">4&nbsp;&nbsp;</span>Выводы</a></span></li><li><span><a href=\"#Чек-лист-готовности-проекта\" data-toc-modified-id=\"Чек-лист-готовности-проекта-5\"><span class=\"toc-item-num\">5&nbsp;&nbsp;</span>Чек-лист готовности проекта</a></span></li></ul></div>"
   ]
  },
  {
   "cell_type": "markdown",
   "metadata": {},
   "source": [
    "# Восстановление золота из руды"
   ]
  },
  {
   "cell_type": "markdown",
   "metadata": {},
   "source": [
    "Подготовьте прототип модели машинного обучения для «Цифры». Компания разрабатывает решения для эффективной работы промышленных предприятий.\n",
    "\n",
    "Модель должна предсказать коэффициент восстановления золота из золотосодержащей руды. Используйте данные с параметрами добычи и очистки. \n",
    "\n",
    "Модель поможет оптимизировать производство, чтобы не запускать предприятие с убыточными характеристиками.\n",
    "\n",
    "Вам нужно:\n",
    "\n",
    "1. Подготовить данные;\n",
    "2. Провести исследовательский анализ данных;\n",
    "3. Построить и обучить модель.\n",
    "\n",
    "Чтобы выполнить проект, обращайтесь к библиотекам *pandas*, *matplotlib* и *sklearn.* Вам поможет их документация."
   ]
  },
  {
   "cell_type": "markdown",
   "metadata": {},
   "source": [
    "## Подготовка данных"
   ]
  },
  {
   "cell_type": "markdown",
   "metadata": {},
   "source": [
    "### Загрузка и предоработка"
   ]
  },
  {
   "cell_type": "code",
   "execution_count": 1,
   "metadata": {},
   "outputs": [],
   "source": [
    "import pandas as pd\n",
    "import numpy as np\n",
    "import re\n",
    "from scipy import stats as st\n",
    "import matplotlib.pyplot as plt\n",
    "import seaborn as sns\n",
    "sns.set()\n",
    "from IPython.display import display\n",
    "from numpy.random import RandomState\n",
    "from scipy import stats\n",
    "from sklearn.metrics import mean_absolute_error\n",
    "from sklearn.preprocessing import StandardScaler\n",
    "from sklearn.model_selection import train_test_split, cross_val_score, GridSearchCV\n",
    "from sklearn.linear_model import LinearRegression, ElasticNet, Ridge, Lasso\n",
    "from sklearn.ensemble import GradientBoostingRegressor, RandomForestRegressor\n",
    "from sklearn.tree import DecisionTreeRegressor\n",
    "from catboost import CatBoostRegressor\n",
    "from sklearn.dummy import DummyRegressor\n",
    "from sklearn.metrics import mean_squared_error, make_scorer"
   ]
  },
  {
   "cell_type": "code",
   "execution_count": 2,
   "metadata": {},
   "outputs": [],
   "source": [
    "df_train = pd.read_csv('/datasets/gold_recovery_train_new.csv')\n",
    "df_test = pd.read_csv('/datasets/gold_recovery_test_new.csv')\n",
    "df_full = pd.read_csv('/datasets/gold_recovery_full_new.csv')"
   ]
  },
  {
   "cell_type": "code",
   "execution_count": 3,
   "metadata": {},
   "outputs": [
    {
     "name": "stdout",
     "output_type": "stream",
     "text": [
      "<class 'pandas.core.frame.DataFrame'>\n",
      "RangeIndex: 19439 entries, 0 to 19438\n",
      "Data columns (total 87 columns):\n",
      " #   Column                                              Non-Null Count  Dtype  \n",
      "---  ------                                              --------------  -----  \n",
      " 0   date                                                19439 non-null  object \n",
      " 1   final.output.concentrate_ag                         19438 non-null  float64\n",
      " 2   final.output.concentrate_pb                         19438 non-null  float64\n",
      " 3   final.output.concentrate_sol                        19228 non-null  float64\n",
      " 4   final.output.concentrate_au                         19439 non-null  float64\n",
      " 5   final.output.recovery                               19439 non-null  float64\n",
      " 6   final.output.tail_ag                                19438 non-null  float64\n",
      " 7   final.output.tail_pb                                19338 non-null  float64\n",
      " 8   final.output.tail_sol                               19433 non-null  float64\n",
      " 9   final.output.tail_au                                19439 non-null  float64\n",
      " 10  primary_cleaner.input.sulfate                       19415 non-null  float64\n",
      " 11  primary_cleaner.input.depressant                    19402 non-null  float64\n",
      " 12  primary_cleaner.input.feed_size                     19439 non-null  float64\n",
      " 13  primary_cleaner.input.xanthate                      19335 non-null  float64\n",
      " 14  primary_cleaner.output.concentrate_ag               19439 non-null  float64\n",
      " 15  primary_cleaner.output.concentrate_pb               19323 non-null  float64\n",
      " 16  primary_cleaner.output.concentrate_sol              19069 non-null  float64\n",
      " 17  primary_cleaner.output.concentrate_au               19439 non-null  float64\n",
      " 18  primary_cleaner.output.tail_ag                      19435 non-null  float64\n",
      " 19  primary_cleaner.output.tail_pb                      19418 non-null  float64\n",
      " 20  primary_cleaner.output.tail_sol                     19377 non-null  float64\n",
      " 21  primary_cleaner.output.tail_au                      19439 non-null  float64\n",
      " 22  primary_cleaner.state.floatbank8_a_air              19435 non-null  float64\n",
      " 23  primary_cleaner.state.floatbank8_a_level            19438 non-null  float64\n",
      " 24  primary_cleaner.state.floatbank8_b_air              19435 non-null  float64\n",
      " 25  primary_cleaner.state.floatbank8_b_level            19438 non-null  float64\n",
      " 26  primary_cleaner.state.floatbank8_c_air              19437 non-null  float64\n",
      " 27  primary_cleaner.state.floatbank8_c_level            19438 non-null  float64\n",
      " 28  primary_cleaner.state.floatbank8_d_air              19436 non-null  float64\n",
      " 29  primary_cleaner.state.floatbank8_d_level            19438 non-null  float64\n",
      " 30  rougher.calculation.sulfate_to_au_concentrate       19437 non-null  float64\n",
      " 31  rougher.calculation.floatbank10_sulfate_to_au_feed  19437 non-null  float64\n",
      " 32  rougher.calculation.floatbank11_sulfate_to_au_feed  19437 non-null  float64\n",
      " 33  rougher.calculation.au_pb_ratio                     19439 non-null  float64\n",
      " 34  rougher.input.feed_ag                               19439 non-null  float64\n",
      " 35  rougher.input.feed_pb                               19339 non-null  float64\n",
      " 36  rougher.input.feed_rate                             19428 non-null  float64\n",
      " 37  rougher.input.feed_size                             19294 non-null  float64\n",
      " 38  rougher.input.feed_sol                              19340 non-null  float64\n",
      " 39  rougher.input.feed_au                               19439 non-null  float64\n",
      " 40  rougher.input.floatbank10_sulfate                   19405 non-null  float64\n",
      " 41  rougher.input.floatbank10_xanthate                  19431 non-null  float64\n",
      " 42  rougher.input.floatbank11_sulfate                   19395 non-null  float64\n",
      " 43  rougher.input.floatbank11_xanthate                  18986 non-null  float64\n",
      " 44  rougher.output.concentrate_ag                       19439 non-null  float64\n",
      " 45  rougher.output.concentrate_pb                       19439 non-null  float64\n",
      " 46  rougher.output.concentrate_sol                      19416 non-null  float64\n",
      " 47  rougher.output.concentrate_au                       19439 non-null  float64\n",
      " 48  rougher.output.recovery                             19439 non-null  float64\n",
      " 49  rougher.output.tail_ag                              19438 non-null  float64\n",
      " 50  rougher.output.tail_pb                              19439 non-null  float64\n",
      " 51  rougher.output.tail_sol                             19439 non-null  float64\n",
      " 52  rougher.output.tail_au                              19439 non-null  float64\n",
      " 53  rougher.state.floatbank10_a_air                     19438 non-null  float64\n",
      " 54  rougher.state.floatbank10_a_level                   19438 non-null  float64\n",
      " 55  rougher.state.floatbank10_b_air                     19438 non-null  float64\n",
      " 56  rougher.state.floatbank10_b_level                   19438 non-null  float64\n",
      " 57  rougher.state.floatbank10_c_air                     19438 non-null  float64\n",
      " 58  rougher.state.floatbank10_c_level                   19438 non-null  float64\n",
      " 59  rougher.state.floatbank10_d_air                     19439 non-null  float64\n",
      " 60  rougher.state.floatbank10_d_level                   19439 non-null  float64\n",
      " 61  rougher.state.floatbank10_e_air                     19003 non-null  float64\n",
      " 62  rougher.state.floatbank10_e_level                   19439 non-null  float64\n",
      " 63  rougher.state.floatbank10_f_air                     19439 non-null  float64\n",
      " 64  rougher.state.floatbank10_f_level                   19439 non-null  float64\n",
      " 65  secondary_cleaner.output.tail_ag                    19437 non-null  float64\n",
      " 66  secondary_cleaner.output.tail_pb                    19427 non-null  float64\n",
      " 67  secondary_cleaner.output.tail_sol                   17691 non-null  float64\n",
      " 68  secondary_cleaner.output.tail_au                    19439 non-null  float64\n",
      " 69  secondary_cleaner.state.floatbank2_a_air            19219 non-null  float64\n",
      " 70  secondary_cleaner.state.floatbank2_a_level          19438 non-null  float64\n",
      " 71  secondary_cleaner.state.floatbank2_b_air            19416 non-null  float64\n",
      " 72  secondary_cleaner.state.floatbank2_b_level          19438 non-null  float64\n",
      " 73  secondary_cleaner.state.floatbank3_a_air            19426 non-null  float64\n",
      " 74  secondary_cleaner.state.floatbank3_a_level          19438 non-null  float64\n",
      " 75  secondary_cleaner.state.floatbank3_b_air            19438 non-null  float64\n",
      " 76  secondary_cleaner.state.floatbank3_b_level          19438 non-null  float64\n",
      " 77  secondary_cleaner.state.floatbank4_a_air            19433 non-null  float64\n",
      " 78  secondary_cleaner.state.floatbank4_a_level          19438 non-null  float64\n",
      " 79  secondary_cleaner.state.floatbank4_b_air            19438 non-null  float64\n",
      " 80  secondary_cleaner.state.floatbank4_b_level          19438 non-null  float64\n",
      " 81  secondary_cleaner.state.floatbank5_a_air            19438 non-null  float64\n",
      " 82  secondary_cleaner.state.floatbank5_a_level          19438 non-null  float64\n",
      " 83  secondary_cleaner.state.floatbank5_b_air            19438 non-null  float64\n",
      " 84  secondary_cleaner.state.floatbank5_b_level          19438 non-null  float64\n",
      " 85  secondary_cleaner.state.floatbank6_a_air            19437 non-null  float64\n",
      " 86  secondary_cleaner.state.floatbank6_a_level          19438 non-null  float64\n",
      "dtypes: float64(86), object(1)\n",
      "memory usage: 12.9+ MB\n"
     ]
    }
   ],
   "source": [
    "df_full.info()"
   ]
  },
  {
   "cell_type": "code",
   "execution_count": 4,
   "metadata": {},
   "outputs": [
    {
     "name": "stdout",
     "output_type": "stream",
     "text": [
      "<class 'pandas.core.frame.DataFrame'>\n",
      "RangeIndex: 5290 entries, 0 to 5289\n",
      "Data columns (total 53 columns):\n",
      " #   Column                                      Non-Null Count  Dtype  \n",
      "---  ------                                      --------------  -----  \n",
      " 0   date                                        5290 non-null   object \n",
      " 1   primary_cleaner.input.sulfate               5286 non-null   float64\n",
      " 2   primary_cleaner.input.depressant            5285 non-null   float64\n",
      " 3   primary_cleaner.input.feed_size             5290 non-null   float64\n",
      " 4   primary_cleaner.input.xanthate              5286 non-null   float64\n",
      " 5   primary_cleaner.state.floatbank8_a_air      5290 non-null   float64\n",
      " 6   primary_cleaner.state.floatbank8_a_level    5290 non-null   float64\n",
      " 7   primary_cleaner.state.floatbank8_b_air      5290 non-null   float64\n",
      " 8   primary_cleaner.state.floatbank8_b_level    5290 non-null   float64\n",
      " 9   primary_cleaner.state.floatbank8_c_air      5290 non-null   float64\n",
      " 10  primary_cleaner.state.floatbank8_c_level    5290 non-null   float64\n",
      " 11  primary_cleaner.state.floatbank8_d_air      5290 non-null   float64\n",
      " 12  primary_cleaner.state.floatbank8_d_level    5290 non-null   float64\n",
      " 13  rougher.input.feed_ag                       5290 non-null   float64\n",
      " 14  rougher.input.feed_pb                       5290 non-null   float64\n",
      " 15  rougher.input.feed_rate                     5287 non-null   float64\n",
      " 16  rougher.input.feed_size                     5289 non-null   float64\n",
      " 17  rougher.input.feed_sol                      5269 non-null   float64\n",
      " 18  rougher.input.feed_au                       5290 non-null   float64\n",
      " 19  rougher.input.floatbank10_sulfate           5285 non-null   float64\n",
      " 20  rougher.input.floatbank10_xanthate          5290 non-null   float64\n",
      " 21  rougher.input.floatbank11_sulfate           5282 non-null   float64\n",
      " 22  rougher.input.floatbank11_xanthate          5265 non-null   float64\n",
      " 23  rougher.state.floatbank10_a_air             5290 non-null   float64\n",
      " 24  rougher.state.floatbank10_a_level           5290 non-null   float64\n",
      " 25  rougher.state.floatbank10_b_air             5290 non-null   float64\n",
      " 26  rougher.state.floatbank10_b_level           5290 non-null   float64\n",
      " 27  rougher.state.floatbank10_c_air             5290 non-null   float64\n",
      " 28  rougher.state.floatbank10_c_level           5290 non-null   float64\n",
      " 29  rougher.state.floatbank10_d_air             5290 non-null   float64\n",
      " 30  rougher.state.floatbank10_d_level           5290 non-null   float64\n",
      " 31  rougher.state.floatbank10_e_air             5290 non-null   float64\n",
      " 32  rougher.state.floatbank10_e_level           5290 non-null   float64\n",
      " 33  rougher.state.floatbank10_f_air             5290 non-null   float64\n",
      " 34  rougher.state.floatbank10_f_level           5290 non-null   float64\n",
      " 35  secondary_cleaner.state.floatbank2_a_air    5287 non-null   float64\n",
      " 36  secondary_cleaner.state.floatbank2_a_level  5290 non-null   float64\n",
      " 37  secondary_cleaner.state.floatbank2_b_air    5288 non-null   float64\n",
      " 38  secondary_cleaner.state.floatbank2_b_level  5290 non-null   float64\n",
      " 39  secondary_cleaner.state.floatbank3_a_air    5281 non-null   float64\n",
      " 40  secondary_cleaner.state.floatbank3_a_level  5290 non-null   float64\n",
      " 41  secondary_cleaner.state.floatbank3_b_air    5290 non-null   float64\n",
      " 42  secondary_cleaner.state.floatbank3_b_level  5290 non-null   float64\n",
      " 43  secondary_cleaner.state.floatbank4_a_air    5290 non-null   float64\n",
      " 44  secondary_cleaner.state.floatbank4_a_level  5290 non-null   float64\n",
      " 45  secondary_cleaner.state.floatbank4_b_air    5290 non-null   float64\n",
      " 46  secondary_cleaner.state.floatbank4_b_level  5290 non-null   float64\n",
      " 47  secondary_cleaner.state.floatbank5_a_air    5290 non-null   float64\n",
      " 48  secondary_cleaner.state.floatbank5_a_level  5290 non-null   float64\n",
      " 49  secondary_cleaner.state.floatbank5_b_air    5290 non-null   float64\n",
      " 50  secondary_cleaner.state.floatbank5_b_level  5290 non-null   float64\n",
      " 51  secondary_cleaner.state.floatbank6_a_air    5290 non-null   float64\n",
      " 52  secondary_cleaner.state.floatbank6_a_level  5290 non-null   float64\n",
      "dtypes: float64(52), object(1)\n",
      "memory usage: 2.1+ MB\n"
     ]
    }
   ],
   "source": [
    "df_test.info()"
   ]
  },
  {
   "cell_type": "code",
   "execution_count": 5,
   "metadata": {},
   "outputs": [
    {
     "name": "stdout",
     "output_type": "stream",
     "text": [
      "<class 'pandas.core.frame.DataFrame'>\n",
      "RangeIndex: 14149 entries, 0 to 14148\n",
      "Data columns (total 87 columns):\n",
      " #   Column                                              Non-Null Count  Dtype  \n",
      "---  ------                                              --------------  -----  \n",
      " 0   date                                                14149 non-null  object \n",
      " 1   final.output.concentrate_ag                         14148 non-null  float64\n",
      " 2   final.output.concentrate_pb                         14148 non-null  float64\n",
      " 3   final.output.concentrate_sol                        13938 non-null  float64\n",
      " 4   final.output.concentrate_au                         14149 non-null  float64\n",
      " 5   final.output.recovery                               14149 non-null  float64\n",
      " 6   final.output.tail_ag                                14149 non-null  float64\n",
      " 7   final.output.tail_pb                                14049 non-null  float64\n",
      " 8   final.output.tail_sol                               14144 non-null  float64\n",
      " 9   final.output.tail_au                                14149 non-null  float64\n",
      " 10  primary_cleaner.input.sulfate                       14129 non-null  float64\n",
      " 11  primary_cleaner.input.depressant                    14117 non-null  float64\n",
      " 12  primary_cleaner.input.feed_size                     14149 non-null  float64\n",
      " 13  primary_cleaner.input.xanthate                      14049 non-null  float64\n",
      " 14  primary_cleaner.output.concentrate_ag               14149 non-null  float64\n",
      " 15  primary_cleaner.output.concentrate_pb               14063 non-null  float64\n",
      " 16  primary_cleaner.output.concentrate_sol              13863 non-null  float64\n",
      " 17  primary_cleaner.output.concentrate_au               14149 non-null  float64\n",
      " 18  primary_cleaner.output.tail_ag                      14148 non-null  float64\n",
      " 19  primary_cleaner.output.tail_pb                      14134 non-null  float64\n",
      " 20  primary_cleaner.output.tail_sol                     14103 non-null  float64\n",
      " 21  primary_cleaner.output.tail_au                      14149 non-null  float64\n",
      " 22  primary_cleaner.state.floatbank8_a_air              14145 non-null  float64\n",
      " 23  primary_cleaner.state.floatbank8_a_level            14148 non-null  float64\n",
      " 24  primary_cleaner.state.floatbank8_b_air              14145 non-null  float64\n",
      " 25  primary_cleaner.state.floatbank8_b_level            14148 non-null  float64\n",
      " 26  primary_cleaner.state.floatbank8_c_air              14147 non-null  float64\n",
      " 27  primary_cleaner.state.floatbank8_c_level            14148 non-null  float64\n",
      " 28  primary_cleaner.state.floatbank8_d_air              14146 non-null  float64\n",
      " 29  primary_cleaner.state.floatbank8_d_level            14148 non-null  float64\n",
      " 30  rougher.calculation.sulfate_to_au_concentrate       14148 non-null  float64\n",
      " 31  rougher.calculation.floatbank10_sulfate_to_au_feed  14148 non-null  float64\n",
      " 32  rougher.calculation.floatbank11_sulfate_to_au_feed  14148 non-null  float64\n",
      " 33  rougher.calculation.au_pb_ratio                     14149 non-null  float64\n",
      " 34  rougher.input.feed_ag                               14149 non-null  float64\n",
      " 35  rougher.input.feed_pb                               14049 non-null  float64\n",
      " 36  rougher.input.feed_rate                             14141 non-null  float64\n",
      " 37  rougher.input.feed_size                             14005 non-null  float64\n",
      " 38  rougher.input.feed_sol                              14071 non-null  float64\n",
      " 39  rougher.input.feed_au                               14149 non-null  float64\n",
      " 40  rougher.input.floatbank10_sulfate                   14120 non-null  float64\n",
      " 41  rougher.input.floatbank10_xanthate                  14141 non-null  float64\n",
      " 42  rougher.input.floatbank11_sulfate                   14113 non-null  float64\n",
      " 43  rougher.input.floatbank11_xanthate                  13721 non-null  float64\n",
      " 44  rougher.output.concentrate_ag                       14149 non-null  float64\n",
      " 45  rougher.output.concentrate_pb                       14149 non-null  float64\n",
      " 46  rougher.output.concentrate_sol                      14127 non-null  float64\n",
      " 47  rougher.output.concentrate_au                       14149 non-null  float64\n",
      " 48  rougher.output.recovery                             14149 non-null  float64\n",
      " 49  rougher.output.tail_ag                              14148 non-null  float64\n",
      " 50  rougher.output.tail_pb                              14149 non-null  float64\n",
      " 51  rougher.output.tail_sol                             14149 non-null  float64\n",
      " 52  rougher.output.tail_au                              14149 non-null  float64\n",
      " 53  rougher.state.floatbank10_a_air                     14148 non-null  float64\n",
      " 54  rougher.state.floatbank10_a_level                   14148 non-null  float64\n",
      " 55  rougher.state.floatbank10_b_air                     14148 non-null  float64\n",
      " 56  rougher.state.floatbank10_b_level                   14148 non-null  float64\n",
      " 57  rougher.state.floatbank10_c_air                     14148 non-null  float64\n",
      " 58  rougher.state.floatbank10_c_level                   14148 non-null  float64\n",
      " 59  rougher.state.floatbank10_d_air                     14149 non-null  float64\n",
      " 60  rougher.state.floatbank10_d_level                   14149 non-null  float64\n",
      " 61  rougher.state.floatbank10_e_air                     13713 non-null  float64\n",
      " 62  rougher.state.floatbank10_e_level                   14149 non-null  float64\n",
      " 63  rougher.state.floatbank10_f_air                     14149 non-null  float64\n",
      " 64  rougher.state.floatbank10_f_level                   14149 non-null  float64\n",
      " 65  secondary_cleaner.output.tail_ag                    14147 non-null  float64\n",
      " 66  secondary_cleaner.output.tail_pb                    14139 non-null  float64\n",
      " 67  secondary_cleaner.output.tail_sol                   12544 non-null  float64\n",
      " 68  secondary_cleaner.output.tail_au                    14149 non-null  float64\n",
      " 69  secondary_cleaner.state.floatbank2_a_air            13932 non-null  float64\n",
      " 70  secondary_cleaner.state.floatbank2_a_level          14148 non-null  float64\n",
      " 71  secondary_cleaner.state.floatbank2_b_air            14128 non-null  float64\n",
      " 72  secondary_cleaner.state.floatbank2_b_level          14148 non-null  float64\n",
      " 73  secondary_cleaner.state.floatbank3_a_air            14145 non-null  float64\n",
      " 74  secondary_cleaner.state.floatbank3_a_level          14148 non-null  float64\n",
      " 75  secondary_cleaner.state.floatbank3_b_air            14148 non-null  float64\n",
      " 76  secondary_cleaner.state.floatbank3_b_level          14148 non-null  float64\n",
      " 77  secondary_cleaner.state.floatbank4_a_air            14143 non-null  float64\n",
      " 78  secondary_cleaner.state.floatbank4_a_level          14148 non-null  float64\n",
      " 79  secondary_cleaner.state.floatbank4_b_air            14148 non-null  float64\n",
      " 80  secondary_cleaner.state.floatbank4_b_level          14148 non-null  float64\n",
      " 81  secondary_cleaner.state.floatbank5_a_air            14148 non-null  float64\n",
      " 82  secondary_cleaner.state.floatbank5_a_level          14148 non-null  float64\n",
      " 83  secondary_cleaner.state.floatbank5_b_air            14148 non-null  float64\n",
      " 84  secondary_cleaner.state.floatbank5_b_level          14148 non-null  float64\n",
      " 85  secondary_cleaner.state.floatbank6_a_air            14147 non-null  float64\n",
      " 86  secondary_cleaner.state.floatbank6_a_level          14148 non-null  float64\n",
      "dtypes: float64(86), object(1)\n",
      "memory usage: 9.4+ MB\n"
     ]
    }
   ],
   "source": [
    "df_train.info()"
   ]
  },
  {
   "cell_type": "code",
   "execution_count": 6,
   "metadata": {},
   "outputs": [
    {
     "name": "stdout",
     "output_type": "stream",
     "text": [
      "0\n",
      "0\n",
      "0\n"
     ]
    }
   ],
   "source": [
    "print(df_train.duplicated().sum())\n",
    "print(df_test.duplicated().sum())\n",
    "print(df_full.duplicated().sum())"
   ]
  },
  {
   "cell_type": "code",
   "execution_count": 7,
   "metadata": {},
   "outputs": [
    {
     "name": "stdout",
     "output_type": "stream",
     "text": [
      "primary_cleaner.input.xanthate               100\n",
      "rougher.input.feed_pb                        100\n",
      "final.output.tail_pb                         100\n",
      "rougher.input.feed_size                      144\n",
      "final.output.concentrate_sol                 211\n",
      "secondary_cleaner.state.floatbank2_a_air     217\n",
      "primary_cleaner.output.concentrate_sol       286\n",
      "rougher.input.floatbank11_xanthate           428\n",
      "rougher.state.floatbank10_e_air              436\n",
      "secondary_cleaner.output.tail_sol           1605\n",
      "dtype: int64\n",
      "rougher.input.feed_rate                      3\n",
      "secondary_cleaner.state.floatbank2_a_air     3\n",
      "primary_cleaner.input.xanthate               4\n",
      "primary_cleaner.input.sulfate                4\n",
      "rougher.input.floatbank10_sulfate            5\n",
      "primary_cleaner.input.depressant             5\n",
      "rougher.input.floatbank11_sulfate            8\n",
      "secondary_cleaner.state.floatbank3_a_air     9\n",
      "rougher.input.feed_sol                      21\n",
      "rougher.input.floatbank11_xanthate          25\n",
      "dtype: int64\n",
      "final.output.tail_pb                         101\n",
      "primary_cleaner.input.xanthate               104\n",
      "primary_cleaner.output.concentrate_pb        116\n",
      "rougher.input.feed_size                      145\n",
      "final.output.concentrate_sol                 211\n",
      "secondary_cleaner.state.floatbank2_a_air     220\n",
      "primary_cleaner.output.concentrate_sol       370\n",
      "rougher.state.floatbank10_e_air              436\n",
      "rougher.input.floatbank11_xanthate           453\n",
      "secondary_cleaner.output.tail_sol           1748\n",
      "dtype: int64\n"
     ]
    }
   ],
   "source": [
    "print(df_train.isna().sum().sort_values().tail(10))\n",
    "print(df_test.isna().sum().sort_values().tail(10))\n",
    "print(df_full.isna().sum().sort_values().tail(10))"
   ]
  },
  {
   "cell_type": "code",
   "execution_count": 8,
   "metadata": {},
   "outputs": [
    {
     "data": {
      "text/html": [
       "<div>\n",
       "<style scoped>\n",
       "    .dataframe tbody tr th:only-of-type {\n",
       "        vertical-align: middle;\n",
       "    }\n",
       "\n",
       "    .dataframe tbody tr th {\n",
       "        vertical-align: top;\n",
       "    }\n",
       "\n",
       "    .dataframe thead th {\n",
       "        text-align: right;\n",
       "    }\n",
       "</style>\n",
       "<table border=\"1\" class=\"dataframe\">\n",
       "  <thead>\n",
       "    <tr style=\"text-align: right;\">\n",
       "      <th></th>\n",
       "      <th>date</th>\n",
       "      <th>final.output.concentrate_ag</th>\n",
       "      <th>final.output.concentrate_pb</th>\n",
       "      <th>final.output.concentrate_sol</th>\n",
       "      <th>final.output.concentrate_au</th>\n",
       "      <th>final.output.recovery</th>\n",
       "      <th>final.output.tail_ag</th>\n",
       "      <th>final.output.tail_pb</th>\n",
       "      <th>final.output.tail_sol</th>\n",
       "      <th>final.output.tail_au</th>\n",
       "      <th>...</th>\n",
       "      <th>secondary_cleaner.state.floatbank4_a_air</th>\n",
       "      <th>secondary_cleaner.state.floatbank4_a_level</th>\n",
       "      <th>secondary_cleaner.state.floatbank4_b_air</th>\n",
       "      <th>secondary_cleaner.state.floatbank4_b_level</th>\n",
       "      <th>secondary_cleaner.state.floatbank5_a_air</th>\n",
       "      <th>secondary_cleaner.state.floatbank5_a_level</th>\n",
       "      <th>secondary_cleaner.state.floatbank5_b_air</th>\n",
       "      <th>secondary_cleaner.state.floatbank5_b_level</th>\n",
       "      <th>secondary_cleaner.state.floatbank6_a_air</th>\n",
       "      <th>secondary_cleaner.state.floatbank6_a_level</th>\n",
       "    </tr>\n",
       "  </thead>\n",
       "  <tbody>\n",
       "    <tr>\n",
       "      <th>0</th>\n",
       "      <td>2016-01-15 00:00:00</td>\n",
       "      <td>6.055403</td>\n",
       "      <td>9.889648</td>\n",
       "      <td>5.507324</td>\n",
       "      <td>42.192020</td>\n",
       "      <td>70.541216</td>\n",
       "      <td>10.411962</td>\n",
       "      <td>0.895447</td>\n",
       "      <td>16.904297</td>\n",
       "      <td>2.143149</td>\n",
       "      <td>...</td>\n",
       "      <td>14.016835</td>\n",
       "      <td>-502.488007</td>\n",
       "      <td>12.099931</td>\n",
       "      <td>-504.715942</td>\n",
       "      <td>9.925633</td>\n",
       "      <td>-498.310211</td>\n",
       "      <td>8.079666</td>\n",
       "      <td>-500.470978</td>\n",
       "      <td>14.151341</td>\n",
       "      <td>-605.841980</td>\n",
       "    </tr>\n",
       "    <tr>\n",
       "      <th>1</th>\n",
       "      <td>2016-01-15 01:00:00</td>\n",
       "      <td>6.029369</td>\n",
       "      <td>9.968944</td>\n",
       "      <td>5.257781</td>\n",
       "      <td>42.701629</td>\n",
       "      <td>69.266198</td>\n",
       "      <td>10.462676</td>\n",
       "      <td>0.927452</td>\n",
       "      <td>16.634514</td>\n",
       "      <td>2.224930</td>\n",
       "      <td>...</td>\n",
       "      <td>13.992281</td>\n",
       "      <td>-505.503262</td>\n",
       "      <td>11.950531</td>\n",
       "      <td>-501.331529</td>\n",
       "      <td>10.039245</td>\n",
       "      <td>-500.169983</td>\n",
       "      <td>7.984757</td>\n",
       "      <td>-500.582168</td>\n",
       "      <td>13.998353</td>\n",
       "      <td>-599.787184</td>\n",
       "    </tr>\n",
       "    <tr>\n",
       "      <th>2</th>\n",
       "      <td>2016-01-15 02:00:00</td>\n",
       "      <td>6.055926</td>\n",
       "      <td>10.213995</td>\n",
       "      <td>5.383759</td>\n",
       "      <td>42.657501</td>\n",
       "      <td>68.116445</td>\n",
       "      <td>10.507046</td>\n",
       "      <td>0.953716</td>\n",
       "      <td>16.208849</td>\n",
       "      <td>2.257889</td>\n",
       "      <td>...</td>\n",
       "      <td>14.015015</td>\n",
       "      <td>-502.520901</td>\n",
       "      <td>11.912783</td>\n",
       "      <td>-501.133383</td>\n",
       "      <td>10.070913</td>\n",
       "      <td>-500.129135</td>\n",
       "      <td>8.013877</td>\n",
       "      <td>-500.517572</td>\n",
       "      <td>14.028663</td>\n",
       "      <td>-601.427363</td>\n",
       "    </tr>\n",
       "    <tr>\n",
       "      <th>3</th>\n",
       "      <td>2016-01-15 03:00:00</td>\n",
       "      <td>6.047977</td>\n",
       "      <td>9.977019</td>\n",
       "      <td>4.858634</td>\n",
       "      <td>42.689819</td>\n",
       "      <td>68.347543</td>\n",
       "      <td>10.422762</td>\n",
       "      <td>0.883763</td>\n",
       "      <td>16.532835</td>\n",
       "      <td>2.146849</td>\n",
       "      <td>...</td>\n",
       "      <td>14.036510</td>\n",
       "      <td>-500.857308</td>\n",
       "      <td>11.999550</td>\n",
       "      <td>-501.193686</td>\n",
       "      <td>9.970366</td>\n",
       "      <td>-499.201640</td>\n",
       "      <td>7.977324</td>\n",
       "      <td>-500.255908</td>\n",
       "      <td>14.005551</td>\n",
       "      <td>-599.996129</td>\n",
       "    </tr>\n",
       "    <tr>\n",
       "      <th>4</th>\n",
       "      <td>2016-01-15 04:00:00</td>\n",
       "      <td>6.148599</td>\n",
       "      <td>10.142511</td>\n",
       "      <td>4.939416</td>\n",
       "      <td>42.774141</td>\n",
       "      <td>66.927016</td>\n",
       "      <td>10.360302</td>\n",
       "      <td>0.792826</td>\n",
       "      <td>16.525686</td>\n",
       "      <td>2.055292</td>\n",
       "      <td>...</td>\n",
       "      <td>14.027298</td>\n",
       "      <td>-499.838632</td>\n",
       "      <td>11.953070</td>\n",
       "      <td>-501.053894</td>\n",
       "      <td>9.925709</td>\n",
       "      <td>-501.686727</td>\n",
       "      <td>7.894242</td>\n",
       "      <td>-500.356035</td>\n",
       "      <td>13.996647</td>\n",
       "      <td>-601.496691</td>\n",
       "    </tr>\n",
       "    <tr>\n",
       "      <th>5</th>\n",
       "      <td>2016-01-15 05:00:00</td>\n",
       "      <td>6.482968</td>\n",
       "      <td>10.049416</td>\n",
       "      <td>5.480257</td>\n",
       "      <td>41.633678</td>\n",
       "      <td>69.465816</td>\n",
       "      <td>10.182708</td>\n",
       "      <td>0.664118</td>\n",
       "      <td>16.999638</td>\n",
       "      <td>1.918586</td>\n",
       "      <td>...</td>\n",
       "      <td>13.938497</td>\n",
       "      <td>-500.970168</td>\n",
       "      <td>11.883350</td>\n",
       "      <td>-500.395298</td>\n",
       "      <td>10.054147</td>\n",
       "      <td>-496.374715</td>\n",
       "      <td>7.965083</td>\n",
       "      <td>-499.364752</td>\n",
       "      <td>14.017067</td>\n",
       "      <td>-599.707915</td>\n",
       "    </tr>\n",
       "    <tr>\n",
       "      <th>6</th>\n",
       "      <td>2016-01-15 06:00:00</td>\n",
       "      <td>6.533849</td>\n",
       "      <td>10.058141</td>\n",
       "      <td>4.569100</td>\n",
       "      <td>41.995316</td>\n",
       "      <td>69.300835</td>\n",
       "      <td>10.304598</td>\n",
       "      <td>0.807342</td>\n",
       "      <td>16.723575</td>\n",
       "      <td>2.058913</td>\n",
       "      <td>...</td>\n",
       "      <td>14.046819</td>\n",
       "      <td>-500.971133</td>\n",
       "      <td>12.091543</td>\n",
       "      <td>-500.501426</td>\n",
       "      <td>10.003247</td>\n",
       "      <td>-497.083180</td>\n",
       "      <td>8.010890</td>\n",
       "      <td>-500.002423</td>\n",
       "      <td>14.029649</td>\n",
       "      <td>-600.905470</td>\n",
       "    </tr>\n",
       "    <tr>\n",
       "      <th>7</th>\n",
       "      <td>2016-01-15 07:00:00</td>\n",
       "      <td>6.130823</td>\n",
       "      <td>9.935481</td>\n",
       "      <td>4.389813</td>\n",
       "      <td>42.452727</td>\n",
       "      <td>70.230976</td>\n",
       "      <td>10.443288</td>\n",
       "      <td>0.949346</td>\n",
       "      <td>16.689959</td>\n",
       "      <td>2.143437</td>\n",
       "      <td>...</td>\n",
       "      <td>13.974691</td>\n",
       "      <td>-501.819696</td>\n",
       "      <td>12.101324</td>\n",
       "      <td>-500.583446</td>\n",
       "      <td>9.873169</td>\n",
       "      <td>-499.171928</td>\n",
       "      <td>7.993381</td>\n",
       "      <td>-499.794518</td>\n",
       "      <td>13.984498</td>\n",
       "      <td>-600.411070</td>\n",
       "    </tr>\n",
       "    <tr>\n",
       "      <th>8</th>\n",
       "      <td>2016-01-15 08:00:00</td>\n",
       "      <td>5.834140</td>\n",
       "      <td>10.071156</td>\n",
       "      <td>4.876389</td>\n",
       "      <td>43.404078</td>\n",
       "      <td>69.688595</td>\n",
       "      <td>10.420140</td>\n",
       "      <td>1.065453</td>\n",
       "      <td>17.201948</td>\n",
       "      <td>2.209881</td>\n",
       "      <td>...</td>\n",
       "      <td>13.964030</td>\n",
       "      <td>-504.252450</td>\n",
       "      <td>12.060738</td>\n",
       "      <td>-501.174549</td>\n",
       "      <td>10.033838</td>\n",
       "      <td>-501.178133</td>\n",
       "      <td>7.881604</td>\n",
       "      <td>-499.729434</td>\n",
       "      <td>13.967135</td>\n",
       "      <td>-599.061188</td>\n",
       "    </tr>\n",
       "    <tr>\n",
       "      <th>9</th>\n",
       "      <td>2016-01-15 09:00:00</td>\n",
       "      <td>5.687063</td>\n",
       "      <td>9.980404</td>\n",
       "      <td>5.282514</td>\n",
       "      <td>43.235220</td>\n",
       "      <td>70.279619</td>\n",
       "      <td>10.487013</td>\n",
       "      <td>1.159805</td>\n",
       "      <td>17.483979</td>\n",
       "      <td>2.209593</td>\n",
       "      <td>...</td>\n",
       "      <td>13.989632</td>\n",
       "      <td>-503.195299</td>\n",
       "      <td>12.052233</td>\n",
       "      <td>-500.928547</td>\n",
       "      <td>9.962574</td>\n",
       "      <td>-502.986357</td>\n",
       "      <td>7.979219</td>\n",
       "      <td>-500.146835</td>\n",
       "      <td>13.981614</td>\n",
       "      <td>-598.070855</td>\n",
       "    </tr>\n",
       "  </tbody>\n",
       "</table>\n",
       "<p>10 rows × 87 columns</p>\n",
       "</div>"
      ],
      "text/plain": [
       "                  date  final.output.concentrate_ag  \\\n",
       "0  2016-01-15 00:00:00                     6.055403   \n",
       "1  2016-01-15 01:00:00                     6.029369   \n",
       "2  2016-01-15 02:00:00                     6.055926   \n",
       "3  2016-01-15 03:00:00                     6.047977   \n",
       "4  2016-01-15 04:00:00                     6.148599   \n",
       "5  2016-01-15 05:00:00                     6.482968   \n",
       "6  2016-01-15 06:00:00                     6.533849   \n",
       "7  2016-01-15 07:00:00                     6.130823   \n",
       "8  2016-01-15 08:00:00                     5.834140   \n",
       "9  2016-01-15 09:00:00                     5.687063   \n",
       "\n",
       "   final.output.concentrate_pb  final.output.concentrate_sol  \\\n",
       "0                     9.889648                      5.507324   \n",
       "1                     9.968944                      5.257781   \n",
       "2                    10.213995                      5.383759   \n",
       "3                     9.977019                      4.858634   \n",
       "4                    10.142511                      4.939416   \n",
       "5                    10.049416                      5.480257   \n",
       "6                    10.058141                      4.569100   \n",
       "7                     9.935481                      4.389813   \n",
       "8                    10.071156                      4.876389   \n",
       "9                     9.980404                      5.282514   \n",
       "\n",
       "   final.output.concentrate_au  final.output.recovery  final.output.tail_ag  \\\n",
       "0                    42.192020              70.541216             10.411962   \n",
       "1                    42.701629              69.266198             10.462676   \n",
       "2                    42.657501              68.116445             10.507046   \n",
       "3                    42.689819              68.347543             10.422762   \n",
       "4                    42.774141              66.927016             10.360302   \n",
       "5                    41.633678              69.465816             10.182708   \n",
       "6                    41.995316              69.300835             10.304598   \n",
       "7                    42.452727              70.230976             10.443288   \n",
       "8                    43.404078              69.688595             10.420140   \n",
       "9                    43.235220              70.279619             10.487013   \n",
       "\n",
       "   final.output.tail_pb  final.output.tail_sol  final.output.tail_au  ...  \\\n",
       "0              0.895447              16.904297              2.143149  ...   \n",
       "1              0.927452              16.634514              2.224930  ...   \n",
       "2              0.953716              16.208849              2.257889  ...   \n",
       "3              0.883763              16.532835              2.146849  ...   \n",
       "4              0.792826              16.525686              2.055292  ...   \n",
       "5              0.664118              16.999638              1.918586  ...   \n",
       "6              0.807342              16.723575              2.058913  ...   \n",
       "7              0.949346              16.689959              2.143437  ...   \n",
       "8              1.065453              17.201948              2.209881  ...   \n",
       "9              1.159805              17.483979              2.209593  ...   \n",
       "\n",
       "   secondary_cleaner.state.floatbank4_a_air  \\\n",
       "0                                 14.016835   \n",
       "1                                 13.992281   \n",
       "2                                 14.015015   \n",
       "3                                 14.036510   \n",
       "4                                 14.027298   \n",
       "5                                 13.938497   \n",
       "6                                 14.046819   \n",
       "7                                 13.974691   \n",
       "8                                 13.964030   \n",
       "9                                 13.989632   \n",
       "\n",
       "   secondary_cleaner.state.floatbank4_a_level  \\\n",
       "0                                 -502.488007   \n",
       "1                                 -505.503262   \n",
       "2                                 -502.520901   \n",
       "3                                 -500.857308   \n",
       "4                                 -499.838632   \n",
       "5                                 -500.970168   \n",
       "6                                 -500.971133   \n",
       "7                                 -501.819696   \n",
       "8                                 -504.252450   \n",
       "9                                 -503.195299   \n",
       "\n",
       "   secondary_cleaner.state.floatbank4_b_air  \\\n",
       "0                                 12.099931   \n",
       "1                                 11.950531   \n",
       "2                                 11.912783   \n",
       "3                                 11.999550   \n",
       "4                                 11.953070   \n",
       "5                                 11.883350   \n",
       "6                                 12.091543   \n",
       "7                                 12.101324   \n",
       "8                                 12.060738   \n",
       "9                                 12.052233   \n",
       "\n",
       "   secondary_cleaner.state.floatbank4_b_level  \\\n",
       "0                                 -504.715942   \n",
       "1                                 -501.331529   \n",
       "2                                 -501.133383   \n",
       "3                                 -501.193686   \n",
       "4                                 -501.053894   \n",
       "5                                 -500.395298   \n",
       "6                                 -500.501426   \n",
       "7                                 -500.583446   \n",
       "8                                 -501.174549   \n",
       "9                                 -500.928547   \n",
       "\n",
       "   secondary_cleaner.state.floatbank5_a_air  \\\n",
       "0                                  9.925633   \n",
       "1                                 10.039245   \n",
       "2                                 10.070913   \n",
       "3                                  9.970366   \n",
       "4                                  9.925709   \n",
       "5                                 10.054147   \n",
       "6                                 10.003247   \n",
       "7                                  9.873169   \n",
       "8                                 10.033838   \n",
       "9                                  9.962574   \n",
       "\n",
       "   secondary_cleaner.state.floatbank5_a_level  \\\n",
       "0                                 -498.310211   \n",
       "1                                 -500.169983   \n",
       "2                                 -500.129135   \n",
       "3                                 -499.201640   \n",
       "4                                 -501.686727   \n",
       "5                                 -496.374715   \n",
       "6                                 -497.083180   \n",
       "7                                 -499.171928   \n",
       "8                                 -501.178133   \n",
       "9                                 -502.986357   \n",
       "\n",
       "   secondary_cleaner.state.floatbank5_b_air  \\\n",
       "0                                  8.079666   \n",
       "1                                  7.984757   \n",
       "2                                  8.013877   \n",
       "3                                  7.977324   \n",
       "4                                  7.894242   \n",
       "5                                  7.965083   \n",
       "6                                  8.010890   \n",
       "7                                  7.993381   \n",
       "8                                  7.881604   \n",
       "9                                  7.979219   \n",
       "\n",
       "   secondary_cleaner.state.floatbank5_b_level  \\\n",
       "0                                 -500.470978   \n",
       "1                                 -500.582168   \n",
       "2                                 -500.517572   \n",
       "3                                 -500.255908   \n",
       "4                                 -500.356035   \n",
       "5                                 -499.364752   \n",
       "6                                 -500.002423   \n",
       "7                                 -499.794518   \n",
       "8                                 -499.729434   \n",
       "9                                 -500.146835   \n",
       "\n",
       "   secondary_cleaner.state.floatbank6_a_air  \\\n",
       "0                                 14.151341   \n",
       "1                                 13.998353   \n",
       "2                                 14.028663   \n",
       "3                                 14.005551   \n",
       "4                                 13.996647   \n",
       "5                                 14.017067   \n",
       "6                                 14.029649   \n",
       "7                                 13.984498   \n",
       "8                                 13.967135   \n",
       "9                                 13.981614   \n",
       "\n",
       "   secondary_cleaner.state.floatbank6_a_level  \n",
       "0                                 -605.841980  \n",
       "1                                 -599.787184  \n",
       "2                                 -601.427363  \n",
       "3                                 -599.996129  \n",
       "4                                 -601.496691  \n",
       "5                                 -599.707915  \n",
       "6                                 -600.905470  \n",
       "7                                 -600.411070  \n",
       "8                                 -599.061188  \n",
       "9                                 -598.070855  \n",
       "\n",
       "[10 rows x 87 columns]"
      ]
     },
     "metadata": {},
     "output_type": "display_data"
    },
    {
     "data": {
      "text/html": [
       "<div>\n",
       "<style scoped>\n",
       "    .dataframe tbody tr th:only-of-type {\n",
       "        vertical-align: middle;\n",
       "    }\n",
       "\n",
       "    .dataframe tbody tr th {\n",
       "        vertical-align: top;\n",
       "    }\n",
       "\n",
       "    .dataframe thead th {\n",
       "        text-align: right;\n",
       "    }\n",
       "</style>\n",
       "<table border=\"1\" class=\"dataframe\">\n",
       "  <thead>\n",
       "    <tr style=\"text-align: right;\">\n",
       "      <th></th>\n",
       "      <th>date</th>\n",
       "      <th>primary_cleaner.input.sulfate</th>\n",
       "      <th>primary_cleaner.input.depressant</th>\n",
       "      <th>primary_cleaner.input.feed_size</th>\n",
       "      <th>primary_cleaner.input.xanthate</th>\n",
       "      <th>primary_cleaner.state.floatbank8_a_air</th>\n",
       "      <th>primary_cleaner.state.floatbank8_a_level</th>\n",
       "      <th>primary_cleaner.state.floatbank8_b_air</th>\n",
       "      <th>primary_cleaner.state.floatbank8_b_level</th>\n",
       "      <th>primary_cleaner.state.floatbank8_c_air</th>\n",
       "      <th>...</th>\n",
       "      <th>secondary_cleaner.state.floatbank4_a_air</th>\n",
       "      <th>secondary_cleaner.state.floatbank4_a_level</th>\n",
       "      <th>secondary_cleaner.state.floatbank4_b_air</th>\n",
       "      <th>secondary_cleaner.state.floatbank4_b_level</th>\n",
       "      <th>secondary_cleaner.state.floatbank5_a_air</th>\n",
       "      <th>secondary_cleaner.state.floatbank5_a_level</th>\n",
       "      <th>secondary_cleaner.state.floatbank5_b_air</th>\n",
       "      <th>secondary_cleaner.state.floatbank5_b_level</th>\n",
       "      <th>secondary_cleaner.state.floatbank6_a_air</th>\n",
       "      <th>secondary_cleaner.state.floatbank6_a_level</th>\n",
       "    </tr>\n",
       "  </thead>\n",
       "  <tbody>\n",
       "    <tr>\n",
       "      <th>0</th>\n",
       "      <td>2016-09-01 00:59:59</td>\n",
       "      <td>210.800909</td>\n",
       "      <td>14.993118</td>\n",
       "      <td>8.080000</td>\n",
       "      <td>1.005021</td>\n",
       "      <td>1398.981301</td>\n",
       "      <td>-500.225577</td>\n",
       "      <td>1399.144926</td>\n",
       "      <td>-499.919735</td>\n",
       "      <td>1400.102998</td>\n",
       "      <td>...</td>\n",
       "      <td>12.023554</td>\n",
       "      <td>-497.795834</td>\n",
       "      <td>8.016656</td>\n",
       "      <td>-501.289139</td>\n",
       "      <td>7.946562</td>\n",
       "      <td>-432.317850</td>\n",
       "      <td>4.872511</td>\n",
       "      <td>-500.037437</td>\n",
       "      <td>26.705889</td>\n",
       "      <td>-499.709414</td>\n",
       "    </tr>\n",
       "    <tr>\n",
       "      <th>1</th>\n",
       "      <td>2016-09-01 01:59:59</td>\n",
       "      <td>215.392455</td>\n",
       "      <td>14.987471</td>\n",
       "      <td>8.080000</td>\n",
       "      <td>0.990469</td>\n",
       "      <td>1398.777912</td>\n",
       "      <td>-500.057435</td>\n",
       "      <td>1398.055362</td>\n",
       "      <td>-499.778182</td>\n",
       "      <td>1396.151033</td>\n",
       "      <td>...</td>\n",
       "      <td>12.058140</td>\n",
       "      <td>-498.695773</td>\n",
       "      <td>8.130979</td>\n",
       "      <td>-499.634209</td>\n",
       "      <td>7.958270</td>\n",
       "      <td>-525.839648</td>\n",
       "      <td>4.878850</td>\n",
       "      <td>-500.162375</td>\n",
       "      <td>25.019940</td>\n",
       "      <td>-499.819438</td>\n",
       "    </tr>\n",
       "    <tr>\n",
       "      <th>2</th>\n",
       "      <td>2016-09-01 02:59:59</td>\n",
       "      <td>215.259946</td>\n",
       "      <td>12.884934</td>\n",
       "      <td>7.786667</td>\n",
       "      <td>0.996043</td>\n",
       "      <td>1398.493666</td>\n",
       "      <td>-500.868360</td>\n",
       "      <td>1398.860436</td>\n",
       "      <td>-499.764529</td>\n",
       "      <td>1398.075709</td>\n",
       "      <td>...</td>\n",
       "      <td>11.962366</td>\n",
       "      <td>-498.767484</td>\n",
       "      <td>8.096893</td>\n",
       "      <td>-500.827423</td>\n",
       "      <td>8.071056</td>\n",
       "      <td>-500.801673</td>\n",
       "      <td>4.905125</td>\n",
       "      <td>-499.828510</td>\n",
       "      <td>24.994862</td>\n",
       "      <td>-500.622559</td>\n",
       "    </tr>\n",
       "    <tr>\n",
       "      <th>3</th>\n",
       "      <td>2016-09-01 03:59:59</td>\n",
       "      <td>215.336236</td>\n",
       "      <td>12.006805</td>\n",
       "      <td>7.640000</td>\n",
       "      <td>0.863514</td>\n",
       "      <td>1399.618111</td>\n",
       "      <td>-498.863574</td>\n",
       "      <td>1397.440120</td>\n",
       "      <td>-499.211024</td>\n",
       "      <td>1400.129303</td>\n",
       "      <td>...</td>\n",
       "      <td>12.033091</td>\n",
       "      <td>-498.350935</td>\n",
       "      <td>8.074946</td>\n",
       "      <td>-499.474407</td>\n",
       "      <td>7.897085</td>\n",
       "      <td>-500.868509</td>\n",
       "      <td>4.931400</td>\n",
       "      <td>-499.963623</td>\n",
       "      <td>24.948919</td>\n",
       "      <td>-498.709987</td>\n",
       "    </tr>\n",
       "    <tr>\n",
       "      <th>4</th>\n",
       "      <td>2016-09-01 04:59:59</td>\n",
       "      <td>199.099327</td>\n",
       "      <td>10.682530</td>\n",
       "      <td>7.530000</td>\n",
       "      <td>0.805575</td>\n",
       "      <td>1401.268123</td>\n",
       "      <td>-500.808305</td>\n",
       "      <td>1398.128818</td>\n",
       "      <td>-499.504543</td>\n",
       "      <td>1402.172226</td>\n",
       "      <td>...</td>\n",
       "      <td>12.025367</td>\n",
       "      <td>-500.786497</td>\n",
       "      <td>8.054678</td>\n",
       "      <td>-500.397500</td>\n",
       "      <td>8.107890</td>\n",
       "      <td>-509.526725</td>\n",
       "      <td>4.957674</td>\n",
       "      <td>-500.360026</td>\n",
       "      <td>25.003331</td>\n",
       "      <td>-500.856333</td>\n",
       "    </tr>\n",
       "    <tr>\n",
       "      <th>5</th>\n",
       "      <td>2016-09-01 05:59:59</td>\n",
       "      <td>168.485085</td>\n",
       "      <td>8.817007</td>\n",
       "      <td>7.420000</td>\n",
       "      <td>0.791191</td>\n",
       "      <td>1402.826803</td>\n",
       "      <td>-499.299521</td>\n",
       "      <td>1401.511119</td>\n",
       "      <td>-499.205357</td>\n",
       "      <td>1404.088107</td>\n",
       "      <td>...</td>\n",
       "      <td>12.029797</td>\n",
       "      <td>-499.814895</td>\n",
       "      <td>8.036586</td>\n",
       "      <td>-500.371492</td>\n",
       "      <td>8.041446</td>\n",
       "      <td>-510.037054</td>\n",
       "      <td>4.983949</td>\n",
       "      <td>-499.990990</td>\n",
       "      <td>24.978973</td>\n",
       "      <td>-500.475640</td>\n",
       "    </tr>\n",
       "    <tr>\n",
       "      <th>6</th>\n",
       "      <td>2016-09-01 06:59:59</td>\n",
       "      <td>144.133440</td>\n",
       "      <td>7.924610</td>\n",
       "      <td>7.420000</td>\n",
       "      <td>0.788838</td>\n",
       "      <td>1398.252401</td>\n",
       "      <td>-499.748672</td>\n",
       "      <td>1393.255503</td>\n",
       "      <td>-499.195380</td>\n",
       "      <td>1396.738566</td>\n",
       "      <td>...</td>\n",
       "      <td>12.026296</td>\n",
       "      <td>-499.473127</td>\n",
       "      <td>8.027984</td>\n",
       "      <td>-500.983079</td>\n",
       "      <td>7.907340</td>\n",
       "      <td>-507.964971</td>\n",
       "      <td>5.010224</td>\n",
       "      <td>-500.043697</td>\n",
       "      <td>25.040709</td>\n",
       "      <td>-499.501984</td>\n",
       "    </tr>\n",
       "    <tr>\n",
       "      <th>7</th>\n",
       "      <td>2016-09-01 07:59:59</td>\n",
       "      <td>133.513396</td>\n",
       "      <td>8.055252</td>\n",
       "      <td>6.988000</td>\n",
       "      <td>0.801871</td>\n",
       "      <td>1401.669677</td>\n",
       "      <td>-501.777839</td>\n",
       "      <td>1400.754446</td>\n",
       "      <td>-502.514024</td>\n",
       "      <td>1400.465244</td>\n",
       "      <td>...</td>\n",
       "      <td>12.040911</td>\n",
       "      <td>-501.293852</td>\n",
       "      <td>8.020490</td>\n",
       "      <td>-499.185229</td>\n",
       "      <td>8.116897</td>\n",
       "      <td>-511.927561</td>\n",
       "      <td>5.036498</td>\n",
       "      <td>-500.149615</td>\n",
       "      <td>25.032580</td>\n",
       "      <td>-503.970657</td>\n",
       "    </tr>\n",
       "    <tr>\n",
       "      <th>8</th>\n",
       "      <td>2016-09-01 08:59:59</td>\n",
       "      <td>133.735356</td>\n",
       "      <td>7.999618</td>\n",
       "      <td>6.935000</td>\n",
       "      <td>0.789329</td>\n",
       "      <td>1402.358981</td>\n",
       "      <td>-499.981597</td>\n",
       "      <td>1400.985954</td>\n",
       "      <td>-496.802968</td>\n",
       "      <td>1401.168584</td>\n",
       "      <td>...</td>\n",
       "      <td>11.998184</td>\n",
       "      <td>-499.481608</td>\n",
       "      <td>8.012610</td>\n",
       "      <td>-500.896783</td>\n",
       "      <td>7.974422</td>\n",
       "      <td>-521.199104</td>\n",
       "      <td>5.061599</td>\n",
       "      <td>-499.791519</td>\n",
       "      <td>25.005063</td>\n",
       "      <td>-497.613716</td>\n",
       "    </tr>\n",
       "    <tr>\n",
       "      <th>9</th>\n",
       "      <td>2016-09-01 09:59:59</td>\n",
       "      <td>126.961069</td>\n",
       "      <td>8.017856</td>\n",
       "      <td>7.030000</td>\n",
       "      <td>0.805298</td>\n",
       "      <td>1400.816120</td>\n",
       "      <td>-499.014158</td>\n",
       "      <td>1399.975401</td>\n",
       "      <td>-499.570552</td>\n",
       "      <td>1401.871924</td>\n",
       "      <td>...</td>\n",
       "      <td>12.040725</td>\n",
       "      <td>-499.987743</td>\n",
       "      <td>7.989503</td>\n",
       "      <td>-499.750625</td>\n",
       "      <td>7.989710</td>\n",
       "      <td>-509.946737</td>\n",
       "      <td>5.068811</td>\n",
       "      <td>-499.293900</td>\n",
       "      <td>24.992741</td>\n",
       "      <td>-499.272255</td>\n",
       "    </tr>\n",
       "  </tbody>\n",
       "</table>\n",
       "<p>10 rows × 53 columns</p>\n",
       "</div>"
      ],
      "text/plain": [
       "                  date  primary_cleaner.input.sulfate  \\\n",
       "0  2016-09-01 00:59:59                     210.800909   \n",
       "1  2016-09-01 01:59:59                     215.392455   \n",
       "2  2016-09-01 02:59:59                     215.259946   \n",
       "3  2016-09-01 03:59:59                     215.336236   \n",
       "4  2016-09-01 04:59:59                     199.099327   \n",
       "5  2016-09-01 05:59:59                     168.485085   \n",
       "6  2016-09-01 06:59:59                     144.133440   \n",
       "7  2016-09-01 07:59:59                     133.513396   \n",
       "8  2016-09-01 08:59:59                     133.735356   \n",
       "9  2016-09-01 09:59:59                     126.961069   \n",
       "\n",
       "   primary_cleaner.input.depressant  primary_cleaner.input.feed_size  \\\n",
       "0                         14.993118                         8.080000   \n",
       "1                         14.987471                         8.080000   \n",
       "2                         12.884934                         7.786667   \n",
       "3                         12.006805                         7.640000   \n",
       "4                         10.682530                         7.530000   \n",
       "5                          8.817007                         7.420000   \n",
       "6                          7.924610                         7.420000   \n",
       "7                          8.055252                         6.988000   \n",
       "8                          7.999618                         6.935000   \n",
       "9                          8.017856                         7.030000   \n",
       "\n",
       "   primary_cleaner.input.xanthate  primary_cleaner.state.floatbank8_a_air  \\\n",
       "0                        1.005021                             1398.981301   \n",
       "1                        0.990469                             1398.777912   \n",
       "2                        0.996043                             1398.493666   \n",
       "3                        0.863514                             1399.618111   \n",
       "4                        0.805575                             1401.268123   \n",
       "5                        0.791191                             1402.826803   \n",
       "6                        0.788838                             1398.252401   \n",
       "7                        0.801871                             1401.669677   \n",
       "8                        0.789329                             1402.358981   \n",
       "9                        0.805298                             1400.816120   \n",
       "\n",
       "   primary_cleaner.state.floatbank8_a_level  \\\n",
       "0                               -500.225577   \n",
       "1                               -500.057435   \n",
       "2                               -500.868360   \n",
       "3                               -498.863574   \n",
       "4                               -500.808305   \n",
       "5                               -499.299521   \n",
       "6                               -499.748672   \n",
       "7                               -501.777839   \n",
       "8                               -499.981597   \n",
       "9                               -499.014158   \n",
       "\n",
       "   primary_cleaner.state.floatbank8_b_air  \\\n",
       "0                             1399.144926   \n",
       "1                             1398.055362   \n",
       "2                             1398.860436   \n",
       "3                             1397.440120   \n",
       "4                             1398.128818   \n",
       "5                             1401.511119   \n",
       "6                             1393.255503   \n",
       "7                             1400.754446   \n",
       "8                             1400.985954   \n",
       "9                             1399.975401   \n",
       "\n",
       "   primary_cleaner.state.floatbank8_b_level  \\\n",
       "0                               -499.919735   \n",
       "1                               -499.778182   \n",
       "2                               -499.764529   \n",
       "3                               -499.211024   \n",
       "4                               -499.504543   \n",
       "5                               -499.205357   \n",
       "6                               -499.195380   \n",
       "7                               -502.514024   \n",
       "8                               -496.802968   \n",
       "9                               -499.570552   \n",
       "\n",
       "   primary_cleaner.state.floatbank8_c_air  ...  \\\n",
       "0                             1400.102998  ...   \n",
       "1                             1396.151033  ...   \n",
       "2                             1398.075709  ...   \n",
       "3                             1400.129303  ...   \n",
       "4                             1402.172226  ...   \n",
       "5                             1404.088107  ...   \n",
       "6                             1396.738566  ...   \n",
       "7                             1400.465244  ...   \n",
       "8                             1401.168584  ...   \n",
       "9                             1401.871924  ...   \n",
       "\n",
       "   secondary_cleaner.state.floatbank4_a_air  \\\n",
       "0                                 12.023554   \n",
       "1                                 12.058140   \n",
       "2                                 11.962366   \n",
       "3                                 12.033091   \n",
       "4                                 12.025367   \n",
       "5                                 12.029797   \n",
       "6                                 12.026296   \n",
       "7                                 12.040911   \n",
       "8                                 11.998184   \n",
       "9                                 12.040725   \n",
       "\n",
       "   secondary_cleaner.state.floatbank4_a_level  \\\n",
       "0                                 -497.795834   \n",
       "1                                 -498.695773   \n",
       "2                                 -498.767484   \n",
       "3                                 -498.350935   \n",
       "4                                 -500.786497   \n",
       "5                                 -499.814895   \n",
       "6                                 -499.473127   \n",
       "7                                 -501.293852   \n",
       "8                                 -499.481608   \n",
       "9                                 -499.987743   \n",
       "\n",
       "   secondary_cleaner.state.floatbank4_b_air  \\\n",
       "0                                  8.016656   \n",
       "1                                  8.130979   \n",
       "2                                  8.096893   \n",
       "3                                  8.074946   \n",
       "4                                  8.054678   \n",
       "5                                  8.036586   \n",
       "6                                  8.027984   \n",
       "7                                  8.020490   \n",
       "8                                  8.012610   \n",
       "9                                  7.989503   \n",
       "\n",
       "   secondary_cleaner.state.floatbank4_b_level  \\\n",
       "0                                 -501.289139   \n",
       "1                                 -499.634209   \n",
       "2                                 -500.827423   \n",
       "3                                 -499.474407   \n",
       "4                                 -500.397500   \n",
       "5                                 -500.371492   \n",
       "6                                 -500.983079   \n",
       "7                                 -499.185229   \n",
       "8                                 -500.896783   \n",
       "9                                 -499.750625   \n",
       "\n",
       "   secondary_cleaner.state.floatbank5_a_air  \\\n",
       "0                                  7.946562   \n",
       "1                                  7.958270   \n",
       "2                                  8.071056   \n",
       "3                                  7.897085   \n",
       "4                                  8.107890   \n",
       "5                                  8.041446   \n",
       "6                                  7.907340   \n",
       "7                                  8.116897   \n",
       "8                                  7.974422   \n",
       "9                                  7.989710   \n",
       "\n",
       "   secondary_cleaner.state.floatbank5_a_level  \\\n",
       "0                                 -432.317850   \n",
       "1                                 -525.839648   \n",
       "2                                 -500.801673   \n",
       "3                                 -500.868509   \n",
       "4                                 -509.526725   \n",
       "5                                 -510.037054   \n",
       "6                                 -507.964971   \n",
       "7                                 -511.927561   \n",
       "8                                 -521.199104   \n",
       "9                                 -509.946737   \n",
       "\n",
       "   secondary_cleaner.state.floatbank5_b_air  \\\n",
       "0                                  4.872511   \n",
       "1                                  4.878850   \n",
       "2                                  4.905125   \n",
       "3                                  4.931400   \n",
       "4                                  4.957674   \n",
       "5                                  4.983949   \n",
       "6                                  5.010224   \n",
       "7                                  5.036498   \n",
       "8                                  5.061599   \n",
       "9                                  5.068811   \n",
       "\n",
       "   secondary_cleaner.state.floatbank5_b_level  \\\n",
       "0                                 -500.037437   \n",
       "1                                 -500.162375   \n",
       "2                                 -499.828510   \n",
       "3                                 -499.963623   \n",
       "4                                 -500.360026   \n",
       "5                                 -499.990990   \n",
       "6                                 -500.043697   \n",
       "7                                 -500.149615   \n",
       "8                                 -499.791519   \n",
       "9                                 -499.293900   \n",
       "\n",
       "   secondary_cleaner.state.floatbank6_a_air  \\\n",
       "0                                 26.705889   \n",
       "1                                 25.019940   \n",
       "2                                 24.994862   \n",
       "3                                 24.948919   \n",
       "4                                 25.003331   \n",
       "5                                 24.978973   \n",
       "6                                 25.040709   \n",
       "7                                 25.032580   \n",
       "8                                 25.005063   \n",
       "9                                 24.992741   \n",
       "\n",
       "   secondary_cleaner.state.floatbank6_a_level  \n",
       "0                                 -499.709414  \n",
       "1                                 -499.819438  \n",
       "2                                 -500.622559  \n",
       "3                                 -498.709987  \n",
       "4                                 -500.856333  \n",
       "5                                 -500.475640  \n",
       "6                                 -499.501984  \n",
       "7                                 -503.970657  \n",
       "8                                 -497.613716  \n",
       "9                                 -499.272255  \n",
       "\n",
       "[10 rows x 53 columns]"
      ]
     },
     "metadata": {},
     "output_type": "display_data"
    },
    {
     "data": {
      "text/html": [
       "<div>\n",
       "<style scoped>\n",
       "    .dataframe tbody tr th:only-of-type {\n",
       "        vertical-align: middle;\n",
       "    }\n",
       "\n",
       "    .dataframe tbody tr th {\n",
       "        vertical-align: top;\n",
       "    }\n",
       "\n",
       "    .dataframe thead th {\n",
       "        text-align: right;\n",
       "    }\n",
       "</style>\n",
       "<table border=\"1\" class=\"dataframe\">\n",
       "  <thead>\n",
       "    <tr style=\"text-align: right;\">\n",
       "      <th></th>\n",
       "      <th>date</th>\n",
       "      <th>final.output.concentrate_ag</th>\n",
       "      <th>final.output.concentrate_pb</th>\n",
       "      <th>final.output.concentrate_sol</th>\n",
       "      <th>final.output.concentrate_au</th>\n",
       "      <th>final.output.recovery</th>\n",
       "      <th>final.output.tail_ag</th>\n",
       "      <th>final.output.tail_pb</th>\n",
       "      <th>final.output.tail_sol</th>\n",
       "      <th>final.output.tail_au</th>\n",
       "      <th>...</th>\n",
       "      <th>secondary_cleaner.state.floatbank4_a_air</th>\n",
       "      <th>secondary_cleaner.state.floatbank4_a_level</th>\n",
       "      <th>secondary_cleaner.state.floatbank4_b_air</th>\n",
       "      <th>secondary_cleaner.state.floatbank4_b_level</th>\n",
       "      <th>secondary_cleaner.state.floatbank5_a_air</th>\n",
       "      <th>secondary_cleaner.state.floatbank5_a_level</th>\n",
       "      <th>secondary_cleaner.state.floatbank5_b_air</th>\n",
       "      <th>secondary_cleaner.state.floatbank5_b_level</th>\n",
       "      <th>secondary_cleaner.state.floatbank6_a_air</th>\n",
       "      <th>secondary_cleaner.state.floatbank6_a_level</th>\n",
       "    </tr>\n",
       "  </thead>\n",
       "  <tbody>\n",
       "    <tr>\n",
       "      <th>0</th>\n",
       "      <td>2016-01-15 00:00:00</td>\n",
       "      <td>6.055403</td>\n",
       "      <td>9.889648</td>\n",
       "      <td>5.507324</td>\n",
       "      <td>42.192020</td>\n",
       "      <td>70.541216</td>\n",
       "      <td>10.411962</td>\n",
       "      <td>0.895447</td>\n",
       "      <td>16.904297</td>\n",
       "      <td>2.143149</td>\n",
       "      <td>...</td>\n",
       "      <td>14.016835</td>\n",
       "      <td>-502.488007</td>\n",
       "      <td>12.099931</td>\n",
       "      <td>-504.715942</td>\n",
       "      <td>9.925633</td>\n",
       "      <td>-498.310211</td>\n",
       "      <td>8.079666</td>\n",
       "      <td>-500.470978</td>\n",
       "      <td>14.151341</td>\n",
       "      <td>-605.841980</td>\n",
       "    </tr>\n",
       "    <tr>\n",
       "      <th>1</th>\n",
       "      <td>2016-01-15 01:00:00</td>\n",
       "      <td>6.029369</td>\n",
       "      <td>9.968944</td>\n",
       "      <td>5.257781</td>\n",
       "      <td>42.701629</td>\n",
       "      <td>69.266198</td>\n",
       "      <td>10.462676</td>\n",
       "      <td>0.927452</td>\n",
       "      <td>16.634514</td>\n",
       "      <td>2.224930</td>\n",
       "      <td>...</td>\n",
       "      <td>13.992281</td>\n",
       "      <td>-505.503262</td>\n",
       "      <td>11.950531</td>\n",
       "      <td>-501.331529</td>\n",
       "      <td>10.039245</td>\n",
       "      <td>-500.169983</td>\n",
       "      <td>7.984757</td>\n",
       "      <td>-500.582168</td>\n",
       "      <td>13.998353</td>\n",
       "      <td>-599.787184</td>\n",
       "    </tr>\n",
       "    <tr>\n",
       "      <th>2</th>\n",
       "      <td>2016-01-15 02:00:00</td>\n",
       "      <td>6.055926</td>\n",
       "      <td>10.213995</td>\n",
       "      <td>5.383759</td>\n",
       "      <td>42.657501</td>\n",
       "      <td>68.116445</td>\n",
       "      <td>10.507046</td>\n",
       "      <td>0.953716</td>\n",
       "      <td>16.208849</td>\n",
       "      <td>2.257889</td>\n",
       "      <td>...</td>\n",
       "      <td>14.015015</td>\n",
       "      <td>-502.520901</td>\n",
       "      <td>11.912783</td>\n",
       "      <td>-501.133383</td>\n",
       "      <td>10.070913</td>\n",
       "      <td>-500.129135</td>\n",
       "      <td>8.013877</td>\n",
       "      <td>-500.517572</td>\n",
       "      <td>14.028663</td>\n",
       "      <td>-601.427363</td>\n",
       "    </tr>\n",
       "    <tr>\n",
       "      <th>3</th>\n",
       "      <td>2016-01-15 03:00:00</td>\n",
       "      <td>6.047977</td>\n",
       "      <td>9.977019</td>\n",
       "      <td>4.858634</td>\n",
       "      <td>42.689819</td>\n",
       "      <td>68.347543</td>\n",
       "      <td>10.422762</td>\n",
       "      <td>0.883763</td>\n",
       "      <td>16.532835</td>\n",
       "      <td>2.146849</td>\n",
       "      <td>...</td>\n",
       "      <td>14.036510</td>\n",
       "      <td>-500.857308</td>\n",
       "      <td>11.999550</td>\n",
       "      <td>-501.193686</td>\n",
       "      <td>9.970366</td>\n",
       "      <td>-499.201640</td>\n",
       "      <td>7.977324</td>\n",
       "      <td>-500.255908</td>\n",
       "      <td>14.005551</td>\n",
       "      <td>-599.996129</td>\n",
       "    </tr>\n",
       "    <tr>\n",
       "      <th>4</th>\n",
       "      <td>2016-01-15 04:00:00</td>\n",
       "      <td>6.148599</td>\n",
       "      <td>10.142511</td>\n",
       "      <td>4.939416</td>\n",
       "      <td>42.774141</td>\n",
       "      <td>66.927016</td>\n",
       "      <td>10.360302</td>\n",
       "      <td>0.792826</td>\n",
       "      <td>16.525686</td>\n",
       "      <td>2.055292</td>\n",
       "      <td>...</td>\n",
       "      <td>14.027298</td>\n",
       "      <td>-499.838632</td>\n",
       "      <td>11.953070</td>\n",
       "      <td>-501.053894</td>\n",
       "      <td>9.925709</td>\n",
       "      <td>-501.686727</td>\n",
       "      <td>7.894242</td>\n",
       "      <td>-500.356035</td>\n",
       "      <td>13.996647</td>\n",
       "      <td>-601.496691</td>\n",
       "    </tr>\n",
       "    <tr>\n",
       "      <th>5</th>\n",
       "      <td>2016-01-15 05:00:00</td>\n",
       "      <td>6.482968</td>\n",
       "      <td>10.049416</td>\n",
       "      <td>5.480257</td>\n",
       "      <td>41.633678</td>\n",
       "      <td>69.465816</td>\n",
       "      <td>10.182708</td>\n",
       "      <td>0.664118</td>\n",
       "      <td>16.999638</td>\n",
       "      <td>1.918586</td>\n",
       "      <td>...</td>\n",
       "      <td>13.938497</td>\n",
       "      <td>-500.970168</td>\n",
       "      <td>11.883350</td>\n",
       "      <td>-500.395298</td>\n",
       "      <td>10.054147</td>\n",
       "      <td>-496.374715</td>\n",
       "      <td>7.965083</td>\n",
       "      <td>-499.364752</td>\n",
       "      <td>14.017067</td>\n",
       "      <td>-599.707915</td>\n",
       "    </tr>\n",
       "    <tr>\n",
       "      <th>6</th>\n",
       "      <td>2016-01-15 06:00:00</td>\n",
       "      <td>6.533849</td>\n",
       "      <td>10.058141</td>\n",
       "      <td>4.569100</td>\n",
       "      <td>41.995316</td>\n",
       "      <td>69.300835</td>\n",
       "      <td>10.304598</td>\n",
       "      <td>0.807342</td>\n",
       "      <td>16.723575</td>\n",
       "      <td>2.058913</td>\n",
       "      <td>...</td>\n",
       "      <td>14.046819</td>\n",
       "      <td>-500.971133</td>\n",
       "      <td>12.091543</td>\n",
       "      <td>-500.501426</td>\n",
       "      <td>10.003247</td>\n",
       "      <td>-497.083180</td>\n",
       "      <td>8.010890</td>\n",
       "      <td>-500.002423</td>\n",
       "      <td>14.029649</td>\n",
       "      <td>-600.905470</td>\n",
       "    </tr>\n",
       "    <tr>\n",
       "      <th>7</th>\n",
       "      <td>2016-01-15 07:00:00</td>\n",
       "      <td>6.130823</td>\n",
       "      <td>9.935481</td>\n",
       "      <td>4.389813</td>\n",
       "      <td>42.452727</td>\n",
       "      <td>70.230976</td>\n",
       "      <td>10.443288</td>\n",
       "      <td>0.949346</td>\n",
       "      <td>16.689959</td>\n",
       "      <td>2.143437</td>\n",
       "      <td>...</td>\n",
       "      <td>13.974691</td>\n",
       "      <td>-501.819696</td>\n",
       "      <td>12.101324</td>\n",
       "      <td>-500.583446</td>\n",
       "      <td>9.873169</td>\n",
       "      <td>-499.171928</td>\n",
       "      <td>7.993381</td>\n",
       "      <td>-499.794518</td>\n",
       "      <td>13.984498</td>\n",
       "      <td>-600.411070</td>\n",
       "    </tr>\n",
       "    <tr>\n",
       "      <th>8</th>\n",
       "      <td>2016-01-15 08:00:00</td>\n",
       "      <td>5.834140</td>\n",
       "      <td>10.071156</td>\n",
       "      <td>4.876389</td>\n",
       "      <td>43.404078</td>\n",
       "      <td>69.688595</td>\n",
       "      <td>10.420140</td>\n",
       "      <td>1.065453</td>\n",
       "      <td>17.201948</td>\n",
       "      <td>2.209881</td>\n",
       "      <td>...</td>\n",
       "      <td>13.964030</td>\n",
       "      <td>-504.252450</td>\n",
       "      <td>12.060738</td>\n",
       "      <td>-501.174549</td>\n",
       "      <td>10.033838</td>\n",
       "      <td>-501.178133</td>\n",
       "      <td>7.881604</td>\n",
       "      <td>-499.729434</td>\n",
       "      <td>13.967135</td>\n",
       "      <td>-599.061188</td>\n",
       "    </tr>\n",
       "    <tr>\n",
       "      <th>9</th>\n",
       "      <td>2016-01-15 09:00:00</td>\n",
       "      <td>5.687063</td>\n",
       "      <td>9.980404</td>\n",
       "      <td>5.282514</td>\n",
       "      <td>43.235220</td>\n",
       "      <td>70.279619</td>\n",
       "      <td>10.487013</td>\n",
       "      <td>1.159805</td>\n",
       "      <td>17.483979</td>\n",
       "      <td>2.209593</td>\n",
       "      <td>...</td>\n",
       "      <td>13.989632</td>\n",
       "      <td>-503.195299</td>\n",
       "      <td>12.052233</td>\n",
       "      <td>-500.928547</td>\n",
       "      <td>9.962574</td>\n",
       "      <td>-502.986357</td>\n",
       "      <td>7.979219</td>\n",
       "      <td>-500.146835</td>\n",
       "      <td>13.981614</td>\n",
       "      <td>-598.070855</td>\n",
       "    </tr>\n",
       "  </tbody>\n",
       "</table>\n",
       "<p>10 rows × 87 columns</p>\n",
       "</div>"
      ],
      "text/plain": [
       "                  date  final.output.concentrate_ag  \\\n",
       "0  2016-01-15 00:00:00                     6.055403   \n",
       "1  2016-01-15 01:00:00                     6.029369   \n",
       "2  2016-01-15 02:00:00                     6.055926   \n",
       "3  2016-01-15 03:00:00                     6.047977   \n",
       "4  2016-01-15 04:00:00                     6.148599   \n",
       "5  2016-01-15 05:00:00                     6.482968   \n",
       "6  2016-01-15 06:00:00                     6.533849   \n",
       "7  2016-01-15 07:00:00                     6.130823   \n",
       "8  2016-01-15 08:00:00                     5.834140   \n",
       "9  2016-01-15 09:00:00                     5.687063   \n",
       "\n",
       "   final.output.concentrate_pb  final.output.concentrate_sol  \\\n",
       "0                     9.889648                      5.507324   \n",
       "1                     9.968944                      5.257781   \n",
       "2                    10.213995                      5.383759   \n",
       "3                     9.977019                      4.858634   \n",
       "4                    10.142511                      4.939416   \n",
       "5                    10.049416                      5.480257   \n",
       "6                    10.058141                      4.569100   \n",
       "7                     9.935481                      4.389813   \n",
       "8                    10.071156                      4.876389   \n",
       "9                     9.980404                      5.282514   \n",
       "\n",
       "   final.output.concentrate_au  final.output.recovery  final.output.tail_ag  \\\n",
       "0                    42.192020              70.541216             10.411962   \n",
       "1                    42.701629              69.266198             10.462676   \n",
       "2                    42.657501              68.116445             10.507046   \n",
       "3                    42.689819              68.347543             10.422762   \n",
       "4                    42.774141              66.927016             10.360302   \n",
       "5                    41.633678              69.465816             10.182708   \n",
       "6                    41.995316              69.300835             10.304598   \n",
       "7                    42.452727              70.230976             10.443288   \n",
       "8                    43.404078              69.688595             10.420140   \n",
       "9                    43.235220              70.279619             10.487013   \n",
       "\n",
       "   final.output.tail_pb  final.output.tail_sol  final.output.tail_au  ...  \\\n",
       "0              0.895447              16.904297              2.143149  ...   \n",
       "1              0.927452              16.634514              2.224930  ...   \n",
       "2              0.953716              16.208849              2.257889  ...   \n",
       "3              0.883763              16.532835              2.146849  ...   \n",
       "4              0.792826              16.525686              2.055292  ...   \n",
       "5              0.664118              16.999638              1.918586  ...   \n",
       "6              0.807342              16.723575              2.058913  ...   \n",
       "7              0.949346              16.689959              2.143437  ...   \n",
       "8              1.065453              17.201948              2.209881  ...   \n",
       "9              1.159805              17.483979              2.209593  ...   \n",
       "\n",
       "   secondary_cleaner.state.floatbank4_a_air  \\\n",
       "0                                 14.016835   \n",
       "1                                 13.992281   \n",
       "2                                 14.015015   \n",
       "3                                 14.036510   \n",
       "4                                 14.027298   \n",
       "5                                 13.938497   \n",
       "6                                 14.046819   \n",
       "7                                 13.974691   \n",
       "8                                 13.964030   \n",
       "9                                 13.989632   \n",
       "\n",
       "   secondary_cleaner.state.floatbank4_a_level  \\\n",
       "0                                 -502.488007   \n",
       "1                                 -505.503262   \n",
       "2                                 -502.520901   \n",
       "3                                 -500.857308   \n",
       "4                                 -499.838632   \n",
       "5                                 -500.970168   \n",
       "6                                 -500.971133   \n",
       "7                                 -501.819696   \n",
       "8                                 -504.252450   \n",
       "9                                 -503.195299   \n",
       "\n",
       "   secondary_cleaner.state.floatbank4_b_air  \\\n",
       "0                                 12.099931   \n",
       "1                                 11.950531   \n",
       "2                                 11.912783   \n",
       "3                                 11.999550   \n",
       "4                                 11.953070   \n",
       "5                                 11.883350   \n",
       "6                                 12.091543   \n",
       "7                                 12.101324   \n",
       "8                                 12.060738   \n",
       "9                                 12.052233   \n",
       "\n",
       "   secondary_cleaner.state.floatbank4_b_level  \\\n",
       "0                                 -504.715942   \n",
       "1                                 -501.331529   \n",
       "2                                 -501.133383   \n",
       "3                                 -501.193686   \n",
       "4                                 -501.053894   \n",
       "5                                 -500.395298   \n",
       "6                                 -500.501426   \n",
       "7                                 -500.583446   \n",
       "8                                 -501.174549   \n",
       "9                                 -500.928547   \n",
       "\n",
       "   secondary_cleaner.state.floatbank5_a_air  \\\n",
       "0                                  9.925633   \n",
       "1                                 10.039245   \n",
       "2                                 10.070913   \n",
       "3                                  9.970366   \n",
       "4                                  9.925709   \n",
       "5                                 10.054147   \n",
       "6                                 10.003247   \n",
       "7                                  9.873169   \n",
       "8                                 10.033838   \n",
       "9                                  9.962574   \n",
       "\n",
       "   secondary_cleaner.state.floatbank5_a_level  \\\n",
       "0                                 -498.310211   \n",
       "1                                 -500.169983   \n",
       "2                                 -500.129135   \n",
       "3                                 -499.201640   \n",
       "4                                 -501.686727   \n",
       "5                                 -496.374715   \n",
       "6                                 -497.083180   \n",
       "7                                 -499.171928   \n",
       "8                                 -501.178133   \n",
       "9                                 -502.986357   \n",
       "\n",
       "   secondary_cleaner.state.floatbank5_b_air  \\\n",
       "0                                  8.079666   \n",
       "1                                  7.984757   \n",
       "2                                  8.013877   \n",
       "3                                  7.977324   \n",
       "4                                  7.894242   \n",
       "5                                  7.965083   \n",
       "6                                  8.010890   \n",
       "7                                  7.993381   \n",
       "8                                  7.881604   \n",
       "9                                  7.979219   \n",
       "\n",
       "   secondary_cleaner.state.floatbank5_b_level  \\\n",
       "0                                 -500.470978   \n",
       "1                                 -500.582168   \n",
       "2                                 -500.517572   \n",
       "3                                 -500.255908   \n",
       "4                                 -500.356035   \n",
       "5                                 -499.364752   \n",
       "6                                 -500.002423   \n",
       "7                                 -499.794518   \n",
       "8                                 -499.729434   \n",
       "9                                 -500.146835   \n",
       "\n",
       "   secondary_cleaner.state.floatbank6_a_air  \\\n",
       "0                                 14.151341   \n",
       "1                                 13.998353   \n",
       "2                                 14.028663   \n",
       "3                                 14.005551   \n",
       "4                                 13.996647   \n",
       "5                                 14.017067   \n",
       "6                                 14.029649   \n",
       "7                                 13.984498   \n",
       "8                                 13.967135   \n",
       "9                                 13.981614   \n",
       "\n",
       "   secondary_cleaner.state.floatbank6_a_level  \n",
       "0                                 -605.841980  \n",
       "1                                 -599.787184  \n",
       "2                                 -601.427363  \n",
       "3                                 -599.996129  \n",
       "4                                 -601.496691  \n",
       "5                                 -599.707915  \n",
       "6                                 -600.905470  \n",
       "7                                 -600.411070  \n",
       "8                                 -599.061188  \n",
       "9                                 -598.070855  \n",
       "\n",
       "[10 rows x 87 columns]"
      ]
     },
     "metadata": {},
     "output_type": "display_data"
    }
   ],
   "source": [
    "display(df_train.head(10))\n",
    "display(df_test.head(10))\n",
    "display(df_full.head(10))"
   ]
  },
  {
   "cell_type": "markdown",
   "metadata": {},
   "source": [
    "Данные загружены и изучены. Дубликатов нет. Пропуски есть, но мы не знаем их природу. Изучив пропуски, можно сделать вывод что бОльшая их часть связана с остатками соли. "
   ]
  },
  {
   "cell_type": "markdown",
   "metadata": {},
   "source": [
    "Заменим пропуски усредненным значением по соседним данным, используя метод \"ffill\"."
   ]
  },
  {
   "cell_type": "code",
   "execution_count": 9,
   "metadata": {},
   "outputs": [],
   "source": [
    "df_full = df_full.fillna(method='ffill')\n",
    "df_train = df_train.fillna(method='ffill')\n",
    "df_test = df_test.fillna(method='ffill')"
   ]
  },
  {
   "cell_type": "code",
   "execution_count": 10,
   "metadata": {},
   "outputs": [
    {
     "name": "stdout",
     "output_type": "stream",
     "text": [
      "<class 'pandas.core.frame.DataFrame'>\n",
      "RangeIndex: 5290 entries, 0 to 5289\n",
      "Data columns (total 53 columns):\n",
      " #   Column                                      Non-Null Count  Dtype  \n",
      "---  ------                                      --------------  -----  \n",
      " 0   date                                        5290 non-null   object \n",
      " 1   primary_cleaner.input.sulfate               5290 non-null   float64\n",
      " 2   primary_cleaner.input.depressant            5290 non-null   float64\n",
      " 3   primary_cleaner.input.feed_size             5290 non-null   float64\n",
      " 4   primary_cleaner.input.xanthate              5290 non-null   float64\n",
      " 5   primary_cleaner.state.floatbank8_a_air      5290 non-null   float64\n",
      " 6   primary_cleaner.state.floatbank8_a_level    5290 non-null   float64\n",
      " 7   primary_cleaner.state.floatbank8_b_air      5290 non-null   float64\n",
      " 8   primary_cleaner.state.floatbank8_b_level    5290 non-null   float64\n",
      " 9   primary_cleaner.state.floatbank8_c_air      5290 non-null   float64\n",
      " 10  primary_cleaner.state.floatbank8_c_level    5290 non-null   float64\n",
      " 11  primary_cleaner.state.floatbank8_d_air      5290 non-null   float64\n",
      " 12  primary_cleaner.state.floatbank8_d_level    5290 non-null   float64\n",
      " 13  rougher.input.feed_ag                       5290 non-null   float64\n",
      " 14  rougher.input.feed_pb                       5290 non-null   float64\n",
      " 15  rougher.input.feed_rate                     5290 non-null   float64\n",
      " 16  rougher.input.feed_size                     5290 non-null   float64\n",
      " 17  rougher.input.feed_sol                      5290 non-null   float64\n",
      " 18  rougher.input.feed_au                       5290 non-null   float64\n",
      " 19  rougher.input.floatbank10_sulfate           5290 non-null   float64\n",
      " 20  rougher.input.floatbank10_xanthate          5290 non-null   float64\n",
      " 21  rougher.input.floatbank11_sulfate           5290 non-null   float64\n",
      " 22  rougher.input.floatbank11_xanthate          5290 non-null   float64\n",
      " 23  rougher.state.floatbank10_a_air             5290 non-null   float64\n",
      " 24  rougher.state.floatbank10_a_level           5290 non-null   float64\n",
      " 25  rougher.state.floatbank10_b_air             5290 non-null   float64\n",
      " 26  rougher.state.floatbank10_b_level           5290 non-null   float64\n",
      " 27  rougher.state.floatbank10_c_air             5290 non-null   float64\n",
      " 28  rougher.state.floatbank10_c_level           5290 non-null   float64\n",
      " 29  rougher.state.floatbank10_d_air             5290 non-null   float64\n",
      " 30  rougher.state.floatbank10_d_level           5290 non-null   float64\n",
      " 31  rougher.state.floatbank10_e_air             5290 non-null   float64\n",
      " 32  rougher.state.floatbank10_e_level           5290 non-null   float64\n",
      " 33  rougher.state.floatbank10_f_air             5290 non-null   float64\n",
      " 34  rougher.state.floatbank10_f_level           5290 non-null   float64\n",
      " 35  secondary_cleaner.state.floatbank2_a_air    5290 non-null   float64\n",
      " 36  secondary_cleaner.state.floatbank2_a_level  5290 non-null   float64\n",
      " 37  secondary_cleaner.state.floatbank2_b_air    5290 non-null   float64\n",
      " 38  secondary_cleaner.state.floatbank2_b_level  5290 non-null   float64\n",
      " 39  secondary_cleaner.state.floatbank3_a_air    5290 non-null   float64\n",
      " 40  secondary_cleaner.state.floatbank3_a_level  5290 non-null   float64\n",
      " 41  secondary_cleaner.state.floatbank3_b_air    5290 non-null   float64\n",
      " 42  secondary_cleaner.state.floatbank3_b_level  5290 non-null   float64\n",
      " 43  secondary_cleaner.state.floatbank4_a_air    5290 non-null   float64\n",
      " 44  secondary_cleaner.state.floatbank4_a_level  5290 non-null   float64\n",
      " 45  secondary_cleaner.state.floatbank4_b_air    5290 non-null   float64\n",
      " 46  secondary_cleaner.state.floatbank4_b_level  5290 non-null   float64\n",
      " 47  secondary_cleaner.state.floatbank5_a_air    5290 non-null   float64\n",
      " 48  secondary_cleaner.state.floatbank5_a_level  5290 non-null   float64\n",
      " 49  secondary_cleaner.state.floatbank5_b_air    5290 non-null   float64\n",
      " 50  secondary_cleaner.state.floatbank5_b_level  5290 non-null   float64\n",
      " 51  secondary_cleaner.state.floatbank6_a_air    5290 non-null   float64\n",
      " 52  secondary_cleaner.state.floatbank6_a_level  5290 non-null   float64\n",
      "dtypes: float64(52), object(1)\n",
      "memory usage: 2.1+ MB\n"
     ]
    }
   ],
   "source": [
    "df_test.info()"
   ]
  },
  {
   "cell_type": "code",
   "execution_count": 11,
   "metadata": {},
   "outputs": [
    {
     "name": "stdout",
     "output_type": "stream",
     "text": [
      "<class 'pandas.core.frame.DataFrame'>\n",
      "RangeIndex: 14149 entries, 0 to 14148\n",
      "Data columns (total 87 columns):\n",
      " #   Column                                              Non-Null Count  Dtype  \n",
      "---  ------                                              --------------  -----  \n",
      " 0   date                                                14149 non-null  object \n",
      " 1   final.output.concentrate_ag                         14149 non-null  float64\n",
      " 2   final.output.concentrate_pb                         14149 non-null  float64\n",
      " 3   final.output.concentrate_sol                        14149 non-null  float64\n",
      " 4   final.output.concentrate_au                         14149 non-null  float64\n",
      " 5   final.output.recovery                               14149 non-null  float64\n",
      " 6   final.output.tail_ag                                14149 non-null  float64\n",
      " 7   final.output.tail_pb                                14149 non-null  float64\n",
      " 8   final.output.tail_sol                               14149 non-null  float64\n",
      " 9   final.output.tail_au                                14149 non-null  float64\n",
      " 10  primary_cleaner.input.sulfate                       14149 non-null  float64\n",
      " 11  primary_cleaner.input.depressant                    14149 non-null  float64\n",
      " 12  primary_cleaner.input.feed_size                     14149 non-null  float64\n",
      " 13  primary_cleaner.input.xanthate                      14149 non-null  float64\n",
      " 14  primary_cleaner.output.concentrate_ag               14149 non-null  float64\n",
      " 15  primary_cleaner.output.concentrate_pb               14149 non-null  float64\n",
      " 16  primary_cleaner.output.concentrate_sol              14149 non-null  float64\n",
      " 17  primary_cleaner.output.concentrate_au               14149 non-null  float64\n",
      " 18  primary_cleaner.output.tail_ag                      14149 non-null  float64\n",
      " 19  primary_cleaner.output.tail_pb                      14149 non-null  float64\n",
      " 20  primary_cleaner.output.tail_sol                     14149 non-null  float64\n",
      " 21  primary_cleaner.output.tail_au                      14149 non-null  float64\n",
      " 22  primary_cleaner.state.floatbank8_a_air              14149 non-null  float64\n",
      " 23  primary_cleaner.state.floatbank8_a_level            14149 non-null  float64\n",
      " 24  primary_cleaner.state.floatbank8_b_air              14149 non-null  float64\n",
      " 25  primary_cleaner.state.floatbank8_b_level            14149 non-null  float64\n",
      " 26  primary_cleaner.state.floatbank8_c_air              14149 non-null  float64\n",
      " 27  primary_cleaner.state.floatbank8_c_level            14149 non-null  float64\n",
      " 28  primary_cleaner.state.floatbank8_d_air              14149 non-null  float64\n",
      " 29  primary_cleaner.state.floatbank8_d_level            14149 non-null  float64\n",
      " 30  rougher.calculation.sulfate_to_au_concentrate       14149 non-null  float64\n",
      " 31  rougher.calculation.floatbank10_sulfate_to_au_feed  14149 non-null  float64\n",
      " 32  rougher.calculation.floatbank11_sulfate_to_au_feed  14149 non-null  float64\n",
      " 33  rougher.calculation.au_pb_ratio                     14149 non-null  float64\n",
      " 34  rougher.input.feed_ag                               14149 non-null  float64\n",
      " 35  rougher.input.feed_pb                               14149 non-null  float64\n",
      " 36  rougher.input.feed_rate                             14149 non-null  float64\n",
      " 37  rougher.input.feed_size                             14149 non-null  float64\n",
      " 38  rougher.input.feed_sol                              14149 non-null  float64\n",
      " 39  rougher.input.feed_au                               14149 non-null  float64\n",
      " 40  rougher.input.floatbank10_sulfate                   14149 non-null  float64\n",
      " 41  rougher.input.floatbank10_xanthate                  14149 non-null  float64\n",
      " 42  rougher.input.floatbank11_sulfate                   14149 non-null  float64\n",
      " 43  rougher.input.floatbank11_xanthate                  14149 non-null  float64\n",
      " 44  rougher.output.concentrate_ag                       14149 non-null  float64\n",
      " 45  rougher.output.concentrate_pb                       14149 non-null  float64\n",
      " 46  rougher.output.concentrate_sol                      14149 non-null  float64\n",
      " 47  rougher.output.concentrate_au                       14149 non-null  float64\n",
      " 48  rougher.output.recovery                             14149 non-null  float64\n",
      " 49  rougher.output.tail_ag                              14149 non-null  float64\n",
      " 50  rougher.output.tail_pb                              14149 non-null  float64\n",
      " 51  rougher.output.tail_sol                             14149 non-null  float64\n",
      " 52  rougher.output.tail_au                              14149 non-null  float64\n",
      " 53  rougher.state.floatbank10_a_air                     14149 non-null  float64\n",
      " 54  rougher.state.floatbank10_a_level                   14149 non-null  float64\n",
      " 55  rougher.state.floatbank10_b_air                     14149 non-null  float64\n",
      " 56  rougher.state.floatbank10_b_level                   14149 non-null  float64\n",
      " 57  rougher.state.floatbank10_c_air                     14149 non-null  float64\n",
      " 58  rougher.state.floatbank10_c_level                   14149 non-null  float64\n",
      " 59  rougher.state.floatbank10_d_air                     14149 non-null  float64\n",
      " 60  rougher.state.floatbank10_d_level                   14149 non-null  float64\n",
      " 61  rougher.state.floatbank10_e_air                     14149 non-null  float64\n",
      " 62  rougher.state.floatbank10_e_level                   14149 non-null  float64\n",
      " 63  rougher.state.floatbank10_f_air                     14149 non-null  float64\n",
      " 64  rougher.state.floatbank10_f_level                   14149 non-null  float64\n",
      " 65  secondary_cleaner.output.tail_ag                    14149 non-null  float64\n",
      " 66  secondary_cleaner.output.tail_pb                    14149 non-null  float64\n",
      " 67  secondary_cleaner.output.tail_sol                   14149 non-null  float64\n",
      " 68  secondary_cleaner.output.tail_au                    14149 non-null  float64\n",
      " 69  secondary_cleaner.state.floatbank2_a_air            14149 non-null  float64\n",
      " 70  secondary_cleaner.state.floatbank2_a_level          14149 non-null  float64\n",
      " 71  secondary_cleaner.state.floatbank2_b_air            14149 non-null  float64\n",
      " 72  secondary_cleaner.state.floatbank2_b_level          14149 non-null  float64\n",
      " 73  secondary_cleaner.state.floatbank3_a_air            14149 non-null  float64\n",
      " 74  secondary_cleaner.state.floatbank3_a_level          14149 non-null  float64\n",
      " 75  secondary_cleaner.state.floatbank3_b_air            14149 non-null  float64\n",
      " 76  secondary_cleaner.state.floatbank3_b_level          14149 non-null  float64\n",
      " 77  secondary_cleaner.state.floatbank4_a_air            14149 non-null  float64\n",
      " 78  secondary_cleaner.state.floatbank4_a_level          14149 non-null  float64\n",
      " 79  secondary_cleaner.state.floatbank4_b_air            14149 non-null  float64\n",
      " 80  secondary_cleaner.state.floatbank4_b_level          14149 non-null  float64\n",
      " 81  secondary_cleaner.state.floatbank5_a_air            14149 non-null  float64\n",
      " 82  secondary_cleaner.state.floatbank5_a_level          14149 non-null  float64\n",
      " 83  secondary_cleaner.state.floatbank5_b_air            14149 non-null  float64\n",
      " 84  secondary_cleaner.state.floatbank5_b_level          14149 non-null  float64\n",
      " 85  secondary_cleaner.state.floatbank6_a_air            14149 non-null  float64\n",
      " 86  secondary_cleaner.state.floatbank6_a_level          14149 non-null  float64\n",
      "dtypes: float64(86), object(1)\n",
      "memory usage: 9.4+ MB\n"
     ]
    }
   ],
   "source": [
    "df_train.info()"
   ]
  },
  {
   "cell_type": "code",
   "execution_count": 12,
   "metadata": {},
   "outputs": [
    {
     "name": "stdout",
     "output_type": "stream",
     "text": [
      "<class 'pandas.core.frame.DataFrame'>\n",
      "RangeIndex: 19439 entries, 0 to 19438\n",
      "Data columns (total 87 columns):\n",
      " #   Column                                              Non-Null Count  Dtype  \n",
      "---  ------                                              --------------  -----  \n",
      " 0   date                                                19439 non-null  object \n",
      " 1   final.output.concentrate_ag                         19439 non-null  float64\n",
      " 2   final.output.concentrate_pb                         19439 non-null  float64\n",
      " 3   final.output.concentrate_sol                        19439 non-null  float64\n",
      " 4   final.output.concentrate_au                         19439 non-null  float64\n",
      " 5   final.output.recovery                               19439 non-null  float64\n",
      " 6   final.output.tail_ag                                19439 non-null  float64\n",
      " 7   final.output.tail_pb                                19439 non-null  float64\n",
      " 8   final.output.tail_sol                               19439 non-null  float64\n",
      " 9   final.output.tail_au                                19439 non-null  float64\n",
      " 10  primary_cleaner.input.sulfate                       19439 non-null  float64\n",
      " 11  primary_cleaner.input.depressant                    19439 non-null  float64\n",
      " 12  primary_cleaner.input.feed_size                     19439 non-null  float64\n",
      " 13  primary_cleaner.input.xanthate                      19439 non-null  float64\n",
      " 14  primary_cleaner.output.concentrate_ag               19439 non-null  float64\n",
      " 15  primary_cleaner.output.concentrate_pb               19439 non-null  float64\n",
      " 16  primary_cleaner.output.concentrate_sol              19439 non-null  float64\n",
      " 17  primary_cleaner.output.concentrate_au               19439 non-null  float64\n",
      " 18  primary_cleaner.output.tail_ag                      19439 non-null  float64\n",
      " 19  primary_cleaner.output.tail_pb                      19439 non-null  float64\n",
      " 20  primary_cleaner.output.tail_sol                     19439 non-null  float64\n",
      " 21  primary_cleaner.output.tail_au                      19439 non-null  float64\n",
      " 22  primary_cleaner.state.floatbank8_a_air              19439 non-null  float64\n",
      " 23  primary_cleaner.state.floatbank8_a_level            19439 non-null  float64\n",
      " 24  primary_cleaner.state.floatbank8_b_air              19439 non-null  float64\n",
      " 25  primary_cleaner.state.floatbank8_b_level            19439 non-null  float64\n",
      " 26  primary_cleaner.state.floatbank8_c_air              19439 non-null  float64\n",
      " 27  primary_cleaner.state.floatbank8_c_level            19439 non-null  float64\n",
      " 28  primary_cleaner.state.floatbank8_d_air              19439 non-null  float64\n",
      " 29  primary_cleaner.state.floatbank8_d_level            19439 non-null  float64\n",
      " 30  rougher.calculation.sulfate_to_au_concentrate       19439 non-null  float64\n",
      " 31  rougher.calculation.floatbank10_sulfate_to_au_feed  19439 non-null  float64\n",
      " 32  rougher.calculation.floatbank11_sulfate_to_au_feed  19439 non-null  float64\n",
      " 33  rougher.calculation.au_pb_ratio                     19439 non-null  float64\n",
      " 34  rougher.input.feed_ag                               19439 non-null  float64\n",
      " 35  rougher.input.feed_pb                               19439 non-null  float64\n",
      " 36  rougher.input.feed_rate                             19439 non-null  float64\n",
      " 37  rougher.input.feed_size                             19439 non-null  float64\n",
      " 38  rougher.input.feed_sol                              19439 non-null  float64\n",
      " 39  rougher.input.feed_au                               19439 non-null  float64\n",
      " 40  rougher.input.floatbank10_sulfate                   19439 non-null  float64\n",
      " 41  rougher.input.floatbank10_xanthate                  19439 non-null  float64\n",
      " 42  rougher.input.floatbank11_sulfate                   19439 non-null  float64\n",
      " 43  rougher.input.floatbank11_xanthate                  19439 non-null  float64\n",
      " 44  rougher.output.concentrate_ag                       19439 non-null  float64\n",
      " 45  rougher.output.concentrate_pb                       19439 non-null  float64\n",
      " 46  rougher.output.concentrate_sol                      19439 non-null  float64\n",
      " 47  rougher.output.concentrate_au                       19439 non-null  float64\n",
      " 48  rougher.output.recovery                             19439 non-null  float64\n",
      " 49  rougher.output.tail_ag                              19439 non-null  float64\n",
      " 50  rougher.output.tail_pb                              19439 non-null  float64\n",
      " 51  rougher.output.tail_sol                             19439 non-null  float64\n",
      " 52  rougher.output.tail_au                              19439 non-null  float64\n",
      " 53  rougher.state.floatbank10_a_air                     19439 non-null  float64\n",
      " 54  rougher.state.floatbank10_a_level                   19439 non-null  float64\n",
      " 55  rougher.state.floatbank10_b_air                     19439 non-null  float64\n",
      " 56  rougher.state.floatbank10_b_level                   19439 non-null  float64\n",
      " 57  rougher.state.floatbank10_c_air                     19439 non-null  float64\n",
      " 58  rougher.state.floatbank10_c_level                   19439 non-null  float64\n",
      " 59  rougher.state.floatbank10_d_air                     19439 non-null  float64\n",
      " 60  rougher.state.floatbank10_d_level                   19439 non-null  float64\n",
      " 61  rougher.state.floatbank10_e_air                     19439 non-null  float64\n",
      " 62  rougher.state.floatbank10_e_level                   19439 non-null  float64\n",
      " 63  rougher.state.floatbank10_f_air                     19439 non-null  float64\n",
      " 64  rougher.state.floatbank10_f_level                   19439 non-null  float64\n",
      " 65  secondary_cleaner.output.tail_ag                    19439 non-null  float64\n",
      " 66  secondary_cleaner.output.tail_pb                    19439 non-null  float64\n",
      " 67  secondary_cleaner.output.tail_sol                   19439 non-null  float64\n",
      " 68  secondary_cleaner.output.tail_au                    19439 non-null  float64\n",
      " 69  secondary_cleaner.state.floatbank2_a_air            19439 non-null  float64\n",
      " 70  secondary_cleaner.state.floatbank2_a_level          19439 non-null  float64\n",
      " 71  secondary_cleaner.state.floatbank2_b_air            19439 non-null  float64\n",
      " 72  secondary_cleaner.state.floatbank2_b_level          19439 non-null  float64\n",
      " 73  secondary_cleaner.state.floatbank3_a_air            19439 non-null  float64\n",
      " 74  secondary_cleaner.state.floatbank3_a_level          19439 non-null  float64\n",
      " 75  secondary_cleaner.state.floatbank3_b_air            19439 non-null  float64\n",
      " 76  secondary_cleaner.state.floatbank3_b_level          19439 non-null  float64\n",
      " 77  secondary_cleaner.state.floatbank4_a_air            19439 non-null  float64\n",
      " 78  secondary_cleaner.state.floatbank4_a_level          19439 non-null  float64\n",
      " 79  secondary_cleaner.state.floatbank4_b_air            19439 non-null  float64\n",
      " 80  secondary_cleaner.state.floatbank4_b_level          19439 non-null  float64\n",
      " 81  secondary_cleaner.state.floatbank5_a_air            19439 non-null  float64\n",
      " 82  secondary_cleaner.state.floatbank5_a_level          19439 non-null  float64\n",
      " 83  secondary_cleaner.state.floatbank5_b_air            19439 non-null  float64\n",
      " 84  secondary_cleaner.state.floatbank5_b_level          19439 non-null  float64\n",
      " 85  secondary_cleaner.state.floatbank6_a_air            19439 non-null  float64\n",
      " 86  secondary_cleaner.state.floatbank6_a_level          19439 non-null  float64\n",
      "dtypes: float64(86), object(1)\n",
      "memory usage: 12.9+ MB\n"
     ]
    }
   ],
   "source": [
    "df_full.info()"
   ]
  },
  {
   "cell_type": "markdown",
   "metadata": {},
   "source": [
    "Пропуски заполнены, можно двигаться дальше."
   ]
  },
  {
   "cell_type": "markdown",
   "metadata": {},
   "source": [
    "### Подготовка данных"
   ]
  },
  {
   "cell_type": "markdown",
   "metadata": {},
   "source": [
    "Проверка расчета эффективности обогащения.\n",
    "\n",
    "Мы имеем формулу расчета эффективности обогащения:\n",
    "\n",
    "recovery = (C*(F-T)) / (F*(C-T)) * 100%\n",
    "\n",
    "Где:\n",
    "- C — доля золота в концентрате после флотации/очистки; rougher.output.concentrate_au\n",
    "- F — доля золота в сырье/концентрате до флотации/очистки; rougher.input.feed_au\n",
    "- T — доля золота в отвальных хвостах после флотации/очистки. rougher.output.tail_au \n",
    "\n",
    "Создадим функцию, которая будет высчитывать эффективность обогащения:"
   ]
  },
  {
   "cell_type": "code",
   "execution_count": 13,
   "metadata": {},
   "outputs": [],
   "source": [
    "def recovery_eff(C, F, T):\n",
    "    recovery = 100*((C*(F-T))/(F*(C-T)))\n",
    "    return recovery"
   ]
  },
  {
   "cell_type": "markdown",
   "metadata": {},
   "source": [
    "Эффективность обогащения нужно вычислить на обучающей выборке для признака rougher.output.recovery. После чего необходимо найтие МАЕ между расчетами и значениями признака. \n",
    "Для использования и проверки функции создадим новый набор данных с нужными признаками для тестирования. "
   ]
  },
  {
   "cell_type": "code",
   "execution_count": 14,
   "metadata": {},
   "outputs": [
    {
     "data": {
      "text/html": [
       "<div>\n",
       "<style scoped>\n",
       "    .dataframe tbody tr th:only-of-type {\n",
       "        vertical-align: middle;\n",
       "    }\n",
       "\n",
       "    .dataframe tbody tr th {\n",
       "        vertical-align: top;\n",
       "    }\n",
       "\n",
       "    .dataframe thead th {\n",
       "        text-align: right;\n",
       "    }\n",
       "</style>\n",
       "<table border=\"1\" class=\"dataframe\">\n",
       "  <thead>\n",
       "    <tr style=\"text-align: right;\">\n",
       "      <th></th>\n",
       "      <th>rougher.output.concentrate_au</th>\n",
       "      <th>rougher.input.feed_au</th>\n",
       "      <th>rougher.output.tail_au</th>\n",
       "      <th>rougher.output.recovery</th>\n",
       "    </tr>\n",
       "  </thead>\n",
       "  <tbody>\n",
       "    <tr>\n",
       "      <th>0</th>\n",
       "      <td>19.793808</td>\n",
       "      <td>6.486150</td>\n",
       "      <td>1.170244</td>\n",
       "      <td>87.107763</td>\n",
       "    </tr>\n",
       "    <tr>\n",
       "      <th>1</th>\n",
       "      <td>20.050975</td>\n",
       "      <td>6.478583</td>\n",
       "      <td>1.184827</td>\n",
       "      <td>86.843261</td>\n",
       "    </tr>\n",
       "    <tr>\n",
       "      <th>2</th>\n",
       "      <td>19.737170</td>\n",
       "      <td>6.362222</td>\n",
       "      <td>1.162562</td>\n",
       "      <td>86.842308</td>\n",
       "    </tr>\n",
       "    <tr>\n",
       "      <th>3</th>\n",
       "      <td>19.320810</td>\n",
       "      <td>6.118189</td>\n",
       "      <td>1.079755</td>\n",
       "      <td>87.226430</td>\n",
       "    </tr>\n",
       "    <tr>\n",
       "      <th>4</th>\n",
       "      <td>19.216101</td>\n",
       "      <td>5.663707</td>\n",
       "      <td>1.012642</td>\n",
       "      <td>86.688794</td>\n",
       "    </tr>\n",
       "  </tbody>\n",
       "</table>\n",
       "</div>"
      ],
      "text/plain": [
       "   rougher.output.concentrate_au  rougher.input.feed_au  \\\n",
       "0                      19.793808               6.486150   \n",
       "1                      20.050975               6.478583   \n",
       "2                      19.737170               6.362222   \n",
       "3                      19.320810               6.118189   \n",
       "4                      19.216101               5.663707   \n",
       "\n",
       "   rougher.output.tail_au  rougher.output.recovery  \n",
       "0                1.170244                87.107763  \n",
       "1                1.184827                86.843261  \n",
       "2                1.162562                86.842308  \n",
       "3                1.079755                87.226430  \n",
       "4                1.012642                86.688794  "
      ]
     },
     "execution_count": 14,
     "metadata": {},
     "output_type": "execute_result"
    }
   ],
   "source": [
    "df_train_def = df_train[['rougher.output.concentrate_au',  'rougher.input.feed_au', 'rougher.output.tail_au', 'rougher.output.recovery']].dropna(axis = 0)\n",
    "df_train_def.head()"
   ]
  },
  {
   "cell_type": "code",
   "execution_count": 15,
   "metadata": {},
   "outputs": [
    {
     "data": {
      "text/html": [
       "<div>\n",
       "<style scoped>\n",
       "    .dataframe tbody tr th:only-of-type {\n",
       "        vertical-align: middle;\n",
       "    }\n",
       "\n",
       "    .dataframe tbody tr th {\n",
       "        vertical-align: top;\n",
       "    }\n",
       "\n",
       "    .dataframe thead th {\n",
       "        text-align: right;\n",
       "    }\n",
       "</style>\n",
       "<table border=\"1\" class=\"dataframe\">\n",
       "  <thead>\n",
       "    <tr style=\"text-align: right;\">\n",
       "      <th></th>\n",
       "      <th>rougher.output.concentrate_au</th>\n",
       "      <th>rougher.input.feed_au</th>\n",
       "      <th>rougher.output.tail_au</th>\n",
       "      <th>rougher.output.recovery</th>\n",
       "      <th>recovery</th>\n",
       "    </tr>\n",
       "  </thead>\n",
       "  <tbody>\n",
       "    <tr>\n",
       "      <th>0</th>\n",
       "      <td>19.793808</td>\n",
       "      <td>6.486150</td>\n",
       "      <td>1.170244</td>\n",
       "      <td>87.107763</td>\n",
       "      <td>87.107763</td>\n",
       "    </tr>\n",
       "    <tr>\n",
       "      <th>1</th>\n",
       "      <td>20.050975</td>\n",
       "      <td>6.478583</td>\n",
       "      <td>1.184827</td>\n",
       "      <td>86.843261</td>\n",
       "      <td>86.843261</td>\n",
       "    </tr>\n",
       "    <tr>\n",
       "      <th>2</th>\n",
       "      <td>19.737170</td>\n",
       "      <td>6.362222</td>\n",
       "      <td>1.162562</td>\n",
       "      <td>86.842308</td>\n",
       "      <td>86.842308</td>\n",
       "    </tr>\n",
       "    <tr>\n",
       "      <th>3</th>\n",
       "      <td>19.320810</td>\n",
       "      <td>6.118189</td>\n",
       "      <td>1.079755</td>\n",
       "      <td>87.226430</td>\n",
       "      <td>87.226430</td>\n",
       "    </tr>\n",
       "    <tr>\n",
       "      <th>4</th>\n",
       "      <td>19.216101</td>\n",
       "      <td>5.663707</td>\n",
       "      <td>1.012642</td>\n",
       "      <td>86.688794</td>\n",
       "      <td>86.688794</td>\n",
       "    </tr>\n",
       "  </tbody>\n",
       "</table>\n",
       "</div>"
      ],
      "text/plain": [
       "   rougher.output.concentrate_au  rougher.input.feed_au  \\\n",
       "0                      19.793808               6.486150   \n",
       "1                      20.050975               6.478583   \n",
       "2                      19.737170               6.362222   \n",
       "3                      19.320810               6.118189   \n",
       "4                      19.216101               5.663707   \n",
       "\n",
       "   rougher.output.tail_au  rougher.output.recovery   recovery  \n",
       "0                1.170244                87.107763  87.107763  \n",
       "1                1.184827                86.843261  86.843261  \n",
       "2                1.162562                86.842308  86.842308  \n",
       "3                1.079755                87.226430  87.226430  \n",
       "4                1.012642                86.688794  86.688794  "
      ]
     },
     "execution_count": 15,
     "metadata": {},
     "output_type": "execute_result"
    }
   ],
   "source": [
    "df_train_def['recovery'] = recovery_eff(C = df_train_def['rougher.output.concentrate_au'],\n",
    "                                        F = df_train_def['rougher.input.feed_au'],\n",
    "                                        T = df_train_def['rougher.output.tail_au'])\n",
    "df_train_def.head()"
   ]
  },
  {
   "cell_type": "markdown",
   "metadata": {},
   "source": [
    "Визуально видим соответствие значений последних двух столбцов. Проверим это расчетами. Найдем корреляцию и МАЕ."
   ]
  },
  {
   "cell_type": "code",
   "execution_count": 16,
   "metadata": {},
   "outputs": [
    {
     "data": {
      "text/html": [
       "<div>\n",
       "<style scoped>\n",
       "    .dataframe tbody tr th:only-of-type {\n",
       "        vertical-align: middle;\n",
       "    }\n",
       "\n",
       "    .dataframe tbody tr th {\n",
       "        vertical-align: top;\n",
       "    }\n",
       "\n",
       "    .dataframe thead th {\n",
       "        text-align: right;\n",
       "    }\n",
       "</style>\n",
       "<table border=\"1\" class=\"dataframe\">\n",
       "  <thead>\n",
       "    <tr style=\"text-align: right;\">\n",
       "      <th></th>\n",
       "      <th>rougher.output.concentrate_au</th>\n",
       "      <th>rougher.input.feed_au</th>\n",
       "      <th>rougher.output.tail_au</th>\n",
       "      <th>rougher.output.recovery</th>\n",
       "      <th>recovery</th>\n",
       "    </tr>\n",
       "  </thead>\n",
       "  <tbody>\n",
       "    <tr>\n",
       "      <th>rougher.output.concentrate_au</th>\n",
       "      <td>1.000000</td>\n",
       "      <td>0.216925</td>\n",
       "      <td>0.255713</td>\n",
       "      <td>0.556946</td>\n",
       "      <td>0.556946</td>\n",
       "    </tr>\n",
       "    <tr>\n",
       "      <th>rougher.input.feed_au</th>\n",
       "      <td>0.216925</td>\n",
       "      <td>1.000000</td>\n",
       "      <td>0.361630</td>\n",
       "      <td>0.156173</td>\n",
       "      <td>0.156173</td>\n",
       "    </tr>\n",
       "    <tr>\n",
       "      <th>rougher.output.tail_au</th>\n",
       "      <td>0.255713</td>\n",
       "      <td>0.361630</td>\n",
       "      <td>1.000000</td>\n",
       "      <td>-0.384512</td>\n",
       "      <td>-0.384512</td>\n",
       "    </tr>\n",
       "    <tr>\n",
       "      <th>rougher.output.recovery</th>\n",
       "      <td>0.556946</td>\n",
       "      <td>0.156173</td>\n",
       "      <td>-0.384512</td>\n",
       "      <td>1.000000</td>\n",
       "      <td>1.000000</td>\n",
       "    </tr>\n",
       "    <tr>\n",
       "      <th>recovery</th>\n",
       "      <td>0.556946</td>\n",
       "      <td>0.156173</td>\n",
       "      <td>-0.384512</td>\n",
       "      <td>1.000000</td>\n",
       "      <td>1.000000</td>\n",
       "    </tr>\n",
       "  </tbody>\n",
       "</table>\n",
       "</div>"
      ],
      "text/plain": [
       "                               rougher.output.concentrate_au  \\\n",
       "rougher.output.concentrate_au                       1.000000   \n",
       "rougher.input.feed_au                               0.216925   \n",
       "rougher.output.tail_au                              0.255713   \n",
       "rougher.output.recovery                             0.556946   \n",
       "recovery                                            0.556946   \n",
       "\n",
       "                               rougher.input.feed_au  rougher.output.tail_au  \\\n",
       "rougher.output.concentrate_au               0.216925                0.255713   \n",
       "rougher.input.feed_au                       1.000000                0.361630   \n",
       "rougher.output.tail_au                      0.361630                1.000000   \n",
       "rougher.output.recovery                     0.156173               -0.384512   \n",
       "recovery                                    0.156173               -0.384512   \n",
       "\n",
       "                               rougher.output.recovery  recovery  \n",
       "rougher.output.concentrate_au                 0.556946  0.556946  \n",
       "rougher.input.feed_au                         0.156173  0.156173  \n",
       "rougher.output.tail_au                       -0.384512 -0.384512  \n",
       "rougher.output.recovery                       1.000000  1.000000  \n",
       "recovery                                      1.000000  1.000000  "
      ]
     },
     "execution_count": 16,
     "metadata": {},
     "output_type": "execute_result"
    }
   ],
   "source": [
    "df_train_def.corr()"
   ]
  },
  {
   "cell_type": "code",
   "execution_count": 17,
   "metadata": {},
   "outputs": [
    {
     "data": {
      "text/plain": [
       "9.73512347450521e-15"
      ]
     },
     "execution_count": 17,
     "metadata": {},
     "output_type": "execute_result"
    }
   ],
   "source": [
    "mean_absolute_error(df_train_def['rougher.output.recovery'], df_train_def['recovery'])"
   ]
  },
  {
   "cell_type": "markdown",
   "metadata": {},
   "source": [
    "Показатели корреляции равны 1, что значит полное соответствие. МАЕ ~ 9.8е-15, что практически равно нулю, значит расчеты проведены верно. "
   ]
  },
  {
   "cell_type": "markdown",
   "metadata": {},
   "source": [
    "### Разница выборок  "
   ]
  },
  {
   "cell_type": "markdown",
   "metadata": {},
   "source": [
    "Найдем признаки, которые не представлены в тестовой выборке. Используем способ преобразования множеств set()."
   ]
  },
  {
   "cell_type": "code",
   "execution_count": 18,
   "metadata": {},
   "outputs": [
    {
     "data": {
      "text/plain": [
       "['rougher.output.tail_ag',\n",
       " 'final.output.tail_pb',\n",
       " 'rougher.output.concentrate_ag',\n",
       " 'rougher.output.tail_sol',\n",
       " 'rougher.output.concentrate_sol',\n",
       " 'rougher.calculation.au_pb_ratio',\n",
       " 'primary_cleaner.output.concentrate_pb',\n",
       " 'rougher.output.concentrate_au',\n",
       " 'final.output.tail_sol',\n",
       " 'primary_cleaner.output.tail_au',\n",
       " 'secondary_cleaner.output.tail_sol',\n",
       " 'primary_cleaner.output.tail_ag',\n",
       " 'primary_cleaner.output.tail_pb',\n",
       " 'final.output.concentrate_au',\n",
       " 'rougher.output.concentrate_pb',\n",
       " 'rougher.output.recovery',\n",
       " 'final.output.concentrate_pb',\n",
       " 'rougher.output.tail_pb',\n",
       " 'primary_cleaner.output.tail_sol',\n",
       " 'final.output.tail_ag',\n",
       " 'rougher.calculation.floatbank10_sulfate_to_au_feed',\n",
       " 'secondary_cleaner.output.tail_au',\n",
       " 'final.output.concentrate_sol',\n",
       " 'secondary_cleaner.output.tail_pb',\n",
       " 'final.output.tail_au',\n",
       " 'primary_cleaner.output.concentrate_sol',\n",
       " 'rougher.output.tail_au',\n",
       " 'rougher.calculation.sulfate_to_au_concentrate',\n",
       " 'rougher.calculation.floatbank11_sulfate_to_au_feed',\n",
       " 'final.output.recovery',\n",
       " 'final.output.concentrate_ag',\n",
       " 'primary_cleaner.output.concentrate_ag',\n",
       " 'secondary_cleaner.output.tail_ag',\n",
       " 'primary_cleaner.output.concentrate_au']"
      ]
     },
     "execution_count": 18,
     "metadata": {},
     "output_type": "execute_result"
    }
   ],
   "source": [
    "df_test_out = list(set(df_train.columns.values.tolist())-set(df_test.columns.values.tolist()))\n",
    "df_test_out"
   ]
  },
  {
   "cell_type": "markdown",
   "metadata": {},
   "source": [
    "В тестовой выборке отсутствуют значения итоговых и промежуточных замеров и рассчётов.\n",
    "Остаются показатели оборудования в процессе обработки и характеристики сырья на входе"
   ]
  },
  {
   "cell_type": "markdown",
   "metadata": {},
   "source": [
    "Удалим из тренировочной выборки лишние признаки. Эти шаги я выполнить позже, перед обучением модели, так как удаление из тренировочной выборки данных о концентратах, которых нет в тестовой выборке - помешают вычислять выбросы в суммарных концентратах. "
   ]
  },
  {
   "cell_type": "code",
   "execution_count": 19,
   "metadata": {},
   "outputs": [],
   "source": [
    "# missing_cols = df_train.columns.drop(df_test.columns)\n",
    "# cols_to_drop = missing_cols.drop(['final.output.recovery', 'rougher.output.recovery'])\n",
    "# right_cols = df_train.columns.drop(cols_to_drop)\n",
    "# df_train = df_train[right_cols]\n",
    "# df_train.info()"
   ]
  },
  {
   "cell_type": "markdown",
   "metadata": {},
   "source": [
    "Добавим в тестовую выборку таргеты, чтобы модели работали корректно. Это столбцы  'rougher.output.recovery' и 'final.output.recovery'."
   ]
  },
  {
   "cell_type": "code",
   "execution_count": 20,
   "metadata": {},
   "outputs": [],
   "source": [
    "# target_features_to_join = df_full[['date', 'final.output.recovery', 'rougher.output.recovery']].copy()\n",
    "# df_test = df_test.join(target_features_to_join.set_index('date'), on='date')"
   ]
  },
  {
   "cell_type": "code",
   "execution_count": 21,
   "metadata": {},
   "outputs": [],
   "source": [
    "#df_test.head()"
   ]
  },
  {
   "cell_type": "code",
   "execution_count": 22,
   "metadata": {},
   "outputs": [],
   "source": [
    "#df_test.isna().sum()"
   ]
  },
  {
   "cell_type": "markdown",
   "metadata": {},
   "source": [
    "В них были пропуски. Удалим их. "
   ]
  },
  {
   "cell_type": "code",
   "execution_count": 23,
   "metadata": {},
   "outputs": [],
   "source": [
    "# df_test = df_test.dropna()\n",
    "# df_test.info()"
   ]
  },
  {
   "cell_type": "markdown",
   "metadata": {},
   "source": [
    "## Анализ данных"
   ]
  },
  {
   "cell_type": "markdown",
   "metadata": {},
   "source": [
    "### Анализ концентрации металлов"
   ]
  },
  {
   "cell_type": "markdown",
   "metadata": {},
   "source": [
    "Нужно выяснить концентрацию металлов на разных этапах работы с рудой. Для этого создадим новый датафрейм с нужными нам параметрами и построим соответствующие графики."
   ]
  },
  {
   "cell_type": "code",
   "execution_count": 24,
   "metadata": {},
   "outputs": [],
   "source": [
    "concentrate = {'Серебро':['rougher.output.concentrate_ag', 'primary_cleaner.output.concentrate_ag', 'final.output.concentrate_ag' ],\n",
    "               'Золото':['rougher.output.concentrate_au', 'primary_cleaner.output.concentrate_au', 'final.output.concentrate_au' ],\n",
    "               'Свинец':['rougher.output.concentrate_pb', 'primary_cleaner.output.concentrate_pb', 'final.output.concentrate_pb' ]}"
   ]
  },
  {
   "cell_type": "code",
   "execution_count": 25,
   "metadata": {},
   "outputs": [
    {
     "data": {
      "image/png": "[encoded data removed]",
      "text/plain": [
       "<Figure size 720x432 with 1 Axes>"
      ]
     },
     "metadata": {},
     "output_type": "display_data"
    },
    {
     "data": {
      "image/png": "[encoded data removed]",
      "text/plain": [
       "<Figure size 720x432 with 1 Axes>"
      ]
     },
     "metadata": {},
     "output_type": "display_data"
    },
    {
     "data": {
      "image/png": "[encoded data removed]",
      "text/plain": [
       "<Figure size 720x432 with 1 Axes>"
      ]
     },
     "metadata": {},
     "output_type": "display_data"
    }
   ],
   "source": [
    "for key in concentrate:\n",
    "    plt.figure(figsize=(10,6))\n",
    "    sns.boxplot(data = df_full[concentrate[key]])\n",
    "    plt.title(f'Распределение значений доли металла {key} в концентрате на разных этапах')\n",
    "    \n",
    "    plt.show()"
   ]
  },
  {
   "cell_type": "markdown",
   "metadata": {},
   "source": [
    "Судя по графикам можно сделать вывод что доля серебра на каждом этапе равномерно сокращается, а доля золота возрастает. Доля свинца на ко второму этапу незначительно выросла, на последнем этапе практически не изменилась. "
   ]
  },
  {
   "cell_type": "markdown",
   "metadata": {},
   "source": [
    "### Сравнение распределения размеров гранул сырья"
   ]
  },
  {
   "cell_type": "markdown",
   "metadata": {},
   "source": [
    "Для сравнения распределений построим график. "
   ]
  },
  {
   "cell_type": "code",
   "execution_count": 26,
   "metadata": {},
   "outputs": [
    {
     "data": {
      "text/plain": [
       "<AxesSubplot:ylabel='Density'>"
      ]
     },
     "execution_count": 26,
     "metadata": {},
     "output_type": "execute_result"
    },
    {
     "data": {
      "image/png": "[encoded data removed]",
      "text/plain": [
       "<Figure size 432x288 with 1 Axes>"
      ]
     },
     "metadata": {},
     "output_type": "display_data"
    }
   ],
   "source": [
    "# можно посмотреть плотность через гистограммы.\n",
    "# df_train['rougher.input.feed_size'].plot(kind='hist', bins=100, xlim=(20, 100), alpha=0.7)\n",
    "# df_test['rougher.input.feed_size'].plot(kind='hist', bins=100, xlim=(20, 100), alpha=0.7)\n",
    "\n",
    "# Но мы используем ядерную оценку плотности\n",
    "df_train['rougher.input.feed_size'].plot.kde()\n",
    "df_test['rougher.input.feed_size'].plot.kde()\n"
   ]
  },
  {
   "cell_type": "markdown",
   "metadata": {},
   "source": [
    "Из графика видно, что значения показателей отличаются, но распределения весьма схожи. Значит, оценка модели будет верной."
   ]
  },
  {
   "cell_type": "markdown",
   "metadata": {},
   "source": [
    "### Суммарная концентрация всех веществ"
   ]
  },
  {
   "cell_type": "markdown",
   "metadata": {},
   "source": [
    "В тренировочном датасете создадим новый столбец с суммой всех концентратов, и по новым столбцам создадим гистограмму. "
   ]
  },
  {
   "cell_type": "code",
   "execution_count": 27,
   "metadata": {},
   "outputs": [],
   "source": [
    "# столбец с данными перед обработкой\n",
    "df_train['rougher.output.concentrate'] = df_train['rougher.output.concentrate_ag'] + \\\n",
    "    df_train['rougher.output.concentrate_pb'] + df_train['rougher.output.concentrate_sol'] + \\\n",
    "    df_train['rougher.output.concentrate_au']\n",
    "\n",
    "# столбец с данными после флотации\n",
    "df_train['primary_cleaner.output.concentrate'] = df_train['primary_cleaner.output.concentrate_ag'] + \\\n",
    "    df_train['primary_cleaner.output.concentrate_pb'] + df_train['primary_cleaner.output.concentrate_sol'] + \\\n",
    "    df_train['primary_cleaner.output.concentrate_au']\n",
    "\n",
    "# солбец с данными в финальном концентрате\n",
    "df_train['final.output.concentrate'] = df_train['final.output.concentrate_ag'] + \\\n",
    "    df_train['final.output.concentrate_pb'] + df_train['final.output.concentrate_sol'] + \\\n",
    "    df_train['final.output.concentrate_au']"
   ]
  },
  {
   "cell_type": "code",
   "execution_count": 28,
   "metadata": {},
   "outputs": [
    {
     "data": {
      "text/plain": [
       "<AxesSubplot:ylabel='Frequency'>"
      ]
     },
     "execution_count": 28,
     "metadata": {},
     "output_type": "execute_result"
    },
    {
     "data": {
      "image/png": "[encoded data removed]",
      "text/plain": [
       "<Figure size 432x288 with 1 Axes>"
      ]
     },
     "metadata": {},
     "output_type": "display_data"
    }
   ],
   "source": [
    "# строим гистограмму распределения\n",
    "df_train['rougher.output.concentrate'].plot(kind='hist', bins=100, alpha=0.7)\n",
    "df_train['primary_cleaner.output.concentrate'].plot(kind='hist', bins=100, alpha=0.7)\n",
    "df_train['final.output.concentrate'].plot(kind='hist', bins=100, alpha=0.7)"
   ]
  },
  {
   "cell_type": "markdown",
   "metadata": {},
   "source": [
    "Распределение нормальное, но есть аномальные значения, близкие к нулю. Нужно на них взглянуть поближе. "
   ]
  },
  {
   "cell_type": "code",
   "execution_count": 29,
   "metadata": {},
   "outputs": [
    {
     "name": "stdout",
     "output_type": "stream",
     "text": [
      "302\n",
      "194\n",
      "59\n"
     ]
    }
   ],
   "source": [
    "print(len(df_train[df_train['rougher.output.concentrate'] < 1]))\n",
    "print(len(df_train[df_train['primary_cleaner.output.concentrate'] < 1]))\n",
    "print(len(df_train[df_train['final.output.concentrate'] < 1]))"
   ]
  },
  {
   "cell_type": "code",
   "execution_count": 30,
   "metadata": {},
   "outputs": [
    {
     "data": {
      "text/plain": [
       "10249    0.000000\n",
       "7839     0.000000\n",
       "7802     0.000000\n",
       "7803     0.000000\n",
       "7804     0.000000\n",
       "           ...   \n",
       "10936    0.040000\n",
       "10940    0.040000\n",
       "1929     2.016647\n",
       "3872     5.577864\n",
       "11009    6.829975\n",
       "Name: rougher.output.concentrate, Length: 305, dtype: float64"
      ]
     },
     "execution_count": 30,
     "metadata": {},
     "output_type": "execute_result"
    }
   ],
   "source": [
    "df_train['rougher.output.concentrate'].sort_values().head(305)"
   ]
  },
  {
   "cell_type": "markdown",
   "metadata": {},
   "source": [
    "Значений меньше еденицы очень много, затем видим резкое возрастание значений. Скорее всего данные, близкие к нулю были получены из за ошибок в работе аппаратуры. Эти данные нужно удалить, так как они могут нести недостоверную информацию. "
   ]
  },
  {
   "cell_type": "code",
   "execution_count": 31,
   "metadata": {},
   "outputs": [],
   "source": [
    "# перезапишем датасет с логической сортировкой:\n",
    "df_train = df_train[df_train['rougher.output.concentrate'] > 1]\n",
    "df_train = df_train[df_train['primary_cleaner.output.concentrate'] > 1]\n",
    "df_train = df_train[df_train['final.output.concentrate'] > 1]"
   ]
  },
  {
   "cell_type": "code",
   "execution_count": 32,
   "metadata": {},
   "outputs": [
    {
     "data": {
      "text/plain": [
       "<AxesSubplot:ylabel='Frequency'>"
      ]
     },
     "execution_count": 32,
     "metadata": {},
     "output_type": "execute_result"
    },
    {
     "data": {
      "image/png": "[encoded data removed]",
      "text/plain": [
       "<Figure size 432x288 with 1 Axes>"
      ]
     },
     "metadata": {},
     "output_type": "display_data"
    }
   ],
   "source": [
    "# проверим результат и построим гистограмму распределения\n",
    "df_train['rougher.output.concentrate'].plot(kind='hist', bins=100, alpha=0.7)\n",
    "df_train['primary_cleaner.output.concentrate'].plot(kind='hist', bins=100, alpha=0.7)\n",
    "df_train['final.output.concentrate'].plot(kind='hist', bins=100, alpha=0.7)"
   ]
  },
  {
   "cell_type": "markdown",
   "metadata": {},
   "source": [
    "От выбросов избавились.  Повторим операцию с финальным датасетом: просуммируем концентраты, и перезапишем датасет применив логическую сортировку."
   ]
  },
  {
   "cell_type": "code",
   "execution_count": 33,
   "metadata": {},
   "outputs": [],
   "source": [
    "# столбец с данными перед обработкой\n",
    "df_full['rougher.output.concentrate'] = df_full['rougher.output.concentrate_ag'] + \\\n",
    "    df_full['rougher.output.concentrate_pb'] + df_full['rougher.output.concentrate_sol'] + \\\n",
    "    df_full['rougher.output.concentrate_au']\n",
    "\n",
    "# столбец с данными после флотации\n",
    "df_full['primary_cleaner.output.concentrate'] = df_full['primary_cleaner.output.concentrate_ag'] + \\\n",
    "    df_full['primary_cleaner.output.concentrate_pb'] + df_full['primary_cleaner.output.concentrate_sol'] + \\\n",
    "    df_train['primary_cleaner.output.concentrate_au']\n",
    "\n",
    "# солбец с данными в финальном концентрате\n",
    "df_full['final.output.concentrate'] = df_full['final.output.concentrate_ag'] + \\\n",
    "    df_full['final.output.concentrate_pb'] + df_full['final.output.concentrate_sol'] + \\\n",
    "    df_full['final.output.concentrate_au']"
   ]
  },
  {
   "cell_type": "code",
   "execution_count": 34,
   "metadata": {},
   "outputs": [
    {
     "data": {
      "text/plain": [
       "<AxesSubplot:ylabel='Frequency'>"
      ]
     },
     "execution_count": 34,
     "metadata": {},
     "output_type": "execute_result"
    },
    {
     "data": {
      "image/png": "[encoded data removed]",
      "text/plain": [
       "<Figure size 432x288 with 1 Axes>"
      ]
     },
     "metadata": {},
     "output_type": "display_data"
    }
   ],
   "source": [
    "# строим гистограмму распределения\n",
    "df_full['rougher.output.concentrate'].plot(kind='hist', bins=100, alpha=0.7)\n",
    "df_full['primary_cleaner.output.concentrate'].plot(kind='hist', bins=100, alpha=0.7)\n",
    "df_full['final.output.concentrate'].plot(kind='hist', bins=100, alpha=0.7)"
   ]
  },
  {
   "cell_type": "markdown",
   "metadata": {},
   "source": [
    "Тоже имеем околонулевые выбросы. Их явно меньше. Посчитаем их."
   ]
  },
  {
   "cell_type": "code",
   "execution_count": 35,
   "metadata": {},
   "outputs": [
    {
     "name": "stdout",
     "output_type": "stream",
     "text": [
      "399\n",
      "0\n",
      "99\n"
     ]
    }
   ],
   "source": [
    "print(len(df_full[df_full['rougher.output.concentrate'] < 1]))\n",
    "print(len(df_full[df_full['primary_cleaner.output.concentrate'] < 1]))\n",
    "print(len(df_full[df_full['final.output.concentrate'] < 1]))"
   ]
  },
  {
   "cell_type": "markdown",
   "metadata": {},
   "source": [
    "Выбросы есть только в сырье и в финальном концентрате:"
   ]
  },
  {
   "cell_type": "code",
   "execution_count": 36,
   "metadata": {},
   "outputs": [
    {
     "data": {
      "text/plain": [
       "14515    0.000000\n",
       "10403    0.000000\n",
       "10402    0.000000\n",
       "13473    0.000000\n",
       "13479    0.000000\n",
       "           ...   \n",
       "16228    0.040000\n",
       "16227    0.040000\n",
       "1929     2.016647\n",
       "3872     5.577864\n",
       "16299    6.829975\n",
       "Name: rougher.output.concentrate, Length: 402, dtype: float64"
      ]
     },
     "execution_count": 36,
     "metadata": {},
     "output_type": "execute_result"
    }
   ],
   "source": [
    "df_full['rougher.output.concentrate'].sort_values().head(402)"
   ]
  },
  {
   "cell_type": "markdown",
   "metadata": {},
   "source": [
    "Схожая картина. Есть нули и есть значения 0.04, после чего данные растут. Удалим их."
   ]
  },
  {
   "cell_type": "code",
   "execution_count": 37,
   "metadata": {},
   "outputs": [],
   "source": [
    "# перезапишем датасет с логической сортировкой:\n",
    "df_full = df_full[df_full['rougher.output.concentrate'] > 1]\n",
    "df_full = df_full[df_full['final.output.concentrate'] > 1]"
   ]
  },
  {
   "cell_type": "code",
   "execution_count": 38,
   "metadata": {},
   "outputs": [
    {
     "data": {
      "text/plain": [
       "<AxesSubplot:ylabel='Frequency'>"
      ]
     },
     "execution_count": 38,
     "metadata": {},
     "output_type": "execute_result"
    },
    {
     "data": {
      "image/png": "[encoded data removed]",
      "text/plain": [
       "<Figure size 432x288 with 1 Axes>"
      ]
     },
     "metadata": {},
     "output_type": "display_data"
    }
   ],
   "source": [
    "#проверим данные и построим гистограмму распределения\n",
    "df_full['rougher.output.concentrate'].plot(kind='hist', bins=100, alpha=0.7)\n",
    "df_full['primary_cleaner.output.concentrate'].plot(kind='hist', bins=100, alpha=0.7)\n",
    "df_full['final.output.concentrate'].plot(kind='hist', bins=100, alpha=0.7)"
   ]
  },
  {
   "cell_type": "markdown",
   "metadata": {},
   "source": [
    "От выбросов избавились, поскольку они могли быть вызваны сбоем в работе аппаратуры, или просто вызваны отсутствием материала в работе. На графике видно, что их было слишком много, чем соседних значений. Можно переходить к построению модели. "
   ]
  },
  {
   "cell_type": "markdown",
   "metadata": {},
   "source": [
    "## Модель"
   ]
  },
  {
   "cell_type": "markdown",
   "metadata": {},
   "source": [
    "### Функция для подсчета sMAPE"
   ]
  },
  {
   "cell_type": "markdown",
   "metadata": {},
   "source": [
    "Напишем функцию для расчета sMAPE и финального sMAPE"
   ]
  },
  {
   "cell_type": "code",
   "execution_count": 39,
   "metadata": {},
   "outputs": [],
   "source": [
    "# функция для smape:\n",
    "def smape (target, predictions):\n",
    "    return 100/len(target) * np.sum(2 * np.abs(predictions - target) / (np.abs(target) + np.abs(predictions)))\n",
    "\n",
    "# финальный smape\n",
    "def final_smape(smape_r, smape_f):\n",
    "    result = 0.25 * smape_r + 0.75 * smape_f\n",
    "    return result\n",
    "\n",
    "# создадим переменную для использования скоринга\n",
    "smape_scoring = make_scorer(smape, greater_is_better=False)"
   ]
  },
  {
   "cell_type": "markdown",
   "metadata": {},
   "source": [
    "Далее нам нужно разделить данные на признаки и целевой параметр и выбрать лучшие модели."
   ]
  },
  {
   "cell_type": "markdown",
   "metadata": {},
   "source": [
    "### Обучение моделей"
   ]
  },
  {
   "cell_type": "markdown",
   "metadata": {},
   "source": [
    "Подготовим признаки и цели для обучающей выборки. Но сначала сравняем тренировочную и тестовую выборки. Удалим ненужные признаки из тренировочной выборки:"
   ]
  },
  {
   "cell_type": "code",
   "execution_count": 40,
   "metadata": {},
   "outputs": [
    {
     "name": "stdout",
     "output_type": "stream",
     "text": [
      "<class 'pandas.core.frame.DataFrame'>\n",
      "Int64Index: 13599 entries, 0 to 14148\n",
      "Data columns (total 55 columns):\n",
      " #   Column                                      Non-Null Count  Dtype  \n",
      "---  ------                                      --------------  -----  \n",
      " 0   date                                        13599 non-null  object \n",
      " 1   final.output.recovery                       13599 non-null  float64\n",
      " 2   primary_cleaner.input.sulfate               13599 non-null  float64\n",
      " 3   primary_cleaner.input.depressant            13599 non-null  float64\n",
      " 4   primary_cleaner.input.feed_size             13599 non-null  float64\n",
      " 5   primary_cleaner.input.xanthate              13599 non-null  float64\n",
      " 6   primary_cleaner.state.floatbank8_a_air      13599 non-null  float64\n",
      " 7   primary_cleaner.state.floatbank8_a_level    13599 non-null  float64\n",
      " 8   primary_cleaner.state.floatbank8_b_air      13599 non-null  float64\n",
      " 9   primary_cleaner.state.floatbank8_b_level    13599 non-null  float64\n",
      " 10  primary_cleaner.state.floatbank8_c_air      13599 non-null  float64\n",
      " 11  primary_cleaner.state.floatbank8_c_level    13599 non-null  float64\n",
      " 12  primary_cleaner.state.floatbank8_d_air      13599 non-null  float64\n",
      " 13  primary_cleaner.state.floatbank8_d_level    13599 non-null  float64\n",
      " 14  rougher.input.feed_ag                       13599 non-null  float64\n",
      " 15  rougher.input.feed_pb                       13599 non-null  float64\n",
      " 16  rougher.input.feed_rate                     13599 non-null  float64\n",
      " 17  rougher.input.feed_size                     13599 non-null  float64\n",
      " 18  rougher.input.feed_sol                      13599 non-null  float64\n",
      " 19  rougher.input.feed_au                       13599 non-null  float64\n",
      " 20  rougher.input.floatbank10_sulfate           13599 non-null  float64\n",
      " 21  rougher.input.floatbank10_xanthate          13599 non-null  float64\n",
      " 22  rougher.input.floatbank11_sulfate           13599 non-null  float64\n",
      " 23  rougher.input.floatbank11_xanthate          13599 non-null  float64\n",
      " 24  rougher.output.recovery                     13599 non-null  float64\n",
      " 25  rougher.state.floatbank10_a_air             13599 non-null  float64\n",
      " 26  rougher.state.floatbank10_a_level           13599 non-null  float64\n",
      " 27  rougher.state.floatbank10_b_air             13599 non-null  float64\n",
      " 28  rougher.state.floatbank10_b_level           13599 non-null  float64\n",
      " 29  rougher.state.floatbank10_c_air             13599 non-null  float64\n",
      " 30  rougher.state.floatbank10_c_level           13599 non-null  float64\n",
      " 31  rougher.state.floatbank10_d_air             13599 non-null  float64\n",
      " 32  rougher.state.floatbank10_d_level           13599 non-null  float64\n",
      " 33  rougher.state.floatbank10_e_air             13599 non-null  float64\n",
      " 34  rougher.state.floatbank10_e_level           13599 non-null  float64\n",
      " 35  rougher.state.floatbank10_f_air             13599 non-null  float64\n",
      " 36  rougher.state.floatbank10_f_level           13599 non-null  float64\n",
      " 37  secondary_cleaner.state.floatbank2_a_air    13599 non-null  float64\n",
      " 38  secondary_cleaner.state.floatbank2_a_level  13599 non-null  float64\n",
      " 39  secondary_cleaner.state.floatbank2_b_air    13599 non-null  float64\n",
      " 40  secondary_cleaner.state.floatbank2_b_level  13599 non-null  float64\n",
      " 41  secondary_cleaner.state.floatbank3_a_air    13599 non-null  float64\n",
      " 42  secondary_cleaner.state.floatbank3_a_level  13599 non-null  float64\n",
      " 43  secondary_cleaner.state.floatbank3_b_air    13599 non-null  float64\n",
      " 44  secondary_cleaner.state.floatbank3_b_level  13599 non-null  float64\n",
      " 45  secondary_cleaner.state.floatbank4_a_air    13599 non-null  float64\n",
      " 46  secondary_cleaner.state.floatbank4_a_level  13599 non-null  float64\n",
      " 47  secondary_cleaner.state.floatbank4_b_air    13599 non-null  float64\n",
      " 48  secondary_cleaner.state.floatbank4_b_level  13599 non-null  float64\n",
      " 49  secondary_cleaner.state.floatbank5_a_air    13599 non-null  float64\n",
      " 50  secondary_cleaner.state.floatbank5_a_level  13599 non-null  float64\n",
      " 51  secondary_cleaner.state.floatbank5_b_air    13599 non-null  float64\n",
      " 52  secondary_cleaner.state.floatbank5_b_level  13599 non-null  float64\n",
      " 53  secondary_cleaner.state.floatbank6_a_air    13599 non-null  float64\n",
      " 54  secondary_cleaner.state.floatbank6_a_level  13599 non-null  float64\n",
      "dtypes: float64(54), object(1)\n",
      "memory usage: 6.3+ MB\n"
     ]
    }
   ],
   "source": [
    "missing_cols = df_train.columns.drop(df_test.columns)\n",
    "cols_to_drop = missing_cols.drop(['final.output.recovery', 'rougher.output.recovery'])\n",
    "right_cols = df_train.columns.drop(cols_to_drop)\n",
    "df_train = df_train[right_cols]\n",
    "df_train.info()"
   ]
  },
  {
   "cell_type": "markdown",
   "metadata": {},
   "source": [
    "И добавим целевые параметры в тестовую:"
   ]
  },
  {
   "cell_type": "code",
   "execution_count": 41,
   "metadata": {},
   "outputs": [],
   "source": [
    "target_features_to_join = df_full[['date', 'final.output.recovery', 'rougher.output.recovery']].copy()\n",
    "df_test = df_test.join(target_features_to_join.set_index('date'), on='date')"
   ]
  },
  {
   "cell_type": "markdown",
   "metadata": {},
   "source": [
    "А теперь непосредсвтенно разделение на признаки и цели:"
   ]
  },
  {
   "cell_type": "code",
   "execution_count": 42,
   "metadata": {},
   "outputs": [],
   "source": [
    "target_rougher = df_train['rougher.output.recovery']\n",
    "target_final = df_train['final.output.recovery']\n",
    "\n",
    "features_train = df_train.drop(['date', 'final.output.recovery', 'rougher.output.recovery'], axis='columns')"
   ]
  },
  {
   "cell_type": "markdown",
   "metadata": {},
   "source": [
    "Далее нам необходимо масштабировать признаки."
   ]
  },
  {
   "cell_type": "code",
   "execution_count": 43,
   "metadata": {},
   "outputs": [],
   "source": [
    "scaler = StandardScaler()\n",
    "scaler.fit(features_train)\n",
    "features_train = scaler.transform(features_train)"
   ]
  },
  {
   "cell_type": "markdown",
   "metadata": {},
   "source": [
    "Теперь инициализируем несколько моделей и методом кросс-валидации выберем лучшую из них. Начнем с дерева решений:"
   ]
  },
  {
   "cell_type": "code",
   "execution_count": 44,
   "metadata": {},
   "outputs": [
    {
     "data": {
      "text/plain": [
       "9.083879568946381"
      ]
     },
     "execution_count": 44,
     "metadata": {},
     "output_type": "execute_result"
    }
   ],
   "source": [
    "model_tree = DecisionTreeRegressor(random_state=12345)\n",
    "cvs_tree = cross_val_score(model_tree, features_train, target_rougher, scoring=smape_scoring, cv=5).mean()\n",
    "cvs_tree_s = cvs_tree * -1\n",
    "cvs_tree_s"
   ]
  },
  {
   "cell_type": "markdown",
   "metadata": {},
   "source": [
    "Линейную регрессию:"
   ]
  },
  {
   "cell_type": "code",
   "execution_count": 45,
   "metadata": {},
   "outputs": [
    {
     "data": {
      "text/plain": [
       "7.282138560672938"
      ]
     },
     "execution_count": 45,
     "metadata": {},
     "output_type": "execute_result"
    }
   ],
   "source": [
    "model_lr = LinearRegression()\n",
    "cvs_lr = cross_val_score(model_lr, features_train, target_rougher, scoring=smape_scoring, cv=5).mean()\n",
    "cvs_lr_s = cvs_lr * -1\n",
    "cvs_lr_s"
   ]
  },
  {
   "cell_type": "markdown",
   "metadata": {},
   "source": [
    "Случайный лес:"
   ]
  },
  {
   "cell_type": "code",
   "execution_count": 46,
   "metadata": {},
   "outputs": [
    {
     "data": {
      "text/plain": [
       "6.904993512326539"
      ]
     },
     "execution_count": 46,
     "metadata": {},
     "output_type": "execute_result"
    }
   ],
   "source": [
    "model_rf = RandomForestRegressor(random_state=12345, n_estimators=10)\n",
    "cvs_rf = cross_val_score(model_rf, features_train, target_rougher, scoring=smape_scoring, cv=5).mean()\n",
    "cvs_rf_s = cvs_rf * -1\n",
    "cvs_rf_s"
   ]
  },
  {
   "cell_type": "markdown",
   "metadata": {},
   "source": [
    "Проверим еще одну модель - CatBoostRegressor"
   ]
  },
  {
   "cell_type": "code",
   "execution_count": 47,
   "metadata": {},
   "outputs": [
    {
     "name": "stdout",
     "output_type": "stream",
     "text": [
      "0:\tlearn: 5.5260992\ttotal: 52.7ms\tremaining: 52.7ms\n",
      "1:\tlearn: 5.2143324\ttotal: 57ms\tremaining: 0us\n",
      "0:\tlearn: 6.3014812\ttotal: 4.88ms\tremaining: 4.88ms\n",
      "1:\tlearn: 5.8500316\ttotal: 9.86ms\tremaining: 0us\n",
      "0:\tlearn: 6.5189728\ttotal: 5.8ms\tremaining: 5.8ms\n",
      "1:\tlearn: 6.1031261\ttotal: 10.4ms\tremaining: 0us\n",
      "0:\tlearn: 6.2910647\ttotal: 5.27ms\tremaining: 5.27ms\n",
      "1:\tlearn: 5.8999088\ttotal: 10.1ms\tremaining: 0us\n",
      "0:\tlearn: 6.3066412\ttotal: 5.41ms\tremaining: 5.41ms\n",
      "1:\tlearn: 5.8364519\ttotal: 10.5ms\tremaining: 0us\n"
     ]
    },
    {
     "data": {
      "text/plain": [
       "7.210290613954465"
      ]
     },
     "execution_count": 47,
     "metadata": {},
     "output_type": "execute_result"
    }
   ],
   "source": [
    "model_cb = CatBoostRegressor(iterations=2, learning_rate=1, depth=3)\n",
    "cvs_cb = cross_val_score(model_cb, features_train, target_rougher, scoring=smape_scoring, cv=5).mean()\n",
    "cvs_cb_s = cvs_cb * -1\n",
    "cvs_cb_s"
   ]
  },
  {
   "cell_type": "markdown",
   "metadata": {},
   "source": [
    "Лучший вариант у случайного леса. Обучим эту модель. Но сначала необходимо подготовить признаки и целевой параметр для тествой выборки и масштабировать их"
   ]
  },
  {
   "cell_type": "code",
   "execution_count": 48,
   "metadata": {},
   "outputs": [],
   "source": [
    "target_rougher_test = df_test['rougher.output.recovery']\n",
    "target_final_test = df_test['final.output.recovery']\n",
    "\n",
    "features_test = df_test.drop(['date', 'final.output.recovery', 'rougher.output.recovery'], axis='columns')"
   ]
  },
  {
   "cell_type": "markdown",
   "metadata": {},
   "source": [
    "И применим новый скалер на тестовой выборке"
   ]
  },
  {
   "cell_type": "code",
   "execution_count": 49,
   "metadata": {},
   "outputs": [],
   "source": [
    "scaler = StandardScaler()\n",
    "scaler.fit(features_train)\n",
    "features_test = scaler.transform(features_test)"
   ]
  },
  {
   "cell_type": "markdown",
   "metadata": {},
   "source": [
    "Обучим модель и получим предсказания"
   ]
  },
  {
   "cell_type": "code",
   "execution_count": 59,
   "metadata": {},
   "outputs": [],
   "source": [
    "model_rf = RandomForestRegressor(random_state=12345, n_estimators=10, max_depth=6)\n",
    "model_rf_1 = RandomForestRegressor(random_state=12345, n_estimators=10, max_depth=6)\n",
    "\n",
    "rf_rougher = model_rf.fit(features_train, target_rougher)\n",
    "rf_final = model_rf_1.fit(features_train, target_final)\n"
   ]
  },
  {
   "cell_type": "code",
   "execution_count": 60,
   "metadata": {},
   "outputs": [],
   "source": [
    "rf_predictions_rougher = rf_rougher.predict(features_test)\n",
    "rf_predictions_final = rf_final.predict(features_test)\n"
   ]
  },
  {
   "cell_type": "markdown",
   "metadata": {},
   "source": [
    "Найдем sMAPE и финальный sMAPE"
   ]
  },
  {
   "cell_type": "code",
   "execution_count": 61,
   "metadata": {},
   "outputs": [
    {
     "data": {
      "text/plain": [
       "4.533317420841586"
      ]
     },
     "execution_count": 61,
     "metadata": {},
     "output_type": "execute_result"
    }
   ],
   "source": [
    "smape_rougher = smape(target_rougher_test, rf_predictions_rougher)\n",
    "smape_rougher"
   ]
  },
  {
   "cell_type": "code",
   "execution_count": 62,
   "metadata": {},
   "outputs": [
    {
     "data": {
      "text/plain": [
       "7.839894517147421"
      ]
     },
     "execution_count": 62,
     "metadata": {},
     "output_type": "execute_result"
    }
   ],
   "source": [
    "smape_final = smape(target_final_test, rf_predictions_final)\n",
    "smape_final"
   ]
  },
  {
   "cell_type": "code",
   "execution_count": 63,
   "metadata": {},
   "outputs": [
    {
     "data": {
      "text/plain": [
       "7.013250243070962"
      ]
     },
     "execution_count": 63,
     "metadata": {},
     "output_type": "execute_result"
    }
   ],
   "source": [
    "final_smape(smape_rougher, smape_final)"
   ]
  },
  {
   "cell_type": "markdown",
   "metadata": {},
   "source": [
    "Для проверки эффективности и качества модели сравним её с константной. Используем DummyRegressor"
   ]
  },
  {
   "cell_type": "code",
   "execution_count": 64,
   "metadata": {},
   "outputs": [],
   "source": [
    "dummy = DummyRegressor(strategy = 'mean')\n",
    "dummy_1 = DummyRegressor(strategy = 'mean')\n",
    "\n",
    "dummy_rougher = dummy.fit(features_train, target_rougher)\n",
    "dummy_predictions_rougher = dummy_rougher.predict(features_test)\n",
    "\n",
    "dummy_final = dummy_1.fit(features_train, target_final)\n",
    "dummy_predictions_final = dummy_final.predict(features_test)"
   ]
  },
  {
   "cell_type": "code",
   "execution_count": 65,
   "metadata": {},
   "outputs": [
    {
     "data": {
      "text/plain": [
       "5.233464103851194"
      ]
     },
     "execution_count": 65,
     "metadata": {},
     "output_type": "execute_result"
    }
   ],
   "source": [
    "smape_rougher_dummy = smape(target_rougher_test, dummy_predictions_rougher)\n",
    "smape_rougher_dummy"
   ]
  },
  {
   "cell_type": "code",
   "execution_count": 66,
   "metadata": {},
   "outputs": [
    {
     "data": {
      "text/plain": [
       "8.357682158395866"
      ]
     },
     "execution_count": 66,
     "metadata": {},
     "output_type": "execute_result"
    }
   ],
   "source": [
    "smape_final_dummy = smape(target_final_test, dummy_predictions_final)\n",
    "smape_final_dummy"
   ]
  },
  {
   "cell_type": "code",
   "execution_count": 58,
   "metadata": {},
   "outputs": [
    {
     "data": {
      "text/plain": [
       "7.576627644759697"
      ]
     },
     "execution_count": 58,
     "metadata": {},
     "output_type": "execute_result"
    }
   ],
   "source": [
    "final_smape(smape_rougher_dummy, smape_final_dummy)"
   ]
  },
  {
   "cell_type": "markdown",
   "metadata": {},
   "source": [
    "## Выводы"
   ]
  },
  {
   "cell_type": "markdown",
   "metadata": {},
   "source": [
    "1. Мы изучили данные. В них были небольшие недочеты, которые мы исправили на этапе предоработки - заполнили пропуски, проверили дубликаты.\n",
    "\n",
    "2. Мы имеем три датасета, с разным количеством параметров, и имеющимися вбросами, которые, возможно, появились из-за сбоев в оборудовании. Околонулевые выбросы мы удалили.\n",
    "\n",
    "3. Так же перед обучением модели мы удалили ненужные признаки из тренировочного набора данных, и добавили целевые признаки в тестовую.\n",
    "\n",
    "4. Проверили несколько моделей кросс-валидацией и выбрали случайный лес, который использовали для постоения предсказаний. \n",
    "\n",
    "5. Нам удалось достичь лучших показателей, чем у константной модели. "
   ]
  },
  {
   "cell_type": "markdown",
   "metadata": {},
   "source": [
    "## Чек-лист готовности проекта"
   ]
  },
  {
   "cell_type": "markdown",
   "metadata": {},
   "source": [
    "- [x]  Jupyter Notebook открыт\n",
    "- [ ]  Весь код выполняется без ошибок\n",
    "- [ ]  Ячейки с кодом расположены в порядке выполнения\n",
    "- [ ]  Выполнен шаг 1: данные подготовлены\n",
    "    - [ ]  Проверена формула вычисления эффективности обогащения\n",
    "    - [ ]  Проанализированы признаки, недоступные в тестовой выборке\n",
    "    - [ ]  Проведена предобработка данных\n",
    "- [ ]  Выполнен шаг 2: данные проанализированы\n",
    "    - [ ]  Исследовано изменение концентрации элементов на каждом этапе\n",
    "    - [ ]  Проанализированы распределения размеров гранул на обучающей и тестовой выборках\n",
    "    - [ ]  Исследованы суммарные концентрации\n",
    "- [ ]  Выполнен шаг 3: построена модель прогнозирования\n",
    "    - [ ]  Написана функция для вычисления итогового *sMAPE*\n",
    "    - [ ]  Обучено и проверено несколько моделей\n",
    "    - [ ]  Выбрана лучшая модель, её качество проверено на тестовой выборке"
   ]
  }
 ],
 "metadata": {
  "ExecuteTimeLog": [
   {
    "duration": 574,
    "start_time": "2022-03-11T09:04:27.412Z"
   },
   {
    "duration": 747,
    "start_time": "2022-03-11T09:04:28.516Z"
   },
   {
    "duration": 16,
    "start_time": "2022-03-11T09:04:29.797Z"
   },
   {
    "duration": 789,
    "start_time": "2022-03-11T16:22:30.615Z"
   },
   {
    "duration": 901,
    "start_time": "2022-03-11T16:22:31.408Z"
   },
   {
    "duration": 33,
    "start_time": "2022-03-11T16:22:32.312Z"
   },
   {
    "duration": 28,
    "start_time": "2022-03-11T16:22:46.421Z"
   },
   {
    "duration": 732,
    "start_time": "2022-03-13T08:45:02.971Z"
   },
   {
    "duration": 895,
    "start_time": "2022-03-13T08:45:03.706Z"
   },
   {
    "duration": 32,
    "start_time": "2022-03-13T08:45:04.604Z"
   },
   {
    "duration": 18,
    "start_time": "2022-03-13T08:56:19.956Z"
   },
   {
    "duration": 25,
    "start_time": "2022-03-13T08:56:52.180Z"
   },
   {
    "duration": 390,
    "start_time": "2022-03-13T08:58:00.394Z"
   },
   {
    "duration": 368,
    "start_time": "2022-03-13T08:58:44.601Z"
   },
   {
    "duration": 27,
    "start_time": "2022-03-13T08:59:28.255Z"
   },
   {
    "duration": 26,
    "start_time": "2022-03-13T09:00:19.033Z"
   },
   {
    "duration": 28,
    "start_time": "2022-03-13T09:00:31.122Z"
   },
   {
    "duration": 28,
    "start_time": "2022-03-13T09:00:53.456Z"
   },
   {
    "duration": 100,
    "start_time": "2022-03-13T09:07:48.969Z"
   },
   {
    "duration": 373,
    "start_time": "2022-03-13T09:16:04.890Z"
   },
   {
    "duration": 23,
    "start_time": "2022-03-13T09:19:17.716Z"
   },
   {
    "duration": 38,
    "start_time": "2022-03-13T09:20:01.651Z"
   },
   {
    "duration": 15,
    "start_time": "2022-03-13T09:20:22.266Z"
   },
   {
    "duration": 13,
    "start_time": "2022-03-13T09:20:29.787Z"
   },
   {
    "duration": 19,
    "start_time": "2022-03-13T09:20:36.864Z"
   },
   {
    "duration": 14,
    "start_time": "2022-03-13T09:21:44.724Z"
   },
   {
    "duration": 14,
    "start_time": "2022-03-13T09:21:55.001Z"
   },
   {
    "duration": 21,
    "start_time": "2022-03-13T09:23:18.692Z"
   },
   {
    "duration": 36,
    "start_time": "2022-03-13T09:27:52.487Z"
   },
   {
    "duration": 33,
    "start_time": "2022-03-13T09:28:14.694Z"
   },
   {
    "duration": 1106,
    "start_time": "2022-03-13T09:29:43.138Z"
   },
   {
    "duration": 6,
    "start_time": "2022-03-13T09:30:03.274Z"
   },
   {
    "duration": 4,
    "start_time": "2022-03-13T09:50:33.191Z"
   },
   {
    "duration": 18,
    "start_time": "2022-03-13T09:58:43.176Z"
   },
   {
    "duration": 17,
    "start_time": "2022-03-13T09:59:09.418Z"
   },
   {
    "duration": 344,
    "start_time": "2022-03-13T10:01:00.052Z"
   },
   {
    "duration": 20,
    "start_time": "2022-03-13T10:01:15.384Z"
   },
   {
    "duration": 15,
    "start_time": "2022-03-13T10:03:45.404Z"
   },
   {
    "duration": 271,
    "start_time": "2022-03-13T10:04:41.720Z"
   },
   {
    "duration": 6,
    "start_time": "2022-03-13T10:05:45.695Z"
   },
   {
    "duration": 6593,
    "start_time": "2022-03-13T10:05:55.811Z"
   },
   {
    "duration": 7,
    "start_time": "2022-03-13T10:06:12.023Z"
   },
   {
    "duration": 6,
    "start_time": "2022-03-13T10:23:22.294Z"
   },
   {
    "duration": 7,
    "start_time": "2022-03-13T11:06:27.965Z"
   },
   {
    "duration": 5,
    "start_time": "2022-03-13T11:18:07.519Z"
   },
   {
    "duration": 1048,
    "start_time": "2022-03-13T11:18:22.511Z"
   },
   {
    "duration": 36,
    "start_time": "2022-03-13T11:22:08.872Z"
   },
   {
    "duration": 99,
    "start_time": "2022-03-13T11:22:21.638Z"
   },
   {
    "duration": 25,
    "start_time": "2022-03-13T11:22:34.821Z"
   },
   {
    "duration": 878,
    "start_time": "2022-03-13T14:41:02.538Z"
   },
   {
    "duration": 1151,
    "start_time": "2022-03-13T14:41:29.668Z"
   },
   {
    "duration": 1178,
    "start_time": "2022-03-13T14:42:48.308Z"
   },
   {
    "duration": 307,
    "start_time": "2022-03-13T14:50:36.381Z"
   },
   {
    "duration": 309,
    "start_time": "2022-03-13T14:50:52.504Z"
   },
   {
    "duration": 8,
    "start_time": "2022-03-13T14:51:31.092Z"
   },
   {
    "duration": 296,
    "start_time": "2022-03-13T14:51:39.296Z"
   },
   {
    "duration": 874,
    "start_time": "2022-03-13T14:52:11.521Z"
   },
   {
    "duration": 14,
    "start_time": "2022-03-13T14:52:48.716Z"
   },
   {
    "duration": 1320,
    "start_time": "2022-03-13T14:54:27.817Z"
   },
   {
    "duration": 874,
    "start_time": "2022-03-13T14:55:27.975Z"
   },
   {
    "duration": 933,
    "start_time": "2022-03-13T14:56:07.150Z"
   },
   {
    "duration": 13,
    "start_time": "2022-03-13T14:56:36.613Z"
   },
   {
    "duration": 19,
    "start_time": "2022-03-13T14:57:29.535Z"
   },
   {
    "duration": 18,
    "start_time": "2022-03-13T14:57:44.213Z"
   },
   {
    "duration": 724,
    "start_time": "2022-03-13T14:57:50.961Z"
   },
   {
    "duration": 292,
    "start_time": "2022-03-13T14:58:08.280Z"
   },
   {
    "duration": 491,
    "start_time": "2022-03-13T15:04:23.873Z"
   },
   {
    "duration": 564,
    "start_time": "2022-03-13T15:04:57.432Z"
   },
   {
    "duration": 1051,
    "start_time": "2022-03-13T15:05:13.915Z"
   },
   {
    "duration": 1117,
    "start_time": "2022-03-13T15:06:06.142Z"
   },
   {
    "duration": 1298,
    "start_time": "2022-03-13T15:06:19.871Z"
   },
   {
    "duration": 1231,
    "start_time": "2022-03-13T15:06:26.958Z"
   },
   {
    "duration": 959,
    "start_time": "2022-03-13T16:03:24.694Z"
   },
   {
    "duration": 864,
    "start_time": "2022-03-13T16:05:35.307Z"
   },
   {
    "duration": 497,
    "start_time": "2022-03-13T16:06:13.999Z"
   },
   {
    "duration": 1045,
    "start_time": "2022-03-13T16:06:34.427Z"
   },
   {
    "duration": 850,
    "start_time": "2022-03-13T16:07:03.818Z"
   },
   {
    "duration": 1179,
    "start_time": "2022-03-13T16:14:22.268Z"
   },
   {
    "duration": 743,
    "start_time": "2022-03-13T16:15:22.199Z"
   },
   {
    "duration": 718,
    "start_time": "2022-03-13T16:15:35.737Z"
   },
   {
    "duration": 858,
    "start_time": "2022-03-13T16:17:00.122Z"
   },
   {
    "duration": 755,
    "start_time": "2022-03-13T16:17:12.525Z"
   },
   {
    "duration": 1306,
    "start_time": "2022-03-13T16:17:23.737Z"
   },
   {
    "duration": 1073,
    "start_time": "2022-03-13T16:18:33.174Z"
   },
   {
    "duration": 1764,
    "start_time": "2022-03-13T16:18:40.791Z"
   },
   {
    "duration": 2260,
    "start_time": "2022-03-13T16:19:20.499Z"
   },
   {
    "duration": 1549,
    "start_time": "2022-03-13T16:19:37.750Z"
   },
   {
    "duration": 1290,
    "start_time": "2022-03-13T16:19:48.507Z"
   },
   {
    "duration": 6879,
    "start_time": "2022-03-13T16:29:02.945Z"
   },
   {
    "duration": 1550,
    "start_time": "2022-03-13T17:27:29.205Z"
   },
   {
    "duration": 11,
    "start_time": "2022-03-13T17:29:47.739Z"
   },
   {
    "duration": 1031,
    "start_time": "2022-03-13T17:29:47.754Z"
   },
   {
    "duration": 26,
    "start_time": "2022-03-13T17:29:48.789Z"
   },
   {
    "duration": 20,
    "start_time": "2022-03-13T17:29:48.834Z"
   },
   {
    "duration": 25,
    "start_time": "2022-03-13T17:29:48.857Z"
   },
   {
    "duration": 421,
    "start_time": "2022-03-13T17:29:48.885Z"
   },
   {
    "duration": 38,
    "start_time": "2022-03-13T17:29:49.309Z"
   },
   {
    "duration": 144,
    "start_time": "2022-03-13T17:29:49.352Z"
   },
   {
    "duration": 54,
    "start_time": "2022-03-13T17:29:49.501Z"
   },
   {
    "duration": 28,
    "start_time": "2022-03-13T17:29:49.559Z"
   },
   {
    "duration": 59,
    "start_time": "2022-03-13T17:29:49.590Z"
   },
   {
    "duration": 45,
    "start_time": "2022-03-13T17:29:49.653Z"
   },
   {
    "duration": 5,
    "start_time": "2022-03-13T17:29:49.701Z"
   },
   {
    "duration": 26,
    "start_time": "2022-03-13T17:29:49.734Z"
   },
   {
    "duration": 25,
    "start_time": "2022-03-13T17:29:49.763Z"
   },
   {
    "duration": 53,
    "start_time": "2022-03-13T17:29:49.791Z"
   },
   {
    "duration": 9,
    "start_time": "2022-03-13T17:29:49.848Z"
   },
   {
    "duration": 20,
    "start_time": "2022-03-13T17:29:49.860Z"
   },
   {
    "duration": 14,
    "start_time": "2022-03-13T17:29:49.883Z"
   },
   {
    "duration": 1403,
    "start_time": "2022-03-13T17:29:49.905Z"
   },
   {
    "duration": 1060,
    "start_time": "2022-03-13T17:29:51.311Z"
   },
   {
    "duration": 16,
    "start_time": "2022-03-13T17:29:52.374Z"
   },
   {
    "duration": 2329,
    "start_time": "2022-03-13T17:29:52.393Z"
   },
   {
    "duration": 14,
    "start_time": "2022-03-13T17:29:54.731Z"
   },
   {
    "duration": 1543,
    "start_time": "2022-03-13T17:30:53.425Z"
   },
   {
    "duration": 1289,
    "start_time": "2022-03-13T17:32:24.361Z"
   },
   {
    "duration": 13,
    "start_time": "2022-03-13T17:35:41.063Z"
   },
   {
    "duration": 1301,
    "start_time": "2022-03-13T17:35:42.438Z"
   },
   {
    "duration": 278,
    "start_time": "2022-03-13T17:41:13.643Z"
   },
   {
    "duration": 61,
    "start_time": "2022-03-13T17:41:31.586Z"
   },
   {
    "duration": 40,
    "start_time": "2022-03-13T17:41:54.482Z"
   },
   {
    "duration": 42,
    "start_time": "2022-03-13T17:42:05.966Z"
   },
   {
    "duration": 8,
    "start_time": "2022-03-13T17:42:19.779Z"
   },
   {
    "duration": 10,
    "start_time": "2022-03-13T17:42:50.705Z"
   },
   {
    "duration": 11,
    "start_time": "2022-03-13T17:43:10.298Z"
   },
   {
    "duration": 10,
    "start_time": "2022-03-13T17:43:53.342Z"
   },
   {
    "duration": 19,
    "start_time": "2022-03-13T17:45:23.719Z"
   },
   {
    "duration": 349,
    "start_time": "2022-03-13T17:45:49.374Z"
   },
   {
    "duration": 10,
    "start_time": "2022-03-13T17:46:22.882Z"
   },
   {
    "duration": 9,
    "start_time": "2022-03-13T17:46:31.878Z"
   },
   {
    "duration": 10,
    "start_time": "2022-03-13T17:46:42.440Z"
   },
   {
    "duration": 10,
    "start_time": "2022-03-13T17:46:51.201Z"
   },
   {
    "duration": 10,
    "start_time": "2022-03-13T17:46:58.746Z"
   },
   {
    "duration": 10,
    "start_time": "2022-03-13T17:47:38.220Z"
   },
   {
    "duration": 9,
    "start_time": "2022-03-13T17:49:06.720Z"
   },
   {
    "duration": 328,
    "start_time": "2022-03-13T18:13:08.034Z"
   },
   {
    "duration": 8,
    "start_time": "2022-03-13T18:41:39.817Z"
   },
   {
    "duration": 1274,
    "start_time": "2022-03-13T18:41:39.828Z"
   },
   {
    "duration": 45,
    "start_time": "2022-03-13T18:41:41.106Z"
   },
   {
    "duration": 21,
    "start_time": "2022-03-13T18:41:41.155Z"
   },
   {
    "duration": 54,
    "start_time": "2022-03-13T18:41:41.179Z"
   },
   {
    "duration": 444,
    "start_time": "2022-03-13T18:41:41.235Z"
   },
   {
    "duration": 31,
    "start_time": "2022-03-13T18:41:41.682Z"
   },
   {
    "duration": 153,
    "start_time": "2022-03-13T18:41:41.732Z"
   },
   {
    "duration": 57,
    "start_time": "2022-03-13T18:41:41.890Z"
   },
   {
    "duration": 19,
    "start_time": "2022-03-13T18:41:41.950Z"
   },
   {
    "duration": 28,
    "start_time": "2022-03-13T18:41:41.971Z"
   },
   {
    "duration": 57,
    "start_time": "2022-03-13T18:41:42.002Z"
   },
   {
    "duration": 5,
    "start_time": "2022-03-13T18:41:42.062Z"
   },
   {
    "duration": 22,
    "start_time": "2022-03-13T18:41:42.073Z"
   },
   {
    "duration": 51,
    "start_time": "2022-03-13T18:41:42.097Z"
   },
   {
    "duration": 14,
    "start_time": "2022-03-13T18:41:42.151Z"
   },
   {
    "duration": 6,
    "start_time": "2022-03-13T18:41:42.168Z"
   },
   {
    "duration": 11,
    "start_time": "2022-03-13T18:41:42.177Z"
   },
   {
    "duration": 43,
    "start_time": "2022-03-13T18:41:42.191Z"
   },
   {
    "duration": 1237,
    "start_time": "2022-03-13T18:41:42.237Z"
   },
   {
    "duration": 1262,
    "start_time": "2022-03-13T18:41:43.476Z"
   },
   {
    "duration": 13,
    "start_time": "2022-03-13T18:41:44.741Z"
   },
   {
    "duration": 1418,
    "start_time": "2022-03-13T18:41:44.757Z"
   },
   {
    "duration": 16,
    "start_time": "2022-03-13T18:41:46.178Z"
   },
   {
    "duration": 37,
    "start_time": "2022-03-13T18:41:46.196Z"
   },
   {
    "duration": 319,
    "start_time": "2022-03-13T18:41:46.236Z"
   },
   {
    "duration": -568,
    "start_time": "2022-03-13T18:41:47.126Z"
   },
   {
    "duration": 1327,
    "start_time": "2022-03-13T18:42:23.946Z"
   },
   {
    "duration": 1165,
    "start_time": "2022-03-15T16:31:49.269Z"
   },
   {
    "duration": 657,
    "start_time": "2022-03-15T16:31:50.436Z"
   },
   {
    "duration": 17,
    "start_time": "2022-03-15T16:31:51.095Z"
   },
   {
    "duration": 10,
    "start_time": "2022-03-15T16:31:51.114Z"
   },
   {
    "duration": 16,
    "start_time": "2022-03-15T16:31:51.138Z"
   },
   {
    "duration": 221,
    "start_time": "2022-03-15T16:31:51.155Z"
   },
   {
    "duration": 17,
    "start_time": "2022-03-15T16:31:51.378Z"
   },
   {
    "duration": 80,
    "start_time": "2022-03-15T16:31:51.397Z"
   },
   {
    "duration": 31,
    "start_time": "2022-03-15T16:31:51.480Z"
   },
   {
    "duration": 33,
    "start_time": "2022-03-15T16:31:51.514Z"
   },
   {
    "duration": 20,
    "start_time": "2022-03-15T16:31:51.549Z"
   },
   {
    "duration": 22,
    "start_time": "2022-03-15T16:31:51.571Z"
   },
   {
    "duration": 3,
    "start_time": "2022-03-15T16:31:51.595Z"
   },
   {
    "duration": 41,
    "start_time": "2022-03-15T16:31:51.599Z"
   },
   {
    "duration": 11,
    "start_time": "2022-03-15T16:31:51.642Z"
   },
   {
    "duration": 9,
    "start_time": "2022-03-15T16:31:51.655Z"
   },
   {
    "duration": 4,
    "start_time": "2022-03-15T16:31:51.666Z"
   },
   {
    "duration": 8,
    "start_time": "2022-03-15T16:31:51.672Z"
   },
   {
    "duration": 5,
    "start_time": "2022-03-15T16:31:51.681Z"
   },
   {
    "duration": 735,
    "start_time": "2022-03-15T16:31:51.688Z"
   },
   {
    "duration": 678,
    "start_time": "2022-03-15T16:31:52.425Z"
   },
   {
    "duration": 9,
    "start_time": "2022-03-15T16:31:53.105Z"
   },
   {
    "duration": 793,
    "start_time": "2022-03-15T16:31:53.116Z"
   },
   {
    "duration": 27,
    "start_time": "2022-03-15T16:31:53.911Z"
   },
   {
    "duration": 8,
    "start_time": "2022-03-15T16:31:53.939Z"
   },
   {
    "duration": 236,
    "start_time": "2022-03-15T16:31:53.949Z"
   },
   {
    "duration": -101,
    "start_time": "2022-03-15T16:31:54.289Z"
   },
   {
    "duration": 6,
    "start_time": "2022-03-15T16:45:43.195Z"
   },
   {
    "duration": 790,
    "start_time": "2022-03-15T16:46:01.778Z"
   },
   {
    "duration": 19,
    "start_time": "2022-03-15T16:46:41.622Z"
   },
   {
    "duration": 896,
    "start_time": "2022-03-15T16:46:42.650Z"
   },
   {
    "duration": 10,
    "start_time": "2022-03-15T16:49:57.789Z"
   },
   {
    "duration": 791,
    "start_time": "2022-03-15T16:50:38.154Z"
   },
   {
    "duration": 19,
    "start_time": "2022-03-15T16:51:56.214Z"
   },
   {
    "duration": 7,
    "start_time": "2022-03-15T16:54:10.612Z"
   },
   {
    "duration": 7,
    "start_time": "2022-03-15T16:54:17.853Z"
   },
   {
    "duration": 7,
    "start_time": "2022-03-15T16:54:26.609Z"
   },
   {
    "duration": 8,
    "start_time": "2022-03-15T16:54:30.418Z"
   },
   {
    "duration": 7,
    "start_time": "2022-03-15T16:54:39.572Z"
   },
   {
    "duration": 12,
    "start_time": "2022-03-15T16:56:56.715Z"
   },
   {
    "duration": 820,
    "start_time": "2022-03-15T16:58:07.561Z"
   },
   {
    "duration": 1835,
    "start_time": "2022-03-17T06:50:26.986Z"
   },
   {
    "duration": 669,
    "start_time": "2022-03-17T06:50:28.823Z"
   },
   {
    "duration": 20,
    "start_time": "2022-03-17T06:50:29.494Z"
   },
   {
    "duration": 13,
    "start_time": "2022-03-17T06:50:29.517Z"
   },
   {
    "duration": 15,
    "start_time": "2022-03-17T06:50:29.531Z"
   },
   {
    "duration": 242,
    "start_time": "2022-03-17T06:50:29.548Z"
   },
   {
    "duration": 15,
    "start_time": "2022-03-17T06:50:29.800Z"
   },
   {
    "duration": 61,
    "start_time": "2022-03-17T06:50:29.817Z"
   },
   {
    "duration": 48,
    "start_time": "2022-03-17T06:50:29.879Z"
   },
   {
    "duration": 12,
    "start_time": "2022-03-17T06:50:29.930Z"
   },
   {
    "duration": 15,
    "start_time": "2022-03-17T06:50:29.943Z"
   },
   {
    "duration": 19,
    "start_time": "2022-03-17T06:50:29.959Z"
   },
   {
    "duration": 24,
    "start_time": "2022-03-17T06:50:29.979Z"
   },
   {
    "duration": 14,
    "start_time": "2022-03-17T06:50:30.004Z"
   },
   {
    "duration": 10,
    "start_time": "2022-03-17T06:50:30.020Z"
   },
   {
    "duration": 10,
    "start_time": "2022-03-17T06:50:30.032Z"
   },
   {
    "duration": 4,
    "start_time": "2022-03-17T06:50:30.044Z"
   },
   {
    "duration": 5,
    "start_time": "2022-03-17T06:50:30.050Z"
   },
   {
    "duration": 4,
    "start_time": "2022-03-17T06:50:30.056Z"
   },
   {
    "duration": 433,
    "start_time": "2022-03-17T06:50:30.100Z"
   },
   {
    "duration": 427,
    "start_time": "2022-03-17T06:50:30.535Z"
   },
   {
    "duration": 6,
    "start_time": "2022-03-17T06:50:30.964Z"
   },
   {
    "duration": 466,
    "start_time": "2022-03-17T06:50:30.971Z"
   },
   {
    "duration": 12,
    "start_time": "2022-03-17T06:50:31.439Z"
   },
   {
    "duration": 5,
    "start_time": "2022-03-17T06:50:31.452Z"
   },
   {
    "duration": 9,
    "start_time": "2022-03-17T06:50:31.459Z"
   },
   {
    "duration": 457,
    "start_time": "2022-03-17T06:50:31.469Z"
   },
   {
    "duration": 7,
    "start_time": "2022-03-17T06:50:31.929Z"
   },
   {
    "duration": 540,
    "start_time": "2022-03-17T06:50:31.938Z"
   },
   {
    "duration": 21,
    "start_time": "2022-03-17T06:50:32.480Z"
   },
   {
    "duration": 18,
    "start_time": "2022-03-17T06:50:32.503Z"
   },
   {
    "duration": 19,
    "start_time": "2022-03-17T06:50:32.522Z"
   },
   {
    "duration": 450,
    "start_time": "2022-03-17T06:50:32.543Z"
   },
   {
    "duration": 5,
    "start_time": "2022-03-17T07:14:48.978Z"
   },
   {
    "duration": 4,
    "start_time": "2022-03-17T07:37:56.530Z"
   },
   {
    "duration": 2848,
    "start_time": "2022-03-17T18:18:39.222Z"
   },
   {
    "duration": 962,
    "start_time": "2022-03-17T18:18:42.074Z"
   },
   {
    "duration": 30,
    "start_time": "2022-03-17T18:18:43.038Z"
   },
   {
    "duration": 20,
    "start_time": "2022-03-17T18:18:43.070Z"
   },
   {
    "duration": 54,
    "start_time": "2022-03-17T18:18:43.094Z"
   },
   {
    "duration": 405,
    "start_time": "2022-03-17T18:18:43.150Z"
   },
   {
    "duration": 22,
    "start_time": "2022-03-17T18:18:43.557Z"
   },
   {
    "duration": 124,
    "start_time": "2022-03-17T18:18:43.582Z"
   },
   {
    "duration": 62,
    "start_time": "2022-03-17T18:18:43.708Z"
   },
   {
    "duration": 22,
    "start_time": "2022-03-17T18:18:43.772Z"
   },
   {
    "duration": 47,
    "start_time": "2022-03-17T18:18:43.797Z"
   },
   {
    "duration": 32,
    "start_time": "2022-03-17T18:18:43.846Z"
   },
   {
    "duration": 4,
    "start_time": "2022-03-17T18:18:43.881Z"
   },
   {
    "duration": 16,
    "start_time": "2022-03-17T18:18:43.889Z"
   },
   {
    "duration": 51,
    "start_time": "2022-03-17T18:18:43.907Z"
   },
   {
    "duration": 16,
    "start_time": "2022-03-17T18:18:43.961Z"
   },
   {
    "duration": 8,
    "start_time": "2022-03-17T18:18:43.979Z"
   },
   {
    "duration": 7,
    "start_time": "2022-03-17T18:18:43.990Z"
   },
   {
    "duration": 45,
    "start_time": "2022-03-17T18:18:44.000Z"
   },
   {
    "duration": 828,
    "start_time": "2022-03-17T18:18:44.047Z"
   },
   {
    "duration": 770,
    "start_time": "2022-03-17T18:18:44.878Z"
   },
   {
    "duration": 11,
    "start_time": "2022-03-17T18:18:45.650Z"
   },
   {
    "duration": 961,
    "start_time": "2022-03-17T18:18:45.663Z"
   },
   {
    "duration": 25,
    "start_time": "2022-03-17T18:18:46.626Z"
   },
   {
    "duration": 10,
    "start_time": "2022-03-17T18:18:46.653Z"
   },
   {
    "duration": 15,
    "start_time": "2022-03-17T18:18:46.665Z"
   },
   {
    "duration": 902,
    "start_time": "2022-03-17T18:18:46.682Z"
   },
   {
    "duration": 12,
    "start_time": "2022-03-17T18:18:47.586Z"
   },
   {
    "duration": 975,
    "start_time": "2022-03-17T18:18:47.600Z"
   },
   {
    "duration": 20,
    "start_time": "2022-03-17T18:18:48.577Z"
   },
   {
    "duration": 10,
    "start_time": "2022-03-17T18:18:48.599Z"
   },
   {
    "duration": 44,
    "start_time": "2022-03-17T18:18:48.611Z"
   },
   {
    "duration": 873,
    "start_time": "2022-03-17T18:18:48.657Z"
   },
   {
    "duration": 15,
    "start_time": "2022-03-17T18:18:49.533Z"
   },
   {
    "duration": 7,
    "start_time": "2022-03-17T18:21:28.050Z"
   },
   {
    "duration": 8,
    "start_time": "2022-03-17T18:25:43.341Z"
   },
   {
    "duration": 33,
    "start_time": "2022-03-17T18:26:22.541Z"
   },
   {
    "duration": 163,
    "start_time": "2022-03-17T18:28:34.531Z"
   },
   {
    "duration": 9,
    "start_time": "2022-03-17T18:29:20.416Z"
   },
   {
    "duration": 12,
    "start_time": "2022-03-17T18:29:27.261Z"
   },
   {
    "duration": 5164,
    "start_time": "2022-03-17T18:29:35.239Z"
   },
   {
    "duration": 1964,
    "start_time": "2022-03-17T18:30:41.490Z"
   },
   {
    "duration": 30083,
    "start_time": "2022-03-17T18:31:29.149Z"
   },
   {
    "duration": 12,
    "start_time": "2022-03-17T18:34:08.979Z"
   },
   {
    "duration": 32,
    "start_time": "2022-03-17T18:34:29.083Z"
   },
   {
    "duration": 8963,
    "start_time": "2022-03-17T18:34:33.580Z"
   },
   {
    "duration": 12257,
    "start_time": "2022-03-17T18:35:53.460Z"
   },
   {
    "duration": 3224,
    "start_time": "2022-03-17T18:41:15.347Z"
   },
   {
    "duration": 32,
    "start_time": "2022-03-17T20:00:08.292Z"
   },
   {
    "duration": 35,
    "start_time": "2022-03-17T20:01:31.254Z"
   },
   {
    "duration": 30,
    "start_time": "2022-03-17T20:04:37.897Z"
   },
   {
    "duration": 16,
    "start_time": "2022-03-17T20:05:15.051Z"
   },
   {
    "duration": 46,
    "start_time": "2022-03-17T20:05:27.793Z"
   },
   {
    "duration": 36,
    "start_time": "2022-03-17T20:06:16.622Z"
   },
   {
    "duration": 8,
    "start_time": "2022-03-17T20:09:45.769Z"
   },
   {
    "duration": 27,
    "start_time": "2022-03-17T20:10:19.171Z"
   },
   {
    "duration": 34,
    "start_time": "2022-03-17T20:11:05.489Z"
   },
   {
    "duration": 7,
    "start_time": "2022-03-17T20:11:09.507Z"
   },
   {
    "duration": 984,
    "start_time": "2022-03-17T20:11:09.518Z"
   },
   {
    "duration": 39,
    "start_time": "2022-03-17T20:11:10.504Z"
   },
   {
    "duration": 22,
    "start_time": "2022-03-17T20:11:10.546Z"
   },
   {
    "duration": 31,
    "start_time": "2022-03-17T20:11:10.570Z"
   },
   {
    "duration": 439,
    "start_time": "2022-03-17T20:11:10.604Z"
   },
   {
    "duration": 23,
    "start_time": "2022-03-17T20:11:11.045Z"
   },
   {
    "duration": 126,
    "start_time": "2022-03-17T20:11:11.071Z"
   },
   {
    "duration": 60,
    "start_time": "2022-03-17T20:11:11.200Z"
   },
   {
    "duration": 23,
    "start_time": "2022-03-17T20:11:11.266Z"
   },
   {
    "duration": 58,
    "start_time": "2022-03-17T20:11:11.293Z"
   },
   {
    "duration": 50,
    "start_time": "2022-03-17T20:11:11.355Z"
   },
   {
    "duration": 5,
    "start_time": "2022-03-17T20:11:11.407Z"
   },
   {
    "duration": 43,
    "start_time": "2022-03-17T20:11:11.414Z"
   },
   {
    "duration": 21,
    "start_time": "2022-03-17T20:11:11.460Z"
   },
   {
    "duration": 18,
    "start_time": "2022-03-17T20:11:11.484Z"
   },
   {
    "duration": 43,
    "start_time": "2022-03-17T20:11:11.505Z"
   },
   {
    "duration": 6,
    "start_time": "2022-03-17T20:11:11.551Z"
   },
   {
    "duration": 17,
    "start_time": "2022-03-17T20:11:11.559Z"
   },
   {
    "duration": 66,
    "start_time": "2022-03-17T20:11:11.578Z"
   },
   {
    "duration": 5,
    "start_time": "2022-03-17T20:11:11.647Z"
   },
   {
    "duration": 856,
    "start_time": "2022-03-17T20:11:11.655Z"
   },
   {
    "duration": 879,
    "start_time": "2022-03-17T20:11:12.514Z"
   },
   {
    "duration": 11,
    "start_time": "2022-03-17T20:11:13.397Z"
   },
   {
    "duration": 932,
    "start_time": "2022-03-17T20:11:13.411Z"
   },
   {
    "duration": 17,
    "start_time": "2022-03-17T20:11:14.345Z"
   },
   {
    "duration": 9,
    "start_time": "2022-03-17T20:11:14.365Z"
   },
   {
    "duration": 15,
    "start_time": "2022-03-17T20:11:14.379Z"
   },
   {
    "duration": 919,
    "start_time": "2022-03-17T20:11:14.397Z"
   },
   {
    "duration": 29,
    "start_time": "2022-03-17T20:11:15.318Z"
   },
   {
    "duration": 1201,
    "start_time": "2022-03-17T20:11:15.349Z"
   },
   {
    "duration": 26,
    "start_time": "2022-03-17T20:11:16.553Z"
   },
   {
    "duration": 12,
    "start_time": "2022-03-17T20:11:16.581Z"
   },
   {
    "duration": 57,
    "start_time": "2022-03-17T20:11:16.595Z"
   },
   {
    "duration": 1292,
    "start_time": "2022-03-17T20:11:16.655Z"
   },
   {
    "duration": 7,
    "start_time": "2022-03-17T20:11:17.950Z"
   },
   {
    "duration": 10,
    "start_time": "2022-03-17T20:11:17.960Z"
   },
   {
    "duration": 34,
    "start_time": "2022-03-17T20:11:17.972Z"
   },
   {
    "duration": 5246,
    "start_time": "2022-03-17T20:11:18.009Z"
   },
   {
    "duration": 2393,
    "start_time": "2022-03-17T20:11:23.258Z"
   },
   {
    "duration": 30013,
    "start_time": "2022-03-17T20:11:25.654Z"
   },
   {
    "duration": 8711,
    "start_time": "2022-03-17T20:11:55.670Z"
   },
   {
    "duration": 7,
    "start_time": "2022-03-17T20:12:04.384Z"
   },
   {
    "duration": 11,
    "start_time": "2022-03-17T20:12:59.864Z"
   },
   {
    "duration": 11,
    "start_time": "2022-03-17T20:13:11.842Z"
   },
   {
    "duration": 27,
    "start_time": "2022-03-17T20:14:41.014Z"
   },
   {
    "duration": 9,
    "start_time": "2022-03-17T20:15:22.313Z"
   },
   {
    "duration": 942,
    "start_time": "2022-03-17T20:15:22.325Z"
   },
   {
    "duration": 31,
    "start_time": "2022-03-17T20:15:23.269Z"
   },
   {
    "duration": 46,
    "start_time": "2022-03-17T20:15:23.304Z"
   },
   {
    "duration": 35,
    "start_time": "2022-03-17T20:15:23.352Z"
   },
   {
    "duration": 407,
    "start_time": "2022-03-17T20:15:23.389Z"
   },
   {
    "duration": 23,
    "start_time": "2022-03-17T20:15:23.799Z"
   },
   {
    "duration": 131,
    "start_time": "2022-03-17T20:15:23.824Z"
   },
   {
    "duration": 39,
    "start_time": "2022-03-17T20:15:23.958Z"
   },
   {
    "duration": 47,
    "start_time": "2022-03-17T20:15:24.003Z"
   },
   {
    "duration": 35,
    "start_time": "2022-03-17T20:15:24.053Z"
   },
   {
    "duration": 65,
    "start_time": "2022-03-17T20:15:24.090Z"
   },
   {
    "duration": 5,
    "start_time": "2022-03-17T20:15:24.157Z"
   },
   {
    "duration": 18,
    "start_time": "2022-03-17T20:15:24.164Z"
   },
   {
    "duration": 16,
    "start_time": "2022-03-17T20:15:24.185Z"
   },
   {
    "duration": 49,
    "start_time": "2022-03-17T20:15:24.204Z"
   },
   {
    "duration": 8,
    "start_time": "2022-03-17T20:15:24.255Z"
   },
   {
    "duration": 9,
    "start_time": "2022-03-17T20:15:24.265Z"
   },
   {
    "duration": 20,
    "start_time": "2022-03-17T20:15:24.277Z"
   },
   {
    "duration": 76,
    "start_time": "2022-03-17T20:15:24.299Z"
   },
   {
    "duration": 11,
    "start_time": "2022-03-17T20:15:24.377Z"
   },
   {
    "duration": 4,
    "start_time": "2022-03-17T20:15:24.390Z"
   },
   {
    "duration": 818,
    "start_time": "2022-03-17T20:15:24.396Z"
   },
   {
    "duration": 879,
    "start_time": "2022-03-17T20:15:25.216Z"
   },
   {
    "duration": 11,
    "start_time": "2022-03-17T20:15:26.097Z"
   },
   {
    "duration": 882,
    "start_time": "2022-03-17T20:15:26.110Z"
   },
   {
    "duration": 16,
    "start_time": "2022-03-17T20:15:26.994Z"
   },
   {
    "duration": 33,
    "start_time": "2022-03-17T20:15:27.017Z"
   },
   {
    "duration": 16,
    "start_time": "2022-03-17T20:15:27.052Z"
   },
   {
    "duration": 915,
    "start_time": "2022-03-17T20:15:27.070Z"
   },
   {
    "duration": 13,
    "start_time": "2022-03-17T20:15:27.987Z"
   },
   {
    "duration": 1495,
    "start_time": "2022-03-17T20:15:28.002Z"
   },
   {
    "duration": 17,
    "start_time": "2022-03-17T20:15:29.499Z"
   },
   {
    "duration": 31,
    "start_time": "2022-03-17T20:15:29.518Z"
   },
   {
    "duration": 20,
    "start_time": "2022-03-17T20:15:29.552Z"
   },
   {
    "duration": 914,
    "start_time": "2022-03-17T20:15:29.575Z"
   },
   {
    "duration": 6,
    "start_time": "2022-03-17T20:15:30.492Z"
   },
   {
    "duration": 13,
    "start_time": "2022-03-17T20:15:30.500Z"
   },
   {
    "duration": 54,
    "start_time": "2022-03-17T20:15:30.516Z"
   },
   {
    "duration": 5051,
    "start_time": "2022-03-17T20:15:30.572Z"
   },
   {
    "duration": 2119,
    "start_time": "2022-03-17T20:15:35.625Z"
   },
   {
    "duration": 30053,
    "start_time": "2022-03-17T20:15:37.747Z"
   },
   {
    "duration": 8145,
    "start_time": "2022-03-17T20:16:07.803Z"
   },
   {
    "duration": 8,
    "start_time": "2022-03-17T20:16:15.951Z"
   },
   {
    "duration": 25,
    "start_time": "2022-03-17T20:16:54.314Z"
   },
   {
    "duration": 32,
    "start_time": "2022-03-17T20:17:06.941Z"
   },
   {
    "duration": 8,
    "start_time": "2022-03-17T20:17:21.534Z"
   },
   {
    "duration": 937,
    "start_time": "2022-03-17T20:17:21.545Z"
   },
   {
    "duration": 28,
    "start_time": "2022-03-17T20:17:22.484Z"
   },
   {
    "duration": 41,
    "start_time": "2022-03-17T20:17:22.515Z"
   },
   {
    "duration": 26,
    "start_time": "2022-03-17T20:17:22.558Z"
   },
   {
    "duration": 502,
    "start_time": "2022-03-17T20:17:22.587Z"
   },
   {
    "duration": 28,
    "start_time": "2022-03-17T20:17:23.092Z"
   },
   {
    "duration": 172,
    "start_time": "2022-03-17T20:17:23.123Z"
   },
   {
    "duration": 64,
    "start_time": "2022-03-17T20:17:23.298Z"
   },
   {
    "duration": 28,
    "start_time": "2022-03-17T20:17:23.367Z"
   },
   {
    "duration": 56,
    "start_time": "2022-03-17T20:17:23.398Z"
   },
   {
    "duration": 44,
    "start_time": "2022-03-17T20:17:23.457Z"
   },
   {
    "duration": 5,
    "start_time": "2022-03-17T20:17:23.503Z"
   },
   {
    "duration": 44,
    "start_time": "2022-03-17T20:17:23.511Z"
   },
   {
    "duration": 17,
    "start_time": "2022-03-17T20:17:23.558Z"
   },
   {
    "duration": 15,
    "start_time": "2022-03-17T20:17:23.577Z"
   },
   {
    "duration": 7,
    "start_time": "2022-03-17T20:17:23.595Z"
   },
   {
    "duration": 7,
    "start_time": "2022-03-17T20:17:23.643Z"
   },
   {
    "duration": 19,
    "start_time": "2022-03-17T20:17:23.652Z"
   },
   {
    "duration": 32,
    "start_time": "2022-03-17T20:17:23.674Z"
   },
   {
    "duration": 11,
    "start_time": "2022-03-17T20:17:23.743Z"
   },
   {
    "duration": 27,
    "start_time": "2022-03-17T20:17:23.756Z"
   },
   {
    "duration": 5,
    "start_time": "2022-03-17T20:17:23.785Z"
   },
   {
    "duration": 899,
    "start_time": "2022-03-17T20:17:23.792Z"
   },
   {
    "duration": 680,
    "start_time": "2022-03-17T20:17:24.694Z"
   },
   {
    "duration": 10,
    "start_time": "2022-03-17T20:17:25.377Z"
   },
   {
    "duration": 1393,
    "start_time": "2022-03-17T20:17:25.389Z"
   },
   {
    "duration": 16,
    "start_time": "2022-03-17T20:17:26.789Z"
   },
   {
    "duration": 39,
    "start_time": "2022-03-17T20:17:26.808Z"
   },
   {
    "duration": 21,
    "start_time": "2022-03-17T20:17:26.850Z"
   },
   {
    "duration": 1250,
    "start_time": "2022-03-17T20:17:26.873Z"
   },
   {
    "duration": 21,
    "start_time": "2022-03-17T20:17:28.126Z"
   },
   {
    "duration": 885,
    "start_time": "2022-03-17T20:17:28.149Z"
   },
   {
    "duration": 20,
    "start_time": "2022-03-17T20:17:29.042Z"
   },
   {
    "duration": 17,
    "start_time": "2022-03-17T20:17:29.064Z"
   },
   {
    "duration": 21,
    "start_time": "2022-03-17T20:17:29.084Z"
   },
   {
    "duration": 1036,
    "start_time": "2022-03-17T20:17:29.108Z"
   },
   {
    "duration": 6,
    "start_time": "2022-03-17T20:17:30.146Z"
   },
   {
    "duration": 12,
    "start_time": "2022-03-17T20:17:30.154Z"
   },
   {
    "duration": 32,
    "start_time": "2022-03-17T20:17:30.168Z"
   },
   {
    "duration": 5071,
    "start_time": "2022-03-17T20:17:30.202Z"
   },
   {
    "duration": 2585,
    "start_time": "2022-03-17T20:17:35.276Z"
   },
   {
    "duration": 30205,
    "start_time": "2022-03-17T20:17:37.864Z"
   },
   {
    "duration": 8052,
    "start_time": "2022-03-17T20:18:08.071Z"
   },
   {
    "duration": 6,
    "start_time": "2022-03-17T20:18:16.126Z"
   },
   {
    "duration": 16,
    "start_time": "2022-03-17T20:26:10.050Z"
   },
   {
    "duration": 15426,
    "start_time": "2022-03-17T20:28:58.458Z"
   },
   {
    "duration": 2751,
    "start_time": "2022-03-17T20:33:24.211Z"
   },
   {
    "duration": 7,
    "start_time": "2022-03-17T20:35:29.891Z"
   },
   {
    "duration": 9,
    "start_time": "2022-03-17T20:35:30.663Z"
   },
   {
    "duration": 6,
    "start_time": "2022-03-17T20:35:31.298Z"
   },
   {
    "duration": 11351,
    "start_time": "2022-03-17T20:36:56.945Z"
   },
   {
    "duration": 19,
    "start_time": "2022-03-17T20:37:28.434Z"
   },
   {
    "duration": 12,
    "start_time": "2022-03-17T20:46:55.637Z"
   },
   {
    "duration": 15,
    "start_time": "2022-03-17T20:48:23.711Z"
   },
   {
    "duration": 16,
    "start_time": "2022-03-17T20:51:19.342Z"
   },
   {
    "duration": 8,
    "start_time": "2022-03-17T20:53:32.504Z"
   },
   {
    "duration": 984,
    "start_time": "2022-03-17T20:53:32.515Z"
   },
   {
    "duration": 26,
    "start_time": "2022-03-17T20:53:33.502Z"
   },
   {
    "duration": 21,
    "start_time": "2022-03-17T20:53:33.543Z"
   },
   {
    "duration": 24,
    "start_time": "2022-03-17T20:53:33.567Z"
   },
   {
    "duration": 429,
    "start_time": "2022-03-17T20:53:33.593Z"
   },
   {
    "duration": 31,
    "start_time": "2022-03-17T20:53:34.024Z"
   },
   {
    "duration": 114,
    "start_time": "2022-03-17T20:53:34.057Z"
   },
   {
    "duration": 37,
    "start_time": "2022-03-17T20:53:34.173Z"
   },
   {
    "duration": 48,
    "start_time": "2022-03-17T20:53:34.212Z"
   },
   {
    "duration": 26,
    "start_time": "2022-03-17T20:53:34.263Z"
   },
   {
    "duration": 57,
    "start_time": "2022-03-17T20:53:34.292Z"
   },
   {
    "duration": 5,
    "start_time": "2022-03-17T20:53:34.352Z"
   },
   {
    "duration": 17,
    "start_time": "2022-03-17T20:53:34.363Z"
   },
   {
    "duration": 17,
    "start_time": "2022-03-17T20:53:34.383Z"
   },
   {
    "duration": 53,
    "start_time": "2022-03-17T20:53:34.402Z"
   },
   {
    "duration": 7,
    "start_time": "2022-03-17T20:53:34.458Z"
   },
   {
    "duration": 7,
    "start_time": "2022-03-17T20:53:34.468Z"
   },
   {
    "duration": 9,
    "start_time": "2022-03-17T20:53:34.477Z"
   },
   {
    "duration": 56,
    "start_time": "2022-03-17T20:53:34.488Z"
   },
   {
    "duration": 33,
    "start_time": "2022-03-17T20:53:34.547Z"
   },
   {
    "duration": 15,
    "start_time": "2022-03-17T20:53:34.582Z"
   },
   {
    "duration": 53,
    "start_time": "2022-03-17T20:53:34.599Z"
   },
   {
    "duration": 4,
    "start_time": "2022-03-17T20:53:34.655Z"
   },
   {
    "duration": 818,
    "start_time": "2022-03-17T20:53:34.662Z"
   },
   {
    "duration": 691,
    "start_time": "2022-03-17T20:53:35.483Z"
   },
   {
    "duration": 3220,
    "start_time": "2022-03-17T20:53:36.177Z"
   },
   {
    "duration": 0,
    "start_time": "2022-03-17T20:53:39.401Z"
   },
   {
    "duration": 0,
    "start_time": "2022-03-17T20:53:39.403Z"
   },
   {
    "duration": 0,
    "start_time": "2022-03-17T20:53:39.406Z"
   },
   {
    "duration": 0,
    "start_time": "2022-03-17T20:53:39.407Z"
   },
   {
    "duration": 0,
    "start_time": "2022-03-17T20:53:39.409Z"
   },
   {
    "duration": 0,
    "start_time": "2022-03-17T20:53:39.412Z"
   },
   {
    "duration": 0,
    "start_time": "2022-03-17T20:53:39.414Z"
   },
   {
    "duration": 0,
    "start_time": "2022-03-17T20:53:39.416Z"
   },
   {
    "duration": 0,
    "start_time": "2022-03-17T20:53:39.418Z"
   },
   {
    "duration": 0,
    "start_time": "2022-03-17T20:53:39.420Z"
   },
   {
    "duration": 0,
    "start_time": "2022-03-17T20:53:39.422Z"
   },
   {
    "duration": 0,
    "start_time": "2022-03-17T20:53:39.424Z"
   },
   {
    "duration": 0,
    "start_time": "2022-03-17T20:53:39.426Z"
   },
   {
    "duration": 0,
    "start_time": "2022-03-17T20:53:39.428Z"
   },
   {
    "duration": 0,
    "start_time": "2022-03-17T20:53:39.430Z"
   },
   {
    "duration": 0,
    "start_time": "2022-03-17T20:53:39.433Z"
   },
   {
    "duration": 0,
    "start_time": "2022-03-17T20:53:39.435Z"
   },
   {
    "duration": 0,
    "start_time": "2022-03-17T20:53:39.442Z"
   },
   {
    "duration": 0,
    "start_time": "2022-03-17T20:53:39.444Z"
   },
   {
    "duration": 0,
    "start_time": "2022-03-17T20:53:39.447Z"
   },
   {
    "duration": 0,
    "start_time": "2022-03-17T20:53:39.449Z"
   },
   {
    "duration": 0,
    "start_time": "2022-03-17T20:53:39.451Z"
   },
   {
    "duration": 0,
    "start_time": "2022-03-17T20:53:39.453Z"
   },
   {
    "duration": 0,
    "start_time": "2022-03-17T20:53:39.456Z"
   },
   {
    "duration": 0,
    "start_time": "2022-03-17T20:53:39.457Z"
   },
   {
    "duration": 0,
    "start_time": "2022-03-17T20:53:39.460Z"
   },
   {
    "duration": 7,
    "start_time": "2022-03-17T20:55:26.278Z"
   },
   {
    "duration": 977,
    "start_time": "2022-03-17T20:55:26.288Z"
   },
   {
    "duration": 29,
    "start_time": "2022-03-17T20:55:27.268Z"
   },
   {
    "duration": 45,
    "start_time": "2022-03-17T20:55:27.299Z"
   },
   {
    "duration": 26,
    "start_time": "2022-03-17T20:55:27.346Z"
   },
   {
    "duration": 423,
    "start_time": "2022-03-17T20:55:27.374Z"
   },
   {
    "duration": 25,
    "start_time": "2022-03-17T20:55:27.799Z"
   },
   {
    "duration": 115,
    "start_time": "2022-03-17T20:55:27.844Z"
   },
   {
    "duration": 36,
    "start_time": "2022-03-17T20:55:27.961Z"
   },
   {
    "duration": 49,
    "start_time": "2022-03-17T20:55:28.001Z"
   },
   {
    "duration": 26,
    "start_time": "2022-03-17T20:55:28.053Z"
   },
   {
    "duration": 67,
    "start_time": "2022-03-17T20:55:28.082Z"
   },
   {
    "duration": 5,
    "start_time": "2022-03-17T20:55:28.151Z"
   },
   {
    "duration": 21,
    "start_time": "2022-03-17T20:55:28.158Z"
   },
   {
    "duration": 17,
    "start_time": "2022-03-17T20:55:28.181Z"
   },
   {
    "duration": 49,
    "start_time": "2022-03-17T20:55:28.201Z"
   },
   {
    "duration": 7,
    "start_time": "2022-03-17T20:55:28.252Z"
   },
   {
    "duration": 8,
    "start_time": "2022-03-17T20:55:28.262Z"
   },
   {
    "duration": 23,
    "start_time": "2022-03-17T20:55:28.273Z"
   },
   {
    "duration": 82,
    "start_time": "2022-03-17T20:55:28.299Z"
   },
   {
    "duration": 12,
    "start_time": "2022-03-17T20:55:28.384Z"
   },
   {
    "duration": 59,
    "start_time": "2022-03-17T20:55:28.399Z"
   },
   {
    "duration": 5,
    "start_time": "2022-03-17T20:55:28.461Z"
   },
   {
    "duration": 979,
    "start_time": "2022-03-17T20:55:28.473Z"
   },
   {
    "duration": 1046,
    "start_time": "2022-03-17T20:55:29.454Z"
   },
   {
    "duration": 10,
    "start_time": "2022-03-17T20:55:30.502Z"
   },
   {
    "duration": 1029,
    "start_time": "2022-03-17T20:55:30.514Z"
   },
   {
    "duration": 14,
    "start_time": "2022-03-17T20:55:31.548Z"
   },
   {
    "duration": 15,
    "start_time": "2022-03-17T20:55:31.564Z"
   },
   {
    "duration": 16,
    "start_time": "2022-03-17T20:55:31.581Z"
   },
   {
    "duration": 945,
    "start_time": "2022-03-17T20:55:31.600Z"
   },
   {
    "duration": 14,
    "start_time": "2022-03-17T20:55:32.548Z"
   },
   {
    "duration": 911,
    "start_time": "2022-03-17T20:55:32.564Z"
   },
   {
    "duration": 19,
    "start_time": "2022-03-17T20:55:33.477Z"
   },
   {
    "duration": 11,
    "start_time": "2022-03-17T20:55:33.499Z"
   },
   {
    "duration": 25,
    "start_time": "2022-03-17T20:55:33.543Z"
   },
   {
    "duration": 903,
    "start_time": "2022-03-17T20:55:33.571Z"
   },
   {
    "duration": 5,
    "start_time": "2022-03-17T20:55:34.477Z"
   },
   {
    "duration": 16,
    "start_time": "2022-03-17T20:55:34.486Z"
   },
   {
    "duration": 48,
    "start_time": "2022-03-17T20:55:34.504Z"
   },
   {
    "duration": 5062,
    "start_time": "2022-03-17T20:55:34.554Z"
   },
   {
    "duration": 2328,
    "start_time": "2022-03-17T20:55:39.618Z"
   },
   {
    "duration": 30099,
    "start_time": "2022-03-17T20:55:41.949Z"
   },
   {
    "duration": 8260,
    "start_time": "2022-03-17T20:56:12.051Z"
   },
   {
    "duration": 6,
    "start_time": "2022-03-17T20:56:20.314Z"
   },
   {
    "duration": 32,
    "start_time": "2022-03-17T20:56:20.322Z"
   },
   {
    "duration": 7278,
    "start_time": "2022-03-17T20:56:20.356Z"
   },
   {
    "duration": 0,
    "start_time": "2022-03-17T20:56:27.644Z"
   },
   {
    "duration": 0,
    "start_time": "2022-03-17T20:56:27.645Z"
   },
   {
    "duration": 0,
    "start_time": "2022-03-17T20:56:27.647Z"
   },
   {
    "duration": 0,
    "start_time": "2022-03-17T20:56:27.650Z"
   },
   {
    "duration": 0,
    "start_time": "2022-03-17T20:56:27.651Z"
   },
   {
    "duration": 18,
    "start_time": "2022-03-17T20:56:52.528Z"
   },
   {
    "duration": 9,
    "start_time": "2022-03-17T21:03:59.086Z"
   },
   {
    "duration": 2438,
    "start_time": "2022-03-17T21:03:59.097Z"
   },
   {
    "duration": 32,
    "start_time": "2022-03-17T21:04:01.538Z"
   },
   {
    "duration": 22,
    "start_time": "2022-03-17T21:04:01.572Z"
   },
   {
    "duration": 59,
    "start_time": "2022-03-17T21:04:01.597Z"
   },
   {
    "duration": 409,
    "start_time": "2022-03-17T21:04:01.659Z"
   },
   {
    "duration": 24,
    "start_time": "2022-03-17T21:04:02.071Z"
   },
   {
    "duration": 119,
    "start_time": "2022-03-17T21:04:02.098Z"
   },
   {
    "duration": 59,
    "start_time": "2022-03-17T21:04:02.219Z"
   },
   {
    "duration": 23,
    "start_time": "2022-03-17T21:04:02.280Z"
   },
   {
    "duration": 54,
    "start_time": "2022-03-17T21:04:02.305Z"
   },
   {
    "duration": 31,
    "start_time": "2022-03-17T21:04:02.361Z"
   },
   {
    "duration": 4,
    "start_time": "2022-03-17T21:04:02.394Z"
   },
   {
    "duration": 51,
    "start_time": "2022-03-17T21:04:02.403Z"
   },
   {
    "duration": 18,
    "start_time": "2022-03-17T21:04:02.456Z"
   },
   {
    "duration": 19,
    "start_time": "2022-03-17T21:04:02.476Z"
   },
   {
    "duration": 7,
    "start_time": "2022-03-17T21:04:02.497Z"
   },
   {
    "duration": 42,
    "start_time": "2022-03-17T21:04:02.506Z"
   },
   {
    "duration": 37,
    "start_time": "2022-03-17T21:04:02.550Z"
   },
   {
    "duration": 11,
    "start_time": "2022-03-17T21:04:02.589Z"
   },
   {
    "duration": 57,
    "start_time": "2022-03-17T21:04:02.603Z"
   },
   {
    "duration": 5,
    "start_time": "2022-03-17T21:04:02.662Z"
   },
   {
    "duration": 1189,
    "start_time": "2022-03-17T21:04:02.669Z"
   },
   {
    "duration": 708,
    "start_time": "2022-03-17T21:04:03.861Z"
   },
   {
    "duration": 11,
    "start_time": "2022-03-17T21:04:04.571Z"
   },
   {
    "duration": 900,
    "start_time": "2022-03-17T21:04:04.585Z"
   },
   {
    "duration": 16,
    "start_time": "2022-03-17T21:04:05.487Z"
   },
   {
    "duration": 10,
    "start_time": "2022-03-17T21:04:05.505Z"
   },
   {
    "duration": 44,
    "start_time": "2022-03-17T21:04:05.517Z"
   },
   {
    "duration": 892,
    "start_time": "2022-03-17T21:04:05.563Z"
   },
   {
    "duration": 13,
    "start_time": "2022-03-17T21:04:06.458Z"
   },
   {
    "duration": 874,
    "start_time": "2022-03-17T21:04:06.473Z"
   },
   {
    "duration": 19,
    "start_time": "2022-03-17T21:04:07.349Z"
   },
   {
    "duration": 11,
    "start_time": "2022-03-17T21:04:07.370Z"
   },
   {
    "duration": 15,
    "start_time": "2022-03-17T21:04:07.383Z"
   },
   {
    "duration": 927,
    "start_time": "2022-03-17T21:04:07.401Z"
   },
   {
    "duration": 6,
    "start_time": "2022-03-17T21:04:08.330Z"
   },
   {
    "duration": 9,
    "start_time": "2022-03-17T21:04:08.342Z"
   },
   {
    "duration": 37,
    "start_time": "2022-03-17T21:04:08.353Z"
   },
   {
    "duration": 4931,
    "start_time": "2022-03-17T21:04:08.392Z"
   },
   {
    "duration": 1813,
    "start_time": "2022-03-17T21:04:13.331Z"
   },
   {
    "duration": 29317,
    "start_time": "2022-03-17T21:04:15.147Z"
   },
   {
    "duration": 8395,
    "start_time": "2022-03-17T21:04:44.466Z"
   },
   {
    "duration": 3437,
    "start_time": "2022-03-17T21:04:52.864Z"
   },
   {
    "duration": 0,
    "start_time": "2022-03-17T21:04:56.305Z"
   },
   {
    "duration": 0,
    "start_time": "2022-03-17T21:04:56.306Z"
   },
   {
    "duration": 0,
    "start_time": "2022-03-17T21:04:56.309Z"
   },
   {
    "duration": 0,
    "start_time": "2022-03-17T21:04:56.311Z"
   },
   {
    "duration": 0,
    "start_time": "2022-03-17T21:04:56.313Z"
   },
   {
    "duration": 0,
    "start_time": "2022-03-17T21:04:56.316Z"
   },
   {
    "duration": 0,
    "start_time": "2022-03-17T21:04:56.318Z"
   },
   {
    "duration": 0,
    "start_time": "2022-03-17T21:04:56.321Z"
   },
   {
    "duration": 0,
    "start_time": "2022-03-17T21:04:56.323Z"
   },
   {
    "duration": 9,
    "start_time": "2022-03-17T21:10:08.357Z"
   },
   {
    "duration": 18,
    "start_time": "2022-03-17T21:10:09.091Z"
   },
   {
    "duration": 31,
    "start_time": "2022-03-17T21:10:30.806Z"
   },
   {
    "duration": 7,
    "start_time": "2022-03-17T21:10:43.785Z"
   },
   {
    "duration": 936,
    "start_time": "2022-03-17T21:10:43.795Z"
   },
   {
    "duration": 31,
    "start_time": "2022-03-17T21:10:44.733Z"
   },
   {
    "duration": 20,
    "start_time": "2022-03-17T21:10:44.767Z"
   },
   {
    "duration": 59,
    "start_time": "2022-03-17T21:10:44.789Z"
   },
   {
    "duration": 398,
    "start_time": "2022-03-17T21:10:44.851Z"
   },
   {
    "duration": 25,
    "start_time": "2022-03-17T21:10:45.252Z"
   },
   {
    "duration": 126,
    "start_time": "2022-03-17T21:10:45.279Z"
   },
   {
    "duration": 63,
    "start_time": "2022-03-17T21:10:45.408Z"
   },
   {
    "duration": 22,
    "start_time": "2022-03-17T21:10:45.475Z"
   },
   {
    "duration": 49,
    "start_time": "2022-03-17T21:10:45.499Z"
   },
   {
    "duration": 31,
    "start_time": "2022-03-17T21:10:45.550Z"
   },
   {
    "duration": 4,
    "start_time": "2022-03-17T21:10:45.584Z"
   },
   {
    "duration": 18,
    "start_time": "2022-03-17T21:10:45.590Z"
   },
   {
    "duration": 48,
    "start_time": "2022-03-17T21:10:45.610Z"
   },
   {
    "duration": 16,
    "start_time": "2022-03-17T21:10:45.660Z"
   },
   {
    "duration": 7,
    "start_time": "2022-03-17T21:10:45.679Z"
   },
   {
    "duration": 55,
    "start_time": "2022-03-17T21:10:45.688Z"
   },
   {
    "duration": 32,
    "start_time": "2022-03-17T21:10:45.745Z"
   },
   {
    "duration": 11,
    "start_time": "2022-03-17T21:10:45.780Z"
   },
   {
    "duration": 60,
    "start_time": "2022-03-17T21:10:45.794Z"
   },
   {
    "duration": 5,
    "start_time": "2022-03-17T21:10:45.857Z"
   },
   {
    "duration": 807,
    "start_time": "2022-03-17T21:10:45.865Z"
   },
   {
    "duration": 673,
    "start_time": "2022-03-17T21:10:46.675Z"
   },
   {
    "duration": 12,
    "start_time": "2022-03-17T21:10:47.352Z"
   },
   {
    "duration": 1304,
    "start_time": "2022-03-17T21:10:47.366Z"
   },
   {
    "duration": 15,
    "start_time": "2022-03-17T21:10:48.673Z"
   },
   {
    "duration": 9,
    "start_time": "2022-03-17T21:10:48.696Z"
   },
   {
    "duration": 16,
    "start_time": "2022-03-17T21:10:48.744Z"
   },
   {
    "duration": 861,
    "start_time": "2022-03-17T21:10:48.762Z"
   },
   {
    "duration": 21,
    "start_time": "2022-03-17T21:10:49.625Z"
   },
   {
    "duration": 861,
    "start_time": "2022-03-17T21:10:49.648Z"
   },
   {
    "duration": 32,
    "start_time": "2022-03-17T21:10:50.511Z"
   },
   {
    "duration": 10,
    "start_time": "2022-03-17T21:10:50.545Z"
   },
   {
    "duration": 29,
    "start_time": "2022-03-17T21:10:50.558Z"
   },
   {
    "duration": 884,
    "start_time": "2022-03-17T21:10:50.589Z"
   },
   {
    "duration": 6,
    "start_time": "2022-03-17T21:10:51.475Z"
   },
   {
    "duration": 24,
    "start_time": "2022-03-17T21:10:51.484Z"
   },
   {
    "duration": 51,
    "start_time": "2022-03-17T21:10:51.510Z"
   },
   {
    "duration": 5257,
    "start_time": "2022-03-17T21:10:51.564Z"
   },
   {
    "duration": 2222,
    "start_time": "2022-03-17T21:10:56.823Z"
   },
   {
    "duration": 30231,
    "start_time": "2022-03-17T21:10:59.049Z"
   },
   {
    "duration": 8355,
    "start_time": "2022-03-17T21:11:29.282Z"
   },
   {
    "duration": 9,
    "start_time": "2022-03-17T21:11:37.639Z"
   },
   {
    "duration": 35,
    "start_time": "2022-03-17T21:11:37.650Z"
   },
   {
    "duration": 13,
    "start_time": "2022-03-17T21:11:37.687Z"
   },
   {
    "duration": 21,
    "start_time": "2022-03-17T21:11:37.702Z"
   },
   {
    "duration": 7218,
    "start_time": "2022-03-17T21:11:37.726Z"
   },
   {
    "duration": 0,
    "start_time": "2022-03-17T21:11:44.947Z"
   },
   {
    "duration": 0,
    "start_time": "2022-03-17T21:11:44.949Z"
   },
   {
    "duration": 0,
    "start_time": "2022-03-17T21:11:44.951Z"
   },
   {
    "duration": 0,
    "start_time": "2022-03-17T21:11:44.953Z"
   },
   {
    "duration": 0,
    "start_time": "2022-03-17T21:11:44.954Z"
   },
   {
    "duration": 27,
    "start_time": "2022-03-17T21:14:58.534Z"
   },
   {
    "duration": 21,
    "start_time": "2022-03-17T21:15:19.096Z"
   },
   {
    "duration": 11101,
    "start_time": "2022-03-17T21:15:41.023Z"
   },
   {
    "duration": 28,
    "start_time": "2022-03-17T21:16:12.343Z"
   },
   {
    "duration": 2716,
    "start_time": "2022-03-17T21:18:15.859Z"
   },
   {
    "duration": 7,
    "start_time": "2022-03-17T21:18:24.902Z"
   },
   {
    "duration": 7,
    "start_time": "2022-03-17T21:18:25.860Z"
   },
   {
    "duration": 6,
    "start_time": "2022-03-17T21:18:26.357Z"
   },
   {
    "duration": 18,
    "start_time": "2022-03-17T21:19:58.643Z"
   },
   {
    "duration": 5,
    "start_time": "2022-03-17T21:26:00.097Z"
   },
   {
    "duration": 11609,
    "start_time": "2022-03-17T21:26:58.760Z"
   },
   {
    "duration": 184,
    "start_time": "2022-03-17T21:28:44.753Z"
   },
   {
    "duration": 7791,
    "start_time": "2022-03-17T21:28:53.632Z"
   },
   {
    "duration": 9,
    "start_time": "2022-03-17T21:31:38.182Z"
   },
   {
    "duration": 1015,
    "start_time": "2022-03-17T21:31:38.195Z"
   },
   {
    "duration": 40,
    "start_time": "2022-03-17T21:31:39.213Z"
   },
   {
    "duration": 21,
    "start_time": "2022-03-17T21:31:39.255Z"
   },
   {
    "duration": 25,
    "start_time": "2022-03-17T21:31:39.280Z"
   },
   {
    "duration": 420,
    "start_time": "2022-03-17T21:31:39.307Z"
   },
   {
    "duration": 31,
    "start_time": "2022-03-17T21:31:39.730Z"
   },
   {
    "duration": 116,
    "start_time": "2022-03-17T21:31:39.763Z"
   },
   {
    "duration": 64,
    "start_time": "2022-03-17T21:31:39.881Z"
   },
   {
    "duration": 24,
    "start_time": "2022-03-17T21:31:39.948Z"
   },
   {
    "duration": 28,
    "start_time": "2022-03-17T21:31:39.974Z"
   },
   {
    "duration": 67,
    "start_time": "2022-03-17T21:31:40.004Z"
   },
   {
    "duration": 4,
    "start_time": "2022-03-17T21:31:40.073Z"
   },
   {
    "duration": 19,
    "start_time": "2022-03-17T21:31:40.081Z"
   },
   {
    "duration": 49,
    "start_time": "2022-03-17T21:31:40.103Z"
   },
   {
    "duration": 16,
    "start_time": "2022-03-17T21:31:40.154Z"
   },
   {
    "duration": 8,
    "start_time": "2022-03-17T21:31:40.173Z"
   },
   {
    "duration": 7,
    "start_time": "2022-03-17T21:31:40.183Z"
   },
   {
    "duration": 69,
    "start_time": "2022-03-17T21:31:40.192Z"
   },
   {
    "duration": 19,
    "start_time": "2022-03-17T21:31:40.264Z"
   },
   {
    "duration": 33,
    "start_time": "2022-03-17T21:31:40.285Z"
   },
   {
    "duration": 11,
    "start_time": "2022-03-17T21:31:40.344Z"
   },
   {
    "duration": 27,
    "start_time": "2022-03-17T21:31:40.357Z"
   },
   {
    "duration": 4,
    "start_time": "2022-03-17T21:31:40.387Z"
   },
   {
    "duration": 868,
    "start_time": "2022-03-17T21:31:40.393Z"
   },
   {
    "duration": 671,
    "start_time": "2022-03-17T21:31:41.264Z"
   },
   {
    "duration": 3292,
    "start_time": "2022-03-17T21:31:41.942Z"
   },
   {
    "duration": 0,
    "start_time": "2022-03-17T21:31:45.237Z"
   },
   {
    "duration": 0,
    "start_time": "2022-03-17T21:31:45.239Z"
   },
   {
    "duration": 0,
    "start_time": "2022-03-17T21:31:45.240Z"
   },
   {
    "duration": 0,
    "start_time": "2022-03-17T21:31:45.242Z"
   },
   {
    "duration": 0,
    "start_time": "2022-03-17T21:31:45.243Z"
   },
   {
    "duration": 1,
    "start_time": "2022-03-17T21:31:45.244Z"
   },
   {
    "duration": 0,
    "start_time": "2022-03-17T21:31:45.246Z"
   },
   {
    "duration": 0,
    "start_time": "2022-03-17T21:31:45.247Z"
   },
   {
    "duration": 0,
    "start_time": "2022-03-17T21:31:45.249Z"
   },
   {
    "duration": 0,
    "start_time": "2022-03-17T21:31:45.251Z"
   },
   {
    "duration": 0,
    "start_time": "2022-03-17T21:31:45.253Z"
   },
   {
    "duration": 0,
    "start_time": "2022-03-17T21:31:45.254Z"
   },
   {
    "duration": 0,
    "start_time": "2022-03-17T21:31:45.256Z"
   },
   {
    "duration": 1,
    "start_time": "2022-03-17T21:31:45.258Z"
   },
   {
    "duration": 1,
    "start_time": "2022-03-17T21:31:45.260Z"
   },
   {
    "duration": 0,
    "start_time": "2022-03-17T21:31:45.263Z"
   },
   {
    "duration": 0,
    "start_time": "2022-03-17T21:31:45.265Z"
   },
   {
    "duration": 0,
    "start_time": "2022-03-17T21:31:45.267Z"
   },
   {
    "duration": 0,
    "start_time": "2022-03-17T21:31:45.269Z"
   },
   {
    "duration": 0,
    "start_time": "2022-03-17T21:31:45.272Z"
   },
   {
    "duration": 0,
    "start_time": "2022-03-17T21:31:45.274Z"
   },
   {
    "duration": 0,
    "start_time": "2022-03-17T21:31:45.275Z"
   },
   {
    "duration": 0,
    "start_time": "2022-03-17T21:31:45.277Z"
   },
   {
    "duration": 0,
    "start_time": "2022-03-17T21:31:45.278Z"
   },
   {
    "duration": 0,
    "start_time": "2022-03-17T21:31:45.280Z"
   },
   {
    "duration": 0,
    "start_time": "2022-03-17T21:31:45.281Z"
   },
   {
    "duration": 0,
    "start_time": "2022-03-17T21:31:45.343Z"
   },
   {
    "duration": 3513,
    "start_time": "2022-03-17T21:32:24.099Z"
   },
   {
    "duration": 31,
    "start_time": "2022-03-17T21:59:20.843Z"
   },
   {
    "duration": 8,
    "start_time": "2022-03-17T21:59:29.166Z"
   },
   {
    "duration": 941,
    "start_time": "2022-03-17T21:59:29.177Z"
   },
   {
    "duration": 34,
    "start_time": "2022-03-17T21:59:30.121Z"
   },
   {
    "duration": 19,
    "start_time": "2022-03-17T21:59:30.158Z"
   },
   {
    "duration": 26,
    "start_time": "2022-03-17T21:59:30.180Z"
   },
   {
    "duration": 398,
    "start_time": "2022-03-17T21:59:30.243Z"
   },
   {
    "duration": 24,
    "start_time": "2022-03-17T21:59:30.644Z"
   },
   {
    "duration": 124,
    "start_time": "2022-03-17T21:59:30.671Z"
   },
   {
    "duration": 60,
    "start_time": "2022-03-17T21:59:30.798Z"
   },
   {
    "duration": 26,
    "start_time": "2022-03-17T21:59:30.861Z"
   },
   {
    "duration": 28,
    "start_time": "2022-03-17T21:59:30.889Z"
   },
   {
    "duration": 35,
    "start_time": "2022-03-17T21:59:30.944Z"
   },
   {
    "duration": 5,
    "start_time": "2022-03-17T21:59:30.983Z"
   },
   {
    "duration": 56,
    "start_time": "2022-03-17T21:59:30.995Z"
   },
   {
    "duration": 18,
    "start_time": "2022-03-17T21:59:31.054Z"
   },
   {
    "duration": 21,
    "start_time": "2022-03-17T21:59:31.074Z"
   },
   {
    "duration": 8,
    "start_time": "2022-03-17T21:59:31.098Z"
   },
   {
    "duration": 8,
    "start_time": "2022-03-17T21:59:31.143Z"
   },
   {
    "duration": 6,
    "start_time": "2022-03-17T21:59:31.153Z"
   },
   {
    "duration": 23,
    "start_time": "2022-03-17T21:59:31.162Z"
   },
   {
    "duration": 69,
    "start_time": "2022-03-17T21:59:31.188Z"
   },
   {
    "duration": 13,
    "start_time": "2022-03-17T21:59:31.259Z"
   },
   {
    "duration": 33,
    "start_time": "2022-03-17T21:59:31.275Z"
   },
   {
    "duration": 33,
    "start_time": "2022-03-17T21:59:31.311Z"
   },
   {
    "duration": 870,
    "start_time": "2022-03-17T21:59:31.348Z"
   },
   {
    "duration": 689,
    "start_time": "2022-03-17T21:59:32.220Z"
   },
   {
    "duration": 11,
    "start_time": "2022-03-17T21:59:32.911Z"
   },
   {
    "duration": 1471,
    "start_time": "2022-03-17T21:59:32.924Z"
   },
   {
    "duration": 18,
    "start_time": "2022-03-17T21:59:34.397Z"
   },
   {
    "duration": 29,
    "start_time": "2022-03-17T21:59:34.418Z"
   },
   {
    "duration": 16,
    "start_time": "2022-03-17T21:59:34.450Z"
   },
   {
    "duration": 906,
    "start_time": "2022-03-17T21:59:34.469Z"
   },
   {
    "duration": 13,
    "start_time": "2022-03-17T21:59:35.377Z"
   },
   {
    "duration": 993,
    "start_time": "2022-03-17T21:59:35.392Z"
   },
   {
    "duration": 20,
    "start_time": "2022-03-17T21:59:36.388Z"
   },
   {
    "duration": 37,
    "start_time": "2022-03-17T21:59:36.410Z"
   },
   {
    "duration": 17,
    "start_time": "2022-03-17T21:59:36.450Z"
   },
   {
    "duration": 916,
    "start_time": "2022-03-17T21:59:36.469Z"
   },
   {
    "duration": 6,
    "start_time": "2022-03-17T21:59:37.388Z"
   },
   {
    "duration": 10,
    "start_time": "2022-03-17T21:59:37.396Z"
   },
   {
    "duration": 53,
    "start_time": "2022-03-17T21:59:37.412Z"
   },
   {
    "duration": 5153,
    "start_time": "2022-03-17T21:59:37.467Z"
   },
   {
    "duration": 2030,
    "start_time": "2022-03-17T21:59:42.622Z"
   },
   {
    "duration": 29507,
    "start_time": "2022-03-17T21:59:44.745Z"
   },
   {
    "duration": 8380,
    "start_time": "2022-03-17T22:00:14.254Z"
   },
   {
    "duration": 8,
    "start_time": "2022-03-17T22:00:22.637Z"
   },
   {
    "duration": 32,
    "start_time": "2022-03-17T22:00:22.648Z"
   },
   {
    "duration": 6,
    "start_time": "2022-03-17T22:00:22.683Z"
   },
   {
    "duration": 8140,
    "start_time": "2022-03-17T22:00:22.691Z"
   },
   {
    "duration": 0,
    "start_time": "2022-03-17T22:00:30.833Z"
   },
   {
    "duration": 0,
    "start_time": "2022-03-17T22:00:30.835Z"
   },
   {
    "duration": 0,
    "start_time": "2022-03-17T22:00:30.843Z"
   },
   {
    "duration": 0,
    "start_time": "2022-03-17T22:00:30.845Z"
   },
   {
    "duration": 0,
    "start_time": "2022-03-17T22:00:30.847Z"
   },
   {
    "duration": 7763,
    "start_time": "2022-03-17T22:00:54.911Z"
   },
   {
    "duration": 32,
    "start_time": "2022-03-17T22:01:45.113Z"
   },
   {
    "duration": 27,
    "start_time": "2022-03-17T22:02:49.617Z"
   },
   {
    "duration": 12,
    "start_time": "2022-03-17T22:04:10.691Z"
   },
   {
    "duration": 6,
    "start_time": "2022-03-17T22:04:30.910Z"
   },
   {
    "duration": 11,
    "start_time": "2022-03-17T22:04:58.821Z"
   },
   {
    "duration": 22706,
    "start_time": "2022-03-17T22:06:38.730Z"
   },
   {
    "duration": 30,
    "start_time": "2022-03-17T22:11:05.376Z"
   },
   {
    "duration": 9,
    "start_time": "2022-03-17T22:11:21.578Z"
   },
   {
    "duration": 61,
    "start_time": "2022-03-17T22:11:49.118Z"
   },
   {
    "duration": 8,
    "start_time": "2022-03-17T22:12:19.816Z"
   },
   {
    "duration": 6,
    "start_time": "2022-03-17T22:12:22.413Z"
   },
   {
    "duration": 26,
    "start_time": "2022-03-17T22:18:33.018Z"
   },
   {
    "duration": 19,
    "start_time": "2022-03-17T22:21:06.809Z"
   },
   {
    "duration": 16,
    "start_time": "2022-03-17T22:41:50.633Z"
   },
   {
    "duration": 4,
    "start_time": "2022-03-17T22:44:09.307Z"
   },
   {
    "duration": 9,
    "start_time": "2022-03-17T22:45:02.772Z"
   },
   {
    "duration": 922,
    "start_time": "2022-03-17T22:45:02.784Z"
   },
   {
    "duration": 41,
    "start_time": "2022-03-17T22:45:03.708Z"
   },
   {
    "duration": 20,
    "start_time": "2022-03-17T22:45:03.751Z"
   },
   {
    "duration": 23,
    "start_time": "2022-03-17T22:45:03.775Z"
   },
   {
    "duration": 415,
    "start_time": "2022-03-17T22:45:03.801Z"
   },
   {
    "duration": 31,
    "start_time": "2022-03-17T22:45:04.218Z"
   },
   {
    "duration": 114,
    "start_time": "2022-03-17T22:45:04.251Z"
   },
   {
    "duration": 34,
    "start_time": "2022-03-17T22:45:04.368Z"
   },
   {
    "duration": 50,
    "start_time": "2022-03-17T22:45:04.405Z"
   },
   {
    "duration": 39,
    "start_time": "2022-03-17T22:45:04.457Z"
   },
   {
    "duration": 67,
    "start_time": "2022-03-17T22:45:04.499Z"
   },
   {
    "duration": 5,
    "start_time": "2022-03-17T22:45:04.569Z"
   },
   {
    "duration": 22,
    "start_time": "2022-03-17T22:45:04.580Z"
   },
   {
    "duration": 51,
    "start_time": "2022-03-17T22:45:04.605Z"
   },
   {
    "duration": 21,
    "start_time": "2022-03-17T22:45:04.659Z"
   },
   {
    "duration": 7,
    "start_time": "2022-03-17T22:45:04.682Z"
   },
   {
    "duration": 9,
    "start_time": "2022-03-17T22:45:04.692Z"
   },
   {
    "duration": 4,
    "start_time": "2022-03-17T22:45:04.743Z"
   },
   {
    "duration": 20,
    "start_time": "2022-03-17T22:45:04.750Z"
   },
   {
    "duration": 41,
    "start_time": "2022-03-17T22:45:04.773Z"
   },
   {
    "duration": 18,
    "start_time": "2022-03-17T22:45:04.816Z"
   },
   {
    "duration": 30,
    "start_time": "2022-03-17T22:45:04.836Z"
   },
   {
    "duration": 5,
    "start_time": "2022-03-17T22:45:04.868Z"
   },
   {
    "duration": 804,
    "start_time": "2022-03-17T22:45:04.875Z"
   },
   {
    "duration": 665,
    "start_time": "2022-03-17T22:45:05.681Z"
   },
   {
    "duration": 12,
    "start_time": "2022-03-17T22:45:06.348Z"
   },
   {
    "duration": 882,
    "start_time": "2022-03-17T22:45:06.362Z"
   },
   {
    "duration": 14,
    "start_time": "2022-03-17T22:45:07.246Z"
   },
   {
    "duration": 9,
    "start_time": "2022-03-17T22:45:07.262Z"
   },
   {
    "duration": 14,
    "start_time": "2022-03-17T22:45:07.273Z"
   },
   {
    "duration": 917,
    "start_time": "2022-03-17T22:45:07.289Z"
   },
   {
    "duration": 13,
    "start_time": "2022-03-17T22:45:08.208Z"
   },
   {
    "duration": 888,
    "start_time": "2022-03-17T22:45:08.223Z"
   },
   {
    "duration": 34,
    "start_time": "2022-03-17T22:45:09.113Z"
   },
   {
    "duration": 11,
    "start_time": "2022-03-17T22:45:09.149Z"
   },
   {
    "duration": 16,
    "start_time": "2022-03-17T22:45:09.162Z"
   },
   {
    "duration": 1577,
    "start_time": "2022-03-17T22:45:09.180Z"
   },
   {
    "duration": 6,
    "start_time": "2022-03-17T22:45:10.761Z"
   },
   {
    "duration": 11,
    "start_time": "2022-03-17T22:45:10.770Z"
   },
   {
    "duration": 62,
    "start_time": "2022-03-17T22:45:10.789Z"
   },
   {
    "duration": 7515,
    "start_time": "2022-03-17T22:45:10.854Z"
   },
   {
    "duration": 2078,
    "start_time": "2022-03-17T22:45:18.372Z"
   },
   {
    "duration": 28927,
    "start_time": "2022-03-17T22:45:20.454Z"
   },
   {
    "duration": 8913,
    "start_time": "2022-03-17T22:45:49.383Z"
   },
   {
    "duration": 28,
    "start_time": "2022-03-17T22:45:58.298Z"
   },
   {
    "duration": 3363,
    "start_time": "2022-03-17T22:45:58.328Z"
   },
   {
    "duration": 0,
    "start_time": "2022-03-17T22:46:01.695Z"
   },
   {
    "duration": 0,
    "start_time": "2022-03-17T22:46:01.696Z"
   },
   {
    "duration": 0,
    "start_time": "2022-03-17T22:46:01.698Z"
   },
   {
    "duration": 0,
    "start_time": "2022-03-17T22:46:01.701Z"
   },
   {
    "duration": 0,
    "start_time": "2022-03-17T22:46:01.703Z"
   },
   {
    "duration": 0,
    "start_time": "2022-03-17T22:46:01.704Z"
   },
   {
    "duration": 0,
    "start_time": "2022-03-17T22:46:01.706Z"
   },
   {
    "duration": 20,
    "start_time": "2022-03-17T22:51:06.164Z"
   },
   {
    "duration": 8,
    "start_time": "2022-03-17T22:51:10.454Z"
   },
   {
    "duration": 15,
    "start_time": "2022-03-17T22:51:15.868Z"
   },
   {
    "duration": 5,
    "start_time": "2022-03-17T22:51:17.427Z"
   },
   {
    "duration": 14751,
    "start_time": "2022-03-17T22:51:25.783Z"
   },
   {
    "duration": 23,
    "start_time": "2022-03-17T22:51:40.536Z"
   },
   {
    "duration": 8,
    "start_time": "2022-03-17T22:53:13.237Z"
   },
   {
    "duration": 20,
    "start_time": "2022-03-17T22:53:18.345Z"
   },
   {
    "duration": 8,
    "start_time": "2022-03-17T22:53:30.063Z"
   },
   {
    "duration": 16,
    "start_time": "2022-03-17T22:53:31.767Z"
   },
   {
    "duration": 5,
    "start_time": "2022-03-17T22:53:32.568Z"
   },
   {
    "duration": 11941,
    "start_time": "2022-03-17T22:53:35.778Z"
   },
   {
    "duration": 21,
    "start_time": "2022-03-17T22:53:49.934Z"
   },
   {
    "duration": 6,
    "start_time": "2022-03-17T22:54:26.920Z"
   },
   {
    "duration": 6,
    "start_time": "2022-03-17T22:54:38.317Z"
   },
   {
    "duration": 6,
    "start_time": "2022-03-17T22:54:39.475Z"
   },
   {
    "duration": 9,
    "start_time": "2022-03-17T22:54:59.519Z"
   },
   {
    "duration": 6,
    "start_time": "2022-03-17T22:55:32.121Z"
   },
   {
    "duration": 5,
    "start_time": "2022-03-17T22:56:06.884Z"
   },
   {
    "duration": 8,
    "start_time": "2022-03-17T22:57:20.641Z"
   },
   {
    "duration": 9,
    "start_time": "2022-03-17T22:57:31.726Z"
   },
   {
    "duration": 8,
    "start_time": "2022-03-17T22:57:34.550Z"
   },
   {
    "duration": 8,
    "start_time": "2022-03-17T22:57:35.583Z"
   },
   {
    "duration": 7,
    "start_time": "2022-03-17T23:07:06.964Z"
   },
   {
    "duration": 1387,
    "start_time": "2022-03-17T23:07:06.974Z"
   },
   {
    "duration": 41,
    "start_time": "2022-03-17T23:07:08.364Z"
   },
   {
    "duration": 44,
    "start_time": "2022-03-17T23:07:08.407Z"
   },
   {
    "duration": 25,
    "start_time": "2022-03-17T23:07:08.455Z"
   },
   {
    "duration": 408,
    "start_time": "2022-03-17T23:07:08.482Z"
   },
   {
    "duration": 23,
    "start_time": "2022-03-17T23:07:08.893Z"
   },
   {
    "duration": 158,
    "start_time": "2022-03-17T23:07:08.919Z"
   },
   {
    "duration": 40,
    "start_time": "2022-03-17T23:07:09.080Z"
   },
   {
    "duration": 40,
    "start_time": "2022-03-17T23:07:09.122Z"
   },
   {
    "duration": 27,
    "start_time": "2022-03-17T23:07:09.164Z"
   },
   {
    "duration": 66,
    "start_time": "2022-03-17T23:07:09.193Z"
   },
   {
    "duration": 4,
    "start_time": "2022-03-17T23:07:09.261Z"
   },
   {
    "duration": 19,
    "start_time": "2022-03-17T23:07:09.270Z"
   },
   {
    "duration": 17,
    "start_time": "2022-03-17T23:07:09.291Z"
   },
   {
    "duration": 48,
    "start_time": "2022-03-17T23:07:09.310Z"
   },
   {
    "duration": 8,
    "start_time": "2022-03-17T23:07:09.360Z"
   },
   {
    "duration": 12,
    "start_time": "2022-03-17T23:07:09.371Z"
   },
   {
    "duration": 10,
    "start_time": "2022-03-17T23:07:09.386Z"
   },
   {
    "duration": 44,
    "start_time": "2022-03-17T23:07:09.399Z"
   },
   {
    "duration": 51,
    "start_time": "2022-03-17T23:07:09.446Z"
   },
   {
    "duration": 11,
    "start_time": "2022-03-17T23:07:09.500Z"
   },
   {
    "duration": 39,
    "start_time": "2022-03-17T23:07:09.513Z"
   },
   {
    "duration": 4,
    "start_time": "2022-03-17T23:07:09.555Z"
   },
   {
    "duration": 1181,
    "start_time": "2022-03-17T23:07:09.562Z"
   },
   {
    "duration": 668,
    "start_time": "2022-03-17T23:07:10.745Z"
   },
   {
    "duration": 12,
    "start_time": "2022-03-17T23:07:11.416Z"
   },
   {
    "duration": 866,
    "start_time": "2022-03-17T23:07:11.443Z"
   },
   {
    "duration": 14,
    "start_time": "2022-03-17T23:07:12.311Z"
   },
   {
    "duration": 22,
    "start_time": "2022-03-17T23:07:12.327Z"
   },
   {
    "duration": 14,
    "start_time": "2022-03-17T23:07:12.351Z"
   },
   {
    "duration": 981,
    "start_time": "2022-03-17T23:07:12.368Z"
   },
   {
    "duration": 12,
    "start_time": "2022-03-17T23:07:13.351Z"
   },
   {
    "duration": 978,
    "start_time": "2022-03-17T23:07:13.365Z"
   },
   {
    "duration": 21,
    "start_time": "2022-03-17T23:07:14.345Z"
   },
   {
    "duration": 10,
    "start_time": "2022-03-17T23:07:14.369Z"
   },
   {
    "duration": 21,
    "start_time": "2022-03-17T23:07:14.381Z"
   },
   {
    "duration": 1418,
    "start_time": "2022-03-17T23:07:14.404Z"
   },
   {
    "duration": 7,
    "start_time": "2022-03-17T23:07:15.825Z"
   },
   {
    "duration": 41,
    "start_time": "2022-03-17T23:07:15.835Z"
   },
   {
    "duration": 23,
    "start_time": "2022-03-17T23:07:15.884Z"
   },
   {
    "duration": 34,
    "start_time": "2022-03-17T23:07:15.910Z"
   },
   {
    "duration": 23,
    "start_time": "2022-03-17T23:07:15.947Z"
   },
   {
    "duration": 3954,
    "start_time": "2022-03-17T23:07:15.972Z"
   },
   {
    "duration": 1220,
    "start_time": "2022-03-17T23:07:19.929Z"
   },
   {
    "duration": 22172,
    "start_time": "2022-03-17T23:07:21.244Z"
   },
   {
    "duration": 7136,
    "start_time": "2022-03-17T23:07:43.419Z"
   },
   {
    "duration": 7,
    "start_time": "2022-03-17T23:07:50.557Z"
   },
   {
    "duration": 19,
    "start_time": "2022-03-17T23:07:50.566Z"
   },
   {
    "duration": 5,
    "start_time": "2022-03-17T23:07:50.587Z"
   },
   {
    "duration": 12419,
    "start_time": "2022-03-17T23:07:50.594Z"
   },
   {
    "duration": 30,
    "start_time": "2022-03-17T23:08:03.015Z"
   },
   {
    "duration": 6,
    "start_time": "2022-03-17T23:08:03.047Z"
   },
   {
    "duration": 7,
    "start_time": "2022-03-17T23:08:03.055Z"
   },
   {
    "duration": 6,
    "start_time": "2022-03-17T23:08:03.065Z"
   },
   {
    "duration": 7,
    "start_time": "2022-03-17T23:08:03.073Z"
   },
   {
    "duration": 156,
    "start_time": "2022-03-17T23:11:35.091Z"
   },
   {
    "duration": 12,
    "start_time": "2022-03-17T23:11:52.189Z"
   },
   {
    "duration": 163,
    "start_time": "2022-03-17T23:12:04.294Z"
   },
   {
    "duration": 14,
    "start_time": "2022-03-17T23:12:05.693Z"
   },
   {
    "duration": 5,
    "start_time": "2022-03-17T23:12:15.605Z"
   },
   {
    "duration": 6,
    "start_time": "2022-03-17T23:12:30.335Z"
   },
   {
    "duration": 6,
    "start_time": "2022-03-17T23:12:44.903Z"
   },
   {
    "duration": 6,
    "start_time": "2022-03-17T23:12:58.586Z"
   },
   {
    "duration": 6,
    "start_time": "2022-03-17T23:13:45.834Z"
   },
   {
    "duration": 15,
    "start_time": "2022-03-17T23:14:09.807Z"
   },
   {
    "duration": 261,
    "start_time": "2022-03-17T23:14:27.984Z"
   },
   {
    "duration": 14,
    "start_time": "2022-03-17T23:14:39.439Z"
   },
   {
    "duration": 7,
    "start_time": "2022-03-17T23:15:06.658Z"
   },
   {
    "duration": 6,
    "start_time": "2022-03-17T23:15:16.973Z"
   },
   {
    "duration": 5,
    "start_time": "2022-03-17T23:15:22.431Z"
   },
   {
    "duration": 13,
    "start_time": "2022-03-17T23:16:20.812Z"
   },
   {
    "duration": 8,
    "start_time": "2022-03-17T23:16:41.490Z"
   },
   {
    "duration": 7,
    "start_time": "2022-03-17T23:16:46.749Z"
   },
   {
    "duration": 7,
    "start_time": "2022-03-17T23:16:55.728Z"
   },
   {
    "duration": 9,
    "start_time": "2022-03-17T23:17:01.984Z"
   },
   {
    "duration": 7,
    "start_time": "2022-03-17T23:17:09.045Z"
   },
   {
    "duration": 4,
    "start_time": "2022-03-17T23:20:54.703Z"
   },
   {
    "duration": 3,
    "start_time": "2022-03-17T23:20:59.777Z"
   },
   {
    "duration": 3,
    "start_time": "2022-03-17T23:21:17.514Z"
   },
   {
    "duration": 9,
    "start_time": "2022-03-17T23:30:04.673Z"
   },
   {
    "duration": 965,
    "start_time": "2022-03-17T23:30:04.685Z"
   },
   {
    "duration": 31,
    "start_time": "2022-03-17T23:30:05.652Z"
   },
   {
    "duration": 20,
    "start_time": "2022-03-17T23:30:05.686Z"
   },
   {
    "duration": 56,
    "start_time": "2022-03-17T23:30:05.709Z"
   },
   {
    "duration": 400,
    "start_time": "2022-03-17T23:30:05.767Z"
   },
   {
    "duration": 23,
    "start_time": "2022-03-17T23:30:06.169Z"
   },
   {
    "duration": 116,
    "start_time": "2022-03-17T23:30:06.195Z"
   },
   {
    "duration": 56,
    "start_time": "2022-03-17T23:30:06.313Z"
   },
   {
    "duration": 22,
    "start_time": "2022-03-17T23:30:06.372Z"
   },
   {
    "duration": 51,
    "start_time": "2022-03-17T23:30:06.396Z"
   },
   {
    "duration": 33,
    "start_time": "2022-03-17T23:30:06.449Z"
   },
   {
    "duration": 4,
    "start_time": "2022-03-17T23:30:06.484Z"
   },
   {
    "duration": 16,
    "start_time": "2022-03-17T23:30:06.493Z"
   },
   {
    "duration": 47,
    "start_time": "2022-03-17T23:30:06.511Z"
   },
   {
    "duration": 14,
    "start_time": "2022-03-17T23:30:06.561Z"
   },
   {
    "duration": 7,
    "start_time": "2022-03-17T23:30:06.578Z"
   },
   {
    "duration": 7,
    "start_time": "2022-03-17T23:30:06.587Z"
   },
   {
    "duration": 47,
    "start_time": "2022-03-17T23:30:06.596Z"
   },
   {
    "duration": 8,
    "start_time": "2022-03-17T23:30:06.645Z"
   },
   {
    "duration": 7,
    "start_time": "2022-03-17T23:30:06.655Z"
   },
   {
    "duration": 12,
    "start_time": "2022-03-17T23:30:06.664Z"
   },
   {
    "duration": 5,
    "start_time": "2022-03-17T23:30:06.678Z"
   },
   {
    "duration": 5,
    "start_time": "2022-03-17T23:30:06.686Z"
   },
   {
    "duration": 799,
    "start_time": "2022-03-17T23:30:06.693Z"
   },
   {
    "duration": 754,
    "start_time": "2022-03-17T23:30:07.495Z"
   },
   {
    "duration": 10,
    "start_time": "2022-03-17T23:30:08.252Z"
   },
   {
    "duration": 940,
    "start_time": "2022-03-17T23:30:08.264Z"
   },
   {
    "duration": 18,
    "start_time": "2022-03-17T23:30:09.207Z"
   },
   {
    "duration": 22,
    "start_time": "2022-03-17T23:30:09.227Z"
   },
   {
    "duration": 14,
    "start_time": "2022-03-17T23:30:09.251Z"
   },
   {
    "duration": 969,
    "start_time": "2022-03-17T23:30:09.267Z"
   },
   {
    "duration": 13,
    "start_time": "2022-03-17T23:30:10.238Z"
   },
   {
    "duration": 1586,
    "start_time": "2022-03-17T23:30:10.253Z"
   },
   {
    "duration": 21,
    "start_time": "2022-03-17T23:30:11.843Z"
   },
   {
    "duration": 9,
    "start_time": "2022-03-17T23:30:11.867Z"
   },
   {
    "duration": 16,
    "start_time": "2022-03-17T23:30:11.878Z"
   },
   {
    "duration": 1083,
    "start_time": "2022-03-17T23:30:11.897Z"
   },
   {
    "duration": 6,
    "start_time": "2022-03-17T23:30:12.982Z"
   },
   {
    "duration": 28,
    "start_time": "2022-03-17T23:30:12.990Z"
   },
   {
    "duration": 17,
    "start_time": "2022-03-17T23:30:13.045Z"
   },
   {
    "duration": 9,
    "start_time": "2022-03-17T23:30:13.065Z"
   },
   {
    "duration": 26,
    "start_time": "2022-03-17T23:30:13.076Z"
   },
   {
    "duration": 3944,
    "start_time": "2022-03-17T23:30:13.104Z"
   },
   {
    "duration": 1195,
    "start_time": "2022-03-17T23:30:17.050Z"
   },
   {
    "duration": 21155,
    "start_time": "2022-03-17T23:30:18.248Z"
   },
   {
    "duration": 7031,
    "start_time": "2022-03-17T23:30:39.406Z"
   },
   {
    "duration": 8,
    "start_time": "2022-03-17T23:30:46.440Z"
   },
   {
    "duration": 16,
    "start_time": "2022-03-17T23:30:46.450Z"
   },
   {
    "duration": 282,
    "start_time": "2022-03-17T23:30:46.468Z"
   },
   {
    "duration": 100,
    "start_time": "2022-03-17T23:30:46.753Z"
   },
   {
    "duration": 97,
    "start_time": "2022-03-17T23:30:46.947Z"
   },
   {
    "duration": 9,
    "start_time": "2022-03-17T23:30:47.047Z"
   },
   {
    "duration": 7,
    "start_time": "2022-03-17T23:30:47.058Z"
   },
   {
    "duration": 6,
    "start_time": "2022-03-17T23:30:47.068Z"
   },
   {
    "duration": 6,
    "start_time": "2022-03-17T23:30:47.077Z"
   },
   {
    "duration": 5,
    "start_time": "2022-03-17T23:30:47.085Z"
   },
   {
    "duration": 53,
    "start_time": "2022-03-17T23:30:47.093Z"
   },
   {
    "duration": 3194,
    "start_time": "2022-03-18T21:25:31.162Z"
   },
   {
    "duration": 904,
    "start_time": "2022-03-18T21:25:34.359Z"
   },
   {
    "duration": 33,
    "start_time": "2022-03-18T21:25:35.266Z"
   },
   {
    "duration": 21,
    "start_time": "2022-03-18T21:25:35.304Z"
   },
   {
    "duration": 65,
    "start_time": "2022-03-18T21:25:35.328Z"
   },
   {
    "duration": 418,
    "start_time": "2022-03-18T21:25:35.395Z"
   },
   {
    "duration": 23,
    "start_time": "2022-03-18T21:25:35.816Z"
   },
   {
    "duration": 134,
    "start_time": "2022-03-18T21:25:35.841Z"
   },
   {
    "duration": 42,
    "start_time": "2022-03-18T21:25:35.978Z"
   },
   {
    "duration": 22,
    "start_time": "2022-03-18T21:25:36.024Z"
   },
   {
    "duration": 31,
    "start_time": "2022-03-18T21:25:36.073Z"
   },
   {
    "duration": 32,
    "start_time": "2022-03-18T21:25:36.107Z"
   },
   {
    "duration": 33,
    "start_time": "2022-03-18T21:25:36.141Z"
   },
   {
    "duration": 24,
    "start_time": "2022-03-18T21:25:36.177Z"
   },
   {
    "duration": 20,
    "start_time": "2022-03-18T21:25:36.204Z"
   },
   {
    "duration": 47,
    "start_time": "2022-03-18T21:25:36.227Z"
   },
   {
    "duration": 10,
    "start_time": "2022-03-18T21:25:36.277Z"
   },
   {
    "duration": 10,
    "start_time": "2022-03-18T21:25:36.289Z"
   },
   {
    "duration": 6,
    "start_time": "2022-03-18T21:25:36.301Z"
   },
   {
    "duration": 6,
    "start_time": "2022-03-18T21:25:36.309Z"
   },
   {
    "duration": 16,
    "start_time": "2022-03-18T21:25:36.317Z"
   },
   {
    "duration": 10,
    "start_time": "2022-03-18T21:25:36.335Z"
   },
   {
    "duration": 29,
    "start_time": "2022-03-18T21:25:36.347Z"
   },
   {
    "duration": 15,
    "start_time": "2022-03-18T21:25:36.379Z"
   },
   {
    "duration": 881,
    "start_time": "2022-03-18T21:25:36.396Z"
   },
   {
    "duration": 787,
    "start_time": "2022-03-18T21:25:37.279Z"
   },
   {
    "duration": 13,
    "start_time": "2022-03-18T21:25:38.068Z"
   },
   {
    "duration": 1398,
    "start_time": "2022-03-18T21:25:38.087Z"
   },
   {
    "duration": 21,
    "start_time": "2022-03-18T21:25:39.488Z"
   },
   {
    "duration": 12,
    "start_time": "2022-03-18T21:25:39.512Z"
   },
   {
    "duration": 61,
    "start_time": "2022-03-18T21:25:39.527Z"
   },
   {
    "duration": 912,
    "start_time": "2022-03-18T21:25:39.591Z"
   },
   {
    "duration": 13,
    "start_time": "2022-03-18T21:25:40.507Z"
   },
   {
    "duration": 1446,
    "start_time": "2022-03-18T21:25:40.523Z"
   },
   {
    "duration": 23,
    "start_time": "2022-03-18T21:25:41.974Z"
   },
   {
    "duration": 10,
    "start_time": "2022-03-18T21:25:42.001Z"
   },
   {
    "duration": 16,
    "start_time": "2022-03-18T21:25:42.013Z"
   },
   {
    "duration": 947,
    "start_time": "2022-03-18T21:25:42.031Z"
   },
   {
    "duration": 5,
    "start_time": "2022-03-18T21:25:42.981Z"
   },
   {
    "duration": 28,
    "start_time": "2022-03-18T21:25:42.988Z"
   },
   {
    "duration": 19,
    "start_time": "2022-03-18T21:25:43.020Z"
   },
   {
    "duration": 8,
    "start_time": "2022-03-18T21:25:43.075Z"
   },
   {
    "duration": 24,
    "start_time": "2022-03-18T21:25:43.086Z"
   },
   {
    "duration": 3947,
    "start_time": "2022-03-18T21:25:43.112Z"
   },
   {
    "duration": 1618,
    "start_time": "2022-03-18T21:25:47.061Z"
   },
   {
    "duration": 31930,
    "start_time": "2022-03-18T21:25:48.683Z"
   },
   {
    "duration": 5567,
    "start_time": "2022-03-18T21:26:20.616Z"
   },
   {
    "duration": 8,
    "start_time": "2022-03-18T21:26:26.185Z"
   },
   {
    "duration": 17,
    "start_time": "2022-03-18T21:26:26.195Z"
   },
   {
    "duration": 560,
    "start_time": "2022-03-18T21:26:26.214Z"
   },
   {
    "duration": 99,
    "start_time": "2022-03-18T21:26:26.779Z"
   },
   {
    "duration": 9,
    "start_time": "2022-03-18T21:26:26.881Z"
   },
   {
    "duration": 99,
    "start_time": "2022-03-18T21:26:26.975Z"
   },
   {
    "duration": 7,
    "start_time": "2022-03-18T21:26:27.078Z"
   },
   {
    "duration": 8,
    "start_time": "2022-03-18T21:26:27.087Z"
   },
   {
    "duration": 6,
    "start_time": "2022-03-18T21:26:27.097Z"
   },
   {
    "duration": 9,
    "start_time": "2022-03-18T21:26:27.105Z"
   },
   {
    "duration": 7,
    "start_time": "2022-03-18T21:26:27.116Z"
   },
   {
    "duration": 670,
    "start_time": "2022-03-18T21:55:11.260Z"
   },
   {
    "duration": 3877,
    "start_time": "2022-03-18T22:31:24.356Z"
   },
   {
    "duration": 3741,
    "start_time": "2022-03-18T22:31:34.093Z"
   },
   {
    "duration": 3813,
    "start_time": "2022-03-18T22:32:53.117Z"
   },
   {
    "duration": 1920,
    "start_time": "2022-03-18T22:34:39.334Z"
   },
   {
    "duration": 161,
    "start_time": "2022-03-18T22:37:24.383Z"
   },
   {
    "duration": 7,
    "start_time": "2022-03-18T22:37:29.517Z"
   },
   {
    "duration": 9,
    "start_time": "2022-03-18T22:43:57.529Z"
   },
   {
    "duration": 8,
    "start_time": "2022-03-18T22:44:09.416Z"
   },
   {
    "duration": 7,
    "start_time": "2022-03-18T22:45:03.057Z"
   },
   {
    "duration": 3732,
    "start_time": "2022-03-18T22:45:06.673Z"
   },
   {
    "duration": 40,
    "start_time": "2022-03-18T22:45:33.353Z"
   },
   {
    "duration": 4592,
    "start_time": "2022-03-18T22:48:16.714Z"
   },
   {
    "duration": 72,
    "start_time": "2022-03-19T05:44:14.150Z"
   },
   {
    "duration": 2190,
    "start_time": "2022-03-19T05:44:18.285Z"
   },
   {
    "duration": 874,
    "start_time": "2022-03-19T05:44:20.478Z"
   },
   {
    "duration": 31,
    "start_time": "2022-03-19T05:44:21.354Z"
   },
   {
    "duration": 20,
    "start_time": "2022-03-19T05:44:21.388Z"
   },
   {
    "duration": 23,
    "start_time": "2022-03-19T05:44:21.410Z"
   },
   {
    "duration": 388,
    "start_time": "2022-03-19T05:44:21.468Z"
   },
   {
    "duration": 25,
    "start_time": "2022-03-19T05:44:21.859Z"
   },
   {
    "duration": 116,
    "start_time": "2022-03-19T05:44:21.887Z"
   },
   {
    "duration": 27,
    "start_time": "2022-03-19T05:44:22.006Z"
   },
   {
    "duration": 48,
    "start_time": "2022-03-19T05:44:22.036Z"
   },
   {
    "duration": 29,
    "start_time": "2022-03-19T05:44:22.086Z"
   },
   {
    "duration": 56,
    "start_time": "2022-03-19T05:44:22.118Z"
   },
   {
    "duration": 4,
    "start_time": "2022-03-19T05:44:22.177Z"
   },
   {
    "duration": 22,
    "start_time": "2022-03-19T05:44:22.184Z"
   },
   {
    "duration": 15,
    "start_time": "2022-03-19T05:44:22.209Z"
   },
   {
    "duration": 47,
    "start_time": "2022-03-19T05:44:22.227Z"
   },
   {
    "duration": 8,
    "start_time": "2022-03-19T05:44:22.276Z"
   },
   {
    "duration": 7,
    "start_time": "2022-03-19T05:44:22.286Z"
   },
   {
    "duration": 5,
    "start_time": "2022-03-19T05:44:22.295Z"
   },
   {
    "duration": 4,
    "start_time": "2022-03-19T05:44:22.302Z"
   },
   {
    "duration": 4,
    "start_time": "2022-03-19T05:44:22.309Z"
   },
   {
    "duration": 5,
    "start_time": "2022-03-19T05:44:22.315Z"
   },
   {
    "duration": 3,
    "start_time": "2022-03-19T05:44:22.368Z"
   },
   {
    "duration": 6,
    "start_time": "2022-03-19T05:44:22.373Z"
   },
   {
    "duration": 786,
    "start_time": "2022-03-19T05:44:22.381Z"
   },
   {
    "duration": 757,
    "start_time": "2022-03-19T05:44:23.169Z"
   },
   {
    "duration": 11,
    "start_time": "2022-03-19T05:44:23.929Z"
   },
   {
    "duration": 931,
    "start_time": "2022-03-19T05:44:23.946Z"
   },
   {
    "duration": 24,
    "start_time": "2022-03-19T05:44:24.880Z"
   },
   {
    "duration": 14,
    "start_time": "2022-03-19T05:44:24.907Z"
   },
   {
    "duration": 58,
    "start_time": "2022-03-19T05:44:24.923Z"
   },
   {
    "duration": 870,
    "start_time": "2022-03-19T05:44:24.984Z"
   },
   {
    "duration": 18,
    "start_time": "2022-03-19T05:44:25.857Z"
   },
   {
    "duration": 982,
    "start_time": "2022-03-19T05:44:25.877Z"
   },
   {
    "duration": 22,
    "start_time": "2022-03-19T05:44:26.861Z"
   },
   {
    "duration": 11,
    "start_time": "2022-03-19T05:44:26.885Z"
   },
   {
    "duration": 24,
    "start_time": "2022-03-19T05:44:26.898Z"
   },
   {
    "duration": 843,
    "start_time": "2022-03-19T05:44:26.924Z"
   },
   {
    "duration": 5,
    "start_time": "2022-03-19T05:44:27.770Z"
   },
   {
    "duration": 29,
    "start_time": "2022-03-19T05:44:27.777Z"
   },
   {
    "duration": 19,
    "start_time": "2022-03-19T05:44:27.809Z"
   },
   {
    "duration": 43,
    "start_time": "2022-03-19T05:44:27.830Z"
   },
   {
    "duration": 28,
    "start_time": "2022-03-19T05:44:27.876Z"
   },
   {
    "duration": 4645,
    "start_time": "2022-03-19T05:44:27.906Z"
   },
   {
    "duration": 1521,
    "start_time": "2022-03-19T05:44:32.554Z"
   },
   {
    "duration": 28740,
    "start_time": "2022-03-19T05:44:34.079Z"
   },
   {
    "duration": 5963,
    "start_time": "2022-03-19T05:45:02.822Z"
   },
   {
    "duration": 8,
    "start_time": "2022-03-19T05:45:08.788Z"
   },
   {
    "duration": 16,
    "start_time": "2022-03-19T05:45:08.799Z"
   },
   {
    "duration": 356,
    "start_time": "2022-03-19T05:45:08.817Z"
   },
   {
    "duration": 192,
    "start_time": "2022-03-19T05:45:09.177Z"
   },
   {
    "duration": 99,
    "start_time": "2022-03-19T05:45:09.373Z"
   },
   {
    "duration": 8,
    "start_time": "2022-03-19T05:45:09.475Z"
   },
   {
    "duration": 8,
    "start_time": "2022-03-19T05:45:09.487Z"
   },
   {
    "duration": 70,
    "start_time": "2022-03-19T05:45:09.497Z"
   },
   {
    "duration": 6,
    "start_time": "2022-03-19T05:45:09.570Z"
   },
   {
    "duration": 7,
    "start_time": "2022-03-19T05:45:09.578Z"
   },
   {
    "duration": 7,
    "start_time": "2022-03-19T05:45:09.587Z"
   },
   {
    "duration": 21,
    "start_time": "2022-03-19T05:49:29.151Z"
   },
   {
    "duration": 19,
    "start_time": "2022-03-19T05:49:57.576Z"
   },
   {
    "duration": 27,
    "start_time": "2022-03-19T05:50:25.052Z"
   },
   {
    "duration": 8,
    "start_time": "2022-03-19T05:51:07.706Z"
   },
   {
    "duration": 851,
    "start_time": "2022-03-19T05:51:08.469Z"
   },
   {
    "duration": 839,
    "start_time": "2022-03-19T05:51:14.690Z"
   },
   {
    "duration": 26,
    "start_time": "2022-03-19T05:51:16.221Z"
   },
   {
    "duration": 22,
    "start_time": "2022-03-19T05:51:17.131Z"
   },
   {
    "duration": 25,
    "start_time": "2022-03-19T05:51:24.163Z"
   },
   {
    "duration": 365,
    "start_time": "2022-03-19T05:51:25.738Z"
   },
   {
    "duration": 23,
    "start_time": "2022-03-19T05:51:31.805Z"
   },
   {
    "duration": 96,
    "start_time": "2022-03-19T05:51:36.407Z"
   },
   {
    "duration": 23,
    "start_time": "2022-03-19T05:51:41.777Z"
   },
   {
    "duration": 20,
    "start_time": "2022-03-19T05:51:45.669Z"
   },
   {
    "duration": 26,
    "start_time": "2022-03-19T05:51:57.243Z"
   },
   {
    "duration": 100,
    "start_time": "2022-03-19T05:54:58.980Z"
   },
   {
    "duration": 808,
    "start_time": "2022-03-19T05:55:18.927Z"
   },
   {
    "duration": 2158,
    "start_time": "2022-03-19T06:35:27.580Z"
   },
   {
    "duration": 4,
    "start_time": "2022-03-19T06:35:50.004Z"
   },
   {
    "duration": 1004,
    "start_time": "2022-03-19T06:35:51.001Z"
   },
   {
    "duration": 787,
    "start_time": "2022-03-19T06:35:58.500Z"
   },
   {
    "duration": 13,
    "start_time": "2022-03-19T06:36:05.664Z"
   },
   {
    "duration": 930,
    "start_time": "2022-03-19T06:36:07.155Z"
   },
   {
    "duration": 15,
    "start_time": "2022-03-19T06:36:13.529Z"
   },
   {
    "duration": 10,
    "start_time": "2022-03-19T06:36:15.788Z"
   },
   {
    "duration": 18,
    "start_time": "2022-03-19T06:36:24.234Z"
   },
   {
    "duration": 836,
    "start_time": "2022-03-19T06:36:28.500Z"
   },
   {
    "duration": 15,
    "start_time": "2022-03-19T06:36:37.686Z"
   },
   {
    "duration": 981,
    "start_time": "2022-03-19T06:36:38.755Z"
   },
   {
    "duration": 12,
    "start_time": "2022-03-19T06:36:48.379Z"
   },
   {
    "duration": 12,
    "start_time": "2022-03-19T06:36:52.331Z"
   },
   {
    "duration": 24,
    "start_time": "2022-03-19T06:37:05.130Z"
   },
   {
    "duration": 811,
    "start_time": "2022-03-19T06:37:06.053Z"
   },
   {
    "duration": 25,
    "start_time": "2022-03-19T06:38:42.645Z"
   },
   {
    "duration": 22,
    "start_time": "2022-03-19T06:39:17.801Z"
   },
   {
    "duration": 8,
    "start_time": "2022-03-19T06:40:52.021Z"
   },
   {
    "duration": 919,
    "start_time": "2022-03-19T06:40:52.032Z"
   },
   {
    "duration": 37,
    "start_time": "2022-03-19T06:40:52.953Z"
   },
   {
    "duration": 20,
    "start_time": "2022-03-19T06:40:52.993Z"
   },
   {
    "duration": 53,
    "start_time": "2022-03-19T06:40:53.016Z"
   },
   {
    "duration": 395,
    "start_time": "2022-03-19T06:40:53.072Z"
   },
   {
    "duration": 30,
    "start_time": "2022-03-19T06:40:53.469Z"
   },
   {
    "duration": 130,
    "start_time": "2022-03-19T06:40:53.502Z"
   },
   {
    "duration": 41,
    "start_time": "2022-03-19T06:40:53.634Z"
   },
   {
    "duration": 20,
    "start_time": "2022-03-19T06:40:53.680Z"
   },
   {
    "duration": 25,
    "start_time": "2022-03-19T06:40:53.702Z"
   },
   {
    "duration": 55,
    "start_time": "2022-03-19T06:40:53.729Z"
   },
   {
    "duration": 4,
    "start_time": "2022-03-19T06:40:53.786Z"
   },
   {
    "duration": 19,
    "start_time": "2022-03-19T06:40:53.792Z"
   },
   {
    "duration": 54,
    "start_time": "2022-03-19T06:40:53.814Z"
   },
   {
    "duration": 20,
    "start_time": "2022-03-19T06:40:53.871Z"
   },
   {
    "duration": 7,
    "start_time": "2022-03-19T06:40:53.893Z"
   },
   {
    "duration": 8,
    "start_time": "2022-03-19T06:40:53.902Z"
   },
   {
    "duration": 4,
    "start_time": "2022-03-19T06:40:53.913Z"
   },
   {
    "duration": 48,
    "start_time": "2022-03-19T06:40:53.919Z"
   },
   {
    "duration": 6,
    "start_time": "2022-03-19T06:40:53.970Z"
   },
   {
    "duration": 5,
    "start_time": "2022-03-19T06:40:53.979Z"
   },
   {
    "duration": 12,
    "start_time": "2022-03-19T06:40:53.986Z"
   },
   {
    "duration": 5,
    "start_time": "2022-03-19T06:40:54.001Z"
   },
   {
    "duration": 854,
    "start_time": "2022-03-19T06:40:54.008Z"
   },
   {
    "duration": 995,
    "start_time": "2022-03-19T06:40:54.869Z"
   },
   {
    "duration": 15,
    "start_time": "2022-03-19T06:40:55.867Z"
   },
   {
    "duration": 1732,
    "start_time": "2022-03-19T06:40:55.892Z"
   },
   {
    "duration": 19,
    "start_time": "2022-03-19T06:40:57.626Z"
   },
   {
    "duration": 13,
    "start_time": "2022-03-19T06:40:57.667Z"
   },
   {
    "duration": 22,
    "start_time": "2022-03-19T06:40:57.683Z"
   },
   {
    "duration": 1054,
    "start_time": "2022-03-19T06:40:57.708Z"
   },
   {
    "duration": 14,
    "start_time": "2022-03-19T06:40:58.767Z"
   },
   {
    "duration": 972,
    "start_time": "2022-03-19T06:40:58.783Z"
   },
   {
    "duration": 29,
    "start_time": "2022-03-19T06:40:59.758Z"
   },
   {
    "duration": 10,
    "start_time": "2022-03-19T06:40:59.789Z"
   },
   {
    "duration": 25,
    "start_time": "2022-03-19T06:40:59.802Z"
   },
   {
    "duration": 1544,
    "start_time": "2022-03-19T06:40:59.831Z"
   },
   {
    "duration": 5,
    "start_time": "2022-03-19T06:41:01.377Z"
   },
   {
    "duration": 28,
    "start_time": "2022-03-19T06:41:01.385Z"
   },
   {
    "duration": 0,
    "start_time": "2022-03-19T06:41:01.416Z"
   },
   {
    "duration": 0,
    "start_time": "2022-03-19T06:41:01.419Z"
   },
   {
    "duration": 0,
    "start_time": "2022-03-19T06:41:01.420Z"
   },
   {
    "duration": 0,
    "start_time": "2022-03-19T06:41:01.422Z"
   },
   {
    "duration": 0,
    "start_time": "2022-03-19T06:41:01.423Z"
   },
   {
    "duration": 0,
    "start_time": "2022-03-19T06:41:01.425Z"
   },
   {
    "duration": 0,
    "start_time": "2022-03-19T06:41:01.426Z"
   },
   {
    "duration": 0,
    "start_time": "2022-03-19T06:41:01.428Z"
   },
   {
    "duration": 0,
    "start_time": "2022-03-19T06:41:01.468Z"
   },
   {
    "duration": 0,
    "start_time": "2022-03-19T06:41:01.470Z"
   },
   {
    "duration": 0,
    "start_time": "2022-03-19T06:41:01.472Z"
   },
   {
    "duration": 0,
    "start_time": "2022-03-19T06:41:01.474Z"
   },
   {
    "duration": 0,
    "start_time": "2022-03-19T06:41:01.476Z"
   },
   {
    "duration": 0,
    "start_time": "2022-03-19T06:41:01.479Z"
   },
   {
    "duration": 0,
    "start_time": "2022-03-19T06:41:01.481Z"
   },
   {
    "duration": 0,
    "start_time": "2022-03-19T06:41:01.483Z"
   },
   {
    "duration": 0,
    "start_time": "2022-03-19T06:41:01.486Z"
   },
   {
    "duration": 0,
    "start_time": "2022-03-19T06:41:01.488Z"
   },
   {
    "duration": 9,
    "start_time": "2022-03-19T06:41:40.139Z"
   },
   {
    "duration": 884,
    "start_time": "2022-03-19T06:41:40.150Z"
   },
   {
    "duration": 37,
    "start_time": "2022-03-19T06:41:41.036Z"
   },
   {
    "duration": 19,
    "start_time": "2022-03-19T06:41:41.076Z"
   },
   {
    "duration": 28,
    "start_time": "2022-03-19T06:41:41.097Z"
   },
   {
    "duration": 399,
    "start_time": "2022-03-19T06:41:41.127Z"
   },
   {
    "duration": 22,
    "start_time": "2022-03-19T06:41:41.528Z"
   },
   {
    "duration": 125,
    "start_time": "2022-03-19T06:41:41.551Z"
   },
   {
    "duration": 20,
    "start_time": "2022-03-19T06:41:41.678Z"
   },
   {
    "duration": 19,
    "start_time": "2022-03-19T06:41:41.702Z"
   },
   {
    "duration": 56,
    "start_time": "2022-03-19T06:41:41.724Z"
   },
   {
    "duration": 24,
    "start_time": "2022-03-19T06:41:41.783Z"
   },
   {
    "duration": 4,
    "start_time": "2022-03-19T06:41:41.810Z"
   },
   {
    "duration": 20,
    "start_time": "2022-03-19T06:41:41.816Z"
   },
   {
    "duration": 18,
    "start_time": "2022-03-19T06:41:41.868Z"
   },
   {
    "duration": 16,
    "start_time": "2022-03-19T06:41:41.888Z"
   },
   {
    "duration": 6,
    "start_time": "2022-03-19T06:41:41.906Z"
   },
   {
    "duration": 8,
    "start_time": "2022-03-19T06:41:41.914Z"
   },
   {
    "duration": 4,
    "start_time": "2022-03-19T06:41:41.924Z"
   },
   {
    "duration": 4,
    "start_time": "2022-03-19T06:41:41.968Z"
   },
   {
    "duration": 5,
    "start_time": "2022-03-19T06:41:41.974Z"
   },
   {
    "duration": 5,
    "start_time": "2022-03-19T06:41:41.981Z"
   },
   {
    "duration": 5,
    "start_time": "2022-03-19T06:41:41.988Z"
   },
   {
    "duration": 6,
    "start_time": "2022-03-19T06:41:41.995Z"
   },
   {
    "duration": 792,
    "start_time": "2022-03-19T06:41:42.003Z"
   },
   {
    "duration": 737,
    "start_time": "2022-03-19T06:41:42.797Z"
   },
   {
    "duration": 11,
    "start_time": "2022-03-19T06:41:43.536Z"
   },
   {
    "duration": 855,
    "start_time": "2022-03-19T06:41:43.567Z"
   },
   {
    "duration": 19,
    "start_time": "2022-03-19T06:41:44.425Z"
   },
   {
    "duration": 11,
    "start_time": "2022-03-19T06:41:44.467Z"
   },
   {
    "duration": 19,
    "start_time": "2022-03-19T06:41:44.481Z"
   },
   {
    "duration": 912,
    "start_time": "2022-03-19T06:41:44.503Z"
   },
   {
    "duration": 14,
    "start_time": "2022-03-19T06:41:45.417Z"
   },
   {
    "duration": 1086,
    "start_time": "2022-03-19T06:41:45.433Z"
   },
   {
    "duration": 18,
    "start_time": "2022-03-19T06:41:46.522Z"
   },
   {
    "duration": 31,
    "start_time": "2022-03-19T06:41:46.542Z"
   },
   {
    "duration": 18,
    "start_time": "2022-03-19T06:41:46.575Z"
   },
   {
    "duration": 835,
    "start_time": "2022-03-19T06:41:46.595Z"
   },
   {
    "duration": 6,
    "start_time": "2022-03-19T06:41:47.432Z"
   },
   {
    "duration": 45,
    "start_time": "2022-03-19T06:41:47.440Z"
   },
   {
    "duration": 17,
    "start_time": "2022-03-19T06:41:47.487Z"
   },
   {
    "duration": 7,
    "start_time": "2022-03-19T06:41:47.506Z"
   },
   {
    "duration": 21,
    "start_time": "2022-03-19T06:41:47.515Z"
   },
   {
    "duration": 4597,
    "start_time": "2022-03-19T06:41:47.538Z"
   },
   {
    "duration": 1135,
    "start_time": "2022-03-19T06:41:52.137Z"
   },
   {
    "duration": 26993,
    "start_time": "2022-03-19T06:41:53.277Z"
   },
   {
    "duration": 6305,
    "start_time": "2022-03-19T06:42:20.272Z"
   },
   {
    "duration": 9,
    "start_time": "2022-03-19T06:42:26.580Z"
   },
   {
    "duration": 20,
    "start_time": "2022-03-19T06:42:26.592Z"
   },
   {
    "duration": 456,
    "start_time": "2022-03-19T06:42:26.615Z"
   },
   {
    "duration": 195,
    "start_time": "2022-03-19T06:42:27.074Z"
   },
   {
    "duration": 94,
    "start_time": "2022-03-19T06:42:27.273Z"
   },
   {
    "duration": 7,
    "start_time": "2022-03-19T06:42:27.370Z"
   },
   {
    "duration": 8,
    "start_time": "2022-03-19T06:42:27.379Z"
   },
   {
    "duration": 13,
    "start_time": "2022-03-19T06:42:27.389Z"
   },
   {
    "duration": 7,
    "start_time": "2022-03-19T06:42:27.404Z"
   },
   {
    "duration": 7,
    "start_time": "2022-03-19T06:42:27.413Z"
   },
   {
    "duration": 48,
    "start_time": "2022-03-19T06:42:27.422Z"
   },
   {
    "duration": 116,
    "start_time": "2022-03-19T06:51:23.790Z"
   },
   {
    "duration": 4765,
    "start_time": "2022-03-19T06:52:44.198Z"
   },
   {
    "duration": 1456,
    "start_time": "2022-03-19T06:53:05.112Z"
   },
   {
    "duration": 28737,
    "start_time": "2022-03-19T06:53:20.127Z"
   },
   {
    "duration": 6038,
    "start_time": "2022-03-19T06:53:56.919Z"
   },
   {
    "duration": 4924,
    "start_time": "2022-03-19T06:56:00.820Z"
   },
   {
    "duration": 4894,
    "start_time": "2022-03-19T06:56:18.475Z"
   },
   {
    "duration": 1920,
    "start_time": "2022-03-19T06:56:58.381Z"
   },
   {
    "duration": 1708,
    "start_time": "2022-03-19T06:57:23.262Z"
   },
   {
    "duration": 1895,
    "start_time": "2022-03-19T06:57:56.073Z"
   },
   {
    "duration": 28390,
    "start_time": "2022-03-19T06:58:21.337Z"
   },
   {
    "duration": 28270,
    "start_time": "2022-03-19T06:58:53.776Z"
   },
   {
    "duration": 5894,
    "start_time": "2022-03-19T06:59:41.008Z"
   },
   {
    "duration": 7,
    "start_time": "2022-03-19T07:02:49.200Z"
   },
   {
    "duration": 18,
    "start_time": "2022-03-19T07:02:51.105Z"
   },
   {
    "duration": 15151,
    "start_time": "2022-03-19T07:03:31.816Z"
   },
   {
    "duration": 16188,
    "start_time": "2022-03-19T07:04:05.744Z"
   },
   {
    "duration": 23,
    "start_time": "2022-03-19T07:04:23.269Z"
   },
   {
    "duration": 8,
    "start_time": "2022-03-19T07:04:25.275Z"
   },
   {
    "duration": 7,
    "start_time": "2022-03-19T07:04:36.775Z"
   },
   {
    "duration": 6,
    "start_time": "2022-03-19T07:04:44.383Z"
   },
   {
    "duration": 5,
    "start_time": "2022-03-19T07:04:45.121Z"
   },
   {
    "duration": 7,
    "start_time": "2022-03-19T07:05:00.028Z"
   },
   {
    "duration": 8,
    "start_time": "2022-03-19T07:05:00.548Z"
   },
   {
    "duration": 7,
    "start_time": "2022-03-19T07:05:01.065Z"
   },
   {
    "duration": 6,
    "start_time": "2022-03-19T07:05:01.453Z"
   },
   {
    "duration": 9,
    "start_time": "2022-03-19T07:06:57.719Z"
   },
   {
    "duration": 946,
    "start_time": "2022-03-19T07:06:57.731Z"
   },
   {
    "duration": 27,
    "start_time": "2022-03-19T07:06:58.679Z"
   },
   {
    "duration": 20,
    "start_time": "2022-03-19T07:06:58.709Z"
   },
   {
    "duration": 54,
    "start_time": "2022-03-19T07:06:58.731Z"
   },
   {
    "duration": 383,
    "start_time": "2022-03-19T07:06:58.788Z"
   },
   {
    "duration": 23,
    "start_time": "2022-03-19T07:06:59.174Z"
   },
   {
    "duration": 191,
    "start_time": "2022-03-19T07:06:59.200Z"
   },
   {
    "duration": 23,
    "start_time": "2022-03-19T07:06:59.393Z"
   },
   {
    "duration": 50,
    "start_time": "2022-03-19T07:06:59.422Z"
   },
   {
    "duration": 28,
    "start_time": "2022-03-19T07:06:59.476Z"
   },
   {
    "duration": 29,
    "start_time": "2022-03-19T07:06:59.507Z"
   },
   {
    "duration": 30,
    "start_time": "2022-03-19T07:06:59.539Z"
   },
   {
    "duration": 20,
    "start_time": "2022-03-19T07:06:59.572Z"
   },
   {
    "duration": 16,
    "start_time": "2022-03-19T07:06:59.595Z"
   },
   {
    "duration": 57,
    "start_time": "2022-03-19T07:06:59.613Z"
   },
   {
    "duration": 9,
    "start_time": "2022-03-19T07:06:59.673Z"
   },
   {
    "duration": 14,
    "start_time": "2022-03-19T07:06:59.685Z"
   },
   {
    "duration": 10,
    "start_time": "2022-03-19T07:06:59.708Z"
   },
   {
    "duration": 6,
    "start_time": "2022-03-19T07:06:59.720Z"
   },
   {
    "duration": 39,
    "start_time": "2022-03-19T07:06:59.728Z"
   },
   {
    "duration": 5,
    "start_time": "2022-03-19T07:06:59.770Z"
   },
   {
    "duration": 5,
    "start_time": "2022-03-19T07:06:59.777Z"
   },
   {
    "duration": 16,
    "start_time": "2022-03-19T07:06:59.785Z"
   },
   {
    "duration": 808,
    "start_time": "2022-03-19T07:06:59.804Z"
   },
   {
    "duration": 850,
    "start_time": "2022-03-19T07:07:00.614Z"
   },
   {
    "duration": 11,
    "start_time": "2022-03-19T07:07:01.466Z"
   },
   {
    "duration": 885,
    "start_time": "2022-03-19T07:07:01.483Z"
   },
   {
    "duration": 17,
    "start_time": "2022-03-19T07:07:02.371Z"
   },
   {
    "duration": 20,
    "start_time": "2022-03-19T07:07:02.391Z"
   },
   {
    "duration": 21,
    "start_time": "2022-03-19T07:07:02.414Z"
   },
   {
    "duration": 1189,
    "start_time": "2022-03-19T07:07:02.438Z"
   },
   {
    "duration": 16,
    "start_time": "2022-03-19T07:07:03.630Z"
   },
   {
    "duration": 852,
    "start_time": "2022-03-19T07:07:03.649Z"
   },
   {
    "duration": 20,
    "start_time": "2022-03-19T07:07:04.503Z"
   },
   {
    "duration": 10,
    "start_time": "2022-03-19T07:07:04.525Z"
   },
   {
    "duration": 18,
    "start_time": "2022-03-19T07:07:04.568Z"
   },
   {
    "duration": 852,
    "start_time": "2022-03-19T07:07:04.588Z"
   },
   {
    "duration": 5,
    "start_time": "2022-03-19T07:07:05.443Z"
   },
   {
    "duration": 40,
    "start_time": "2022-03-19T07:07:05.451Z"
   },
   {
    "duration": 31,
    "start_time": "2022-03-19T07:07:05.494Z"
   },
   {
    "duration": 9,
    "start_time": "2022-03-19T07:07:05.527Z"
   },
   {
    "duration": 43,
    "start_time": "2022-03-19T07:07:05.539Z"
   },
   {
    "duration": 4718,
    "start_time": "2022-03-19T07:07:05.584Z"
   },
   {
    "duration": 1567,
    "start_time": "2022-03-19T07:07:10.305Z"
   },
   {
    "duration": 30903,
    "start_time": "2022-03-19T07:07:11.874Z"
   },
   {
    "duration": 6146,
    "start_time": "2022-03-19T07:07:42.780Z"
   },
   {
    "duration": 7,
    "start_time": "2022-03-19T07:07:48.928Z"
   },
   {
    "duration": 30,
    "start_time": "2022-03-19T07:07:48.938Z"
   },
   {
    "duration": 15971,
    "start_time": "2022-03-19T07:07:48.971Z"
   },
   {
    "duration": 35,
    "start_time": "2022-03-19T07:08:04.944Z"
   },
   {
    "duration": 7,
    "start_time": "2022-03-19T07:08:04.982Z"
   },
   {
    "duration": 6,
    "start_time": "2022-03-19T07:08:04.991Z"
   },
   {
    "duration": 9,
    "start_time": "2022-03-19T07:08:05.000Z"
   },
   {
    "duration": 9,
    "start_time": "2022-03-19T07:08:05.012Z"
   },
   {
    "duration": 45,
    "start_time": "2022-03-19T07:08:05.024Z"
   },
   {
    "duration": 8,
    "start_time": "2022-03-19T07:08:05.072Z"
   },
   {
    "duration": 8,
    "start_time": "2022-03-19T07:08:05.082Z"
   },
   {
    "duration": 9,
    "start_time": "2022-03-19T07:11:43.789Z"
   },
   {
    "duration": 8,
    "start_time": "2022-03-19T07:11:45.101Z"
   },
   {
    "duration": 9,
    "start_time": "2022-03-19T07:12:09.459Z"
   },
   {
    "duration": 6,
    "start_time": "2022-03-19T07:12:11.425Z"
   },
   {
    "duration": 8,
    "start_time": "2022-03-19T07:12:17.438Z"
   },
   {
    "duration": 11,
    "start_time": "2022-03-19T07:14:21.160Z"
   },
   {
    "duration": 1140,
    "start_time": "2022-03-19T07:14:21.175Z"
   },
   {
    "duration": 28,
    "start_time": "2022-03-19T07:14:22.317Z"
   },
   {
    "duration": 38,
    "start_time": "2022-03-19T07:14:22.348Z"
   },
   {
    "duration": 27,
    "start_time": "2022-03-19T07:14:22.389Z"
   },
   {
    "duration": 411,
    "start_time": "2022-03-19T07:14:22.418Z"
   },
   {
    "duration": 39,
    "start_time": "2022-03-19T07:14:22.832Z"
   },
   {
    "duration": 113,
    "start_time": "2022-03-19T07:14:22.873Z"
   },
   {
    "duration": 26,
    "start_time": "2022-03-19T07:14:22.989Z"
   },
   {
    "duration": 20,
    "start_time": "2022-03-19T07:14:23.018Z"
   },
   {
    "duration": 26,
    "start_time": "2022-03-19T07:14:23.068Z"
   },
   {
    "duration": 26,
    "start_time": "2022-03-19T07:14:23.096Z"
   },
   {
    "duration": 4,
    "start_time": "2022-03-19T07:14:23.124Z"
   },
   {
    "duration": 49,
    "start_time": "2022-03-19T07:14:23.130Z"
   },
   {
    "duration": 19,
    "start_time": "2022-03-19T07:14:23.182Z"
   },
   {
    "duration": 18,
    "start_time": "2022-03-19T07:14:23.204Z"
   },
   {
    "duration": 44,
    "start_time": "2022-03-19T07:14:23.225Z"
   },
   {
    "duration": 7,
    "start_time": "2022-03-19T07:14:23.272Z"
   },
   {
    "duration": 7,
    "start_time": "2022-03-19T07:14:23.281Z"
   },
   {
    "duration": 7,
    "start_time": "2022-03-19T07:14:23.290Z"
   },
   {
    "duration": 7,
    "start_time": "2022-03-19T07:14:23.300Z"
   },
   {
    "duration": 8,
    "start_time": "2022-03-19T07:14:23.310Z"
   },
   {
    "duration": 5,
    "start_time": "2022-03-19T07:14:23.321Z"
   },
   {
    "duration": 4,
    "start_time": "2022-03-19T07:14:23.369Z"
   },
   {
    "duration": 784,
    "start_time": "2022-03-19T07:14:23.375Z"
   },
   {
    "duration": 783,
    "start_time": "2022-03-19T07:14:24.161Z"
   },
   {
    "duration": 24,
    "start_time": "2022-03-19T07:14:24.947Z"
   },
   {
    "duration": 937,
    "start_time": "2022-03-19T07:14:24.973Z"
   },
   {
    "duration": 19,
    "start_time": "2022-03-19T07:14:25.914Z"
   },
   {
    "duration": 33,
    "start_time": "2022-03-19T07:14:25.936Z"
   },
   {
    "duration": 23,
    "start_time": "2022-03-19T07:14:25.972Z"
   },
   {
    "duration": 1436,
    "start_time": "2022-03-19T07:14:25.998Z"
   },
   {
    "duration": 31,
    "start_time": "2022-03-19T07:14:27.437Z"
   },
   {
    "duration": 1883,
    "start_time": "2022-03-19T07:14:27.471Z"
   },
   {
    "duration": 30,
    "start_time": "2022-03-19T07:14:29.357Z"
   },
   {
    "duration": 13,
    "start_time": "2022-03-19T07:14:29.390Z"
   },
   {
    "duration": 18,
    "start_time": "2022-03-19T07:14:29.407Z"
   },
   {
    "duration": 921,
    "start_time": "2022-03-19T07:14:29.428Z"
   },
   {
    "duration": 17,
    "start_time": "2022-03-19T07:14:30.352Z"
   },
   {
    "duration": 32,
    "start_time": "2022-03-19T07:14:30.372Z"
   },
   {
    "duration": 18,
    "start_time": "2022-03-19T07:14:30.407Z"
   },
   {
    "duration": 23,
    "start_time": "2022-03-19T07:14:30.428Z"
   },
   {
    "duration": 29,
    "start_time": "2022-03-19T07:14:30.468Z"
   },
   {
    "duration": 4716,
    "start_time": "2022-03-19T07:14:30.500Z"
   },
   {
    "duration": 1454,
    "start_time": "2022-03-19T07:14:35.218Z"
   },
   {
    "duration": 28328,
    "start_time": "2022-03-19T07:14:36.675Z"
   },
   {
    "duration": 6460,
    "start_time": "2022-03-19T07:15:05.005Z"
   },
   {
    "duration": 7,
    "start_time": "2022-03-19T07:15:11.468Z"
   },
   {
    "duration": 14,
    "start_time": "2022-03-19T07:15:11.477Z"
   },
   {
    "duration": 15671,
    "start_time": "2022-03-19T07:15:11.493Z"
   },
   {
    "duration": 23,
    "start_time": "2022-03-19T07:15:27.168Z"
   },
   {
    "duration": 8,
    "start_time": "2022-03-19T07:15:27.193Z"
   },
   {
    "duration": 11,
    "start_time": "2022-03-19T07:15:27.204Z"
   },
   {
    "duration": 12,
    "start_time": "2022-03-19T07:15:27.217Z"
   },
   {
    "duration": 40,
    "start_time": "2022-03-19T07:15:27.231Z"
   },
   {
    "duration": 14,
    "start_time": "2022-03-19T07:15:27.274Z"
   },
   {
    "duration": 12,
    "start_time": "2022-03-19T07:15:27.291Z"
   },
   {
    "duration": 10,
    "start_time": "2022-03-19T07:15:27.306Z"
   },
   {
    "duration": 1774,
    "start_time": "2022-03-19T08:46:44.703Z"
   },
   {
    "duration": 726,
    "start_time": "2022-03-19T08:46:46.479Z"
   },
   {
    "duration": 17,
    "start_time": "2022-03-19T08:46:47.207Z"
   },
   {
    "duration": 12,
    "start_time": "2022-03-19T08:46:47.226Z"
   },
   {
    "duration": 15,
    "start_time": "2022-03-19T08:46:47.240Z"
   },
   {
    "duration": 233,
    "start_time": "2022-03-19T08:46:47.282Z"
   },
   {
    "duration": 15,
    "start_time": "2022-03-19T08:46:47.517Z"
   },
   {
    "duration": 73,
    "start_time": "2022-03-19T08:46:47.534Z"
   },
   {
    "duration": 22,
    "start_time": "2022-03-19T08:46:47.609Z"
   },
   {
    "duration": 13,
    "start_time": "2022-03-19T08:46:47.633Z"
   },
   {
    "duration": 40,
    "start_time": "2022-03-19T08:46:47.648Z"
   },
   {
    "duration": 16,
    "start_time": "2022-03-19T08:46:47.689Z"
   },
   {
    "duration": 3,
    "start_time": "2022-03-19T08:46:47.707Z"
   },
   {
    "duration": 17,
    "start_time": "2022-03-19T08:46:47.711Z"
   },
   {
    "duration": 10,
    "start_time": "2022-03-19T08:46:47.729Z"
   },
   {
    "duration": 13,
    "start_time": "2022-03-19T08:46:47.741Z"
   },
   {
    "duration": 29,
    "start_time": "2022-03-19T08:46:47.755Z"
   },
   {
    "duration": 5,
    "start_time": "2022-03-19T08:46:47.785Z"
   },
   {
    "duration": 5,
    "start_time": "2022-03-19T08:46:47.791Z"
   },
   {
    "duration": 5,
    "start_time": "2022-03-19T08:46:47.797Z"
   },
   {
    "duration": 6,
    "start_time": "2022-03-19T08:46:47.803Z"
   },
   {
    "duration": 6,
    "start_time": "2022-03-19T08:46:47.810Z"
   },
   {
    "duration": 4,
    "start_time": "2022-03-19T08:46:47.818Z"
   },
   {
    "duration": 6,
    "start_time": "2022-03-19T08:46:47.823Z"
   },
   {
    "duration": 457,
    "start_time": "2022-03-19T08:46:47.830Z"
   },
   {
    "duration": 644,
    "start_time": "2022-03-19T08:46:48.289Z"
   },
   {
    "duration": 6,
    "start_time": "2022-03-19T08:46:48.935Z"
   },
   {
    "duration": 473,
    "start_time": "2022-03-19T08:46:48.945Z"
   },
   {
    "duration": 14,
    "start_time": "2022-03-19T08:46:49.419Z"
   },
   {
    "duration": 6,
    "start_time": "2022-03-19T08:46:49.435Z"
   },
   {
    "duration": 13,
    "start_time": "2022-03-19T08:46:49.442Z"
   },
   {
    "duration": 483,
    "start_time": "2022-03-19T08:46:49.456Z"
   },
   {
    "duration": 8,
    "start_time": "2022-03-19T08:46:49.941Z"
   },
   {
    "duration": 561,
    "start_time": "2022-03-19T08:46:49.951Z"
   },
   {
    "duration": 18,
    "start_time": "2022-03-19T08:46:50.514Z"
   },
   {
    "duration": 7,
    "start_time": "2022-03-19T08:46:50.534Z"
   },
   {
    "duration": 40,
    "start_time": "2022-03-19T08:46:50.542Z"
   },
   {
    "duration": 459,
    "start_time": "2022-03-19T08:46:50.584Z"
   },
   {
    "duration": 4,
    "start_time": "2022-03-19T08:46:51.045Z"
   },
   {
    "duration": 30,
    "start_time": "2022-03-19T08:46:51.050Z"
   },
   {
    "duration": 13,
    "start_time": "2022-03-19T08:46:51.082Z"
   },
   {
    "duration": 5,
    "start_time": "2022-03-19T08:46:51.097Z"
   },
   {
    "duration": 23,
    "start_time": "2022-03-19T08:46:51.104Z"
   },
   {
    "duration": 3665,
    "start_time": "2022-03-19T08:46:51.129Z"
   },
   {
    "duration": 1810,
    "start_time": "2022-03-19T08:46:54.796Z"
   },
   {
    "duration": 20982,
    "start_time": "2022-03-19T08:46:56.607Z"
   },
   {
    "duration": 7401,
    "start_time": "2022-03-19T08:47:17.590Z"
   },
   {
    "duration": 5,
    "start_time": "2022-03-19T08:47:24.993Z"
   },
   {
    "duration": 15,
    "start_time": "2022-03-19T08:47:25.000Z"
   },
   {
    "duration": 16511,
    "start_time": "2022-03-19T08:47:25.017Z"
   },
   {
    "duration": 21,
    "start_time": "2022-03-19T08:47:41.530Z"
   },
   {
    "duration": 5,
    "start_time": "2022-03-19T08:47:41.553Z"
   },
   {
    "duration": 22,
    "start_time": "2022-03-19T08:47:41.560Z"
   },
   {
    "duration": 6,
    "start_time": "2022-03-19T08:47:41.584Z"
   },
   {
    "duration": 6,
    "start_time": "2022-03-19T08:47:41.592Z"
   },
   {
    "duration": 9,
    "start_time": "2022-03-19T08:47:41.599Z"
   },
   {
    "duration": 5,
    "start_time": "2022-03-19T08:47:41.610Z"
   },
   {
    "duration": 6,
    "start_time": "2022-03-19T08:47:41.616Z"
   },
   {
    "duration": 3701,
    "start_time": "2022-03-19T08:48:05.697Z"
   },
   {
    "duration": 1013,
    "start_time": "2022-03-19T08:50:41.314Z"
   },
   {
    "duration": 4,
    "start_time": "2022-03-19T08:50:48.881Z"
   },
   {
    "duration": 5,
    "start_time": "2022-03-19T08:50:56.280Z"
   },
   {
    "duration": 6,
    "start_time": "2022-03-19T08:51:51.394Z"
   },
   {
    "duration": 6,
    "start_time": "2022-03-19T08:52:01.178Z"
   },
   {
    "duration": 4,
    "start_time": "2022-03-19T08:52:09.800Z"
   },
   {
    "duration": 98,
    "start_time": "2022-03-19T08:52:13.729Z"
   },
   {
    "duration": 6,
    "start_time": "2022-03-19T08:52:19.746Z"
   },
   {
    "duration": 5,
    "start_time": "2022-03-19T08:52:28.913Z"
   },
   {
    "duration": 5,
    "start_time": "2022-03-19T08:52:36.754Z"
   },
   {
    "duration": 940,
    "start_time": "2022-03-19T08:53:07.450Z"
   },
   {
    "duration": 968,
    "start_time": "2022-03-19T08:53:10.810Z"
   },
   {
    "duration": 1637,
    "start_time": "2022-03-19T14:17:32.524Z"
   },
   {
    "duration": 688,
    "start_time": "2022-03-19T14:17:34.163Z"
   },
   {
    "duration": 19,
    "start_time": "2022-03-19T14:17:34.853Z"
   },
   {
    "duration": 12,
    "start_time": "2022-03-19T14:17:34.880Z"
   },
   {
    "duration": 16,
    "start_time": "2022-03-19T14:17:34.894Z"
   },
   {
    "duration": 254,
    "start_time": "2022-03-19T14:17:34.912Z"
   },
   {
    "duration": 23,
    "start_time": "2022-03-19T14:17:35.168Z"
   },
   {
    "duration": 55,
    "start_time": "2022-03-19T14:17:35.193Z"
   },
   {
    "duration": 42,
    "start_time": "2022-03-19T14:17:35.249Z"
   },
   {
    "duration": 11,
    "start_time": "2022-03-19T14:17:35.294Z"
   },
   {
    "duration": 14,
    "start_time": "2022-03-19T14:17:35.306Z"
   },
   {
    "duration": 15,
    "start_time": "2022-03-19T14:17:35.321Z"
   },
   {
    "duration": 3,
    "start_time": "2022-03-19T14:17:35.337Z"
   },
   {
    "duration": 14,
    "start_time": "2022-03-19T14:17:35.341Z"
   },
   {
    "duration": 32,
    "start_time": "2022-03-19T14:17:35.357Z"
   },
   {
    "duration": 10,
    "start_time": "2022-03-19T14:17:35.391Z"
   },
   {
    "duration": 5,
    "start_time": "2022-03-19T14:17:35.402Z"
   },
   {
    "duration": 7,
    "start_time": "2022-03-19T14:17:35.408Z"
   },
   {
    "duration": 4,
    "start_time": "2022-03-19T14:17:35.416Z"
   },
   {
    "duration": 6,
    "start_time": "2022-03-19T14:17:35.421Z"
   },
   {
    "duration": 8,
    "start_time": "2022-03-19T14:17:35.428Z"
   },
   {
    "duration": 5,
    "start_time": "2022-03-19T14:17:35.438Z"
   },
   {
    "duration": 6,
    "start_time": "2022-03-19T14:17:35.444Z"
   },
   {
    "duration": 12,
    "start_time": "2022-03-19T14:17:35.451Z"
   },
   {
    "duration": 436,
    "start_time": "2022-03-19T14:17:35.481Z"
   },
   {
    "duration": 613,
    "start_time": "2022-03-19T14:17:35.918Z"
   },
   {
    "duration": 7,
    "start_time": "2022-03-19T14:17:36.533Z"
   },
   {
    "duration": 465,
    "start_time": "2022-03-19T14:17:36.543Z"
   },
   {
    "duration": 14,
    "start_time": "2022-03-19T14:17:37.010Z"
   },
   {
    "duration": 7,
    "start_time": "2022-03-19T14:17:37.025Z"
   },
   {
    "duration": 11,
    "start_time": "2022-03-19T14:17:37.034Z"
   },
   {
    "duration": 470,
    "start_time": "2022-03-19T14:17:37.046Z"
   },
   {
    "duration": 9,
    "start_time": "2022-03-19T14:17:37.517Z"
   },
   {
    "duration": 541,
    "start_time": "2022-03-19T14:17:37.527Z"
   },
   {
    "duration": 23,
    "start_time": "2022-03-19T14:17:38.069Z"
   },
   {
    "duration": 7,
    "start_time": "2022-03-19T14:17:38.093Z"
   },
   {
    "duration": 18,
    "start_time": "2022-03-19T14:17:38.101Z"
   },
   {
    "duration": 472,
    "start_time": "2022-03-19T14:17:38.120Z"
   },
   {
    "duration": 4,
    "start_time": "2022-03-19T14:17:38.593Z"
   },
   {
    "duration": 20,
    "start_time": "2022-03-19T14:17:38.598Z"
   },
   {
    "duration": 11,
    "start_time": "2022-03-19T14:17:38.620Z"
   },
   {
    "duration": 4,
    "start_time": "2022-03-19T14:17:38.633Z"
   },
   {
    "duration": 17,
    "start_time": "2022-03-19T14:17:38.639Z"
   },
   {
    "duration": 3729,
    "start_time": "2022-03-19T14:17:38.657Z"
   },
   {
    "duration": 1194,
    "start_time": "2022-03-19T14:17:42.388Z"
   },
   {
    "duration": 21062,
    "start_time": "2022-03-19T14:17:43.585Z"
   },
   {
    "duration": 6264,
    "start_time": "2022-03-19T14:18:04.648Z"
   },
   {
    "duration": 7,
    "start_time": "2022-03-19T14:18:10.914Z"
   },
   {
    "duration": 12,
    "start_time": "2022-03-19T14:18:10.923Z"
   },
   {
    "duration": 11676,
    "start_time": "2022-03-19T14:18:10.937Z"
   },
   {
    "duration": 9,
    "start_time": "2022-03-19T14:18:22.614Z"
   },
   {
    "duration": 19,
    "start_time": "2022-03-19T14:18:22.624Z"
   },
   {
    "duration": 29,
    "start_time": "2022-03-19T14:18:22.645Z"
   },
   {
    "duration": 36,
    "start_time": "2022-03-19T14:18:22.675Z"
   },
   {
    "duration": 15,
    "start_time": "2022-03-19T14:18:22.712Z"
   },
   {
    "duration": 52,
    "start_time": "2022-03-19T14:18:22.728Z"
   },
   {
    "duration": 5,
    "start_time": "2022-03-19T14:18:22.782Z"
   },
   {
    "duration": 4,
    "start_time": "2022-03-19T14:18:22.789Z"
   },
   {
    "duration": 4611,
    "start_time": "2022-03-19T14:20:05.371Z"
   },
   {
    "duration": 9,
    "start_time": "2022-03-19T14:20:11.619Z"
   },
   {
    "duration": 6,
    "start_time": "2022-03-19T14:20:12.629Z"
   },
   {
    "duration": 6,
    "start_time": "2022-03-19T14:20:13.272Z"
   },
   {
    "duration": 5,
    "start_time": "2022-03-19T14:20:16.048Z"
   },
   {
    "duration": 5,
    "start_time": "2022-03-19T14:20:18.152Z"
   },
   {
    "duration": 5,
    "start_time": "2022-03-19T14:20:18.718Z"
   },
   {
    "duration": 6,
    "start_time": "2022-03-19T14:20:19.246Z"
   }
  ],
  "kernelspec": {
   "display_name": "Python 3 (ipykernel)",
   "language": "python",
   "name": "python3"
  },
  "language_info": {
   "codemirror_mode": {
    "name": "ipython",
    "version": 3
   },
   "file_extension": ".py",
   "mimetype": "text/x-python",
   "name": "python",
   "nbconvert_exporter": "python",
   "pygments_lexer": "ipython3",
   "version": "3.9.7"
  },
  "toc": {
   "base_numbering": 1,
   "nav_menu": {},
   "number_sections": true,
   "sideBar": true,
   "skip_h1_title": true,
   "title_cell": "Содержание",
   "title_sidebar": "Contents",
   "toc_cell": true,
   "toc_position": {
    "height": "calc(100% - 180px)",
    "left": "10px",
    "top": "150px",
    "width": "370px"
   },
   "toc_section_display": true,
   "toc_window_display": false
  }
 },
 "nbformat": 4,
 "nbformat_minor": 2
}
