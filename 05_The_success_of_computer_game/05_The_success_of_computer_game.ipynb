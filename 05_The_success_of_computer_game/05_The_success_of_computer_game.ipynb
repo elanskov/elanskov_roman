{
 "cells": [
  {
   "cell_type": "markdown",
   "metadata": {},
   "source": [
    "# Описание проекта"
   ]
  },
  {
   "cell_type": "markdown",
   "metadata": {},
   "source": [
    "У нас есть данные магазина «Стримчик», который продаёт по всему миру компьютерные игры. Из открытых источников доступны исторические данные о продажах игр, оценки пользователей и экспертов, жанры и платформы (например, Xbox или PlayStation). **Нам нужно выявить определяющие успешность игры закономерности.** Это позволит сделать ставку на потенциально популярный продукт и спланировать рекламные кампании.\n",
    "\n",
    "\n",
    "Перед нами данные до 2016 года. Представим, что сейчас декабрь 2016 г., и мы планируем кампанию на 2017-й. Нужно отработать принцип работы с данными. \n",
    "\n",
    "\n",
    "В наборе данных попадается аббревиатура ESRB (Entertainment Software Rating Board) — это ассоциация, определяющая возрастной рейтинг компьютерных игр. ESRB оценивает игровой контент и присваивает ему подходящую возрастную категорию, например, «Для взрослых», «Для детей младшего возраста» или «Для подростков»."
   ]
  },
  {
   "cell_type": "markdown",
   "metadata": {},
   "source": [
    "# Описание данных"
   ]
  },
  {
   "cell_type": "markdown",
   "metadata": {},
   "source": [
    "- Name — название игры\n",
    "- Platform — платформа\n",
    "- Year_of_Release — год выпуска\n",
    "- Genre — жанр игры\n",
    "- NA_sales — продажи в Северной Америке (миллионы проданных копий)\n",
    "- EU_sales — продажи в Европе (миллионы проданных копий)\n",
    "- JP_sales — продажи в Японии (миллионы проданных копий)\n",
    "- Other_sales — продажи в других странах (миллионы проданных копий)\n",
    "- Critic_Score — оценка критиков (максимум 100)\n",
    "- User_Score — оценка пользователей (максимум 10)\n",
    "- Rating — рейтинг от организации ESRB (англ. Entertainment Software Rating Board). Эта ассоциация определяет рейтинг компьютерных игр и присваивает им подходящую возрастную категорию."
   ]
  },
  {
   "cell_type": "markdown",
   "metadata": {},
   "source": [
    "## Изучение данных"
   ]
  },
  {
   "cell_type": "code",
   "execution_count": 1,
   "metadata": {},
   "outputs": [],
   "source": [
    "import pandas as pd\n",
    "import numpy as np\n",
    "import matplotlib.pyplot as plt\n",
    "from scipy import stats as st"
   ]
  },
  {
   "cell_type": "code",
   "execution_count": 2,
   "metadata": {},
   "outputs": [
    {
     "name": "stdout",
     "output_type": "stream",
     "text": [
      "<class 'pandas.core.frame.DataFrame'>\n",
      "RangeIndex: 16715 entries, 0 to 16714\n",
      "Data columns (total 11 columns):\n",
      "Name               16713 non-null object\n",
      "Platform           16715 non-null object\n",
      "Year_of_Release    16446 non-null float64\n",
      "Genre              16713 non-null object\n",
      "NA_sales           16715 non-null float64\n",
      "EU_sales           16715 non-null float64\n",
      "JP_sales           16715 non-null float64\n",
      "Other_sales        16715 non-null float64\n",
      "Critic_Score       8137 non-null float64\n",
      "User_Score         10014 non-null object\n",
      "Rating             9949 non-null object\n",
      "dtypes: float64(6), object(5)\n",
      "memory usage: 1.4+ MB\n",
      "None\n"
     ]
    },
    {
     "data": {
      "text/html": [
       "<div>\n",
       "<style scoped>\n",
       "    .dataframe tbody tr th:only-of-type {\n",
       "        vertical-align: middle;\n",
       "    }\n",
       "\n",
       "    .dataframe tbody tr th {\n",
       "        vertical-align: top;\n",
       "    }\n",
       "\n",
       "    .dataframe thead th {\n",
       "        text-align: right;\n",
       "    }\n",
       "</style>\n",
       "<table border=\"1\" class=\"dataframe\">\n",
       "  <thead>\n",
       "    <tr style=\"text-align: right;\">\n",
       "      <th></th>\n",
       "      <th>Name</th>\n",
       "      <th>Platform</th>\n",
       "      <th>Year_of_Release</th>\n",
       "      <th>Genre</th>\n",
       "      <th>NA_sales</th>\n",
       "      <th>EU_sales</th>\n",
       "      <th>JP_sales</th>\n",
       "      <th>Other_sales</th>\n",
       "      <th>Critic_Score</th>\n",
       "      <th>User_Score</th>\n",
       "      <th>Rating</th>\n",
       "    </tr>\n",
       "  </thead>\n",
       "  <tbody>\n",
       "    <tr>\n",
       "      <td>0</td>\n",
       "      <td>Wii Sports</td>\n",
       "      <td>Wii</td>\n",
       "      <td>2006.0</td>\n",
       "      <td>Sports</td>\n",
       "      <td>41.36</td>\n",
       "      <td>28.96</td>\n",
       "      <td>3.77</td>\n",
       "      <td>8.45</td>\n",
       "      <td>76.0</td>\n",
       "      <td>8</td>\n",
       "      <td>E</td>\n",
       "    </tr>\n",
       "    <tr>\n",
       "      <td>1</td>\n",
       "      <td>Super Mario Bros.</td>\n",
       "      <td>NES</td>\n",
       "      <td>1985.0</td>\n",
       "      <td>Platform</td>\n",
       "      <td>29.08</td>\n",
       "      <td>3.58</td>\n",
       "      <td>6.81</td>\n",
       "      <td>0.77</td>\n",
       "      <td>NaN</td>\n",
       "      <td>NaN</td>\n",
       "      <td>NaN</td>\n",
       "    </tr>\n",
       "    <tr>\n",
       "      <td>2</td>\n",
       "      <td>Mario Kart Wii</td>\n",
       "      <td>Wii</td>\n",
       "      <td>2008.0</td>\n",
       "      <td>Racing</td>\n",
       "      <td>15.68</td>\n",
       "      <td>12.76</td>\n",
       "      <td>3.79</td>\n",
       "      <td>3.29</td>\n",
       "      <td>82.0</td>\n",
       "      <td>8.3</td>\n",
       "      <td>E</td>\n",
       "    </tr>\n",
       "    <tr>\n",
       "      <td>3</td>\n",
       "      <td>Wii Sports Resort</td>\n",
       "      <td>Wii</td>\n",
       "      <td>2009.0</td>\n",
       "      <td>Sports</td>\n",
       "      <td>15.61</td>\n",
       "      <td>10.93</td>\n",
       "      <td>3.28</td>\n",
       "      <td>2.95</td>\n",
       "      <td>80.0</td>\n",
       "      <td>8</td>\n",
       "      <td>E</td>\n",
       "    </tr>\n",
       "    <tr>\n",
       "      <td>4</td>\n",
       "      <td>Pokemon Red/Pokemon Blue</td>\n",
       "      <td>GB</td>\n",
       "      <td>1996.0</td>\n",
       "      <td>Role-Playing</td>\n",
       "      <td>11.27</td>\n",
       "      <td>8.89</td>\n",
       "      <td>10.22</td>\n",
       "      <td>1.00</td>\n",
       "      <td>NaN</td>\n",
       "      <td>NaN</td>\n",
       "      <td>NaN</td>\n",
       "    </tr>\n",
       "    <tr>\n",
       "      <td>...</td>\n",
       "      <td>...</td>\n",
       "      <td>...</td>\n",
       "      <td>...</td>\n",
       "      <td>...</td>\n",
       "      <td>...</td>\n",
       "      <td>...</td>\n",
       "      <td>...</td>\n",
       "      <td>...</td>\n",
       "      <td>...</td>\n",
       "      <td>...</td>\n",
       "      <td>...</td>\n",
       "    </tr>\n",
       "    <tr>\n",
       "      <td>16710</td>\n",
       "      <td>Samurai Warriors: Sanada Maru</td>\n",
       "      <td>PS3</td>\n",
       "      <td>2016.0</td>\n",
       "      <td>Action</td>\n",
       "      <td>0.00</td>\n",
       "      <td>0.00</td>\n",
       "      <td>0.01</td>\n",
       "      <td>0.00</td>\n",
       "      <td>NaN</td>\n",
       "      <td>NaN</td>\n",
       "      <td>NaN</td>\n",
       "    </tr>\n",
       "    <tr>\n",
       "      <td>16711</td>\n",
       "      <td>LMA Manager 2007</td>\n",
       "      <td>X360</td>\n",
       "      <td>2006.0</td>\n",
       "      <td>Sports</td>\n",
       "      <td>0.00</td>\n",
       "      <td>0.01</td>\n",
       "      <td>0.00</td>\n",
       "      <td>0.00</td>\n",
       "      <td>NaN</td>\n",
       "      <td>NaN</td>\n",
       "      <td>NaN</td>\n",
       "    </tr>\n",
       "    <tr>\n",
       "      <td>16712</td>\n",
       "      <td>Haitaka no Psychedelica</td>\n",
       "      <td>PSV</td>\n",
       "      <td>2016.0</td>\n",
       "      <td>Adventure</td>\n",
       "      <td>0.00</td>\n",
       "      <td>0.00</td>\n",
       "      <td>0.01</td>\n",
       "      <td>0.00</td>\n",
       "      <td>NaN</td>\n",
       "      <td>NaN</td>\n",
       "      <td>NaN</td>\n",
       "    </tr>\n",
       "    <tr>\n",
       "      <td>16713</td>\n",
       "      <td>Spirits &amp; Spells</td>\n",
       "      <td>GBA</td>\n",
       "      <td>2003.0</td>\n",
       "      <td>Platform</td>\n",
       "      <td>0.01</td>\n",
       "      <td>0.00</td>\n",
       "      <td>0.00</td>\n",
       "      <td>0.00</td>\n",
       "      <td>NaN</td>\n",
       "      <td>NaN</td>\n",
       "      <td>NaN</td>\n",
       "    </tr>\n",
       "    <tr>\n",
       "      <td>16714</td>\n",
       "      <td>Winning Post 8 2016</td>\n",
       "      <td>PSV</td>\n",
       "      <td>2016.0</td>\n",
       "      <td>Simulation</td>\n",
       "      <td>0.00</td>\n",
       "      <td>0.00</td>\n",
       "      <td>0.01</td>\n",
       "      <td>0.00</td>\n",
       "      <td>NaN</td>\n",
       "      <td>NaN</td>\n",
       "      <td>NaN</td>\n",
       "    </tr>\n",
       "  </tbody>\n",
       "</table>\n",
       "<p>16715 rows × 11 columns</p>\n",
       "</div>"
      ],
      "text/plain": [
       "                                Name Platform  Year_of_Release         Genre  \\\n",
       "0                         Wii Sports      Wii           2006.0        Sports   \n",
       "1                  Super Mario Bros.      NES           1985.0      Platform   \n",
       "2                     Mario Kart Wii      Wii           2008.0        Racing   \n",
       "3                  Wii Sports Resort      Wii           2009.0        Sports   \n",
       "4           Pokemon Red/Pokemon Blue       GB           1996.0  Role-Playing   \n",
       "...                              ...      ...              ...           ...   \n",
       "16710  Samurai Warriors: Sanada Maru      PS3           2016.0        Action   \n",
       "16711               LMA Manager 2007     X360           2006.0        Sports   \n",
       "16712        Haitaka no Psychedelica      PSV           2016.0     Adventure   \n",
       "16713               Spirits & Spells      GBA           2003.0      Platform   \n",
       "16714            Winning Post 8 2016      PSV           2016.0    Simulation   \n",
       "\n",
       "       NA_sales  EU_sales  JP_sales  Other_sales  Critic_Score User_Score  \\\n",
       "0         41.36     28.96      3.77         8.45          76.0          8   \n",
       "1         29.08      3.58      6.81         0.77           NaN        NaN   \n",
       "2         15.68     12.76      3.79         3.29          82.0        8.3   \n",
       "3         15.61     10.93      3.28         2.95          80.0          8   \n",
       "4         11.27      8.89     10.22         1.00           NaN        NaN   \n",
       "...         ...       ...       ...          ...           ...        ...   \n",
       "16710      0.00      0.00      0.01         0.00           NaN        NaN   \n",
       "16711      0.00      0.01      0.00         0.00           NaN        NaN   \n",
       "16712      0.00      0.00      0.01         0.00           NaN        NaN   \n",
       "16713      0.01      0.00      0.00         0.00           NaN        NaN   \n",
       "16714      0.00      0.00      0.01         0.00           NaN        NaN   \n",
       "\n",
       "      Rating  \n",
       "0          E  \n",
       "1        NaN  \n",
       "2          E  \n",
       "3          E  \n",
       "4        NaN  \n",
       "...      ...  \n",
       "16710    NaN  \n",
       "16711    NaN  \n",
       "16712    NaN  \n",
       "16713    NaN  \n",
       "16714    NaN  \n",
       "\n",
       "[16715 rows x 11 columns]"
      ]
     },
     "execution_count": 2,
     "metadata": {},
     "output_type": "execute_result"
    }
   ],
   "source": [
    "df = pd.read_csv('/datasets/games.csv')\n",
    "print(df.info())\n",
    "df"
   ]
  },
  {
   "cell_type": "markdown",
   "metadata": {},
   "source": [
    "Много пропусков в столбцах с годом релиза, оценка критиков и пользователей и с рейтингами. По два пропуска с именем и жанром игры. Поскольку нам необходима актуальная информация об игровой индустрии, посмотрим на годы релизов. "
   ]
  },
  {
   "cell_type": "code",
   "execution_count": 3,
   "metadata": {},
   "outputs": [
    {
     "name": "stdout",
     "output_type": "stream",
     "text": [
      "1980.0\n"
     ]
    },
    {
     "data": {
      "text/plain": [
       "2016.0"
      ]
     },
     "execution_count": 3,
     "metadata": {},
     "output_type": "execute_result"
    }
   ],
   "source": [
    "print(df['Year_of_Release'].min())\n",
    "df['Year_of_Release'].max()"
   ]
  },
  {
   "cell_type": "markdown",
   "metadata": {},
   "source": [
    "Полагаю, что игры выпущенные 1980 году не очень нам помогут в анализе данных. Учитывая скорость развития индустрии, полагаю взять данные за последние несколько лет. Посмотрим на количество игр, реализуемых по годам, возможна нам эта информация поможет в определнии выборки:"
   ]
  },
  {
   "cell_type": "code",
   "execution_count": 4,
   "metadata": {},
   "outputs": [
    {
     "data": {
      "text/plain": [
       "<matplotlib.axes._subplots.AxesSubplot at 0x7f56b443ca50>"
      ]
     },
     "execution_count": 4,
     "metadata": {},
     "output_type": "execute_result"
    },
    {
     "data": {
      "image/png": "[encoded data removed]",
      "text/plain": [
       "<Figure size 432x288 with 1 Axes>"
      ]
     },
     "metadata": {
      "needs_background": "light"
     },
     "output_type": "display_data"
    }
   ],
   "source": [
    "df_year_pivot = df.pivot_table(index='Name', values='Year_of_Release')\n",
    "df_year_pivot.plot(kind='hist', bins=37)"
   ]
  },
  {
   "cell_type": "markdown",
   "metadata": {},
   "source": [
    "На графике видно что активное начало развития индустрии игр начинается в 1995 году, пологаю взять именно этот период - после 1995 года. "
   ]
  },
  {
   "cell_type": "markdown",
   "metadata": {},
   "source": [
    "## Предоработка"
   ]
  },
  {
   "cell_type": "markdown",
   "metadata": {},
   "source": [
    "### Исправим названия колонок"
   ]
  },
  {
   "cell_type": "markdown",
   "metadata": {},
   "source": [
    "Приведем названия колонок к нижнему регистру:"
   ]
  },
  {
   "cell_type": "code",
   "execution_count": 5,
   "metadata": {},
   "outputs": [
    {
     "data": {
      "text/html": [
       "<div>\n",
       "<style scoped>\n",
       "    .dataframe tbody tr th:only-of-type {\n",
       "        vertical-align: middle;\n",
       "    }\n",
       "\n",
       "    .dataframe tbody tr th {\n",
       "        vertical-align: top;\n",
       "    }\n",
       "\n",
       "    .dataframe thead th {\n",
       "        text-align: right;\n",
       "    }\n",
       "</style>\n",
       "<table border=\"1\" class=\"dataframe\">\n",
       "  <thead>\n",
       "    <tr style=\"text-align: right;\">\n",
       "      <th></th>\n",
       "      <th>name</th>\n",
       "      <th>platform</th>\n",
       "      <th>year_of_release</th>\n",
       "      <th>genre</th>\n",
       "      <th>na_sales</th>\n",
       "      <th>eu_sales</th>\n",
       "      <th>jp_sales</th>\n",
       "      <th>other_sales</th>\n",
       "      <th>critic_score</th>\n",
       "      <th>user_score</th>\n",
       "      <th>rating</th>\n",
       "    </tr>\n",
       "  </thead>\n",
       "  <tbody>\n",
       "    <tr>\n",
       "      <td>0</td>\n",
       "      <td>Wii Sports</td>\n",
       "      <td>Wii</td>\n",
       "      <td>2006.0</td>\n",
       "      <td>Sports</td>\n",
       "      <td>41.36</td>\n",
       "      <td>28.96</td>\n",
       "      <td>3.77</td>\n",
       "      <td>8.45</td>\n",
       "      <td>76.0</td>\n",
       "      <td>8</td>\n",
       "      <td>E</td>\n",
       "    </tr>\n",
       "    <tr>\n",
       "      <td>1</td>\n",
       "      <td>Super Mario Bros.</td>\n",
       "      <td>NES</td>\n",
       "      <td>1985.0</td>\n",
       "      <td>Platform</td>\n",
       "      <td>29.08</td>\n",
       "      <td>3.58</td>\n",
       "      <td>6.81</td>\n",
       "      <td>0.77</td>\n",
       "      <td>NaN</td>\n",
       "      <td>NaN</td>\n",
       "      <td>NaN</td>\n",
       "    </tr>\n",
       "    <tr>\n",
       "      <td>2</td>\n",
       "      <td>Mario Kart Wii</td>\n",
       "      <td>Wii</td>\n",
       "      <td>2008.0</td>\n",
       "      <td>Racing</td>\n",
       "      <td>15.68</td>\n",
       "      <td>12.76</td>\n",
       "      <td>3.79</td>\n",
       "      <td>3.29</td>\n",
       "      <td>82.0</td>\n",
       "      <td>8.3</td>\n",
       "      <td>E</td>\n",
       "    </tr>\n",
       "    <tr>\n",
       "      <td>3</td>\n",
       "      <td>Wii Sports Resort</td>\n",
       "      <td>Wii</td>\n",
       "      <td>2009.0</td>\n",
       "      <td>Sports</td>\n",
       "      <td>15.61</td>\n",
       "      <td>10.93</td>\n",
       "      <td>3.28</td>\n",
       "      <td>2.95</td>\n",
       "      <td>80.0</td>\n",
       "      <td>8</td>\n",
       "      <td>E</td>\n",
       "    </tr>\n",
       "    <tr>\n",
       "      <td>4</td>\n",
       "      <td>Pokemon Red/Pokemon Blue</td>\n",
       "      <td>GB</td>\n",
       "      <td>1996.0</td>\n",
       "      <td>Role-Playing</td>\n",
       "      <td>11.27</td>\n",
       "      <td>8.89</td>\n",
       "      <td>10.22</td>\n",
       "      <td>1.00</td>\n",
       "      <td>NaN</td>\n",
       "      <td>NaN</td>\n",
       "      <td>NaN</td>\n",
       "    </tr>\n",
       "  </tbody>\n",
       "</table>\n",
       "</div>"
      ],
      "text/plain": [
       "                       name platform  year_of_release         genre  na_sales  \\\n",
       "0                Wii Sports      Wii           2006.0        Sports     41.36   \n",
       "1         Super Mario Bros.      NES           1985.0      Platform     29.08   \n",
       "2            Mario Kart Wii      Wii           2008.0        Racing     15.68   \n",
       "3         Wii Sports Resort      Wii           2009.0        Sports     15.61   \n",
       "4  Pokemon Red/Pokemon Blue       GB           1996.0  Role-Playing     11.27   \n",
       "\n",
       "   eu_sales  jp_sales  other_sales  critic_score user_score rating  \n",
       "0     28.96      3.77         8.45          76.0          8      E  \n",
       "1      3.58      6.81         0.77           NaN        NaN    NaN  \n",
       "2     12.76      3.79         3.29          82.0        8.3      E  \n",
       "3     10.93      3.28         2.95          80.0          8      E  \n",
       "4      8.89     10.22         1.00           NaN        NaN    NaN  "
      ]
     },
     "execution_count": 5,
     "metadata": {},
     "output_type": "execute_result"
    }
   ],
   "source": [
    "df.columns = df.columns.str.lower()\n",
    "df.head()"
   ]
  },
  {
   "cell_type": "markdown",
   "metadata": {},
   "source": [
    "### Обработаем пропуски"
   ]
  },
  {
   "cell_type": "markdown",
   "metadata": {},
   "source": [
    "Начнем со стоблца с именем игры:"
   ]
  },
  {
   "cell_type": "code",
   "execution_count": 6,
   "metadata": {},
   "outputs": [
    {
     "data": {
      "text/html": [
       "<div>\n",
       "<style scoped>\n",
       "    .dataframe tbody tr th:only-of-type {\n",
       "        vertical-align: middle;\n",
       "    }\n",
       "\n",
       "    .dataframe tbody tr th {\n",
       "        vertical-align: top;\n",
       "    }\n",
       "\n",
       "    .dataframe thead th {\n",
       "        text-align: right;\n",
       "    }\n",
       "</style>\n",
       "<table border=\"1\" class=\"dataframe\">\n",
       "  <thead>\n",
       "    <tr style=\"text-align: right;\">\n",
       "      <th></th>\n",
       "      <th>name</th>\n",
       "      <th>platform</th>\n",
       "      <th>year_of_release</th>\n",
       "      <th>genre</th>\n",
       "      <th>na_sales</th>\n",
       "      <th>eu_sales</th>\n",
       "      <th>jp_sales</th>\n",
       "      <th>other_sales</th>\n",
       "      <th>critic_score</th>\n",
       "      <th>user_score</th>\n",
       "      <th>rating</th>\n",
       "    </tr>\n",
       "  </thead>\n",
       "  <tbody>\n",
       "    <tr>\n",
       "      <td>659</td>\n",
       "      <td>NaN</td>\n",
       "      <td>GEN</td>\n",
       "      <td>1993.0</td>\n",
       "      <td>NaN</td>\n",
       "      <td>1.78</td>\n",
       "      <td>0.53</td>\n",
       "      <td>0.00</td>\n",
       "      <td>0.08</td>\n",
       "      <td>NaN</td>\n",
       "      <td>NaN</td>\n",
       "      <td>NaN</td>\n",
       "    </tr>\n",
       "    <tr>\n",
       "      <td>14244</td>\n",
       "      <td>NaN</td>\n",
       "      <td>GEN</td>\n",
       "      <td>1993.0</td>\n",
       "      <td>NaN</td>\n",
       "      <td>0.00</td>\n",
       "      <td>0.00</td>\n",
       "      <td>0.03</td>\n",
       "      <td>0.00</td>\n",
       "      <td>NaN</td>\n",
       "      <td>NaN</td>\n",
       "      <td>NaN</td>\n",
       "    </tr>\n",
       "  </tbody>\n",
       "</table>\n",
       "</div>"
      ],
      "text/plain": [
       "      name platform  year_of_release genre  na_sales  eu_sales  jp_sales  \\\n",
       "659    NaN      GEN           1993.0   NaN      1.78      0.53      0.00   \n",
       "14244  NaN      GEN           1993.0   NaN      0.00      0.00      0.03   \n",
       "\n",
       "       other_sales  critic_score user_score rating  \n",
       "659           0.08           NaN        NaN    NaN  \n",
       "14244         0.00           NaN        NaN    NaN  "
      ]
     },
     "execution_count": 6,
     "metadata": {},
     "output_type": "execute_result"
    }
   ],
   "source": [
    "df[df['name'].isna()]"
   ]
  },
  {
   "cell_type": "markdown",
   "metadata": {},
   "source": [
    "Всего две строки, год выпуска 1993, что нам не очень подходит, много пропущенных данных в других столбцах, стоит их удалить."
   ]
  },
  {
   "cell_type": "code",
   "execution_count": 7,
   "metadata": {},
   "outputs": [
    {
     "name": "stdout",
     "output_type": "stream",
     "text": [
      "<class 'pandas.core.frame.DataFrame'>\n",
      "Int64Index: 16713 entries, 0 to 16714\n",
      "Data columns (total 11 columns):\n",
      "name               16713 non-null object\n",
      "platform           16713 non-null object\n",
      "year_of_release    16444 non-null float64\n",
      "genre              16713 non-null object\n",
      "na_sales           16713 non-null float64\n",
      "eu_sales           16713 non-null float64\n",
      "jp_sales           16713 non-null float64\n",
      "other_sales        16713 non-null float64\n",
      "critic_score       8137 non-null float64\n",
      "user_score         10014 non-null object\n",
      "rating             9949 non-null object\n",
      "dtypes: float64(6), object(5)\n",
      "memory usage: 1.5+ MB\n"
     ]
    }
   ],
   "source": [
    "df = df.dropna(subset=['name'])\n",
    "df.info()"
   ]
  },
  {
   "cell_type": "markdown",
   "metadata": {},
   "source": [
    "С годом релиза немного сложнее. Посмотрим на данные с пропусками:"
   ]
  },
  {
   "cell_type": "code",
   "execution_count": 8,
   "metadata": {},
   "outputs": [
    {
     "data": {
      "text/html": [
       "<div>\n",
       "<style scoped>\n",
       "    .dataframe tbody tr th:only-of-type {\n",
       "        vertical-align: middle;\n",
       "    }\n",
       "\n",
       "    .dataframe tbody tr th {\n",
       "        vertical-align: top;\n",
       "    }\n",
       "\n",
       "    .dataframe thead th {\n",
       "        text-align: right;\n",
       "    }\n",
       "</style>\n",
       "<table border=\"1\" class=\"dataframe\">\n",
       "  <thead>\n",
       "    <tr style=\"text-align: right;\">\n",
       "      <th></th>\n",
       "      <th>name</th>\n",
       "      <th>platform</th>\n",
       "      <th>year_of_release</th>\n",
       "      <th>genre</th>\n",
       "      <th>na_sales</th>\n",
       "      <th>eu_sales</th>\n",
       "      <th>jp_sales</th>\n",
       "      <th>other_sales</th>\n",
       "      <th>critic_score</th>\n",
       "      <th>user_score</th>\n",
       "      <th>rating</th>\n",
       "    </tr>\n",
       "  </thead>\n",
       "  <tbody>\n",
       "    <tr>\n",
       "      <td>183</td>\n",
       "      <td>Madden NFL 2004</td>\n",
       "      <td>PS2</td>\n",
       "      <td>NaN</td>\n",
       "      <td>Sports</td>\n",
       "      <td>4.26</td>\n",
       "      <td>0.26</td>\n",
       "      <td>0.01</td>\n",
       "      <td>0.71</td>\n",
       "      <td>94.0</td>\n",
       "      <td>8.5</td>\n",
       "      <td>E</td>\n",
       "    </tr>\n",
       "    <tr>\n",
       "      <td>377</td>\n",
       "      <td>FIFA Soccer 2004</td>\n",
       "      <td>PS2</td>\n",
       "      <td>NaN</td>\n",
       "      <td>Sports</td>\n",
       "      <td>0.59</td>\n",
       "      <td>2.36</td>\n",
       "      <td>0.04</td>\n",
       "      <td>0.51</td>\n",
       "      <td>84.0</td>\n",
       "      <td>6.4</td>\n",
       "      <td>E</td>\n",
       "    </tr>\n",
       "    <tr>\n",
       "      <td>456</td>\n",
       "      <td>LEGO Batman: The Videogame</td>\n",
       "      <td>Wii</td>\n",
       "      <td>NaN</td>\n",
       "      <td>Action</td>\n",
       "      <td>1.80</td>\n",
       "      <td>0.97</td>\n",
       "      <td>0.00</td>\n",
       "      <td>0.29</td>\n",
       "      <td>74.0</td>\n",
       "      <td>7.9</td>\n",
       "      <td>E10+</td>\n",
       "    </tr>\n",
       "    <tr>\n",
       "      <td>475</td>\n",
       "      <td>wwe Smackdown vs. Raw 2006</td>\n",
       "      <td>PS2</td>\n",
       "      <td>NaN</td>\n",
       "      <td>Fighting</td>\n",
       "      <td>1.57</td>\n",
       "      <td>1.02</td>\n",
       "      <td>0.00</td>\n",
       "      <td>0.41</td>\n",
       "      <td>NaN</td>\n",
       "      <td>NaN</td>\n",
       "      <td>NaN</td>\n",
       "    </tr>\n",
       "    <tr>\n",
       "      <td>609</td>\n",
       "      <td>Space Invaders</td>\n",
       "      <td>2600</td>\n",
       "      <td>NaN</td>\n",
       "      <td>Shooter</td>\n",
       "      <td>2.36</td>\n",
       "      <td>0.14</td>\n",
       "      <td>0.00</td>\n",
       "      <td>0.03</td>\n",
       "      <td>NaN</td>\n",
       "      <td>NaN</td>\n",
       "      <td>NaN</td>\n",
       "    </tr>\n",
       "    <tr>\n",
       "      <td>...</td>\n",
       "      <td>...</td>\n",
       "      <td>...</td>\n",
       "      <td>...</td>\n",
       "      <td>...</td>\n",
       "      <td>...</td>\n",
       "      <td>...</td>\n",
       "      <td>...</td>\n",
       "      <td>...</td>\n",
       "      <td>...</td>\n",
       "      <td>...</td>\n",
       "      <td>...</td>\n",
       "    </tr>\n",
       "    <tr>\n",
       "      <td>16373</td>\n",
       "      <td>PDC World Championship Darts 2008</td>\n",
       "      <td>PSP</td>\n",
       "      <td>NaN</td>\n",
       "      <td>Sports</td>\n",
       "      <td>0.01</td>\n",
       "      <td>0.00</td>\n",
       "      <td>0.00</td>\n",
       "      <td>0.00</td>\n",
       "      <td>43.0</td>\n",
       "      <td>tbd</td>\n",
       "      <td>E10+</td>\n",
       "    </tr>\n",
       "    <tr>\n",
       "      <td>16405</td>\n",
       "      <td>Freaky Flyers</td>\n",
       "      <td>GC</td>\n",
       "      <td>NaN</td>\n",
       "      <td>Racing</td>\n",
       "      <td>0.01</td>\n",
       "      <td>0.00</td>\n",
       "      <td>0.00</td>\n",
       "      <td>0.00</td>\n",
       "      <td>69.0</td>\n",
       "      <td>6.5</td>\n",
       "      <td>T</td>\n",
       "    </tr>\n",
       "    <tr>\n",
       "      <td>16448</td>\n",
       "      <td>Inversion</td>\n",
       "      <td>PC</td>\n",
       "      <td>NaN</td>\n",
       "      <td>Shooter</td>\n",
       "      <td>0.01</td>\n",
       "      <td>0.00</td>\n",
       "      <td>0.00</td>\n",
       "      <td>0.00</td>\n",
       "      <td>59.0</td>\n",
       "      <td>6.7</td>\n",
       "      <td>M</td>\n",
       "    </tr>\n",
       "    <tr>\n",
       "      <td>16458</td>\n",
       "      <td>Hakuouki: Shinsengumi Kitan</td>\n",
       "      <td>PS3</td>\n",
       "      <td>NaN</td>\n",
       "      <td>Adventure</td>\n",
       "      <td>0.01</td>\n",
       "      <td>0.00</td>\n",
       "      <td>0.00</td>\n",
       "      <td>0.00</td>\n",
       "      <td>NaN</td>\n",
       "      <td>NaN</td>\n",
       "      <td>NaN</td>\n",
       "    </tr>\n",
       "    <tr>\n",
       "      <td>16522</td>\n",
       "      <td>Virtua Quest</td>\n",
       "      <td>GC</td>\n",
       "      <td>NaN</td>\n",
       "      <td>Role-Playing</td>\n",
       "      <td>0.01</td>\n",
       "      <td>0.00</td>\n",
       "      <td>0.00</td>\n",
       "      <td>0.00</td>\n",
       "      <td>55.0</td>\n",
       "      <td>5.5</td>\n",
       "      <td>T</td>\n",
       "    </tr>\n",
       "  </tbody>\n",
       "</table>\n",
       "<p>269 rows × 11 columns</p>\n",
       "</div>"
      ],
      "text/plain": [
       "                                    name platform  year_of_release  \\\n",
       "183                      Madden NFL 2004      PS2              NaN   \n",
       "377                     FIFA Soccer 2004      PS2              NaN   \n",
       "456           LEGO Batman: The Videogame      Wii              NaN   \n",
       "475           wwe Smackdown vs. Raw 2006      PS2              NaN   \n",
       "609                       Space Invaders     2600              NaN   \n",
       "...                                  ...      ...              ...   \n",
       "16373  PDC World Championship Darts 2008      PSP              NaN   \n",
       "16405                      Freaky Flyers       GC              NaN   \n",
       "16448                          Inversion       PC              NaN   \n",
       "16458        Hakuouki: Shinsengumi Kitan      PS3              NaN   \n",
       "16522                       Virtua Quest       GC              NaN   \n",
       "\n",
       "              genre  na_sales  eu_sales  jp_sales  other_sales  critic_score  \\\n",
       "183          Sports      4.26      0.26      0.01         0.71          94.0   \n",
       "377          Sports      0.59      2.36      0.04         0.51          84.0   \n",
       "456          Action      1.80      0.97      0.00         0.29          74.0   \n",
       "475        Fighting      1.57      1.02      0.00         0.41           NaN   \n",
       "609         Shooter      2.36      0.14      0.00         0.03           NaN   \n",
       "...             ...       ...       ...       ...          ...           ...   \n",
       "16373        Sports      0.01      0.00      0.00         0.00          43.0   \n",
       "16405        Racing      0.01      0.00      0.00         0.00          69.0   \n",
       "16448       Shooter      0.01      0.00      0.00         0.00          59.0   \n",
       "16458     Adventure      0.01      0.00      0.00         0.00           NaN   \n",
       "16522  Role-Playing      0.01      0.00      0.00         0.00          55.0   \n",
       "\n",
       "      user_score rating  \n",
       "183          8.5      E  \n",
       "377          6.4      E  \n",
       "456          7.9   E10+  \n",
       "475          NaN    NaN  \n",
       "609          NaN    NaN  \n",
       "...          ...    ...  \n",
       "16373        tbd   E10+  \n",
       "16405        6.5      T  \n",
       "16448        6.7      M  \n",
       "16458        NaN    NaN  \n",
       "16522        5.5      T  \n",
       "\n",
       "[269 rows x 11 columns]"
      ]
     },
     "execution_count": 8,
     "metadata": {},
     "output_type": "execute_result"
    }
   ],
   "source": [
    "df[df['year_of_release'].isna()]"
   ]
  },
  {
   "cell_type": "markdown",
   "metadata": {},
   "source": [
    "Удалим строки с пропусками в годе релиза"
   ]
  },
  {
   "cell_type": "code",
   "execution_count": 9,
   "metadata": {},
   "outputs": [],
   "source": [
    "# вариант заполнения пропуска, выделяя год релиза из названия, например, FIFA 2004.\n",
    "# напишем для этого функцию, которая берет на вход строку:\n",
    "# def year_func(row):\n",
    " \n",
    "#    # функция, которая будет возвращать список чисел из названия игры:\n",
    "#    def year_func_loc(row):\n",
    "#        num = [int(word) for word in row.split() if word.isdigit()]\n",
    "#        return num\n",
    "# \n",
    "#    # проверим чтобы число было было актуальным, то есть с 1995 по 2016:\n",
    "#    year = None\n",
    "#    for i in year_func_loc(row):\n",
    "#        if 1995 <= i <= 2016:\n",
    "#            year = i\n",
    "#        elif 95 <= i <= 99:\n",
    "#            year = i+1900\n",
    "#        elif 1 <= i <= 16:\n",
    "#            year = i+2000\n",
    "#    return year \n",
    "# \n",
    "#df['year_of_release'] = df['year_of_release'].fillna(df['name'].apply(year_func))\n",
    "#df.info()\n",
    "\n"
   ]
  },
  {
   "cell_type": "code",
   "execution_count": 10,
   "metadata": {},
   "outputs": [],
   "source": [
    "df = df.dropna(subset=['year_of_release'])"
   ]
  },
  {
   "cell_type": "code",
   "execution_count": 11,
   "metadata": {},
   "outputs": [
    {
     "data": {
      "text/plain": [
       "0"
      ]
     },
     "execution_count": 11,
     "metadata": {},
     "output_type": "execute_result"
    }
   ],
   "source": [
    "df['year_of_release'].isna().sum()"
   ]
  },
  {
   "cell_type": "markdown",
   "metadata": {},
   "source": [
    "Посмотрим на пропуски в столбцах с оценками критиков и пользователей:"
   ]
  },
  {
   "cell_type": "code",
   "execution_count": 12,
   "metadata": {},
   "outputs": [
    {
     "data": {
      "text/plain": [
       "array([76., nan, 82., 80., 89., 58., 87., 91., 61., 97., 95., 77., 88.,\n",
       "       83., 94., 93., 85., 86., 98., 96., 90., 84., 73., 74., 78., 92.,\n",
       "       71., 72., 68., 62., 49., 67., 81., 66., 56., 79., 70., 59., 64.,\n",
       "       75., 60., 63., 69., 50., 25., 42., 44., 55., 48., 57., 29., 47.,\n",
       "       65., 54., 20., 53., 37., 38., 33., 52., 30., 32., 43., 45., 51.,\n",
       "       40., 46., 39., 34., 41., 36., 31., 27., 35., 26., 19., 28., 23.,\n",
       "       24., 21., 17., 13.])"
      ]
     },
     "execution_count": 12,
     "metadata": {},
     "output_type": "execute_result"
    }
   ],
   "source": [
    "df['critic_score'].unique()"
   ]
  },
  {
   "cell_type": "code",
   "execution_count": 13,
   "metadata": {},
   "outputs": [
    {
     "data": {
      "text/plain": [
       "array(['8', nan, '8.3', '8.5', '6.6', '8.4', '8.6', '7.7', '6.3', '7.4',\n",
       "       '8.2', '9', '7.9', '8.1', '8.7', '7.1', '3.4', '5.3', '4.8', '3.2',\n",
       "       '8.9', '6.4', '7.8', '7.5', '2.6', '7.2', '9.2', '7', '7.3', '4.3',\n",
       "       '7.6', '5.7', '5', '9.1', '6.5', 'tbd', '8.8', '6.9', '9.4', '6.8',\n",
       "       '6.1', '6.7', '5.4', '4', '4.9', '4.5', '9.3', '6.2', '4.2', '6',\n",
       "       '3.7', '4.1', '5.8', '5.6', '5.5', '4.4', '4.6', '5.9', '3.9',\n",
       "       '3.1', '2.9', '5.2', '3.3', '4.7', '5.1', '3.5', '2.5', '1.9', '3',\n",
       "       '2.7', '2.2', '2', '9.5', '2.1', '3.6', '2.8', '1.8', '3.8', '0',\n",
       "       '1.6', '9.6', '2.4', '1.7', '1.1', '0.3', '1.5', '0.7', '1.2',\n",
       "       '2.3', '0.5', '1.3', '0.2', '0.6', '1.4', '0.9', '1', '9.7'],\n",
       "      dtype=object)"
      ]
     },
     "execution_count": 13,
     "metadata": {},
     "output_type": "execute_result"
    }
   ],
   "source": [
    "df['user_score'].unique()"
   ]
  },
  {
   "cell_type": "markdown",
   "metadata": {},
   "source": [
    "Пропуски в этих столбцах я считаю не стоит заполнять, так как самым логичным я вижу - это заполнение средним значением по жанру и платформе. Но усреднение игр может оказаться совсем неправдоподобным, так как одна и та же игра может вызывать совершенно разные отклик на разных платформах. В боевые игры удобнее играть на консоли, а симулятор вождения удобнее подключать к ПК. \n",
    "\n",
    "Пропуски в колонке с оценкой пользователей мы удалим позже, перед проверкой гипотез, дабы не исказить исследование. \n",
    "\n",
    "Отдельного внимания заслуживает тип данных в колонке с оценками пользователей - \"tbd\". В поиске на просторах интернет нашел информацию этой аббревиатуры, которая переводится как \"To Be Determined\", что означет \"будет определено\". То есть у игр с данной аббревиатурой нет рейтинга, посколько количество оценок еще сесьма мало, и может оказаться не корректным. Исходя из вышеизложенного самым логичным вариантом обработки этих данных, на мой взгляд, будет замена их на такое же, как и пропуски, так как по большому счету это они и есть. \n",
    "\n",
    "Заменим \"tbd\" на NaN. (Многие товарищи по кагорте предлагают заменить на -1, но это может повлиять на вычисление среднего значения в оценке)\n"
   ]
  },
  {
   "cell_type": "code",
   "execution_count": 14,
   "metadata": {},
   "outputs": [
    {
     "name": "stdout",
     "output_type": "stream",
     "text": [
      "<class 'pandas.core.frame.DataFrame'>\n",
      "Int64Index: 16444 entries, 0 to 16714\n",
      "Data columns (total 11 columns):\n",
      "name               16444 non-null object\n",
      "platform           16444 non-null object\n",
      "year_of_release    16444 non-null float64\n",
      "genre              16444 non-null object\n",
      "na_sales           16444 non-null float64\n",
      "eu_sales           16444 non-null float64\n",
      "jp_sales           16444 non-null float64\n",
      "other_sales        16444 non-null float64\n",
      "critic_score       7983 non-null float64\n",
      "user_score         7463 non-null object\n",
      "rating             9768 non-null object\n",
      "dtypes: float64(6), object(5)\n",
      "memory usage: 1.5+ MB\n"
     ]
    }
   ],
   "source": [
    "df['user_score'] = df['user_score'].replace('tbd', np.NaN)\n",
    "df.info()"
   ]
  },
  {
   "cell_type": "markdown",
   "metadata": {},
   "source": [
    "Столбец rating указывает на рейтинг от организации ESRB. Его менять или заполнять уж точне не стоит, так как врядли мы можем взять на себя такую ответственность, так как он определяет возрастной ценз пользователей. "
   ]
  },
  {
   "cell_type": "code",
   "execution_count": 15,
   "metadata": {},
   "outputs": [
    {
     "data": {
      "text/plain": [
       "array(['E', nan, 'M', 'T', 'E10+', 'K-A', 'AO', 'EC', 'RP'], dtype=object)"
      ]
     },
     "execution_count": 15,
     "metadata": {},
     "output_type": "execute_result"
    }
   ],
   "source": [
    "df['rating'].unique()"
   ]
  },
  {
   "cell_type": "markdown",
   "metadata": {},
   "source": [
    "Просто заменим пропуски на обозначения отсутствия определения рейтинга - \"No Determined\""
   ]
  },
  {
   "cell_type": "code",
   "execution_count": 16,
   "metadata": {},
   "outputs": [
    {
     "name": "stdout",
     "output_type": "stream",
     "text": [
      "['E' 'No Determined' 'M' 'T' 'E10+' 'K-A' 'AO' 'EC' 'RP']\n",
      "<class 'pandas.core.frame.DataFrame'>\n",
      "Int64Index: 16444 entries, 0 to 16714\n",
      "Data columns (total 11 columns):\n",
      "name               16444 non-null object\n",
      "platform           16444 non-null object\n",
      "year_of_release    16444 non-null float64\n",
      "genre              16444 non-null object\n",
      "na_sales           16444 non-null float64\n",
      "eu_sales           16444 non-null float64\n",
      "jp_sales           16444 non-null float64\n",
      "other_sales        16444 non-null float64\n",
      "critic_score       7983 non-null float64\n",
      "user_score         7463 non-null object\n",
      "rating             16444 non-null object\n",
      "dtypes: float64(6), object(5)\n",
      "memory usage: 1.5+ MB\n"
     ]
    }
   ],
   "source": [
    "df['rating'] = df['rating'].fillna('No Determined')\n",
    "print(df['rating'].unique())\n",
    "df.info()"
   ]
  },
  {
   "cell_type": "markdown",
   "metadata": {},
   "source": [
    "### Дубликаты"
   ]
  },
  {
   "cell_type": "markdown",
   "metadata": {},
   "source": [
    "Не будем забывать про возможное наличие дубликатов:"
   ]
  },
  {
   "cell_type": "code",
   "execution_count": 17,
   "metadata": {},
   "outputs": [
    {
     "data": {
      "text/plain": [
       "0"
      ]
     },
     "execution_count": 17,
     "metadata": {},
     "output_type": "execute_result"
    }
   ],
   "source": [
    "df.duplicated().sum()"
   ]
  },
  {
   "cell_type": "markdown",
   "metadata": {},
   "source": [
    "### Заменим тип данных"
   ]
  },
  {
   "cell_type": "markdown",
   "metadata": {},
   "source": [
    "Стоит преобразовать тип данных в колонке с оценкой пользователей. Можно также подумать с преобразованием года релиза, но в datetime нет необходимости преобразовывать, так как нет информации о месяце и дне, поэтому преобразуем в целочисленный формат. "
   ]
  },
  {
   "cell_type": "code",
   "execution_count": 18,
   "metadata": {},
   "outputs": [
    {
     "name": "stdout",
     "output_type": "stream",
     "text": [
      "<class 'pandas.core.frame.DataFrame'>\n",
      "Int64Index: 16444 entries, 0 to 16714\n",
      "Data columns (total 11 columns):\n",
      "name               16444 non-null object\n",
      "platform           16444 non-null object\n",
      "year_of_release    16444 non-null int64\n",
      "genre              16444 non-null object\n",
      "na_sales           16444 non-null float64\n",
      "eu_sales           16444 non-null float64\n",
      "jp_sales           16444 non-null float64\n",
      "other_sales        16444 non-null float64\n",
      "critic_score       7983 non-null float64\n",
      "user_score         7463 non-null float64\n",
      "rating             16444 non-null object\n",
      "dtypes: float64(6), int64(1), object(4)\n",
      "memory usage: 1.5+ MB\n"
     ]
    }
   ],
   "source": [
    "# меняем формат оценки пользователей на численный:\n",
    "df['user_score'] = df['user_score'].astype('float')\n",
    "\n",
    "# меняем год на целочисленный:\n",
    "df['year_of_release'] = df['year_of_release'].astype('int')\n",
    "\n",
    "df.info()"
   ]
  },
  {
   "cell_type": "markdown",
   "metadata": {},
   "source": [
    "### Посчитаем суммарные продажи"
   ]
  },
  {
   "cell_type": "code",
   "execution_count": 19,
   "metadata": {},
   "outputs": [
    {
     "data": {
      "text/html": [
       "<div>\n",
       "<style scoped>\n",
       "    .dataframe tbody tr th:only-of-type {\n",
       "        vertical-align: middle;\n",
       "    }\n",
       "\n",
       "    .dataframe tbody tr th {\n",
       "        vertical-align: top;\n",
       "    }\n",
       "\n",
       "    .dataframe thead th {\n",
       "        text-align: right;\n",
       "    }\n",
       "</style>\n",
       "<table border=\"1\" class=\"dataframe\">\n",
       "  <thead>\n",
       "    <tr style=\"text-align: right;\">\n",
       "      <th></th>\n",
       "      <th>name</th>\n",
       "      <th>platform</th>\n",
       "      <th>year_of_release</th>\n",
       "      <th>genre</th>\n",
       "      <th>na_sales</th>\n",
       "      <th>eu_sales</th>\n",
       "      <th>jp_sales</th>\n",
       "      <th>other_sales</th>\n",
       "      <th>critic_score</th>\n",
       "      <th>user_score</th>\n",
       "      <th>rating</th>\n",
       "      <th>total_sales</th>\n",
       "    </tr>\n",
       "  </thead>\n",
       "  <tbody>\n",
       "    <tr>\n",
       "      <td>0</td>\n",
       "      <td>Wii Sports</td>\n",
       "      <td>Wii</td>\n",
       "      <td>2006</td>\n",
       "      <td>Sports</td>\n",
       "      <td>41.36</td>\n",
       "      <td>28.96</td>\n",
       "      <td>3.77</td>\n",
       "      <td>8.45</td>\n",
       "      <td>76.0</td>\n",
       "      <td>8.0</td>\n",
       "      <td>E</td>\n",
       "      <td>82.54</td>\n",
       "    </tr>\n",
       "    <tr>\n",
       "      <td>1</td>\n",
       "      <td>Super Mario Bros.</td>\n",
       "      <td>NES</td>\n",
       "      <td>1985</td>\n",
       "      <td>Platform</td>\n",
       "      <td>29.08</td>\n",
       "      <td>3.58</td>\n",
       "      <td>6.81</td>\n",
       "      <td>0.77</td>\n",
       "      <td>NaN</td>\n",
       "      <td>NaN</td>\n",
       "      <td>No Determined</td>\n",
       "      <td>40.24</td>\n",
       "    </tr>\n",
       "    <tr>\n",
       "      <td>2</td>\n",
       "      <td>Mario Kart Wii</td>\n",
       "      <td>Wii</td>\n",
       "      <td>2008</td>\n",
       "      <td>Racing</td>\n",
       "      <td>15.68</td>\n",
       "      <td>12.76</td>\n",
       "      <td>3.79</td>\n",
       "      <td>3.29</td>\n",
       "      <td>82.0</td>\n",
       "      <td>8.3</td>\n",
       "      <td>E</td>\n",
       "      <td>35.52</td>\n",
       "    </tr>\n",
       "    <tr>\n",
       "      <td>3</td>\n",
       "      <td>Wii Sports Resort</td>\n",
       "      <td>Wii</td>\n",
       "      <td>2009</td>\n",
       "      <td>Sports</td>\n",
       "      <td>15.61</td>\n",
       "      <td>10.93</td>\n",
       "      <td>3.28</td>\n",
       "      <td>2.95</td>\n",
       "      <td>80.0</td>\n",
       "      <td>8.0</td>\n",
       "      <td>E</td>\n",
       "      <td>32.77</td>\n",
       "    </tr>\n",
       "    <tr>\n",
       "      <td>4</td>\n",
       "      <td>Pokemon Red/Pokemon Blue</td>\n",
       "      <td>GB</td>\n",
       "      <td>1996</td>\n",
       "      <td>Role-Playing</td>\n",
       "      <td>11.27</td>\n",
       "      <td>8.89</td>\n",
       "      <td>10.22</td>\n",
       "      <td>1.00</td>\n",
       "      <td>NaN</td>\n",
       "      <td>NaN</td>\n",
       "      <td>No Determined</td>\n",
       "      <td>31.38</td>\n",
       "    </tr>\n",
       "  </tbody>\n",
       "</table>\n",
       "</div>"
      ],
      "text/plain": [
       "                       name platform  year_of_release         genre  na_sales  \\\n",
       "0                Wii Sports      Wii             2006        Sports     41.36   \n",
       "1         Super Mario Bros.      NES             1985      Platform     29.08   \n",
       "2            Mario Kart Wii      Wii             2008        Racing     15.68   \n",
       "3         Wii Sports Resort      Wii             2009        Sports     15.61   \n",
       "4  Pokemon Red/Pokemon Blue       GB             1996  Role-Playing     11.27   \n",
       "\n",
       "   eu_sales  jp_sales  other_sales  critic_score  user_score         rating  \\\n",
       "0     28.96      3.77         8.45          76.0         8.0              E   \n",
       "1      3.58      6.81         0.77           NaN         NaN  No Determined   \n",
       "2     12.76      3.79         3.29          82.0         8.3              E   \n",
       "3     10.93      3.28         2.95          80.0         8.0              E   \n",
       "4      8.89     10.22         1.00           NaN         NaN  No Determined   \n",
       "\n",
       "   total_sales  \n",
       "0        82.54  \n",
       "1        40.24  \n",
       "2        35.52  \n",
       "3        32.77  \n",
       "4        31.38  "
      ]
     },
     "execution_count": 19,
     "metadata": {},
     "output_type": "execute_result"
    }
   ],
   "source": [
    "df['total_sales'] = df['na_sales'] + df['eu_sales'] + df['jp_sales'] + df['other_sales']\n",
    "df.head()"
   ]
  },
  {
   "cell_type": "markdown",
   "metadata": {},
   "source": [
    "## Исследовательский анализ данных"
   ]
  },
  {
   "cell_type": "markdown",
   "metadata": {},
   "source": [
    "### Количество игр выпущенных в разные годы"
   ]
  },
  {
   "cell_type": "markdown",
   "metadata": {},
   "source": [
    "Этот шаг мы делали в обзоре данных, но неплохо освежить его в памяти:"
   ]
  },
  {
   "cell_type": "code",
   "execution_count": 20,
   "metadata": {},
   "outputs": [
    {
     "data": {
      "text/plain": [
       "<matplotlib.axes._subplots.AxesSubplot at 0x7f562a1682d0>"
      ]
     },
     "execution_count": 20,
     "metadata": {},
     "output_type": "execute_result"
    },
    {
     "data": {
      "image/png": "[encoded data removed]",
      "text/plain": [
       "<Figure size 432x288 with 1 Axes>"
      ]
     },
     "metadata": {
      "needs_background": "light"
     },
     "output_type": "display_data"
    }
   ],
   "source": [
    "# построим сводную таблицу с сортировкой по году выпуска:\n",
    "df_year = df.pivot_table(index='name', values='year_of_release')\n",
    "\n",
    "# и построим график:\n",
    "df_year.plot(kind='hist', bins=37)"
   ]
  },
  {
   "cell_type": "markdown",
   "metadata": {},
   "source": [
    "Мы видим что в 1995 начинается \"рассвет\" компьютерных игр. Это связано с появлением полноценных 3D игр, появились новые жанры - шутер от первого лица, стратегия в реальном времени и MMO. Этому предшествовало появление 22 марта 1993 года Pentium 1, что повысило пользовтельские мощности и компьютеры в целом начинали появляться не только в лаборатариях и НИИ, но и у частных лиц, компьютеры стали более доступны. Спад популярности в после 2008 года можно объяснить внедрением в жизнь смартфонов и появлением социальных сетей, у людей сместился акцент интересов и на игры оставалось меньше времени. Посмотрим, есть ли игры для мобильных устройств в нашем наборе данных?"
   ]
  },
  {
   "cell_type": "code",
   "execution_count": 21,
   "metadata": {},
   "outputs": [
    {
     "data": {
      "text/plain": [
       "array(['Wii', 'NES', 'GB', 'DS', 'X360', 'PS3', 'PS2', 'SNES', 'GBA',\n",
       "       'PS4', '3DS', 'N64', 'PS', 'XB', 'PC', '2600', 'PSP', 'XOne',\n",
       "       'WiiU', 'GC', 'GEN', 'DC', 'PSV', 'SAT', 'SCD', 'WS', 'NG', 'TG16',\n",
       "       '3DO', 'GG', 'PCFX'], dtype=object)"
      ]
     },
     "execution_count": 21,
     "metadata": {},
     "output_type": "execute_result"
    }
   ],
   "source": [
    "df['platform'].unique()"
   ]
  },
  {
   "cell_type": "markdown",
   "metadata": {},
   "source": [
    "Для телефонов были распространены игры на платформах J2ME iOS Android DoJa BREW. Как мы видим у нас их нет. "
   ]
  },
  {
   "cell_type": "markdown",
   "metadata": {},
   "source": [
    "### Продажи по платформам"
   ]
  },
  {
   "cell_type": "markdown",
   "metadata": {},
   "source": [
    "Нам нужно изучить данные о популярности различных платформ в разные годы. \n",
    "Создадим сводную таблицу по платформам. "
   ]
  },
  {
   "cell_type": "code",
   "execution_count": 22,
   "metadata": {},
   "outputs": [
    {
     "data": {
      "text/html": [
       "<div>\n",
       "<style scoped>\n",
       "    .dataframe tbody tr th:only-of-type {\n",
       "        vertical-align: middle;\n",
       "    }\n",
       "\n",
       "    .dataframe tbody tr th {\n",
       "        vertical-align: top;\n",
       "    }\n",
       "\n",
       "    .dataframe thead th {\n",
       "        text-align: right;\n",
       "    }\n",
       "</style>\n",
       "<table border=\"1\" class=\"dataframe\">\n",
       "  <thead>\n",
       "    <tr style=\"text-align: right;\">\n",
       "      <th></th>\n",
       "      <th>platform</th>\n",
       "      <th>total_sales</th>\n",
       "    </tr>\n",
       "  </thead>\n",
       "  <tbody>\n",
       "    <tr>\n",
       "      <td>16</td>\n",
       "      <td>PS2</td>\n",
       "      <td>1233.56</td>\n",
       "    </tr>\n",
       "    <tr>\n",
       "      <td>28</td>\n",
       "      <td>X360</td>\n",
       "      <td>961.24</td>\n",
       "    </tr>\n",
       "    <tr>\n",
       "      <td>17</td>\n",
       "      <td>PS3</td>\n",
       "      <td>931.34</td>\n",
       "    </tr>\n",
       "    <tr>\n",
       "      <td>26</td>\n",
       "      <td>Wii</td>\n",
       "      <td>891.18</td>\n",
       "    </tr>\n",
       "    <tr>\n",
       "      <td>4</td>\n",
       "      <td>DS</td>\n",
       "      <td>802.78</td>\n",
       "    </tr>\n",
       "    <tr>\n",
       "      <td>15</td>\n",
       "      <td>PS</td>\n",
       "      <td>727.58</td>\n",
       "    </tr>\n",
       "    <tr>\n",
       "      <td>18</td>\n",
       "      <td>PS4</td>\n",
       "      <td>314.14</td>\n",
       "    </tr>\n",
       "    <tr>\n",
       "      <td>6</td>\n",
       "      <td>GBA</td>\n",
       "      <td>312.88</td>\n",
       "    </tr>\n",
       "    <tr>\n",
       "      <td>19</td>\n",
       "      <td>PSP</td>\n",
       "      <td>289.53</td>\n",
       "    </tr>\n",
       "    <tr>\n",
       "      <td>2</td>\n",
       "      <td>3DS</td>\n",
       "      <td>257.81</td>\n",
       "    </tr>\n",
       "  </tbody>\n",
       "</table>\n",
       "</div>"
      ],
      "text/plain": [
       "   platform  total_sales\n",
       "16      PS2      1233.56\n",
       "28     X360       961.24\n",
       "17      PS3       931.34\n",
       "26      Wii       891.18\n",
       "4        DS       802.78\n",
       "15       PS       727.58\n",
       "18      PS4       314.14\n",
       "6       GBA       312.88\n",
       "19      PSP       289.53\n",
       "2       3DS       257.81"
      ]
     },
     "execution_count": 22,
     "metadata": {},
     "output_type": "execute_result"
    }
   ],
   "source": [
    "# сводник\n",
    "df_pivot_platform = df.pivot_table(index='platform', values='total_sales', aggfunc='sum')\n",
    "df_pivot_platform.reset_index().sort_values(by='total_sales', ascending=False).head(10)"
   ]
  },
  {
   "cell_type": "markdown",
   "metadata": {},
   "source": [
    "В лидерах у нас PlayStation 2. Соберем первые платформы и посмотрим на распределение по годам."
   ]
  },
  {
   "cell_type": "code",
   "execution_count": 23,
   "metadata": {},
   "outputs": [
    {
     "data": {
      "image/png": "[encoded data removed]",
      "text/plain": [
       "<Figure size 864x432 with 1 Axes>"
      ]
     },
     "metadata": {
      "needs_background": "light"
     },
     "output_type": "display_data"
    }
   ],
   "source": [
    "# создадим список самых успешных платформ:\n",
    "platform_list = ['PS2', 'X360', 'PS3', 'Wii', 'DS', 'PS', 'GBA', 'PS4', 'PSP', 'PC']\n",
    "\n",
    "# напишем цикл для построения графиков в зависимости от платформы и суммы продаж:\n",
    "for platform in platform_list:\n",
    "    (df[df['platform'] == platform].groupby('year_of_release')['total_sales']\n",
    "     .sum().plot(label=platform, grid=True, figsize=(12,6)))\n",
    "    \n",
    "plt.title('Количество продаж на разных платформах в разные годы')\n",
    "plt.xlabel('Год релиза игры')\n",
    "plt.ylabel('Количество копий, млн')\n",
    "plt.legend()\n",
    "plt.show()\n",
    "\n"
   ]
  },
  {
   "cell_type": "markdown",
   "metadata": {},
   "source": [
    "Исходя из графика можно сдеать вывод что в среднем каждая платформа пользуется популярностью около 10 лет. В 2015-2016 году с явным приемуществом лидирует PS4."
   ]
  },
  {
   "cell_type": "markdown",
   "metadata": {},
   "source": [
    "### Поиск актуального периода"
   ]
  },
  {
   "cell_type": "markdown",
   "metadata": {},
   "source": [
    "Учитывая срок \"жизни\" платформы в 10 лет, и срок роста популярности платформы около 3-5 лет (опять же исходя из графика) считаю целесообразным взять данные за 2013-2016 года. Создадим новый датасет с актуальными данными."
   ]
  },
  {
   "cell_type": "code",
   "execution_count": 24,
   "metadata": {},
   "outputs": [
    {
     "data": {
      "text/plain": [
       "array([2013, 2015, 2014, 2016])"
      ]
     },
     "execution_count": 24,
     "metadata": {},
     "output_type": "execute_result"
    }
   ],
   "source": [
    "df_actual = df.query('year_of_release >= 2013')\n",
    "df_actual['year_of_release'].unique()"
   ]
  },
  {
   "cell_type": "markdown",
   "metadata": {},
   "source": [
    "И построим еще раз график, но уже используя актуальный датасет. Предварительно нужно актуализировать и список игровых платформ. Далеко не все остались \"в строю\"."
   ]
  },
  {
   "cell_type": "code",
   "execution_count": 25,
   "metadata": {},
   "outputs": [
    {
     "data": {
      "text/html": [
       "<div>\n",
       "<style scoped>\n",
       "    .dataframe tbody tr th:only-of-type {\n",
       "        vertical-align: middle;\n",
       "    }\n",
       "\n",
       "    .dataframe tbody tr th {\n",
       "        vertical-align: top;\n",
       "    }\n",
       "\n",
       "    .dataframe thead th {\n",
       "        text-align: right;\n",
       "    }\n",
       "</style>\n",
       "<table border=\"1\" class=\"dataframe\">\n",
       "  <thead>\n",
       "    <tr style=\"text-align: right;\">\n",
       "      <th></th>\n",
       "      <th>platform</th>\n",
       "      <th>total_sales</th>\n",
       "    </tr>\n",
       "  </thead>\n",
       "  <tbody>\n",
       "    <tr>\n",
       "      <td>4</td>\n",
       "      <td>PS4</td>\n",
       "      <td>314.14</td>\n",
       "    </tr>\n",
       "    <tr>\n",
       "      <td>3</td>\n",
       "      <td>PS3</td>\n",
       "      <td>181.43</td>\n",
       "    </tr>\n",
       "    <tr>\n",
       "      <td>10</td>\n",
       "      <td>XOne</td>\n",
       "      <td>159.32</td>\n",
       "    </tr>\n",
       "    <tr>\n",
       "      <td>0</td>\n",
       "      <td>3DS</td>\n",
       "      <td>143.25</td>\n",
       "    </tr>\n",
       "    <tr>\n",
       "      <td>9</td>\n",
       "      <td>X360</td>\n",
       "      <td>136.80</td>\n",
       "    </tr>\n",
       "    <tr>\n",
       "      <td>8</td>\n",
       "      <td>WiiU</td>\n",
       "      <td>64.63</td>\n",
       "    </tr>\n",
       "    <tr>\n",
       "      <td>2</td>\n",
       "      <td>PC</td>\n",
       "      <td>39.43</td>\n",
       "    </tr>\n",
       "    <tr>\n",
       "      <td>6</td>\n",
       "      <td>PSV</td>\n",
       "      <td>32.99</td>\n",
       "    </tr>\n",
       "    <tr>\n",
       "      <td>7</td>\n",
       "      <td>Wii</td>\n",
       "      <td>13.66</td>\n",
       "    </tr>\n",
       "    <tr>\n",
       "      <td>5</td>\n",
       "      <td>PSP</td>\n",
       "      <td>3.50</td>\n",
       "    </tr>\n",
       "  </tbody>\n",
       "</table>\n",
       "</div>"
      ],
      "text/plain": [
       "   platform  total_sales\n",
       "4       PS4       314.14\n",
       "3       PS3       181.43\n",
       "10     XOne       159.32\n",
       "0       3DS       143.25\n",
       "9      X360       136.80\n",
       "8      WiiU        64.63\n",
       "2        PC        39.43\n",
       "6       PSV        32.99\n",
       "7       Wii        13.66\n",
       "5       PSP         3.50"
      ]
     },
     "execution_count": 25,
     "metadata": {},
     "output_type": "execute_result"
    }
   ],
   "source": [
    "# еще раз создадим сводную таблицу:\n",
    "df_pivot_platform_actual = df_actual.pivot_table(index='platform', values='total_sales', aggfunc='sum')\n",
    "df_pivot_platform_actual.reset_index().sort_values(by='total_sales', ascending=False).head(10)"
   ]
  },
  {
   "cell_type": "code",
   "execution_count": 26,
   "metadata": {},
   "outputs": [
    {
     "data": {
      "image/png": "[encoded data removed]",
      "text/plain": [
       "<Figure size 864x432 with 1 Axes>"
      ]
     },
     "metadata": {
      "needs_background": "light"
     },
     "output_type": "display_data"
    }
   ],
   "source": [
    "# создадим новый, актуальный список платформ\n",
    "platform_list_actual = ['X360', 'PS3', 'Wii', 'PSV', 'PS4', 'PSP', 'PC', 'XOne', '3DS', 'WiiU']\n",
    "\n",
    "# напишем цикл для построения графиков в зависимости от платформы и суммы продаж:\n",
    "for platform in platform_list_actual:\n",
    "    (df_actual[df_actual['platform'] == platform].groupby('year_of_release')['total_sales']\n",
    "     .sum().plot(label=platform, grid=True, figsize=(12,6)))\n",
    "    \n",
    "plt.title('Количество продаж на разных платформах в разные годы')\n",
    "plt.xlabel('Год релиза игры')\n",
    "plt.ylabel('Количество копий, млн')\n",
    "plt.legend()\n",
    "plt.show()\n"
   ]
  },
  {
   "cell_type": "markdown",
   "metadata": {},
   "source": [
    "Лидер у нас PS4, на втором месте XOne, третий 3DS. Видно что продажи на всех платформах падают с 2015 года. Это говорит об спаде спроса в  индустрии в целом. Но также в прошлые годы внушительные результаты были у PS3 и X360. Итак рейтинг таков:\n",
    "\n",
    "1. PS4\n",
    "2. XOne\n",
    "3. 3DS\n",
    "4. PS3\n",
    "5. X360\n",
    "\n",
    "Видно что PS-ки пользуются спросом каждая в свое время. Вспомним что абсолютный лидер по продажам тоже PS - это PS2. Если будет анонс новых PS, я бы явно ставил на них. "
   ]
  },
  {
   "cell_type": "markdown",
   "metadata": {},
   "source": [
    "### \"Ящик с усами\""
   ]
  },
  {
   "cell_type": "markdown",
   "metadata": {},
   "source": [
    "Построим \"ящик с усами\" по глобальным продажам в разбивке по платформам:"
   ]
  },
  {
   "cell_type": "code",
   "execution_count": 27,
   "metadata": {},
   "outputs": [
    {
     "name": "stderr",
     "output_type": "stream",
     "text": [
      "/opt/conda/lib/python3.7/site-packages/numpy/core/_asarray.py:83: VisibleDeprecationWarning: Creating an ndarray from ragged nested sequences (which is a list-or-tuple of lists-or-tuples-or ndarrays with different lengths or shapes) is deprecated. If you meant to do this, you must specify 'dtype=object' when creating the ndarray\n",
      "  return array(a, dtype, copy=False, order=order)\n"
     ]
    },
    {
     "data": {
      "text/plain": [
       "<matplotlib.axes._subplots.AxesSubplot at 0x7f562986ba50>"
      ]
     },
     "execution_count": 27,
     "metadata": {},
     "output_type": "execute_result"
    },
    {
     "data": {
      "image/png": "[encoded data removed]",
      "text/plain": [
       "<Figure size 432x288 with 1 Axes>"
      ]
     },
     "metadata": {
      "needs_background": "light"
     },
     "output_type": "display_data"
    }
   ],
   "source": [
    "df_actual.boxplot('total_sales', by='platform')"
   ]
  },
  {
   "cell_type": "markdown",
   "metadata": {},
   "source": [
    "<div class=\"alert alert-warning\">\n",
    "<b>Комментарий ревьюера:</b> Для такого большого разброса удобно использовать логарифмический масштаб по оси Y. Точные значения там будет смотреть не очень удобно, но общую картину увидим\n",
    "</div>"
   ]
  },
  {
   "cell_type": "markdown",
   "metadata": {},
   "source": [
    "Достаточно онформативно получилось. Можно сделать несколько выводов.\n",
    "\n",
    "1. На некоторых платформах есть игры, которые сильно выделяются по количеству копий. Лидер - PS3, который имеет игру более 20 млн копий, учитывая что среднее значение менее 1 млн копий. На втором месте X360, имеет игру с более 16 млн копий. На третьем месте PS4 и 3DS, чуть менее 15 млн копий. \n",
    "\n",
    "2. Почти на всех платформах есть такая игра - джек-пот, но есть и очень скромные платформы. на PC, PSV, Wii, таких игр 1-3. На платформах DS и PSP удачных игр, выбивающихся из основной массы нет вовсе. \n",
    "\n",
    "3. На платформах 3DS, PS3, PS4, X360 и XOne хочется отметить обилие игр, которые получают больше копий, чем основная масса игр. "
   ]
  },
  {
   "cell_type": "markdown",
   "metadata": {},
   "source": [
    "### Влияние отзывов"
   ]
  },
  {
   "cell_type": "markdown",
   "metadata": {},
   "source": [
    "Предлагаю взять самую успешную платформу всех времен и народов - PS2, и на её примере посмотреть как оценки критиков и пользователей влияют на продажи. Начнем с оценки критиков:"
   ]
  },
  {
   "cell_type": "code",
   "execution_count": 28,
   "metadata": {},
   "outputs": [
    {
     "data": {
      "text/plain": [
       "<matplotlib.axes._subplots.AxesSubplot at 0x7f56285e9690>"
      ]
     },
     "execution_count": 28,
     "metadata": {},
     "output_type": "execute_result"
    },
    {
     "data": {
      "image/png": "[encoded data removed]",
      "text/plain": [
       "<Figure size 864x432 with 1 Axes>"
      ]
     },
     "metadata": {
      "needs_background": "light"
     },
     "output_type": "display_data"
    }
   ],
   "source": [
    "# создадим датасет с PS4:\n",
    "df_actual_ps4 = df_actual[df_actual['platform'] == 'PS4']\n",
    "\n",
    "# построим диаграмму рассеяния:\n",
    "df_actual_ps4.plot(kind='scatter', x='critic_score', y='total_sales', figsize=(12,6))"
   ]
  },
  {
   "cell_type": "markdown",
   "metadata": {},
   "source": [
    "Вполне логичная взаимосвязь - чем выше оценки критиков, тем больше проданных копий - на выбор игроков явно влияет оценка критиков. Один экземпляр вообще имеет оценку более 95, и более 12 млн копий. Даже стало интересно, что это за игра..."
   ]
  },
  {
   "cell_type": "code",
   "execution_count": 29,
   "metadata": {},
   "outputs": [
    {
     "data": {
      "text/html": [
       "<div>\n",
       "<style scoped>\n",
       "    .dataframe tbody tr th:only-of-type {\n",
       "        vertical-align: middle;\n",
       "    }\n",
       "\n",
       "    .dataframe tbody tr th {\n",
       "        vertical-align: top;\n",
       "    }\n",
       "\n",
       "    .dataframe thead th {\n",
       "        text-align: right;\n",
       "    }\n",
       "</style>\n",
       "<table border=\"1\" class=\"dataframe\">\n",
       "  <thead>\n",
       "    <tr style=\"text-align: right;\">\n",
       "      <th></th>\n",
       "      <th>name</th>\n",
       "      <th>platform</th>\n",
       "      <th>year_of_release</th>\n",
       "      <th>genre</th>\n",
       "      <th>na_sales</th>\n",
       "      <th>eu_sales</th>\n",
       "      <th>jp_sales</th>\n",
       "      <th>other_sales</th>\n",
       "      <th>critic_score</th>\n",
       "      <th>user_score</th>\n",
       "      <th>rating</th>\n",
       "      <th>total_sales</th>\n",
       "    </tr>\n",
       "  </thead>\n",
       "  <tbody>\n",
       "    <tr>\n",
       "      <td>42</td>\n",
       "      <td>Grand Theft Auto V</td>\n",
       "      <td>PS4</td>\n",
       "      <td>2014</td>\n",
       "      <td>Action</td>\n",
       "      <td>3.96</td>\n",
       "      <td>6.31</td>\n",
       "      <td>0.38</td>\n",
       "      <td>1.97</td>\n",
       "      <td>97.0</td>\n",
       "      <td>8.3</td>\n",
       "      <td>M</td>\n",
       "      <td>12.62</td>\n",
       "    </tr>\n",
       "    <tr>\n",
       "      <td>171</td>\n",
       "      <td>Uncharted 4: A Thief's End</td>\n",
       "      <td>PS4</td>\n",
       "      <td>2016</td>\n",
       "      <td>Shooter</td>\n",
       "      <td>1.85</td>\n",
       "      <td>2.50</td>\n",
       "      <td>0.19</td>\n",
       "      <td>0.85</td>\n",
       "      <td>93.0</td>\n",
       "      <td>7.9</td>\n",
       "      <td>T</td>\n",
       "      <td>5.39</td>\n",
       "    </tr>\n",
       "    <tr>\n",
       "      <td>390</td>\n",
       "      <td>Metal Gear Solid V: The Phantom Pain</td>\n",
       "      <td>PS4</td>\n",
       "      <td>2015</td>\n",
       "      <td>Action</td>\n",
       "      <td>1.09</td>\n",
       "      <td>1.36</td>\n",
       "      <td>0.49</td>\n",
       "      <td>0.48</td>\n",
       "      <td>93.0</td>\n",
       "      <td>8.2</td>\n",
       "      <td>M</td>\n",
       "      <td>3.42</td>\n",
       "    </tr>\n",
       "    <tr>\n",
       "      <td>623</td>\n",
       "      <td>Bloodborne</td>\n",
       "      <td>PS4</td>\n",
       "      <td>2015</td>\n",
       "      <td>Action</td>\n",
       "      <td>1.03</td>\n",
       "      <td>0.81</td>\n",
       "      <td>0.26</td>\n",
       "      <td>0.38</td>\n",
       "      <td>92.0</td>\n",
       "      <td>8.6</td>\n",
       "      <td>M</td>\n",
       "      <td>2.48</td>\n",
       "    </tr>\n",
       "    <tr>\n",
       "      <td>303</td>\n",
       "      <td>The Witcher 3: Wild Hunt</td>\n",
       "      <td>PS4</td>\n",
       "      <td>2015</td>\n",
       "      <td>Role-Playing</td>\n",
       "      <td>1.02</td>\n",
       "      <td>2.13</td>\n",
       "      <td>0.23</td>\n",
       "      <td>0.59</td>\n",
       "      <td>92.0</td>\n",
       "      <td>9.2</td>\n",
       "      <td>M</td>\n",
       "      <td>3.97</td>\n",
       "    </tr>\n",
       "  </tbody>\n",
       "</table>\n",
       "</div>"
      ],
      "text/plain": [
       "                                     name platform  year_of_release  \\\n",
       "42                     Grand Theft Auto V      PS4             2014   \n",
       "171            Uncharted 4: A Thief's End      PS4             2016   \n",
       "390  Metal Gear Solid V: The Phantom Pain      PS4             2015   \n",
       "623                            Bloodborne      PS4             2015   \n",
       "303              The Witcher 3: Wild Hunt      PS4             2015   \n",
       "\n",
       "            genre  na_sales  eu_sales  jp_sales  other_sales  critic_score  \\\n",
       "42         Action      3.96      6.31      0.38         1.97          97.0   \n",
       "171       Shooter      1.85      2.50      0.19         0.85          93.0   \n",
       "390        Action      1.09      1.36      0.49         0.48          93.0   \n",
       "623        Action      1.03      0.81      0.26         0.38          92.0   \n",
       "303  Role-Playing      1.02      2.13      0.23         0.59          92.0   \n",
       "\n",
       "     user_score rating  total_sales  \n",
       "42          8.3      M        12.62  \n",
       "171         7.9      T         5.39  \n",
       "390         8.2      M         3.42  \n",
       "623         8.6      M         2.48  \n",
       "303         9.2      M         3.97  "
      ]
     },
     "execution_count": 29,
     "metadata": {},
     "output_type": "execute_result"
    }
   ],
   "source": [
    "df_actual_ps4.sort_values(by='critic_score', ascending=False).head()"
   ]
  },
  {
   "cell_type": "markdown",
   "metadata": {},
   "source": [
    "Да, неудивительно, нашумевшая GTA 5. Все мы в нее, наверное, играли. Теперь очередь влияния оценок игроков:"
   ]
  },
  {
   "cell_type": "code",
   "execution_count": 30,
   "metadata": {},
   "outputs": [
    {
     "data": {
      "text/plain": [
       "<matplotlib.axes._subplots.AxesSubplot at 0x7f5628569990>"
      ]
     },
     "execution_count": 30,
     "metadata": {},
     "output_type": "execute_result"
    },
    {
     "data": {
      "image/png": "[encoded data removed]",
      "text/plain": [
       "<Figure size 864x432 with 1 Axes>"
      ]
     },
     "metadata": {
      "needs_background": "light"
     },
     "output_type": "display_data"
    }
   ],
   "source": [
    "# построим диаграмму рассеяния по отзывам пользователей:\n",
    "df_actual_ps4.plot(kind='scatter', x='user_score', y='total_sales', figsize=(12,6))"
   ]
  },
  {
   "cell_type": "markdown",
   "metadata": {},
   "source": [
    "Закономерность схожая, хоть и далеко не такая очевидная. На графике хорошо видно, что продаются и не самые звездные игры. На мой взгляд это связано с тем, что игрок покупает игру, поиграв в нее, разочаровывается, и ставит плохую оценку. Посмотрим на корреляцию отзывов и продаж."
   ]
  },
  {
   "cell_type": "code",
   "execution_count": 31,
   "metadata": {},
   "outputs": [
    {
     "data": {
      "text/html": [
       "<div>\n",
       "<style scoped>\n",
       "    .dataframe tbody tr th:only-of-type {\n",
       "        vertical-align: middle;\n",
       "    }\n",
       "\n",
       "    .dataframe tbody tr th {\n",
       "        vertical-align: top;\n",
       "    }\n",
       "\n",
       "    .dataframe thead th {\n",
       "        text-align: right;\n",
       "    }\n",
       "</style>\n",
       "<table border=\"1\" class=\"dataframe\">\n",
       "  <thead>\n",
       "    <tr style=\"text-align: right;\">\n",
       "      <th></th>\n",
       "      <th>year_of_release</th>\n",
       "      <th>na_sales</th>\n",
       "      <th>eu_sales</th>\n",
       "      <th>jp_sales</th>\n",
       "      <th>other_sales</th>\n",
       "      <th>critic_score</th>\n",
       "      <th>user_score</th>\n",
       "      <th>total_sales</th>\n",
       "    </tr>\n",
       "  </thead>\n",
       "  <tbody>\n",
       "    <tr>\n",
       "      <td>year_of_release</td>\n",
       "      <td>1.000000</td>\n",
       "      <td>-0.248961</td>\n",
       "      <td>-0.208306</td>\n",
       "      <td>-0.060993</td>\n",
       "      <td>-0.234796</td>\n",
       "      <td>-0.021142</td>\n",
       "      <td>0.152447</td>\n",
       "      <td>-0.235032</td>\n",
       "    </tr>\n",
       "    <tr>\n",
       "      <td>na_sales</td>\n",
       "      <td>-0.248961</td>\n",
       "      <td>1.000000</td>\n",
       "      <td>0.785362</td>\n",
       "      <td>0.472981</td>\n",
       "      <td>0.944259</td>\n",
       "      <td>0.415008</td>\n",
       "      <td>-0.020933</td>\n",
       "      <td>0.928160</td>\n",
       "    </tr>\n",
       "    <tr>\n",
       "      <td>eu_sales</td>\n",
       "      <td>-0.208306</td>\n",
       "      <td>0.785362</td>\n",
       "      <td>1.000000</td>\n",
       "      <td>0.464563</td>\n",
       "      <td>0.944698</td>\n",
       "      <td>0.346720</td>\n",
       "      <td>-0.048925</td>\n",
       "      <td>0.958157</td>\n",
       "    </tr>\n",
       "    <tr>\n",
       "      <td>jp_sales</td>\n",
       "      <td>-0.060993</td>\n",
       "      <td>0.472981</td>\n",
       "      <td>0.464563</td>\n",
       "      <td>1.000000</td>\n",
       "      <td>0.496467</td>\n",
       "      <td>0.322358</td>\n",
       "      <td>0.171332</td>\n",
       "      <td>0.527129</td>\n",
       "    </tr>\n",
       "    <tr>\n",
       "      <td>other_sales</td>\n",
       "      <td>-0.234796</td>\n",
       "      <td>0.944259</td>\n",
       "      <td>0.944698</td>\n",
       "      <td>0.496467</td>\n",
       "      <td>1.000000</td>\n",
       "      <td>0.409191</td>\n",
       "      <td>-0.035639</td>\n",
       "      <td>0.998051</td>\n",
       "    </tr>\n",
       "    <tr>\n",
       "      <td>critic_score</td>\n",
       "      <td>-0.021142</td>\n",
       "      <td>0.415008</td>\n",
       "      <td>0.346720</td>\n",
       "      <td>0.322358</td>\n",
       "      <td>0.409191</td>\n",
       "      <td>1.000000</td>\n",
       "      <td>0.557654</td>\n",
       "      <td>0.406568</td>\n",
       "    </tr>\n",
       "    <tr>\n",
       "      <td>user_score</td>\n",
       "      <td>0.152447</td>\n",
       "      <td>-0.020933</td>\n",
       "      <td>-0.048925</td>\n",
       "      <td>0.171332</td>\n",
       "      <td>-0.035639</td>\n",
       "      <td>0.557654</td>\n",
       "      <td>1.000000</td>\n",
       "      <td>-0.031957</td>\n",
       "    </tr>\n",
       "    <tr>\n",
       "      <td>total_sales</td>\n",
       "      <td>-0.235032</td>\n",
       "      <td>0.928160</td>\n",
       "      <td>0.958157</td>\n",
       "      <td>0.527129</td>\n",
       "      <td>0.998051</td>\n",
       "      <td>0.406568</td>\n",
       "      <td>-0.031957</td>\n",
       "      <td>1.000000</td>\n",
       "    </tr>\n",
       "  </tbody>\n",
       "</table>\n",
       "</div>"
      ],
      "text/plain": [
       "                 year_of_release  na_sales  eu_sales  jp_sales  other_sales  \\\n",
       "year_of_release         1.000000 -0.248961 -0.208306 -0.060993    -0.234796   \n",
       "na_sales               -0.248961  1.000000  0.785362  0.472981     0.944259   \n",
       "eu_sales               -0.208306  0.785362  1.000000  0.464563     0.944698   \n",
       "jp_sales               -0.060993  0.472981  0.464563  1.000000     0.496467   \n",
       "other_sales            -0.234796  0.944259  0.944698  0.496467     1.000000   \n",
       "critic_score           -0.021142  0.415008  0.346720  0.322358     0.409191   \n",
       "user_score              0.152447 -0.020933 -0.048925  0.171332    -0.035639   \n",
       "total_sales            -0.235032  0.928160  0.958157  0.527129     0.998051   \n",
       "\n",
       "                 critic_score  user_score  total_sales  \n",
       "year_of_release     -0.021142    0.152447    -0.235032  \n",
       "na_sales             0.415008   -0.020933     0.928160  \n",
       "eu_sales             0.346720   -0.048925     0.958157  \n",
       "jp_sales             0.322358    0.171332     0.527129  \n",
       "other_sales          0.409191   -0.035639     0.998051  \n",
       "critic_score         1.000000    0.557654     0.406568  \n",
       "user_score           0.557654    1.000000    -0.031957  \n",
       "total_sales          0.406568   -0.031957     1.000000  "
      ]
     },
     "execution_count": 31,
     "metadata": {},
     "output_type": "execute_result"
    }
   ],
   "source": [
    "df_actual_ps4.corr()"
   ]
  },
  {
   "cell_type": "markdown",
   "metadata": {},
   "source": [
    "Данные корреляции подтверждают наши выводы. Корреляция оценок критиков с количеством копий - 41%, не абсолютный, но значимый показатель. Чего не скажешь о влиянии оценок пользователей - около 3%. При выборе игры явно не стоит полагаться на пользовательские отзывы. \n",
    "\n",
    "Отдельно хочется отметить Японию. Если в других регионах показатели корреляции схожи с общими продажами, то продажи в Японии зависят от оценок пользователей немного меньше (на 17%), чем от оценок критиков (на 32%). Чтож, видимо в Японии очень требовательные игроки, которые прислушиваются к советам друг друга, и не напрасно. "
   ]
  },
  {
   "cell_type": "markdown",
   "metadata": {},
   "source": [
    "Соотнесем данные с другими платформами. Напишем для этого функцию."
   ]
  },
  {
   "cell_type": "code",
   "execution_count": 32,
   "metadata": {},
   "outputs": [],
   "source": [
    "# поместим в функцию рисование графиков:\n",
    "def scatter_platform(df):\n",
    "    df.plot(kind='scatter', x='critic_score', y='total_sales', figsize=(5,2))\n",
    "    df.plot(kind='scatter', x='user_score', y='total_sales', figsize=(5,2))"
   ]
  },
  {
   "cell_type": "markdown",
   "metadata": {},
   "source": [
    "Создадим отфильтрованные датасеты еще по трем платформам: X360, PS3, Wii и применим к нима написанную функцию."
   ]
  },
  {
   "cell_type": "code",
   "execution_count": 33,
   "metadata": {},
   "outputs": [
    {
     "data": {
      "image/png": "[encoded data removed]",
      "text/plain": [
       "<Figure size 360x144 with 1 Axes>"
      ]
     },
     "metadata": {
      "needs_background": "light"
     },
     "output_type": "display_data"
    },
    {
     "data": {
      "image/png": "[encoded data removed]",
      "text/plain": [
       "<Figure size 360x144 with 1 Axes>"
      ]
     },
     "metadata": {
      "needs_background": "light"
     },
     "output_type": "display_data"
    },
    {
     "data": {
      "image/png": "[encoded data removed]",
      "text/plain": [
       "<Figure size 360x144 with 1 Axes>"
      ]
     },
     "metadata": {
      "needs_background": "light"
     },
     "output_type": "display_data"
    },
    {
     "data": {
      "image/png": "[encoded data removed]",
      "text/plain": [
       "<Figure size 360x144 with 1 Axes>"
      ]
     },
     "metadata": {
      "needs_background": "light"
     },
     "output_type": "display_data"
    },
    {
     "data": {
      "image/png": "[encoded data removed]",
      "text/plain": [
       "<Figure size 360x144 with 1 Axes>"
      ]
     },
     "metadata": {
      "needs_background": "light"
     },
     "output_type": "display_data"
    },
    {
     "data": {
      "image/png": "[encoded data removed]",
      "text/plain": [
       "<Figure size 360x144 with 1 Axes>"
      ]
     },
     "metadata": {
      "needs_background": "light"
     },
     "output_type": "display_data"
    }
   ],
   "source": [
    "# создаем датасеты\n",
    "df_actual_xone = df_actual[df_actual['platform'] == 'XOne']\n",
    "df_actual_ps3 = df_actual[df_actual['platform'] == 'PS3']\n",
    "df_actual_3ds = df_actual[df_actual['platform'] == '3DS']\n",
    "\n",
    "# и применяем функцию\n",
    "scatter_platform(df_actual_xone)\n",
    "scatter_platform(df_actual_ps3)\n",
    "scatter_platform(df_actual_3ds)"
   ]
  },
  {
   "cell_type": "markdown",
   "metadata": {},
   "source": [
    "Результат схож с PS4. Оценка критиков больше влияет на продажи копий, чем оценка пользователей. На платформе 3DS больше сходства разниц. Посмотрим на нее на таблице коррелций:"
   ]
  },
  {
   "cell_type": "code",
   "execution_count": 34,
   "metadata": {},
   "outputs": [
    {
     "data": {
      "text/html": [
       "<div>\n",
       "<style scoped>\n",
       "    .dataframe tbody tr th:only-of-type {\n",
       "        vertical-align: middle;\n",
       "    }\n",
       "\n",
       "    .dataframe tbody tr th {\n",
       "        vertical-align: top;\n",
       "    }\n",
       "\n",
       "    .dataframe thead th {\n",
       "        text-align: right;\n",
       "    }\n",
       "</style>\n",
       "<table border=\"1\" class=\"dataframe\">\n",
       "  <thead>\n",
       "    <tr style=\"text-align: right;\">\n",
       "      <th></th>\n",
       "      <th>year_of_release</th>\n",
       "      <th>na_sales</th>\n",
       "      <th>eu_sales</th>\n",
       "      <th>jp_sales</th>\n",
       "      <th>other_sales</th>\n",
       "      <th>critic_score</th>\n",
       "      <th>user_score</th>\n",
       "      <th>total_sales</th>\n",
       "    </tr>\n",
       "  </thead>\n",
       "  <tbody>\n",
       "    <tr>\n",
       "      <td>year_of_release</td>\n",
       "      <td>1.000000</td>\n",
       "      <td>-0.075933</td>\n",
       "      <td>-0.115177</td>\n",
       "      <td>-0.063487</td>\n",
       "      <td>-0.083695</td>\n",
       "      <td>0.166254</td>\n",
       "      <td>0.240047</td>\n",
       "      <td>-0.090086</td>\n",
       "    </tr>\n",
       "    <tr>\n",
       "      <td>na_sales</td>\n",
       "      <td>-0.075933</td>\n",
       "      <td>1.000000</td>\n",
       "      <td>0.931893</td>\n",
       "      <td>0.641878</td>\n",
       "      <td>0.993708</td>\n",
       "      <td>0.369653</td>\n",
       "      <td>0.241036</td>\n",
       "      <td>0.938867</td>\n",
       "    </tr>\n",
       "    <tr>\n",
       "      <td>eu_sales</td>\n",
       "      <td>-0.115177</td>\n",
       "      <td>0.931893</td>\n",
       "      <td>1.000000</td>\n",
       "      <td>0.633982</td>\n",
       "      <td>0.958274</td>\n",
       "      <td>0.268851</td>\n",
       "      <td>0.114930</td>\n",
       "      <td>0.927821</td>\n",
       "    </tr>\n",
       "    <tr>\n",
       "      <td>jp_sales</td>\n",
       "      <td>-0.063487</td>\n",
       "      <td>0.641878</td>\n",
       "      <td>0.633982</td>\n",
       "      <td>1.000000</td>\n",
       "      <td>0.645306</td>\n",
       "      <td>0.301810</td>\n",
       "      <td>0.259370</td>\n",
       "      <td>0.854173</td>\n",
       "    </tr>\n",
       "    <tr>\n",
       "      <td>other_sales</td>\n",
       "      <td>-0.083695</td>\n",
       "      <td>0.993708</td>\n",
       "      <td>0.958274</td>\n",
       "      <td>0.645306</td>\n",
       "      <td>1.000000</td>\n",
       "      <td>0.354365</td>\n",
       "      <td>0.209418</td>\n",
       "      <td>0.945649</td>\n",
       "    </tr>\n",
       "    <tr>\n",
       "      <td>critic_score</td>\n",
       "      <td>0.166254</td>\n",
       "      <td>0.369653</td>\n",
       "      <td>0.268851</td>\n",
       "      <td>0.301810</td>\n",
       "      <td>0.354365</td>\n",
       "      <td>1.000000</td>\n",
       "      <td>0.769536</td>\n",
       "      <td>0.357057</td>\n",
       "    </tr>\n",
       "    <tr>\n",
       "      <td>user_score</td>\n",
       "      <td>0.240047</td>\n",
       "      <td>0.241036</td>\n",
       "      <td>0.114930</td>\n",
       "      <td>0.259370</td>\n",
       "      <td>0.209418</td>\n",
       "      <td>0.769536</td>\n",
       "      <td>1.000000</td>\n",
       "      <td>0.241504</td>\n",
       "    </tr>\n",
       "    <tr>\n",
       "      <td>total_sales</td>\n",
       "      <td>-0.090086</td>\n",
       "      <td>0.938867</td>\n",
       "      <td>0.927821</td>\n",
       "      <td>0.854173</td>\n",
       "      <td>0.945649</td>\n",
       "      <td>0.357057</td>\n",
       "      <td>0.241504</td>\n",
       "      <td>1.000000</td>\n",
       "    </tr>\n",
       "  </tbody>\n",
       "</table>\n",
       "</div>"
      ],
      "text/plain": [
       "                 year_of_release  na_sales  eu_sales  jp_sales  other_sales  \\\n",
       "year_of_release         1.000000 -0.075933 -0.115177 -0.063487    -0.083695   \n",
       "na_sales               -0.075933  1.000000  0.931893  0.641878     0.993708   \n",
       "eu_sales               -0.115177  0.931893  1.000000  0.633982     0.958274   \n",
       "jp_sales               -0.063487  0.641878  0.633982  1.000000     0.645306   \n",
       "other_sales            -0.083695  0.993708  0.958274  0.645306     1.000000   \n",
       "critic_score            0.166254  0.369653  0.268851  0.301810     0.354365   \n",
       "user_score              0.240047  0.241036  0.114930  0.259370     0.209418   \n",
       "total_sales            -0.090086  0.938867  0.927821  0.854173     0.945649   \n",
       "\n",
       "                 critic_score  user_score  total_sales  \n",
       "year_of_release      0.166254    0.240047    -0.090086  \n",
       "na_sales             0.369653    0.241036     0.938867  \n",
       "eu_sales             0.268851    0.114930     0.927821  \n",
       "jp_sales             0.301810    0.259370     0.854173  \n",
       "other_sales          0.354365    0.209418     0.945649  \n",
       "critic_score         1.000000    0.769536     0.357057  \n",
       "user_score           0.769536    1.000000     0.241504  \n",
       "total_sales          0.357057    0.241504     1.000000  "
      ]
     },
     "execution_count": 34,
     "metadata": {},
     "output_type": "execute_result"
    }
   ],
   "source": [
    "df_actual_3ds.corr()"
   ]
  },
  {
   "cell_type": "markdown",
   "metadata": {},
   "source": [
    "Действительно кореляция выше остальных игр. 36% у оценок критиков и 24% у оценок пользователей."
   ]
  },
  {
   "cell_type": "code",
   "execution_count": 35,
   "metadata": {},
   "outputs": [
    {
     "data": {
      "text/plain": [
       "303"
      ]
     },
     "execution_count": 35,
     "metadata": {},
     "output_type": "execute_result"
    }
   ],
   "source": [
    "len(df_actual_3ds)"
   ]
  },
  {
   "cell_type": "markdown",
   "metadata": {},
   "source": [
    "303 игры не так много, на мой взгляд, поэтому корреляция, возможно не совсем объяктивна.  \n",
    "\n",
    "Посмотрим на корреляции по всем платформам за актуальный период:"
   ]
  },
  {
   "cell_type": "code",
   "execution_count": 36,
   "metadata": {},
   "outputs": [
    {
     "data": {
      "text/html": [
       "<div>\n",
       "<style scoped>\n",
       "    .dataframe tbody tr th:only-of-type {\n",
       "        vertical-align: middle;\n",
       "    }\n",
       "\n",
       "    .dataframe tbody tr th {\n",
       "        vertical-align: top;\n",
       "    }\n",
       "\n",
       "    .dataframe thead th {\n",
       "        text-align: right;\n",
       "    }\n",
       "</style>\n",
       "<table border=\"1\" class=\"dataframe\">\n",
       "  <thead>\n",
       "    <tr style=\"text-align: right;\">\n",
       "      <th></th>\n",
       "      <th>year_of_release</th>\n",
       "      <th>na_sales</th>\n",
       "      <th>eu_sales</th>\n",
       "      <th>jp_sales</th>\n",
       "      <th>other_sales</th>\n",
       "      <th>critic_score</th>\n",
       "      <th>user_score</th>\n",
       "      <th>total_sales</th>\n",
       "    </tr>\n",
       "  </thead>\n",
       "  <tbody>\n",
       "    <tr>\n",
       "      <td>year_of_release</td>\n",
       "      <td>1.000000</td>\n",
       "      <td>-0.124551</td>\n",
       "      <td>-0.087983</td>\n",
       "      <td>-0.074142</td>\n",
       "      <td>-0.090225</td>\n",
       "      <td>0.064322</td>\n",
       "      <td>0.039318</td>\n",
       "      <td>-0.117878</td>\n",
       "    </tr>\n",
       "    <tr>\n",
       "      <td>na_sales</td>\n",
       "      <td>-0.124551</td>\n",
       "      <td>1.000000</td>\n",
       "      <td>0.769995</td>\n",
       "      <td>0.264513</td>\n",
       "      <td>0.817367</td>\n",
       "      <td>0.301130</td>\n",
       "      <td>-0.020010</td>\n",
       "      <td>0.922617</td>\n",
       "    </tr>\n",
       "    <tr>\n",
       "      <td>eu_sales</td>\n",
       "      <td>-0.087983</td>\n",
       "      <td>0.769995</td>\n",
       "      <td>1.000000</td>\n",
       "      <td>0.244616</td>\n",
       "      <td>0.934796</td>\n",
       "      <td>0.280785</td>\n",
       "      <td>-0.027040</td>\n",
       "      <td>0.928031</td>\n",
       "    </tr>\n",
       "    <tr>\n",
       "      <td>jp_sales</td>\n",
       "      <td>-0.074142</td>\n",
       "      <td>0.264513</td>\n",
       "      <td>0.244616</td>\n",
       "      <td>1.000000</td>\n",
       "      <td>0.195192</td>\n",
       "      <td>0.134143</td>\n",
       "      <td>0.194025</td>\n",
       "      <td>0.434394</td>\n",
       "    </tr>\n",
       "    <tr>\n",
       "      <td>other_sales</td>\n",
       "      <td>-0.090225</td>\n",
       "      <td>0.817367</td>\n",
       "      <td>0.934796</td>\n",
       "      <td>0.195192</td>\n",
       "      <td>1.000000</td>\n",
       "      <td>0.275289</td>\n",
       "      <td>-0.011500</td>\n",
       "      <td>0.921370</td>\n",
       "    </tr>\n",
       "    <tr>\n",
       "      <td>critic_score</td>\n",
       "      <td>0.064322</td>\n",
       "      <td>0.301130</td>\n",
       "      <td>0.280785</td>\n",
       "      <td>0.134143</td>\n",
       "      <td>0.275289</td>\n",
       "      <td>1.000000</td>\n",
       "      <td>0.502221</td>\n",
       "      <td>0.313700</td>\n",
       "    </tr>\n",
       "    <tr>\n",
       "      <td>user_score</td>\n",
       "      <td>0.039318</td>\n",
       "      <td>-0.020010</td>\n",
       "      <td>-0.027040</td>\n",
       "      <td>0.194025</td>\n",
       "      <td>-0.011500</td>\n",
       "      <td>0.502221</td>\n",
       "      <td>1.000000</td>\n",
       "      <td>-0.002608</td>\n",
       "    </tr>\n",
       "    <tr>\n",
       "      <td>total_sales</td>\n",
       "      <td>-0.117878</td>\n",
       "      <td>0.922617</td>\n",
       "      <td>0.928031</td>\n",
       "      <td>0.434394</td>\n",
       "      <td>0.921370</td>\n",
       "      <td>0.313700</td>\n",
       "      <td>-0.002608</td>\n",
       "      <td>1.000000</td>\n",
       "    </tr>\n",
       "  </tbody>\n",
       "</table>\n",
       "</div>"
      ],
      "text/plain": [
       "                 year_of_release  na_sales  eu_sales  jp_sales  other_sales  \\\n",
       "year_of_release         1.000000 -0.124551 -0.087983 -0.074142    -0.090225   \n",
       "na_sales               -0.124551  1.000000  0.769995  0.264513     0.817367   \n",
       "eu_sales               -0.087983  0.769995  1.000000  0.244616     0.934796   \n",
       "jp_sales               -0.074142  0.264513  0.244616  1.000000     0.195192   \n",
       "other_sales            -0.090225  0.817367  0.934796  0.195192     1.000000   \n",
       "critic_score            0.064322  0.301130  0.280785  0.134143     0.275289   \n",
       "user_score              0.039318 -0.020010 -0.027040  0.194025    -0.011500   \n",
       "total_sales            -0.117878  0.922617  0.928031  0.434394     0.921370   \n",
       "\n",
       "                 critic_score  user_score  total_sales  \n",
       "year_of_release      0.064322    0.039318    -0.117878  \n",
       "na_sales             0.301130   -0.020010     0.922617  \n",
       "eu_sales             0.280785   -0.027040     0.928031  \n",
       "jp_sales             0.134143    0.194025     0.434394  \n",
       "other_sales          0.275289   -0.011500     0.921370  \n",
       "critic_score         1.000000    0.502221     0.313700  \n",
       "user_score           0.502221    1.000000    -0.002608  \n",
       "total_sales          0.313700   -0.002608     1.000000  "
      ]
     },
     "execution_count": 36,
     "metadata": {},
     "output_type": "execute_result"
    }
   ],
   "source": [
    "df_actual.corr()"
   ]
  },
  {
   "cell_type": "markdown",
   "metadata": {},
   "source": [
    "Корреляция количества копий с отзывами в среднем ниже, критики - 31%, пользователи - 3%, которые и вовсе показывают отризательную зависимость, то есть чем хуже отзыв тем больше продаж. Но все же общая тенденция сохраняется. Отзывы критиков все равно больше влияют на продажи, чем отзывы пользователей. Но не в Японии. Здесь на общей актуализированной таблице корреляция оценок пользоватлей и вовсе выше - 19% против 13% корреляции с отзывами критиков. Ох уж эта Япония..."
   ]
  },
  {
   "cell_type": "markdown",
   "metadata": {},
   "source": [
    "### Распределение игр по жанрам"
   ]
  },
  {
   "cell_type": "code",
   "execution_count": 37,
   "metadata": {},
   "outputs": [
    {
     "data": {
      "text/plain": [
       "<matplotlib.axes._subplots.AxesSubplot at 0x7f5628491e10>"
      ]
     },
     "execution_count": 37,
     "metadata": {},
     "output_type": "execute_result"
    },
    {
     "data": {
      "image/png": "[encoded data removed]",
      "text/plain": [
       "<Figure size 432x288 with 1 Axes>"
      ]
     },
     "metadata": {
      "needs_background": "light"
     },
     "output_type": "display_data"
    }
   ],
   "source": [
    "# топ жанров\n",
    "df_actual['genre'].value_counts().plot(kind='bar')"
   ]
  },
  {
   "cell_type": "markdown",
   "metadata": {},
   "source": [
    "На графике видно что абсолютный лидер это жанр \"action\" - многим, видимо, не хватает экшена в жизни. Ролевые игры тоже в лидерах. Тройку замыкает жанр приключений - мы стали забывать что такое настоящие приключения. Остальные игры отстают не сильно но равномерно. В конце плетутся стратегии и пазлы. "
   ]
  },
  {
   "cell_type": "code",
   "execution_count": 38,
   "metadata": {},
   "outputs": [
    {
     "data": {
      "text/plain": [
       "<matplotlib.axes._subplots.AxesSubplot at 0x7f56283c5810>"
      ]
     },
     "execution_count": 38,
     "metadata": {},
     "output_type": "execute_result"
    },
    {
     "data": {
      "image/png": "[encoded data removed]",
      "text/plain": [
       "<Figure size 432x288 with 1 Axes>"
      ]
     },
     "metadata": {
      "needs_background": "light"
     },
     "output_type": "display_data"
    }
   ],
   "source": [
    "# топ жанров по медиане общих продаж\n",
    "df_actual_pivot_genre = df_actual.pivot_table(index='genre', values='total_sales', aggfunc='median')\n",
    "df_actual_pivot_genre.plot(kind='bar')"
   ]
  },
  {
   "cell_type": "markdown",
   "metadata": {},
   "source": [
    "По медианным зачениям картина совсем иная. Лидером является шутер, на втором месте спортивные игры. Замыкает тройку лидеров жанр \"Misc\""
   ]
  },
  {
   "cell_type": "code",
   "execution_count": 39,
   "metadata": {},
   "outputs": [
    {
     "data": {
      "text/html": [
       "<div>\n",
       "<style scoped>\n",
       "    .dataframe tbody tr th:only-of-type {\n",
       "        vertical-align: middle;\n",
       "    }\n",
       "\n",
       "    .dataframe tbody tr th {\n",
       "        vertical-align: top;\n",
       "    }\n",
       "\n",
       "    .dataframe thead th {\n",
       "        text-align: right;\n",
       "    }\n",
       "</style>\n",
       "<table border=\"1\" class=\"dataframe\">\n",
       "  <thead>\n",
       "    <tr style=\"text-align: right;\">\n",
       "      <th></th>\n",
       "      <th>total_sales</th>\n",
       "    </tr>\n",
       "    <tr>\n",
       "      <th>genre</th>\n",
       "      <th></th>\n",
       "    </tr>\n",
       "  </thead>\n",
       "  <tbody>\n",
       "    <tr>\n",
       "      <td>Shooter</td>\n",
       "      <td>0.450</td>\n",
       "    </tr>\n",
       "    <tr>\n",
       "      <td>Sports</td>\n",
       "      <td>0.240</td>\n",
       "    </tr>\n",
       "    <tr>\n",
       "      <td>Platform</td>\n",
       "      <td>0.225</td>\n",
       "    </tr>\n",
       "    <tr>\n",
       "      <td>Role-Playing</td>\n",
       "      <td>0.125</td>\n",
       "    </tr>\n",
       "    <tr>\n",
       "      <td>Fighting</td>\n",
       "      <td>0.125</td>\n",
       "    </tr>\n",
       "    <tr>\n",
       "      <td>Racing</td>\n",
       "      <td>0.120</td>\n",
       "    </tr>\n",
       "    <tr>\n",
       "      <td>Action</td>\n",
       "      <td>0.110</td>\n",
       "    </tr>\n",
       "    <tr>\n",
       "      <td>Simulation</td>\n",
       "      <td>0.100</td>\n",
       "    </tr>\n",
       "    <tr>\n",
       "      <td>Misc</td>\n",
       "      <td>0.100</td>\n",
       "    </tr>\n",
       "    <tr>\n",
       "      <td>Strategy</td>\n",
       "      <td>0.080</td>\n",
       "    </tr>\n",
       "    <tr>\n",
       "      <td>Puzzle</td>\n",
       "      <td>0.060</td>\n",
       "    </tr>\n",
       "    <tr>\n",
       "      <td>Adventure</td>\n",
       "      <td>0.030</td>\n",
       "    </tr>\n",
       "  </tbody>\n",
       "</table>\n",
       "</div>"
      ],
      "text/plain": [
       "              total_sales\n",
       "genre                    \n",
       "Shooter             0.450\n",
       "Sports              0.240\n",
       "Platform            0.225\n",
       "Role-Playing        0.125\n",
       "Fighting            0.125\n",
       "Racing              0.120\n",
       "Action              0.110\n",
       "Simulation          0.100\n",
       "Misc                0.100\n",
       "Strategy            0.080\n",
       "Puzzle              0.060\n",
       "Adventure           0.030"
      ]
     },
     "execution_count": 39,
     "metadata": {},
     "output_type": "execute_result"
    }
   ],
   "source": [
    "df_actual_pivot_genre.sort_values(by=['total_sales'], ascending=False)"
   ]
  },
  {
   "cell_type": "markdown",
   "metadata": {},
   "source": [
    "Наш экшн по медианным значениям всего лишь на 6 месте... Еще один повод подумать..."
   ]
  },
  {
   "cell_type": "markdown",
   "metadata": {},
   "source": [
    "## Портрет пользователя каждого региона"
   ]
  },
  {
   "cell_type": "markdown",
   "metadata": {},
   "source": [
    "### Популярные платформы"
   ]
  },
  {
   "cell_type": "markdown",
   "metadata": {},
   "source": [
    "Нам нужно узнать топ игровых платформ в различных регионах"
   ]
  },
  {
   "cell_type": "code",
   "execution_count": 40,
   "metadata": {},
   "outputs": [
    {
     "data": {
      "text/html": [
       "<div>\n",
       "<style scoped>\n",
       "    .dataframe tbody tr th:only-of-type {\n",
       "        vertical-align: middle;\n",
       "    }\n",
       "\n",
       "    .dataframe tbody tr th {\n",
       "        vertical-align: top;\n",
       "    }\n",
       "\n",
       "    .dataframe thead th {\n",
       "        text-align: right;\n",
       "    }\n",
       "</style>\n",
       "<table border=\"1\" class=\"dataframe\">\n",
       "  <thead>\n",
       "    <tr style=\"text-align: right;\">\n",
       "      <th></th>\n",
       "      <th>platform</th>\n",
       "      <th>eu_sales</th>\n",
       "      <th>jp_sales</th>\n",
       "      <th>na_sales</th>\n",
       "    </tr>\n",
       "  </thead>\n",
       "  <tbody>\n",
       "    <tr>\n",
       "      <td>0</td>\n",
       "      <td>PS4</td>\n",
       "      <td>141.09</td>\n",
       "      <td>15.96</td>\n",
       "      <td>108.74</td>\n",
       "    </tr>\n",
       "    <tr>\n",
       "      <td>1</td>\n",
       "      <td>PS3</td>\n",
       "      <td>67.81</td>\n",
       "      <td>23.35</td>\n",
       "      <td>63.50</td>\n",
       "    </tr>\n",
       "    <tr>\n",
       "      <td>2</td>\n",
       "      <td>XOne</td>\n",
       "      <td>51.59</td>\n",
       "      <td>0.34</td>\n",
       "      <td>93.12</td>\n",
       "    </tr>\n",
       "    <tr>\n",
       "      <td>3</td>\n",
       "      <td>X360</td>\n",
       "      <td>42.52</td>\n",
       "      <td>0.51</td>\n",
       "      <td>81.66</td>\n",
       "    </tr>\n",
       "    <tr>\n",
       "      <td>4</td>\n",
       "      <td>3DS</td>\n",
       "      <td>30.96</td>\n",
       "      <td>67.81</td>\n",
       "      <td>38.20</td>\n",
       "    </tr>\n",
       "  </tbody>\n",
       "</table>\n",
       "</div>"
      ],
      "text/plain": [
       "  platform  eu_sales  jp_sales  na_sales\n",
       "0      PS4    141.09     15.96    108.74\n",
       "1      PS3     67.81     23.35     63.50\n",
       "2     XOne     51.59      0.34     93.12\n",
       "3     X360     42.52      0.51     81.66\n",
       "4      3DS     30.96     67.81     38.20"
      ]
     },
     "execution_count": 40,
     "metadata": {},
     "output_type": "execute_result"
    }
   ],
   "source": [
    "# сводная таблица\n",
    "df_platform = df_actual.pivot_table(index='platform', values=['na_sales', 'eu_sales', 'jp_sales'], aggfunc='sum')\n",
    "\n",
    "# таблица популярных платформ в Европе:\n",
    "df_sort_platform_eu = df_platform.sort_values(by='eu_sales', ascending=False).reset_index()\n",
    "df_sort_platform_eu.head()"
   ]
  },
  {
   "cell_type": "markdown",
   "metadata": {},
   "source": [
    "Самые популяные платформы в Европе:\n",
    "\n",
    "1. PS4\n",
    "2. PS3\n",
    "3. XOne\n",
    "4. X360\n",
    "5. 3DS"
   ]
  },
  {
   "cell_type": "code",
   "execution_count": 41,
   "metadata": {},
   "outputs": [
    {
     "data": {
      "text/html": [
       "<div>\n",
       "<style scoped>\n",
       "    .dataframe tbody tr th:only-of-type {\n",
       "        vertical-align: middle;\n",
       "    }\n",
       "\n",
       "    .dataframe tbody tr th {\n",
       "        vertical-align: top;\n",
       "    }\n",
       "\n",
       "    .dataframe thead th {\n",
       "        text-align: right;\n",
       "    }\n",
       "</style>\n",
       "<table border=\"1\" class=\"dataframe\">\n",
       "  <thead>\n",
       "    <tr style=\"text-align: right;\">\n",
       "      <th></th>\n",
       "      <th>platform</th>\n",
       "      <th>eu_sales</th>\n",
       "      <th>jp_sales</th>\n",
       "      <th>na_sales</th>\n",
       "    </tr>\n",
       "  </thead>\n",
       "  <tbody>\n",
       "    <tr>\n",
       "      <td>0</td>\n",
       "      <td>3DS</td>\n",
       "      <td>30.96</td>\n",
       "      <td>67.81</td>\n",
       "      <td>38.20</td>\n",
       "    </tr>\n",
       "    <tr>\n",
       "      <td>1</td>\n",
       "      <td>PS3</td>\n",
       "      <td>67.81</td>\n",
       "      <td>23.35</td>\n",
       "      <td>63.50</td>\n",
       "    </tr>\n",
       "    <tr>\n",
       "      <td>2</td>\n",
       "      <td>PSV</td>\n",
       "      <td>6.10</td>\n",
       "      <td>18.59</td>\n",
       "      <td>5.04</td>\n",
       "    </tr>\n",
       "    <tr>\n",
       "      <td>3</td>\n",
       "      <td>PS4</td>\n",
       "      <td>141.09</td>\n",
       "      <td>15.96</td>\n",
       "      <td>108.74</td>\n",
       "    </tr>\n",
       "    <tr>\n",
       "      <td>4</td>\n",
       "      <td>WiiU</td>\n",
       "      <td>19.85</td>\n",
       "      <td>10.88</td>\n",
       "      <td>29.21</td>\n",
       "    </tr>\n",
       "  </tbody>\n",
       "</table>\n",
       "</div>"
      ],
      "text/plain": [
       "  platform  eu_sales  jp_sales  na_sales\n",
       "0      3DS     30.96     67.81     38.20\n",
       "1      PS3     67.81     23.35     63.50\n",
       "2      PSV      6.10     18.59      5.04\n",
       "3      PS4    141.09     15.96    108.74\n",
       "4     WiiU     19.85     10.88     29.21"
      ]
     },
     "execution_count": 41,
     "metadata": {},
     "output_type": "execute_result"
    }
   ],
   "source": [
    "# таблица популярных платформ в Японии:\n",
    "df_sort_platform_jp = df_platform.sort_values(by='jp_sales', ascending=False).reset_index()\n",
    "df_sort_platform_jp.head()"
   ]
  },
  {
   "cell_type": "markdown",
   "metadata": {},
   "source": [
    "Самые популяные платформы в Японии:\n",
    "\n",
    "1. 3DS\n",
    "2. PS3\n",
    "3. PSV\n",
    "4. PS4\n",
    "5. WiiU"
   ]
  },
  {
   "cell_type": "code",
   "execution_count": 42,
   "metadata": {},
   "outputs": [
    {
     "data": {
      "text/html": [
       "<div>\n",
       "<style scoped>\n",
       "    .dataframe tbody tr th:only-of-type {\n",
       "        vertical-align: middle;\n",
       "    }\n",
       "\n",
       "    .dataframe tbody tr th {\n",
       "        vertical-align: top;\n",
       "    }\n",
       "\n",
       "    .dataframe thead th {\n",
       "        text-align: right;\n",
       "    }\n",
       "</style>\n",
       "<table border=\"1\" class=\"dataframe\">\n",
       "  <thead>\n",
       "    <tr style=\"text-align: right;\">\n",
       "      <th></th>\n",
       "      <th>platform</th>\n",
       "      <th>eu_sales</th>\n",
       "      <th>jp_sales</th>\n",
       "      <th>na_sales</th>\n",
       "    </tr>\n",
       "  </thead>\n",
       "  <tbody>\n",
       "    <tr>\n",
       "      <td>0</td>\n",
       "      <td>PS4</td>\n",
       "      <td>141.09</td>\n",
       "      <td>15.96</td>\n",
       "      <td>108.74</td>\n",
       "    </tr>\n",
       "    <tr>\n",
       "      <td>1</td>\n",
       "      <td>XOne</td>\n",
       "      <td>51.59</td>\n",
       "      <td>0.34</td>\n",
       "      <td>93.12</td>\n",
       "    </tr>\n",
       "    <tr>\n",
       "      <td>2</td>\n",
       "      <td>X360</td>\n",
       "      <td>42.52</td>\n",
       "      <td>0.51</td>\n",
       "      <td>81.66</td>\n",
       "    </tr>\n",
       "    <tr>\n",
       "      <td>3</td>\n",
       "      <td>PS3</td>\n",
       "      <td>67.81</td>\n",
       "      <td>23.35</td>\n",
       "      <td>63.50</td>\n",
       "    </tr>\n",
       "    <tr>\n",
       "      <td>4</td>\n",
       "      <td>3DS</td>\n",
       "      <td>30.96</td>\n",
       "      <td>67.81</td>\n",
       "      <td>38.20</td>\n",
       "    </tr>\n",
       "  </tbody>\n",
       "</table>\n",
       "</div>"
      ],
      "text/plain": [
       "  platform  eu_sales  jp_sales  na_sales\n",
       "0      PS4    141.09     15.96    108.74\n",
       "1     XOne     51.59      0.34     93.12\n",
       "2     X360     42.52      0.51     81.66\n",
       "3      PS3     67.81     23.35     63.50\n",
       "4      3DS     30.96     67.81     38.20"
      ]
     },
     "execution_count": 42,
     "metadata": {},
     "output_type": "execute_result"
    }
   ],
   "source": [
    "# таблица популярных платформ в Северной Америке:\n",
    "df_sort_platform_na = df_platform.sort_values(by='na_sales', ascending=False).reset_index()\n",
    "df_sort_platform_na.head()"
   ]
  },
  {
   "cell_type": "markdown",
   "metadata": {},
   "source": [
    "Самые популяные платформы в Северной Америке:\n",
    "\n",
    "1. PS4\n",
    "2. XOne\n",
    "3. X360\n",
    "4. PS3\n",
    "5. 3DS"
   ]
  },
  {
   "cell_type": "markdown",
   "metadata": {},
   "source": [
    "Собрем в один датасет только нужные нам платформы и построим распределение по регионам. Единственный способ, по которому я смог отсортировать платформы - найти в сортировке по региону подходящий список платформ в топе, и на его основе сделать логическую фильтрацию."
   ]
  },
  {
   "cell_type": "code",
   "execution_count": 43,
   "metadata": {},
   "outputs": [
    {
     "data": {
      "text/plain": [
       "array([<matplotlib.axes._subplots.AxesSubplot object at 0x7f56282e94d0>,\n",
       "       <matplotlib.axes._subplots.AxesSubplot object at 0x7f5628312fd0>,\n",
       "       <matplotlib.axes._subplots.AxesSubplot object at 0x7f56282d0650>],\n",
       "      dtype=object)"
      ]
     },
     "execution_count": 43,
     "metadata": {},
     "output_type": "execute_result"
    },
    {
     "data": {
      "image/png": "[encoded data removed]",
      "text/plain": [
       "<Figure size 1296x1368 with 3 Axes>"
      ]
     },
     "metadata": {},
     "output_type": "display_data"
    }
   ],
   "source": [
    "# соберем в таблицу только топовые платформы в каждом регионе:\n",
    "df_platform = df_sort_platform_eu[df_sort_platform_eu['eu_sales'] > 6].set_index('platform')\n",
    "\n",
    "# построим графики распределения по регионам\n",
    "df_platform.plot(kind='pie', subplots='True', figsize=(18,19), legend=False)"
   ]
  },
  {
   "cell_type": "markdown",
   "metadata": {},
   "source": [
    "- В Европе преобладает PS4 (синий цвет на графике), который также лидирует в Северной Америке. В Японии он занимает явно не лидирующее место. \n",
    "- PS3 разбит примерно равными долями по регионам.\n",
    "- XOne имеет бОльшую долю в Северной Америке, чем в Европе. В Японии его вообще не видно. \n",
    "- X360 имеет примерно схожие соотношения, но в меньших количетсвах.\n",
    "- WiiU занимает скромную позицию, но распределен по всем зонам одинаково.\n",
    "- PSV любят больше в Японии, причем намного.\n",
    "- 3DS явный фаворит Японии, занимает практически половину рынка видеоигр. В остальных регионах заметен но очень скромен. "
   ]
  },
  {
   "cell_type": "markdown",
   "metadata": {},
   "source": [
    "### Популярные жанры"
   ]
  },
  {
   "cell_type": "markdown",
   "metadata": {},
   "source": [
    "Выделим подобным с платформами способом приоритет жанров в разных регионах. "
   ]
  },
  {
   "cell_type": "code",
   "execution_count": 44,
   "metadata": {},
   "outputs": [
    {
     "data": {
      "text/html": [
       "<div>\n",
       "<style scoped>\n",
       "    .dataframe tbody tr th:only-of-type {\n",
       "        vertical-align: middle;\n",
       "    }\n",
       "\n",
       "    .dataframe tbody tr th {\n",
       "        vertical-align: top;\n",
       "    }\n",
       "\n",
       "    .dataframe thead th {\n",
       "        text-align: right;\n",
       "    }\n",
       "</style>\n",
       "<table border=\"1\" class=\"dataframe\">\n",
       "  <thead>\n",
       "    <tr style=\"text-align: right;\">\n",
       "      <th></th>\n",
       "      <th>genre</th>\n",
       "      <th>eu_sales</th>\n",
       "      <th>jp_sales</th>\n",
       "      <th>na_sales</th>\n",
       "    </tr>\n",
       "  </thead>\n",
       "  <tbody>\n",
       "    <tr>\n",
       "      <td>0</td>\n",
       "      <td>Action</td>\n",
       "      <td>118.13</td>\n",
       "      <td>40.49</td>\n",
       "      <td>126.05</td>\n",
       "    </tr>\n",
       "    <tr>\n",
       "      <td>1</td>\n",
       "      <td>Shooter</td>\n",
       "      <td>87.86</td>\n",
       "      <td>6.61</td>\n",
       "      <td>109.74</td>\n",
       "    </tr>\n",
       "    <tr>\n",
       "      <td>2</td>\n",
       "      <td>Sports</td>\n",
       "      <td>60.52</td>\n",
       "      <td>5.41</td>\n",
       "      <td>65.27</td>\n",
       "    </tr>\n",
       "    <tr>\n",
       "      <td>3</td>\n",
       "      <td>Role-Playing</td>\n",
       "      <td>36.97</td>\n",
       "      <td>51.04</td>\n",
       "      <td>46.40</td>\n",
       "    </tr>\n",
       "    <tr>\n",
       "      <td>4</td>\n",
       "      <td>Racing</td>\n",
       "      <td>20.19</td>\n",
       "      <td>2.30</td>\n",
       "      <td>12.96</td>\n",
       "    </tr>\n",
       "  </tbody>\n",
       "</table>\n",
       "</div>"
      ],
      "text/plain": [
       "          genre  eu_sales  jp_sales  na_sales\n",
       "0        Action    118.13     40.49    126.05\n",
       "1       Shooter     87.86      6.61    109.74\n",
       "2        Sports     60.52      5.41     65.27\n",
       "3  Role-Playing     36.97     51.04     46.40\n",
       "4        Racing     20.19      2.30     12.96"
      ]
     },
     "execution_count": 44,
     "metadata": {},
     "output_type": "execute_result"
    }
   ],
   "source": [
    "# сводная таблица\n",
    "df_genre = df_actual.pivot_table(index='genre', values=['na_sales', 'eu_sales', 'jp_sales'], aggfunc='sum')\n",
    "\n",
    "# таблица популярных платформ в Европе:\n",
    "df_sort_genre_eu = df_genre.sort_values(by='eu_sales', ascending=False).reset_index()\n",
    "df_sort_genre_eu.head()"
   ]
  },
  {
   "cell_type": "code",
   "execution_count": 45,
   "metadata": {},
   "outputs": [
    {
     "data": {
      "text/html": [
       "<div>\n",
       "<style scoped>\n",
       "    .dataframe tbody tr th:only-of-type {\n",
       "        vertical-align: middle;\n",
       "    }\n",
       "\n",
       "    .dataframe tbody tr th {\n",
       "        vertical-align: top;\n",
       "    }\n",
       "\n",
       "    .dataframe thead th {\n",
       "        text-align: right;\n",
       "    }\n",
       "</style>\n",
       "<table border=\"1\" class=\"dataframe\">\n",
       "  <thead>\n",
       "    <tr style=\"text-align: right;\">\n",
       "      <th></th>\n",
       "      <th>genre</th>\n",
       "      <th>eu_sales</th>\n",
       "      <th>jp_sales</th>\n",
       "      <th>na_sales</th>\n",
       "    </tr>\n",
       "  </thead>\n",
       "  <tbody>\n",
       "    <tr>\n",
       "      <td>0</td>\n",
       "      <td>Role-Playing</td>\n",
       "      <td>36.97</td>\n",
       "      <td>51.04</td>\n",
       "      <td>46.40</td>\n",
       "    </tr>\n",
       "    <tr>\n",
       "      <td>1</td>\n",
       "      <td>Action</td>\n",
       "      <td>118.13</td>\n",
       "      <td>40.49</td>\n",
       "      <td>126.05</td>\n",
       "    </tr>\n",
       "    <tr>\n",
       "      <td>2</td>\n",
       "      <td>Misc</td>\n",
       "      <td>20.04</td>\n",
       "      <td>9.20</td>\n",
       "      <td>27.49</td>\n",
       "    </tr>\n",
       "    <tr>\n",
       "      <td>3</td>\n",
       "      <td>Fighting</td>\n",
       "      <td>8.55</td>\n",
       "      <td>7.65</td>\n",
       "      <td>15.55</td>\n",
       "    </tr>\n",
       "    <tr>\n",
       "      <td>4</td>\n",
       "      <td>Shooter</td>\n",
       "      <td>87.86</td>\n",
       "      <td>6.61</td>\n",
       "      <td>109.74</td>\n",
       "    </tr>\n",
       "  </tbody>\n",
       "</table>\n",
       "</div>"
      ],
      "text/plain": [
       "          genre  eu_sales  jp_sales  na_sales\n",
       "0  Role-Playing     36.97     51.04     46.40\n",
       "1        Action    118.13     40.49    126.05\n",
       "2          Misc     20.04      9.20     27.49\n",
       "3      Fighting      8.55      7.65     15.55\n",
       "4       Shooter     87.86      6.61    109.74"
      ]
     },
     "execution_count": 45,
     "metadata": {},
     "output_type": "execute_result"
    }
   ],
   "source": [
    "# таблица популярных платформ в Японии:\n",
    "df_sort_genre_jp = df_genre.sort_values(by='jp_sales', ascending=False).reset_index()\n",
    "df_sort_genre_jp.head()"
   ]
  },
  {
   "cell_type": "code",
   "execution_count": 46,
   "metadata": {},
   "outputs": [
    {
     "data": {
      "text/html": [
       "<div>\n",
       "<style scoped>\n",
       "    .dataframe tbody tr th:only-of-type {\n",
       "        vertical-align: middle;\n",
       "    }\n",
       "\n",
       "    .dataframe tbody tr th {\n",
       "        vertical-align: top;\n",
       "    }\n",
       "\n",
       "    .dataframe thead th {\n",
       "        text-align: right;\n",
       "    }\n",
       "</style>\n",
       "<table border=\"1\" class=\"dataframe\">\n",
       "  <thead>\n",
       "    <tr style=\"text-align: right;\">\n",
       "      <th></th>\n",
       "      <th>genre</th>\n",
       "      <th>eu_sales</th>\n",
       "      <th>jp_sales</th>\n",
       "      <th>na_sales</th>\n",
       "    </tr>\n",
       "  </thead>\n",
       "  <tbody>\n",
       "    <tr>\n",
       "      <td>0</td>\n",
       "      <td>Action</td>\n",
       "      <td>118.13</td>\n",
       "      <td>40.49</td>\n",
       "      <td>126.05</td>\n",
       "    </tr>\n",
       "    <tr>\n",
       "      <td>1</td>\n",
       "      <td>Shooter</td>\n",
       "      <td>87.86</td>\n",
       "      <td>6.61</td>\n",
       "      <td>109.74</td>\n",
       "    </tr>\n",
       "    <tr>\n",
       "      <td>2</td>\n",
       "      <td>Sports</td>\n",
       "      <td>60.52</td>\n",
       "      <td>5.41</td>\n",
       "      <td>65.27</td>\n",
       "    </tr>\n",
       "    <tr>\n",
       "      <td>3</td>\n",
       "      <td>Role-Playing</td>\n",
       "      <td>36.97</td>\n",
       "      <td>51.04</td>\n",
       "      <td>46.40</td>\n",
       "    </tr>\n",
       "    <tr>\n",
       "      <td>4</td>\n",
       "      <td>Misc</td>\n",
       "      <td>20.04</td>\n",
       "      <td>9.20</td>\n",
       "      <td>27.49</td>\n",
       "    </tr>\n",
       "  </tbody>\n",
       "</table>\n",
       "</div>"
      ],
      "text/plain": [
       "          genre  eu_sales  jp_sales  na_sales\n",
       "0        Action    118.13     40.49    126.05\n",
       "1       Shooter     87.86      6.61    109.74\n",
       "2        Sports     60.52      5.41     65.27\n",
       "3  Role-Playing     36.97     51.04     46.40\n",
       "4          Misc     20.04      9.20     27.49"
      ]
     },
     "execution_count": 46,
     "metadata": {},
     "output_type": "execute_result"
    }
   ],
   "source": [
    "# таблица популярных платформ в Северной Америке:\n",
    "df_sort_genre_na = df_genre.sort_values(by='na_sales', ascending=False).reset_index()\n",
    "df_sort_genre_na.head()"
   ]
  },
  {
   "cell_type": "markdown",
   "metadata": {},
   "source": [
    "В Европе как и в Северной Америке лидируют Action, Shooter, Sports и Role-Playing. Пятая строка немного отличается. Европа - гонки, в Северной Америке Misc. Признаюсь честно, не знаю что за жанр, даже гуглёжь не помог. А вот с Японией снова все не так как у остальных У нее рейтинг жанров выглядит следующим образом:\n",
    "1. Role-Playing\n",
    "2. Action\n",
    "3. Misc\n",
    "4. Fighting\n",
    "5. Shooter\n",
    "\n",
    "Небольшое сходство есть с жанром \"Экшн\". Думаю, вполне логично, учитывая, что в общих продажах этот жанр \"впереди планеты всей\". Ролевые игры Японцы любят больше других регионов, как и драки (\"Fighting\"). Можно сделать вывод что это страна все же для нас остается загадкой. Что по долевому распределению?"
   ]
  },
  {
   "cell_type": "code",
   "execution_count": 47,
   "metadata": {},
   "outputs": [
    {
     "data": {
      "text/plain": [
       "array([<matplotlib.axes._subplots.AxesSubplot object at 0x7f5628359090>,\n",
       "       <matplotlib.axes._subplots.AxesSubplot object at 0x7f56281c9e50>,\n",
       "       <matplotlib.axes._subplots.AxesSubplot object at 0x7f562817e950>],\n",
       "      dtype=object)"
      ]
     },
     "execution_count": 47,
     "metadata": {},
     "output_type": "execute_result"
    },
    {
     "data": {
      "image/png": "[encoded data removed]",
      "text/plain": [
       "<Figure size 1296x1368 with 3 Axes>"
      ]
     },
     "metadata": {},
     "output_type": "display_data"
    }
   ],
   "source": [
    "# отберем самые популярные жанры:\n",
    "df_genre_plot = df_sort_genre_na[df_sort_genre_na['na_sales'] > 12].set_index('genre')\n",
    "\n",
    "# и построим \"пирог\"\n",
    "df_genre_plot.plot(kind='pie', subplots='True', figsize=(18,19), legend=False)"
   ]
  },
  {
   "cell_type": "markdown",
   "metadata": {},
   "source": [
    "Action в почете везде, причем равными долями. В Японии в лидерах ролевые игры, намного больше занимают места в жизни игроков, чем в остальных регионах. Шутеры любят Европейцы и Американцы, а гонки и бои нелюбят все одинаково. "
   ]
  },
  {
   "cell_type": "markdown",
   "metadata": {},
   "source": [
    "### Влияние рейтинга ESRB"
   ]
  },
  {
   "cell_type": "markdown",
   "metadata": {},
   "source": [
    "Посмотрим на сводную таблицу рейтинга от рейтингового агенства. И постараемся выявить взаимосвязь оценки и продаж в отдельном регионе. Как и в прошлых разделах все начинается со сводных таблиц."
   ]
  },
  {
   "cell_type": "code",
   "execution_count": 48,
   "metadata": {},
   "outputs": [
    {
     "data": {
      "text/html": [
       "<div>\n",
       "<style scoped>\n",
       "    .dataframe tbody tr th:only-of-type {\n",
       "        vertical-align: middle;\n",
       "    }\n",
       "\n",
       "    .dataframe tbody tr th {\n",
       "        vertical-align: top;\n",
       "    }\n",
       "\n",
       "    .dataframe thead th {\n",
       "        text-align: right;\n",
       "    }\n",
       "</style>\n",
       "<table border=\"1\" class=\"dataframe\">\n",
       "  <thead>\n",
       "    <tr style=\"text-align: right;\">\n",
       "      <th></th>\n",
       "      <th>eu_sales</th>\n",
       "      <th>jp_sales</th>\n",
       "      <th>na_sales</th>\n",
       "    </tr>\n",
       "    <tr>\n",
       "      <th>rating</th>\n",
       "      <th></th>\n",
       "      <th></th>\n",
       "      <th></th>\n",
       "    </tr>\n",
       "  </thead>\n",
       "  <tbody>\n",
       "    <tr>\n",
       "      <td>E</td>\n",
       "      <td>83.36</td>\n",
       "      <td>15.14</td>\n",
       "      <td>79.05</td>\n",
       "    </tr>\n",
       "    <tr>\n",
       "      <td>E10+</td>\n",
       "      <td>42.69</td>\n",
       "      <td>5.89</td>\n",
       "      <td>54.24</td>\n",
       "    </tr>\n",
       "    <tr>\n",
       "      <td>M</td>\n",
       "      <td>145.32</td>\n",
       "      <td>14.11</td>\n",
       "      <td>165.21</td>\n",
       "    </tr>\n",
       "    <tr>\n",
       "      <td>No Determined</td>\n",
       "      <td>78.91</td>\n",
       "      <td>85.05</td>\n",
       "      <td>89.42</td>\n",
       "    </tr>\n",
       "    <tr>\n",
       "      <td>T</td>\n",
       "      <td>41.95</td>\n",
       "      <td>20.59</td>\n",
       "      <td>49.79</td>\n",
       "    </tr>\n",
       "  </tbody>\n",
       "</table>\n",
       "</div>"
      ],
      "text/plain": [
       "               eu_sales  jp_sales  na_sales\n",
       "rating                                     \n",
       "E                 83.36     15.14     79.05\n",
       "E10+              42.69      5.89     54.24\n",
       "M                145.32     14.11    165.21\n",
       "No Determined     78.91     85.05     89.42\n",
       "T                 41.95     20.59     49.79"
      ]
     },
     "execution_count": 48,
     "metadata": {},
     "output_type": "execute_result"
    }
   ],
   "source": [
    "# сводная таблица\n",
    "df_esrb = df_actual.pivot_table(index='rating', values=['na_sales', 'eu_sales', 'jp_sales'], aggfunc='sum')\n",
    "df_esrb"
   ]
  },
  {
   "cell_type": "markdown",
   "metadata": {},
   "source": [
    "Глядя на цифры на первый взгляд закономерности примерно схожи. Посмотрим как это выглядит на той же круговой диаграмме."
   ]
  },
  {
   "cell_type": "code",
   "execution_count": 49,
   "metadata": {},
   "outputs": [
    {
     "data": {
      "text/plain": [
       "array([<matplotlib.axes._subplots.AxesSubplot object at 0x7f56280c8150>,\n",
       "       <matplotlib.axes._subplots.AxesSubplot object at 0x7f562806bd50>,\n",
       "       <matplotlib.axes._subplots.AxesSubplot object at 0x7f56280a5590>],\n",
       "      dtype=object)"
      ]
     },
     "execution_count": 49,
     "metadata": {},
     "output_type": "execute_result"
    },
    {
     "data": {
      "image/png": "[encoded data removed]",
      "text/plain": [
       "<Figure size 1296x1368 with 3 Axes>"
      ]
     },
     "metadata": {},
     "output_type": "display_data"
    }
   ],
   "source": [
    "df_esrb.plot(kind='pie', subplots='True', figsize=(18,19), legend=False)"
   ]
  },
  {
   "cell_type": "markdown",
   "metadata": {},
   "source": [
    "Весьма любопытно. Графики Европы и Северной Америки практически идентичны. Но Япония снова выделяется. В датасете были пропуски в столбце рейтинга, которые мы заменили на \"No Determined\". Мы видим что на Японском графике эта часть преобладает, почти 60% всех данных. В то же вермя очень мало игр с рейтингом \"М\" - для взрослых. И еще меньше игр для детей 10+. Может они специально не регистрируют игры в этом рейтинговом агенстве? В любом случае еще один пунктик к Японии. "
   ]
  },
  {
   "cell_type": "markdown",
   "metadata": {},
   "source": [
    "## Гипотезы"
   ]
  },
  {
   "cell_type": "markdown",
   "metadata": {},
   "source": [
    "### Средние пользовательские рейтинги платформ Xbox One и PC одинаковые"
   ]
  },
  {
   "cell_type": "markdown",
   "metadata": {},
   "source": [
    "Мы уже имеем двухстороннюю гипотезу, которую можно попытаться принять или не принять. Для этого сформируем нулевую и альтернативную гипотезы:\n",
    "\n",
    "**Нулевая гипотеза:** Средние пользовательские рейтинги платформ Xbox One и PC одинаковые\n",
    "\n",
    "**Альтернативная гипотеза:** Средние пользовательские рейтинги платформ Xbox One и PC отличаются\n",
    "\n",
    "Сохраним два датасета по игровым платформам, которые будем сравнивать при помощи t-теста, поскольку имеем дело с независимыми наборами данных"
   ]
  },
  {
   "cell_type": "code",
   "execution_count": 50,
   "metadata": {},
   "outputs": [
    {
     "name": "stdout",
     "output_type": "stream",
     "text": [
      "p-значение: 0.14012658403611647\n",
      "Не получилось отвергнуть нулевую гипотезу\n"
     ]
    }
   ],
   "source": [
    "# удалим пропуски для корректной работы t-теста.\n",
    "# удаляем только сейчас, потому что нам нужны были данные \n",
    "# в других столбцах,без них исслледование могло быть не корректным\n",
    "df_actual = df_actual.dropna(subset=['user_score'])\n",
    "\n",
    "# создаем две переменных\n",
    "xone = df_actual[df_actual['platform'] == 'XOne']['user_score']\n",
    "pc = df_actual[df_actual['platform'] == 'PC']['user_score']\n",
    "results = st.ttest_ind(xone, pc)\n",
    "               \n",
    "# зададим стандартное пороговое значение в 5%:\n",
    "alpha = 0.05\n",
    "\n",
    "print('p-значение:', results.pvalue)\n",
    "\n",
    "if (results.pvalue < alpha):\n",
    "    print(\"Отвергаем нулевую гипотезу\")\n",
    "else:\n",
    "    print(\"Не получилось отвергнуть нулевую гипотезу\")"
   ]
  },
  {
   "cell_type": "markdown",
   "metadata": {},
   "source": [
    "Исследование гипотезы говорит о том, что у нас нет оснований отвергнуть нулевую гипотезу. Даже если бы мы взяли альфа значение 10%, то все равно оснований для отвержения нулевой гипотезы у нас бы не было, поскольку критический уровень статистической значимости составляет 14%. Тем самым мы соглашаемся с утверждением что **Средние пользовательские рейтинги платформ Xbox One и PC одинаковые**. "
   ]
  },
  {
   "cell_type": "markdown",
   "metadata": {},
   "source": [
    "### Средние пользовательские рейтинги жанров Action  и Sports разные."
   ]
  },
  {
   "cell_type": "markdown",
   "metadata": {},
   "source": [
    "Имея утверждение \"Средние пользовательские рейтинги жанров Action и Sports разные\" мы можем сформировать нулевую и альтернативную гипотезы:\n",
    "\n",
    "**Нулевая гипотеза:** Средние пользовательские рейтинги жанров Action и Sports одинаковые\n",
    "\n",
    "**Альтернативная гипотеза:** Средние пользовательские рейтинги жанров Action и Sports отличаются\n",
    "\n",
    "Сохраним два датасета по игровым платформам, которые будем сравнивать при помощи t-теста, поскольку имеем дело с независимыми наборами данных"
   ]
  },
  {
   "cell_type": "code",
   "execution_count": 51,
   "metadata": {},
   "outputs": [
    {
     "name": "stdout",
     "output_type": "stream",
     "text": [
      "p-значение: 1.0517832389140023e-27\n",
      "Отвергаем нулевую гипотезу\n"
     ]
    }
   ],
   "source": [
    "# создаем две переменных\n",
    "action = df_actual[df_actual['genre'] == 'Action']['user_score']\n",
    "sports = df_actual[df_actual['genre'] == 'Sports']['user_score']\n",
    "results = st.ttest_ind(action, sports)\n",
    "               \n",
    "# зададим стандартное пороговое значение в 5%:\n",
    "alpha = 0.05\n",
    "\n",
    "print('p-значение:', results.pvalue)\n",
    "\n",
    "if (results.pvalue < alpha):\n",
    "    print(\"Отвергаем нулевую гипотезу\")\n",
    "else:\n",
    "    print(\"Не получилось отвергнуть нулевую гипотезу\")"
   ]
  },
  {
   "cell_type": "markdown",
   "metadata": {},
   "source": [
    "p-значение ничтожно мало, поэтому у нас веские основания отвергнуть нулевую гипотезу в пользу двусторонней альтернативной гипотезы, которая гласит: \"Средние пользовательские рейтинги жанров Action и Sports отличаются\". Данное утверждение указывает на верность изначальной гипотезы: **Средние пользовательские рейтинги жанров Action и Sports разные**. Интересно в чью пользу?"
   ]
  },
  {
   "cell_type": "code",
   "execution_count": 52,
   "metadata": {},
   "outputs": [
    {
     "name": "stdout",
     "output_type": "stream",
     "text": [
      "Средняя оценка пользователей в жанре Action 6.837532133676092\n",
      "Средняя оценка пользователей в жанре Sports 5.238124999999999\n"
     ]
    }
   ],
   "source": [
    "print('Средняя оценка пользователей в жанре Action', action.mean())\n",
    "print('Средняя оценка пользователей в жанре Sports', sports.mean())"
   ]
  },
  {
   "cell_type": "markdown",
   "metadata": {},
   "source": [
    "И снова мы подтверждаем превосходство жанра Action над всеми остальными. В конкретном случае над жанром Sports на 1.6 балла. "
   ]
  },
  {
   "cell_type": "markdown",
   "metadata": {},
   "source": [
    "## Общий вывод"
   ]
  },
  {
   "cell_type": "markdown",
   "metadata": {},
   "source": [
    "Это было весьма интересное, разностороннее исследование. Было познавательно заполнять пропуски исходя из названия игры, искать взаимосвязи регионов и платформ. Мы получили данные аж с 1980 года, было любопытно понастольгировать по временам, когда нас еще не было, а игры уже были... Перед нами стояла задача: \"Нужно выявить определяющие успешность игры закономерности\". Исходя из полученных данных, можно сделать следующие выводы:\n",
    "\n",
    "1. В целом индустрия на конец 2016 года находится в упадке, так как продажи игр на всех платформах снижаются из года в год.\n",
    "\n",
    "2. Sony Playsation лидирует среди всех платформ на всех фронтах. PS2 абсолютный лидер по проданным копиям игр на все время, PS4 не уступает никому по продажам последние два года, а PS3 не выходит из топ 5 платформ ни в одном регионе. Я бы точно делал ставку на PS5, PS6 и т.д.\n",
    "\n",
    "3. Лидером среди игровых жанров является Action. И в абсолютном выражении, и в топах по регионам, везде в первых рядах. Ему уступают шутеры и спортивные игры, но достаточно серьезно. \n",
    "\n",
    "4. Если говорить о регионе реализации игровых проектов, то я бы внимательнее изучил Азиатский регион. Бесспорно, игроков там очень много, и очень увлеченных. Но интересы этих игроков весьма отличаются от всего остального мира. Нельзя запукать одинаковый проект и в Европе и в Азии, его надо определенно локализовать под специфику игроков. \n",
    "\n",
    "5. Можно также в выборе игрового проекта опираться на мнения критиков, так как с мнением критиков есть неплохая корреляция у продаж копий игр. Исследование показало что несомненно к мнениям критиков игроки прислушиваются. Можно изучить игры с наибольшими результатами в этой области и обратить на них внимание. Например, на GTA5.\n"
   ]
  }
 ],
 "metadata": {
  "ExecuteTimeLog": [
   {
    "duration": 552,
    "start_time": "2022-01-15T08:40:47.324Z"
   },
   {
    "duration": 56,
    "start_time": "2022-01-15T08:40:49.478Z"
   },
   {
    "duration": 53,
    "start_time": "2022-01-15T09:17:47.546Z"
   },
   {
    "duration": 4,
    "start_time": "2022-01-15T09:28:17.012Z"
   },
   {
    "duration": 5,
    "start_time": "2022-01-15T09:28:29.248Z"
   },
   {
    "duration": 775,
    "start_time": "2022-01-16T06:37:08.689Z"
   },
   {
    "duration": 93,
    "start_time": "2022-01-16T06:37:09.467Z"
   },
   {
    "duration": 7,
    "start_time": "2022-01-16T06:37:09.563Z"
   },
   {
    "duration": 37,
    "start_time": "2022-01-16T06:41:03.566Z"
   },
   {
    "duration": 37,
    "start_time": "2022-01-16T06:41:16.842Z"
   },
   {
    "duration": 723,
    "start_time": "2022-01-16T06:41:45.723Z"
   },
   {
    "duration": 353,
    "start_time": "2022-01-16T06:42:05.625Z"
   },
   {
    "duration": 426,
    "start_time": "2022-01-16T06:42:36.529Z"
   },
   {
    "duration": 436,
    "start_time": "2022-01-16T07:11:18.377Z"
   },
   {
    "duration": 20,
    "start_time": "2022-01-16T07:12:28.796Z"
   },
   {
    "duration": 19,
    "start_time": "2022-01-16T07:15:19.283Z"
   },
   {
    "duration": 15,
    "start_time": "2022-01-16T07:18:02.903Z"
   },
   {
    "duration": 21,
    "start_time": "2022-01-16T07:25:59.565Z"
   },
   {
    "duration": 17,
    "start_time": "2022-01-16T07:26:15.140Z"
   },
   {
    "duration": 24,
    "start_time": "2022-01-16T07:26:26.159Z"
   },
   {
    "duration": 77,
    "start_time": "2022-01-16T07:27:06.319Z"
   },
   {
    "duration": 23,
    "start_time": "2022-01-16T07:27:16.367Z"
   },
   {
    "duration": 395,
    "start_time": "2022-01-16T07:30:12.042Z"
   },
   {
    "duration": 27,
    "start_time": "2022-01-16T07:31:39.458Z"
   },
   {
    "duration": 2244,
    "start_time": "2022-01-16T07:31:50.138Z"
   },
   {
    "duration": 2130,
    "start_time": "2022-01-16T07:32:35.837Z"
   },
   {
    "duration": 17,
    "start_time": "2022-01-16T07:33:47.615Z"
   },
   {
    "duration": 21,
    "start_time": "2022-01-16T07:33:54.122Z"
   },
   {
    "duration": 26,
    "start_time": "2022-01-16T07:34:40.170Z"
   },
   {
    "duration": 7780,
    "start_time": "2022-01-16T07:38:06.799Z"
   },
   {
    "duration": 3,
    "start_time": "2022-01-16T07:38:19.291Z"
   },
   {
    "duration": 82,
    "start_time": "2022-01-16T07:38:19.297Z"
   },
   {
    "duration": 6,
    "start_time": "2022-01-16T07:38:19.383Z"
   },
   {
    "duration": 459,
    "start_time": "2022-01-16T07:38:19.392Z"
   },
   {
    "duration": 22,
    "start_time": "2022-01-16T07:38:19.853Z"
   },
   {
    "duration": 14,
    "start_time": "2022-01-16T07:38:19.877Z"
   },
   {
    "duration": 7776,
    "start_time": "2022-01-16T07:38:19.894Z"
   },
   {
    "duration": 73110378,
    "start_time": "2022-01-15T11:19:57.295Z"
   },
   {
    "duration": 384,
    "start_time": "2022-01-16T07:38:48.138Z"
   },
   {
    "duration": 25,
    "start_time": "2022-01-16T07:40:58.349Z"
   },
   {
    "duration": 4,
    "start_time": "2022-01-16T07:41:21.925Z"
   },
   {
    "duration": 83,
    "start_time": "2022-01-16T07:41:21.932Z"
   },
   {
    "duration": 7,
    "start_time": "2022-01-16T07:41:22.018Z"
   },
   {
    "duration": 463,
    "start_time": "2022-01-16T07:41:22.027Z"
   },
   {
    "duration": 20,
    "start_time": "2022-01-16T07:41:22.492Z"
   },
   {
    "duration": 16,
    "start_time": "2022-01-16T07:41:22.516Z"
   },
   {
    "duration": 27,
    "start_time": "2022-01-16T07:41:22.562Z"
   },
   {
    "duration": 8387,
    "start_time": "2022-01-16T07:41:22.592Z"
   },
   {
    "duration": 26,
    "start_time": "2022-01-16T07:41:40.609Z"
   },
   {
    "duration": 23,
    "start_time": "2022-01-16T07:51:56.498Z"
   },
   {
    "duration": 23,
    "start_time": "2022-01-16T07:52:04.183Z"
   },
   {
    "duration": 22,
    "start_time": "2022-01-16T07:52:09.095Z"
   },
   {
    "duration": 22,
    "start_time": "2022-01-16T07:52:12.773Z"
   },
   {
    "duration": 3,
    "start_time": "2022-01-16T07:52:18.535Z"
   },
   {
    "duration": 80,
    "start_time": "2022-01-16T07:52:18.545Z"
   },
   {
    "duration": 7,
    "start_time": "2022-01-16T07:52:18.627Z"
   },
   {
    "duration": 473,
    "start_time": "2022-01-16T07:52:18.661Z"
   },
   {
    "duration": 35,
    "start_time": "2022-01-16T07:52:19.137Z"
   },
   {
    "duration": 17,
    "start_time": "2022-01-16T07:52:19.175Z"
   },
   {
    "duration": 26,
    "start_time": "2022-01-16T07:52:19.195Z"
   },
   {
    "duration": 23,
    "start_time": "2022-01-16T07:52:19.261Z"
   },
   {
    "duration": 24,
    "start_time": "2022-01-16T07:52:32.697Z"
   },
   {
    "duration": 4,
    "start_time": "2022-01-16T07:52:43.519Z"
   },
   {
    "duration": 84,
    "start_time": "2022-01-16T07:52:43.526Z"
   },
   {
    "duration": 9,
    "start_time": "2022-01-16T07:52:43.614Z"
   },
   {
    "duration": 558,
    "start_time": "2022-01-16T07:52:43.627Z"
   },
   {
    "duration": 20,
    "start_time": "2022-01-16T07:52:44.188Z"
   },
   {
    "duration": 14,
    "start_time": "2022-01-16T07:52:44.210Z"
   },
   {
    "duration": 54,
    "start_time": "2022-01-16T07:52:44.227Z"
   },
   {
    "duration": 20,
    "start_time": "2022-01-16T07:52:44.284Z"
   },
   {
    "duration": 26,
    "start_time": "2022-01-16T07:55:16.723Z"
   },
   {
    "duration": 26,
    "start_time": "2022-01-16T08:10:42.428Z"
   },
   {
    "duration": 22,
    "start_time": "2022-01-16T08:10:50.141Z"
   },
   {
    "duration": 28,
    "start_time": "2022-01-16T08:11:06.703Z"
   },
   {
    "duration": 322,
    "start_time": "2022-01-16T08:15:45.099Z"
   },
   {
    "duration": 3988,
    "start_time": "2022-01-16T08:16:03.866Z"
   },
   {
    "duration": 3,
    "start_time": "2022-01-16T08:16:11.061Z"
   },
   {
    "duration": 81,
    "start_time": "2022-01-16T08:16:11.071Z"
   },
   {
    "duration": 9,
    "start_time": "2022-01-16T08:16:11.155Z"
   },
   {
    "duration": 447,
    "start_time": "2022-01-16T08:16:11.167Z"
   },
   {
    "duration": 7871,
    "start_time": "2022-01-16T08:16:11.617Z"
   },
   {
    "duration": 76710841,
    "start_time": "2022-01-15T10:57:48.650Z"
   },
   {
    "duration": 76710839,
    "start_time": "2022-01-15T10:57:48.653Z"
   },
   {
    "duration": 76710832,
    "start_time": "2022-01-15T10:57:48.661Z"
   },
   {
    "duration": 76710828,
    "start_time": "2022-01-15T10:57:48.667Z"
   },
   {
    "duration": 18,
    "start_time": "2022-01-16T08:16:35.724Z"
   },
   {
    "duration": 20,
    "start_time": "2022-01-16T08:18:02.632Z"
   },
   {
    "duration": 2171,
    "start_time": "2022-01-16T08:22:52.425Z"
   },
   {
    "duration": 16,
    "start_time": "2022-01-16T08:23:45.382Z"
   },
   {
    "duration": 3,
    "start_time": "2022-01-16T08:27:01.074Z"
   },
   {
    "duration": 86,
    "start_time": "2022-01-16T08:27:01.080Z"
   },
   {
    "duration": 9,
    "start_time": "2022-01-16T08:27:01.170Z"
   },
   {
    "duration": 493,
    "start_time": "2022-01-16T08:27:01.183Z"
   },
   {
    "duration": 20,
    "start_time": "2022-01-16T08:27:01.678Z"
   },
   {
    "duration": 17,
    "start_time": "2022-01-16T08:27:01.700Z"
   },
   {
    "duration": 41,
    "start_time": "2022-01-16T08:27:01.720Z"
   },
   {
    "duration": 28,
    "start_time": "2022-01-16T08:27:01.764Z"
   },
   {
    "duration": 22,
    "start_time": "2022-01-16T08:27:01.795Z"
   },
   {
    "duration": 8,
    "start_time": "2022-01-16T08:29:26.580Z"
   },
   {
    "duration": 19,
    "start_time": "2022-01-16T08:29:43.107Z"
   },
   {
    "duration": 10,
    "start_time": "2022-01-16T08:31:22.254Z"
   },
   {
    "duration": 21,
    "start_time": "2022-01-16T08:31:29.952Z"
   },
   {
    "duration": 31,
    "start_time": "2022-01-16T08:32:32.808Z"
   },
   {
    "duration": 1509,
    "start_time": "2022-01-16T08:35:51.763Z"
   },
   {
    "duration": 4,
    "start_time": "2022-01-16T08:36:00.967Z"
   },
   {
    "duration": 88,
    "start_time": "2022-01-16T08:36:00.976Z"
   },
   {
    "duration": 8,
    "start_time": "2022-01-16T08:36:01.067Z"
   },
   {
    "duration": 476,
    "start_time": "2022-01-16T08:36:01.079Z"
   },
   {
    "duration": 22,
    "start_time": "2022-01-16T08:36:01.560Z"
   },
   {
    "duration": 29,
    "start_time": "2022-01-16T08:36:01.584Z"
   },
   {
    "duration": 44,
    "start_time": "2022-01-16T08:36:01.615Z"
   },
   {
    "duration": 34,
    "start_time": "2022-01-16T08:36:01.662Z"
   },
   {
    "duration": 16,
    "start_time": "2022-01-16T08:36:01.698Z"
   },
   {
    "duration": 8261,
    "start_time": "2022-01-16T08:37:11.764Z"
   },
   {
    "duration": 7776,
    "start_time": "2022-01-16T08:37:24.928Z"
   },
   {
    "duration": 3,
    "start_time": "2022-01-16T08:37:38.055Z"
   },
   {
    "duration": 83,
    "start_time": "2022-01-16T08:37:38.066Z"
   },
   {
    "duration": 11,
    "start_time": "2022-01-16T08:37:38.152Z"
   },
   {
    "duration": 448,
    "start_time": "2022-01-16T08:37:38.166Z"
   },
   {
    "duration": 21,
    "start_time": "2022-01-16T08:37:38.617Z"
   },
   {
    "duration": 36,
    "start_time": "2022-01-16T08:37:38.641Z"
   },
   {
    "duration": 21,
    "start_time": "2022-01-16T08:37:38.681Z"
   },
   {
    "duration": 62,
    "start_time": "2022-01-16T08:37:38.705Z"
   },
   {
    "duration": 13,
    "start_time": "2022-01-16T08:37:38.770Z"
   },
   {
    "duration": 32,
    "start_time": "2022-01-16T09:41:34.857Z"
   },
   {
    "duration": 29,
    "start_time": "2022-01-16T09:41:43.516Z"
   },
   {
    "duration": 27,
    "start_time": "2022-01-16T09:41:54.455Z"
   },
   {
    "duration": 35,
    "start_time": "2022-01-16T09:42:26.039Z"
   },
   {
    "duration": 5,
    "start_time": "2022-01-16T17:20:17.243Z"
   },
   {
    "duration": 23,
    "start_time": "2022-01-16T17:22:28.215Z"
   },
   {
    "duration": 337,
    "start_time": "2022-01-16T17:23:25.582Z"
   },
   {
    "duration": 1631,
    "start_time": "2022-01-16T17:23:44.666Z"
   },
   {
    "duration": 6,
    "start_time": "2022-01-16T17:24:13.004Z"
   },
   {
    "duration": 15,
    "start_time": "2022-01-16T17:24:15.927Z"
   },
   {
    "duration": 121,
    "start_time": "2022-01-16T17:25:23.450Z"
   },
   {
    "duration": 106,
    "start_time": "2022-01-16T17:27:22.493Z"
   },
   {
    "duration": 23,
    "start_time": "2022-01-16T17:27:34.008Z"
   },
   {
    "duration": 4,
    "start_time": "2022-01-16T17:40:07.238Z"
   },
   {
    "duration": 88,
    "start_time": "2022-01-16T17:40:07.245Z"
   },
   {
    "duration": 32,
    "start_time": "2022-01-16T17:40:07.338Z"
   },
   {
    "duration": 468,
    "start_time": "2022-01-16T17:40:07.374Z"
   },
   {
    "duration": 32,
    "start_time": "2022-01-16T17:40:07.845Z"
   },
   {
    "duration": 26,
    "start_time": "2022-01-16T17:40:07.879Z"
   },
   {
    "duration": 20,
    "start_time": "2022-01-16T17:40:07.909Z"
   },
   {
    "duration": 45,
    "start_time": "2022-01-16T17:40:07.932Z"
   },
   {
    "duration": 9,
    "start_time": "2022-01-16T17:40:07.980Z"
   },
   {
    "duration": 15,
    "start_time": "2022-01-16T17:40:07.991Z"
   },
   {
    "duration": 26,
    "start_time": "2022-01-16T17:40:21.103Z"
   },
   {
    "duration": 21,
    "start_time": "2022-01-16T17:40:38.593Z"
   },
   {
    "duration": 8,
    "start_time": "2022-01-16T17:41:15.896Z"
   },
   {
    "duration": 39,
    "start_time": "2022-01-16T17:41:21.085Z"
   },
   {
    "duration": 408,
    "start_time": "2022-01-16T17:43:24.358Z"
   },
   {
    "duration": 124,
    "start_time": "2022-01-16T17:45:05.497Z"
   },
   {
    "duration": 340,
    "start_time": "2022-01-16T17:45:21.166Z"
   },
   {
    "duration": 38,
    "start_time": "2022-01-16T17:46:54.181Z"
   },
   {
    "duration": 4,
    "start_time": "2022-01-16T17:50:20.890Z"
   },
   {
    "duration": 102,
    "start_time": "2022-01-16T17:50:20.896Z"
   },
   {
    "duration": 8,
    "start_time": "2022-01-16T17:50:21.001Z"
   },
   {
    "duration": 490,
    "start_time": "2022-01-16T17:50:21.011Z"
   },
   {
    "duration": 21,
    "start_time": "2022-01-16T17:50:21.503Z"
   },
   {
    "duration": 48,
    "start_time": "2022-01-16T17:50:21.527Z"
   },
   {
    "duration": 21,
    "start_time": "2022-01-16T17:50:21.578Z"
   },
   {
    "duration": 20,
    "start_time": "2022-01-16T17:50:21.601Z"
   },
   {
    "duration": 4,
    "start_time": "2022-01-16T17:50:21.624Z"
   },
   {
    "duration": 5,
    "start_time": "2022-01-16T17:50:21.658Z"
   },
   {
    "duration": 21,
    "start_time": "2022-01-16T17:50:34.416Z"
   },
   {
    "duration": 25,
    "start_time": "2022-01-16T17:51:18.667Z"
   },
   {
    "duration": 25,
    "start_time": "2022-01-16T17:51:38.069Z"
   },
   {
    "duration": 20,
    "start_time": "2022-01-16T17:51:48.520Z"
   },
   {
    "duration": 107,
    "start_time": "2022-01-16T17:58:41.474Z"
   },
   {
    "duration": 5,
    "start_time": "2022-01-16T17:58:45.759Z"
   },
   {
    "duration": 5,
    "start_time": "2022-01-16T17:59:47.796Z"
   },
   {
    "duration": 406,
    "start_time": "2022-01-16T18:00:31.153Z"
   },
   {
    "duration": 2610,
    "start_time": "2022-01-16T18:00:40.090Z"
   },
   {
    "duration": 1422,
    "start_time": "2022-01-16T18:01:16.613Z"
   },
   {
    "duration": 1415,
    "start_time": "2022-01-16T18:02:15.984Z"
   },
   {
    "duration": 9,
    "start_time": "2022-01-16T18:39:50.229Z"
   },
   {
    "duration": 7,
    "start_time": "2022-01-16T18:45:04.535Z"
   },
   {
    "duration": 30,
    "start_time": "2022-01-16T19:19:14.064Z"
   },
   {
    "duration": 557,
    "start_time": "2022-01-17T15:51:23.023Z"
   },
   {
    "duration": 61,
    "start_time": "2022-01-17T15:51:23.582Z"
   },
   {
    "duration": 5,
    "start_time": "2022-01-17T15:51:23.645Z"
   },
   {
    "duration": 330,
    "start_time": "2022-01-17T15:51:23.652Z"
   },
   {
    "duration": 12,
    "start_time": "2022-01-17T15:51:23.984Z"
   },
   {
    "duration": 13,
    "start_time": "2022-01-17T15:51:24.012Z"
   },
   {
    "duration": 12,
    "start_time": "2022-01-17T15:51:24.027Z"
   },
   {
    "duration": 12,
    "start_time": "2022-01-17T15:51:24.041Z"
   },
   {
    "duration": 1093,
    "start_time": "2022-01-17T15:51:24.054Z"
   },
   {
    "duration": 71509373,
    "start_time": "2022-01-16T19:59:35.777Z"
   },
   {
    "duration": 71509365,
    "start_time": "2022-01-16T19:59:35.786Z"
   },
   {
    "duration": 71509362,
    "start_time": "2022-01-16T19:59:35.790Z"
   },
   {
    "duration": 71509354,
    "start_time": "2022-01-16T19:59:35.800Z"
   },
   {
    "duration": 3,
    "start_time": "2022-01-17T15:52:52.644Z"
   },
   {
    "duration": 53,
    "start_time": "2022-01-17T15:52:52.651Z"
   },
   {
    "duration": 4,
    "start_time": "2022-01-17T15:52:52.705Z"
   },
   {
    "duration": 253,
    "start_time": "2022-01-17T15:52:52.711Z"
   },
   {
    "duration": 12,
    "start_time": "2022-01-17T15:52:52.965Z"
   },
   {
    "duration": 14,
    "start_time": "2022-01-17T15:52:52.978Z"
   },
   {
    "duration": 28,
    "start_time": "2022-01-17T15:52:52.994Z"
   },
   {
    "duration": 12,
    "start_time": "2022-01-17T15:52:53.023Z"
   },
   {
    "duration": 4,
    "start_time": "2022-01-17T15:52:53.037Z"
   },
   {
    "duration": 7,
    "start_time": "2022-01-17T15:52:53.043Z"
   },
   {
    "duration": 8,
    "start_time": "2022-01-17T15:52:53.051Z"
   },
   {
    "duration": 4,
    "start_time": "2022-01-17T15:52:53.060Z"
   },
   {
    "duration": 75,
    "start_time": "2022-01-17T15:52:53.066Z"
   },
   {
    "duration": 5,
    "start_time": "2022-01-17T15:53:16.905Z"
   },
   {
    "duration": 10,
    "start_time": "2022-01-17T15:53:30.637Z"
   },
   {
    "duration": 13,
    "start_time": "2022-01-17T15:54:20.814Z"
   },
   {
    "duration": 2,
    "start_time": "2022-01-17T16:12:51.869Z"
   },
   {
    "duration": 50,
    "start_time": "2022-01-17T16:12:51.874Z"
   },
   {
    "duration": 4,
    "start_time": "2022-01-17T16:12:51.925Z"
   },
   {
    "duration": 263,
    "start_time": "2022-01-17T16:12:51.931Z"
   },
   {
    "duration": 17,
    "start_time": "2022-01-17T16:12:52.196Z"
   },
   {
    "duration": 13,
    "start_time": "2022-01-17T16:12:52.214Z"
   },
   {
    "duration": 12,
    "start_time": "2022-01-17T16:12:52.228Z"
   },
   {
    "duration": 11,
    "start_time": "2022-01-17T16:12:52.241Z"
   },
   {
    "duration": 7,
    "start_time": "2022-01-17T16:12:52.254Z"
   },
   {
    "duration": 4,
    "start_time": "2022-01-17T16:12:52.262Z"
   },
   {
    "duration": 6,
    "start_time": "2022-01-17T16:12:52.267Z"
   },
   {
    "duration": 4,
    "start_time": "2022-01-17T16:12:52.275Z"
   },
   {
    "duration": 44,
    "start_time": "2022-01-17T16:12:52.280Z"
   },
   {
    "duration": 8,
    "start_time": "2022-01-17T16:13:06.992Z"
   },
   {
    "duration": 17,
    "start_time": "2022-01-17T16:13:23.775Z"
   },
   {
    "duration": 3,
    "start_time": "2022-01-17T20:18:38.910Z"
   },
   {
    "duration": 51,
    "start_time": "2022-01-17T20:18:38.917Z"
   },
   {
    "duration": 6,
    "start_time": "2022-01-17T20:18:38.970Z"
   },
   {
    "duration": 260,
    "start_time": "2022-01-17T20:18:38.979Z"
   },
   {
    "duration": 12,
    "start_time": "2022-01-17T20:18:39.241Z"
   },
   {
    "duration": 12,
    "start_time": "2022-01-17T20:18:39.255Z"
   },
   {
    "duration": 13,
    "start_time": "2022-01-17T20:18:39.269Z"
   },
   {
    "duration": 36,
    "start_time": "2022-01-17T20:18:39.283Z"
   },
   {
    "duration": 5,
    "start_time": "2022-01-17T20:18:39.321Z"
   },
   {
    "duration": 19,
    "start_time": "2022-01-17T20:18:39.328Z"
   },
   {
    "duration": 4,
    "start_time": "2022-01-17T20:18:39.348Z"
   },
   {
    "duration": 5,
    "start_time": "2022-01-17T20:18:39.353Z"
   },
   {
    "duration": 12,
    "start_time": "2022-01-17T20:18:39.359Z"
   },
   {
    "duration": 3,
    "start_time": "2022-01-17T20:21:36.556Z"
   },
   {
    "duration": 54,
    "start_time": "2022-01-17T20:21:36.562Z"
   },
   {
    "duration": 4,
    "start_time": "2022-01-17T20:21:36.617Z"
   },
   {
    "duration": 259,
    "start_time": "2022-01-17T20:21:36.623Z"
   },
   {
    "duration": 11,
    "start_time": "2022-01-17T20:21:36.884Z"
   },
   {
    "duration": 23,
    "start_time": "2022-01-17T20:21:36.896Z"
   },
   {
    "duration": 12,
    "start_time": "2022-01-17T20:21:36.920Z"
   },
   {
    "duration": 11,
    "start_time": "2022-01-17T20:21:36.933Z"
   },
   {
    "duration": 6,
    "start_time": "2022-01-17T20:21:36.946Z"
   },
   {
    "duration": 20,
    "start_time": "2022-01-17T20:21:36.953Z"
   },
   {
    "duration": 4,
    "start_time": "2022-01-17T20:21:36.974Z"
   },
   {
    "duration": 35,
    "start_time": "2022-01-17T20:21:36.979Z"
   },
   {
    "duration": 14,
    "start_time": "2022-01-17T20:21:37.016Z"
   },
   {
    "duration": 3,
    "start_time": "2022-01-17T20:22:41.022Z"
   },
   {
    "duration": 53,
    "start_time": "2022-01-17T20:22:41.028Z"
   },
   {
    "duration": 5,
    "start_time": "2022-01-17T20:22:41.083Z"
   },
   {
    "duration": 265,
    "start_time": "2022-01-17T20:22:41.090Z"
   },
   {
    "duration": 12,
    "start_time": "2022-01-17T20:22:41.357Z"
   },
   {
    "duration": 12,
    "start_time": "2022-01-17T20:22:41.371Z"
   },
   {
    "duration": 33,
    "start_time": "2022-01-17T20:22:41.384Z"
   },
   {
    "duration": 12,
    "start_time": "2022-01-17T20:22:41.419Z"
   },
   {
    "duration": 67,
    "start_time": "2022-01-17T20:22:41.434Z"
   },
   {
    "duration": 89508769,
    "start_time": "2022-01-16T19:30:52.734Z"
   },
   {
    "duration": 89508763,
    "start_time": "2022-01-16T19:30:52.742Z"
   },
   {
    "duration": 89508751,
    "start_time": "2022-01-16T19:30:52.755Z"
   },
   {
    "duration": 89508750,
    "start_time": "2022-01-16T19:30:52.757Z"
   },
   {
    "duration": 6,
    "start_time": "2022-01-17T20:23:11.138Z"
   },
   {
    "duration": 21,
    "start_time": "2022-01-17T20:23:15.933Z"
   },
   {
    "duration": 3,
    "start_time": "2022-01-17T20:29:35.715Z"
   },
   {
    "duration": 53,
    "start_time": "2022-01-17T20:29:35.720Z"
   },
   {
    "duration": 5,
    "start_time": "2022-01-17T20:29:35.774Z"
   },
   {
    "duration": 250,
    "start_time": "2022-01-17T20:29:35.780Z"
   },
   {
    "duration": 11,
    "start_time": "2022-01-17T20:29:36.032Z"
   },
   {
    "duration": 17,
    "start_time": "2022-01-17T20:29:36.045Z"
   },
   {
    "duration": 15,
    "start_time": "2022-01-17T20:29:36.064Z"
   },
   {
    "duration": 32,
    "start_time": "2022-01-17T20:29:36.081Z"
   },
   {
    "duration": 2,
    "start_time": "2022-01-17T20:29:36.116Z"
   },
   {
    "duration": 20,
    "start_time": "2022-01-17T20:29:36.120Z"
   },
   {
    "duration": 5,
    "start_time": "2022-01-17T20:29:36.141Z"
   },
   {
    "duration": 7,
    "start_time": "2022-01-17T20:29:36.148Z"
   },
   {
    "duration": 14,
    "start_time": "2022-01-17T20:29:36.156Z"
   },
   {
    "duration": 5,
    "start_time": "2022-01-17T20:37:52.974Z"
   },
   {
    "duration": 4,
    "start_time": "2022-01-17T20:38:02.217Z"
   },
   {
    "duration": 6,
    "start_time": "2022-01-17T20:41:14.558Z"
   },
   {
    "duration": 9,
    "start_time": "2022-01-17T20:41:36.923Z"
   },
   {
    "duration": 11,
    "start_time": "2022-01-17T20:42:09.298Z"
   },
   {
    "duration": 11,
    "start_time": "2022-01-17T20:46:48.824Z"
   },
   {
    "duration": 3,
    "start_time": "2022-01-17T20:46:56.102Z"
   },
   {
    "duration": 56,
    "start_time": "2022-01-17T20:46:56.107Z"
   },
   {
    "duration": 5,
    "start_time": "2022-01-17T20:46:56.165Z"
   },
   {
    "duration": 278,
    "start_time": "2022-01-17T20:46:56.172Z"
   },
   {
    "duration": 14,
    "start_time": "2022-01-17T20:46:56.451Z"
   },
   {
    "duration": 14,
    "start_time": "2022-01-17T20:46:56.466Z"
   },
   {
    "duration": 39,
    "start_time": "2022-01-17T20:46:56.483Z"
   },
   {
    "duration": 13,
    "start_time": "2022-01-17T20:46:56.524Z"
   },
   {
    "duration": 4,
    "start_time": "2022-01-17T20:46:56.538Z"
   },
   {
    "duration": 20,
    "start_time": "2022-01-17T20:46:56.544Z"
   },
   {
    "duration": 4,
    "start_time": "2022-01-17T20:46:56.565Z"
   },
   {
    "duration": 5,
    "start_time": "2022-01-17T20:46:56.571Z"
   },
   {
    "duration": 43,
    "start_time": "2022-01-17T20:46:56.578Z"
   },
   {
    "duration": 5,
    "start_time": "2022-01-17T20:46:56.623Z"
   },
   {
    "duration": 13,
    "start_time": "2022-01-17T20:46:56.629Z"
   },
   {
    "duration": 235,
    "start_time": "2022-01-17T20:50:30.333Z"
   },
   {
    "duration": 4,
    "start_time": "2022-01-17T20:50:46.644Z"
   },
   {
    "duration": 16,
    "start_time": "2022-01-17T20:56:50.709Z"
   },
   {
    "duration": 241,
    "start_time": "2022-01-17T21:03:11.117Z"
   },
   {
    "duration": 249,
    "start_time": "2022-01-17T21:08:16.435Z"
   },
   {
    "duration": 7,
    "start_time": "2022-01-17T21:08:25.519Z"
   },
   {
    "duration": 249,
    "start_time": "2022-01-17T21:08:50.621Z"
   },
   {
    "duration": 327,
    "start_time": "2022-01-17T21:08:59.893Z"
   },
   {
    "duration": 247,
    "start_time": "2022-01-17T21:09:07.292Z"
   },
   {
    "duration": 305,
    "start_time": "2022-01-17T21:09:12.842Z"
   },
   {
    "duration": 258,
    "start_time": "2022-01-17T21:09:18.009Z"
   },
   {
    "duration": 241,
    "start_time": "2022-01-17T21:09:24.523Z"
   },
   {
    "duration": 531,
    "start_time": "2022-01-17T21:09:30.936Z"
   },
   {
    "duration": 210,
    "start_time": "2022-01-17T21:09:40.854Z"
   },
   {
    "duration": 904,
    "start_time": "2022-01-18T08:08:06.257Z"
   },
   {
    "duration": 74,
    "start_time": "2022-01-18T08:08:07.164Z"
   },
   {
    "duration": 5,
    "start_time": "2022-01-18T08:08:07.240Z"
   },
   {
    "duration": 368,
    "start_time": "2022-01-18T08:08:07.247Z"
   },
   {
    "duration": 14,
    "start_time": "2022-01-18T08:08:07.616Z"
   },
   {
    "duration": 15,
    "start_time": "2022-01-18T08:08:07.631Z"
   },
   {
    "duration": 14,
    "start_time": "2022-01-18T08:08:07.647Z"
   },
   {
    "duration": 39,
    "start_time": "2022-01-18T08:08:07.664Z"
   },
   {
    "duration": 22,
    "start_time": "2022-01-18T08:08:07.705Z"
   },
   {
    "duration": 21,
    "start_time": "2022-01-18T08:08:07.729Z"
   },
   {
    "duration": 4,
    "start_time": "2022-01-18T08:08:07.752Z"
   },
   {
    "duration": 6,
    "start_time": "2022-01-18T08:08:07.758Z"
   },
   {
    "duration": 13,
    "start_time": "2022-01-18T08:08:07.798Z"
   },
   {
    "duration": 6,
    "start_time": "2022-01-18T08:08:07.813Z"
   },
   {
    "duration": 16,
    "start_time": "2022-01-18T08:08:07.820Z"
   },
   {
    "duration": 5,
    "start_time": "2022-01-18T08:08:07.838Z"
   },
   {
    "duration": 55,
    "start_time": "2022-01-18T08:08:07.845Z"
   },
   {
    "duration": 258,
    "start_time": "2022-01-18T08:08:07.902Z"
   },
   {
    "duration": 8,
    "start_time": "2022-01-18T08:08:08.162Z"
   },
   {
    "duration": 2,
    "start_time": "2022-01-18T08:09:39.676Z"
   },
   {
    "duration": 62,
    "start_time": "2022-01-18T08:09:39.680Z"
   },
   {
    "duration": 6,
    "start_time": "2022-01-18T08:09:39.744Z"
   },
   {
    "duration": 347,
    "start_time": "2022-01-18T08:09:39.751Z"
   },
   {
    "duration": 13,
    "start_time": "2022-01-18T08:09:40.100Z"
   },
   {
    "duration": 17,
    "start_time": "2022-01-18T08:09:40.114Z"
   },
   {
    "duration": 15,
    "start_time": "2022-01-18T08:09:40.134Z"
   },
   {
    "duration": 13,
    "start_time": "2022-01-18T08:09:40.151Z"
   },
   {
    "duration": 326,
    "start_time": "2022-01-18T08:09:40.166Z"
   },
   {
    "duration": 37212435,
    "start_time": "2022-01-17T21:49:28.059Z"
   },
   {
    "duration": 37212425,
    "start_time": "2022-01-17T21:49:28.070Z"
   },
   {
    "duration": 37212422,
    "start_time": "2022-01-17T21:49:28.073Z"
   },
   {
    "duration": 37212406,
    "start_time": "2022-01-17T21:49:28.090Z"
   },
   {
    "duration": 37212387,
    "start_time": "2022-01-17T21:49:28.110Z"
   },
   {
    "duration": 37212378,
    "start_time": "2022-01-17T21:49:28.120Z"
   },
   {
    "duration": 37212373,
    "start_time": "2022-01-17T21:49:28.126Z"
   },
   {
    "duration": 37212350,
    "start_time": "2022-01-17T21:49:28.150Z"
   },
   {
    "duration": 37212346,
    "start_time": "2022-01-17T21:49:28.155Z"
   },
   {
    "duration": 37212332,
    "start_time": "2022-01-17T21:49:28.170Z"
   },
   {
    "duration": 34,
    "start_time": "2022-01-18T08:18:23.051Z"
   },
   {
    "duration": 21,
    "start_time": "2022-01-18T08:20:02.524Z"
   },
   {
    "duration": 20,
    "start_time": "2022-01-18T08:20:54.322Z"
   },
   {
    "duration": 22,
    "start_time": "2022-01-18T08:22:04.104Z"
   },
   {
    "duration": 14,
    "start_time": "2022-01-18T08:25:41.356Z"
   },
   {
    "duration": 5,
    "start_time": "2022-01-18T08:26:45.926Z"
   },
   {
    "duration": 6,
    "start_time": "2022-01-18T08:27:14.401Z"
   },
   {
    "duration": 2,
    "start_time": "2022-01-18T08:27:32.615Z"
   },
   {
    "duration": 69,
    "start_time": "2022-01-18T08:27:32.622Z"
   },
   {
    "duration": 5,
    "start_time": "2022-01-18T08:27:32.693Z"
   },
   {
    "duration": 294,
    "start_time": "2022-01-18T08:27:32.700Z"
   },
   {
    "duration": 12,
    "start_time": "2022-01-18T08:27:32.998Z"
   },
   {
    "duration": 19,
    "start_time": "2022-01-18T08:27:33.012Z"
   },
   {
    "duration": 20,
    "start_time": "2022-01-18T08:27:33.033Z"
   },
   {
    "duration": 24,
    "start_time": "2022-01-18T08:27:33.055Z"
   },
   {
    "duration": 40,
    "start_time": "2022-01-18T08:27:33.080Z"
   },
   {
    "duration": 7,
    "start_time": "2022-01-18T08:27:33.122Z"
   },
   {
    "duration": 19,
    "start_time": "2022-01-18T08:27:33.131Z"
   },
   {
    "duration": 20,
    "start_time": "2022-01-18T08:27:33.152Z"
   },
   {
    "duration": 23,
    "start_time": "2022-01-18T08:27:33.173Z"
   },
   {
    "duration": 4,
    "start_time": "2022-01-18T08:27:33.198Z"
   },
   {
    "duration": 19,
    "start_time": "2022-01-18T08:27:33.203Z"
   },
   {
    "duration": 5,
    "start_time": "2022-01-18T08:27:33.224Z"
   },
   {
    "duration": 21,
    "start_time": "2022-01-18T08:27:33.231Z"
   },
   {
    "duration": 265,
    "start_time": "2022-01-18T08:27:33.254Z"
   },
   {
    "duration": 7,
    "start_time": "2022-01-18T08:27:33.521Z"
   },
   {
    "duration": 13,
    "start_time": "2022-01-18T08:28:14.257Z"
   },
   {
    "duration": 6,
    "start_time": "2022-01-18T08:28:25.418Z"
   },
   {
    "duration": 12,
    "start_time": "2022-01-18T08:28:41.765Z"
   },
   {
    "duration": 313,
    "start_time": "2022-01-18T15:22:50.648Z"
   },
   {
    "duration": 313,
    "start_time": "2022-01-18T15:23:24.952Z"
   },
   {
    "duration": 297,
    "start_time": "2022-01-18T15:23:39.697Z"
   },
   {
    "duration": 288,
    "start_time": "2022-01-18T15:23:46.153Z"
   },
   {
    "duration": 319,
    "start_time": "2022-01-18T15:23:54.023Z"
   },
   {
    "duration": 393,
    "start_time": "2022-01-18T15:24:12.354Z"
   },
   {
    "duration": 599,
    "start_time": "2022-01-18T15:25:28.064Z"
   },
   {
    "duration": 267,
    "start_time": "2022-01-18T15:26:51.495Z"
   },
   {
    "duration": 308,
    "start_time": "2022-01-18T15:27:51.840Z"
   },
   {
    "duration": 243,
    "start_time": "2022-01-18T15:28:15.179Z"
   },
   {
    "duration": 2,
    "start_time": "2022-01-18T15:28:21.280Z"
   },
   {
    "duration": 75,
    "start_time": "2022-01-18T15:28:21.284Z"
   },
   {
    "duration": 6,
    "start_time": "2022-01-18T15:28:21.362Z"
   },
   {
    "duration": 393,
    "start_time": "2022-01-18T15:28:21.370Z"
   },
   {
    "duration": 14,
    "start_time": "2022-01-18T15:28:21.765Z"
   },
   {
    "duration": 28,
    "start_time": "2022-01-18T15:28:21.781Z"
   },
   {
    "duration": 15,
    "start_time": "2022-01-18T15:28:21.812Z"
   },
   {
    "duration": 27,
    "start_time": "2022-01-18T15:28:21.832Z"
   },
   {
    "duration": 68,
    "start_time": "2022-01-18T15:28:21.861Z"
   },
   {
    "duration": 7,
    "start_time": "2022-01-18T15:28:21.931Z"
   },
   {
    "duration": 10,
    "start_time": "2022-01-18T15:28:21.939Z"
   },
   {
    "duration": 9,
    "start_time": "2022-01-18T15:28:21.951Z"
   },
   {
    "duration": 47,
    "start_time": "2022-01-18T15:28:21.961Z"
   },
   {
    "duration": 6,
    "start_time": "2022-01-18T15:28:22.010Z"
   },
   {
    "duration": 21,
    "start_time": "2022-01-18T15:28:22.018Z"
   },
   {
    "duration": 15,
    "start_time": "2022-01-18T15:28:22.041Z"
   },
   {
    "duration": 52,
    "start_time": "2022-01-18T15:28:22.058Z"
   },
   {
    "duration": 373,
    "start_time": "2022-01-18T15:28:22.113Z"
   },
   {
    "duration": 14,
    "start_time": "2022-01-18T15:28:22.487Z"
   },
   {
    "duration": 5,
    "start_time": "2022-01-18T15:39:48.888Z"
   },
   {
    "duration": 21,
    "start_time": "2022-01-18T15:49:24.699Z"
   },
   {
    "duration": 172,
    "start_time": "2022-01-18T15:54:59.344Z"
   },
   {
    "duration": 15,
    "start_time": "2022-01-18T15:59:18.673Z"
   },
   {
    "duration": 200,
    "start_time": "2022-01-18T15:59:26.446Z"
   },
   {
    "duration": 7,
    "start_time": "2022-01-18T16:00:55.346Z"
   },
   {
    "duration": 8,
    "start_time": "2022-01-18T16:01:06.453Z"
   },
   {
    "duration": 21,
    "start_time": "2022-01-18T16:02:06.808Z"
   },
   {
    "duration": 17,
    "start_time": "2022-01-18T16:03:45.831Z"
   },
   {
    "duration": 17,
    "start_time": "2022-01-18T16:05:19.029Z"
   },
   {
    "duration": 36,
    "start_time": "2022-01-18T16:08:24.488Z"
   },
   {
    "duration": 5,
    "start_time": "2022-01-18T16:09:37.812Z"
   },
   {
    "duration": 220,
    "start_time": "2022-01-18T16:14:05.657Z"
   },
   {
    "duration": 17,
    "start_time": "2022-01-18T16:14:32.644Z"
   },
   {
    "duration": 232,
    "start_time": "2022-01-18T16:15:29.199Z"
   },
   {
    "duration": 10,
    "start_time": "2022-01-18T16:15:51.563Z"
   },
   {
    "duration": 22,
    "start_time": "2022-01-18T16:17:11.913Z"
   },
   {
    "duration": 5555,
    "start_time": "2022-01-18T16:19:04.860Z"
   },
   {
    "duration": 353,
    "start_time": "2022-01-18T16:24:37.094Z"
   },
   {
    "duration": 17,
    "start_time": "2022-01-18T16:31:20.575Z"
   },
   {
    "duration": 494,
    "start_time": "2022-01-18T16:39:10.899Z"
   },
   {
    "duration": 3,
    "start_time": "2022-01-18T16:40:17.391Z"
   },
   {
    "duration": 290,
    "start_time": "2022-01-18T16:40:22.358Z"
   },
   {
    "duration": 496,
    "start_time": "2022-01-18T16:41:22.162Z"
   },
   {
    "duration": 404,
    "start_time": "2022-01-18T16:41:53.812Z"
   },
   {
    "duration": 393,
    "start_time": "2022-01-18T16:42:07.737Z"
   },
   {
    "duration": 71,
    "start_time": "2022-01-18T16:50:27.014Z"
   },
   {
    "duration": 22,
    "start_time": "2022-01-18T16:50:34.354Z"
   },
   {
    "duration": 7,
    "start_time": "2022-01-18T16:50:53.210Z"
   },
   {
    "duration": 7,
    "start_time": "2022-01-18T16:51:02.502Z"
   },
   {
    "duration": 239,
    "start_time": "2022-01-18T17:00:23.429Z"
   },
   {
    "duration": 21,
    "start_time": "2022-01-18T17:00:43.674Z"
   },
   {
    "duration": 6,
    "start_time": "2022-01-18T17:00:49.162Z"
   },
   {
    "duration": 427,
    "start_time": "2022-01-18T17:02:34.928Z"
   },
   {
    "duration": 233,
    "start_time": "2022-01-18T17:03:34.761Z"
   },
   {
    "duration": 4,
    "start_time": "2022-01-18T17:07:16.499Z"
   },
   {
    "duration": 228,
    "start_time": "2022-01-18T17:10:10.443Z"
   },
   {
    "duration": 8,
    "start_time": "2022-01-18T17:10:42.739Z"
   },
   {
    "duration": 186,
    "start_time": "2022-01-18T17:10:52.356Z"
   },
   {
    "duration": 6,
    "start_time": "2022-01-18T17:10:57.927Z"
   },
   {
    "duration": 3,
    "start_time": "2022-01-18T17:11:07.379Z"
   },
   {
    "duration": 64,
    "start_time": "2022-01-18T17:11:07.383Z"
   },
   {
    "duration": 5,
    "start_time": "2022-01-18T17:11:07.449Z"
   },
   {
    "duration": 311,
    "start_time": "2022-01-18T17:11:07.456Z"
   },
   {
    "duration": 13,
    "start_time": "2022-01-18T17:11:07.769Z"
   },
   {
    "duration": 20,
    "start_time": "2022-01-18T17:11:07.784Z"
   },
   {
    "duration": 14,
    "start_time": "2022-01-18T17:11:07.807Z"
   },
   {
    "duration": 20,
    "start_time": "2022-01-18T17:11:07.823Z"
   },
   {
    "duration": 60,
    "start_time": "2022-01-18T17:11:07.844Z"
   },
   {
    "duration": 6,
    "start_time": "2022-01-18T17:11:07.906Z"
   },
   {
    "duration": 5,
    "start_time": "2022-01-18T17:11:07.914Z"
   },
   {
    "duration": 7,
    "start_time": "2022-01-18T17:11:07.921Z"
   },
   {
    "duration": 13,
    "start_time": "2022-01-18T17:11:07.929Z"
   },
   {
    "duration": 4,
    "start_time": "2022-01-18T17:11:07.944Z"
   },
   {
    "duration": 52,
    "start_time": "2022-01-18T17:11:07.950Z"
   },
   {
    "duration": 14,
    "start_time": "2022-01-18T17:11:08.004Z"
   },
   {
    "duration": 16,
    "start_time": "2022-01-18T17:11:08.019Z"
   },
   {
    "duration": 318,
    "start_time": "2022-01-18T17:11:08.036Z"
   },
   {
    "duration": 4,
    "start_time": "2022-01-18T17:11:08.357Z"
   },
   {
    "duration": 18,
    "start_time": "2022-01-18T17:11:08.363Z"
   },
   {
    "duration": 415,
    "start_time": "2022-01-18T17:11:08.383Z"
   },
   {
    "duration": 6,
    "start_time": "2022-01-18T17:11:08.800Z"
   },
   {
    "duration": 1678,
    "start_time": "2022-01-18T17:11:08.808Z"
   },
   {
    "duration": 69672845,
    "start_time": "2022-01-17T21:49:57.643Z"
   },
   {
    "duration": 233,
    "start_time": "2022-01-18T17:12:28.120Z"
   },
   {
    "duration": 401,
    "start_time": "2022-01-18T17:16:46.399Z"
   },
   {
    "duration": 238,
    "start_time": "2022-01-18T17:17:26.478Z"
   },
   {
    "duration": 21,
    "start_time": "2022-01-18T17:27:03.373Z"
   },
   {
    "duration": 388,
    "start_time": "2022-01-18T17:27:47.184Z"
   },
   {
    "duration": 5,
    "start_time": "2022-01-18T17:28:00.806Z"
   },
   {
    "duration": 230,
    "start_time": "2022-01-18T17:28:04.367Z"
   },
   {
    "duration": 3,
    "start_time": "2022-01-18T17:30:07.700Z"
   },
   {
    "duration": 84,
    "start_time": "2022-01-18T17:30:07.705Z"
   },
   {
    "duration": 5,
    "start_time": "2022-01-18T17:30:07.791Z"
   },
   {
    "duration": 342,
    "start_time": "2022-01-18T17:30:07.797Z"
   },
   {
    "duration": 14,
    "start_time": "2022-01-18T17:30:08.140Z"
   },
   {
    "duration": 16,
    "start_time": "2022-01-18T17:30:08.156Z"
   },
   {
    "duration": 31,
    "start_time": "2022-01-18T17:30:08.174Z"
   },
   {
    "duration": 20,
    "start_time": "2022-01-18T17:30:08.207Z"
   },
   {
    "duration": 30,
    "start_time": "2022-01-18T17:30:08.229Z"
   },
   {
    "duration": 6,
    "start_time": "2022-01-18T17:30:08.260Z"
   },
   {
    "duration": 32,
    "start_time": "2022-01-18T17:30:08.267Z"
   },
   {
    "duration": 6,
    "start_time": "2022-01-18T17:30:08.301Z"
   },
   {
    "duration": 14,
    "start_time": "2022-01-18T17:30:08.308Z"
   },
   {
    "duration": 9,
    "start_time": "2022-01-18T17:30:08.323Z"
   },
   {
    "duration": 19,
    "start_time": "2022-01-18T17:30:08.334Z"
   },
   {
    "duration": 44,
    "start_time": "2022-01-18T17:30:08.355Z"
   },
   {
    "duration": 18,
    "start_time": "2022-01-18T17:30:08.401Z"
   },
   {
    "duration": 306,
    "start_time": "2022-01-18T17:30:08.422Z"
   },
   {
    "duration": 5,
    "start_time": "2022-01-18T17:30:08.732Z"
   },
   {
    "duration": 17,
    "start_time": "2022-01-18T17:30:08.739Z"
   },
   {
    "duration": 522,
    "start_time": "2022-01-18T17:30:08.758Z"
   },
   {
    "duration": 218,
    "start_time": "2022-01-18T17:30:09.283Z"
   },
   {
    "duration": 69671705,
    "start_time": "2022-01-17T22:08:57.799Z"
   },
   {
    "duration": 6,
    "start_time": "2022-01-18T17:30:34.370Z"
   },
   {
    "duration": 7,
    "start_time": "2022-01-18T17:31:10.884Z"
   },
   {
    "duration": 410,
    "start_time": "2022-01-18T17:31:15.429Z"
   },
   {
    "duration": 224,
    "start_time": "2022-01-18T17:31:39.645Z"
   },
   {
    "duration": 3871,
    "start_time": "2022-01-18T17:35:10.861Z"
   },
   {
    "duration": 618,
    "start_time": "2022-01-18T17:35:40.095Z"
   },
   {
    "duration": 570,
    "start_time": "2022-01-18T17:35:49.780Z"
   },
   {
    "duration": 307,
    "start_time": "2022-01-18T17:36:05.044Z"
   },
   {
    "duration": 81,
    "start_time": "2022-01-18T17:36:32.693Z"
   },
   {
    "duration": 241,
    "start_time": "2022-01-18T17:37:26.651Z"
   },
   {
    "duration": 404,
    "start_time": "2022-01-18T17:38:25.935Z"
   },
   {
    "duration": 355,
    "start_time": "2022-01-18T17:45:10.520Z"
   },
   {
    "duration": 17,
    "start_time": "2022-01-18T18:13:32.891Z"
   },
   {
    "duration": 413,
    "start_time": "2022-01-18T18:18:28.846Z"
   },
   {
    "duration": 5314,
    "start_time": "2022-01-18T18:19:12.470Z"
   },
   {
    "duration": 369,
    "start_time": "2022-01-18T18:19:42.303Z"
   },
   {
    "duration": 23,
    "start_time": "2022-01-18T18:23:31.277Z"
   },
   {
    "duration": 24,
    "start_time": "2022-01-18T18:24:16.098Z"
   },
   {
    "duration": 417,
    "start_time": "2022-01-18T18:26:42.284Z"
   },
   {
    "duration": 14,
    "start_time": "2022-01-18T18:30:17.568Z"
   },
   {
    "duration": 12,
    "start_time": "2022-01-18T18:39:55.644Z"
   },
   {
    "duration": 625,
    "start_time": "2022-01-18T18:47:59.767Z"
   },
   {
    "duration": 3,
    "start_time": "2022-01-18T18:53:09.260Z"
   },
   {
    "duration": 6,
    "start_time": "2022-01-18T18:57:05.138Z"
   },
   {
    "duration": 728,
    "start_time": "2022-01-18T18:58:11.289Z"
   },
   {
    "duration": 2117,
    "start_time": "2022-01-18T18:58:49.068Z"
   },
   {
    "duration": 3,
    "start_time": "2022-01-18T18:59:52.623Z"
   },
   {
    "duration": 1674,
    "start_time": "2022-01-18T18:59:57.094Z"
   },
   {
    "duration": 7977,
    "start_time": "2022-01-18T19:01:26.347Z"
   },
   {
    "duration": 6731,
    "start_time": "2022-01-18T19:02:37.659Z"
   },
   {
    "duration": 591,
    "start_time": "2022-01-18T19:03:01.719Z"
   },
   {
    "duration": 3,
    "start_time": "2022-01-18T19:03:37.396Z"
   },
   {
    "duration": 558,
    "start_time": "2022-01-18T19:03:43.196Z"
   },
   {
    "duration": 1598,
    "start_time": "2022-01-18T19:04:08.060Z"
   },
   {
    "duration": 4,
    "start_time": "2022-01-18T19:06:51.147Z"
   },
   {
    "duration": 1670,
    "start_time": "2022-01-18T19:06:55.911Z"
   },
   {
    "duration": 13,
    "start_time": "2022-01-18T19:09:20.448Z"
   },
   {
    "duration": 4,
    "start_time": "2022-01-18T19:15:49.786Z"
   },
   {
    "duration": 12,
    "start_time": "2022-01-18T19:17:38.494Z"
   },
   {
    "duration": 392,
    "start_time": "2022-01-18T19:43:11.376Z"
   },
   {
    "duration": 490,
    "start_time": "2022-01-18T19:44:04.641Z"
   },
   {
    "duration": 462,
    "start_time": "2022-01-18T19:44:43.611Z"
   },
   {
    "duration": 492,
    "start_time": "2022-01-18T20:06:14.328Z"
   },
   {
    "duration": 18,
    "start_time": "2022-01-18T20:06:32.023Z"
   },
   {
    "duration": 392,
    "start_time": "2022-01-18T20:09:05.720Z"
   },
   {
    "duration": 1433,
    "start_time": "2022-01-18T20:14:14.045Z"
   },
   {
    "duration": 12,
    "start_time": "2022-01-18T20:15:17.491Z"
   },
   {
    "duration": 4,
    "start_time": "2022-01-18T20:17:16.787Z"
   },
   {
    "duration": 12,
    "start_time": "2022-01-18T20:18:07.606Z"
   },
   {
    "duration": 222,
    "start_time": "2022-01-18T20:20:23.493Z"
   },
   {
    "duration": 1137,
    "start_time": "2022-01-19T04:55:35.030Z"
   },
   {
    "duration": 83,
    "start_time": "2022-01-19T04:55:36.169Z"
   },
   {
    "duration": 7,
    "start_time": "2022-01-19T04:55:36.256Z"
   },
   {
    "duration": 460,
    "start_time": "2022-01-19T04:55:36.266Z"
   },
   {
    "duration": 20,
    "start_time": "2022-01-19T04:55:36.732Z"
   },
   {
    "duration": 23,
    "start_time": "2022-01-19T04:55:36.754Z"
   },
   {
    "duration": 26,
    "start_time": "2022-01-19T04:55:36.779Z"
   },
   {
    "duration": 54,
    "start_time": "2022-01-19T04:55:36.807Z"
   },
   {
    "duration": 67,
    "start_time": "2022-01-19T04:55:36.865Z"
   },
   {
    "duration": 9,
    "start_time": "2022-01-19T04:55:36.936Z"
   },
   {
    "duration": 7,
    "start_time": "2022-01-19T04:55:36.947Z"
   },
   {
    "duration": 7,
    "start_time": "2022-01-19T04:55:36.957Z"
   },
   {
    "duration": 17,
    "start_time": "2022-01-19T04:55:36.967Z"
   },
   {
    "duration": 7,
    "start_time": "2022-01-19T04:55:37.032Z"
   },
   {
    "duration": 19,
    "start_time": "2022-01-19T04:55:37.043Z"
   },
   {
    "duration": 20,
    "start_time": "2022-01-19T04:55:37.065Z"
   },
   {
    "duration": 31,
    "start_time": "2022-01-19T04:55:37.132Z"
   },
   {
    "duration": 441,
    "start_time": "2022-01-19T04:55:37.166Z"
   },
   {
    "duration": 24,
    "start_time": "2022-01-19T04:55:37.610Z"
   },
   {
    "duration": 26,
    "start_time": "2022-01-19T04:55:37.636Z"
   },
   {
    "duration": 684,
    "start_time": "2022-01-19T04:55:37.664Z"
   },
   {
    "duration": 11,
    "start_time": "2022-01-19T04:55:38.351Z"
   },
   {
    "duration": 23,
    "start_time": "2022-01-19T04:55:38.364Z"
   },
   {
    "duration": 618,
    "start_time": "2022-01-19T04:55:38.390Z"
   },
   {
    "duration": 494,
    "start_time": "2022-01-19T04:55:39.011Z"
   },
   {
    "duration": 492,
    "start_time": "2022-01-19T04:55:39.507Z"
   },
   {
    "duration": 30,
    "start_time": "2022-01-19T04:55:40.004Z"
   },
   {
    "duration": 469,
    "start_time": "2022-01-19T04:55:40.036Z"
   },
   {
    "duration": 27,
    "start_time": "2022-01-19T04:55:40.507Z"
   },
   {
    "duration": 5,
    "start_time": "2022-01-19T04:55:40.537Z"
   },
   {
    "duration": 1858,
    "start_time": "2022-01-19T04:55:40.545Z"
   },
   {
    "duration": 29,
    "start_time": "2022-01-19T04:55:42.405Z"
   },
   {
    "duration": 8,
    "start_time": "2022-01-19T04:55:42.436Z"
   },
   {
    "duration": 22,
    "start_time": "2022-01-19T04:55:42.446Z"
   },
   {
    "duration": 322,
    "start_time": "2022-01-19T04:55:42.470Z"
   },
   {
    "duration": 404,
    "start_time": "2022-01-19T05:04:09.276Z"
   },
   {
    "duration": 296,
    "start_time": "2022-01-19T05:04:15.230Z"
   },
   {
    "duration": 23,
    "start_time": "2022-01-19T05:04:26.688Z"
   },
   {
    "duration": 302,
    "start_time": "2022-01-19T17:38:51.005Z"
   },
   {
    "duration": 20,
    "start_time": "2022-01-19T18:28:00.067Z"
   },
   {
    "duration": 410,
    "start_time": "2022-01-19T18:42:10.772Z"
   },
   {
    "duration": 21,
    "start_time": "2022-01-19T18:45:04.017Z"
   },
   {
    "duration": 15,
    "start_time": "2022-01-19T18:47:36.519Z"
   },
   {
    "duration": 23,
    "start_time": "2022-01-19T18:47:50.387Z"
   },
   {
    "duration": 27,
    "start_time": "2022-01-19T18:49:43.081Z"
   },
   {
    "duration": 29,
    "start_time": "2022-01-19T18:50:51.636Z"
   },
   {
    "duration": 29,
    "start_time": "2022-01-19T18:52:13.643Z"
   },
   {
    "duration": 6,
    "start_time": "2022-01-19T19:10:05.187Z"
   },
   {
    "duration": 27,
    "start_time": "2022-01-19T19:10:18.953Z"
   },
   {
    "duration": 23,
    "start_time": "2022-01-19T19:11:37.178Z"
   },
   {
    "duration": 20,
    "start_time": "2022-01-19T19:14:15.313Z"
   },
   {
    "duration": 308,
    "start_time": "2022-01-19T19:20:49.413Z"
   },
   {
    "duration": 529,
    "start_time": "2022-01-19T19:21:13.399Z"
   },
   {
    "duration": 586,
    "start_time": "2022-01-19T19:22:01.820Z"
   },
   {
    "duration": 1101,
    "start_time": "2022-01-19T19:22:23.192Z"
   },
   {
    "duration": 897,
    "start_time": "2022-01-19T19:22:38.175Z"
   },
   {
    "duration": 1212,
    "start_time": "2022-01-19T19:22:50.249Z"
   },
   {
    "duration": 1535,
    "start_time": "2022-01-19T19:23:15.224Z"
   },
   {
    "duration": 767,
    "start_time": "2022-01-19T19:23:26.702Z"
   },
   {
    "duration": 1266,
    "start_time": "2022-01-19T19:23:33.203Z"
   },
   {
    "duration": 914,
    "start_time": "2022-01-19T19:24:23.318Z"
   },
   {
    "duration": 763,
    "start_time": "2022-01-19T19:24:30.673Z"
   },
   {
    "duration": 1010,
    "start_time": "2022-01-19T19:24:53.342Z"
   },
   {
    "duration": 8840,
    "start_time": "2022-01-19T19:33:12.167Z"
   },
   {
    "duration": 24,
    "start_time": "2022-01-19T19:33:59.467Z"
   },
   {
    "duration": 40,
    "start_time": "2022-01-19T19:34:56.365Z"
   },
   {
    "duration": 41,
    "start_time": "2022-01-19T19:35:19.955Z"
   },
   {
    "duration": 39,
    "start_time": "2022-01-19T19:35:28.238Z"
   },
   {
    "duration": 33,
    "start_time": "2022-01-19T19:35:41.032Z"
   },
   {
    "duration": 20,
    "start_time": "2022-01-19T19:35:44.442Z"
   },
   {
    "duration": 14,
    "start_time": "2022-01-19T19:35:47.922Z"
   },
   {
    "duration": 319,
    "start_time": "2022-01-19T19:35:51.458Z"
   },
   {
    "duration": 327,
    "start_time": "2022-01-19T19:36:26.897Z"
   },
   {
    "duration": 367,
    "start_time": "2022-01-19T19:41:31.549Z"
   },
   {
    "duration": 16,
    "start_time": "2022-01-19T19:42:20.220Z"
   },
   {
    "duration": 13,
    "start_time": "2022-01-19T19:42:32.883Z"
   },
   {
    "duration": 29,
    "start_time": "2022-01-19T19:42:38.813Z"
   },
   {
    "duration": 30,
    "start_time": "2022-01-19T19:43:48.260Z"
   },
   {
    "duration": 318,
    "start_time": "2022-01-19T19:45:29.317Z"
   },
   {
    "duration": 1405,
    "start_time": "2022-01-19T19:45:50.713Z"
   },
   {
    "duration": 10,
    "start_time": "2022-01-19T19:47:27.398Z"
   },
   {
    "duration": 27,
    "start_time": "2022-01-19T19:48:19.590Z"
   },
   {
    "duration": 14,
    "start_time": "2022-01-19T19:48:32.721Z"
   },
   {
    "duration": 14,
    "start_time": "2022-01-19T19:48:40.221Z"
   },
   {
    "duration": 1969,
    "start_time": "2022-01-19T19:48:44.261Z"
   },
   {
    "duration": 40,
    "start_time": "2022-01-19T19:48:54.785Z"
   },
   {
    "duration": 5,
    "start_time": "2022-01-19T19:49:37.809Z"
   },
   {
    "duration": 1149,
    "start_time": "2022-01-19T19:49:51.433Z"
   },
   {
    "duration": 11,
    "start_time": "2022-01-19T19:50:07.404Z"
   },
   {
    "duration": 1237,
    "start_time": "2022-01-19T19:50:28.834Z"
   },
   {
    "duration": 28,
    "start_time": "2022-01-19T19:50:42.941Z"
   },
   {
    "duration": 1212,
    "start_time": "2022-01-19T19:50:51.924Z"
   },
   {
    "duration": 26,
    "start_time": "2022-01-19T19:51:32.697Z"
   },
   {
    "duration": 906,
    "start_time": "2022-01-19T19:51:41.426Z"
   },
   {
    "duration": 25,
    "start_time": "2022-01-19T19:52:17.461Z"
   },
   {
    "duration": 16,
    "start_time": "2022-01-19T19:52:22.526Z"
   },
   {
    "duration": 14,
    "start_time": "2022-01-19T19:52:31.139Z"
   },
   {
    "duration": 1681,
    "start_time": "2022-01-19T19:52:37.483Z"
   },
   {
    "duration": 1193,
    "start_time": "2022-01-19T19:53:02.384Z"
   },
   {
    "duration": 28,
    "start_time": "2022-01-19T19:53:15.487Z"
   },
   {
    "duration": 883,
    "start_time": "2022-01-19T19:53:25.075Z"
   },
   {
    "duration": 15,
    "start_time": "2022-01-19T19:54:08.121Z"
   },
   {
    "duration": 15,
    "start_time": "2022-01-19T19:58:25.110Z"
   },
   {
    "duration": 807,
    "start_time": "2022-01-19T19:58:33.899Z"
   },
   {
    "duration": 813,
    "start_time": "2022-01-19T20:03:43.846Z"
   },
   {
    "duration": 27,
    "start_time": "2022-01-19T20:45:51.818Z"
   },
   {
    "duration": 27,
    "start_time": "2022-01-19T20:46:15.261Z"
   },
   {
    "duration": 16,
    "start_time": "2022-01-19T20:46:56.557Z"
   },
   {
    "duration": 14,
    "start_time": "2022-01-19T20:47:26.642Z"
   },
   {
    "duration": 905,
    "start_time": "2022-01-19T21:04:45.196Z"
   },
   {
    "duration": 1163,
    "start_time": "2022-01-19T21:05:18.054Z"
   },
   {
    "duration": 790,
    "start_time": "2022-01-19T21:06:50.732Z"
   },
   {
    "duration": 661,
    "start_time": "2022-01-19T21:07:07.271Z"
   },
   {
    "duration": 27,
    "start_time": "2022-01-19T21:08:01.142Z"
   },
   {
    "duration": 24,
    "start_time": "2022-01-19T21:08:20.956Z"
   },
   {
    "duration": 16,
    "start_time": "2022-01-19T21:08:24.893Z"
   },
   {
    "duration": 14,
    "start_time": "2022-01-19T21:08:31.638Z"
   },
   {
    "duration": 16,
    "start_time": "2022-01-19T21:08:39.495Z"
   },
   {
    "duration": 14,
    "start_time": "2022-01-19T21:09:01.505Z"
   },
   {
    "duration": 27,
    "start_time": "2022-01-19T21:09:07.808Z"
   },
   {
    "duration": 25,
    "start_time": "2022-01-19T21:09:13.757Z"
   },
   {
    "duration": 16,
    "start_time": "2022-01-19T21:09:23.873Z"
   },
   {
    "duration": 13,
    "start_time": "2022-01-19T21:09:37.808Z"
   },
   {
    "duration": 15,
    "start_time": "2022-01-19T21:11:12.435Z"
   },
   {
    "duration": 22,
    "start_time": "2022-01-19T21:11:20.417Z"
   },
   {
    "duration": 313,
    "start_time": "2022-01-19T21:11:30.506Z"
   },
   {
    "duration": 668,
    "start_time": "2022-01-19T21:11:44.172Z"
   },
   {
    "duration": 13,
    "start_time": "2022-01-19T21:20:05.946Z"
   },
   {
    "duration": 14,
    "start_time": "2022-01-19T21:20:33.625Z"
   },
   {
    "duration": 24,
    "start_time": "2022-01-19T21:20:43.697Z"
   },
   {
    "duration": 650,
    "start_time": "2022-01-19T21:23:22.823Z"
   },
   {
    "duration": 103,
    "start_time": "2022-01-19T21:50:34.306Z"
   },
   {
    "duration": 113,
    "start_time": "2022-01-19T21:50:49.117Z"
   },
   {
    "duration": 111,
    "start_time": "2022-01-19T21:51:08.147Z"
   },
   {
    "duration": 106,
    "start_time": "2022-01-19T21:51:46.972Z"
   },
   {
    "duration": 105,
    "start_time": "2022-01-19T21:52:04.194Z"
   },
   {
    "duration": 103,
    "start_time": "2022-01-19T21:53:42.949Z"
   },
   {
    "duration": 92,
    "start_time": "2022-01-19T21:53:52.204Z"
   },
   {
    "duration": 109,
    "start_time": "2022-01-19T21:54:00.365Z"
   },
   {
    "duration": 99,
    "start_time": "2022-01-19T21:54:09.422Z"
   },
   {
    "duration": 353,
    "start_time": "2022-01-19T22:06:53.566Z"
   },
   {
    "duration": 616,
    "start_time": "2022-01-19T22:07:36.569Z"
   },
   {
    "duration": 560,
    "start_time": "2022-01-19T22:07:43.454Z"
   },
   {
    "duration": 610,
    "start_time": "2022-01-19T22:10:24.043Z"
   },
   {
    "duration": 33,
    "start_time": "2022-01-19T22:10:48.051Z"
   },
   {
    "duration": 32,
    "start_time": "2022-01-19T22:12:20.954Z"
   },
   {
    "duration": 389,
    "start_time": "2022-01-19T22:18:24.690Z"
   },
   {
    "duration": 29,
    "start_time": "2022-01-19T22:18:56.149Z"
   },
   {
    "duration": 528,
    "start_time": "2022-01-19T22:19:59.866Z"
   },
   {
    "duration": 38,
    "start_time": "2022-01-19T22:20:10.899Z"
   },
   {
    "duration": 14,
    "start_time": "2022-01-19T22:23:34.470Z"
   },
   {
    "duration": 33,
    "start_time": "2022-01-19T22:24:34.302Z"
   },
   {
    "duration": 11,
    "start_time": "2022-01-19T22:24:57.339Z"
   },
   {
    "duration": 15,
    "start_time": "2022-01-19T22:26:29.390Z"
   },
   {
    "duration": 20,
    "start_time": "2022-01-19T22:36:31.966Z"
   },
   {
    "duration": 13,
    "start_time": "2022-01-19T22:36:53.382Z"
   },
   {
    "duration": 6,
    "start_time": "2022-01-19T22:46:30.929Z"
   },
   {
    "duration": 4,
    "start_time": "2022-01-19T23:10:26.174Z"
   },
   {
    "duration": 82,
    "start_time": "2022-01-19T23:10:26.182Z"
   },
   {
    "duration": 7,
    "start_time": "2022-01-19T23:10:26.267Z"
   },
   {
    "duration": 491,
    "start_time": "2022-01-19T23:10:26.278Z"
   },
   {
    "duration": 19,
    "start_time": "2022-01-19T23:10:26.772Z"
   },
   {
    "duration": 42,
    "start_time": "2022-01-19T23:10:26.793Z"
   },
   {
    "duration": 33,
    "start_time": "2022-01-19T23:10:26.841Z"
   },
   {
    "duration": 73,
    "start_time": "2022-01-19T23:10:26.879Z"
   },
   {
    "duration": 47,
    "start_time": "2022-01-19T23:10:26.955Z"
   },
   {
    "duration": 34,
    "start_time": "2022-01-19T23:10:27.005Z"
   },
   {
    "duration": 32,
    "start_time": "2022-01-19T23:10:27.041Z"
   },
   {
    "duration": 10,
    "start_time": "2022-01-19T23:10:27.076Z"
   },
   {
    "duration": 21,
    "start_time": "2022-01-19T23:10:27.088Z"
   },
   {
    "duration": 22,
    "start_time": "2022-01-19T23:10:27.112Z"
   },
   {
    "duration": 17,
    "start_time": "2022-01-19T23:10:27.136Z"
   },
   {
    "duration": 22,
    "start_time": "2022-01-19T23:10:27.156Z"
   },
   {
    "duration": 56,
    "start_time": "2022-01-19T23:10:27.181Z"
   },
   {
    "duration": 24,
    "start_time": "2022-01-19T23:10:27.239Z"
   },
   {
    "duration": 460,
    "start_time": "2022-01-19T23:10:27.269Z"
   },
   {
    "duration": 6,
    "start_time": "2022-01-19T23:10:27.732Z"
   },
   {
    "duration": 27,
    "start_time": "2022-01-19T23:10:27.741Z"
   },
   {
    "duration": 625,
    "start_time": "2022-01-19T23:10:27.770Z"
   },
   {
    "duration": 10,
    "start_time": "2022-01-19T23:10:28.398Z"
   },
   {
    "duration": 39,
    "start_time": "2022-01-19T23:10:28.410Z"
   },
   {
    "duration": 596,
    "start_time": "2022-01-19T23:10:28.451Z"
   },
   {
    "duration": 652,
    "start_time": "2022-01-19T23:10:29.049Z"
   },
   {
    "duration": 534,
    "start_time": "2022-01-19T23:10:29.704Z"
   },
   {
    "duration": 23,
    "start_time": "2022-01-19T23:10:30.241Z"
   },
   {
    "duration": 492,
    "start_time": "2022-01-19T23:10:30.267Z"
   },
   {
    "duration": 19,
    "start_time": "2022-01-19T23:10:30.763Z"
   },
   {
    "duration": 9,
    "start_time": "2022-01-19T23:10:30.785Z"
   },
   {
    "duration": 2336,
    "start_time": "2022-01-19T23:10:30.796Z"
   },
   {
    "duration": 18,
    "start_time": "2022-01-19T23:10:33.136Z"
   },
   {
    "duration": 18,
    "start_time": "2022-01-19T23:10:33.157Z"
   },
   {
    "duration": 23,
    "start_time": "2022-01-19T23:10:33.178Z"
   },
   {
    "duration": 357,
    "start_time": "2022-01-19T23:10:33.204Z"
   },
   {
    "duration": 28,
    "start_time": "2022-01-19T23:10:33.564Z"
   },
   {
    "duration": 39,
    "start_time": "2022-01-19T23:10:33.595Z"
   },
   {
    "duration": 14,
    "start_time": "2022-01-19T23:10:33.637Z"
   },
   {
    "duration": 710,
    "start_time": "2022-01-19T23:10:33.653Z"
   },
   {
    "duration": 25,
    "start_time": "2022-01-19T23:10:34.365Z"
   },
   {
    "duration": 39,
    "start_time": "2022-01-19T23:10:34.393Z"
   },
   {
    "duration": 14,
    "start_time": "2022-01-19T23:10:34.435Z"
   },
   {
    "duration": 668,
    "start_time": "2022-01-19T23:10:34.451Z"
   },
   {
    "duration": 27,
    "start_time": "2022-01-19T23:10:35.122Z"
   },
   {
    "duration": 623,
    "start_time": "2022-01-19T23:10:35.151Z"
   },
   {
    "duration": 14,
    "start_time": "2022-01-19T23:10:35.777Z"
   },
   {
    "duration": 20,
    "start_time": "2022-01-19T23:10:35.793Z"
   },
   {
    "duration": 19,
    "start_time": "2022-01-19T23:10:35.816Z"
   },
   {
    "duration": 690,
    "start_time": "2022-01-19T23:22:11.470Z"
   },
   {
    "duration": 729,
    "start_time": "2022-01-19T23:22:27.675Z"
   },
   {
    "duration": 652,
    "start_time": "2022-01-19T23:23:04.455Z"
   },
   {
    "duration": 1289,
    "start_time": "2022-01-24T12:57:50.273Z"
   },
   {
    "duration": 81,
    "start_time": "2022-01-24T12:57:51.564Z"
   },
   {
    "duration": 8,
    "start_time": "2022-01-24T12:57:51.648Z"
   },
   {
    "duration": 443,
    "start_time": "2022-01-24T12:57:51.658Z"
   },
   {
    "duration": 31,
    "start_time": "2022-01-24T12:57:52.104Z"
   },
   {
    "duration": 26,
    "start_time": "2022-01-24T12:57:52.138Z"
   },
   {
    "duration": 21,
    "start_time": "2022-01-24T12:57:52.166Z"
   },
   {
    "duration": 52,
    "start_time": "2022-01-24T12:57:52.191Z"
   },
   {
    "duration": 44,
    "start_time": "2022-01-24T12:57:52.247Z"
   },
   {
    "duration": 37,
    "start_time": "2022-01-24T12:57:52.293Z"
   },
   {
    "duration": 15,
    "start_time": "2022-01-24T12:57:52.333Z"
   },
   {
    "duration": 8,
    "start_time": "2022-01-24T12:57:52.351Z"
   },
   {
    "duration": 25,
    "start_time": "2022-01-24T12:57:52.361Z"
   },
   {
    "duration": 40,
    "start_time": "2022-01-24T12:57:52.389Z"
   },
   {
    "duration": 38,
    "start_time": "2022-01-24T12:57:52.432Z"
   },
   {
    "duration": 30,
    "start_time": "2022-01-24T12:57:52.473Z"
   },
   {
    "duration": 22,
    "start_time": "2022-01-24T12:57:52.505Z"
   },
   {
    "duration": 28,
    "start_time": "2022-01-24T12:57:52.530Z"
   },
   {
    "duration": 437,
    "start_time": "2022-01-24T12:57:52.560Z"
   },
   {
    "duration": 6,
    "start_time": "2022-01-24T12:57:53.000Z"
   },
   {
    "duration": 49,
    "start_time": "2022-01-24T12:57:53.008Z"
   },
   {
    "duration": 579,
    "start_time": "2022-01-24T12:57:53.059Z"
   },
   {
    "duration": 10,
    "start_time": "2022-01-24T12:57:53.643Z"
   },
   {
    "duration": 22,
    "start_time": "2022-01-24T12:57:53.656Z"
   },
   {
    "duration": 602,
    "start_time": "2022-01-24T12:57:53.680Z"
   },
   {
    "duration": 498,
    "start_time": "2022-01-24T12:57:54.284Z"
   },
   {
    "duration": 522,
    "start_time": "2022-01-24T12:57:54.784Z"
   },
   {
    "duration": 37,
    "start_time": "2022-01-24T12:57:55.309Z"
   },
   {
    "duration": 458,
    "start_time": "2022-01-24T12:57:55.349Z"
   },
   {
    "duration": 22,
    "start_time": "2022-01-24T12:57:55.810Z"
   },
   {
    "duration": 6,
    "start_time": "2022-01-24T12:57:55.835Z"
   },
   {
    "duration": 2079,
    "start_time": "2022-01-24T12:57:55.844Z"
   },
   {
    "duration": 21,
    "start_time": "2022-01-24T12:57:57.925Z"
   },
   {
    "duration": 5,
    "start_time": "2022-01-24T12:57:57.949Z"
   },
   {
    "duration": 22,
    "start_time": "2022-01-24T12:57:57.956Z"
   },
   {
    "duration": 334,
    "start_time": "2022-01-24T12:57:57.981Z"
   },
   {
    "duration": 34,
    "start_time": "2022-01-24T12:57:58.317Z"
   },
   {
    "duration": 15,
    "start_time": "2022-01-24T12:57:58.353Z"
   },
   {
    "duration": 22,
    "start_time": "2022-01-24T12:57:58.370Z"
   },
   {
    "duration": 654,
    "start_time": "2022-01-24T12:57:58.395Z"
   },
   {
    "duration": 24,
    "start_time": "2022-01-24T12:57:59.051Z"
   },
   {
    "duration": 28,
    "start_time": "2022-01-24T12:57:59.077Z"
   },
   {
    "duration": 23,
    "start_time": "2022-01-24T12:57:59.107Z"
   },
   {
    "duration": 663,
    "start_time": "2022-01-24T12:57:59.133Z"
   },
   {
    "duration": 32,
    "start_time": "2022-01-24T12:57:59.799Z"
   },
   {
    "duration": 602,
    "start_time": "2022-01-24T12:57:59.834Z"
   },
   {
    "duration": 17,
    "start_time": "2022-01-24T12:58:00.439Z"
   },
   {
    "duration": 12,
    "start_time": "2022-01-24T12:58:00.459Z"
   },
   {
    "duration": 17,
    "start_time": "2022-01-24T12:58:00.474Z"
   },
   {
    "duration": 1355,
    "start_time": "2022-01-24T13:02:36.614Z"
   },
   {
    "duration": 85,
    "start_time": "2022-01-24T13:02:37.971Z"
   },
   {
    "duration": 8,
    "start_time": "2022-01-24T13:02:38.059Z"
   },
   {
    "duration": 511,
    "start_time": "2022-01-24T13:02:38.069Z"
   },
   {
    "duration": 19,
    "start_time": "2022-01-24T13:02:38.583Z"
   },
   {
    "duration": 50,
    "start_time": "2022-01-24T13:02:38.605Z"
   },
   {
    "duration": 37,
    "start_time": "2022-01-24T13:02:38.658Z"
   },
   {
    "duration": 38,
    "start_time": "2022-01-24T13:02:38.698Z"
   },
   {
    "duration": 39,
    "start_time": "2022-01-24T13:02:43.857Z"
   },
   {
    "duration": 35,
    "start_time": "2022-01-24T13:03:39.517Z"
   },
   {
    "duration": 50,
    "start_time": "2022-01-24T13:06:04.314Z"
   },
   {
    "duration": 19,
    "start_time": "2022-01-24T13:06:12.172Z"
   },
   {
    "duration": 1467,
    "start_time": "2022-01-24T16:37:22.646Z"
   },
   {
    "duration": 90,
    "start_time": "2022-01-24T16:37:24.116Z"
   },
   {
    "duration": 8,
    "start_time": "2022-01-24T16:37:24.210Z"
   },
   {
    "duration": 475,
    "start_time": "2022-01-24T16:37:24.221Z"
   },
   {
    "duration": 21,
    "start_time": "2022-01-24T16:37:24.699Z"
   },
   {
    "duration": 45,
    "start_time": "2022-01-24T16:37:24.722Z"
   },
   {
    "duration": 21,
    "start_time": "2022-01-24T16:37:24.770Z"
   },
   {
    "duration": 32,
    "start_time": "2022-01-24T16:37:24.796Z"
   },
   {
    "duration": 30,
    "start_time": "2022-01-24T16:37:24.831Z"
   },
   {
    "duration": 444,
    "start_time": "2022-01-24T16:37:24.864Z"
   },
   {
    "duration": 569876,
    "start_time": "2022-01-24T16:27:55.436Z"
   },
   {
    "duration": 569872,
    "start_time": "2022-01-24T16:27:55.442Z"
   },
   {
    "duration": 569868,
    "start_time": "2022-01-24T16:27:55.447Z"
   },
   {
    "duration": 569855,
    "start_time": "2022-01-24T16:27:55.461Z"
   },
   {
    "duration": 569851,
    "start_time": "2022-01-24T16:27:55.467Z"
   },
   {
    "duration": 569846,
    "start_time": "2022-01-24T16:27:55.473Z"
   },
   {
    "duration": 569839,
    "start_time": "2022-01-24T16:27:55.481Z"
   },
   {
    "duration": 569829,
    "start_time": "2022-01-24T16:27:55.493Z"
   },
   {
    "duration": 569824,
    "start_time": "2022-01-24T16:27:55.499Z"
   },
   {
    "duration": 569821,
    "start_time": "2022-01-24T16:27:55.504Z"
   },
   {
    "duration": 569817,
    "start_time": "2022-01-24T16:27:55.511Z"
   },
   {
    "duration": 569813,
    "start_time": "2022-01-24T16:27:55.516Z"
   },
   {
    "duration": 569809,
    "start_time": "2022-01-24T16:27:55.522Z"
   },
   {
    "duration": 569805,
    "start_time": "2022-01-24T16:27:55.527Z"
   },
   {
    "duration": 569793,
    "start_time": "2022-01-24T16:27:55.541Z"
   },
   {
    "duration": 569790,
    "start_time": "2022-01-24T16:27:55.546Z"
   },
   {
    "duration": 569786,
    "start_time": "2022-01-24T16:27:55.551Z"
   },
   {
    "duration": 569783,
    "start_time": "2022-01-24T16:27:55.556Z"
   },
   {
    "duration": 569741,
    "start_time": "2022-01-24T16:27:55.599Z"
   },
   {
    "duration": 569737,
    "start_time": "2022-01-24T16:27:55.605Z"
   },
   {
    "duration": 569694,
    "start_time": "2022-01-24T16:27:55.649Z"
   },
   {
    "duration": 569604,
    "start_time": "2022-01-24T16:27:55.742Z"
   },
   {
    "duration": 569598,
    "start_time": "2022-01-24T16:27:55.749Z"
   },
   {
    "duration": 569605,
    "start_time": "2022-01-24T16:27:55.754Z"
   },
   {
    "duration": 569418,
    "start_time": "2022-01-24T16:27:55.942Z"
   },
   {
    "duration": 569413,
    "start_time": "2022-01-24T16:27:55.948Z"
   },
   {
    "duration": 569384,
    "start_time": "2022-01-24T16:27:55.979Z"
   },
   {
    "duration": 569253,
    "start_time": "2022-01-24T16:27:56.111Z"
   },
   {
    "duration": 569249,
    "start_time": "2022-01-24T16:27:56.117Z"
   },
   {
    "duration": 569245,
    "start_time": "2022-01-24T16:27:56.122Z"
   },
   {
    "duration": 569243,
    "start_time": "2022-01-24T16:27:56.127Z"
   },
   {
    "duration": 569200,
    "start_time": "2022-01-24T16:27:56.171Z"
   },
   {
    "duration": 569193,
    "start_time": "2022-01-24T16:27:56.180Z"
   },
   {
    "duration": 569190,
    "start_time": "2022-01-24T16:27:56.185Z"
   },
   {
    "duration": 569185,
    "start_time": "2022-01-24T16:27:56.191Z"
   },
   {
    "duration": 569181,
    "start_time": "2022-01-24T16:27:56.196Z"
   },
   {
    "duration": 569177,
    "start_time": "2022-01-24T16:27:56.201Z"
   },
   {
    "duration": 569174,
    "start_time": "2022-01-24T16:27:56.206Z"
   },
   {
    "duration": 569171,
    "start_time": "2022-01-24T16:27:56.211Z"
   },
   {
    "duration": 569168,
    "start_time": "2022-01-24T16:27:56.215Z"
   },
   {
    "duration": 4,
    "start_time": "2022-01-24T16:38:21.185Z"
   },
   {
    "duration": 92,
    "start_time": "2022-01-24T16:38:21.192Z"
   },
   {
    "duration": 11,
    "start_time": "2022-01-24T16:38:21.289Z"
   },
   {
    "duration": 501,
    "start_time": "2022-01-24T16:38:21.304Z"
   },
   {
    "duration": 19,
    "start_time": "2022-01-24T16:38:21.807Z"
   },
   {
    "duration": 40,
    "start_time": "2022-01-24T16:38:21.828Z"
   },
   {
    "duration": 19,
    "start_time": "2022-01-24T16:38:21.871Z"
   },
   {
    "duration": 65,
    "start_time": "2022-01-24T16:38:21.894Z"
   },
   {
    "duration": 3,
    "start_time": "2022-01-24T16:38:21.964Z"
   },
   {
    "duration": 10,
    "start_time": "2022-01-24T16:38:21.970Z"
   },
   {
    "duration": 6,
    "start_time": "2022-01-24T16:38:21.983Z"
   },
   {
    "duration": 7,
    "start_time": "2022-01-24T16:38:21.991Z"
   },
   {
    "duration": 59,
    "start_time": "2022-01-24T16:38:22.000Z"
   },
   {
    "duration": 17,
    "start_time": "2022-01-24T16:38:22.061Z"
   },
   {
    "duration": 6,
    "start_time": "2022-01-24T16:38:22.080Z"
   },
   {
    "duration": 18,
    "start_time": "2022-01-24T16:38:22.088Z"
   },
   {
    "duration": 67,
    "start_time": "2022-01-24T16:38:22.108Z"
   },
   {
    "duration": 457,
    "start_time": "2022-01-24T16:38:22.177Z"
   },
   {
    "duration": 569397,
    "start_time": "2022-01-24T16:28:53.243Z"
   },
   {
    "duration": 569393,
    "start_time": "2022-01-24T16:28:53.248Z"
   },
   {
    "duration": 569389,
    "start_time": "2022-01-24T16:28:53.254Z"
   },
   {
    "duration": 569386,
    "start_time": "2022-01-24T16:28:53.259Z"
   },
   {
    "duration": 569375,
    "start_time": "2022-01-24T16:28:53.273Z"
   },
   {
    "duration": 569160,
    "start_time": "2022-01-24T16:28:53.490Z"
   },
   {
    "duration": 569157,
    "start_time": "2022-01-24T16:28:53.495Z"
   },
   {
    "duration": 569153,
    "start_time": "2022-01-24T16:28:53.501Z"
   },
   {
    "duration": 569150,
    "start_time": "2022-01-24T16:28:53.506Z"
   },
   {
    "duration": 569147,
    "start_time": "2022-01-24T16:28:53.511Z"
   },
   {
    "duration": 569143,
    "start_time": "2022-01-24T16:28:53.517Z"
   },
   {
    "duration": 569140,
    "start_time": "2022-01-24T16:28:53.522Z"
   },
   {
    "duration": 569137,
    "start_time": "2022-01-24T16:28:53.527Z"
   },
   {
    "duration": 569135,
    "start_time": "2022-01-24T16:28:53.532Z"
   },
   {
    "duration": 569131,
    "start_time": "2022-01-24T16:28:53.538Z"
   },
   {
    "duration": 569128,
    "start_time": "2022-01-24T16:28:53.543Z"
   },
   {
    "duration": 569124,
    "start_time": "2022-01-24T16:28:53.549Z"
   },
   {
    "duration": 569122,
    "start_time": "2022-01-24T16:28:53.553Z"
   },
   {
    "duration": 569120,
    "start_time": "2022-01-24T16:28:53.558Z"
   },
   {
    "duration": 569118,
    "start_time": "2022-01-24T16:28:53.563Z"
   },
   {
    "duration": 569115,
    "start_time": "2022-01-24T16:28:53.568Z"
   },
   {
    "duration": 569113,
    "start_time": "2022-01-24T16:28:53.572Z"
   },
   {
    "duration": 569098,
    "start_time": "2022-01-24T16:28:53.588Z"
   },
   {
    "duration": 569095,
    "start_time": "2022-01-24T16:28:53.593Z"
   },
   {
    "duration": 569091,
    "start_time": "2022-01-24T16:28:53.598Z"
   },
   {
    "duration": 569086,
    "start_time": "2022-01-24T16:28:53.604Z"
   },
   {
    "duration": 569081,
    "start_time": "2022-01-24T16:28:53.610Z"
   },
   {
    "duration": 569078,
    "start_time": "2022-01-24T16:28:53.614Z"
   },
   {
    "duration": 569074,
    "start_time": "2022-01-24T16:28:53.620Z"
   },
   {
    "duration": 569063,
    "start_time": "2022-01-24T16:28:53.632Z"
   },
   {
    "duration": 569059,
    "start_time": "2022-01-24T16:28:53.637Z"
   },
   {
    "duration": 569043,
    "start_time": "2022-01-24T16:28:53.655Z"
   },
   {
    "duration": 11,
    "start_time": "2022-01-24T16:40:20.716Z"
   },
   {
    "duration": 8,
    "start_time": "2022-01-24T16:40:23.997Z"
   },
   {
    "duration": 3,
    "start_time": "2022-01-24T16:40:28.903Z"
   },
   {
    "duration": 86,
    "start_time": "2022-01-24T16:40:28.910Z"
   },
   {
    "duration": 7,
    "start_time": "2022-01-24T16:40:28.999Z"
   },
   {
    "duration": 487,
    "start_time": "2022-01-24T16:40:29.009Z"
   },
   {
    "duration": 24,
    "start_time": "2022-01-24T16:40:29.499Z"
   },
   {
    "duration": 37,
    "start_time": "2022-01-24T16:40:29.526Z"
   },
   {
    "duration": 19,
    "start_time": "2022-01-24T16:40:29.566Z"
   },
   {
    "duration": 30,
    "start_time": "2022-01-24T16:40:29.588Z"
   },
   {
    "duration": 4,
    "start_time": "2022-01-24T16:40:29.621Z"
   },
   {
    "duration": 10,
    "start_time": "2022-01-24T16:40:29.661Z"
   },
   {
    "duration": 7,
    "start_time": "2022-01-24T16:40:29.674Z"
   },
   {
    "duration": 8,
    "start_time": "2022-01-24T16:40:29.683Z"
   },
   {
    "duration": 7,
    "start_time": "2022-01-24T16:40:29.693Z"
   },
   {
    "duration": 61,
    "start_time": "2022-01-24T16:40:29.702Z"
   },
   {
    "duration": 6,
    "start_time": "2022-01-24T16:40:29.766Z"
   },
   {
    "duration": 19,
    "start_time": "2022-01-24T16:40:29.775Z"
   },
   {
    "duration": 22,
    "start_time": "2022-01-24T16:40:29.797Z"
   },
   {
    "duration": 17,
    "start_time": "2022-01-24T16:40:29.859Z"
   },
   {
    "duration": 27,
    "start_time": "2022-01-24T16:40:29.879Z"
   },
   {
    "duration": 467,
    "start_time": "2022-01-24T16:40:29.908Z"
   },
   {
    "duration": 7,
    "start_time": "2022-01-24T16:40:30.377Z"
   },
   {
    "duration": 26,
    "start_time": "2022-01-24T16:40:30.386Z"
   },
   {
    "duration": 653,
    "start_time": "2022-01-24T16:40:30.415Z"
   },
   {
    "duration": 13,
    "start_time": "2022-01-24T16:40:31.076Z"
   },
   {
    "duration": 27,
    "start_time": "2022-01-24T16:40:31.093Z"
   },
   {
    "duration": 635,
    "start_time": "2022-01-24T16:40:31.158Z"
   },
   {
    "duration": 572,
    "start_time": "2022-01-24T16:40:31.795Z"
   },
   {
    "duration": 483,
    "start_time": "2022-01-24T16:40:32.369Z"
   },
   {
    "duration": 22,
    "start_time": "2022-01-24T16:40:32.858Z"
   },
   {
    "duration": 487,
    "start_time": "2022-01-24T16:40:32.883Z"
   },
   {
    "duration": 18,
    "start_time": "2022-01-24T16:40:33.373Z"
   },
   {
    "duration": 5,
    "start_time": "2022-01-24T16:40:33.393Z"
   },
   {
    "duration": 2174,
    "start_time": "2022-01-24T16:40:33.400Z"
   },
   {
    "duration": 18,
    "start_time": "2022-01-24T16:40:35.576Z"
   },
   {
    "duration": 6,
    "start_time": "2022-01-24T16:40:35.596Z"
   },
   {
    "duration": 18,
    "start_time": "2022-01-24T16:40:35.604Z"
   },
   {
    "duration": 332,
    "start_time": "2022-01-24T16:40:35.659Z"
   },
   {
    "duration": 36,
    "start_time": "2022-01-24T16:40:35.994Z"
   },
   {
    "duration": 36,
    "start_time": "2022-01-24T16:40:36.032Z"
   },
   {
    "duration": 14,
    "start_time": "2022-01-24T16:40:36.071Z"
   },
   {
    "duration": 686,
    "start_time": "2022-01-24T16:40:36.088Z"
   },
   {
    "duration": 26,
    "start_time": "2022-01-24T16:40:36.777Z"
   },
   {
    "duration": 16,
    "start_time": "2022-01-24T16:40:36.806Z"
   },
   {
    "duration": 47,
    "start_time": "2022-01-24T16:40:36.825Z"
   },
   {
    "duration": 693,
    "start_time": "2022-01-24T16:40:36.875Z"
   },
   {
    "duration": 22,
    "start_time": "2022-01-24T16:40:37.571Z"
   },
   {
    "duration": 688,
    "start_time": "2022-01-24T16:40:37.596Z"
   },
   {
    "duration": 16,
    "start_time": "2022-01-24T16:40:38.286Z"
   },
   {
    "duration": 9,
    "start_time": "2022-01-24T16:40:38.305Z"
   },
   {
    "duration": 6,
    "start_time": "2022-01-24T16:40:38.316Z"
   },
   {
    "duration": 110,
    "start_time": "2022-01-24T16:47:30.554Z"
   },
   {
    "duration": 312,
    "start_time": "2022-01-24T16:47:39.275Z"
   },
   {
    "duration": 327,
    "start_time": "2022-01-24T16:47:56.495Z"
   },
   {
    "duration": 8,
    "start_time": "2022-01-24T16:49:55.855Z"
   },
   {
    "duration": 8,
    "start_time": "2022-01-24T16:50:51.243Z"
   },
   {
    "duration": 423,
    "start_time": "2022-01-24T17:01:24.906Z"
   },
   {
    "duration": 399,
    "start_time": "2022-01-24T17:02:03.682Z"
   },
   {
    "duration": 320,
    "start_time": "2022-01-24T17:02:13.628Z"
   },
   {
    "duration": 20,
    "start_time": "2022-01-24T17:02:43.075Z"
   },
   {
    "duration": 19,
    "start_time": "2022-01-24T17:03:43.419Z"
   },
   {
    "duration": 363,
    "start_time": "2022-01-24T17:03:55.953Z"
   },
   {
    "duration": 335,
    "start_time": "2022-01-24T17:04:21.899Z"
   },
   {
    "duration": 318,
    "start_time": "2022-01-24T17:04:54.916Z"
   },
   {
    "duration": 410,
    "start_time": "2022-01-24T17:06:38.570Z"
   },
   {
    "duration": 317,
    "start_time": "2022-01-24T17:06:59.486Z"
   },
   {
    "duration": 362,
    "start_time": "2022-01-24T17:07:13.739Z"
   },
   {
    "duration": 327,
    "start_time": "2022-01-24T17:07:44.501Z"
   },
   {
    "duration": 16659,
    "start_time": "2022-01-24T17:10:16.449Z"
   },
   {
    "duration": 360,
    "start_time": "2022-01-24T17:10:42.629Z"
   },
   {
    "duration": 311,
    "start_time": "2022-01-24T17:11:02.780Z"
   },
   {
    "duration": 10,
    "start_time": "2022-01-24T17:11:26.188Z"
   },
   {
    "duration": 11,
    "start_time": "2022-01-24T17:11:41.081Z"
   },
   {
    "duration": 1155,
    "start_time": "2022-01-24T18:16:37.161Z"
   },
   {
    "duration": 69,
    "start_time": "2022-01-24T18:16:38.318Z"
   },
   {
    "duration": 16,
    "start_time": "2022-01-24T18:16:38.392Z"
   },
   {
    "duration": 313,
    "start_time": "2022-01-24T18:16:38.410Z"
   },
   {
    "duration": 15,
    "start_time": "2022-01-24T18:16:38.725Z"
   },
   {
    "duration": 16,
    "start_time": "2022-01-24T18:16:38.742Z"
   },
   {
    "duration": 46,
    "start_time": "2022-01-24T18:16:38.761Z"
   },
   {
    "duration": 21,
    "start_time": "2022-01-24T18:16:38.810Z"
   },
   {
    "duration": 3,
    "start_time": "2022-01-24T18:16:38.833Z"
   },
   {
    "duration": 14,
    "start_time": "2022-01-24T18:16:38.838Z"
   },
   {
    "duration": 6,
    "start_time": "2022-01-24T18:16:38.854Z"
   },
   {
    "duration": 10,
    "start_time": "2022-01-24T18:16:38.862Z"
   },
   {
    "duration": 39,
    "start_time": "2022-01-24T18:16:38.873Z"
   },
   {
    "duration": 14,
    "start_time": "2022-01-24T18:16:38.914Z"
   },
   {
    "duration": 10,
    "start_time": "2022-01-24T18:16:38.931Z"
   },
   {
    "duration": 22,
    "start_time": "2022-01-24T18:16:38.943Z"
   },
   {
    "duration": 46,
    "start_time": "2022-01-24T18:16:38.967Z"
   },
   {
    "duration": 16,
    "start_time": "2022-01-24T18:16:39.014Z"
   },
   {
    "duration": 21,
    "start_time": "2022-01-24T18:16:39.033Z"
   },
   {
    "duration": 332,
    "start_time": "2022-01-24T18:16:39.056Z"
   },
   {
    "duration": 17,
    "start_time": "2022-01-24T18:16:39.390Z"
   },
   {
    "duration": 18,
    "start_time": "2022-01-24T18:16:39.411Z"
   },
   {
    "duration": 425,
    "start_time": "2022-01-24T18:16:39.431Z"
   },
   {
    "duration": 9,
    "start_time": "2022-01-24T18:16:39.858Z"
   },
   {
    "duration": 40,
    "start_time": "2022-01-24T18:16:39.869Z"
   },
   {
    "duration": 418,
    "start_time": "2022-01-24T18:16:39.911Z"
   },
   {
    "duration": 353,
    "start_time": "2022-01-24T18:16:40.331Z"
   },
   {
    "duration": 374,
    "start_time": "2022-01-24T18:16:40.687Z"
   },
   {
    "duration": 15,
    "start_time": "2022-01-24T18:16:41.064Z"
   },
   {
    "duration": 475,
    "start_time": "2022-01-24T18:16:41.081Z"
   },
   {
    "duration": 18,
    "start_time": "2022-01-24T18:16:41.558Z"
   },
   {
    "duration": 12,
    "start_time": "2022-01-24T18:16:41.579Z"
   },
   {
    "duration": 1983,
    "start_time": "2022-01-24T18:16:41.593Z"
   },
   {
    "duration": 29,
    "start_time": "2022-01-24T18:16:43.579Z"
   },
   {
    "duration": 4,
    "start_time": "2022-01-24T18:16:43.611Z"
   },
   {
    "duration": 32,
    "start_time": "2022-01-24T18:16:43.618Z"
   },
   {
    "duration": 239,
    "start_time": "2022-01-24T18:16:43.653Z"
   },
   {
    "duration": 234,
    "start_time": "2022-01-24T18:16:43.894Z"
   },
   {
    "duration": 9,
    "start_time": "2022-01-24T18:16:44.129Z"
   },
   {
    "duration": 28,
    "start_time": "2022-01-24T18:16:44.140Z"
   },
   {
    "duration": 12,
    "start_time": "2022-01-24T18:16:44.170Z"
   },
   {
    "duration": 36,
    "start_time": "2022-01-24T18:16:44.184Z"
   },
   {
    "duration": 473,
    "start_time": "2022-01-24T18:16:44.223Z"
   },
   {
    "duration": 25,
    "start_time": "2022-01-24T18:16:44.698Z"
   },
   {
    "duration": 15,
    "start_time": "2022-01-24T18:16:44.725Z"
   },
   {
    "duration": 13,
    "start_time": "2022-01-24T18:16:44.742Z"
   },
   {
    "duration": 465,
    "start_time": "2022-01-24T18:16:44.757Z"
   },
   {
    "duration": 16,
    "start_time": "2022-01-24T18:16:45.224Z"
   },
   {
    "duration": 439,
    "start_time": "2022-01-24T18:16:45.242Z"
   },
   {
    "duration": 26,
    "start_time": "2022-01-24T18:16:45.683Z"
   },
   {
    "duration": 8,
    "start_time": "2022-01-24T18:16:45.711Z"
   },
   {
    "duration": 12,
    "start_time": "2022-01-24T18:16:45.721Z"
   }
  ],
  "kernelspec": {
   "display_name": "Python 3 (ipykernel)",
   "language": "python",
   "name": "python3"
  },
  "language_info": {
   "codemirror_mode": {
    "name": "ipython",
    "version": 3
   },
   "file_extension": ".py",
   "mimetype": "text/x-python",
   "name": "python",
   "nbconvert_exporter": "python",
   "pygments_lexer": "ipython3",
   "version": "3.9.7"
  },
  "toc": {
   "base_numbering": 1,
   "nav_menu": {},
   "number_sections": true,
   "sideBar": true,
   "skip_h1_title": true,
   "title_cell": "Table of Contents",
   "title_sidebar": "Contents",
   "toc_cell": false,
   "toc_position": {
    "height": "calc(100% - 180px)",
    "left": "10px",
    "top": "150px",
    "width": "246px"
   },
   "toc_section_display": true,
   "toc_window_display": false
  }
 },
 "nbformat": 4,
 "nbformat_minor": 2
}
